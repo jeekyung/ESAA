{
  "nbformat": 4,
  "nbformat_minor": 0,
  "metadata": {
    "colab": {
      "name": "파이썬＿기초（출처＿점프＿투＿파이썬）.ipynb",
      "provenance": [],
      "collapsed_sections": []
    },
    "kernelspec": {
      "name": "python3",
      "display_name": "Python 3"
    },
    "language_info": {
      "name": "python"
    }
  },
  "cells": [
    {
      "cell_type": "markdown",
      "source": [
        ""
      ],
      "metadata": {
        "id": "MCka1C4qJQl5"
      }
    },
    {
      "cell_type": "markdown",
      "source": [
        "# **자료형**"
      ],
      "metadata": {
        "id": "fd1zwnm-j7B1"
      }
    },
    {
      "cell_type": "markdown",
      "source": [
        "##Q1. 다음 수의 평균을 구하세요.\n",
        "\n",
        "80, 75, 55, 95"
      ],
      "metadata": {
        "id": "jUpWjtvlj9JV"
      }
    },
    {
      "cell_type": "code",
      "source": [
        "X = [80, 75, 55, 95]\n",
        "avg = sum(X)/len(X)\n",
        "print(avg)"
      ],
      "metadata": {
        "id": "YcP79wQgj3bh",
        "colab": {
          "base_uri": "https://localhost:8080/"
        },
        "outputId": "fa8f6088-4692-4754-d05c-1b6f314a6388"
      },
      "execution_count": 52,
      "outputs": [
        {
          "output_type": "stream",
          "name": "stdout",
          "text": [
            "76.25\n"
          ]
        }
      ]
    },
    {
      "cell_type": "markdown",
      "source": [
        "##Q2. 주민등록번호를 연월일(YYYYMMDD) 부분과 그 뒤의 숫자 부분으로 나누어 출력하세요.\n",
        "홍길동 씨의 주민등록번호는 881120-1068234이다."
      ],
      "metadata": {
        "id": "pHK3T87Zkcte"
      }
    },
    {
      "cell_type": "code",
      "source": [
        "# 답을 작성해주세요\n",
        "id_Hong = \"881120-1068234\"\n",
        "Hong = id_Hong.split(\"-\")\n",
        "print(Hong[0])\n",
        "print(Hong[1])"
      ],
      "metadata": {
        "id": "yZEM63Xok9xi",
        "colab": {
          "base_uri": "https://localhost:8080/"
        },
        "outputId": "c7731efc-e155-493a-cd48-51e1b3a822ac"
      },
      "execution_count": 57,
      "outputs": [
        {
          "output_type": "stream",
          "name": "stdout",
          "text": [
            "881120\n",
            "1068234\n"
          ]
        }
      ]
    },
    {
      "cell_type": "markdown",
      "source": [
        "##Q4. 주민등록번호에서 성별을 나타내는 숫자를 출력하세요.\n",
        "주민등록번호 뒷자리의 첫 번째 숫자는 성별을 나타낸다. "
      ],
      "metadata": {
        "id": "WojXUmuslVIS"
      }
    },
    {
      "cell_type": "code",
      "source": [
        "# 답을 작성해주세요\n",
        "id_pin = \"881120-2153468\"\n",
        "print(id_pin[7])"
      ],
      "metadata": {
        "id": "ZAhDqYOglqZ-",
        "colab": {
          "base_uri": "https://localhost:8080/"
        },
        "outputId": "269d181b-759d-4e7a-cad8-ee80ac875eb7"
      },
      "execution_count": 8,
      "outputs": [
        {
          "output_type": "stream",
          "name": "stdout",
          "text": [
            "2\n"
          ]
        }
      ]
    },
    {
      "cell_type": "markdown",
      "source": [
        "##Q5. [1, 3, 5, 4, 2] 리스트를 [5, 4, 3, 2, 1]로 정렬하세요"
      ],
      "metadata": {
        "id": "lbWsPuOEl-y5"
      }
    },
    {
      "cell_type": "code",
      "source": [
        "# 답을 작성해주세요\n",
        "rand_list = [1, 3, 5, 4, 2]\n",
        "print(sorted(rand_list, reverse=True))\n",
        "\n",
        "rand_list.sort(reverse=True)\n",
        "print(rand_list)"
      ],
      "metadata": {
        "id": "dI2gioTKmnVC",
        "colab": {
          "base_uri": "https://localhost:8080/"
        },
        "outputId": "9f3eafdc-1431-42f1-acb3-1533be6b073f"
      },
      "execution_count": 45,
      "outputs": [
        {
          "output_type": "stream",
          "name": "stdout",
          "text": [
            "[5, 4, 3, 2, 1]\n",
            "[5, 4, 3, 2, 1]\n"
          ]
        }
      ]
    },
    {
      "cell_type": "markdown",
      "source": [
        "##Q7. 다음 리스트를 Life is too short 문자열로 만들어 출력하세요"
      ],
      "metadata": {
        "id": "us3I2cpem2bz"
      }
    },
    {
      "cell_type": "code",
      "source": [
        "# 답을 작성해주세요\n",
        "string_list = ['Life', 'is', 'too', 'short'] \n",
        "print(\" \".join(string_list))"
      ],
      "metadata": {
        "id": "G38tHstZnF5s",
        "colab": {
          "base_uri": "https://localhost:8080/"
        },
        "outputId": "118a2c47-e09e-40a5-9caa-3081098ba60c"
      },
      "execution_count": 17,
      "outputs": [
        {
          "output_type": "stream",
          "name": "stdout",
          "text": [
            "Life is too short\n"
          ]
        }
      ]
    },
    {
      "cell_type": "markdown",
      "source": [
        "# **제어문**"
      ],
      "metadata": {
        "id": "e4Bbr6rmdnph"
      }
    },
    {
      "cell_type": "markdown",
      "source": [
        "## Q1. 다음 코드의 결과는?\n",
        "\n",
        "a = \"Life is too short, you need python\""
      ],
      "metadata": {
        "id": "sfAPtg9kd1kA"
      }
    },
    {
      "cell_type": "markdown",
      "source": [
        "if \"wife\" in a: print(\"wife\")\n",
        "\n",
        "elif \"python\" in a and \"you\" not in a: print(\"python\")\n",
        "\n",
        "elif \"shirt\" not in a: print(\"shirt\")\n",
        "\n",
        "elif \"need\" in a: print(\"need\")\n",
        "\n",
        "else: print(\"none\")"
      ],
      "metadata": {
        "id": "7C41kezXeCMk"
      }
    },
    {
      "cell_type": "code",
      "execution_count": null,
      "metadata": {
        "id": "coCD7rBhdgA4"
      },
      "outputs": [],
      "source": [
        "# 답을 작성해주세요\n",
        "shirt"
      ]
    },
    {
      "cell_type": "markdown",
      "source": [
        "##Q2. while문을 사용해 1부터 1000까지의 자연수 중 3의 배수의 합을 구하세요"
      ],
      "metadata": {
        "id": "E_lrf3dxeTM9"
      }
    },
    {
      "cell_type": "code",
      "source": [
        "# 답을 작성해주세요\n",
        "i = 1\n",
        "summ = 0\n",
        "while i <=1000:\n",
        "  if i % 3 == 0:\n",
        "    summ += i\n",
        "  i +=1\n",
        "print(summ)"
      ],
      "metadata": {
        "id": "FnUBJZTCedgs",
        "colab": {
          "base_uri": "https://localhost:8080/"
        },
        "outputId": "df701b56-bcd0-44f2-9eae-1f16be51aab5"
      },
      "execution_count": 20,
      "outputs": [
        {
          "output_type": "stream",
          "name": "stdout",
          "text": [
            "166833\n"
          ]
        }
      ]
    },
    {
      "cell_type": "markdown",
      "source": [
        "## Q3. while문을 사용하여 다음과 같이 별(*)을 표시하는 프로그램을 작성하세요"
      ],
      "metadata": {
        "id": "h4XcuXk7ei0B"
      }
    },
    {
      "cell_type": "code",
      "source": [
        "# 답을 작성해주세요\n",
        "i = 1\n",
        "while i <= 5:\n",
        "  print('*' * i)\n",
        "  i +=1\n",
        "\n"
      ],
      "metadata": {
        "id": "3Zu5X5vnfM1k",
        "colab": {
          "base_uri": "https://localhost:8080/"
        },
        "outputId": "e623bc0e-9aae-4017-ba68-ef09122527f4"
      },
      "execution_count": 22,
      "outputs": [
        {
          "output_type": "stream",
          "name": "stdout",
          "text": [
            "*\n",
            "**\n",
            "***\n",
            "****\n",
            "*****\n"
          ]
        }
      ]
    },
    {
      "cell_type": "markdown",
      "source": [
        "## Q4. for문을 사용해 1부터 100까지의 숫자를 출력하세요"
      ],
      "metadata": {
        "id": "uNTYJ3iQfO6c"
      }
    },
    {
      "cell_type": "code",
      "source": [
        "# 답을 작성해주세요\n",
        "for i in range(100):\n",
        "  print(i+1)"
      ],
      "metadata": {
        "id": "haJmxZDAfWJ4",
        "colab": {
          "base_uri": "https://localhost:8080/"
        },
        "outputId": "1d7db78e-f4b3-4c70-e9d7-f9ec4db9d2b5"
      },
      "execution_count": 23,
      "outputs": [
        {
          "output_type": "stream",
          "name": "stdout",
          "text": [
            "1\n",
            "2\n",
            "3\n",
            "4\n",
            "5\n",
            "6\n",
            "7\n",
            "8\n",
            "9\n",
            "10\n",
            "11\n",
            "12\n",
            "13\n",
            "14\n",
            "15\n",
            "16\n",
            "17\n",
            "18\n",
            "19\n",
            "20\n",
            "21\n",
            "22\n",
            "23\n",
            "24\n",
            "25\n",
            "26\n",
            "27\n",
            "28\n",
            "29\n",
            "30\n",
            "31\n",
            "32\n",
            "33\n",
            "34\n",
            "35\n",
            "36\n",
            "37\n",
            "38\n",
            "39\n",
            "40\n",
            "41\n",
            "42\n",
            "43\n",
            "44\n",
            "45\n",
            "46\n",
            "47\n",
            "48\n",
            "49\n",
            "50\n",
            "51\n",
            "52\n",
            "53\n",
            "54\n",
            "55\n",
            "56\n",
            "57\n",
            "58\n",
            "59\n",
            "60\n",
            "61\n",
            "62\n",
            "63\n",
            "64\n",
            "65\n",
            "66\n",
            "67\n",
            "68\n",
            "69\n",
            "70\n",
            "71\n",
            "72\n",
            "73\n",
            "74\n",
            "75\n",
            "76\n",
            "77\n",
            "78\n",
            "79\n",
            "80\n",
            "81\n",
            "82\n",
            "83\n",
            "84\n",
            "85\n",
            "86\n",
            "87\n",
            "88\n",
            "89\n",
            "90\n",
            "91\n",
            "92\n",
            "93\n",
            "94\n",
            "95\n",
            "96\n",
            "97\n",
            "98\n",
            "99\n",
            "100\n"
          ]
        }
      ]
    },
    {
      "cell_type": "markdown",
      "source": [
        "##Q5. for문을 사용하여 평균을 구하세요.\n",
        "\n",
        "A 학급에 총 10명의 학생이 있다. 이 학생들의 중간고사 점수는 다음과 같다.\n",
        "\n",
        "[70, 60, 55, 75, 95, 90, 80, 80, 85, 100]"
      ],
      "metadata": {
        "id": "_qOXRe6CfYQP"
      }
    },
    {
      "cell_type": "code",
      "source": [
        "# 답을 작성해주세요\n",
        "scores = [70,60,55,75,95,90,80,80,85,100]\n",
        "summ = 0\n",
        "\n",
        "for score in scores:\n",
        "  summ += score\n",
        "print(summ / len(scores))"
      ],
      "metadata": {
        "id": "aSsOy9dNfXpJ",
        "colab": {
          "base_uri": "https://localhost:8080/"
        },
        "outputId": "d17fbc2c-c361-4cba-c583-63fce8d3a231"
      },
      "execution_count": 59,
      "outputs": [
        {
          "output_type": "stream",
          "name": "stdout",
          "text": [
            "79.0\n"
          ]
        }
      ]
    },
    {
      "cell_type": "markdown",
      "source": [
        "##Q6. number list에서 홀수에만 2를 곱해 결과를 result에 저장한 후 출력하세요"
      ],
      "metadata": {
        "id": "65dpTuUffy73"
      }
    },
    {
      "cell_type": "code",
      "source": [
        "numbers = [1, 2, 3, 4, 5]\n",
        "result = []\n",
        "\n",
        "for number in numbers:\n",
        "  if number % 2 == 1:\n",
        "    result.append(number * 2)\n",
        "\n",
        "print(result)"
      ],
      "metadata": {
        "id": "vxEAtDQ2fyem",
        "colab": {
          "base_uri": "https://localhost:8080/"
        },
        "outputId": "cc7f9cd7-0cab-47b9-e4de-501a82470375"
      },
      "execution_count": 61,
      "outputs": [
        {
          "output_type": "stream",
          "name": "stdout",
          "text": [
            "[2, 6, 10]\n"
          ]
        }
      ]
    },
    {
      "cell_type": "markdown",
      "source": [
        "# **함수와 입출력**"
      ],
      "metadata": {
        "id": "2cqJNh90gaLm"
      }
    },
    {
      "cell_type": "markdown",
      "source": [
        "##Q1. 주어진 자연수가 홀수인지 짝수인지 판별하는 함수를 작성하세요"
      ],
      "metadata": {
        "id": "SqFHUlJjgn6v"
      }
    },
    {
      "cell_type": "code",
      "source": [
        "# 답을 작성해주세요\n",
        "def is_odd(a):\n",
        "  if a % 2 == 0:\n",
        "    print(\"a\"+\"는 짝수입니다.\")\n",
        "  else:\n",
        "    print(\"a\"+\"는 홀수입니다.\")\n",
        "\n",
        "is_odd(2)\n",
        "is_odd(3)\n"
      ],
      "metadata": {
        "id": "rWJTjYVWgZ5Z",
        "colab": {
          "base_uri": "https://localhost:8080/"
        },
        "outputId": "b5960f75-68cd-4873-8297-718e11af69d6"
      },
      "execution_count": 26,
      "outputs": [
        {
          "output_type": "stream",
          "name": "stdout",
          "text": [
            "a는 짝수입니다.\n",
            "a는 홀수입니다.\n"
          ]
        }
      ]
    },
    {
      "cell_type": "markdown",
      "source": [
        "##Q2. 입력으로 들어오는 모든 수의 평균을 계산해주는 함수를 작성하고 실행하세요\n",
        "(입력으로 들어오는 수의 개수는 랜덤입니다.)"
      ],
      "metadata": {
        "id": "8e3ezwkygx6a"
      }
    },
    {
      "cell_type": "code",
      "source": [
        "# 답을 작성해주세요\n",
        "def average_rand(n):\n",
        "  summ = 0\n",
        "  for i in n:\n",
        "    summ+= i\n",
        "  print(summ / len(n))\n",
        "\n",
        "average_rand([1,2,3,4])\n",
        "\n",
        "#list로 들어온다고 가정함(list가 아닌 경우로 작성해야 하는가?)"
      ],
      "metadata": {
        "id": "tEQJxYVBhDSz",
        "colab": {
          "base_uri": "https://localhost:8080/"
        },
        "outputId": "705996f5-831b-442b-e6d0-edf358084e69"
      },
      "execution_count": 63,
      "outputs": [
        {
          "output_type": "stream",
          "name": "stdout",
          "text": [
            "2.5\n"
          ]
        }
      ]
    },
    {
      "cell_type": "markdown",
      "source": [
        "##Q3. 다음 프로그램의 오류를 수정하고 실행하세요"
      ],
      "metadata": {
        "id": "3xumzArZhC65"
      }
    },
    {
      "cell_type": "code",
      "source": [
        "input1 = int(input(\"첫번째 숫자를 입력하세요:\"))\n",
        "input2 = int(input(\"두번째 숫자를 입력하세요:\"))\n",
        "\n",
        "total = input1 + input2\n",
        "print(\"두 수의 합은 %d입니다\" % total)"
      ],
      "metadata": {
        "colab": {
          "base_uri": "https://localhost:8080/"
        },
        "id": "RTPfNyQJhWfb",
        "outputId": "26211b90-6fae-4aec-d55a-aff6a08e38a0"
      },
      "execution_count": 67,
      "outputs": [
        {
          "output_type": "stream",
          "name": "stdout",
          "text": [
            "첫번째 숫자를 입력하세요:3\n",
            "두번째 숫자를 입력하세요:6\n",
            "두 수의 합은 9입니다\n"
          ]
        }
      ]
    },
    {
      "cell_type": "code",
      "source": [
        "# 수정한 코드를 작성하고 실행하세요"
      ],
      "metadata": {
        "id": "SiaUWWLGhgd9"
      },
      "execution_count": null,
      "outputs": []
    },
    {
      "cell_type": "markdown",
      "source": [
        "##Q4. 다음 중 출력 결과가 다른 것 하나를 고르세요\n",
        "\n",
        "1. print(\"you\" \"need\" \"python\")\n",
        "2. print(\"you\"+\"need\"+\"python\")\n",
        "3. print(\"you\", \"need\", \"python\")\n",
        "4. print(\"\".join([\"you\", \"need\", \"python\"]))"
      ],
      "metadata": {
        "id": "5jMWaYmLhf7S"
      }
    },
    {
      "cell_type": "code",
      "source": [
        "# 답을 작성해주세요\n",
        "3. print(\"you\", \"need\", \"python\")"
      ],
      "metadata": {
        "id": "iYs2JHAnh92c",
        "colab": {
          "base_uri": "https://localhost:8080/"
        },
        "outputId": "04525072-4a86-4a94-d332-0b3c495a2099"
      },
      "execution_count": 55,
      "outputs": [
        {
          "output_type": "stream",
          "name": "stdout",
          "text": [
            "you need python\n"
          ]
        }
      ]
    }
  ]
}