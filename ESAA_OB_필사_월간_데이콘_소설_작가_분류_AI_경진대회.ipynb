{
  "nbformat": 4,
  "nbformat_minor": 0,
  "metadata": {
    "colab": {
      "provenance": [],
      "mount_file_id": "1iP2FMuO7pRAxUCzONFqxHcETVkrJ4Il6",
      "authorship_tag": "ABX9TyNLwPfAmlSrV4Ykc4fVMV8A",
      "include_colab_link": true
    },
    "kernelspec": {
      "name": "python3",
      "display_name": "Python 3"
    },
    "language_info": {
      "name": "python"
    }
  },
  "cells": [
    {
      "cell_type": "markdown",
      "metadata": {
        "id": "view-in-github",
        "colab_type": "text"
      },
      "source": [
        "<a href=\"https://colab.research.google.com/github/jeekyung/ESAA/blob/main/ESAA_OB_%ED%95%84%EC%82%AC_%EC%9B%94%EA%B0%84_%EB%8D%B0%EC%9D%B4%EC%BD%98_%EC%86%8C%EC%84%A4_%EC%9E%91%EA%B0%80_%EB%B6%84%EB%A5%98_AI_%EA%B2%BD%EC%A7%84%EB%8C%80%ED%9A%8C.ipynb\" target=\"_parent\"><img src=\"https://colab.research.google.com/assets/colab-badge.svg\" alt=\"Open In Colab\"/></a>"
      ]
    },
    {
      "cell_type": "markdown",
      "source": [
        "# **월간 데이콘 소설 작가 분류 AI 경진대회**\n",
        "---"
      ],
      "metadata": {
        "id": "BtQ2gWyLZwPK"
      }
    },
    {
      "cell_type": "markdown",
      "source": [
        "## **1. Facebook의 fasttext를 이용한 text classification**"
      ],
      "metadata": {
        "id": "tLUsDqlVcKpd"
      }
    },
    {
      "cell_type": "code",
      "execution_count": 1,
      "metadata": {
        "colab": {
          "base_uri": "https://localhost:8080/"
        },
        "id": "ZXP8YmHVZPAe",
        "outputId": "bf92ff70-966b-49c2-ac6f-f1eec6df9681"
      },
      "outputs": [
        {
          "output_type": "stream",
          "name": "stdout",
          "text": [
            "Looking in indexes: https://pypi.org/simple, https://us-python.pkg.dev/colab-wheels/public/simple/\n",
            "Requirement already satisfied: fasttext in /usr/local/lib/python3.7/dist-packages (0.9.2)\n",
            "Requirement already satisfied: setuptools>=0.7.0 in /usr/local/lib/python3.7/dist-packages (from fasttext) (57.4.0)\n",
            "Requirement already satisfied: numpy in /usr/local/lib/python3.7/dist-packages (from fasttext) (1.21.6)\n",
            "Requirement already satisfied: pybind11>=2.2 in /usr/local/lib/python3.7/dist-packages (from fasttext) (2.10.0)\n"
          ]
        }
      ],
      "source": [
        "%pip install fasttext\n",
        "import fasttext\n",
        "\n",
        "import pandas as pd\n",
        "import numpy as np\n",
        "\n",
        "train = pd.read_csv('/content/drive/MyDrive/235670_소설 작가 분류 AI 경진대회_data/train.csv')"
      ]
    },
    {
      "cell_type": "code",
      "source": [
        "file = open('fasttexttrain.txt','w+')\n",
        "for i in train.index:\n",
        "    line = '__label__' + str(train['author'][i])+' '+train['text'][i]\n",
        "    file.write(line+\"\\n\")"
      ],
      "metadata": {
        "id": "vTubwLWWbIEE"
      },
      "execution_count": 2,
      "outputs": []
    },
    {
      "cell_type": "code",
      "source": [
        "text_clf_model = fasttext.train_supervised('fasttexttrain.txt', epoch=30, minCount=2, maxn=10, verbose=0)\n",
        "print(text_clf_model.words)\n",
        "print(text_clf_model.labels)"
      ],
      "metadata": {
        "id": "B6W3N7wxbbAx"
      },
      "execution_count": null,
      "outputs": []
    },
    {
      "cell_type": "code",
      "source": [
        "reuslt = text_clf_model.predict(\"He was almost choking. There was so much, so much he wanted to say, but strange exclamations were all that came from his lips. The Pole gazed fixedly at him, at the bundle of notes in his hand; looked at odin, and was in evident perplexity.\", k=5)\n",
        "print(reuslt)"
      ],
      "metadata": {
        "id": "pvck3O8Xbi-b"
      },
      "execution_count": null,
      "outputs": []
    },
    {
      "cell_type": "code",
      "source": [
        "test = pd.read_csv('/content/drive/MyDrive/235670_소설 작가 분류 AI 경진대회_data/test_x.csv')\n",
        "submission = pd.read_csv('/content/drive/MyDrive/235670_소설 작가 분류 AI 경진대회_data/sample_submission.csv', index_col=False)"
      ],
      "metadata": {
        "id": "S6NHgL9sbkrT"
      },
      "execution_count": null,
      "outputs": []
    },
    {
      "cell_type": "code",
      "source": [
        "for i in test.index:\n",
        "    lable, proba = text_clf_model.predict(test['text'][i], k=5)\n",
        "    for la, pr in zip(lable, proba):\n",
        "        if '__label__0' == la:\n",
        "            submission.loc[i, '0'] = pr\n",
        "        elif '__label__1' == la:\n",
        "            submission.loc[i, '1'] = pr\n",
        "        elif '__label__2' == la:\n",
        "            submission.loc[i, '2'] = pr\n",
        "        elif '__label__3' == la:\n",
        "            submission.loc[i, '3'] = pr\n",
        "        elif '__label__4' == la:\n",
        "            submission.loc[i, '4'] = pr\n",
        "    # submission.loc[i, '0'] = proba[lable.loc('__label__0')]\n",
        "    # submission.loc[i, '1'] = proba[4]\n",
        "    # submission.loc[i, '2'] = proba[2]\n",
        "    # submission.loc[i, '3'] = proba[0]\n",
        "    # submission.loc[i, '4'] = proba[3]\n",
        "\n",
        "submission.to_csv('result5_fasttext.csv', index=False)\n",
        "print('end')"
      ],
      "metadata": {
        "id": "OtEhhV9ib0Jo"
      },
      "execution_count": null,
      "outputs": []
    },
    {
      "cell_type": "markdown",
      "source": [
        "## **2. NLP 전처리**"
      ],
      "metadata": {
        "id": "Cr3tJjCRcQds"
      }
    },
    {
      "cell_type": "markdown",
      "source": [
        ">**NLP Preprocessing이란?**\n",
        "1. 신문기사들을 눈으로 확인하며 특수문자, 불용어, 문장 구조에 대한 감 잡기\n",
        "2. 문제의 목적과 분석자의 재량에 따라 불용어를 설정한 후 리스트에 저장\n",
        "3. 불용어 이외의 특수 문자들 제거.(한글과 영어 소문자를 제외한 모든 글자들 제거)\n",
        "4. 형태소 분석을 통해 문장을 형태소 단위의 토큰으로 분리. 이때 내가 설정한 불용어들을 결과로 반환해주는 형태소 분석기 사용.\n",
        "5. 형태소 단위의 토큰들을 기반으로 리스트에 저장된 불용어 제거."
      ],
      "metadata": {
        "id": "DxzD2Or8cZ4l"
      }
    },
    {
      "cell_type": "markdown",
      "source": [
        "### **1) 형태소 분석(Stemming)**"
      ],
      "metadata": {
        "id": "AaRD3DuWcde-"
      }
    },
    {
      "cell_type": "markdown",
      "source": [
        ">* 형태소 분석이란 단어나 문장의 언어적 속성을 파악하는 것을 의미함. 품사의 태깅(PoS)을 통해 보통 이루어지며 한국어 형태소 분석은 Konlpy 패키지에 있는 다양한 함수를 이용하여 진행 가능\n",
        "* 형태소 분석을 하는 이유는 형태소 단위로 의미있는 단어를 가져가고 싶거나, 품사 태깅을 통해 형용사나 명사를 추출하고 싶을 때 사용"
      ],
      "metadata": {
        "id": "hCaRO6QcdBh6"
      }
    },
    {
      "cell_type": "markdown",
      "source": [
        "![image.png](data:image/png;base64,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)"
      ],
      "metadata": {
        "id": "dZc1ilnPdZqo"
      }
    },
    {
      "cell_type": "markdown",
      "source": [
        ">* 문장을 띄어쓰기 단위로 분류하여 vectorization을 하게 되면 \"데이콘\"이라는 같은 의미의 토큰 세 개가 서로 다른 vector를 갖게 됨. 이럴 경우 모델이 세 단어를 각각 다른 단어로 이해하지만, 형태소 분석을 통해 \"데이콘\"이라는 토큰을 추출한다면 앞의 세 단어는 동일한 vector를 갖게되며 모델이 해당 토큰을 더 잘 학습하는 데 도움이 됨.\n",
        "* 형태소 분석은 어쩌면 <u>모델링보다 성능에 더 중요한 영향을 미치는 아주 중요한 과정</u>임."
      ],
      "metadata": {
        "id": "cWuzEryKdf3p"
      }
    },
    {
      "cell_type": "markdown",
      "source": [
        "**1-1.Kkma()**"
      ],
      "metadata": {
        "id": "Qx-xperOd1sN"
      }
    },
    {
      "cell_type": "code",
      "source": [
        "%pip install konlpy"
      ],
      "metadata": {
        "id": "X3JSjycReITD"
      },
      "execution_count": null,
      "outputs": []
    },
    {
      "cell_type": "code",
      "source": [
        "from konlpy.tag import Kkma\n",
        "kkma = Kkma()\n",
        "\n",
        "sentence = '데이콘에서 다양한 컴피티션을 즐기면서 실력있는 데이터 분석가로 성장하세요!!.'\n",
        "\n",
        "print(\"형태소 단위로 문장 분리\")\n",
        "print(\"----------------------\")\n",
        "print(kkma.morphs(sentence))\n",
        "print(\" \")\n",
        "print(\"문장에서 명사 추출\")\n",
        "print(\"----------------------\")\n",
        "print(kkma.nouns(sentence))\n",
        "print(\" \")\n",
        "print(\"품사 태킹(PoS)\")\n",
        "print(\"----------------------\")\n",
        "print(kkma.pos(sentence))"
      ],
      "metadata": {
        "id": "V5deXZqidaFs"
      },
      "execution_count": null,
      "outputs": []
    },
    {
      "cell_type": "markdown",
      "source": [
        "**1-2. Okt()**"
      ],
      "metadata": {
        "id": "3ZzxOZ6_eRWs"
      }
    },
    {
      "cell_type": "code",
      "source": [
        "from konlpy.tag import Okt\n",
        "Okt = Okt()\n",
        "\n",
        "sentence = '데이콘에서 다양한 컴피티션을 즐기면서 실력있는 데이터 분석가로 성장하세요!!.'\n",
        "\n",
        "print(\"형태소 단위로 문장 분리\")\n",
        "print(\"----------------------\")\n",
        "print(Okt.morphs(sentence))\n",
        "print(\" \")\n",
        "print(\"문장에서 명사 추출\")\n",
        "print(\"----------------------\")\n",
        "print(Okt.nouns(sentence))\n",
        "print(\" \")\n",
        "print(\"품사 태킹(PoS)\")\n",
        "print(\"----------------------\")\n",
        "print(Okt.pos(sentence))"
      ],
      "metadata": {
        "id": "A1Woxjo6d8id"
      },
      "execution_count": null,
      "outputs": []
    },
    {
      "cell_type": "markdown",
      "source": [
        "**1-3. Mecab()**"
      ],
      "metadata": {
        "id": "j9EcN8NAeXw0"
      }
    },
    {
      "cell_type": "code",
      "source": [
        "!apt-get update\n",
        "!apt-get install g++ openjdk-8-jdk \n",
        "!pip3 install konlpy JPype1-py3\n",
        "!bash <(curl -s https://raw.githubusercontent.com/konlpy/konlpy/master/scripts/mecab.sh)"
      ],
      "metadata": {
        "id": "mQHBf6B4etam"
      },
      "execution_count": null,
      "outputs": []
    },
    {
      "cell_type": "code",
      "source": [
        "from konlpy.tag import Mecab \n",
        "Mecab  = Mecab()\n",
        "\n",
        "sentence = '데이콘에서 다양한 컴피티션을 즐기면서 실력있는 데이터 분석가로 성장하세요!!.'\n",
        "\n",
        "print(\"형태소 단위로 문장 분리\")\n",
        "print(\"----------------------\")\n",
        "print(Mecab .morphs(sentence))\n",
        "print(\" \")\n",
        "print(\"문장에서 명사 추출\")\n",
        "print(\"----------------------\")\n",
        "print(Mecab .nouns(sentence))\n",
        "print(\" \")\n",
        "print(\"품사 태킹(PoS)\")\n",
        "print(\"----------------------\")\n",
        "print(Mecab .pos(sentence))"
      ],
      "metadata": {
        "id": "fjp37Zt3eWZm"
      },
      "execution_count": null,
      "outputs": []
    },
    {
      "cell_type": "markdown",
      "source": [
        ">이 외에도 다양한 형태소 분석기(Pos Tagger)들 존재함. 주로 Mecab 분석기 이용"
      ],
      "metadata": {
        "id": "I2MTpNgIedxq"
      }
    },
    {
      "cell_type": "markdown",
      "source": [
        "### **2) 표제어 추출(Lemmatization)**"
      ],
      "metadata": {
        "id": "ZQL-sqWJfR8J"
      }
    },
    {
      "cell_type": "code",
      "source": [
        "from konlpy.tag import Kkma\n",
        "kkma = Kkma()\n",
        "\n",
        "sentence = '성장했었다.'\n",
        "\n",
        "print(\"품사 태킹(PoS)\")\n",
        "print(\"----------------------\")\n",
        "print(kkma.pos(sentence))"
      ],
      "metadata": {
        "id": "8Kd9mNC-ecBe"
      },
      "execution_count": null,
      "outputs": []
    },
    {
      "cell_type": "code",
      "source": [
        "sentence = '성장하였었다.'\n",
        "\n",
        "print(\"품사 태킹(PoS)\")\n",
        "print(\"----------------------\")\n",
        "print(kkma.pos(sentence))"
      ],
      "metadata": {
        "id": "f_FLVwZSfW-7"
      },
      "execution_count": null,
      "outputs": []
    },
    {
      "cell_type": "markdown",
      "source": [
        "### **3) 불용어 제거(Stopwords removing)**"
      ],
      "metadata": {
        "id": "p9k0jomhfeQt"
      }
    },
    {
      "cell_type": "markdown",
      "source": [
        ">* 불용어: 문장에서 큰 의미가 없다고 생각되는 단어,글자"
      ],
      "metadata": {
        "id": "xICEy0SrfiL6"
      }
    },
    {
      "cell_type": "code",
      "source": [
        "import re\n",
        "tokenizer = Okt()\n",
        "def text_preprocessing(text,tokenizer):\n",
        "    \n",
        "    stopwords = ['을', '를', '이', '가', '은', '는']\n",
        "    \n",
        "    txt = re.sub('[^가-힣a-z]', ' ', text)\n",
        "    token = tokenizer.morphs(txt)\n",
        "    token = [t for t in token if t not in stopwords]\n",
        "        \n",
        "    return token\n",
        "\n",
        "ex_text = \"이번에 새롭게 개봉한 영화의 배우들은 모두 훌륭한 연기력과 아름다운 목소리를 갖고 있어!!\"\n",
        "example_pre= text_preprocessing(ex_text,tokenizer)"
      ],
      "metadata": {
        "id": "LM0f1LUcfYj2"
      },
      "execution_count": null,
      "outputs": []
    },
    {
      "cell_type": "markdown",
      "source": [
        ">1. 영어 소문자와 한글을 제외한 모든 문자 제거\n",
        "2. Okt를 이용해 형태소 분석\n",
        "3. 형태소 분석기를 거쳐 나온 결과들 중 stopwords 리스트에 포함되지 않는 토큰만 token이라는 리스트에 반환."
      ],
      "metadata": {
        "id": "pa2cX51MhfOj"
      }
    },
    {
      "cell_type": "code",
      "source": [
        "#결과\n",
        "print(example_pre)"
      ],
      "metadata": {
        "id": "8I1HzYC8foIV"
      },
      "execution_count": null,
      "outputs": []
    },
    {
      "cell_type": "markdown",
      "source": [
        "###**4) 대회 적용**"
      ],
      "metadata": {
        "id": "M8oQMdEPh43s"
      }
    },
    {
      "cell_type": "code",
      "source": [
        "def text_preprocessing(text_list):\n",
        "    \n",
        "    stopwords = ['을', '를', '이', '가', '은', '는', 'null'] #불용어 설정\n",
        "    tokenizer = Okt() #형태소 분석기 \n",
        "    token_list = []\n",
        "    \n",
        "    for text in text_list:\n",
        "        txt = re.sub('[^가-힣a-z]', ' ', text) #한글과 영어 소문자만 남기고 다른 글자 모두 제거\n",
        "        token = tokenizer.morphs(txt) #형태소 분석\n",
        "        token = [t for t in token if t not in stopwords or type(t) != float] #형태소 분석 결과 중 stopwords에 해당하지 않는 것만 추출\n",
        "        token_list.append(token)\n",
        "        \n",
        "    return token_list, tokenizer\n",
        "\n",
        "#형태소 분석기를 따로 저장한 이유는 후에 test 데이터 전처리를 진행할 때 이용해야 되기 때문입니다. \n",
        "train['new_article'], okt = text_preprocessing(train['content']) "
      ],
      "metadata": {
        "id": "_xoINds_h3dg"
      },
      "execution_count": null,
      "outputs": []
    },
    {
      "cell_type": "markdown",
      "source": [
        "## **3. Vectorization**"
      ],
      "metadata": {
        "id": "XgjfY24-iQIy"
      }
    },
    {
      "cell_type": "markdown",
      "source": [
        ">**Vectorization이란?**\n",
        "* NLP를 컴퓨터가 이해할 수 있게 수치로 바꾸는 것."
      ],
      "metadata": {
        "id": "W_2yZDJMiVCk"
      }
    },
    {
      "cell_type": "code",
      "source": [
        "from konlpy.tag import Okt\n",
        "import re\n",
        "\n",
        "Okt = Okt()\n",
        "\n",
        "sentences = ['자연어 처리는 정말 정말 즐거워.', '즐거운 자연어 처리 다같이 해보자.']\n",
        "tokens = []\n",
        "\n",
        "for sentence in sentences:\n",
        "    sentence = re.sub('[^가-힣a-z]', ' ', sentence) #간단한 전처리\n",
        "    token = (Okt.morphs(sentence)) #형태소 분석기를 이용햔 토큰 나누기\n",
        "    tokens.append(' '.join(token))\n",
        "\n",
        "print(\"형태소 단위로 문장 분리\")\n",
        "print(\"----------------------\")\n",
        "print(tokens)"
      ],
      "metadata": {
        "id": "IqNaNIUyh-ZR"
      },
      "execution_count": null,
      "outputs": []
    },
    {
      "cell_type": "markdown",
      "source": [
        "### **1) One Hot Encoding**"
      ],
      "metadata": {
        "id": "c6pZ47RUifCE"
      }
    },
    {
      "cell_type": "code",
      "source": [
        "from tensorflow.keras.preprocessing.text import Tokenizer\n",
        "from tensorflow.keras.utils import to_categorical\n",
        "\n",
        "t = Tokenizer()\n",
        "t.fit_on_texts(tokens)\n",
        "print(\"각 토큰에게 고유의 정수 부여\")\n",
        "print(\"----------------------\")\n",
        "print(t.word_index) \n",
        "print(\" \")\n",
        "\n",
        "s1=t.texts_to_sequences(tokens)[0] \n",
        "print(\"부여된 정수로 표시된 문장1\")\n",
        "print(\"----------------------\")\n",
        "print(s1)\n",
        "print(\" \")\n",
        "\n",
        "s2=t.texts_to_sequences(tokens)[1]\n",
        "print(\"부여된 정수로 표시된 문장2\")\n",
        "print(\"----------------------\")\n",
        "print(s2)\n",
        "print(\" \")\n",
        "\n",
        "s1_one_hot = to_categorical(s1)\n",
        "print(\"문장1의 one-hot-encoding\")\n",
        "print(\"----------------------\")\n",
        "print(s1_one_hot)\n",
        "print(\" \")\n",
        "\n",
        "s2_one_hot = to_categorical(s2)\n",
        "print(\"문장2의 one-hot-encoding\")\n",
        "print(\"----------------------\")\n",
        "print(s2_one_hot)"
      ],
      "metadata": {
        "id": "elljUAFHikkA"
      },
      "execution_count": null,
      "outputs": []
    },
    {
      "cell_type": "markdown",
      "source": [
        "###**2) Count vectorization**"
      ],
      "metadata": {
        "id": "myJIS25OioD5"
      }
    },
    {
      "cell_type": "code",
      "source": [
        "# vocabulary 활용하여 각 문장이 갖고 있는 토큰의 count를 기반으로 문장을 vectorization\n",
        "from sklearn.feature_extraction.text import CountVectorizer\n",
        "vectorizer = CountVectorizer()\n",
        "vectors = vectorizer.fit_transform(tokens) #여러 개의 문장을 넣어줘야 작동합니다!!\n",
        "\n",
        "print(vectorizer.get_feature_names())\n",
        "print(vectors.toarray())"
      ],
      "metadata": {
        "id": "TfaSADt7imqk"
      },
      "execution_count": null,
      "outputs": []
    },
    {
      "cell_type": "markdown",
      "source": [
        "![image.png](data:image/png;base64,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)"
      ],
      "metadata": {
        "id": "U_rOgExmi3ra"
      }
    },
    {
      "cell_type": "markdown",
      "source": [
        ">* 벡터화 결과 각 문장은 vocabulary의 인덱스를 기준으로 카운트가 정수로 표시됨\n",
        "* 형태소 분석기의 중요성 알 수 있음. 즐거운과 즐거워는 같은 의미를 가지는 토큰이지만 okt는 이를 구분하지 못해 다른 토큰으로 분리가 됨. 모델에서 같은 의미의 토큰을 다르게 학습할 수 있음을 의미."
      ],
      "metadata": {
        "id": "l59GyBdbi5CV"
      }
    },
    {
      "cell_type": "markdown",
      "source": [
        "### **3) Tfldf**"
      ],
      "metadata": {
        "id": "f30tpLAVjq0l"
      }
    },
    {
      "cell_type": "markdown",
      "source": [
        ">핵심\n",
        "1. 단어가 몇번 등장했는지에 대한 정보\n",
        "2. 어떤 단어가 언급된 문서의 수가 적다면 그 단어는 문서를 분류하는 데 있어서 중요한 단어<br/>\n",
        "즉, 등장 횟수도 많고 문서 분별력 있는 단어들을 점수화하여 벡터화를 한 것이 Tfldf 기법."
      ],
      "metadata": {
        "id": "S33LRz4_judL"
      }
    },
    {
      "cell_type": "code",
      "source": [
        "from sklearn.feature_extraction.text import TfidfVectorizer\n",
        "\n",
        "tfidf = TfidfVectorizer(min_df=0)\n",
        "tfidf_vectorizer = tfidf.fit_transform(tokens) \n",
        "\n",
        "#tf-idf dictionary    \n",
        "tfidf_dict = tfidf.get_feature_names()\n",
        "print(tfidf_dict)\n",
        "print(tfidf_vectorizer.toarray())"
      ],
      "metadata": {
        "id": "3pVtIPcdiwg6"
      },
      "execution_count": null,
      "outputs": []
    }
  ]
}