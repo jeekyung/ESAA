{
  "nbformat": 4,
  "nbformat_minor": 0,
  "metadata": {
    "colab": {
      "provenance": [],
      "mount_file_id": "1t4tPu53UVOPpoTk5D0Kjr-Zqh9BwYwS-",
      "authorship_tag": "ABX9TyNh0v8MP/79h0uOHUcDyC/U",
      "include_colab_link": true
    },
    "kernelspec": {
      "name": "python3",
      "display_name": "Python 3"
    },
    "language_info": {
      "name": "python"
    }
  },
  "cells": [
    {
      "cell_type": "markdown",
      "metadata": {
        "id": "view-in-github",
        "colab_type": "text"
      },
      "source": [
        "<a href=\"https://colab.research.google.com/github/jeekyung/ESAA/blob/main/ESAA_OB_week10_%ED%8C%8C%EC%9D%B4%EC%8D%AC_%EB%A8%B8%EC%8B%A0%EB%9F%AC%EB%8B%9D_%EC%99%84%EB%B2%BD_%EA%B0%80%EC%9D%B4%EB%93%9C_ch8_6%2C8%2C9_pg_512_516%2C_528_543.ipynb\" target=\"_parent\"><img src=\"https://colab.research.google.com/assets/colab-badge.svg\" alt=\"Open In Colab\"/></a>"
      ]
    },
    {
      "cell_type": "markdown",
      "source": [
        "# **CHAPTER 08 텍스트 분석**\n",
        "---"
      ],
      "metadata": {
        "id": "CWGapjpd2jQ1"
      }
    },
    {
      "cell_type": "markdown",
      "source": [
        "## **06 토픽 모델링(Topic Modeling) - 20 뉴스그룹**\n",
        "---"
      ],
      "metadata": {
        "id": "WXjz0tkw3D_r"
      }
    },
    {
      "cell_type": "markdown",
      "source": [
        ">토픽 모델링(Topic Modeling): 문서 집합에 숨어있는 주제를 찾아내는 것. 숨겨진 주제를 중심 단어로 함축적으로 추출.\n",
        "* 머신러닝 기반의 토픽 모델링에 자주 사용되는 기법: LSA(Latent Semantic Analysis) & LDA(Latent Dirichlet Allocation)"
      ],
      "metadata": {
        "id": "OuXwEaKQ3Jsi"
      }
    },
    {
      "cell_type": "markdown",
      "source": [
        ">LDA 이용하여 20 뉴스그룹 데이터 세트에 토픽 모델링 적용.<br/>\n",
        "20가지 주제를 가진 뉴스그룹의 데이터 중 모토사이클,야구,그래픽스,윈도우,중동,기독교,전자공학,의학의 8개 주제를 추출."
      ],
      "metadata": {
        "id": "-QwGsJAL3vdi"
      }
    },
    {
      "cell_type": "code",
      "execution_count": null,
      "metadata": {
        "colab": {
          "base_uri": "https://localhost:8080/"
        },
        "id": "GImpYwc-2E-t",
        "outputId": "970541cf-bf29-4665-e51c-01ae9201981e"
      },
      "outputs": [
        {
          "output_type": "stream",
          "name": "stdout",
          "text": [
            "CountVectorizer Shape: (7862, 1000)\n"
          ]
        }
      ],
      "source": [
        "from sklearn.datasets import fetch_20newsgroups\n",
        "from sklearn.feature_extraction.text import CountVectorizer\n",
        "from sklearn.decomposition import LatentDirichletAllocation\n",
        "\n",
        "# 모토사이클,야구,그래픽스,윈도우즈,중동,기독교,전자공학,의학 8개 주제를 추출.\n",
        "cats = ['rec.motorcycles','rec.sport.baseball','comp.graphics','comp.windows.x',\n",
        "        'talk.politics.mideast','soc.religion.christian','sci.electronics','sci.med']\n",
        "\n",
        "# 위에서 cats 변수로 기재된 카테고리만 추출. featch_20newsgroups()의 categories에 cats 입력\n",
        "news_df = fetch_20newsgroups(subset='all',remove=('headers','footers','quotes'),categories=cats,random_state=0)\n",
        "\n",
        "# LDA는 Count 기반의 벡터화만 적용함.\n",
        "count_vect = CountVectorizer(max_df=0.95, max_features=1000,min_df=2, stop_words='english',ngram_range=(1,2))\n",
        "feat_vect = count_vect.fit_transform(news_df.data)\n",
        "print('CountVectorizer Shape:',feat_vect.shape)"
      ]
    },
    {
      "cell_type": "code",
      "source": [
        "lda = LatentDirichletAllocation(n_components=8, random_state=0)\n",
        "lda.fit(feat_vect)"
      ],
      "metadata": {
        "colab": {
          "base_uri": "https://localhost:8080/"
        },
        "id": "pqfY-m-_64B3",
        "outputId": "2808672a-df5f-46fd-ad22-a15ae658ac53"
      },
      "execution_count": null,
      "outputs": [
        {
          "output_type": "execute_result",
          "data": {
            "text/plain": [
              "LatentDirichletAllocation(n_components=8, random_state=0)"
            ]
          },
          "metadata": {},
          "execution_count": 2
        }
      ]
    },
    {
      "cell_type": "code",
      "source": [
        "print(lda.components_.shape)\n",
        "lda.components_"
      ],
      "metadata": {
        "colab": {
          "base_uri": "https://localhost:8080/"
        },
        "id": "5APO3Rar7FX9",
        "outputId": "60d1bae3-9c7f-4c8f-ab9e-48b8add5cc7c"
      },
      "execution_count": null,
      "outputs": [
        {
          "output_type": "stream",
          "name": "stdout",
          "text": [
            "(8, 1000)\n"
          ]
        },
        {
          "output_type": "execute_result",
          "data": {
            "text/plain": [
              "array([[3.60992018e+01, 1.35626798e+02, 2.15751867e+01, ...,\n",
              "        3.02911688e+01, 8.66830093e+01, 6.79285199e+01],\n",
              "       [1.25199920e-01, 1.44401815e+01, 1.25045596e-01, ...,\n",
              "        1.81506995e+02, 1.25097844e-01, 9.39593286e+01],\n",
              "       [3.34762663e+02, 1.25176265e-01, 1.46743299e+02, ...,\n",
              "        1.25105772e-01, 3.63689741e+01, 1.25025218e-01],\n",
              "       ...,\n",
              "       [3.60204965e+01, 2.08640688e+01, 4.29606813e+00, ...,\n",
              "        1.45056650e+01, 8.33854413e+00, 1.55690009e+01],\n",
              "       [1.25128711e-01, 1.25247756e-01, 1.25005143e-01, ...,\n",
              "        9.17278769e+01, 1.25177668e-01, 3.74575887e+01],\n",
              "       [5.49258690e+01, 4.47009532e+00, 9.88524814e+00, ...,\n",
              "        4.87048440e+01, 1.25034678e-01, 1.25074632e-01]])"
            ]
          },
          "metadata": {},
          "execution_count": 3
        }
      ]
    },
    {
      "cell_type": "markdown",
      "source": [
        ">components_는 array[8,1000]으로 구성됨. 8개의 토픽별로 1000개의 word 피처가 해당 토픽별로 연관도 값을 가지고 있음."
      ],
      "metadata": {
        "id": "1Ot0ZEog7OeS"
      }
    },
    {
      "cell_type": "code",
      "source": [
        "def display_topics(model, feature_names, no_top_words):\n",
        "  for topic_index, topic in enumerate(model.components_):\n",
        "    print('Topic #', topic_index)\n",
        "\n",
        "    # components_array에서 가장 값이 큰 순으로 정렬했을 때, 그 값의 array 인덱스를 반환.\n",
        "    topic_word_indexes = topic.argsort()[::-1]\n",
        "    top_indexes=topic_word_indexes[:no_top_words]\n",
        "\n",
        "    # top_indexes 대상인 인덱스별로 feature_names에 해당하는 word feature 추출 후 join으로 concat\n",
        "    feature_concat = ' '.join([feature_names[i] for i in top_indexes])\n",
        "    print(feature_concat)\n",
        "\n",
        "# CountVectorizer 객체 내의 전체 word의 명칭을 get_features_names()를 통해 추출\n",
        "feature_names = count_vect.get_feature_names()\n",
        "\n",
        "# 토픽별 가장 연관도가 높은 word를 15개만 추출\n",
        "display_topics(lda, feature_names, 15)"
      ],
      "metadata": {
        "colab": {
          "base_uri": "https://localhost:8080/"
        },
        "id": "lDzr4Cjc7M6L",
        "outputId": "84d1dfc7-adce-401a-ded4-815a63151525"
      },
      "execution_count": null,
      "outputs": [
        {
          "output_type": "stream",
          "name": "stdout",
          "text": [
            "Topic # 0\n",
            "year 10 game medical health team 12 20 disease cancer 1993 games years patients good\n",
            "Topic # 1\n",
            "don just like know people said think time ve didn right going say ll way\n",
            "Topic # 2\n",
            "image file jpeg program gif images output format files color entry 00 use bit 03\n",
            "Topic # 3\n",
            "like know don think use does just good time book read information people used post\n",
            "Topic # 4\n",
            "armenian israel armenians jews turkish people israeli jewish government war dos dos turkey arab armenia 000\n",
            "Topic # 5\n",
            "edu com available graphics ftp data pub motif mail widget software mit information version sun\n",
            "Topic # 6\n",
            "god people jesus church believe christ does christian say think christians bible faith sin life\n",
            "Topic # 7\n",
            "use dos thanks windows using window does display help like problem server need know run\n"
          ]
        },
        {
          "output_type": "stream",
          "name": "stderr",
          "text": [
            "/usr/local/lib/python3.7/dist-packages/sklearn/utils/deprecation.py:87: FutureWarning: Function get_feature_names is deprecated; get_feature_names is deprecated in 1.0 and will be removed in 1.2. Please use get_feature_names_out instead.\n",
            "  warnings.warn(msg, category=FutureWarning)\n"
          ]
        }
      ]
    },
    {
      "cell_type": "markdown",
      "source": [
        "## **08 문서 유사도**\n",
        "---"
      ],
      "metadata": {
        "id": "z72zHNNJ9AQs"
      }
    },
    {
      "cell_type": "markdown",
      "source": [
        ">**문서 유사도 측정 방법 - 코사인 유사도**<br/>\n",
        "일반적으로 코사인 유사도(Cosine Similarity) 사용. 벡터와 벡터 간의 유사도를 비교할 때 벡터의 크기보다는 벡터의 상호 방향성이 얼마나 유사한지에 기반함.<br/>\n",
        "즉, 코사인 유사도는 두 벡터 사이의 사잇각을 구해서 얼마나 유사한지 수치로 적용한 것.<br/>\n",
        "![image.png](data:image/png;base64,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)"
      ],
      "metadata": {
        "id": "06i6WElQ9Khz"
      }
    },
    {
      "cell_type": "markdown",
      "source": [
        ">**두 벡터 사잇각**<br/>\n",
        "![image.png](data:image/png;base64,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)\n"
      ],
      "metadata": {
        "id": "EFo9BHO1_gjD"
      }
    },
    {
      "cell_type": "markdown",
      "source": [
        "* 두 벡터 A와 B의 코사인 값은 다음 식으로 구할 수 있음.<br/>\n",
        "![image.png](data:image/png;base64,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)<br/>\n",
        "![image.png](data:image/png;base64,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)\n"
      ],
      "metadata": {
        "id": "VOiuNwGk_4J6"
      }
    },
    {
      "cell_type": "markdown",
      "source": [
        ">코사인 유사도가 문서의 유사도 비교에 가장 많이 사용되는 이유:\n",
        "* 문서를 피처 벡터화 변환하면 차원이 매우 많은 희소 행렬이 되기 쉬움. 이러한 희소 행렬 기반에서 문서와 문서 벡터 간의 크기에 기반한 유사도 지표(예를 들어 유클리드 거리 기반 지표)는 정확도가 떨어지기 쉬움.\n",
        "* 문서가 매우 긴 경우 단어의 빈도수도 더 많기에 빈도수에만 기반해서는 공정한 비교를 할 수가 없음."
      ],
      "metadata": {
        "id": "10hL6E_sAGbJ"
      }
    },
    {
      "cell_type": "code",
      "source": [
        "# 간단한 문서에 대해 서로 간의 문서 유사도를 코사인 유사도 기반으로 구해보기.\n",
        "import numpy as np\n",
        "\n",
        "def cos_similarity(v1,v2):\n",
        "  dot_product = np.dot(v1,v2)\n",
        "  l2_norm = (np.sqrt(sum(np.square(v1))) * np.sqrt(sum(np.square(v2))))\n",
        "  similarity = dot_product / l2_norm\n",
        "\n",
        "  return similarity"
      ],
      "metadata": {
        "id": "6bIHDnQO8w9Q"
      },
      "execution_count": null,
      "outputs": []
    },
    {
      "cell_type": "code",
      "source": [
        "# doc_list로 정의된 3개의 간단한 문서의 유사도 비교 위해 문서를 TF-IDF로 벡터화된 행렬로 변환.\n",
        "from sklearn.feature_extraction.text import TfidfVectorizer\n",
        "\n",
        "doc_list = ['if you take the blue pill, the story ends',\n",
        "            'if you take the red pill, you stay in Wonderland',\n",
        "            'if you take the red pill, I show you how deep the rabbit hole goes']\n",
        "\n",
        "tfidf_vect_simple = TfidfVectorizer()\n",
        "feature_vect_simple = tfidf_vect_simple.fit_transform(doc_list)\n",
        "print(feature_vect_simple.shape)"
      ],
      "metadata": {
        "colab": {
          "base_uri": "https://localhost:8080/"
        },
        "id": "aEX8iFSsBNhd",
        "outputId": "b6c0a31e-1d9e-4b72-d56a-99da6b030606"
      },
      "execution_count": null,
      "outputs": [
        {
          "output_type": "stream",
          "name": "stdout",
          "text": [
            "(3, 18)\n"
          ]
        }
      ]
    },
    {
      "cell_type": "markdown",
      "source": [
        ">반환된 행렬은 희소 행렬이므로 앞에서 작성한 cos_similarity() 함수의 인자인 array로 만들기 위해 밀집 행렬로 변환한 뒤 다시 각각을 배열로 변환."
      ],
      "metadata": {
        "id": "1_jun6OGB0gi"
      }
    },
    {
      "cell_type": "code",
      "source": [
        "# TfidfVectorizer로 transform()한 결과는 희소 행렬이므로 밀집 행렬로 변환.\n",
        "feature_vect_dense = feature_vect_simple.todense()\n",
        "\n",
        "# 첫번째 문장과 두번째 문장의 피처 벡터 추출\n",
        "vect1 = np.array(feature_vect_dense[0]).reshape(-1,)\n",
        "vect2 = np.array(feature_vect_dense[1]).reshape(-1,)\n",
        "\n",
        "#첫번째 문장과 두번째 문장의 피처 벡터로 두 개 문장의 코사인 유사도 추출\n",
        "similarity_simple = cos_similarity(vect1, vect2)\n",
        "print('문장1, 문장2 Cosine 유사도: {0:.3f}'.format(similarity_simple))"
      ],
      "metadata": {
        "colab": {
          "base_uri": "https://localhost:8080/"
        },
        "id": "U65WO-JDBwCA",
        "outputId": "f2af0e7f-bbde-4e19-9621-63f9f63a6a16"
      },
      "execution_count": null,
      "outputs": [
        {
          "output_type": "stream",
          "name": "stdout",
          "text": [
            "문장1, 문장2 Cosine 유사도: 0.402\n"
          ]
        }
      ]
    },
    {
      "cell_type": "markdown",
      "source": [
        ">첫번째 문장과 두번쨰 문장의 코사인 유사도는 0.402."
      ],
      "metadata": {
        "id": "_hb5jA-uEAp_"
      }
    },
    {
      "cell_type": "code",
      "source": [
        "vect1 = np.array(feature_vect_dense[0]).reshape(-1,)\n",
        "vect3 = np.array(feature_vect_dense[2]).reshape(-1,)\n",
        "similarity_simple = cos_similarity(vect1, vect3)\n",
        "print('문장1, 문장3 Cosine 유사도: {0:.3f}'.format(similarity_simple))\n",
        "\n",
        "vect2 = np.array(feature_vect_dense[1]).reshape(-1,)\n",
        "vect3 = np.array(feature_vect_dense[2]).reshape(-1,)\n",
        "similarity_simple = cos_similarity(vect2, vect3)\n",
        "print('문장2, 문장3 Cosine 유사도: {0:.3f}'.format(similarity_simple))"
      ],
      "metadata": {
        "colab": {
          "base_uri": "https://localhost:8080/"
        },
        "id": "_hoPxz02CZiq",
        "outputId": "e3ae9f58-7d7c-443f-97e1-6fb99c9929bd"
      },
      "execution_count": null,
      "outputs": [
        {
          "output_type": "stream",
          "name": "stdout",
          "text": [
            "문장1, 문장3 Cosine 유사도: 0.404\n",
            "문장2, 문장3 Cosine 유사도: 0.456\n"
          ]
        }
      ]
    },
    {
      "cell_type": "markdown",
      "source": [
        ">이번에는 사이킷런에서 코사인 유사도 측정을 위해 제공되는 sklearn.metrics.pairwise.cosine_similarity API 이용해 문서 유사도 측정."
      ],
      "metadata": {
        "id": "ElU6IAaiEe3j"
      }
    },
    {
      "cell_type": "code",
      "source": [
        "from sklearn.metrics.pairwise import cosine_similarity\n",
        "\n",
        "similarity_simple_pair = cosine_similarity(feature_vect_simple[0], feature_vect_simple)\n",
        "print(similarity_simple_pair)"
      ],
      "metadata": {
        "colab": {
          "base_uri": "https://localhost:8080/"
        },
        "id": "BEiSOPvKEWHz",
        "outputId": "439e7451-970d-4818-fe4a-237a2cf1cbdc"
      },
      "execution_count": null,
      "outputs": [
        {
          "output_type": "stream",
          "name": "stdout",
          "text": [
            "[[1.         0.40207758 0.40425045]]\n"
          ]
        }
      ]
    },
    {
      "cell_type": "markdown",
      "source": [
        ">첫번째 유사도 값인 1은 비교 기준인 첫번째 문서 자신에 대한 유사도 측정.<br/>\n",
        "두번째 유사도 값은 첫번째 문서와 두번째 문서의 유사도<br/>\n",
        "세번째 유사도값은 첫번째 문서와 세번째 문서의 유사도 값."
      ],
      "metadata": {
        "id": "WUVPYZaBE4EU"
      }
    },
    {
      "cell_type": "code",
      "source": [
        "# cosine_similarity()는 pair로 코사인 유사도 값을 제공할 수 있음.\n",
        "similarity_simple_pair = cosine_similarity(feature_vect_simple, feature_vect_simple)\n",
        "print(similarity_simple_pair)\n",
        "print('shape:',similarity_simple_pair.shape)"
      ],
      "metadata": {
        "colab": {
          "base_uri": "https://localhost:8080/"
        },
        "id": "yztvBde6Ewce",
        "outputId": "412c2945-f0fa-41b0-a9d0-ad2bb0cc90ec"
      },
      "execution_count": null,
      "outputs": [
        {
          "output_type": "stream",
          "name": "stdout",
          "text": [
            "[[1.         0.40207758 0.40425045]\n",
            " [0.40207758 1.         0.45647296]\n",
            " [0.40425045 0.45647296 1.        ]]\n",
            "shape: (3, 3)\n"
          ]
        }
      ]
    },
    {
      "cell_type": "markdown",
      "source": [
        "**Opinion Review 데이터 세트를 이용한 문서 유사도 측정**"
      ],
      "metadata": {
        "id": "CIkqciMCFfGl"
      }
    },
    {
      "cell_type": "code",
      "source": [
        "import nltk\n",
        "nltk.download('punkt')\n",
        "nltk.download('wordnet')\n",
        "nltk.download('omw-1.4')"
      ],
      "metadata": {
        "colab": {
          "base_uri": "https://localhost:8080/"
        },
        "id": "D_MqQtB1OFlp",
        "outputId": "abd77a0c-4dbb-4951-ac4f-8b7aa0ee4df9"
      },
      "execution_count": null,
      "outputs": [
        {
          "output_type": "stream",
          "name": "stderr",
          "text": [
            "[nltk_data] Downloading package punkt to /root/nltk_data...\n",
            "[nltk_data]   Unzipping tokenizers/punkt.zip.\n",
            "[nltk_data] Downloading package wordnet to /root/nltk_data...\n",
            "[nltk_data] Downloading package omw-1.4 to /root/nltk_data...\n"
          ]
        },
        {
          "output_type": "execute_result",
          "data": {
            "text/plain": [
              "True"
            ]
          },
          "metadata": {},
          "execution_count": 11
        }
      ]
    },
    {
      "cell_type": "code",
      "source": [
        "from nltk.stem import WordNetLemmatizer\n",
        "import nltk\n",
        "import string\n",
        "\n",
        "# 단어 원형 추출 함수\n",
        "lemmar = WordNetLemmatizer()\n",
        "def LemTokens(tokens):\n",
        "    return [lemmar.lemmatize(token) for token in tokens]\n",
        "\n",
        "# 특수 문자 사전 생성: {33: None ...}\n",
        "# ord(): 아스키 코드 생성\n",
        "remove_punct_dict = dict((ord(punct), None) for punct in string.punctuation)\n",
        "\n",
        "# 특수 문자 제거 및 단어 원형 추출\n",
        "def LemNormalize(text):\n",
        "    # 텍스트 소문자 변경 후 특수 문자 제거\n",
        "    text_new = text.lower().translate(remove_punct_dict)\n",
        "    \n",
        "    # 단어 토큰화\n",
        "    word_tokens = nltk.word_tokenize(text_new)\n",
        "    \n",
        "    # 단어 원형 추출\n",
        "    return LemTokens(word_tokens)"
      ],
      "metadata": {
        "id": "9n_DlJPmN-Q6"
      },
      "execution_count": null,
      "outputs": []
    },
    {
      "cell_type": "code",
      "source": [
        "import pandas as pd\n",
        "import glob, os\n",
        "from sklearn.feature_extraction.text import TfidfVectorizer\n",
        "from sklearn.cluster import KMeans\n",
        "\n",
        "path = r'/content/drive/MyDrive/topics'\n",
        "#path로 지정한 디렉터리 밑에 있는 모든 .data 파일의 파일명을 리스트로 취합.\n",
        "all_files = glob.glob(os.path.join(path, \"*.data\"))\n",
        "filename_list = []\n",
        "opinion_text = []\n",
        "\n",
        "# 개별 파일의 파일명은 filename_list로 취합\n",
        "# 개별 파일의 파일 내용은 DataFrame 로딩 후 다시 string으로 변환해 opinion_text list로 취합\n",
        "for file_ in all_files:\n",
        "  #개별 파일을 읽어서 DataFrame으로 생성\n",
        "  df = pd.read_table(file_, index_col=None, header=0, encoding='latin1')\n",
        "\n",
        "  # 절대 경로로 주어진 파일명을 가공, 리눅스에서 수행할 때는 다음 \\\\를 /로 변경\n",
        "  # 맨 마지막 .data 확장자도 제거\n",
        "  filename_ = file_.split('/')[-1]\n",
        "  filename = filename_.split('.')[0]\n",
        "\n",
        "  # 파일명 list와 파일 내용 list에 파일명과 파일 내용을 추가.\n",
        "  filename_list.append(filename)\n",
        "  opinion_text.append(df.to_string())\n",
        "\n",
        "# 파일명 list와 파일 내용 list 객체를 DataFrame으로 생성\n",
        "document_df = pd.DataFrame({'filename':filename_list, 'opinion_text':opinion_text})\n",
        "\n",
        "tfidf_vect = TfidfVectorizer(tokenizer=LemNormalize, stop_words='english',\n",
        "                             ngram_range=(1,2), min_df=0.05, max_df=0.85)\n",
        "feature_vect = tfidf_vect.fit_transform(document_df['opinion_text'])\n",
        "\n",
        "km_cluster = KMeans(n_clusters=3, max_iter=10000, random_state=0)\n",
        "km_cluster.fit(feature_vect)\n",
        "cluster_label = km_cluster.labels_\n",
        "cluster_centers = km_cluster.cluster_centers_\n",
        "document_df['cluster_label'] = cluster_label"
      ],
      "metadata": {
        "colab": {
          "base_uri": "https://localhost:8080/"
        },
        "id": "7xSV5GReFcy7",
        "outputId": "74e9e205-9d2e-487b-eb21-19e2cc1672f2"
      },
      "execution_count": null,
      "outputs": [
        {
          "output_type": "stream",
          "name": "stderr",
          "text": [
            "/usr/local/lib/python3.7/dist-packages/sklearn/feature_extraction/text.py:401: UserWarning: Your stop_words may be inconsistent with your preprocessing. Tokenizing the stop words generated tokens ['ha', 'le', 'u', 'wa'] not in stop_words.\n",
            "  % sorted(inconsistent)\n"
          ]
        }
      ]
    },
    {
      "cell_type": "markdown",
      "source": [
        ">이전 절에서 해당 문서의 군집화는 전자제품, 호텔, 자동차를 주제로 군집화됨.<br/>\n",
        "이 중 호텔을 주제로 군집화된 문서를 이용해 특정 문서와 다른 문서 간의 유사도 알아보기."
      ],
      "metadata": {
        "id": "R_744SE7OLsx"
      }
    },
    {
      "cell_type": "code",
      "source": [
        "from sklearn.metrics.pairwise import cosine_similarity\n",
        "\n",
        "#cluster_label=1인 데이터는 호텔로 군집화된 데이터임. DataFrame에서 해당 인덱스를 추출\n",
        "hotel_indexes = document_df[document_df['cluster_label']==1].index\n",
        "print('호텔로 군집화 된 문서들의 DataFrame Index:', hotel_indexes)\n",
        "\n",
        "# 호텔로 군집화된 데이터 중 첫번째 문서를 추출해 파일명 표시\n",
        "comparison_docname = document_df.iloc[hotel_indexes[0]]['filename']\n",
        "print('##### 비교 기준 문서명 ', comparison_docname, ' 와 타 문서 유사도#####')\n",
        "\n",
        "'''document_df에서 추출한 index 객체를 feature_vect로 입력해 호텔 군집화된 feature_vect 추출\n",
        "이를 이용해 호텔로 군집화된 문서 중 첫번째 문서와 다른 문서 간의 코사인 유사도 측정.'''\n",
        "similarity_pair = cosine_similarity(feature_vect[hotel_indexes[0]], feature_vect[hotel_indexes])\n",
        "print(similarity_pair)"
      ],
      "metadata": {
        "colab": {
          "base_uri": "https://localhost:8080/"
        },
        "id": "zlBG9mwBJ1GX",
        "outputId": "5ca1c775-7432-4141-8a5c-c1f99a981998"
      },
      "execution_count": null,
      "outputs": [
        {
          "output_type": "stream",
          "name": "stdout",
          "text": [
            "호텔로 군집화 된 문서들의 DataFrame Index: Int64Index([19, 22, 24, 25, 29, 31, 32, 34, 35, 37, 39, 41, 44, 46, 48, 50], dtype='int64')\n",
            "##### 비교 기준 문서명  room_holiday_inn_london  와 타 문서 유사도#####\n",
            "[[1.         0.15836737 0.40020673 0.19544761 0.37631406 0.19917258\n",
            "  0.15026112 0.77312013 0.31124876 0.26026786 0.22235374 0.81484367\n",
            "  0.16717527 0.51442299 0.10831277 0.11154184]]\n"
          ]
        }
      ]
    },
    {
      "cell_type": "code",
      "source": [
        "# 숫자로만 표시 말고 시각화.\n",
        "import seaborn as sns\n",
        "import numpy as np\n",
        "import matplotlib.pyplot as plt\n",
        "%matplotlib inline\n",
        "\n",
        "# 첫번쨰 문서와 타 문서 간 유사도가 큰 순으로 정렬한 인덱스를 추출하되 자기 자신은 제외.\n",
        "sorted_index = similarity_pair.argsort()[:,::-1]\n",
        "sorted_index = sorted_index[:,1:]\n",
        "\n",
        "# 유사도가 큰 순으로 hotel_indexes를 추출해 재정렬\n",
        "hotel_sorted_indexes = hotel_indexes[sorted_index.reshape(-1)]\n",
        "\n",
        "# 유사도가 큰 순으로 유사도 값을 재정렬하되 자기 자신은 제외\n",
        "hotel_1_sim_value = np.sort(similarity_pair.reshape(-1))[::-1]\n",
        "hotel_1_sim_value = hotel_1_sim_value[1:]\n",
        "\n",
        "# 유사도가 큰 순으로 정렬된 인덱스와 유사도 값을 이용해 파일명과 유사도 값을 막대 그래프로 시각화\n",
        "hotel_1_sim_df = pd.DataFrame()\n",
        "hotel_1_sim_df['filename'] = document_df.iloc[hotel_sorted_indexes]['filename']\n",
        "hotel_1_sim_df['similarity'] = hotel_1_sim_value\n",
        "\n",
        "sns.barplot(x='similarity', y='filename', data=hotel_1_sim_df)\n",
        "plt.title(comparison_docname)"
      ],
      "metadata": {
        "colab": {
          "base_uri": "https://localhost:8080/",
          "height": 313
        },
        "id": "H3PNt0KsPHZu",
        "outputId": "081aa433-3c9d-4e78-b505-66f4333ab870"
      },
      "execution_count": null,
      "outputs": [
        {
          "output_type": "execute_result",
          "data": {
            "text/plain": [
              "Text(0.5, 1.0, 'room_holiday_inn_london')"
            ]
          },
          "metadata": {},
          "execution_count": 15
        },
        {
          "output_type": "display_data",
          "data": {
            "text/plain": [
              "<Figure size 432x288 with 1 Axes>"
            ],
            "image/png": "[encoded data removed]"
          },
          "metadata": {
            "needs_background": "light"
          }
        }
      ]
    },
    {
      "cell_type": "markdown",
      "source": [
        "## **09 한글 텍스트 처리 - 네이버 영화 평점 감성 분석**\n",
        "---"
      ],
      "metadata": {
        "id": "p4dOm5ozQJhR"
      }
    },
    {
      "cell_type": "markdown",
      "source": [
        "**한글 NLP 처리의 어려움**\n"
      ],
      "metadata": {
        "id": "TtmlQPlgQN4b"
      }
    },
    {
      "cell_type": "markdown",
      "source": [
        "* '띄어쓰기', '다양한 조사' : 한글 언어 처리의 어려움."
      ],
      "metadata": {
        "id": "EbYu_STKQQZp"
      }
    },
    {
      "cell_type": "markdown",
      "source": [
        "**KnNLPy 소개**"
      ],
      "metadata": {
        "id": "qVKb_5ADQXf6"
      }
    },
    {
      "cell_type": "markdown",
      "source": [
        "* 파이썬의 대표적인 한글 형태소 패키지."
      ],
      "metadata": {
        "id": "IXKTjRZcQe9y"
      }
    },
    {
      "cell_type": "code",
      "source": [
        "pip install konlpy"
      ],
      "metadata": {
        "colab": {
          "base_uri": "https://localhost:8080/"
        },
        "id": "6xVCwVmYQHRf",
        "outputId": "db444b12-d4e6-4a57-fecc-5c21a00804f3"
      },
      "execution_count": null,
      "outputs": [
        {
          "output_type": "stream",
          "name": "stdout",
          "text": [
            "Looking in indexes: https://pypi.org/simple, https://us-python.pkg.dev/colab-wheels/public/simple/\n",
            "Collecting konlpy\n",
            "  Downloading konlpy-0.6.0-py2.py3-none-any.whl (19.4 MB)\n",
            "\u001b[K     |████████████████████████████████| 19.4 MB 11.6 MB/s \n",
            "\u001b[?25hRequirement already satisfied: numpy>=1.6 in /usr/local/lib/python3.7/dist-packages (from konlpy) (1.21.6)\n",
            "Collecting JPype1>=0.7.0\n",
            "  Downloading JPype1-1.4.1-cp37-cp37m-manylinux_2_12_x86_64.manylinux2010_x86_64.whl (465 kB)\n",
            "\u001b[K     |████████████████████████████████| 465 kB 6.5 MB/s \n",
            "\u001b[?25hRequirement already satisfied: lxml>=4.1.0 in /usr/local/lib/python3.7/dist-packages (from konlpy) (4.9.1)\n",
            "Requirement already satisfied: packaging in /usr/local/lib/python3.7/dist-packages (from JPype1>=0.7.0->konlpy) (21.3)\n",
            "Requirement already satisfied: typing-extensions in /usr/local/lib/python3.7/dist-packages (from JPype1>=0.7.0->konlpy) (4.1.1)\n",
            "Requirement already satisfied: pyparsing!=3.0.5,>=2.0.2 in /usr/local/lib/python3.7/dist-packages (from packaging->JPype1>=0.7.0->konlpy) (3.0.9)\n",
            "Installing collected packages: JPype1, konlpy\n",
            "Successfully installed JPype1-1.4.1 konlpy-0.6.0\n"
          ]
        }
      ]
    },
    {
      "cell_type": "code",
      "source": [
        "import pandas as pd\n",
        "\n",
        "train_df = pd.read_csv('/content/drive/MyDrive/ratings/ratings_train.txt',sep='\\t')\n",
        "train_df.head(3)"
      ],
      "metadata": {
        "colab": {
          "base_uri": "https://localhost:8080/",
          "height": 143
        },
        "id": "LeOpFVBL9tas",
        "outputId": "80696573-d89e-49ff-9b32-6ecccdf0ac27"
      },
      "execution_count": null,
      "outputs": [
        {
          "output_type": "execute_result",
          "data": {
            "text/plain": [
              "         id                           document  label\n",
              "0   9976970                아 더빙.. 진짜 짜증나네요 목소리      0\n",
              "1   3819312  흠...포스터보고 초딩영화줄....오버연기조차 가볍지 않구나      1\n",
              "2  10265843                  너무재밓었다그래서보는것을추천한다      0"
            ],
            "text/html": [
              "\n",
              "  <div id=\"df-7326552b-4402-455d-be78-f60cb00584c1\">\n",
              "    <div class=\"colab-df-container\">\n",
              "      <div>\n",
              "<style scoped>\n",
              "    .dataframe tbody tr th:only-of-type {\n",
              "        vertical-align: middle;\n",
              "    }\n",
              "\n",
              "    .dataframe tbody tr th {\n",
              "        vertical-align: top;\n",
              "    }\n",
              "\n",
              "    .dataframe thead th {\n",
              "        text-align: right;\n",
              "    }\n",
              "</style>\n",
              "<table border=\"1\" class=\"dataframe\">\n",
              "  <thead>\n",
              "    <tr style=\"text-align: right;\">\n",
              "      <th></th>\n",
              "      <th>id</th>\n",
              "      <th>document</th>\n",
              "      <th>label</th>\n",
              "    </tr>\n",
              "  </thead>\n",
              "  <tbody>\n",
              "    <tr>\n",
              "      <th>0</th>\n",
              "      <td>9976970</td>\n",
              "      <td>아 더빙.. 진짜 짜증나네요 목소리</td>\n",
              "      <td>0</td>\n",
              "    </tr>\n",
              "    <tr>\n",
              "      <th>1</th>\n",
              "      <td>3819312</td>\n",
              "      <td>흠...포스터보고 초딩영화줄....오버연기조차 가볍지 않구나</td>\n",
              "      <td>1</td>\n",
              "    </tr>\n",
              "    <tr>\n",
              "      <th>2</th>\n",
              "      <td>10265843</td>\n",
              "      <td>너무재밓었다그래서보는것을추천한다</td>\n",
              "      <td>0</td>\n",
              "    </tr>\n",
              "  </tbody>\n",
              "</table>\n",
              "</div>\n",
              "      <button class=\"colab-df-convert\" onclick=\"convertToInteractive('df-7326552b-4402-455d-be78-f60cb00584c1')\"\n",
              "              title=\"Convert this dataframe to an interactive table.\"\n",
              "              style=\"display:none;\">\n",
              "        \n",
              "  <svg xmlns=\"http://www.w3.org/2000/svg\" height=\"24px\"viewBox=\"0 0 24 24\"\n",
              "       width=\"24px\">\n",
              "    <path d=\"M0 0h24v24H0V0z\" fill=\"none\"/>\n",
              "    <path d=\"M18.56 5.44l.94 2.06.94-2.06 2.06-.94-2.06-.94-.94-2.06-.94 2.06-2.06.94zm-11 1L8.5 8.5l.94-2.06 2.06-.94-2.06-.94L8.5 2.5l-.94 2.06-2.06.94zm10 10l.94 2.06.94-2.06 2.06-.94-2.06-.94-.94-2.06-.94 2.06-2.06.94z\"/><path d=\"M17.41 7.96l-1.37-1.37c-.4-.4-.92-.59-1.43-.59-.52 0-1.04.2-1.43.59L10.3 9.45l-7.72 7.72c-.78.78-.78 2.05 0 2.83L4 21.41c.39.39.9.59 1.41.59.51 0 1.02-.2 1.41-.59l7.78-7.78 2.81-2.81c.8-.78.8-2.07 0-2.86zM5.41 20L4 18.59l7.72-7.72 1.47 1.35L5.41 20z\"/>\n",
              "  </svg>\n",
              "      </button>\n",
              "      \n",
              "  <style>\n",
              "    .colab-df-container {\n",
              "      display:flex;\n",
              "      flex-wrap:wrap;\n",
              "      gap: 12px;\n",
              "    }\n",
              "\n",
              "    .colab-df-convert {\n",
              "      background-color: #E8F0FE;\n",
              "      border: none;\n",
              "      border-radius: 50%;\n",
              "      cursor: pointer;\n",
              "      display: none;\n",
              "      fill: #1967D2;\n",
              "      height: 32px;\n",
              "      padding: 0 0 0 0;\n",
              "      width: 32px;\n",
              "    }\n",
              "\n",
              "    .colab-df-convert:hover {\n",
              "      background-color: #E2EBFA;\n",
              "      box-shadow: 0px 1px 2px rgba(60, 64, 67, 0.3), 0px 1px 3px 1px rgba(60, 64, 67, 0.15);\n",
              "      fill: #174EA6;\n",
              "    }\n",
              "\n",
              "    [theme=dark] .colab-df-convert {\n",
              "      background-color: #3B4455;\n",
              "      fill: #D2E3FC;\n",
              "    }\n",
              "\n",
              "    [theme=dark] .colab-df-convert:hover {\n",
              "      background-color: #434B5C;\n",
              "      box-shadow: 0px 1px 3px 1px rgba(0, 0, 0, 0.15);\n",
              "      filter: drop-shadow(0px 1px 2px rgba(0, 0, 0, 0.3));\n",
              "      fill: #FFFFFF;\n",
              "    }\n",
              "  </style>\n",
              "\n",
              "      <script>\n",
              "        const buttonEl =\n",
              "          document.querySelector('#df-7326552b-4402-455d-be78-f60cb00584c1 button.colab-df-convert');\n",
              "        buttonEl.style.display =\n",
              "          google.colab.kernel.accessAllowed ? 'block' : 'none';\n",
              "\n",
              "        async function convertToInteractive(key) {\n",
              "          const element = document.querySelector('#df-7326552b-4402-455d-be78-f60cb00584c1');\n",
              "          const dataTable =\n",
              "            await google.colab.kernel.invokeFunction('convertToInteractive',\n",
              "                                                     [key], {});\n",
              "          if (!dataTable) return;\n",
              "\n",
              "          const docLinkHtml = 'Like what you see? Visit the ' +\n",
              "            '<a target=\"_blank\" href=https://colab.research.google.com/notebooks/data_table.ipynb>data table notebook</a>'\n",
              "            + ' to learn more about interactive tables.';\n",
              "          element.innerHTML = '';\n",
              "          dataTable['output_type'] = 'display_data';\n",
              "          await google.colab.output.renderOutput(dataTable, element);\n",
              "          const docLink = document.createElement('div');\n",
              "          docLink.innerHTML = docLinkHtml;\n",
              "          element.appendChild(docLink);\n",
              "        }\n",
              "      </script>\n",
              "    </div>\n",
              "  </div>\n",
              "  "
            ]
          },
          "metadata": {},
          "execution_count": 22
        }
      ]
    },
    {
      "cell_type": "code",
      "source": [
        "# 1이 긍정, 0이 부정\n",
        "train_df['label'].value_counts()"
      ],
      "metadata": {
        "colab": {
          "base_uri": "https://localhost:8080/"
        },
        "id": "a6NxAPwPAXOc",
        "outputId": "47a612e0-1089-46b2-cb9d-5e5ad37d7f18"
      },
      "execution_count": null,
      "outputs": [
        {
          "output_type": "execute_result",
          "data": {
            "text/plain": [
              "0    75173\n",
              "1    74827\n",
              "Name: label, dtype: int64"
            ]
          },
          "metadata": {},
          "execution_count": 23
        }
      ]
    },
    {
      "cell_type": "code",
      "source": [
        "import re\n",
        "\n",
        "train_df = train_df.fillna(' ')\n",
        "# 정규 표현식을 이용해 숫자를 공백으로 변경(정규 표현식으로 \\d는 숫자를 의미함.)\n",
        "train_df['document'] = train_df['document'].apply(lambda x : re.sub(r\"\\d+\",\"\",x))\n",
        "\n",
        "# 테세트 데이터 세트를 로딩하고 동일하게 Null 및 숫자를 공백으로 변환\n",
        "test_df = pd.read_csv('/content/drive/MyDrive/ratings/ratings_test.txt', sep='\\t')\n",
        "test_df = test_df.fillna(' ')\n",
        "test_df['document'] = test_df['document'].apply(lambda x: re.sub(r\"\\d+\", \" \", x))\n",
        "\n",
        "# id 칼럼 삭제 수행\n",
        "train_df.drop('id', axis=1, inplace=True)\n",
        "test_df.drop('id', axis=1, inplace=True)"
      ],
      "metadata": {
        "id": "i55jPRuiAv8E"
      },
      "execution_count": null,
      "outputs": []
    },
    {
      "cell_type": "code",
      "source": [
        "# TF-IDF 방식으로 단어 벡터화 위해 먼저 각 문장을 한글 형태소 분석을 통해 형태소 단어로 토큰화.\n",
        "from konlpy.tag import Twitter\n",
        "\n",
        "twitter = Twitter()\n",
        "def tw_tokenizer(text):\n",
        "  # 입력 인자로 들어온 텍스트를 형태소 단어로 토큰화해 리스트 형태로 반환\n",
        "  tokens_ko = twitter.morphs(text)\n",
        "  return tokens_ko"
      ],
      "metadata": {
        "colab": {
          "base_uri": "https://localhost:8080/"
        },
        "id": "I6P2nZ9OBJfS",
        "outputId": "9bab4460-7987-4fe6-c30a-1cf7f1fa8685"
      },
      "execution_count": null,
      "outputs": [
        {
          "output_type": "stream",
          "name": "stderr",
          "text": [
            "/usr/local/lib/python3.7/dist-packages/konlpy/tag/_okt.py:17: UserWarning: \"Twitter\" has changed to \"Okt\" since KoNLPy v0.4.5.\n",
            "  warn('\"Twitter\" has changed to \"Okt\" since KoNLPy v0.4.5.')\n"
          ]
        }
      ]
    },
    {
      "cell_type": "code",
      "source": [
        "# 이제 TF-IDF 방식으로 단어 벡터화.\n",
        "from sklearn.feature_extraction.text import TfidfVectorizer\n",
        "from sklearn.linear_model import LogisticRegression\n",
        "from sklearn.model_selection import GridSearchCV\n",
        "\n",
        "# Twitter 객체의 morphs() 객체를 이용한 tokenizer를 사용. ngram_range는 (1,2)\n",
        "tfidf_vect = TfidfVectorizer(tokenizer=tw_tokenizer, ngram_range=(1,2), min_df=3, max_df=0.9)\n",
        "tfidf_vect.fit(train_df['document'])\n",
        "tfidf_matrix_train = tfidf_vect.transform(train_df['document'])"
      ],
      "metadata": {
        "colab": {
          "base_uri": "https://localhost:8080/"
        },
        "id": "CYYlb1INBoLf",
        "outputId": "f4cd2b64-97ab-42fe-fbca-e1892a8bf4d5"
      },
      "execution_count": null,
      "outputs": [
        {
          "metadata": {
            "tags": null
          },
          "name": "stderr",
          "output_type": "stream",
          "text": [
            "/usr/local/lib/python3.7/dist-packages/sklearn/feature_extraction/text.py:517: UserWarning: The parameter 'token_pattern' will not be used since 'tokenizer' is not None'\n",
            "  \"The parameter 'token_pattern' will not be used\"\n"
          ]
        }
      ]
    },
    {
      "cell_type": "code",
      "source": [
        "# 로지스틱 회귀 이용해 분류 기반의 감성 분석 수행.\n",
        "lg_clf = LogisticRegression(random_state=0)\n",
        "\n",
        "# 파라미터 C 최적화를 위해 GridSearchCV를 이용\n",
        "params = {'C':[1,3.5,4.5,5.5,10]}\n",
        "grid_cv = GridSearchCV(lg_clf, param_grid = params, cv=3, scoring='accuracy', verbose=1)\n",
        "grid_cv.fit(tfidf_matrix_train, train_df['label'])\n",
        "print(grid_cv.best_params_, round(grid_cv.best_score_),4)"
      ],
      "metadata": {
        "id": "t7ud371XB44q"
      },
      "execution_count": null,
      "outputs": []
    },
    {
      "cell_type": "code",
      "source": [
        "# 이제 테스트 데이터 세트를 이용해 최종 감성 분석 예측 수행\n",
        "from sklearn.metrics import accuracy_score\n",
        "# 학습 데이터를 적용한 TfidfVectorizer를 이용해 테스트 데이터를 TF-IDF 값으로 피처 변환함\n",
        "tfidf_matrix_test = tfidf_vect.transform(test_df['document'])\n",
        "\n",
        "# classifier는 GridSearchCV에서 최적 파라미터로 학습된 classifier를 그대로 이용\n",
        "best_estimator = grid_cv.best_estimator_\n",
        "preds = best_estimator.predict(tfidf_matrix_test)\n",
        "\n",
        "print('Logistic Regression 정확도:', accuracy_score(test_df['label'],preds))"
      ],
      "metadata": {
        "id": "iOsgIIwlCBaq"
      },
      "execution_count": null,
      "outputs": []
    },
    {
      "cell_type": "code",
      "source": [],
      "metadata": {
        "id": "LoKDlfLxCFlV"
      },
      "execution_count": null,
      "outputs": []
    }
  ]
}