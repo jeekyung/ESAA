{
  "nbformat": 4,
  "nbformat_minor": 0,
  "metadata": {
    "colab": {
      "provenance": [],
      "mount_file_id": "1GbLDweft6Fhh9uq75pOH3JIScS3temWw",
      "authorship_tag": "ABX9TyNGYS0Y2e2SjmjknphK9JID",
      "include_colab_link": true
    },
    "kernelspec": {
      "name": "python3",
      "display_name": "Python 3"
    },
    "language_info": {
      "name": "python"
    }
  },
  "cells": [
    {
      "cell_type": "markdown",
      "metadata": {
        "id": "view-in-github",
        "colab_type": "text"
      },
      "source": [
        "<a href=\"https://colab.research.google.com/github/jeekyung/ESAA/blob/main/ESAA_OB_week12_%ED%8C%8C%EC%9D%B4%EC%8D%AC_%EB%A8%B8%EC%8B%A0%EB%9F%AC%EB%8B%9D_%EC%99%84%EB%B2%BD_%EA%B0%80%EC%9D%B4%EB%93%9C_ch9_8_pg_607~624.ipynb\" target=\"_parent\"><img src=\"https://colab.research.google.com/assets/colab-badge.svg\" alt=\"Open In Colab\"/></a>"
      ]
    },
    {
      "cell_type": "markdown",
      "source": [
        "## **08. 파이썬 추천 시스템 패키지 - Surprise**\n",
        "---"
      ],
      "metadata": {
        "id": "5FspmuDPHiK9"
      }
    },
    {
      "cell_type": "markdown",
      "source": [
        "**Surprise 패키지 소개**"
      ],
      "metadata": {
        "id": "SXVQwDfWHoTm"
      }
    },
    {
      "cell_type": "code",
      "source": [
        "!pip install scikit-surprise"
      ],
      "metadata": {
        "colab": {
          "base_uri": "https://localhost:8080/"
        },
        "id": "iLKqPx6cH7qH",
        "outputId": "263609ab-b389-4dee-9871-099f80929fbe"
      },
      "execution_count": 1,
      "outputs": [
        {
          "output_type": "stream",
          "name": "stdout",
          "text": [
            "Looking in indexes: https://pypi.org/simple, https://us-python.pkg.dev/colab-wheels/public/simple/\n",
            "Collecting scikit-surprise\n",
            "  Downloading scikit-surprise-1.1.1.tar.gz (11.8 MB)\n",
            "\u001b[K     |████████████████████████████████| 11.8 MB 20.9 MB/s \n",
            "\u001b[?25hRequirement already satisfied: joblib>=0.11 in /usr/local/lib/python3.7/dist-packages (from scikit-surprise) (1.2.0)\n",
            "Requirement already satisfied: numpy>=1.11.2 in /usr/local/lib/python3.7/dist-packages (from scikit-surprise) (1.21.6)\n",
            "Requirement already satisfied: scipy>=1.0.0 in /usr/local/lib/python3.7/dist-packages (from scikit-surprise) (1.7.3)\n",
            "Requirement already satisfied: six>=1.10.0 in /usr/local/lib/python3.7/dist-packages (from scikit-surprise) (1.15.0)\n",
            "Building wheels for collected packages: scikit-surprise\n",
            "  Building wheel for scikit-surprise (setup.py) ... \u001b[?25l\u001b[?25hdone\n",
            "  Created wheel for scikit-surprise: filename=scikit_surprise-1.1.1-cp37-cp37m-linux_x86_64.whl size=1633975 sha256=bd1b6c2fcb9c57a5b8bae2ca31328b321db32cc4b3088f69fbc71e0042ab28dd\n",
            "  Stored in directory: /root/.cache/pip/wheels/76/44/74/b498c42be47b2406bd27994e16c5188e337c657025ab400c1c\n",
            "Successfully built scikit-surprise\n",
            "Installing collected packages: scikit-surprise\n",
            "Successfully installed scikit-surprise-1.1.1\n"
          ]
        }
      ]
    },
    {
      "cell_type": "markdown",
      "source": [
        ">Surprise 패키지의 주요 장점:\n",
        "* 다양한 추천 알고리즘, 예를 들어 사용자 또는 아이템 기반 최근접 이웃 협업 필터링, SVD, SVD++, NMF 기반의 잠재 요인 협업 필터링을 쉽게 적용해 추천 시스템 구축 가능"
      ],
      "metadata": {
        "id": "byVPYvKvHqp9"
      }
    },
    {
      "cell_type": "markdown",
      "source": [
        "### **Surprise를 이용한 추천 시스템 구축**\n",
        "---"
      ],
      "metadata": {
        "id": "oY9hsLgmIsDl"
      }
    },
    {
      "cell_type": "markdown",
      "source": [
        "추천 데이터를 학습용과 테스트용 데이터 세트로 분리한 뒤 SVD 행렬 분해를 통한 잠재 요인 협업 필터링 수행하는 예제."
      ],
      "metadata": {
        "id": "htA7njxAI010"
      }
    },
    {
      "cell_type": "code",
      "execution_count": 2,
      "metadata": {
        "id": "xS0WkSOXHWxP"
      },
      "outputs": [],
      "source": [
        "from surprise import SVD\n",
        "from surprise import Dataset\n",
        "from surprise import accuracy\n",
        "from surprise.model_selection import train_test_split"
      ]
    },
    {
      "cell_type": "markdown",
      "source": [
        ">* Surprise에서 데이터 로딩을 Dataset 클래스를 이용해서만 가능함.\n",
        "* Surprise는 userId(사용자 ID), movieId(영화 ID), rating(평점)과 같은 주요 데이터가 로우(Row) 레벨 형태로 돼있는 포맷의 데이터만 처리함."
      ],
      "metadata": {
        "id": "8SvrKAS5JT0b"
      }
    },
    {
      "cell_type": "code",
      "source": [
        "# 무비렌즈 사이트에서 제공하는  데이터 세트 'ml-100k'(10만 개 평점 데이터) 내려받아 로딩.\n",
        "data = Dataset.load_builtin('ml-100k',prompt=False)\n",
        "# 수행 시마다 동일하게 데이터를 분할하기 위해 random_state 값 부여\n",
        "trainset, testset = train_test_split(data, test_size=.25, random_state=0)"
      ],
      "metadata": {
        "colab": {
          "base_uri": "https://localhost:8080/"
        },
        "id": "gw4GSQVqJFpw",
        "outputId": "19f82497-5b56-4917-f064-51363abe731f"
      },
      "execution_count": 3,
      "outputs": [
        {
          "output_type": "stream",
          "name": "stdout",
          "text": [
            "Trying to download dataset from http://files.grouplens.org/datasets/movielens/ml-100k.zip...\n",
            "Done! Dataset ml-100k has been saved to /root/.surprise_data/ml-100k\n"
          ]
        }
      ]
    },
    {
      "cell_type": "markdown",
      "source": [
        ">surprise에 사용자-아이템 평점 데이터를 적용할 때 주의해야 할 점: 무비렌즈 사이트에서 내려받은 데이터 파일과 동일하게 로우 레벨의 사용자-아이템 평점 데이터를 그대로 적용해야 한다는 점.\n",
        "* 앞에서 로우 레벨의 사용자-아이템 아이디를 칼럼명으로 변환한 형태의 사용자-아이템 평점 행렬 데이터로 변환함.\n",
        "* Surprise는 자체적으로 로우 레벨의 데이터를 칼럼 레벨의 데이터로 변경하므로 원본인 로우 레벨의 사용자-아이템 평점 데이터를 데이터 세트로 적용해야 함."
      ],
      "metadata": {
        "id": "0lfyQUzgPdzW"
      }
    },
    {
      "cell_type": "code",
      "source": [
        "# SVD로 잠재 요인 협업 필터링 수행\n",
        "algo = SVD()\n",
        "algo.fit(trainset)  # 학습 데이터 세트 기반으로 추천 알고리즘 학습"
      ],
      "metadata": {
        "colab": {
          "base_uri": "https://localhost:8080/"
        },
        "id": "heqgrUl2LTuL",
        "outputId": "85fd6169-3654-4eec-e0f6-8f6bd4ea2b03"
      },
      "execution_count": 4,
      "outputs": [
        {
          "output_type": "execute_result",
          "data": {
            "text/plain": [
              "<surprise.prediction_algorithms.matrix_factorization.SVD at 0x7f806d7c5c50>"
            ]
          },
          "metadata": {},
          "execution_count": 4
        }
      ]
    },
    {
      "cell_type": "markdown",
      "source": [
        ">* 학습된 추천 알고리즘을 기반으로 테스트 데이터 세트에 대해 추천 수행.\n",
        "* Surprise에서 추천을 예측하는 메서드: test() / predict()"
      ],
      "metadata": {
        "id": "OKqmrIfxTAH-"
      }
    },
    {
      "cell_type": "code",
      "source": [
        "# test(): 사용자-아이템 평점 데이터 세트 전체에 대해서 추천을 예측하는 메서드\n",
        "# 즉, 입력된 데이터 세트에 대해 추천 데이터 세트 만들어줌.\n",
        "predictions = algo.test(testset)\n",
        "print('prediction type: ', type(predictions), 'size:', len(predictions))\n",
        "print('prediction 결과의 최초 5개 추출')\n",
        "predictions[:5]"
      ],
      "metadata": {
        "colab": {
          "base_uri": "https://localhost:8080/"
        },
        "id": "paOtyApvR3lp",
        "outputId": "6258c775-6a33-4359-9ad2-09d41ba9685d"
      },
      "execution_count": 5,
      "outputs": [
        {
          "output_type": "stream",
          "name": "stdout",
          "text": [
            "prediction type:  <class 'list'> size: 25000\n",
            "prediction 결과의 최초 5개 추출\n"
          ]
        },
        {
          "output_type": "execute_result",
          "data": {
            "text/plain": [
              "[Prediction(uid='120', iid='282', r_ui=4.0, est=3.63926711523585, details={'was_impossible': False}),\n",
              " Prediction(uid='882', iid='291', r_ui=4.0, est=3.659327894111019, details={'was_impossible': False}),\n",
              " Prediction(uid='535', iid='507', r_ui=5.0, est=4.068718563599528, details={'was_impossible': False}),\n",
              " Prediction(uid='697', iid='244', r_ui=5.0, est=3.5326164215668157, details={'was_impossible': False}),\n",
              " Prediction(uid='751', iid='385', r_ui=4.0, est=3.3006847815649794, details={'was_impossible': False})]"
            ]
          },
          "metadata": {},
          "execution_count": 5
        }
      ]
    },
    {
      "cell_type": "code",
      "source": [
        "# 리스트 객체 내에 내포된 Prediction 객체의 uid, iid, r_ui, est 등의 속성에 접근하려면 객체명, uid와 같은 형식으로.\n",
        "[ (pred.uid, pred.iid, pred.est) for pred in predictions[:3] ]"
      ],
      "metadata": {
        "colab": {
          "base_uri": "https://localhost:8080/"
        },
        "id": "QmurIVuBT_Nc",
        "outputId": "3f8196d8-8a82-4cdb-bd07-0613af21ffa2"
      },
      "execution_count": 7,
      "outputs": [
        {
          "output_type": "execute_result",
          "data": {
            "text/plain": [
              "[('120', '282', 3.63926711523585),\n",
              " ('882', '291', 3.659327894111019),\n",
              " ('535', '507', 4.068718563599528)]"
            ]
          },
          "metadata": {},
          "execution_count": 7
        }
      ]
    },
    {
      "cell_type": "code",
      "source": [
        "# predict(): 개별 사용자의 아이템에 대한 추천 평점을 예측하는 메서드\n",
        "# 사용자 아이디, 아이템 아이디는 문자열로 입력해야 함.\n",
        "uid = str(196)\n",
        "iid = str(302)\n",
        "pred = algo.predict(uid, iid)\n",
        "print(pred)"
      ],
      "metadata": {
        "colab": {
          "base_uri": "https://localhost:8080/"
        },
        "id": "OOpdFEA7USas",
        "outputId": "98c50d01-3746-4636-919b-9f6ddcd8f04d"
      },
      "execution_count": 8,
      "outputs": [
        {
          "output_type": "stream",
          "name": "stdout",
          "text": [
            "user: 196        item: 302        r_ui = None   est = 4.33   {'was_impossible': False}\n"
          ]
        }
      ]
    },
    {
      "cell_type": "markdown",
      "source": [
        "* predict()는 개별 사용자와 아이템 정보를 입력하면 추천 예측 평점을 est로 반환함.\n",
        "* test() 메서드는 입력 데이터 세트의 모든 사용자와 아이템 아이디에 대해서 predict()를 반복적으로 수행한 결과와 비슷함."
      ],
      "metadata": {
        "id": "9iVQztHET5L-"
      }
    },
    {
      "cell_type": "code",
      "source": [
        "# 테스트 데이터 세트를 이용해 추천 예측 평점과 실제 평점과의 차이 평가\n",
        "accuracy.rmse(predictions)"
      ],
      "metadata": {
        "colab": {
          "base_uri": "https://localhost:8080/"
        },
        "id": "oFmN0LvGT2oy",
        "outputId": "b4e3c580-1a37-47b6-adf4-10faa3348f83"
      },
      "execution_count": 9,
      "outputs": [
        {
          "output_type": "stream",
          "name": "stdout",
          "text": [
            "RMSE: 0.9501\n"
          ]
        },
        {
          "output_type": "execute_result",
          "data": {
            "text/plain": [
              "0.9501499385022109"
            ]
          },
          "metadata": {},
          "execution_count": 9
        }
      ]
    },
    {
      "cell_type": "markdown",
      "source": [
        "* 이처럼 surprise 패키지를 이용하면 쉽게 추천 시스템 구현 가능."
      ],
      "metadata": {
        "id": "Q-CQ_PdQUNHU"
      }
    },
    {
      "cell_type": "markdown",
      "source": [
        "### **Surprise 주요 모듈 소개**\n",
        "---"
      ],
      "metadata": {
        "id": "V7womx5tU7Lo"
      }
    },
    {
      "cell_type": "markdown",
      "source": [
        "**Dataset**"
      ],
      "metadata": {
        "id": "si3_BHXNVBTc"
      }
    },
    {
      "cell_type": "markdown",
      "source": [
        ">Surprise는 user_id(사용자 아이디), item_id(아이템 아이디), rating(평점) 데이터가 로우 레벨로 된 데이터 세트만 적용할 수 있음."
      ],
      "metadata": {
        "id": "9_-0Rt28VKCt"
      }
    },
    {
      "cell_type": "markdown",
      "source": [
        "**OS 파일 데이터를 Surprise 데이터 세트로 로딩**"
      ],
      "metadata": {
        "id": "HYxpV3tRVmmM"
      }
    },
    {
      "cell_type": "markdown",
      "source": [
        "* Surprise에 OS 파일 로딩 시 로딩되는 데이터 파일에 칼럼명을 가지는 헤더 문자열이 있어서는 안됨."
      ],
      "metadata": {
        "id": "t2NNQaYJVq51"
      }
    },
    {
      "cell_type": "code",
      "source": [
        "import pandas as pd\n",
        "\n",
        "ratings = pd.read_csv('/content/drive/MyDrive/ratings.csv')\n",
        "# ratings_noh.csv 파일로 업로드 시 인덱스와 헤더를 모두 제거한 새로운 파일 생성\n",
        "ratings.to_csv('/content/drive/MyDrive/ratings_noh.csv', index=False, header=False)"
      ],
      "metadata": {
        "id": "QnKhoAY_VyuN"
      },
      "execution_count": 14,
      "outputs": []
    },
    {
      "cell_type": "markdown",
      "source": [
        ">* ratings_noh.csv를 dataset 모듈의 load_from_file()을 이용해 DataSet로 로드.\n",
        "* Reader 클래스를 이용해 데이터 파일의 파싱 포맷을 먼저 정의해야 함.\n",
        "* Reader 클래스는 로딩될 rating_noh.csv 파일의 파싱 정보를 알려주기 위해 사용됨.\n",
        "* 지금 로딩하려는 ratings_noh.csv는 칼럼 헤더가 없고, 4개의 칼럼이 콤마로만 분리되어 있어 로딩할 때 알려줘야 함."
      ],
      "metadata": {
        "id": "hcVSrZ77X5mj"
      }
    },
    {
      "cell_type": "code",
      "source": [
        "from surprise import Reader\n",
        "\n",
        "reader = Reader(line_format = 'user item rating timestamp', sep=',', rating_scale=(0.5,5))\n",
        "data=Dataset.load_from_file('/content/drive/MyDrive/ratings_noh.csv',reader=reader)"
      ],
      "metadata": {
        "id": "hgfqKk4VYThz"
      },
      "execution_count": 16,
      "outputs": []
    },
    {
      "cell_type": "markdown",
      "source": [
        ">Reader 클래스의 주요 생성 파라미터:\n",
        "* line_format (string): 칼럼을 순서대로 나열. 입력된 문자열을 공백으로 분리해 칼럼으로 인식\n",
        "* sep (char): 칼럼을 분리하는 분리자이며, 디폴트는 '\\t'\n",
        "* rating_scale (tuple, optional): 평점 값의 최소~최대 평점 설정. 디폴트는 (1,5)이지만 rating.csv 파일의 경우는 최소 평점이 0.5, 최대 평점이 0.5"
      ],
      "metadata": {
        "id": "YApLjzrtYeQH"
      }
    },
    {
      "cell_type": "code",
      "source": [
        "# SVD 행렬 분해 기법을 이용해 추천 예측\n",
        "trainset, testset = train_test_split(data, test_size =.25, random_state=0)\n",
        "\n",
        "algo = SVD(n_factors=50, random_state=0)\n",
        "\n",
        "# 학습 데이터 세트로 학습하고 나서 테스트 데이터 세트로 평점 예측 후 RMSE 평가\n",
        "algo.fit(trainset)\n",
        "predictions = algo.test(testset)\n",
        "accuracy.rmse(predictions)"
      ],
      "metadata": {
        "colab": {
          "base_uri": "https://localhost:8080/"
        },
        "id": "dxTW5KrOa4o4",
        "outputId": "c42e942a-7150-4334-bc9f-ea4f48e37c76"
      },
      "execution_count": 17,
      "outputs": [
        {
          "output_type": "stream",
          "name": "stdout",
          "text": [
            "RMSE: 0.8682\n"
          ]
        },
        {
          "output_type": "execute_result",
          "data": {
            "text/plain": [
              "0.8681952927143516"
            ]
          },
          "metadata": {},
          "execution_count": 17
        }
      ]
    },
    {
      "cell_type": "markdown",
      "source": [
        "**판다스 DataFrame에서 Surprise 데이터 세트로 로딩**"
      ],
      "metadata": {
        "id": "8b7SC43_bR3Q"
      }
    },
    {
      "cell_type": "markdown",
      "source": [
        ">Dataset.load_from_df()를 이용하면 판다스의 DataFrame에서도 Surprise 데이터 세트로 로딩할 수 있음."
      ],
      "metadata": {
        "id": "VNvxJYGVbVs-"
      }
    },
    {
      "cell_type": "code",
      "source": [
        "import pandas as pd\n",
        "from surprise import Reader, Dataset\n",
        "\n",
        "ratings = pd.read_csv('/content/drive/MyDrive/ratings.csv')\n",
        "reader = Reader(rating_scale = (0.5,5.0))\n",
        "\n",
        "# ratings DataFrame에서 칼럼은 사용자 아이디, 아이템 아이디, 평점 순서를 지켜야 함\n",
        "data = Dataset.load_from_df(ratings[['userId','movieId','rating']],reader)\n",
        "trainset,testset = train_test_split(data,test_size = 0.25,random_state = 0)\n",
        "\n",
        "algo = SVD(n_factors = 50,random_state = 0)\n",
        "algo.fit(trainset)\n",
        "predictions = algo.test(testset)\n",
        "accuracy.rmse(predictions)"
      ],
      "metadata": {
        "colab": {
          "base_uri": "https://localhost:8080/"
        },
        "id": "QrLqB6JGbdLp",
        "outputId": "7f711258-fe40-4bd9-e53c-8283a7174f4e"
      },
      "execution_count": 18,
      "outputs": [
        {
          "output_type": "stream",
          "name": "stdout",
          "text": [
            "RMSE: 0.8682\n"
          ]
        },
        {
          "output_type": "execute_result",
          "data": {
            "text/plain": [
              "0.8681952927143516"
            ]
          },
          "metadata": {},
          "execution_count": 18
        }
      ]
    },
    {
      "cell_type": "markdown",
      "source": [
        "### **Surprise 추천 알고리즘 클래스**\n",
        "---"
      ],
      "metadata": {
        "id": "Wot5Svcobn9A"
      }
    },
    {
      "cell_type": "markdown",
      "source": [
        ">Surprise에서 추천 예측을 위해 자주 사용되는 추천 알고리즘 클래스:\n",
        "* SVD: 행렬 분해를 통한 잠재 요인 협업 필터링을 위한 SVD 알고리즘\n",
        "* KNNBasic: 최근접 이웃 협업 필터링을 위한 KNN 알고리즘\n",
        "* BaselineOnly: 사용자 Bias와 아이템 Bias를 감안한 SGD 베이스라인 알고리즘"
      ],
      "metadata": {
        "id": "pucFU6eZbr1O"
      }
    },
    {
      "cell_type": "markdown",
      "source": [
        ">Surprise SVD의 비용 함수는 사용자 베이스라인(Baseline) 편향성을 감안한 평점 예측에 Regularization을 적용한 것.<br/>\n",
        "![image.png](data:image/png;base64,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)"
      ],
      "metadata": {
        "id": "DZd9F8OCdUtP"
      }
    },
    {
      "cell_type": "markdown",
      "source": [
        "![image.png](data:image/png;base64,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)"
      ],
      "metadata": {
        "id": "bYcy63YGdngw"
      }
    },
    {
      "cell_type": "markdown",
      "source": [
        ">SVD++ 알고리즘의 RMSE, MAE 성적이 가장 좋지만, 상대적으로 시간이 너무 오래 걸려 데이터가 조금만 더 커져도 사용하기 어려움<br/>\n",
        "SVD++를 제외하면 SVD와 k-NN Baseline이 가장 성능 평가 수치가 좋음.<br/>\n",
        "k-NN 자체는 성능이 상대적으로 뒤지지만, Baseline을 결합한 경우 성능 평가 수치 대폭 향상.<br/>\n",
        "Baseline이라는 의미는 각 개인이 평점을 부여하는 성향을 반영해 평점을 계산하는 방식 말함."
      ],
      "metadata": {
        "id": "q4rmbUYTdpnW"
      }
    },
    {
      "cell_type": "markdown",
      "source": [
        "### **베이스라인 평점**\n",
        "---"
      ],
      "metadata": {
        "id": "IkrmsTdGeLyo"
      }
    },
    {
      "cell_type": "markdown",
      "source": [
        ">베이스라인 평점(Baseline Rating): 개인의 성향을 반영해 아이템 평가에 편향성(bias) 요소를 반영하여 평점을 부과하는 것<br/>\n",
        "베이스라인 평점 = 전체 평균 평점 + 사용자 편향 점수 + 아이템 편향 점수\n",
        "* 전체 평균 평점 = 모든 사용자의 아이템에 대한 평점을 평균한 값\n",
        "* 사용자 편향 점수 = 사용자별 아이템 평점 평균 값 - 전체 평균 평점\n",
        "* 아이템 편향 점수 = 아이템별 평점 평균 값 - 전체 평균 평점"
      ],
      "metadata": {
        "id": "MJL4uzPYefB4"
      }
    },
    {
      "cell_type": "markdown",
      "source": [
        "### **교차 검증과 하이퍼 파라미터 튜닝**\n",
        "---"
      ],
      "metadata": {
        "id": "bO3qlw1be8Sm"
      }
    },
    {
      "cell_type": "code",
      "source": [
        "from surprise.model_selection import cross_validate\n",
        "\n",
        "ratings = pd.read_csv('/content/drive/MyDrive/ratings.csv')\n",
        "reader = Reader(rating_scale = (0.5,5.0))\n",
        "data = Dataset.load_from_df(ratings[['userId', 'movieId', 'rating']],reader)\n",
        "\n",
        "algo = SVD(random_state = 0)\n",
        "cross_validate(algo, data, measures = ['RMSE','MAE'],cv = 5, verbose = True)"
      ],
      "metadata": {
        "colab": {
          "base_uri": "https://localhost:8080/"
        },
        "id": "SUaonGhJdilK",
        "outputId": "c735e59b-4d1b-402d-d2a0-9db9c6e0b4dc"
      },
      "execution_count": 19,
      "outputs": [
        {
          "output_type": "stream",
          "name": "stdout",
          "text": [
            "Evaluating RMSE, MAE of algorithm SVD on 5 split(s).\n",
            "\n",
            "                  Fold 1  Fold 2  Fold 3  Fold 4  Fold 5  Mean    Std     \n",
            "RMSE (testset)    0.8766  0.8775  0.8652  0.8763  0.8705  0.8732  0.0047  \n",
            "MAE (testset)     0.6730  0.6725  0.6657  0.6734  0.6696  0.6708  0.0029  \n",
            "Fit time          6.14    6.39    5.36    5.31    5.41    5.72    0.45    \n",
            "Test time         0.25    0.26    0.14    0.33    0.16    0.23    0.07    \n"
          ]
        },
        {
          "output_type": "execute_result",
          "data": {
            "text/plain": [
              "{'test_rmse': array([0.87661003, 0.87748875, 0.86517576, 0.87628256, 0.87050123]),\n",
              " 'test_mae': array([0.67300752, 0.67251538, 0.66569249, 0.67339858, 0.66956859]),\n",
              " 'fit_time': (6.1429502964019775,\n",
              "  6.3932483196258545,\n",
              "  5.355567693710327,\n",
              "  5.306922197341919,\n",
              "  5.408476829528809),\n",
              " 'test_time': (0.2549445629119873,\n",
              "  0.2584049701690674,\n",
              "  0.13787460327148438,\n",
              "  0.3303844928741455,\n",
              "  0.16126632690429688)}"
            ]
          },
          "metadata": {},
          "execution_count": 19
        }
      ]
    },
    {
      "cell_type": "markdown",
      "source": [
        ">cross_validate()는 폴드별 성능 평가 수치와 전체 폴드의 평균 성능 평가 수치를 함께 보여줌."
      ],
      "metadata": {
        "id": "c1K5K_U-gDMV"
      }
    },
    {
      "cell_type": "code",
      "source": [
        "from surprise.model_selection import GridSearchCV\n",
        "\n",
        "# 최적화할 파라미터를 딕셔너리 형태로 지정.\n",
        "param_grid = {\n",
        "    'n_epochs': [20, 40, 60], \n",
        "    'n_factors': [50, 100, 200]\n",
        "}\n",
        "\n",
        "#CV를 3개 폴트 세트로 지정, 성능 평가는 rmse, mse로 수행하도록 GridSearchCV 구성\n",
        "gs = GridSearchCV(SVD, param_grid, measures = ['rmse', 'mae'],cv = 3)\n",
        "gs.fit(data)\n",
        "\n",
        "# 최고 RMSE Evaluation 점수와 그때의 하이퍼 파라미터\n",
        "print(gs.best_score['rmse'])\n",
        "print(gs.best_params['rmse'])"
      ],
      "metadata": {
        "colab": {
          "base_uri": "https://localhost:8080/"
        },
        "id": "Wi3UNm2EgS4m",
        "outputId": "1b101d54-6001-46cf-ae43-0a9db50690f4"
      },
      "execution_count": 20,
      "outputs": [
        {
          "output_type": "stream",
          "name": "stdout",
          "text": [
            "0.8787777652061353\n",
            "{'n_epochs': 20, 'n_factors': 50}\n"
          ]
        }
      ]
    },
    {
      "cell_type": "markdown",
      "source": [
        "### **Surprise를 이용한 개인화 영화 추천 시스템 구축**\n",
        "---"
      ],
      "metadata": {
        "id": "0TV8GibGgkol"
      }
    },
    {
      "cell_type": "markdown",
      "source": [
        ">Surprise를 이용해 잠재 요인 협업 필터링 기반의 개인화된 영화 추천 구현.<br/>\n",
        "Surprise 패키지로 학습된 추천 알고리즘을 기반으로 특정 사용자가 아직 평점을 매기지 않은(관람하지 않은) 영화 중 개인 취향에 가장 적절한 영화 추천."
      ],
      "metadata": {
        "id": "dd7hMYKIgpX-"
      }
    },
    {
      "cell_type": "code",
      "source": [
        "# 다음 코드는 train_test_split으로 분리되지 않는 데이터 세트에 fit()을 호출해 오류가 발생함.\n",
        "\n",
        "data = Dataset.load_from_df(ratings[['userId', 'movieId', 'rating']],reader)\n",
        "algo = SVD(n_factors = 50, random_state = 0)\n",
        "algo.fit(data)"
      ],
      "metadata": {
        "colab": {
          "base_uri": "https://localhost:8080/",
          "height": 290
        },
        "id": "U5Do1b0Ig4Mg",
        "outputId": "7b6c60c3-1de2-4910-a313-81651f85045a"
      },
      "execution_count": 21,
      "outputs": [
        {
          "output_type": "error",
          "ename": "AttributeError",
          "evalue": "ignored",
          "traceback": [
            "\u001b[0;31m---------------------------------------------------------------------------\u001b[0m",
            "\u001b[0;31mAttributeError\u001b[0m                            Traceback (most recent call last)",
            "\u001b[0;32m<ipython-input-21-553b2328ae4e>\u001b[0m in \u001b[0;36m<module>\u001b[0;34m\u001b[0m\n\u001b[1;32m      3\u001b[0m \u001b[0mdata\u001b[0m \u001b[0;34m=\u001b[0m \u001b[0mDataset\u001b[0m\u001b[0;34m.\u001b[0m\u001b[0mload_from_df\u001b[0m\u001b[0;34m(\u001b[0m\u001b[0mratings\u001b[0m\u001b[0;34m[\u001b[0m\u001b[0;34m[\u001b[0m\u001b[0;34m'userId'\u001b[0m\u001b[0;34m,\u001b[0m \u001b[0;34m'movieId'\u001b[0m\u001b[0;34m,\u001b[0m \u001b[0;34m'rating'\u001b[0m\u001b[0;34m]\u001b[0m\u001b[0;34m]\u001b[0m\u001b[0;34m,\u001b[0m\u001b[0mreader\u001b[0m\u001b[0;34m)\u001b[0m\u001b[0;34m\u001b[0m\u001b[0;34m\u001b[0m\u001b[0m\n\u001b[1;32m      4\u001b[0m \u001b[0malgo\u001b[0m \u001b[0;34m=\u001b[0m \u001b[0mSVD\u001b[0m\u001b[0;34m(\u001b[0m\u001b[0mn_factors\u001b[0m \u001b[0;34m=\u001b[0m \u001b[0;36m50\u001b[0m\u001b[0;34m,\u001b[0m \u001b[0mrandom_state\u001b[0m \u001b[0;34m=\u001b[0m \u001b[0;36m0\u001b[0m\u001b[0;34m)\u001b[0m\u001b[0;34m\u001b[0m\u001b[0;34m\u001b[0m\u001b[0m\n\u001b[0;32m----> 5\u001b[0;31m \u001b[0malgo\u001b[0m\u001b[0;34m.\u001b[0m\u001b[0mfit\u001b[0m\u001b[0;34m(\u001b[0m\u001b[0mdata\u001b[0m\u001b[0;34m)\u001b[0m\u001b[0;34m\u001b[0m\u001b[0;34m\u001b[0m\u001b[0m\n\u001b[0m",
            "\u001b[0;32m/usr/local/lib/python3.7/dist-packages/surprise/prediction_algorithms/matrix_factorization.pyx\u001b[0m in \u001b[0;36msurprise.prediction_algorithms.matrix_factorization.SVD.fit\u001b[0;34m()\u001b[0m\n",
            "\u001b[0;32m/usr/local/lib/python3.7/dist-packages/surprise/prediction_algorithms/matrix_factorization.pyx\u001b[0m in \u001b[0;36msurprise.prediction_algorithms.matrix_factorization.SVD.sgd\u001b[0;34m()\u001b[0m\n",
            "\u001b[0;31mAttributeError\u001b[0m: 'DatasetAutoFolds' object has no attribute 'global_mean'"
          ]
        }
      ]
    },
    {
      "cell_type": "code",
      "source": [
        "from surprise.dataset import DatasetAutoFolds\n",
        "\n",
        "reader = Reader(line_format = 'user item rating timestamp', sep = ',', rating_scale =(0.5,5))\n",
        "# DatasetAutoFolds 클래스를 ratings_noh.csv 파일 기반으로 생성.\n",
        "data_folds = DatasetAutoFolds(ratings_file = '/content/drive/MyDrive/ratings_noh.csv',reader = reader)\n",
        "\n",
        "#전체 데이터를 학습 데이터로 생성함.\n",
        "trainset = data_folds.build_full_trainset()"
      ],
      "metadata": {
        "id": "CXAm6XGnhAtp"
      },
      "execution_count": 22,
      "outputs": []
    },
    {
      "cell_type": "code",
      "source": [
        "# 생성된 학습 데이터를 기반으로 학습 수행 후 아직 보지 않은 영화 목록 확인\n",
        "# 먼저 SVD를 이용해 학습 수행.\n",
        "algo = SVD(n_epochs = 20, n_factors = 50, random_state = 0)\n",
        "algo.fit(trainset)"
      ],
      "metadata": {
        "colab": {
          "base_uri": "https://localhost:8080/"
        },
        "id": "MiP6c9oWhPCv",
        "outputId": "f38b77c5-a7e9-45fa-ea3a-18bd27d03133"
      },
      "execution_count": 23,
      "outputs": [
        {
          "output_type": "execute_result",
          "data": {
            "text/plain": [
              "<surprise.prediction_algorithms.matrix_factorization.SVD at 0x7f806fa9e790>"
            ]
          },
          "metadata": {},
          "execution_count": 23
        }
      ]
    },
    {
      "cell_type": "code",
      "source": [
        "# 영화에 대한 상세 속성 정보 DataFrame 로딩\n",
        "movies = pd.read_csv('/content/drive/MyDrive/movies.csv')\n",
        "\n",
        "# userId=9의 movieId 데이터를 추출해 movieId=42 데이터가 있는지 확인.\n",
        "movieIds = ratings[ratings['userId'] ==9]['movieId']\n",
        "\n",
        "if movieIds[movieIds==42].count() == 0:\n",
        "  print('사용자 아이디 9는 영화 아이디 42의 평점 없음')\n",
        "\n",
        "print(movies[movies['movieId'] == 42])"
      ],
      "metadata": {
        "colab": {
          "base_uri": "https://localhost:8080/"
        },
        "id": "NC0gY5lXhX_N",
        "outputId": "041de054-437a-4f60-e05c-4d232f8fbbdf"
      },
      "execution_count": 24,
      "outputs": [
        {
          "output_type": "stream",
          "name": "stdout",
          "text": [
            "사용자 아이디 9는 영화 아이디 42의 평점 없음\n",
            "    movieId                   title              genres\n",
            "38       42  Dead Presidents (1995)  Action|Crime|Drama\n"
          ]
        }
      ]
    },
    {
      "cell_type": "code",
      "source": [
        "# movieId=42인 이 영화에 대해 userId 9 사용자의 추천 예상 평점: predict() 메서드 이용\n",
        "uid = str(9)\n",
        "iid = str(42)\n",
        "\n",
        "pred = algo.predict(uid,iid,verbose = True)"
      ],
      "metadata": {
        "colab": {
          "base_uri": "https://localhost:8080/"
        },
        "id": "aEnCB5UphsDv",
        "outputId": "ff87ac26-43a0-4ec5-bc87-5dca865ad226"
      },
      "execution_count": 25,
      "outputs": [
        {
          "output_type": "stream",
          "name": "stdout",
          "text": [
            "user: 9          item: 42         r_ui = None   est = 3.13   {'was_impossible': False}\n"
          ]
        }
      ]
    },
    {
      "cell_type": "code",
      "source": [
        "# 이제 사용자가 평점을 매기지 않은 전체 영화 추출 뒤 예측 평점 순으로 영화 추천.\n",
        "# 먼저 추천 대상이 되는 영화 추출.\n",
        "def get_unseen_surprise(ratings, movies, userId):\n",
        "  # 입력값으로 들어온 userId에 해당하는 사용자가 평점을 매긴 모든 영화를 리스트로 생성.\n",
        "  seen_movies = ratings[ratings['userId'] == userId]['movieId'].tolist()\n",
        "\n",
        "  # 모든 영화의 movieId를 리스트로 생성.\n",
        "  total_movies = movies['movieId'].tolist()\n",
        "  \n",
        "  # 모든 영화의 movieId 중 이미 평점을 매긴 영화의 movieId를 제외한 후 리스트로 생성\n",
        "  unseen_movies = [movie for movie in total_movies if movie not in seen_movies]\n",
        "  print('평점 매긴 영화 수 :', len(seen_movies), '추천 대상 영화 수:', len(unseen_movies),\n",
        "        '전체 영화 수:', len(total_movies))\n",
        "\n",
        "  return unseen_movies\n",
        "\n",
        "unseen_movies = get_unseen_surprise(ratings, movies, 9)"
      ],
      "metadata": {
        "colab": {
          "base_uri": "https://localhost:8080/"
        },
        "id": "m5oZ-RyBh0q2",
        "outputId": "5951c3d6-2c2f-4584-adff-660a0f31a367"
      },
      "execution_count": 26,
      "outputs": [
        {
          "output_type": "stream",
          "name": "stdout",
          "text": [
            "평점 매긴 영화 수 : 46 추천 대상 영화 수: 9696 전체 영화 수: 9742\n"
          ]
        }
      ]
    },
    {
      "cell_type": "markdown",
      "source": [
        "> 사용자 아이디 9번은 전체 9742개의 영화 중 46개만 평점을 매김."
      ],
      "metadata": {
        "id": "cWHHPwSHib5K"
      }
    },
    {
      "cell_type": "code",
      "source": [
        "def recomm_movie_by_surprise(algo,userId, unseen_movies, top_n = 10):\n",
        "\n",
        "  # 알고리즘 객체의 predict() 메서드를 평점이 없는 영화에 반복 수행한 후 결과를 list 객체로 저장\n",
        "  predictions = [algo.predict(str(userId), str(movieId)) for movieId in unseen_movies]\n",
        "\n",
        "  # prediction list 객체는 surprise의 Prediction 객체를 원소로 가지고 있음\n",
        "  # [Prediction(uid='9', iid='1', est=3.69), Prediction(uid='9', iid='2', est=2.98),,,,]\n",
        "  \n",
        "  # 이를 est 값으로 정렬하기 위해서 아래의 sortkey_est 함수를 정의함.\n",
        "  def sortkey_est(pred) :\n",
        "    return pred.est\n",
        "\n",
        "  # sortkey_est() 반환값의 내림 차순으로 정렬 수행하고 top_n개의 최상위 값 추출.\n",
        "  predictions.sort(key = sortkey_est, reverse = True)\n",
        "  top_predictions = predictions[:top_n]\n",
        "\n",
        "  # top_n으로 추출된 영화의 정보 추출, 영화 아이디, 추천 예상 평점, 제목 추출\n",
        "  top_movie_ids = [int(pred.iid) for pred in top_predictions]\n",
        "  top_movie_rating = [pred.est for pred in top_predictions]\n",
        "  top_movie_titles = movies[movies.movieId.isin(top_movie_ids)]['title']\n",
        "\n",
        "  top_movie_preds = [ (id, title, rating) for id, title, rating in \n",
        "                     zip(top_movie_ids, top_movie_titles, top_movie_rating)]\n",
        "\n",
        "  return top_movie_preds\n",
        "\n",
        "unseen_movies = get_unseen_surprise(ratings, movies, 9)\n",
        "top_movie_preds = recomm_movie_by_surprise(algo, 9, unseen_movies, top_n = 10)\n",
        "\n",
        "print('##### Top-10 추천 영화 리스트 #####')\n",
        "for top_movie in top_movie_preds :\n",
        "  print(top_movie[1], \":\", top_movie[2])"
      ],
      "metadata": {
        "colab": {
          "base_uri": "https://localhost:8080/"
        },
        "id": "oBcLVeCciiln",
        "outputId": "7b121b84-84e1-4c4b-89a1-f3bafa3a8b21"
      },
      "execution_count": 27,
      "outputs": [
        {
          "output_type": "stream",
          "name": "stdout",
          "text": [
            "평점 매긴 영화 수 : 46 추천 대상 영화 수: 9696 전체 영화 수: 9742\n",
            "##### Top-10 추천 영화 리스트 #####\n",
            "Usual Suspects, The (1995) : 4.306302135700814\n",
            "Star Wars: Episode IV - A New Hope (1977) : 4.281663842987387\n",
            "Pulp Fiction (1994) : 4.278152632122759\n",
            "Silence of the Lambs, The (1991) : 4.226073566460876\n",
            "Godfather, The (1972) : 4.1918097904381995\n",
            "Streetcar Named Desire, A (1951) : 4.154746591122658\n",
            "Star Wars: Episode V - The Empire Strikes Back (1980) : 4.122016128534504\n",
            "Star Wars: Episode VI - Return of the Jedi (1983) : 4.108009609093436\n",
            "Goodfellas (1990) : 4.083464936588478\n",
            "Glory (1989) : 4.07887165526957\n"
          ]
        }
      ]
    }
  ]
}