{
  "nbformat": 4,
  "nbformat_minor": 0,
  "metadata": {
    "colab": {
      "provenance": [],
      "authorship_tag": "ABX9TyOksKbtmQN1GhvW7ExMQUOj",
      "include_colab_link": true
    },
    "kernelspec": {
      "name": "python3",
      "display_name": "Python 3"
    },
    "language_info": {
      "name": "python"
    }
  },
  "cells": [
    {
      "cell_type": "markdown",
      "metadata": {
        "id": "view-in-github",
        "colab_type": "text"
      },
      "source": [
        "<a href=\"https://colab.research.google.com/github/jeekyung/ESAA/blob/main/ESAA_OB_week14_%ED%8C%8C%EC%9D%B4%EC%8D%AC_%EB%94%A5%EB%9F%AC%EB%8B%9D_%ED%85%90%EC%84%9C%ED%94%8C%EB%A1%9C_ch3_6~7_pg_105~115.ipynb\" target=\"_parent\"><img src=\"https://colab.research.google.com/assets/colab-badge.svg\" alt=\"Open In Colab\"/></a>"
      ]
    },
    {
      "cell_type": "markdown",
      "source": [
        "## **06. 모델 저장 및 불러오기**\n",
        "---"
      ],
      "metadata": {
        "id": "3a5GynCzXz2Z"
      }
    },
    {
      "cell_type": "code",
      "execution_count": 16,
      "metadata": {
        "colab": {
          "base_uri": "https://localhost:8080/"
        },
        "id": "hM8SktjVXh1N",
        "outputId": "4935c9e5-cc63-4672-8d9c-bbf1f211eb59"
      },
      "outputs": [
        {
          "output_type": "stream",
          "name": "stdout",
          "text": [
            "Epoch 1/10\n",
            "1875/1875 [==============================] - 8s 4ms/step - loss: 0.9672 - accuracy: 0.7895 - val_loss: 0.3300 - val_accuracy: 0.9202\n",
            "Epoch 2/10\n",
            "1875/1875 [==============================] - 7s 4ms/step - loss: 0.2657 - accuracy: 0.9312 - val_loss: 0.2353 - val_accuracy: 0.9404\n",
            "Epoch 3/10\n",
            "1875/1875 [==============================] - 8s 5ms/step - loss: 0.1774 - accuracy: 0.9521 - val_loss: 0.1733 - val_accuracy: 0.9545\n",
            "Epoch 4/10\n",
            "1875/1875 [==============================] - 8s 4ms/step - loss: 0.1300 - accuracy: 0.9636 - val_loss: 0.1574 - val_accuracy: 0.9572\n",
            "Epoch 5/10\n",
            "1875/1875 [==============================] - 9s 5ms/step - loss: 0.1125 - accuracy: 0.9684 - val_loss: 0.1605 - val_accuracy: 0.9611\n",
            "Epoch 6/10\n",
            "1875/1875 [==============================] - 8s 4ms/step - loss: 0.1042 - accuracy: 0.9720 - val_loss: 0.1138 - val_accuracy: 0.9703\n",
            "Epoch 7/10\n",
            "1875/1875 [==============================] - 9s 5ms/step - loss: 0.0859 - accuracy: 0.9762 - val_loss: 0.1174 - val_accuracy: 0.9726\n",
            "Epoch 8/10\n",
            "1875/1875 [==============================] - 9s 5ms/step - loss: 0.0735 - accuracy: 0.9795 - val_loss: 0.1328 - val_accuracy: 0.9667\n",
            "Epoch 9/10\n",
            "1875/1875 [==============================] - 8s 4ms/step - loss: 0.0651 - accuracy: 0.9820 - val_loss: 0.1157 - val_accuracy: 0.9713\n",
            "Epoch 10/10\n",
            "1875/1875 [==============================] - 9s 5ms/step - loss: 0.0643 - accuracy: 0.9825 - val_loss: 0.1109 - val_accuracy: 0.9753\n"
          ]
        },
        {
          "output_type": "execute_result",
          "data": {
            "text/plain": [
              "<keras.callbacks.History at 0x7f4079a6c670>"
            ]
          },
          "metadata": {},
          "execution_count": 16
        }
      ],
      "source": [
        "import tensorflow as tf\n",
        "\n",
        "# 케라스의 내장 데이터셋에서 mnist 데이터셋 로드\n",
        "mnist = tf.keras.datasets.mnist\n",
        "\n",
        "# load_data()로 데이터셋 로드\n",
        "(x_train,y_train),(x_test,y_test) = mnist.load_data()\n",
        "\n",
        "# Dense 레이어와 relu 활성화 함수 레이어를 별도 적용한 경우\n",
        "model=tf.keras.Sequential([\n",
        "    tf.keras.layers.Dense(128),\n",
        "    tf.keras.layers.Activation('relu')\n",
        "])\n",
        "\n",
        "model = tf.keras.Sequential([\n",
        "    tf.keras.layers.Flatten(input_shape=(28,28)),\n",
        "    tf.keras.layers.Dense(256,activation='relu'),\n",
        "    tf.keras.layers.Dense(64,activation='relu'),\n",
        "    tf.keras.layers.Dense(32,activation='relu'),\n",
        "    # 노드 = 10개(클래스 개수와 동일)\n",
        "    tf.keras.layers.Dense(10,activation='softmax')\n",
        "])\n",
        "\n",
        "model.compile(optimizer='adam',\n",
        "              loss='sparse_categorical_crossentropy',\n",
        "              metrics=['accuracy'])\n",
        "\n",
        "# 훈련\n",
        "model.fit(x_train,y_train,\n",
        "          #검증 세트 지정\n",
        "          validation_data=(x_test,y_test),\n",
        "          epochs=10\n",
        "          )"
      ]
    },
    {
      "cell_type": "markdown",
      "source": [
        "### **6-1 모델을 파일로 저장**"
      ],
      "metadata": {
        "id": "GAU5EogCZHzf"
      }
    },
    {
      "cell_type": "markdown",
      "source": [
        ">훈련을 종료하여 가중치가 업데이트된 모델 인스턴스를 저장ㅎ라 수 있음.<br/>\n",
        "모델을 저장하는 형식은 HDF5 포맷과 SavedModel 포멧 두 가지 존재<br/>\n",
        "HDF5 파일 형식은 대용량의 데이터를 저장하기 위한 파일 형식"
      ],
      "metadata": {
        "id": "I5nsxAzAZL1X"
      }
    },
    {
      "cell_type": "code",
      "source": [
        "# 모델을 h5 포맷으로 저장\n",
        "model.save('h5-model.h5')"
      ],
      "metadata": {
        "id": "GnVJ5xdIYJSx"
      },
      "execution_count": 17,
      "outputs": []
    },
    {
      "cell_type": "markdown",
      "source": [
        "### **6-2 저장된 모델 복원**"
      ],
      "metadata": {
        "id": "9xohc8MsZgy_"
      }
    },
    {
      "cell_type": "code",
      "source": [
        "# 모델 복원\n",
        "h5_model = tf.keras.models.load_model('h5-model.h5')\n",
        "h5_model.summary()"
      ],
      "metadata": {
        "colab": {
          "base_uri": "https://localhost:8080/"
        },
        "id": "mvJKMeV9Zfno",
        "outputId": "b5be71f3-9c91-4274-86aa-f8f52eeca06d"
      },
      "execution_count": 18,
      "outputs": [
        {
          "output_type": "stream",
          "name": "stdout",
          "text": [
            "Model: \"sequential_9\"\n",
            "_________________________________________________________________\n",
            " Layer (type)                Output Shape              Param #   \n",
            "=================================================================\n",
            " flatten_4 (Flatten)         (None, 784)               0         \n",
            "                                                                 \n",
            " dense_21 (Dense)            (None, 256)               200960    \n",
            "                                                                 \n",
            " dense_22 (Dense)            (None, 64)                16448     \n",
            "                                                                 \n",
            " dense_23 (Dense)            (None, 32)                2080      \n",
            "                                                                 \n",
            " dense_24 (Dense)            (None, 10)                330       \n",
            "                                                                 \n",
            "=================================================================\n",
            "Total params: 219,818\n",
            "Trainable params: 219,818\n",
            "Non-trainable params: 0\n",
            "_________________________________________________________________\n"
          ]
        }
      ]
    },
    {
      "cell_type": "code",
      "source": [
        "# 모델 검증하여 복원 잘되었는지 확인\n",
        "loss, acc = h5_model.evaluate(x_test,y_test,verbose=0)\n",
        "print(f'h5 model]loss: {loss:.5f},acc:{acc:.5f}')"
      ],
      "metadata": {
        "colab": {
          "base_uri": "https://localhost:8080/"
        },
        "id": "TOEl8LZRZpfI",
        "outputId": "95cc7930-5293-4b5b-e4bf-3b3d29ac3c2c"
      },
      "execution_count": 19,
      "outputs": [
        {
          "output_type": "stream",
          "name": "stdout",
          "text": [
            "h5 model]loss: 0.11088,acc:0.97530\n"
          ]
        }
      ]
    },
    {
      "cell_type": "code",
      "source": [
        "# 모델을 SavedModel 포맷으로 저장\n",
        "model.save('saved-model')"
      ],
      "metadata": {
        "id": "k5r0-NytZ5EZ"
      },
      "execution_count": 20,
      "outputs": []
    },
    {
      "cell_type": "code",
      "source": [
        "# 모델 복원\n",
        "saved_model = tf.keras.models.load_model('saved-model')\n",
        "saved_model.summary()"
      ],
      "metadata": {
        "colab": {
          "base_uri": "https://localhost:8080/"
        },
        "id": "_Fi1o80qbwLK",
        "outputId": "9b8b7dfc-b14f-43ae-bdb5-528595d2e8e7"
      },
      "execution_count": 21,
      "outputs": [
        {
          "output_type": "stream",
          "name": "stdout",
          "text": [
            "Model: \"sequential_9\"\n",
            "_________________________________________________________________\n",
            " Layer (type)                Output Shape              Param #   \n",
            "=================================================================\n",
            " flatten_4 (Flatten)         (None, 784)               0         \n",
            "                                                                 \n",
            " dense_21 (Dense)            (None, 256)               200960    \n",
            "                                                                 \n",
            " dense_22 (Dense)            (None, 64)                16448     \n",
            "                                                                 \n",
            " dense_23 (Dense)            (None, 32)                2080      \n",
            "                                                                 \n",
            " dense_24 (Dense)            (None, 10)                330       \n",
            "                                                                 \n",
            "=================================================================\n",
            "Total params: 219,818\n",
            "Trainable params: 219,818\n",
            "Non-trainable params: 0\n",
            "_________________________________________________________________\n"
          ]
        }
      ]
    },
    {
      "cell_type": "code",
      "source": [
        "# 모델 검증(HDF5 포맷)\n",
        "loss, acc = h5_model.evaluate(x_test,y_test,verbose=0)\n",
        "print(f'h5 model] loss:{loss:.5f}, acc:{acc:.5f}')\n",
        "\n",
        "# 모델 검증(SavedModel 포맷)\n",
        "loss, acc = saved_model.evaluate(x_test,y_test,verbose=0)\n",
        "print(f'saved model] loss:{loss:.5f}, acc:{acc:.5f}')"
      ],
      "metadata": {
        "colab": {
          "base_uri": "https://localhost:8080/"
        },
        "id": "_nxCb-drb2lK",
        "outputId": "c6b73779-3c93-4d60-b3d5-09cab06994b6"
      },
      "execution_count": 22,
      "outputs": [
        {
          "output_type": "stream",
          "name": "stdout",
          "text": [
            "h5 model] loss:0.11088, acc:0.97530\n",
            "saved model] loss:0.11088, acc:0.97530\n"
          ]
        }
      ]
    },
    {
      "cell_type": "markdown",
      "source": [
        "## **07 복잡한 모델 생성**\n",
        "---"
      ],
      "metadata": {
        "id": "Ynjx2UE6cMKH"
      }
    },
    {
      "cell_type": "markdown",
      "source": [
        "### **7-1 함수형 API(Function API)**"
      ],
      "metadata": {
        "id": "xDLmUslZcPVe"
      }
    },
    {
      "cell_type": "markdown",
      "source": [
        ">함수 형태로 딥러닝 모델 정의하면 다양한 모델 구조 구현 가능.<br/>\n",
        "여러 층을 시퀀스 형태로 연결하는 Sequential API와 다르게, Functional API는 복잡한 구조의 모델 정의 가능.<br/>\n",
        "![image.png](data:image/png;base64,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)"
      ],
      "metadata": {
        "id": "eeoYdCNqcUUZ"
      }
    },
    {
      "cell_type": "markdown",
      "source": [
        ">함스의 입력 매개변수를 여러 개 갖는 다중 입력, 함수의 return 값을 여러 개 갖는 다중 출력, 같은 레벨에 여러 개의 층을 배치하여 입력과 출력을 공유하는 구조 등 가능"
      ],
      "metadata": {
        "id": "m8Fev_UBcmGh"
      }
    },
    {
      "cell_type": "markdown",
      "source": [
        "* Sequential API를 사용하는 경우 단방향의 Sequential 모델만 구현할 수 있다는 제약 존재<br/>\n",
        "(데이터 흐름이 특정 레이어를 건너뛰거나 병합, 분리 등의 구조 모델 구현 불가)"
      ],
      "metadata": {
        "id": "gExZB8YkcyO4"
      }
    },
    {
      "cell_type": "code",
      "source": [
        "# 기존에 Sequential API로 구현한 mnist 분류기 모델을 함수형 API로 동일하게 구현\n",
        "import tensorflow as tf\n",
        "\n",
        "# 케라스의 내장 데이터셋에서 mnist 데이터셋 로드\n",
        "mnist = tf.keras.dataset.mnist"
      ],
      "metadata": {
        "id": "_fdgeIf1cKyp"
      },
      "execution_count": null,
      "outputs": []
    },
    {
      "cell_type": "markdown",
      "source": [
        "* 함수형 API를 사용하기 위해 먼저 input 레이어 정의.\n",
        "* input 레이어에 데이터의 입력 shape를 정의하고 레이어마다 반환되는 출력값을 변수에 저장한 뒤 다음 레이어의 입력으로 연결\n",
        "* 이렇게 여러 개의 레이어를 마치 체인 구조로 입출력 계속 연결"
      ],
      "metadata": {
        "id": "Y2DxMl8ndOVn"
      }
    },
    {
      "cell_type": "code",
      "source": [
        "# 모델의 레이어를 체인 구조로 연결 input 레이어 정의\n",
        "input_layer = tf.keras.Input(shape=(28,28), name='InputLayer')\n",
        "\n",
        "# 모델의 레이어를 체인 구조로 연결\n",
        "x1 = tf.keras.layers.Flatten(name='Flatten')(input_layer)\n",
        "x2 = tf.keras.layers.Dense(256, activation='relu',name='Dense1')(x1)\n",
        "x3 = tf.keras.layers.Dense(64, activation='relu',name='Dense2')(x2)\n",
        "x4 = tf.keras.layers.Dense(10, activation='softmax',name='OutputLayer')(x3)"
      ],
      "metadata": {
        "id": "2RYKViDOdNaM"
      },
      "execution_count": 23,
      "outputs": []
    },
    {
      "cell_type": "markdown",
      "source": [
        "* 레이어마다 name 매개변수로 이름 부여 가능. 모델 인스턴스에 대하여 summary()로 요약 출력 시 이름 함께 출력됨"
      ],
      "metadata": {
        "id": "-Jwfxzwvd4gl"
      }
    },
    {
      "cell_type": "code",
      "source": [
        "# 모델 생성\n",
        "func_model = tf.keras.Model(inputs=input_layer, outputs=x4, name='FunctionalModel')\n",
        "\n",
        "# 모델 요약\n",
        "func_model.summary()"
      ],
      "metadata": {
        "colab": {
          "base_uri": "https://localhost:8080/"
        },
        "id": "I0JJgX2Xd1Av",
        "outputId": "53c622f1-1358-4209-a190-e4e874f5822d"
      },
      "execution_count": 24,
      "outputs": [
        {
          "output_type": "stream",
          "name": "stdout",
          "text": [
            "Model: \"FunctionalModel\"\n",
            "_________________________________________________________________\n",
            " Layer (type)                Output Shape              Param #   \n",
            "=================================================================\n",
            " InputLayer (InputLayer)     [(None, 28, 28)]          0         \n",
            "                                                                 \n",
            " Flatten (Flatten)           (None, 784)               0         \n",
            "                                                                 \n",
            " Dense1 (Dense)              (None, 256)               200960    \n",
            "                                                                 \n",
            " Dense2 (Dense)              (None, 64)                16448     \n",
            "                                                                 \n",
            " OutputLayer (Dense)         (None, 10)                650       \n",
            "                                                                 \n",
            "=================================================================\n",
            "Total params: 218,058\n",
            "Trainable params: 218,058\n",
            "Non-trainable params: 0\n",
            "_________________________________________________________________\n"
          ]
        }
      ]
    },
    {
      "cell_type": "code",
      "source": [
        "# 복잡한 구조를 가지는 모델 생성 시 시각화에 summary() 대신 plot_model 활용\n",
        "from tensorflow.keras.utils import plot_model\n",
        "\n",
        "# 구조도 시각화\n",
        "plot_model(func_model, show_shapes=True, show_layer_names=True, to_file='model.png')"
      ],
      "metadata": {
        "colab": {
          "base_uri": "https://localhost:8080/",
          "height": 533
        },
        "id": "j5eAs5-ueFxH",
        "outputId": "5afdab61-ec3d-4c1a-8a51-89cd3580fca0"
      },
      "execution_count": 25,
      "outputs": [
        {
          "output_type": "execute_result",
          "data": {
            "image/png": "[encoded data removed]",
            "text/plain": [
              "<IPython.core.display.Image object>"
            ]
          },
          "metadata": {},
          "execution_count": 25
        }
      ]
    },
    {
      "cell_type": "code",
      "source": [
        "# 컴파일\n",
        "func_model.compile(optimizer='adam', loss='sparse_categorical_crossentropy',\n",
        "                   metrics=['accuracy'])\n",
        "\n",
        "# 훈련\n",
        "func_model.fit(x_train,y_train,epochs=3)\n",
        "\n",
        "# 검증\n",
        "loss, acc = func_model.evaluate(x_test,y_test,verbose=0)\n",
        "print(f'Functional Model] loss:{loss:.5f}, acc: {acc:.5f}')"
      ],
      "metadata": {
        "colab": {
          "base_uri": "https://localhost:8080/"
        },
        "id": "bBRSCibYeXXn",
        "outputId": "69b25582-7005-4c4e-ffd8-caacb83d7013"
      },
      "execution_count": 27,
      "outputs": [
        {
          "output_type": "stream",
          "name": "stdout",
          "text": [
            "Epoch 1/3\n",
            "1875/1875 [==============================] - 8s 4ms/step - loss: 1.2759 - accuracy: 0.8075\n",
            "Epoch 2/3\n",
            "1875/1875 [==============================] - 7s 4ms/step - loss: 0.3377 - accuracy: 0.9170\n",
            "Epoch 3/3\n",
            "1875/1875 [==============================] - 7s 4ms/step - loss: 0.2256 - accuracy: 0.9420\n",
            "Functional Model] loss:0.19421, acc: 0.95040\n"
          ]
        }
      ]
    },
    {
      "cell_type": "markdown",
      "source": [
        "### **7-2 모델 서브클래싱(Model Subclassing)**"
      ],
      "metadata": {
        "id": "FaYaWwm6eu1O"
      }
    },
    {
      "cell_type": "markdown",
      "source": [
        ">텐서플로 케라스는 model 클래스를 제공하고, 이를 기반으로 ㄹ딥러닝 모델 구현함. 이 클래스를 직접 상속받아 사용자가 직접 서브클래스로 딥러닝 모델 생성 가능."
      ],
      "metadata": {
        "id": "9bEZVxUyezRu"
      }
    },
    {
      "cell_type": "code",
      "source": [
        "# model subclassing으로 모델 인스턴스를 생성하기 위해 tf.keras.Model을 상속받아\n",
        "# 생성하고자 하는 모델 클래스 구현\n",
        "class MyModel(tf.keras.Model):\n",
        "  def __init__(self):\n",
        "    super(MyModel, self).__init__()\n",
        "    # 초기값 설정\n",
        "    self.flatten = tf.keras.layers.Flatten()\n",
        "    self.dense1 = tf.keras.layers.Dense(256, activation='relu')\n",
        "    self.dense2 = tf.keras.layers.Dense(64,activation='relu')\n",
        "    self.dense3 = tf.keras.layers.Dense(10,activation='softmax')\n",
        "  \n",
        "  # moethod overiding\n",
        "  # 훈련용 함수 정의\n",
        "  # x는 input\n",
        "  def call(self, x):\n",
        "    x = self.flatten(x)\n",
        "    x = self.dense1(x)\n",
        "    x = self.dense2(x)\n",
        "    x = self.dense3(x)\n",
        "    return x"
      ],
      "metadata": {
        "id": "PRFbZHF_ervZ"
      },
      "execution_count": 28,
      "outputs": []
    },
    {
      "cell_type": "markdown",
      "source": [
        "* call() 함수를 메소드 오버라이딩으로 구현"
      ],
      "metadata": {
        "id": "s8llYZm5fhgf"
      }
    },
    {
      "cell_type": "code",
      "source": [
        "# 모델 생성\n",
        "mymodel = MyModel()\n",
        "\n",
        "# 모델의 이름 설정\n",
        "mymodel._name = 'subclass_model'\n",
        "\n",
        "# 모델 input 정의\n",
        "mymodel(tf.keras.layers.Input(shape=(28,28)))\n",
        "\n",
        "# 모델 요약\n",
        "mymodel.summary()"
      ],
      "metadata": {
        "colab": {
          "base_uri": "https://localhost:8080/"
        },
        "id": "MMPl5tYjfgHu",
        "outputId": "5e6bb5d9-9a55-4fe2-975c-c59deb008df7"
      },
      "execution_count": 30,
      "outputs": [
        {
          "output_type": "stream",
          "name": "stdout",
          "text": [
            "Model: \"subclass_model\"\n",
            "_________________________________________________________________\n",
            " Layer (type)                Output Shape              Param #   \n",
            "=================================================================\n",
            " flatten_6 (Flatten)         multiple                  0         \n",
            "                                                                 \n",
            " dense_28 (Dense)            multiple                  200960    \n",
            "                                                                 \n",
            " dense_29 (Dense)            multiple                  16448     \n",
            "                                                                 \n",
            " dense_30 (Dense)            multiple                  650       \n",
            "                                                                 \n",
            "=================================================================\n",
            "Total params: 218,058\n",
            "Trainable params: 218,058\n",
            "Non-trainable params: 0\n",
            "_________________________________________________________________\n"
          ]
        }
      ]
    },
    {
      "cell_type": "markdown",
      "source": [
        "* tf.keras.Model을 상속받아 구현한 모델인 MyModel을 생성자로 인스턴스 생성."
      ],
      "metadata": {
        "id": "LdXg-huBfxS4"
      }
    },
    {
      "cell_type": "code",
      "source": [
        "# 컴파일\n",
        "mymodel.compile(optimizer='adam', loss='sparse_categorical_crossentropy',\n",
        "                metrics=['accuracy'])\n",
        "\n",
        "# 훈련\n",
        "mymodel.fit(x_train,y_train,epochs=3)\n",
        "\n",
        "# 검증\n",
        "loss, acc = mymodel.evaluate(x_test, y_test, verbose=0)\n",
        "print(f'Subclassing Model] loss:{loss:.5f}, acc: {acc:.5f}')"
      ],
      "metadata": {
        "colab": {
          "base_uri": "https://localhost:8080/"
        },
        "id": "85soXfxdfnB-",
        "outputId": "66b9a2bc-7ff5-46d6-8577-3e87403ba8b1"
      },
      "execution_count": 31,
      "outputs": [
        {
          "output_type": "stream",
          "name": "stdout",
          "text": [
            "Epoch 1/3\n",
            "1875/1875 [==============================] - 7s 3ms/step - loss: 1.2162 - accuracy: 0.8259\n",
            "Epoch 2/3\n",
            "1875/1875 [==============================] - 7s 4ms/step - loss: 0.3213 - accuracy: 0.9180\n",
            "Epoch 3/3\n",
            "1875/1875 [==============================] - 6s 3ms/step - loss: 0.2176 - accuracy: 0.9425\n",
            "Subclassing Model] loss:0.19478, acc: 0.95320\n"
          ]
        }
      ]
    },
    {
      "cell_type": "markdown",
      "source": [
        "### **7-3 서브클래싱 모델 파라미터를 활용한 생성**"
      ],
      "metadata": {
        "id": "PdKGsiEQgKSf"
      }
    },
    {
      "cell_type": "markdown",
      "source": [
        "* Model Subclassing으로 생성하는 장점은 생성자 파라미터로 모델 내부 레이어의 하이퍼파라미터를 지정할 수 있다는 점"
      ],
      "metadata": {
        "id": "WSGgDiKNgNcf"
      }
    },
    {
      "cell_type": "code",
      "source": [
        "# 모델의 생성자 파라미터를 추가하여 동적으로 레이어의 유닛 개수를 초기화하는 예제\n",
        "class MyModel(tf.keras.Model):\n",
        "\n",
        "  #생성자 파라미터 추가\n",
        "  def __init__(self,units,num_classes):\n",
        "    super(MyModel, self).__init__()\n",
        "    # 초기값 설정\n",
        "    self.flatten = tf.keras.layers.Flatten()\n",
        "    self.dense1 = tf.keras.layers.Dense(units, activation = 'relu')\n",
        "    self.dense2 = tf.keras.layers.Dense(units/4, activation='relu')\n",
        "    self.dense3 = tf.keras.layers.Dense(num_classes, activation='softmax')\n",
        "  \n",
        "  # class overiding\n",
        "  # 훈련용 함수 저의\n",
        "  # x는 input\n",
        "  def call(self,x):\n",
        "    x = self.flatten(x)\n",
        "    x = self.dense1(x)\n",
        "    x = self.dense2(x)\n",
        "    x = self.dense3(x)\n",
        "    return x"
      ],
      "metadata": {
        "id": "9Rnz5takgIJm"
      },
      "execution_count": 33,
      "outputs": []
    },
    {
      "cell_type": "code",
      "source": [
        "# 모델 생성\n",
        "mymodel = MyModel(256,10)\n",
        "\n",
        "# 모델 input 정의\n",
        "mymodel(tf.keras.layers.Input(shape=(28,28)))\n",
        "\n",
        "# 모델 요약\n",
        "mymodel.summary()"
      ],
      "metadata": {
        "colab": {
          "base_uri": "https://localhost:8080/"
        },
        "id": "UppxePYOghKA",
        "outputId": "c9bf901d-7dc2-488f-80df-2f212a6ec957"
      },
      "execution_count": 34,
      "outputs": [
        {
          "output_type": "stream",
          "name": "stdout",
          "text": [
            "Model: \"my_model_2\"\n",
            "_________________________________________________________________\n",
            " Layer (type)                Output Shape              Param #   \n",
            "=================================================================\n",
            " flatten_7 (Flatten)         multiple                  0         \n",
            "                                                                 \n",
            " dense_31 (Dense)            multiple                  200960    \n",
            "                                                                 \n",
            " dense_32 (Dense)            multiple                  16448     \n",
            "                                                                 \n",
            " dense_33 (Dense)            multiple                  650       \n",
            "                                                                 \n",
            "=================================================================\n",
            "Total params: 218,058\n",
            "Trainable params: 218,058\n",
            "Non-trainable params: 0\n",
            "_________________________________________________________________\n"
          ]
        }
      ]
    },
    {
      "cell_type": "code",
      "source": [
        "# 컴파일\n",
        "mymodel.compile(optimizer='adam', loss='sparse_categorical_crossentropy',\n",
        "                metrics=['accuracy'])\n",
        "\n",
        "# 훈련\n",
        "mymodel.fit(x_train,y_train,epochs=3)\n",
        "\n",
        "# 검증\n",
        "loss, acc = mymodel.evaluate(x_test, y_test, verbose=0)\n",
        "print(f'Subclassing Model w.parameters] loss:{loss:.5f}, acc: {acc:.5f}')"
      ],
      "metadata": {
        "colab": {
          "base_uri": "https://localhost:8080/"
        },
        "id": "CYTC6aMIhA4R",
        "outputId": "3e1cea53-8f78-4697-bd52-50e3752bf389"
      },
      "execution_count": 35,
      "outputs": [
        {
          "output_type": "stream",
          "name": "stdout",
          "text": [
            "Epoch 1/3\n",
            "1875/1875 [==============================] - 7s 4ms/step - loss: 1.5422 - accuracy: 0.8493\n",
            "Epoch 2/3\n",
            "1875/1875 [==============================] - 5s 3ms/step - loss: 0.3183 - accuracy: 0.9194\n",
            "Epoch 3/3\n",
            "1875/1875 [==============================] - 6s 3ms/step - loss: 0.2134 - accuracy: 0.9442\n",
            "Subclassing Model w.parameters] loss:0.20726, acc: 0.94480\n"
          ]
        }
      ]
    }
  ]
}