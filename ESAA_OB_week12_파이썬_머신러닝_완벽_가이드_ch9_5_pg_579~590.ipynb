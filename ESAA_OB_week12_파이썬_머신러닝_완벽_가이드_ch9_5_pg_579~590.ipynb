{
  "nbformat": 4,
  "nbformat_minor": 0,
  "metadata": {
    "colab": {
      "provenance": [],
      "mount_file_id": "1QWYszXK5d6dlmynrQqCZH28AguJSqWGB",
      "authorship_tag": "ABX9TyPMc8fOe0HJiIH1jFwts38D",
      "include_colab_link": true
    },
    "kernelspec": {
      "name": "python3",
      "display_name": "Python 3"
    },
    "language_info": {
      "name": "python"
    }
  },
  "cells": [
    {
      "cell_type": "markdown",
      "metadata": {
        "id": "view-in-github",
        "colab_type": "text"
      },
      "source": [
        "<a href=\"https://colab.research.google.com/github/jeekyung/ESAA/blob/main/ESAA_OB_week12_%ED%8C%8C%EC%9D%B4%EC%8D%AC_%EB%A8%B8%EC%8B%A0%EB%9F%AC%EB%8B%9D_%EC%99%84%EB%B2%BD_%EA%B0%80%EC%9D%B4%EB%93%9C_ch9_5_pg_579~590.ipynb\" target=\"_parent\"><img src=\"https://colab.research.google.com/assets/colab-badge.svg\" alt=\"Open In Colab\"/></a>"
      ]
    },
    {
      "cell_type": "markdown",
      "source": [
        "# **[CHAPTER 09 추천 시스템]**"
      ],
      "metadata": {
        "id": "gOV_RVJQxsmN"
      }
    },
    {
      "cell_type": "markdown",
      "source": [
        "## **05 콘텐츠 기반 필터링 실습 - TMDB 5000 영화 데이터 세트**\n",
        "---"
      ],
      "metadata": {
        "id": "XQmET6d1x3LE"
      }
    },
    {
      "cell_type": "markdown",
      "source": [
        ">유명한 영화 데이터 정보 사이트인 IMDB의 많은 영화 중 주요 5000개 영화에 대한 메타 정보를 새롭게 가공해 캐글에서 제공하는 데이터 세트."
      ],
      "metadata": {
        "id": "o3z6wdYox9zl"
      }
    },
    {
      "cell_type": "markdown",
      "source": [
        "###**장르 속성을 이용한 영화 콘텐츠 기반 필터링**\n",
        "---"
      ],
      "metadata": {
        "id": "-n0kKVm33ENh"
      }
    },
    {
      "cell_type": "markdown",
      "source": [
        ">콘텐츠 기반 필터링: 사용자가 특정 영화를 감상하고 그 영화를 좋아했다면 그 영화와 비슷한 특성/속성, 구성 요소 등을 가진 다른 영화를 추천하는 것.<br/>\n",
        "영화 간의 유사성을 판단하는 기준이 영화를 구성하는 다양한 콘텐츠(장르, 감독, 배우, 평점, 키워드, 영화 설명)를 기반으로 하는 방식."
      ],
      "metadata": {
        "id": "AsuFyizU3JLa"
      }
    },
    {
      "cell_type": "markdown",
      "source": [
        "**데이터 로딩 및 가공**"
      ],
      "metadata": {
        "id": "3-C1iFg03aoF"
      }
    },
    {
      "cell_type": "code",
      "execution_count": 8,
      "metadata": {
        "colab": {
          "base_uri": "https://localhost:8080/",
          "height": 371
        },
        "id": "2RDonSmPxTEA",
        "outputId": "e6b2732e-47a2-4f98-d55c-3b305ecd6351"
      },
      "outputs": [
        {
          "output_type": "stream",
          "name": "stdout",
          "text": [
            "(4803, 20)\n"
          ]
        },
        {
          "output_type": "execute_result",
          "data": {
            "text/plain": [
              "      budget  \\\n",
              "0  237000000   \n",
              "\n",
              "                                                                                                genres  \\\n",
              "0  [{\"id\": 28, \"name\": \"Action\"}, {\"id\": 12, \"name\": \"Adventure\"}, {\"id\": 14, \"name\": \"Fantasy\"}, {...   \n",
              "\n",
              "                      homepage     id  \\\n",
              "0  http://www.avatarmovie.com/  19995   \n",
              "\n",
              "                                                                                              keywords  \\\n",
              "0  [{\"id\": 1463, \"name\": \"culture clash\"}, {\"id\": 2964, \"name\": \"future\"}, {\"id\": 3386, \"name\": \"sp...   \n",
              "\n",
              "  original_language original_title  \\\n",
              "0                en         Avatar   \n",
              "\n",
              "                                                                                              overview  \\\n",
              "0  In the 22nd century, a paraplegic Marine is dispatched to the moon Pandora on a unique mission, ...   \n",
              "\n",
              "   popularity  \\\n",
              "0  150.437577   \n",
              "\n",
              "                                                                                  production_companies  \\\n",
              "0  [{\"name\": \"Ingenious Film Partners\", \"id\": 289}, {\"name\": \"Twentieth Century Fox Film Corporatio...   \n",
              "\n",
              "                                                                                  production_countries  \\\n",
              "0  [{\"iso_3166_1\": \"US\", \"name\": \"United States of America\"}, {\"iso_3166_1\": \"GB\", \"name\": \"United ...   \n",
              "\n",
              "  release_date     revenue  runtime  \\\n",
              "0   2009-12-10  2787965087    162.0   \n",
              "\n",
              "                                                                        spoken_languages  \\\n",
              "0  [{\"iso_639_1\": \"en\", \"name\": \"English\"}, {\"iso_639_1\": \"es\", \"name\": \"Espa\\u00f1ol\"}]   \n",
              "\n",
              "     status                      tagline   title  vote_average  vote_count  \n",
              "0  Released  Enter the World of Pandora.  Avatar           7.2       11800  "
            ],
            "text/html": [
              "\n",
              "  <div id=\"df-200e01e4-bc99-4c47-8087-d040463a5c0e\">\n",
              "    <div class=\"colab-df-container\">\n",
              "      <div>\n",
              "<style scoped>\n",
              "    .dataframe tbody tr th:only-of-type {\n",
              "        vertical-align: middle;\n",
              "    }\n",
              "\n",
              "    .dataframe tbody tr th {\n",
              "        vertical-align: top;\n",
              "    }\n",
              "\n",
              "    .dataframe thead th {\n",
              "        text-align: right;\n",
              "    }\n",
              "</style>\n",
              "<table border=\"1\" class=\"dataframe\">\n",
              "  <thead>\n",
              "    <tr style=\"text-align: right;\">\n",
              "      <th></th>\n",
              "      <th>budget</th>\n",
              "      <th>genres</th>\n",
              "      <th>homepage</th>\n",
              "      <th>id</th>\n",
              "      <th>keywords</th>\n",
              "      <th>original_language</th>\n",
              "      <th>original_title</th>\n",
              "      <th>overview</th>\n",
              "      <th>popularity</th>\n",
              "      <th>production_companies</th>\n",
              "      <th>production_countries</th>\n",
              "      <th>release_date</th>\n",
              "      <th>revenue</th>\n",
              "      <th>runtime</th>\n",
              "      <th>spoken_languages</th>\n",
              "      <th>status</th>\n",
              "      <th>tagline</th>\n",
              "      <th>title</th>\n",
              "      <th>vote_average</th>\n",
              "      <th>vote_count</th>\n",
              "    </tr>\n",
              "  </thead>\n",
              "  <tbody>\n",
              "    <tr>\n",
              "      <th>0</th>\n",
              "      <td>237000000</td>\n",
              "      <td>[{\"id\": 28, \"name\": \"Action\"}, {\"id\": 12, \"name\": \"Adventure\"}, {\"id\": 14, \"name\": \"Fantasy\"}, {...</td>\n",
              "      <td>http://www.avatarmovie.com/</td>\n",
              "      <td>19995</td>\n",
              "      <td>[{\"id\": 1463, \"name\": \"culture clash\"}, {\"id\": 2964, \"name\": \"future\"}, {\"id\": 3386, \"name\": \"sp...</td>\n",
              "      <td>en</td>\n",
              "      <td>Avatar</td>\n",
              "      <td>In the 22nd century, a paraplegic Marine is dispatched to the moon Pandora on a unique mission, ...</td>\n",
              "      <td>150.437577</td>\n",
              "      <td>[{\"name\": \"Ingenious Film Partners\", \"id\": 289}, {\"name\": \"Twentieth Century Fox Film Corporatio...</td>\n",
              "      <td>[{\"iso_3166_1\": \"US\", \"name\": \"United States of America\"}, {\"iso_3166_1\": \"GB\", \"name\": \"United ...</td>\n",
              "      <td>2009-12-10</td>\n",
              "      <td>2787965087</td>\n",
              "      <td>162.0</td>\n",
              "      <td>[{\"iso_639_1\": \"en\", \"name\": \"English\"}, {\"iso_639_1\": \"es\", \"name\": \"Espa\\u00f1ol\"}]</td>\n",
              "      <td>Released</td>\n",
              "      <td>Enter the World of Pandora.</td>\n",
              "      <td>Avatar</td>\n",
              "      <td>7.2</td>\n",
              "      <td>11800</td>\n",
              "    </tr>\n",
              "  </tbody>\n",
              "</table>\n",
              "</div>\n",
              "      <button class=\"colab-df-convert\" onclick=\"convertToInteractive('df-200e01e4-bc99-4c47-8087-d040463a5c0e')\"\n",
              "              title=\"Convert this dataframe to an interactive table.\"\n",
              "              style=\"display:none;\">\n",
              "        \n",
              "  <svg xmlns=\"http://www.w3.org/2000/svg\" height=\"24px\"viewBox=\"0 0 24 24\"\n",
              "       width=\"24px\">\n",
              "    <path d=\"M0 0h24v24H0V0z\" fill=\"none\"/>\n",
              "    <path d=\"M18.56 5.44l.94 2.06.94-2.06 2.06-.94-2.06-.94-.94-2.06-.94 2.06-2.06.94zm-11 1L8.5 8.5l.94-2.06 2.06-.94-2.06-.94L8.5 2.5l-.94 2.06-2.06.94zm10 10l.94 2.06.94-2.06 2.06-.94-2.06-.94-.94-2.06-.94 2.06-2.06.94z\"/><path d=\"M17.41 7.96l-1.37-1.37c-.4-.4-.92-.59-1.43-.59-.52 0-1.04.2-1.43.59L10.3 9.45l-7.72 7.72c-.78.78-.78 2.05 0 2.83L4 21.41c.39.39.9.59 1.41.59.51 0 1.02-.2 1.41-.59l7.78-7.78 2.81-2.81c.8-.78.8-2.07 0-2.86zM5.41 20L4 18.59l7.72-7.72 1.47 1.35L5.41 20z\"/>\n",
              "  </svg>\n",
              "      </button>\n",
              "      \n",
              "  <style>\n",
              "    .colab-df-container {\n",
              "      display:flex;\n",
              "      flex-wrap:wrap;\n",
              "      gap: 12px;\n",
              "    }\n",
              "\n",
              "    .colab-df-convert {\n",
              "      background-color: #E8F0FE;\n",
              "      border: none;\n",
              "      border-radius: 50%;\n",
              "      cursor: pointer;\n",
              "      display: none;\n",
              "      fill: #1967D2;\n",
              "      height: 32px;\n",
              "      padding: 0 0 0 0;\n",
              "      width: 32px;\n",
              "    }\n",
              "\n",
              "    .colab-df-convert:hover {\n",
              "      background-color: #E2EBFA;\n",
              "      box-shadow: 0px 1px 2px rgba(60, 64, 67, 0.3), 0px 1px 3px 1px rgba(60, 64, 67, 0.15);\n",
              "      fill: #174EA6;\n",
              "    }\n",
              "\n",
              "    [theme=dark] .colab-df-convert {\n",
              "      background-color: #3B4455;\n",
              "      fill: #D2E3FC;\n",
              "    }\n",
              "\n",
              "    [theme=dark] .colab-df-convert:hover {\n",
              "      background-color: #434B5C;\n",
              "      box-shadow: 0px 1px 3px 1px rgba(0, 0, 0, 0.15);\n",
              "      filter: drop-shadow(0px 1px 2px rgba(0, 0, 0, 0.3));\n",
              "      fill: #FFFFFF;\n",
              "    }\n",
              "  </style>\n",
              "\n",
              "      <script>\n",
              "        const buttonEl =\n",
              "          document.querySelector('#df-200e01e4-bc99-4c47-8087-d040463a5c0e button.colab-df-convert');\n",
              "        buttonEl.style.display =\n",
              "          google.colab.kernel.accessAllowed ? 'block' : 'none';\n",
              "\n",
              "        async function convertToInteractive(key) {\n",
              "          const element = document.querySelector('#df-200e01e4-bc99-4c47-8087-d040463a5c0e');\n",
              "          const dataTable =\n",
              "            await google.colab.kernel.invokeFunction('convertToInteractive',\n",
              "                                                     [key], {});\n",
              "          if (!dataTable) return;\n",
              "\n",
              "          const docLinkHtml = 'Like what you see? Visit the ' +\n",
              "            '<a target=\"_blank\" href=https://colab.research.google.com/notebooks/data_table.ipynb>data table notebook</a>'\n",
              "            + ' to learn more about interactive tables.';\n",
              "          element.innerHTML = '';\n",
              "          dataTable['output_type'] = 'display_data';\n",
              "          await google.colab.output.renderOutput(dataTable, element);\n",
              "          const docLink = document.createElement('div');\n",
              "          docLink.innerHTML = docLinkHtml;\n",
              "          element.appendChild(docLink);\n",
              "        }\n",
              "      </script>\n",
              "    </div>\n",
              "  </div>\n",
              "  "
            ]
          },
          "metadata": {},
          "execution_count": 8
        }
      ],
      "source": [
        "import pandas as pd\n",
        "import numpy as np\n",
        "import warnings; warnings.filterwarnings('ignore')\n",
        "\n",
        "movies = pd.read_csv('/content/drive/MyDrive/archive (2)/tmdb_5000_movies.csv')\n",
        "print(movies.shape)\n",
        "movies.head(1)"
      ]
    },
    {
      "cell_type": "code",
      "source": [
        "# 콘텐츠 기반 필터링 추천 분석에 사용할 주요 칼럼 추출.\n",
        "movies_df = movies[['id','title','genres','vote_average','vote_count','popularity','keywords','overview']]"
      ],
      "metadata": {
        "id": "uGTUDPYp6E9h"
      },
      "execution_count": 9,
      "outputs": []
    },
    {
      "cell_type": "markdown",
      "source": [
        "* 'genres', 'keywords' 등과 같은 칼럼은 파이썬 리스트 내부에 여러 딕셔너리가 있는 형태의 문자열로 표기되어 있음"
      ],
      "metadata": {
        "id": "0tnpyq686fi-"
      }
    },
    {
      "cell_type": "code",
      "source": [
        "pd.set_option('max_colwidth', 100)\n",
        "movies_df[['genres','keywords']][:1]"
      ],
      "metadata": {
        "colab": {
          "base_uri": "https://localhost:8080/",
          "height": 142
        },
        "id": "3t7JtYEf6Q6N",
        "outputId": "74511222-88be-447a-e67d-e4719b1a1a01"
      },
      "execution_count": 10,
      "outputs": [
        {
          "output_type": "execute_result",
          "data": {
            "text/plain": [
              "                                                                                                genres  \\\n",
              "0  [{\"id\": 28, \"name\": \"Action\"}, {\"id\": 12, \"name\": \"Adventure\"}, {\"id\": 14, \"name\": \"Fantasy\"}, {...   \n",
              "\n",
              "                                                                                              keywords  \n",
              "0  [{\"id\": 1463, \"name\": \"culture clash\"}, {\"id\": 2964, \"name\": \"future\"}, {\"id\": 3386, \"name\": \"sp...  "
            ],
            "text/html": [
              "\n",
              "  <div id=\"df-a9eadc6d-7ddd-4df7-a3d2-4fe0111f0fc6\">\n",
              "    <div class=\"colab-df-container\">\n",
              "      <div>\n",
              "<style scoped>\n",
              "    .dataframe tbody tr th:only-of-type {\n",
              "        vertical-align: middle;\n",
              "    }\n",
              "\n",
              "    .dataframe tbody tr th {\n",
              "        vertical-align: top;\n",
              "    }\n",
              "\n",
              "    .dataframe thead th {\n",
              "        text-align: right;\n",
              "    }\n",
              "</style>\n",
              "<table border=\"1\" class=\"dataframe\">\n",
              "  <thead>\n",
              "    <tr style=\"text-align: right;\">\n",
              "      <th></th>\n",
              "      <th>genres</th>\n",
              "      <th>keywords</th>\n",
              "    </tr>\n",
              "  </thead>\n",
              "  <tbody>\n",
              "    <tr>\n",
              "      <th>0</th>\n",
              "      <td>[{\"id\": 28, \"name\": \"Action\"}, {\"id\": 12, \"name\": \"Adventure\"}, {\"id\": 14, \"name\": \"Fantasy\"}, {...</td>\n",
              "      <td>[{\"id\": 1463, \"name\": \"culture clash\"}, {\"id\": 2964, \"name\": \"future\"}, {\"id\": 3386, \"name\": \"sp...</td>\n",
              "    </tr>\n",
              "  </tbody>\n",
              "</table>\n",
              "</div>\n",
              "      <button class=\"colab-df-convert\" onclick=\"convertToInteractive('df-a9eadc6d-7ddd-4df7-a3d2-4fe0111f0fc6')\"\n",
              "              title=\"Convert this dataframe to an interactive table.\"\n",
              "              style=\"display:none;\">\n",
              "        \n",
              "  <svg xmlns=\"http://www.w3.org/2000/svg\" height=\"24px\"viewBox=\"0 0 24 24\"\n",
              "       width=\"24px\">\n",
              "    <path d=\"M0 0h24v24H0V0z\" fill=\"none\"/>\n",
              "    <path d=\"M18.56 5.44l.94 2.06.94-2.06 2.06-.94-2.06-.94-.94-2.06-.94 2.06-2.06.94zm-11 1L8.5 8.5l.94-2.06 2.06-.94-2.06-.94L8.5 2.5l-.94 2.06-2.06.94zm10 10l.94 2.06.94-2.06 2.06-.94-2.06-.94-.94-2.06-.94 2.06-2.06.94z\"/><path d=\"M17.41 7.96l-1.37-1.37c-.4-.4-.92-.59-1.43-.59-.52 0-1.04.2-1.43.59L10.3 9.45l-7.72 7.72c-.78.78-.78 2.05 0 2.83L4 21.41c.39.39.9.59 1.41.59.51 0 1.02-.2 1.41-.59l7.78-7.78 2.81-2.81c.8-.78.8-2.07 0-2.86zM5.41 20L4 18.59l7.72-7.72 1.47 1.35L5.41 20z\"/>\n",
              "  </svg>\n",
              "      </button>\n",
              "      \n",
              "  <style>\n",
              "    .colab-df-container {\n",
              "      display:flex;\n",
              "      flex-wrap:wrap;\n",
              "      gap: 12px;\n",
              "    }\n",
              "\n",
              "    .colab-df-convert {\n",
              "      background-color: #E8F0FE;\n",
              "      border: none;\n",
              "      border-radius: 50%;\n",
              "      cursor: pointer;\n",
              "      display: none;\n",
              "      fill: #1967D2;\n",
              "      height: 32px;\n",
              "      padding: 0 0 0 0;\n",
              "      width: 32px;\n",
              "    }\n",
              "\n",
              "    .colab-df-convert:hover {\n",
              "      background-color: #E2EBFA;\n",
              "      box-shadow: 0px 1px 2px rgba(60, 64, 67, 0.3), 0px 1px 3px 1px rgba(60, 64, 67, 0.15);\n",
              "      fill: #174EA6;\n",
              "    }\n",
              "\n",
              "    [theme=dark] .colab-df-convert {\n",
              "      background-color: #3B4455;\n",
              "      fill: #D2E3FC;\n",
              "    }\n",
              "\n",
              "    [theme=dark] .colab-df-convert:hover {\n",
              "      background-color: #434B5C;\n",
              "      box-shadow: 0px 1px 3px 1px rgba(0, 0, 0, 0.15);\n",
              "      filter: drop-shadow(0px 1px 2px rgba(0, 0, 0, 0.3));\n",
              "      fill: #FFFFFF;\n",
              "    }\n",
              "  </style>\n",
              "\n",
              "      <script>\n",
              "        const buttonEl =\n",
              "          document.querySelector('#df-a9eadc6d-7ddd-4df7-a3d2-4fe0111f0fc6 button.colab-df-convert');\n",
              "        buttonEl.style.display =\n",
              "          google.colab.kernel.accessAllowed ? 'block' : 'none';\n",
              "\n",
              "        async function convertToInteractive(key) {\n",
              "          const element = document.querySelector('#df-a9eadc6d-7ddd-4df7-a3d2-4fe0111f0fc6');\n",
              "          const dataTable =\n",
              "            await google.colab.kernel.invokeFunction('convertToInteractive',\n",
              "                                                     [key], {});\n",
              "          if (!dataTable) return;\n",
              "\n",
              "          const docLinkHtml = 'Like what you see? Visit the ' +\n",
              "            '<a target=\"_blank\" href=https://colab.research.google.com/notebooks/data_table.ipynb>data table notebook</a>'\n",
              "            + ' to learn more about interactive tables.';\n",
              "          element.innerHTML = '';\n",
              "          dataTable['output_type'] = 'display_data';\n",
              "          await google.colab.output.renderOutput(dataTable, element);\n",
              "          const docLink = document.createElement('div');\n",
              "          docLink.innerHTML = docLinkHtml;\n",
              "          element.appendChild(docLink);\n",
              "        }\n",
              "      </script>\n",
              "    </div>\n",
              "  </div>\n",
              "  "
            ]
          },
          "metadata": {},
          "execution_count": 10
        }
      ]
    },
    {
      "cell_type": "code",
      "source": [
        "# literal_eval() 함수 이용하여 문자열을 문자열이 의미하는 list[dict1,dict2] 객체로 변환\n",
        "from ast import literal_eval\n",
        "movies_df['genres'] = movies_df['genres'].apply(literal_eval)\n",
        "movies_df['keywords'] = movies_df['keywords'].apply(literal_eval)"
      ],
      "metadata": {
        "id": "CmevZ_fv6ypU"
      },
      "execution_count": 11,
      "outputs": []
    },
    {
      "cell_type": "code",
      "source": [
        "movies_df['genres'] = movies_df['genres'].apply(lambda x : [y['name'] for y in x])\n",
        "movies_df['keywords'] = movies_df['keywords'].apply(lambda x : [y['name'] for y in x])\n",
        "movies_df[['genres','keywords']][:1]"
      ],
      "metadata": {
        "colab": {
          "base_uri": "https://localhost:8080/",
          "height": 142
        },
        "id": "qq0iPuOI7PJy",
        "outputId": "d47116cd-4476-4a58-c69d-356059dbe339"
      },
      "execution_count": 12,
      "outputs": [
        {
          "output_type": "execute_result",
          "data": {
            "text/plain": [
              "                                          genres  \\\n",
              "0  [Action, Adventure, Fantasy, Science Fiction]   \n",
              "\n",
              "                                                                                              keywords  \n",
              "0  [culture clash, future, space war, space colony, society, space travel, futuristic, romance, spa...  "
            ],
            "text/html": [
              "\n",
              "  <div id=\"df-53673703-f018-45c2-8c1b-83f8734739f5\">\n",
              "    <div class=\"colab-df-container\">\n",
              "      <div>\n",
              "<style scoped>\n",
              "    .dataframe tbody tr th:only-of-type {\n",
              "        vertical-align: middle;\n",
              "    }\n",
              "\n",
              "    .dataframe tbody tr th {\n",
              "        vertical-align: top;\n",
              "    }\n",
              "\n",
              "    .dataframe thead th {\n",
              "        text-align: right;\n",
              "    }\n",
              "</style>\n",
              "<table border=\"1\" class=\"dataframe\">\n",
              "  <thead>\n",
              "    <tr style=\"text-align: right;\">\n",
              "      <th></th>\n",
              "      <th>genres</th>\n",
              "      <th>keywords</th>\n",
              "    </tr>\n",
              "  </thead>\n",
              "  <tbody>\n",
              "    <tr>\n",
              "      <th>0</th>\n",
              "      <td>[Action, Adventure, Fantasy, Science Fiction]</td>\n",
              "      <td>[culture clash, future, space war, space colony, society, space travel, futuristic, romance, spa...</td>\n",
              "    </tr>\n",
              "  </tbody>\n",
              "</table>\n",
              "</div>\n",
              "      <button class=\"colab-df-convert\" onclick=\"convertToInteractive('df-53673703-f018-45c2-8c1b-83f8734739f5')\"\n",
              "              title=\"Convert this dataframe to an interactive table.\"\n",
              "              style=\"display:none;\">\n",
              "        \n",
              "  <svg xmlns=\"http://www.w3.org/2000/svg\" height=\"24px\"viewBox=\"0 0 24 24\"\n",
              "       width=\"24px\">\n",
              "    <path d=\"M0 0h24v24H0V0z\" fill=\"none\"/>\n",
              "    <path d=\"M18.56 5.44l.94 2.06.94-2.06 2.06-.94-2.06-.94-.94-2.06-.94 2.06-2.06.94zm-11 1L8.5 8.5l.94-2.06 2.06-.94-2.06-.94L8.5 2.5l-.94 2.06-2.06.94zm10 10l.94 2.06.94-2.06 2.06-.94-2.06-.94-.94-2.06-.94 2.06-2.06.94z\"/><path d=\"M17.41 7.96l-1.37-1.37c-.4-.4-.92-.59-1.43-.59-.52 0-1.04.2-1.43.59L10.3 9.45l-7.72 7.72c-.78.78-.78 2.05 0 2.83L4 21.41c.39.39.9.59 1.41.59.51 0 1.02-.2 1.41-.59l7.78-7.78 2.81-2.81c.8-.78.8-2.07 0-2.86zM5.41 20L4 18.59l7.72-7.72 1.47 1.35L5.41 20z\"/>\n",
              "  </svg>\n",
              "      </button>\n",
              "      \n",
              "  <style>\n",
              "    .colab-df-container {\n",
              "      display:flex;\n",
              "      flex-wrap:wrap;\n",
              "      gap: 12px;\n",
              "    }\n",
              "\n",
              "    .colab-df-convert {\n",
              "      background-color: #E8F0FE;\n",
              "      border: none;\n",
              "      border-radius: 50%;\n",
              "      cursor: pointer;\n",
              "      display: none;\n",
              "      fill: #1967D2;\n",
              "      height: 32px;\n",
              "      padding: 0 0 0 0;\n",
              "      width: 32px;\n",
              "    }\n",
              "\n",
              "    .colab-df-convert:hover {\n",
              "      background-color: #E2EBFA;\n",
              "      box-shadow: 0px 1px 2px rgba(60, 64, 67, 0.3), 0px 1px 3px 1px rgba(60, 64, 67, 0.15);\n",
              "      fill: #174EA6;\n",
              "    }\n",
              "\n",
              "    [theme=dark] .colab-df-convert {\n",
              "      background-color: #3B4455;\n",
              "      fill: #D2E3FC;\n",
              "    }\n",
              "\n",
              "    [theme=dark] .colab-df-convert:hover {\n",
              "      background-color: #434B5C;\n",
              "      box-shadow: 0px 1px 3px 1px rgba(0, 0, 0, 0.15);\n",
              "      filter: drop-shadow(0px 1px 2px rgba(0, 0, 0, 0.3));\n",
              "      fill: #FFFFFF;\n",
              "    }\n",
              "  </style>\n",
              "\n",
              "      <script>\n",
              "        const buttonEl =\n",
              "          document.querySelector('#df-53673703-f018-45c2-8c1b-83f8734739f5 button.colab-df-convert');\n",
              "        buttonEl.style.display =\n",
              "          google.colab.kernel.accessAllowed ? 'block' : 'none';\n",
              "\n",
              "        async function convertToInteractive(key) {\n",
              "          const element = document.querySelector('#df-53673703-f018-45c2-8c1b-83f8734739f5');\n",
              "          const dataTable =\n",
              "            await google.colab.kernel.invokeFunction('convertToInteractive',\n",
              "                                                     [key], {});\n",
              "          if (!dataTable) return;\n",
              "\n",
              "          const docLinkHtml = 'Like what you see? Visit the ' +\n",
              "            '<a target=\"_blank\" href=https://colab.research.google.com/notebooks/data_table.ipynb>data table notebook</a>'\n",
              "            + ' to learn more about interactive tables.';\n",
              "          element.innerHTML = '';\n",
              "          dataTable['output_type'] = 'display_data';\n",
              "          await google.colab.output.renderOutput(dataTable, element);\n",
              "          const docLink = document.createElement('div');\n",
              "          docLink.innerHTML = docLinkHtml;\n",
              "          element.appendChild(docLink);\n",
              "        }\n",
              "      </script>\n",
              "    </div>\n",
              "  </div>\n",
              "  "
            ]
          },
          "metadata": {},
          "execution_count": 12
        }
      ]
    },
    {
      "cell_type": "markdown",
      "source": [
        "**장르 콘텐츠 유사도 측정**"
      ],
      "metadata": {
        "id": "FcRbiVRt7i8k"
      }
    },
    {
      "cell_type": "markdown",
      "source": [
        ">genres 칼럼은 여러 개의 개별 장르가 리스트로 구성되어 있음.<br/>\n",
        "장르별 유사도를 측정하는 가장 간단한 방법은 genres를 문자열로 변경한 뒤 이를 CountVectorizer로 피처 벡터화한 행렬 데이터 값을 코사인 유사도로 비교하는 것.\n",
        "1. 문자열로 변환된 genres 칼럼을 Count 기반으로 피처 벡터화 변환.\n",
        "2. genres 문자열을 피처 벡터화 행렬로 변환한 데이터 세트를 코사인 유사도를 통해 비교. 이를 위해 데이터 세트의 레코드별로 타 레코드와 장르에서 코사인 유사도 값을 가지는 객체 생성.\n",
        "3. 장르 유사도가 높은 영화 중에 평점이 높은 순으로 영화 추천."
      ],
      "metadata": {
        "id": "wxbkFyIT7lzb"
      }
    },
    {
      "cell_type": "markdown",
      "source": [
        "* 먼저 genres 칼럼을 문자열로 변환한 뒤 사이킷런의 CountVectorizer를 이용해 피처 벡터 행렬로 변환."
      ],
      "metadata": {
        "id": "0PkyC1kE8GZ7"
      }
    },
    {
      "cell_type": "code",
      "source": [
        "from sklearn.feature_extraction.text import CountVectorizer\n",
        "\n",
        "# CountVectorizer를 적용하기 위해 공백문자로 word 단위가 구분되는 문자열로 변환.\n",
        "movies_df['genres_literal'] = movies_df['genres'].apply(lambda x : (' ').join(x))\n",
        "count_vect = CountVectorizer(min_df=0, ngram_range=(1,2))\n",
        "genre_mat = count_vect.fit_transform(movies_df['genres_literal'])\n",
        "print(genre_mat.shape)"
      ],
      "metadata": {
        "colab": {
          "base_uri": "https://localhost:8080/"
        },
        "id": "nhPNgsu57gHI",
        "outputId": "e1e0ef3d-06c7-4a03-8a60-b9b822ef65b7"
      },
      "execution_count": 14,
      "outputs": [
        {
          "output_type": "stream",
          "name": "stdout",
          "text": [
            "(4803, 276)\n"
          ]
        }
      ]
    },
    {
      "cell_type": "markdown",
      "source": [
        ">이렇게 생성된 피처 벡터 행렬에 사이킷런의 consine_similarity()를 이용해 코사인 유사도 계산.(기준 행과 비교 행의 코사인 유사도를 행렬 형태로 반환하는 함수)"
      ],
      "metadata": {
        "id": "ZhrZ4hdi9CMl"
      }
    },
    {
      "cell_type": "markdown",
      "source": [
        "![image.png](data:image/png;base64,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)"
      ],
      "metadata": {
        "id": "_Uj1sBRQ9Sx1"
      }
    },
    {
      "cell_type": "code",
      "source": [
        "from sklearn.metrics.pairwise import cosine_similarity\n",
        "\n",
        "genre_sim = cosine_similarity(genre_mat, genre_mat)\n",
        "print(genre_sim.shape)\n",
        "print(genre_sim[:1])"
      ],
      "metadata": {
        "colab": {
          "base_uri": "https://localhost:8080/"
        },
        "id": "gJJRz0_88456",
        "outputId": "c0e41985-b8af-45dc-9621-c43278da7f3b"
      },
      "execution_count": 15,
      "outputs": [
        {
          "output_type": "stream",
          "name": "stdout",
          "text": [
            "(4803, 4803)\n",
            "[[1.         0.59628479 0.4472136  ... 0.         0.         0.        ]]\n"
          ]
        }
      ]
    },
    {
      "cell_type": "markdown",
      "source": [
        "* moview_df DataFrame의 행별 장르 유사도 값을 가지고 있음."
      ],
      "metadata": {
        "id": "ersJfnan9hlk"
      }
    },
    {
      "cell_type": "code",
      "source": [
        "genre_sim_sorted_ind = genre_sim.argsort()[:,::-1]\n",
        "print(genre_sim_sorted_ind[:1])"
      ],
      "metadata": {
        "colab": {
          "base_uri": "https://localhost:8080/"
        },
        "id": "su6OmXOL9c4D",
        "outputId": "fd6f2800-14c6-472b-fda4-d5c58e47d6e7"
      },
      "execution_count": 16,
      "outputs": [
        {
          "output_type": "stream",
          "name": "stdout",
          "text": [
            "[[   0 3494  813 ... 3038 3037 2401]]\n"
          ]
        }
      ]
    },
    {
      "cell_type": "markdown",
      "source": [
        "**장르 콘텐츠 필터링을 이용한 영화 추천**"
      ],
      "metadata": {
        "id": "t1mTNzF19u7H"
      }
    },
    {
      "cell_type": "markdown",
      "source": [
        "* 이제 장르 유사도에 따라 영화를 추천하는 함수 생성."
      ],
      "metadata": {
        "id": "sU8ad4xY9y0k"
      }
    },
    {
      "cell_type": "code",
      "source": [
        "def find_sim_movie(df, sorted_ind, title_name, top_n=10):\n",
        "  # 인자로 입력된 moview_df DataFrame에서 'title' 칼럼이 입력된 title_name 값인 DataFrame 추출\n",
        "  title_movie = df[df['title']==title_name]\n",
        "\n",
        "  # title_named을 가진 DataFrame의 index 객체를 ndarray로 반환하고\n",
        "  # sorted_ind 인자로 입력된 genre_sim_sorted_ind 객체에서 유사도 순으로 top_n개의 index 추출\n",
        "  title_index = title_movie.index.values\n",
        "  similar_indexes = sorted_ind[title_index, :(top_n)]\n",
        "\n",
        "  # 추출된 top_n index 출력. top_n index는 2차원 데이터임.\n",
        "  # dataframe에서 index로 사용하기 위해서 1차원 array로 변경\n",
        "  print(similar_indexes)\n",
        "  similar_indexes = similar_indexes.reshape(-1)\n",
        "\n",
        "  return df.iloc[similar_indexes]"
      ],
      "metadata": {
        "id": "oOf0JRHy9uDU"
      },
      "execution_count": 17,
      "outputs": []
    },
    {
      "cell_type": "code",
      "source": [
        "similar_movies = find_sim_movie(movies_df, genre_sim_sorted_ind, 'The Godfather', 10)\n",
        "similar_movies[['title','vote_average']]"
      ],
      "metadata": {
        "colab": {
          "base_uri": "https://localhost:8080/",
          "height": 381
        },
        "id": "ySnggYIg-cvm",
        "outputId": "ee7c46ca-c21e-48ff-b46e-436a254c6c3e"
      },
      "execution_count": 19,
      "outputs": [
        {
          "output_type": "stream",
          "name": "stdout",
          "text": [
            "[[2731 1243 3636 1946 2640 4065 1847 4217  883 3866]]\n"
          ]
        },
        {
          "output_type": "execute_result",
          "data": {
            "text/plain": [
              "                                               title  vote_average\n",
              "2731                          The Godfather: Part II           8.3\n",
              "1243                                    Mean Streets           7.2\n",
              "3636                                   Light Sleeper           5.7\n",
              "1946  The Bad Lieutenant: Port of Call - New Orleans           6.0\n",
              "2640         Things to Do in Denver When You're Dead           6.7\n",
              "4065                                      Mi America           0.0\n",
              "1847                                      GoodFellas           8.2\n",
              "4217                                            Kids           6.8\n",
              "883                              Catch Me If You Can           7.7\n",
              "3866                                     City of God           8.1"
            ],
            "text/html": [
              "\n",
              "  <div id=\"df-d93a43d1-aca6-4628-bdc6-a96bb0a9c6f4\">\n",
              "    <div class=\"colab-df-container\">\n",
              "      <div>\n",
              "<style scoped>\n",
              "    .dataframe tbody tr th:only-of-type {\n",
              "        vertical-align: middle;\n",
              "    }\n",
              "\n",
              "    .dataframe tbody tr th {\n",
              "        vertical-align: top;\n",
              "    }\n",
              "\n",
              "    .dataframe thead th {\n",
              "        text-align: right;\n",
              "    }\n",
              "</style>\n",
              "<table border=\"1\" class=\"dataframe\">\n",
              "  <thead>\n",
              "    <tr style=\"text-align: right;\">\n",
              "      <th></th>\n",
              "      <th>title</th>\n",
              "      <th>vote_average</th>\n",
              "    </tr>\n",
              "  </thead>\n",
              "  <tbody>\n",
              "    <tr>\n",
              "      <th>2731</th>\n",
              "      <td>The Godfather: Part II</td>\n",
              "      <td>8.3</td>\n",
              "    </tr>\n",
              "    <tr>\n",
              "      <th>1243</th>\n",
              "      <td>Mean Streets</td>\n",
              "      <td>7.2</td>\n",
              "    </tr>\n",
              "    <tr>\n",
              "      <th>3636</th>\n",
              "      <td>Light Sleeper</td>\n",
              "      <td>5.7</td>\n",
              "    </tr>\n",
              "    <tr>\n",
              "      <th>1946</th>\n",
              "      <td>The Bad Lieutenant: Port of Call - New Orleans</td>\n",
              "      <td>6.0</td>\n",
              "    </tr>\n",
              "    <tr>\n",
              "      <th>2640</th>\n",
              "      <td>Things to Do in Denver When You're Dead</td>\n",
              "      <td>6.7</td>\n",
              "    </tr>\n",
              "    <tr>\n",
              "      <th>4065</th>\n",
              "      <td>Mi America</td>\n",
              "      <td>0.0</td>\n",
              "    </tr>\n",
              "    <tr>\n",
              "      <th>1847</th>\n",
              "      <td>GoodFellas</td>\n",
              "      <td>8.2</td>\n",
              "    </tr>\n",
              "    <tr>\n",
              "      <th>4217</th>\n",
              "      <td>Kids</td>\n",
              "      <td>6.8</td>\n",
              "    </tr>\n",
              "    <tr>\n",
              "      <th>883</th>\n",
              "      <td>Catch Me If You Can</td>\n",
              "      <td>7.7</td>\n",
              "    </tr>\n",
              "    <tr>\n",
              "      <th>3866</th>\n",
              "      <td>City of God</td>\n",
              "      <td>8.1</td>\n",
              "    </tr>\n",
              "  </tbody>\n",
              "</table>\n",
              "</div>\n",
              "      <button class=\"colab-df-convert\" onclick=\"convertToInteractive('df-d93a43d1-aca6-4628-bdc6-a96bb0a9c6f4')\"\n",
              "              title=\"Convert this dataframe to an interactive table.\"\n",
              "              style=\"display:none;\">\n",
              "        \n",
              "  <svg xmlns=\"http://www.w3.org/2000/svg\" height=\"24px\"viewBox=\"0 0 24 24\"\n",
              "       width=\"24px\">\n",
              "    <path d=\"M0 0h24v24H0V0z\" fill=\"none\"/>\n",
              "    <path d=\"M18.56 5.44l.94 2.06.94-2.06 2.06-.94-2.06-.94-.94-2.06-.94 2.06-2.06.94zm-11 1L8.5 8.5l.94-2.06 2.06-.94-2.06-.94L8.5 2.5l-.94 2.06-2.06.94zm10 10l.94 2.06.94-2.06 2.06-.94-2.06-.94-.94-2.06-.94 2.06-2.06.94z\"/><path d=\"M17.41 7.96l-1.37-1.37c-.4-.4-.92-.59-1.43-.59-.52 0-1.04.2-1.43.59L10.3 9.45l-7.72 7.72c-.78.78-.78 2.05 0 2.83L4 21.41c.39.39.9.59 1.41.59.51 0 1.02-.2 1.41-.59l7.78-7.78 2.81-2.81c.8-.78.8-2.07 0-2.86zM5.41 20L4 18.59l7.72-7.72 1.47 1.35L5.41 20z\"/>\n",
              "  </svg>\n",
              "      </button>\n",
              "      \n",
              "  <style>\n",
              "    .colab-df-container {\n",
              "      display:flex;\n",
              "      flex-wrap:wrap;\n",
              "      gap: 12px;\n",
              "    }\n",
              "\n",
              "    .colab-df-convert {\n",
              "      background-color: #E8F0FE;\n",
              "      border: none;\n",
              "      border-radius: 50%;\n",
              "      cursor: pointer;\n",
              "      display: none;\n",
              "      fill: #1967D2;\n",
              "      height: 32px;\n",
              "      padding: 0 0 0 0;\n",
              "      width: 32px;\n",
              "    }\n",
              "\n",
              "    .colab-df-convert:hover {\n",
              "      background-color: #E2EBFA;\n",
              "      box-shadow: 0px 1px 2px rgba(60, 64, 67, 0.3), 0px 1px 3px 1px rgba(60, 64, 67, 0.15);\n",
              "      fill: #174EA6;\n",
              "    }\n",
              "\n",
              "    [theme=dark] .colab-df-convert {\n",
              "      background-color: #3B4455;\n",
              "      fill: #D2E3FC;\n",
              "    }\n",
              "\n",
              "    [theme=dark] .colab-df-convert:hover {\n",
              "      background-color: #434B5C;\n",
              "      box-shadow: 0px 1px 3px 1px rgba(0, 0, 0, 0.15);\n",
              "      filter: drop-shadow(0px 1px 2px rgba(0, 0, 0, 0.3));\n",
              "      fill: #FFFFFF;\n",
              "    }\n",
              "  </style>\n",
              "\n",
              "      <script>\n",
              "        const buttonEl =\n",
              "          document.querySelector('#df-d93a43d1-aca6-4628-bdc6-a96bb0a9c6f4 button.colab-df-convert');\n",
              "        buttonEl.style.display =\n",
              "          google.colab.kernel.accessAllowed ? 'block' : 'none';\n",
              "\n",
              "        async function convertToInteractive(key) {\n",
              "          const element = document.querySelector('#df-d93a43d1-aca6-4628-bdc6-a96bb0a9c6f4');\n",
              "          const dataTable =\n",
              "            await google.colab.kernel.invokeFunction('convertToInteractive',\n",
              "                                                     [key], {});\n",
              "          if (!dataTable) return;\n",
              "\n",
              "          const docLinkHtml = 'Like what you see? Visit the ' +\n",
              "            '<a target=\"_blank\" href=https://colab.research.google.com/notebooks/data_table.ipynb>data table notebook</a>'\n",
              "            + ' to learn more about interactive tables.';\n",
              "          element.innerHTML = '';\n",
              "          dataTable['output_type'] = 'display_data';\n",
              "          await google.colab.output.renderOutput(dataTable, element);\n",
              "          const docLink = document.createElement('div');\n",
              "          docLink.innerHTML = docLinkHtml;\n",
              "          element.appendChild(docLink);\n",
              "        }\n",
              "      </script>\n",
              "    </div>\n",
              "  </div>\n",
              "  "
            ]
          },
          "metadata": {},
          "execution_count": 19
        }
      ]
    },
    {
      "cell_type": "markdown",
      "source": [
        "* 좀 더 개선이 필요함."
      ],
      "metadata": {
        "id": "Khl2SRia-r1s"
      }
    },
    {
      "cell_type": "markdown",
      "source": [
        "> 이번에는 좀 더 많은 후보군을 선정한 뒤 영화의 평점에 따라 필터링해서 최종 추천하는 방식을 ㅗ변경."
      ],
      "metadata": {
        "id": "8aCrEFGK-wJX"
      }
    },
    {
      "cell_type": "code",
      "source": [
        "movies_df[['title','vote_average','vote_count']].sort_values('vote_average', ascending=False)[:10]"
      ],
      "metadata": {
        "colab": {
          "base_uri": "https://localhost:8080/",
          "height": 363
        },
        "id": "3HYuV_Tm-l_5",
        "outputId": "d1685acb-d0d3-4318-d1e3-01982e53265c"
      },
      "execution_count": 20,
      "outputs": [
        {
          "output_type": "execute_result",
          "data": {
            "text/plain": [
              "                         title  vote_average  vote_count\n",
              "3519          Stiff Upper Lips          10.0           1\n",
              "4247     Me You and Five Bucks          10.0           2\n",
              "4045     Dancer, Texas Pop. 81          10.0           1\n",
              "4662            Little Big Top          10.0           1\n",
              "3992                 Sardaarji           9.5           2\n",
              "2386            One Man's Hero           9.3           2\n",
              "2970        There Goes My Baby           8.5           2\n",
              "1881  The Shawshank Redemption           8.5        8205\n",
              "2796     The Prisoner of Zenda           8.4          11\n",
              "3337             The Godfather           8.4        5893"
            ],
            "text/html": [
              "\n",
              "  <div id=\"df-02dde3db-7b3e-4021-8a9f-1fdff68c1629\">\n",
              "    <div class=\"colab-df-container\">\n",
              "      <div>\n",
              "<style scoped>\n",
              "    .dataframe tbody tr th:only-of-type {\n",
              "        vertical-align: middle;\n",
              "    }\n",
              "\n",
              "    .dataframe tbody tr th {\n",
              "        vertical-align: top;\n",
              "    }\n",
              "\n",
              "    .dataframe thead th {\n",
              "        text-align: right;\n",
              "    }\n",
              "</style>\n",
              "<table border=\"1\" class=\"dataframe\">\n",
              "  <thead>\n",
              "    <tr style=\"text-align: right;\">\n",
              "      <th></th>\n",
              "      <th>title</th>\n",
              "      <th>vote_average</th>\n",
              "      <th>vote_count</th>\n",
              "    </tr>\n",
              "  </thead>\n",
              "  <tbody>\n",
              "    <tr>\n",
              "      <th>3519</th>\n",
              "      <td>Stiff Upper Lips</td>\n",
              "      <td>10.0</td>\n",
              "      <td>1</td>\n",
              "    </tr>\n",
              "    <tr>\n",
              "      <th>4247</th>\n",
              "      <td>Me You and Five Bucks</td>\n",
              "      <td>10.0</td>\n",
              "      <td>2</td>\n",
              "    </tr>\n",
              "    <tr>\n",
              "      <th>4045</th>\n",
              "      <td>Dancer, Texas Pop. 81</td>\n",
              "      <td>10.0</td>\n",
              "      <td>1</td>\n",
              "    </tr>\n",
              "    <tr>\n",
              "      <th>4662</th>\n",
              "      <td>Little Big Top</td>\n",
              "      <td>10.0</td>\n",
              "      <td>1</td>\n",
              "    </tr>\n",
              "    <tr>\n",
              "      <th>3992</th>\n",
              "      <td>Sardaarji</td>\n",
              "      <td>9.5</td>\n",
              "      <td>2</td>\n",
              "    </tr>\n",
              "    <tr>\n",
              "      <th>2386</th>\n",
              "      <td>One Man's Hero</td>\n",
              "      <td>9.3</td>\n",
              "      <td>2</td>\n",
              "    </tr>\n",
              "    <tr>\n",
              "      <th>2970</th>\n",
              "      <td>There Goes My Baby</td>\n",
              "      <td>8.5</td>\n",
              "      <td>2</td>\n",
              "    </tr>\n",
              "    <tr>\n",
              "      <th>1881</th>\n",
              "      <td>The Shawshank Redemption</td>\n",
              "      <td>8.5</td>\n",
              "      <td>8205</td>\n",
              "    </tr>\n",
              "    <tr>\n",
              "      <th>2796</th>\n",
              "      <td>The Prisoner of Zenda</td>\n",
              "      <td>8.4</td>\n",
              "      <td>11</td>\n",
              "    </tr>\n",
              "    <tr>\n",
              "      <th>3337</th>\n",
              "      <td>The Godfather</td>\n",
              "      <td>8.4</td>\n",
              "      <td>5893</td>\n",
              "    </tr>\n",
              "  </tbody>\n",
              "</table>\n",
              "</div>\n",
              "      <button class=\"colab-df-convert\" onclick=\"convertToInteractive('df-02dde3db-7b3e-4021-8a9f-1fdff68c1629')\"\n",
              "              title=\"Convert this dataframe to an interactive table.\"\n",
              "              style=\"display:none;\">\n",
              "        \n",
              "  <svg xmlns=\"http://www.w3.org/2000/svg\" height=\"24px\"viewBox=\"0 0 24 24\"\n",
              "       width=\"24px\">\n",
              "    <path d=\"M0 0h24v24H0V0z\" fill=\"none\"/>\n",
              "    <path d=\"M18.56 5.44l.94 2.06.94-2.06 2.06-.94-2.06-.94-.94-2.06-.94 2.06-2.06.94zm-11 1L8.5 8.5l.94-2.06 2.06-.94-2.06-.94L8.5 2.5l-.94 2.06-2.06.94zm10 10l.94 2.06.94-2.06 2.06-.94-2.06-.94-.94-2.06-.94 2.06-2.06.94z\"/><path d=\"M17.41 7.96l-1.37-1.37c-.4-.4-.92-.59-1.43-.59-.52 0-1.04.2-1.43.59L10.3 9.45l-7.72 7.72c-.78.78-.78 2.05 0 2.83L4 21.41c.39.39.9.59 1.41.59.51 0 1.02-.2 1.41-.59l7.78-7.78 2.81-2.81c.8-.78.8-2.07 0-2.86zM5.41 20L4 18.59l7.72-7.72 1.47 1.35L5.41 20z\"/>\n",
              "  </svg>\n",
              "      </button>\n",
              "      \n",
              "  <style>\n",
              "    .colab-df-container {\n",
              "      display:flex;\n",
              "      flex-wrap:wrap;\n",
              "      gap: 12px;\n",
              "    }\n",
              "\n",
              "    .colab-df-convert {\n",
              "      background-color: #E8F0FE;\n",
              "      border: none;\n",
              "      border-radius: 50%;\n",
              "      cursor: pointer;\n",
              "      display: none;\n",
              "      fill: #1967D2;\n",
              "      height: 32px;\n",
              "      padding: 0 0 0 0;\n",
              "      width: 32px;\n",
              "    }\n",
              "\n",
              "    .colab-df-convert:hover {\n",
              "      background-color: #E2EBFA;\n",
              "      box-shadow: 0px 1px 2px rgba(60, 64, 67, 0.3), 0px 1px 3px 1px rgba(60, 64, 67, 0.15);\n",
              "      fill: #174EA6;\n",
              "    }\n",
              "\n",
              "    [theme=dark] .colab-df-convert {\n",
              "      background-color: #3B4455;\n",
              "      fill: #D2E3FC;\n",
              "    }\n",
              "\n",
              "    [theme=dark] .colab-df-convert:hover {\n",
              "      background-color: #434B5C;\n",
              "      box-shadow: 0px 1px 3px 1px rgba(0, 0, 0, 0.15);\n",
              "      filter: drop-shadow(0px 1px 2px rgba(0, 0, 0, 0.3));\n",
              "      fill: #FFFFFF;\n",
              "    }\n",
              "  </style>\n",
              "\n",
              "      <script>\n",
              "        const buttonEl =\n",
              "          document.querySelector('#df-02dde3db-7b3e-4021-8a9f-1fdff68c1629 button.colab-df-convert');\n",
              "        buttonEl.style.display =\n",
              "          google.colab.kernel.accessAllowed ? 'block' : 'none';\n",
              "\n",
              "        async function convertToInteractive(key) {\n",
              "          const element = document.querySelector('#df-02dde3db-7b3e-4021-8a9f-1fdff68c1629');\n",
              "          const dataTable =\n",
              "            await google.colab.kernel.invokeFunction('convertToInteractive',\n",
              "                                                     [key], {});\n",
              "          if (!dataTable) return;\n",
              "\n",
              "          const docLinkHtml = 'Like what you see? Visit the ' +\n",
              "            '<a target=\"_blank\" href=https://colab.research.google.com/notebooks/data_table.ipynb>data table notebook</a>'\n",
              "            + ' to learn more about interactive tables.';\n",
              "          element.innerHTML = '';\n",
              "          dataTable['output_type'] = 'display_data';\n",
              "          await google.colab.output.renderOutput(dataTable, element);\n",
              "          const docLink = document.createElement('div');\n",
              "          docLink.innerHTML = docLinkHtml;\n",
              "          element.appendChild(docLink);\n",
              "        }\n",
              "      </script>\n",
              "    </div>\n",
              "  </div>\n",
              "  "
            ]
          },
          "metadata": {},
          "execution_count": 20
        }
      ]
    },
    {
      "cell_type": "markdown",
      "source": [
        "* 평가횟수가 매우 작아 평점이 높은 영화들도 있음. 이와 같은 왜곡된 평점 데이터를 회피할 수 있도록 평점에 평가 횟수를 반영할 수 있는 새로운 평가 방식 필요.<br/>\n",
        "유명한 영화 평점 사이트인 IMDB에서는 평가 횟수에 대한 가중치가 부여된 평점(Weighted Rating) 방식 사용함."
      ],
      "metadata": {
        "id": "xx5L2E5l_BMZ"
      }
    },
    {
      "cell_type": "markdown",
      "source": [
        ">가중 평점 공식:<br/>\n",
        "![image.png](data:image/png;base64,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)<br/>\n",
        "![image.png](data:image/png;base64,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)"
      ],
      "metadata": {
        "id": "9Nq_cddA_Rkd"
      }
    },
    {
      "cell_type": "code",
      "source": [
        "C = movies_df['vote_average'].mean()\n",
        "m = movies_df['vote_count'].quantile(0.6)\n",
        "print('C:', round(C,3), 'm:', round(m,3))"
      ],
      "metadata": {
        "colab": {
          "base_uri": "https://localhost:8080/"
        },
        "id": "Esfn9WId-831",
        "outputId": "052ca8d5-0cb9-46ec-efeb-4f749a3afafc"
      },
      "execution_count": 21,
      "outputs": [
        {
          "output_type": "stream",
          "name": "stdout",
          "text": [
            "C: 6.092 m: 370.2\n"
          ]
        }
      ]
    },
    {
      "cell_type": "code",
      "source": [
        "percentile = 0.6\n",
        "m = movies_df['vote_count'].quantile(percentile)\n",
        "C = movies_df['vote_average'].mean()\n",
        "\n",
        "def weighted_vote_average(record):\n",
        "  v = record['vote_count']\n",
        "  R = record['vote_average']\n",
        "\n",
        "  return ( (v/(v+m)) * R) + ( (m/(m+v)) * C)\n",
        "\n",
        "movies_df['weighted_vote'] = movies_df.apply(weighted_vote_average, axis=1)"
      ],
      "metadata": {
        "id": "qXefI8oo_ieS"
      },
      "execution_count": 24,
      "outputs": []
    },
    {
      "cell_type": "code",
      "source": [
        "movies_df[['title', 'vote_average', 'weighted_vote', 'vote_count']].sort_values('weighted_vote', ascending=False)[:10]"
      ],
      "metadata": {
        "colab": {
          "base_uri": "https://localhost:8080/",
          "height": 363
        },
        "id": "T1HicVdd_60n",
        "outputId": "82d98b6b-5463-420d-9175-c6240d18926e"
      },
      "execution_count": 26,
      "outputs": [
        {
          "output_type": "execute_result",
          "data": {
            "text/plain": [
              "                         title  vote_average  weighted_vote  vote_count\n",
              "1881  The Shawshank Redemption           8.5       8.396052        8205\n",
              "3337             The Godfather           8.4       8.263591        5893\n",
              "662                 Fight Club           8.3       8.216455        9413\n",
              "3232              Pulp Fiction           8.3       8.207102        8428\n",
              "65             The Dark Knight           8.2       8.136930       12002\n",
              "1818          Schindler's List           8.3       8.126069        4329\n",
              "3865                  Whiplash           8.3       8.123248        4254\n",
              "809               Forrest Gump           8.2       8.105954        7927\n",
              "2294             Spirited Away           8.3       8.105867        3840\n",
              "2731    The Godfather: Part II           8.3       8.079586        3338"
            ],
            "text/html": [
              "\n",
              "  <div id=\"df-27307999-9df4-4afc-af90-62d4045417e0\">\n",
              "    <div class=\"colab-df-container\">\n",
              "      <div>\n",
              "<style scoped>\n",
              "    .dataframe tbody tr th:only-of-type {\n",
              "        vertical-align: middle;\n",
              "    }\n",
              "\n",
              "    .dataframe tbody tr th {\n",
              "        vertical-align: top;\n",
              "    }\n",
              "\n",
              "    .dataframe thead th {\n",
              "        text-align: right;\n",
              "    }\n",
              "</style>\n",
              "<table border=\"1\" class=\"dataframe\">\n",
              "  <thead>\n",
              "    <tr style=\"text-align: right;\">\n",
              "      <th></th>\n",
              "      <th>title</th>\n",
              "      <th>vote_average</th>\n",
              "      <th>weighted_vote</th>\n",
              "      <th>vote_count</th>\n",
              "    </tr>\n",
              "  </thead>\n",
              "  <tbody>\n",
              "    <tr>\n",
              "      <th>1881</th>\n",
              "      <td>The Shawshank Redemption</td>\n",
              "      <td>8.5</td>\n",
              "      <td>8.396052</td>\n",
              "      <td>8205</td>\n",
              "    </tr>\n",
              "    <tr>\n",
              "      <th>3337</th>\n",
              "      <td>The Godfather</td>\n",
              "      <td>8.4</td>\n",
              "      <td>8.263591</td>\n",
              "      <td>5893</td>\n",
              "    </tr>\n",
              "    <tr>\n",
              "      <th>662</th>\n",
              "      <td>Fight Club</td>\n",
              "      <td>8.3</td>\n",
              "      <td>8.216455</td>\n",
              "      <td>9413</td>\n",
              "    </tr>\n",
              "    <tr>\n",
              "      <th>3232</th>\n",
              "      <td>Pulp Fiction</td>\n",
              "      <td>8.3</td>\n",
              "      <td>8.207102</td>\n",
              "      <td>8428</td>\n",
              "    </tr>\n",
              "    <tr>\n",
              "      <th>65</th>\n",
              "      <td>The Dark Knight</td>\n",
              "      <td>8.2</td>\n",
              "      <td>8.136930</td>\n",
              "      <td>12002</td>\n",
              "    </tr>\n",
              "    <tr>\n",
              "      <th>1818</th>\n",
              "      <td>Schindler's List</td>\n",
              "      <td>8.3</td>\n",
              "      <td>8.126069</td>\n",
              "      <td>4329</td>\n",
              "    </tr>\n",
              "    <tr>\n",
              "      <th>3865</th>\n",
              "      <td>Whiplash</td>\n",
              "      <td>8.3</td>\n",
              "      <td>8.123248</td>\n",
              "      <td>4254</td>\n",
              "    </tr>\n",
              "    <tr>\n",
              "      <th>809</th>\n",
              "      <td>Forrest Gump</td>\n",
              "      <td>8.2</td>\n",
              "      <td>8.105954</td>\n",
              "      <td>7927</td>\n",
              "    </tr>\n",
              "    <tr>\n",
              "      <th>2294</th>\n",
              "      <td>Spirited Away</td>\n",
              "      <td>8.3</td>\n",
              "      <td>8.105867</td>\n",
              "      <td>3840</td>\n",
              "    </tr>\n",
              "    <tr>\n",
              "      <th>2731</th>\n",
              "      <td>The Godfather: Part II</td>\n",
              "      <td>8.3</td>\n",
              "      <td>8.079586</td>\n",
              "      <td>3338</td>\n",
              "    </tr>\n",
              "  </tbody>\n",
              "</table>\n",
              "</div>\n",
              "      <button class=\"colab-df-convert\" onclick=\"convertToInteractive('df-27307999-9df4-4afc-af90-62d4045417e0')\"\n",
              "              title=\"Convert this dataframe to an interactive table.\"\n",
              "              style=\"display:none;\">\n",
              "        \n",
              "  <svg xmlns=\"http://www.w3.org/2000/svg\" height=\"24px\"viewBox=\"0 0 24 24\"\n",
              "       width=\"24px\">\n",
              "    <path d=\"M0 0h24v24H0V0z\" fill=\"none\"/>\n",
              "    <path d=\"M18.56 5.44l.94 2.06.94-2.06 2.06-.94-2.06-.94-.94-2.06-.94 2.06-2.06.94zm-11 1L8.5 8.5l.94-2.06 2.06-.94-2.06-.94L8.5 2.5l-.94 2.06-2.06.94zm10 10l.94 2.06.94-2.06 2.06-.94-2.06-.94-.94-2.06-.94 2.06-2.06.94z\"/><path d=\"M17.41 7.96l-1.37-1.37c-.4-.4-.92-.59-1.43-.59-.52 0-1.04.2-1.43.59L10.3 9.45l-7.72 7.72c-.78.78-.78 2.05 0 2.83L4 21.41c.39.39.9.59 1.41.59.51 0 1.02-.2 1.41-.59l7.78-7.78 2.81-2.81c.8-.78.8-2.07 0-2.86zM5.41 20L4 18.59l7.72-7.72 1.47 1.35L5.41 20z\"/>\n",
              "  </svg>\n",
              "      </button>\n",
              "      \n",
              "  <style>\n",
              "    .colab-df-container {\n",
              "      display:flex;\n",
              "      flex-wrap:wrap;\n",
              "      gap: 12px;\n",
              "    }\n",
              "\n",
              "    .colab-df-convert {\n",
              "      background-color: #E8F0FE;\n",
              "      border: none;\n",
              "      border-radius: 50%;\n",
              "      cursor: pointer;\n",
              "      display: none;\n",
              "      fill: #1967D2;\n",
              "      height: 32px;\n",
              "      padding: 0 0 0 0;\n",
              "      width: 32px;\n",
              "    }\n",
              "\n",
              "    .colab-df-convert:hover {\n",
              "      background-color: #E2EBFA;\n",
              "      box-shadow: 0px 1px 2px rgba(60, 64, 67, 0.3), 0px 1px 3px 1px rgba(60, 64, 67, 0.15);\n",
              "      fill: #174EA6;\n",
              "    }\n",
              "\n",
              "    [theme=dark] .colab-df-convert {\n",
              "      background-color: #3B4455;\n",
              "      fill: #D2E3FC;\n",
              "    }\n",
              "\n",
              "    [theme=dark] .colab-df-convert:hover {\n",
              "      background-color: #434B5C;\n",
              "      box-shadow: 0px 1px 3px 1px rgba(0, 0, 0, 0.15);\n",
              "      filter: drop-shadow(0px 1px 2px rgba(0, 0, 0, 0.3));\n",
              "      fill: #FFFFFF;\n",
              "    }\n",
              "  </style>\n",
              "\n",
              "      <script>\n",
              "        const buttonEl =\n",
              "          document.querySelector('#df-27307999-9df4-4afc-af90-62d4045417e0 button.colab-df-convert');\n",
              "        buttonEl.style.display =\n",
              "          google.colab.kernel.accessAllowed ? 'block' : 'none';\n",
              "\n",
              "        async function convertToInteractive(key) {\n",
              "          const element = document.querySelector('#df-27307999-9df4-4afc-af90-62d4045417e0');\n",
              "          const dataTable =\n",
              "            await google.colab.kernel.invokeFunction('convertToInteractive',\n",
              "                                                     [key], {});\n",
              "          if (!dataTable) return;\n",
              "\n",
              "          const docLinkHtml = 'Like what you see? Visit the ' +\n",
              "            '<a target=\"_blank\" href=https://colab.research.google.com/notebooks/data_table.ipynb>data table notebook</a>'\n",
              "            + ' to learn more about interactive tables.';\n",
              "          element.innerHTML = '';\n",
              "          dataTable['output_type'] = 'display_data';\n",
              "          await google.colab.output.renderOutput(dataTable, element);\n",
              "          const docLink = document.createElement('div');\n",
              "          docLink.innerHTML = docLinkHtml;\n",
              "          element.appendChild(docLink);\n",
              "        }\n",
              "      </script>\n",
              "    </div>\n",
              "  </div>\n",
              "  "
            ]
          },
          "metadata": {},
          "execution_count": 26
        }
      ]
    },
    {
      "cell_type": "markdown",
      "source": [
        ">이제 새롭게 정의된 평점 기준에 따라 영화 추천."
      ],
      "metadata": {
        "id": "fXSVgHTGAfbc"
      }
    },
    {
      "cell_type": "code",
      "source": [
        "def find_sim_movie(df, sorted_ind, title_name, top_n=10):\n",
        "  title_movie = df[df['title']==title_name]\n",
        "  title_index = title_movie.index.values\n",
        "\n",
        "  # top_n의 2배에 해당하는 장르 유사성이 높은 인덱스 추출\n",
        "  similar_indexes = sorted_ind[title_index, :(top_n*2)]\n",
        "  similar_indexes = similar_indexes.reshape(-1)\n",
        "  # 기준 영화 인덱스는 제외\n",
        "  similar_indexes = similar_indexes[similar_indexes != title_index]\n",
        "\n",
        "  # top_n의 2배에 해당하는 후보군에서 weighted_vote가 높은 순으로 top_n만큼 추출\n",
        "  return df.iloc[similar_indexes].sort_values('weighted_vote', ascending=False)[:top_n]\n",
        "\n",
        "similar_movies = find_sim_movie(movies_df, genre_sim_sorted_ind, 'The Godfather', 10)\n",
        "similar_movies[['title', 'vote_average', 'weighted_vote']]"
      ],
      "metadata": {
        "colab": {
          "base_uri": "https://localhost:8080/",
          "height": 363
        },
        "id": "xyRjEh_cADM9",
        "outputId": "67fb2087-4597-4fc2-c783-262e6ab8d22b"
      },
      "execution_count": 28,
      "outputs": [
        {
          "output_type": "execute_result",
          "data": {
            "text/plain": [
              "                            title  vote_average  weighted_vote\n",
              "2731       The Godfather: Part II           8.3       8.079586\n",
              "1847                   GoodFellas           8.2       7.976937\n",
              "3866                  City of God           8.1       7.759693\n",
              "1663  Once Upon a Time in America           8.2       7.657811\n",
              "883           Catch Me If You Can           7.7       7.557097\n",
              "281             American Gangster           7.4       7.141396\n",
              "4041              This Is England           7.4       6.739664\n",
              "1149              American Hustle           6.8       6.717525\n",
              "1243                 Mean Streets           7.2       6.626569\n",
              "2839                     Rounders           6.9       6.530427"
            ],
            "text/html": [
              "\n",
              "  <div id=\"df-c6fdef0c-9609-4d9d-b8b0-28905af03677\">\n",
              "    <div class=\"colab-df-container\">\n",
              "      <div>\n",
              "<style scoped>\n",
              "    .dataframe tbody tr th:only-of-type {\n",
              "        vertical-align: middle;\n",
              "    }\n",
              "\n",
              "    .dataframe tbody tr th {\n",
              "        vertical-align: top;\n",
              "    }\n",
              "\n",
              "    .dataframe thead th {\n",
              "        text-align: right;\n",
              "    }\n",
              "</style>\n",
              "<table border=\"1\" class=\"dataframe\">\n",
              "  <thead>\n",
              "    <tr style=\"text-align: right;\">\n",
              "      <th></th>\n",
              "      <th>title</th>\n",
              "      <th>vote_average</th>\n",
              "      <th>weighted_vote</th>\n",
              "    </tr>\n",
              "  </thead>\n",
              "  <tbody>\n",
              "    <tr>\n",
              "      <th>2731</th>\n",
              "      <td>The Godfather: Part II</td>\n",
              "      <td>8.3</td>\n",
              "      <td>8.079586</td>\n",
              "    </tr>\n",
              "    <tr>\n",
              "      <th>1847</th>\n",
              "      <td>GoodFellas</td>\n",
              "      <td>8.2</td>\n",
              "      <td>7.976937</td>\n",
              "    </tr>\n",
              "    <tr>\n",
              "      <th>3866</th>\n",
              "      <td>City of God</td>\n",
              "      <td>8.1</td>\n",
              "      <td>7.759693</td>\n",
              "    </tr>\n",
              "    <tr>\n",
              "      <th>1663</th>\n",
              "      <td>Once Upon a Time in America</td>\n",
              "      <td>8.2</td>\n",
              "      <td>7.657811</td>\n",
              "    </tr>\n",
              "    <tr>\n",
              "      <th>883</th>\n",
              "      <td>Catch Me If You Can</td>\n",
              "      <td>7.7</td>\n",
              "      <td>7.557097</td>\n",
              "    </tr>\n",
              "    <tr>\n",
              "      <th>281</th>\n",
              "      <td>American Gangster</td>\n",
              "      <td>7.4</td>\n",
              "      <td>7.141396</td>\n",
              "    </tr>\n",
              "    <tr>\n",
              "      <th>4041</th>\n",
              "      <td>This Is England</td>\n",
              "      <td>7.4</td>\n",
              "      <td>6.739664</td>\n",
              "    </tr>\n",
              "    <tr>\n",
              "      <th>1149</th>\n",
              "      <td>American Hustle</td>\n",
              "      <td>6.8</td>\n",
              "      <td>6.717525</td>\n",
              "    </tr>\n",
              "    <tr>\n",
              "      <th>1243</th>\n",
              "      <td>Mean Streets</td>\n",
              "      <td>7.2</td>\n",
              "      <td>6.626569</td>\n",
              "    </tr>\n",
              "    <tr>\n",
              "      <th>2839</th>\n",
              "      <td>Rounders</td>\n",
              "      <td>6.9</td>\n",
              "      <td>6.530427</td>\n",
              "    </tr>\n",
              "  </tbody>\n",
              "</table>\n",
              "</div>\n",
              "      <button class=\"colab-df-convert\" onclick=\"convertToInteractive('df-c6fdef0c-9609-4d9d-b8b0-28905af03677')\"\n",
              "              title=\"Convert this dataframe to an interactive table.\"\n",
              "              style=\"display:none;\">\n",
              "        \n",
              "  <svg xmlns=\"http://www.w3.org/2000/svg\" height=\"24px\"viewBox=\"0 0 24 24\"\n",
              "       width=\"24px\">\n",
              "    <path d=\"M0 0h24v24H0V0z\" fill=\"none\"/>\n",
              "    <path d=\"M18.56 5.44l.94 2.06.94-2.06 2.06-.94-2.06-.94-.94-2.06-.94 2.06-2.06.94zm-11 1L8.5 8.5l.94-2.06 2.06-.94-2.06-.94L8.5 2.5l-.94 2.06-2.06.94zm10 10l.94 2.06.94-2.06 2.06-.94-2.06-.94-.94-2.06-.94 2.06-2.06.94z\"/><path d=\"M17.41 7.96l-1.37-1.37c-.4-.4-.92-.59-1.43-.59-.52 0-1.04.2-1.43.59L10.3 9.45l-7.72 7.72c-.78.78-.78 2.05 0 2.83L4 21.41c.39.39.9.59 1.41.59.51 0 1.02-.2 1.41-.59l7.78-7.78 2.81-2.81c.8-.78.8-2.07 0-2.86zM5.41 20L4 18.59l7.72-7.72 1.47 1.35L5.41 20z\"/>\n",
              "  </svg>\n",
              "      </button>\n",
              "      \n",
              "  <style>\n",
              "    .colab-df-container {\n",
              "      display:flex;\n",
              "      flex-wrap:wrap;\n",
              "      gap: 12px;\n",
              "    }\n",
              "\n",
              "    .colab-df-convert {\n",
              "      background-color: #E8F0FE;\n",
              "      border: none;\n",
              "      border-radius: 50%;\n",
              "      cursor: pointer;\n",
              "      display: none;\n",
              "      fill: #1967D2;\n",
              "      height: 32px;\n",
              "      padding: 0 0 0 0;\n",
              "      width: 32px;\n",
              "    }\n",
              "\n",
              "    .colab-df-convert:hover {\n",
              "      background-color: #E2EBFA;\n",
              "      box-shadow: 0px 1px 2px rgba(60, 64, 67, 0.3), 0px 1px 3px 1px rgba(60, 64, 67, 0.15);\n",
              "      fill: #174EA6;\n",
              "    }\n",
              "\n",
              "    [theme=dark] .colab-df-convert {\n",
              "      background-color: #3B4455;\n",
              "      fill: #D2E3FC;\n",
              "    }\n",
              "\n",
              "    [theme=dark] .colab-df-convert:hover {\n",
              "      background-color: #434B5C;\n",
              "      box-shadow: 0px 1px 3px 1px rgba(0, 0, 0, 0.15);\n",
              "      filter: drop-shadow(0px 1px 2px rgba(0, 0, 0, 0.3));\n",
              "      fill: #FFFFFF;\n",
              "    }\n",
              "  </style>\n",
              "\n",
              "      <script>\n",
              "        const buttonEl =\n",
              "          document.querySelector('#df-c6fdef0c-9609-4d9d-b8b0-28905af03677 button.colab-df-convert');\n",
              "        buttonEl.style.display =\n",
              "          google.colab.kernel.accessAllowed ? 'block' : 'none';\n",
              "\n",
              "        async function convertToInteractive(key) {\n",
              "          const element = document.querySelector('#df-c6fdef0c-9609-4d9d-b8b0-28905af03677');\n",
              "          const dataTable =\n",
              "            await google.colab.kernel.invokeFunction('convertToInteractive',\n",
              "                                                     [key], {});\n",
              "          if (!dataTable) return;\n",
              "\n",
              "          const docLinkHtml = 'Like what you see? Visit the ' +\n",
              "            '<a target=\"_blank\" href=https://colab.research.google.com/notebooks/data_table.ipynb>data table notebook</a>'\n",
              "            + ' to learn more about interactive tables.';\n",
              "          element.innerHTML = '';\n",
              "          dataTable['output_type'] = 'display_data';\n",
              "          await google.colab.output.renderOutput(dataTable, element);\n",
              "          const docLink = document.createElement('div');\n",
              "          docLink.innerHTML = docLinkHtml;\n",
              "          element.appendChild(docLink);\n",
              "        }\n",
              "      </script>\n",
              "    </div>\n",
              "  </div>\n",
              "  "
            ]
          },
          "metadata": {},
          "execution_count": 28
        }
      ]
    },
    {
      "cell_type": "markdown",
      "source": [
        ">이전에 추천된 영화보다 훨씬 나은 영화가 추천됨."
      ],
      "metadata": {
        "id": "HpSMRmkQBWH9"
      }
    }
  ]
}