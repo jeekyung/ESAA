{
  "nbformat": 4,
  "nbformat_minor": 0,
  "metadata": {
    "colab": {
      "name": "Do_it!_데이터분석을_위한_판다스_입문_pg.241~242,256~263_필사.ipynb",
      "provenance": [],
      "mount_file_id": "1OMrNAc6e_AEFnCjXJHtSAGtu8XA3e3LF",
      "authorship_tag": "ABX9TyPXxsYVJIocxLp4vvDTdurF",
      "include_colab_link": true
    },
    "kernelspec": {
      "name": "python3",
      "display_name": "Python 3"
    },
    "language_info": {
      "name": "python"
    }
  },
  "cells": [
    {
      "cell_type": "markdown",
      "metadata": {
        "id": "view-in-github",
        "colab_type": "text"
      },
      "source": [
        "<a href=\"https://colab.research.google.com/github/jeekyung/ESAA/blob/main/Do_it!_%EB%8D%B0%EC%9D%B4%ED%84%B0%EB%B6%84%EC%84%9D%EC%9D%84_%EC%9C%84%ED%95%9C_%ED%8C%90%EB%8B%A4%EC%8A%A4_%EC%9E%85%EB%AC%B8_pg_241~242%2C256~263_%ED%95%84%EC%82%AC.ipynb\" target=\"_parent\"><img src=\"https://colab.research.google.com/assets/colab-badge.svg\" alt=\"Open In Colab\"/></a>"
      ]
    },
    {
      "cell_type": "markdown",
      "source": [
        "#**12] 시계열 데이터**\n",
        "---"
      ],
      "metadata": {
        "id": "gkLSH0YGI-iR"
      }
    },
    {
      "cell_type": "markdown",
      "source": [
        "## **12-1 datetime 오브젝트**\n",
        "\n",
        "---"
      ],
      "metadata": {
        "id": "b8kf2fm7JKm3"
      }
    },
    {
      "cell_type": "markdown",
      "source": [
        "datetime 라이브러리는 날짜와 시간을 처리하는 등의 다양한 기능을 제공하는 파이썬 라이브러리\n",
        "\n",
        "date 오브젝트: 날짜 처리\n",
        "\n",
        "time 오브젝트: 시간 처리\n",
        "\n",
        "datetime 오브젝트: 날짜와 시간 모두 처리"
      ],
      "metadata": {
        "id": "9yli8yC-KnwS"
      }
    },
    {
      "cell_type": "markdown",
      "source": [
        "**datetime 오브젝트 사용하기**"
      ],
      "metadata": {
        "id": "xz-13uTfK3_U"
      }
    },
    {
      "cell_type": "code",
      "execution_count": 1,
      "metadata": {
        "colab": {
          "base_uri": "https://localhost:8080/"
        },
        "id": "5XtF221dIajL",
        "outputId": "50953d7b-0c53-42a6-8e7d-fa87fde7664a"
      },
      "outputs": [
        {
          "output_type": "stream",
          "name": "stdout",
          "text": [
            "2022-04-11 05:50:43.180398\n",
            "2022-04-11 05:50:43.181019\n"
          ]
        }
      ],
      "source": [
        "from datetime import datetime\n",
        "\n",
        "#now,today 메서드로 현재 날짜 및 시간 출력 가능\n",
        "now1 = datetime.now()\n",
        "print(now1)\n",
        "\n",
        "now2 = datetime.today()\n",
        "print(now2)"
      ]
    },
    {
      "cell_type": "code",
      "source": [
        "#시간을 직접 입력하여 인자로 전달 가능\n",
        "t1 = datetime.now()\n",
        "t2 = datetime(1970,1,1)             #날짜만 설정\n",
        "t3 = datetime(1970,12,12,13,24,34)\n",
        "print(t1)\n",
        "print(t2)\n",
        "print(t3)"
      ],
      "metadata": {
        "colab": {
          "base_uri": "https://localhost:8080/"
        },
        "id": "PZyUGQGLLRTx",
        "outputId": "1cc62084-954c-4de4-a9d5-0328f940eccd"
      },
      "execution_count": 2,
      "outputs": [
        {
          "output_type": "stream",
          "name": "stdout",
          "text": [
            "2022-04-11 05:51:58.590608\n",
            "1970-01-01 00:00:00\n",
            "1970-12-12 13:24:34\n"
          ]
        }
      ]
    },
    {
      "cell_type": "markdown",
      "source": [
        "**테슬라 주식 데이터로 시간 계산하기**"
      ],
      "metadata": {
        "id": "CYVxE8ZcLvKe"
      }
    },
    {
      "cell_type": "markdown",
      "source": [
        "pandas-datareader 라이브러리로 주식 데이터 불러오기"
      ],
      "metadata": {
        "id": "mk-NI55hMUum"
      }
    },
    {
      "cell_type": "code",
      "source": [
        "pip install pandas-datareader"
      ],
      "metadata": {
        "colab": {
          "base_uri": "https://localhost:8080/"
        },
        "id": "1Izn6BoEL43N",
        "outputId": "4c6e8fd1-7c8b-431d-c280-a16f8e4de137"
      },
      "execution_count": 4,
      "outputs": [
        {
          "output_type": "stream",
          "name": "stdout",
          "text": [
            "Requirement already satisfied: pandas-datareader in /usr/local/lib/python3.7/dist-packages (0.9.0)\n",
            "Requirement already satisfied: lxml in /usr/local/lib/python3.7/dist-packages (from pandas-datareader) (4.2.6)\n",
            "Requirement already satisfied: pandas>=0.23 in /usr/local/lib/python3.7/dist-packages (from pandas-datareader) (1.3.5)\n",
            "Requirement already satisfied: requests>=2.19.0 in /usr/local/lib/python3.7/dist-packages (from pandas-datareader) (2.23.0)\n",
            "Requirement already satisfied: numpy>=1.17.3 in /usr/local/lib/python3.7/dist-packages (from pandas>=0.23->pandas-datareader) (1.21.5)\n",
            "Requirement already satisfied: python-dateutil>=2.7.3 in /usr/local/lib/python3.7/dist-packages (from pandas>=0.23->pandas-datareader) (2.8.2)\n",
            "Requirement already satisfied: pytz>=2017.3 in /usr/local/lib/python3.7/dist-packages (from pandas>=0.23->pandas-datareader) (2018.9)\n",
            "Requirement already satisfied: six>=1.5 in /usr/local/lib/python3.7/dist-packages (from python-dateutil>=2.7.3->pandas>=0.23->pandas-datareader) (1.15.0)\n",
            "Requirement already satisfied: urllib3!=1.25.0,!=1.25.1,<1.26,>=1.21.1 in /usr/local/lib/python3.7/dist-packages (from requests>=2.19.0->pandas-datareader) (1.24.3)\n",
            "Requirement already satisfied: certifi>=2017.4.17 in /usr/local/lib/python3.7/dist-packages (from requests>=2.19.0->pandas-datareader) (2021.10.8)\n",
            "Requirement already satisfied: idna<3,>=2.5 in /usr/local/lib/python3.7/dist-packages (from requests>=2.19.0->pandas-datareader) (2.10)\n",
            "Requirement already satisfied: chardet<4,>=3.0.2 in /usr/local/lib/python3.7/dist-packages (from requests>=2.19.0->pandas-datareader) (3.0.4)\n"
          ]
        }
      ]
    },
    {
      "cell_type": "code",
      "source": [
        "#geet_data_quanal 메서드에 TSLA라는 문자열을 전달하여 테슬라의 주식 데이터를 내려받기\n",
        "#to_csv 메서드를 사용하여 data 폴더 안에 'tesla_stock_quandl.csv'라는 이름으로 저장\n",
        "\n",
        "import pandas as pd\n",
        "\n",
        "pd.core.common.is_list_like = pd.api.types.is_list_like\n",
        "import pandas_datareader as pdr\n",
        "\n",
        "#tesla에는 데이터 프레임이 저장됨\n",
        "tesla = pdr.get_data_quandl('TSLA', api_key = 'i_qMYr1sQB5Sc9H5ykDZ')\n",
        "\n",
        "#telsa에 저장된 데이터프레임을 파일로 저장\n",
        "tesla.to_csv('/content/drive/MyDrive/data/tesla_stock_quandl.csv')"
      ],
      "metadata": {
        "id": "xEt1r5PjMep6"
      },
      "execution_count": 32,
      "outputs": []
    },
    {
      "cell_type": "markdown",
      "source": [
        "tesla 데이터프레임의 data열은  문자열로 저장되어있음\n",
        "\n",
        "시간 계산을 위해 이를 datetime 오브젝트로 자료형 변환"
      ],
      "metadata": {
        "id": "Bc6Wy5U3Sihz"
      }
    },
    {
      "cell_type": "code",
      "source": [
        "print(tesla.head())"
      ],
      "metadata": {
        "colab": {
          "base_uri": "https://localhost:8080/"
        },
        "id": "stHXNITsSUxj",
        "outputId": "0f403315-06c4-4c43-b7e6-24ad42eb6742"
      },
      "execution_count": 29,
      "outputs": [
        {
          "output_type": "stream",
          "name": "stdout",
          "text": [
            "              Open    High     Low   Close      Volume  ExDividend  \\\n",
            "Date                                                                 \n",
            "2018-03-27  304.00  304.27  277.18  279.18  13696168.0         0.0   \n",
            "2018-03-26  307.34  307.59  291.36  304.18   8324639.0         0.0   \n",
            "2018-03-23  311.25  311.61  300.45  301.54   6600538.0         0.0   \n",
            "2018-03-22  313.89  318.82  308.18  309.10   4914307.0         0.0   \n",
            "2018-03-21  310.25  322.44  310.19  316.53   5927881.0         0.0   \n",
            "\n",
            "            SplitRatio  AdjOpen  AdjHigh  AdjLow  AdjClose   AdjVolume  \n",
            "Date                                                                    \n",
            "2018-03-27         1.0   304.00   304.27  277.18    279.18  13696168.0  \n",
            "2018-03-26         1.0   307.34   307.59  291.36    304.18   8324639.0  \n",
            "2018-03-23         1.0   311.25   311.61  300.45    301.54   6600538.0  \n",
            "2018-03-22         1.0   313.89   318.82  308.18    309.10   4914307.0  \n",
            "2018-03-21         1.0   310.25   322.44  310.19    316.53   5927881.0  \n"
          ]
        }
      ]
    },
    {
      "cell_type": "code",
      "source": [
        "#read_csv 메서드로 데이터 집합(telsa_stock_quandl.csv)를 불러올 때 parse_dates 인자에 Date 열 전달\n",
        "tesla = pd.read_csv('/content/drive/MyDrive/data/tesla_stock_quandl.csv',parse_dates=[0])\n",
        "print(tesla.info())"
      ],
      "metadata": {
        "colab": {
          "base_uri": "https://localhost:8080/"
        },
        "id": "sW8eZKptSrzG",
        "outputId": "9e77bdcb-9839-4d3f-f456-30bbf68573f6"
      },
      "execution_count": 33,
      "outputs": [
        {
          "output_type": "stream",
          "name": "stdout",
          "text": [
            "<class 'pandas.core.frame.DataFrame'>\n",
            "RangeIndex: 240 entries, 0 to 239\n",
            "Data columns (total 13 columns):\n",
            " #   Column      Non-Null Count  Dtype         \n",
            "---  ------      --------------  -----         \n",
            " 0   Date        240 non-null    datetime64[ns]\n",
            " 1   Open        240 non-null    float64       \n",
            " 2   High        240 non-null    float64       \n",
            " 3   Low         240 non-null    float64       \n",
            " 4   Close       240 non-null    float64       \n",
            " 5   Volume      240 non-null    float64       \n",
            " 6   ExDividend  240 non-null    float64       \n",
            " 7   SplitRatio  240 non-null    float64       \n",
            " 8   AdjOpen     240 non-null    float64       \n",
            " 9   AdjHigh     240 non-null    float64       \n",
            " 10  AdjLow      240 non-null    float64       \n",
            " 11  AdjClose    240 non-null    float64       \n",
            " 12  AdjVolume   240 non-null    float64       \n",
            "dtypes: datetime64[ns](1), float64(12)\n",
            "memory usage: 24.5 KB\n",
            "None\n"
          ]
        }
      ]
    },
    {
      "cell_type": "markdown",
      "source": [
        "->Date 열의 자료형이 datetime 오브젝트로 변환됨"
      ],
      "metadata": {
        "id": "QeE114RJTBi2"
      }
    },
    {
      "cell_type": "code",
      "source": [
        "#예시-2018년 3월의 데이터만 추출\n",
        "print(tesla.loc[(tesla.Date.dt.year == 2018) & (tesla.Date.dt.month == 3)])"
      ],
      "metadata": {
        "colab": {
          "base_uri": "https://localhost:8080/"
        },
        "id": "MjrNBTspTGpX",
        "outputId": "33478a52-d060-42b2-9fd2-06ea7b2534b9"
      },
      "execution_count": 37,
      "outputs": [
        {
          "output_type": "stream",
          "name": "stdout",
          "text": [
            "         Date    Open    High       Low   Close      Volume  ExDividend  \\\n",
            "0  2018-03-27  304.00  304.27  277.1800  279.18  13696168.0         0.0   \n",
            "1  2018-03-26  307.34  307.59  291.3600  304.18   8324639.0         0.0   \n",
            "2  2018-03-23  311.25  311.61  300.4500  301.54   6600538.0         0.0   \n",
            "3  2018-03-22  313.89  318.82  308.1800  309.10   4914307.0         0.0   \n",
            "4  2018-03-21  310.25  322.44  310.1900  316.53   5927881.0         0.0   \n",
            "5  2018-03-20  314.87  316.25  308.7600  310.55   4726182.0         0.0   \n",
            "6  2018-03-19  316.50  320.75  309.6700  313.56   7440766.0         0.0   \n",
            "7  2018-03-16  325.96  327.40  319.0700  321.35   6058612.0         0.0   \n",
            "8  2018-03-15  329.38  332.85  321.1000  325.60   6366922.0         0.0   \n",
            "9  2018-03-14  336.76  339.81  323.9300  326.63   7932511.0         0.0   \n",
            "10 2018-03-13  344.92  345.12  336.2635  341.84   5932110.0         0.0   \n",
            "11 2018-03-12  328.61  347.21  326.5000  345.51   8212156.0         0.0   \n",
            "12 2018-03-09  324.10  328.49  322.3700  327.17   5479716.0         0.0   \n",
            "13 2018-03-08  332.86  333.30  326.2740  329.10   3476944.0         0.0   \n",
            "14 2018-03-07  325.44  332.50  321.7400  332.30   5007297.0         0.0   \n",
            "15 2018-03-06  333.75  336.37  327.0300  328.20   4285744.0         0.0   \n",
            "16 2018-03-05  332.39  337.75  329.2929  333.35   3823769.0         0.0   \n",
            "17 2018-03-02  326.98  335.22  322.9700  335.12   5092829.0         0.0   \n",
            "18 2018-03-01  345.01  348.67  330.0700  330.93   6885601.0         0.0   \n",
            "\n",
            "    SplitRatio  AdjOpen  AdjHigh    AdjLow  AdjClose   AdjVolume  \n",
            "0          1.0   304.00   304.27  277.1800    279.18  13696168.0  \n",
            "1          1.0   307.34   307.59  291.3600    304.18   8324639.0  \n",
            "2          1.0   311.25   311.61  300.4500    301.54   6600538.0  \n",
            "3          1.0   313.89   318.82  308.1800    309.10   4914307.0  \n",
            "4          1.0   310.25   322.44  310.1900    316.53   5927881.0  \n",
            "5          1.0   314.87   316.25  308.7600    310.55   4726182.0  \n",
            "6          1.0   316.50   320.75  309.6700    313.56   7440766.0  \n",
            "7          1.0   325.96   327.40  319.0700    321.35   6058612.0  \n",
            "8          1.0   329.38   332.85  321.1000    325.60   6366922.0  \n",
            "9          1.0   336.76   339.81  323.9300    326.63   7932511.0  \n",
            "10         1.0   344.92   345.12  336.2635    341.84   5932110.0  \n",
            "11         1.0   328.61   347.21  326.5000    345.51   8212156.0  \n",
            "12         1.0   324.10   328.49  322.3700    327.17   5479716.0  \n",
            "13         1.0   332.86   333.30  326.2740    329.10   3476944.0  \n",
            "14         1.0   325.44   332.50  321.7400    332.30   5007297.0  \n",
            "15         1.0   333.75   336.37  327.0300    328.20   4285744.0  \n",
            "16         1.0   332.39   337.75  329.2929    333.35   3823769.0  \n",
            "17         1.0   326.98   335.22  322.9700    335.12   5092829.0  \n",
            "18         1.0   345.01   348.67  330.0700    330.93   6885601.0  \n"
          ]
        }
      ]
    },
    {
      "cell_type": "markdown",
      "source": [
        "## ■ datetime 오브젝트와 인덱스 - DatetimeIndex\n",
        "\n",
        "---"
      ],
      "metadata": {
        "id": "UwY3OccgT2sp"
      }
    },
    {
      "cell_type": "markdown",
      "source": [
        "데이터프레임의 행 번호 대신 datetime 오브젝트를 데이터프레임의 인덱스로 설정하면 원하는 시간의 데이터를 바로 추출할 수 있음"
      ],
      "metadata": {
        "id": "7VBwnZNHT6tn"
      }
    },
    {
      "cell_type": "markdown",
      "source": [
        "**datetime 오브젝트를 인덱스로 설정해 데이터 추출하기**"
      ],
      "metadata": {
        "id": "-lMI7jmlUxqv"
      }
    },
    {
      "cell_type": "code",
      "source": [
        "#Data 열을 tesla 데이터프레임의 인덱스로 지정\n",
        "tesla.index = tesla['Date']\n",
        "print(tesla.index)"
      ],
      "metadata": {
        "colab": {
          "base_uri": "https://localhost:8080/"
        },
        "id": "HOVeg994U3yg",
        "outputId": "9f1a28c5-1f63-4cd4-93a3-7e15d46185da"
      },
      "execution_count": 38,
      "outputs": [
        {
          "output_type": "stream",
          "name": "stdout",
          "text": [
            "DatetimeIndex(['2018-03-27', '2018-03-26', '2018-03-23', '2018-03-22',\n",
            "               '2018-03-21', '2018-03-20', '2018-03-19', '2018-03-16',\n",
            "               '2018-03-15', '2018-03-14',\n",
            "               ...\n",
            "               '2017-04-26', '2017-04-25', '2017-04-24', '2017-04-21',\n",
            "               '2017-04-20', '2017-04-19', '2017-04-18', '2017-04-17',\n",
            "               '2017-04-13', '2017-04-12'],\n",
            "              dtype='datetime64[ns]', name='Date', length=240, freq=None)\n"
          ]
        }
      ]
    },
    {
      "cell_type": "code",
      "source": [
        "#예시1-2018년의 데이터 바로 추출\n",
        "print(tesla['2018'].iloc[:5, :5])"
      ],
      "metadata": {
        "colab": {
          "base_uri": "https://localhost:8080/"
        },
        "id": "wnQuaGS8U_OB",
        "outputId": "f30a63e4-5d40-44cc-823f-daeca1144814"
      },
      "execution_count": 41,
      "outputs": [
        {
          "output_type": "stream",
          "name": "stdout",
          "text": [
            "                 Date    Open    High     Low   Close\n",
            "Date                                                 \n",
            "2018-03-27 2018-03-27  304.00  304.27  277.18  279.18\n",
            "2018-03-26 2018-03-26  307.34  307.59  291.36  304.18\n",
            "2018-03-23 2018-03-23  311.25  311.61  300.45  301.54\n",
            "2018-03-22 2018-03-22  313.89  318.82  308.18  309.10\n",
            "2018-03-21 2018-03-21  310.25  322.44  310.19  316.53\n"
          ]
        },
        {
          "output_type": "stream",
          "name": "stderr",
          "text": [
            "/usr/local/lib/python3.7/dist-packages/ipykernel_launcher.py:2: FutureWarning: Indexing a DataFrame with a datetimelike index using a single string to slice the rows, like `frame[string]`, is deprecated and will be removed in a future version. Use `frame.loc[string]` instead.\n",
            "  \n"
          ]
        }
      ]
    },
    {
      "cell_type": "code",
      "source": [
        "#예시2-2018년 3월의 데이터 추출\n",
        "print(tesla['2018-03'].iloc[:, :5])"
      ],
      "metadata": {
        "colab": {
          "base_uri": "https://localhost:8080/"
        },
        "id": "iw6qEECFVJTD",
        "outputId": "1a597a61-8a42-4622-ff7d-0cb2d08ace86"
      },
      "execution_count": 42,
      "outputs": [
        {
          "output_type": "stream",
          "name": "stdout",
          "text": [
            "                 Date    Open    High       Low   Close\n",
            "Date                                                   \n",
            "2018-03-27 2018-03-27  304.00  304.27  277.1800  279.18\n",
            "2018-03-26 2018-03-26  307.34  307.59  291.3600  304.18\n",
            "2018-03-23 2018-03-23  311.25  311.61  300.4500  301.54\n",
            "2018-03-22 2018-03-22  313.89  318.82  308.1800  309.10\n",
            "2018-03-21 2018-03-21  310.25  322.44  310.1900  316.53\n",
            "2018-03-20 2018-03-20  314.87  316.25  308.7600  310.55\n",
            "2018-03-19 2018-03-19  316.50  320.75  309.6700  313.56\n",
            "2018-03-16 2018-03-16  325.96  327.40  319.0700  321.35\n",
            "2018-03-15 2018-03-15  329.38  332.85  321.1000  325.60\n",
            "2018-03-14 2018-03-14  336.76  339.81  323.9300  326.63\n",
            "2018-03-13 2018-03-13  344.92  345.12  336.2635  341.84\n",
            "2018-03-12 2018-03-12  328.61  347.21  326.5000  345.51\n",
            "2018-03-09 2018-03-09  324.10  328.49  322.3700  327.17\n",
            "2018-03-08 2018-03-08  332.86  333.30  326.2740  329.10\n",
            "2018-03-07 2018-03-07  325.44  332.50  321.7400  332.30\n",
            "2018-03-06 2018-03-06  333.75  336.37  327.0300  328.20\n",
            "2018-03-05 2018-03-05  332.39  337.75  329.2929  333.35\n",
            "2018-03-02 2018-03-02  326.98  335.22  322.9700  335.12\n",
            "2018-03-01 2018-03-01  345.01  348.67  330.0700  330.93\n"
          ]
        },
        {
          "output_type": "stream",
          "name": "stderr",
          "text": [
            "/usr/local/lib/python3.7/dist-packages/ipykernel_launcher.py:2: FutureWarning: Indexing a DataFrame with a datetimelike index using a single string to slice the rows, like `frame[string]`, is deprecated and will be removed in a future version. Use `frame.loc[string]` instead.\n",
            "  \n"
          ]
        }
      ]
    },
    {
      "cell_type": "markdown",
      "source": [
        "## ■ 시간 간격과 인덱스 - TimedeltaIndex\n",
        "\n",
        "---"
      ],
      "metadata": {
        "id": "8vvHQv2bU1Kj"
      }
    },
    {
      "cell_type": "markdown",
      "source": [
        "주식 데이터에서 최초 5일간 수집된 데이터만 살펴보고싶다 -> 시간 간격을 인덱스로 지정하여 데이터 추출하기"
      ],
      "metadata": {
        "id": "DhbDb0xwVcBh"
      }
    },
    {
      "cell_type": "markdown",
      "source": [
        "**시간 간격ㅇ르 인덱스로 지정해 데이터 추출하기**"
      ],
      "metadata": {
        "id": "QntS0RsQVqXB"
      }
    },
    {
      "cell_type": "code",
      "source": [
        "#Date 열에서 Date 열의 최솟값(2010-06-29)을 빼면 데이터를 수집한 이후에 시간이 얼마나 흘렀는지 알 수 있다.\n",
        "#Date 열에서 Date 열의 최솟값을 뺸 다음 ref_date열로 추가하기\n",
        "tesla['ref_date'] = tesla['Date'] - tesla['Date'].min()\n",
        "print(tesla.head())"
      ],
      "metadata": {
        "colab": {
          "base_uri": "https://localhost:8080/"
        },
        "id": "a444H0U5VvRs",
        "outputId": "17a1e532-be11-4d05-f0ec-e141cb7b49ae"
      },
      "execution_count": 43,
      "outputs": [
        {
          "output_type": "stream",
          "name": "stdout",
          "text": [
            "                 Date    Open    High     Low   Close      Volume  ExDividend  \\\n",
            "Date                                                                            \n",
            "2018-03-27 2018-03-27  304.00  304.27  277.18  279.18  13696168.0         0.0   \n",
            "2018-03-26 2018-03-26  307.34  307.59  291.36  304.18   8324639.0         0.0   \n",
            "2018-03-23 2018-03-23  311.25  311.61  300.45  301.54   6600538.0         0.0   \n",
            "2018-03-22 2018-03-22  313.89  318.82  308.18  309.10   4914307.0         0.0   \n",
            "2018-03-21 2018-03-21  310.25  322.44  310.19  316.53   5927881.0         0.0   \n",
            "\n",
            "            SplitRatio  AdjOpen  AdjHigh  AdjLow  AdjClose   AdjVolume  \\\n",
            "Date                                                                     \n",
            "2018-03-27         1.0   304.00   304.27  277.18    279.18  13696168.0   \n",
            "2018-03-26         1.0   307.34   307.59  291.36    304.18   8324639.0   \n",
            "2018-03-23         1.0   311.25   311.61  300.45    301.54   6600538.0   \n",
            "2018-03-22         1.0   313.89   318.82  308.18    309.10   4914307.0   \n",
            "2018-03-21         1.0   310.25   322.44  310.19    316.53   5927881.0   \n",
            "\n",
            "           ref_date  \n",
            "Date                 \n",
            "2018-03-27 349 days  \n",
            "2018-03-26 348 days  \n",
            "2018-03-23 345 days  \n",
            "2018-03-22 344 days  \n",
            "2018-03-21 343 days  \n"
          ]
        }
      ]
    },
    {
      "cell_type": "code",
      "source": [
        "#ref_date 열을 인덱스로 지정 - 시간 간격을 이용하여 데이터 추출\n",
        "tesla.index = tesla['ref_date']\n",
        "print(tesla.iloc[:5, :5])"
      ],
      "metadata": {
        "colab": {
          "base_uri": "https://localhost:8080/"
        },
        "id": "dCw8V3DLWDWV",
        "outputId": "eacbcd04-adc2-4dad-c70a-285da9371b09"
      },
      "execution_count": 44,
      "outputs": [
        {
          "output_type": "stream",
          "name": "stdout",
          "text": [
            "               Date    Open    High     Low   Close\n",
            "ref_date                                           \n",
            "349 days 2018-03-27  304.00  304.27  277.18  279.18\n",
            "348 days 2018-03-26  307.34  307.59  291.36  304.18\n",
            "345 days 2018-03-23  311.25  311.61  300.45  301.54\n",
            "344 days 2018-03-22  313.89  318.82  308.18  309.10\n",
            "343 days 2018-03-21  310.25  322.44  310.19  316.53\n"
          ]
        }
      ]
    },
    {
      "cell_type": "code",
      "source": [
        "#예시 - 데이터 수집 후 최초 5일의 데이터 추출\n",
        "print(tesla['5 days':].iloc[:5, :5])"
      ],
      "metadata": {
        "colab": {
          "base_uri": "https://localhost:8080/"
        },
        "id": "LLIbFSB4WM0i",
        "outputId": "f8d3ac3d-0a19-4cf1-e8a9-effa415813b6"
      },
      "execution_count": 45,
      "outputs": [
        {
          "output_type": "stream",
          "name": "stdout",
          "text": [
            "               Date    Open      High     Low   Close\n",
            "ref_date                                             \n",
            "5 days   2017-04-17  302.70  304.0000  298.68  301.44\n",
            "1 days   2017-04-13  296.70  307.3900  295.30  304.00\n",
            "0 days   2017-04-12  306.34  308.4481  296.32  296.84\n"
          ]
        }
      ]
    },
    {
      "cell_type": "markdown",
      "source": [
        "## ■ 시간 범위와 인덱스\n",
        "\n",
        "---"
      ],
      "metadata": {
        "id": "3XX-H7YmVtn2"
      }
    },
    {
      "cell_type": "markdown",
      "source": [
        "특정 일에 누락된 데이터도 포함시켜 데이터 살펴보기 위한 방법 - 임의로 시간범위를 생성하여 인덱스로 지정"
      ],
      "metadata": {
        "id": "vG4f4eoLWelf"
      }
    },
    {
      "cell_type": "markdown",
      "source": [
        "**시간 범위 생성해 인덱스로 지정하기**"
      ],
      "metadata": {
        "id": "8U2_-lduWl9w"
      }
    },
    {
      "cell_type": "code",
      "source": [
        "ebola = pd.read_csv('/content/drive/MyDrive/data/country_timeseries.csv', parse_dates = [0])\n",
        "print(ebola.iloc[:5,:5])   #01월 01일 데이터 누락됨"
      ],
      "metadata": {
        "colab": {
          "base_uri": "https://localhost:8080/"
        },
        "id": "6tRuDwmKWpd-",
        "outputId": "78773edc-5a29-44f1-a954-c02387d41a7a"
      },
      "execution_count": 52,
      "outputs": [
        {
          "output_type": "stream",
          "name": "stdout",
          "text": [
            "        Date  Day  Cases_Guinea  Cases_Liberia  Cases_SierraLeone\n",
            "0 2015-01-05  289        2776.0            NaN            10030.0\n",
            "1 2015-01-04  288        2775.0            NaN             9780.0\n",
            "2 2015-01-03  287        2769.0         8166.0             9722.0\n",
            "3 2015-01-02  286           NaN         8157.0                NaN\n",
            "4 2014-12-31  284        2730.0         8115.0             9633.0\n"
          ]
        }
      ]
    },
    {
      "cell_type": "code",
      "source": [
        "#data_range 메서드를 사용하여 2014-12-31부터 2015-01-05 사이의 시간 인덱스(DatetimeIndex) 생성\n",
        "head_range = pd.date_range(start = '2014-12-31', end = '2015-01-05')\n",
        "print(head_range)"
      ],
      "metadata": {
        "colab": {
          "base_uri": "https://localhost:8080/"
        },
        "id": "UulI3vmjc5M_",
        "outputId": "3b523e2e-83b4-4e10-b9fe-8011bfd7af77"
      },
      "execution_count": 54,
      "outputs": [
        {
          "output_type": "stream",
          "name": "stdout",
          "text": [
            "DatetimeIndex(['2014-12-31', '2015-01-01', '2015-01-02', '2015-01-03',\n",
            "               '2015-01-04', '2015-01-05'],\n",
            "              dtype='datetime64[ns]', freq='D')\n"
          ]
        }
      ]
    },
    {
      "cell_type": "code",
      "source": [
        "#원본 데이터 손상 방지를 위해 ebola 데이터 프레임의 앞쪽 5개의 데이터 추출하여 새로운 데이터프레임 만들기\n",
        "#Date 열을 인덱스로 지정 후 앞서 생성한 시간 범위를 인덱스로 지정\n",
        "ebola_5 = ebola.head()\n",
        "ebola_5.index = ebola_5['Date']\n",
        "ebola_5.reindex(head_range)\n",
        "print(ebola_5.iloc[:5, :5])"
      ],
      "metadata": {
        "colab": {
          "base_uri": "https://localhost:8080/"
        },
        "id": "Xt6XdSBcd3yM",
        "outputId": "354be271-b1e0-4111-81fe-5302aba18fcb"
      },
      "execution_count": 55,
      "outputs": [
        {
          "output_type": "stream",
          "name": "stdout",
          "text": [
            "                 Date  Day  Cases_Guinea  Cases_Liberia  Cases_SierraLeone\n",
            "Date                                                                      \n",
            "2015-01-05 2015-01-05  289        2776.0            NaN            10030.0\n",
            "2015-01-04 2015-01-04  288        2775.0            NaN             9780.0\n",
            "2015-01-03 2015-01-03  287        2769.0         8166.0             9722.0\n",
            "2015-01-02 2015-01-02  286           NaN         8157.0                NaN\n",
            "2014-12-31 2014-12-31  284        2730.0         8115.0             9633.0\n"
          ]
        }
      ]
    },
    {
      "cell_type": "markdown",
      "source": [
        "**+)시간 범위의 주기 설정하기**"
      ],
      "metadata": {
        "id": "RfL2_qLxd0QL"
      }
    },
    {
      "cell_type": "markdown",
      "source": [
        "시간 범위를 인덱스로 지정하면 DatetimeIndex 자료형 생성됨.\n",
        "\n",
        "DatetimeIndex에는 <u>freq 속성</u>이 포함되어있음\n",
        "\n",
        "freq 속성값을 지정하여 시간 간격 조정 가능"
      ],
      "metadata": {
        "id": "SoO_bqcjeY_V"
      }
    },
    {
      "cell_type": "markdown",
      "source": [
        "B: 평일만 포함\n",
        "\n",
        "C: 사용자가 정의한 평일만 포함\n",
        "\n",
        "D: 달력 일자 단위\n",
        "\n",
        "W: 주간 단위\n",
        "\n",
        "M: 월 마지막 날만 포함\n",
        "\n",
        "SM: 15일과 월 마지막 날만 포함\n",
        "\n",
        "BM: M 주기의 값이 휴일이면 제외하고 평일만 포함\n",
        "\n",
        "CBM: BM에 사용자 정의 평일을 적용\n",
        "\n",
        "MS: 월 시작일만 포함\n",
        "\n",
        "SMS: 월 시작일과 15일만 포함\n",
        "\n",
        "BMS: MS 주기의 값이 휴일이면 제외하고 평일만 포함\n",
        "\n",
        "CBMS: BMS에 사용자 정의 평일을 적용\n",
        "\n",
        "Q: 3,6,9,12월 분기 마지막 날만 포함\n",
        "\n",
        "BQ: 3,6,9,12월 분기 마지막 날이 휴일이면 제외하고 평일만 포함\n",
        "\n",
        "QS: 3,6,9,12월 분기 시작일만 포함\n",
        "\n",
        "BQS: 3,6,9,12월 분기 시작일이 휴일이면 제외하고 평일만 포함\n",
        "\n",
        "A: 년의 마지막 날만 포함\n",
        "\n",
        "BA: 년의 마지막 날이 휴일이면 제외하고 평일만 포함\n",
        "\n",
        "AS: 년의 시작일만 포함\n",
        "\n",
        "BAS: 년의 시작일이 휴일이면 제외하고 평일만 포함\n",
        "\n",
        "BH: 평일을 시간 단위로 포함(09:00 ~ 16:00)\n",
        "\n",
        "H: 시간 단위로 포함(00:00~00:00)"
      ],
      "metadata": {
        "id": "mFj4oVs8elr_"
      }
    }
  ]
}