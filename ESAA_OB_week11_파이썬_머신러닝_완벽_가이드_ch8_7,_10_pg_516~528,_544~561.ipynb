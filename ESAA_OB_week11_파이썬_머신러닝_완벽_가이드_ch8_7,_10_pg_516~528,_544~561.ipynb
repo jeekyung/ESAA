{
  "nbformat": 4,
  "nbformat_minor": 0,
  "metadata": {
    "colab": {
      "provenance": [],
      "authorship_tag": "ABX9TyNsbkRgvcB5R7EKcGtuxfI1",
      "include_colab_link": true
    },
    "kernelspec": {
      "name": "python3",
      "display_name": "Python 3"
    },
    "language_info": {
      "name": "python"
    }
  },
  "cells": [
    {
      "cell_type": "markdown",
      "metadata": {
        "id": "view-in-github",
        "colab_type": "text"
      },
      "source": [
        "<a href=\"https://colab.research.google.com/github/jeekyung/ESAA/blob/main/ESAA_OB_week11_%E1%84%91%E1%85%A1%E1%84%8B%E1%85%B5%E1%84%8A%E1%85%A5%E1%86%AB_%E1%84%86%E1%85%A5%E1%84%89%E1%85%B5%E1%86%AB%E1%84%85%E1%85%A5%E1%84%82%E1%85%B5%E1%86%BC_%E1%84%8B%E1%85%AA%E1%86%AB%E1%84%87%E1%85%A7%E1%86%A8_%E1%84%80%E1%85%A1%E1%84%8B%E1%85%B5%E1%84%83%E1%85%B3_ch8_7%2C_10_pg_516~528%2C_544~561.ipynb\" target=\"_parent\"><img src=\"https://colab.research.google.com/assets/colab-badge.svg\" alt=\"Open In Colab\"/></a>"
      ]
    },
    {
      "cell_type": "markdown",
      "source": [
        "# **CHAPTER 08 텍스트 분석**\n",
        "---"
      ],
      "metadata": {
        "id": "TIZpfuHYJaVG"
      }
    },
    {
      "cell_type": "markdown",
      "source": [
        "## **07 문서 군집화 소개와 실습(Opinion Review 데이터 세트)**\n",
        "---"
      ],
      "metadata": {
        "id": "DBZorX5dJd0O"
      }
    },
    {
      "cell_type": "markdown",
      "source": [
        "**문서 군집화 개념**"
      ],
      "metadata": {
        "id": "YFFsulkCJjXP"
      }
    },
    {
      "cell_type": "markdown",
      "source": [
        ">문서 군집화(Kocumnet Clustering)는 비슷한 텍스트 구성의 문서를 군집화(Clustering)하는 것.<br/>\n",
        "사전에 결정 카테고리 값을 가진 학습 데이터 세트가 필요한 텍스트 분류 기반의 문서 분류와 달리, 문서 군집화는 학습 데이터 세트가 필요없는 비지도학습 기반으로 동작."
      ],
      "metadata": {
        "id": "cPGoSrhIJvw8"
      }
    },
    {
      "cell_type": "markdown",
      "source": [
        "**Opinion Review 데이터 세트를 이용한 문서 군집화 수행하기**"
      ],
      "metadata": {
        "id": "7oFxsvjZKC4m"
      }
    },
    {
      "cell_type": "code",
      "source": [
        "from google.colab import drive\n",
        "drive.mount('/content/drive')"
      ],
      "metadata": {
        "colab": {
          "base_uri": "https://localhost:8080/"
        },
        "id": "roJqOrEWIqVu",
        "outputId": "5ccb786d-cfae-4403-bfc3-48b3733d0997"
      },
      "execution_count": 1,
      "outputs": [
        {
          "output_type": "stream",
          "name": "stdout",
          "text": [
            "Drive already mounted at /content/drive; to attempt to forcibly remount, call drive.mount(\"/content/drive\", force_remount=True).\n"
          ]
        }
      ]
    },
    {
      "cell_type": "code",
      "source": [
        "import pandas as pd\n",
        "import glob, os\n",
        "from sklearn.feature_extraction.text import TfidfVectorizer\n",
        "from sklearn.cluster import KMeans\n",
        "\n",
        "path = r'/content/drive/MyDrive/topics'\n",
        "#path로 지정한 디렉터리 밑에 있는 모든 .data 파일의 파일명을 리스트로 취합.\n",
        "all_files = glob.glob(os.path.join(path, \"*.data\"))\n",
        "filename_list = []\n",
        "opinion_text = []\n",
        "\n",
        "# 개별 파일의 파일명은 filename_list로 취합\n",
        "# 개별 파일의 파일 내용은 DataFrame 로딩 후 다시 string으로 변환해 opinion_text list로 취합\n",
        "for file_ in all_files:\n",
        "  #개별 파일을 읽어서 DataFrame으로 생성\n",
        "  df = pd.read_table(file_, index_col=None, header=0, encoding='latin1')\n",
        "\n",
        "  # 절대 경로로 주어진 파일명을 가공, 리눅스에서 수행할 때는 다음 \\\\를 /로 변경\n",
        "  # 맨 마지막 .data 확장자도 제거\n",
        "  filename_ = file_.split('/')[-1]\n",
        "  filename = filename_.split('.')[0]\n",
        "\n",
        "  # 파일명 list와 파일 내용 list에 파일명과 파일 내용을 추가.\n",
        "  filename_list.append(filename)\n",
        "  opinion_text.append(df.to_string())\n",
        "\n",
        "# 파일명 list와 파일 내용 list 객체를 DataFrame으로 생성\n",
        "document_df = pd.DataFrame({'filename':filename_list, 'opinion_text':opinion_text})\n",
        "document_df.head()"
      ],
      "metadata": {
        "colab": {
          "base_uri": "https://localhost:8080/",
          "height": 206
        },
        "id": "Eu0w11NcKWqK",
        "outputId": "ca2efe85-6c60-4ab9-d875-ab74c993cf76"
      },
      "execution_count": 2,
      "outputs": [
        {
          "output_type": "execute_result",
          "data": {
            "text/plain": [
              "                       filename  \\\n",
              "0    battery-life_ipod_nano_8gb   \n",
              "1   screen_garmin_nuvi_255W_gps   \n",
              "2       keyboard_netbook_1005ha   \n",
              "3  updates_garmin_nuvi_255W_gps   \n",
              "4  display_garmin_nuvi_255W_gps   \n",
              "\n",
              "                                        opinion_text  \n",
              "0                                                ...  \n",
              "1                                                ...  \n",
              "2                                                ...  \n",
              "3                                                ...  \n",
              "4                                                ...  "
            ],
            "text/html": [
              "\n",
              "  <div id=\"df-6e096456-e11f-4126-9220-d8fd5c37785f\">\n",
              "    <div class=\"colab-df-container\">\n",
              "      <div>\n",
              "<style scoped>\n",
              "    .dataframe tbody tr th:only-of-type {\n",
              "        vertical-align: middle;\n",
              "    }\n",
              "\n",
              "    .dataframe tbody tr th {\n",
              "        vertical-align: top;\n",
              "    }\n",
              "\n",
              "    .dataframe thead th {\n",
              "        text-align: right;\n",
              "    }\n",
              "</style>\n",
              "<table border=\"1\" class=\"dataframe\">\n",
              "  <thead>\n",
              "    <tr style=\"text-align: right;\">\n",
              "      <th></th>\n",
              "      <th>filename</th>\n",
              "      <th>opinion_text</th>\n",
              "    </tr>\n",
              "  </thead>\n",
              "  <tbody>\n",
              "    <tr>\n",
              "      <th>0</th>\n",
              "      <td>battery-life_ipod_nano_8gb</td>\n",
              "      <td>...</td>\n",
              "    </tr>\n",
              "    <tr>\n",
              "      <th>1</th>\n",
              "      <td>screen_garmin_nuvi_255W_gps</td>\n",
              "      <td>...</td>\n",
              "    </tr>\n",
              "    <tr>\n",
              "      <th>2</th>\n",
              "      <td>keyboard_netbook_1005ha</td>\n",
              "      <td>...</td>\n",
              "    </tr>\n",
              "    <tr>\n",
              "      <th>3</th>\n",
              "      <td>updates_garmin_nuvi_255W_gps</td>\n",
              "      <td>...</td>\n",
              "    </tr>\n",
              "    <tr>\n",
              "      <th>4</th>\n",
              "      <td>display_garmin_nuvi_255W_gps</td>\n",
              "      <td>...</td>\n",
              "    </tr>\n",
              "  </tbody>\n",
              "</table>\n",
              "</div>\n",
              "      <button class=\"colab-df-convert\" onclick=\"convertToInteractive('df-6e096456-e11f-4126-9220-d8fd5c37785f')\"\n",
              "              title=\"Convert this dataframe to an interactive table.\"\n",
              "              style=\"display:none;\">\n",
              "        \n",
              "  <svg xmlns=\"http://www.w3.org/2000/svg\" height=\"24px\"viewBox=\"0 0 24 24\"\n",
              "       width=\"24px\">\n",
              "    <path d=\"M0 0h24v24H0V0z\" fill=\"none\"/>\n",
              "    <path d=\"M18.56 5.44l.94 2.06.94-2.06 2.06-.94-2.06-.94-.94-2.06-.94 2.06-2.06.94zm-11 1L8.5 8.5l.94-2.06 2.06-.94-2.06-.94L8.5 2.5l-.94 2.06-2.06.94zm10 10l.94 2.06.94-2.06 2.06-.94-2.06-.94-.94-2.06-.94 2.06-2.06.94z\"/><path d=\"M17.41 7.96l-1.37-1.37c-.4-.4-.92-.59-1.43-.59-.52 0-1.04.2-1.43.59L10.3 9.45l-7.72 7.72c-.78.78-.78 2.05 0 2.83L4 21.41c.39.39.9.59 1.41.59.51 0 1.02-.2 1.41-.59l7.78-7.78 2.81-2.81c.8-.78.8-2.07 0-2.86zM5.41 20L4 18.59l7.72-7.72 1.47 1.35L5.41 20z\"/>\n",
              "  </svg>\n",
              "      </button>\n",
              "      \n",
              "  <style>\n",
              "    .colab-df-container {\n",
              "      display:flex;\n",
              "      flex-wrap:wrap;\n",
              "      gap: 12px;\n",
              "    }\n",
              "\n",
              "    .colab-df-convert {\n",
              "      background-color: #E8F0FE;\n",
              "      border: none;\n",
              "      border-radius: 50%;\n",
              "      cursor: pointer;\n",
              "      display: none;\n",
              "      fill: #1967D2;\n",
              "      height: 32px;\n",
              "      padding: 0 0 0 0;\n",
              "      width: 32px;\n",
              "    }\n",
              "\n",
              "    .colab-df-convert:hover {\n",
              "      background-color: #E2EBFA;\n",
              "      box-shadow: 0px 1px 2px rgba(60, 64, 67, 0.3), 0px 1px 3px 1px rgba(60, 64, 67, 0.15);\n",
              "      fill: #174EA6;\n",
              "    }\n",
              "\n",
              "    [theme=dark] .colab-df-convert {\n",
              "      background-color: #3B4455;\n",
              "      fill: #D2E3FC;\n",
              "    }\n",
              "\n",
              "    [theme=dark] .colab-df-convert:hover {\n",
              "      background-color: #434B5C;\n",
              "      box-shadow: 0px 1px 3px 1px rgba(0, 0, 0, 0.15);\n",
              "      filter: drop-shadow(0px 1px 2px rgba(0, 0, 0, 0.3));\n",
              "      fill: #FFFFFF;\n",
              "    }\n",
              "  </style>\n",
              "\n",
              "      <script>\n",
              "        const buttonEl =\n",
              "          document.querySelector('#df-6e096456-e11f-4126-9220-d8fd5c37785f button.colab-df-convert');\n",
              "        buttonEl.style.display =\n",
              "          google.colab.kernel.accessAllowed ? 'block' : 'none';\n",
              "\n",
              "        async function convertToInteractive(key) {\n",
              "          const element = document.querySelector('#df-6e096456-e11f-4126-9220-d8fd5c37785f');\n",
              "          const dataTable =\n",
              "            await google.colab.kernel.invokeFunction('convertToInteractive',\n",
              "                                                     [key], {});\n",
              "          if (!dataTable) return;\n",
              "\n",
              "          const docLinkHtml = 'Like what you see? Visit the ' +\n",
              "            '<a target=\"_blank\" href=https://colab.research.google.com/notebooks/data_table.ipynb>data table notebook</a>'\n",
              "            + ' to learn more about interactive tables.';\n",
              "          element.innerHTML = '';\n",
              "          dataTable['output_type'] = 'display_data';\n",
              "          await google.colab.output.renderOutput(dataTable, element);\n",
              "          const docLink = document.createElement('div');\n",
              "          docLink.innerHTML = docLinkHtml;\n",
              "          element.appendChild(docLink);\n",
              "        }\n",
              "      </script>\n",
              "    </div>\n",
              "  </div>\n",
              "  "
            ]
          },
          "metadata": {},
          "execution_count": 2
        }
      ]
    },
    {
      "cell_type": "markdown",
      "source": [
        ">각 파일 이름만으로 의견(opinion)의 텍스트(text)가 어떠한 제품/서비스에 대한 리뷰인지 알 수 있음"
      ],
      "metadata": {
        "id": "Gj13DUQQKGm4"
      }
    },
    {
      "cell_type": "markdown",
      "source": [
        "* 문서를 TF-IDF 형태로 피쳐 벡터화.\n",
        "* tokenizer는 이전 예제에서 Lemmatization을 구현한 LemNormalize() 함수를 이용할 것이며 ngram은 (1,2)로, min_df와 max_df 범위를 설정해 피처의 개수 제한."
      ],
      "metadata": {
        "id": "azG8lF31KwkR"
      }
    },
    {
      "cell_type": "code",
      "source": [
        "import nltk\n",
        "nltk.download('punkt')\n",
        "nltk.download('wordnet')\n",
        "nltk.download('omw-1.4')"
      ],
      "metadata": {
        "colab": {
          "base_uri": "https://localhost:8080/"
        },
        "id": "KzkkwPdhLkL1",
        "outputId": "df5a0945-6cb6-4eb4-810f-483658f7cf4e"
      },
      "execution_count": 3,
      "outputs": [
        {
          "output_type": "stream",
          "name": "stderr",
          "text": [
            "[nltk_data] Downloading package punkt to /root/nltk_data...\n",
            "[nltk_data]   Package punkt is already up-to-date!\n",
            "[nltk_data] Downloading package wordnet to /root/nltk_data...\n",
            "[nltk_data]   Package wordnet is already up-to-date!\n",
            "[nltk_data] Downloading package omw-1.4 to /root/nltk_data...\n",
            "[nltk_data]   Package omw-1.4 is already up-to-date!\n"
          ]
        },
        {
          "output_type": "execute_result",
          "data": {
            "text/plain": [
              "True"
            ]
          },
          "metadata": {},
          "execution_count": 3
        }
      ]
    },
    {
      "cell_type": "code",
      "source": [
        "from nltk.stem import WordNetLemmatizer\n",
        "import nltk\n",
        "import string\n",
        "\n",
        "# 단어 원형 추출 함수\n",
        "lemmar = WordNetLemmatizer()\n",
        "def LemTokens(tokens):\n",
        "    return [lemmar.lemmatize(token) for token in tokens]\n",
        "\n",
        "# 특수 문자 사전 생성: {33: None ...}\n",
        "# ord(): 아스키 코드 생성\n",
        "remove_punct_dict = dict((ord(punct), None) for punct in string.punctuation)\n",
        "\n",
        "# 특수 문자 제거 및 단어 원형 추출\n",
        "def LemNormalize(text):\n",
        "    # 텍스트 소문자 변경 후 특수 문자 제거\n",
        "    text_new = text.lower().translate(remove_punct_dict)\n",
        "    \n",
        "    # 단어 토큰화\n",
        "    word_tokens = nltk.word_tokenize(text_new)\n",
        "    \n",
        "    # 단어 원형 추출\n",
        "    return LemTokens(word_tokens)"
      ],
      "metadata": {
        "id": "27By912nLVq_"
      },
      "execution_count": 4,
      "outputs": []
    },
    {
      "cell_type": "code",
      "execution_count": 5,
      "metadata": {
        "colab": {
          "base_uri": "https://localhost:8080/"
        },
        "id": "pL_xtjJGInEX",
        "outputId": "0ca7d7ba-8ad9-4183-db85-0ade1620be98"
      },
      "outputs": [
        {
          "output_type": "stream",
          "name": "stderr",
          "text": [
            "/usr/local/lib/python3.7/dist-packages/sklearn/feature_extraction/text.py:401: UserWarning: Your stop_words may be inconsistent with your preprocessing. Tokenizing the stop words generated tokens ['ha', 'le', 'u', 'wa'] not in stop_words.\n",
            "  % sorted(inconsistent)\n"
          ]
        }
      ],
      "source": [
        "from sklearn.feature_extraction.text import TfidfVectorizer\n",
        "\n",
        "tfidf_vect = TfidfVectorizer(tokenizer=LemNormalize, stop_words='english',\n",
        "                             ngram_range=(1,2), min_df=0.05, max_df=0.85)\n",
        "#opinion_text 칼럼 값으로 피처 벡터화 수행\n",
        "feature_vect = tfidf_vect.fit_transform(document_df['opinion_text'])"
      ]
    },
    {
      "cell_type": "code",
      "source": [
        "# 문서별 텍스트가 TF-IDF 변환된 피처 벡터화 행렬 데이터에 대해서 군집화를 수행해 어떤 문서끼리 군집되는지 확인.\n",
        "# 군집화 기법은 K-평균 적용.\n",
        "from sklearn.cluster import KMeans\n",
        "\n",
        "# 먼저 5개의 중심(Centroid) 기반으로 어떻게 군집화되는지 확인.\n",
        "km_cluster = KMeans(n_clusters=5, max_iter=10000, random_state=0)\n",
        "km_cluster.fit(feature_vect)\n",
        "cluster_label = km_cluster.labels_\n",
        "cluster_centers = km_cluster.cluster_centers_"
      ],
      "metadata": {
        "id": "nRaBTWi1Lftm"
      },
      "execution_count": 6,
      "outputs": []
    },
    {
      "cell_type": "markdown",
      "source": [
        ">각 데이터별로 할당된 군집의 레이블을 파일명과 파일 내용을 가지고 있는 document_df Dataframe에 'cluster_label' 칼럼을 추가해 저장. 각 파일명은 의견 리뷰에 대한 주제를 나타냄."
      ],
      "metadata": {
        "id": "UT0STTqcMIKj"
      }
    },
    {
      "cell_type": "code",
      "source": [
        "document_df['cluster_label'] = cluster_label\n",
        "document_df.head()"
      ],
      "metadata": {
        "colab": {
          "base_uri": "https://localhost:8080/",
          "height": 206
        },
        "id": "Fpt_kEXCMCYs",
        "outputId": "b9d3f6ce-3126-4217-f496-7e08784d1fe9"
      },
      "execution_count": 7,
      "outputs": [
        {
          "output_type": "execute_result",
          "data": {
            "text/plain": [
              "                       filename  \\\n",
              "0    battery-life_ipod_nano_8gb   \n",
              "1   screen_garmin_nuvi_255W_gps   \n",
              "2       keyboard_netbook_1005ha   \n",
              "3  updates_garmin_nuvi_255W_gps   \n",
              "4  display_garmin_nuvi_255W_gps   \n",
              "\n",
              "                                        opinion_text  cluster_label  \n",
              "0                                                ...              2  \n",
              "1                                                ...              4  \n",
              "2                                                ...              4  \n",
              "3                                                ...              4  \n",
              "4                                                ...              4  "
            ],
            "text/html": [
              "\n",
              "  <div id=\"df-cb2a581a-6065-4b4a-a116-345f41974359\">\n",
              "    <div class=\"colab-df-container\">\n",
              "      <div>\n",
              "<style scoped>\n",
              "    .dataframe tbody tr th:only-of-type {\n",
              "        vertical-align: middle;\n",
              "    }\n",
              "\n",
              "    .dataframe tbody tr th {\n",
              "        vertical-align: top;\n",
              "    }\n",
              "\n",
              "    .dataframe thead th {\n",
              "        text-align: right;\n",
              "    }\n",
              "</style>\n",
              "<table border=\"1\" class=\"dataframe\">\n",
              "  <thead>\n",
              "    <tr style=\"text-align: right;\">\n",
              "      <th></th>\n",
              "      <th>filename</th>\n",
              "      <th>opinion_text</th>\n",
              "      <th>cluster_label</th>\n",
              "    </tr>\n",
              "  </thead>\n",
              "  <tbody>\n",
              "    <tr>\n",
              "      <th>0</th>\n",
              "      <td>battery-life_ipod_nano_8gb</td>\n",
              "      <td>...</td>\n",
              "      <td>2</td>\n",
              "    </tr>\n",
              "    <tr>\n",
              "      <th>1</th>\n",
              "      <td>screen_garmin_nuvi_255W_gps</td>\n",
              "      <td>...</td>\n",
              "      <td>4</td>\n",
              "    </tr>\n",
              "    <tr>\n",
              "      <th>2</th>\n",
              "      <td>keyboard_netbook_1005ha</td>\n",
              "      <td>...</td>\n",
              "      <td>4</td>\n",
              "    </tr>\n",
              "    <tr>\n",
              "      <th>3</th>\n",
              "      <td>updates_garmin_nuvi_255W_gps</td>\n",
              "      <td>...</td>\n",
              "      <td>4</td>\n",
              "    </tr>\n",
              "    <tr>\n",
              "      <th>4</th>\n",
              "      <td>display_garmin_nuvi_255W_gps</td>\n",
              "      <td>...</td>\n",
              "      <td>4</td>\n",
              "    </tr>\n",
              "  </tbody>\n",
              "</table>\n",
              "</div>\n",
              "      <button class=\"colab-df-convert\" onclick=\"convertToInteractive('df-cb2a581a-6065-4b4a-a116-345f41974359')\"\n",
              "              title=\"Convert this dataframe to an interactive table.\"\n",
              "              style=\"display:none;\">\n",
              "        \n",
              "  <svg xmlns=\"http://www.w3.org/2000/svg\" height=\"24px\"viewBox=\"0 0 24 24\"\n",
              "       width=\"24px\">\n",
              "    <path d=\"M0 0h24v24H0V0z\" fill=\"none\"/>\n",
              "    <path d=\"M18.56 5.44l.94 2.06.94-2.06 2.06-.94-2.06-.94-.94-2.06-.94 2.06-2.06.94zm-11 1L8.5 8.5l.94-2.06 2.06-.94-2.06-.94L8.5 2.5l-.94 2.06-2.06.94zm10 10l.94 2.06.94-2.06 2.06-.94-2.06-.94-.94-2.06-.94 2.06-2.06.94z\"/><path d=\"M17.41 7.96l-1.37-1.37c-.4-.4-.92-.59-1.43-.59-.52 0-1.04.2-1.43.59L10.3 9.45l-7.72 7.72c-.78.78-.78 2.05 0 2.83L4 21.41c.39.39.9.59 1.41.59.51 0 1.02-.2 1.41-.59l7.78-7.78 2.81-2.81c.8-.78.8-2.07 0-2.86zM5.41 20L4 18.59l7.72-7.72 1.47 1.35L5.41 20z\"/>\n",
              "  </svg>\n",
              "      </button>\n",
              "      \n",
              "  <style>\n",
              "    .colab-df-container {\n",
              "      display:flex;\n",
              "      flex-wrap:wrap;\n",
              "      gap: 12px;\n",
              "    }\n",
              "\n",
              "    .colab-df-convert {\n",
              "      background-color: #E8F0FE;\n",
              "      border: none;\n",
              "      border-radius: 50%;\n",
              "      cursor: pointer;\n",
              "      display: none;\n",
              "      fill: #1967D2;\n",
              "      height: 32px;\n",
              "      padding: 0 0 0 0;\n",
              "      width: 32px;\n",
              "    }\n",
              "\n",
              "    .colab-df-convert:hover {\n",
              "      background-color: #E2EBFA;\n",
              "      box-shadow: 0px 1px 2px rgba(60, 64, 67, 0.3), 0px 1px 3px 1px rgba(60, 64, 67, 0.15);\n",
              "      fill: #174EA6;\n",
              "    }\n",
              "\n",
              "    [theme=dark] .colab-df-convert {\n",
              "      background-color: #3B4455;\n",
              "      fill: #D2E3FC;\n",
              "    }\n",
              "\n",
              "    [theme=dark] .colab-df-convert:hover {\n",
              "      background-color: #434B5C;\n",
              "      box-shadow: 0px 1px 3px 1px rgba(0, 0, 0, 0.15);\n",
              "      filter: drop-shadow(0px 1px 2px rgba(0, 0, 0, 0.3));\n",
              "      fill: #FFFFFF;\n",
              "    }\n",
              "  </style>\n",
              "\n",
              "      <script>\n",
              "        const buttonEl =\n",
              "          document.querySelector('#df-cb2a581a-6065-4b4a-a116-345f41974359 button.colab-df-convert');\n",
              "        buttonEl.style.display =\n",
              "          google.colab.kernel.accessAllowed ? 'block' : 'none';\n",
              "\n",
              "        async function convertToInteractive(key) {\n",
              "          const element = document.querySelector('#df-cb2a581a-6065-4b4a-a116-345f41974359');\n",
              "          const dataTable =\n",
              "            await google.colab.kernel.invokeFunction('convertToInteractive',\n",
              "                                                     [key], {});\n",
              "          if (!dataTable) return;\n",
              "\n",
              "          const docLinkHtml = 'Like what you see? Visit the ' +\n",
              "            '<a target=\"_blank\" href=https://colab.research.google.com/notebooks/data_table.ipynb>data table notebook</a>'\n",
              "            + ' to learn more about interactive tables.';\n",
              "          element.innerHTML = '';\n",
              "          dataTable['output_type'] = 'display_data';\n",
              "          await google.colab.output.renderOutput(dataTable, element);\n",
              "          const docLink = document.createElement('div');\n",
              "          docLink.innerHTML = docLinkHtml;\n",
              "          element.appendChild(docLink);\n",
              "        }\n",
              "      </script>\n",
              "    </div>\n",
              "  </div>\n",
              "  "
            ]
          },
          "metadata": {},
          "execution_count": 7
        }
      ]
    },
    {
      "cell_type": "code",
      "source": [
        "document_df[document_df['cluster_label']==0].sort_values(by='filename')"
      ],
      "metadata": {
        "colab": {
          "base_uri": "https://localhost:8080/",
          "height": 394
        },
        "id": "Y1BLkqNdMVTr",
        "outputId": "6e592117-7fa6-4095-889f-f53f88325015"
      },
      "execution_count": 8,
      "outputs": [
        {
          "output_type": "execute_result",
          "data": {
            "text/plain": [
              "                          filename  \\\n",
              "42       comfort_honda_accord_2008   \n",
              "18       comfort_toyota_camry_2007   \n",
              "23   gas_mileage_toyota_camry_2007   \n",
              "38      interior_honda_accord_2008   \n",
              "28      interior_toyota_camry_2007   \n",
              "40       mileage_honda_accord_2008   \n",
              "47   performance_honda_accord_2008   \n",
              "49       quality_toyota_camry_2007   \n",
              "45         seats_honda_accord_2008   \n",
              "9              sound_ipod_nano_8gb   \n",
              "43  transmission_toyota_camry_2007   \n",
              "\n",
              "                                         opinion_text  cluster_label  \n",
              "42                                                ...              0  \n",
              "18                                                ...              0  \n",
              "23                                                ...              0  \n",
              "38                                                ...              0  \n",
              "28                                                ...              0  \n",
              "40                                                ...              0  \n",
              "47                                                ...              0  \n",
              "49                                                ...              0  \n",
              "45                                                ...              0  \n",
              "9       headphone jack i got a clear case for it a...              0  \n",
              "43                                                ...              0  "
            ],
            "text/html": [
              "\n",
              "  <div id=\"df-412035c6-c15d-4259-8c74-5ebd3b510cc5\">\n",
              "    <div class=\"colab-df-container\">\n",
              "      <div>\n",
              "<style scoped>\n",
              "    .dataframe tbody tr th:only-of-type {\n",
              "        vertical-align: middle;\n",
              "    }\n",
              "\n",
              "    .dataframe tbody tr th {\n",
              "        vertical-align: top;\n",
              "    }\n",
              "\n",
              "    .dataframe thead th {\n",
              "        text-align: right;\n",
              "    }\n",
              "</style>\n",
              "<table border=\"1\" class=\"dataframe\">\n",
              "  <thead>\n",
              "    <tr style=\"text-align: right;\">\n",
              "      <th></th>\n",
              "      <th>filename</th>\n",
              "      <th>opinion_text</th>\n",
              "      <th>cluster_label</th>\n",
              "    </tr>\n",
              "  </thead>\n",
              "  <tbody>\n",
              "    <tr>\n",
              "      <th>42</th>\n",
              "      <td>comfort_honda_accord_2008</td>\n",
              "      <td>...</td>\n",
              "      <td>0</td>\n",
              "    </tr>\n",
              "    <tr>\n",
              "      <th>18</th>\n",
              "      <td>comfort_toyota_camry_2007</td>\n",
              "      <td>...</td>\n",
              "      <td>0</td>\n",
              "    </tr>\n",
              "    <tr>\n",
              "      <th>23</th>\n",
              "      <td>gas_mileage_toyota_camry_2007</td>\n",
              "      <td>...</td>\n",
              "      <td>0</td>\n",
              "    </tr>\n",
              "    <tr>\n",
              "      <th>38</th>\n",
              "      <td>interior_honda_accord_2008</td>\n",
              "      <td>...</td>\n",
              "      <td>0</td>\n",
              "    </tr>\n",
              "    <tr>\n",
              "      <th>28</th>\n",
              "      <td>interior_toyota_camry_2007</td>\n",
              "      <td>...</td>\n",
              "      <td>0</td>\n",
              "    </tr>\n",
              "    <tr>\n",
              "      <th>40</th>\n",
              "      <td>mileage_honda_accord_2008</td>\n",
              "      <td>...</td>\n",
              "      <td>0</td>\n",
              "    </tr>\n",
              "    <tr>\n",
              "      <th>47</th>\n",
              "      <td>performance_honda_accord_2008</td>\n",
              "      <td>...</td>\n",
              "      <td>0</td>\n",
              "    </tr>\n",
              "    <tr>\n",
              "      <th>49</th>\n",
              "      <td>quality_toyota_camry_2007</td>\n",
              "      <td>...</td>\n",
              "      <td>0</td>\n",
              "    </tr>\n",
              "    <tr>\n",
              "      <th>45</th>\n",
              "      <td>seats_honda_accord_2008</td>\n",
              "      <td>...</td>\n",
              "      <td>0</td>\n",
              "    </tr>\n",
              "    <tr>\n",
              "      <th>9</th>\n",
              "      <td>sound_ipod_nano_8gb</td>\n",
              "      <td>headphone jack i got a clear case for it a...</td>\n",
              "      <td>0</td>\n",
              "    </tr>\n",
              "    <tr>\n",
              "      <th>43</th>\n",
              "      <td>transmission_toyota_camry_2007</td>\n",
              "      <td>...</td>\n",
              "      <td>0</td>\n",
              "    </tr>\n",
              "  </tbody>\n",
              "</table>\n",
              "</div>\n",
              "      <button class=\"colab-df-convert\" onclick=\"convertToInteractive('df-412035c6-c15d-4259-8c74-5ebd3b510cc5')\"\n",
              "              title=\"Convert this dataframe to an interactive table.\"\n",
              "              style=\"display:none;\">\n",
              "        \n",
              "  <svg xmlns=\"http://www.w3.org/2000/svg\" height=\"24px\"viewBox=\"0 0 24 24\"\n",
              "       width=\"24px\">\n",
              "    <path d=\"M0 0h24v24H0V0z\" fill=\"none\"/>\n",
              "    <path d=\"M18.56 5.44l.94 2.06.94-2.06 2.06-.94-2.06-.94-.94-2.06-.94 2.06-2.06.94zm-11 1L8.5 8.5l.94-2.06 2.06-.94-2.06-.94L8.5 2.5l-.94 2.06-2.06.94zm10 10l.94 2.06.94-2.06 2.06-.94-2.06-.94-.94-2.06-.94 2.06-2.06.94z\"/><path d=\"M17.41 7.96l-1.37-1.37c-.4-.4-.92-.59-1.43-.59-.52 0-1.04.2-1.43.59L10.3 9.45l-7.72 7.72c-.78.78-.78 2.05 0 2.83L4 21.41c.39.39.9.59 1.41.59.51 0 1.02-.2 1.41-.59l7.78-7.78 2.81-2.81c.8-.78.8-2.07 0-2.86zM5.41 20L4 18.59l7.72-7.72 1.47 1.35L5.41 20z\"/>\n",
              "  </svg>\n",
              "      </button>\n",
              "      \n",
              "  <style>\n",
              "    .colab-df-container {\n",
              "      display:flex;\n",
              "      flex-wrap:wrap;\n",
              "      gap: 12px;\n",
              "    }\n",
              "\n",
              "    .colab-df-convert {\n",
              "      background-color: #E8F0FE;\n",
              "      border: none;\n",
              "      border-radius: 50%;\n",
              "      cursor: pointer;\n",
              "      display: none;\n",
              "      fill: #1967D2;\n",
              "      height: 32px;\n",
              "      padding: 0 0 0 0;\n",
              "      width: 32px;\n",
              "    }\n",
              "\n",
              "    .colab-df-convert:hover {\n",
              "      background-color: #E2EBFA;\n",
              "      box-shadow: 0px 1px 2px rgba(60, 64, 67, 0.3), 0px 1px 3px 1px rgba(60, 64, 67, 0.15);\n",
              "      fill: #174EA6;\n",
              "    }\n",
              "\n",
              "    [theme=dark] .colab-df-convert {\n",
              "      background-color: #3B4455;\n",
              "      fill: #D2E3FC;\n",
              "    }\n",
              "\n",
              "    [theme=dark] .colab-df-convert:hover {\n",
              "      background-color: #434B5C;\n",
              "      box-shadow: 0px 1px 3px 1px rgba(0, 0, 0, 0.15);\n",
              "      filter: drop-shadow(0px 1px 2px rgba(0, 0, 0, 0.3));\n",
              "      fill: #FFFFFF;\n",
              "    }\n",
              "  </style>\n",
              "\n",
              "      <script>\n",
              "        const buttonEl =\n",
              "          document.querySelector('#df-412035c6-c15d-4259-8c74-5ebd3b510cc5 button.colab-df-convert');\n",
              "        buttonEl.style.display =\n",
              "          google.colab.kernel.accessAllowed ? 'block' : 'none';\n",
              "\n",
              "        async function convertToInteractive(key) {\n",
              "          const element = document.querySelector('#df-412035c6-c15d-4259-8c74-5ebd3b510cc5');\n",
              "          const dataTable =\n",
              "            await google.colab.kernel.invokeFunction('convertToInteractive',\n",
              "                                                     [key], {});\n",
              "          if (!dataTable) return;\n",
              "\n",
              "          const docLinkHtml = 'Like what you see? Visit the ' +\n",
              "            '<a target=\"_blank\" href=https://colab.research.google.com/notebooks/data_table.ipynb>data table notebook</a>'\n",
              "            + ' to learn more about interactive tables.';\n",
              "          element.innerHTML = '';\n",
              "          dataTable['output_type'] = 'display_data';\n",
              "          await google.colab.output.renderOutput(dataTable, element);\n",
              "          const docLink = document.createElement('div');\n",
              "          docLink.innerHTML = docLinkHtml;\n",
              "          element.appendChild(docLink);\n",
              "        }\n",
              "      </script>\n",
              "    </div>\n",
              "  </div>\n",
              "  "
            ]
          },
          "metadata": {},
          "execution_count": 8
        }
      ]
    },
    {
      "cell_type": "markdown",
      "source": [
        "* Cluster #0은 자동차 관련된 리뷰로 군집화되어있음."
      ],
      "metadata": {
        "id": "DQGR7ryaMrf1"
      }
    },
    {
      "cell_type": "code",
      "source": [
        "document_df[document_df['cluster_label']==1].sort_values(by='filename')"
      ],
      "metadata": {
        "colab": {
          "base_uri": "https://localhost:8080/",
          "height": 206
        },
        "id": "tAwf--H6Mpok",
        "outputId": "ac848bf9-35e1-4bb5-ab6e-7433b2077268"
      },
      "execution_count": 9,
      "outputs": [
        {
          "output_type": "execute_result",
          "data": {
            "text/plain": [
              "                           filename  \\\n",
              "22          food_holiday_inn_london   \n",
              "32           food_swissotel_chicago   \n",
              "37    service_bestwestern_hotel_sfo   \n",
              "24       service_holiday_inn_london   \n",
              "29  service_swissotel_hotel_chicago   \n",
              "\n",
              "                                         opinion_text  cluster_label  \n",
              "22                                                ...              1  \n",
              "32                                                ...              1  \n",
              "37                                                ...              1  \n",
              "24                                                ...              1  \n",
              "29                                                ...              1  "
            ],
            "text/html": [
              "\n",
              "  <div id=\"df-eba66046-c35a-4528-a2b5-bed131ec0bfa\">\n",
              "    <div class=\"colab-df-container\">\n",
              "      <div>\n",
              "<style scoped>\n",
              "    .dataframe tbody tr th:only-of-type {\n",
              "        vertical-align: middle;\n",
              "    }\n",
              "\n",
              "    .dataframe tbody tr th {\n",
              "        vertical-align: top;\n",
              "    }\n",
              "\n",
              "    .dataframe thead th {\n",
              "        text-align: right;\n",
              "    }\n",
              "</style>\n",
              "<table border=\"1\" class=\"dataframe\">\n",
              "  <thead>\n",
              "    <tr style=\"text-align: right;\">\n",
              "      <th></th>\n",
              "      <th>filename</th>\n",
              "      <th>opinion_text</th>\n",
              "      <th>cluster_label</th>\n",
              "    </tr>\n",
              "  </thead>\n",
              "  <tbody>\n",
              "    <tr>\n",
              "      <th>22</th>\n",
              "      <td>food_holiday_inn_london</td>\n",
              "      <td>...</td>\n",
              "      <td>1</td>\n",
              "    </tr>\n",
              "    <tr>\n",
              "      <th>32</th>\n",
              "      <td>food_swissotel_chicago</td>\n",
              "      <td>...</td>\n",
              "      <td>1</td>\n",
              "    </tr>\n",
              "    <tr>\n",
              "      <th>37</th>\n",
              "      <td>service_bestwestern_hotel_sfo</td>\n",
              "      <td>...</td>\n",
              "      <td>1</td>\n",
              "    </tr>\n",
              "    <tr>\n",
              "      <th>24</th>\n",
              "      <td>service_holiday_inn_london</td>\n",
              "      <td>...</td>\n",
              "      <td>1</td>\n",
              "    </tr>\n",
              "    <tr>\n",
              "      <th>29</th>\n",
              "      <td>service_swissotel_hotel_chicago</td>\n",
              "      <td>...</td>\n",
              "      <td>1</td>\n",
              "    </tr>\n",
              "  </tbody>\n",
              "</table>\n",
              "</div>\n",
              "      <button class=\"colab-df-convert\" onclick=\"convertToInteractive('df-eba66046-c35a-4528-a2b5-bed131ec0bfa')\"\n",
              "              title=\"Convert this dataframe to an interactive table.\"\n",
              "              style=\"display:none;\">\n",
              "        \n",
              "  <svg xmlns=\"http://www.w3.org/2000/svg\" height=\"24px\"viewBox=\"0 0 24 24\"\n",
              "       width=\"24px\">\n",
              "    <path d=\"M0 0h24v24H0V0z\" fill=\"none\"/>\n",
              "    <path d=\"M18.56 5.44l.94 2.06.94-2.06 2.06-.94-2.06-.94-.94-2.06-.94 2.06-2.06.94zm-11 1L8.5 8.5l.94-2.06 2.06-.94-2.06-.94L8.5 2.5l-.94 2.06-2.06.94zm10 10l.94 2.06.94-2.06 2.06-.94-2.06-.94-.94-2.06-.94 2.06-2.06.94z\"/><path d=\"M17.41 7.96l-1.37-1.37c-.4-.4-.92-.59-1.43-.59-.52 0-1.04.2-1.43.59L10.3 9.45l-7.72 7.72c-.78.78-.78 2.05 0 2.83L4 21.41c.39.39.9.59 1.41.59.51 0 1.02-.2 1.41-.59l7.78-7.78 2.81-2.81c.8-.78.8-2.07 0-2.86zM5.41 20L4 18.59l7.72-7.72 1.47 1.35L5.41 20z\"/>\n",
              "  </svg>\n",
              "      </button>\n",
              "      \n",
              "  <style>\n",
              "    .colab-df-container {\n",
              "      display:flex;\n",
              "      flex-wrap:wrap;\n",
              "      gap: 12px;\n",
              "    }\n",
              "\n",
              "    .colab-df-convert {\n",
              "      background-color: #E8F0FE;\n",
              "      border: none;\n",
              "      border-radius: 50%;\n",
              "      cursor: pointer;\n",
              "      display: none;\n",
              "      fill: #1967D2;\n",
              "      height: 32px;\n",
              "      padding: 0 0 0 0;\n",
              "      width: 32px;\n",
              "    }\n",
              "\n",
              "    .colab-df-convert:hover {\n",
              "      background-color: #E2EBFA;\n",
              "      box-shadow: 0px 1px 2px rgba(60, 64, 67, 0.3), 0px 1px 3px 1px rgba(60, 64, 67, 0.15);\n",
              "      fill: #174EA6;\n",
              "    }\n",
              "\n",
              "    [theme=dark] .colab-df-convert {\n",
              "      background-color: #3B4455;\n",
              "      fill: #D2E3FC;\n",
              "    }\n",
              "\n",
              "    [theme=dark] .colab-df-convert:hover {\n",
              "      background-color: #434B5C;\n",
              "      box-shadow: 0px 1px 3px 1px rgba(0, 0, 0, 0.15);\n",
              "      filter: drop-shadow(0px 1px 2px rgba(0, 0, 0, 0.3));\n",
              "      fill: #FFFFFF;\n",
              "    }\n",
              "  </style>\n",
              "\n",
              "      <script>\n",
              "        const buttonEl =\n",
              "          document.querySelector('#df-eba66046-c35a-4528-a2b5-bed131ec0bfa button.colab-df-convert');\n",
              "        buttonEl.style.display =\n",
              "          google.colab.kernel.accessAllowed ? 'block' : 'none';\n",
              "\n",
              "        async function convertToInteractive(key) {\n",
              "          const element = document.querySelector('#df-eba66046-c35a-4528-a2b5-bed131ec0bfa');\n",
              "          const dataTable =\n",
              "            await google.colab.kernel.invokeFunction('convertToInteractive',\n",
              "                                                     [key], {});\n",
              "          if (!dataTable) return;\n",
              "\n",
              "          const docLinkHtml = 'Like what you see? Visit the ' +\n",
              "            '<a target=\"_blank\" href=https://colab.research.google.com/notebooks/data_table.ipynb>data table notebook</a>'\n",
              "            + ' to learn more about interactive tables.';\n",
              "          element.innerHTML = '';\n",
              "          dataTable['output_type'] = 'display_data';\n",
              "          await google.colab.output.renderOutput(dataTable, element);\n",
              "          const docLink = document.createElement('div');\n",
              "          docLink.innerHTML = docLinkHtml;\n",
              "          element.appendChild(docLink);\n",
              "        }\n",
              "      </script>\n",
              "    </div>\n",
              "  </div>\n",
              "  "
            ]
          },
          "metadata": {},
          "execution_count": 9
        }
      ]
    },
    {
      "cell_type": "markdown",
      "source": [
        "* Cluster #1은 호텔에 대한 리뷰로 군집화되어 있음"
      ],
      "metadata": {
        "id": "2rjZvWNSNW49"
      }
    },
    {
      "cell_type": "code",
      "source": [
        "document_df[document_df['cluster_label']==2].sort_values(by='filename')"
      ],
      "metadata": {
        "colab": {
          "base_uri": "https://localhost:8080/",
          "height": 269
        },
        "id": "VjxW-qfJM_H3",
        "outputId": "7d7d2ab8-cb30-4f8f-ba46-95c7a54e3cd4"
      },
      "execution_count": 10,
      "outputs": [
        {
          "output_type": "execute_result",
          "data": {
            "text/plain": [
              "                       filename  \\\n",
              "20   battery-life_amazon_kindle   \n",
              "0    battery-life_ipod_nano_8gb   \n",
              "17  battery-life_netbook_1005ha   \n",
              "27   performance_netbook_1005ha   \n",
              "13     size_asus_netbook_1005ha   \n",
              "15               speed_windows7   \n",
              "6           video_ipod_nano_8gb   \n",
              "\n",
              "                                         opinion_text  cluster_label  \n",
              "20                                                ...              2  \n",
              "0                                                 ...              2  \n",
              "17                                                ...              2  \n",
              "27                                                ...              2  \n",
              "13                                                ...              2  \n",
              "15                                                ...              2  \n",
              "6                                                 ...              2  "
            ],
            "text/html": [
              "\n",
              "  <div id=\"df-de80d004-f2a4-4ae2-9587-665e95860d42\">\n",
              "    <div class=\"colab-df-container\">\n",
              "      <div>\n",
              "<style scoped>\n",
              "    .dataframe tbody tr th:only-of-type {\n",
              "        vertical-align: middle;\n",
              "    }\n",
              "\n",
              "    .dataframe tbody tr th {\n",
              "        vertical-align: top;\n",
              "    }\n",
              "\n",
              "    .dataframe thead th {\n",
              "        text-align: right;\n",
              "    }\n",
              "</style>\n",
              "<table border=\"1\" class=\"dataframe\">\n",
              "  <thead>\n",
              "    <tr style=\"text-align: right;\">\n",
              "      <th></th>\n",
              "      <th>filename</th>\n",
              "      <th>opinion_text</th>\n",
              "      <th>cluster_label</th>\n",
              "    </tr>\n",
              "  </thead>\n",
              "  <tbody>\n",
              "    <tr>\n",
              "      <th>20</th>\n",
              "      <td>battery-life_amazon_kindle</td>\n",
              "      <td>...</td>\n",
              "      <td>2</td>\n",
              "    </tr>\n",
              "    <tr>\n",
              "      <th>0</th>\n",
              "      <td>battery-life_ipod_nano_8gb</td>\n",
              "      <td>...</td>\n",
              "      <td>2</td>\n",
              "    </tr>\n",
              "    <tr>\n",
              "      <th>17</th>\n",
              "      <td>battery-life_netbook_1005ha</td>\n",
              "      <td>...</td>\n",
              "      <td>2</td>\n",
              "    </tr>\n",
              "    <tr>\n",
              "      <th>27</th>\n",
              "      <td>performance_netbook_1005ha</td>\n",
              "      <td>...</td>\n",
              "      <td>2</td>\n",
              "    </tr>\n",
              "    <tr>\n",
              "      <th>13</th>\n",
              "      <td>size_asus_netbook_1005ha</td>\n",
              "      <td>...</td>\n",
              "      <td>2</td>\n",
              "    </tr>\n",
              "    <tr>\n",
              "      <th>15</th>\n",
              "      <td>speed_windows7</td>\n",
              "      <td>...</td>\n",
              "      <td>2</td>\n",
              "    </tr>\n",
              "    <tr>\n",
              "      <th>6</th>\n",
              "      <td>video_ipod_nano_8gb</td>\n",
              "      <td>...</td>\n",
              "      <td>2</td>\n",
              "    </tr>\n",
              "  </tbody>\n",
              "</table>\n",
              "</div>\n",
              "      <button class=\"colab-df-convert\" onclick=\"convertToInteractive('df-de80d004-f2a4-4ae2-9587-665e95860d42')\"\n",
              "              title=\"Convert this dataframe to an interactive table.\"\n",
              "              style=\"display:none;\">\n",
              "        \n",
              "  <svg xmlns=\"http://www.w3.org/2000/svg\" height=\"24px\"viewBox=\"0 0 24 24\"\n",
              "       width=\"24px\">\n",
              "    <path d=\"M0 0h24v24H0V0z\" fill=\"none\"/>\n",
              "    <path d=\"M18.56 5.44l.94 2.06.94-2.06 2.06-.94-2.06-.94-.94-2.06-.94 2.06-2.06.94zm-11 1L8.5 8.5l.94-2.06 2.06-.94-2.06-.94L8.5 2.5l-.94 2.06-2.06.94zm10 10l.94 2.06.94-2.06 2.06-.94-2.06-.94-.94-2.06-.94 2.06-2.06.94z\"/><path d=\"M17.41 7.96l-1.37-1.37c-.4-.4-.92-.59-1.43-.59-.52 0-1.04.2-1.43.59L10.3 9.45l-7.72 7.72c-.78.78-.78 2.05 0 2.83L4 21.41c.39.39.9.59 1.41.59.51 0 1.02-.2 1.41-.59l7.78-7.78 2.81-2.81c.8-.78.8-2.07 0-2.86zM5.41 20L4 18.59l7.72-7.72 1.47 1.35L5.41 20z\"/>\n",
              "  </svg>\n",
              "      </button>\n",
              "      \n",
              "  <style>\n",
              "    .colab-df-container {\n",
              "      display:flex;\n",
              "      flex-wrap:wrap;\n",
              "      gap: 12px;\n",
              "    }\n",
              "\n",
              "    .colab-df-convert {\n",
              "      background-color: #E8F0FE;\n",
              "      border: none;\n",
              "      border-radius: 50%;\n",
              "      cursor: pointer;\n",
              "      display: none;\n",
              "      fill: #1967D2;\n",
              "      height: 32px;\n",
              "      padding: 0 0 0 0;\n",
              "      width: 32px;\n",
              "    }\n",
              "\n",
              "    .colab-df-convert:hover {\n",
              "      background-color: #E2EBFA;\n",
              "      box-shadow: 0px 1px 2px rgba(60, 64, 67, 0.3), 0px 1px 3px 1px rgba(60, 64, 67, 0.15);\n",
              "      fill: #174EA6;\n",
              "    }\n",
              "\n",
              "    [theme=dark] .colab-df-convert {\n",
              "      background-color: #3B4455;\n",
              "      fill: #D2E3FC;\n",
              "    }\n",
              "\n",
              "    [theme=dark] .colab-df-convert:hover {\n",
              "      background-color: #434B5C;\n",
              "      box-shadow: 0px 1px 3px 1px rgba(0, 0, 0, 0.15);\n",
              "      filter: drop-shadow(0px 1px 2px rgba(0, 0, 0, 0.3));\n",
              "      fill: #FFFFFF;\n",
              "    }\n",
              "  </style>\n",
              "\n",
              "      <script>\n",
              "        const buttonEl =\n",
              "          document.querySelector('#df-de80d004-f2a4-4ae2-9587-665e95860d42 button.colab-df-convert');\n",
              "        buttonEl.style.display =\n",
              "          google.colab.kernel.accessAllowed ? 'block' : 'none';\n",
              "\n",
              "        async function convertToInteractive(key) {\n",
              "          const element = document.querySelector('#df-de80d004-f2a4-4ae2-9587-665e95860d42');\n",
              "          const dataTable =\n",
              "            await google.colab.kernel.invokeFunction('convertToInteractive',\n",
              "                                                     [key], {});\n",
              "          if (!dataTable) return;\n",
              "\n",
              "          const docLinkHtml = 'Like what you see? Visit the ' +\n",
              "            '<a target=\"_blank\" href=https://colab.research.google.com/notebooks/data_table.ipynb>data table notebook</a>'\n",
              "            + ' to learn more about interactive tables.';\n",
              "          element.innerHTML = '';\n",
              "          dataTable['output_type'] = 'display_data';\n",
              "          await google.colab.output.renderOutput(dataTable, element);\n",
              "          const docLink = document.createElement('div');\n",
              "          docLink.innerHTML = docLinkHtml;\n",
              "          element.appendChild(docLink);\n",
              "        }\n",
              "      </script>\n",
              "    </div>\n",
              "  </div>\n",
              "  "
            ]
          },
          "metadata": {},
          "execution_count": 10
        }
      ]
    },
    {
      "cell_type": "markdown",
      "source": [
        "* Cluster #2는 전자기기에 대한 리뷰로 군집화됨."
      ],
      "metadata": {
        "id": "S4wx3ztDN5cI"
      }
    },
    {
      "cell_type": "code",
      "source": [
        "document_df[document_df['cluster_label']==3].sort_values(by='filename')"
      ],
      "metadata": {
        "colab": {
          "base_uri": "https://localhost:8080/",
          "height": 394
        },
        "id": "Hr5TMzD4N-cf",
        "outputId": "a0e26e45-8fa4-4fd8-fc8b-42223ef12799"
      },
      "execution_count": 11,
      "outputs": [
        {
          "output_type": "execute_result",
          "data": {
            "text/plain": [
              "                          filename  \\\n",
              "46  bathroom_bestwestern_hotel_sfo   \n",
              "50      free_bestwestern_hotel_sfo   \n",
              "44  location_bestwestern_hotel_sfo   \n",
              "31     location_holiday_inn_london   \n",
              "48   parking_bestwestern_hotel_sfo   \n",
              "35        price_holiday_inn_london   \n",
              "19         room_holiday_inn_london   \n",
              "41     rooms_bestwestern_hotel_sfo   \n",
              "34         rooms_swissotel_chicago   \n",
              "39     staff_bestwestern_hotel_sfo   \n",
              "25         staff_swissotel_chicago   \n",
              "\n",
              "                                         opinion_text  cluster_label  \n",
              "46                                                ...              3  \n",
              "50                                                ...              3  \n",
              "44                                                ...              3  \n",
              "31                                                ...              3  \n",
              "48                                                ...              3  \n",
              "35                                                ...              3  \n",
              "19                                                ...              3  \n",
              "41                                                ...              3  \n",
              "34                                                ...              3  \n",
              "39                                                ...              3  \n",
              "25                                                ...              3  "
            ],
            "text/html": [
              "\n",
              "  <div id=\"df-924c7b40-b104-4159-86ae-947433009d28\">\n",
              "    <div class=\"colab-df-container\">\n",
              "      <div>\n",
              "<style scoped>\n",
              "    .dataframe tbody tr th:only-of-type {\n",
              "        vertical-align: middle;\n",
              "    }\n",
              "\n",
              "    .dataframe tbody tr th {\n",
              "        vertical-align: top;\n",
              "    }\n",
              "\n",
              "    .dataframe thead th {\n",
              "        text-align: right;\n",
              "    }\n",
              "</style>\n",
              "<table border=\"1\" class=\"dataframe\">\n",
              "  <thead>\n",
              "    <tr style=\"text-align: right;\">\n",
              "      <th></th>\n",
              "      <th>filename</th>\n",
              "      <th>opinion_text</th>\n",
              "      <th>cluster_label</th>\n",
              "    </tr>\n",
              "  </thead>\n",
              "  <tbody>\n",
              "    <tr>\n",
              "      <th>46</th>\n",
              "      <td>bathroom_bestwestern_hotel_sfo</td>\n",
              "      <td>...</td>\n",
              "      <td>3</td>\n",
              "    </tr>\n",
              "    <tr>\n",
              "      <th>50</th>\n",
              "      <td>free_bestwestern_hotel_sfo</td>\n",
              "      <td>...</td>\n",
              "      <td>3</td>\n",
              "    </tr>\n",
              "    <tr>\n",
              "      <th>44</th>\n",
              "      <td>location_bestwestern_hotel_sfo</td>\n",
              "      <td>...</td>\n",
              "      <td>3</td>\n",
              "    </tr>\n",
              "    <tr>\n",
              "      <th>31</th>\n",
              "      <td>location_holiday_inn_london</td>\n",
              "      <td>...</td>\n",
              "      <td>3</td>\n",
              "    </tr>\n",
              "    <tr>\n",
              "      <th>48</th>\n",
              "      <td>parking_bestwestern_hotel_sfo</td>\n",
              "      <td>...</td>\n",
              "      <td>3</td>\n",
              "    </tr>\n",
              "    <tr>\n",
              "      <th>35</th>\n",
              "      <td>price_holiday_inn_london</td>\n",
              "      <td>...</td>\n",
              "      <td>3</td>\n",
              "    </tr>\n",
              "    <tr>\n",
              "      <th>19</th>\n",
              "      <td>room_holiday_inn_london</td>\n",
              "      <td>...</td>\n",
              "      <td>3</td>\n",
              "    </tr>\n",
              "    <tr>\n",
              "      <th>41</th>\n",
              "      <td>rooms_bestwestern_hotel_sfo</td>\n",
              "      <td>...</td>\n",
              "      <td>3</td>\n",
              "    </tr>\n",
              "    <tr>\n",
              "      <th>34</th>\n",
              "      <td>rooms_swissotel_chicago</td>\n",
              "      <td>...</td>\n",
              "      <td>3</td>\n",
              "    </tr>\n",
              "    <tr>\n",
              "      <th>39</th>\n",
              "      <td>staff_bestwestern_hotel_sfo</td>\n",
              "      <td>...</td>\n",
              "      <td>3</td>\n",
              "    </tr>\n",
              "    <tr>\n",
              "      <th>25</th>\n",
              "      <td>staff_swissotel_chicago</td>\n",
              "      <td>...</td>\n",
              "      <td>3</td>\n",
              "    </tr>\n",
              "  </tbody>\n",
              "</table>\n",
              "</div>\n",
              "      <button class=\"colab-df-convert\" onclick=\"convertToInteractive('df-924c7b40-b104-4159-86ae-947433009d28')\"\n",
              "              title=\"Convert this dataframe to an interactive table.\"\n",
              "              style=\"display:none;\">\n",
              "        \n",
              "  <svg xmlns=\"http://www.w3.org/2000/svg\" height=\"24px\"viewBox=\"0 0 24 24\"\n",
              "       width=\"24px\">\n",
              "    <path d=\"M0 0h24v24H0V0z\" fill=\"none\"/>\n",
              "    <path d=\"M18.56 5.44l.94 2.06.94-2.06 2.06-.94-2.06-.94-.94-2.06-.94 2.06-2.06.94zm-11 1L8.5 8.5l.94-2.06 2.06-.94-2.06-.94L8.5 2.5l-.94 2.06-2.06.94zm10 10l.94 2.06.94-2.06 2.06-.94-2.06-.94-.94-2.06-.94 2.06-2.06.94z\"/><path d=\"M17.41 7.96l-1.37-1.37c-.4-.4-.92-.59-1.43-.59-.52 0-1.04.2-1.43.59L10.3 9.45l-7.72 7.72c-.78.78-.78 2.05 0 2.83L4 21.41c.39.39.9.59 1.41.59.51 0 1.02-.2 1.41-.59l7.78-7.78 2.81-2.81c.8-.78.8-2.07 0-2.86zM5.41 20L4 18.59l7.72-7.72 1.47 1.35L5.41 20z\"/>\n",
              "  </svg>\n",
              "      </button>\n",
              "      \n",
              "  <style>\n",
              "    .colab-df-container {\n",
              "      display:flex;\n",
              "      flex-wrap:wrap;\n",
              "      gap: 12px;\n",
              "    }\n",
              "\n",
              "    .colab-df-convert {\n",
              "      background-color: #E8F0FE;\n",
              "      border: none;\n",
              "      border-radius: 50%;\n",
              "      cursor: pointer;\n",
              "      display: none;\n",
              "      fill: #1967D2;\n",
              "      height: 32px;\n",
              "      padding: 0 0 0 0;\n",
              "      width: 32px;\n",
              "    }\n",
              "\n",
              "    .colab-df-convert:hover {\n",
              "      background-color: #E2EBFA;\n",
              "      box-shadow: 0px 1px 2px rgba(60, 64, 67, 0.3), 0px 1px 3px 1px rgba(60, 64, 67, 0.15);\n",
              "      fill: #174EA6;\n",
              "    }\n",
              "\n",
              "    [theme=dark] .colab-df-convert {\n",
              "      background-color: #3B4455;\n",
              "      fill: #D2E3FC;\n",
              "    }\n",
              "\n",
              "    [theme=dark] .colab-df-convert:hover {\n",
              "      background-color: #434B5C;\n",
              "      box-shadow: 0px 1px 3px 1px rgba(0, 0, 0, 0.15);\n",
              "      filter: drop-shadow(0px 1px 2px rgba(0, 0, 0, 0.3));\n",
              "      fill: #FFFFFF;\n",
              "    }\n",
              "  </style>\n",
              "\n",
              "      <script>\n",
              "        const buttonEl =\n",
              "          document.querySelector('#df-924c7b40-b104-4159-86ae-947433009d28 button.colab-df-convert');\n",
              "        buttonEl.style.display =\n",
              "          google.colab.kernel.accessAllowed ? 'block' : 'none';\n",
              "\n",
              "        async function convertToInteractive(key) {\n",
              "          const element = document.querySelector('#df-924c7b40-b104-4159-86ae-947433009d28');\n",
              "          const dataTable =\n",
              "            await google.colab.kernel.invokeFunction('convertToInteractive',\n",
              "                                                     [key], {});\n",
              "          if (!dataTable) return;\n",
              "\n",
              "          const docLinkHtml = 'Like what you see? Visit the ' +\n",
              "            '<a target=\"_blank\" href=https://colab.research.google.com/notebooks/data_table.ipynb>data table notebook</a>'\n",
              "            + ' to learn more about interactive tables.';\n",
              "          element.innerHTML = '';\n",
              "          dataTable['output_type'] = 'display_data';\n",
              "          await google.colab.output.renderOutput(dataTable, element);\n",
              "          const docLink = document.createElement('div');\n",
              "          docLink.innerHTML = docLinkHtml;\n",
              "          element.appendChild(docLink);\n",
              "        }\n",
              "      </script>\n",
              "    </div>\n",
              "  </div>\n",
              "  "
            ]
          },
          "metadata": {},
          "execution_count": 11
        }
      ]
    },
    {
      "cell_type": "markdown",
      "source": [
        "* Cluster #3은 호텔에 대한 리뷰로 군집화됨."
      ],
      "metadata": {
        "id": "6HvOJaOgOIH9"
      }
    },
    {
      "cell_type": "code",
      "source": [
        "document_df[document_df['cluster_label']==4].sort_values(by='filename')"
      ],
      "metadata": {
        "colab": {
          "base_uri": "https://localhost:8080/",
          "height": 582
        },
        "id": "BZin5AM6N_Yx",
        "outputId": "9f5c70ac-1d38-446e-805e-e5c2ff7aef7b"
      },
      "execution_count": 12,
      "outputs": [
        {
          "output_type": "execute_result",
          "data": {
            "text/plain": [
              "                           filename  \\\n",
              "16    accuracy_garmin_nuvi_255W_gps   \n",
              "33            buttons_amazon_kindle   \n",
              "11  directions_garmin_nuvi_255W_gps   \n",
              "4      display_garmin_nuvi_255W_gps   \n",
              "30    eyesight-issues_amazon_kindle   \n",
              "10                features_windows7   \n",
              "26              fonts_amazon_kindle   \n",
              "2           keyboard_netbook_1005ha   \n",
              "36         navigation_amazon_kindle   \n",
              "21              price_amazon_kindle   \n",
              "5    satellite_garmin_nuvi_255W_gps   \n",
              "1       screen_garmin_nuvi_255W_gps   \n",
              "12             screen_ipod_nano_8gb   \n",
              "14            screen_netbook_1005ha   \n",
              "7        speed_garmin_nuvi_255W_gps   \n",
              "3      updates_garmin_nuvi_255W_gps   \n",
              "8        voice_garmin_nuvi_255W_gps   \n",
              "\n",
              "                                         opinion_text  cluster_label  \n",
              "16                                                ...              4  \n",
              "33                                                ...              4  \n",
              "11                                                ...              4  \n",
              "4                                                 ...              4  \n",
              "30                                                ...              4  \n",
              "10                                                ...              4  \n",
              "26                                                ...              4  \n",
              "2                                                 ...              4  \n",
              "36                                                ...              4  \n",
              "21                                                ...              4  \n",
              "5                                                 ...              4  \n",
              "1                                                 ...              4  \n",
              "12                                                ...              4  \n",
              "14                                                ...              4  \n",
              "7                                                 ...              4  \n",
              "3                                                 ...              4  \n",
              "8                                                 ...              4  "
            ],
            "text/html": [
              "\n",
              "  <div id=\"df-390a16e5-83db-442d-9cb1-0f720465e2ae\">\n",
              "    <div class=\"colab-df-container\">\n",
              "      <div>\n",
              "<style scoped>\n",
              "    .dataframe tbody tr th:only-of-type {\n",
              "        vertical-align: middle;\n",
              "    }\n",
              "\n",
              "    .dataframe tbody tr th {\n",
              "        vertical-align: top;\n",
              "    }\n",
              "\n",
              "    .dataframe thead th {\n",
              "        text-align: right;\n",
              "    }\n",
              "</style>\n",
              "<table border=\"1\" class=\"dataframe\">\n",
              "  <thead>\n",
              "    <tr style=\"text-align: right;\">\n",
              "      <th></th>\n",
              "      <th>filename</th>\n",
              "      <th>opinion_text</th>\n",
              "      <th>cluster_label</th>\n",
              "    </tr>\n",
              "  </thead>\n",
              "  <tbody>\n",
              "    <tr>\n",
              "      <th>16</th>\n",
              "      <td>accuracy_garmin_nuvi_255W_gps</td>\n",
              "      <td>...</td>\n",
              "      <td>4</td>\n",
              "    </tr>\n",
              "    <tr>\n",
              "      <th>33</th>\n",
              "      <td>buttons_amazon_kindle</td>\n",
              "      <td>...</td>\n",
              "      <td>4</td>\n",
              "    </tr>\n",
              "    <tr>\n",
              "      <th>11</th>\n",
              "      <td>directions_garmin_nuvi_255W_gps</td>\n",
              "      <td>...</td>\n",
              "      <td>4</td>\n",
              "    </tr>\n",
              "    <tr>\n",
              "      <th>4</th>\n",
              "      <td>display_garmin_nuvi_255W_gps</td>\n",
              "      <td>...</td>\n",
              "      <td>4</td>\n",
              "    </tr>\n",
              "    <tr>\n",
              "      <th>30</th>\n",
              "      <td>eyesight-issues_amazon_kindle</td>\n",
              "      <td>...</td>\n",
              "      <td>4</td>\n",
              "    </tr>\n",
              "    <tr>\n",
              "      <th>10</th>\n",
              "      <td>features_windows7</td>\n",
              "      <td>...</td>\n",
              "      <td>4</td>\n",
              "    </tr>\n",
              "    <tr>\n",
              "      <th>26</th>\n",
              "      <td>fonts_amazon_kindle</td>\n",
              "      <td>...</td>\n",
              "      <td>4</td>\n",
              "    </tr>\n",
              "    <tr>\n",
              "      <th>2</th>\n",
              "      <td>keyboard_netbook_1005ha</td>\n",
              "      <td>...</td>\n",
              "      <td>4</td>\n",
              "    </tr>\n",
              "    <tr>\n",
              "      <th>36</th>\n",
              "      <td>navigation_amazon_kindle</td>\n",
              "      <td>...</td>\n",
              "      <td>4</td>\n",
              "    </tr>\n",
              "    <tr>\n",
              "      <th>21</th>\n",
              "      <td>price_amazon_kindle</td>\n",
              "      <td>...</td>\n",
              "      <td>4</td>\n",
              "    </tr>\n",
              "    <tr>\n",
              "      <th>5</th>\n",
              "      <td>satellite_garmin_nuvi_255W_gps</td>\n",
              "      <td>...</td>\n",
              "      <td>4</td>\n",
              "    </tr>\n",
              "    <tr>\n",
              "      <th>1</th>\n",
              "      <td>screen_garmin_nuvi_255W_gps</td>\n",
              "      <td>...</td>\n",
              "      <td>4</td>\n",
              "    </tr>\n",
              "    <tr>\n",
              "      <th>12</th>\n",
              "      <td>screen_ipod_nano_8gb</td>\n",
              "      <td>...</td>\n",
              "      <td>4</td>\n",
              "    </tr>\n",
              "    <tr>\n",
              "      <th>14</th>\n",
              "      <td>screen_netbook_1005ha</td>\n",
              "      <td>...</td>\n",
              "      <td>4</td>\n",
              "    </tr>\n",
              "    <tr>\n",
              "      <th>7</th>\n",
              "      <td>speed_garmin_nuvi_255W_gps</td>\n",
              "      <td>...</td>\n",
              "      <td>4</td>\n",
              "    </tr>\n",
              "    <tr>\n",
              "      <th>3</th>\n",
              "      <td>updates_garmin_nuvi_255W_gps</td>\n",
              "      <td>...</td>\n",
              "      <td>4</td>\n",
              "    </tr>\n",
              "    <tr>\n",
              "      <th>8</th>\n",
              "      <td>voice_garmin_nuvi_255W_gps</td>\n",
              "      <td>...</td>\n",
              "      <td>4</td>\n",
              "    </tr>\n",
              "  </tbody>\n",
              "</table>\n",
              "</div>\n",
              "      <button class=\"colab-df-convert\" onclick=\"convertToInteractive('df-390a16e5-83db-442d-9cb1-0f720465e2ae')\"\n",
              "              title=\"Convert this dataframe to an interactive table.\"\n",
              "              style=\"display:none;\">\n",
              "        \n",
              "  <svg xmlns=\"http://www.w3.org/2000/svg\" height=\"24px\"viewBox=\"0 0 24 24\"\n",
              "       width=\"24px\">\n",
              "    <path d=\"M0 0h24v24H0V0z\" fill=\"none\"/>\n",
              "    <path d=\"M18.56 5.44l.94 2.06.94-2.06 2.06-.94-2.06-.94-.94-2.06-.94 2.06-2.06.94zm-11 1L8.5 8.5l.94-2.06 2.06-.94-2.06-.94L8.5 2.5l-.94 2.06-2.06.94zm10 10l.94 2.06.94-2.06 2.06-.94-2.06-.94-.94-2.06-.94 2.06-2.06.94z\"/><path d=\"M17.41 7.96l-1.37-1.37c-.4-.4-.92-.59-1.43-.59-.52 0-1.04.2-1.43.59L10.3 9.45l-7.72 7.72c-.78.78-.78 2.05 0 2.83L4 21.41c.39.39.9.59 1.41.59.51 0 1.02-.2 1.41-.59l7.78-7.78 2.81-2.81c.8-.78.8-2.07 0-2.86zM5.41 20L4 18.59l7.72-7.72 1.47 1.35L5.41 20z\"/>\n",
              "  </svg>\n",
              "      </button>\n",
              "      \n",
              "  <style>\n",
              "    .colab-df-container {\n",
              "      display:flex;\n",
              "      flex-wrap:wrap;\n",
              "      gap: 12px;\n",
              "    }\n",
              "\n",
              "    .colab-df-convert {\n",
              "      background-color: #E8F0FE;\n",
              "      border: none;\n",
              "      border-radius: 50%;\n",
              "      cursor: pointer;\n",
              "      display: none;\n",
              "      fill: #1967D2;\n",
              "      height: 32px;\n",
              "      padding: 0 0 0 0;\n",
              "      width: 32px;\n",
              "    }\n",
              "\n",
              "    .colab-df-convert:hover {\n",
              "      background-color: #E2EBFA;\n",
              "      box-shadow: 0px 1px 2px rgba(60, 64, 67, 0.3), 0px 1px 3px 1px rgba(60, 64, 67, 0.15);\n",
              "      fill: #174EA6;\n",
              "    }\n",
              "\n",
              "    [theme=dark] .colab-df-convert {\n",
              "      background-color: #3B4455;\n",
              "      fill: #D2E3FC;\n",
              "    }\n",
              "\n",
              "    [theme=dark] .colab-df-convert:hover {\n",
              "      background-color: #434B5C;\n",
              "      box-shadow: 0px 1px 3px 1px rgba(0, 0, 0, 0.15);\n",
              "      filter: drop-shadow(0px 1px 2px rgba(0, 0, 0, 0.3));\n",
              "      fill: #FFFFFF;\n",
              "    }\n",
              "  </style>\n",
              "\n",
              "      <script>\n",
              "        const buttonEl =\n",
              "          document.querySelector('#df-390a16e5-83db-442d-9cb1-0f720465e2ae button.colab-df-convert');\n",
              "        buttonEl.style.display =\n",
              "          google.colab.kernel.accessAllowed ? 'block' : 'none';\n",
              "\n",
              "        async function convertToInteractive(key) {\n",
              "          const element = document.querySelector('#df-390a16e5-83db-442d-9cb1-0f720465e2ae');\n",
              "          const dataTable =\n",
              "            await google.colab.kernel.invokeFunction('convertToInteractive',\n",
              "                                                     [key], {});\n",
              "          if (!dataTable) return;\n",
              "\n",
              "          const docLinkHtml = 'Like what you see? Visit the ' +\n",
              "            '<a target=\"_blank\" href=https://colab.research.google.com/notebooks/data_table.ipynb>data table notebook</a>'\n",
              "            + ' to learn more about interactive tables.';\n",
              "          element.innerHTML = '';\n",
              "          dataTable['output_type'] = 'display_data';\n",
              "          await google.colab.output.renderOutput(dataTable, element);\n",
              "          const docLink = document.createElement('div');\n",
              "          docLink.innerHTML = docLinkHtml;\n",
              "          element.appendChild(docLink);\n",
              "        }\n",
              "      </script>\n",
              "    </div>\n",
              "  </div>\n",
              "  "
            ]
          },
          "metadata": {},
          "execution_count": 12
        }
      ]
    },
    {
      "cell_type": "markdown",
      "source": [
        "* Cluster #4는 킨들 일부와 자동차 네비게이션에 대한 리뷰로 군집화됨."
      ],
      "metadata": {
        "id": "9Tpnxt10OQ1r"
      }
    },
    {
      "cell_type": "markdown",
      "source": [
        ">전반적으로 군집화된 결과를 보면 군집 개수가 많아 세분화됨. --> 중심 개수를 3개로 낮추기."
      ],
      "metadata": {
        "id": "IItT4qiQOZff"
      }
    },
    {
      "cell_type": "code",
      "source": [
        "from sklearn.cluster import KMeans\n",
        "\n",
        "# 3개의 집합으로 군집화\n",
        "km_cluster = KMeans(n_clusters=3, max_iter=10000, random_state=0)\n",
        "km_cluster.fit(feature_vect)\n",
        "cluster_label = km_cluster.labels_\n",
        "cluster_centers = km_cluster.cluster_centers_\n",
        "\n",
        "# 소속 군집을 cluster_label 칼럼으로 할당하고 cluster_label 값으로 정렬\n",
        "document_df['cluster_label'] = cluster_label\n",
        "document_df.head()"
      ],
      "metadata": {
        "colab": {
          "base_uri": "https://localhost:8080/",
          "height": 206
        },
        "id": "Z5cPln1qOWnR",
        "outputId": "75082cd2-233d-4240-93b2-5d0f10c8e986"
      },
      "execution_count": 13,
      "outputs": [
        {
          "output_type": "execute_result",
          "data": {
            "text/plain": [
              "                       filename  \\\n",
              "0    battery-life_ipod_nano_8gb   \n",
              "1   screen_garmin_nuvi_255W_gps   \n",
              "2       keyboard_netbook_1005ha   \n",
              "3  updates_garmin_nuvi_255W_gps   \n",
              "4  display_garmin_nuvi_255W_gps   \n",
              "\n",
              "                                        opinion_text  cluster_label  \n",
              "0                                                ...              0  \n",
              "1                                                ...              0  \n",
              "2                                                ...              0  \n",
              "3                                                ...              0  \n",
              "4                                                ...              0  "
            ],
            "text/html": [
              "\n",
              "  <div id=\"df-44456cff-4aac-45ef-bbe9-fce1096a6f42\">\n",
              "    <div class=\"colab-df-container\">\n",
              "      <div>\n",
              "<style scoped>\n",
              "    .dataframe tbody tr th:only-of-type {\n",
              "        vertical-align: middle;\n",
              "    }\n",
              "\n",
              "    .dataframe tbody tr th {\n",
              "        vertical-align: top;\n",
              "    }\n",
              "\n",
              "    .dataframe thead th {\n",
              "        text-align: right;\n",
              "    }\n",
              "</style>\n",
              "<table border=\"1\" class=\"dataframe\">\n",
              "  <thead>\n",
              "    <tr style=\"text-align: right;\">\n",
              "      <th></th>\n",
              "      <th>filename</th>\n",
              "      <th>opinion_text</th>\n",
              "      <th>cluster_label</th>\n",
              "    </tr>\n",
              "  </thead>\n",
              "  <tbody>\n",
              "    <tr>\n",
              "      <th>0</th>\n",
              "      <td>battery-life_ipod_nano_8gb</td>\n",
              "      <td>...</td>\n",
              "      <td>0</td>\n",
              "    </tr>\n",
              "    <tr>\n",
              "      <th>1</th>\n",
              "      <td>screen_garmin_nuvi_255W_gps</td>\n",
              "      <td>...</td>\n",
              "      <td>0</td>\n",
              "    </tr>\n",
              "    <tr>\n",
              "      <th>2</th>\n",
              "      <td>keyboard_netbook_1005ha</td>\n",
              "      <td>...</td>\n",
              "      <td>0</td>\n",
              "    </tr>\n",
              "    <tr>\n",
              "      <th>3</th>\n",
              "      <td>updates_garmin_nuvi_255W_gps</td>\n",
              "      <td>...</td>\n",
              "      <td>0</td>\n",
              "    </tr>\n",
              "    <tr>\n",
              "      <th>4</th>\n",
              "      <td>display_garmin_nuvi_255W_gps</td>\n",
              "      <td>...</td>\n",
              "      <td>0</td>\n",
              "    </tr>\n",
              "  </tbody>\n",
              "</table>\n",
              "</div>\n",
              "      <button class=\"colab-df-convert\" onclick=\"convertToInteractive('df-44456cff-4aac-45ef-bbe9-fce1096a6f42')\"\n",
              "              title=\"Convert this dataframe to an interactive table.\"\n",
              "              style=\"display:none;\">\n",
              "        \n",
              "  <svg xmlns=\"http://www.w3.org/2000/svg\" height=\"24px\"viewBox=\"0 0 24 24\"\n",
              "       width=\"24px\">\n",
              "    <path d=\"M0 0h24v24H0V0z\" fill=\"none\"/>\n",
              "    <path d=\"M18.56 5.44l.94 2.06.94-2.06 2.06-.94-2.06-.94-.94-2.06-.94 2.06-2.06.94zm-11 1L8.5 8.5l.94-2.06 2.06-.94-2.06-.94L8.5 2.5l-.94 2.06-2.06.94zm10 10l.94 2.06.94-2.06 2.06-.94-2.06-.94-.94-2.06-.94 2.06-2.06.94z\"/><path d=\"M17.41 7.96l-1.37-1.37c-.4-.4-.92-.59-1.43-.59-.52 0-1.04.2-1.43.59L10.3 9.45l-7.72 7.72c-.78.78-.78 2.05 0 2.83L4 21.41c.39.39.9.59 1.41.59.51 0 1.02-.2 1.41-.59l7.78-7.78 2.81-2.81c.8-.78.8-2.07 0-2.86zM5.41 20L4 18.59l7.72-7.72 1.47 1.35L5.41 20z\"/>\n",
              "  </svg>\n",
              "      </button>\n",
              "      \n",
              "  <style>\n",
              "    .colab-df-container {\n",
              "      display:flex;\n",
              "      flex-wrap:wrap;\n",
              "      gap: 12px;\n",
              "    }\n",
              "\n",
              "    .colab-df-convert {\n",
              "      background-color: #E8F0FE;\n",
              "      border: none;\n",
              "      border-radius: 50%;\n",
              "      cursor: pointer;\n",
              "      display: none;\n",
              "      fill: #1967D2;\n",
              "      height: 32px;\n",
              "      padding: 0 0 0 0;\n",
              "      width: 32px;\n",
              "    }\n",
              "\n",
              "    .colab-df-convert:hover {\n",
              "      background-color: #E2EBFA;\n",
              "      box-shadow: 0px 1px 2px rgba(60, 64, 67, 0.3), 0px 1px 3px 1px rgba(60, 64, 67, 0.15);\n",
              "      fill: #174EA6;\n",
              "    }\n",
              "\n",
              "    [theme=dark] .colab-df-convert {\n",
              "      background-color: #3B4455;\n",
              "      fill: #D2E3FC;\n",
              "    }\n",
              "\n",
              "    [theme=dark] .colab-df-convert:hover {\n",
              "      background-color: #434B5C;\n",
              "      box-shadow: 0px 1px 3px 1px rgba(0, 0, 0, 0.15);\n",
              "      filter: drop-shadow(0px 1px 2px rgba(0, 0, 0, 0.3));\n",
              "      fill: #FFFFFF;\n",
              "    }\n",
              "  </style>\n",
              "\n",
              "      <script>\n",
              "        const buttonEl =\n",
              "          document.querySelector('#df-44456cff-4aac-45ef-bbe9-fce1096a6f42 button.colab-df-convert');\n",
              "        buttonEl.style.display =\n",
              "          google.colab.kernel.accessAllowed ? 'block' : 'none';\n",
              "\n",
              "        async function convertToInteractive(key) {\n",
              "          const element = document.querySelector('#df-44456cff-4aac-45ef-bbe9-fce1096a6f42');\n",
              "          const dataTable =\n",
              "            await google.colab.kernel.invokeFunction('convertToInteractive',\n",
              "                                                     [key], {});\n",
              "          if (!dataTable) return;\n",
              "\n",
              "          const docLinkHtml = 'Like what you see? Visit the ' +\n",
              "            '<a target=\"_blank\" href=https://colab.research.google.com/notebooks/data_table.ipynb>data table notebook</a>'\n",
              "            + ' to learn more about interactive tables.';\n",
              "          element.innerHTML = '';\n",
              "          dataTable['output_type'] = 'display_data';\n",
              "          await google.colab.output.renderOutput(dataTable, element);\n",
              "          const docLink = document.createElement('div');\n",
              "          docLink.innerHTML = docLinkHtml;\n",
              "          element.appendChild(docLink);\n",
              "        }\n",
              "      </script>\n",
              "    </div>\n",
              "  </div>\n",
              "  "
            ]
          },
          "metadata": {},
          "execution_count": 13
        }
      ]
    },
    {
      "cell_type": "markdown",
      "source": [
        "* 군집 하나씩 살펴보면 잘 구성됨."
      ],
      "metadata": {
        "id": "AEXQA9WIO1Oh"
      }
    },
    {
      "cell_type": "markdown",
      "source": [
        "**군집별 핵심 단어 추출하기**"
      ],
      "metadata": {
        "id": "4MbbxFhJO52d"
      }
    },
    {
      "cell_type": "markdown",
      "source": [
        ">각 군집(Cluster)에 속한 문서는 핵심 단어를 주축으로 군집화돼 있을 것.<br/>\n",
        "* KMeans 객체는 각 군집을 구성하는 단어 피처가 군집의 중심(Centroid)을 기준으로 얼마나 가깝게 위치해 있는지 clusters_centers_라는 속성으로 제공함.\n",
        "* clusters_centers_는 배열 값으로 제공되며, 행은 개별 군집을, 열은 개별 피처를 의미함.\n",
        "* clusters_centers_[0,1]: 0번 군집에서 두 번째 피처의 위치 값."
      ],
      "metadata": {
        "id": "gd3_Hbe7O763"
      }
    },
    {
      "cell_type": "code",
      "source": [
        "cluster_centers = km_cluster.cluster_centers_\n",
        "print('cluster_centers shape :',cluster_centers.shape)\n",
        "print(cluster_centers)"
      ],
      "metadata": {
        "colab": {
          "base_uri": "https://localhost:8080/"
        },
        "id": "NtMGuTGGPbxS",
        "outputId": "9a94c610-c86a-4d9c-9100-48837b582c35"
      },
      "execution_count": 14,
      "outputs": [
        {
          "output_type": "stream",
          "name": "stdout",
          "text": [
            "cluster_centers shape : (3, 4611)\n",
            "[[0.01005322 0.         0.         ... 0.00706287 0.         0.        ]\n",
            " [0.         0.00099499 0.00174637 ... 0.         0.00183397 0.00144581]\n",
            " [0.         0.00092551 0.         ... 0.         0.         0.        ]]\n"
          ]
        }
      ]
    },
    {
      "cell_type": "markdown",
      "source": [
        ">군집이 3개, word 피처가 4611개로 구성됨."
      ],
      "metadata": {
        "id": "glFBnrL7Pn4B"
      }
    },
    {
      "cell_type": "markdown",
      "source": [
        ">이제 cluster_centers_ 속성값을 이용해 각 군집별 핵심 단어 찾기."
      ],
      "metadata": {
        "id": "xnWrVPZvPtJI"
      }
    },
    {
      "cell_type": "code",
      "source": [
        "# 군집별 top n 핵심 단어, 그 단어의 중심 위치 상댓값, 대상 파일명 반환함.\n",
        "def get_cluster_details(cluster_model, cluster_data, feature_names, clusters_num, top_n_features=10):\n",
        "  cluster_details = {}\n",
        "\n",
        "  # cluster_centers array의 값이 큰 순으로 정렬된 인덱스 값 반환\n",
        "  # 군집 중심점(centroid)별 할당된 word 피처들의 거리값이 큰 순으로 값을 구하기 위함.\n",
        "  centroid_feature_ordered_ind = cluster_model.cluster_centers_.argsort()[:,::-1]\n",
        "\n",
        "  # 개별 군집별로 반복하면서 핵심 단어, 그 단어의 중심 위치 상댓값, 대상 파일명 입력\n",
        "  for cluster_num in range(clusters_num):\n",
        "    # 개별 군집별 정보를 담을 데이터 초기화.\n",
        "    cluster_details[cluster_num] = {}\n",
        "    cluster_details[cluster_num]['cluster'] = cluster_num\n",
        "\n",
        "    # cluster_centers_.argsort()[:,::-1]로 구한 인덱스를 이용해 ton n 피처 단어를 구함.\n",
        "    top_feature_indexes = centroid_feature_ordered_ind[cluster_num, :top_n_features]\n",
        "    top_features = [feature_names[ind] for ind in top_feature_indexes]\n",
        "\n",
        "    # top_feature_indexes를 이용해 해당 피처 단어의 중심 위치 상댓값 구함.\n",
        "    top_feature_values = cluster_model.cluster_centers_[cluster_num, top_feature_indexes].tolist()\n",
        "\n",
        "    # cluster_details 딕셔너리 객체에 개별 군집별 핵심단어와 중심위치 상댓값, 해당 파일명 입력\n",
        "    cluster_details[cluster_num]['top_features'] = top_features\n",
        "    cluster_details[cluster_num]['top_features_value'] = top_feature_values\n",
        "    filenames = cluster_data[cluster_data['cluster_label'] == cluster_num]['filename']\n",
        "    filenames = filenames.values.tolist()\n",
        "\n",
        "    cluster_details[cluster_num]['filenames'] = filenames\n",
        "  \n",
        "  return cluster_details"
      ],
      "metadata": {
        "id": "Osx1wV-dPiRh"
      },
      "execution_count": 15,
      "outputs": []
    },
    {
      "cell_type": "markdown",
      "source": [
        "* get_cluster_details()를 호출하면 dictionary를 원소로 가지는 리스트인 cluster_details 반환."
      ],
      "metadata": {
        "id": "dbfNc-XLRcfD"
      }
    },
    {
      "cell_type": "code",
      "source": [
        "# 보기 좋게 표현하기 위한 함수 생성.\n",
        "def print_cluster_details(cluster_details):\n",
        "  for cluster_num, cluster_detail in cluster_details.items():\n",
        "    print('####### Cluster {0}'.format(cluster_num))\n",
        "    print('Top features:', cluster_detail['top_features'])\n",
        "    print('Reviews 파일명 :', cluster_detail['filenames'][:7])\n",
        "    print('================================================')"
      ],
      "metadata": {
        "id": "8NbDDCzrRZnq"
      },
      "execution_count": 16,
      "outputs": []
    },
    {
      "cell_type": "code",
      "source": [
        "feature_names = tfidf_vect.get_feature_names()\n",
        "cluster_details = get_cluster_details(cluster_model=km_cluster, cluster_data=document_df,\n",
        "                                      feature_names=feature_names, clusters_num=3, top_n_features=10)\n",
        "print_cluster_details(cluster_details)"
      ],
      "metadata": {
        "colab": {
          "base_uri": "https://localhost:8080/"
        },
        "id": "TZEYkpx1R3Yt",
        "outputId": "d549f767-290c-4f1c-b98f-b7ca2662cec0"
      },
      "execution_count": 17,
      "outputs": [
        {
          "output_type": "stream",
          "name": "stdout",
          "text": [
            "####### Cluster 0\n",
            "Top features: ['screen', 'battery', 'keyboard', 'battery life', 'life', 'kindle', 'direction', 'video', 'size', 'voice']\n",
            "Reviews 파일명 : ['battery-life_ipod_nano_8gb', 'screen_garmin_nuvi_255W_gps', 'keyboard_netbook_1005ha', 'updates_garmin_nuvi_255W_gps', 'display_garmin_nuvi_255W_gps', 'satellite_garmin_nuvi_255W_gps', 'video_ipod_nano_8gb']\n",
            "================================================\n",
            "####### Cluster 1\n",
            "Top features: ['room', 'hotel', 'service', 'staff', 'food', 'location', 'bathroom', 'clean', 'price', 'parking']\n",
            "Reviews 파일명 : ['room_holiday_inn_london', 'food_holiday_inn_london', 'service_holiday_inn_london', 'staff_swissotel_chicago', 'service_swissotel_hotel_chicago', 'location_holiday_inn_london', 'food_swissotel_chicago']\n",
            "================================================\n",
            "####### Cluster 2\n",
            "Top features: ['interior', 'seat', 'mileage', 'comfortable', 'gas', 'gas mileage', 'transmission', 'car', 'performance', 'quality']\n",
            "Reviews 파일명 : ['comfort_toyota_camry_2007', 'gas_mileage_toyota_camry_2007', 'interior_toyota_camry_2007', 'interior_honda_accord_2008', 'mileage_honda_accord_2008', 'comfort_honda_accord_2008', 'transmission_toyota_camry_2007']\n",
            "================================================\n"
          ]
        },
        {
          "output_type": "stream",
          "name": "stderr",
          "text": [
            "/usr/local/lib/python3.7/dist-packages/sklearn/utils/deprecation.py:87: FutureWarning: Function get_feature_names is deprecated; get_feature_names is deprecated in 1.0 and will be removed in 1.2. Please use get_feature_names_out instead.\n",
            "  warnings.warn(msg, category=FutureWarning)\n"
          ]
        }
      ]
    },
    {
      "cell_type": "markdown",
      "source": [
        "## **10 텍스트 분석 실습 - 캐글 Marcari Price Suggestion Challenge**\n",
        "---"
      ],
      "metadata": {
        "id": "T58JPUkrSSzl"
      }
    },
    {
      "cell_type": "markdown",
      "source": [
        "**데이터 전처리**"
      ],
      "metadata": {
        "id": "vYf97kvySXhB"
      }
    },
    {
      "cell_type": "code",
      "source": [
        "from sklearn.linear_model import Ridge, LogisticRegression\n",
        "from sklearn.model_selection import train_test_split, cross_val_score\n",
        "from sklearn.feature_extraction.text import CountVectorizer, TfidfVectorizer\n",
        "import pandas as apd\n",
        "\n",
        "mercari_df = pd.read_csv('/content/drive/MyDrive/mercari_train.tsv',sep='\\t')\n",
        "print(mercari_df.shape)\n",
        "mercari_df.head(3)"
      ],
      "metadata": {
        "colab": {
          "base_uri": "https://localhost:8080/",
          "height": 382
        },
        "id": "IXMcVE_aSEL5",
        "outputId": "c739ce4d-751c-4854-b290-da8b7f49c475"
      },
      "execution_count": 18,
      "outputs": [
        {
          "output_type": "stream",
          "name": "stdout",
          "text": [
            "(1482535, 8)\n"
          ]
        },
        {
          "output_type": "execute_result",
          "data": {
            "text/plain": [
              "   train_id                                 name  item_condition_id  \\\n",
              "0         0  MLB Cincinnati Reds T Shirt Size XL                  3   \n",
              "1         1     Razer BlackWidow Chroma Keyboard                  3   \n",
              "2         2                       AVA-VIV Blouse                  1   \n",
              "\n",
              "                                       category_name brand_name  price  \\\n",
              "0                                  Men/Tops/T-shirts        NaN   10.0   \n",
              "1  Electronics/Computers & Tablets/Components & P...      Razer   52.0   \n",
              "2                        Women/Tops & Blouses/Blouse     Target   10.0   \n",
              "\n",
              "   shipping                                   item_description  \n",
              "0         1                                 No description yet  \n",
              "1         0  This keyboard is in great condition and works ...  \n",
              "2         1  Adorable top with a hint of lace and a key hol...  "
            ],
            "text/html": [
              "\n",
              "  <div id=\"df-b26a9ac0-df23-45e4-99e3-7ba5e5ece707\">\n",
              "    <div class=\"colab-df-container\">\n",
              "      <div>\n",
              "<style scoped>\n",
              "    .dataframe tbody tr th:only-of-type {\n",
              "        vertical-align: middle;\n",
              "    }\n",
              "\n",
              "    .dataframe tbody tr th {\n",
              "        vertical-align: top;\n",
              "    }\n",
              "\n",
              "    .dataframe thead th {\n",
              "        text-align: right;\n",
              "    }\n",
              "</style>\n",
              "<table border=\"1\" class=\"dataframe\">\n",
              "  <thead>\n",
              "    <tr style=\"text-align: right;\">\n",
              "      <th></th>\n",
              "      <th>train_id</th>\n",
              "      <th>name</th>\n",
              "      <th>item_condition_id</th>\n",
              "      <th>category_name</th>\n",
              "      <th>brand_name</th>\n",
              "      <th>price</th>\n",
              "      <th>shipping</th>\n",
              "      <th>item_description</th>\n",
              "    </tr>\n",
              "  </thead>\n",
              "  <tbody>\n",
              "    <tr>\n",
              "      <th>0</th>\n",
              "      <td>0</td>\n",
              "      <td>MLB Cincinnati Reds T Shirt Size XL</td>\n",
              "      <td>3</td>\n",
              "      <td>Men/Tops/T-shirts</td>\n",
              "      <td>NaN</td>\n",
              "      <td>10.0</td>\n",
              "      <td>1</td>\n",
              "      <td>No description yet</td>\n",
              "    </tr>\n",
              "    <tr>\n",
              "      <th>1</th>\n",
              "      <td>1</td>\n",
              "      <td>Razer BlackWidow Chroma Keyboard</td>\n",
              "      <td>3</td>\n",
              "      <td>Electronics/Computers &amp; Tablets/Components &amp; P...</td>\n",
              "      <td>Razer</td>\n",
              "      <td>52.0</td>\n",
              "      <td>0</td>\n",
              "      <td>This keyboard is in great condition and works ...</td>\n",
              "    </tr>\n",
              "    <tr>\n",
              "      <th>2</th>\n",
              "      <td>2</td>\n",
              "      <td>AVA-VIV Blouse</td>\n",
              "      <td>1</td>\n",
              "      <td>Women/Tops &amp; Blouses/Blouse</td>\n",
              "      <td>Target</td>\n",
              "      <td>10.0</td>\n",
              "      <td>1</td>\n",
              "      <td>Adorable top with a hint of lace and a key hol...</td>\n",
              "    </tr>\n",
              "  </tbody>\n",
              "</table>\n",
              "</div>\n",
              "      <button class=\"colab-df-convert\" onclick=\"convertToInteractive('df-b26a9ac0-df23-45e4-99e3-7ba5e5ece707')\"\n",
              "              title=\"Convert this dataframe to an interactive table.\"\n",
              "              style=\"display:none;\">\n",
              "        \n",
              "  <svg xmlns=\"http://www.w3.org/2000/svg\" height=\"24px\"viewBox=\"0 0 24 24\"\n",
              "       width=\"24px\">\n",
              "    <path d=\"M0 0h24v24H0V0z\" fill=\"none\"/>\n",
              "    <path d=\"M18.56 5.44l.94 2.06.94-2.06 2.06-.94-2.06-.94-.94-2.06-.94 2.06-2.06.94zm-11 1L8.5 8.5l.94-2.06 2.06-.94-2.06-.94L8.5 2.5l-.94 2.06-2.06.94zm10 10l.94 2.06.94-2.06 2.06-.94-2.06-.94-.94-2.06-.94 2.06-2.06.94z\"/><path d=\"M17.41 7.96l-1.37-1.37c-.4-.4-.92-.59-1.43-.59-.52 0-1.04.2-1.43.59L10.3 9.45l-7.72 7.72c-.78.78-.78 2.05 0 2.83L4 21.41c.39.39.9.59 1.41.59.51 0 1.02-.2 1.41-.59l7.78-7.78 2.81-2.81c.8-.78.8-2.07 0-2.86zM5.41 20L4 18.59l7.72-7.72 1.47 1.35L5.41 20z\"/>\n",
              "  </svg>\n",
              "      </button>\n",
              "      \n",
              "  <style>\n",
              "    .colab-df-container {\n",
              "      display:flex;\n",
              "      flex-wrap:wrap;\n",
              "      gap: 12px;\n",
              "    }\n",
              "\n",
              "    .colab-df-convert {\n",
              "      background-color: #E8F0FE;\n",
              "      border: none;\n",
              "      border-radius: 50%;\n",
              "      cursor: pointer;\n",
              "      display: none;\n",
              "      fill: #1967D2;\n",
              "      height: 32px;\n",
              "      padding: 0 0 0 0;\n",
              "      width: 32px;\n",
              "    }\n",
              "\n",
              "    .colab-df-convert:hover {\n",
              "      background-color: #E2EBFA;\n",
              "      box-shadow: 0px 1px 2px rgba(60, 64, 67, 0.3), 0px 1px 3px 1px rgba(60, 64, 67, 0.15);\n",
              "      fill: #174EA6;\n",
              "    }\n",
              "\n",
              "    [theme=dark] .colab-df-convert {\n",
              "      background-color: #3B4455;\n",
              "      fill: #D2E3FC;\n",
              "    }\n",
              "\n",
              "    [theme=dark] .colab-df-convert:hover {\n",
              "      background-color: #434B5C;\n",
              "      box-shadow: 0px 1px 3px 1px rgba(0, 0, 0, 0.15);\n",
              "      filter: drop-shadow(0px 1px 2px rgba(0, 0, 0, 0.3));\n",
              "      fill: #FFFFFF;\n",
              "    }\n",
              "  </style>\n",
              "\n",
              "      <script>\n",
              "        const buttonEl =\n",
              "          document.querySelector('#df-b26a9ac0-df23-45e4-99e3-7ba5e5ece707 button.colab-df-convert');\n",
              "        buttonEl.style.display =\n",
              "          google.colab.kernel.accessAllowed ? 'block' : 'none';\n",
              "\n",
              "        async function convertToInteractive(key) {\n",
              "          const element = document.querySelector('#df-b26a9ac0-df23-45e4-99e3-7ba5e5ece707');\n",
              "          const dataTable =\n",
              "            await google.colab.kernel.invokeFunction('convertToInteractive',\n",
              "                                                     [key], {});\n",
              "          if (!dataTable) return;\n",
              "\n",
              "          const docLinkHtml = 'Like what you see? Visit the ' +\n",
              "            '<a target=\"_blank\" href=https://colab.research.google.com/notebooks/data_table.ipynb>data table notebook</a>'\n",
              "            + ' to learn more about interactive tables.';\n",
              "          element.innerHTML = '';\n",
              "          dataTable['output_type'] = 'display_data';\n",
              "          await google.colab.output.renderOutput(dataTable, element);\n",
              "          const docLink = document.createElement('div');\n",
              "          docLink.innerHTML = docLinkHtml;\n",
              "          element.appendChild(docLink);\n",
              "        }\n",
              "      </script>\n",
              "    </div>\n",
              "  </div>\n",
              "  "
            ]
          },
          "metadata": {},
          "execution_count": 18
        }
      ]
    },
    {
      "cell_type": "code",
      "source": [
        "print(mercari_df.info())"
      ],
      "metadata": {
        "colab": {
          "base_uri": "https://localhost:8080/"
        },
        "id": "j8YLF-2y306O",
        "outputId": "033445e5-fa94-423e-b11a-d5a4bc8f18d3"
      },
      "execution_count": 19,
      "outputs": [
        {
          "output_type": "stream",
          "name": "stdout",
          "text": [
            "<class 'pandas.core.frame.DataFrame'>\n",
            "RangeIndex: 1482535 entries, 0 to 1482534\n",
            "Data columns (total 8 columns):\n",
            " #   Column             Non-Null Count    Dtype  \n",
            "---  ------             --------------    -----  \n",
            " 0   train_id           1482535 non-null  int64  \n",
            " 1   name               1482535 non-null  object \n",
            " 2   item_condition_id  1482535 non-null  int64  \n",
            " 3   category_name      1476208 non-null  object \n",
            " 4   brand_name         849853 non-null   object \n",
            " 5   price              1482535 non-null  float64\n",
            " 6   shipping           1482535 non-null  int64  \n",
            " 7   item_description   1482531 non-null  object \n",
            "dtypes: float64(1), int64(3), object(4)\n",
            "memory usage: 90.5+ MB\n",
            "None\n"
          ]
        }
      ]
    },
    {
      "cell_type": "markdown",
      "source": [
        ">* brand_name 칼럼은 매우 많은 Null값 가지고 있음.\n",
        "* category_name 또한 약 6300건의 null 데이터를 가지고 있음."
      ],
      "metadata": {
        "id": "09yzEfBs4YP4"
      }
    },
    {
      "cell_type": "code",
      "source": [
        "# Target 값인 price 칼럼의 데이터 분포도 확인.\n",
        "import matplotlib.pyplot as plt\n",
        "import seaborn as sns\n",
        "%matplotlib inline\n",
        "\n",
        "y_train_df = mercari_df['price']\n",
        "plt.figure(figsize=(6,4))\n",
        "sns.distplot(y_train_df, kde=False)"
      ],
      "metadata": {
        "colab": {
          "base_uri": "https://localhost:8080/",
          "height": 365
        },
        "id": "FZ11vfSU4Vj8",
        "outputId": "6e3643e3-915a-458c-c1ff-b4c36f3875d0"
      },
      "execution_count": 20,
      "outputs": [
        {
          "output_type": "stream",
          "name": "stderr",
          "text": [
            "/usr/local/lib/python3.7/dist-packages/seaborn/distributions.py:2619: FutureWarning: `distplot` is a deprecated function and will be removed in a future version. Please adapt your code to use either `displot` (a figure-level function with similar flexibility) or `histplot` (an axes-level function for histograms).\n",
            "  warnings.warn(msg, FutureWarning)\n"
          ]
        },
        {
          "output_type": "execute_result",
          "data": {
            "text/plain": [
              "<matplotlib.axes._subplots.AxesSubplot at 0x7f5566918390>"
            ]
          },
          "metadata": {},
          "execution_count": 20
        },
        {
          "output_type": "display_data",
          "data": {
            "text/plain": [
              "<Figure size 432x288 with 1 Axes>"
            ],
            "image/png": "[encoded data removed]"
          },
          "metadata": {
            "needs_background": "light"
          }
        }
      ]
    },
    {
      "cell_type": "markdown",
      "source": [
        ">price 값이 비교적 적은 가격을 가진 데이터 값에 왜곡되어 분포되어 있음. -->로그값으로 변환."
      ],
      "metadata": {
        "id": "X2regdt96Fe0"
      }
    },
    {
      "cell_type": "code",
      "source": [
        "import numpy as np\n",
        "\n",
        "y_train_df = np.log1p(y_train_df)\n",
        "sns.distplot(y_train_df, kde=False)"
      ],
      "metadata": {
        "colab": {
          "base_uri": "https://localhost:8080/",
          "height": 297
        },
        "id": "U3sYZ_Dt6DRB",
        "outputId": "a88ef21e-d8b7-4ac8-fd78-953c3cec53b3"
      },
      "execution_count": 21,
      "outputs": [
        {
          "output_type": "execute_result",
          "data": {
            "text/plain": [
              "<matplotlib.axes._subplots.AxesSubplot at 0x7f5551438e50>"
            ]
          },
          "metadata": {},
          "execution_count": 21
        },
        {
          "output_type": "display_data",
          "data": {
            "text/plain": [
              "<Figure size 432x288 with 1 Axes>"
            ],
            "image/png": "[encoded data removed]"
          },
          "metadata": {
            "needs_background": "light"
          }
        }
      ]
    },
    {
      "cell_type": "markdown",
      "source": [
        ">비교적 정규분포에 가까운 데이터를 이루게 됨."
      ],
      "metadata": {
        "id": "lUyi3j5p6UbL"
      }
    },
    {
      "cell_type": "code",
      "source": [
        "mercari_df['price'] = np.log1p(mercari_df['price'])\n",
        "mercari_df['price'].head(3)"
      ],
      "metadata": {
        "colab": {
          "base_uri": "https://localhost:8080/"
        },
        "id": "mQ5JXkjm6SSc",
        "outputId": "10cf6e66-aa34-41ba-d66d-49ff6508cb30"
      },
      "execution_count": 22,
      "outputs": [
        {
          "output_type": "execute_result",
          "data": {
            "text/plain": [
              "0    2.397895\n",
              "1    3.970292\n",
              "2    2.397895\n",
              "Name: price, dtype: float64"
            ]
          },
          "metadata": {},
          "execution_count": 22
        }
      ]
    },
    {
      "cell_type": "code",
      "source": [
        "# shipping과 item_condition_id 값도 살피기.\n",
        "print('Shipping 값 유형:\\n', mercari_df['shipping'].value_counts())\n",
        "print('item_condition_id 값 유형:\\n', mercari_df['item_condition_id'].value_counts())"
      ],
      "metadata": {
        "colab": {
          "base_uri": "https://localhost:8080/"
        },
        "id": "NLN6AMbC6hku",
        "outputId": "99939133-9993-40e7-9adc-51be7c62377b"
      },
      "execution_count": 23,
      "outputs": [
        {
          "output_type": "stream",
          "name": "stdout",
          "text": [
            "Shipping 값 유형:\n",
            " 0    819435\n",
            "1    663100\n",
            "Name: shipping, dtype: int64\n",
            "item_condition_id 값 유형:\n",
            " 1    640549\n",
            "3    432161\n",
            "2    375479\n",
            "4     31962\n",
            "5      2384\n",
            "Name: item_condition_id, dtype: int64\n"
          ]
        }
      ]
    },
    {
      "cell_type": "markdown",
      "source": [
        ">* Shipping 칼럼: 배송비 유무. 값이 비교적 균일함.\n",
        "* Item_condition_id: 판매자가 제공하는 제품 상태.(무슨 의미인지는 기재되어 있지 않음)\n",
        "* item_description 칼럼은 Null 값이 별로 없지만, description에 대한 별도 설명이 없는 경우 'No description yet'이라 되어있음."
      ],
      "metadata": {
        "id": "ZBGfZ8bp65Xx"
      }
    },
    {
      "cell_type": "code",
      "source": [
        "boolean_cond = mercari_df['item_description']=='No description yet'\n",
        "mercari_df[boolean_cond]['item_description'].count()"
      ],
      "metadata": {
        "colab": {
          "base_uri": "https://localhost:8080/"
        },
        "id": "O8UeKxt-61KU",
        "outputId": "c8cec52f-f529-43bc-e833-93d1cc06b927"
      },
      "execution_count": 24,
      "outputs": [
        {
          "output_type": "execute_result",
          "data": {
            "text/plain": [
              "82489"
            ]
          },
          "metadata": {},
          "execution_count": 24
        }
      ]
    },
    {
      "cell_type": "markdown",
      "source": [
        ">* category_name은 '/'로 분리된 카테고리를 하나의 문자열로 나타내고 있음\n",
        "* 'Men/Tops/T-shirts'는 대분류 'Men',중분류 'Tops',소분류'T-shirts'로 나눌 수 있음\n",
        "* category_name은 텍스트이므로 피처 추출 시 tokenizer를 '/'로 하여 단어를 분리해 벡터화할 수 있지만,<br/>\n",
        "여기서는 category_name의 '/'를 기준으로 단어를 토큰화해 각각 별도의 피처로 저장하고 이를 이용해 알고리즘을 학습."
      ],
      "metadata": {
        "id": "NRtkKFId7wCB"
      }
    },
    {
      "cell_type": "markdown",
      "source": [
        ">* category_name 칼럼을 '/'를 기준으로 대, 중, 소분류를 효과적으로 분리해 내기 위해 별도의 split_cat() 함수를 생성하고 이를 DataFrame의 apply lambda 식에 적용.\n",
        "* split_cat() 함수는 먼저 category_name이 Null이 아닌 경우에 split('/')를 이용해 대, 중, 소분류를 분리함.<br/>\n",
        "파이썬은 문자열에 split(tokenizer 문자) 함수를 호출하면 tokenizer 문자에 따라 문자열을 분리해 리스트로 반환함.\n",
        "* 만일 category_name이 Null일 경우에는 split() 함수가 Error를 발생하므로 이 Error를 except catch하여 대, 중, 소분류 모두 'Other Null'값을 부여함."
      ],
      "metadata": {
        "id": "x1hq7cLn8rlh"
      }
    },
    {
      "cell_type": "code",
      "source": [
        "# apply lambda에서 호출되는 대, 중, 소 분할 함수 생성 후 대, 중, 소 값을 리스트로 반환.\n",
        "def split_cat(category_name):\n",
        "  try:\n",
        "    return category_name.split('/')\n",
        "  except:\n",
        "    return ['Other_Null','Other_Null','Other_Null']\n",
        "\n",
        "# 위의 split_cat()을 apply lambda에서 호출해 대, 중, 소 칼럼을 mercari_df에 생성.\n",
        "mercari_df['cat_dae'], mercari_df['cat_jung'], mercari_df['cat_so'] = zip(*mercari_df['category_name'].apply(lambda x: split_cat(x)))\n",
        "\n",
        "# 대분류만 값의 유형과 건수를 살펴보고, 중분류,소분류는 값의 유형이 많으므로 분류 개수만 추출.\n",
        "print('대분류 유형:\\n', mercari_df['cat_dae'].value_counts())\n",
        "print('중분류 개수 :', mercari_df['cat_jung'].nunique())\n",
        "print('소분류 개수 :', mercari_df['cat_so'].nunique())"
      ],
      "metadata": {
        "colab": {
          "base_uri": "https://localhost:8080/"
        },
        "id": "WnGvSMoj7s01",
        "outputId": "5193d7fd-4441-4513-ca3b-18235bdf2ce0"
      },
      "execution_count": 25,
      "outputs": [
        {
          "output_type": "stream",
          "name": "stdout",
          "text": [
            "대분류 유형:\n",
            " Women                     664385\n",
            "Beauty                    207828\n",
            "Kids                      171689\n",
            "Electronics               122690\n",
            "Men                        93680\n",
            "Home                       67871\n",
            "Vintage & Collectibles     46530\n",
            "Other                      45351\n",
            "Handmade                   30842\n",
            "Sports & Outdoors          25342\n",
            "Other_Null                  6327\n",
            "Name: cat_dae, dtype: int64\n",
            "중분류 개수 : 114\n",
            "소분류 개수 : 871\n"
          ]
        }
      ]
    },
    {
      "cell_type": "markdown",
      "source": [
        ">마지막으로 brand_name, category_name, item_description 칼럼의 Null 값은 일괄적으로 'Other Null'로 동일하게 변경.<br/>\n",
        "fillna()를 적용한 뒤에 각 칼럼별로 Null 값이 없는지 다음과 같이 mercari_df.isnull().sum()을 호출해 확인하면 모든 칼럼에서 Null 건수가 0 임을 알 수 있음."
      ],
      "metadata": {
        "id": "x7fyOWKY_TzG"
      }
    },
    {
      "cell_type": "code",
      "source": [
        "mercari_df['brand_name'] = mercari_df['brand_name'].fillna(value='Other_Null')\n",
        "mercari_df['category_name'] = mercari_df['category_name'].fillna(value='Other_Null')\n",
        "mercari_df['item_description'] = mercari_df['item_description'].fillna(value='Other_Null')\n",
        "\n",
        "# 각 칼럼별로 Null 값 건수 확인. 모두 0이 나와야 함.\n",
        "mercari_df.isnull().sum()"
      ],
      "metadata": {
        "colab": {
          "base_uri": "https://localhost:8080/"
        },
        "id": "JApNNO3C_Hyk",
        "outputId": "c7ff3d35-1e2f-49a7-e316-a0d8baa7cea1"
      },
      "execution_count": 26,
      "outputs": [
        {
          "output_type": "execute_result",
          "data": {
            "text/plain": [
              "train_id             0\n",
              "name                 0\n",
              "item_condition_id    0\n",
              "category_name        0\n",
              "brand_name           0\n",
              "price                0\n",
              "shipping             0\n",
              "item_description     0\n",
              "cat_dae              0\n",
              "cat_jung             0\n",
              "cat_so               0\n",
              "dtype: int64"
            ]
          },
          "metadata": {},
          "execution_count": 26
        }
      ]
    },
    {
      "cell_type": "markdown",
      "source": [
        "**피처 인코딩과 피처 벡터화**"
      ],
      "metadata": {
        "id": "z78nCHOzAL8b"
      }
    },
    {
      "cell_type": "markdown",
      "source": [
        ">* 문자열 칼럼 중 레이블 또는 원-핫 인코딩을 수행하거나  피처 벡터화로 변환할 칼럼 선별.\n",
        "* Mercari Price Suggestion에서 예측 모델은 price 값, 즉 상품 가격을 예측해야 하므로 회귀 모델을 기반으로 함.\n",
        "* 선형 회귀 모델과 회귀 트리 모델을 모두 적용할 예정이며, 특히 선형 회귀의 경우 원-핫 인코딩 적용이 훨씬 선호되므로 인코딩할 피처는 모두 원-핫 인코딩 적용.\n",
        "* 피처 벡터화의 경우는 비교적 짧은 텍스트의 경우는 Count 기반의 벡터화를, 긴 텍스트는 TD-IDF 기반의 벡터화를 적용."
      ],
      "metadata": {
        "id": "trYlIkKsAPMr"
      }
    },
    {
      "cell_type": "code",
      "source": [
        "# brand_name부터 검토.(상품의 브랜드명)\n",
        "print('brand name의 유형 건수 :', mercari_df['brand_name'].nunique())\n",
        "print('brand name sample 5건 : \\n', mercari_df['brand_name'].value_counts()[:5])"
      ],
      "metadata": {
        "colab": {
          "base_uri": "https://localhost:8080/"
        },
        "id": "MhQ7_vHKAJ5w",
        "outputId": "33d00fb9-0412-480d-deec-06d06a9dc254"
      },
      "execution_count": 27,
      "outputs": [
        {
          "output_type": "stream",
          "name": "stdout",
          "text": [
            "brand name의 유형 건수 : 4810\n",
            "brand name sample 5건 : \n",
            " Other_Null           632682\n",
            "PINK                  54088\n",
            "Nike                  54043\n",
            "Victoria's Secret     48036\n",
            "LuLaRoe               31024\n",
            "Name: brand_name, dtype: int64\n"
          ]
        }
      ]
    },
    {
      "cell_type": "markdown",
      "source": [
        "* 대부분 명료한 문자열로 되어 있음 -->별도의 피처 벡터화 형태로 바꿀 필요 ㅇ벗이 인코딩 변환 적용.\n",
        "* 원-핫 인코딩 변환."
      ],
      "metadata": {
        "id": "SmFWb0fsBieZ"
      }
    },
    {
      "cell_type": "code",
      "source": [
        "# name(상품명)\n",
        "print('name의 유형 건수 :', mercari_df['name'].nunique())\n",
        "print('name sample 5건 : \\n', mercari_df['name'][:10])"
      ],
      "metadata": {
        "colab": {
          "base_uri": "https://localhost:8080/"
        },
        "id": "1yvDfKkdBf4e",
        "outputId": "2195c723-8eee-4994-9c49-ea725eaafb4c"
      },
      "execution_count": 28,
      "outputs": [
        {
          "output_type": "stream",
          "name": "stdout",
          "text": [
            "name의 유형 건수 : 1225273\n",
            "name sample 5건 : \n",
            " 0       MLB Cincinnati Reds T Shirt Size XL\n",
            "1          Razer BlackWidow Chroma Keyboard\n",
            "2                            AVA-VIV Blouse\n",
            "3                     Leather Horse Statues\n",
            "4                      24K GOLD plated rose\n",
            "5          Bundled items requested for Ruie\n",
            "6        Acacia pacific tides santorini top\n",
            "7      Girls cheer and tumbling bundle of 7\n",
            "8                     Girls Nike Pro shorts\n",
            "9    Porcelain clown doll checker pants VTG\n",
            "Name: name, dtype: object\n"
          ]
        }
      ]
    },
    {
      "cell_type": "markdown",
      "source": [
        "* 유형이 매우 많고, 적은 단어 위주의 텍스트 형태로 되어 있으므로 Count 기반으로 피처 벡터화 변환 적용."
      ],
      "metadata": {
        "id": "mffDdElSCAVQ"
      }
    },
    {
      "cell_type": "markdown",
      "source": [
        ">* category_name 칼럼은 이전에 전처리를 통해 대,중,소 분류 세 개의 칼럼인 cat_dae, cat_jung, cat_so 칼럼으로 분리됨 -->원-핫 인코딩 적용.\n",
        "* shipping 칼럼은 배송비 무료 여부로서 0과 1 두가지 유형의 값. --> 원-핫 인코딩 적용\n",
        "* item_condition_id는 상품 상태로서 1,2,3,4,5의 다섯 가ㅣㅈ 유형의 값 --> 원-핫 인코딩 적용"
      ],
      "metadata": {
        "id": "FXzAaXbiCJ1Q"
      }
    },
    {
      "cell_type": "code",
      "source": [
        "# item_description: 상품에 대한 간단 설명(가장 긴 텍스트 가지고 있음)\n",
        "pd.set_option('max_colwidth',200)\n",
        "\n",
        "# item_description의 평균 문자열 크기\n",
        "print('item_description 평균 문자열 크기:', mercari_df['item_description'].str.len().mean())\n",
        "\n",
        "mercari_df['item_description'][:2]"
      ],
      "metadata": {
        "colab": {
          "base_uri": "https://localhost:8080/"
        },
        "id": "ZGCtFeGQB-0O",
        "outputId": "0fa370f9-0cfe-42ed-cfa0-ee70fa24080a"
      },
      "execution_count": 29,
      "outputs": [
        {
          "output_type": "stream",
          "name": "stdout",
          "text": [
            "item_description 평균 문자열 크기: 145.7113889385411\n"
          ]
        },
        {
          "output_type": "execute_result",
          "data": {
            "text/plain": [
              "0                                                                                                                                                                              No description yet\n",
              "1    This keyboard is in great condition and works like it came out of the box. All of the ports are tested and work perfectly. The lights are customizable via the Razer Synapse app on your PC.\n",
              "Name: item_description, dtype: object"
            ]
          },
          "metadata": {},
          "execution_count": 29
        }
      ]
    },
    {
      "cell_type": "markdown",
      "source": [
        "* 평균 문자열이 145자로 비교적 크므로 TF-IDF로 변환."
      ],
      "metadata": {
        "id": "s_OPs2ftDTLi"
      }
    },
    {
      "cell_type": "markdown",
      "source": [
        ">이제 주요 칼럼을 인코딩 및 피처 벡터화 변환.\n",
        "* 먼저 name과 item_description 칼럼: 피처 벡터화.<br/>\n",
        "name의 경우 CountVectorizer로, item_description 칼럼은 TfidfVectorizer로 변환."
      ],
      "metadata": {
        "id": "Xlr_XwhADW-q"
      }
    },
    {
      "cell_type": "code",
      "source": [
        "# name 속성에 대한 피처 벡터화 변환\n",
        "cnt_vec = CountVectorizer()\n",
        "X_name = cnt_vec.fit_transform(mercari_df.name)\n",
        "\n",
        "# item_Description에 대한 피처 벡터화 변환\n",
        "tfidf_descp = TfidfVectorizer(max_features=50000, ngram_range=(1,3), stop_words='english')\n",
        "X_descp = tfidf_descp.fit_transform(mercari_df['item_description'])\n",
        "\n",
        "print('name vectorization shape:', X_name.shape)\n",
        "print('item_description vectorization shape:', X_descp.shape)"
      ],
      "metadata": {
        "colab": {
          "base_uri": "https://localhost:8080/"
        },
        "id": "tuE_LKC0Cv6Z",
        "outputId": "cc741dc5-e5e0-4fec-e62f-7589d39897ee"
      },
      "execution_count": 30,
      "outputs": [
        {
          "output_type": "stream",
          "name": "stdout",
          "text": [
            "name vectorization shape: (1482535, 105757)\n",
            "item_description vectorization shape: (1482535, 50000)\n"
          ]
        }
      ]
    },
    {
      "cell_type": "markdown",
      "source": [
        "* CountVectorizer, TfidfVectorizer가 fit_transform()을 통해 반환하는 데이터는 희소 행렬 형태.\n",
        "* 희소 행렬 객체 변수인 X_name과 X_descp를 새로 결합해 새로운 데이터 세트로 구성해야 하고, 앞으로 인코딩 될 cat_dae,cat_jung,cat_so,brand_name,shipping,item_condition_id도 모두 X_name,X_descp와 결합돼 ML 모델을 실행하는 기반 데이터 세트로 재구성돼야 함."
      ],
      "metadata": {
        "id": "6z-e7haHGbQT"
      }
    },
    {
      "cell_type": "markdown",
      "source": [
        "![image.png](data:image/png;base64,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)"
      ],
      "metadata": {
        "id": "cP7a-Z3GHCfJ"
      }
    },
    {
      "cell_type": "code",
      "source": [
        "# 먼저 인코딩 대상 칼럼을 모두 LabelBinarizer로 원-핫 인코딩 변환.\n",
        "from sklearn.preprocessing import LabelBinarizer\n",
        "\n",
        "# brand_name, item_condition_id, shipping 각 피처들을 희소 행렬 원-핫 인코딩 변환\n",
        "lb_brand_name = LabelBinarizer(sparse_output=True)\n",
        "X_brand = lb_brand_name.fit_transform(mercari_df['brand_name'])\n",
        "lb_item_cond_id = LabelBinarizer(sparse_output=True)\n",
        "X_item_cond_id = lb_item_cond_id.fit_transform(mercari_df['item_condition_id'])\n",
        "lb_shipping = LabelBinarizer(sparse_output=True)\n",
        "X_shipping = lb_shipping.fit_transform(mercari_df['shipping'])\n",
        "\n",
        "# cat_Dae, cat_jung, cat_so 각 피처들을 희소 행렬 원-핫 인코딩 변환\n",
        "lb_cat_dae = LabelBinarizer(sparse_output=True)\n",
        "X_cat_dae = lb_cat_dae.fit_transform(mercari_df['cat_dae'])\n",
        "lb_cat_jung = LabelBinarizer(sparse_output=True)\n",
        "X_cat_jung = lb_cat_jung.fit_transform(mercari_df['cat_jung'])\n",
        "lb_cat_so = LabelBinarizer(sparse_output=True)\n",
        "X_cat_so = lb_cat_so.fit_transform(mercari_df['cat_so'])"
      ],
      "metadata": {
        "id": "MBwdOcEGGMkU"
      },
      "execution_count": 31,
      "outputs": []
    },
    {
      "cell_type": "code",
      "source": [
        "# 생성된 인코딩 데이터 세트의 타입과 shape을 통해 제대로 변환되었는지 확인.\n",
        "print(type(X_brand),type(X_item_cond_id),type(X_shipping))\n",
        "print('X_brand shape : {0}, X_item_cond_id.shape:{1}'.format(X_brand.shape, X_item_cond_id.shape))\n",
        "print('X_shipping shape : {0}, X_cat_dae.shape:{1}'.format(X_shipping.shape, X_cat_dae.shape))\n",
        "print('X_cat_jung shape : {0}, X_cat_so.shape:{1}'.format(X_cat_jung.shape, X_cat_so.shape))"
      ],
      "metadata": {
        "colab": {
          "base_uri": "https://localhost:8080/"
        },
        "id": "gGPTK3uXIxwr",
        "outputId": "88f8eee5-98f5-4df4-a19d-c2b91cf0df27"
      },
      "execution_count": 32,
      "outputs": [
        {
          "output_type": "stream",
          "name": "stdout",
          "text": [
            "<class 'scipy.sparse.csr.csr_matrix'> <class 'scipy.sparse.csr.csr_matrix'> <class 'scipy.sparse.csr.csr_matrix'>\n",
            "X_brand shape : (1482535, 4810), X_item_cond_id.shape:(1482535, 5)\n",
            "X_shipping shape : (1482535, 1), X_cat_dae.shape:(1482535, 11)\n",
            "X_cat_jung shape : (1482535, 114), X_cat_so.shape:(1482535, 871)\n"
          ]
        }
      ]
    },
    {
      "cell_type": "markdown",
      "source": [
        ">인코딩 변환된 데이터 세트가 CSR 형태로 변환된 csr_matrix 타입.<br/>\n",
        "이번에는 앞에서 피처 벡터화 변환한 데이터 세트와 희소 인코딩 변환된 데이터 세트를 hstack()을 이용해 모두 결합해보기.\n"
      ],
      "metadata": {
        "id": "94BJKk4nKGUt"
      }
    },
    {
      "cell_type": "code",
      "source": [
        "from scipy.sparse import hstack\n",
        "import gc\n",
        "sparse_matrix_list = (X_name, X_descp, X_item_cond_id, X_shipping, X_cat_dae, X_cat_jung, X_cat_so)\n",
        "\n",
        "# hstack 함수를 이용해 인코딩과 벡터화를 수행한 데이터 세트를 모두 결합.\n",
        "X_features_sparse = hstack(sparse_matrix_list).tocsr()\n",
        "print(type(X_features_sparse), X_features_sparse.shape)\n",
        "\n",
        "# 데이터 세트가 메모리를 많이 차지하므로 사용 목적이 끝났으면 바로 메모리에서 삭제\n",
        "del X_features_sparse\n",
        "gc.collect()"
      ],
      "metadata": {
        "colab": {
          "base_uri": "https://localhost:8080/"
        },
        "id": "5wfJCPzUJpyH",
        "outputId": "38c009c7-e5f3-4ca2-c4e6-400bac59e78a"
      },
      "execution_count": 33,
      "outputs": [
        {
          "output_type": "stream",
          "name": "stdout",
          "text": [
            "<class 'scipy.sparse.csr.csr_matrix'> (1482535, 156759)\n"
          ]
        },
        {
          "output_type": "execute_result",
          "data": {
            "text/plain": [
              "68"
            ]
          },
          "metadata": {},
          "execution_count": 33
        }
      ]
    },
    {
      "cell_type": "markdown",
      "source": [
        "**릿지 회귀 모델 구축 및 평가**"
      ],
      "metadata": {
        "id": "7OfMsfXPMSL_"
      }
    },
    {
      "cell_type": "markdown",
      "source": [
        "* 모델을 평가하는 평가 로직 함수화. Rmsle 방식의 평가 지표 적용.<br/>\n",
        "![image.png](data:image/png;base64,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)"
      ],
      "metadata": {
        "id": "WWtCBT8zMU1K"
      }
    },
    {
      "cell_type": "code",
      "source": [
        "def rmsle(y,y_pred):\n",
        "  # underflow, overflow를 막기 위해 log가 아닌 log1p로 그닏 rPtks\n",
        "  return np.sqrt(np.mean(np.power(np.log1p(y) - np.log1p(y_pred),2)))\n",
        "\n",
        "def evaluate_org_price(y_test,preds):\n",
        "\n",
        "  # 원본 데이터는 log1p로 변환되었으므로 exmpm1로 원복 필요.\n",
        "  preds_exmpm = np.expm1(preds)\n",
        "  y_test_exmpm = np.expm1(y_test)\n",
        "\n",
        "  #rmsle로 RMSLE 값 추출\n",
        "  rmsle_result = rmsle(y_test_exmpm, preds_exmpm)\n",
        "  return rmsle_result"
      ],
      "metadata": {
        "id": "nVn54k5MMKCd"
      },
      "execution_count": 34,
      "outputs": []
    },
    {
      "cell_type": "code",
      "source": [
        "import gc\n",
        "from scipy.sparse import hstack\n",
        "\n",
        "def model_train_predict(model, matrix_list):\n",
        "  # scipy.spase 모듈의 hstack을 이용해 최소 행렬 결합\n",
        "  X=hstack(matrix_list).tocsr()\n",
        "\n",
        "  X_train,X_test,y_train,y_test=train_test_split(X,mercari_df['price'],test_size=0.2,random_state=156)\n",
        "\n",
        "  # 모델 학습 및 예측\n",
        "  model.fit(X_train,y_train)\n",
        "\n",
        "  preds = model.predict(X_test)\n",
        "\n",
        "  del X, X_train, X_test,y_train\n",
        "  gc.collect()\n",
        "\n",
        "  return preds, y_test"
      ],
      "metadata": {
        "id": "By2INi4GNXF2"
      },
      "execution_count": 35,
      "outputs": []
    },
    {
      "cell_type": "code",
      "source": [
        "# Ridge를 이용해 Mercari Price의 회귀 예측 수행.\n",
        "linear_model = Ridge(solver = \"lsqr\", fit_intercept=False)\n",
        "\n",
        "sparse_matrix_list = (X_name, X_brand, X_item_cond_id,\n",
        "                      X_shipping, X_cat_dae, X_cat_jung, X_cat_so)\n",
        "linear_preds, y_test = model_train_predict(model=linear_model, matrix_list=sparse_matrix_list)\n",
        "print('Item Description을 제외했을 때 rmsle 값:',evaluate_org_price(y_test, linear_preds))\n",
        "\n",
        "sparse_matrix_list = (X_descp, X_name, X_brand, X_item_cond_id,X_shipping,X_cat_dae,X_cat_jung,X_cat_so)\n",
        "linear_preds, y_test = model_train_predict(model=linear_model, matrix_list = sparse_matrix_list)\n",
        "print('Item Description을 포함한 rmsle 값:',evaluate_org_price(y_test, linear_preds))"
      ],
      "metadata": {
        "colab": {
          "base_uri": "https://localhost:8080/"
        },
        "id": "eX_TCSCKNfE-",
        "outputId": "7c0affda-1adf-4178-878b-68a58606a495"
      },
      "execution_count": 36,
      "outputs": [
        {
          "output_type": "stream",
          "name": "stdout",
          "text": [
            "Item Description을 제외했을 때 rmsle 값: 0.5023727038010556\n",
            "Item Description을 포함한 rmsle 값: 0.47121951434336345\n"
          ]
        }
      ]
    },
    {
      "cell_type": "markdown",
      "source": [
        "* Item Description을 포함했을 떄 rmsle 값 많이 감소함.(영향이 중요하다.)"
      ],
      "metadata": {
        "id": "O_x1vfunPkGf"
      }
    },
    {
      "cell_type": "markdown",
      "source": [
        "**LightGBM 회귀 모델 구축과 앙상블을 이용한 최종 예측 평가**"
      ],
      "metadata": {
        "id": "OUZ-5BQcPft9"
      }
    },
    {
      "cell_type": "code",
      "source": [
        "from lightgbm import LGBMRegressor\n",
        "\n",
        "sparse_matrix_list = (X_descp, X_name, X_brand, X_item_cond_id,\n",
        "                      X_shipping, X_cat_dae, X_cat_jung, X_cat_so)\n",
        "\n",
        "lgbm_model = LGBMRegressor(n_estimators=200, learning_rate=0.5, num_leaves=125, random_state=156)\n",
        "lgbm_preds, y_test = model_train_predict(model=lgbm_model, matrix_list=sparse_matrix_list)\n",
        "print('LightGBM rmsle 값:', evaluate_org_price(y_test, lgbm_preds))"
      ],
      "metadata": {
        "id": "CfIQ-OE7PQU0"
      },
      "execution_count": null,
      "outputs": []
    },
    {
      "cell_type": "markdown",
      "source": [
        ">Ridge보다 예측 성능 나아짐."
      ],
      "metadata": {
        "id": "7YlyuY_iQNpG"
      }
    },
    {
      "cell_type": "code",
      "source": [
        "# 예측 결괏값 서로 앙상블 해 최종 예측 결괏값 도출.\n",
        "preds = lgbm_preds * 0.45 + linear_preds * 0.55\n",
        "print('LightGBM과 Ridge를 ensemble한 최종 rmsle 값:', evaluation_org_price(y_test,preds))"
      ],
      "metadata": {
        "id": "8oXeAPIpQHvi"
      },
      "execution_count": null,
      "outputs": []
    },
    {
      "cell_type": "code",
      "source": [],
      "metadata": {
        "id": "kdUoDawIQsxX"
      },
      "execution_count": null,
      "outputs": []
    }
  ]
}