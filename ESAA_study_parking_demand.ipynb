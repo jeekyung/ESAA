{
  "nbformat": 4,
  "nbformat_minor": 0,
  "metadata": {
    "colab": {
      "name": "ESAA_study_parking_demand.ipynb",
      "provenance": [],
      "mount_file_id": "1IvOMkgm-UdziGB1QTMsbF1uiiHggJX4S",
      "authorship_tag": "ABX9TyORMNS9cSVBrgQfI5qGDgo5",
      "include_colab_link": true
    },
    "kernelspec": {
      "name": "python3",
      "display_name": "Python 3"
    },
    "language_info": {
      "name": "python"
    }
  },
  "cells": [
    {
      "cell_type": "markdown",
      "metadata": {
        "id": "view-in-github",
        "colab_type": "text"
      },
      "source": [
        "<a href=\"https://colab.research.google.com/github/jeekyung/ESAA/blob/main/ESAA_study_parking_demand.ipynb\" target=\"_parent\"><img src=\"https://colab.research.google.com/assets/colab-badge.svg\" alt=\"Open In Colab\"/></a>"
      ]
    },
    {
      "cell_type": "markdown",
      "source": [
        "# **[주차수요 예측 Ai 경진대회 - DACON]**"
      ],
      "metadata": {
        "id": "J4vwthIR-vAE"
      }
    },
    {
      "cell_type": "markdown",
      "source": [
        "# **[다항회귀를 활용한 주차수요 예측]**"
      ],
      "metadata": {
        "id": "lb2a7tNhD2la"
      }
    },
    {
      "cell_type": "markdown",
      "source": [
        "## **Step1. 패키지 및 데이터 로딩**"
      ],
      "metadata": {
        "id": "ax6kHYUcD8bB"
      }
    },
    {
      "cell_type": "code",
      "execution_count": 1,
      "metadata": {
        "id": "kcnBGc5t-h3c"
      },
      "outputs": [],
      "source": [
        "import os\n",
        "import glob\n",
        "import pandas as pd\n",
        "import numpy as np\n",
        "\n",
        "from sklearn.preprocessing import StandardScaler\n",
        "from sklearn.model_selection import train_test_split\n",
        "from sklearn.linear_model import LinearRegression\n",
        "from sklearn.metrics import r2_score, mean_absolute_error\n",
        "\n",
        "import plotly\n",
        "import plotly.express as px\n",
        "import seaborn as sns\n",
        "import matplotlib\n",
        "import matplotlib.pyplot as pt\n",
        "from matplotlib import font_manager, rc\n",
        "%matplotlib inline\n",
        "\n",
        "import warnings\n",
        "warnings.filterwarnings(action=\"ignore\")"
      ]
    },
    {
      "cell_type": "code",
      "source": [
        "#plotly 그래프 업로드 (표 생성에 편리)\n",
        "pd.options.plotting.backend = 'plotly'\n",
        "import plotly.io as pio\n",
        "pio.renderers.default = 'notebook_connected'\n",
        "\n",
        "#옵션 설정\n",
        "pd.set_option('display.max_columns',None)\n",
        "rc('font',family='Malgun Gothic')\n",
        "matplotlib.rcParams['axes.unicode_minus'] = False"
      ],
      "metadata": {
        "id": "6vO1XtpnEcHu"
      },
      "execution_count": 2,
      "outputs": []
    },
    {
      "cell_type": "code",
      "source": [
        "current_directory = os.getcwd()\n",
        "print(current_directory)"
      ],
      "metadata": {
        "colab": {
          "base_uri": "https://localhost:8080/"
        },
        "id": "ZhCQWr7WEuK3",
        "outputId": "2cd97541-2aa3-48a8-9406-c05f44627ffc"
      },
      "execution_count": 3,
      "outputs": [
        {
          "output_type": "stream",
          "name": "stdout",
          "text": [
            "/content\n"
          ]
        }
      ]
    },
    {
      "cell_type": "code",
      "source": [
        "train = pd.read_csv('/content/drive/MyDrive/235745_parking_data/train.csv')\n",
        "test = pd.read_csv('/content/drive/MyDrive/235745_parking_data/test.csv')\n",
        "submission = pd.read_csv('/content/drive/MyDrive/235745_parking_data/sample_submission.csv')"
      ],
      "metadata": {
        "id": "OPa4bT5QLbuT"
      },
      "execution_count": 4,
      "outputs": []
    },
    {
      "cell_type": "markdown",
      "source": [
        "## **STEP2. 데이터 탐색**"
      ],
      "metadata": {
        "id": "Ydxv_l4-Mawp"
      }
    },
    {
      "cell_type": "code",
      "source": [
        "train.shape, test.shape"
      ],
      "metadata": {
        "colab": {
          "base_uri": "https://localhost:8080/"
        },
        "id": "rvsi-XAhMZ_E",
        "outputId": "ae975eaa-043b-45c8-fb26-f318579aa5b3"
      },
      "execution_count": 5,
      "outputs": [
        {
          "output_type": "execute_result",
          "data": {
            "text/plain": [
              "((2952, 15), (1022, 14))"
            ]
          },
          "metadata": {},
          "execution_count": 5
        }
      ]
    },
    {
      "cell_type": "code",
      "source": [
        "train.head()"
      ],
      "metadata": {
        "colab": {
          "base_uri": "https://localhost:8080/",
          "height": 597
        },
        "id": "hBclLtd0Mjfe",
        "outputId": "ef350ddd-9faa-4d42-a687-dd5ebd65ae8c"
      },
      "execution_count": 6,
      "outputs": [
        {
          "output_type": "execute_result",
          "data": {
            "text/plain": [
              "    단지코드  총세대수 임대건물구분    지역  공급유형   전용면적  전용면적별세대수   공가수 자격유형     임대보증금  \\\n",
              "0  C2483   900    아파트  경상북도  국민임대  39.72       134  38.0    A  15667000   \n",
              "1  C2483   900    아파트  경상북도  국민임대  39.72        15  38.0    A  15667000   \n",
              "2  C2483   900    아파트  경상북도  국민임대  51.93       385  38.0    A  27304000   \n",
              "3  C2483   900    아파트  경상북도  국민임대  51.93        15  38.0    A  27304000   \n",
              "4  C2483   900    아파트  경상북도  국민임대  51.93        41  38.0    A  27304000   \n",
              "\n",
              "      임대료  도보 10분거리 내 지하철역 수(환승노선 수 반영)  도보 10분거리 내 버스정류장 수  단지내주차면수   등록차량수  \n",
              "0  103680                           0.0                 3.0   1425.0  1015.0  \n",
              "1  103680                           0.0                 3.0   1425.0  1015.0  \n",
              "2  184330                           0.0                 3.0   1425.0  1015.0  \n",
              "3  184330                           0.0                 3.0   1425.0  1015.0  \n",
              "4  184330                           0.0                 3.0   1425.0  1015.0  "
            ],
            "text/html": [
              "\n",
              "  <div id=\"df-3d20c5c5-24af-41f8-81ba-0f2426589a89\">\n",
              "    <div class=\"colab-df-container\">\n",
              "      <div>\n",
              "<style scoped>\n",
              "    .dataframe tbody tr th:only-of-type {\n",
              "        vertical-align: middle;\n",
              "    }\n",
              "\n",
              "    .dataframe tbody tr th {\n",
              "        vertical-align: top;\n",
              "    }\n",
              "\n",
              "    .dataframe thead th {\n",
              "        text-align: right;\n",
              "    }\n",
              "</style>\n",
              "<table border=\"1\" class=\"dataframe\">\n",
              "  <thead>\n",
              "    <tr style=\"text-align: right;\">\n",
              "      <th></th>\n",
              "      <th>단지코드</th>\n",
              "      <th>총세대수</th>\n",
              "      <th>임대건물구분</th>\n",
              "      <th>지역</th>\n",
              "      <th>공급유형</th>\n",
              "      <th>전용면적</th>\n",
              "      <th>전용면적별세대수</th>\n",
              "      <th>공가수</th>\n",
              "      <th>자격유형</th>\n",
              "      <th>임대보증금</th>\n",
              "      <th>임대료</th>\n",
              "      <th>도보 10분거리 내 지하철역 수(환승노선 수 반영)</th>\n",
              "      <th>도보 10분거리 내 버스정류장 수</th>\n",
              "      <th>단지내주차면수</th>\n",
              "      <th>등록차량수</th>\n",
              "    </tr>\n",
              "  </thead>\n",
              "  <tbody>\n",
              "    <tr>\n",
              "      <th>0</th>\n",
              "      <td>C2483</td>\n",
              "      <td>900</td>\n",
              "      <td>아파트</td>\n",
              "      <td>경상북도</td>\n",
              "      <td>국민임대</td>\n",
              "      <td>39.72</td>\n",
              "      <td>134</td>\n",
              "      <td>38.0</td>\n",
              "      <td>A</td>\n",
              "      <td>15667000</td>\n",
              "      <td>103680</td>\n",
              "      <td>0.0</td>\n",
              "      <td>3.0</td>\n",
              "      <td>1425.0</td>\n",
              "      <td>1015.0</td>\n",
              "    </tr>\n",
              "    <tr>\n",
              "      <th>1</th>\n",
              "      <td>C2483</td>\n",
              "      <td>900</td>\n",
              "      <td>아파트</td>\n",
              "      <td>경상북도</td>\n",
              "      <td>국민임대</td>\n",
              "      <td>39.72</td>\n",
              "      <td>15</td>\n",
              "      <td>38.0</td>\n",
              "      <td>A</td>\n",
              "      <td>15667000</td>\n",
              "      <td>103680</td>\n",
              "      <td>0.0</td>\n",
              "      <td>3.0</td>\n",
              "      <td>1425.0</td>\n",
              "      <td>1015.0</td>\n",
              "    </tr>\n",
              "    <tr>\n",
              "      <th>2</th>\n",
              "      <td>C2483</td>\n",
              "      <td>900</td>\n",
              "      <td>아파트</td>\n",
              "      <td>경상북도</td>\n",
              "      <td>국민임대</td>\n",
              "      <td>51.93</td>\n",
              "      <td>385</td>\n",
              "      <td>38.0</td>\n",
              "      <td>A</td>\n",
              "      <td>27304000</td>\n",
              "      <td>184330</td>\n",
              "      <td>0.0</td>\n",
              "      <td>3.0</td>\n",
              "      <td>1425.0</td>\n",
              "      <td>1015.0</td>\n",
              "    </tr>\n",
              "    <tr>\n",
              "      <th>3</th>\n",
              "      <td>C2483</td>\n",
              "      <td>900</td>\n",
              "      <td>아파트</td>\n",
              "      <td>경상북도</td>\n",
              "      <td>국민임대</td>\n",
              "      <td>51.93</td>\n",
              "      <td>15</td>\n",
              "      <td>38.0</td>\n",
              "      <td>A</td>\n",
              "      <td>27304000</td>\n",
              "      <td>184330</td>\n",
              "      <td>0.0</td>\n",
              "      <td>3.0</td>\n",
              "      <td>1425.0</td>\n",
              "      <td>1015.0</td>\n",
              "    </tr>\n",
              "    <tr>\n",
              "      <th>4</th>\n",
              "      <td>C2483</td>\n",
              "      <td>900</td>\n",
              "      <td>아파트</td>\n",
              "      <td>경상북도</td>\n",
              "      <td>국민임대</td>\n",
              "      <td>51.93</td>\n",
              "      <td>41</td>\n",
              "      <td>38.0</td>\n",
              "      <td>A</td>\n",
              "      <td>27304000</td>\n",
              "      <td>184330</td>\n",
              "      <td>0.0</td>\n",
              "      <td>3.0</td>\n",
              "      <td>1425.0</td>\n",
              "      <td>1015.0</td>\n",
              "    </tr>\n",
              "  </tbody>\n",
              "</table>\n",
              "</div>\n",
              "      <button class=\"colab-df-convert\" onclick=\"convertToInteractive('df-3d20c5c5-24af-41f8-81ba-0f2426589a89')\"\n",
              "              title=\"Convert this dataframe to an interactive table.\"\n",
              "              style=\"display:none;\">\n",
              "        \n",
              "  <svg xmlns=\"http://www.w3.org/2000/svg\" height=\"24px\"viewBox=\"0 0 24 24\"\n",
              "       width=\"24px\">\n",
              "    <path d=\"M0 0h24v24H0V0z\" fill=\"none\"/>\n",
              "    <path d=\"M18.56 5.44l.94 2.06.94-2.06 2.06-.94-2.06-.94-.94-2.06-.94 2.06-2.06.94zm-11 1L8.5 8.5l.94-2.06 2.06-.94-2.06-.94L8.5 2.5l-.94 2.06-2.06.94zm10 10l.94 2.06.94-2.06 2.06-.94-2.06-.94-.94-2.06-.94 2.06-2.06.94z\"/><path d=\"M17.41 7.96l-1.37-1.37c-.4-.4-.92-.59-1.43-.59-.52 0-1.04.2-1.43.59L10.3 9.45l-7.72 7.72c-.78.78-.78 2.05 0 2.83L4 21.41c.39.39.9.59 1.41.59.51 0 1.02-.2 1.41-.59l7.78-7.78 2.81-2.81c.8-.78.8-2.07 0-2.86zM5.41 20L4 18.59l7.72-7.72 1.47 1.35L5.41 20z\"/>\n",
              "  </svg>\n",
              "      </button>\n",
              "      \n",
              "  <style>\n",
              "    .colab-df-container {\n",
              "      display:flex;\n",
              "      flex-wrap:wrap;\n",
              "      gap: 12px;\n",
              "    }\n",
              "\n",
              "    .colab-df-convert {\n",
              "      background-color: #E8F0FE;\n",
              "      border: none;\n",
              "      border-radius: 50%;\n",
              "      cursor: pointer;\n",
              "      display: none;\n",
              "      fill: #1967D2;\n",
              "      height: 32px;\n",
              "      padding: 0 0 0 0;\n",
              "      width: 32px;\n",
              "    }\n",
              "\n",
              "    .colab-df-convert:hover {\n",
              "      background-color: #E2EBFA;\n",
              "      box-shadow: 0px 1px 2px rgba(60, 64, 67, 0.3), 0px 1px 3px 1px rgba(60, 64, 67, 0.15);\n",
              "      fill: #174EA6;\n",
              "    }\n",
              "\n",
              "    [theme=dark] .colab-df-convert {\n",
              "      background-color: #3B4455;\n",
              "      fill: #D2E3FC;\n",
              "    }\n",
              "\n",
              "    [theme=dark] .colab-df-convert:hover {\n",
              "      background-color: #434B5C;\n",
              "      box-shadow: 0px 1px 3px 1px rgba(0, 0, 0, 0.15);\n",
              "      filter: drop-shadow(0px 1px 2px rgba(0, 0, 0, 0.3));\n",
              "      fill: #FFFFFF;\n",
              "    }\n",
              "  </style>\n",
              "\n",
              "      <script>\n",
              "        const buttonEl =\n",
              "          document.querySelector('#df-3d20c5c5-24af-41f8-81ba-0f2426589a89 button.colab-df-convert');\n",
              "        buttonEl.style.display =\n",
              "          google.colab.kernel.accessAllowed ? 'block' : 'none';\n",
              "\n",
              "        async function convertToInteractive(key) {\n",
              "          const element = document.querySelector('#df-3d20c5c5-24af-41f8-81ba-0f2426589a89');\n",
              "          const dataTable =\n",
              "            await google.colab.kernel.invokeFunction('convertToInteractive',\n",
              "                                                     [key], {});\n",
              "          if (!dataTable) return;\n",
              "\n",
              "          const docLinkHtml = 'Like what you see? Visit the ' +\n",
              "            '<a target=\"_blank\" href=https://colab.research.google.com/notebooks/data_table.ipynb>data table notebook</a>'\n",
              "            + ' to learn more about interactive tables.';\n",
              "          element.innerHTML = '';\n",
              "          dataTable['output_type'] = 'display_data';\n",
              "          await google.colab.output.renderOutput(dataTable, element);\n",
              "          const docLink = document.createElement('div');\n",
              "          docLink.innerHTML = docLinkHtml;\n",
              "          element.appendChild(docLink);\n",
              "        }\n",
              "      </script>\n",
              "    </div>\n",
              "  </div>\n",
              "  "
            ]
          },
          "metadata": {},
          "execution_count": 6
        }
      ]
    },
    {
      "cell_type": "code",
      "source": [
        "test.head()"
      ],
      "metadata": {
        "colab": {
          "base_uri": "https://localhost:8080/",
          "height": 580
        },
        "id": "Dl8dN2rdMmYH",
        "outputId": "9576dd94-f6ae-4ba8-f0dc-dcda35939312"
      },
      "execution_count": 7,
      "outputs": [
        {
          "output_type": "execute_result",
          "data": {
            "text/plain": [
              "    단지코드  총세대수 임대건물구분   지역  공급유형   전용면적  전용면적별세대수   공가수 자격유형     임대보증금  \\\n",
              "0  C1072   754    아파트  경기도  국민임대  39.79       116  14.0    H  22830000   \n",
              "1  C1072   754    아파트  경기도  국민임대  46.81        30  14.0    A  36048000   \n",
              "2  C1072   754    아파트  경기도  국민임대  46.90       112  14.0    H  36048000   \n",
              "3  C1072   754    아파트  경기도  국민임대  46.90       120  14.0    H  36048000   \n",
              "4  C1072   754    아파트  경기도  국민임대  51.46        60  14.0    H  43497000   \n",
              "\n",
              "      임대료  도보 10분거리 내 지하철역 수(환승노선 수 반영)  도보 10분거리 내 버스정류장 수  단지내주차면수  \n",
              "0  189840                           0.0                 2.0    683.0  \n",
              "1  249930                           0.0                 2.0    683.0  \n",
              "2  249930                           0.0                 2.0    683.0  \n",
              "3  249930                           0.0                 2.0    683.0  \n",
              "4  296780                           0.0                 2.0    683.0  "
            ],
            "text/html": [
              "\n",
              "  <div id=\"df-5553aa07-a9f5-4467-ad1e-fff012dbf6ed\">\n",
              "    <div class=\"colab-df-container\">\n",
              "      <div>\n",
              "<style scoped>\n",
              "    .dataframe tbody tr th:only-of-type {\n",
              "        vertical-align: middle;\n",
              "    }\n",
              "\n",
              "    .dataframe tbody tr th {\n",
              "        vertical-align: top;\n",
              "    }\n",
              "\n",
              "    .dataframe thead th {\n",
              "        text-align: right;\n",
              "    }\n",
              "</style>\n",
              "<table border=\"1\" class=\"dataframe\">\n",
              "  <thead>\n",
              "    <tr style=\"text-align: right;\">\n",
              "      <th></th>\n",
              "      <th>단지코드</th>\n",
              "      <th>총세대수</th>\n",
              "      <th>임대건물구분</th>\n",
              "      <th>지역</th>\n",
              "      <th>공급유형</th>\n",
              "      <th>전용면적</th>\n",
              "      <th>전용면적별세대수</th>\n",
              "      <th>공가수</th>\n",
              "      <th>자격유형</th>\n",
              "      <th>임대보증금</th>\n",
              "      <th>임대료</th>\n",
              "      <th>도보 10분거리 내 지하철역 수(환승노선 수 반영)</th>\n",
              "      <th>도보 10분거리 내 버스정류장 수</th>\n",
              "      <th>단지내주차면수</th>\n",
              "    </tr>\n",
              "  </thead>\n",
              "  <tbody>\n",
              "    <tr>\n",
              "      <th>0</th>\n",
              "      <td>C1072</td>\n",
              "      <td>754</td>\n",
              "      <td>아파트</td>\n",
              "      <td>경기도</td>\n",
              "      <td>국민임대</td>\n",
              "      <td>39.79</td>\n",
              "      <td>116</td>\n",
              "      <td>14.0</td>\n",
              "      <td>H</td>\n",
              "      <td>22830000</td>\n",
              "      <td>189840</td>\n",
              "      <td>0.0</td>\n",
              "      <td>2.0</td>\n",
              "      <td>683.0</td>\n",
              "    </tr>\n",
              "    <tr>\n",
              "      <th>1</th>\n",
              "      <td>C1072</td>\n",
              "      <td>754</td>\n",
              "      <td>아파트</td>\n",
              "      <td>경기도</td>\n",
              "      <td>국민임대</td>\n",
              "      <td>46.81</td>\n",
              "      <td>30</td>\n",
              "      <td>14.0</td>\n",
              "      <td>A</td>\n",
              "      <td>36048000</td>\n",
              "      <td>249930</td>\n",
              "      <td>0.0</td>\n",
              "      <td>2.0</td>\n",
              "      <td>683.0</td>\n",
              "    </tr>\n",
              "    <tr>\n",
              "      <th>2</th>\n",
              "      <td>C1072</td>\n",
              "      <td>754</td>\n",
              "      <td>아파트</td>\n",
              "      <td>경기도</td>\n",
              "      <td>국민임대</td>\n",
              "      <td>46.90</td>\n",
              "      <td>112</td>\n",
              "      <td>14.0</td>\n",
              "      <td>H</td>\n",
              "      <td>36048000</td>\n",
              "      <td>249930</td>\n",
              "      <td>0.0</td>\n",
              "      <td>2.0</td>\n",
              "      <td>683.0</td>\n",
              "    </tr>\n",
              "    <tr>\n",
              "      <th>3</th>\n",
              "      <td>C1072</td>\n",
              "      <td>754</td>\n",
              "      <td>아파트</td>\n",
              "      <td>경기도</td>\n",
              "      <td>국민임대</td>\n",
              "      <td>46.90</td>\n",
              "      <td>120</td>\n",
              "      <td>14.0</td>\n",
              "      <td>H</td>\n",
              "      <td>36048000</td>\n",
              "      <td>249930</td>\n",
              "      <td>0.0</td>\n",
              "      <td>2.0</td>\n",
              "      <td>683.0</td>\n",
              "    </tr>\n",
              "    <tr>\n",
              "      <th>4</th>\n",
              "      <td>C1072</td>\n",
              "      <td>754</td>\n",
              "      <td>아파트</td>\n",
              "      <td>경기도</td>\n",
              "      <td>국민임대</td>\n",
              "      <td>51.46</td>\n",
              "      <td>60</td>\n",
              "      <td>14.0</td>\n",
              "      <td>H</td>\n",
              "      <td>43497000</td>\n",
              "      <td>296780</td>\n",
              "      <td>0.0</td>\n",
              "      <td>2.0</td>\n",
              "      <td>683.0</td>\n",
              "    </tr>\n",
              "  </tbody>\n",
              "</table>\n",
              "</div>\n",
              "      <button class=\"colab-df-convert\" onclick=\"convertToInteractive('df-5553aa07-a9f5-4467-ad1e-fff012dbf6ed')\"\n",
              "              title=\"Convert this dataframe to an interactive table.\"\n",
              "              style=\"display:none;\">\n",
              "        \n",
              "  <svg xmlns=\"http://www.w3.org/2000/svg\" height=\"24px\"viewBox=\"0 0 24 24\"\n",
              "       width=\"24px\">\n",
              "    <path d=\"M0 0h24v24H0V0z\" fill=\"none\"/>\n",
              "    <path d=\"M18.56 5.44l.94 2.06.94-2.06 2.06-.94-2.06-.94-.94-2.06-.94 2.06-2.06.94zm-11 1L8.5 8.5l.94-2.06 2.06-.94-2.06-.94L8.5 2.5l-.94 2.06-2.06.94zm10 10l.94 2.06.94-2.06 2.06-.94-2.06-.94-.94-2.06-.94 2.06-2.06.94z\"/><path d=\"M17.41 7.96l-1.37-1.37c-.4-.4-.92-.59-1.43-.59-.52 0-1.04.2-1.43.59L10.3 9.45l-7.72 7.72c-.78.78-.78 2.05 0 2.83L4 21.41c.39.39.9.59 1.41.59.51 0 1.02-.2 1.41-.59l7.78-7.78 2.81-2.81c.8-.78.8-2.07 0-2.86zM5.41 20L4 18.59l7.72-7.72 1.47 1.35L5.41 20z\"/>\n",
              "  </svg>\n",
              "      </button>\n",
              "      \n",
              "  <style>\n",
              "    .colab-df-container {\n",
              "      display:flex;\n",
              "      flex-wrap:wrap;\n",
              "      gap: 12px;\n",
              "    }\n",
              "\n",
              "    .colab-df-convert {\n",
              "      background-color: #E8F0FE;\n",
              "      border: none;\n",
              "      border-radius: 50%;\n",
              "      cursor: pointer;\n",
              "      display: none;\n",
              "      fill: #1967D2;\n",
              "      height: 32px;\n",
              "      padding: 0 0 0 0;\n",
              "      width: 32px;\n",
              "    }\n",
              "\n",
              "    .colab-df-convert:hover {\n",
              "      background-color: #E2EBFA;\n",
              "      box-shadow: 0px 1px 2px rgba(60, 64, 67, 0.3), 0px 1px 3px 1px rgba(60, 64, 67, 0.15);\n",
              "      fill: #174EA6;\n",
              "    }\n",
              "\n",
              "    [theme=dark] .colab-df-convert {\n",
              "      background-color: #3B4455;\n",
              "      fill: #D2E3FC;\n",
              "    }\n",
              "\n",
              "    [theme=dark] .colab-df-convert:hover {\n",
              "      background-color: #434B5C;\n",
              "      box-shadow: 0px 1px 3px 1px rgba(0, 0, 0, 0.15);\n",
              "      filter: drop-shadow(0px 1px 2px rgba(0, 0, 0, 0.3));\n",
              "      fill: #FFFFFF;\n",
              "    }\n",
              "  </style>\n",
              "\n",
              "      <script>\n",
              "        const buttonEl =\n",
              "          document.querySelector('#df-5553aa07-a9f5-4467-ad1e-fff012dbf6ed button.colab-df-convert');\n",
              "        buttonEl.style.display =\n",
              "          google.colab.kernel.accessAllowed ? 'block' : 'none';\n",
              "\n",
              "        async function convertToInteractive(key) {\n",
              "          const element = document.querySelector('#df-5553aa07-a9f5-4467-ad1e-fff012dbf6ed');\n",
              "          const dataTable =\n",
              "            await google.colab.kernel.invokeFunction('convertToInteractive',\n",
              "                                                     [key], {});\n",
              "          if (!dataTable) return;\n",
              "\n",
              "          const docLinkHtml = 'Like what you see? Visit the ' +\n",
              "            '<a target=\"_blank\" href=https://colab.research.google.com/notebooks/data_table.ipynb>data table notebook</a>'\n",
              "            + ' to learn more about interactive tables.';\n",
              "          element.innerHTML = '';\n",
              "          dataTable['output_type'] = 'display_data';\n",
              "          await google.colab.output.renderOutput(dataTable, element);\n",
              "          const docLink = document.createElement('div');\n",
              "          docLink.innerHTML = docLinkHtml;\n",
              "          element.appendChild(docLink);\n",
              "        }\n",
              "      </script>\n",
              "    </div>\n",
              "  </div>\n",
              "  "
            ]
          },
          "metadata": {},
          "execution_count": 7
        }
      ]
    },
    {
      "cell_type": "markdown",
      "source": [
        "### **1) 칼럼명 변경**"
      ],
      "metadata": {
        "id": "sxiVlpSkNApj"
      }
    },
    {
      "cell_type": "markdown",
      "source": [
        "* 도보 10분 거리 내 지하철역 수(환승노선 수 반영) -> 지하철\n",
        "* 도보 10분 거리 내 버스정류장 수 -> 버스"
      ],
      "metadata": {
        "id": "8Q9SnU-jND_Y"
      }
    },
    {
      "cell_type": "code",
      "source": [
        "train.columns = ['단지코드','총세대수','임대건물구분','지역','공급유형','전용면적','전용면적별세대수','공가수','자격유형','임대보증금','임대료','지하철','버스','단지내주차면수','등록차량수']\n",
        "\n",
        "test.columns = ['단지코드','총세대수','임대건물구분','지역','공급유형','전용면적','전용면적별세대수','공가수','자격유형','임대보증금','임대료','지하철','버스','단지내주차면수']"
      ],
      "metadata": {
        "id": "Mxq84mhNM13B"
      },
      "execution_count": 8,
      "outputs": []
    },
    {
      "cell_type": "markdown",
      "source": [
        "### 2) 데이터 타입 및 결측치 확인"
      ],
      "metadata": {
        "id": "H86aQX2LNgFp"
      }
    },
    {
      "cell_type": "markdown",
      "source": [
        "<u>train data</u>"
      ],
      "metadata": {
        "id": "HcPQA0m8PEqJ"
      }
    },
    {
      "cell_type": "code",
      "source": [
        "train.dtypes, train.isnull().sum()"
      ],
      "metadata": {
        "colab": {
          "base_uri": "https://localhost:8080/"
        },
        "id": "_Oh-aJeqNfY-",
        "outputId": "9bbe25a3-73c6-4f1c-fead-176fae647797"
      },
      "execution_count": 9,
      "outputs": [
        {
          "output_type": "execute_result",
          "data": {
            "text/plain": [
              "(단지코드         object\n",
              " 총세대수          int64\n",
              " 임대건물구분       object\n",
              " 지역           object\n",
              " 공급유형         object\n",
              " 전용면적        float64\n",
              " 전용면적별세대수      int64\n",
              " 공가수         float64\n",
              " 자격유형         object\n",
              " 임대보증금        object\n",
              " 임대료          object\n",
              " 지하철         float64\n",
              " 버스          float64\n",
              " 단지내주차면수     float64\n",
              " 등록차량수       float64\n",
              " dtype: object, 단지코드          0\n",
              " 총세대수          0\n",
              " 임대건물구분        0\n",
              " 지역            0\n",
              " 공급유형          0\n",
              " 전용면적          0\n",
              " 전용면적별세대수      0\n",
              " 공가수           0\n",
              " 자격유형          0\n",
              " 임대보증금       569\n",
              " 임대료         569\n",
              " 지하철         211\n",
              " 버스            4\n",
              " 단지내주차면수       0\n",
              " 등록차량수         0\n",
              " dtype: int64)"
            ]
          },
          "metadata": {},
          "execution_count": 9
        }
      ]
    },
    {
      "cell_type": "markdown",
      "source": [
        "* 임대보증금, 임대료: object로 되어있음\n",
        "* 결측치: 임대보증금, 임대료, 지하철, 버스"
      ],
      "metadata": {
        "id": "pZcfVeXnN5dp"
      }
    },
    {
      "cell_type": "markdown",
      "source": [
        "<u>test data</u>"
      ],
      "metadata": {
        "id": "yN-1xWrjPNfB"
      }
    },
    {
      "cell_type": "code",
      "source": [
        "test.dtypes, test.isnull().sum()"
      ],
      "metadata": {
        "colab": {
          "base_uri": "https://localhost:8080/"
        },
        "id": "hDaDi-cpNuRY",
        "outputId": "d2964198-23c6-4a2d-aacf-13cd25146c70"
      },
      "execution_count": 10,
      "outputs": [
        {
          "output_type": "execute_result",
          "data": {
            "text/plain": [
              "(단지코드         object\n",
              " 총세대수          int64\n",
              " 임대건물구분       object\n",
              " 지역           object\n",
              " 공급유형         object\n",
              " 전용면적        float64\n",
              " 전용면적별세대수      int64\n",
              " 공가수         float64\n",
              " 자격유형         object\n",
              " 임대보증금        object\n",
              " 임대료          object\n",
              " 지하철         float64\n",
              " 버스          float64\n",
              " 단지내주차면수     float64\n",
              " dtype: object, 단지코드          0\n",
              " 총세대수          0\n",
              " 임대건물구분        0\n",
              " 지역            0\n",
              " 공급유형          0\n",
              " 전용면적          0\n",
              " 전용면적별세대수      0\n",
              " 공가수           0\n",
              " 자격유형          2\n",
              " 임대보증금       180\n",
              " 임대료         180\n",
              " 지하철          42\n",
              " 버스            0\n",
              " 단지내주차면수       0\n",
              " dtype: int64)"
            ]
          },
          "metadata": {},
          "execution_count": 10
        }
      ]
    },
    {
      "cell_type": "markdown",
      "source": [
        "* 임대보증금, 임대료: object로 되어있음\n",
        "* 결측치: 자격유형, 임대보증금, 임대료, 지하철"
      ],
      "metadata": {
        "id": "eD_MAv1sPVj4"
      }
    },
    {
      "cell_type": "markdown",
      "source": [
        "## **STEP3. 전처리**"
      ],
      "metadata": {
        "id": "exc7S1SPPWUg"
      }
    },
    {
      "cell_type": "markdown",
      "source": [
        "### 1) 결측치 대체"
      ],
      "metadata": {
        "id": "j_0RLezUPa34"
      }
    },
    {
      "cell_type": "markdown",
      "source": [
        "<u>지하철 / 버스</u>"
      ],
      "metadata": {
        "id": "nunKwzAVPeNg"
      }
    },
    {
      "cell_type": "markdown",
      "source": [
        "* train data: 지하철 & 버스 결측치 0으로 대체\n",
        "* test data: 지하철 결측치 0으로 대체"
      ],
      "metadata": {
        "id": "ro3b2Z5iPh2Y"
      }
    },
    {
      "cell_type": "code",
      "source": [
        "train[['지하철','버스']] = train[['지하철','버스']].fillna('0').astype(int)\n",
        "test[['지하철']] = test[['지하철']].fillna('0').astype(int)"
      ],
      "metadata": {
        "id": "REHgz_sePvEg"
      },
      "execution_count": 11,
      "outputs": []
    },
    {
      "cell_type": "markdown",
      "source": [
        "<u>자격유형</u>"
      ],
      "metadata": {
        "id": "ALVxPxH_Przg"
      }
    },
    {
      "cell_type": "markdown",
      "source": [
        "* 단지코드 C2411 / C2253 자격유형 결측치\n",
        "* 단지코드, 임대건물구분, 지역 등이 동일한 샘플의 자격유형 값을 참고하여 대체\n",
        "* C2411 자격유형 -> 'A'\n",
        "* C2253 자격유형 -> 'C'"
      ],
      "metadata": {
        "id": "ugB2V07yQEWp"
      }
    },
    {
      "cell_type": "code",
      "source": [
        "test[test.자격유형.isnull()]"
      ],
      "metadata": {
        "colab": {
          "base_uri": "https://localhost:8080/",
          "height": 226
        },
        "id": "c3E8XhyLPUI8",
        "outputId": "e102c5fd-47ce-4af4-f8dc-69e0c10198c0"
      },
      "execution_count": 12,
      "outputs": [
        {
          "output_type": "execute_result",
          "data": {
            "text/plain": [
              "      단지코드  총세대수 임대건물구분    지역  공급유형   전용면적  전용면적별세대수   공가수 자격유형     임대보증금  \\\n",
              "196  C2411   962    아파트  경상남도  국민임대  46.90       240  25.0  NaN  71950000   \n",
              "258  C2253  1161    아파트   강원도  영구임대  26.37       745   0.0  NaN   2249000   \n",
              "\n",
              "       임대료  지하철   버스  단지내주차면수  \n",
              "196  37470    0  2.0    840.0  \n",
              "258  44770    0  2.0    173.0  "
            ],
            "text/html": [
              "\n",
              "  <div id=\"df-9552b556-1585-4cb1-9b2c-722bcb607874\">\n",
              "    <div class=\"colab-df-container\">\n",
              "      <div>\n",
              "<style scoped>\n",
              "    .dataframe tbody tr th:only-of-type {\n",
              "        vertical-align: middle;\n",
              "    }\n",
              "\n",
              "    .dataframe tbody tr th {\n",
              "        vertical-align: top;\n",
              "    }\n",
              "\n",
              "    .dataframe thead th {\n",
              "        text-align: right;\n",
              "    }\n",
              "</style>\n",
              "<table border=\"1\" class=\"dataframe\">\n",
              "  <thead>\n",
              "    <tr style=\"text-align: right;\">\n",
              "      <th></th>\n",
              "      <th>단지코드</th>\n",
              "      <th>총세대수</th>\n",
              "      <th>임대건물구분</th>\n",
              "      <th>지역</th>\n",
              "      <th>공급유형</th>\n",
              "      <th>전용면적</th>\n",
              "      <th>전용면적별세대수</th>\n",
              "      <th>공가수</th>\n",
              "      <th>자격유형</th>\n",
              "      <th>임대보증금</th>\n",
              "      <th>임대료</th>\n",
              "      <th>지하철</th>\n",
              "      <th>버스</th>\n",
              "      <th>단지내주차면수</th>\n",
              "    </tr>\n",
              "  </thead>\n",
              "  <tbody>\n",
              "    <tr>\n",
              "      <th>196</th>\n",
              "      <td>C2411</td>\n",
              "      <td>962</td>\n",
              "      <td>아파트</td>\n",
              "      <td>경상남도</td>\n",
              "      <td>국민임대</td>\n",
              "      <td>46.90</td>\n",
              "      <td>240</td>\n",
              "      <td>25.0</td>\n",
              "      <td>NaN</td>\n",
              "      <td>71950000</td>\n",
              "      <td>37470</td>\n",
              "      <td>0</td>\n",
              "      <td>2.0</td>\n",
              "      <td>840.0</td>\n",
              "    </tr>\n",
              "    <tr>\n",
              "      <th>258</th>\n",
              "      <td>C2253</td>\n",
              "      <td>1161</td>\n",
              "      <td>아파트</td>\n",
              "      <td>강원도</td>\n",
              "      <td>영구임대</td>\n",
              "      <td>26.37</td>\n",
              "      <td>745</td>\n",
              "      <td>0.0</td>\n",
              "      <td>NaN</td>\n",
              "      <td>2249000</td>\n",
              "      <td>44770</td>\n",
              "      <td>0</td>\n",
              "      <td>2.0</td>\n",
              "      <td>173.0</td>\n",
              "    </tr>\n",
              "  </tbody>\n",
              "</table>\n",
              "</div>\n",
              "      <button class=\"colab-df-convert\" onclick=\"convertToInteractive('df-9552b556-1585-4cb1-9b2c-722bcb607874')\"\n",
              "              title=\"Convert this dataframe to an interactive table.\"\n",
              "              style=\"display:none;\">\n",
              "        \n",
              "  <svg xmlns=\"http://www.w3.org/2000/svg\" height=\"24px\"viewBox=\"0 0 24 24\"\n",
              "       width=\"24px\">\n",
              "    <path d=\"M0 0h24v24H0V0z\" fill=\"none\"/>\n",
              "    <path d=\"M18.56 5.44l.94 2.06.94-2.06 2.06-.94-2.06-.94-.94-2.06-.94 2.06-2.06.94zm-11 1L8.5 8.5l.94-2.06 2.06-.94-2.06-.94L8.5 2.5l-.94 2.06-2.06.94zm10 10l.94 2.06.94-2.06 2.06-.94-2.06-.94-.94-2.06-.94 2.06-2.06.94z\"/><path d=\"M17.41 7.96l-1.37-1.37c-.4-.4-.92-.59-1.43-.59-.52 0-1.04.2-1.43.59L10.3 9.45l-7.72 7.72c-.78.78-.78 2.05 0 2.83L4 21.41c.39.39.9.59 1.41.59.51 0 1.02-.2 1.41-.59l7.78-7.78 2.81-2.81c.8-.78.8-2.07 0-2.86zM5.41 20L4 18.59l7.72-7.72 1.47 1.35L5.41 20z\"/>\n",
              "  </svg>\n",
              "      </button>\n",
              "      \n",
              "  <style>\n",
              "    .colab-df-container {\n",
              "      display:flex;\n",
              "      flex-wrap:wrap;\n",
              "      gap: 12px;\n",
              "    }\n",
              "\n",
              "    .colab-df-convert {\n",
              "      background-color: #E8F0FE;\n",
              "      border: none;\n",
              "      border-radius: 50%;\n",
              "      cursor: pointer;\n",
              "      display: none;\n",
              "      fill: #1967D2;\n",
              "      height: 32px;\n",
              "      padding: 0 0 0 0;\n",
              "      width: 32px;\n",
              "    }\n",
              "\n",
              "    .colab-df-convert:hover {\n",
              "      background-color: #E2EBFA;\n",
              "      box-shadow: 0px 1px 2px rgba(60, 64, 67, 0.3), 0px 1px 3px 1px rgba(60, 64, 67, 0.15);\n",
              "      fill: #174EA6;\n",
              "    }\n",
              "\n",
              "    [theme=dark] .colab-df-convert {\n",
              "      background-color: #3B4455;\n",
              "      fill: #D2E3FC;\n",
              "    }\n",
              "\n",
              "    [theme=dark] .colab-df-convert:hover {\n",
              "      background-color: #434B5C;\n",
              "      box-shadow: 0px 1px 3px 1px rgba(0, 0, 0, 0.15);\n",
              "      filter: drop-shadow(0px 1px 2px rgba(0, 0, 0, 0.3));\n",
              "      fill: #FFFFFF;\n",
              "    }\n",
              "  </style>\n",
              "\n",
              "      <script>\n",
              "        const buttonEl =\n",
              "          document.querySelector('#df-9552b556-1585-4cb1-9b2c-722bcb607874 button.colab-df-convert');\n",
              "        buttonEl.style.display =\n",
              "          google.colab.kernel.accessAllowed ? 'block' : 'none';\n",
              "\n",
              "        async function convertToInteractive(key) {\n",
              "          const element = document.querySelector('#df-9552b556-1585-4cb1-9b2c-722bcb607874');\n",
              "          const dataTable =\n",
              "            await google.colab.kernel.invokeFunction('convertToInteractive',\n",
              "                                                     [key], {});\n",
              "          if (!dataTable) return;\n",
              "\n",
              "          const docLinkHtml = 'Like what you see? Visit the ' +\n",
              "            '<a target=\"_blank\" href=https://colab.research.google.com/notebooks/data_table.ipynb>data table notebook</a>'\n",
              "            + ' to learn more about interactive tables.';\n",
              "          element.innerHTML = '';\n",
              "          dataTable['output_type'] = 'display_data';\n",
              "          await google.colab.output.renderOutput(dataTable, element);\n",
              "          const docLink = document.createElement('div');\n",
              "          docLink.innerHTML = docLinkHtml;\n",
              "          element.appendChild(docLink);\n",
              "        }\n",
              "      </script>\n",
              "    </div>\n",
              "  </div>\n",
              "  "
            ]
          },
          "metadata": {},
          "execution_count": 12
        }
      ]
    },
    {
      "cell_type": "code",
      "source": [
        "test[(test.단지코드=='C2411') | (test.단지코드=='C2253')].head(10)"
      ],
      "metadata": {
        "colab": {
          "base_uri": "https://localhost:8080/",
          "height": 615
        },
        "id": "fbFsWbqWSCI0",
        "outputId": "8e3a249b-7cae-4cab-ddcd-8a5173d078bb"
      },
      "execution_count": 13,
      "outputs": [
        {
          "output_type": "execute_result",
          "data": {
            "text/plain": [
              "      단지코드  총세대수 임대건물구분    지역  공급유형   전용면적  전용면적별세대수   공가수 자격유형     임대보증금  \\\n",
              "193  C2411   962    아파트  경상남도  국민임대  39.43        56  25.0    A  11992000   \n",
              "194  C2411   962    아파트  경상남도  국민임대  39.72       336  25.0    A  11992000   \n",
              "195  C2411   962    아파트  경상남도  국민임대  39.82       179  25.0    A  11992000   \n",
              "196  C2411   962    아파트  경상남도  국민임대  46.90       240  25.0  NaN  71950000   \n",
              "197  C2411   962    아파트  경상남도  국민임대  51.93       150  25.0    A  21586000   \n",
              "258  C2253  1161    아파트   강원도  영구임대  26.37       745   0.0  NaN   2249000   \n",
              "259  C2253  1161    아파트   강원도  영구임대  31.32       239   0.0    C   3731000   \n",
              "260  C2253  1161    아파트   강원도  영구임대  31.32       149   0.0    C   3731000   \n",
              "261  C2253  1161     상가   강원도  임대상가  13.77         1   0.0    D       NaN   \n",
              "262  C2253  1161     상가   강원도  임대상가  22.89         1   0.0    D       NaN   \n",
              "\n",
              "        임대료  지하철   버스  단지내주차면수  \n",
              "193  100720    0  2.0    840.0  \n",
              "194  100720    0  2.0    840.0  \n",
              "195  100720    0  2.0    840.0  \n",
              "196   37470    0  2.0    840.0  \n",
              "197  171480    0  2.0    840.0  \n",
              "258   44770    0  2.0    173.0  \n",
              "259   83020    0  2.0    173.0  \n",
              "260   83020    0  2.0    173.0  \n",
              "261     NaN    0  2.0    173.0  \n",
              "262     NaN    0  2.0    173.0  "
            ],
            "text/html": [
              "\n",
              "  <div id=\"df-ea32ea78-a214-45d6-a6e8-aace21e13cdc\">\n",
              "    <div class=\"colab-df-container\">\n",
              "      <div>\n",
              "<style scoped>\n",
              "    .dataframe tbody tr th:only-of-type {\n",
              "        vertical-align: middle;\n",
              "    }\n",
              "\n",
              "    .dataframe tbody tr th {\n",
              "        vertical-align: top;\n",
              "    }\n",
              "\n",
              "    .dataframe thead th {\n",
              "        text-align: right;\n",
              "    }\n",
              "</style>\n",
              "<table border=\"1\" class=\"dataframe\">\n",
              "  <thead>\n",
              "    <tr style=\"text-align: right;\">\n",
              "      <th></th>\n",
              "      <th>단지코드</th>\n",
              "      <th>총세대수</th>\n",
              "      <th>임대건물구분</th>\n",
              "      <th>지역</th>\n",
              "      <th>공급유형</th>\n",
              "      <th>전용면적</th>\n",
              "      <th>전용면적별세대수</th>\n",
              "      <th>공가수</th>\n",
              "      <th>자격유형</th>\n",
              "      <th>임대보증금</th>\n",
              "      <th>임대료</th>\n",
              "      <th>지하철</th>\n",
              "      <th>버스</th>\n",
              "      <th>단지내주차면수</th>\n",
              "    </tr>\n",
              "  </thead>\n",
              "  <tbody>\n",
              "    <tr>\n",
              "      <th>193</th>\n",
              "      <td>C2411</td>\n",
              "      <td>962</td>\n",
              "      <td>아파트</td>\n",
              "      <td>경상남도</td>\n",
              "      <td>국민임대</td>\n",
              "      <td>39.43</td>\n",
              "      <td>56</td>\n",
              "      <td>25.0</td>\n",
              "      <td>A</td>\n",
              "      <td>11992000</td>\n",
              "      <td>100720</td>\n",
              "      <td>0</td>\n",
              "      <td>2.0</td>\n",
              "      <td>840.0</td>\n",
              "    </tr>\n",
              "    <tr>\n",
              "      <th>194</th>\n",
              "      <td>C2411</td>\n",
              "      <td>962</td>\n",
              "      <td>아파트</td>\n",
              "      <td>경상남도</td>\n",
              "      <td>국민임대</td>\n",
              "      <td>39.72</td>\n",
              "      <td>336</td>\n",
              "      <td>25.0</td>\n",
              "      <td>A</td>\n",
              "      <td>11992000</td>\n",
              "      <td>100720</td>\n",
              "      <td>0</td>\n",
              "      <td>2.0</td>\n",
              "      <td>840.0</td>\n",
              "    </tr>\n",
              "    <tr>\n",
              "      <th>195</th>\n",
              "      <td>C2411</td>\n",
              "      <td>962</td>\n",
              "      <td>아파트</td>\n",
              "      <td>경상남도</td>\n",
              "      <td>국민임대</td>\n",
              "      <td>39.82</td>\n",
              "      <td>179</td>\n",
              "      <td>25.0</td>\n",
              "      <td>A</td>\n",
              "      <td>11992000</td>\n",
              "      <td>100720</td>\n",
              "      <td>0</td>\n",
              "      <td>2.0</td>\n",
              "      <td>840.0</td>\n",
              "    </tr>\n",
              "    <tr>\n",
              "      <th>196</th>\n",
              "      <td>C2411</td>\n",
              "      <td>962</td>\n",
              "      <td>아파트</td>\n",
              "      <td>경상남도</td>\n",
              "      <td>국민임대</td>\n",
              "      <td>46.90</td>\n",
              "      <td>240</td>\n",
              "      <td>25.0</td>\n",
              "      <td>NaN</td>\n",
              "      <td>71950000</td>\n",
              "      <td>37470</td>\n",
              "      <td>0</td>\n",
              "      <td>2.0</td>\n",
              "      <td>840.0</td>\n",
              "    </tr>\n",
              "    <tr>\n",
              "      <th>197</th>\n",
              "      <td>C2411</td>\n",
              "      <td>962</td>\n",
              "      <td>아파트</td>\n",
              "      <td>경상남도</td>\n",
              "      <td>국민임대</td>\n",
              "      <td>51.93</td>\n",
              "      <td>150</td>\n",
              "      <td>25.0</td>\n",
              "      <td>A</td>\n",
              "      <td>21586000</td>\n",
              "      <td>171480</td>\n",
              "      <td>0</td>\n",
              "      <td>2.0</td>\n",
              "      <td>840.0</td>\n",
              "    </tr>\n",
              "    <tr>\n",
              "      <th>258</th>\n",
              "      <td>C2253</td>\n",
              "      <td>1161</td>\n",
              "      <td>아파트</td>\n",
              "      <td>강원도</td>\n",
              "      <td>영구임대</td>\n",
              "      <td>26.37</td>\n",
              "      <td>745</td>\n",
              "      <td>0.0</td>\n",
              "      <td>NaN</td>\n",
              "      <td>2249000</td>\n",
              "      <td>44770</td>\n",
              "      <td>0</td>\n",
              "      <td>2.0</td>\n",
              "      <td>173.0</td>\n",
              "    </tr>\n",
              "    <tr>\n",
              "      <th>259</th>\n",
              "      <td>C2253</td>\n",
              "      <td>1161</td>\n",
              "      <td>아파트</td>\n",
              "      <td>강원도</td>\n",
              "      <td>영구임대</td>\n",
              "      <td>31.32</td>\n",
              "      <td>239</td>\n",
              "      <td>0.0</td>\n",
              "      <td>C</td>\n",
              "      <td>3731000</td>\n",
              "      <td>83020</td>\n",
              "      <td>0</td>\n",
              "      <td>2.0</td>\n",
              "      <td>173.0</td>\n",
              "    </tr>\n",
              "    <tr>\n",
              "      <th>260</th>\n",
              "      <td>C2253</td>\n",
              "      <td>1161</td>\n",
              "      <td>아파트</td>\n",
              "      <td>강원도</td>\n",
              "      <td>영구임대</td>\n",
              "      <td>31.32</td>\n",
              "      <td>149</td>\n",
              "      <td>0.0</td>\n",
              "      <td>C</td>\n",
              "      <td>3731000</td>\n",
              "      <td>83020</td>\n",
              "      <td>0</td>\n",
              "      <td>2.0</td>\n",
              "      <td>173.0</td>\n",
              "    </tr>\n",
              "    <tr>\n",
              "      <th>261</th>\n",
              "      <td>C2253</td>\n",
              "      <td>1161</td>\n",
              "      <td>상가</td>\n",
              "      <td>강원도</td>\n",
              "      <td>임대상가</td>\n",
              "      <td>13.77</td>\n",
              "      <td>1</td>\n",
              "      <td>0.0</td>\n",
              "      <td>D</td>\n",
              "      <td>NaN</td>\n",
              "      <td>NaN</td>\n",
              "      <td>0</td>\n",
              "      <td>2.0</td>\n",
              "      <td>173.0</td>\n",
              "    </tr>\n",
              "    <tr>\n",
              "      <th>262</th>\n",
              "      <td>C2253</td>\n",
              "      <td>1161</td>\n",
              "      <td>상가</td>\n",
              "      <td>강원도</td>\n",
              "      <td>임대상가</td>\n",
              "      <td>22.89</td>\n",
              "      <td>1</td>\n",
              "      <td>0.0</td>\n",
              "      <td>D</td>\n",
              "      <td>NaN</td>\n",
              "      <td>NaN</td>\n",
              "      <td>0</td>\n",
              "      <td>2.0</td>\n",
              "      <td>173.0</td>\n",
              "    </tr>\n",
              "  </tbody>\n",
              "</table>\n",
              "</div>\n",
              "      <button class=\"colab-df-convert\" onclick=\"convertToInteractive('df-ea32ea78-a214-45d6-a6e8-aace21e13cdc')\"\n",
              "              title=\"Convert this dataframe to an interactive table.\"\n",
              "              style=\"display:none;\">\n",
              "        \n",
              "  <svg xmlns=\"http://www.w3.org/2000/svg\" height=\"24px\"viewBox=\"0 0 24 24\"\n",
              "       width=\"24px\">\n",
              "    <path d=\"M0 0h24v24H0V0z\" fill=\"none\"/>\n",
              "    <path d=\"M18.56 5.44l.94 2.06.94-2.06 2.06-.94-2.06-.94-.94-2.06-.94 2.06-2.06.94zm-11 1L8.5 8.5l.94-2.06 2.06-.94-2.06-.94L8.5 2.5l-.94 2.06-2.06.94zm10 10l.94 2.06.94-2.06 2.06-.94-2.06-.94-.94-2.06-.94 2.06-2.06.94z\"/><path d=\"M17.41 7.96l-1.37-1.37c-.4-.4-.92-.59-1.43-.59-.52 0-1.04.2-1.43.59L10.3 9.45l-7.72 7.72c-.78.78-.78 2.05 0 2.83L4 21.41c.39.39.9.59 1.41.59.51 0 1.02-.2 1.41-.59l7.78-7.78 2.81-2.81c.8-.78.8-2.07 0-2.86zM5.41 20L4 18.59l7.72-7.72 1.47 1.35L5.41 20z\"/>\n",
              "  </svg>\n",
              "      </button>\n",
              "      \n",
              "  <style>\n",
              "    .colab-df-container {\n",
              "      display:flex;\n",
              "      flex-wrap:wrap;\n",
              "      gap: 12px;\n",
              "    }\n",
              "\n",
              "    .colab-df-convert {\n",
              "      background-color: #E8F0FE;\n",
              "      border: none;\n",
              "      border-radius: 50%;\n",
              "      cursor: pointer;\n",
              "      display: none;\n",
              "      fill: #1967D2;\n",
              "      height: 32px;\n",
              "      padding: 0 0 0 0;\n",
              "      width: 32px;\n",
              "    }\n",
              "\n",
              "    .colab-df-convert:hover {\n",
              "      background-color: #E2EBFA;\n",
              "      box-shadow: 0px 1px 2px rgba(60, 64, 67, 0.3), 0px 1px 3px 1px rgba(60, 64, 67, 0.15);\n",
              "      fill: #174EA6;\n",
              "    }\n",
              "\n",
              "    [theme=dark] .colab-df-convert {\n",
              "      background-color: #3B4455;\n",
              "      fill: #D2E3FC;\n",
              "    }\n",
              "\n",
              "    [theme=dark] .colab-df-convert:hover {\n",
              "      background-color: #434B5C;\n",
              "      box-shadow: 0px 1px 3px 1px rgba(0, 0, 0, 0.15);\n",
              "      filter: drop-shadow(0px 1px 2px rgba(0, 0, 0, 0.3));\n",
              "      fill: #FFFFFF;\n",
              "    }\n",
              "  </style>\n",
              "\n",
              "      <script>\n",
              "        const buttonEl =\n",
              "          document.querySelector('#df-ea32ea78-a214-45d6-a6e8-aace21e13cdc button.colab-df-convert');\n",
              "        buttonEl.style.display =\n",
              "          google.colab.kernel.accessAllowed ? 'block' : 'none';\n",
              "\n",
              "        async function convertToInteractive(key) {\n",
              "          const element = document.querySelector('#df-ea32ea78-a214-45d6-a6e8-aace21e13cdc');\n",
              "          const dataTable =\n",
              "            await google.colab.kernel.invokeFunction('convertToInteractive',\n",
              "                                                     [key], {});\n",
              "          if (!dataTable) return;\n",
              "\n",
              "          const docLinkHtml = 'Like what you see? Visit the ' +\n",
              "            '<a target=\"_blank\" href=https://colab.research.google.com/notebooks/data_table.ipynb>data table notebook</a>'\n",
              "            + ' to learn more about interactive tables.';\n",
              "          element.innerHTML = '';\n",
              "          dataTable['output_type'] = 'display_data';\n",
              "          await google.colab.output.renderOutput(dataTable, element);\n",
              "          const docLink = document.createElement('div');\n",
              "          docLink.innerHTML = docLinkHtml;\n",
              "          element.appendChild(docLink);\n",
              "        }\n",
              "      </script>\n",
              "    </div>\n",
              "  </div>\n",
              "  "
            ]
          },
          "metadata": {},
          "execution_count": 13
        }
      ]
    },
    {
      "cell_type": "code",
      "source": [
        "test.loc[(test.단지코드=='C2411')&(test.자격유형.isnull()),'자격유형'] = 'A'\n",
        "test.loc[(test.단지코드=='C2253')&(test.자격유형.isnull()),'자격유형'] = 'C'\n",
        "\n",
        "test[(test.단지코드=='C2411') | (test.단지코드 == 'C2253')].head(10)"
      ],
      "metadata": {
        "colab": {
          "base_uri": "https://localhost:8080/",
          "height": 615
        },
        "id": "qtfSFUXuSKU9",
        "outputId": "c59c8b8d-e098-43b6-d7fb-614a35726fef"
      },
      "execution_count": 14,
      "outputs": [
        {
          "output_type": "execute_result",
          "data": {
            "text/plain": [
              "      단지코드  총세대수 임대건물구분    지역  공급유형   전용면적  전용면적별세대수   공가수 자격유형     임대보증금  \\\n",
              "193  C2411   962    아파트  경상남도  국민임대  39.43        56  25.0    A  11992000   \n",
              "194  C2411   962    아파트  경상남도  국민임대  39.72       336  25.0    A  11992000   \n",
              "195  C2411   962    아파트  경상남도  국민임대  39.82       179  25.0    A  11992000   \n",
              "196  C2411   962    아파트  경상남도  국민임대  46.90       240  25.0    A  71950000   \n",
              "197  C2411   962    아파트  경상남도  국민임대  51.93       150  25.0    A  21586000   \n",
              "258  C2253  1161    아파트   강원도  영구임대  26.37       745   0.0    C   2249000   \n",
              "259  C2253  1161    아파트   강원도  영구임대  31.32       239   0.0    C   3731000   \n",
              "260  C2253  1161    아파트   강원도  영구임대  31.32       149   0.0    C   3731000   \n",
              "261  C2253  1161     상가   강원도  임대상가  13.77         1   0.0    D       NaN   \n",
              "262  C2253  1161     상가   강원도  임대상가  22.89         1   0.0    D       NaN   \n",
              "\n",
              "        임대료  지하철   버스  단지내주차면수  \n",
              "193  100720    0  2.0    840.0  \n",
              "194  100720    0  2.0    840.0  \n",
              "195  100720    0  2.0    840.0  \n",
              "196   37470    0  2.0    840.0  \n",
              "197  171480    0  2.0    840.0  \n",
              "258   44770    0  2.0    173.0  \n",
              "259   83020    0  2.0    173.0  \n",
              "260   83020    0  2.0    173.0  \n",
              "261     NaN    0  2.0    173.0  \n",
              "262     NaN    0  2.0    173.0  "
            ],
            "text/html": [
              "\n",
              "  <div id=\"df-2f8c6f74-1b7e-4c92-a310-c9fafd689468\">\n",
              "    <div class=\"colab-df-container\">\n",
              "      <div>\n",
              "<style scoped>\n",
              "    .dataframe tbody tr th:only-of-type {\n",
              "        vertical-align: middle;\n",
              "    }\n",
              "\n",
              "    .dataframe tbody tr th {\n",
              "        vertical-align: top;\n",
              "    }\n",
              "\n",
              "    .dataframe thead th {\n",
              "        text-align: right;\n",
              "    }\n",
              "</style>\n",
              "<table border=\"1\" class=\"dataframe\">\n",
              "  <thead>\n",
              "    <tr style=\"text-align: right;\">\n",
              "      <th></th>\n",
              "      <th>단지코드</th>\n",
              "      <th>총세대수</th>\n",
              "      <th>임대건물구분</th>\n",
              "      <th>지역</th>\n",
              "      <th>공급유형</th>\n",
              "      <th>전용면적</th>\n",
              "      <th>전용면적별세대수</th>\n",
              "      <th>공가수</th>\n",
              "      <th>자격유형</th>\n",
              "      <th>임대보증금</th>\n",
              "      <th>임대료</th>\n",
              "      <th>지하철</th>\n",
              "      <th>버스</th>\n",
              "      <th>단지내주차면수</th>\n",
              "    </tr>\n",
              "  </thead>\n",
              "  <tbody>\n",
              "    <tr>\n",
              "      <th>193</th>\n",
              "      <td>C2411</td>\n",
              "      <td>962</td>\n",
              "      <td>아파트</td>\n",
              "      <td>경상남도</td>\n",
              "      <td>국민임대</td>\n",
              "      <td>39.43</td>\n",
              "      <td>56</td>\n",
              "      <td>25.0</td>\n",
              "      <td>A</td>\n",
              "      <td>11992000</td>\n",
              "      <td>100720</td>\n",
              "      <td>0</td>\n",
              "      <td>2.0</td>\n",
              "      <td>840.0</td>\n",
              "    </tr>\n",
              "    <tr>\n",
              "      <th>194</th>\n",
              "      <td>C2411</td>\n",
              "      <td>962</td>\n",
              "      <td>아파트</td>\n",
              "      <td>경상남도</td>\n",
              "      <td>국민임대</td>\n",
              "      <td>39.72</td>\n",
              "      <td>336</td>\n",
              "      <td>25.0</td>\n",
              "      <td>A</td>\n",
              "      <td>11992000</td>\n",
              "      <td>100720</td>\n",
              "      <td>0</td>\n",
              "      <td>2.0</td>\n",
              "      <td>840.0</td>\n",
              "    </tr>\n",
              "    <tr>\n",
              "      <th>195</th>\n",
              "      <td>C2411</td>\n",
              "      <td>962</td>\n",
              "      <td>아파트</td>\n",
              "      <td>경상남도</td>\n",
              "      <td>국민임대</td>\n",
              "      <td>39.82</td>\n",
              "      <td>179</td>\n",
              "      <td>25.0</td>\n",
              "      <td>A</td>\n",
              "      <td>11992000</td>\n",
              "      <td>100720</td>\n",
              "      <td>0</td>\n",
              "      <td>2.0</td>\n",
              "      <td>840.0</td>\n",
              "    </tr>\n",
              "    <tr>\n",
              "      <th>196</th>\n",
              "      <td>C2411</td>\n",
              "      <td>962</td>\n",
              "      <td>아파트</td>\n",
              "      <td>경상남도</td>\n",
              "      <td>국민임대</td>\n",
              "      <td>46.90</td>\n",
              "      <td>240</td>\n",
              "      <td>25.0</td>\n",
              "      <td>A</td>\n",
              "      <td>71950000</td>\n",
              "      <td>37470</td>\n",
              "      <td>0</td>\n",
              "      <td>2.0</td>\n",
              "      <td>840.0</td>\n",
              "    </tr>\n",
              "    <tr>\n",
              "      <th>197</th>\n",
              "      <td>C2411</td>\n",
              "      <td>962</td>\n",
              "      <td>아파트</td>\n",
              "      <td>경상남도</td>\n",
              "      <td>국민임대</td>\n",
              "      <td>51.93</td>\n",
              "      <td>150</td>\n",
              "      <td>25.0</td>\n",
              "      <td>A</td>\n",
              "      <td>21586000</td>\n",
              "      <td>171480</td>\n",
              "      <td>0</td>\n",
              "      <td>2.0</td>\n",
              "      <td>840.0</td>\n",
              "    </tr>\n",
              "    <tr>\n",
              "      <th>258</th>\n",
              "      <td>C2253</td>\n",
              "      <td>1161</td>\n",
              "      <td>아파트</td>\n",
              "      <td>강원도</td>\n",
              "      <td>영구임대</td>\n",
              "      <td>26.37</td>\n",
              "      <td>745</td>\n",
              "      <td>0.0</td>\n",
              "      <td>C</td>\n",
              "      <td>2249000</td>\n",
              "      <td>44770</td>\n",
              "      <td>0</td>\n",
              "      <td>2.0</td>\n",
              "      <td>173.0</td>\n",
              "    </tr>\n",
              "    <tr>\n",
              "      <th>259</th>\n",
              "      <td>C2253</td>\n",
              "      <td>1161</td>\n",
              "      <td>아파트</td>\n",
              "      <td>강원도</td>\n",
              "      <td>영구임대</td>\n",
              "      <td>31.32</td>\n",
              "      <td>239</td>\n",
              "      <td>0.0</td>\n",
              "      <td>C</td>\n",
              "      <td>3731000</td>\n",
              "      <td>83020</td>\n",
              "      <td>0</td>\n",
              "      <td>2.0</td>\n",
              "      <td>173.0</td>\n",
              "    </tr>\n",
              "    <tr>\n",
              "      <th>260</th>\n",
              "      <td>C2253</td>\n",
              "      <td>1161</td>\n",
              "      <td>아파트</td>\n",
              "      <td>강원도</td>\n",
              "      <td>영구임대</td>\n",
              "      <td>31.32</td>\n",
              "      <td>149</td>\n",
              "      <td>0.0</td>\n",
              "      <td>C</td>\n",
              "      <td>3731000</td>\n",
              "      <td>83020</td>\n",
              "      <td>0</td>\n",
              "      <td>2.0</td>\n",
              "      <td>173.0</td>\n",
              "    </tr>\n",
              "    <tr>\n",
              "      <th>261</th>\n",
              "      <td>C2253</td>\n",
              "      <td>1161</td>\n",
              "      <td>상가</td>\n",
              "      <td>강원도</td>\n",
              "      <td>임대상가</td>\n",
              "      <td>13.77</td>\n",
              "      <td>1</td>\n",
              "      <td>0.0</td>\n",
              "      <td>D</td>\n",
              "      <td>NaN</td>\n",
              "      <td>NaN</td>\n",
              "      <td>0</td>\n",
              "      <td>2.0</td>\n",
              "      <td>173.0</td>\n",
              "    </tr>\n",
              "    <tr>\n",
              "      <th>262</th>\n",
              "      <td>C2253</td>\n",
              "      <td>1161</td>\n",
              "      <td>상가</td>\n",
              "      <td>강원도</td>\n",
              "      <td>임대상가</td>\n",
              "      <td>22.89</td>\n",
              "      <td>1</td>\n",
              "      <td>0.0</td>\n",
              "      <td>D</td>\n",
              "      <td>NaN</td>\n",
              "      <td>NaN</td>\n",
              "      <td>0</td>\n",
              "      <td>2.0</td>\n",
              "      <td>173.0</td>\n",
              "    </tr>\n",
              "  </tbody>\n",
              "</table>\n",
              "</div>\n",
              "      <button class=\"colab-df-convert\" onclick=\"convertToInteractive('df-2f8c6f74-1b7e-4c92-a310-c9fafd689468')\"\n",
              "              title=\"Convert this dataframe to an interactive table.\"\n",
              "              style=\"display:none;\">\n",
              "        \n",
              "  <svg xmlns=\"http://www.w3.org/2000/svg\" height=\"24px\"viewBox=\"0 0 24 24\"\n",
              "       width=\"24px\">\n",
              "    <path d=\"M0 0h24v24H0V0z\" fill=\"none\"/>\n",
              "    <path d=\"M18.56 5.44l.94 2.06.94-2.06 2.06-.94-2.06-.94-.94-2.06-.94 2.06-2.06.94zm-11 1L8.5 8.5l.94-2.06 2.06-.94-2.06-.94L8.5 2.5l-.94 2.06-2.06.94zm10 10l.94 2.06.94-2.06 2.06-.94-2.06-.94-.94-2.06-.94 2.06-2.06.94z\"/><path d=\"M17.41 7.96l-1.37-1.37c-.4-.4-.92-.59-1.43-.59-.52 0-1.04.2-1.43.59L10.3 9.45l-7.72 7.72c-.78.78-.78 2.05 0 2.83L4 21.41c.39.39.9.59 1.41.59.51 0 1.02-.2 1.41-.59l7.78-7.78 2.81-2.81c.8-.78.8-2.07 0-2.86zM5.41 20L4 18.59l7.72-7.72 1.47 1.35L5.41 20z\"/>\n",
              "  </svg>\n",
              "      </button>\n",
              "      \n",
              "  <style>\n",
              "    .colab-df-container {\n",
              "      display:flex;\n",
              "      flex-wrap:wrap;\n",
              "      gap: 12px;\n",
              "    }\n",
              "\n",
              "    .colab-df-convert {\n",
              "      background-color: #E8F0FE;\n",
              "      border: none;\n",
              "      border-radius: 50%;\n",
              "      cursor: pointer;\n",
              "      display: none;\n",
              "      fill: #1967D2;\n",
              "      height: 32px;\n",
              "      padding: 0 0 0 0;\n",
              "      width: 32px;\n",
              "    }\n",
              "\n",
              "    .colab-df-convert:hover {\n",
              "      background-color: #E2EBFA;\n",
              "      box-shadow: 0px 1px 2px rgba(60, 64, 67, 0.3), 0px 1px 3px 1px rgba(60, 64, 67, 0.15);\n",
              "      fill: #174EA6;\n",
              "    }\n",
              "\n",
              "    [theme=dark] .colab-df-convert {\n",
              "      background-color: #3B4455;\n",
              "      fill: #D2E3FC;\n",
              "    }\n",
              "\n",
              "    [theme=dark] .colab-df-convert:hover {\n",
              "      background-color: #434B5C;\n",
              "      box-shadow: 0px 1px 3px 1px rgba(0, 0, 0, 0.15);\n",
              "      filter: drop-shadow(0px 1px 2px rgba(0, 0, 0, 0.3));\n",
              "      fill: #FFFFFF;\n",
              "    }\n",
              "  </style>\n",
              "\n",
              "      <script>\n",
              "        const buttonEl =\n",
              "          document.querySelector('#df-2f8c6f74-1b7e-4c92-a310-c9fafd689468 button.colab-df-convert');\n",
              "        buttonEl.style.display =\n",
              "          google.colab.kernel.accessAllowed ? 'block' : 'none';\n",
              "\n",
              "        async function convertToInteractive(key) {\n",
              "          const element = document.querySelector('#df-2f8c6f74-1b7e-4c92-a310-c9fafd689468');\n",
              "          const dataTable =\n",
              "            await google.colab.kernel.invokeFunction('convertToInteractive',\n",
              "                                                     [key], {});\n",
              "          if (!dataTable) return;\n",
              "\n",
              "          const docLinkHtml = 'Like what you see? Visit the ' +\n",
              "            '<a target=\"_blank\" href=https://colab.research.google.com/notebooks/data_table.ipynb>data table notebook</a>'\n",
              "            + ' to learn more about interactive tables.';\n",
              "          element.innerHTML = '';\n",
              "          dataTable['output_type'] = 'display_data';\n",
              "          await google.colab.output.renderOutput(dataTable, element);\n",
              "          const docLink = document.createElement('div');\n",
              "          docLink.innerHTML = docLinkHtml;\n",
              "          element.appendChild(docLink);\n",
              "        }\n",
              "      </script>\n",
              "    </div>\n",
              "  </div>\n",
              "  "
            ]
          },
          "metadata": {},
          "execution_count": 14
        }
      ]
    },
    {
      "cell_type": "markdown",
      "source": [
        "<u>임대보증금 / 임대료</u>"
      ],
      "metadata": {
        "id": "ql4mpEHTS6UJ"
      }
    },
    {
      "cell_type": "markdown",
      "source": [
        "*공급유형이 '임대상가' or '공공분양'인 경우 임대보증금 / 임대료 없음\n",
        "* 실제 결측값 '-'로 표기\n",
        "* 지역, 세대수, 전용면적, 전용면적별세대수 정보를 바탕으로 실제 임대 모집 공고와 비교를 통해 결측치 대체\n",
        "* 동일 전용면적 아래 공급대상 유형이 구분되어 있는 경우, 전용면적별 평균값으로 대체"
      ],
      "metadata": {
        "id": "7ZQC4eWrTAcA"
      }
    },
    {
      "cell_type": "code",
      "source": [
        "train[train.임대보증금.isnull()] #공급유형이 '임대상가' or '공공분양'"
      ],
      "metadata": {
        "colab": {
          "base_uri": "https://localhost:8080/",
          "height": 780
        },
        "id": "mUjjIGS9S4vg",
        "outputId": "0fd20009-0188-4b48-e786-dd509ec917b0"
      },
      "execution_count": 15,
      "outputs": [
        {
          "output_type": "execute_result",
          "data": {
            "text/plain": [
              "       단지코드  총세대수 임대건물구분     지역  공급유형   전용면적  전용면적별세대수  공가수 자격유형 임대보증금  임대료  \\\n",
              "88    C1925   601     상가    강원도  임대상가  32.10         1  9.0    D   NaN  NaN   \n",
              "89    C1925   601     상가    강원도  임대상가  32.10         1  9.0    D   NaN  NaN   \n",
              "90    C1925   601     상가    강원도  임대상가  32.10         1  9.0    D   NaN  NaN   \n",
              "91    C1925   601     상가    강원도  임대상가  72.16         1  9.0    D   NaN  NaN   \n",
              "101   C1874   619     상가   충청남도  임대상가  12.62         1  2.0    D   NaN  NaN   \n",
              "...     ...   ...    ...    ...   ...    ...       ...  ...  ...   ...  ...   \n",
              "2333  C1350  1401    아파트  대전광역시  공공분양  74.94        22  2.0    D   NaN  NaN   \n",
              "2334  C1350  1401    아파트  대전광역시  공공분양  84.94       164  2.0    D   NaN  NaN   \n",
              "2335  C1350  1401    아파트  대전광역시  공공분양  84.94        19  2.0    D   NaN  NaN   \n",
              "2336  C1350  1401    아파트  대전광역시  공공분양  84.96        26  2.0    D   NaN  NaN   \n",
              "2337  C1350  1401    아파트  대전광역시  공공분양  84.97        26  2.0    D   NaN  NaN   \n",
              "\n",
              "      지하철  버스  단지내주차면수   등록차량수  \n",
              "88      0   4    117.0    75.0  \n",
              "89      0   4    117.0    75.0  \n",
              "90      0   4    117.0    75.0  \n",
              "91      0   4    117.0    75.0  \n",
              "101     0   2     97.0    62.0  \n",
              "...   ...  ..      ...     ...  \n",
              "2333    0   6   1636.0  2315.0  \n",
              "2334    0   6   1636.0  2315.0  \n",
              "2335    0   6   1636.0  2315.0  \n",
              "2336    0   6   1636.0  2315.0  \n",
              "2337    0   6   1636.0  2315.0  \n",
              "\n",
              "[569 rows x 15 columns]"
            ],
            "text/html": [
              "\n",
              "  <div id=\"df-a00b395b-700d-46c2-97bb-f90d842aca34\">\n",
              "    <div class=\"colab-df-container\">\n",
              "      <div>\n",
              "<style scoped>\n",
              "    .dataframe tbody tr th:only-of-type {\n",
              "        vertical-align: middle;\n",
              "    }\n",
              "\n",
              "    .dataframe tbody tr th {\n",
              "        vertical-align: top;\n",
              "    }\n",
              "\n",
              "    .dataframe thead th {\n",
              "        text-align: right;\n",
              "    }\n",
              "</style>\n",
              "<table border=\"1\" class=\"dataframe\">\n",
              "  <thead>\n",
              "    <tr style=\"text-align: right;\">\n",
              "      <th></th>\n",
              "      <th>단지코드</th>\n",
              "      <th>총세대수</th>\n",
              "      <th>임대건물구분</th>\n",
              "      <th>지역</th>\n",
              "      <th>공급유형</th>\n",
              "      <th>전용면적</th>\n",
              "      <th>전용면적별세대수</th>\n",
              "      <th>공가수</th>\n",
              "      <th>자격유형</th>\n",
              "      <th>임대보증금</th>\n",
              "      <th>임대료</th>\n",
              "      <th>지하철</th>\n",
              "      <th>버스</th>\n",
              "      <th>단지내주차면수</th>\n",
              "      <th>등록차량수</th>\n",
              "    </tr>\n",
              "  </thead>\n",
              "  <tbody>\n",
              "    <tr>\n",
              "      <th>88</th>\n",
              "      <td>C1925</td>\n",
              "      <td>601</td>\n",
              "      <td>상가</td>\n",
              "      <td>강원도</td>\n",
              "      <td>임대상가</td>\n",
              "      <td>32.10</td>\n",
              "      <td>1</td>\n",
              "      <td>9.0</td>\n",
              "      <td>D</td>\n",
              "      <td>NaN</td>\n",
              "      <td>NaN</td>\n",
              "      <td>0</td>\n",
              "      <td>4</td>\n",
              "      <td>117.0</td>\n",
              "      <td>75.0</td>\n",
              "    </tr>\n",
              "    <tr>\n",
              "      <th>89</th>\n",
              "      <td>C1925</td>\n",
              "      <td>601</td>\n",
              "      <td>상가</td>\n",
              "      <td>강원도</td>\n",
              "      <td>임대상가</td>\n",
              "      <td>32.10</td>\n",
              "      <td>1</td>\n",
              "      <td>9.0</td>\n",
              "      <td>D</td>\n",
              "      <td>NaN</td>\n",
              "      <td>NaN</td>\n",
              "      <td>0</td>\n",
              "      <td>4</td>\n",
              "      <td>117.0</td>\n",
              "      <td>75.0</td>\n",
              "    </tr>\n",
              "    <tr>\n",
              "      <th>90</th>\n",
              "      <td>C1925</td>\n",
              "      <td>601</td>\n",
              "      <td>상가</td>\n",
              "      <td>강원도</td>\n",
              "      <td>임대상가</td>\n",
              "      <td>32.10</td>\n",
              "      <td>1</td>\n",
              "      <td>9.0</td>\n",
              "      <td>D</td>\n",
              "      <td>NaN</td>\n",
              "      <td>NaN</td>\n",
              "      <td>0</td>\n",
              "      <td>4</td>\n",
              "      <td>117.0</td>\n",
              "      <td>75.0</td>\n",
              "    </tr>\n",
              "    <tr>\n",
              "      <th>91</th>\n",
              "      <td>C1925</td>\n",
              "      <td>601</td>\n",
              "      <td>상가</td>\n",
              "      <td>강원도</td>\n",
              "      <td>임대상가</td>\n",
              "      <td>72.16</td>\n",
              "      <td>1</td>\n",
              "      <td>9.0</td>\n",
              "      <td>D</td>\n",
              "      <td>NaN</td>\n",
              "      <td>NaN</td>\n",
              "      <td>0</td>\n",
              "      <td>4</td>\n",
              "      <td>117.0</td>\n",
              "      <td>75.0</td>\n",
              "    </tr>\n",
              "    <tr>\n",
              "      <th>101</th>\n",
              "      <td>C1874</td>\n",
              "      <td>619</td>\n",
              "      <td>상가</td>\n",
              "      <td>충청남도</td>\n",
              "      <td>임대상가</td>\n",
              "      <td>12.62</td>\n",
              "      <td>1</td>\n",
              "      <td>2.0</td>\n",
              "      <td>D</td>\n",
              "      <td>NaN</td>\n",
              "      <td>NaN</td>\n",
              "      <td>0</td>\n",
              "      <td>2</td>\n",
              "      <td>97.0</td>\n",
              "      <td>62.0</td>\n",
              "    </tr>\n",
              "    <tr>\n",
              "      <th>...</th>\n",
              "      <td>...</td>\n",
              "      <td>...</td>\n",
              "      <td>...</td>\n",
              "      <td>...</td>\n",
              "      <td>...</td>\n",
              "      <td>...</td>\n",
              "      <td>...</td>\n",
              "      <td>...</td>\n",
              "      <td>...</td>\n",
              "      <td>...</td>\n",
              "      <td>...</td>\n",
              "      <td>...</td>\n",
              "      <td>...</td>\n",
              "      <td>...</td>\n",
              "      <td>...</td>\n",
              "    </tr>\n",
              "    <tr>\n",
              "      <th>2333</th>\n",
              "      <td>C1350</td>\n",
              "      <td>1401</td>\n",
              "      <td>아파트</td>\n",
              "      <td>대전광역시</td>\n",
              "      <td>공공분양</td>\n",
              "      <td>74.94</td>\n",
              "      <td>22</td>\n",
              "      <td>2.0</td>\n",
              "      <td>D</td>\n",
              "      <td>NaN</td>\n",
              "      <td>NaN</td>\n",
              "      <td>0</td>\n",
              "      <td>6</td>\n",
              "      <td>1636.0</td>\n",
              "      <td>2315.0</td>\n",
              "    </tr>\n",
              "    <tr>\n",
              "      <th>2334</th>\n",
              "      <td>C1350</td>\n",
              "      <td>1401</td>\n",
              "      <td>아파트</td>\n",
              "      <td>대전광역시</td>\n",
              "      <td>공공분양</td>\n",
              "      <td>84.94</td>\n",
              "      <td>164</td>\n",
              "      <td>2.0</td>\n",
              "      <td>D</td>\n",
              "      <td>NaN</td>\n",
              "      <td>NaN</td>\n",
              "      <td>0</td>\n",
              "      <td>6</td>\n",
              "      <td>1636.0</td>\n",
              "      <td>2315.0</td>\n",
              "    </tr>\n",
              "    <tr>\n",
              "      <th>2335</th>\n",
              "      <td>C1350</td>\n",
              "      <td>1401</td>\n",
              "      <td>아파트</td>\n",
              "      <td>대전광역시</td>\n",
              "      <td>공공분양</td>\n",
              "      <td>84.94</td>\n",
              "      <td>19</td>\n",
              "      <td>2.0</td>\n",
              "      <td>D</td>\n",
              "      <td>NaN</td>\n",
              "      <td>NaN</td>\n",
              "      <td>0</td>\n",
              "      <td>6</td>\n",
              "      <td>1636.0</td>\n",
              "      <td>2315.0</td>\n",
              "    </tr>\n",
              "    <tr>\n",
              "      <th>2336</th>\n",
              "      <td>C1350</td>\n",
              "      <td>1401</td>\n",
              "      <td>아파트</td>\n",
              "      <td>대전광역시</td>\n",
              "      <td>공공분양</td>\n",
              "      <td>84.96</td>\n",
              "      <td>26</td>\n",
              "      <td>2.0</td>\n",
              "      <td>D</td>\n",
              "      <td>NaN</td>\n",
              "      <td>NaN</td>\n",
              "      <td>0</td>\n",
              "      <td>6</td>\n",
              "      <td>1636.0</td>\n",
              "      <td>2315.0</td>\n",
              "    </tr>\n",
              "    <tr>\n",
              "      <th>2337</th>\n",
              "      <td>C1350</td>\n",
              "      <td>1401</td>\n",
              "      <td>아파트</td>\n",
              "      <td>대전광역시</td>\n",
              "      <td>공공분양</td>\n",
              "      <td>84.97</td>\n",
              "      <td>26</td>\n",
              "      <td>2.0</td>\n",
              "      <td>D</td>\n",
              "      <td>NaN</td>\n",
              "      <td>NaN</td>\n",
              "      <td>0</td>\n",
              "      <td>6</td>\n",
              "      <td>1636.0</td>\n",
              "      <td>2315.0</td>\n",
              "    </tr>\n",
              "  </tbody>\n",
              "</table>\n",
              "<p>569 rows × 15 columns</p>\n",
              "</div>\n",
              "      <button class=\"colab-df-convert\" onclick=\"convertToInteractive('df-a00b395b-700d-46c2-97bb-f90d842aca34')\"\n",
              "              title=\"Convert this dataframe to an interactive table.\"\n",
              "              style=\"display:none;\">\n",
              "        \n",
              "  <svg xmlns=\"http://www.w3.org/2000/svg\" height=\"24px\"viewBox=\"0 0 24 24\"\n",
              "       width=\"24px\">\n",
              "    <path d=\"M0 0h24v24H0V0z\" fill=\"none\"/>\n",
              "    <path d=\"M18.56 5.44l.94 2.06.94-2.06 2.06-.94-2.06-.94-.94-2.06-.94 2.06-2.06.94zm-11 1L8.5 8.5l.94-2.06 2.06-.94-2.06-.94L8.5 2.5l-.94 2.06-2.06.94zm10 10l.94 2.06.94-2.06 2.06-.94-2.06-.94-.94-2.06-.94 2.06-2.06.94z\"/><path d=\"M17.41 7.96l-1.37-1.37c-.4-.4-.92-.59-1.43-.59-.52 0-1.04.2-1.43.59L10.3 9.45l-7.72 7.72c-.78.78-.78 2.05 0 2.83L4 21.41c.39.39.9.59 1.41.59.51 0 1.02-.2 1.41-.59l7.78-7.78 2.81-2.81c.8-.78.8-2.07 0-2.86zM5.41 20L4 18.59l7.72-7.72 1.47 1.35L5.41 20z\"/>\n",
              "  </svg>\n",
              "      </button>\n",
              "      \n",
              "  <style>\n",
              "    .colab-df-container {\n",
              "      display:flex;\n",
              "      flex-wrap:wrap;\n",
              "      gap: 12px;\n",
              "    }\n",
              "\n",
              "    .colab-df-convert {\n",
              "      background-color: #E8F0FE;\n",
              "      border: none;\n",
              "      border-radius: 50%;\n",
              "      cursor: pointer;\n",
              "      display: none;\n",
              "      fill: #1967D2;\n",
              "      height: 32px;\n",
              "      padding: 0 0 0 0;\n",
              "      width: 32px;\n",
              "    }\n",
              "\n",
              "    .colab-df-convert:hover {\n",
              "      background-color: #E2EBFA;\n",
              "      box-shadow: 0px 1px 2px rgba(60, 64, 67, 0.3), 0px 1px 3px 1px rgba(60, 64, 67, 0.15);\n",
              "      fill: #174EA6;\n",
              "    }\n",
              "\n",
              "    [theme=dark] .colab-df-convert {\n",
              "      background-color: #3B4455;\n",
              "      fill: #D2E3FC;\n",
              "    }\n",
              "\n",
              "    [theme=dark] .colab-df-convert:hover {\n",
              "      background-color: #434B5C;\n",
              "      box-shadow: 0px 1px 3px 1px rgba(0, 0, 0, 0.15);\n",
              "      filter: drop-shadow(0px 1px 2px rgba(0, 0, 0, 0.3));\n",
              "      fill: #FFFFFF;\n",
              "    }\n",
              "  </style>\n",
              "\n",
              "      <script>\n",
              "        const buttonEl =\n",
              "          document.querySelector('#df-a00b395b-700d-46c2-97bb-f90d842aca34 button.colab-df-convert');\n",
              "        buttonEl.style.display =\n",
              "          google.colab.kernel.accessAllowed ? 'block' : 'none';\n",
              "\n",
              "        async function convertToInteractive(key) {\n",
              "          const element = document.querySelector('#df-a00b395b-700d-46c2-97bb-f90d842aca34');\n",
              "          const dataTable =\n",
              "            await google.colab.kernel.invokeFunction('convertToInteractive',\n",
              "                                                     [key], {});\n",
              "          if (!dataTable) return;\n",
              "\n",
              "          const docLinkHtml = 'Like what you see? Visit the ' +\n",
              "            '<a target=\"_blank\" href=https://colab.research.google.com/notebooks/data_table.ipynb>data table notebook</a>'\n",
              "            + ' to learn more about interactive tables.';\n",
              "          element.innerHTML = '';\n",
              "          dataTable['output_type'] = 'display_data';\n",
              "          await google.colab.output.renderOutput(dataTable, element);\n",
              "          const docLink = document.createElement('div');\n",
              "          docLink.innerHTML = docLinkHtml;\n",
              "          element.appendChild(docLink);\n",
              "        }\n",
              "      </script>\n",
              "    </div>\n",
              "  </div>\n",
              "  "
            ]
          },
          "metadata": {},
          "execution_count": 15
        }
      ]
    },
    {
      "cell_type": "markdown",
      "source": [
        "**[Train] C1786 | 강원도 | 행복주택 | 총 480세대 : 춘천거두2 행복주택**"
      ],
      "metadata": {
        "id": "5SS_SgOFUo1Y"
      }
    },
    {
      "cell_type": "code",
      "source": [
        "# 전용면적 16.91 \n",
        "train.loc[(train['단지코드'] == 'C1786') & (train['전용면적'] == 16.91), '임대보증금'] = 13450000\n",
        "train.loc[(train['단지코드'] == 'C1786') & (train['전용면적'] == 16.91), '임대료'] = 65500\n",
        "# 전용면적 26.9\n",
        "train.loc[(train['단지코드'] == 'C1786') & (train['전용면적'] == 26.9), '임대보증금'] = 19700000\n",
        "train.loc[(train['단지코드'] == 'C1786') & (train['전용면적'] == 26.9), '임대료'] = 96000\n",
        "# 전용면적 26.9\n",
        "train.loc[(train['단지코드'] == 'C1786') & (train['전용면적'] == 26.9), '임대보증금'] = 19150000\n",
        "train.loc[(train['단지코드'] == 'C1786') & (train['전용면적'] == 26.9), '임대료'] = 94000\n",
        "# 전용면적 26.9\n",
        "train.loc[(train['단지코드'] == 'C1786') & (train['전용면적'] == 26.9), '임대보증금'] = 21400000\n",
        "train.loc[(train['단지코드'] == 'C1786') & (train['전용면적'] == 26.9), '임대료'] = 105000"
      ],
      "metadata": {
        "id": "KR9G1DaSUN-4"
      },
      "execution_count": 16,
      "outputs": []
    },
    {
      "cell_type": "markdown",
      "source": [
        "**[Train] C1326 | 부산광역시 | 국민임대 | 총 1934세대 : 부산정관 7단지 A-1블록**"
      ],
      "metadata": {
        "id": "TOnteSnhUx0k"
      }
    },
    {
      "cell_type": "code",
      "source": [
        "# 전용면적 24.72\n",
        "train.loc[(train['단지코드'] == 'C1326') & (train['전용면적'] == 24.72), '임대보증금'] = 7000000\n",
        "train.loc[(train['단지코드'] == 'C1326') & (train['전용면적'] == 24.72), '임대료'] = 135000\n",
        "# 전용면적 24.79\n",
        "train.loc[(train['단지코드'] == 'C1326') & (train['전용면적'] == 24.79), '임대보증금'] = 7000000\n",
        "train.loc[(train['단지코드'] == 'C1326') & (train['전용면적'] == 24.79), '임대료'] = 135000\n",
        "# 전용면적 26.83\n",
        "train.loc[(train['단지코드'] == 'C1326') & (train['전용면적'] == 26.83), '임대보증금'] = 7600000\n",
        "train.loc[(train['단지코드'] == 'C1326') & (train['전용면적'] == 26.83), '임대료'] = 142000\n",
        "# 전용면적 37.7\n",
        "train.loc[(train['단지코드'] == 'C1326') & (train['전용면적'] == 37.7), '임대보증금'] = 14800000\n",
        "train.loc[(train['단지코드'] == 'C1326') & (train['전용면적'] == 37.7), '임대료'] = 198000\n",
        "# 전용면적 46.94\n",
        "train.loc[(train['단지코드'] == 'C1326') & (train['전용면적'] == 46.94), '임대보증금'] = 23100000\n",
        "train.loc[(train['단지코드'] == 'C1326') & (train['전용면적'] == 46.94), '임대료'] = 259000"
      ],
      "metadata": {
        "id": "vjMpbW5IUz7A"
      },
      "execution_count": 17,
      "outputs": []
    },
    {
      "cell_type": "markdown",
      "source": [
        "**[Train] C2186 | 대구광역시 | 국민임대 | 총 924세대 : 대구연경 A-2블록 국민임대주택**"
      ],
      "metadata": {
        "id": "1fK7md70U2Hb"
      }
    },
    {
      "cell_type": "code",
      "source": [
        "# 전용면적 29.17\n",
        "train.loc[(train['단지코드'] == 'C2186') & (train['전용면적'] == 29.17), '임대보증금'] = 10847000\n",
        "train.loc[(train['단지코드'] == 'C2186') & (train['전용면적'] == 29.17), '임대료'] = 138600\n",
        "# 전용면적 29.34\n",
        "train.loc[(train['단지코드'] == 'C2186') & (train['전용면적'] == 29.34), '임대보증금'] = 10847000\n",
        "train.loc[(train['단지코드'] == 'C2186') & (train['전용면적'] == 29.34), '임대료'] = 138600\n",
        "# 전용면적 37.43\n",
        "train.loc[(train['단지코드'] == 'C2186') & (train['전용면적'] == 37.43), '임대보증금'] = 17338000\n",
        "train.loc[(train['단지코드'] == 'C2186') & (train['전용면적'] == 37.43), '임대료'] = 197500"
      ],
      "metadata": {
        "id": "4IpNqFtRU0Yd"
      },
      "execution_count": 18,
      "outputs": []
    },
    {
      "cell_type": "markdown",
      "source": [
        "**[Test] C2152 | 강원도 | 영구임대 | 총 120세대 : 화천신읍 공공실버주택**"
      ],
      "metadata": {
        "id": "skANlXdhU5un"
      }
    },
    {
      "cell_type": "code",
      "source": [
        "# 전용면적 24.83\n",
        "test.loc[(test['단지코드'] == 'C2152') & (test['전용면적'] == 24.83), '임대보증금'] = 2129000\n",
        "test.loc[(test['단지코드'] == 'C2152') & (test['전용면적'] == 24.83), '임대료'] = 42350\n",
        "# 전용면적 33.84\n",
        "test.loc[(test['단지코드'] == 'C2152') & (test['전용면적'] == 33.84), '임대보증금'] = 2902000\n",
        "test.loc[(test['단지코드'] == 'C2152') & (test['전용면적'] == 33.84), '임대료'] = 57730"
      ],
      "metadata": {
        "id": "_2ZwxAZkU7yL"
      },
      "execution_count": 19,
      "outputs": []
    },
    {
      "cell_type": "markdown",
      "source": [
        "**[Test] C1267 | 경상남도 | 행복주택 | 총 675세대 : 창원가포 A-1블록 행복주택**"
      ],
      "metadata": {
        "id": "RkMbiD4hVMAS"
      }
    },
    {
      "cell_type": "code",
      "source": [
        "# 전용면적 16.94\n",
        "test.loc[(test['단지코드'] == 'C1267') & (test['전용면적'] == 16.94), '임대보증금'] = 11200000\n",
        "test.loc[(test['단지코드'] == 'C1267') & (test['전용면적'] == 16.94), '임대료'] = 53200\n",
        "# 전용면적 26.85\n",
        "test.loc[(test['단지코드'] == 'C1267') & (test['전용면적'] == 26.85), '임대보증금'] = 16333330\n",
        "test.loc[(test['단지코드'] == 'C1267') & (test['전용면적'] == 26.85), '임대료'] = 77580\n",
        "# 전용면적 26.85\n",
        "test.loc[(test['단지코드'] == 'C1267') & (test['전용면적'] == 26.85), '임대보증금'] = 18620000\n",
        "test.loc[(test['단지코드'] == 'C1267') & (test['전용면적'] == 26.85), '임대료'] = 88440\n",
        "# 전용면적 36.77\n",
        "test.loc[(test['단지코드'] == 'C1267') & (test['전용면적'] == 36.77), '임대보증금'] = 23760000\n",
        "test.loc[(test['단지코드'] == 'C1267') & (test['전용면적'] == 36.77), '임대료'] = 112860"
      ],
      "metadata": {
        "id": "aN6vTksEVNj6"
      },
      "execution_count": 20,
      "outputs": []
    },
    {
      "cell_type": "markdown",
      "source": [
        "**[Test] C1006 | 대전광역시 | 임대상가 | 총 1505세대 : 대전둔산1단지**"
      ],
      "metadata": {
        "id": "-ewKGIP2VPAZ"
      }
    },
    {
      "cell_type": "markdown",
      "source": [
        "*일부 '영구임대' 아파트 입주 자격유형이 D로 되어있음 -> C로 변경\n",
        "* 영구임대 : 총 1491 세대\n",
        "* 전용면적 26.37 : 1193 세대 (테스트 데이터상 총 1181세대 - 12세대 부족함)\n",
        "*전용면적 31.32 : 298 세대\n",
        "*전용면적 52.74 (세대통합형) : (테스트 데이터상 6세대. 실제인지는 확인하지 못함)\n",
        "*임대상가: 총 20호"
      ],
      "metadata": {
        "id": "aEMNhHYHVWwI"
      }
    },
    {
      "cell_type": "code",
      "source": [
        "# 전용면적 26.37\n",
        "test.loc[(test['단지코드'] == 'C1006') & (test['전용면적'] == 26.37), '임대보증금'] = 5787000\n",
        "test.loc[(test['단지코드'] == 'C1006') & (test['전용면적'] == 26.37), '임대료'] = 79980\n",
        "test.loc[(test['단지코드'] == 'C1006') & (test['전용면적'] == 26.37), '자격유형'] = 'C'\n",
        "# 전용면적 52.74\n",
        "test.loc[(test['단지코드'] == 'C1006') & (test['전용면적'] == 52.74), '임대보증금'] = 11574000\n",
        "test.loc[(test['단지코드'] == 'C1006') & (test['전용면적'] == 52.74), '임대료'] = 159960\n",
        "test.loc[(test['단지코드'] == 'C1006') & (test['전용면적'] == 52.74), '자격유형'] = 'C'"
      ],
      "metadata": {
        "id": "pxokmNr1VNwn"
      },
      "execution_count": 21,
      "outputs": []
    },
    {
      "cell_type": "markdown",
      "source": [
        "### **2) 데이터 타입 변경**"
      ],
      "metadata": {
        "id": "T2f6s4EoVrFQ"
      }
    },
    {
      "cell_type": "markdown",
      "source": [
        "* 실제 데이터를 기반으로 대체되지 못한 경우 0으로 대체 후 데이터 타입 int로 변경"
      ],
      "metadata": {
        "id": "0h3rUzR9VuWo"
      }
    },
    {
      "cell_type": "code",
      "source": [
        "train[['임대보증금','임대료']] = train[['임대보증금','임대료']].fillna('0').replace('-','0').astype(int)\n",
        "test[['임대보증금', '임대료']] = test[['임대보증금', '임대료']].fillna('0').replace('-','0').astype(int)"
      ],
      "metadata": {
        "id": "OQogW4FhVqOv"
      },
      "execution_count": 22,
      "outputs": []
    },
    {
      "cell_type": "code",
      "source": [
        "train.dtypes, train.isnull().sum()"
      ],
      "metadata": {
        "colab": {
          "base_uri": "https://localhost:8080/"
        },
        "id": "IXnuiRySV0Ax",
        "outputId": "601942a3-3d83-4cb7-d5a1-63f95e13c5c0"
      },
      "execution_count": 23,
      "outputs": [
        {
          "output_type": "execute_result",
          "data": {
            "text/plain": [
              "(단지코드         object\n",
              " 총세대수          int64\n",
              " 임대건물구분       object\n",
              " 지역           object\n",
              " 공급유형         object\n",
              " 전용면적        float64\n",
              " 전용면적별세대수      int64\n",
              " 공가수         float64\n",
              " 자격유형         object\n",
              " 임대보증금         int64\n",
              " 임대료           int64\n",
              " 지하철           int64\n",
              " 버스            int64\n",
              " 단지내주차면수     float64\n",
              " 등록차량수       float64\n",
              " dtype: object, 단지코드        0\n",
              " 총세대수        0\n",
              " 임대건물구분      0\n",
              " 지역          0\n",
              " 공급유형        0\n",
              " 전용면적        0\n",
              " 전용면적별세대수    0\n",
              " 공가수         0\n",
              " 자격유형        0\n",
              " 임대보증금       0\n",
              " 임대료         0\n",
              " 지하철         0\n",
              " 버스          0\n",
              " 단지내주차면수     0\n",
              " 등록차량수       0\n",
              " dtype: int64)"
            ]
          },
          "metadata": {},
          "execution_count": 23
        }
      ]
    },
    {
      "cell_type": "code",
      "source": [
        "test.dtypes, test.isnull().sum()"
      ],
      "metadata": {
        "colab": {
          "base_uri": "https://localhost:8080/"
        },
        "id": "0bKOgxv9V22c",
        "outputId": "cf282533-2683-4a84-a2dd-ef6ded314abc"
      },
      "execution_count": 24,
      "outputs": [
        {
          "output_type": "execute_result",
          "data": {
            "text/plain": [
              "(단지코드         object\n",
              " 총세대수          int64\n",
              " 임대건물구분       object\n",
              " 지역           object\n",
              " 공급유형         object\n",
              " 전용면적        float64\n",
              " 전용면적별세대수      int64\n",
              " 공가수         float64\n",
              " 자격유형         object\n",
              " 임대보증금         int64\n",
              " 임대료           int64\n",
              " 지하철           int64\n",
              " 버스          float64\n",
              " 단지내주차면수     float64\n",
              " dtype: object, 단지코드        0\n",
              " 총세대수        0\n",
              " 임대건물구분      0\n",
              " 지역          0\n",
              " 공급유형        0\n",
              " 전용면적        0\n",
              " 전용면적별세대수    0\n",
              " 공가수         0\n",
              " 자격유형        0\n",
              " 임대보증금       0\n",
              " 임대료         0\n",
              " 지하철         0\n",
              " 버스          0\n",
              " 단지내주차면수     0\n",
              " dtype: int64)"
            ]
          },
          "metadata": {},
          "execution_count": 24
        }
      ]
    },
    {
      "cell_type": "markdown",
      "source": [
        "### **3) 오류 데이터 제거**"
      ],
      "metadata": {
        "id": "N3n5-7lYV70v"
      }
    },
    {
      "cell_type": "markdown",
      "source": [
        "[공지] 데이터 오류에 대한 사과문 및 처리방안(https://dacon.io/competitions/official/235745/talkboard/403708?page=1&dtype=recent) 에 따라 오류 데이터 11개 단지 제외"
      ],
      "metadata": {
        "id": "uAioZDPaV_ro"
      }
    },
    {
      "cell_type": "code",
      "source": [
        "error_data = ['C2085', 'C1397', 'C2431', 'C1649', 'C1095', 'C2051', 'C1218', 'C1894', 'C2483', 'C1502', 'C1988']\n",
        "\n",
        "for error in error_data:\n",
        "    error_index = train[train['단지코드'] == error].index\n",
        "    train.drop(error_index, inplace=True)"
      ],
      "metadata": {
        "id": "AhMjLPdcV6nR"
      },
      "execution_count": 25,
      "outputs": []
    },
    {
      "cell_type": "code",
      "source": [
        "train.shape, test.shape"
      ],
      "metadata": {
        "colab": {
          "base_uri": "https://localhost:8080/"
        },
        "id": "XNNGkmkAWCoL",
        "outputId": "651b3e6c-b960-478d-a3c8-328a1609a4a3"
      },
      "execution_count": 26,
      "outputs": [
        {
          "output_type": "execute_result",
          "data": {
            "text/plain": [
              "((2876, 15), (1022, 14))"
            ]
          },
          "metadata": {},
          "execution_count": 26
        }
      ]
    },
    {
      "cell_type": "markdown",
      "source": [
        "### **4) 파생변수 생성**"
      ],
      "metadata": {
        "id": "06R3_YX2WFq8"
      }
    },
    {
      "cell_type": "markdown",
      "source": [
        "###<u>**지역**</u>"
      ],
      "metadata": {
        "id": "zQVMCHsPWOpB"
      }
    },
    {
      "cell_type": "markdown",
      "source": [
        "* 지역 피처의 수준: 16개로 비교적 많음\n",
        "*등록차량수의 중앙값을 기준으로 지역을 5개 그룹(n지역)으로 통합\n",
        "*0 : 대전광역시, 충청남도, 부산광역시, 제주특별자치도\n",
        "*1 : 강원도, 경상남도, 울산광역시\n",
        "*2 : 전라남도, 전라북도, 충청북도\n",
        "*3 : 경상북도, 광주광역시, 서울특별시\n",
        "*4 : 경기도, 대구광역시, 세종특별시"
      ],
      "metadata": {
        "id": "ukSMbXZXWTnh"
      }
    },
    {
      "cell_type": "code",
      "source": [
        "import plotly.express as px"
      ],
      "metadata": {
        "id": "ZoycjcTXuEHJ"
      },
      "execution_count": 27,
      "outputs": []
    },
    {
      "cell_type": "code",
      "source": [
        "fig = px.box(train,x='지역',y='등록차량수',hover_name='단지코드')\n",
        "fig.show(renderer=\"colab\")"
      ],
      "metadata": {
        "colab": {
          "base_uri": "https://localhost:8080/",
          "height": 542
        },
        "id": "oRuPzpdfWExZ",
        "outputId": "6ea77eca-9599-4f94-a5eb-ef1c82ea3a45"
      },
      "execution_count": 28,
      "outputs": [
        {
          "output_type": "display_data",
          "data": {
            "text/html": [
              "<html>\n",
              "<head><meta charset=\"utf-8\" /></head>\n",
              "<body>\n",
              "    <div>            <script src=\"https://cdnjs.cloudflare.com/ajax/libs/mathjax/2.7.5/MathJax.js?config=TeX-AMS-MML_SVG\"></script><script type=\"text/javascript\">if (window.MathJax) {MathJax.Hub.Config({SVG: {font: \"STIX-Web\"}});}</script>                <script type=\"text/javascript\">window.PlotlyConfig = {MathJaxConfig: 'local'};</script>\n",
              "        <script src=\"https://cdn.plot.ly/plotly-2.8.3.min.js\"></script>                <div id=\"14ef7a50-b38a-4910-8964-ccd355a8a707\" class=\"plotly-graph-div\" style=\"height:525px; width:100%;\"></div>            <script type=\"text/javascript\">                                    window.PLOTLYENV=window.PLOTLYENV || {};                                    if (document.getElementById(\"14ef7a50-b38a-4910-8964-ccd355a8a707\")) {                    Plotly.newPlot(                        \"14ef7a50-b38a-4910-8964-ccd355a8a707\",                        [{\"alignmentgroup\":\"True\",\"hovertemplate\":\"<b>%{hovertext}</b><br><br>\\uc9c0\\uc5ed=%{x}<br>\\ub4f1\\ub85d\\ucc28\\ub7c9\\uc218=%{y}<extra></extra>\",\"hovertext\":[\"C2515\",\"C2515\",\"C2515\",\"C2515\",\"C2515\",\"C2515\",\"C2515\",\"C1407\",\"C1407\",\"C1407\",\"C1407\",\"C1407\",\"C1407\",\"C1407\",\"C1407\",\"C1407\",\"C1407\",\"C1407\",\"C1945\",\"C1945\",\"C1945\",\"C1945\",\"C1945\",\"C1945\",\"C1470\",\"C1470\",\"C1470\",\"C1470\",\"C1898\",\"C1898\",\"C1898\",\"C1898\",\"C1898\",\"C1898\",\"C1244\",\"C1244\",\"C1244\",\"C1244\",\"C1244\",\"C1244\",\"C1244\",\"C1244\",\"C1244\",\"C1244\",\"C1244\",\"C1244\",\"C1244\",\"C1171\",\"C1171\",\"C1171\",\"C1171\",\"C1171\",\"C1171\",\"C1171\",\"C1171\",\"C1171\",\"C1171\",\"C1171\",\"C1171\",\"C2073\",\"C2073\",\"C2073\",\"C2073\",\"C2073\",\"C2073\",\"C2513\",\"C2513\",\"C2513\",\"C1936\",\"C1936\",\"C1936\",\"C1936\",\"C2049\",\"C2049\",\"C2049\",\"C2202\",\"C2202\",\"C2202\",\"C1925\",\"C1925\",\"C1925\",\"C1925\",\"C1925\",\"C1925\",\"C2576\",\"C2576\",\"C1312\",\"C1312\",\"C1312\",\"C1312\",\"C1874\",\"C1874\",\"C1874\",\"C1874\",\"C1874\",\"C1874\",\"C1874\",\"C1874\",\"C1874\",\"C1874\",\"C1874\",\"C1874\",\"C1874\",\"C1874\",\"C1874\",\"C1874\",\"C1874\",\"C1874\",\"C1874\",\"C1874\",\"C1874\",\"C1874\",\"C1874\",\"C1874\",\"C1874\",\"C1874\",\"C1874\",\"C1874\",\"C1874\",\"C1874\",\"C2650\",\"C2650\",\"C2650\",\"C2416\",\"C2416\",\"C2416\",\"C2416\",\"C2416\",\"C2416\",\"C2416\",\"C2416\",\"C2416\",\"C2416\",\"C2013\",\"C2013\",\"C2013\",\"C1424\",\"C1424\",\"C1424\",\"C2100\",\"C2100\",\"C2100\",\"C2100\",\"C2100\",\"C2100\",\"C2621\",\"C2621\",\"C2621\",\"C2621\",\"C2621\",\"C2621\",\"C2621\",\"C2621\",\"C2621\",\"C2621\",\"C2621\",\"C2621\",\"C2621\",\"C2621\",\"C2621\",\"C2621\",\"C2621\",\"C2621\",\"C2520\",\"C2319\",\"C2319\",\"C2319\",\"C2319\",\"C1616\",\"C1616\",\"C1616\",\"C1616\",\"C1616\",\"C1616\",\"C1616\",\"C1616\",\"C1616\",\"C1616\",\"C1616\",\"C1616\",\"C1616\",\"C1616\",\"C1616\",\"C1616\",\"C1616\",\"C1616\",\"C1616\",\"C1616\",\"C1616\",\"C1616\",\"C1704\",\"C1704\",\"C1704\",\"C1704\",\"C1704\",\"C1704\",\"C1704\",\"C1704\",\"C1704\",\"C1704\",\"C1704\",\"C1704\",\"C1704\",\"C1704\",\"C1704\",\"C1704\",\"C1704\",\"C2258\",\"C2258\",\"C2258\",\"C2258\",\"C2258\",\"C2258\",\"C2258\",\"C2258\",\"C2258\",\"C2258\",\"C2258\",\"C2258\",\"C2258\",\"C2258\",\"C2258\",\"C2258\",\"C2258\",\"C2258\",\"C2258\",\"C2258\",\"C1032\",\"C1032\",\"C1032\",\"C1032\",\"C1032\",\"C1032\",\"C2038\",\"C2038\",\"C2038\",\"C2038\",\"C2038\",\"C2038\",\"C2038\",\"C2038\",\"C2038\",\"C2038\",\"C2038\",\"C2038\",\"C2038\",\"C2038\",\"C2038\",\"C2038\",\"C2038\",\"C2038\",\"C2038\",\"C2038\",\"C1859\",\"C1859\",\"C1859\",\"C1859\",\"C1859\",\"C1859\",\"C1859\",\"C1859\",\"C1859\",\"C1859\",\"C1859\",\"C1859\",\"C1859\",\"C1859\",\"C1859\",\"C1859\",\"C1859\",\"C1859\",\"C1859\",\"C1859\",\"C1859\",\"C1859\",\"C1859\",\"C1859\",\"C1859\",\"C1859\",\"C1859\",\"C1859\",\"C1859\",\"C1859\",\"C1859\",\"C1859\",\"C1859\",\"C1859\",\"C1859\",\"C1859\",\"C1859\",\"C1859\",\"C1859\",\"C1859\",\"C1722\",\"C1722\",\"C1722\",\"C1722\",\"C1722\",\"C1722\",\"C1722\",\"C1722\",\"C1722\",\"C1722\",\"C1722\",\"C1850\",\"C1850\",\"C1850\",\"C2190\",\"C2190\",\"C2190\",\"C2190\",\"C2190\",\"C2190\",\"C2190\",\"C2190\",\"C2190\",\"C2190\",\"C2190\",\"C2190\",\"C2190\",\"C2190\",\"C2190\",\"C2190\",\"C2190\",\"C2190\",\"C2190\",\"C2190\",\"C2190\",\"C1476\",\"C1476\",\"C1476\",\"C1476\",\"C1476\",\"C1476\",\"C1476\",\"C1476\",\"C1077\",\"C1077\",\"C1077\",\"C1068\",\"C1068\",\"C1068\",\"C1068\",\"C1068\",\"C1068\",\"C1983\",\"C1983\",\"C1983\",\"C1983\",\"C1983\",\"C1983\",\"C1983\",\"C1983\",\"C1983\",\"C1983\",\"C1983\",\"C1983\",\"C1983\",\"C1983\",\"C1983\",\"C2135\",\"C2135\",\"C2135\",\"C2135\",\"C2135\",\"C2135\",\"C2135\",\"C2135\",\"C2135\",\"C2135\",\"C2135\",\"C2135\",\"C2135\",\"C2135\",\"C2135\",\"C2135\",\"C2135\",\"C2135\",\"C2135\",\"C2135\",\"C2034\",\"C2034\",\"C2034\",\"C2034\",\"C2034\",\"C2034\",\"C2034\",\"C2034\",\"C2034\",\"C2034\",\"C2034\",\"C2034\",\"C2034\",\"C2034\",\"C2034\",\"C2034\",\"C2034\",\"C2034\",\"C2034\",\"C2034\",\"C2034\",\"C2034\",\"C2034\",\"C2034\",\"C2034\",\"C2034\",\"C2034\",\"C2034\",\"C2034\",\"C1109\",\"C1109\",\"C1109\",\"C1109\",\"C1109\",\"C1109\",\"C1109\",\"C1109\",\"C1109\",\"C1109\",\"C1109\",\"C1109\",\"C1109\",\"C1109\",\"C1109\",\"C1109\",\"C1109\",\"C1109\",\"C1109\",\"C1109\",\"C1109\",\"C1109\",\"C1497\",\"C1497\",\"C2289\",\"C2289\",\"C2289\",\"C2289\",\"C2289\",\"C2289\",\"C2289\",\"C2289\",\"C2289\",\"C2289\",\"C2289\",\"C2289\",\"C2289\",\"C2289\",\"C2289\",\"C2289\",\"C2289\",\"C2289\",\"C2289\",\"C2289\",\"C2289\",\"C2289\",\"C2289\",\"C2289\",\"C2597\",\"C2597\",\"C2597\",\"C2597\",\"C2597\",\"C2597\",\"C2597\",\"C2597\",\"C2597\",\"C2597\",\"C2597\",\"C2597\",\"C2597\",\"C2597\",\"C2597\",\"C2597\",\"C2597\",\"C2597\",\"C2597\",\"C2597\",\"C2597\",\"C2597\",\"C2597\",\"C2597\",\"C2597\",\"C2597\",\"C2597\",\"C2597\",\"C2597\",\"C2597\",\"C2597\",\"C2597\",\"C2310\",\"C2310\",\"C2310\",\"C2310\",\"C2310\",\"C2310\",\"C2310\",\"C2310\",\"C2310\",\"C2310\",\"C2310\",\"C2310\",\"C2310\",\"C2310\",\"C2310\",\"C2310\",\"C2310\",\"C2310\",\"C2310\",\"C2310\",\"C2310\",\"C2310\",\"C2310\",\"C1672\",\"C1672\",\"C2132\",\"C2132\",\"C2132\",\"C2132\",\"C2132\",\"C2132\",\"C2132\",\"C2132\",\"C2132\",\"C2132\",\"C2132\",\"C2132\",\"C2132\",\"C2132\",\"C2132\",\"C2132\",\"C2132\",\"C2132\",\"C2132\",\"C2132\",\"C2132\",\"C2132\",\"C2132\",\"C2132\",\"C2132\",\"C2132\",\"C2132\",\"C2132\",\"C2132\",\"C2132\",\"C2132\",\"C2132\",\"C2132\",\"C2132\",\"C2132\",\"C2132\",\"C2132\",\"C2132\",\"C2132\",\"C2132\",\"C2132\",\"C2132\",\"C2132\",\"C2132\",\"C2132\",\"C2132\",\"C2132\",\"C1439\",\"C1439\",\"C1439\",\"C1439\",\"C1439\",\"C1439\",\"C1439\",\"C1439\",\"C1439\",\"C1439\",\"C1439\",\"C1439\",\"C1439\",\"C1439\",\"C1439\",\"C1439\",\"C1439\",\"C1439\",\"C1439\",\"C1439\",\"C1439\",\"C1439\",\"C1439\",\"C1439\",\"C1439\",\"C1439\",\"C1439\",\"C1439\",\"C1439\",\"C1439\",\"C1439\",\"C1439\",\"C1439\",\"C1439\",\"C1439\",\"C1439\",\"C1439\",\"C1439\",\"C1439\",\"C1439\",\"C1439\",\"C1439\",\"C1439\",\"C1439\",\"C1439\",\"C1439\",\"C1439\",\"C1439\",\"C1613\",\"C1613\",\"C1613\",\"C2216\",\"C2216\",\"C1899\",\"C1899\",\"C1899\",\"C1899\",\"C1899\",\"C1899\",\"C1056\",\"C1056\",\"C1056\",\"C1056\",\"C1056\",\"C1056\",\"C1056\",\"C1056\",\"C1056\",\"C1056\",\"C1056\",\"C1056\",\"C2644\",\"C2644\",\"C2644\",\"C2644\",\"C2644\",\"C2644\",\"C2644\",\"C1206\",\"C1206\",\"C1206\",\"C1206\",\"C1206\",\"C1206\",\"C1206\",\"C1206\",\"C1206\",\"C1206\",\"C1206\",\"C1206\",\"C2481\",\"C2481\",\"C2481\",\"C1718\",\"C1718\",\"C1655\",\"C1655\",\"C1655\",\"C1655\",\"C1430\",\"C1430\",\"C1430\",\"C1430\",\"C1775\",\"C1775\",\"C1775\",\"C1775\",\"C1775\",\"C1775\",\"C1775\",\"C1775\",\"C1775\",\"C1775\",\"C1775\",\"C1775\",\"C1775\",\"C1775\",\"C1775\",\"C1775\",\"C1775\",\"C1519\",\"C1519\",\"C2221\",\"C2221\",\"C2221\",\"C2221\",\"C2221\",\"C2221\",\"C2221\",\"C2221\",\"C1790\",\"C1790\",\"C1790\",\"C1790\",\"C1790\",\"C1790\",\"C1790\",\"C1790\",\"C1790\",\"C1790\",\"C1790\",\"C1790\",\"C1790\",\"C1790\",\"C1790\",\"C1790\",\"C1790\",\"C1790\",\"C1790\",\"C1790\",\"C1790\",\"C1790\",\"C1790\",\"C1790\",\"C1790\",\"C1790\",\"C1790\",\"C1790\",\"C1790\",\"C1790\",\"C1790\",\"C1790\",\"C1790\",\"C2109\",\"C2109\",\"C2109\",\"C2109\",\"C2109\",\"C2109\",\"C2109\",\"C2109\",\"C2109\",\"C2109\",\"C2109\",\"C2109\",\"C2109\",\"C2109\",\"C2109\",\"C2109\",\"C2109\",\"C1698\",\"C1698\",\"C1698\",\"C1698\",\"C1698\",\"C1698\",\"C1698\",\"C1698\",\"C1866\",\"C1866\",\"C1866\",\"C1866\",\"C1005\",\"C1005\",\"C1005\",\"C1004\",\"C1004\",\"C1004\",\"C1004\",\"C1004\",\"C1004\",\"C1004\",\"C1004\",\"C1004\",\"C1004\",\"C1004\",\"C1004\",\"C1004\",\"C1004\",\"C1004\",\"C1004\",\"C1004\",\"C1004\",\"C1004\",\"C1875\",\"C1875\",\"C1875\",\"C1875\",\"C1875\",\"C1875\",\"C1875\",\"C1875\",\"C1875\",\"C1875\",\"C1875\",\"C1875\",\"C1875\",\"C1875\",\"C1875\",\"C1875\",\"C1875\",\"C1875\",\"C1875\",\"C1875\",\"C1875\",\"C1875\",\"C2156\",\"C2156\",\"C2156\",\"C2212\",\"C2212\",\"C2212\",\"C2212\",\"C2212\",\"C2212\",\"C2212\",\"C2212\",\"C2212\",\"C2212\",\"C2212\",\"C2212\",\"C2212\",\"C2212\",\"C2401\",\"C2401\",\"C2401\",\"C2571\",\"C2571\",\"C2571\",\"C2571\",\"C2571\",\"C2571\",\"C2571\",\"C2571\",\"C2571\",\"C2571\",\"C2571\",\"C2571\",\"C2571\",\"C2571\",\"C1175\",\"C1175\",\"C1175\",\"C1833\",\"C1833\",\"C1833\",\"C1833\",\"C1833\",\"C1833\",\"C1833\",\"C2445\",\"C2445\",\"C2445\",\"C2445\",\"C2445\",\"C2445\",\"C1885\",\"C1885\",\"C1885\",\"C1885\",\"C1885\",\"C1885\",\"C1885\",\"C1885\",\"C2368\",\"C2368\",\"C2368\",\"C2368\",\"C2368\",\"C2368\",\"C2368\",\"C2368\",\"C2016\",\"C2016\",\"C2016\",\"C2016\",\"C2371\",\"C2371\",\"C2371\",\"C2371\",\"C2371\",\"C2371\",\"C2371\",\"C2371\",\"C2536\",\"C2536\",\"C2536\",\"C2538\",\"C2538\",\"C2538\",\"C2538\",\"C2538\",\"C2538\",\"C2538\",\"C2538\",\"C2538\",\"C2538\",\"C2538\",\"C2538\",\"C2538\",\"C2538\",\"C2538\",\"C2538\",\"C2538\",\"C2538\",\"C2538\",\"C1014\",\"C1014\",\"C1014\",\"C1014\",\"C1014\",\"C1014\",\"C1014\",\"C1592\",\"C1592\",\"C1592\",\"C1592\",\"C1592\",\"C1592\",\"C1592\",\"C1867\",\"C1867\",\"C1867\",\"C1867\",\"C1867\",\"C1867\",\"C2326\",\"C2326\",\"C2326\",\"C2326\",\"C2326\",\"C1015\",\"C1015\",\"C1015\",\"C1015\",\"C1015\",\"C1015\",\"C1015\",\"C1015\",\"C1620\",\"C1620\",\"C1620\",\"C1620\",\"C1620\",\"C1049\",\"C1049\",\"C1049\",\"C1049\",\"C1049\",\"C2000\",\"C2000\",\"C2000\",\"C2000\",\"C2000\",\"C2000\",\"C2000\",\"C2097\",\"C2097\",\"C2097\",\"C2097\",\"C2097\",\"C2097\",\"C2097\",\"C1668\",\"C1668\",\"C1668\",\"C1668\",\"C1668\",\"C1668\",\"C1668\",\"C1689\",\"C1689\",\"C1689\",\"C1689\",\"C1689\",\"C1689\",\"C1689\",\"C1689\",\"C1689\",\"C1689\",\"C1234\",\"C1234\",\"C2514\",\"C2514\",\"C2514\",\"C2514\",\"C2514\",\"C2514\",\"C1368\",\"C1368\",\"C1368\",\"C1368\",\"C1057\",\"C1057\",\"C1057\",\"C1057\",\"C2336\",\"C2336\",\"C2336\",\"C2336\",\"C2336\",\"C2336\",\"C2336\",\"C1026\",\"C1026\",\"C2256\",\"C2256\",\"C2256\",\"C2256\",\"C2256\",\"C1900\",\"C1900\",\"C1900\",\"C1900\",\"C1900\",\"C1900\",\"C1900\",\"C1900\",\"C2666\",\"C2666\",\"C2666\",\"C2666\",\"C2666\",\"C2666\",\"C2361\",\"C2361\",\"C2361\",\"C2361\",\"C2361\",\"C2361\",\"C2361\",\"C2361\",\"C2361\",\"C2361\",\"C2361\",\"C1642\",\"C1642\",\"C1642\",\"C1642\",\"C1642\",\"C1642\",\"C1642\",\"C1013\",\"C1013\",\"C1013\",\"C1013\",\"C1013\",\"C2232\",\"C2232\",\"C2232\",\"C2232\",\"C1973\",\"C1973\",\"C1973\",\"C2458\",\"C2458\",\"C2458\",\"C2458\",\"C2458\",\"C2458\",\"C2458\",\"C2574\",\"C2574\",\"C2574\",\"C2574\",\"C2574\",\"C2574\",\"C2574\",\"C2574\",\"C2574\",\"C2133\",\"C2133\",\"C2133\",\"C2133\",\"C2133\",\"C2133\",\"C2096\",\"C2096\",\"C2096\",\"C2096\",\"C2096\",\"C2096\",\"C2096\",\"C2010\",\"C2010\",\"C2010\",\"C2010\",\"C2010\",\"C1879\",\"C1879\",\"C1879\",\"C1879\",\"C1879\",\"C1131\",\"C1131\",\"C1131\",\"C1131\",\"C1468\",\"C1468\",\"C1468\",\"C1468\",\"C1468\",\"C1213\",\"C1213\",\"C1213\",\"C1213\",\"C1213\",\"C1213\",\"C1173\",\"C1173\",\"C1173\",\"C1173\",\"C1173\",\"C1173\",\"C1173\",\"C1173\",\"C1173\",\"C2492\",\"C2492\",\"C2492\",\"C2492\",\"C2492\",\"C2032\",\"C2032\",\"C2032\",\"C2032\",\"C2032\",\"C2032\",\"C2032\",\"C2032\",\"C2094\",\"C2094\",\"C2094\",\"C2094\",\"C2094\",\"C2094\",\"C2094\",\"C1880\",\"C1880\",\"C1880\",\"C1880\",\"C2089\",\"C2089\",\"C2089\",\"C2089\",\"C2089\",\"C2089\",\"C1744\",\"C1744\",\"C1744\",\"C1744\",\"C1744\",\"C2046\",\"C2046\",\"C2046\",\"C2046\",\"C2046\",\"C2046\",\"C2071\",\"C2071\",\"C2071\",\"C2071\",\"C2071\",\"C2071\",\"C2071\",\"C2071\",\"C2071\",\"C2635\",\"C2635\",\"C2635\",\"C2635\",\"C2635\",\"C2390\",\"C2390\",\"C2390\",\"C2390\",\"C2561\",\"C2561\",\"C2561\",\"C2561\",\"C1663\",\"C1663\",\"C1663\",\"C1663\",\"C2490\",\"C2490\",\"C2066\",\"C2066\",\"C2066\",\"C2066\",\"C2066\",\"C2066\",\"C2066\",\"C2066\",\"C2066\",\"C2066\",\"C1585\",\"C1585\",\"C1585\",\"C1585\",\"C2276\",\"C2276\",\"C2276\",\"C1155\",\"C1155\",\"C1155\",\"C1693\",\"C1693\",\"C1693\",\"C1693\",\"C1889\",\"C1889\",\"C1889\",\"C1889\",\"C2518\",\"C2518\",\"C1962\",\"C1962\",\"C1962\",\"C1962\",\"C1666\",\"C1666\",\"C1666\",\"C1666\",\"C1666\",\"C1666\",\"C1666\",\"C1666\",\"C1666\",\"C1537\",\"C1537\",\"C1537\",\"C1537\",\"C1329\",\"C1329\",\"C1329\",\"C1329\",\"C1329\",\"C1329\",\"C1329\",\"C1329\",\"C1762\",\"C1762\",\"C1762\",\"C2008\",\"C2008\",\"C2008\",\"C2008\",\"C2008\",\"C2008\",\"C2008\",\"C2008\",\"C2008\",\"C2008\",\"C1319\",\"C1319\",\"C1319\",\"C1319\",\"C1319\",\"C1319\",\"C1141\",\"C1141\",\"C1141\",\"C1141\",\"C1141\",\"C1141\",\"C2340\",\"C1929\",\"C1929\",\"C1929\",\"C1929\",\"C1929\",\"C1929\",\"C1681\",\"C1681\",\"C1681\",\"C1681\",\"C1681\",\"C1681\",\"C1681\",\"C1681\",\"C1184\",\"C1184\",\"C1184\",\"C1184\",\"C1184\",\"C1184\",\"C1184\",\"C2383\",\"C2383\",\"C2383\",\"C2383\",\"C2383\",\"C2383\",\"C2383\",\"C2383\",\"C2383\",\"C1579\",\"C1579\",\"C1579\",\"C1579\",\"C1579\",\"C1579\",\"C1579\",\"C1579\",\"C1579\",\"C2173\",\"C2173\",\"C2173\",\"C2173\",\"C2173\",\"C2173\",\"C2173\",\"C2173\",\"C1911\",\"C1911\",\"C1911\",\"C1911\",\"C1911\",\"C1911\",\"C1638\",\"C1638\",\"C1638\",\"C1638\",\"C1638\",\"C2412\",\"C2412\",\"C2412\",\"C2412\",\"C2412\",\"C1871\",\"C1871\",\"C1871\",\"C1871\",\"C1871\",\"C1871\",\"C1309\",\"C1309\",\"C1309\",\"C1309\",\"C1309\",\"C1309\",\"C1309\",\"C1527\",\"C1527\",\"C1527\",\"C1527\",\"C1527\",\"C2208\",\"C2208\",\"C2208\",\"C2208\",\"C2208\",\"C2208\",\"C2208\",\"C2208\",\"C1940\",\"C1940\",\"C1940\",\"C1940\",\"C1940\",\"C1940\",\"C2596\",\"C2596\",\"C2596\",\"C2596\",\"C2596\",\"C2596\",\"C2596\",\"C2227\",\"C2227\",\"C2227\",\"C2227\",\"C2227\",\"C2227\",\"C2227\",\"C2563\",\"C2563\",\"C2563\",\"C2563\",\"C2358\",\"C2358\",\"C2358\",\"C2358\",\"C2358\",\"C2358\",\"C1492\",\"C1492\",\"C1492\",\"C1492\",\"C1492\",\"C1492\",\"C1492\",\"C1601\",\"C1601\",\"C1601\",\"C1601\",\"C1601\",\"C1601\",\"C1687\",\"C1687\",\"C1687\",\"C1687\",\"C1687\",\"C1687\",\"C1687\",\"C1687\",\"C1687\",\"C1687\",\"C1687\",\"C1236\",\"C1236\",\"C1236\",\"C1236\",\"C1236\",\"C1236\",\"C1236\",\"C1236\",\"C1236\",\"C1236\",\"C1236\",\"C1236\",\"C1487\",\"C1487\",\"C1379\",\"C1379\",\"C1379\",\"C1379\",\"C1386\",\"C1386\",\"C1386\",\"C1386\",\"C1386\",\"C1386\",\"C1386\",\"C1386\",\"C1386\",\"C1386\",\"C1386\",\"C1386\",\"C1386\",\"C1656\",\"C1656\",\"C1656\",\"C1656\",\"C1656\",\"C1656\",\"C1656\",\"C1656\",\"C2526\",\"C2526\",\"C2526\",\"C2526\",\"C2526\",\"C1022\",\"C1022\",\"C1022\",\"C1022\",\"C1896\",\"C1896\",\"C1896\",\"C1896\",\"C1896\",\"C1896\",\"C1269\",\"C1269\",\"C1269\",\"C1269\",\"C1916\",\"C1916\",\"C1916\",\"C1916\",\"C2070\",\"C2070\",\"C2070\",\"C2070\",\"C2070\",\"C1967\",\"C1967\",\"C1967\",\"C1967\",\"C2021\",\"C2021\",\"C2021\",\"C2021\",\"C2021\",\"C2021\",\"C2021\",\"C2021\",\"C2021\",\"C2021\",\"C2021\",\"C2021\",\"C1143\",\"C1143\",\"C1143\",\"C2188\",\"C2651\",\"C2651\",\"C1036\",\"C1036\",\"C1036\",\"C1036\",\"C1036\",\"C1036\",\"C1036\",\"C2657\",\"C2657\",\"C2657\",\"C2657\",\"C2657\",\"C2657\",\"C2657\",\"C2527\",\"C2527\",\"C2527\",\"C2527\",\"C2527\",\"C2262\",\"C2262\",\"C2262\",\"C2262\",\"C2262\",\"C2262\",\"C2262\",\"C2262\",\"C1084\",\"C1084\",\"C1084\",\"C1084\",\"C1084\",\"C1084\",\"C2530\",\"C2530\",\"C2530\",\"C2530\",\"C2530\",\"C2530\",\"C1046\",\"C1046\",\"C1046\",\"C1761\",\"C1761\",\"C1761\",\"C1761\",\"C1761\",\"C1761\",\"C1102\",\"C1102\",\"C1102\",\"C1102\",\"C1102\",\"C1102\",\"C2420\",\"C2420\",\"C2420\",\"C2420\",\"C2420\",\"C2420\",\"C2420\",\"C1122\",\"C1122\",\"C1122\",\"C1122\",\"C1122\",\"C1122\",\"C1122\",\"C2042\",\"C2042\",\"C2042\",\"C2042\",\"C2042\",\"C1375\",\"C1375\",\"C1375\",\"C1375\",\"C1375\",\"C1375\",\"C1375\",\"C1410\",\"C1410\",\"C1410\",\"C1641\",\"C1641\",\"C1641\",\"C1641\",\"C1706\",\"C1706\",\"C1706\",\"C1706\",\"C1706\",\"C1307\",\"C1307\",\"C1307\",\"C1307\",\"C1307\",\"C1307\",\"C1307\",\"C1307\",\"C2601\",\"C2601\",\"C2601\",\"C2601\",\"C2601\",\"C1085\",\"C1085\",\"C1085\",\"C1085\",\"C2385\",\"C2385\",\"C2385\",\"C2385\",\"C1059\",\"C1059\",\"C1059\",\"C1059\",\"C1059\",\"C1059\",\"C2162\",\"C2162\",\"C2162\",\"C1819\",\"C1819\",\"C1819\",\"C2325\",\"C2325\",\"C2325\",\"C2325\",\"C2325\",\"C2394\",\"C2394\",\"C2394\",\"C2394\",\"C2394\",\"C2394\",\"C2394\",\"C2394\",\"C1133\",\"C1133\",\"C1133\",\"C1133\",\"C1133\",\"C1133\",\"C1281\",\"C1281\",\"C1281\",\"C1281\",\"C1281\",\"C1194\",\"C1194\",\"C1194\",\"C1194\",\"C1194\",\"C2308\",\"C2308\",\"C2308\",\"C2036\",\"C2036\",\"C2036\",\"C2036\",\"C1394\",\"C1394\",\"C1394\",\"C1394\",\"C1180\",\"C1180\",\"C1180\",\"C2503\",\"C2503\",\"C2503\",\"C2503\",\"C2503\",\"C2503\",\"C1907\",\"C1907\",\"C1907\",\"C1907\",\"C1907\",\"C1907\",\"C2181\",\"C2181\",\"C2181\",\"C2181\",\"C2181\",\"C2181\",\"C1768\",\"C1768\",\"C1783\",\"C1783\",\"C1783\",\"C1783\",\"C1783\",\"C2192\",\"C2192\",\"C2192\",\"C2192\",\"C2192\",\"C2346\",\"C2346\",\"C2346\",\"C2346\",\"C2346\",\"C2680\",\"C2680\",\"C2680\",\"C2631\",\"C2631\",\"C2631\",\"C2631\",\"C2631\",\"C2631\",\"C2631\",\"C2141\",\"C2141\",\"C2141\",\"C2141\",\"C1569\",\"C1569\",\"C1569\",\"C1569\",\"C1569\",\"C1569\",\"C1569\",\"C2099\",\"C2099\",\"C2099\",\"C2099\",\"C2099\",\"C2287\",\"C2287\",\"C2287\",\"C2287\",\"C2287\",\"C2287\",\"C2287\",\"C2055\",\"C2055\",\"C2055\",\"C2055\",\"C2055\",\"C2055\",\"C1428\",\"C1428\",\"C1428\",\"C1428\",\"C1428\",\"C1428\",\"C1428\",\"C2522\",\"C2522\",\"C2522\",\"C2522\",\"C2522\",\"C2522\",\"C2522\",\"C2560\",\"C2560\",\"C2068\",\"C2068\",\"C2603\",\"C2603\",\"C2603\",\"C2603\",\"C2603\",\"C2603\",\"C1965\",\"C1965\",\"C1965\",\"C1965\",\"C1965\",\"C1660\",\"C1660\",\"C1660\",\"C1660\",\"C1660\",\"C1660\",\"C1660\",\"C1660\",\"C2378\",\"C2378\",\"C2378\",\"C2378\",\"C1268\",\"C1268\",\"C1268\",\"C1268\",\"C1268\",\"C1268\",\"C1994\",\"C1994\",\"C1994\",\"C1994\",\"C1837\",\"C1837\",\"C1837\",\"C1837\",\"C1837\",\"C1837\",\"C1000\",\"C1000\",\"C1000\",\"C1000\",\"C1000\",\"C1000\",\"C1000\",\"C1465\",\"C1465\",\"C1465\",\"C1465\",\"C1465\",\"C1465\",\"C1448\",\"C1448\",\"C1448\",\"C1448\",\"C1448\",\"C1448\",\"C1448\",\"C1448\",\"C1448\",\"C1516\",\"C1516\",\"C1516\",\"C1516\",\"C1516\",\"C2670\",\"C2670\",\"C2670\",\"C2670\",\"C2670\",\"C1365\",\"C1365\",\"C1365\",\"C1365\",\"C1365\",\"C1365\",\"C1365\",\"C1365\",\"C1365\",\"C1365\",\"C1177\",\"C1177\",\"C1177\",\"C1177\",\"C1177\",\"C1177\",\"C1177\",\"C1177\",\"C1177\",\"C1177\",\"C1177\",\"C1177\",\"C1177\",\"C1177\",\"C1177\",\"C1177\",\"C1360\",\"C1360\",\"C1360\",\"C1360\",\"C1360\",\"C1360\",\"C2488\",\"C2488\",\"C2488\",\"C2488\",\"C2488\",\"C2488\",\"C2488\",\"C2488\",\"C1406\",\"C1406\",\"C1406\",\"C1406\",\"C1406\",\"C1406\",\"C1406\",\"C1406\",\"C1406\",\"C1406\",\"C1406\",\"C1406\",\"C1406\",\"C1406\",\"C1566\",\"C1566\",\"C1566\",\"C1566\",\"C1566\",\"C1566\",\"C1227\",\"C1227\",\"C1227\",\"C1227\",\"C1227\",\"C1227\",\"C1227\",\"C1227\",\"C1227\",\"C2460\",\"C2460\",\"C2460\",\"C2460\",\"C2460\",\"C2460\",\"C2486\",\"C2486\",\"C2486\",\"C2486\",\"C2486\",\"C2486\",\"C2486\",\"C2486\",\"C2486\",\"C2486\",\"C2106\",\"C2106\",\"C2106\",\"C2106\",\"C2106\",\"C1572\",\"C1572\",\"C1572\",\"C1572\",\"C1572\",\"C1572\",\"C1773\",\"C1773\",\"C1773\",\"C1773\",\"C1773\",\"C1773\",\"C1773\",\"C1773\",\"C1773\",\"C1677\",\"C1677\",\"C1677\",\"C1677\",\"C1677\",\"C1677\",\"C1677\",\"C1677\",\"C1677\",\"C1677\",\"C1677\",\"C1823\",\"C1823\",\"C1823\",\"C1823\",\"C1823\",\"C1823\",\"C1344\",\"C1344\",\"C1344\",\"C1344\",\"C1344\",\"C1344\",\"C2692\",\"C2692\",\"C2692\",\"C2692\",\"C2692\",\"C2505\",\"C2505\",\"C2505\",\"C2505\",\"C2505\",\"C2587\",\"C2587\",\"C2587\",\"C2587\",\"C2587\",\"C2587\",\"C2587\",\"C2127\",\"C2127\",\"C2127\",\"C2127\",\"C2127\",\"C2127\",\"C1316\",\"C1316\",\"C1674\",\"C1674\",\"C1674\",\"C1674\",\"C1674\",\"C1674\",\"C1713\",\"C1713\",\"C1713\",\"C1713\",\"C1713\",\"C1713\",\"C1845\",\"C1845\",\"C1845\",\"C1845\",\"C2082\",\"C2082\",\"C2082\",\"C2082\",\"C2082\",\"C2082\",\"C1328\",\"C1328\",\"C1328\",\"C1328\",\"C1328\",\"C1328\",\"C1328\",\"C1328\",\"C1328\",\"C1328\",\"C1328\",\"C2357\",\"C2357\",\"C2357\",\"C2357\",\"C2357\",\"C2357\",\"C2565\",\"C2565\",\"C2565\",\"C2565\",\"C2565\",\"C2565\",\"C2565\",\"C2565\",\"C2565\",\"C2565\",\"C2565\",\"C2565\",\"C1804\",\"C1804\",\"C1804\",\"C1804\",\"C2255\",\"C2255\",\"C2255\",\"C2255\",\"C2255\",\"C2255\",\"C1343\",\"C1343\",\"C1343\",\"C1343\",\"C1343\",\"C1343\",\"C1343\",\"C1343\",\"C1343\",\"C1987\",\"C1987\",\"C1987\",\"C1987\",\"C1987\",\"C1987\",\"C2479\",\"C2479\",\"C2479\",\"C2479\",\"C2479\",\"C2479\",\"C2479\",\"C2352\",\"C2352\",\"C2352\",\"C2352\",\"C2352\",\"C2352\",\"C2352\",\"C2352\",\"C2352\",\"C2352\",\"C1310\",\"C1310\",\"C1310\",\"C1310\",\"C1310\",\"C1310\",\"C1310\",\"C1310\",\"C1310\",\"C1738\",\"C1738\",\"C1738\",\"C1738\",\"C1039\",\"C1039\",\"C1039\",\"C1039\",\"C1039\",\"C1039\",\"C1039\",\"C1039\",\"C1039\",\"C1039\",\"C1039\",\"C1863\",\"C1863\",\"C1863\",\"C1863\",\"C1863\",\"C1863\",\"C1863\",\"C1863\",\"C1426\",\"C1426\",\"C1426\",\"C1426\",\"C1426\",\"C2659\",\"C2659\",\"C2659\",\"C2659\",\"C2659\",\"C2659\",\"C2659\",\"C2659\",\"C2659\",\"C2659\",\"C2659\",\"C2489\",\"C2489\",\"C2489\",\"C2211\",\"C2211\",\"C2211\",\"C2314\",\"C2314\",\"C2314\",\"C2314\",\"C2314\",\"C2314\",\"C2314\",\"C1861\",\"C1861\",\"C1861\",\"C1861\",\"C2389\",\"C2389\",\"C2389\",\"C2389\",\"C2389\",\"C2389\",\"C1490\",\"C1490\",\"C1490\",\"C1490\",\"C1024\",\"C1024\",\"C1024\",\"C1024\",\"C1024\",\"C1024\",\"C1024\",\"C1024\",\"C1024\",\"C1024\",\"C1788\",\"C1788\",\"C1740\",\"C1740\",\"C1740\",\"C1740\",\"C2620\",\"C2620\",\"C2620\",\"C2620\",\"C2620\",\"C1286\",\"C1286\",\"C1286\",\"C1089\",\"C1089\",\"C1089\",\"C1089\",\"C1089\",\"C1089\",\"C2237\",\"C2237\",\"C2237\",\"C1341\",\"C1341\",\"C1341\",\"C1341\",\"C1341\",\"C1341\",\"C1341\",\"C1341\",\"C1341\",\"C1338\",\"C1338\",\"C1338\",\"C1338\",\"C1338\",\"C1338\",\"C1338\",\"C1338\",\"C1338\",\"C1338\",\"C2405\",\"C2405\",\"C2405\",\"C1969\",\"C1969\",\"C1969\",\"C1969\",\"C1969\",\"C1969\",\"C2274\",\"C2274\",\"C2274\",\"C2274\",\"C2274\",\"C2274\",\"C2274\",\"C1699\",\"C1699\",\"C1699\",\"C1699\",\"C1699\",\"C1699\",\"C1699\",\"C2251\",\"C2251\",\"C2251\",\"C2251\",\"C2251\",\"C2251\",\"C2251\",\"C2251\",\"C2251\",\"C2251\",\"C2251\",\"C1340\",\"C1340\",\"C1340\",\"C1340\",\"C1340\",\"C2373\",\"C2373\",\"C2373\",\"C2373\",\"C2373\",\"C2373\",\"C1455\",\"C1455\",\"C1455\",\"C2137\",\"C2137\",\"C2137\",\"C1985\",\"C1985\",\"C1985\",\"C1985\",\"C2583\",\"C2583\",\"C2583\",\"C2583\",\"C2583\",\"C2583\",\"C2583\",\"C2583\",\"C2583\",\"C2583\",\"C2583\",\"C2663\",\"C2663\",\"C2663\",\"C2663\",\"C2663\",\"C2663\",\"C2450\",\"C2450\",\"C2450\",\"C2450\",\"C2450\",\"C2450\",\"C2329\",\"C2329\",\"C2329\",\"C2329\",\"C1834\",\"C1834\",\"C1834\",\"C1848\",\"C1848\",\"C1848\",\"C1848\",\"C1848\",\"C1743\",\"C1743\",\"C1743\",\"C1743\",\"C1743\",\"C1743\",\"C1743\",\"C1350\",\"C1350\",\"C1350\",\"C1350\",\"C1350\",\"C1350\",\"C1350\",\"C1350\",\"C1350\",\"C1350\",\"C1350\",\"C1350\",\"C1350\",\"C1402\",\"C1402\",\"C1402\",\"C1402\",\"C1402\",\"C1103\",\"C1103\",\"C1103\",\"C1103\",\"C1129\",\"C1129\",\"C1129\",\"C1129\",\"C1129\",\"C1129\",\"C1129\",\"C1129\",\"C1027\",\"C1027\",\"C1027\",\"C1027\",\"C1027\",\"C2377\",\"C2377\",\"C2377\",\"C2377\",\"C2377\",\"C2377\",\"C2661\",\"C2661\",\"C2661\",\"C1263\",\"C1263\",\"C1263\",\"C1263\",\"C1263\",\"C1136\",\"C1136\",\"C1136\",\"C1136\",\"C2605\",\"C2605\",\"C2605\",\"C2393\",\"C2393\",\"C2393\",\"C2393\",\"C2393\",\"C2393\",\"C2393\",\"C2393\",\"C2393\",\"C2393\",\"C2393\",\"C2393\",\"C2393\",\"C1673\",\"C1673\",\"C1673\",\"C1673\",\"C1673\",\"C1017\",\"C1017\",\"C1017\",\"C2539\",\"C2539\",\"C2539\",\"C2539\",\"C2539\",\"C2539\",\"C1933\",\"C1933\",\"C1933\",\"C1933\",\"C1933\",\"C1933\",\"C2316\",\"C2316\",\"C2316\",\"C2316\",\"C2414\",\"C2414\",\"C2414\",\"C2414\",\"C1301\",\"C1301\",\"C1301\",\"C1700\",\"C1700\",\"C1700\",\"C1636\",\"C1636\",\"C1636\",\"C1636\",\"C2612\",\"C2612\",\"C2612\",\"C2612\",\"C1757\",\"C1757\",\"C1757\",\"C1757\",\"C2507\",\"C2507\",\"C2507\",\"C2507\",\"C2507\",\"C2507\",\"C2507\",\"C2507\",\"C2507\",\"C2507\",\"C2507\",\"C2507\",\"C2507\",\"C2507\",\"C2507\",\"C2507\",\"C2507\",\"C2507\",\"C1163\",\"C1163\",\"C1163\",\"C2627\",\"C2627\",\"C2627\",\"C2627\",\"C2627\",\"C2627\",\"C2040\",\"C2040\",\"C2609\",\"C2609\",\"C2609\",\"C2001\",\"C2001\",\"C2001\",\"C2001\",\"C2001\",\"C1065\",\"C1065\",\"C1065\",\"C1363\",\"C1363\",\"C1363\",\"C1363\",\"C1363\",\"C1363\",\"C1363\",\"C1363\",\"C1363\",\"C1363\",\"C1363\",\"C1363\",\"C1363\",\"C1363\",\"C2579\",\"C2579\",\"C2579\",\"C2579\",\"C2579\",\"C2579\",\"C1048\",\"C1048\",\"C1048\",\"C1210\",\"C1210\",\"C1210\",\"C1210\",\"C1210\",\"C1320\",\"C1320\",\"C1320\",\"C1320\",\"C1941\",\"C1941\",\"C1941\",\"C1941\",\"C1326\",\"C1326\",\"C1326\",\"C1326\",\"C1326\",\"C1685\",\"C1685\",\"C1685\",\"C1685\",\"C1685\",\"C1685\",\"C1685\",\"C1685\",\"C1685\",\"C2618\",\"C2618\",\"C2618\",\"C2618\",\"C2618\",\"C1451\",\"C1451\",\"C1451\",\"C1451\",\"C1451\",\"C2143\",\"C2143\",\"C2143\",\"C2143\",\"C1968\",\"C1968\",\"C1968\",\"C1968\",\"C1968\",\"C2470\",\"C2470\",\"C2470\",\"C1258\",\"C1258\",\"C1258\",\"C1258\",\"C1258\",\"C1258\",\"C2453\",\"C2453\",\"C2453\",\"C2453\",\"C2453\",\"C2453\",\"C2453\",\"C1659\",\"C1659\",\"C1659\",\"C1659\",\"C1659\",\"C1659\",\"C1659\",\"C1659\",\"C1659\",\"C1659\",\"C1659\",\"C1659\",\"C1659\",\"C1724\",\"C1724\",\"C1724\",\"C1724\",\"C1724\",\"C1724\",\"C1724\",\"C1724\",\"C1724\",\"C1724\",\"C1802\",\"C1802\",\"C1802\",\"C1802\",\"C1802\",\"C1802\",\"C1802\",\"C1802\",\"C1802\",\"C1802\",\"C1802\",\"C1939\",\"C1939\",\"C1939\",\"C1939\",\"C1939\",\"C1939\",\"C1939\",\"C1939\",\"C1939\",\"C1284\",\"C1284\",\"C2595\",\"C2595\",\"C2595\",\"C2595\",\"C2595\",\"C2351\",\"C2351\",\"C2351\",\"C2351\",\"C2351\",\"C2506\",\"C2506\",\"C2506\",\"C2506\",\"C2506\",\"C2506\",\"C2506\",\"C2506\",\"C2506\",\"C2506\",\"C2506\",\"C2506\",\"C2506\",\"C2506\",\"C2506\",\"C2506\",\"C2506\",\"C1697\",\"C1697\",\"C1697\",\"C1697\",\"C1697\",\"C1697\",\"C2259\",\"C2259\",\"C2259\",\"C2259\",\"C2259\",\"C2259\",\"C1786\",\"C1786\",\"C1786\",\"C1786\",\"C1786\",\"C1357\",\"C1357\",\"C1357\",\"C1357\",\"C2570\",\"C2570\",\"C2570\",\"C2570\",\"C2570\",\"C2570\",\"C2570\",\"C2570\",\"C1652\",\"C1652\",\"C1652\",\"C1652\",\"C1652\",\"C1652\",\"C1652\",\"C1652\",\"C1652\",\"C1652\",\"C1652\",\"C1652\",\"C1565\",\"C1565\",\"C1565\",\"C1565\",\"C1910\",\"C1910\",\"C1910\",\"C1910\",\"C1910\",\"C1910\",\"C1910\",\"C1910\",\"C1910\",\"C1910\",\"C2359\",\"C2359\",\"C2359\",\"C2359\",\"C2359\",\"C2139\",\"C2139\",\"C2139\",\"C1979\",\"C1979\",\"C1979\",\"C1979\",\"C1979\",\"C1979\",\"C1979\",\"C1979\",\"C1979\",\"C1803\",\"C1803\",\"C1803\",\"C1803\",\"C1803\",\"C1803\",\"C1803\",\"C1803\",\"C1803\",\"C1803\",\"C2508\",\"C2508\",\"C2508\",\"C2508\",\"C2508\",\"C2508\",\"C2508\",\"C2531\",\"C2531\",\"C2531\",\"C2531\",\"C2531\",\"C2531\",\"C1695\",\"C1695\",\"C1695\",\"C1695\",\"C1695\",\"C2556\",\"C2556\",\"C2556\",\"C2086\",\"C2086\",\"C2086\",\"C2086\",\"C2086\",\"C2086\",\"C2086\",\"C2086\",\"C2086\",\"C1544\",\"C1544\",\"C1544\",\"C2154\",\"C2154\",\"C2154\",\"C2154\",\"C2496\",\"C2496\",\"C2496\",\"C2496\",\"C1756\",\"C1756\",\"C1756\",\"C1756\",\"C2362\",\"C2362\",\"C2362\",\"C2362\",\"C2362\",\"C2362\",\"C2362\",\"C2362\",\"C2362\",\"C2362\",\"C2362\",\"C2362\",\"C2362\",\"C2362\",\"C2568\",\"C2568\",\"C2568\",\"C2568\",\"C2568\",\"C2245\",\"C2245\",\"C2245\",\"C2245\",\"C2245\",\"C2245\",\"C2245\",\"C2059\",\"C2059\",\"C2059\",\"C2549\",\"C2549\",\"C2549\",\"C2549\",\"C2549\",\"C1584\",\"C1584\",\"C1584\",\"C1584\",\"C1584\",\"C1584\",\"C2298\",\"C2298\",\"C2298\",\"C2298\",\"C2298\",\"C2225\",\"C2225\",\"C2225\",\"C2225\",\"C2225\",\"C2225\",\"C2225\",\"C2225\",\"C2225\",\"C2328\",\"C2328\",\"C2328\",\"C2328\",\"C2328\",\"C2328\",\"C2328\",\"C1045\",\"C1045\",\"C1045\",\"C1045\",\"C1207\",\"C1207\",\"C1207\",\"C1970\",\"C1970\",\"C1970\",\"C1970\",\"C1970\",\"C1732\",\"C1732\",\"C1732\",\"C1732\",\"C1732\",\"C1732\",\"C2433\",\"C2433\",\"C2433\",\"C2433\",\"C2433\",\"C1156\",\"C1156\",\"C1156\",\"C1156\",\"C1156\",\"C1156\",\"C1156\",\"C1156\",\"C2142\",\"C2142\",\"C2142\",\"C2142\",\"C2153\",\"C2153\",\"C2153\",\"C2153\",\"C2186\",\"C2186\",\"C2186\",\"C2186\",\"C2186\",\"C2186\",\"C1176\",\"C1176\",\"C1176\",\"C1176\",\"C1176\",\"C1176\",\"C1176\",\"C1176\",\"C2446\",\"C2446\",\"C2446\",\"C2446\",\"C2446\",\"C2446\",\"C2446\",\"C2446\",\"C2446\",\"C2446\",\"C2446\",\"C2446\",\"C2586\",\"C2586\",\"C2586\",\"C2586\",\"C2586\",\"C2035\",\"C2035\",\"C2035\",\"C2035\",\"C2035\",\"C2020\",\"C2020\",\"C2020\",\"C2437\",\"C2532\",\"C2532\",\"C2532\",\"C2532\",\"C2532\",\"C2532\"],\"legendgroup\":\"\",\"marker\":{\"color\":\"#636efa\"},\"name\":\"\",\"notched\":false,\"offsetgroup\":\"\",\"orientation\":\"v\",\"showlegend\":false,\"x\":[\"\\uacbd\\uc0c1\\ub0a8\\ub3c4\",\"\\uacbd\\uc0c1\\ub0a8\\ub3c4\",\"\\uacbd\\uc0c1\\ub0a8\\ub3c4\",\"\\uacbd\\uc0c1\\ub0a8\\ub3c4\",\"\\uacbd\\uc0c1\\ub0a8\\ub3c4\",\"\\uacbd\\uc0c1\\ub0a8\\ub3c4\",\"\\uacbd\\uc0c1\\ub0a8\\ub3c4\",\"\\ub300\\uc804\\uad11\\uc5ed\\uc2dc\",\"\\ub300\\uc804\\uad11\\uc5ed\\uc2dc\",\"\\ub300\\uc804\\uad11\\uc5ed\\uc2dc\",\"\\ub300\\uc804\\uad11\\uc5ed\\uc2dc\",\"\\ub300\\uc804\\uad11\\uc5ed\\uc2dc\",\"\\ub300\\uc804\\uad11\\uc5ed\\uc2dc\",\"\\ub300\\uc804\\uad11\\uc5ed\\uc2dc\",\"\\ub300\\uc804\\uad11\\uc5ed\\uc2dc\",\"\\ub300\\uc804\\uad11\\uc5ed\\uc2dc\",\"\\ub300\\uc804\\uad11\\uc5ed\\uc2dc\",\"\\ub300\\uc804\\uad11\\uc5ed\\uc2dc\",\"\\uacbd\\uae30\\ub3c4\",\"\\uacbd\\uae30\\ub3c4\",\"\\uacbd\\uae30\\ub3c4\",\"\\uacbd\\uae30\\ub3c4\",\"\\uacbd\\uae30\\ub3c4\",\"\\uacbd\\uae30\\ub3c4\",\"\\uc804\\ub77c\\ubd81\\ub3c4\",\"\\uc804\\ub77c\\ubd81\\ub3c4\",\"\\uc804\\ub77c\\ubd81\\ub3c4\",\"\\uc804\\ub77c\\ubd81\\ub3c4\",\"\\uc804\\ub77c\\ubd81\\ub3c4\",\"\\uc804\\ub77c\\ubd81\\ub3c4\",\"\\uc804\\ub77c\\ubd81\\ub3c4\",\"\\uc804\\ub77c\\ubd81\\ub3c4\",\"\\uc804\\ub77c\\ubd81\\ub3c4\",\"\\uc804\\ub77c\\ubd81\\ub3c4\",\"\\uacbd\\uae30\\ub3c4\",\"\\uacbd\\uae30\\ub3c4\",\"\\uacbd\\uae30\\ub3c4\",\"\\uacbd\\uae30\\ub3c4\",\"\\uacbd\\uae30\\ub3c4\",\"\\uacbd\\uae30\\ub3c4\",\"\\uacbd\\uae30\\ub3c4\",\"\\uacbd\\uae30\\ub3c4\",\"\\uacbd\\uae30\\ub3c4\",\"\\uacbd\\uae30\\ub3c4\",\"\\uacbd\\uae30\\ub3c4\",\"\\uacbd\\uae30\\ub3c4\",\"\\uacbd\\uae30\\ub3c4\",\"\\ub300\\uc804\\uad11\\uc5ed\\uc2dc\",\"\\ub300\\uc804\\uad11\\uc5ed\\uc2dc\",\"\\ub300\\uc804\\uad11\\uc5ed\\uc2dc\",\"\\ub300\\uc804\\uad11\\uc5ed\\uc2dc\",\"\\ub300\\uc804\\uad11\\uc5ed\\uc2dc\",\"\\ub300\\uc804\\uad11\\uc5ed\\uc2dc\",\"\\ub300\\uc804\\uad11\\uc5ed\\uc2dc\",\"\\ub300\\uc804\\uad11\\uc5ed\\uc2dc\",\"\\ub300\\uc804\\uad11\\uc5ed\\uc2dc\",\"\\ub300\\uc804\\uad11\\uc5ed\\uc2dc\",\"\\ub300\\uc804\\uad11\\uc5ed\\uc2dc\",\"\\ub300\\uc804\\uad11\\uc5ed\\uc2dc\",\"\\uac15\\uc6d0\\ub3c4\",\"\\uac15\\uc6d0\\ub3c4\",\"\\uac15\\uc6d0\\ub3c4\",\"\\uac15\\uc6d0\\ub3c4\",\"\\uac15\\uc6d0\\ub3c4\",\"\\uac15\\uc6d0\\ub3c4\",\"\\uad11\\uc8fc\\uad11\\uc5ed\\uc2dc\",\"\\uad11\\uc8fc\\uad11\\uc5ed\\uc2dc\",\"\\uad11\\uc8fc\\uad11\\uc5ed\\uc2dc\",\"\\uad11\\uc8fc\\uad11\\uc5ed\\uc2dc\",\"\\uad11\\uc8fc\\uad11\\uc5ed\\uc2dc\",\"\\uad11\\uc8fc\\uad11\\uc5ed\\uc2dc\",\"\\uad11\\uc8fc\\uad11\\uc5ed\\uc2dc\",\"\\uac15\\uc6d0\\ub3c4\",\"\\uac15\\uc6d0\\ub3c4\",\"\\uac15\\uc6d0\\ub3c4\",\"\\uac15\\uc6d0\\ub3c4\",\"\\uac15\\uc6d0\\ub3c4\",\"\\uac15\\uc6d0\\ub3c4\",\"\\uac15\\uc6d0\\ub3c4\",\"\\uac15\\uc6d0\\ub3c4\",\"\\uac15\\uc6d0\\ub3c4\",\"\\uac15\\uc6d0\\ub3c4\",\"\\uac15\\uc6d0\\ub3c4\",\"\\uac15\\uc6d0\\ub3c4\",\"\\uacbd\\uc0c1\\ub0a8\\ub3c4\",\"\\uacbd\\uc0c1\\ub0a8\\ub3c4\",\"\\ucda9\\uccad\\ub0a8\\ub3c4\",\"\\ucda9\\uccad\\ub0a8\\ub3c4\",\"\\ucda9\\uccad\\ub0a8\\ub3c4\",\"\\ucda9\\uccad\\ub0a8\\ub3c4\",\"\\ucda9\\uccad\\ub0a8\\ub3c4\",\"\\ucda9\\uccad\\ub0a8\\ub3c4\",\"\\ucda9\\uccad\\ub0a8\\ub3c4\",\"\\ucda9\\uccad\\ub0a8\\ub3c4\",\"\\ucda9\\uccad\\ub0a8\\ub3c4\",\"\\ucda9\\uccad\\ub0a8\\ub3c4\",\"\\ucda9\\uccad\\ub0a8\\ub3c4\",\"\\ucda9\\uccad\\ub0a8\\ub3c4\",\"\\ucda9\\uccad\\ub0a8\\ub3c4\",\"\\ucda9\\uccad\\ub0a8\\ub3c4\",\"\\ucda9\\uccad\\ub0a8\\ub3c4\",\"\\ucda9\\uccad\\ub0a8\\ub3c4\",\"\\ucda9\\uccad\\ub0a8\\ub3c4\",\"\\ucda9\\uccad\\ub0a8\\ub3c4\",\"\\ucda9\\uccad\\ub0a8\\ub3c4\",\"\\ucda9\\uccad\\ub0a8\\ub3c4\",\"\\ucda9\\uccad\\ub0a8\\ub3c4\",\"\\ucda9\\uccad\\ub0a8\\ub3c4\",\"\\ucda9\\uccad\\ub0a8\\ub3c4\",\"\\ucda9\\uccad\\ub0a8\\ub3c4\",\"\\ucda9\\uccad\\ub0a8\\ub3c4\",\"\\ucda9\\uccad\\ub0a8\\ub3c4\",\"\\ucda9\\uccad\\ub0a8\\ub3c4\",\"\\ucda9\\uccad\\ub0a8\\ub3c4\",\"\\ucda9\\uccad\\ub0a8\\ub3c4\",\"\\ucda9\\uccad\\ub0a8\\ub3c4\",\"\\ucda9\\uccad\\ub0a8\\ub3c4\",\"\\ucda9\\uccad\\ub0a8\\ub3c4\",\"\\ucda9\\uccad\\ub0a8\\ub3c4\",\"\\ucda9\\uccad\\ub0a8\\ub3c4\",\"\\ubd80\\uc0b0\\uad11\\uc5ed\\uc2dc\",\"\\ubd80\\uc0b0\\uad11\\uc5ed\\uc2dc\",\"\\ubd80\\uc0b0\\uad11\\uc5ed\\uc2dc\",\"\\uacbd\\uc0c1\\ub0a8\\ub3c4\",\"\\uacbd\\uc0c1\\ub0a8\\ub3c4\",\"\\uacbd\\uc0c1\\ub0a8\\ub3c4\",\"\\uacbd\\uc0c1\\ub0a8\\ub3c4\",\"\\uacbd\\uc0c1\\ub0a8\\ub3c4\",\"\\uacbd\\uc0c1\\ub0a8\\ub3c4\",\"\\uacbd\\uc0c1\\ub0a8\\ub3c4\",\"\\uacbd\\uc0c1\\ub0a8\\ub3c4\",\"\\uacbd\\uc0c1\\ub0a8\\ub3c4\",\"\\uacbd\\uc0c1\\ub0a8\\ub3c4\",\"\\uacbd\\uc0c1\\ub0a8\\ub3c4\",\"\\uacbd\\uc0c1\\ub0a8\\ub3c4\",\"\\uacbd\\uc0c1\\ub0a8\\ub3c4\",\"\\ub300\\uc804\\uad11\\uc5ed\\uc2dc\",\"\\ub300\\uc804\\uad11\\uc5ed\\uc2dc\",\"\\ub300\\uc804\\uad11\\uc5ed\\uc2dc\",\"\\ub300\\uc804\\uad11\\uc5ed\\uc2dc\",\"\\ub300\\uc804\\uad11\\uc5ed\\uc2dc\",\"\\ub300\\uc804\\uad11\\uc5ed\\uc2dc\",\"\\ub300\\uc804\\uad11\\uc5ed\\uc2dc\",\"\\ub300\\uc804\\uad11\\uc5ed\\uc2dc\",\"\\ub300\\uc804\\uad11\\uc5ed\\uc2dc\",\"\\ub300\\uc804\\uad11\\uc5ed\\uc2dc\",\"\\ub300\\uc804\\uad11\\uc5ed\\uc2dc\",\"\\ub300\\uc804\\uad11\\uc5ed\\uc2dc\",\"\\ub300\\uc804\\uad11\\uc5ed\\uc2dc\",\"\\ub300\\uc804\\uad11\\uc5ed\\uc2dc\",\"\\ub300\\uc804\\uad11\\uc5ed\\uc2dc\",\"\\ub300\\uc804\\uad11\\uc5ed\\uc2dc\",\"\\ub300\\uc804\\uad11\\uc5ed\\uc2dc\",\"\\ub300\\uc804\\uad11\\uc5ed\\uc2dc\",\"\\ub300\\uc804\\uad11\\uc5ed\\uc2dc\",\"\\ub300\\uc804\\uad11\\uc5ed\\uc2dc\",\"\\ub300\\uc804\\uad11\\uc5ed\\uc2dc\",\"\\ub300\\uc804\\uad11\\uc5ed\\uc2dc\",\"\\ub300\\uc804\\uad11\\uc5ed\\uc2dc\",\"\\ub300\\uc804\\uad11\\uc5ed\\uc2dc\",\"\\ub300\\uc804\\uad11\\uc5ed\\uc2dc\",\"\\ub300\\uc804\\uad11\\uc5ed\\uc2dc\",\"\\ub300\\uc804\\uad11\\uc5ed\\uc2dc\",\"\\ub300\\uc804\\uad11\\uc5ed\\uc2dc\",\"\\ub300\\uc804\\uad11\\uc5ed\\uc2dc\",\"\\ub300\\uc804\\uad11\\uc5ed\\uc2dc\",\"\\ub300\\uc804\\uad11\\uc5ed\\uc2dc\",\"\\ub300\\uc804\\uad11\\uc5ed\\uc2dc\",\"\\ub300\\uc804\\uad11\\uc5ed\\uc2dc\",\"\\ub300\\uc804\\uad11\\uc5ed\\uc2dc\",\"\\ub300\\uc804\\uad11\\uc5ed\\uc2dc\",\"\\ub300\\uc804\\uad11\\uc5ed\\uc2dc\",\"\\ub300\\uc804\\uad11\\uc5ed\\uc2dc\",\"\\ub300\\uc804\\uad11\\uc5ed\\uc2dc\",\"\\ub300\\uc804\\uad11\\uc5ed\\uc2dc\",\"\\ub300\\uc804\\uad11\\uc5ed\\uc2dc\",\"\\ub300\\uc804\\uad11\\uc5ed\\uc2dc\",\"\\ub300\\uc804\\uad11\\uc5ed\\uc2dc\",\"\\ub300\\uc804\\uad11\\uc5ed\\uc2dc\",\"\\ub300\\uc804\\uad11\\uc5ed\\uc2dc\",\"\\ub300\\uc804\\uad11\\uc5ed\\uc2dc\",\"\\ub300\\uc804\\uad11\\uc5ed\\uc2dc\",\"\\ub300\\uc804\\uad11\\uc5ed\\uc2dc\",\"\\ub300\\uc804\\uad11\\uc5ed\\uc2dc\",\"\\ub300\\uc804\\uad11\\uc5ed\\uc2dc\",\"\\ub300\\uc804\\uad11\\uc5ed\\uc2dc\",\"\\ub300\\uc804\\uad11\\uc5ed\\uc2dc\",\"\\ub300\\uc804\\uad11\\uc5ed\\uc2dc\",\"\\ub300\\uc804\\uad11\\uc5ed\\uc2dc\",\"\\ub300\\uc804\\uad11\\uc5ed\\uc2dc\",\"\\ub300\\uc804\\uad11\\uc5ed\\uc2dc\",\"\\ub300\\uc804\\uad11\\uc5ed\\uc2dc\",\"\\ub300\\uc804\\uad11\\uc5ed\\uc2dc\",\"\\ub300\\uc804\\uad11\\uc5ed\\uc2dc\",\"\\ub300\\uc804\\uad11\\uc5ed\\uc2dc\",\"\\ub300\\uc804\\uad11\\uc5ed\\uc2dc\",\"\\ub300\\uc804\\uad11\\uc5ed\\uc2dc\",\"\\ub300\\uc804\\uad11\\uc5ed\\uc2dc\",\"\\ub300\\uc804\\uad11\\uc5ed\\uc2dc\",\"\\ub300\\uc804\\uad11\\uc5ed\\uc2dc\",\"\\ub300\\uc804\\uad11\\uc5ed\\uc2dc\",\"\\ub300\\uc804\\uad11\\uc5ed\\uc2dc\",\"\\ub300\\uc804\\uad11\\uc5ed\\uc2dc\",\"\\ub300\\uc804\\uad11\\uc5ed\\uc2dc\",\"\\ub300\\uc804\\uad11\\uc5ed\\uc2dc\",\"\\ub300\\uc804\\uad11\\uc5ed\\uc2dc\",\"\\ub300\\uc804\\uad11\\uc5ed\\uc2dc\",\"\\ub300\\uc804\\uad11\\uc5ed\\uc2dc\",\"\\ub300\\uc804\\uad11\\uc5ed\\uc2dc\",\"\\ub300\\uc804\\uad11\\uc5ed\\uc2dc\",\"\\ub300\\uc804\\uad11\\uc5ed\\uc2dc\",\"\\ub300\\uc804\\uad11\\uc5ed\\uc2dc\",\"\\ub300\\uc804\\uad11\\uc5ed\\uc2dc\",\"\\ub300\\uc804\\uad11\\uc5ed\\uc2dc\",\"\\ub300\\uc804\\uad11\\uc5ed\\uc2dc\",\"\\ub300\\uc804\\uad11\\uc5ed\\uc2dc\",\"\\ub300\\uc804\\uad11\\uc5ed\\uc2dc\",\"\\ub300\\uc804\\uad11\\uc5ed\\uc2dc\",\"\\ub300\\uc804\\uad11\\uc5ed\\uc2dc\",\"\\ub300\\uc804\\uad11\\uc5ed\\uc2dc\",\"\\ub300\\uc804\\uad11\\uc5ed\\uc2dc\",\"\\ub300\\uc804\\uad11\\uc5ed\\uc2dc\",\"\\ub300\\uc804\\uad11\\uc5ed\\uc2dc\",\"\\ub300\\uc804\\uad11\\uc5ed\\uc2dc\",\"\\ub300\\uc804\\uad11\\uc5ed\\uc2dc\",\"\\ub300\\uc804\\uad11\\uc5ed\\uc2dc\",\"\\ub300\\uc804\\uad11\\uc5ed\\uc2dc\",\"\\ub300\\uc804\\uad11\\uc5ed\\uc2dc\",\"\\ub300\\uc804\\uad11\\uc5ed\\uc2dc\",\"\\ub300\\uc804\\uad11\\uc5ed\\uc2dc\",\"\\ub300\\uc804\\uad11\\uc5ed\\uc2dc\",\"\\ub300\\uc804\\uad11\\uc5ed\\uc2dc\",\"\\ub300\\uc804\\uad11\\uc5ed\\uc2dc\",\"\\ub300\\uc804\\uad11\\uc5ed\\uc2dc\",\"\\ub300\\uc804\\uad11\\uc5ed\\uc2dc\",\"\\ub300\\uc804\\uad11\\uc5ed\\uc2dc\",\"\\ub300\\uc804\\uad11\\uc5ed\\uc2dc\",\"\\ub300\\uc804\\uad11\\uc5ed\\uc2dc\",\"\\ub300\\uc804\\uad11\\uc5ed\\uc2dc\",\"\\ub300\\uc804\\uad11\\uc5ed\\uc2dc\",\"\\ub300\\uc804\\uad11\\uc5ed\\uc2dc\",\"\\ub300\\uc804\\uad11\\uc5ed\\uc2dc\",\"\\ub300\\uc804\\uad11\\uc5ed\\uc2dc\",\"\\ub300\\uc804\\uad11\\uc5ed\\uc2dc\",\"\\ub300\\uc804\\uad11\\uc5ed\\uc2dc\",\"\\ub300\\uc804\\uad11\\uc5ed\\uc2dc\",\"\\ub300\\uc804\\uad11\\uc5ed\\uc2dc\",\"\\ub300\\uc804\\uad11\\uc5ed\\uc2dc\",\"\\ub300\\uc804\\uad11\\uc5ed\\uc2dc\",\"\\ub300\\uc804\\uad11\\uc5ed\\uc2dc\",\"\\ub300\\uc804\\uad11\\uc5ed\\uc2dc\",\"\\ub300\\uc804\\uad11\\uc5ed\\uc2dc\",\"\\ub300\\uc804\\uad11\\uc5ed\\uc2dc\",\"\\ub300\\uc804\\uad11\\uc5ed\\uc2dc\",\"\\ub300\\uc804\\uad11\\uc5ed\\uc2dc\",\"\\ub300\\uc804\\uad11\\uc5ed\\uc2dc\",\"\\ub300\\uc804\\uad11\\uc5ed\\uc2dc\",\"\\ub300\\uc804\\uad11\\uc5ed\\uc2dc\",\"\\ub300\\uc804\\uad11\\uc5ed\\uc2dc\",\"\\ub300\\uc804\\uad11\\uc5ed\\uc2dc\",\"\\ub300\\uc804\\uad11\\uc5ed\\uc2dc\",\"\\ub300\\uc804\\uad11\\uc5ed\\uc2dc\",\"\\ub300\\uc804\\uad11\\uc5ed\\uc2dc\",\"\\ub300\\uc804\\uad11\\uc5ed\\uc2dc\",\"\\ub300\\uc804\\uad11\\uc5ed\\uc2dc\",\"\\ub300\\uc804\\uad11\\uc5ed\\uc2dc\",\"\\ub300\\uc804\\uad11\\uc5ed\\uc2dc\",\"\\ub300\\uc804\\uad11\\uc5ed\\uc2dc\",\"\\ub300\\uc804\\uad11\\uc5ed\\uc2dc\",\"\\ub300\\uc804\\uad11\\uc5ed\\uc2dc\",\"\\ub300\\uc804\\uad11\\uc5ed\\uc2dc\",\"\\ub300\\uc804\\uad11\\uc5ed\\uc2dc\",\"\\ub300\\uc804\\uad11\\uc5ed\\uc2dc\",\"\\ub300\\uc804\\uad11\\uc5ed\\uc2dc\",\"\\ub300\\uc804\\uad11\\uc5ed\\uc2dc\",\"\\ub300\\uc804\\uad11\\uc5ed\\uc2dc\",\"\\ub300\\uc804\\uad11\\uc5ed\\uc2dc\",\"\\ub300\\uc804\\uad11\\uc5ed\\uc2dc\",\"\\ub300\\uc804\\uad11\\uc5ed\\uc2dc\",\"\\ub300\\uc804\\uad11\\uc5ed\\uc2dc\",\"\\ub300\\uc804\\uad11\\uc5ed\\uc2dc\",\"\\ub300\\uc804\\uad11\\uc5ed\\uc2dc\",\"\\ub300\\uc804\\uad11\\uc5ed\\uc2dc\",\"\\ub300\\uc804\\uad11\\uc5ed\\uc2dc\",\"\\ub300\\uc804\\uad11\\uc5ed\\uc2dc\",\"\\ub300\\uc804\\uad11\\uc5ed\\uc2dc\",\"\\ub300\\uc804\\uad11\\uc5ed\\uc2dc\",\"\\ub300\\uc804\\uad11\\uc5ed\\uc2dc\",\"\\ub300\\uc804\\uad11\\uc5ed\\uc2dc\",\"\\ub300\\uc804\\uad11\\uc5ed\\uc2dc\",\"\\ub300\\uc804\\uad11\\uc5ed\\uc2dc\",\"\\ub300\\uc804\\uad11\\uc5ed\\uc2dc\",\"\\ub300\\uc804\\uad11\\uc5ed\\uc2dc\",\"\\uac15\\uc6d0\\ub3c4\",\"\\uac15\\uc6d0\\ub3c4\",\"\\uac15\\uc6d0\\ub3c4\",\"\\uac15\\uc6d0\\ub3c4\",\"\\uac15\\uc6d0\\ub3c4\",\"\\uac15\\uc6d0\\ub3c4\",\"\\uac15\\uc6d0\\ub3c4\",\"\\uac15\\uc6d0\\ub3c4\",\"\\uac15\\uc6d0\\ub3c4\",\"\\uac15\\uc6d0\\ub3c4\",\"\\uac15\\uc6d0\\ub3c4\",\"\\uacbd\\uc0c1\\ub0a8\\ub3c4\",\"\\uacbd\\uc0c1\\ub0a8\\ub3c4\",\"\\uacbd\\uc0c1\\ub0a8\\ub3c4\",\"\\uacbd\\uc0c1\\ub0a8\\ub3c4\",\"\\uacbd\\uc0c1\\ub0a8\\ub3c4\",\"\\uacbd\\uc0c1\\ub0a8\\ub3c4\",\"\\uacbd\\uc0c1\\ub0a8\\ub3c4\",\"\\uacbd\\uc0c1\\ub0a8\\ub3c4\",\"\\uacbd\\uc0c1\\ub0a8\\ub3c4\",\"\\uacbd\\uc0c1\\ub0a8\\ub3c4\",\"\\uacbd\\uc0c1\\ub0a8\\ub3c4\",\"\\uacbd\\uc0c1\\ub0a8\\ub3c4\",\"\\uacbd\\uc0c1\\ub0a8\\ub3c4\",\"\\uacbd\\uc0c1\\ub0a8\\ub3c4\",\"\\uacbd\\uc0c1\\ub0a8\\ub3c4\",\"\\uacbd\\uc0c1\\ub0a8\\ub3c4\",\"\\uacbd\\uc0c1\\ub0a8\\ub3c4\",\"\\uacbd\\uc0c1\\ub0a8\\ub3c4\",\"\\uacbd\\uc0c1\\ub0a8\\ub3c4\",\"\\uacbd\\uc0c1\\ub0a8\\ub3c4\",\"\\uacbd\\uc0c1\\ub0a8\\ub3c4\",\"\\uacbd\\uc0c1\\ub0a8\\ub3c4\",\"\\uacbd\\uc0c1\\ub0a8\\ub3c4\",\"\\uacbd\\uc0c1\\ub0a8\\ub3c4\",\"\\uacbd\\uc0c1\\ub0a8\\ub3c4\",\"\\uacbd\\uc0c1\\ub0a8\\ub3c4\",\"\\uacbd\\uc0c1\\ub0a8\\ub3c4\",\"\\uacbd\\uc0c1\\ub0a8\\ub3c4\",\"\\uacbd\\uc0c1\\ub0a8\\ub3c4\",\"\\uacbd\\uc0c1\\ub0a8\\ub3c4\",\"\\uacbd\\uc0c1\\ub0a8\\ub3c4\",\"\\uacbd\\uc0c1\\ub0a8\\ub3c4\",\"\\uacbd\\uc0c1\\ub0a8\\ub3c4\",\"\\uacbd\\uc0c1\\ub0a8\\ub3c4\",\"\\uacbd\\uc0c1\\ub0a8\\ub3c4\",\"\\ucda9\\uccad\\ub0a8\\ub3c4\",\"\\ucda9\\uccad\\ub0a8\\ub3c4\",\"\\ucda9\\uccad\\ub0a8\\ub3c4\",\"\\ucda9\\uccad\\ub0a8\\ub3c4\",\"\\ucda9\\uccad\\ub0a8\\ub3c4\",\"\\ucda9\\uccad\\ub0a8\\ub3c4\",\"\\ucda9\\uccad\\ub0a8\\ub3c4\",\"\\ucda9\\uccad\\ub0a8\\ub3c4\",\"\\ucda9\\uccad\\ub0a8\\ub3c4\",\"\\ucda9\\uccad\\ub0a8\\ub3c4\",\"\\ucda9\\uccad\\ub0a8\\ub3c4\",\"\\ucda9\\uccad\\ub0a8\\ub3c4\",\"\\ucda9\\uccad\\ub0a8\\ub3c4\",\"\\ucda9\\uccad\\ub0a8\\ub3c4\",\"\\ucda9\\uccad\\ub0a8\\ub3c4\",\"\\ucda9\\uccad\\ub0a8\\ub3c4\",\"\\ucda9\\uccad\\ub0a8\\ub3c4\",\"\\ucda9\\uccad\\ub0a8\\ub3c4\",\"\\ucda9\\uccad\\ub0a8\\ub3c4\",\"\\ucda9\\uccad\\ub0a8\\ub3c4\",\"\\ucda9\\uccad\\ub0a8\\ub3c4\",\"\\ubd80\\uc0b0\\uad11\\uc5ed\\uc2dc\",\"\\ubd80\\uc0b0\\uad11\\uc5ed\\uc2dc\",\"\\ubd80\\uc0b0\\uad11\\uc5ed\\uc2dc\",\"\\ubd80\\uc0b0\\uad11\\uc5ed\\uc2dc\",\"\\ubd80\\uc0b0\\uad11\\uc5ed\\uc2dc\",\"\\ubd80\\uc0b0\\uad11\\uc5ed\\uc2dc\",\"\\ubd80\\uc0b0\\uad11\\uc5ed\\uc2dc\",\"\\ubd80\\uc0b0\\uad11\\uc5ed\\uc2dc\",\"\\ubd80\\uc0b0\\uad11\\uc5ed\\uc2dc\",\"\\ubd80\\uc0b0\\uad11\\uc5ed\\uc2dc\",\"\\ubd80\\uc0b0\\uad11\\uc5ed\\uc2dc\",\"\\ubd80\\uc0b0\\uad11\\uc5ed\\uc2dc\",\"\\ubd80\\uc0b0\\uad11\\uc5ed\\uc2dc\",\"\\ubd80\\uc0b0\\uad11\\uc5ed\\uc2dc\",\"\\ubd80\\uc0b0\\uad11\\uc5ed\\uc2dc\",\"\\ubd80\\uc0b0\\uad11\\uc5ed\\uc2dc\",\"\\ubd80\\uc0b0\\uad11\\uc5ed\\uc2dc\",\"\\ubd80\\uc0b0\\uad11\\uc5ed\\uc2dc\",\"\\ubd80\\uc0b0\\uad11\\uc5ed\\uc2dc\",\"\\ubd80\\uc0b0\\uad11\\uc5ed\\uc2dc\",\"\\ubd80\\uc0b0\\uad11\\uc5ed\\uc2dc\",\"\\ubd80\\uc0b0\\uad11\\uc5ed\\uc2dc\",\"\\ubd80\\uc0b0\\uad11\\uc5ed\\uc2dc\",\"\\ubd80\\uc0b0\\uad11\\uc5ed\\uc2dc\",\"\\ubd80\\uc0b0\\uad11\\uc5ed\\uc2dc\",\"\\ubd80\\uc0b0\\uad11\\uc5ed\\uc2dc\",\"\\ubd80\\uc0b0\\uad11\\uc5ed\\uc2dc\",\"\\ubd80\\uc0b0\\uad11\\uc5ed\\uc2dc\",\"\\ubd80\\uc0b0\\uad11\\uc5ed\\uc2dc\",\"\\ubd80\\uc0b0\\uad11\\uc5ed\\uc2dc\",\"\\ubd80\\uc0b0\\uad11\\uc5ed\\uc2dc\",\"\\ubd80\\uc0b0\\uad11\\uc5ed\\uc2dc\",\"\\ubd80\\uc0b0\\uad11\\uc5ed\\uc2dc\",\"\\ubd80\\uc0b0\\uad11\\uc5ed\\uc2dc\",\"\\ubd80\\uc0b0\\uad11\\uc5ed\\uc2dc\",\"\\ubd80\\uc0b0\\uad11\\uc5ed\\uc2dc\",\"\\ubd80\\uc0b0\\uad11\\uc5ed\\uc2dc\",\"\\ubd80\\uc0b0\\uad11\\uc5ed\\uc2dc\",\"\\ubd80\\uc0b0\\uad11\\uc5ed\\uc2dc\",\"\\ubd80\\uc0b0\\uad11\\uc5ed\\uc2dc\",\"\\ubd80\\uc0b0\\uad11\\uc5ed\\uc2dc\",\"\\ubd80\\uc0b0\\uad11\\uc5ed\\uc2dc\",\"\\ubd80\\uc0b0\\uad11\\uc5ed\\uc2dc\",\"\\ubd80\\uc0b0\\uad11\\uc5ed\\uc2dc\",\"\\ubd80\\uc0b0\\uad11\\uc5ed\\uc2dc\",\"\\ubd80\\uc0b0\\uad11\\uc5ed\\uc2dc\",\"\\ubd80\\uc0b0\\uad11\\uc5ed\\uc2dc\",\"\\ubd80\\uc0b0\\uad11\\uc5ed\\uc2dc\",\"\\ubd80\\uc0b0\\uad11\\uc5ed\\uc2dc\",\"\\ubd80\\uc0b0\\uad11\\uc5ed\\uc2dc\",\"\\ubd80\\uc0b0\\uad11\\uc5ed\\uc2dc\",\"\\ubd80\\uc0b0\\uad11\\uc5ed\\uc2dc\",\"\\ubd80\\uc0b0\\uad11\\uc5ed\\uc2dc\",\"\\ubd80\\uc0b0\\uad11\\uc5ed\\uc2dc\",\"\\ubd80\\uc0b0\\uad11\\uc5ed\\uc2dc\",\"\\ubd80\\uc0b0\\uad11\\uc5ed\\uc2dc\",\"\\ubd80\\uc0b0\\uad11\\uc5ed\\uc2dc\",\"\\ubd80\\uc0b0\\uad11\\uc5ed\\uc2dc\",\"\\ubd80\\uc0b0\\uad11\\uc5ed\\uc2dc\",\"\\ubd80\\uc0b0\\uad11\\uc5ed\\uc2dc\",\"\\ubd80\\uc0b0\\uad11\\uc5ed\\uc2dc\",\"\\ubd80\\uc0b0\\uad11\\uc5ed\\uc2dc\",\"\\ubd80\\uc0b0\\uad11\\uc5ed\\uc2dc\",\"\\ubd80\\uc0b0\\uad11\\uc5ed\\uc2dc\",\"\\ubd80\\uc0b0\\uad11\\uc5ed\\uc2dc\",\"\\ubd80\\uc0b0\\uad11\\uc5ed\\uc2dc\",\"\\ubd80\\uc0b0\\uad11\\uc5ed\\uc2dc\",\"\\ubd80\\uc0b0\\uad11\\uc5ed\\uc2dc\",\"\\ubd80\\uc0b0\\uad11\\uc5ed\\uc2dc\",\"\\ubd80\\uc0b0\\uad11\\uc5ed\\uc2dc\",\"\\ubd80\\uc0b0\\uad11\\uc5ed\\uc2dc\",\"\\ubd80\\uc0b0\\uad11\\uc5ed\\uc2dc\",\"\\ubd80\\uc0b0\\uad11\\uc5ed\\uc2dc\",\"\\ubd80\\uc0b0\\uad11\\uc5ed\\uc2dc\",\"\\ubd80\\uc0b0\\uad11\\uc5ed\\uc2dc\",\"\\ubd80\\uc0b0\\uad11\\uc5ed\\uc2dc\",\"\\ubd80\\uc0b0\\uad11\\uc5ed\\uc2dc\",\"\\ubd80\\uc0b0\\uad11\\uc5ed\\uc2dc\",\"\\ubd80\\uc0b0\\uad11\\uc5ed\\uc2dc\",\"\\ubd80\\uc0b0\\uad11\\uc5ed\\uc2dc\",\"\\ubd80\\uc0b0\\uad11\\uc5ed\\uc2dc\",\"\\ubd80\\uc0b0\\uad11\\uc5ed\\uc2dc\",\"\\ubd80\\uc0b0\\uad11\\uc5ed\\uc2dc\",\"\\ubd80\\uc0b0\\uad11\\uc5ed\\uc2dc\",\"\\ubd80\\uc0b0\\uad11\\uc5ed\\uc2dc\",\"\\ubd80\\uc0b0\\uad11\\uc5ed\\uc2dc\",\"\\ubd80\\uc0b0\\uad11\\uc5ed\\uc2dc\",\"\\ubd80\\uc0b0\\uad11\\uc5ed\\uc2dc\",\"\\ubd80\\uc0b0\\uad11\\uc5ed\\uc2dc\",\"\\ubd80\\uc0b0\\uad11\\uc5ed\\uc2dc\",\"\\ubd80\\uc0b0\\uad11\\uc5ed\\uc2dc\",\"\\ubd80\\uc0b0\\uad11\\uc5ed\\uc2dc\",\"\\ubd80\\uc0b0\\uad11\\uc5ed\\uc2dc\",\"\\ubd80\\uc0b0\\uad11\\uc5ed\\uc2dc\",\"\\ubd80\\uc0b0\\uad11\\uc5ed\\uc2dc\",\"\\ubd80\\uc0b0\\uad11\\uc5ed\\uc2dc\",\"\\ubd80\\uc0b0\\uad11\\uc5ed\\uc2dc\",\"\\ubd80\\uc0b0\\uad11\\uc5ed\\uc2dc\",\"\\ubd80\\uc0b0\\uad11\\uc5ed\\uc2dc\",\"\\ubd80\\uc0b0\\uad11\\uc5ed\\uc2dc\",\"\\ubd80\\uc0b0\\uad11\\uc5ed\\uc2dc\",\"\\ubd80\\uc0b0\\uad11\\uc5ed\\uc2dc\",\"\\ubd80\\uc0b0\\uad11\\uc5ed\\uc2dc\",\"\\ubd80\\uc0b0\\uad11\\uc5ed\\uc2dc\",\"\\ubd80\\uc0b0\\uad11\\uc5ed\\uc2dc\",\"\\ubd80\\uc0b0\\uad11\\uc5ed\\uc2dc\",\"\\ubd80\\uc0b0\\uad11\\uc5ed\\uc2dc\",\"\\ubd80\\uc0b0\\uad11\\uc5ed\\uc2dc\",\"\\ubd80\\uc0b0\\uad11\\uc5ed\\uc2dc\",\"\\ubd80\\uc0b0\\uad11\\uc5ed\\uc2dc\",\"\\ubd80\\uc0b0\\uad11\\uc5ed\\uc2dc\",\"\\ubd80\\uc0b0\\uad11\\uc5ed\\uc2dc\",\"\\ubd80\\uc0b0\\uad11\\uc5ed\\uc2dc\",\"\\ubd80\\uc0b0\\uad11\\uc5ed\\uc2dc\",\"\\ubd80\\uc0b0\\uad11\\uc5ed\\uc2dc\",\"\\ubd80\\uc0b0\\uad11\\uc5ed\\uc2dc\",\"\\ubd80\\uc0b0\\uad11\\uc5ed\\uc2dc\",\"\\ubd80\\uc0b0\\uad11\\uc5ed\\uc2dc\",\"\\ubd80\\uc0b0\\uad11\\uc5ed\\uc2dc\",\"\\ubd80\\uc0b0\\uad11\\uc5ed\\uc2dc\",\"\\ubd80\\uc0b0\\uad11\\uc5ed\\uc2dc\",\"\\ubd80\\uc0b0\\uad11\\uc5ed\\uc2dc\",\"\\ubd80\\uc0b0\\uad11\\uc5ed\\uc2dc\",\"\\ubd80\\uc0b0\\uad11\\uc5ed\\uc2dc\",\"\\ubd80\\uc0b0\\uad11\\uc5ed\\uc2dc\",\"\\ubd80\\uc0b0\\uad11\\uc5ed\\uc2dc\",\"\\ubd80\\uc0b0\\uad11\\uc5ed\\uc2dc\",\"\\ubd80\\uc0b0\\uad11\\uc5ed\\uc2dc\",\"\\ubd80\\uc0b0\\uad11\\uc5ed\\uc2dc\",\"\\ubd80\\uc0b0\\uad11\\uc5ed\\uc2dc\",\"\\ubd80\\uc0b0\\uad11\\uc5ed\\uc2dc\",\"\\ubd80\\uc0b0\\uad11\\uc5ed\\uc2dc\",\"\\ubd80\\uc0b0\\uad11\\uc5ed\\uc2dc\",\"\\ubd80\\uc0b0\\uad11\\uc5ed\\uc2dc\",\"\\ubd80\\uc0b0\\uad11\\uc5ed\\uc2dc\",\"\\ubd80\\uc0b0\\uad11\\uc5ed\\uc2dc\",\"\\ubd80\\uc0b0\\uad11\\uc5ed\\uc2dc\",\"\\ubd80\\uc0b0\\uad11\\uc5ed\\uc2dc\",\"\\ubd80\\uc0b0\\uad11\\uc5ed\\uc2dc\",\"\\ubd80\\uc0b0\\uad11\\uc5ed\\uc2dc\",\"\\ubd80\\uc0b0\\uad11\\uc5ed\\uc2dc\",\"\\ubd80\\uc0b0\\uad11\\uc5ed\\uc2dc\",\"\\ubd80\\uc0b0\\uad11\\uc5ed\\uc2dc\",\"\\ubd80\\uc0b0\\uad11\\uc5ed\\uc2dc\",\"\\ubd80\\uc0b0\\uad11\\uc5ed\\uc2dc\",\"\\ubd80\\uc0b0\\uad11\\uc5ed\\uc2dc\",\"\\ubd80\\uc0b0\\uad11\\uc5ed\\uc2dc\",\"\\ubd80\\uc0b0\\uad11\\uc5ed\\uc2dc\",\"\\ubd80\\uc0b0\\uad11\\uc5ed\\uc2dc\",\"\\ubd80\\uc0b0\\uad11\\uc5ed\\uc2dc\",\"\\ubd80\\uc0b0\\uad11\\uc5ed\\uc2dc\",\"\\ubd80\\uc0b0\\uad11\\uc5ed\\uc2dc\",\"\\ubd80\\uc0b0\\uad11\\uc5ed\\uc2dc\",\"\\ubd80\\uc0b0\\uad11\\uc5ed\\uc2dc\",\"\\ubd80\\uc0b0\\uad11\\uc5ed\\uc2dc\",\"\\ubd80\\uc0b0\\uad11\\uc5ed\\uc2dc\",\"\\ubd80\\uc0b0\\uad11\\uc5ed\\uc2dc\",\"\\ubd80\\uc0b0\\uad11\\uc5ed\\uc2dc\",\"\\ubd80\\uc0b0\\uad11\\uc5ed\\uc2dc\",\"\\ubd80\\uc0b0\\uad11\\uc5ed\\uc2dc\",\"\\ubd80\\uc0b0\\uad11\\uc5ed\\uc2dc\",\"\\ubd80\\uc0b0\\uad11\\uc5ed\\uc2dc\",\"\\ubd80\\uc0b0\\uad11\\uc5ed\\uc2dc\",\"\\ubd80\\uc0b0\\uad11\\uc5ed\\uc2dc\",\"\\ubd80\\uc0b0\\uad11\\uc5ed\\uc2dc\",\"\\ubd80\\uc0b0\\uad11\\uc5ed\\uc2dc\",\"\\ubd80\\uc0b0\\uad11\\uc5ed\\uc2dc\",\"\\ubd80\\uc0b0\\uad11\\uc5ed\\uc2dc\",\"\\ubd80\\uc0b0\\uad11\\uc5ed\\uc2dc\",\"\\ubd80\\uc0b0\\uad11\\uc5ed\\uc2dc\",\"\\ubd80\\uc0b0\\uad11\\uc5ed\\uc2dc\",\"\\ubd80\\uc0b0\\uad11\\uc5ed\\uc2dc\",\"\\ubd80\\uc0b0\\uad11\\uc5ed\\uc2dc\",\"\\ubd80\\uc0b0\\uad11\\uc5ed\\uc2dc\",\"\\ubd80\\uc0b0\\uad11\\uc5ed\\uc2dc\",\"\\ubd80\\uc0b0\\uad11\\uc5ed\\uc2dc\",\"\\ubd80\\uc0b0\\uad11\\uc5ed\\uc2dc\",\"\\ubd80\\uc0b0\\uad11\\uc5ed\\uc2dc\",\"\\ubd80\\uc0b0\\uad11\\uc5ed\\uc2dc\",\"\\ubd80\\uc0b0\\uad11\\uc5ed\\uc2dc\",\"\\ubd80\\uc0b0\\uad11\\uc5ed\\uc2dc\",\"\\ubd80\\uc0b0\\uad11\\uc5ed\\uc2dc\",\"\\ubd80\\uc0b0\\uad11\\uc5ed\\uc2dc\",\"\\ubd80\\uc0b0\\uad11\\uc5ed\\uc2dc\",\"\\ubd80\\uc0b0\\uad11\\uc5ed\\uc2dc\",\"\\ubd80\\uc0b0\\uad11\\uc5ed\\uc2dc\",\"\\ubd80\\uc0b0\\uad11\\uc5ed\\uc2dc\",\"\\ubd80\\uc0b0\\uad11\\uc5ed\\uc2dc\",\"\\ubd80\\uc0b0\\uad11\\uc5ed\\uc2dc\",\"\\ubd80\\uc0b0\\uad11\\uc5ed\\uc2dc\",\"\\ubd80\\uc0b0\\uad11\\uc5ed\\uc2dc\",\"\\ubd80\\uc0b0\\uad11\\uc5ed\\uc2dc\",\"\\ubd80\\uc0b0\\uad11\\uc5ed\\uc2dc\",\"\\ubd80\\uc0b0\\uad11\\uc5ed\\uc2dc\",\"\\ubd80\\uc0b0\\uad11\\uc5ed\\uc2dc\",\"\\ubd80\\uc0b0\\uad11\\uc5ed\\uc2dc\",\"\\ubd80\\uc0b0\\uad11\\uc5ed\\uc2dc\",\"\\ubd80\\uc0b0\\uad11\\uc5ed\\uc2dc\",\"\\ubd80\\uc0b0\\uad11\\uc5ed\\uc2dc\",\"\\ubd80\\uc0b0\\uad11\\uc5ed\\uc2dc\",\"\\ubd80\\uc0b0\\uad11\\uc5ed\\uc2dc\",\"\\ubd80\\uc0b0\\uad11\\uc5ed\\uc2dc\",\"\\ubd80\\uc0b0\\uad11\\uc5ed\\uc2dc\",\"\\ubd80\\uc0b0\\uad11\\uc5ed\\uc2dc\",\"\\ubd80\\uc0b0\\uad11\\uc5ed\\uc2dc\",\"\\ubd80\\uc0b0\\uad11\\uc5ed\\uc2dc\",\"\\ubd80\\uc0b0\\uad11\\uc5ed\\uc2dc\",\"\\ubd80\\uc0b0\\uad11\\uc5ed\\uc2dc\",\"\\ubd80\\uc0b0\\uad11\\uc5ed\\uc2dc\",\"\\ubd80\\uc0b0\\uad11\\uc5ed\\uc2dc\",\"\\ubd80\\uc0b0\\uad11\\uc5ed\\uc2dc\",\"\\ubd80\\uc0b0\\uad11\\uc5ed\\uc2dc\",\"\\ubd80\\uc0b0\\uad11\\uc5ed\\uc2dc\",\"\\ubd80\\uc0b0\\uad11\\uc5ed\\uc2dc\",\"\\ubd80\\uc0b0\\uad11\\uc5ed\\uc2dc\",\"\\ubd80\\uc0b0\\uad11\\uc5ed\\uc2dc\",\"\\ubd80\\uc0b0\\uad11\\uc5ed\\uc2dc\",\"\\ubd80\\uc0b0\\uad11\\uc5ed\\uc2dc\",\"\\ubd80\\uc0b0\\uad11\\uc5ed\\uc2dc\",\"\\ubd80\\uc0b0\\uad11\\uc5ed\\uc2dc\",\"\\ubd80\\uc0b0\\uad11\\uc5ed\\uc2dc\",\"\\ubd80\\uc0b0\\uad11\\uc5ed\\uc2dc\",\"\\ubd80\\uc0b0\\uad11\\uc5ed\\uc2dc\",\"\\ubd80\\uc0b0\\uad11\\uc5ed\\uc2dc\",\"\\ubd80\\uc0b0\\uad11\\uc5ed\\uc2dc\",\"\\ubd80\\uc0b0\\uad11\\uc5ed\\uc2dc\",\"\\ubd80\\uc0b0\\uad11\\uc5ed\\uc2dc\",\"\\ubd80\\uc0b0\\uad11\\uc5ed\\uc2dc\",\"\\ubd80\\uc0b0\\uad11\\uc5ed\\uc2dc\",\"\\ubd80\\uc0b0\\uad11\\uc5ed\\uc2dc\",\"\\ubd80\\uc0b0\\uad11\\uc5ed\\uc2dc\",\"\\ubd80\\uc0b0\\uad11\\uc5ed\\uc2dc\",\"\\ubd80\\uc0b0\\uad11\\uc5ed\\uc2dc\",\"\\ubd80\\uc0b0\\uad11\\uc5ed\\uc2dc\",\"\\ubd80\\uc0b0\\uad11\\uc5ed\\uc2dc\",\"\\ubd80\\uc0b0\\uad11\\uc5ed\\uc2dc\",\"\\ubd80\\uc0b0\\uad11\\uc5ed\\uc2dc\",\"\\ubd80\\uc0b0\\uad11\\uc5ed\\uc2dc\",\"\\ubd80\\uc0b0\\uad11\\uc5ed\\uc2dc\",\"\\ubd80\\uc0b0\\uad11\\uc5ed\\uc2dc\",\"\\ubd80\\uc0b0\\uad11\\uc5ed\\uc2dc\",\"\\ubd80\\uc0b0\\uad11\\uc5ed\\uc2dc\",\"\\ubd80\\uc0b0\\uad11\\uc5ed\\uc2dc\",\"\\ubd80\\uc0b0\\uad11\\uc5ed\\uc2dc\",\"\\ubd80\\uc0b0\\uad11\\uc5ed\\uc2dc\",\"\\ubd80\\uc0b0\\uad11\\uc5ed\\uc2dc\",\"\\ubd80\\uc0b0\\uad11\\uc5ed\\uc2dc\",\"\\ubd80\\uc0b0\\uad11\\uc5ed\\uc2dc\",\"\\ubd80\\uc0b0\\uad11\\uc5ed\\uc2dc\",\"\\ubd80\\uc0b0\\uad11\\uc5ed\\uc2dc\",\"\\ubd80\\uc0b0\\uad11\\uc5ed\\uc2dc\",\"\\ubd80\\uc0b0\\uad11\\uc5ed\\uc2dc\",\"\\ucda9\\uccad\\ub0a8\\ub3c4\",\"\\ucda9\\uccad\\ub0a8\\ub3c4\",\"\\uacbd\\uc0c1\\ub0a8\\ub3c4\",\"\\uacbd\\uc0c1\\ub0a8\\ub3c4\",\"\\uacbd\\uc0c1\\ub0a8\\ub3c4\",\"\\uacbd\\uc0c1\\ub0a8\\ub3c4\",\"\\uacbd\\uc0c1\\ub0a8\\ub3c4\",\"\\uacbd\\uc0c1\\ub0a8\\ub3c4\",\"\\uc81c\\uc8fc\\ud2b9\\ubcc4\\uc790\\uce58\\ub3c4\",\"\\uc81c\\uc8fc\\ud2b9\\ubcc4\\uc790\\uce58\\ub3c4\",\"\\uc81c\\uc8fc\\ud2b9\\ubcc4\\uc790\\uce58\\ub3c4\",\"\\uc81c\\uc8fc\\ud2b9\\ubcc4\\uc790\\uce58\\ub3c4\",\"\\uc81c\\uc8fc\\ud2b9\\ubcc4\\uc790\\uce58\\ub3c4\",\"\\uc81c\\uc8fc\\ud2b9\\ubcc4\\uc790\\uce58\\ub3c4\",\"\\uc81c\\uc8fc\\ud2b9\\ubcc4\\uc790\\uce58\\ub3c4\",\"\\uc81c\\uc8fc\\ud2b9\\ubcc4\\uc790\\uce58\\ub3c4\",\"\\uc81c\\uc8fc\\ud2b9\\ubcc4\\uc790\\uce58\\ub3c4\",\"\\uc81c\\uc8fc\\ud2b9\\ubcc4\\uc790\\uce58\\ub3c4\",\"\\uc81c\\uc8fc\\ud2b9\\ubcc4\\uc790\\uce58\\ub3c4\",\"\\uc81c\\uc8fc\\ud2b9\\ubcc4\\uc790\\uce58\\ub3c4\",\"\\ucda9\\uccad\\ub0a8\\ub3c4\",\"\\ucda9\\uccad\\ub0a8\\ub3c4\",\"\\ucda9\\uccad\\ub0a8\\ub3c4\",\"\\ucda9\\uccad\\ub0a8\\ub3c4\",\"\\ucda9\\uccad\\ub0a8\\ub3c4\",\"\\ucda9\\uccad\\ub0a8\\ub3c4\",\"\\ucda9\\uccad\\ub0a8\\ub3c4\",\"\\uac15\\uc6d0\\ub3c4\",\"\\uac15\\uc6d0\\ub3c4\",\"\\uac15\\uc6d0\\ub3c4\",\"\\uac15\\uc6d0\\ub3c4\",\"\\uac15\\uc6d0\\ub3c4\",\"\\uac15\\uc6d0\\ub3c4\",\"\\uac15\\uc6d0\\ub3c4\",\"\\uac15\\uc6d0\\ub3c4\",\"\\uac15\\uc6d0\\ub3c4\",\"\\uac15\\uc6d0\\ub3c4\",\"\\uac15\\uc6d0\\ub3c4\",\"\\uac15\\uc6d0\\ub3c4\",\"\\uc6b8\\uc0b0\\uad11\\uc5ed\\uc2dc\",\"\\uc6b8\\uc0b0\\uad11\\uc5ed\\uc2dc\",\"\\uc6b8\\uc0b0\\uad11\\uc5ed\\uc2dc\",\"\\uc6b8\\uc0b0\\uad11\\uc5ed\\uc2dc\",\"\\uc6b8\\uc0b0\\uad11\\uc5ed\\uc2dc\",\"\\uac15\\uc6d0\\ub3c4\",\"\\uac15\\uc6d0\\ub3c4\",\"\\uac15\\uc6d0\\ub3c4\",\"\\uac15\\uc6d0\\ub3c4\",\"\\ubd80\\uc0b0\\uad11\\uc5ed\\uc2dc\",\"\\ubd80\\uc0b0\\uad11\\uc5ed\\uc2dc\",\"\\ubd80\\uc0b0\\uad11\\uc5ed\\uc2dc\",\"\\ubd80\\uc0b0\\uad11\\uc5ed\\uc2dc\",\"\\uc81c\\uc8fc\\ud2b9\\ubcc4\\uc790\\uce58\\ub3c4\",\"\\uc81c\\uc8fc\\ud2b9\\ubcc4\\uc790\\uce58\\ub3c4\",\"\\uc81c\\uc8fc\\ud2b9\\ubcc4\\uc790\\uce58\\ub3c4\",\"\\uc81c\\uc8fc\\ud2b9\\ubcc4\\uc790\\uce58\\ub3c4\",\"\\uc81c\\uc8fc\\ud2b9\\ubcc4\\uc790\\uce58\\ub3c4\",\"\\uc81c\\uc8fc\\ud2b9\\ubcc4\\uc790\\uce58\\ub3c4\",\"\\uc81c\\uc8fc\\ud2b9\\ubcc4\\uc790\\uce58\\ub3c4\",\"\\uc81c\\uc8fc\\ud2b9\\ubcc4\\uc790\\uce58\\ub3c4\",\"\\uc81c\\uc8fc\\ud2b9\\ubcc4\\uc790\\uce58\\ub3c4\",\"\\uc81c\\uc8fc\\ud2b9\\ubcc4\\uc790\\uce58\\ub3c4\",\"\\uc81c\\uc8fc\\ud2b9\\ubcc4\\uc790\\uce58\\ub3c4\",\"\\uc81c\\uc8fc\\ud2b9\\ubcc4\\uc790\\uce58\\ub3c4\",\"\\uc81c\\uc8fc\\ud2b9\\ubcc4\\uc790\\uce58\\ub3c4\",\"\\uc81c\\uc8fc\\ud2b9\\ubcc4\\uc790\\uce58\\ub3c4\",\"\\uc81c\\uc8fc\\ud2b9\\ubcc4\\uc790\\uce58\\ub3c4\",\"\\uc81c\\uc8fc\\ud2b9\\ubcc4\\uc790\\uce58\\ub3c4\",\"\\uc81c\\uc8fc\\ud2b9\\ubcc4\\uc790\\uce58\\ub3c4\",\"\\uc81c\\uc8fc\\ud2b9\\ubcc4\\uc790\\uce58\\ub3c4\",\"\\uc81c\\uc8fc\\ud2b9\\ubcc4\\uc790\\uce58\\ub3c4\",\"\\uc81c\\uc8fc\\ud2b9\\ubcc4\\uc790\\uce58\\ub3c4\",\"\\uc81c\\uc8fc\\ud2b9\\ubcc4\\uc790\\uce58\\ub3c4\",\"\\uc81c\\uc8fc\\ud2b9\\ubcc4\\uc790\\uce58\\ub3c4\",\"\\uc81c\\uc8fc\\ud2b9\\ubcc4\\uc790\\uce58\\ub3c4\",\"\\uc81c\\uc8fc\\ud2b9\\ubcc4\\uc790\\uce58\\ub3c4\",\"\\uc81c\\uc8fc\\ud2b9\\ubcc4\\uc790\\uce58\\ub3c4\",\"\\uc81c\\uc8fc\\ud2b9\\ubcc4\\uc790\\uce58\\ub3c4\",\"\\uc81c\\uc8fc\\ud2b9\\ubcc4\\uc790\\uce58\\ub3c4\",\"\\uacbd\\uc0c1\\ub0a8\\ub3c4\",\"\\uacbd\\uc0c1\\ub0a8\\ub3c4\",\"\\uacbd\\uc0c1\\ub0a8\\ub3c4\",\"\\uacbd\\uc0c1\\ub0a8\\ub3c4\",\"\\uacbd\\uc0c1\\ub0a8\\ub3c4\",\"\\uacbd\\uc0c1\\ub0a8\\ub3c4\",\"\\uacbd\\uc0c1\\ub0a8\\ub3c4\",\"\\uacbd\\uc0c1\\ub0a8\\ub3c4\",\"\\uacbd\\uc0c1\\ub0a8\\ub3c4\",\"\\uacbd\\uc0c1\\ub0a8\\ub3c4\",\"\\uacbd\\uc0c1\\ub0a8\\ub3c4\",\"\\uacbd\\uc0c1\\ub0a8\\ub3c4\",\"\\uacbd\\uc0c1\\ub0a8\\ub3c4\",\"\\uacbd\\uc0c1\\ub0a8\\ub3c4\",\"\\uacbd\\uc0c1\\ub0a8\\ub3c4\",\"\\uacbd\\uc0c1\\ub0a8\\ub3c4\",\"\\uacbd\\uc0c1\\ub0a8\\ub3c4\",\"\\uacbd\\uc0c1\\ub0a8\\ub3c4\",\"\\uacbd\\uc0c1\\ub0a8\\ub3c4\",\"\\uacbd\\uc0c1\\ub0a8\\ub3c4\",\"\\uacbd\\uc0c1\\ub0a8\\ub3c4\",\"\\uacbd\\uc0c1\\ub0a8\\ub3c4\",\"\\uacbd\\uc0c1\\ub0a8\\ub3c4\",\"\\uacbd\\uc0c1\\ub0a8\\ub3c4\",\"\\uacbd\\uc0c1\\ub0a8\\ub3c4\",\"\\uacbd\\uc0c1\\ub0a8\\ub3c4\",\"\\uacbd\\uc0c1\\ub0a8\\ub3c4\",\"\\uacbd\\uc0c1\\ub0a8\\ub3c4\",\"\\uacbd\\uc0c1\\ub0a8\\ub3c4\",\"\\uacbd\\uc0c1\\ub0a8\\ub3c4\",\"\\uacbd\\uc0c1\\ub0a8\\ub3c4\",\"\\uacbd\\uc0c1\\ub0a8\\ub3c4\",\"\\uacbd\\uc0c1\\ub0a8\\ub3c4\",\"\\uacbd\\uc0c1\\ub0a8\\ub3c4\",\"\\uacbd\\uc0c1\\ub0a8\\ub3c4\",\"\\uacbd\\uc0c1\\ub0a8\\ub3c4\",\"\\uacbd\\uc0c1\\ub0a8\\ub3c4\",\"\\uacbd\\uc0c1\\ub0a8\\ub3c4\",\"\\uacbd\\uc0c1\\ub0a8\\ub3c4\",\"\\uacbd\\uc0c1\\ub0a8\\ub3c4\",\"\\uacbd\\uc0c1\\ub0a8\\ub3c4\",\"\\uacbd\\uc0c1\\ub0a8\\ub3c4\",\"\\uacbd\\uc0c1\\ub0a8\\ub3c4\",\"\\uacbd\\uc0c1\\ub0a8\\ub3c4\",\"\\uacbd\\uc0c1\\ub0a8\\ub3c4\",\"\\uacbd\\uc0c1\\ub0a8\\ub3c4\",\"\\uacbd\\uc0c1\\ub0a8\\ub3c4\",\"\\uacbd\\uc0c1\\ub0a8\\ub3c4\",\"\\uacbd\\uc0c1\\ub0a8\\ub3c4\",\"\\uacbd\\uc0c1\\ub0a8\\ub3c4\",\"\\uacbd\\uc0c1\\ub0a8\\ub3c4\",\"\\uacbd\\uc0c1\\ub0a8\\ub3c4\",\"\\uacbd\\uc0c1\\ub0a8\\ub3c4\",\"\\uacbd\\uc0c1\\ub0a8\\ub3c4\",\"\\uacbd\\uc0c1\\ub0a8\\ub3c4\",\"\\uacbd\\uc0c1\\ub0a8\\ub3c4\",\"\\uacbd\\uc0c1\\ub0a8\\ub3c4\",\"\\uacbd\\uc0c1\\ub0a8\\ub3c4\",\"\\uacbd\\uc0c1\\ub0a8\\ub3c4\",\"\\uacbd\\uc0c1\\ub0a8\\ub3c4\",\"\\uacbd\\uc0c1\\ub0a8\\ub3c4\",\"\\uacbd\\uc0c1\\ub0a8\\ub3c4\",\"\\ucda9\\uccad\\ub0a8\\ub3c4\",\"\\ucda9\\uccad\\ub0a8\\ub3c4\",\"\\ucda9\\uccad\\ub0a8\\ub3c4\",\"\\ucda9\\uccad\\ub0a8\\ub3c4\",\"\\ucda9\\uccad\\ub0a8\\ub3c4\",\"\\ucda9\\uccad\\ub0a8\\ub3c4\",\"\\ucda9\\uccad\\ub0a8\\ub3c4\",\"\\ucda9\\uccad\\ub0a8\\ub3c4\",\"\\ucda9\\uccad\\ub0a8\\ub3c4\",\"\\ucda9\\uccad\\ub0a8\\ub3c4\",\"\\ucda9\\uccad\\ub0a8\\ub3c4\",\"\\ucda9\\uccad\\ub0a8\\ub3c4\",\"\\ucda9\\uccad\\ub0a8\\ub3c4\",\"\\ucda9\\uccad\\ub0a8\\ub3c4\",\"\\ucda9\\uccad\\ub0a8\\ub3c4\",\"\\ucda9\\uccad\\ub0a8\\ub3c4\",\"\\ucda9\\uccad\\ub0a8\\ub3c4\",\"\\ucda9\\uccad\\ub0a8\\ub3c4\",\"\\ucda9\\uccad\\ub0a8\\ub3c4\",\"\\ucda9\\uccad\\ub0a8\\ub3c4\",\"\\ucda9\\uccad\\ub0a8\\ub3c4\",\"\\ucda9\\uccad\\ub0a8\\ub3c4\",\"\\ucda9\\uccad\\ub0a8\\ub3c4\",\"\\ucda9\\uccad\\ub0a8\\ub3c4\",\"\\ucda9\\uccad\\ub0a8\\ub3c4\",\"\\ucda9\\uccad\\ub0a8\\ub3c4\",\"\\ucda9\\uccad\\ub0a8\\ub3c4\",\"\\ucda9\\uccad\\ub0a8\\ub3c4\",\"\\ucda9\\uccad\\ub0a8\\ub3c4\",\"\\ucda9\\uccad\\ub0a8\\ub3c4\",\"\\ucda9\\uccad\\ub0a8\\ub3c4\",\"\\ucda9\\uccad\\ub0a8\\ub3c4\",\"\\ucda9\\uccad\\ub0a8\\ub3c4\",\"\\ucda9\\uccad\\ub0a8\\ub3c4\",\"\\ucda9\\uccad\\ub0a8\\ub3c4\",\"\\ucda9\\uccad\\ub0a8\\ub3c4\",\"\\ucda9\\uccad\\ub0a8\\ub3c4\",\"\\ucda9\\uccad\\ub0a8\\ub3c4\",\"\\ucda9\\uccad\\ub0a8\\ub3c4\",\"\\ucda9\\uccad\\ub0a8\\ub3c4\",\"\\ucda9\\uccad\\ub0a8\\ub3c4\",\"\\ucda9\\uccad\\ub0a8\\ub3c4\",\"\\ucda9\\uccad\\ub0a8\\ub3c4\",\"\\ucda9\\uccad\\ub0a8\\ub3c4\",\"\\ucda9\\uccad\\ub0a8\\ub3c4\",\"\\ucda9\\uccad\\ub0a8\\ub3c4\",\"\\ucda9\\uccad\\ub0a8\\ub3c4\",\"\\uac15\\uc6d0\\ub3c4\",\"\\uac15\\uc6d0\\ub3c4\",\"\\uac15\\uc6d0\\ub3c4\",\"\\uac15\\uc6d0\\ub3c4\",\"\\uac15\\uc6d0\\ub3c4\",\"\\uac15\\uc6d0\\ub3c4\",\"\\uac15\\uc6d0\\ub3c4\",\"\\uac15\\uc6d0\\ub3c4\",\"\\uac15\\uc6d0\\ub3c4\",\"\\uac15\\uc6d0\\ub3c4\",\"\\uac15\\uc6d0\\ub3c4\",\"\\uac15\\uc6d0\\ub3c4\",\"\\uac15\\uc6d0\\ub3c4\",\"\\uac15\\uc6d0\\ub3c4\",\"\\uac15\\uc6d0\\ub3c4\",\"\\uac15\\uc6d0\\ub3c4\",\"\\uac15\\uc6d0\\ub3c4\",\"\\uacbd\\uc0c1\\ub0a8\\ub3c4\",\"\\uacbd\\uc0c1\\ub0a8\\ub3c4\",\"\\uacbd\\uc0c1\\ub0a8\\ub3c4\",\"\\uacbd\\uc0c1\\ub0a8\\ub3c4\",\"\\uacbd\\uc0c1\\ub0a8\\ub3c4\",\"\\uacbd\\uc0c1\\ub0a8\\ub3c4\",\"\\uacbd\\uc0c1\\ub0a8\\ub3c4\",\"\\uacbd\\uc0c1\\ub0a8\\ub3c4\",\"\\uacbd\\uc0c1\\ub0a8\\ub3c4\",\"\\uacbd\\uc0c1\\ub0a8\\ub3c4\",\"\\uacbd\\uc0c1\\ub0a8\\ub3c4\",\"\\uacbd\\uc0c1\\ub0a8\\ub3c4\",\"\\uacbd\\uc0c1\\ub0a8\\ub3c4\",\"\\uacbd\\uc0c1\\ub0a8\\ub3c4\",\"\\ucda9\\uccad\\ub0a8\\ub3c4\",\"\\ucda9\\uccad\\ub0a8\\ub3c4\",\"\\ucda9\\uccad\\ub0a8\\ub3c4\",\"\\uc81c\\uc8fc\\ud2b9\\ubcc4\\uc790\\uce58\\ub3c4\",\"\\uc81c\\uc8fc\\ud2b9\\ubcc4\\uc790\\uce58\\ub3c4\",\"\\uc81c\\uc8fc\\ud2b9\\ubcc4\\uc790\\uce58\\ub3c4\",\"\\uc81c\\uc8fc\\ud2b9\\ubcc4\\uc790\\uce58\\ub3c4\",\"\\uc81c\\uc8fc\\ud2b9\\ubcc4\\uc790\\uce58\\ub3c4\",\"\\uc81c\\uc8fc\\ud2b9\\ubcc4\\uc790\\uce58\\ub3c4\",\"\\uc81c\\uc8fc\\ud2b9\\ubcc4\\uc790\\uce58\\ub3c4\",\"\\ucda9\\uccad\\ubd81\\ub3c4\",\"\\ucda9\\uccad\\ubd81\\ub3c4\",\"\\ucda9\\uccad\\ubd81\\ub3c4\",\"\\ucda9\\uccad\\ubd81\\ub3c4\",\"\\ucda9\\uccad\\ubd81\\ub3c4\",\"\\ucda9\\uccad\\ubd81\\ub3c4\",\"\\uc804\\ub77c\\ub0a8\\ub3c4\",\"\\uc804\\ub77c\\ub0a8\\ub3c4\",\"\\uc804\\ub77c\\ub0a8\\ub3c4\",\"\\uc804\\ub77c\\ub0a8\\ub3c4\",\"\\uc804\\ub77c\\ub0a8\\ub3c4\",\"\\uc804\\ub77c\\ub0a8\\ub3c4\",\"\\uc804\\ub77c\\ub0a8\\ub3c4\",\"\\uc804\\ub77c\\ub0a8\\ub3c4\",\"\\uc804\\ub77c\\ub0a8\\ub3c4\",\"\\uc804\\ub77c\\ub0a8\\ub3c4\",\"\\uc804\\ub77c\\ub0a8\\ub3c4\",\"\\uc804\\ub77c\\ub0a8\\ub3c4\",\"\\uc804\\ub77c\\ub0a8\\ub3c4\",\"\\uc804\\ub77c\\ub0a8\\ub3c4\",\"\\uc804\\ub77c\\ub0a8\\ub3c4\",\"\\uc804\\ub77c\\ub0a8\\ub3c4\",\"\\ucda9\\uccad\\ubd81\\ub3c4\",\"\\ucda9\\uccad\\ubd81\\ub3c4\",\"\\ucda9\\uccad\\ubd81\\ub3c4\",\"\\ucda9\\uccad\\ubd81\\ub3c4\",\"\\uacbd\\uc0c1\\ubd81\\ub3c4\",\"\\uacbd\\uc0c1\\ubd81\\ub3c4\",\"\\uacbd\\uc0c1\\ubd81\\ub3c4\",\"\\uacbd\\uc0c1\\ubd81\\ub3c4\",\"\\uacbd\\uc0c1\\ubd81\\ub3c4\",\"\\uacbd\\uc0c1\\ubd81\\ub3c4\",\"\\uacbd\\uc0c1\\ubd81\\ub3c4\",\"\\uacbd\\uc0c1\\ubd81\\ub3c4\",\"\\uc804\\ub77c\\ubd81\\ub3c4\",\"\\uc804\\ub77c\\ubd81\\ub3c4\",\"\\uc804\\ub77c\\ubd81\\ub3c4\",\"\\uacbd\\uae30\\ub3c4\",\"\\uacbd\\uae30\\ub3c4\",\"\\uacbd\\uae30\\ub3c4\",\"\\uacbd\\uae30\\ub3c4\",\"\\uacbd\\uae30\\ub3c4\",\"\\uacbd\\uae30\\ub3c4\",\"\\uacbd\\uae30\\ub3c4\",\"\\uacbd\\uae30\\ub3c4\",\"\\uacbd\\uae30\\ub3c4\",\"\\uacbd\\uae30\\ub3c4\",\"\\uacbd\\uae30\\ub3c4\",\"\\uacbd\\uae30\\ub3c4\",\"\\uacbd\\uae30\\ub3c4\",\"\\uacbd\\uae30\\ub3c4\",\"\\uacbd\\uae30\\ub3c4\",\"\\uacbd\\uae30\\ub3c4\",\"\\uacbd\\uae30\\ub3c4\",\"\\uacbd\\uae30\\ub3c4\",\"\\uacbd\\uae30\\ub3c4\",\"\\uc804\\ub77c\\ubd81\\ub3c4\",\"\\uc804\\ub77c\\ubd81\\ub3c4\",\"\\uc804\\ub77c\\ubd81\\ub3c4\",\"\\uc804\\ub77c\\ubd81\\ub3c4\",\"\\uc804\\ub77c\\ubd81\\ub3c4\",\"\\uc804\\ub77c\\ubd81\\ub3c4\",\"\\uc804\\ub77c\\ubd81\\ub3c4\",\"\\uac15\\uc6d0\\ub3c4\",\"\\uac15\\uc6d0\\ub3c4\",\"\\uac15\\uc6d0\\ub3c4\",\"\\uac15\\uc6d0\\ub3c4\",\"\\uac15\\uc6d0\\ub3c4\",\"\\uac15\\uc6d0\\ub3c4\",\"\\uac15\\uc6d0\\ub3c4\",\"\\uacbd\\uc0c1\\ub0a8\\ub3c4\",\"\\uacbd\\uc0c1\\ub0a8\\ub3c4\",\"\\uacbd\\uc0c1\\ub0a8\\ub3c4\",\"\\uacbd\\uc0c1\\ub0a8\\ub3c4\",\"\\uacbd\\uc0c1\\ub0a8\\ub3c4\",\"\\uacbd\\uc0c1\\ub0a8\\ub3c4\",\"\\ucda9\\uccad\\ubd81\\ub3c4\",\"\\ucda9\\uccad\\ubd81\\ub3c4\",\"\\ucda9\\uccad\\ubd81\\ub3c4\",\"\\ucda9\\uccad\\ubd81\\ub3c4\",\"\\ucda9\\uccad\\ubd81\\ub3c4\",\"\\ubd80\\uc0b0\\uad11\\uc5ed\\uc2dc\",\"\\ubd80\\uc0b0\\uad11\\uc5ed\\uc2dc\",\"\\ubd80\\uc0b0\\uad11\\uc5ed\\uc2dc\",\"\\ubd80\\uc0b0\\uad11\\uc5ed\\uc2dc\",\"\\ubd80\\uc0b0\\uad11\\uc5ed\\uc2dc\",\"\\ubd80\\uc0b0\\uad11\\uc5ed\\uc2dc\",\"\\ubd80\\uc0b0\\uad11\\uc5ed\\uc2dc\",\"\\ubd80\\uc0b0\\uad11\\uc5ed\\uc2dc\",\"\\uad11\\uc8fc\\uad11\\uc5ed\\uc2dc\",\"\\uad11\\uc8fc\\uad11\\uc5ed\\uc2dc\",\"\\uad11\\uc8fc\\uad11\\uc5ed\\uc2dc\",\"\\uad11\\uc8fc\\uad11\\uc5ed\\uc2dc\",\"\\uad11\\uc8fc\\uad11\\uc5ed\\uc2dc\",\"\\uad11\\uc8fc\\uad11\\uc5ed\\uc2dc\",\"\\uad11\\uc8fc\\uad11\\uc5ed\\uc2dc\",\"\\uad11\\uc8fc\\uad11\\uc5ed\\uc2dc\",\"\\uad11\\uc8fc\\uad11\\uc5ed\\uc2dc\",\"\\uad11\\uc8fc\\uad11\\uc5ed\\uc2dc\",\"\\uacbd\\uc0c1\\ub0a8\\ub3c4\",\"\\uacbd\\uc0c1\\ub0a8\\ub3c4\",\"\\uacbd\\uc0c1\\ub0a8\\ub3c4\",\"\\uacbd\\uc0c1\\ub0a8\\ub3c4\",\"\\uacbd\\uc0c1\\ub0a8\\ub3c4\",\"\\uacbd\\uc0c1\\ub0a8\\ub3c4\",\"\\uacbd\\uc0c1\\ub0a8\\ub3c4\",\"\\uacbd\\uc0c1\\ubd81\\ub3c4\",\"\\uacbd\\uc0c1\\ubd81\\ub3c4\",\"\\uacbd\\uc0c1\\ubd81\\ub3c4\",\"\\uacbd\\uc0c1\\ubd81\\ub3c4\",\"\\uacbd\\uc0c1\\ubd81\\ub3c4\",\"\\uacbd\\uc0c1\\ubd81\\ub3c4\",\"\\uacbd\\uc0c1\\ubd81\\ub3c4\",\"\\uc804\\ub77c\\ub0a8\\ub3c4\",\"\\uc804\\ub77c\\ub0a8\\ub3c4\",\"\\uc804\\ub77c\\ub0a8\\ub3c4\",\"\\uc804\\ub77c\\ub0a8\\ub3c4\",\"\\uc804\\ub77c\\ub0a8\\ub3c4\",\"\\uc804\\ub77c\\ub0a8\\ub3c4\",\"\\uc804\\ub77c\\ub0a8\\ub3c4\",\"\\uacbd\\uae30\\ub3c4\",\"\\uacbd\\uae30\\ub3c4\",\"\\uacbd\\uae30\\ub3c4\",\"\\uacbd\\uae30\\ub3c4\",\"\\uacbd\\uae30\\ub3c4\",\"\\uacbd\\uae30\\ub3c4\",\"\\uacbd\\uae30\\ub3c4\",\"\\uacbd\\uae30\\ub3c4\",\"\\uacbd\\uae30\\ub3c4\",\"\\uacbd\\uae30\\ub3c4\",\"\\uac15\\uc6d0\\ub3c4\",\"\\uac15\\uc6d0\\ub3c4\",\"\\uacbd\\uc0c1\\ub0a8\\ub3c4\",\"\\uacbd\\uc0c1\\ub0a8\\ub3c4\",\"\\uacbd\\uc0c1\\ub0a8\\ub3c4\",\"\\uacbd\\uc0c1\\ub0a8\\ub3c4\",\"\\uacbd\\uc0c1\\ub0a8\\ub3c4\",\"\\uacbd\\uc0c1\\ub0a8\\ub3c4\",\"\\uacbd\\uc0c1\\ubd81\\ub3c4\",\"\\uacbd\\uc0c1\\ubd81\\ub3c4\",\"\\uacbd\\uc0c1\\ubd81\\ub3c4\",\"\\uacbd\\uc0c1\\ubd81\\ub3c4\",\"\\uacbd\\uc0c1\\ubd81\\ub3c4\",\"\\uacbd\\uc0c1\\ubd81\\ub3c4\",\"\\uacbd\\uc0c1\\ubd81\\ub3c4\",\"\\uacbd\\uc0c1\\ubd81\\ub3c4\",\"\\uacbd\\uc0c1\\ubd81\\ub3c4\",\"\\uacbd\\uc0c1\\ubd81\\ub3c4\",\"\\uacbd\\uc0c1\\ubd81\\ub3c4\",\"\\uacbd\\uc0c1\\ubd81\\ub3c4\",\"\\uacbd\\uc0c1\\ubd81\\ub3c4\",\"\\uacbd\\uc0c1\\ubd81\\ub3c4\",\"\\uacbd\\uc0c1\\ubd81\\ub3c4\",\"\\uacbd\\uc0c1\\ubd81\\ub3c4\",\"\\uacbd\\uc0c1\\ubd81\\ub3c4\",\"\\uacbd\\uc0c1\\ub0a8\\ub3c4\",\"\\uacbd\\uc0c1\\ub0a8\\ub3c4\",\"\\uacbd\\uc0c1\\ub0a8\\ub3c4\",\"\\uacbd\\uc0c1\\ub0a8\\ub3c4\",\"\\uacbd\\uc0c1\\ub0a8\\ub3c4\",\"\\uc804\\ub77c\\ubd81\\ub3c4\",\"\\uc804\\ub77c\\ubd81\\ub3c4\",\"\\uc804\\ub77c\\ubd81\\ub3c4\",\"\\uc804\\ub77c\\ubd81\\ub3c4\",\"\\uc804\\ub77c\\ubd81\\ub3c4\",\"\\uc804\\ub77c\\ubd81\\ub3c4\",\"\\uc804\\ub77c\\ubd81\\ub3c4\",\"\\uc804\\ub77c\\ubd81\\ub3c4\",\"\\ubd80\\uc0b0\\uad11\\uc5ed\\uc2dc\",\"\\ubd80\\uc0b0\\uad11\\uc5ed\\uc2dc\",\"\\ubd80\\uc0b0\\uad11\\uc5ed\\uc2dc\",\"\\ubd80\\uc0b0\\uad11\\uc5ed\\uc2dc\",\"\\ubd80\\uc0b0\\uad11\\uc5ed\\uc2dc\",\"\\ubd80\\uc0b0\\uad11\\uc5ed\\uc2dc\",\"\\uacbd\\uae30\\ub3c4\",\"\\uacbd\\uae30\\ub3c4\",\"\\uacbd\\uae30\\ub3c4\",\"\\uacbd\\uae30\\ub3c4\",\"\\uacbd\\uae30\\ub3c4\",\"\\uacbd\\uae30\\ub3c4\",\"\\uacbd\\uae30\\ub3c4\",\"\\uacbd\\uae30\\ub3c4\",\"\\uacbd\\uae30\\ub3c4\",\"\\uacbd\\uae30\\ub3c4\",\"\\uacbd\\uae30\\ub3c4\",\"\\uc804\\ub77c\\ub0a8\\ub3c4\",\"\\uc804\\ub77c\\ub0a8\\ub3c4\",\"\\uc804\\ub77c\\ub0a8\\ub3c4\",\"\\uc804\\ub77c\\ub0a8\\ub3c4\",\"\\uc804\\ub77c\\ub0a8\\ub3c4\",\"\\uc804\\ub77c\\ub0a8\\ub3c4\",\"\\uc804\\ub77c\\ub0a8\\ub3c4\",\"\\uad11\\uc8fc\\uad11\\uc5ed\\uc2dc\",\"\\uad11\\uc8fc\\uad11\\uc5ed\\uc2dc\",\"\\uad11\\uc8fc\\uad11\\uc5ed\\uc2dc\",\"\\uad11\\uc8fc\\uad11\\uc5ed\\uc2dc\",\"\\uad11\\uc8fc\\uad11\\uc5ed\\uc2dc\",\"\\uad11\\uc8fc\\uad11\\uc5ed\\uc2dc\",\"\\uad11\\uc8fc\\uad11\\uc5ed\\uc2dc\",\"\\uad11\\uc8fc\\uad11\\uc5ed\\uc2dc\",\"\\uad11\\uc8fc\\uad11\\uc5ed\\uc2dc\",\"\\uad11\\uc8fc\\uad11\\uc5ed\\uc2dc\",\"\\uad11\\uc8fc\\uad11\\uc5ed\\uc2dc\",\"\\uad11\\uc8fc\\uad11\\uc5ed\\uc2dc\",\"\\uad11\\uc8fc\\uad11\\uc5ed\\uc2dc\",\"\\uad11\\uc8fc\\uad11\\uc5ed\\uc2dc\",\"\\uad11\\uc8fc\\uad11\\uc5ed\\uc2dc\",\"\\uad11\\uc8fc\\uad11\\uc5ed\\uc2dc\",\"\\uad11\\uc8fc\\uad11\\uc5ed\\uc2dc\",\"\\uad11\\uc8fc\\uad11\\uc5ed\\uc2dc\",\"\\uad11\\uc8fc\\uad11\\uc5ed\\uc2dc\",\"\\uad11\\uc8fc\\uad11\\uc5ed\\uc2dc\",\"\\uad11\\uc8fc\\uad11\\uc5ed\\uc2dc\",\"\\uad11\\uc8fc\\uad11\\uc5ed\\uc2dc\",\"\\uad11\\uc8fc\\uad11\\uc5ed\\uc2dc\",\"\\uad11\\uc8fc\\uad11\\uc5ed\\uc2dc\",\"\\uad11\\uc8fc\\uad11\\uc5ed\\uc2dc\",\"\\uad11\\uc8fc\\uad11\\uc5ed\\uc2dc\",\"\\uad11\\uc8fc\\uad11\\uc5ed\\uc2dc\",\"\\uad11\\uc8fc\\uad11\\uc5ed\\uc2dc\",\"\\uad11\\uc8fc\\uad11\\uc5ed\\uc2dc\",\"\\uad11\\uc8fc\\uad11\\uc5ed\\uc2dc\",\"\\uad11\\uc8fc\\uad11\\uc5ed\\uc2dc\",\"\\uad11\\uc8fc\\uad11\\uc5ed\\uc2dc\",\"\\uad11\\uc8fc\\uad11\\uc5ed\\uc2dc\",\"\\uad11\\uc8fc\\uad11\\uc5ed\\uc2dc\",\"\\uad11\\uc8fc\\uad11\\uc5ed\\uc2dc\",\"\\uad11\\uc8fc\\uad11\\uc5ed\\uc2dc\",\"\\uad11\\uc8fc\\uad11\\uc5ed\\uc2dc\",\"\\uad11\\uc8fc\\uad11\\uc5ed\\uc2dc\",\"\\uad11\\uc8fc\\uad11\\uc5ed\\uc2dc\",\"\\uad11\\uc8fc\\uad11\\uc5ed\\uc2dc\",\"\\uad11\\uc8fc\\uad11\\uc5ed\\uc2dc\",\"\\uad11\\uc8fc\\uad11\\uc5ed\\uc2dc\",\"\\uad11\\uc8fc\\uad11\\uc5ed\\uc2dc\",\"\\uad11\\uc8fc\\uad11\\uc5ed\\uc2dc\",\"\\uad11\\uc8fc\\uad11\\uc5ed\\uc2dc\",\"\\uad11\\uc8fc\\uad11\\uc5ed\\uc2dc\",\"\\uad11\\uc8fc\\uad11\\uc5ed\\uc2dc\",\"\\uad11\\uc8fc\\uad11\\uc5ed\\uc2dc\",\"\\uad11\\uc8fc\\uad11\\uc5ed\\uc2dc\",\"\\uad11\\uc8fc\\uad11\\uc5ed\\uc2dc\",\"\\uad11\\uc8fc\\uad11\\uc5ed\\uc2dc\",\"\\uad11\\uc8fc\\uad11\\uc5ed\\uc2dc\",\"\\uad11\\uc8fc\\uad11\\uc5ed\\uc2dc\",\"\\uad11\\uc8fc\\uad11\\uc5ed\\uc2dc\",\"\\uad11\\uc8fc\\uad11\\uc5ed\\uc2dc\",\"\\uad11\\uc8fc\\uad11\\uc5ed\\uc2dc\",\"\\uad11\\uc8fc\\uad11\\uc5ed\\uc2dc\",\"\\uad11\\uc8fc\\uad11\\uc5ed\\uc2dc\",\"\\uad11\\uc8fc\\uad11\\uc5ed\\uc2dc\",\"\\uad11\\uc8fc\\uad11\\uc5ed\\uc2dc\",\"\\uc804\\ub77c\\ubd81\\ub3c4\",\"\\uc804\\ub77c\\ubd81\\ub3c4\",\"\\uc804\\ub77c\\ubd81\\ub3c4\",\"\\uc804\\ub77c\\ubd81\\ub3c4\",\"\\uc804\\ub77c\\ubd81\\ub3c4\",\"\\uc804\\ub77c\\ubd81\\ub3c4\",\"\\ucda9\\uccad\\ub0a8\\ub3c4\",\"\\ucda9\\uccad\\ub0a8\\ub3c4\",\"\\ucda9\\uccad\\ub0a8\\ub3c4\",\"\\ucda9\\uccad\\ub0a8\\ub3c4\",\"\\ucda9\\uccad\\ub0a8\\ub3c4\",\"\\ucda9\\uccad\\ub0a8\\ub3c4\",\"\\ucda9\\uccad\\ub0a8\\ub3c4\",\"\\ucda9\\uccad\\ub0a8\\ub3c4\",\"\\ucda9\\uccad\\ub0a8\\ub3c4\",\"\\uacbd\\uc0c1\\ubd81\\ub3c4\",\"\\uacbd\\uc0c1\\ubd81\\ub3c4\",\"\\uacbd\\uc0c1\\ubd81\\ub3c4\",\"\\uacbd\\uc0c1\\ubd81\\ub3c4\",\"\\uacbd\\uc0c1\\ubd81\\ub3c4\",\"\\uacbd\\uc0c1\\ub0a8\\ub3c4\",\"\\uacbd\\uc0c1\\ub0a8\\ub3c4\",\"\\uacbd\\uc0c1\\ub0a8\\ub3c4\",\"\\uacbd\\uc0c1\\ub0a8\\ub3c4\",\"\\uacbd\\uc0c1\\ub0a8\\ub3c4\",\"\\uacbd\\uc0c1\\ub0a8\\ub3c4\",\"\\uacbd\\uc0c1\\ub0a8\\ub3c4\",\"\\uacbd\\uc0c1\\ub0a8\\ub3c4\",\"\\uacbd\\uc0c1\\ub0a8\\ub3c4\",\"\\uacbd\\uc0c1\\ub0a8\\ub3c4\",\"\\uacbd\\uc0c1\\ub0a8\\ub3c4\",\"\\uacbd\\uc0c1\\ub0a8\\ub3c4\",\"\\uacbd\\uc0c1\\ub0a8\\ub3c4\",\"\\uacbd\\uc0c1\\ub0a8\\ub3c4\",\"\\uacbd\\uc0c1\\ub0a8\\ub3c4\",\"\\uacbd\\uc0c1\\ub0a8\\ub3c4\",\"\\uacbd\\uc0c1\\ub0a8\\ub3c4\",\"\\uacbd\\uc0c1\\ub0a8\\ub3c4\",\"\\uacbd\\uc0c1\\ub0a8\\ub3c4\",\"\\uacbd\\uc0c1\\ub0a8\\ub3c4\",\"\\uacbd\\uc0c1\\ub0a8\\ub3c4\",\"\\uacbd\\uc0c1\\ub0a8\\ub3c4\",\"\\uacbd\\uc0c1\\ub0a8\\ub3c4\",\"\\uacbd\\uc0c1\\ub0a8\\ub3c4\",\"\\uacbd\\uc0c1\\ub0a8\\ub3c4\",\"\\uacbd\\uae30\\ub3c4\",\"\\uacbd\\uae30\\ub3c4\",\"\\uacbd\\uae30\\ub3c4\",\"\\uacbd\\uae30\\ub3c4\",\"\\uacbd\\uae30\\ub3c4\",\"\\uacbd\\uae30\\ub3c4\",\"\\uacbd\\uae30\\ub3c4\",\"\\uacbd\\uae30\\ub3c4\",\"\\uacbd\\uae30\\ub3c4\",\"\\uacbd\\uae30\\ub3c4\",\"\\uacbd\\uae30\\ub3c4\",\"\\uacbd\\uae30\\ub3c4\",\"\\uacbd\\uae30\\ub3c4\",\"\\uacbd\\uae30\\ub3c4\",\"\\uacbd\\uae30\\ub3c4\",\"\\uacbd\\uae30\\ub3c4\",\"\\uacbd\\uae30\\ub3c4\",\"\\uacbd\\uae30\\ub3c4\",\"\\uacbd\\uae30\\ub3c4\",\"\\uacbd\\uae30\\ub3c4\",\"\\uacbd\\uae30\\ub3c4\",\"\\uacbd\\uae30\\ub3c4\",\"\\uacbd\\uae30\\ub3c4\",\"\\uacbd\\uae30\\ub3c4\",\"\\uacbd\\uae30\\ub3c4\",\"\\uacbd\\uae30\\ub3c4\",\"\\uacbd\\uae30\\ub3c4\",\"\\uacbd\\uae30\\ub3c4\",\"\\uacbd\\uae30\\ub3c4\",\"\\uacbd\\uae30\\ub3c4\",\"\\uacbd\\uae30\\ub3c4\",\"\\uacbd\\uae30\\ub3c4\",\"\\uacbd\\uae30\\ub3c4\",\"\\ub300\\uc804\\uad11\\uc5ed\\uc2dc\",\"\\ub300\\uc804\\uad11\\uc5ed\\uc2dc\",\"\\ub300\\uc804\\uad11\\uc5ed\\uc2dc\",\"\\ub300\\uc804\\uad11\\uc5ed\\uc2dc\",\"\\ub300\\uad6c\\uad11\\uc5ed\\uc2dc\",\"\\ub300\\uad6c\\uad11\\uc5ed\\uc2dc\",\"\\ub300\\uad6c\\uad11\\uc5ed\\uc2dc\",\"\\ub300\\uad6c\\uad11\\uc5ed\\uc2dc\",\"\\ub300\\uad6c\\uad11\\uc5ed\\uc2dc\",\"\\ub300\\uad6c\\uad11\\uc5ed\\uc2dc\",\"\\ub300\\uad6c\\uad11\\uc5ed\\uc2dc\",\"\\ub300\\uad6c\\uad11\\uc5ed\\uc2dc\",\"\\ub300\\uad6c\\uad11\\uc5ed\\uc2dc\",\"\\ub300\\uad6c\\uad11\\uc5ed\\uc2dc\",\"\\ub300\\uad6c\\uad11\\uc5ed\\uc2dc\",\"\\ub300\\uad6c\\uad11\\uc5ed\\uc2dc\",\"\\ub300\\uad6c\\uad11\\uc5ed\\uc2dc\",\"\\ub300\\uad6c\\uad11\\uc5ed\\uc2dc\",\"\\ub300\\uad6c\\uad11\\uc5ed\\uc2dc\",\"\\ub300\\uad6c\\uad11\\uc5ed\\uc2dc\",\"\\ub300\\uc804\\uad11\\uc5ed\\uc2dc\",\"\\ub300\\uc804\\uad11\\uc5ed\\uc2dc\",\"\\ub300\\uc804\\uad11\\uc5ed\\uc2dc\",\"\\ub300\\uc804\\uad11\\uc5ed\\uc2dc\",\"\\ub300\\uc804\\uad11\\uc5ed\\uc2dc\",\"\\ub300\\uc804\\uad11\\uc5ed\\uc2dc\",\"\\ub300\\uc804\\uad11\\uc5ed\\uc2dc\",\"\\ub300\\uc804\\uad11\\uc5ed\\uc2dc\",\"\\ub300\\uc804\\uad11\\uc5ed\\uc2dc\",\"\\ub300\\uc804\\uad11\\uc5ed\\uc2dc\",\"\\uacbd\\uae30\\ub3c4\",\"\\uacbd\\uae30\\ub3c4\",\"\\uacbd\\uae30\\ub3c4\",\"\\uacbd\\uae30\\ub3c4\",\"\\uac15\\uc6d0\\ub3c4\",\"\\uac15\\uc6d0\\ub3c4\",\"\\uac15\\uc6d0\\ub3c4\",\"\\uac15\\uc6d0\\ub3c4\",\"\\uac15\\uc6d0\\ub3c4\",\"\\uac15\\uc6d0\\ub3c4\",\"\\uc804\\ub77c\\ub0a8\\ub3c4\",\"\\uc804\\ub77c\\ub0a8\\ub3c4\",\"\\uc804\\ub77c\\ub0a8\\ub3c4\",\"\\uc804\\ub77c\\ub0a8\\ub3c4\",\"\\uc804\\ub77c\\ub0a8\\ub3c4\",\"\\uc804\\ub77c\\ub0a8\\ub3c4\",\"\\uc804\\ub77c\\ub0a8\\ub3c4\",\"\\uc804\\ub77c\\ub0a8\\ub3c4\",\"\\uc804\\ub77c\\ub0a8\\ub3c4\",\"\\ucda9\\uccad\\ub0a8\\ub3c4\",\"\\ucda9\\uccad\\ub0a8\\ub3c4\",\"\\ucda9\\uccad\\ub0a8\\ub3c4\",\"\\ucda9\\uccad\\ub0a8\\ub3c4\",\"\\ubd80\\uc0b0\\uad11\\uc5ed\\uc2dc\",\"\\ubd80\\uc0b0\\uad11\\uc5ed\\uc2dc\",\"\\ubd80\\uc0b0\\uad11\\uc5ed\\uc2dc\",\"\\ubd80\\uc0b0\\uad11\\uc5ed\\uc2dc\",\"\\ubd80\\uc0b0\\uad11\\uc5ed\\uc2dc\",\"\\ubd80\\uc0b0\\uad11\\uc5ed\\uc2dc\",\"\\ubd80\\uc0b0\\uad11\\uc5ed\\uc2dc\",\"\\ubd80\\uc0b0\\uad11\\uc5ed\\uc2dc\",\"\\uc804\\ub77c\\ubd81\\ub3c4\",\"\\uc804\\ub77c\\ubd81\\ub3c4\",\"\\uc804\\ub77c\\ubd81\\ub3c4\",\"\\uacbd\\uae30\\ub3c4\",\"\\uacbd\\uae30\\ub3c4\",\"\\uacbd\\uae30\\ub3c4\",\"\\uacbd\\uae30\\ub3c4\",\"\\uacbd\\uae30\\ub3c4\",\"\\uacbd\\uae30\\ub3c4\",\"\\uacbd\\uae30\\ub3c4\",\"\\uacbd\\uae30\\ub3c4\",\"\\uacbd\\uae30\\ub3c4\",\"\\uacbd\\uae30\\ub3c4\",\"\\uacbd\\uc0c1\\ub0a8\\ub3c4\",\"\\uacbd\\uc0c1\\ub0a8\\ub3c4\",\"\\uacbd\\uc0c1\\ub0a8\\ub3c4\",\"\\uacbd\\uc0c1\\ub0a8\\ub3c4\",\"\\uacbd\\uc0c1\\ub0a8\\ub3c4\",\"\\uacbd\\uc0c1\\ub0a8\\ub3c4\",\"\\uacbd\\uc0c1\\ub0a8\\ub3c4\",\"\\uacbd\\uc0c1\\ub0a8\\ub3c4\",\"\\uacbd\\uc0c1\\ub0a8\\ub3c4\",\"\\uacbd\\uc0c1\\ub0a8\\ub3c4\",\"\\uacbd\\uc0c1\\ub0a8\\ub3c4\",\"\\uacbd\\uc0c1\\ub0a8\\ub3c4\",\"\\uc11c\\uc6b8\\ud2b9\\ubcc4\\uc2dc\",\"\\ucda9\\uccad\\ub0a8\\ub3c4\",\"\\ucda9\\uccad\\ub0a8\\ub3c4\",\"\\ucda9\\uccad\\ub0a8\\ub3c4\",\"\\ucda9\\uccad\\ub0a8\\ub3c4\",\"\\ucda9\\uccad\\ub0a8\\ub3c4\",\"\\ucda9\\uccad\\ub0a8\\ub3c4\",\"\\uacbd\\uae30\\ub3c4\",\"\\uacbd\\uae30\\ub3c4\",\"\\uacbd\\uae30\\ub3c4\",\"\\uacbd\\uae30\\ub3c4\",\"\\uacbd\\uae30\\ub3c4\",\"\\uacbd\\uae30\\ub3c4\",\"\\uacbd\\uae30\\ub3c4\",\"\\uacbd\\uae30\\ub3c4\",\"\\uacbd\\uae30\\ub3c4\",\"\\uacbd\\uae30\\ub3c4\",\"\\uacbd\\uae30\\ub3c4\",\"\\uacbd\\uae30\\ub3c4\",\"\\uacbd\\uae30\\ub3c4\",\"\\uacbd\\uae30\\ub3c4\",\"\\uacbd\\uae30\\ub3c4\",\"\\uacbd\\uae30\\ub3c4\",\"\\uacbd\\uae30\\ub3c4\",\"\\uacbd\\uae30\\ub3c4\",\"\\uacbd\\uae30\\ub3c4\",\"\\uacbd\\uae30\\ub3c4\",\"\\uacbd\\uae30\\ub3c4\",\"\\uacbd\\uae30\\ub3c4\",\"\\uacbd\\uae30\\ub3c4\",\"\\uacbd\\uae30\\ub3c4\",\"\\uacbd\\uae30\\ub3c4\",\"\\uacbd\\uae30\\ub3c4\",\"\\uacbd\\uae30\\ub3c4\",\"\\uacbd\\uae30\\ub3c4\",\"\\uacbd\\uae30\\ub3c4\",\"\\uacbd\\uae30\\ub3c4\",\"\\uacbd\\uae30\\ub3c4\",\"\\uacbd\\uae30\\ub3c4\",\"\\uacbd\\uae30\\ub3c4\",\"\\uacbd\\uae30\\ub3c4\",\"\\uacbd\\uae30\\ub3c4\",\"\\uacbd\\uae30\\ub3c4\",\"\\uacbd\\uae30\\ub3c4\",\"\\uacbd\\uae30\\ub3c4\",\"\\uacbd\\uae30\\ub3c4\",\"\\uacbd\\uae30\\ub3c4\",\"\\uacbd\\uae30\\ub3c4\",\"\\ubd80\\uc0b0\\uad11\\uc5ed\\uc2dc\",\"\\ubd80\\uc0b0\\uad11\\uc5ed\\uc2dc\",\"\\ubd80\\uc0b0\\uad11\\uc5ed\\uc2dc\",\"\\ubd80\\uc0b0\\uad11\\uc5ed\\uc2dc\",\"\\ubd80\\uc0b0\\uad11\\uc5ed\\uc2dc\",\"\\ubd80\\uc0b0\\uad11\\uc5ed\\uc2dc\",\"\\uc804\\ub77c\\ubd81\\ub3c4\",\"\\uc804\\ub77c\\ubd81\\ub3c4\",\"\\uc804\\ub77c\\ubd81\\ub3c4\",\"\\uc804\\ub77c\\ubd81\\ub3c4\",\"\\uc804\\ub77c\\ubd81\\ub3c4\",\"\\uc804\\ub77c\\ub0a8\\ub3c4\",\"\\uc804\\ub77c\\ub0a8\\ub3c4\",\"\\uc804\\ub77c\\ub0a8\\ub3c4\",\"\\uc804\\ub77c\\ub0a8\\ub3c4\",\"\\uc804\\ub77c\\ub0a8\\ub3c4\",\"\\uc804\\ub77c\\ub0a8\\ub3c4\",\"\\uc804\\ub77c\\ub0a8\\ub3c4\",\"\\uc804\\ub77c\\ub0a8\\ub3c4\",\"\\uc804\\ub77c\\ub0a8\\ub3c4\",\"\\uc804\\ub77c\\ub0a8\\ub3c4\",\"\\uc804\\ub77c\\ub0a8\\ub3c4\",\"\\uc804\\ub77c\\ub0a8\\ub3c4\",\"\\uc804\\ub77c\\ub0a8\\ub3c4\",\"\\uc804\\ub77c\\ub0a8\\ub3c4\",\"\\uc804\\ub77c\\ub0a8\\ub3c4\",\"\\uc804\\ub77c\\ub0a8\\ub3c4\",\"\\uc804\\ub77c\\ub0a8\\ub3c4\",\"\\uc804\\ub77c\\ub0a8\\ub3c4\",\"\\uacbd\\uc0c1\\ubd81\\ub3c4\",\"\\uacbd\\uc0c1\\ubd81\\ub3c4\",\"\\uacbd\\uc0c1\\ubd81\\ub3c4\",\"\\uacbd\\uc0c1\\ubd81\\ub3c4\",\"\\uacbd\\uc0c1\\ubd81\\ub3c4\",\"\\uacbd\\uae30\\ub3c4\",\"\\uacbd\\uae30\\ub3c4\",\"\\uacbd\\uae30\\ub3c4\",\"\\uacbd\\uae30\\ub3c4\",\"\\uacbd\\uae30\\ub3c4\",\"\\uacbd\\uae30\\ub3c4\",\"\\uacbd\\uae30\\ub3c4\",\"\\uacbd\\uae30\\ub3c4\",\"\\uacbd\\uae30\\ub3c4\",\"\\uacbd\\uae30\\ub3c4\",\"\\uacbd\\uae30\\ub3c4\",\"\\uacbd\\uae30\\ub3c4\",\"\\uacbd\\uae30\\ub3c4\",\"\\uacbd\\uae30\\ub3c4\",\"\\uacbd\\uae30\\ub3c4\",\"\\uacbd\\uae30\\ub3c4\",\"\\uacbd\\uae30\\ub3c4\",\"\\uacbd\\uae30\\ub3c4\",\"\\uacbd\\uae30\\ub3c4\",\"\\uacbd\\uae30\\ub3c4\",\"\\uacbd\\uae30\\ub3c4\",\"\\uacbd\\uae30\\ub3c4\",\"\\uacbd\\uae30\\ub3c4\",\"\\uacbd\\uae30\\ub3c4\",\"\\uacbd\\uae30\\ub3c4\",\"\\uacbd\\uae30\\ub3c4\",\"\\uacbd\\uae30\\ub3c4\",\"\\uacbd\\uae30\\ub3c4\",\"\\uacbd\\uae30\\ub3c4\",\"\\uacbd\\uae30\\ub3c4\",\"\\uacbd\\uae30\\ub3c4\",\"\\uacbd\\uae30\\ub3c4\",\"\\uacbd\\uc0c1\\ub0a8\\ub3c4\",\"\\uacbd\\uc0c1\\ub0a8\\ub3c4\",\"\\uacbd\\uc0c1\\ub0a8\\ub3c4\",\"\\uacbd\\uc0c1\\ub0a8\\ub3c4\",\"\\uacbd\\uc0c1\\ub0a8\\ub3c4\",\"\\uacbd\\uc0c1\\ub0a8\\ub3c4\",\"\\uacbd\\uae30\\ub3c4\",\"\\uacbd\\uae30\\ub3c4\",\"\\uacbd\\uae30\\ub3c4\",\"\\uacbd\\uae30\\ub3c4\",\"\\uacbd\\uae30\\ub3c4\",\"\\uacbd\\uae30\\ub3c4\",\"\\uacbd\\uae30\\ub3c4\",\"\\uacbd\\uae30\\ub3c4\",\"\\uacbd\\uae30\\ub3c4\",\"\\uacbd\\uae30\\ub3c4\",\"\\uacbd\\uae30\\ub3c4\",\"\\uacbd\\uae30\\ub3c4\",\"\\uacbd\\uae30\\ub3c4\",\"\\uacbd\\uae30\\ub3c4\",\"\\uacbd\\uae30\\ub3c4\",\"\\uacbd\\uae30\\ub3c4\",\"\\uacbd\\uae30\\ub3c4\",\"\\uacbd\\uae30\\ub3c4\",\"\\uacbd\\uae30\\ub3c4\",\"\\uacbd\\uae30\\ub3c4\",\"\\uacbd\\uae30\\ub3c4\",\"\\uacbd\\uae30\\ub3c4\",\"\\uacbd\\uae30\\ub3c4\",\"\\uacbd\\uae30\\ub3c4\",\"\\uacbd\\uae30\\ub3c4\",\"\\uacbd\\uae30\\ub3c4\",\"\\uacbd\\uae30\\ub3c4\",\"\\uacbd\\uae30\\ub3c4\",\"\\uacbd\\uae30\\ub3c4\",\"\\uacbd\\uae30\\ub3c4\",\"\\uacbd\\uae30\\ub3c4\",\"\\uacbd\\uae30\\ub3c4\",\"\\uacbd\\uae30\\ub3c4\",\"\\uacbd\\uae30\\ub3c4\",\"\\uacbd\\uae30\\ub3c4\",\"\\uacbd\\uae30\\ub3c4\",\"\\uacbd\\uae30\\ub3c4\",\"\\uacbd\\uae30\\ub3c4\",\"\\uacbd\\uae30\\ub3c4\",\"\\uacbd\\uae30\\ub3c4\",\"\\uacbd\\uae30\\ub3c4\",\"\\uacbd\\uae30\\ub3c4\",\"\\uc804\\ub77c\\ub0a8\\ub3c4\",\"\\uc804\\ub77c\\ub0a8\\ub3c4\",\"\\uc804\\ub77c\\ub0a8\\ub3c4\",\"\\uc804\\ub77c\\ub0a8\\ub3c4\",\"\\uc804\\ub77c\\ub0a8\\ub3c4\",\"\\uc804\\ub77c\\ub0a8\\ub3c4\",\"\\uc804\\ub77c\\ub0a8\\ub3c4\",\"\\uc804\\ub77c\\ub0a8\\ub3c4\",\"\\uc804\\ub77c\\ub0a8\\ub3c4\",\"\\uc804\\ub77c\\ub0a8\\ub3c4\",\"\\uc804\\ub77c\\ub0a8\\ub3c4\",\"\\uc804\\ub77c\\ub0a8\\ub3c4\",\"\\uc804\\ub77c\\ub0a8\\ub3c4\",\"\\uc804\\ub77c\\ub0a8\\ub3c4\",\"\\uc804\\ub77c\\ub0a8\\ub3c4\",\"\\uc804\\ub77c\\ub0a8\\ub3c4\",\"\\uc804\\ub77c\\ub0a8\\ub3c4\",\"\\uc804\\ub77c\\ub0a8\\ub3c4\",\"\\uc804\\ub77c\\ub0a8\\ub3c4\",\"\\uc804\\ub77c\\ub0a8\\ub3c4\",\"\\uc804\\ub77c\\ub0a8\\ub3c4\",\"\\uacbd\\uc0c1\\ubd81\\ub3c4\",\"\\uacbd\\uc0c1\\ubd81\\ub3c4\",\"\\uacbd\\uc0c1\\ubd81\\ub3c4\",\"\\uacbd\\uc0c1\\ubd81\\ub3c4\",\"\\uacbd\\uc0c1\\ubd81\\ub3c4\",\"\\uacbd\\uae30\\ub3c4\",\"\\uacbd\\uae30\\ub3c4\",\"\\uacbd\\uae30\\ub3c4\",\"\\uacbd\\uae30\\ub3c4\",\"\\uacbd\\uae30\\ub3c4\",\"\\uacbd\\uae30\\ub3c4\",\"\\uacbd\\uae30\\ub3c4\",\"\\uacbd\\uae30\\ub3c4\",\"\\uacbd\\uae30\\ub3c4\",\"\\uacbd\\uae30\\ub3c4\",\"\\uacbd\\uae30\\ub3c4\",\"\\uacbd\\uae30\\ub3c4\",\"\\uacbd\\uae30\\ub3c4\",\"\\uacbd\\uae30\\ub3c4\",\"\\uacbd\\uae30\\ub3c4\",\"\\uacbd\\uae30\\ub3c4\",\"\\uacbd\\uae30\\ub3c4\",\"\\uacbd\\uae30\\ub3c4\",\"\\uacbd\\uae30\\ub3c4\",\"\\uacbd\\uae30\\ub3c4\",\"\\uacbd\\uae30\\ub3c4\",\"\\uacbd\\uae30\\ub3c4\",\"\\uacbd\\uae30\\ub3c4\",\"\\uacbd\\uae30\\ub3c4\",\"\\uacbd\\uae30\\ub3c4\",\"\\uacbd\\uae30\\ub3c4\",\"\\uacbd\\uae30\\ub3c4\",\"\\uacbd\\uae30\\ub3c4\",\"\\uacbd\\uae30\\ub3c4\",\"\\uacbd\\uae30\\ub3c4\",\"\\uacbd\\uae30\\ub3c4\",\"\\uacbd\\uae30\\ub3c4\",\"\\uacbd\\uae30\\ub3c4\",\"\\uacbd\\uae30\\ub3c4\",\"\\uacbd\\uae30\\ub3c4\",\"\\uacbd\\uae30\\ub3c4\",\"\\uacbd\\uae30\\ub3c4\",\"\\uacbd\\uae30\\ub3c4\",\"\\uacbd\\uae30\\ub3c4\",\"\\uacbd\\uae30\\ub3c4\",\"\\uacbd\\uae30\\ub3c4\",\"\\uacbd\\uae30\\ub3c4\",\"\\uacbd\\uae30\\ub3c4\",\"\\uacbd\\uae30\\ub3c4\",\"\\uacbd\\uae30\\ub3c4\",\"\\uacbd\\uae30\\ub3c4\",\"\\uacbd\\uae30\\ub3c4\",\"\\uacbd\\uae30\\ub3c4\",\"\\uacbd\\uae30\\ub3c4\",\"\\uacbd\\uae30\\ub3c4\",\"\\uacbd\\uae30\\ub3c4\",\"\\uacbd\\uae30\\ub3c4\",\"\\uacbd\\uae30\\ub3c4\",\"\\uacbd\\uae30\\ub3c4\",\"\\uacbd\\uae30\\ub3c4\",\"\\uacbd\\uae30\\ub3c4\",\"\\uacbd\\uae30\\ub3c4\",\"\\uacbd\\uae30\\ub3c4\",\"\\uacbd\\uae30\\ub3c4\",\"\\uacbd\\uae30\\ub3c4\",\"\\uacbd\\uae30\\ub3c4\",\"\\uacbd\\uae30\\ub3c4\",\"\\uacbd\\uae30\\ub3c4\",\"\\uacbd\\uae30\\ub3c4\",\"\\uc6b8\\uc0b0\\uad11\\uc5ed\\uc2dc\",\"\\uc6b8\\uc0b0\\uad11\\uc5ed\\uc2dc\",\"\\uc6b8\\uc0b0\\uad11\\uc5ed\\uc2dc\",\"\\uc6b8\\uc0b0\\uad11\\uc5ed\\uc2dc\",\"\\uc6b8\\uc0b0\\uad11\\uc5ed\\uc2dc\",\"\\uc6b8\\uc0b0\\uad11\\uc5ed\\uc2dc\",\"\\uc6b8\\uc0b0\\uad11\\uc5ed\\uc2dc\",\"\\uc6b8\\uc0b0\\uad11\\uc5ed\\uc2dc\",\"\\uacbd\\uc0c1\\ubd81\\ub3c4\",\"\\uacbd\\uc0c1\\ubd81\\ub3c4\",\"\\uacbd\\uc0c1\\ubd81\\ub3c4\",\"\\uacbd\\uc0c1\\ubd81\\ub3c4\",\"\\uacbd\\uc0c1\\ubd81\\ub3c4\",\"\\uacbd\\uc0c1\\ubd81\\ub3c4\",\"\\uac15\\uc6d0\\ub3c4\",\"\\uac15\\uc6d0\\ub3c4\",\"\\uac15\\uc6d0\\ub3c4\",\"\\uac15\\uc6d0\\ub3c4\",\"\\uac15\\uc6d0\\ub3c4\",\"\\uac15\\uc6d0\\ub3c4\",\"\\uac15\\uc6d0\\ub3c4\",\"\\uac15\\uc6d0\\ub3c4\",\"\\uac15\\uc6d0\\ub3c4\",\"\\uac15\\uc6d0\\ub3c4\",\"\\uac15\\uc6d0\\ub3c4\",\"\\uac15\\uc6d0\\ub3c4\",\"\\uac15\\uc6d0\\ub3c4\",\"\\uac15\\uc6d0\\ub3c4\",\"\\uac15\\uc6d0\\ub3c4\",\"\\uac15\\uc6d0\\ub3c4\",\"\\uac15\\uc6d0\\ub3c4\",\"\\uac15\\uc6d0\\ub3c4\",\"\\uac15\\uc6d0\\ub3c4\",\"\\uac15\\uc6d0\\ub3c4\",\"\\uac15\\uc6d0\\ub3c4\",\"\\ub300\\uad6c\\uad11\\uc5ed\\uc2dc\",\"\\ub300\\uad6c\\uad11\\uc5ed\\uc2dc\",\"\\ub300\\uad6c\\uad11\\uc5ed\\uc2dc\",\"\\ub300\\uad6c\\uad11\\uc5ed\\uc2dc\",\"\\ub300\\uad6c\\uad11\\uc5ed\\uc2dc\",\"\\ub300\\uad6c\\uad11\\uc5ed\\uc2dc\",\"\\ub300\\uad6c\\uad11\\uc5ed\\uc2dc\",\"\\ub300\\uad6c\\uad11\\uc5ed\\uc2dc\",\"\\ub300\\uad6c\\uad11\\uc5ed\\uc2dc\",\"\\ub300\\uad6c\\uad11\\uc5ed\\uc2dc\",\"\\ub300\\uad6c\\uad11\\uc5ed\\uc2dc\",\"\\ub300\\uad6c\\uad11\\uc5ed\\uc2dc\",\"\\ub300\\uad6c\\uad11\\uc5ed\\uc2dc\",\"\\ub300\\uad6c\\uad11\\uc5ed\\uc2dc\",\"\\ub300\\uad6c\\uad11\\uc5ed\\uc2dc\",\"\\ub300\\uad6c\\uad11\\uc5ed\\uc2dc\",\"\\ub300\\uad6c\\uad11\\uc5ed\\uc2dc\",\"\\ub300\\uad6c\\uad11\\uc5ed\\uc2dc\",\"\\ub300\\uad6c\\uad11\\uc5ed\\uc2dc\",\"\\uacbd\\uc0c1\\ub0a8\\ub3c4\",\"\\uacbd\\uc0c1\\ub0a8\\ub3c4\",\"\\uacbd\\uc0c1\\ub0a8\\ub3c4\",\"\\uacbd\\uc0c1\\ub0a8\\ub3c4\",\"\\uacbd\\uc0c1\\ub0a8\\ub3c4\",\"\\uacbd\\uc0c1\\ub0a8\\ub3c4\",\"\\uacbd\\uc0c1\\ub0a8\\ub3c4\",\"\\ucda9\\uccad\\ubd81\\ub3c4\",\"\\ucda9\\uccad\\ubd81\\ub3c4\",\"\\ucda9\\uccad\\ubd81\\ub3c4\",\"\\uacbd\\uc0c1\\ub0a8\\ub3c4\",\"\\uacbd\\uc0c1\\ub0a8\\ub3c4\",\"\\uacbd\\uc0c1\\ub0a8\\ub3c4\",\"\\uacbd\\uc0c1\\ub0a8\\ub3c4\",\"\\uacbd\\uae30\\ub3c4\",\"\\uacbd\\uae30\\ub3c4\",\"\\uacbd\\uae30\\ub3c4\",\"\\uacbd\\uae30\\ub3c4\",\"\\uacbd\\uae30\\ub3c4\",\"\\uacbd\\uae30\\ub3c4\",\"\\uacbd\\uae30\\ub3c4\",\"\\uacbd\\uae30\\ub3c4\",\"\\uacbd\\uae30\\ub3c4\",\"\\uacbd\\uae30\\ub3c4\",\"\\uacbd\\uae30\\ub3c4\",\"\\uacbd\\uae30\\ub3c4\",\"\\uacbd\\uae30\\ub3c4\",\"\\uacbd\\uae30\\ub3c4\",\"\\uacbd\\uae30\\ub3c4\",\"\\uacbd\\uae30\\ub3c4\",\"\\uacbd\\uae30\\ub3c4\",\"\\uacbd\\uae30\\ub3c4\",\"\\uacbd\\uae30\\ub3c4\",\"\\uacbd\\uae30\\ub3c4\",\"\\uacbd\\uae30\\ub3c4\",\"\\uacbd\\uae30\\ub3c4\",\"\\uacbd\\uae30\\ub3c4\",\"\\uacbd\\uae30\\ub3c4\",\"\\uacbd\\uae30\\ub3c4\",\"\\uacbd\\uae30\\ub3c4\",\"\\uc804\\ub77c\\ubd81\\ub3c4\",\"\\uc804\\ub77c\\ubd81\\ub3c4\",\"\\uc804\\ub77c\\ubd81\\ub3c4\",\"\\uc804\\ub77c\\ubd81\\ub3c4\",\"\\uc804\\ub77c\\ubd81\\ub3c4\",\"\\uc804\\ub77c\\ubd81\\ub3c4\",\"\\uc804\\ub77c\\ubd81\\ub3c4\",\"\\uc804\\ub77c\\ubd81\\ub3c4\",\"\\uc804\\ub77c\\ubd81\\ub3c4\",\"\\uc804\\ub77c\\ub0a8\\ub3c4\",\"\\uc804\\ub77c\\ub0a8\\ub3c4\",\"\\uc804\\ub77c\\ub0a8\\ub3c4\",\"\\uc804\\ub77c\\ubd81\\ub3c4\",\"\\uc804\\ub77c\\ubd81\\ub3c4\",\"\\uc804\\ub77c\\ubd81\\ub3c4\",\"\\uc804\\ub77c\\ubd81\\ub3c4\",\"\\uc804\\ub77c\\ubd81\\ub3c4\",\"\\ucda9\\uccad\\ub0a8\\ub3c4\",\"\\ucda9\\uccad\\ub0a8\\ub3c4\",\"\\ucda9\\uccad\\ub0a8\\ub3c4\",\"\\ucda9\\uccad\\ub0a8\\ub3c4\",\"\\ucda9\\uccad\\ub0a8\\ub3c4\",\"\\ucda9\\uccad\\ub0a8\\ub3c4\",\"\\ucda9\\uccad\\ub0a8\\ub3c4\",\"\\ucda9\\uccad\\ub0a8\\ub3c4\",\"\\uc804\\ub77c\\ubd81\\ub3c4\",\"\\uc804\\ub77c\\ubd81\\ub3c4\",\"\\uc804\\ub77c\\ubd81\\ub3c4\",\"\\uc804\\ub77c\\ubd81\\ub3c4\",\"\\uc804\\ub77c\\ubd81\\ub3c4\",\"\\uc804\\ub77c\\ubd81\\ub3c4\",\"\\uc804\\ub77c\\ubd81\\ub3c4\",\"\\uc804\\ub77c\\ubd81\\ub3c4\",\"\\uc804\\ub77c\\ubd81\\ub3c4\",\"\\uc804\\ub77c\\ubd81\\ub3c4\",\"\\uc804\\ub77c\\ubd81\\ub3c4\",\"\\uc81c\\uc8fc\\ud2b9\\ubcc4\\uc790\\uce58\\ub3c4\",\"\\uc81c\\uc8fc\\ud2b9\\ubcc4\\uc790\\uce58\\ub3c4\",\"\\uc81c\\uc8fc\\ud2b9\\ubcc4\\uc790\\uce58\\ub3c4\",\"\\uc81c\\uc8fc\\ud2b9\\ubcc4\\uc790\\uce58\\ub3c4\",\"\\uc81c\\uc8fc\\ud2b9\\ubcc4\\uc790\\uce58\\ub3c4\",\"\\uac15\\uc6d0\\ub3c4\",\"\\uac15\\uc6d0\\ub3c4\",\"\\uac15\\uc6d0\\ub3c4\",\"\\uac15\\uc6d0\\ub3c4\",\"\\uac15\\uc6d0\\ub3c4\",\"\\uac15\\uc6d0\\ub3c4\",\"\\uac15\\uc6d0\\ub3c4\",\"\\uc804\\ub77c\\ubd81\\ub3c4\",\"\\uc804\\ub77c\\ubd81\\ub3c4\",\"\\uc804\\ub77c\\ubd81\\ub3c4\",\"\\uc804\\ub77c\\ubd81\\ub3c4\",\"\\uc804\\ub77c\\ubd81\\ub3c4\",\"\\uc804\\ub77c\\ubd81\\ub3c4\",\"\\uc804\\ub77c\\ubd81\\ub3c4\",\"\\uc81c\\uc8fc\\ud2b9\\ubcc4\\uc790\\uce58\\ub3c4\",\"\\uc81c\\uc8fc\\ud2b9\\ubcc4\\uc790\\uce58\\ub3c4\",\"\\uc81c\\uc8fc\\ud2b9\\ubcc4\\uc790\\uce58\\ub3c4\",\"\\uc81c\\uc8fc\\ud2b9\\ubcc4\\uc790\\uce58\\ub3c4\",\"\\uc81c\\uc8fc\\ud2b9\\ubcc4\\uc790\\uce58\\ub3c4\",\"\\uc81c\\uc8fc\\ud2b9\\ubcc4\\uc790\\uce58\\ub3c4\",\"\\uc81c\\uc8fc\\ud2b9\\ubcc4\\uc790\\uce58\\ub3c4\",\"\\uc81c\\uc8fc\\ud2b9\\ubcc4\\uc790\\uce58\\ub3c4\",\"\\uc81c\\uc8fc\\ud2b9\\ubcc4\\uc790\\uce58\\ub3c4\",\"\\uc81c\\uc8fc\\ud2b9\\ubcc4\\uc790\\uce58\\ub3c4\",\"\\uc81c\\uc8fc\\ud2b9\\ubcc4\\uc790\\uce58\\ub3c4\",\"\\uc81c\\uc8fc\\ud2b9\\ubcc4\\uc790\\uce58\\ub3c4\",\"\\ucda9\\uccad\\ubd81\\ub3c4\",\"\\ucda9\\uccad\\ubd81\\ub3c4\",\"\\ucda9\\uccad\\ubd81\\ub3c4\",\"\\ucda9\\uccad\\ubd81\\ub3c4\",\"\\ucda9\\uccad\\ubd81\\ub3c4\",\"\\ucda9\\uccad\\ubd81\\ub3c4\",\"\\ucda9\\uccad\\ubd81\\ub3c4\",\"\\ucda9\\uccad\\ubd81\\ub3c4\",\"\\ub300\\uad6c\\uad11\\uc5ed\\uc2dc\",\"\\ub300\\uad6c\\uad11\\uc5ed\\uc2dc\",\"\\ub300\\uad6c\\uad11\\uc5ed\\uc2dc\",\"\\ub300\\uad6c\\uad11\\uc5ed\\uc2dc\",\"\\ub300\\uad6c\\uad11\\uc5ed\\uc2dc\",\"\\ucda9\\uccad\\ubd81\\ub3c4\",\"\\ucda9\\uccad\\ubd81\\ub3c4\",\"\\ucda9\\uccad\\ubd81\\ub3c4\",\"\\ucda9\\uccad\\ubd81\\ub3c4\",\"\\ucda9\\uccad\\ubd81\\ub3c4\",\"\\ucda9\\uccad\\ubd81\\ub3c4\",\"\\ucda9\\uccad\\ubd81\\ub3c4\",\"\\ucda9\\uccad\\ubd81\\ub3c4\",\"\\ucda9\\uccad\\ubd81\\ub3c4\",\"\\ucda9\\uccad\\ubd81\\ub3c4\",\"\\uacbd\\uc0c1\\ub0a8\\ub3c4\",\"\\uacbd\\uc0c1\\ub0a8\\ub3c4\",\"\\uacbd\\uc0c1\\ub0a8\\ub3c4\",\"\\uacbd\\uc0c1\\ub0a8\\ub3c4\",\"\\uacbd\\uc0c1\\ub0a8\\ub3c4\",\"\\uacbd\\uc0c1\\ub0a8\\ub3c4\",\"\\uacbd\\uc0c1\\ub0a8\\ub3c4\",\"\\uacbd\\uc0c1\\ub0a8\\ub3c4\",\"\\uacbd\\uc0c1\\ub0a8\\ub3c4\",\"\\uacbd\\uc0c1\\ub0a8\\ub3c4\",\"\\uacbd\\uc0c1\\ub0a8\\ub3c4\",\"\\uacbd\\uc0c1\\ub0a8\\ub3c4\",\"\\uacbd\\uc0c1\\ub0a8\\ub3c4\",\"\\uacbd\\uc0c1\\ub0a8\\ub3c4\",\"\\uacbd\\uc0c1\\ub0a8\\ub3c4\",\"\\uacbd\\uc0c1\\ub0a8\\ub3c4\",\"\\uacbd\\uc0c1\\ub0a8\\ub3c4\",\"\\uacbd\\uc0c1\\ub0a8\\ub3c4\",\"\\uacbd\\uc0c1\\ub0a8\\ub3c4\",\"\\uacbd\\uc0c1\\ub0a8\\ub3c4\",\"\\uacbd\\uc0c1\\ub0a8\\ub3c4\",\"\\uac15\\uc6d0\\ub3c4\",\"\\uac15\\uc6d0\\ub3c4\",\"\\uac15\\uc6d0\\ub3c4\",\"\\uac15\\uc6d0\\ub3c4\",\"\\uac15\\uc6d0\\ub3c4\",\"\\ucda9\\uccad\\ubd81\\ub3c4\",\"\\ucda9\\uccad\\ubd81\\ub3c4\",\"\\ucda9\\uccad\\ubd81\\ub3c4\",\"\\ucda9\\uccad\\ubd81\\ub3c4\",\"\\ucda9\\uccad\\ubd81\\ub3c4\",\"\\ucda9\\uccad\\ubd81\\ub3c4\",\"\\ucda9\\uccad\\ubd81\\ub3c4\",\"\\ucda9\\uccad\\ubd81\\ub3c4\",\"\\ucda9\\uccad\\ubd81\\ub3c4\",\"\\ucda9\\uccad\\ubd81\\ub3c4\",\"\\ucda9\\uccad\\ubd81\\ub3c4\",\"\\ucda9\\uccad\\ubd81\\ub3c4\",\"\\ucda9\\uccad\\ubd81\\ub3c4\",\"\\uac15\\uc6d0\\ub3c4\",\"\\uac15\\uc6d0\\ub3c4\",\"\\uac15\\uc6d0\\ub3c4\",\"\\uac15\\uc6d0\\ub3c4\",\"\\uac15\\uc6d0\\ub3c4\",\"\\uac15\\uc6d0\\ub3c4\",\"\\uac15\\uc6d0\\ub3c4\",\"\\uac15\\uc6d0\\ub3c4\",\"\\uac15\\uc6d0\\ub3c4\",\"\\uac15\\uc6d0\\ub3c4\",\"\\uac15\\uc6d0\\ub3c4\",\"\\uac15\\uc6d0\\ub3c4\",\"\\uac15\\uc6d0\\ub3c4\",\"\\uac15\\uc6d0\\ub3c4\",\"\\uac15\\uc6d0\\ub3c4\",\"\\uac15\\uc6d0\\ub3c4\",\"\\uac15\\uc6d0\\ub3c4\",\"\\uac15\\uc6d0\\ub3c4\",\"\\ucda9\\uccad\\ubd81\\ub3c4\",\"\\ucda9\\uccad\\ubd81\\ub3c4\",\"\\ucda9\\uccad\\ubd81\\ub3c4\",\"\\ucda9\\uccad\\ubd81\\ub3c4\",\"\\ucda9\\uccad\\ubd81\\ub3c4\",\"\\ucda9\\uccad\\ubd81\\ub3c4\",\"\\ucda9\\uccad\\ubd81\\ub3c4\",\"\\ucda9\\uccad\\ubd81\\ub3c4\",\"\\ucda9\\uccad\\ubd81\\ub3c4\",\"\\ucda9\\uccad\\ubd81\\ub3c4\",\"\\ucda9\\uccad\\ubd81\\ub3c4\",\"\\uacbd\\uc0c1\\ub0a8\\ub3c4\",\"\\uacbd\\uc0c1\\ub0a8\\ub3c4\",\"\\uacbd\\uc0c1\\ub0a8\\ub3c4\",\"\\uacbd\\uc0c1\\ub0a8\\ub3c4\",\"\\uacbd\\uc0c1\\ub0a8\\ub3c4\",\"\\uacbd\\uc0c1\\ub0a8\\ub3c4\",\"\\uacbd\\uc0c1\\ub0a8\\ub3c4\",\"\\uacbd\\uc0c1\\ub0a8\\ub3c4\",\"\\uacbd\\uae30\\ub3c4\",\"\\uacbd\\uae30\\ub3c4\",\"\\uacbd\\uae30\\ub3c4\",\"\\uacbd\\uae30\\ub3c4\",\"\\uacbd\\uae30\\ub3c4\",\"\\uacbd\\uae30\\ub3c4\",\"\\uacbd\\uae30\\ub3c4\",\"\\uacbd\\uae30\\ub3c4\",\"\\uacbd\\uae30\\ub3c4\",\"\\uacbd\\uae30\\ub3c4\",\"\\uacbd\\uc0c1\\ub0a8\\ub3c4\",\"\\uacbd\\uc0c1\\ub0a8\\ub3c4\",\"\\uacbd\\uc0c1\\ub0a8\\ub3c4\",\"\\uacbd\\uc0c1\\ub0a8\\ub3c4\",\"\\uacbd\\uc0c1\\ub0a8\\ub3c4\",\"\\uacbd\\uc0c1\\ub0a8\\ub3c4\",\"\\uacbd\\uc0c1\\ub0a8\\ub3c4\",\"\\uacbd\\uc0c1\\ub0a8\\ub3c4\",\"\\uacbd\\uc0c1\\ub0a8\\ub3c4\",\"\\uacbd\\uc0c1\\ub0a8\\ub3c4\",\"\\ucda9\\uccad\\ubd81\\ub3c4\",\"\\ucda9\\uccad\\ubd81\\ub3c4\",\"\\ucda9\\uccad\\ubd81\\ub3c4\",\"\\ucda9\\uccad\\ubd81\\ub3c4\",\"\\ucda9\\uccad\\ubd81\\ub3c4\",\"\\ucda9\\uccad\\ubd81\\ub3c4\",\"\\ucda9\\uccad\\ubd81\\ub3c4\",\"\\ucda9\\uccad\\ubd81\\ub3c4\",\"\\ucda9\\uccad\\ubd81\\ub3c4\",\"\\ucda9\\uccad\\ubd81\\ub3c4\",\"\\ucda9\\uccad\\ubd81\\ub3c4\",\"\\ucda9\\uccad\\ubd81\\ub3c4\",\"\\ucda9\\uccad\\ubd81\\ub3c4\",\"\\uad11\\uc8fc\\uad11\\uc5ed\\uc2dc\",\"\\uad11\\uc8fc\\uad11\\uc5ed\\uc2dc\",\"\\uad11\\uc8fc\\uad11\\uc5ed\\uc2dc\",\"\\uad11\\uc8fc\\uad11\\uc5ed\\uc2dc\",\"\\uad11\\uc8fc\\uad11\\uc5ed\\uc2dc\",\"\\uad11\\uc8fc\\uad11\\uc5ed\\uc2dc\",\"\\uad11\\uc8fc\\uad11\\uc5ed\\uc2dc\",\"\\uad11\\uc8fc\\uad11\\uc5ed\\uc2dc\",\"\\uad11\\uc8fc\\uad11\\uc5ed\\uc2dc\",\"\\uc804\\ub77c\\ub0a8\\ub3c4\",\"\\uc804\\ub77c\\ub0a8\\ub3c4\",\"\\uc804\\ub77c\\ub0a8\\ub3c4\",\"\\uc804\\ub77c\\ub0a8\\ub3c4\",\"\\uc804\\ub77c\\ub0a8\\ub3c4\",\"\\uc804\\ub77c\\ubd81\\ub3c4\",\"\\uc804\\ub77c\\ubd81\\ub3c4\",\"\\uc804\\ub77c\\ubd81\\ub3c4\",\"\\uc804\\ub77c\\ubd81\\ub3c4\",\"\\uc804\\ub77c\\ubd81\\ub3c4\",\"\\uacbd\\uae30\\ub3c4\",\"\\uacbd\\uae30\\ub3c4\",\"\\uacbd\\uae30\\ub3c4\",\"\\uacbd\\uae30\\ub3c4\",\"\\uacbd\\uae30\\ub3c4\",\"\\uacbd\\uae30\\ub3c4\",\"\\uacbd\\uae30\\ub3c4\",\"\\uacbd\\uae30\\ub3c4\",\"\\uacbd\\uae30\\ub3c4\",\"\\uacbd\\uae30\\ub3c4\",\"\\ub300\\uc804\\uad11\\uc5ed\\uc2dc\",\"\\ub300\\uc804\\uad11\\uc5ed\\uc2dc\",\"\\ub300\\uc804\\uad11\\uc5ed\\uc2dc\",\"\\ub300\\uc804\\uad11\\uc5ed\\uc2dc\",\"\\ub300\\uc804\\uad11\\uc5ed\\uc2dc\",\"\\ub300\\uc804\\uad11\\uc5ed\\uc2dc\",\"\\ub300\\uc804\\uad11\\uc5ed\\uc2dc\",\"\\ub300\\uc804\\uad11\\uc5ed\\uc2dc\",\"\\ub300\\uc804\\uad11\\uc5ed\\uc2dc\",\"\\ub300\\uc804\\uad11\\uc5ed\\uc2dc\",\"\\ub300\\uc804\\uad11\\uc5ed\\uc2dc\",\"\\ub300\\uc804\\uad11\\uc5ed\\uc2dc\",\"\\ub300\\uc804\\uad11\\uc5ed\\uc2dc\",\"\\ub300\\uc804\\uad11\\uc5ed\\uc2dc\",\"\\ub300\\uc804\\uad11\\uc5ed\\uc2dc\",\"\\ub300\\uc804\\uad11\\uc5ed\\uc2dc\",\"\\uacbd\\uc0c1\\ubd81\\ub3c4\",\"\\uacbd\\uc0c1\\ubd81\\ub3c4\",\"\\uacbd\\uc0c1\\ubd81\\ub3c4\",\"\\uacbd\\uc0c1\\ubd81\\ub3c4\",\"\\uacbd\\uc0c1\\ubd81\\ub3c4\",\"\\uacbd\\uc0c1\\ubd81\\ub3c4\",\"\\uad11\\uc8fc\\uad11\\uc5ed\\uc2dc\",\"\\uad11\\uc8fc\\uad11\\uc5ed\\uc2dc\",\"\\uad11\\uc8fc\\uad11\\uc5ed\\uc2dc\",\"\\uad11\\uc8fc\\uad11\\uc5ed\\uc2dc\",\"\\uad11\\uc8fc\\uad11\\uc5ed\\uc2dc\",\"\\uad11\\uc8fc\\uad11\\uc5ed\\uc2dc\",\"\\uad11\\uc8fc\\uad11\\uc5ed\\uc2dc\",\"\\uad11\\uc8fc\\uad11\\uc5ed\\uc2dc\",\"\\ub300\\uc804\\uad11\\uc5ed\\uc2dc\",\"\\ub300\\uc804\\uad11\\uc5ed\\uc2dc\",\"\\ub300\\uc804\\uad11\\uc5ed\\uc2dc\",\"\\ub300\\uc804\\uad11\\uc5ed\\uc2dc\",\"\\ub300\\uc804\\uad11\\uc5ed\\uc2dc\",\"\\ub300\\uc804\\uad11\\uc5ed\\uc2dc\",\"\\ub300\\uc804\\uad11\\uc5ed\\uc2dc\",\"\\ub300\\uc804\\uad11\\uc5ed\\uc2dc\",\"\\ub300\\uc804\\uad11\\uc5ed\\uc2dc\",\"\\ub300\\uc804\\uad11\\uc5ed\\uc2dc\",\"\\ub300\\uc804\\uad11\\uc5ed\\uc2dc\",\"\\ub300\\uc804\\uad11\\uc5ed\\uc2dc\",\"\\ub300\\uc804\\uad11\\uc5ed\\uc2dc\",\"\\ub300\\uc804\\uad11\\uc5ed\\uc2dc\",\"\\uc804\\ub77c\\ub0a8\\ub3c4\",\"\\uc804\\ub77c\\ub0a8\\ub3c4\",\"\\uc804\\ub77c\\ub0a8\\ub3c4\",\"\\uc804\\ub77c\\ub0a8\\ub3c4\",\"\\uc804\\ub77c\\ub0a8\\ub3c4\",\"\\uc804\\ub77c\\ub0a8\\ub3c4\",\"\\uacbd\\uc0c1\\ub0a8\\ub3c4\",\"\\uacbd\\uc0c1\\ub0a8\\ub3c4\",\"\\uacbd\\uc0c1\\ub0a8\\ub3c4\",\"\\uacbd\\uc0c1\\ub0a8\\ub3c4\",\"\\uacbd\\uc0c1\\ub0a8\\ub3c4\",\"\\uacbd\\uc0c1\\ub0a8\\ub3c4\",\"\\uacbd\\uc0c1\\ub0a8\\ub3c4\",\"\\uacbd\\uc0c1\\ub0a8\\ub3c4\",\"\\uacbd\\uc0c1\\ub0a8\\ub3c4\",\"\\uacbd\\uae30\\ub3c4\",\"\\uacbd\\uae30\\ub3c4\",\"\\uacbd\\uae30\\ub3c4\",\"\\uacbd\\uae30\\ub3c4\",\"\\uacbd\\uae30\\ub3c4\",\"\\uacbd\\uae30\\ub3c4\",\"\\uacbd\\uc0c1\\ub0a8\\ub3c4\",\"\\uacbd\\uc0c1\\ub0a8\\ub3c4\",\"\\uacbd\\uc0c1\\ub0a8\\ub3c4\",\"\\uacbd\\uc0c1\\ub0a8\\ub3c4\",\"\\uacbd\\uc0c1\\ub0a8\\ub3c4\",\"\\uacbd\\uc0c1\\ub0a8\\ub3c4\",\"\\uacbd\\uc0c1\\ub0a8\\ub3c4\",\"\\uacbd\\uc0c1\\ub0a8\\ub3c4\",\"\\uacbd\\uc0c1\\ub0a8\\ub3c4\",\"\\uacbd\\uc0c1\\ub0a8\\ub3c4\",\"\\ucda9\\uccad\\ubd81\\ub3c4\",\"\\ucda9\\uccad\\ubd81\\ub3c4\",\"\\ucda9\\uccad\\ubd81\\ub3c4\",\"\\ucda9\\uccad\\ubd81\\ub3c4\",\"\\ucda9\\uccad\\ubd81\\ub3c4\",\"\\uacbd\\uc0c1\\ub0a8\\ub3c4\",\"\\uacbd\\uc0c1\\ub0a8\\ub3c4\",\"\\uacbd\\uc0c1\\ub0a8\\ub3c4\",\"\\uacbd\\uc0c1\\ub0a8\\ub3c4\",\"\\uacbd\\uc0c1\\ub0a8\\ub3c4\",\"\\uacbd\\uc0c1\\ub0a8\\ub3c4\",\"\\uacbd\\uae30\\ub3c4\",\"\\uacbd\\uae30\\ub3c4\",\"\\uacbd\\uae30\\ub3c4\",\"\\uacbd\\uae30\\ub3c4\",\"\\uacbd\\uae30\\ub3c4\",\"\\uacbd\\uae30\\ub3c4\",\"\\uacbd\\uae30\\ub3c4\",\"\\uacbd\\uae30\\ub3c4\",\"\\uacbd\\uae30\\ub3c4\",\"\\uacbd\\uae30\\ub3c4\",\"\\uacbd\\uae30\\ub3c4\",\"\\uacbd\\uae30\\ub3c4\",\"\\uacbd\\uae30\\ub3c4\",\"\\uacbd\\uae30\\ub3c4\",\"\\uacbd\\uae30\\ub3c4\",\"\\uacbd\\uae30\\ub3c4\",\"\\uacbd\\uae30\\ub3c4\",\"\\uacbd\\uae30\\ub3c4\",\"\\uacbd\\uae30\\ub3c4\",\"\\uacbd\\uae30\\ub3c4\",\"\\ucda9\\uccad\\ubd81\\ub3c4\",\"\\ucda9\\uccad\\ubd81\\ub3c4\",\"\\ucda9\\uccad\\ubd81\\ub3c4\",\"\\ucda9\\uccad\\ubd81\\ub3c4\",\"\\ucda9\\uccad\\ubd81\\ub3c4\",\"\\ucda9\\uccad\\ubd81\\ub3c4\",\"\\uc11c\\uc6b8\\ud2b9\\ubcc4\\uc2dc\",\"\\uc11c\\uc6b8\\ud2b9\\ubcc4\\uc2dc\",\"\\uc11c\\uc6b8\\ud2b9\\ubcc4\\uc2dc\",\"\\uc11c\\uc6b8\\ud2b9\\ubcc4\\uc2dc\",\"\\uc11c\\uc6b8\\ud2b9\\ubcc4\\uc2dc\",\"\\uc11c\\uc6b8\\ud2b9\\ubcc4\\uc2dc\",\"\\uacbd\\uc0c1\\ubd81\\ub3c4\",\"\\uacbd\\uc0c1\\ubd81\\ub3c4\",\"\\uacbd\\uc0c1\\ubd81\\ub3c4\",\"\\uacbd\\uc0c1\\ubd81\\ub3c4\",\"\\uacbd\\uc0c1\\ubd81\\ub3c4\",\"\\uacbd\\uc0c1\\ubd81\\ub3c4\",\"\\uacbd\\uc0c1\\ubd81\\ub3c4\",\"\\uacbd\\uc0c1\\ubd81\\ub3c4\",\"\\uacbd\\uc0c1\\ubd81\\ub3c4\",\"\\uacbd\\uc0c1\\ubd81\\ub3c4\",\"\\uacbd\\uc0c1\\ubd81\\ub3c4\",\"\\uacbd\\uc0c1\\ubd81\\ub3c4\",\"\\uacbd\\uc0c1\\ubd81\\ub3c4\",\"\\uacbd\\uc0c1\\ubd81\\ub3c4\",\"\\uacbd\\uc0c1\\ubd81\\ub3c4\",\"\\uacbd\\uc0c1\\ubd81\\ub3c4\",\"\\uacbd\\uc0c1\\ubd81\\ub3c4\",\"\\uacbd\\uc0c1\\ub0a8\\ub3c4\",\"\\uacbd\\uc0c1\\ub0a8\\ub3c4\",\"\\uacbd\\uc0c1\\ub0a8\\ub3c4\",\"\\uacbd\\uc0c1\\ub0a8\\ub3c4\",\"\\uacbd\\uc0c1\\ub0a8\\ub3c4\",\"\\uacbd\\uc0c1\\ub0a8\\ub3c4\",\"\\ucda9\\uccad\\ub0a8\\ub3c4\",\"\\ucda9\\uccad\\ub0a8\\ub3c4\",\"\\uc804\\ub77c\\ub0a8\\ub3c4\",\"\\uc804\\ub77c\\ub0a8\\ub3c4\",\"\\uc804\\ub77c\\ub0a8\\ub3c4\",\"\\uc804\\ub77c\\ub0a8\\ub3c4\",\"\\uc804\\ub77c\\ub0a8\\ub3c4\",\"\\uc804\\ub77c\\ub0a8\\ub3c4\",\"\\uacbd\\uc0c1\\ub0a8\\ub3c4\",\"\\uacbd\\uc0c1\\ub0a8\\ub3c4\",\"\\uacbd\\uc0c1\\ub0a8\\ub3c4\",\"\\uacbd\\uc0c1\\ub0a8\\ub3c4\",\"\\uacbd\\uc0c1\\ub0a8\\ub3c4\",\"\\uacbd\\uc0c1\\ub0a8\\ub3c4\",\"\\uac15\\uc6d0\\ub3c4\",\"\\uac15\\uc6d0\\ub3c4\",\"\\uac15\\uc6d0\\ub3c4\",\"\\uac15\\uc6d0\\ub3c4\",\"\\uacbd\\uae30\\ub3c4\",\"\\uacbd\\uae30\\ub3c4\",\"\\uacbd\\uae30\\ub3c4\",\"\\uacbd\\uae30\\ub3c4\",\"\\uacbd\\uae30\\ub3c4\",\"\\uacbd\\uae30\\ub3c4\",\"\\uacbd\\uae30\\ub3c4\",\"\\uacbd\\uae30\\ub3c4\",\"\\uacbd\\uae30\\ub3c4\",\"\\uacbd\\uae30\\ub3c4\",\"\\uacbd\\uae30\\ub3c4\",\"\\uacbd\\uae30\\ub3c4\",\"\\uacbd\\uae30\\ub3c4\",\"\\uacbd\\uae30\\ub3c4\",\"\\uacbd\\uae30\\ub3c4\",\"\\uacbd\\uae30\\ub3c4\",\"\\uacbd\\uae30\\ub3c4\",\"\\ubd80\\uc0b0\\uad11\\uc5ed\\uc2dc\",\"\\ubd80\\uc0b0\\uad11\\uc5ed\\uc2dc\",\"\\ubd80\\uc0b0\\uad11\\uc5ed\\uc2dc\",\"\\ubd80\\uc0b0\\uad11\\uc5ed\\uc2dc\",\"\\ubd80\\uc0b0\\uad11\\uc5ed\\uc2dc\",\"\\ubd80\\uc0b0\\uad11\\uc5ed\\uc2dc\",\"\\uacbd\\uc0c1\\ubd81\\ub3c4\",\"\\uacbd\\uc0c1\\ubd81\\ub3c4\",\"\\uacbd\\uc0c1\\ubd81\\ub3c4\",\"\\uacbd\\uc0c1\\ubd81\\ub3c4\",\"\\uacbd\\uc0c1\\ubd81\\ub3c4\",\"\\uacbd\\uc0c1\\ubd81\\ub3c4\",\"\\uacbd\\uc0c1\\ubd81\\ub3c4\",\"\\uacbd\\uc0c1\\ubd81\\ub3c4\",\"\\uacbd\\uc0c1\\ubd81\\ub3c4\",\"\\uacbd\\uc0c1\\ubd81\\ub3c4\",\"\\uacbd\\uc0c1\\ubd81\\ub3c4\",\"\\uacbd\\uc0c1\\ubd81\\ub3c4\",\"\\uacbd\\uae30\\ub3c4\",\"\\uacbd\\uae30\\ub3c4\",\"\\uacbd\\uae30\\ub3c4\",\"\\uacbd\\uae30\\ub3c4\",\"\\ucda9\\uccad\\ub0a8\\ub3c4\",\"\\ucda9\\uccad\\ub0a8\\ub3c4\",\"\\ucda9\\uccad\\ub0a8\\ub3c4\",\"\\ucda9\\uccad\\ub0a8\\ub3c4\",\"\\ucda9\\uccad\\ub0a8\\ub3c4\",\"\\ucda9\\uccad\\ub0a8\\ub3c4\",\"\\uacbd\\uae30\\ub3c4\",\"\\uacbd\\uae30\\ub3c4\",\"\\uacbd\\uae30\\ub3c4\",\"\\uacbd\\uae30\\ub3c4\",\"\\uacbd\\uae30\\ub3c4\",\"\\uacbd\\uae30\\ub3c4\",\"\\uacbd\\uae30\\ub3c4\",\"\\uacbd\\uae30\\ub3c4\",\"\\uacbd\\uae30\\ub3c4\",\"\\ubd80\\uc0b0\\uad11\\uc5ed\\uc2dc\",\"\\ubd80\\uc0b0\\uad11\\uc5ed\\uc2dc\",\"\\ubd80\\uc0b0\\uad11\\uc5ed\\uc2dc\",\"\\ubd80\\uc0b0\\uad11\\uc5ed\\uc2dc\",\"\\ubd80\\uc0b0\\uad11\\uc5ed\\uc2dc\",\"\\ubd80\\uc0b0\\uad11\\uc5ed\\uc2dc\",\"\\uacbd\\uae30\\ub3c4\",\"\\uacbd\\uae30\\ub3c4\",\"\\uacbd\\uae30\\ub3c4\",\"\\uacbd\\uae30\\ub3c4\",\"\\uacbd\\uae30\\ub3c4\",\"\\uacbd\\uae30\\ub3c4\",\"\\uacbd\\uae30\\ub3c4\",\"\\uc11c\\uc6b8\\ud2b9\\ubcc4\\uc2dc\",\"\\uc11c\\uc6b8\\ud2b9\\ubcc4\\uc2dc\",\"\\uc11c\\uc6b8\\ud2b9\\ubcc4\\uc2dc\",\"\\uc11c\\uc6b8\\ud2b9\\ubcc4\\uc2dc\",\"\\uc11c\\uc6b8\\ud2b9\\ubcc4\\uc2dc\",\"\\uc11c\\uc6b8\\ud2b9\\ubcc4\\uc2dc\",\"\\uc11c\\uc6b8\\ud2b9\\ubcc4\\uc2dc\",\"\\uc11c\\uc6b8\\ud2b9\\ubcc4\\uc2dc\",\"\\uc11c\\uc6b8\\ud2b9\\ubcc4\\uc2dc\",\"\\uc11c\\uc6b8\\ud2b9\\ubcc4\\uc2dc\",\"\\uac15\\uc6d0\\ub3c4\",\"\\uac15\\uc6d0\\ub3c4\",\"\\uac15\\uc6d0\\ub3c4\",\"\\uac15\\uc6d0\\ub3c4\",\"\\uac15\\uc6d0\\ub3c4\",\"\\uac15\\uc6d0\\ub3c4\",\"\\uac15\\uc6d0\\ub3c4\",\"\\uac15\\uc6d0\\ub3c4\",\"\\uac15\\uc6d0\\ub3c4\",\"\\uacbd\\uc0c1\\ub0a8\\ub3c4\",\"\\uacbd\\uc0c1\\ub0a8\\ub3c4\",\"\\uacbd\\uc0c1\\ub0a8\\ub3c4\",\"\\uacbd\\uc0c1\\ub0a8\\ub3c4\",\"\\uc11c\\uc6b8\\ud2b9\\ubcc4\\uc2dc\",\"\\uc11c\\uc6b8\\ud2b9\\ubcc4\\uc2dc\",\"\\uc11c\\uc6b8\\ud2b9\\ubcc4\\uc2dc\",\"\\uc11c\\uc6b8\\ud2b9\\ubcc4\\uc2dc\",\"\\uc11c\\uc6b8\\ud2b9\\ubcc4\\uc2dc\",\"\\uc11c\\uc6b8\\ud2b9\\ubcc4\\uc2dc\",\"\\uc11c\\uc6b8\\ud2b9\\ubcc4\\uc2dc\",\"\\uc11c\\uc6b8\\ud2b9\\ubcc4\\uc2dc\",\"\\uc11c\\uc6b8\\ud2b9\\ubcc4\\uc2dc\",\"\\uc11c\\uc6b8\\ud2b9\\ubcc4\\uc2dc\",\"\\uc11c\\uc6b8\\ud2b9\\ubcc4\\uc2dc\",\"\\ucda9\\uccad\\ubd81\\ub3c4\",\"\\ucda9\\uccad\\ubd81\\ub3c4\",\"\\ucda9\\uccad\\ubd81\\ub3c4\",\"\\ucda9\\uccad\\ubd81\\ub3c4\",\"\\ucda9\\uccad\\ubd81\\ub3c4\",\"\\ucda9\\uccad\\ubd81\\ub3c4\",\"\\ucda9\\uccad\\ubd81\\ub3c4\",\"\\ucda9\\uccad\\ubd81\\ub3c4\",\"\\uacbd\\uc0c1\\ubd81\\ub3c4\",\"\\uacbd\\uc0c1\\ubd81\\ub3c4\",\"\\uacbd\\uc0c1\\ubd81\\ub3c4\",\"\\uacbd\\uc0c1\\ubd81\\ub3c4\",\"\\uacbd\\uc0c1\\ubd81\\ub3c4\",\"\\uacbd\\uae30\\ub3c4\",\"\\uacbd\\uae30\\ub3c4\",\"\\uacbd\\uae30\\ub3c4\",\"\\uacbd\\uae30\\ub3c4\",\"\\uacbd\\uae30\\ub3c4\",\"\\uacbd\\uae30\\ub3c4\",\"\\uacbd\\uae30\\ub3c4\",\"\\uacbd\\uae30\\ub3c4\",\"\\uacbd\\uae30\\ub3c4\",\"\\uacbd\\uae30\\ub3c4\",\"\\uacbd\\uae30\\ub3c4\",\"\\ubd80\\uc0b0\\uad11\\uc5ed\\uc2dc\",\"\\ubd80\\uc0b0\\uad11\\uc5ed\\uc2dc\",\"\\ubd80\\uc0b0\\uad11\\uc5ed\\uc2dc\",\"\\uc804\\ub77c\\ub0a8\\ub3c4\",\"\\uc804\\ub77c\\ub0a8\\ub3c4\",\"\\uc804\\ub77c\\ub0a8\\ub3c4\",\"\\ub300\\uc804\\uad11\\uc5ed\\uc2dc\",\"\\ub300\\uc804\\uad11\\uc5ed\\uc2dc\",\"\\ub300\\uc804\\uad11\\uc5ed\\uc2dc\",\"\\ub300\\uc804\\uad11\\uc5ed\\uc2dc\",\"\\ub300\\uc804\\uad11\\uc5ed\\uc2dc\",\"\\ub300\\uc804\\uad11\\uc5ed\\uc2dc\",\"\\ub300\\uc804\\uad11\\uc5ed\\uc2dc\",\"\\uc804\\ub77c\\ubd81\\ub3c4\",\"\\uc804\\ub77c\\ubd81\\ub3c4\",\"\\uc804\\ub77c\\ubd81\\ub3c4\",\"\\uc804\\ub77c\\ubd81\\ub3c4\",\"\\ucda9\\uccad\\ubd81\\ub3c4\",\"\\ucda9\\uccad\\ubd81\\ub3c4\",\"\\ucda9\\uccad\\ubd81\\ub3c4\",\"\\ucda9\\uccad\\ubd81\\ub3c4\",\"\\ucda9\\uccad\\ubd81\\ub3c4\",\"\\ucda9\\uccad\\ubd81\\ub3c4\",\"\\ucda9\\uccad\\ubd81\\ub3c4\",\"\\ucda9\\uccad\\ubd81\\ub3c4\",\"\\ucda9\\uccad\\ubd81\\ub3c4\",\"\\ucda9\\uccad\\ubd81\\ub3c4\",\"\\uc11c\\uc6b8\\ud2b9\\ubcc4\\uc2dc\",\"\\uc11c\\uc6b8\\ud2b9\\ubcc4\\uc2dc\",\"\\uc11c\\uc6b8\\ud2b9\\ubcc4\\uc2dc\",\"\\uc11c\\uc6b8\\ud2b9\\ubcc4\\uc2dc\",\"\\uc11c\\uc6b8\\ud2b9\\ubcc4\\uc2dc\",\"\\uc11c\\uc6b8\\ud2b9\\ubcc4\\uc2dc\",\"\\uc11c\\uc6b8\\ud2b9\\ubcc4\\uc2dc\",\"\\uc11c\\uc6b8\\ud2b9\\ubcc4\\uc2dc\",\"\\uc11c\\uc6b8\\ud2b9\\ubcc4\\uc2dc\",\"\\uc11c\\uc6b8\\ud2b9\\ubcc4\\uc2dc\",\"\\uacbd\\uc0c1\\ub0a8\\ub3c4\",\"\\uacbd\\uc0c1\\ub0a8\\ub3c4\",\"\\uacbd\\uc0c1\\ubd81\\ub3c4\",\"\\uacbd\\uc0c1\\ubd81\\ub3c4\",\"\\uacbd\\uc0c1\\ubd81\\ub3c4\",\"\\uacbd\\uc0c1\\ubd81\\ub3c4\",\"\\uc804\\ub77c\\ub0a8\\ub3c4\",\"\\uc804\\ub77c\\ub0a8\\ub3c4\",\"\\uc804\\ub77c\\ub0a8\\ub3c4\",\"\\uc804\\ub77c\\ub0a8\\ub3c4\",\"\\uc804\\ub77c\\ub0a8\\ub3c4\",\"\\uc804\\ub77c\\ub0a8\\ub3c4\",\"\\uc804\\ub77c\\ub0a8\\ub3c4\",\"\\uc804\\ub77c\\ub0a8\\ub3c4\",\"\\uc804\\ub77c\\ub0a8\\ub3c4\",\"\\uc804\\ub77c\\ub0a8\\ub3c4\",\"\\uc804\\ub77c\\ub0a8\\ub3c4\",\"\\uc804\\ub77c\\ub0a8\\ub3c4\",\"\\uc804\\ub77c\\ub0a8\\ub3c4\",\"\\uc804\\ub77c\\ub0a8\\ub3c4\",\"\\ucda9\\uccad\\ub0a8\\ub3c4\",\"\\ucda9\\uccad\\ub0a8\\ub3c4\",\"\\ucda9\\uccad\\ub0a8\\ub3c4\",\"\\uad11\\uc8fc\\uad11\\uc5ed\\uc2dc\",\"\\uad11\\uc8fc\\uad11\\uc5ed\\uc2dc\",\"\\uad11\\uc8fc\\uad11\\uc5ed\\uc2dc\",\"\\uad11\\uc8fc\\uad11\\uc5ed\\uc2dc\",\"\\uad11\\uc8fc\\uad11\\uc5ed\\uc2dc\",\"\\uad11\\uc8fc\\uad11\\uc5ed\\uc2dc\",\"\\uad11\\uc8fc\\uad11\\uc5ed\\uc2dc\",\"\\uad11\\uc8fc\\uad11\\uc5ed\\uc2dc\",\"\\uad11\\uc8fc\\uad11\\uc5ed\\uc2dc\",\"\\ubd80\\uc0b0\\uad11\\uc5ed\\uc2dc\",\"\\ubd80\\uc0b0\\uad11\\uc5ed\\uc2dc\",\"\\ubd80\\uc0b0\\uad11\\uc5ed\\uc2dc\",\"\\ubd80\\uc0b0\\uad11\\uc5ed\\uc2dc\",\"\\ubd80\\uc0b0\\uad11\\uc5ed\\uc2dc\",\"\\ubd80\\uc0b0\\uad11\\uc5ed\\uc2dc\",\"\\ubd80\\uc0b0\\uad11\\uc5ed\\uc2dc\",\"\\ubd80\\uc0b0\\uad11\\uc5ed\\uc2dc\",\"\\ubd80\\uc0b0\\uad11\\uc5ed\\uc2dc\",\"\\ubd80\\uc0b0\\uad11\\uc5ed\\uc2dc\",\"\\uacbd\\uc0c1\\ub0a8\\ub3c4\",\"\\uacbd\\uc0c1\\ub0a8\\ub3c4\",\"\\uacbd\\uc0c1\\ub0a8\\ub3c4\",\"\\ub300\\uad6c\\uad11\\uc5ed\\uc2dc\",\"\\ub300\\uad6c\\uad11\\uc5ed\\uc2dc\",\"\\ub300\\uad6c\\uad11\\uc5ed\\uc2dc\",\"\\ub300\\uad6c\\uad11\\uc5ed\\uc2dc\",\"\\ub300\\uad6c\\uad11\\uc5ed\\uc2dc\",\"\\ub300\\uad6c\\uad11\\uc5ed\\uc2dc\",\"\\ucda9\\uccad\\ubd81\\ub3c4\",\"\\ucda9\\uccad\\ubd81\\ub3c4\",\"\\ucda9\\uccad\\ubd81\\ub3c4\",\"\\ucda9\\uccad\\ubd81\\ub3c4\",\"\\ucda9\\uccad\\ubd81\\ub3c4\",\"\\ucda9\\uccad\\ubd81\\ub3c4\",\"\\ucda9\\uccad\\ubd81\\ub3c4\",\"\\uacbd\\uae30\\ub3c4\",\"\\uacbd\\uae30\\ub3c4\",\"\\uacbd\\uae30\\ub3c4\",\"\\uacbd\\uae30\\ub3c4\",\"\\uacbd\\uae30\\ub3c4\",\"\\uacbd\\uae30\\ub3c4\",\"\\uacbd\\uae30\\ub3c4\",\"\\uacbd\\uae30\\ub3c4\",\"\\uacbd\\uae30\\ub3c4\",\"\\uacbd\\uae30\\ub3c4\",\"\\uacbd\\uae30\\ub3c4\",\"\\uacbd\\uae30\\ub3c4\",\"\\uacbd\\uae30\\ub3c4\",\"\\uacbd\\uae30\\ub3c4\",\"\\uacbd\\uae30\\ub3c4\",\"\\uacbd\\uae30\\ub3c4\",\"\\uacbd\\uae30\\ub3c4\",\"\\uacbd\\uae30\\ub3c4\",\"\\uc804\\ub77c\\ubd81\\ub3c4\",\"\\uc804\\ub77c\\ubd81\\ub3c4\",\"\\uc804\\ub77c\\ubd81\\ub3c4\",\"\\uc804\\ub77c\\ubd81\\ub3c4\",\"\\uc804\\ub77c\\ubd81\\ub3c4\",\"\\uc81c\\uc8fc\\ud2b9\\ubcc4\\uc790\\uce58\\ub3c4\",\"\\uc81c\\uc8fc\\ud2b9\\ubcc4\\uc790\\uce58\\ub3c4\",\"\\uc81c\\uc8fc\\ud2b9\\ubcc4\\uc790\\uce58\\ub3c4\",\"\\uc81c\\uc8fc\\ud2b9\\ubcc4\\uc790\\uce58\\ub3c4\",\"\\uc81c\\uc8fc\\ud2b9\\ubcc4\\uc790\\uce58\\ub3c4\",\"\\uc81c\\uc8fc\\ud2b9\\ubcc4\\uc790\\uce58\\ub3c4\",\"\\uac15\\uc6d0\\ub3c4\",\"\\uac15\\uc6d0\\ub3c4\",\"\\uac15\\uc6d0\\ub3c4\",\"\\uacbd\\uc0c1\\ubd81\\ub3c4\",\"\\uacbd\\uc0c1\\ubd81\\ub3c4\",\"\\uacbd\\uc0c1\\ubd81\\ub3c4\",\"\\uc804\\ub77c\\ub0a8\\ub3c4\",\"\\uc804\\ub77c\\ub0a8\\ub3c4\",\"\\uc804\\ub77c\\ub0a8\\ub3c4\",\"\\uc804\\ub77c\\ub0a8\\ub3c4\",\"\\ub300\\uc804\\uad11\\uc5ed\\uc2dc\",\"\\ub300\\uc804\\uad11\\uc5ed\\uc2dc\",\"\\ub300\\uc804\\uad11\\uc5ed\\uc2dc\",\"\\ub300\\uc804\\uad11\\uc5ed\\uc2dc\",\"\\ub300\\uc804\\uad11\\uc5ed\\uc2dc\",\"\\ub300\\uc804\\uad11\\uc5ed\\uc2dc\",\"\\ub300\\uc804\\uad11\\uc5ed\\uc2dc\",\"\\ub300\\uc804\\uad11\\uc5ed\\uc2dc\",\"\\ub300\\uc804\\uad11\\uc5ed\\uc2dc\",\"\\ub300\\uc804\\uad11\\uc5ed\\uc2dc\",\"\\ub300\\uc804\\uad11\\uc5ed\\uc2dc\",\"\\uacbd\\uae30\\ub3c4\",\"\\uacbd\\uae30\\ub3c4\",\"\\uacbd\\uae30\\ub3c4\",\"\\uacbd\\uae30\\ub3c4\",\"\\uacbd\\uae30\\ub3c4\",\"\\uacbd\\uae30\\ub3c4\",\"\\uacbd\\uae30\\ub3c4\",\"\\uacbd\\uae30\\ub3c4\",\"\\uacbd\\uae30\\ub3c4\",\"\\uacbd\\uae30\\ub3c4\",\"\\uacbd\\uae30\\ub3c4\",\"\\uacbd\\uae30\\ub3c4\",\"\\ub300\\uad6c\\uad11\\uc5ed\\uc2dc\",\"\\ub300\\uad6c\\uad11\\uc5ed\\uc2dc\",\"\\ub300\\uad6c\\uad11\\uc5ed\\uc2dc\",\"\\ub300\\uad6c\\uad11\\uc5ed\\uc2dc\",\"\\uac15\\uc6d0\\ub3c4\",\"\\uac15\\uc6d0\\ub3c4\",\"\\uac15\\uc6d0\\ub3c4\",\"\\uad11\\uc8fc\\uad11\\uc5ed\\uc2dc\",\"\\uad11\\uc8fc\\uad11\\uc5ed\\uc2dc\",\"\\uad11\\uc8fc\\uad11\\uc5ed\\uc2dc\",\"\\uad11\\uc8fc\\uad11\\uc5ed\\uc2dc\",\"\\uad11\\uc8fc\\uad11\\uc5ed\\uc2dc\",\"\\ub300\\uad6c\\uad11\\uc5ed\\uc2dc\",\"\\ub300\\uad6c\\uad11\\uc5ed\\uc2dc\",\"\\ub300\\uad6c\\uad11\\uc5ed\\uc2dc\",\"\\ub300\\uad6c\\uad11\\uc5ed\\uc2dc\",\"\\ub300\\uad6c\\uad11\\uc5ed\\uc2dc\",\"\\ub300\\uad6c\\uad11\\uc5ed\\uc2dc\",\"\\ub300\\uad6c\\uad11\\uc5ed\\uc2dc\",\"\\ub300\\uc804\\uad11\\uc5ed\\uc2dc\",\"\\ub300\\uc804\\uad11\\uc5ed\\uc2dc\",\"\\ub300\\uc804\\uad11\\uc5ed\\uc2dc\",\"\\ub300\\uc804\\uad11\\uc5ed\\uc2dc\",\"\\ub300\\uc804\\uad11\\uc5ed\\uc2dc\",\"\\ub300\\uc804\\uad11\\uc5ed\\uc2dc\",\"\\ub300\\uc804\\uad11\\uc5ed\\uc2dc\",\"\\ub300\\uc804\\uad11\\uc5ed\\uc2dc\",\"\\ub300\\uc804\\uad11\\uc5ed\\uc2dc\",\"\\ub300\\uc804\\uad11\\uc5ed\\uc2dc\",\"\\ub300\\uc804\\uad11\\uc5ed\\uc2dc\",\"\\ub300\\uc804\\uad11\\uc5ed\\uc2dc\",\"\\ub300\\uc804\\uad11\\uc5ed\\uc2dc\",\"\\ucda9\\uccad\\ubd81\\ub3c4\",\"\\ucda9\\uccad\\ubd81\\ub3c4\",\"\\ucda9\\uccad\\ubd81\\ub3c4\",\"\\ucda9\\uccad\\ubd81\\ub3c4\",\"\\ucda9\\uccad\\ubd81\\ub3c4\",\"\\uac15\\uc6d0\\ub3c4\",\"\\uac15\\uc6d0\\ub3c4\",\"\\uac15\\uc6d0\\ub3c4\",\"\\uac15\\uc6d0\\ub3c4\",\"\\uacbd\\uae30\\ub3c4\",\"\\uacbd\\uae30\\ub3c4\",\"\\uacbd\\uae30\\ub3c4\",\"\\uacbd\\uae30\\ub3c4\",\"\\uacbd\\uae30\\ub3c4\",\"\\uacbd\\uae30\\ub3c4\",\"\\uacbd\\uae30\\ub3c4\",\"\\uacbd\\uae30\\ub3c4\",\"\\uacbd\\uc0c1\\ub0a8\\ub3c4\",\"\\uacbd\\uc0c1\\ub0a8\\ub3c4\",\"\\uacbd\\uc0c1\\ub0a8\\ub3c4\",\"\\uacbd\\uc0c1\\ub0a8\\ub3c4\",\"\\uacbd\\uc0c1\\ub0a8\\ub3c4\",\"\\uacbd\\uc0c1\\ub0a8\\ub3c4\",\"\\uacbd\\uc0c1\\ub0a8\\ub3c4\",\"\\uacbd\\uc0c1\\ub0a8\\ub3c4\",\"\\uacbd\\uc0c1\\ub0a8\\ub3c4\",\"\\uacbd\\uc0c1\\ub0a8\\ub3c4\",\"\\uacbd\\uc0c1\\ub0a8\\ub3c4\",\"\\uc81c\\uc8fc\\ud2b9\\ubcc4\\uc790\\uce58\\ub3c4\",\"\\uc81c\\uc8fc\\ud2b9\\ubcc4\\uc790\\uce58\\ub3c4\",\"\\uc81c\\uc8fc\\ud2b9\\ubcc4\\uc790\\uce58\\ub3c4\",\"\\ucda9\\uccad\\ubd81\\ub3c4\",\"\\ucda9\\uccad\\ubd81\\ub3c4\",\"\\ucda9\\uccad\\ubd81\\ub3c4\",\"\\ucda9\\uccad\\ubd81\\ub3c4\",\"\\ucda9\\uccad\\ubd81\\ub3c4\",\"\\uacbd\\uae30\\ub3c4\",\"\\uacbd\\uae30\\ub3c4\",\"\\uacbd\\uae30\\ub3c4\",\"\\uacbd\\uae30\\ub3c4\",\"\\uac15\\uc6d0\\ub3c4\",\"\\uac15\\uc6d0\\ub3c4\",\"\\uac15\\uc6d0\\ub3c4\",\"\\uacbd\\uae30\\ub3c4\",\"\\uacbd\\uae30\\ub3c4\",\"\\uacbd\\uae30\\ub3c4\",\"\\uacbd\\uae30\\ub3c4\",\"\\uacbd\\uae30\\ub3c4\",\"\\uacbd\\uae30\\ub3c4\",\"\\uacbd\\uae30\\ub3c4\",\"\\uacbd\\uae30\\ub3c4\",\"\\uacbd\\uae30\\ub3c4\",\"\\uacbd\\uae30\\ub3c4\",\"\\uacbd\\uae30\\ub3c4\",\"\\uacbd\\uae30\\ub3c4\",\"\\uacbd\\uae30\\ub3c4\",\"\\ucda9\\uccad\\ubd81\\ub3c4\",\"\\ucda9\\uccad\\ubd81\\ub3c4\",\"\\ucda9\\uccad\\ubd81\\ub3c4\",\"\\ucda9\\uccad\\ubd81\\ub3c4\",\"\\ucda9\\uccad\\ubd81\\ub3c4\",\"\\ub300\\uc804\\uad11\\uc5ed\\uc2dc\",\"\\ub300\\uc804\\uad11\\uc5ed\\uc2dc\",\"\\ub300\\uc804\\uad11\\uc5ed\\uc2dc\",\"\\ucda9\\uccad\\ub0a8\\ub3c4\",\"\\ucda9\\uccad\\ub0a8\\ub3c4\",\"\\ucda9\\uccad\\ub0a8\\ub3c4\",\"\\ucda9\\uccad\\ub0a8\\ub3c4\",\"\\ucda9\\uccad\\ub0a8\\ub3c4\",\"\\ucda9\\uccad\\ub0a8\\ub3c4\",\"\\uad11\\uc8fc\\uad11\\uc5ed\\uc2dc\",\"\\uad11\\uc8fc\\uad11\\uc5ed\\uc2dc\",\"\\uad11\\uc8fc\\uad11\\uc5ed\\uc2dc\",\"\\uad11\\uc8fc\\uad11\\uc5ed\\uc2dc\",\"\\uad11\\uc8fc\\uad11\\uc5ed\\uc2dc\",\"\\uad11\\uc8fc\\uad11\\uc5ed\\uc2dc\",\"\\ub300\\uad6c\\uad11\\uc5ed\\uc2dc\",\"\\ub300\\uad6c\\uad11\\uc5ed\\uc2dc\",\"\\ub300\\uad6c\\uad11\\uc5ed\\uc2dc\",\"\\ub300\\uad6c\\uad11\\uc5ed\\uc2dc\",\"\\ucda9\\uccad\\ubd81\\ub3c4\",\"\\ucda9\\uccad\\ubd81\\ub3c4\",\"\\ucda9\\uccad\\ubd81\\ub3c4\",\"\\ucda9\\uccad\\ubd81\\ub3c4\",\"\\ub300\\uad6c\\uad11\\uc5ed\\uc2dc\",\"\\ub300\\uad6c\\uad11\\uc5ed\\uc2dc\",\"\\ub300\\uad6c\\uad11\\uc5ed\\uc2dc\",\"\\ub300\\uad6c\\uad11\\uc5ed\\uc2dc\",\"\\ub300\\uad6c\\uad11\\uc5ed\\uc2dc\",\"\\ub300\\uad6c\\uad11\\uc5ed\\uc2dc\",\"\\uacbd\\uae30\\ub3c4\",\"\\uacbd\\uae30\\ub3c4\",\"\\uacbd\\uae30\\ub3c4\",\"\\uacbd\\uae30\\ub3c4\",\"\\uc138\\uc885\\ud2b9\\ubcc4\\uc790\\uce58\\uc2dc\",\"\\uc138\\uc885\\ud2b9\\ubcc4\\uc790\\uce58\\uc2dc\",\"\\uc138\\uc885\\ud2b9\\ubcc4\\uc790\\uce58\\uc2dc\",\"\\uc138\\uc885\\ud2b9\\ubcc4\\uc790\\uce58\\uc2dc\",\"\\ubd80\\uc0b0\\uad11\\uc5ed\\uc2dc\",\"\\ubd80\\uc0b0\\uad11\\uc5ed\\uc2dc\",\"\\ubd80\\uc0b0\\uad11\\uc5ed\\uc2dc\",\"\\ubd80\\uc0b0\\uad11\\uc5ed\\uc2dc\",\"\\uacbd\\uae30\\ub3c4\",\"\\uacbd\\uae30\\ub3c4\",\"\\uacbd\\uae30\\ub3c4\",\"\\uacbd\\uae30\\ub3c4\",\"\\uacbd\\uae30\\ub3c4\",\"\\uacbd\\uae30\\ub3c4\",\"\\uacbd\\uae30\\ub3c4\",\"\\uacbd\\uae30\\ub3c4\",\"\\uacbd\\uae30\\ub3c4\",\"\\uacbd\\uae30\\ub3c4\",\"\\uacbd\\uae30\\ub3c4\",\"\\uacbd\\uae30\\ub3c4\",\"\\uacbd\\uae30\\ub3c4\",\"\\uacbd\\uae30\\ub3c4\",\"\\uacbd\\uae30\\ub3c4\",\"\\uacbd\\uae30\\ub3c4\",\"\\uacbd\\uae30\\ub3c4\",\"\\uacbd\\uae30\\ub3c4\",\"\\uacbd\\uc0c1\\ubd81\\ub3c4\",\"\\uacbd\\uc0c1\\ubd81\\ub3c4\",\"\\uacbd\\uc0c1\\ubd81\\ub3c4\",\"\\uc804\\ub77c\\ub0a8\\ub3c4\",\"\\uc804\\ub77c\\ub0a8\\ub3c4\",\"\\uc804\\ub77c\\ub0a8\\ub3c4\",\"\\uc804\\ub77c\\ub0a8\\ub3c4\",\"\\uc804\\ub77c\\ub0a8\\ub3c4\",\"\\uc804\\ub77c\\ub0a8\\ub3c4\",\"\\ucda9\\uccad\\ubd81\\ub3c4\",\"\\ucda9\\uccad\\ubd81\\ub3c4\",\"\\uc81c\\uc8fc\\ud2b9\\ubcc4\\uc790\\uce58\\ub3c4\",\"\\uc81c\\uc8fc\\ud2b9\\ubcc4\\uc790\\uce58\\ub3c4\",\"\\uc81c\\uc8fc\\ud2b9\\ubcc4\\uc790\\uce58\\ub3c4\",\"\\uacbd\\uae30\\ub3c4\",\"\\uacbd\\uae30\\ub3c4\",\"\\uacbd\\uae30\\ub3c4\",\"\\uacbd\\uae30\\ub3c4\",\"\\uacbd\\uae30\\ub3c4\",\"\\uacbd\\uc0c1\\ubd81\\ub3c4\",\"\\uacbd\\uc0c1\\ubd81\\ub3c4\",\"\\uacbd\\uc0c1\\ubd81\\ub3c4\",\"\\uacbd\\uae30\\ub3c4\",\"\\uacbd\\uae30\\ub3c4\",\"\\uacbd\\uae30\\ub3c4\",\"\\uacbd\\uae30\\ub3c4\",\"\\uacbd\\uae30\\ub3c4\",\"\\uacbd\\uae30\\ub3c4\",\"\\uacbd\\uae30\\ub3c4\",\"\\uacbd\\uae30\\ub3c4\",\"\\uacbd\\uae30\\ub3c4\",\"\\uacbd\\uae30\\ub3c4\",\"\\uacbd\\uae30\\ub3c4\",\"\\uacbd\\uae30\\ub3c4\",\"\\uacbd\\uae30\\ub3c4\",\"\\uacbd\\uae30\\ub3c4\",\"\\uacbd\\uae30\\ub3c4\",\"\\uacbd\\uae30\\ub3c4\",\"\\uacbd\\uae30\\ub3c4\",\"\\uacbd\\uae30\\ub3c4\",\"\\uacbd\\uae30\\ub3c4\",\"\\uacbd\\uae30\\ub3c4\",\"\\uacbd\\uae30\\ub3c4\",\"\\uacbd\\uae30\\ub3c4\",\"\\uacbd\\uae30\\ub3c4\",\"\\ub300\\uad6c\\uad11\\uc5ed\\uc2dc\",\"\\ub300\\uad6c\\uad11\\uc5ed\\uc2dc\",\"\\ub300\\uad6c\\uad11\\uc5ed\\uc2dc\",\"\\ub300\\uad6c\\uad11\\uc5ed\\uc2dc\",\"\\ub300\\uad6c\\uad11\\uc5ed\\uc2dc\",\"\\uacbd\\uc0c1\\ub0a8\\ub3c4\",\"\\uacbd\\uc0c1\\ub0a8\\ub3c4\",\"\\uacbd\\uc0c1\\ub0a8\\ub3c4\",\"\\uacbd\\uc0c1\\ub0a8\\ub3c4\",\"\\uacbd\\uc0c1\\ub0a8\\ub3c4\",\"\\uacbd\\uc0c1\\ub0a8\\ub3c4\",\"\\uacbd\\uc0c1\\ub0a8\\ub3c4\",\"\\uacbd\\uc0c1\\ub0a8\\ub3c4\",\"\\ubd80\\uc0b0\\uad11\\uc5ed\\uc2dc\",\"\\ubd80\\uc0b0\\uad11\\uc5ed\\uc2dc\",\"\\ubd80\\uc0b0\\uad11\\uc5ed\\uc2dc\",\"\\ubd80\\uc0b0\\uad11\\uc5ed\\uc2dc\",\"\\ubd80\\uc0b0\\uad11\\uc5ed\\uc2dc\",\"\\ucda9\\uccad\\ubd81\\ub3c4\",\"\\ucda9\\uccad\\ubd81\\ub3c4\",\"\\ucda9\\uccad\\ubd81\\ub3c4\",\"\\ucda9\\uccad\\ubd81\\ub3c4\",\"\\ucda9\\uccad\\ubd81\\ub3c4\",\"\\ucda9\\uccad\\ubd81\\ub3c4\",\"\\ucda9\\uccad\\ubd81\\ub3c4\",\"\\ucda9\\uccad\\ubd81\\ub3c4\",\"\\ucda9\\uccad\\ubd81\\ub3c4\",\"\\uacbd\\uae30\\ub3c4\",\"\\uacbd\\uae30\\ub3c4\",\"\\uacbd\\uae30\\ub3c4\",\"\\uacbd\\uae30\\ub3c4\",\"\\uacbd\\uae30\\ub3c4\",\"\\uacbd\\uae30\\ub3c4\",\"\\uacbd\\uae30\\ub3c4\",\"\\uacbd\\uae30\\ub3c4\",\"\\uacbd\\uae30\\ub3c4\",\"\\uacbd\\uae30\\ub3c4\",\"\\uac15\\uc6d0\\ub3c4\",\"\\uac15\\uc6d0\\ub3c4\",\"\\uac15\\uc6d0\\ub3c4\",\"\\uac15\\uc6d0\\ub3c4\",\"\\uac15\\uc6d0\\ub3c4\",\"\\uac15\\uc6d0\\ub3c4\",\"\\uac15\\uc6d0\\ub3c4\",\"\\uac15\\uc6d0\\ub3c4\",\"\\uac15\\uc6d0\\ub3c4\",\"\\ub300\\uc804\\uad11\\uc5ed\\uc2dc\",\"\\ub300\\uc804\\uad11\\uc5ed\\uc2dc\",\"\\ub300\\uc804\\uad11\\uc5ed\\uc2dc\",\"\\uacbd\\uc0c1\\ub0a8\\ub3c4\",\"\\uacbd\\uc0c1\\ub0a8\\ub3c4\",\"\\uacbd\\uc0c1\\ub0a8\\ub3c4\",\"\\uacbd\\uc0c1\\ub0a8\\ub3c4\",\"\\uacbd\\uc0c1\\ub0a8\\ub3c4\",\"\\uacbd\\uc0c1\\ub0a8\\ub3c4\",\"\\uacbd\\uae30\\ub3c4\",\"\\uacbd\\uae30\\ub3c4\",\"\\uacbd\\uae30\\ub3c4\",\"\\uacbd\\uae30\\ub3c4\",\"\\uacbd\\uae30\\ub3c4\",\"\\uacbd\\uae30\\ub3c4\",\"\\uacbd\\uae30\\ub3c4\",\"\\uad11\\uc8fc\\uad11\\uc5ed\\uc2dc\",\"\\uad11\\uc8fc\\uad11\\uc5ed\\uc2dc\",\"\\uad11\\uc8fc\\uad11\\uc5ed\\uc2dc\",\"\\uad11\\uc8fc\\uad11\\uc5ed\\uc2dc\",\"\\uad11\\uc8fc\\uad11\\uc5ed\\uc2dc\",\"\\uad11\\uc8fc\\uad11\\uc5ed\\uc2dc\",\"\\uad11\\uc8fc\\uad11\\uc5ed\\uc2dc\",\"\\uad11\\uc8fc\\uad11\\uc5ed\\uc2dc\",\"\\uad11\\uc8fc\\uad11\\uc5ed\\uc2dc\",\"\\uad11\\uc8fc\\uad11\\uc5ed\\uc2dc\",\"\\uad11\\uc8fc\\uad11\\uc5ed\\uc2dc\",\"\\uad11\\uc8fc\\uad11\\uc5ed\\uc2dc\",\"\\uad11\\uc8fc\\uad11\\uc5ed\\uc2dc\",\"\\uacbd\\uc0c1\\ub0a8\\ub3c4\",\"\\uacbd\\uc0c1\\ub0a8\\ub3c4\",\"\\uacbd\\uc0c1\\ub0a8\\ub3c4\",\"\\uacbd\\uc0c1\\ub0a8\\ub3c4\",\"\\uacbd\\uc0c1\\ub0a8\\ub3c4\",\"\\uacbd\\uc0c1\\ub0a8\\ub3c4\",\"\\uacbd\\uc0c1\\ub0a8\\ub3c4\",\"\\uacbd\\uc0c1\\ub0a8\\ub3c4\",\"\\uacbd\\uc0c1\\ub0a8\\ub3c4\",\"\\uacbd\\uc0c1\\ub0a8\\ub3c4\",\"\\uc138\\uc885\\ud2b9\\ubcc4\\uc790\\uce58\\uc2dc\",\"\\uc138\\uc885\\ud2b9\\ubcc4\\uc790\\uce58\\uc2dc\",\"\\uc138\\uc885\\ud2b9\\ubcc4\\uc790\\uce58\\uc2dc\",\"\\uc138\\uc885\\ud2b9\\ubcc4\\uc790\\uce58\\uc2dc\",\"\\uc138\\uc885\\ud2b9\\ubcc4\\uc790\\uce58\\uc2dc\",\"\\uc138\\uc885\\ud2b9\\ubcc4\\uc790\\uce58\\uc2dc\",\"\\uc138\\uc885\\ud2b9\\ubcc4\\uc790\\uce58\\uc2dc\",\"\\uc138\\uc885\\ud2b9\\ubcc4\\uc790\\uce58\\uc2dc\",\"\\uc138\\uc885\\ud2b9\\ubcc4\\uc790\\uce58\\uc2dc\",\"\\uc138\\uc885\\ud2b9\\ubcc4\\uc790\\uce58\\uc2dc\",\"\\uc138\\uc885\\ud2b9\\ubcc4\\uc790\\uce58\\uc2dc\",\"\\uacbd\\uae30\\ub3c4\",\"\\uacbd\\uae30\\ub3c4\",\"\\uacbd\\uae30\\ub3c4\",\"\\uacbd\\uae30\\ub3c4\",\"\\uacbd\\uae30\\ub3c4\",\"\\uacbd\\uae30\\ub3c4\",\"\\uacbd\\uae30\\ub3c4\",\"\\uacbd\\uae30\\ub3c4\",\"\\uacbd\\uae30\\ub3c4\",\"\\uacbd\\uc0c1\\ub0a8\\ub3c4\",\"\\uacbd\\uc0c1\\ub0a8\\ub3c4\",\"\\uacbd\\uc0c1\\ub0a8\\ub3c4\",\"\\uacbd\\uc0c1\\ub0a8\\ub3c4\",\"\\uacbd\\uc0c1\\ub0a8\\ub3c4\",\"\\uacbd\\uc0c1\\ub0a8\\ub3c4\",\"\\uacbd\\uc0c1\\ub0a8\\ub3c4\",\"\\uacbd\\uae30\\ub3c4\",\"\\uacbd\\uae30\\ub3c4\",\"\\uacbd\\uae30\\ub3c4\",\"\\uacbd\\uae30\\ub3c4\",\"\\uacbd\\uae30\\ub3c4\",\"\\ub300\\uad6c\\uad11\\uc5ed\\uc2dc\",\"\\ub300\\uad6c\\uad11\\uc5ed\\uc2dc\",\"\\ub300\\uad6c\\uad11\\uc5ed\\uc2dc\",\"\\ub300\\uad6c\\uad11\\uc5ed\\uc2dc\",\"\\ub300\\uad6c\\uad11\\uc5ed\\uc2dc\",\"\\ub300\\uad6c\\uad11\\uc5ed\\uc2dc\",\"\\ub300\\uad6c\\uad11\\uc5ed\\uc2dc\",\"\\ub300\\uad6c\\uad11\\uc5ed\\uc2dc\",\"\\ub300\\uad6c\\uad11\\uc5ed\\uc2dc\",\"\\ub300\\uad6c\\uad11\\uc5ed\\uc2dc\",\"\\ub300\\uad6c\\uad11\\uc5ed\\uc2dc\",\"\\ub300\\uad6c\\uad11\\uc5ed\\uc2dc\",\"\\ub300\\uad6c\\uad11\\uc5ed\\uc2dc\",\"\\ub300\\uad6c\\uad11\\uc5ed\\uc2dc\",\"\\ub300\\uad6c\\uad11\\uc5ed\\uc2dc\",\"\\ub300\\uad6c\\uad11\\uc5ed\\uc2dc\",\"\\ub300\\uad6c\\uad11\\uc5ed\\uc2dc\",\"\\uacbd\\uae30\\ub3c4\",\"\\uacbd\\uae30\\ub3c4\",\"\\uacbd\\uae30\\ub3c4\",\"\\uacbd\\uae30\\ub3c4\",\"\\uacbd\\uae30\\ub3c4\",\"\\uacbd\\uae30\\ub3c4\",\"\\uacbd\\uae30\\ub3c4\",\"\\uacbd\\uae30\\ub3c4\",\"\\uacbd\\uae30\\ub3c4\",\"\\uacbd\\uae30\\ub3c4\",\"\\uacbd\\uae30\\ub3c4\",\"\\uacbd\\uae30\\ub3c4\",\"\\uac15\\uc6d0\\ub3c4\",\"\\uac15\\uc6d0\\ub3c4\",\"\\uac15\\uc6d0\\ub3c4\",\"\\uac15\\uc6d0\\ub3c4\",\"\\uac15\\uc6d0\\ub3c4\",\"\\ubd80\\uc0b0\\uad11\\uc5ed\\uc2dc\",\"\\ubd80\\uc0b0\\uad11\\uc5ed\\uc2dc\",\"\\ubd80\\uc0b0\\uad11\\uc5ed\\uc2dc\",\"\\ubd80\\uc0b0\\uad11\\uc5ed\\uc2dc\",\"\\uc804\\ub77c\\ub0a8\\ub3c4\",\"\\uc804\\ub77c\\ub0a8\\ub3c4\",\"\\uc804\\ub77c\\ub0a8\\ub3c4\",\"\\uc804\\ub77c\\ub0a8\\ub3c4\",\"\\uc804\\ub77c\\ub0a8\\ub3c4\",\"\\uc804\\ub77c\\ub0a8\\ub3c4\",\"\\uc804\\ub77c\\ub0a8\\ub3c4\",\"\\uc804\\ub77c\\ub0a8\\ub3c4\",\"\\uc11c\\uc6b8\\ud2b9\\ubcc4\\uc2dc\",\"\\uc11c\\uc6b8\\ud2b9\\ubcc4\\uc2dc\",\"\\uc11c\\uc6b8\\ud2b9\\ubcc4\\uc2dc\",\"\\uc11c\\uc6b8\\ud2b9\\ubcc4\\uc2dc\",\"\\uc11c\\uc6b8\\ud2b9\\ubcc4\\uc2dc\",\"\\uc11c\\uc6b8\\ud2b9\\ubcc4\\uc2dc\",\"\\uc11c\\uc6b8\\ud2b9\\ubcc4\\uc2dc\",\"\\uc11c\\uc6b8\\ud2b9\\ubcc4\\uc2dc\",\"\\uc11c\\uc6b8\\ud2b9\\ubcc4\\uc2dc\",\"\\uc11c\\uc6b8\\ud2b9\\ubcc4\\uc2dc\",\"\\uc11c\\uc6b8\\ud2b9\\ubcc4\\uc2dc\",\"\\uc11c\\uc6b8\\ud2b9\\ubcc4\\uc2dc\",\"\\ub300\\uad6c\\uad11\\uc5ed\\uc2dc\",\"\\ub300\\uad6c\\uad11\\uc5ed\\uc2dc\",\"\\ub300\\uad6c\\uad11\\uc5ed\\uc2dc\",\"\\ub300\\uad6c\\uad11\\uc5ed\\uc2dc\",\"\\uc804\\ub77c\\ubd81\\ub3c4\",\"\\uc804\\ub77c\\ubd81\\ub3c4\",\"\\uc804\\ub77c\\ubd81\\ub3c4\",\"\\uc804\\ub77c\\ubd81\\ub3c4\",\"\\uc804\\ub77c\\ubd81\\ub3c4\",\"\\uc804\\ub77c\\ubd81\\ub3c4\",\"\\uc804\\ub77c\\ubd81\\ub3c4\",\"\\uc804\\ub77c\\ubd81\\ub3c4\",\"\\uc804\\ub77c\\ubd81\\ub3c4\",\"\\uc804\\ub77c\\ubd81\\ub3c4\",\"\\uc804\\ub77c\\ub0a8\\ub3c4\",\"\\uc804\\ub77c\\ub0a8\\ub3c4\",\"\\uc804\\ub77c\\ub0a8\\ub3c4\",\"\\uc804\\ub77c\\ub0a8\\ub3c4\",\"\\uc804\\ub77c\\ub0a8\\ub3c4\",\"\\uacbd\\uc0c1\\ub0a8\\ub3c4\",\"\\uacbd\\uc0c1\\ub0a8\\ub3c4\",\"\\uacbd\\uc0c1\\ub0a8\\ub3c4\",\"\\uacbd\\uae30\\ub3c4\",\"\\uacbd\\uae30\\ub3c4\",\"\\uacbd\\uae30\\ub3c4\",\"\\uacbd\\uae30\\ub3c4\",\"\\uacbd\\uae30\\ub3c4\",\"\\uacbd\\uae30\\ub3c4\",\"\\uacbd\\uae30\\ub3c4\",\"\\uacbd\\uae30\\ub3c4\",\"\\uacbd\\uae30\\ub3c4\",\"\\uc6b8\\uc0b0\\uad11\\uc5ed\\uc2dc\",\"\\uc6b8\\uc0b0\\uad11\\uc5ed\\uc2dc\",\"\\uc6b8\\uc0b0\\uad11\\uc5ed\\uc2dc\",\"\\uc6b8\\uc0b0\\uad11\\uc5ed\\uc2dc\",\"\\uc6b8\\uc0b0\\uad11\\uc5ed\\uc2dc\",\"\\uc6b8\\uc0b0\\uad11\\uc5ed\\uc2dc\",\"\\uc6b8\\uc0b0\\uad11\\uc5ed\\uc2dc\",\"\\uc6b8\\uc0b0\\uad11\\uc5ed\\uc2dc\",\"\\uc6b8\\uc0b0\\uad11\\uc5ed\\uc2dc\",\"\\uc6b8\\uc0b0\\uad11\\uc5ed\\uc2dc\",\"\\uc804\\ub77c\\ubd81\\ub3c4\",\"\\uc804\\ub77c\\ubd81\\ub3c4\",\"\\uc804\\ub77c\\ubd81\\ub3c4\",\"\\uc804\\ub77c\\ubd81\\ub3c4\",\"\\uc804\\ub77c\\ubd81\\ub3c4\",\"\\uc804\\ub77c\\ubd81\\ub3c4\",\"\\uc804\\ub77c\\ubd81\\ub3c4\",\"\\uc81c\\uc8fc\\ud2b9\\ubcc4\\uc790\\uce58\\ub3c4\",\"\\uc81c\\uc8fc\\ud2b9\\ubcc4\\uc790\\uce58\\ub3c4\",\"\\uc81c\\uc8fc\\ud2b9\\ubcc4\\uc790\\uce58\\ub3c4\",\"\\uc81c\\uc8fc\\ud2b9\\ubcc4\\uc790\\uce58\\ub3c4\",\"\\uc81c\\uc8fc\\ud2b9\\ubcc4\\uc790\\uce58\\ub3c4\",\"\\uc81c\\uc8fc\\ud2b9\\ubcc4\\uc790\\uce58\\ub3c4\",\"\\uc804\\ub77c\\ub0a8\\ub3c4\",\"\\uc804\\ub77c\\ub0a8\\ub3c4\",\"\\uc804\\ub77c\\ub0a8\\ub3c4\",\"\\uc804\\ub77c\\ub0a8\\ub3c4\",\"\\uc804\\ub77c\\ub0a8\\ub3c4\",\"\\uc6b8\\uc0b0\\uad11\\uc5ed\\uc2dc\",\"\\uc6b8\\uc0b0\\uad11\\uc5ed\\uc2dc\",\"\\uc6b8\\uc0b0\\uad11\\uc5ed\\uc2dc\",\"\\uc138\\uc885\\ud2b9\\ubcc4\\uc790\\uce58\\uc2dc\",\"\\uc138\\uc885\\ud2b9\\ubcc4\\uc790\\uce58\\uc2dc\",\"\\uc138\\uc885\\ud2b9\\ubcc4\\uc790\\uce58\\uc2dc\",\"\\uc138\\uc885\\ud2b9\\ubcc4\\uc790\\uce58\\uc2dc\",\"\\uc138\\uc885\\ud2b9\\ubcc4\\uc790\\uce58\\uc2dc\",\"\\uc138\\uc885\\ud2b9\\ubcc4\\uc790\\uce58\\uc2dc\",\"\\uc138\\uc885\\ud2b9\\ubcc4\\uc790\\uce58\\uc2dc\",\"\\uc138\\uc885\\ud2b9\\ubcc4\\uc790\\uce58\\uc2dc\",\"\\uc138\\uc885\\ud2b9\\ubcc4\\uc790\\uce58\\uc2dc\",\"\\ub300\\uad6c\\uad11\\uc5ed\\uc2dc\",\"\\ub300\\uad6c\\uad11\\uc5ed\\uc2dc\",\"\\ub300\\uad6c\\uad11\\uc5ed\\uc2dc\",\"\\uac15\\uc6d0\\ub3c4\",\"\\uac15\\uc6d0\\ub3c4\",\"\\uac15\\uc6d0\\ub3c4\",\"\\uac15\\uc6d0\\ub3c4\",\"\\uc804\\ub77c\\ubd81\\ub3c4\",\"\\uc804\\ub77c\\ubd81\\ub3c4\",\"\\uc804\\ub77c\\ubd81\\ub3c4\",\"\\uc804\\ub77c\\ubd81\\ub3c4\",\"\\uc6b8\\uc0b0\\uad11\\uc5ed\\uc2dc\",\"\\uc6b8\\uc0b0\\uad11\\uc5ed\\uc2dc\",\"\\uc6b8\\uc0b0\\uad11\\uc5ed\\uc2dc\",\"\\uc6b8\\uc0b0\\uad11\\uc5ed\\uc2dc\",\"\\uacbd\\uae30\\ub3c4\",\"\\uacbd\\uae30\\ub3c4\",\"\\uacbd\\uae30\\ub3c4\",\"\\uacbd\\uae30\\ub3c4\",\"\\uacbd\\uae30\\ub3c4\",\"\\uacbd\\uae30\\ub3c4\",\"\\uacbd\\uae30\\ub3c4\",\"\\uacbd\\uae30\\ub3c4\",\"\\uacbd\\uae30\\ub3c4\",\"\\uacbd\\uae30\\ub3c4\",\"\\uacbd\\uae30\\ub3c4\",\"\\uacbd\\uae30\\ub3c4\",\"\\uacbd\\uae30\\ub3c4\",\"\\uacbd\\uae30\\ub3c4\",\"\\uacbd\\uc0c1\\ubd81\\ub3c4\",\"\\uacbd\\uc0c1\\ubd81\\ub3c4\",\"\\uacbd\\uc0c1\\ubd81\\ub3c4\",\"\\uacbd\\uc0c1\\ubd81\\ub3c4\",\"\\uacbd\\uc0c1\\ubd81\\ub3c4\",\"\\uacbd\\uc0c1\\ub0a8\\ub3c4\",\"\\uacbd\\uc0c1\\ub0a8\\ub3c4\",\"\\uacbd\\uc0c1\\ub0a8\\ub3c4\",\"\\uacbd\\uc0c1\\ub0a8\\ub3c4\",\"\\uacbd\\uc0c1\\ub0a8\\ub3c4\",\"\\uacbd\\uc0c1\\ub0a8\\ub3c4\",\"\\uacbd\\uc0c1\\ub0a8\\ub3c4\",\"\\uacbd\\uae30\\ub3c4\",\"\\uacbd\\uae30\\ub3c4\",\"\\uacbd\\uae30\\ub3c4\",\"\\uc81c\\uc8fc\\ud2b9\\ubcc4\\uc790\\uce58\\ub3c4\",\"\\uc81c\\uc8fc\\ud2b9\\ubcc4\\uc790\\uce58\\ub3c4\",\"\\uc81c\\uc8fc\\ud2b9\\ubcc4\\uc790\\uce58\\ub3c4\",\"\\uc81c\\uc8fc\\ud2b9\\ubcc4\\uc790\\uce58\\ub3c4\",\"\\uc81c\\uc8fc\\ud2b9\\ubcc4\\uc790\\uce58\\ub3c4\",\"\\uacbd\\uae30\\ub3c4\",\"\\uacbd\\uae30\\ub3c4\",\"\\uacbd\\uae30\\ub3c4\",\"\\uacbd\\uae30\\ub3c4\",\"\\uacbd\\uae30\\ub3c4\",\"\\uacbd\\uae30\\ub3c4\",\"\\ub300\\uc804\\uad11\\uc5ed\\uc2dc\",\"\\ub300\\uc804\\uad11\\uc5ed\\uc2dc\",\"\\ub300\\uc804\\uad11\\uc5ed\\uc2dc\",\"\\ub300\\uc804\\uad11\\uc5ed\\uc2dc\",\"\\ub300\\uc804\\uad11\\uc5ed\\uc2dc\",\"\\uacbd\\uc0c1\\ub0a8\\ub3c4\",\"\\uacbd\\uc0c1\\ub0a8\\ub3c4\",\"\\uacbd\\uc0c1\\ub0a8\\ub3c4\",\"\\uacbd\\uc0c1\\ub0a8\\ub3c4\",\"\\uacbd\\uc0c1\\ub0a8\\ub3c4\",\"\\uacbd\\uc0c1\\ub0a8\\ub3c4\",\"\\uacbd\\uc0c1\\ub0a8\\ub3c4\",\"\\uacbd\\uc0c1\\ub0a8\\ub3c4\",\"\\uacbd\\uc0c1\\ub0a8\\ub3c4\",\"\\ucda9\\uccad\\ubd81\\ub3c4\",\"\\ucda9\\uccad\\ubd81\\ub3c4\",\"\\ucda9\\uccad\\ubd81\\ub3c4\",\"\\ucda9\\uccad\\ubd81\\ub3c4\",\"\\ucda9\\uccad\\ubd81\\ub3c4\",\"\\ucda9\\uccad\\ubd81\\ub3c4\",\"\\ucda9\\uccad\\ubd81\\ub3c4\",\"\\uac15\\uc6d0\\ub3c4\",\"\\uac15\\uc6d0\\ub3c4\",\"\\uac15\\uc6d0\\ub3c4\",\"\\uac15\\uc6d0\\ub3c4\",\"\\uad11\\uc8fc\\uad11\\uc5ed\\uc2dc\",\"\\uad11\\uc8fc\\uad11\\uc5ed\\uc2dc\",\"\\uad11\\uc8fc\\uad11\\uc5ed\\uc2dc\",\"\\uad11\\uc8fc\\uad11\\uc5ed\\uc2dc\",\"\\uad11\\uc8fc\\uad11\\uc5ed\\uc2dc\",\"\\uad11\\uc8fc\\uad11\\uc5ed\\uc2dc\",\"\\uad11\\uc8fc\\uad11\\uc5ed\\uc2dc\",\"\\uad11\\uc8fc\\uad11\\uc5ed\\uc2dc\",\"\\uad11\\uc8fc\\uad11\\uc5ed\\uc2dc\",\"\\uad11\\uc8fc\\uad11\\uc5ed\\uc2dc\",\"\\uad11\\uc8fc\\uad11\\uc5ed\\uc2dc\",\"\\uad11\\uc8fc\\uad11\\uc5ed\\uc2dc\",\"\\uad11\\uc8fc\\uad11\\uc5ed\\uc2dc\",\"\\uad11\\uc8fc\\uad11\\uc5ed\\uc2dc\",\"\\uacbd\\uae30\\ub3c4\",\"\\uacbd\\uae30\\ub3c4\",\"\\uacbd\\uae30\\ub3c4\",\"\\uacbd\\uae30\\ub3c4\",\"\\uacbd\\uae30\\ub3c4\",\"\\ucda9\\uccad\\ubd81\\ub3c4\",\"\\ucda9\\uccad\\ubd81\\ub3c4\",\"\\ucda9\\uccad\\ubd81\\ub3c4\",\"\\ucda9\\uccad\\ubd81\\ub3c4\",\"\\ucda9\\uccad\\ubd81\\ub3c4\",\"\\ucda9\\uccad\\ubd81\\ub3c4\",\"\\ucda9\\uccad\\ubd81\\ub3c4\",\"\\ucda9\\uccad\\ubd81\\ub3c4\",\"\\uc6b8\\uc0b0\\uad11\\uc5ed\\uc2dc\",\"\\uc6b8\\uc0b0\\uad11\\uc5ed\\uc2dc\",\"\\uc6b8\\uc0b0\\uad11\\uc5ed\\uc2dc\",\"\\uc6b8\\uc0b0\\uad11\\uc5ed\\uc2dc\",\"\\uc804\\ub77c\\ub0a8\\ub3c4\",\"\\uc804\\ub77c\\ub0a8\\ub3c4\",\"\\uc804\\ub77c\\ub0a8\\ub3c4\",\"\\uc804\\ub77c\\ub0a8\\ub3c4\",\"\\ub300\\uad6c\\uad11\\uc5ed\\uc2dc\",\"\\ub300\\uad6c\\uad11\\uc5ed\\uc2dc\",\"\\ub300\\uad6c\\uad11\\uc5ed\\uc2dc\",\"\\ub300\\uad6c\\uad11\\uc5ed\\uc2dc\",\"\\ub300\\uad6c\\uad11\\uc5ed\\uc2dc\",\"\\ub300\\uad6c\\uad11\\uc5ed\\uc2dc\",\"\\ucda9\\uccad\\ubd81\\ub3c4\",\"\\ucda9\\uccad\\ubd81\\ub3c4\",\"\\ucda9\\uccad\\ubd81\\ub3c4\",\"\\ucda9\\uccad\\ubd81\\ub3c4\",\"\\ucda9\\uccad\\ubd81\\ub3c4\",\"\\ucda9\\uccad\\ubd81\\ub3c4\",\"\\ucda9\\uccad\\ubd81\\ub3c4\",\"\\ucda9\\uccad\\ubd81\\ub3c4\",\"\\uacbd\\uae30\\ub3c4\",\"\\uacbd\\uae30\\ub3c4\",\"\\uacbd\\uae30\\ub3c4\",\"\\uacbd\\uae30\\ub3c4\",\"\\uacbd\\uae30\\ub3c4\",\"\\uacbd\\uae30\\ub3c4\",\"\\uacbd\\uae30\\ub3c4\",\"\\uacbd\\uae30\\ub3c4\",\"\\uacbd\\uae30\\ub3c4\",\"\\uacbd\\uae30\\ub3c4\",\"\\uacbd\\uae30\\ub3c4\",\"\\uacbd\\uae30\\ub3c4\",\"\\uc81c\\uc8fc\\ud2b9\\ubcc4\\uc790\\uce58\\ub3c4\",\"\\uc81c\\uc8fc\\ud2b9\\ubcc4\\uc790\\uce58\\ub3c4\",\"\\uc81c\\uc8fc\\ud2b9\\ubcc4\\uc790\\uce58\\ub3c4\",\"\\uc81c\\uc8fc\\ud2b9\\ubcc4\\uc790\\uce58\\ub3c4\",\"\\uc81c\\uc8fc\\ud2b9\\ubcc4\\uc790\\uce58\\ub3c4\",\"\\uac15\\uc6d0\\ub3c4\",\"\\uac15\\uc6d0\\ub3c4\",\"\\uac15\\uc6d0\\ub3c4\",\"\\uac15\\uc6d0\\ub3c4\",\"\\uac15\\uc6d0\\ub3c4\",\"\\ubd80\\uc0b0\\uad11\\uc5ed\\uc2dc\",\"\\ubd80\\uc0b0\\uad11\\uc5ed\\uc2dc\",\"\\ubd80\\uc0b0\\uad11\\uc5ed\\uc2dc\",\"\\ucda9\\uccad\\ubd81\\ub3c4\",\"\\uac15\\uc6d0\\ub3c4\",\"\\uac15\\uc6d0\\ub3c4\",\"\\uac15\\uc6d0\\ub3c4\",\"\\uac15\\uc6d0\\ub3c4\",\"\\uac15\\uc6d0\\ub3c4\",\"\\uac15\\uc6d0\\ub3c4\"],\"x0\":\" \",\"xaxis\":\"x\",\"y\":[205.0,205.0,205.0,205.0,205.0,205.0,205.0,1064.0,1064.0,1064.0,1064.0,1064.0,1064.0,1064.0,1064.0,1064.0,1064.0,1064.0,730.0,730.0,730.0,730.0,730.0,730.0,553.0,553.0,553.0,553.0,415.0,415.0,415.0,415.0,415.0,415.0,1804.0,1804.0,1804.0,1804.0,1804.0,1804.0,1804.0,1804.0,1804.0,1804.0,1804.0,1804.0,1804.0,700.0,700.0,700.0,700.0,700.0,700.0,700.0,700.0,700.0,700.0,700.0,700.0,301.0,301.0,301.0,301.0,301.0,301.0,820.0,820.0,820.0,234.0,234.0,234.0,234.0,841.0,841.0,841.0,226.0,226.0,226.0,75.0,75.0,75.0,75.0,75.0,75.0,73.0,73.0,359.0,359.0,359.0,359.0,62.0,62.0,62.0,62.0,62.0,62.0,62.0,62.0,62.0,62.0,62.0,62.0,62.0,62.0,62.0,62.0,62.0,62.0,62.0,62.0,62.0,62.0,62.0,62.0,62.0,62.0,62.0,62.0,62.0,62.0,159.0,159.0,159.0,63.0,63.0,63.0,63.0,63.0,63.0,63.0,63.0,63.0,63.0,91.0,91.0,91.0,179.0,179.0,179.0,671.0,671.0,671.0,671.0,671.0,671.0,133.0,133.0,133.0,133.0,133.0,133.0,133.0,133.0,133.0,133.0,133.0,133.0,133.0,133.0,133.0,133.0,133.0,133.0,386.0,266.0,266.0,266.0,266.0,98.0,98.0,98.0,98.0,98.0,98.0,98.0,98.0,98.0,98.0,98.0,98.0,98.0,98.0,98.0,98.0,98.0,98.0,98.0,98.0,98.0,98.0,131.0,131.0,131.0,131.0,131.0,131.0,131.0,131.0,131.0,131.0,131.0,131.0,131.0,131.0,131.0,131.0,131.0,78.0,78.0,78.0,78.0,78.0,78.0,78.0,78.0,78.0,78.0,78.0,78.0,78.0,78.0,78.0,78.0,78.0,78.0,78.0,78.0,316.0,316.0,316.0,316.0,316.0,316.0,108.0,108.0,108.0,108.0,108.0,108.0,108.0,108.0,108.0,108.0,108.0,108.0,108.0,108.0,108.0,108.0,108.0,108.0,108.0,108.0,116.0,116.0,116.0,116.0,116.0,116.0,116.0,116.0,116.0,116.0,116.0,116.0,116.0,116.0,116.0,116.0,116.0,116.0,116.0,116.0,116.0,116.0,116.0,116.0,116.0,116.0,116.0,116.0,116.0,116.0,116.0,116.0,116.0,116.0,116.0,116.0,116.0,116.0,116.0,116.0,649.0,649.0,649.0,649.0,649.0,649.0,649.0,649.0,649.0,649.0,649.0,254.0,254.0,254.0,129.0,129.0,129.0,129.0,129.0,129.0,129.0,129.0,129.0,129.0,129.0,129.0,129.0,129.0,129.0,129.0,129.0,129.0,129.0,129.0,129.0,70.0,70.0,70.0,70.0,70.0,70.0,70.0,70.0,236.0,236.0,236.0,510.0,510.0,510.0,510.0,510.0,510.0,253.0,253.0,253.0,253.0,253.0,253.0,253.0,253.0,253.0,253.0,253.0,253.0,253.0,253.0,253.0,127.0,127.0,127.0,127.0,127.0,127.0,127.0,127.0,127.0,127.0,127.0,127.0,127.0,127.0,127.0,127.0,127.0,127.0,127.0,127.0,132.0,132.0,132.0,132.0,132.0,132.0,132.0,132.0,132.0,132.0,132.0,132.0,132.0,132.0,132.0,132.0,132.0,132.0,132.0,132.0,132.0,132.0,132.0,132.0,132.0,132.0,132.0,132.0,132.0,313.0,313.0,313.0,313.0,313.0,313.0,313.0,313.0,313.0,313.0,313.0,313.0,313.0,313.0,313.0,313.0,313.0,313.0,313.0,313.0,313.0,313.0,382.0,382.0,364.0,364.0,364.0,364.0,364.0,364.0,364.0,364.0,364.0,364.0,364.0,364.0,364.0,364.0,364.0,364.0,364.0,364.0,364.0,364.0,364.0,364.0,364.0,364.0,94.0,94.0,94.0,94.0,94.0,94.0,94.0,94.0,94.0,94.0,94.0,94.0,94.0,94.0,94.0,94.0,94.0,94.0,94.0,94.0,94.0,94.0,94.0,94.0,94.0,94.0,94.0,94.0,94.0,94.0,94.0,94.0,189.0,189.0,189.0,189.0,189.0,189.0,189.0,189.0,189.0,189.0,189.0,189.0,189.0,189.0,189.0,189.0,189.0,189.0,189.0,189.0,189.0,189.0,189.0,873.0,873.0,359.0,359.0,359.0,359.0,359.0,359.0,359.0,359.0,359.0,359.0,359.0,359.0,359.0,359.0,359.0,359.0,359.0,359.0,359.0,359.0,359.0,359.0,359.0,359.0,359.0,359.0,359.0,359.0,359.0,359.0,359.0,359.0,359.0,359.0,359.0,359.0,359.0,359.0,359.0,359.0,359.0,359.0,359.0,359.0,359.0,359.0,359.0,172.0,172.0,172.0,172.0,172.0,172.0,172.0,172.0,172.0,172.0,172.0,172.0,172.0,172.0,172.0,172.0,172.0,172.0,172.0,172.0,172.0,172.0,172.0,172.0,172.0,172.0,172.0,172.0,172.0,172.0,172.0,172.0,172.0,172.0,172.0,172.0,172.0,172.0,172.0,172.0,172.0,172.0,172.0,172.0,172.0,172.0,172.0,172.0,498.0,498.0,498.0,149.0,149.0,31.0,31.0,31.0,31.0,31.0,31.0,125.0,125.0,125.0,125.0,125.0,125.0,125.0,125.0,125.0,125.0,125.0,125.0,177.0,177.0,177.0,177.0,177.0,177.0,177.0,90.0,90.0,90.0,90.0,90.0,90.0,90.0,90.0,90.0,90.0,90.0,90.0,302.0,302.0,302.0,496.0,496.0,236.0,236.0,236.0,236.0,839.0,839.0,839.0,839.0,96.0,96.0,96.0,96.0,96.0,96.0,96.0,96.0,96.0,96.0,96.0,96.0,96.0,96.0,96.0,96.0,96.0,235.0,235.0,359.0,359.0,359.0,359.0,359.0,359.0,359.0,359.0,120.0,120.0,120.0,120.0,120.0,120.0,120.0,120.0,120.0,120.0,120.0,120.0,120.0,120.0,120.0,120.0,120.0,120.0,120.0,120.0,120.0,120.0,120.0,120.0,120.0,120.0,120.0,120.0,120.0,120.0,120.0,120.0,120.0,60.0,60.0,60.0,60.0,60.0,60.0,60.0,60.0,60.0,60.0,60.0,60.0,60.0,60.0,60.0,60.0,60.0,65.0,65.0,65.0,65.0,65.0,65.0,65.0,65.0,135.0,135.0,135.0,135.0,376.0,376.0,376.0,93.0,93.0,93.0,93.0,93.0,93.0,93.0,93.0,93.0,93.0,93.0,93.0,93.0,93.0,93.0,93.0,93.0,93.0,93.0,209.0,209.0,209.0,209.0,209.0,209.0,209.0,209.0,209.0,209.0,209.0,209.0,209.0,209.0,209.0,209.0,209.0,209.0,209.0,209.0,209.0,209.0,204.0,204.0,204.0,86.0,86.0,86.0,86.0,86.0,86.0,86.0,86.0,86.0,86.0,86.0,86.0,86.0,86.0,19.0,19.0,19.0,62.0,62.0,62.0,62.0,62.0,62.0,62.0,62.0,62.0,62.0,62.0,62.0,62.0,62.0,430.0,430.0,430.0,1001.0,1001.0,1001.0,1001.0,1001.0,1001.0,1001.0,334.0,334.0,334.0,334.0,334.0,334.0,616.0,616.0,616.0,616.0,616.0,616.0,616.0,616.0,548.0,548.0,548.0,548.0,548.0,548.0,548.0,548.0,220.0,220.0,220.0,220.0,451.0,451.0,451.0,451.0,451.0,451.0,451.0,451.0,47.0,47.0,47.0,799.0,799.0,799.0,799.0,799.0,799.0,799.0,799.0,799.0,799.0,799.0,799.0,799.0,799.0,799.0,799.0,799.0,799.0,799.0,708.0,708.0,708.0,708.0,708.0,708.0,708.0,739.0,739.0,739.0,739.0,739.0,739.0,739.0,374.0,374.0,374.0,374.0,374.0,374.0,557.0,557.0,557.0,557.0,557.0,579.0,579.0,579.0,579.0,579.0,579.0,579.0,579.0,1101.0,1101.0,1101.0,1101.0,1101.0,762.0,762.0,762.0,762.0,762.0,795.0,795.0,795.0,795.0,795.0,795.0,795.0,995.0,995.0,995.0,995.0,995.0,995.0,995.0,288.0,288.0,288.0,288.0,288.0,288.0,288.0,960.0,960.0,960.0,960.0,960.0,960.0,960.0,960.0,960.0,960.0,311.0,311.0,648.0,648.0,648.0,648.0,648.0,648.0,861.0,861.0,861.0,861.0,521.0,521.0,521.0,521.0,562.0,562.0,562.0,562.0,562.0,562.0,562.0,422.0,422.0,344.0,344.0,344.0,344.0,344.0,596.0,596.0,596.0,596.0,596.0,596.0,596.0,596.0,701.0,701.0,701.0,701.0,701.0,701.0,1117.0,1117.0,1117.0,1117.0,1117.0,1117.0,1117.0,1117.0,1117.0,1117.0,1117.0,297.0,297.0,297.0,297.0,297.0,297.0,297.0,1665.0,1665.0,1665.0,1665.0,1665.0,248.0,248.0,248.0,248.0,457.0,457.0,457.0,910.0,910.0,910.0,910.0,910.0,910.0,910.0,826.0,826.0,826.0,826.0,826.0,826.0,826.0,826.0,826.0,328.0,328.0,328.0,328.0,328.0,328.0,525.0,525.0,525.0,525.0,525.0,525.0,525.0,690.0,690.0,690.0,690.0,690.0,713.0,713.0,713.0,713.0,713.0,1019.0,1019.0,1019.0,1019.0,810.0,810.0,810.0,810.0,810.0,148.0,148.0,148.0,148.0,148.0,148.0,609.0,609.0,609.0,609.0,609.0,609.0,609.0,609.0,609.0,585.0,585.0,585.0,585.0,585.0,1162.0,1162.0,1162.0,1162.0,1162.0,1162.0,1162.0,1162.0,318.0,318.0,318.0,318.0,318.0,318.0,318.0,761.0,761.0,761.0,761.0,572.0,572.0,572.0,572.0,572.0,572.0,979.0,979.0,979.0,979.0,979.0,1306.0,1306.0,1306.0,1306.0,1306.0,1306.0,1398.0,1398.0,1398.0,1398.0,1398.0,1398.0,1398.0,1398.0,1398.0,442.0,442.0,442.0,442.0,442.0,422.0,422.0,422.0,422.0,441.0,441.0,441.0,441.0,700.0,700.0,700.0,700.0,340.0,340.0,503.0,503.0,503.0,503.0,503.0,503.0,503.0,503.0,503.0,503.0,718.0,718.0,718.0,718.0,1159.0,1159.0,1159.0,373.0,373.0,373.0,1087.0,1087.0,1087.0,1087.0,808.0,808.0,808.0,808.0,305.0,305.0,401.0,401.0,401.0,401.0,465.0,465.0,465.0,465.0,465.0,465.0,465.0,465.0,465.0,669.0,669.0,669.0,669.0,554.0,554.0,554.0,554.0,554.0,554.0,554.0,554.0,460.0,460.0,460.0,548.0,548.0,548.0,548.0,548.0,548.0,548.0,548.0,548.0,548.0,398.0,398.0,398.0,398.0,398.0,398.0,620.0,620.0,620.0,620.0,620.0,620.0,382.0,413.0,413.0,413.0,413.0,413.0,413.0,520.0,520.0,520.0,520.0,520.0,520.0,520.0,520.0,488.0,488.0,488.0,488.0,488.0,488.0,488.0,832.0,832.0,832.0,832.0,832.0,832.0,832.0,832.0,832.0,1158.0,1158.0,1158.0,1158.0,1158.0,1158.0,1158.0,1158.0,1158.0,745.0,745.0,745.0,745.0,745.0,745.0,745.0,745.0,831.0,831.0,831.0,831.0,831.0,831.0,413.0,413.0,413.0,413.0,413.0,487.0,487.0,487.0,487.0,487.0,408.0,408.0,408.0,408.0,408.0,408.0,446.0,446.0,446.0,446.0,446.0,446.0,446.0,1150.0,1150.0,1150.0,1150.0,1150.0,840.0,840.0,840.0,840.0,840.0,840.0,840.0,840.0,709.0,709.0,709.0,709.0,709.0,709.0,480.0,480.0,480.0,480.0,480.0,480.0,480.0,505.0,505.0,505.0,505.0,505.0,505.0,505.0,449.0,449.0,449.0,449.0,1010.0,1010.0,1010.0,1010.0,1010.0,1010.0,296.0,296.0,296.0,296.0,296.0,296.0,296.0,308.0,308.0,308.0,308.0,308.0,308.0,349.0,349.0,349.0,349.0,349.0,349.0,349.0,349.0,349.0,349.0,349.0,657.0,657.0,657.0,657.0,657.0,657.0,657.0,657.0,657.0,657.0,657.0,657.0,505.0,505.0,294.0,294.0,294.0,294.0,1145.0,1145.0,1145.0,1145.0,1145.0,1145.0,1145.0,1145.0,1145.0,1145.0,1145.0,1145.0,1145.0,257.0,257.0,257.0,257.0,257.0,257.0,257.0,257.0,321.0,321.0,321.0,321.0,321.0,450.0,450.0,450.0,450.0,845.0,845.0,845.0,845.0,845.0,845.0,643.0,643.0,643.0,643.0,752.0,752.0,752.0,752.0,735.0,735.0,735.0,735.0,735.0,639.0,639.0,639.0,639.0,902.0,902.0,902.0,902.0,902.0,902.0,902.0,902.0,902.0,902.0,902.0,902.0,632.0,632.0,632.0,125.0,282.0,282.0,1279.0,1279.0,1279.0,1279.0,1279.0,1279.0,1279.0,782.0,782.0,782.0,782.0,782.0,782.0,782.0,375.0,375.0,375.0,375.0,375.0,540.0,540.0,540.0,540.0,540.0,540.0,540.0,540.0,226.0,226.0,226.0,226.0,226.0,226.0,302.0,302.0,302.0,302.0,302.0,302.0,156.0,156.0,156.0,730.0,730.0,730.0,730.0,730.0,730.0,417.0,417.0,417.0,417.0,417.0,417.0,505.0,505.0,505.0,505.0,505.0,505.0,505.0,1077.0,1077.0,1077.0,1077.0,1077.0,1077.0,1077.0,757.0,757.0,757.0,757.0,757.0,754.0,754.0,754.0,754.0,754.0,754.0,754.0,815.0,815.0,815.0,268.0,268.0,268.0,268.0,362.0,362.0,362.0,362.0,362.0,504.0,504.0,504.0,504.0,504.0,504.0,504.0,504.0,281.0,281.0,281.0,281.0,281.0,521.0,521.0,521.0,521.0,552.0,552.0,552.0,552.0,246.0,246.0,246.0,246.0,246.0,246.0,347.0,347.0,347.0,272.0,272.0,272.0,293.0,293.0,293.0,293.0,293.0,254.0,254.0,254.0,254.0,254.0,254.0,254.0,254.0,842.0,842.0,842.0,842.0,842.0,842.0,484.0,484.0,484.0,484.0,484.0,585.0,585.0,585.0,585.0,585.0,244.0,244.0,244.0,258.0,258.0,258.0,258.0,271.0,271.0,271.0,271.0,311.0,311.0,311.0,327.0,327.0,327.0,327.0,327.0,327.0,207.0,207.0,207.0,207.0,207.0,207.0,683.0,683.0,683.0,683.0,683.0,683.0,670.0,670.0,570.0,570.0,570.0,570.0,570.0,324.0,324.0,324.0,324.0,324.0,553.0,553.0,553.0,553.0,553.0,590.0,590.0,590.0,638.0,638.0,638.0,638.0,638.0,638.0,638.0,495.0,495.0,495.0,495.0,528.0,528.0,528.0,528.0,528.0,528.0,528.0,383.0,383.0,383.0,383.0,383.0,284.0,284.0,284.0,284.0,284.0,284.0,284.0,723.0,723.0,723.0,723.0,723.0,723.0,333.0,333.0,333.0,333.0,333.0,333.0,333.0,610.0,610.0,610.0,610.0,610.0,610.0,610.0,481.0,481.0,594.0,594.0,509.0,509.0,509.0,509.0,509.0,509.0,500.0,500.0,500.0,500.0,500.0,512.0,512.0,512.0,512.0,512.0,512.0,512.0,512.0,901.0,901.0,901.0,901.0,934.0,934.0,934.0,934.0,934.0,934.0,496.0,496.0,496.0,496.0,398.0,398.0,398.0,398.0,398.0,398.0,481.0,481.0,481.0,481.0,481.0,481.0,481.0,557.0,557.0,557.0,557.0,557.0,557.0,1284.0,1284.0,1284.0,1284.0,1284.0,1284.0,1284.0,1284.0,1284.0,475.0,475.0,475.0,475.0,475.0,435.0,435.0,435.0,435.0,435.0,945.0,945.0,945.0,945.0,945.0,945.0,945.0,945.0,945.0,945.0,1044.0,1044.0,1044.0,1044.0,1044.0,1044.0,1044.0,1044.0,1044.0,1044.0,1044.0,1044.0,1044.0,1044.0,1044.0,1044.0,375.0,375.0,375.0,375.0,375.0,375.0,1023.0,1023.0,1023.0,1023.0,1023.0,1023.0,1023.0,1023.0,1350.0,1350.0,1350.0,1350.0,1350.0,1350.0,1350.0,1350.0,1350.0,1350.0,1350.0,1350.0,1350.0,1350.0,284.0,284.0,284.0,284.0,284.0,284.0,823.0,823.0,823.0,823.0,823.0,823.0,823.0,823.0,823.0,793.0,793.0,793.0,793.0,793.0,793.0,587.0,587.0,587.0,587.0,587.0,587.0,587.0,587.0,587.0,587.0,353.0,353.0,353.0,353.0,353.0,479.0,479.0,479.0,479.0,479.0,479.0,614.0,614.0,614.0,614.0,614.0,614.0,614.0,614.0,614.0,1101.0,1101.0,1101.0,1101.0,1101.0,1101.0,1101.0,1101.0,1101.0,1101.0,1101.0,652.0,652.0,652.0,652.0,652.0,652.0,509.0,509.0,509.0,509.0,509.0,509.0,437.0,437.0,437.0,437.0,437.0,163.0,163.0,163.0,163.0,163.0,589.0,589.0,589.0,589.0,589.0,589.0,589.0,403.0,403.0,403.0,403.0,403.0,403.0,22.0,22.0,322.0,322.0,322.0,322.0,322.0,322.0,566.0,566.0,566.0,566.0,566.0,566.0,277.0,277.0,277.0,277.0,822.0,822.0,822.0,822.0,822.0,822.0,770.0,770.0,770.0,770.0,770.0,770.0,770.0,770.0,770.0,770.0,770.0,345.0,345.0,345.0,345.0,345.0,345.0,1090.0,1090.0,1090.0,1090.0,1090.0,1090.0,1090.0,1090.0,1090.0,1090.0,1090.0,1090.0,951.0,951.0,951.0,951.0,410.0,410.0,410.0,410.0,410.0,410.0,549.0,549.0,549.0,549.0,549.0,549.0,549.0,549.0,549.0,166.0,166.0,166.0,166.0,166.0,166.0,647.0,647.0,647.0,647.0,647.0,647.0,647.0,793.0,793.0,793.0,793.0,793.0,793.0,793.0,793.0,793.0,793.0,1084.0,1084.0,1084.0,1084.0,1084.0,1084.0,1084.0,1084.0,1084.0,682.0,682.0,682.0,682.0,645.0,645.0,645.0,645.0,645.0,645.0,645.0,645.0,645.0,645.0,645.0,733.0,733.0,733.0,733.0,733.0,733.0,733.0,733.0,262.0,262.0,262.0,262.0,262.0,365.0,365.0,365.0,365.0,365.0,365.0,365.0,365.0,365.0,365.0,365.0,950.0,950.0,950.0,244.0,244.0,244.0,343.0,343.0,343.0,343.0,343.0,343.0,343.0,613.0,613.0,613.0,613.0,561.0,561.0,561.0,561.0,561.0,561.0,899.0,899.0,899.0,899.0,957.0,957.0,957.0,957.0,957.0,957.0,957.0,957.0,957.0,957.0,412.0,412.0,979.0,979.0,979.0,979.0,1709.0,1709.0,1709.0,1709.0,1709.0,881.0,881.0,881.0,309.0,309.0,309.0,309.0,309.0,309.0,55.0,55.0,55.0,442.0,442.0,442.0,442.0,442.0,442.0,442.0,442.0,442.0,551.0,551.0,551.0,551.0,551.0,551.0,551.0,551.0,551.0,551.0,1240.0,1240.0,1240.0,886.0,886.0,886.0,886.0,886.0,886.0,713.0,713.0,713.0,713.0,713.0,713.0,713.0,606.0,606.0,606.0,606.0,606.0,606.0,606.0,870.0,870.0,870.0,870.0,870.0,870.0,870.0,870.0,870.0,870.0,870.0,410.0,410.0,410.0,410.0,410.0,800.0,800.0,800.0,800.0,800.0,800.0,420.0,420.0,420.0,752.0,752.0,752.0,630.0,630.0,630.0,630.0,982.0,982.0,982.0,982.0,982.0,982.0,982.0,982.0,982.0,982.0,982.0,652.0,652.0,652.0,652.0,652.0,652.0,451.0,451.0,451.0,451.0,451.0,451.0,821.0,821.0,821.0,821.0,255.0,255.0,255.0,625.0,625.0,625.0,625.0,625.0,1653.0,1653.0,1653.0,1653.0,1653.0,1653.0,1653.0,2315.0,2315.0,2315.0,2315.0,2315.0,2315.0,2315.0,2315.0,2315.0,2315.0,2315.0,2315.0,2315.0,498.0,498.0,498.0,498.0,498.0,787.0,787.0,787.0,787.0,1668.0,1668.0,1668.0,1668.0,1668.0,1668.0,1668.0,1668.0,207.0,207.0,207.0,207.0,207.0,579.0,579.0,579.0,579.0,579.0,579.0,330.0,330.0,330.0,217.0,217.0,217.0,217.0,217.0,763.0,763.0,763.0,763.0,572.0,572.0,572.0,922.0,922.0,922.0,922.0,922.0,922.0,922.0,922.0,922.0,922.0,922.0,922.0,922.0,526.0,526.0,526.0,526.0,526.0,1246.0,1246.0,1246.0,228.0,228.0,228.0,228.0,228.0,228.0,1730.0,1730.0,1730.0,1730.0,1730.0,1730.0,712.0,712.0,712.0,712.0,1200.0,1200.0,1200.0,1200.0,202.0,202.0,202.0,979.0,979.0,979.0,946.0,946.0,946.0,946.0,1832.0,1832.0,1832.0,1832.0,508.0,508.0,508.0,508.0,763.0,763.0,763.0,763.0,763.0,763.0,763.0,763.0,763.0,763.0,763.0,763.0,763.0,763.0,763.0,763.0,763.0,763.0,326.0,326.0,326.0,404.0,404.0,404.0,404.0,404.0,404.0,336.0,336.0,555.0,555.0,555.0,417.0,417.0,417.0,417.0,417.0,1255.0,1255.0,1255.0,2550.0,2550.0,2550.0,2550.0,2550.0,2550.0,2550.0,2550.0,2550.0,2550.0,2550.0,2550.0,2550.0,2550.0,751.0,751.0,751.0,751.0,751.0,751.0,243.0,243.0,243.0,586.0,586.0,586.0,586.0,586.0,924.0,924.0,924.0,924.0,600.0,600.0,600.0,600.0,1153.0,1153.0,1153.0,1153.0,1153.0,164.0,164.0,164.0,164.0,164.0,164.0,164.0,164.0,164.0,783.0,783.0,783.0,783.0,783.0,1044.0,1044.0,1044.0,1044.0,1044.0,719.0,719.0,719.0,719.0,220.0,220.0,220.0,220.0,220.0,887.0,887.0,887.0,616.0,616.0,616.0,616.0,616.0,616.0,559.0,559.0,559.0,559.0,559.0,559.0,559.0,416.0,416.0,416.0,416.0,416.0,416.0,416.0,416.0,416.0,416.0,416.0,416.0,416.0,701.0,701.0,701.0,701.0,701.0,701.0,701.0,701.0,701.0,701.0,1983.0,1983.0,1983.0,1983.0,1983.0,1983.0,1983.0,1983.0,1983.0,1983.0,1983.0,1896.0,1896.0,1896.0,1896.0,1896.0,1896.0,1896.0,1896.0,1896.0,780.0,780.0,1359.0,1359.0,1359.0,1359.0,1359.0,646.0,646.0,646.0,646.0,646.0,1433.0,1433.0,1433.0,1433.0,1433.0,1433.0,1433.0,1433.0,1433.0,1433.0,1433.0,1433.0,1433.0,1433.0,1433.0,1433.0,1433.0,854.0,854.0,854.0,854.0,854.0,854.0,1378.0,1378.0,1378.0,1378.0,1378.0,1378.0,345.0,345.0,345.0,345.0,345.0,995.0,995.0,995.0,995.0,205.0,205.0,205.0,205.0,205.0,205.0,205.0,205.0,509.0,509.0,509.0,509.0,509.0,509.0,509.0,509.0,509.0,509.0,509.0,509.0,588.0,588.0,588.0,588.0,396.0,396.0,396.0,396.0,396.0,396.0,396.0,396.0,396.0,396.0,693.0,693.0,693.0,693.0,693.0,155.0,155.0,155.0,133.0,133.0,133.0,133.0,133.0,133.0,133.0,133.0,133.0,78.0,78.0,78.0,78.0,78.0,78.0,78.0,78.0,78.0,78.0,568.0,568.0,568.0,568.0,568.0,568.0,568.0,358.0,358.0,358.0,358.0,358.0,358.0,123.0,123.0,123.0,123.0,123.0,148.0,148.0,148.0,1524.0,1524.0,1524.0,1524.0,1524.0,1524.0,1524.0,1524.0,1524.0,713.0,713.0,713.0,124.0,124.0,124.0,124.0,1400.0,1400.0,1400.0,1400.0,609.0,609.0,609.0,609.0,196.0,196.0,196.0,196.0,196.0,196.0,196.0,196.0,196.0,196.0,196.0,196.0,196.0,196.0,189.0,189.0,189.0,189.0,189.0,98.0,98.0,98.0,98.0,98.0,98.0,98.0,13.0,13.0,13.0,165.0,165.0,165.0,165.0,165.0,507.0,507.0,507.0,507.0,507.0,507.0,444.0,444.0,444.0,444.0,444.0,448.0,448.0,448.0,448.0,448.0,448.0,448.0,448.0,448.0,1374.0,1374.0,1374.0,1374.0,1374.0,1374.0,1374.0,266.0,266.0,266.0,266.0,59.0,59.0,59.0,159.0,159.0,159.0,159.0,159.0,267.0,267.0,267.0,267.0,267.0,267.0,130.0,130.0,130.0,130.0,130.0,505.0,505.0,505.0,505.0,505.0,505.0,505.0,505.0,396.0,396.0,396.0,396.0,280.0,280.0,280.0,280.0,744.0,744.0,744.0,744.0,744.0,744.0,619.0,619.0,619.0,619.0,619.0,619.0,619.0,619.0,1204.0,1204.0,1204.0,1204.0,1204.0,1204.0,1204.0,1204.0,1204.0,1204.0,1204.0,1204.0,57.0,57.0,57.0,57.0,57.0,246.0,246.0,246.0,246.0,246.0,19.0,19.0,19.0,16.0,146.0,146.0,146.0,146.0,146.0,146.0],\"y0\":\" \",\"yaxis\":\"y\",\"type\":\"box\"}],                        {\"template\":{\"data\":{\"bar\":[{\"error_x\":{\"color\":\"#2a3f5f\"},\"error_y\":{\"color\":\"#2a3f5f\"},\"marker\":{\"line\":{\"color\":\"#E5ECF6\",\"width\":0.5},\"pattern\":{\"fillmode\":\"overlay\",\"size\":10,\"solidity\":0.2}},\"type\":\"bar\"}],\"barpolar\":[{\"marker\":{\"line\":{\"color\":\"#E5ECF6\",\"width\":0.5},\"pattern\":{\"fillmode\":\"overlay\",\"size\":10,\"solidity\":0.2}},\"type\":\"barpolar\"}],\"carpet\":[{\"aaxis\":{\"endlinecolor\":\"#2a3f5f\",\"gridcolor\":\"white\",\"linecolor\":\"white\",\"minorgridcolor\":\"white\",\"startlinecolor\":\"#2a3f5f\"},\"baxis\":{\"endlinecolor\":\"#2a3f5f\",\"gridcolor\":\"white\",\"linecolor\":\"white\",\"minorgridcolor\":\"white\",\"startlinecolor\":\"#2a3f5f\"},\"type\":\"carpet\"}],\"choropleth\":[{\"colorbar\":{\"outlinewidth\":0,\"ticks\":\"\"},\"type\":\"choropleth\"}],\"contour\":[{\"colorbar\":{\"outlinewidth\":0,\"ticks\":\"\"},\"colorscale\":[[0.0,\"#0d0887\"],[0.1111111111111111,\"#46039f\"],[0.2222222222222222,\"#7201a8\"],[0.3333333333333333,\"#9c179e\"],[0.4444444444444444,\"#bd3786\"],[0.5555555555555556,\"#d8576b\"],[0.6666666666666666,\"#ed7953\"],[0.7777777777777778,\"#fb9f3a\"],[0.8888888888888888,\"#fdca26\"],[1.0,\"#f0f921\"]],\"type\":\"contour\"}],\"contourcarpet\":[{\"colorbar\":{\"outlinewidth\":0,\"ticks\":\"\"},\"type\":\"contourcarpet\"}],\"heatmap\":[{\"colorbar\":{\"outlinewidth\":0,\"ticks\":\"\"},\"colorscale\":[[0.0,\"#0d0887\"],[0.1111111111111111,\"#46039f\"],[0.2222222222222222,\"#7201a8\"],[0.3333333333333333,\"#9c179e\"],[0.4444444444444444,\"#bd3786\"],[0.5555555555555556,\"#d8576b\"],[0.6666666666666666,\"#ed7953\"],[0.7777777777777778,\"#fb9f3a\"],[0.8888888888888888,\"#fdca26\"],[1.0,\"#f0f921\"]],\"type\":\"heatmap\"}],\"heatmapgl\":[{\"colorbar\":{\"outlinewidth\":0,\"ticks\":\"\"},\"colorscale\":[[0.0,\"#0d0887\"],[0.1111111111111111,\"#46039f\"],[0.2222222222222222,\"#7201a8\"],[0.3333333333333333,\"#9c179e\"],[0.4444444444444444,\"#bd3786\"],[0.5555555555555556,\"#d8576b\"],[0.6666666666666666,\"#ed7953\"],[0.7777777777777778,\"#fb9f3a\"],[0.8888888888888888,\"#fdca26\"],[1.0,\"#f0f921\"]],\"type\":\"heatmapgl\"}],\"histogram\":[{\"marker\":{\"pattern\":{\"fillmode\":\"overlay\",\"size\":10,\"solidity\":0.2}},\"type\":\"histogram\"}],\"histogram2d\":[{\"colorbar\":{\"outlinewidth\":0,\"ticks\":\"\"},\"colorscale\":[[0.0,\"#0d0887\"],[0.1111111111111111,\"#46039f\"],[0.2222222222222222,\"#7201a8\"],[0.3333333333333333,\"#9c179e\"],[0.4444444444444444,\"#bd3786\"],[0.5555555555555556,\"#d8576b\"],[0.6666666666666666,\"#ed7953\"],[0.7777777777777778,\"#fb9f3a\"],[0.8888888888888888,\"#fdca26\"],[1.0,\"#f0f921\"]],\"type\":\"histogram2d\"}],\"histogram2dcontour\":[{\"colorbar\":{\"outlinewidth\":0,\"ticks\":\"\"},\"colorscale\":[[0.0,\"#0d0887\"],[0.1111111111111111,\"#46039f\"],[0.2222222222222222,\"#7201a8\"],[0.3333333333333333,\"#9c179e\"],[0.4444444444444444,\"#bd3786\"],[0.5555555555555556,\"#d8576b\"],[0.6666666666666666,\"#ed7953\"],[0.7777777777777778,\"#fb9f3a\"],[0.8888888888888888,\"#fdca26\"],[1.0,\"#f0f921\"]],\"type\":\"histogram2dcontour\"}],\"mesh3d\":[{\"colorbar\":{\"outlinewidth\":0,\"ticks\":\"\"},\"type\":\"mesh3d\"}],\"parcoords\":[{\"line\":{\"colorbar\":{\"outlinewidth\":0,\"ticks\":\"\"}},\"type\":\"parcoords\"}],\"pie\":[{\"automargin\":true,\"type\":\"pie\"}],\"scatter\":[{\"marker\":{\"colorbar\":{\"outlinewidth\":0,\"ticks\":\"\"}},\"type\":\"scatter\"}],\"scatter3d\":[{\"line\":{\"colorbar\":{\"outlinewidth\":0,\"ticks\":\"\"}},\"marker\":{\"colorbar\":{\"outlinewidth\":0,\"ticks\":\"\"}},\"type\":\"scatter3d\"}],\"scattercarpet\":[{\"marker\":{\"colorbar\":{\"outlinewidth\":0,\"ticks\":\"\"}},\"type\":\"scattercarpet\"}],\"scattergeo\":[{\"marker\":{\"colorbar\":{\"outlinewidth\":0,\"ticks\":\"\"}},\"type\":\"scattergeo\"}],\"scattergl\":[{\"marker\":{\"colorbar\":{\"outlinewidth\":0,\"ticks\":\"\"}},\"type\":\"scattergl\"}],\"scattermapbox\":[{\"marker\":{\"colorbar\":{\"outlinewidth\":0,\"ticks\":\"\"}},\"type\":\"scattermapbox\"}],\"scatterpolar\":[{\"marker\":{\"colorbar\":{\"outlinewidth\":0,\"ticks\":\"\"}},\"type\":\"scatterpolar\"}],\"scatterpolargl\":[{\"marker\":{\"colorbar\":{\"outlinewidth\":0,\"ticks\":\"\"}},\"type\":\"scatterpolargl\"}],\"scatterternary\":[{\"marker\":{\"colorbar\":{\"outlinewidth\":0,\"ticks\":\"\"}},\"type\":\"scatterternary\"}],\"surface\":[{\"colorbar\":{\"outlinewidth\":0,\"ticks\":\"\"},\"colorscale\":[[0.0,\"#0d0887\"],[0.1111111111111111,\"#46039f\"],[0.2222222222222222,\"#7201a8\"],[0.3333333333333333,\"#9c179e\"],[0.4444444444444444,\"#bd3786\"],[0.5555555555555556,\"#d8576b\"],[0.6666666666666666,\"#ed7953\"],[0.7777777777777778,\"#fb9f3a\"],[0.8888888888888888,\"#fdca26\"],[1.0,\"#f0f921\"]],\"type\":\"surface\"}],\"table\":[{\"cells\":{\"fill\":{\"color\":\"#EBF0F8\"},\"line\":{\"color\":\"white\"}},\"header\":{\"fill\":{\"color\":\"#C8D4E3\"},\"line\":{\"color\":\"white\"}},\"type\":\"table\"}]},\"layout\":{\"annotationdefaults\":{\"arrowcolor\":\"#2a3f5f\",\"arrowhead\":0,\"arrowwidth\":1},\"autotypenumbers\":\"strict\",\"coloraxis\":{\"colorbar\":{\"outlinewidth\":0,\"ticks\":\"\"}},\"colorscale\":{\"diverging\":[[0,\"#8e0152\"],[0.1,\"#c51b7d\"],[0.2,\"#de77ae\"],[0.3,\"#f1b6da\"],[0.4,\"#fde0ef\"],[0.5,\"#f7f7f7\"],[0.6,\"#e6f5d0\"],[0.7,\"#b8e186\"],[0.8,\"#7fbc41\"],[0.9,\"#4d9221\"],[1,\"#276419\"]],\"sequential\":[[0.0,\"#0d0887\"],[0.1111111111111111,\"#46039f\"],[0.2222222222222222,\"#7201a8\"],[0.3333333333333333,\"#9c179e\"],[0.4444444444444444,\"#bd3786\"],[0.5555555555555556,\"#d8576b\"],[0.6666666666666666,\"#ed7953\"],[0.7777777777777778,\"#fb9f3a\"],[0.8888888888888888,\"#fdca26\"],[1.0,\"#f0f921\"]],\"sequentialminus\":[[0.0,\"#0d0887\"],[0.1111111111111111,\"#46039f\"],[0.2222222222222222,\"#7201a8\"],[0.3333333333333333,\"#9c179e\"],[0.4444444444444444,\"#bd3786\"],[0.5555555555555556,\"#d8576b\"],[0.6666666666666666,\"#ed7953\"],[0.7777777777777778,\"#fb9f3a\"],[0.8888888888888888,\"#fdca26\"],[1.0,\"#f0f921\"]]},\"colorway\":[\"#636efa\",\"#EF553B\",\"#00cc96\",\"#ab63fa\",\"#FFA15A\",\"#19d3f3\",\"#FF6692\",\"#B6E880\",\"#FF97FF\",\"#FECB52\"],\"font\":{\"color\":\"#2a3f5f\"},\"geo\":{\"bgcolor\":\"white\",\"lakecolor\":\"white\",\"landcolor\":\"#E5ECF6\",\"showlakes\":true,\"showland\":true,\"subunitcolor\":\"white\"},\"hoverlabel\":{\"align\":\"left\"},\"hovermode\":\"closest\",\"mapbox\":{\"style\":\"light\"},\"paper_bgcolor\":\"white\",\"plot_bgcolor\":\"#E5ECF6\",\"polar\":{\"angularaxis\":{\"gridcolor\":\"white\",\"linecolor\":\"white\",\"ticks\":\"\"},\"bgcolor\":\"#E5ECF6\",\"radialaxis\":{\"gridcolor\":\"white\",\"linecolor\":\"white\",\"ticks\":\"\"}},\"scene\":{\"xaxis\":{\"backgroundcolor\":\"#E5ECF6\",\"gridcolor\":\"white\",\"gridwidth\":2,\"linecolor\":\"white\",\"showbackground\":true,\"ticks\":\"\",\"zerolinecolor\":\"white\"},\"yaxis\":{\"backgroundcolor\":\"#E5ECF6\",\"gridcolor\":\"white\",\"gridwidth\":2,\"linecolor\":\"white\",\"showbackground\":true,\"ticks\":\"\",\"zerolinecolor\":\"white\"},\"zaxis\":{\"backgroundcolor\":\"#E5ECF6\",\"gridcolor\":\"white\",\"gridwidth\":2,\"linecolor\":\"white\",\"showbackground\":true,\"ticks\":\"\",\"zerolinecolor\":\"white\"}},\"shapedefaults\":{\"line\":{\"color\":\"#2a3f5f\"}},\"ternary\":{\"aaxis\":{\"gridcolor\":\"white\",\"linecolor\":\"white\",\"ticks\":\"\"},\"baxis\":{\"gridcolor\":\"white\",\"linecolor\":\"white\",\"ticks\":\"\"},\"bgcolor\":\"#E5ECF6\",\"caxis\":{\"gridcolor\":\"white\",\"linecolor\":\"white\",\"ticks\":\"\"}},\"title\":{\"x\":0.05},\"xaxis\":{\"automargin\":true,\"gridcolor\":\"white\",\"linecolor\":\"white\",\"ticks\":\"\",\"title\":{\"standoff\":15},\"zerolinecolor\":\"white\",\"zerolinewidth\":2},\"yaxis\":{\"automargin\":true,\"gridcolor\":\"white\",\"linecolor\":\"white\",\"ticks\":\"\",\"title\":{\"standoff\":15},\"zerolinecolor\":\"white\",\"zerolinewidth\":2}}},\"xaxis\":{\"anchor\":\"y\",\"domain\":[0.0,1.0],\"title\":{\"text\":\"\\uc9c0\\uc5ed\"}},\"yaxis\":{\"anchor\":\"x\",\"domain\":[0.0,1.0],\"title\":{\"text\":\"\\ub4f1\\ub85d\\ucc28\\ub7c9\\uc218\"}},\"legend\":{\"tracegroupgap\":0},\"margin\":{\"t\":60},\"boxmode\":\"group\"},                        {\"responsive\": true}                    ).then(function(){\n",
              "                            \n",
              "var gd = document.getElementById('14ef7a50-b38a-4910-8964-ccd355a8a707');\n",
              "var x = new MutationObserver(function (mutations, observer) {{\n",
              "        var display = window.getComputedStyle(gd).display;\n",
              "        if (!display || display === 'none') {{\n",
              "            console.log([gd, 'removed!']);\n",
              "            Plotly.purge(gd);\n",
              "            observer.disconnect();\n",
              "        }}\n",
              "}});\n",
              "\n",
              "// Listen for the removal of the full notebook cells\n",
              "var notebookContainer = gd.closest('#notebook-container');\n",
              "if (notebookContainer) {{\n",
              "    x.observe(notebookContainer, {childList: true});\n",
              "}}\n",
              "\n",
              "// Listen for the clearing of the current output cell\n",
              "var outputEl = gd.closest('.output');\n",
              "if (outputEl) {{\n",
              "    x.observe(outputEl, {childList: true});\n",
              "}}\n",
              "\n",
              "                        })                };                            </script>        </div>\n",
              "</body>\n",
              "</html>"
            ]
          },
          "metadata": {}
        }
      ]
    },
    {
      "cell_type": "code",
      "source": [
        "#지역별 샘플수(count)와 등록차량수의 중앙값(median) 산출 후 중앙값 기준으로 정렬\n",
        "area_groups = pd.DataFrame([\n",
        "    *pd.DataFrame({\n",
        "        '지역' : train['지역'],\n",
        "        '등록차량수' : train['등록차량수'],\n",
        "    })\n",
        "    .groupby(['지역'])\n",
        "    .apply(lambda x: {\n",
        "        '지역' : x.iloc[0,0],\n",
        "        'count' : len(x),\n",
        "        'median' : x.등록차량수.median()\n",
        "    })\n",
        "]).sort_values('median')\n",
        "\n",
        "# 중앙값이 작은 지역부터 누적 샘플크기(cum_count)를 토대로 백분위수를 고려해 5개 그룹으로 분할\n",
        "area_groups['cum_count'] = np.cumsum(area_groups['count'])\n",
        "area_groups['n지역'] = pd.qcut(area_groups['cum_count'], 5, labels=False, retbins=False)\n",
        "\n",
        "to_join = area_groups[['지역', 'n지역']].set_index('지역')\n",
        "train = train.join(to_join, on='지역')\n",
        "train['n지역'] = train['n지역'].astype('category')"
      ],
      "metadata": {
        "id": "72POTbJ5WNUx"
      },
      "execution_count": 29,
      "outputs": []
    },
    {
      "cell_type": "code",
      "source": [
        "train = train[['단지코드', '총세대수', '임대건물구분', '지역', 'n지역', '공급유형', '전용면적', '전용면적별세대수', '공가수',\n",
        "       '자격유형', '임대보증금', '임대료', '지하철', '버스', '단지내주차면수', '등록차량수']]"
      ],
      "metadata": {
        "id": "DsD5-tUJbCLD"
      },
      "execution_count": 30,
      "outputs": []
    },
    {
      "cell_type": "code",
      "source": [
        "test.insert(4, 'n지역','')\n",
        "test.loc[(test['지역'] == '대전광역시') | (test['지역'] == '충청남도') | (test['지역'] == '부산광역시') | (test['지역'] == '제주특별자치도'), 'n지역'] = 0\n",
        "test.loc[(test['지역'] == '강원도') | (test['지역'] == '경상남도') | (test['지역'] == '울산광역시'), 'n지역'] = 1\n",
        "test.loc[(test['지역'] == '전라남도') | (test['지역'] == '전라북도') | (test['지역'] == '충청북도'), 'n지역'] = 2\n",
        "test.loc[(test['지역'] == '경상북도') | (test['지역'] == '광주광역시') | (test['지역'] == '서울특별시'), 'n지역'] = 3\n",
        "test.loc[(test['지역'] == '경기도') | (test['지역'] == '대구광역시') | (test['지역'] == '세종특별자치시'), 'n지역'] = 4\n",
        "\n",
        "test['n지역'] = test['n지역'].astype('category')"
      ],
      "metadata": {
        "id": "hDVceH2MbENB"
      },
      "execution_count": 31,
      "outputs": []
    },
    {
      "cell_type": "code",
      "source": [
        "fig = px.box(train,x='n지역',y='등록차량수',hover_name='단지코드')\n",
        "fig.show(renderer=\"colab\")"
      ],
      "metadata": {
        "colab": {
          "base_uri": "https://localhost:8080/",
          "height": 542
        },
        "id": "B8bWmncZbFgw",
        "outputId": "ed4a4878-1109-4df6-9a63-8bc29d38dee3"
      },
      "execution_count": 32,
      "outputs": [
        {
          "output_type": "display_data",
          "data": {
            "text/html": [
              "<html>\n",
              "<head><meta charset=\"utf-8\" /></head>\n",
              "<body>\n",
              "    <div>            <script src=\"https://cdnjs.cloudflare.com/ajax/libs/mathjax/2.7.5/MathJax.js?config=TeX-AMS-MML_SVG\"></script><script type=\"text/javascript\">if (window.MathJax) {MathJax.Hub.Config({SVG: {font: \"STIX-Web\"}});}</script>                <script type=\"text/javascript\">window.PlotlyConfig = {MathJaxConfig: 'local'};</script>\n",
              "        <script src=\"https://cdn.plot.ly/plotly-2.8.3.min.js\"></script>                <div id=\"06485d11-b7c0-40b9-a5ae-b58218f609bb\" class=\"plotly-graph-div\" style=\"height:525px; width:100%;\"></div>            <script type=\"text/javascript\">                                    window.PLOTLYENV=window.PLOTLYENV || {};                                    if (document.getElementById(\"06485d11-b7c0-40b9-a5ae-b58218f609bb\")) {                    Plotly.newPlot(                        \"06485d11-b7c0-40b9-a5ae-b58218f609bb\",                        [{\"alignmentgroup\":\"True\",\"hovertemplate\":\"<b>%{hovertext}</b><br><br>n\\uc9c0\\uc5ed=%{x}<br>\\ub4f1\\ub85d\\ucc28\\ub7c9\\uc218=%{y}<extra></extra>\",\"hovertext\":[\"C2515\",\"C2515\",\"C2515\",\"C2515\",\"C2515\",\"C2515\",\"C2515\",\"C1407\",\"C1407\",\"C1407\",\"C1407\",\"C1407\",\"C1407\",\"C1407\",\"C1407\",\"C1407\",\"C1407\",\"C1407\",\"C1945\",\"C1945\",\"C1945\",\"C1945\",\"C1945\",\"C1945\",\"C1470\",\"C1470\",\"C1470\",\"C1470\",\"C1898\",\"C1898\",\"C1898\",\"C1898\",\"C1898\",\"C1898\",\"C1244\",\"C1244\",\"C1244\",\"C1244\",\"C1244\",\"C1244\",\"C1244\",\"C1244\",\"C1244\",\"C1244\",\"C1244\",\"C1244\",\"C1244\",\"C1171\",\"C1171\",\"C1171\",\"C1171\",\"C1171\",\"C1171\",\"C1171\",\"C1171\",\"C1171\",\"C1171\",\"C1171\",\"C1171\",\"C2073\",\"C2073\",\"C2073\",\"C2073\",\"C2073\",\"C2073\",\"C2513\",\"C2513\",\"C2513\",\"C1936\",\"C1936\",\"C1936\",\"C1936\",\"C2049\",\"C2049\",\"C2049\",\"C2202\",\"C2202\",\"C2202\",\"C1925\",\"C1925\",\"C1925\",\"C1925\",\"C1925\",\"C1925\",\"C2576\",\"C2576\",\"C1312\",\"C1312\",\"C1312\",\"C1312\",\"C1874\",\"C1874\",\"C1874\",\"C1874\",\"C1874\",\"C1874\",\"C1874\",\"C1874\",\"C1874\",\"C1874\",\"C1874\",\"C1874\",\"C1874\",\"C1874\",\"C1874\",\"C1874\",\"C1874\",\"C1874\",\"C1874\",\"C1874\",\"C1874\",\"C1874\",\"C1874\",\"C1874\",\"C1874\",\"C1874\",\"C1874\",\"C1874\",\"C1874\",\"C1874\",\"C2650\",\"C2650\",\"C2650\",\"C2416\",\"C2416\",\"C2416\",\"C2416\",\"C2416\",\"C2416\",\"C2416\",\"C2416\",\"C2416\",\"C2416\",\"C2013\",\"C2013\",\"C2013\",\"C1424\",\"C1424\",\"C1424\",\"C2100\",\"C2100\",\"C2100\",\"C2100\",\"C2100\",\"C2100\",\"C2621\",\"C2621\",\"C2621\",\"C2621\",\"C2621\",\"C2621\",\"C2621\",\"C2621\",\"C2621\",\"C2621\",\"C2621\",\"C2621\",\"C2621\",\"C2621\",\"C2621\",\"C2621\",\"C2621\",\"C2621\",\"C2520\",\"C2319\",\"C2319\",\"C2319\",\"C2319\",\"C1616\",\"C1616\",\"C1616\",\"C1616\",\"C1616\",\"C1616\",\"C1616\",\"C1616\",\"C1616\",\"C1616\",\"C1616\",\"C1616\",\"C1616\",\"C1616\",\"C1616\",\"C1616\",\"C1616\",\"C1616\",\"C1616\",\"C1616\",\"C1616\",\"C1616\",\"C1704\",\"C1704\",\"C1704\",\"C1704\",\"C1704\",\"C1704\",\"C1704\",\"C1704\",\"C1704\",\"C1704\",\"C1704\",\"C1704\",\"C1704\",\"C1704\",\"C1704\",\"C1704\",\"C1704\",\"C2258\",\"C2258\",\"C2258\",\"C2258\",\"C2258\",\"C2258\",\"C2258\",\"C2258\",\"C2258\",\"C2258\",\"C2258\",\"C2258\",\"C2258\",\"C2258\",\"C2258\",\"C2258\",\"C2258\",\"C2258\",\"C2258\",\"C2258\",\"C1032\",\"C1032\",\"C1032\",\"C1032\",\"C1032\",\"C1032\",\"C2038\",\"C2038\",\"C2038\",\"C2038\",\"C2038\",\"C2038\",\"C2038\",\"C2038\",\"C2038\",\"C2038\",\"C2038\",\"C2038\",\"C2038\",\"C2038\",\"C2038\",\"C2038\",\"C2038\",\"C2038\",\"C2038\",\"C2038\",\"C1859\",\"C1859\",\"C1859\",\"C1859\",\"C1859\",\"C1859\",\"C1859\",\"C1859\",\"C1859\",\"C1859\",\"C1859\",\"C1859\",\"C1859\",\"C1859\",\"C1859\",\"C1859\",\"C1859\",\"C1859\",\"C1859\",\"C1859\",\"C1859\",\"C1859\",\"C1859\",\"C1859\",\"C1859\",\"C1859\",\"C1859\",\"C1859\",\"C1859\",\"C1859\",\"C1859\",\"C1859\",\"C1859\",\"C1859\",\"C1859\",\"C1859\",\"C1859\",\"C1859\",\"C1859\",\"C1859\",\"C1722\",\"C1722\",\"C1722\",\"C1722\",\"C1722\",\"C1722\",\"C1722\",\"C1722\",\"C1722\",\"C1722\",\"C1722\",\"C1850\",\"C1850\",\"C1850\",\"C2190\",\"C2190\",\"C2190\",\"C2190\",\"C2190\",\"C2190\",\"C2190\",\"C2190\",\"C2190\",\"C2190\",\"C2190\",\"C2190\",\"C2190\",\"C2190\",\"C2190\",\"C2190\",\"C2190\",\"C2190\",\"C2190\",\"C2190\",\"C2190\",\"C1476\",\"C1476\",\"C1476\",\"C1476\",\"C1476\",\"C1476\",\"C1476\",\"C1476\",\"C1077\",\"C1077\",\"C1077\",\"C1068\",\"C1068\",\"C1068\",\"C1068\",\"C1068\",\"C1068\",\"C1983\",\"C1983\",\"C1983\",\"C1983\",\"C1983\",\"C1983\",\"C1983\",\"C1983\",\"C1983\",\"C1983\",\"C1983\",\"C1983\",\"C1983\",\"C1983\",\"C1983\",\"C2135\",\"C2135\",\"C2135\",\"C2135\",\"C2135\",\"C2135\",\"C2135\",\"C2135\",\"C2135\",\"C2135\",\"C2135\",\"C2135\",\"C2135\",\"C2135\",\"C2135\",\"C2135\",\"C2135\",\"C2135\",\"C2135\",\"C2135\",\"C2034\",\"C2034\",\"C2034\",\"C2034\",\"C2034\",\"C2034\",\"C2034\",\"C2034\",\"C2034\",\"C2034\",\"C2034\",\"C2034\",\"C2034\",\"C2034\",\"C2034\",\"C2034\",\"C2034\",\"C2034\",\"C2034\",\"C2034\",\"C2034\",\"C2034\",\"C2034\",\"C2034\",\"C2034\",\"C2034\",\"C2034\",\"C2034\",\"C2034\",\"C1109\",\"C1109\",\"C1109\",\"C1109\",\"C1109\",\"C1109\",\"C1109\",\"C1109\",\"C1109\",\"C1109\",\"C1109\",\"C1109\",\"C1109\",\"C1109\",\"C1109\",\"C1109\",\"C1109\",\"C1109\",\"C1109\",\"C1109\",\"C1109\",\"C1109\",\"C1497\",\"C1497\",\"C2289\",\"C2289\",\"C2289\",\"C2289\",\"C2289\",\"C2289\",\"C2289\",\"C2289\",\"C2289\",\"C2289\",\"C2289\",\"C2289\",\"C2289\",\"C2289\",\"C2289\",\"C2289\",\"C2289\",\"C2289\",\"C2289\",\"C2289\",\"C2289\",\"C2289\",\"C2289\",\"C2289\",\"C2597\",\"C2597\",\"C2597\",\"C2597\",\"C2597\",\"C2597\",\"C2597\",\"C2597\",\"C2597\",\"C2597\",\"C2597\",\"C2597\",\"C2597\",\"C2597\",\"C2597\",\"C2597\",\"C2597\",\"C2597\",\"C2597\",\"C2597\",\"C2597\",\"C2597\",\"C2597\",\"C2597\",\"C2597\",\"C2597\",\"C2597\",\"C2597\",\"C2597\",\"C2597\",\"C2597\",\"C2597\",\"C2310\",\"C2310\",\"C2310\",\"C2310\",\"C2310\",\"C2310\",\"C2310\",\"C2310\",\"C2310\",\"C2310\",\"C2310\",\"C2310\",\"C2310\",\"C2310\",\"C2310\",\"C2310\",\"C2310\",\"C2310\",\"C2310\",\"C2310\",\"C2310\",\"C2310\",\"C2310\",\"C1672\",\"C1672\",\"C2132\",\"C2132\",\"C2132\",\"C2132\",\"C2132\",\"C2132\",\"C2132\",\"C2132\",\"C2132\",\"C2132\",\"C2132\",\"C2132\",\"C2132\",\"C2132\",\"C2132\",\"C2132\",\"C2132\",\"C2132\",\"C2132\",\"C2132\",\"C2132\",\"C2132\",\"C2132\",\"C2132\",\"C2132\",\"C2132\",\"C2132\",\"C2132\",\"C2132\",\"C2132\",\"C2132\",\"C2132\",\"C2132\",\"C2132\",\"C2132\",\"C2132\",\"C2132\",\"C2132\",\"C2132\",\"C2132\",\"C2132\",\"C2132\",\"C2132\",\"C2132\",\"C2132\",\"C2132\",\"C2132\",\"C1439\",\"C1439\",\"C1439\",\"C1439\",\"C1439\",\"C1439\",\"C1439\",\"C1439\",\"C1439\",\"C1439\",\"C1439\",\"C1439\",\"C1439\",\"C1439\",\"C1439\",\"C1439\",\"C1439\",\"C1439\",\"C1439\",\"C1439\",\"C1439\",\"C1439\",\"C1439\",\"C1439\",\"C1439\",\"C1439\",\"C1439\",\"C1439\",\"C1439\",\"C1439\",\"C1439\",\"C1439\",\"C1439\",\"C1439\",\"C1439\",\"C1439\",\"C1439\",\"C1439\",\"C1439\",\"C1439\",\"C1439\",\"C1439\",\"C1439\",\"C1439\",\"C1439\",\"C1439\",\"C1439\",\"C1439\",\"C1613\",\"C1613\",\"C1613\",\"C2216\",\"C2216\",\"C1899\",\"C1899\",\"C1899\",\"C1899\",\"C1899\",\"C1899\",\"C1056\",\"C1056\",\"C1056\",\"C1056\",\"C1056\",\"C1056\",\"C1056\",\"C1056\",\"C1056\",\"C1056\",\"C1056\",\"C1056\",\"C2644\",\"C2644\",\"C2644\",\"C2644\",\"C2644\",\"C2644\",\"C2644\",\"C1206\",\"C1206\",\"C1206\",\"C1206\",\"C1206\",\"C1206\",\"C1206\",\"C1206\",\"C1206\",\"C1206\",\"C1206\",\"C1206\",\"C2481\",\"C2481\",\"C2481\",\"C1718\",\"C1718\",\"C1655\",\"C1655\",\"C1655\",\"C1655\",\"C1430\",\"C1430\",\"C1430\",\"C1430\",\"C1775\",\"C1775\",\"C1775\",\"C1775\",\"C1775\",\"C1775\",\"C1775\",\"C1775\",\"C1775\",\"C1775\",\"C1775\",\"C1775\",\"C1775\",\"C1775\",\"C1775\",\"C1775\",\"C1775\",\"C1519\",\"C1519\",\"C2221\",\"C2221\",\"C2221\",\"C2221\",\"C2221\",\"C2221\",\"C2221\",\"C2221\",\"C1790\",\"C1790\",\"C1790\",\"C1790\",\"C1790\",\"C1790\",\"C1790\",\"C1790\",\"C1790\",\"C1790\",\"C1790\",\"C1790\",\"C1790\",\"C1790\",\"C1790\",\"C1790\",\"C1790\",\"C1790\",\"C1790\",\"C1790\",\"C1790\",\"C1790\",\"C1790\",\"C1790\",\"C1790\",\"C1790\",\"C1790\",\"C1790\",\"C1790\",\"C1790\",\"C1790\",\"C1790\",\"C1790\",\"C2109\",\"C2109\",\"C2109\",\"C2109\",\"C2109\",\"C2109\",\"C2109\",\"C2109\",\"C2109\",\"C2109\",\"C2109\",\"C2109\",\"C2109\",\"C2109\",\"C2109\",\"C2109\",\"C2109\",\"C1698\",\"C1698\",\"C1698\",\"C1698\",\"C1698\",\"C1698\",\"C1698\",\"C1698\",\"C1866\",\"C1866\",\"C1866\",\"C1866\",\"C1005\",\"C1005\",\"C1005\",\"C1004\",\"C1004\",\"C1004\",\"C1004\",\"C1004\",\"C1004\",\"C1004\",\"C1004\",\"C1004\",\"C1004\",\"C1004\",\"C1004\",\"C1004\",\"C1004\",\"C1004\",\"C1004\",\"C1004\",\"C1004\",\"C1004\",\"C1875\",\"C1875\",\"C1875\",\"C1875\",\"C1875\",\"C1875\",\"C1875\",\"C1875\",\"C1875\",\"C1875\",\"C1875\",\"C1875\",\"C1875\",\"C1875\",\"C1875\",\"C1875\",\"C1875\",\"C1875\",\"C1875\",\"C1875\",\"C1875\",\"C1875\",\"C2156\",\"C2156\",\"C2156\",\"C2212\",\"C2212\",\"C2212\",\"C2212\",\"C2212\",\"C2212\",\"C2212\",\"C2212\",\"C2212\",\"C2212\",\"C2212\",\"C2212\",\"C2212\",\"C2212\",\"C2401\",\"C2401\",\"C2401\",\"C2571\",\"C2571\",\"C2571\",\"C2571\",\"C2571\",\"C2571\",\"C2571\",\"C2571\",\"C2571\",\"C2571\",\"C2571\",\"C2571\",\"C2571\",\"C2571\",\"C1175\",\"C1175\",\"C1175\",\"C1833\",\"C1833\",\"C1833\",\"C1833\",\"C1833\",\"C1833\",\"C1833\",\"C2445\",\"C2445\",\"C2445\",\"C2445\",\"C2445\",\"C2445\",\"C1885\",\"C1885\",\"C1885\",\"C1885\",\"C1885\",\"C1885\",\"C1885\",\"C1885\",\"C2368\",\"C2368\",\"C2368\",\"C2368\",\"C2368\",\"C2368\",\"C2368\",\"C2368\",\"C2016\",\"C2016\",\"C2016\",\"C2016\",\"C2371\",\"C2371\",\"C2371\",\"C2371\",\"C2371\",\"C2371\",\"C2371\",\"C2371\",\"C2536\",\"C2536\",\"C2536\",\"C2538\",\"C2538\",\"C2538\",\"C2538\",\"C2538\",\"C2538\",\"C2538\",\"C2538\",\"C2538\",\"C2538\",\"C2538\",\"C2538\",\"C2538\",\"C2538\",\"C2538\",\"C2538\",\"C2538\",\"C2538\",\"C2538\",\"C1014\",\"C1014\",\"C1014\",\"C1014\",\"C1014\",\"C1014\",\"C1014\",\"C1592\",\"C1592\",\"C1592\",\"C1592\",\"C1592\",\"C1592\",\"C1592\",\"C1867\",\"C1867\",\"C1867\",\"C1867\",\"C1867\",\"C1867\",\"C2326\",\"C2326\",\"C2326\",\"C2326\",\"C2326\",\"C1015\",\"C1015\",\"C1015\",\"C1015\",\"C1015\",\"C1015\",\"C1015\",\"C1015\",\"C1620\",\"C1620\",\"C1620\",\"C1620\",\"C1620\",\"C1049\",\"C1049\",\"C1049\",\"C1049\",\"C1049\",\"C2000\",\"C2000\",\"C2000\",\"C2000\",\"C2000\",\"C2000\",\"C2000\",\"C2097\",\"C2097\",\"C2097\",\"C2097\",\"C2097\",\"C2097\",\"C2097\",\"C1668\",\"C1668\",\"C1668\",\"C1668\",\"C1668\",\"C1668\",\"C1668\",\"C1689\",\"C1689\",\"C1689\",\"C1689\",\"C1689\",\"C1689\",\"C1689\",\"C1689\",\"C1689\",\"C1689\",\"C1234\",\"C1234\",\"C2514\",\"C2514\",\"C2514\",\"C2514\",\"C2514\",\"C2514\",\"C1368\",\"C1368\",\"C1368\",\"C1368\",\"C1057\",\"C1057\",\"C1057\",\"C1057\",\"C2336\",\"C2336\",\"C2336\",\"C2336\",\"C2336\",\"C2336\",\"C2336\",\"C1026\",\"C1026\",\"C2256\",\"C2256\",\"C2256\",\"C2256\",\"C2256\",\"C1900\",\"C1900\",\"C1900\",\"C1900\",\"C1900\",\"C1900\",\"C1900\",\"C1900\",\"C2666\",\"C2666\",\"C2666\",\"C2666\",\"C2666\",\"C2666\",\"C2361\",\"C2361\",\"C2361\",\"C2361\",\"C2361\",\"C2361\",\"C2361\",\"C2361\",\"C2361\",\"C2361\",\"C2361\",\"C1642\",\"C1642\",\"C1642\",\"C1642\",\"C1642\",\"C1642\",\"C1642\",\"C1013\",\"C1013\",\"C1013\",\"C1013\",\"C1013\",\"C2232\",\"C2232\",\"C2232\",\"C2232\",\"C1973\",\"C1973\",\"C1973\",\"C2458\",\"C2458\",\"C2458\",\"C2458\",\"C2458\",\"C2458\",\"C2458\",\"C2574\",\"C2574\",\"C2574\",\"C2574\",\"C2574\",\"C2574\",\"C2574\",\"C2574\",\"C2574\",\"C2133\",\"C2133\",\"C2133\",\"C2133\",\"C2133\",\"C2133\",\"C2096\",\"C2096\",\"C2096\",\"C2096\",\"C2096\",\"C2096\",\"C2096\",\"C2010\",\"C2010\",\"C2010\",\"C2010\",\"C2010\",\"C1879\",\"C1879\",\"C1879\",\"C1879\",\"C1879\",\"C1131\",\"C1131\",\"C1131\",\"C1131\",\"C1468\",\"C1468\",\"C1468\",\"C1468\",\"C1468\",\"C1213\",\"C1213\",\"C1213\",\"C1213\",\"C1213\",\"C1213\",\"C1173\",\"C1173\",\"C1173\",\"C1173\",\"C1173\",\"C1173\",\"C1173\",\"C1173\",\"C1173\",\"C2492\",\"C2492\",\"C2492\",\"C2492\",\"C2492\",\"C2032\",\"C2032\",\"C2032\",\"C2032\",\"C2032\",\"C2032\",\"C2032\",\"C2032\",\"C2094\",\"C2094\",\"C2094\",\"C2094\",\"C2094\",\"C2094\",\"C2094\",\"C1880\",\"C1880\",\"C1880\",\"C1880\",\"C2089\",\"C2089\",\"C2089\",\"C2089\",\"C2089\",\"C2089\",\"C1744\",\"C1744\",\"C1744\",\"C1744\",\"C1744\",\"C2046\",\"C2046\",\"C2046\",\"C2046\",\"C2046\",\"C2046\",\"C2071\",\"C2071\",\"C2071\",\"C2071\",\"C2071\",\"C2071\",\"C2071\",\"C2071\",\"C2071\",\"C2635\",\"C2635\",\"C2635\",\"C2635\",\"C2635\",\"C2390\",\"C2390\",\"C2390\",\"C2390\",\"C2561\",\"C2561\",\"C2561\",\"C2561\",\"C1663\",\"C1663\",\"C1663\",\"C1663\",\"C2490\",\"C2490\",\"C2066\",\"C2066\",\"C2066\",\"C2066\",\"C2066\",\"C2066\",\"C2066\",\"C2066\",\"C2066\",\"C2066\",\"C1585\",\"C1585\",\"C1585\",\"C1585\",\"C2276\",\"C2276\",\"C2276\",\"C1155\",\"C1155\",\"C1155\",\"C1693\",\"C1693\",\"C1693\",\"C1693\",\"C1889\",\"C1889\",\"C1889\",\"C1889\",\"C2518\",\"C2518\",\"C1962\",\"C1962\",\"C1962\",\"C1962\",\"C1666\",\"C1666\",\"C1666\",\"C1666\",\"C1666\",\"C1666\",\"C1666\",\"C1666\",\"C1666\",\"C1537\",\"C1537\",\"C1537\",\"C1537\",\"C1329\",\"C1329\",\"C1329\",\"C1329\",\"C1329\",\"C1329\",\"C1329\",\"C1329\",\"C1762\",\"C1762\",\"C1762\",\"C2008\",\"C2008\",\"C2008\",\"C2008\",\"C2008\",\"C2008\",\"C2008\",\"C2008\",\"C2008\",\"C2008\",\"C1319\",\"C1319\",\"C1319\",\"C1319\",\"C1319\",\"C1319\",\"C1141\",\"C1141\",\"C1141\",\"C1141\",\"C1141\",\"C1141\",\"C2340\",\"C1929\",\"C1929\",\"C1929\",\"C1929\",\"C1929\",\"C1929\",\"C1681\",\"C1681\",\"C1681\",\"C1681\",\"C1681\",\"C1681\",\"C1681\",\"C1681\",\"C1184\",\"C1184\",\"C1184\",\"C1184\",\"C1184\",\"C1184\",\"C1184\",\"C2383\",\"C2383\",\"C2383\",\"C2383\",\"C2383\",\"C2383\",\"C2383\",\"C2383\",\"C2383\",\"C1579\",\"C1579\",\"C1579\",\"C1579\",\"C1579\",\"C1579\",\"C1579\",\"C1579\",\"C1579\",\"C2173\",\"C2173\",\"C2173\",\"C2173\",\"C2173\",\"C2173\",\"C2173\",\"C2173\",\"C1911\",\"C1911\",\"C1911\",\"C1911\",\"C1911\",\"C1911\",\"C1638\",\"C1638\",\"C1638\",\"C1638\",\"C1638\",\"C2412\",\"C2412\",\"C2412\",\"C2412\",\"C2412\",\"C1871\",\"C1871\",\"C1871\",\"C1871\",\"C1871\",\"C1871\",\"C1309\",\"C1309\",\"C1309\",\"C1309\",\"C1309\",\"C1309\",\"C1309\",\"C1527\",\"C1527\",\"C1527\",\"C1527\",\"C1527\",\"C2208\",\"C2208\",\"C2208\",\"C2208\",\"C2208\",\"C2208\",\"C2208\",\"C2208\",\"C1940\",\"C1940\",\"C1940\",\"C1940\",\"C1940\",\"C1940\",\"C2596\",\"C2596\",\"C2596\",\"C2596\",\"C2596\",\"C2596\",\"C2596\",\"C2227\",\"C2227\",\"C2227\",\"C2227\",\"C2227\",\"C2227\",\"C2227\",\"C2563\",\"C2563\",\"C2563\",\"C2563\",\"C2358\",\"C2358\",\"C2358\",\"C2358\",\"C2358\",\"C2358\",\"C1492\",\"C1492\",\"C1492\",\"C1492\",\"C1492\",\"C1492\",\"C1492\",\"C1601\",\"C1601\",\"C1601\",\"C1601\",\"C1601\",\"C1601\",\"C1687\",\"C1687\",\"C1687\",\"C1687\",\"C1687\",\"C1687\",\"C1687\",\"C1687\",\"C1687\",\"C1687\",\"C1687\",\"C1236\",\"C1236\",\"C1236\",\"C1236\",\"C1236\",\"C1236\",\"C1236\",\"C1236\",\"C1236\",\"C1236\",\"C1236\",\"C1236\",\"C1487\",\"C1487\",\"C1379\",\"C1379\",\"C1379\",\"C1379\",\"C1386\",\"C1386\",\"C1386\",\"C1386\",\"C1386\",\"C1386\",\"C1386\",\"C1386\",\"C1386\",\"C1386\",\"C1386\",\"C1386\",\"C1386\",\"C1656\",\"C1656\",\"C1656\",\"C1656\",\"C1656\",\"C1656\",\"C1656\",\"C1656\",\"C2526\",\"C2526\",\"C2526\",\"C2526\",\"C2526\",\"C1022\",\"C1022\",\"C1022\",\"C1022\",\"C1896\",\"C1896\",\"C1896\",\"C1896\",\"C1896\",\"C1896\",\"C1269\",\"C1269\",\"C1269\",\"C1269\",\"C1916\",\"C1916\",\"C1916\",\"C1916\",\"C2070\",\"C2070\",\"C2070\",\"C2070\",\"C2070\",\"C1967\",\"C1967\",\"C1967\",\"C1967\",\"C2021\",\"C2021\",\"C2021\",\"C2021\",\"C2021\",\"C2021\",\"C2021\",\"C2021\",\"C2021\",\"C2021\",\"C2021\",\"C2021\",\"C1143\",\"C1143\",\"C1143\",\"C2188\",\"C2651\",\"C2651\",\"C1036\",\"C1036\",\"C1036\",\"C1036\",\"C1036\",\"C1036\",\"C1036\",\"C2657\",\"C2657\",\"C2657\",\"C2657\",\"C2657\",\"C2657\",\"C2657\",\"C2527\",\"C2527\",\"C2527\",\"C2527\",\"C2527\",\"C2262\",\"C2262\",\"C2262\",\"C2262\",\"C2262\",\"C2262\",\"C2262\",\"C2262\",\"C1084\",\"C1084\",\"C1084\",\"C1084\",\"C1084\",\"C1084\",\"C2530\",\"C2530\",\"C2530\",\"C2530\",\"C2530\",\"C2530\",\"C1046\",\"C1046\",\"C1046\",\"C1761\",\"C1761\",\"C1761\",\"C1761\",\"C1761\",\"C1761\",\"C1102\",\"C1102\",\"C1102\",\"C1102\",\"C1102\",\"C1102\",\"C2420\",\"C2420\",\"C2420\",\"C2420\",\"C2420\",\"C2420\",\"C2420\",\"C1122\",\"C1122\",\"C1122\",\"C1122\",\"C1122\",\"C1122\",\"C1122\",\"C2042\",\"C2042\",\"C2042\",\"C2042\",\"C2042\",\"C1375\",\"C1375\",\"C1375\",\"C1375\",\"C1375\",\"C1375\",\"C1375\",\"C1410\",\"C1410\",\"C1410\",\"C1641\",\"C1641\",\"C1641\",\"C1641\",\"C1706\",\"C1706\",\"C1706\",\"C1706\",\"C1706\",\"C1307\",\"C1307\",\"C1307\",\"C1307\",\"C1307\",\"C1307\",\"C1307\",\"C1307\",\"C2601\",\"C2601\",\"C2601\",\"C2601\",\"C2601\",\"C1085\",\"C1085\",\"C1085\",\"C1085\",\"C2385\",\"C2385\",\"C2385\",\"C2385\",\"C1059\",\"C1059\",\"C1059\",\"C1059\",\"C1059\",\"C1059\",\"C2162\",\"C2162\",\"C2162\",\"C1819\",\"C1819\",\"C1819\",\"C2325\",\"C2325\",\"C2325\",\"C2325\",\"C2325\",\"C2394\",\"C2394\",\"C2394\",\"C2394\",\"C2394\",\"C2394\",\"C2394\",\"C2394\",\"C1133\",\"C1133\",\"C1133\",\"C1133\",\"C1133\",\"C1133\",\"C1281\",\"C1281\",\"C1281\",\"C1281\",\"C1281\",\"C1194\",\"C1194\",\"C1194\",\"C1194\",\"C1194\",\"C2308\",\"C2308\",\"C2308\",\"C2036\",\"C2036\",\"C2036\",\"C2036\",\"C1394\",\"C1394\",\"C1394\",\"C1394\",\"C1180\",\"C1180\",\"C1180\",\"C2503\",\"C2503\",\"C2503\",\"C2503\",\"C2503\",\"C2503\",\"C1907\",\"C1907\",\"C1907\",\"C1907\",\"C1907\",\"C1907\",\"C2181\",\"C2181\",\"C2181\",\"C2181\",\"C2181\",\"C2181\",\"C1768\",\"C1768\",\"C1783\",\"C1783\",\"C1783\",\"C1783\",\"C1783\",\"C2192\",\"C2192\",\"C2192\",\"C2192\",\"C2192\",\"C2346\",\"C2346\",\"C2346\",\"C2346\",\"C2346\",\"C2680\",\"C2680\",\"C2680\",\"C2631\",\"C2631\",\"C2631\",\"C2631\",\"C2631\",\"C2631\",\"C2631\",\"C2141\",\"C2141\",\"C2141\",\"C2141\",\"C1569\",\"C1569\",\"C1569\",\"C1569\",\"C1569\",\"C1569\",\"C1569\",\"C2099\",\"C2099\",\"C2099\",\"C2099\",\"C2099\",\"C2287\",\"C2287\",\"C2287\",\"C2287\",\"C2287\",\"C2287\",\"C2287\",\"C2055\",\"C2055\",\"C2055\",\"C2055\",\"C2055\",\"C2055\",\"C1428\",\"C1428\",\"C1428\",\"C1428\",\"C1428\",\"C1428\",\"C1428\",\"C2522\",\"C2522\",\"C2522\",\"C2522\",\"C2522\",\"C2522\",\"C2522\",\"C2560\",\"C2560\",\"C2068\",\"C2068\",\"C2603\",\"C2603\",\"C2603\",\"C2603\",\"C2603\",\"C2603\",\"C1965\",\"C1965\",\"C1965\",\"C1965\",\"C1965\",\"C1660\",\"C1660\",\"C1660\",\"C1660\",\"C1660\",\"C1660\",\"C1660\",\"C1660\",\"C2378\",\"C2378\",\"C2378\",\"C2378\",\"C1268\",\"C1268\",\"C1268\",\"C1268\",\"C1268\",\"C1268\",\"C1994\",\"C1994\",\"C1994\",\"C1994\",\"C1837\",\"C1837\",\"C1837\",\"C1837\",\"C1837\",\"C1837\",\"C1000\",\"C1000\",\"C1000\",\"C1000\",\"C1000\",\"C1000\",\"C1000\",\"C1465\",\"C1465\",\"C1465\",\"C1465\",\"C1465\",\"C1465\",\"C1448\",\"C1448\",\"C1448\",\"C1448\",\"C1448\",\"C1448\",\"C1448\",\"C1448\",\"C1448\",\"C1516\",\"C1516\",\"C1516\",\"C1516\",\"C1516\",\"C2670\",\"C2670\",\"C2670\",\"C2670\",\"C2670\",\"C1365\",\"C1365\",\"C1365\",\"C1365\",\"C1365\",\"C1365\",\"C1365\",\"C1365\",\"C1365\",\"C1365\",\"C1177\",\"C1177\",\"C1177\",\"C1177\",\"C1177\",\"C1177\",\"C1177\",\"C1177\",\"C1177\",\"C1177\",\"C1177\",\"C1177\",\"C1177\",\"C1177\",\"C1177\",\"C1177\",\"C1360\",\"C1360\",\"C1360\",\"C1360\",\"C1360\",\"C1360\",\"C2488\",\"C2488\",\"C2488\",\"C2488\",\"C2488\",\"C2488\",\"C2488\",\"C2488\",\"C1406\",\"C1406\",\"C1406\",\"C1406\",\"C1406\",\"C1406\",\"C1406\",\"C1406\",\"C1406\",\"C1406\",\"C1406\",\"C1406\",\"C1406\",\"C1406\",\"C1566\",\"C1566\",\"C1566\",\"C1566\",\"C1566\",\"C1566\",\"C1227\",\"C1227\",\"C1227\",\"C1227\",\"C1227\",\"C1227\",\"C1227\",\"C1227\",\"C1227\",\"C2460\",\"C2460\",\"C2460\",\"C2460\",\"C2460\",\"C2460\",\"C2486\",\"C2486\",\"C2486\",\"C2486\",\"C2486\",\"C2486\",\"C2486\",\"C2486\",\"C2486\",\"C2486\",\"C2106\",\"C2106\",\"C2106\",\"C2106\",\"C2106\",\"C1572\",\"C1572\",\"C1572\",\"C1572\",\"C1572\",\"C1572\",\"C1773\",\"C1773\",\"C1773\",\"C1773\",\"C1773\",\"C1773\",\"C1773\",\"C1773\",\"C1773\",\"C1677\",\"C1677\",\"C1677\",\"C1677\",\"C1677\",\"C1677\",\"C1677\",\"C1677\",\"C1677\",\"C1677\",\"C1677\",\"C1823\",\"C1823\",\"C1823\",\"C1823\",\"C1823\",\"C1823\",\"C1344\",\"C1344\",\"C1344\",\"C1344\",\"C1344\",\"C1344\",\"C2692\",\"C2692\",\"C2692\",\"C2692\",\"C2692\",\"C2505\",\"C2505\",\"C2505\",\"C2505\",\"C2505\",\"C2587\",\"C2587\",\"C2587\",\"C2587\",\"C2587\",\"C2587\",\"C2587\",\"C2127\",\"C2127\",\"C2127\",\"C2127\",\"C2127\",\"C2127\",\"C1316\",\"C1316\",\"C1674\",\"C1674\",\"C1674\",\"C1674\",\"C1674\",\"C1674\",\"C1713\",\"C1713\",\"C1713\",\"C1713\",\"C1713\",\"C1713\",\"C1845\",\"C1845\",\"C1845\",\"C1845\",\"C2082\",\"C2082\",\"C2082\",\"C2082\",\"C2082\",\"C2082\",\"C1328\",\"C1328\",\"C1328\",\"C1328\",\"C1328\",\"C1328\",\"C1328\",\"C1328\",\"C1328\",\"C1328\",\"C1328\",\"C2357\",\"C2357\",\"C2357\",\"C2357\",\"C2357\",\"C2357\",\"C2565\",\"C2565\",\"C2565\",\"C2565\",\"C2565\",\"C2565\",\"C2565\",\"C2565\",\"C2565\",\"C2565\",\"C2565\",\"C2565\",\"C1804\",\"C1804\",\"C1804\",\"C1804\",\"C2255\",\"C2255\",\"C2255\",\"C2255\",\"C2255\",\"C2255\",\"C1343\",\"C1343\",\"C1343\",\"C1343\",\"C1343\",\"C1343\",\"C1343\",\"C1343\",\"C1343\",\"C1987\",\"C1987\",\"C1987\",\"C1987\",\"C1987\",\"C1987\",\"C2479\",\"C2479\",\"C2479\",\"C2479\",\"C2479\",\"C2479\",\"C2479\",\"C2352\",\"C2352\",\"C2352\",\"C2352\",\"C2352\",\"C2352\",\"C2352\",\"C2352\",\"C2352\",\"C2352\",\"C1310\",\"C1310\",\"C1310\",\"C1310\",\"C1310\",\"C1310\",\"C1310\",\"C1310\",\"C1310\",\"C1738\",\"C1738\",\"C1738\",\"C1738\",\"C1039\",\"C1039\",\"C1039\",\"C1039\",\"C1039\",\"C1039\",\"C1039\",\"C1039\",\"C1039\",\"C1039\",\"C1039\",\"C1863\",\"C1863\",\"C1863\",\"C1863\",\"C1863\",\"C1863\",\"C1863\",\"C1863\",\"C1426\",\"C1426\",\"C1426\",\"C1426\",\"C1426\",\"C2659\",\"C2659\",\"C2659\",\"C2659\",\"C2659\",\"C2659\",\"C2659\",\"C2659\",\"C2659\",\"C2659\",\"C2659\",\"C2489\",\"C2489\",\"C2489\",\"C2211\",\"C2211\",\"C2211\",\"C2314\",\"C2314\",\"C2314\",\"C2314\",\"C2314\",\"C2314\",\"C2314\",\"C1861\",\"C1861\",\"C1861\",\"C1861\",\"C2389\",\"C2389\",\"C2389\",\"C2389\",\"C2389\",\"C2389\",\"C1490\",\"C1490\",\"C1490\",\"C1490\",\"C1024\",\"C1024\",\"C1024\",\"C1024\",\"C1024\",\"C1024\",\"C1024\",\"C1024\",\"C1024\",\"C1024\",\"C1788\",\"C1788\",\"C1740\",\"C1740\",\"C1740\",\"C1740\",\"C2620\",\"C2620\",\"C2620\",\"C2620\",\"C2620\",\"C1286\",\"C1286\",\"C1286\",\"C1089\",\"C1089\",\"C1089\",\"C1089\",\"C1089\",\"C1089\",\"C2237\",\"C2237\",\"C2237\",\"C1341\",\"C1341\",\"C1341\",\"C1341\",\"C1341\",\"C1341\",\"C1341\",\"C1341\",\"C1341\",\"C1338\",\"C1338\",\"C1338\",\"C1338\",\"C1338\",\"C1338\",\"C1338\",\"C1338\",\"C1338\",\"C1338\",\"C2405\",\"C2405\",\"C2405\",\"C1969\",\"C1969\",\"C1969\",\"C1969\",\"C1969\",\"C1969\",\"C2274\",\"C2274\",\"C2274\",\"C2274\",\"C2274\",\"C2274\",\"C2274\",\"C1699\",\"C1699\",\"C1699\",\"C1699\",\"C1699\",\"C1699\",\"C1699\",\"C2251\",\"C2251\",\"C2251\",\"C2251\",\"C2251\",\"C2251\",\"C2251\",\"C2251\",\"C2251\",\"C2251\",\"C2251\",\"C1340\",\"C1340\",\"C1340\",\"C1340\",\"C1340\",\"C2373\",\"C2373\",\"C2373\",\"C2373\",\"C2373\",\"C2373\",\"C1455\",\"C1455\",\"C1455\",\"C2137\",\"C2137\",\"C2137\",\"C1985\",\"C1985\",\"C1985\",\"C1985\",\"C2583\",\"C2583\",\"C2583\",\"C2583\",\"C2583\",\"C2583\",\"C2583\",\"C2583\",\"C2583\",\"C2583\",\"C2583\",\"C2663\",\"C2663\",\"C2663\",\"C2663\",\"C2663\",\"C2663\",\"C2450\",\"C2450\",\"C2450\",\"C2450\",\"C2450\",\"C2450\",\"C2329\",\"C2329\",\"C2329\",\"C2329\",\"C1834\",\"C1834\",\"C1834\",\"C1848\",\"C1848\",\"C1848\",\"C1848\",\"C1848\",\"C1743\",\"C1743\",\"C1743\",\"C1743\",\"C1743\",\"C1743\",\"C1743\",\"C1350\",\"C1350\",\"C1350\",\"C1350\",\"C1350\",\"C1350\",\"C1350\",\"C1350\",\"C1350\",\"C1350\",\"C1350\",\"C1350\",\"C1350\",\"C1402\",\"C1402\",\"C1402\",\"C1402\",\"C1402\",\"C1103\",\"C1103\",\"C1103\",\"C1103\",\"C1129\",\"C1129\",\"C1129\",\"C1129\",\"C1129\",\"C1129\",\"C1129\",\"C1129\",\"C1027\",\"C1027\",\"C1027\",\"C1027\",\"C1027\",\"C2377\",\"C2377\",\"C2377\",\"C2377\",\"C2377\",\"C2377\",\"C2661\",\"C2661\",\"C2661\",\"C1263\",\"C1263\",\"C1263\",\"C1263\",\"C1263\",\"C1136\",\"C1136\",\"C1136\",\"C1136\",\"C2605\",\"C2605\",\"C2605\",\"C2393\",\"C2393\",\"C2393\",\"C2393\",\"C2393\",\"C2393\",\"C2393\",\"C2393\",\"C2393\",\"C2393\",\"C2393\",\"C2393\",\"C2393\",\"C1673\",\"C1673\",\"C1673\",\"C1673\",\"C1673\",\"C1017\",\"C1017\",\"C1017\",\"C2539\",\"C2539\",\"C2539\",\"C2539\",\"C2539\",\"C2539\",\"C1933\",\"C1933\",\"C1933\",\"C1933\",\"C1933\",\"C1933\",\"C2316\",\"C2316\",\"C2316\",\"C2316\",\"C2414\",\"C2414\",\"C2414\",\"C2414\",\"C1301\",\"C1301\",\"C1301\",\"C1700\",\"C1700\",\"C1700\",\"C1636\",\"C1636\",\"C1636\",\"C1636\",\"C2612\",\"C2612\",\"C2612\",\"C2612\",\"C1757\",\"C1757\",\"C1757\",\"C1757\",\"C2507\",\"C2507\",\"C2507\",\"C2507\",\"C2507\",\"C2507\",\"C2507\",\"C2507\",\"C2507\",\"C2507\",\"C2507\",\"C2507\",\"C2507\",\"C2507\",\"C2507\",\"C2507\",\"C2507\",\"C2507\",\"C1163\",\"C1163\",\"C1163\",\"C2627\",\"C2627\",\"C2627\",\"C2627\",\"C2627\",\"C2627\",\"C2040\",\"C2040\",\"C2609\",\"C2609\",\"C2609\",\"C2001\",\"C2001\",\"C2001\",\"C2001\",\"C2001\",\"C1065\",\"C1065\",\"C1065\",\"C1363\",\"C1363\",\"C1363\",\"C1363\",\"C1363\",\"C1363\",\"C1363\",\"C1363\",\"C1363\",\"C1363\",\"C1363\",\"C1363\",\"C1363\",\"C1363\",\"C2579\",\"C2579\",\"C2579\",\"C2579\",\"C2579\",\"C2579\",\"C1048\",\"C1048\",\"C1048\",\"C1210\",\"C1210\",\"C1210\",\"C1210\",\"C1210\",\"C1320\",\"C1320\",\"C1320\",\"C1320\",\"C1941\",\"C1941\",\"C1941\",\"C1941\",\"C1326\",\"C1326\",\"C1326\",\"C1326\",\"C1326\",\"C1685\",\"C1685\",\"C1685\",\"C1685\",\"C1685\",\"C1685\",\"C1685\",\"C1685\",\"C1685\",\"C2618\",\"C2618\",\"C2618\",\"C2618\",\"C2618\",\"C1451\",\"C1451\",\"C1451\",\"C1451\",\"C1451\",\"C2143\",\"C2143\",\"C2143\",\"C2143\",\"C1968\",\"C1968\",\"C1968\",\"C1968\",\"C1968\",\"C2470\",\"C2470\",\"C2470\",\"C1258\",\"C1258\",\"C1258\",\"C1258\",\"C1258\",\"C1258\",\"C2453\",\"C2453\",\"C2453\",\"C2453\",\"C2453\",\"C2453\",\"C2453\",\"C1659\",\"C1659\",\"C1659\",\"C1659\",\"C1659\",\"C1659\",\"C1659\",\"C1659\",\"C1659\",\"C1659\",\"C1659\",\"C1659\",\"C1659\",\"C1724\",\"C1724\",\"C1724\",\"C1724\",\"C1724\",\"C1724\",\"C1724\",\"C1724\",\"C1724\",\"C1724\",\"C1802\",\"C1802\",\"C1802\",\"C1802\",\"C1802\",\"C1802\",\"C1802\",\"C1802\",\"C1802\",\"C1802\",\"C1802\",\"C1939\",\"C1939\",\"C1939\",\"C1939\",\"C1939\",\"C1939\",\"C1939\",\"C1939\",\"C1939\",\"C1284\",\"C1284\",\"C2595\",\"C2595\",\"C2595\",\"C2595\",\"C2595\",\"C2351\",\"C2351\",\"C2351\",\"C2351\",\"C2351\",\"C2506\",\"C2506\",\"C2506\",\"C2506\",\"C2506\",\"C2506\",\"C2506\",\"C2506\",\"C2506\",\"C2506\",\"C2506\",\"C2506\",\"C2506\",\"C2506\",\"C2506\",\"C2506\",\"C2506\",\"C1697\",\"C1697\",\"C1697\",\"C1697\",\"C1697\",\"C1697\",\"C2259\",\"C2259\",\"C2259\",\"C2259\",\"C2259\",\"C2259\",\"C1786\",\"C1786\",\"C1786\",\"C1786\",\"C1786\",\"C1357\",\"C1357\",\"C1357\",\"C1357\",\"C2570\",\"C2570\",\"C2570\",\"C2570\",\"C2570\",\"C2570\",\"C2570\",\"C2570\",\"C1652\",\"C1652\",\"C1652\",\"C1652\",\"C1652\",\"C1652\",\"C1652\",\"C1652\",\"C1652\",\"C1652\",\"C1652\",\"C1652\",\"C1565\",\"C1565\",\"C1565\",\"C1565\",\"C1910\",\"C1910\",\"C1910\",\"C1910\",\"C1910\",\"C1910\",\"C1910\",\"C1910\",\"C1910\",\"C1910\",\"C2359\",\"C2359\",\"C2359\",\"C2359\",\"C2359\",\"C2139\",\"C2139\",\"C2139\",\"C1979\",\"C1979\",\"C1979\",\"C1979\",\"C1979\",\"C1979\",\"C1979\",\"C1979\",\"C1979\",\"C1803\",\"C1803\",\"C1803\",\"C1803\",\"C1803\",\"C1803\",\"C1803\",\"C1803\",\"C1803\",\"C1803\",\"C2508\",\"C2508\",\"C2508\",\"C2508\",\"C2508\",\"C2508\",\"C2508\",\"C2531\",\"C2531\",\"C2531\",\"C2531\",\"C2531\",\"C2531\",\"C1695\",\"C1695\",\"C1695\",\"C1695\",\"C1695\",\"C2556\",\"C2556\",\"C2556\",\"C2086\",\"C2086\",\"C2086\",\"C2086\",\"C2086\",\"C2086\",\"C2086\",\"C2086\",\"C2086\",\"C1544\",\"C1544\",\"C1544\",\"C2154\",\"C2154\",\"C2154\",\"C2154\",\"C2496\",\"C2496\",\"C2496\",\"C2496\",\"C1756\",\"C1756\",\"C1756\",\"C1756\",\"C2362\",\"C2362\",\"C2362\",\"C2362\",\"C2362\",\"C2362\",\"C2362\",\"C2362\",\"C2362\",\"C2362\",\"C2362\",\"C2362\",\"C2362\",\"C2362\",\"C2568\",\"C2568\",\"C2568\",\"C2568\",\"C2568\",\"C2245\",\"C2245\",\"C2245\",\"C2245\",\"C2245\",\"C2245\",\"C2245\",\"C2059\",\"C2059\",\"C2059\",\"C2549\",\"C2549\",\"C2549\",\"C2549\",\"C2549\",\"C1584\",\"C1584\",\"C1584\",\"C1584\",\"C1584\",\"C1584\",\"C2298\",\"C2298\",\"C2298\",\"C2298\",\"C2298\",\"C2225\",\"C2225\",\"C2225\",\"C2225\",\"C2225\",\"C2225\",\"C2225\",\"C2225\",\"C2225\",\"C2328\",\"C2328\",\"C2328\",\"C2328\",\"C2328\",\"C2328\",\"C2328\",\"C1045\",\"C1045\",\"C1045\",\"C1045\",\"C1207\",\"C1207\",\"C1207\",\"C1970\",\"C1970\",\"C1970\",\"C1970\",\"C1970\",\"C1732\",\"C1732\",\"C1732\",\"C1732\",\"C1732\",\"C1732\",\"C2433\",\"C2433\",\"C2433\",\"C2433\",\"C2433\",\"C1156\",\"C1156\",\"C1156\",\"C1156\",\"C1156\",\"C1156\",\"C1156\",\"C1156\",\"C2142\",\"C2142\",\"C2142\",\"C2142\",\"C2153\",\"C2153\",\"C2153\",\"C2153\",\"C2186\",\"C2186\",\"C2186\",\"C2186\",\"C2186\",\"C2186\",\"C1176\",\"C1176\",\"C1176\",\"C1176\",\"C1176\",\"C1176\",\"C1176\",\"C1176\",\"C2446\",\"C2446\",\"C2446\",\"C2446\",\"C2446\",\"C2446\",\"C2446\",\"C2446\",\"C2446\",\"C2446\",\"C2446\",\"C2446\",\"C2586\",\"C2586\",\"C2586\",\"C2586\",\"C2586\",\"C2035\",\"C2035\",\"C2035\",\"C2035\",\"C2035\",\"C2020\",\"C2020\",\"C2020\",\"C2437\",\"C2532\",\"C2532\",\"C2532\",\"C2532\",\"C2532\",\"C2532\"],\"legendgroup\":\"\",\"marker\":{\"color\":\"#636efa\"},\"name\":\"\",\"notched\":false,\"offsetgroup\":\"\",\"orientation\":\"v\",\"showlegend\":false,\"x\":[1,1,1,1,1,1,1,0,0,0,0,0,0,0,0,0,0,0,4,4,4,4,4,4,2,2,2,2,2,2,2,2,2,2,4,4,4,4,4,4,4,4,4,4,4,4,4,0,0,0,0,0,0,0,0,0,0,0,0,1,1,1,1,1,1,3,3,3,3,3,3,3,1,1,1,1,1,1,1,1,1,1,1,1,1,1,0,0,0,0,0,0,0,0,0,0,0,0,0,0,0,0,0,0,0,0,0,0,0,0,0,0,0,0,0,0,0,0,0,0,0,0,0,1,1,1,1,1,1,1,1,1,1,1,1,1,0,0,0,0,0,0,0,0,0,0,0,0,0,0,0,0,0,0,0,0,0,0,0,0,0,0,0,0,0,0,0,0,0,0,0,0,0,0,0,0,0,0,0,0,0,0,0,0,0,0,0,0,0,0,0,0,0,0,0,0,0,0,0,0,0,0,0,0,0,0,0,0,0,0,0,0,0,0,0,0,0,0,0,0,0,0,0,0,0,0,0,0,0,0,0,0,0,0,0,0,0,0,0,0,0,0,0,0,0,0,0,0,0,0,0,0,0,0,0,0,0,0,0,0,0,0,0,0,0,0,0,0,0,0,0,0,0,0,0,0,0,0,0,0,0,0,0,0,0,0,0,0,0,0,0,0,0,1,1,1,1,1,1,1,1,1,1,1,1,1,1,1,1,1,1,1,1,1,1,1,1,1,1,1,1,1,1,1,1,1,1,1,1,1,1,1,1,1,1,1,1,1,1,0,0,0,0,0,0,0,0,0,0,0,0,0,0,0,0,0,0,0,0,0,0,0,0,0,0,0,0,0,0,0,0,0,0,0,0,0,0,0,0,0,0,0,0,0,0,0,0,0,0,0,0,0,0,0,0,0,0,0,0,0,0,0,0,0,0,0,0,0,0,0,0,0,0,0,0,0,0,0,0,0,0,0,0,0,0,0,0,0,0,0,0,0,0,0,0,0,0,0,0,0,0,0,0,0,0,0,0,0,0,0,0,0,0,0,0,0,0,0,0,0,0,0,0,0,0,0,0,0,0,0,0,0,0,0,0,0,0,0,0,0,0,0,0,0,0,0,0,0,0,0,0,0,0,0,0,0,0,0,0,0,0,0,0,0,0,0,0,0,0,0,0,0,0,0,0,0,0,0,0,0,0,0,0,0,0,0,0,0,0,0,0,0,0,0,0,0,0,0,0,0,0,0,0,0,0,0,0,0,0,0,0,0,0,0,0,0,0,0,0,0,0,0,0,0,0,0,0,0,0,0,0,0,0,0,0,0,0,0,0,0,0,0,0,0,0,0,0,0,0,0,0,0,0,0,0,0,0,0,0,0,0,0,0,0,0,0,0,0,0,0,0,0,0,0,1,1,1,1,1,1,0,0,0,0,0,0,0,0,0,0,0,0,0,0,0,0,0,0,0,1,1,1,1,1,1,1,1,1,1,1,1,1,1,1,1,1,1,1,1,1,0,0,0,0,0,0,0,0,0,0,0,0,0,0,0,0,0,0,0,0,0,0,0,0,0,0,0,0,0,0,0,1,1,1,1,1,1,1,1,1,1,1,1,1,1,1,1,1,1,1,1,1,1,1,1,1,1,1,1,1,1,1,1,1,1,1,1,1,1,1,1,1,1,1,1,1,1,1,1,1,1,1,1,1,1,1,1,1,1,1,1,1,1,0,0,0,0,0,0,0,0,0,0,0,0,0,0,0,0,0,0,0,0,0,0,0,0,0,0,0,0,0,0,0,0,0,0,0,0,0,0,0,0,0,0,0,0,0,0,0,1,1,1,1,1,1,1,1,1,1,1,1,1,1,1,1,1,1,1,1,1,1,1,1,1,1,1,1,1,1,1,0,0,0,0,0,0,0,0,0,0,2,2,2,2,2,2,2,2,2,2,2,2,2,2,2,2,2,2,2,2,2,2,2,2,2,2,3,3,3,3,3,3,3,3,2,2,2,4,4,4,4,4,4,4,4,4,4,4,4,4,4,4,4,4,4,4,2,2,2,2,2,2,2,1,1,1,1,1,1,1,1,1,1,1,1,1,2,2,2,2,2,0,0,0,0,0,0,0,0,3,3,3,3,3,3,3,3,3,3,1,1,1,1,1,1,1,3,3,3,3,3,3,3,2,2,2,2,2,2,2,4,4,4,4,4,4,4,4,4,4,1,1,1,1,1,1,1,1,3,3,3,3,3,3,3,3,3,3,3,3,3,3,3,3,3,1,1,1,1,1,2,2,2,2,2,2,2,2,0,0,0,0,0,0,4,4,4,4,4,4,4,4,4,4,4,2,2,2,2,2,2,2,3,3,3,3,3,3,3,3,3,3,3,3,3,3,3,3,3,3,3,3,3,3,3,3,3,3,3,3,3,3,3,3,3,3,3,3,3,3,3,3,3,3,3,3,3,3,3,3,3,3,3,3,3,3,3,3,3,3,3,3,2,2,2,2,2,2,0,0,0,0,0,0,0,0,0,3,3,3,3,3,1,1,1,1,1,1,1,1,1,1,1,1,1,1,1,1,1,1,1,1,1,1,1,1,1,4,4,4,4,4,4,4,4,4,4,4,4,4,4,4,4,4,4,4,4,4,4,4,4,4,4,4,4,4,4,4,4,4,0,0,0,0,4,4,4,4,4,4,4,4,4,4,4,4,4,4,4,4,0,0,0,0,0,0,0,0,0,0,4,4,4,4,1,1,1,1,1,1,2,2,2,2,2,2,2,2,2,0,0,0,0,0,0,0,0,0,0,0,0,2,2,2,4,4,4,4,4,4,4,4,4,4,1,1,1,1,1,1,1,1,1,1,1,1,3,0,0,0,0,0,0,4,4,4,4,4,4,4,4,4,4,4,4,4,4,4,4,4,4,4,4,4,4,4,4,4,4,4,4,4,4,4,4,4,4,4,4,4,4,4,4,4,0,0,0,0,0,0,2,2,2,2,2,2,2,2,2,2,2,2,2,2,2,2,2,2,2,2,2,2,2,3,3,3,3,3,4,4,4,4,4,4,4,4,4,4,4,4,4,4,4,4,4,4,4,4,4,4,4,4,4,4,4,4,4,4,4,4,1,1,1,1,1,1,4,4,4,4,4,4,4,4,4,4,4,4,4,4,4,4,4,4,4,4,4,4,4,4,4,4,4,4,4,4,4,4,4,4,4,4,4,4,4,4,4,4,2,2,2,2,2,2,2,2,2,2,2,2,2,2,2,2,2,2,2,2,2,3,3,3,3,3,4,4,4,4,4,4,4,4,4,4,4,4,4,4,4,4,4,4,4,4,4,4,4,4,4,4,4,4,4,4,4,4,4,4,4,4,4,4,4,4,4,4,4,4,4,4,4,4,4,4,4,4,4,4,4,4,4,4,4,4,4,4,4,4,1,1,1,1,1,1,1,1,3,3,3,3,3,3,1,1,1,1,1,1,1,1,1,1,1,1,1,1,1,1,1,1,1,1,1,4,4,4,4,4,4,4,4,4,4,4,4,4,4,4,4,4,4,4,1,1,1,1,1,1,1,2,2,2,1,1,1,1,4,4,4,4,4,4,4,4,4,4,4,4,4,4,4,4,4,4,4,4,4,4,4,4,4,4,2,2,2,2,2,2,2,2,2,2,2,2,2,2,2,2,2,0,0,0,0,0,0,0,0,2,2,2,2,2,2,2,2,2,2,2,0,0,0,0,0,1,1,1,1,1,1,1,2,2,2,2,2,2,2,0,0,0,0,0,0,0,0,0,0,0,0,2,2,2,2,2,2,2,2,4,4,4,4,4,2,2,2,2,2,2,2,2,2,2,1,1,1,1,1,1,1,1,1,1,1,1,1,1,1,1,1,1,1,1,1,1,1,1,1,1,2,2,2,2,2,2,2,2,2,2,2,2,2,1,1,1,1,1,1,1,1,1,1,1,1,1,1,1,1,1,1,2,2,2,2,2,2,2,2,2,2,2,1,1,1,1,1,1,1,1,4,4,4,4,4,4,4,4,4,4,1,1,1,1,1,1,1,1,1,1,2,2,2,2,2,2,2,2,2,2,2,2,2,3,3,3,3,3,3,3,3,3,2,2,2,2,2,2,2,2,2,2,4,4,4,4,4,4,4,4,4,4,0,0,0,0,0,0,0,0,0,0,0,0,0,0,0,0,3,3,3,3,3,3,3,3,3,3,3,3,3,3,0,0,0,0,0,0,0,0,0,0,0,0,0,0,2,2,2,2,2,2,1,1,1,1,1,1,1,1,1,4,4,4,4,4,4,1,1,1,1,1,1,1,1,1,1,2,2,2,2,2,1,1,1,1,1,1,4,4,4,4,4,4,4,4,4,4,4,4,4,4,4,4,4,4,4,4,2,2,2,2,2,2,3,3,3,3,3,3,3,3,3,3,3,3,3,3,3,3,3,3,3,3,3,3,3,1,1,1,1,1,1,0,0,2,2,2,2,2,2,1,1,1,1,1,1,1,1,1,1,4,4,4,4,4,4,4,4,4,4,4,4,4,4,4,4,4,0,0,0,0,0,0,3,3,3,3,3,3,3,3,3,3,3,3,4,4,4,4,0,0,0,0,0,0,4,4,4,4,4,4,4,4,4,0,0,0,0,0,0,4,4,4,4,4,4,4,3,3,3,3,3,3,3,3,3,3,1,1,1,1,1,1,1,1,1,1,1,1,1,3,3,3,3,3,3,3,3,3,3,3,2,2,2,2,2,2,2,2,3,3,3,3,3,4,4,4,4,4,4,4,4,4,4,4,0,0,0,2,2,2,0,0,0,0,0,0,0,2,2,2,2,2,2,2,2,2,2,2,2,2,2,3,3,3,3,3,3,3,3,3,3,1,1,3,3,3,3,2,2,2,2,2,2,2,2,2,2,2,2,2,2,0,0,0,3,3,3,3,3,3,3,3,3,0,0,0,0,0,0,0,0,0,0,1,1,1,4,4,4,4,4,4,2,2,2,2,2,2,2,4,4,4,4,4,4,4,4,4,4,4,4,4,4,4,4,4,4,2,2,2,2,2,0,0,0,0,0,0,1,1,1,3,3,3,2,2,2,2,0,0,0,0,0,0,0,0,0,0,0,4,4,4,4,4,4,4,4,4,4,4,4,4,4,4,4,1,1,1,3,3,3,3,3,4,4,4,4,4,4,4,0,0,0,0,0,0,0,0,0,0,0,0,0,2,2,2,2,2,1,1,1,1,4,4,4,4,4,4,4,4,1,1,1,1,1,1,1,1,1,1,1,0,0,0,2,2,2,2,2,4,4,4,4,1,1,1,4,4,4,4,4,4,4,4,4,4,4,4,4,2,2,2,2,2,0,0,0,0,0,0,0,0,0,3,3,3,3,3,3,4,4,4,4,2,2,2,2,4,4,4,4,4,4,4,4,4,4,4,4,4,4,0,0,0,0,4,4,4,4,4,4,4,4,4,4,4,4,4,4,4,4,4,4,3,3,3,2,2,2,2,2,2,2,2,0,0,0,4,4,4,4,4,3,3,3,4,4,4,4,4,4,4,4,4,4,4,4,4,4,4,4,4,4,4,4,4,4,4,4,4,4,4,4,1,1,1,1,1,1,1,1,0,0,0,0,0,2,2,2,2,2,2,2,2,2,4,4,4,4,4,4,4,4,4,4,1,1,1,1,1,1,1,1,1,0,0,0,1,1,1,1,1,1,4,4,4,4,4,4,4,3,3,3,3,3,3,3,3,3,3,3,3,3,1,1,1,1,1,1,1,1,1,1,4,4,4,4,4,4,4,4,4,4,4,4,4,4,4,4,4,4,4,4,1,1,1,1,1,1,1,4,4,4,4,4,4,4,4,4,4,4,4,4,4,4,4,4,4,4,4,4,4,4,4,4,4,4,4,4,4,4,4,4,4,1,1,1,1,1,0,0,0,0,2,2,2,2,2,2,2,2,3,3,3,3,3,3,3,3,3,3,3,3,4,4,4,4,2,2,2,2,2,2,2,2,2,2,2,2,2,2,2,1,1,1,4,4,4,4,4,4,4,4,4,1,1,1,1,1,1,1,1,1,1,2,2,2,2,2,2,2,0,0,0,0,0,0,2,2,2,2,2,1,1,1,4,4,4,4,4,4,4,4,4,4,4,4,1,1,1,1,2,2,2,2,1,1,1,1,4,4,4,4,4,4,4,4,4,4,4,4,4,4,3,3,3,3,3,1,1,1,1,1,1,1,4,4,4,0,0,0,0,0,4,4,4,4,4,4,0,0,0,0,0,1,1,1,1,1,1,1,1,1,2,2,2,2,2,2,2,1,1,1,1,3,3,3,3,3,3,3,3,3,3,3,3,3,3,4,4,4,4,4,2,2,2,2,2,2,2,2,1,1,1,1,2,2,2,2,4,4,4,4,4,4,2,2,2,2,2,2,2,2,4,4,4,4,4,4,4,4,4,4,4,4,0,0,0,0,0,1,1,1,1,1,0,0,0,2,1,1,1,1,1,1],\"x0\":\" \",\"xaxis\":\"x\",\"y\":[205.0,205.0,205.0,205.0,205.0,205.0,205.0,1064.0,1064.0,1064.0,1064.0,1064.0,1064.0,1064.0,1064.0,1064.0,1064.0,1064.0,730.0,730.0,730.0,730.0,730.0,730.0,553.0,553.0,553.0,553.0,415.0,415.0,415.0,415.0,415.0,415.0,1804.0,1804.0,1804.0,1804.0,1804.0,1804.0,1804.0,1804.0,1804.0,1804.0,1804.0,1804.0,1804.0,700.0,700.0,700.0,700.0,700.0,700.0,700.0,700.0,700.0,700.0,700.0,700.0,301.0,301.0,301.0,301.0,301.0,301.0,820.0,820.0,820.0,234.0,234.0,234.0,234.0,841.0,841.0,841.0,226.0,226.0,226.0,75.0,75.0,75.0,75.0,75.0,75.0,73.0,73.0,359.0,359.0,359.0,359.0,62.0,62.0,62.0,62.0,62.0,62.0,62.0,62.0,62.0,62.0,62.0,62.0,62.0,62.0,62.0,62.0,62.0,62.0,62.0,62.0,62.0,62.0,62.0,62.0,62.0,62.0,62.0,62.0,62.0,62.0,159.0,159.0,159.0,63.0,63.0,63.0,63.0,63.0,63.0,63.0,63.0,63.0,63.0,91.0,91.0,91.0,179.0,179.0,179.0,671.0,671.0,671.0,671.0,671.0,671.0,133.0,133.0,133.0,133.0,133.0,133.0,133.0,133.0,133.0,133.0,133.0,133.0,133.0,133.0,133.0,133.0,133.0,133.0,386.0,266.0,266.0,266.0,266.0,98.0,98.0,98.0,98.0,98.0,98.0,98.0,98.0,98.0,98.0,98.0,98.0,98.0,98.0,98.0,98.0,98.0,98.0,98.0,98.0,98.0,98.0,131.0,131.0,131.0,131.0,131.0,131.0,131.0,131.0,131.0,131.0,131.0,131.0,131.0,131.0,131.0,131.0,131.0,78.0,78.0,78.0,78.0,78.0,78.0,78.0,78.0,78.0,78.0,78.0,78.0,78.0,78.0,78.0,78.0,78.0,78.0,78.0,78.0,316.0,316.0,316.0,316.0,316.0,316.0,108.0,108.0,108.0,108.0,108.0,108.0,108.0,108.0,108.0,108.0,108.0,108.0,108.0,108.0,108.0,108.0,108.0,108.0,108.0,108.0,116.0,116.0,116.0,116.0,116.0,116.0,116.0,116.0,116.0,116.0,116.0,116.0,116.0,116.0,116.0,116.0,116.0,116.0,116.0,116.0,116.0,116.0,116.0,116.0,116.0,116.0,116.0,116.0,116.0,116.0,116.0,116.0,116.0,116.0,116.0,116.0,116.0,116.0,116.0,116.0,649.0,649.0,649.0,649.0,649.0,649.0,649.0,649.0,649.0,649.0,649.0,254.0,254.0,254.0,129.0,129.0,129.0,129.0,129.0,129.0,129.0,129.0,129.0,129.0,129.0,129.0,129.0,129.0,129.0,129.0,129.0,129.0,129.0,129.0,129.0,70.0,70.0,70.0,70.0,70.0,70.0,70.0,70.0,236.0,236.0,236.0,510.0,510.0,510.0,510.0,510.0,510.0,253.0,253.0,253.0,253.0,253.0,253.0,253.0,253.0,253.0,253.0,253.0,253.0,253.0,253.0,253.0,127.0,127.0,127.0,127.0,127.0,127.0,127.0,127.0,127.0,127.0,127.0,127.0,127.0,127.0,127.0,127.0,127.0,127.0,127.0,127.0,132.0,132.0,132.0,132.0,132.0,132.0,132.0,132.0,132.0,132.0,132.0,132.0,132.0,132.0,132.0,132.0,132.0,132.0,132.0,132.0,132.0,132.0,132.0,132.0,132.0,132.0,132.0,132.0,132.0,313.0,313.0,313.0,313.0,313.0,313.0,313.0,313.0,313.0,313.0,313.0,313.0,313.0,313.0,313.0,313.0,313.0,313.0,313.0,313.0,313.0,313.0,382.0,382.0,364.0,364.0,364.0,364.0,364.0,364.0,364.0,364.0,364.0,364.0,364.0,364.0,364.0,364.0,364.0,364.0,364.0,364.0,364.0,364.0,364.0,364.0,364.0,364.0,94.0,94.0,94.0,94.0,94.0,94.0,94.0,94.0,94.0,94.0,94.0,94.0,94.0,94.0,94.0,94.0,94.0,94.0,94.0,94.0,94.0,94.0,94.0,94.0,94.0,94.0,94.0,94.0,94.0,94.0,94.0,94.0,189.0,189.0,189.0,189.0,189.0,189.0,189.0,189.0,189.0,189.0,189.0,189.0,189.0,189.0,189.0,189.0,189.0,189.0,189.0,189.0,189.0,189.0,189.0,873.0,873.0,359.0,359.0,359.0,359.0,359.0,359.0,359.0,359.0,359.0,359.0,359.0,359.0,359.0,359.0,359.0,359.0,359.0,359.0,359.0,359.0,359.0,359.0,359.0,359.0,359.0,359.0,359.0,359.0,359.0,359.0,359.0,359.0,359.0,359.0,359.0,359.0,359.0,359.0,359.0,359.0,359.0,359.0,359.0,359.0,359.0,359.0,359.0,172.0,172.0,172.0,172.0,172.0,172.0,172.0,172.0,172.0,172.0,172.0,172.0,172.0,172.0,172.0,172.0,172.0,172.0,172.0,172.0,172.0,172.0,172.0,172.0,172.0,172.0,172.0,172.0,172.0,172.0,172.0,172.0,172.0,172.0,172.0,172.0,172.0,172.0,172.0,172.0,172.0,172.0,172.0,172.0,172.0,172.0,172.0,172.0,498.0,498.0,498.0,149.0,149.0,31.0,31.0,31.0,31.0,31.0,31.0,125.0,125.0,125.0,125.0,125.0,125.0,125.0,125.0,125.0,125.0,125.0,125.0,177.0,177.0,177.0,177.0,177.0,177.0,177.0,90.0,90.0,90.0,90.0,90.0,90.0,90.0,90.0,90.0,90.0,90.0,90.0,302.0,302.0,302.0,496.0,496.0,236.0,236.0,236.0,236.0,839.0,839.0,839.0,839.0,96.0,96.0,96.0,96.0,96.0,96.0,96.0,96.0,96.0,96.0,96.0,96.0,96.0,96.0,96.0,96.0,96.0,235.0,235.0,359.0,359.0,359.0,359.0,359.0,359.0,359.0,359.0,120.0,120.0,120.0,120.0,120.0,120.0,120.0,120.0,120.0,120.0,120.0,120.0,120.0,120.0,120.0,120.0,120.0,120.0,120.0,120.0,120.0,120.0,120.0,120.0,120.0,120.0,120.0,120.0,120.0,120.0,120.0,120.0,120.0,60.0,60.0,60.0,60.0,60.0,60.0,60.0,60.0,60.0,60.0,60.0,60.0,60.0,60.0,60.0,60.0,60.0,65.0,65.0,65.0,65.0,65.0,65.0,65.0,65.0,135.0,135.0,135.0,135.0,376.0,376.0,376.0,93.0,93.0,93.0,93.0,93.0,93.0,93.0,93.0,93.0,93.0,93.0,93.0,93.0,93.0,93.0,93.0,93.0,93.0,93.0,209.0,209.0,209.0,209.0,209.0,209.0,209.0,209.0,209.0,209.0,209.0,209.0,209.0,209.0,209.0,209.0,209.0,209.0,209.0,209.0,209.0,209.0,204.0,204.0,204.0,86.0,86.0,86.0,86.0,86.0,86.0,86.0,86.0,86.0,86.0,86.0,86.0,86.0,86.0,19.0,19.0,19.0,62.0,62.0,62.0,62.0,62.0,62.0,62.0,62.0,62.0,62.0,62.0,62.0,62.0,62.0,430.0,430.0,430.0,1001.0,1001.0,1001.0,1001.0,1001.0,1001.0,1001.0,334.0,334.0,334.0,334.0,334.0,334.0,616.0,616.0,616.0,616.0,616.0,616.0,616.0,616.0,548.0,548.0,548.0,548.0,548.0,548.0,548.0,548.0,220.0,220.0,220.0,220.0,451.0,451.0,451.0,451.0,451.0,451.0,451.0,451.0,47.0,47.0,47.0,799.0,799.0,799.0,799.0,799.0,799.0,799.0,799.0,799.0,799.0,799.0,799.0,799.0,799.0,799.0,799.0,799.0,799.0,799.0,708.0,708.0,708.0,708.0,708.0,708.0,708.0,739.0,739.0,739.0,739.0,739.0,739.0,739.0,374.0,374.0,374.0,374.0,374.0,374.0,557.0,557.0,557.0,557.0,557.0,579.0,579.0,579.0,579.0,579.0,579.0,579.0,579.0,1101.0,1101.0,1101.0,1101.0,1101.0,762.0,762.0,762.0,762.0,762.0,795.0,795.0,795.0,795.0,795.0,795.0,795.0,995.0,995.0,995.0,995.0,995.0,995.0,995.0,288.0,288.0,288.0,288.0,288.0,288.0,288.0,960.0,960.0,960.0,960.0,960.0,960.0,960.0,960.0,960.0,960.0,311.0,311.0,648.0,648.0,648.0,648.0,648.0,648.0,861.0,861.0,861.0,861.0,521.0,521.0,521.0,521.0,562.0,562.0,562.0,562.0,562.0,562.0,562.0,422.0,422.0,344.0,344.0,344.0,344.0,344.0,596.0,596.0,596.0,596.0,596.0,596.0,596.0,596.0,701.0,701.0,701.0,701.0,701.0,701.0,1117.0,1117.0,1117.0,1117.0,1117.0,1117.0,1117.0,1117.0,1117.0,1117.0,1117.0,297.0,297.0,297.0,297.0,297.0,297.0,297.0,1665.0,1665.0,1665.0,1665.0,1665.0,248.0,248.0,248.0,248.0,457.0,457.0,457.0,910.0,910.0,910.0,910.0,910.0,910.0,910.0,826.0,826.0,826.0,826.0,826.0,826.0,826.0,826.0,826.0,328.0,328.0,328.0,328.0,328.0,328.0,525.0,525.0,525.0,525.0,525.0,525.0,525.0,690.0,690.0,690.0,690.0,690.0,713.0,713.0,713.0,713.0,713.0,1019.0,1019.0,1019.0,1019.0,810.0,810.0,810.0,810.0,810.0,148.0,148.0,148.0,148.0,148.0,148.0,609.0,609.0,609.0,609.0,609.0,609.0,609.0,609.0,609.0,585.0,585.0,585.0,585.0,585.0,1162.0,1162.0,1162.0,1162.0,1162.0,1162.0,1162.0,1162.0,318.0,318.0,318.0,318.0,318.0,318.0,318.0,761.0,761.0,761.0,761.0,572.0,572.0,572.0,572.0,572.0,572.0,979.0,979.0,979.0,979.0,979.0,1306.0,1306.0,1306.0,1306.0,1306.0,1306.0,1398.0,1398.0,1398.0,1398.0,1398.0,1398.0,1398.0,1398.0,1398.0,442.0,442.0,442.0,442.0,442.0,422.0,422.0,422.0,422.0,441.0,441.0,441.0,441.0,700.0,700.0,700.0,700.0,340.0,340.0,503.0,503.0,503.0,503.0,503.0,503.0,503.0,503.0,503.0,503.0,718.0,718.0,718.0,718.0,1159.0,1159.0,1159.0,373.0,373.0,373.0,1087.0,1087.0,1087.0,1087.0,808.0,808.0,808.0,808.0,305.0,305.0,401.0,401.0,401.0,401.0,465.0,465.0,465.0,465.0,465.0,465.0,465.0,465.0,465.0,669.0,669.0,669.0,669.0,554.0,554.0,554.0,554.0,554.0,554.0,554.0,554.0,460.0,460.0,460.0,548.0,548.0,548.0,548.0,548.0,548.0,548.0,548.0,548.0,548.0,398.0,398.0,398.0,398.0,398.0,398.0,620.0,620.0,620.0,620.0,620.0,620.0,382.0,413.0,413.0,413.0,413.0,413.0,413.0,520.0,520.0,520.0,520.0,520.0,520.0,520.0,520.0,488.0,488.0,488.0,488.0,488.0,488.0,488.0,832.0,832.0,832.0,832.0,832.0,832.0,832.0,832.0,832.0,1158.0,1158.0,1158.0,1158.0,1158.0,1158.0,1158.0,1158.0,1158.0,745.0,745.0,745.0,745.0,745.0,745.0,745.0,745.0,831.0,831.0,831.0,831.0,831.0,831.0,413.0,413.0,413.0,413.0,413.0,487.0,487.0,487.0,487.0,487.0,408.0,408.0,408.0,408.0,408.0,408.0,446.0,446.0,446.0,446.0,446.0,446.0,446.0,1150.0,1150.0,1150.0,1150.0,1150.0,840.0,840.0,840.0,840.0,840.0,840.0,840.0,840.0,709.0,709.0,709.0,709.0,709.0,709.0,480.0,480.0,480.0,480.0,480.0,480.0,480.0,505.0,505.0,505.0,505.0,505.0,505.0,505.0,449.0,449.0,449.0,449.0,1010.0,1010.0,1010.0,1010.0,1010.0,1010.0,296.0,296.0,296.0,296.0,296.0,296.0,296.0,308.0,308.0,308.0,308.0,308.0,308.0,349.0,349.0,349.0,349.0,349.0,349.0,349.0,349.0,349.0,349.0,349.0,657.0,657.0,657.0,657.0,657.0,657.0,657.0,657.0,657.0,657.0,657.0,657.0,505.0,505.0,294.0,294.0,294.0,294.0,1145.0,1145.0,1145.0,1145.0,1145.0,1145.0,1145.0,1145.0,1145.0,1145.0,1145.0,1145.0,1145.0,257.0,257.0,257.0,257.0,257.0,257.0,257.0,257.0,321.0,321.0,321.0,321.0,321.0,450.0,450.0,450.0,450.0,845.0,845.0,845.0,845.0,845.0,845.0,643.0,643.0,643.0,643.0,752.0,752.0,752.0,752.0,735.0,735.0,735.0,735.0,735.0,639.0,639.0,639.0,639.0,902.0,902.0,902.0,902.0,902.0,902.0,902.0,902.0,902.0,902.0,902.0,902.0,632.0,632.0,632.0,125.0,282.0,282.0,1279.0,1279.0,1279.0,1279.0,1279.0,1279.0,1279.0,782.0,782.0,782.0,782.0,782.0,782.0,782.0,375.0,375.0,375.0,375.0,375.0,540.0,540.0,540.0,540.0,540.0,540.0,540.0,540.0,226.0,226.0,226.0,226.0,226.0,226.0,302.0,302.0,302.0,302.0,302.0,302.0,156.0,156.0,156.0,730.0,730.0,730.0,730.0,730.0,730.0,417.0,417.0,417.0,417.0,417.0,417.0,505.0,505.0,505.0,505.0,505.0,505.0,505.0,1077.0,1077.0,1077.0,1077.0,1077.0,1077.0,1077.0,757.0,757.0,757.0,757.0,757.0,754.0,754.0,754.0,754.0,754.0,754.0,754.0,815.0,815.0,815.0,268.0,268.0,268.0,268.0,362.0,362.0,362.0,362.0,362.0,504.0,504.0,504.0,504.0,504.0,504.0,504.0,504.0,281.0,281.0,281.0,281.0,281.0,521.0,521.0,521.0,521.0,552.0,552.0,552.0,552.0,246.0,246.0,246.0,246.0,246.0,246.0,347.0,347.0,347.0,272.0,272.0,272.0,293.0,293.0,293.0,293.0,293.0,254.0,254.0,254.0,254.0,254.0,254.0,254.0,254.0,842.0,842.0,842.0,842.0,842.0,842.0,484.0,484.0,484.0,484.0,484.0,585.0,585.0,585.0,585.0,585.0,244.0,244.0,244.0,258.0,258.0,258.0,258.0,271.0,271.0,271.0,271.0,311.0,311.0,311.0,327.0,327.0,327.0,327.0,327.0,327.0,207.0,207.0,207.0,207.0,207.0,207.0,683.0,683.0,683.0,683.0,683.0,683.0,670.0,670.0,570.0,570.0,570.0,570.0,570.0,324.0,324.0,324.0,324.0,324.0,553.0,553.0,553.0,553.0,553.0,590.0,590.0,590.0,638.0,638.0,638.0,638.0,638.0,638.0,638.0,495.0,495.0,495.0,495.0,528.0,528.0,528.0,528.0,528.0,528.0,528.0,383.0,383.0,383.0,383.0,383.0,284.0,284.0,284.0,284.0,284.0,284.0,284.0,723.0,723.0,723.0,723.0,723.0,723.0,333.0,333.0,333.0,333.0,333.0,333.0,333.0,610.0,610.0,610.0,610.0,610.0,610.0,610.0,481.0,481.0,594.0,594.0,509.0,509.0,509.0,509.0,509.0,509.0,500.0,500.0,500.0,500.0,500.0,512.0,512.0,512.0,512.0,512.0,512.0,512.0,512.0,901.0,901.0,901.0,901.0,934.0,934.0,934.0,934.0,934.0,934.0,496.0,496.0,496.0,496.0,398.0,398.0,398.0,398.0,398.0,398.0,481.0,481.0,481.0,481.0,481.0,481.0,481.0,557.0,557.0,557.0,557.0,557.0,557.0,1284.0,1284.0,1284.0,1284.0,1284.0,1284.0,1284.0,1284.0,1284.0,475.0,475.0,475.0,475.0,475.0,435.0,435.0,435.0,435.0,435.0,945.0,945.0,945.0,945.0,945.0,945.0,945.0,945.0,945.0,945.0,1044.0,1044.0,1044.0,1044.0,1044.0,1044.0,1044.0,1044.0,1044.0,1044.0,1044.0,1044.0,1044.0,1044.0,1044.0,1044.0,375.0,375.0,375.0,375.0,375.0,375.0,1023.0,1023.0,1023.0,1023.0,1023.0,1023.0,1023.0,1023.0,1350.0,1350.0,1350.0,1350.0,1350.0,1350.0,1350.0,1350.0,1350.0,1350.0,1350.0,1350.0,1350.0,1350.0,284.0,284.0,284.0,284.0,284.0,284.0,823.0,823.0,823.0,823.0,823.0,823.0,823.0,823.0,823.0,793.0,793.0,793.0,793.0,793.0,793.0,587.0,587.0,587.0,587.0,587.0,587.0,587.0,587.0,587.0,587.0,353.0,353.0,353.0,353.0,353.0,479.0,479.0,479.0,479.0,479.0,479.0,614.0,614.0,614.0,614.0,614.0,614.0,614.0,614.0,614.0,1101.0,1101.0,1101.0,1101.0,1101.0,1101.0,1101.0,1101.0,1101.0,1101.0,1101.0,652.0,652.0,652.0,652.0,652.0,652.0,509.0,509.0,509.0,509.0,509.0,509.0,437.0,437.0,437.0,437.0,437.0,163.0,163.0,163.0,163.0,163.0,589.0,589.0,589.0,589.0,589.0,589.0,589.0,403.0,403.0,403.0,403.0,403.0,403.0,22.0,22.0,322.0,322.0,322.0,322.0,322.0,322.0,566.0,566.0,566.0,566.0,566.0,566.0,277.0,277.0,277.0,277.0,822.0,822.0,822.0,822.0,822.0,822.0,770.0,770.0,770.0,770.0,770.0,770.0,770.0,770.0,770.0,770.0,770.0,345.0,345.0,345.0,345.0,345.0,345.0,1090.0,1090.0,1090.0,1090.0,1090.0,1090.0,1090.0,1090.0,1090.0,1090.0,1090.0,1090.0,951.0,951.0,951.0,951.0,410.0,410.0,410.0,410.0,410.0,410.0,549.0,549.0,549.0,549.0,549.0,549.0,549.0,549.0,549.0,166.0,166.0,166.0,166.0,166.0,166.0,647.0,647.0,647.0,647.0,647.0,647.0,647.0,793.0,793.0,793.0,793.0,793.0,793.0,793.0,793.0,793.0,793.0,1084.0,1084.0,1084.0,1084.0,1084.0,1084.0,1084.0,1084.0,1084.0,682.0,682.0,682.0,682.0,645.0,645.0,645.0,645.0,645.0,645.0,645.0,645.0,645.0,645.0,645.0,733.0,733.0,733.0,733.0,733.0,733.0,733.0,733.0,262.0,262.0,262.0,262.0,262.0,365.0,365.0,365.0,365.0,365.0,365.0,365.0,365.0,365.0,365.0,365.0,950.0,950.0,950.0,244.0,244.0,244.0,343.0,343.0,343.0,343.0,343.0,343.0,343.0,613.0,613.0,613.0,613.0,561.0,561.0,561.0,561.0,561.0,561.0,899.0,899.0,899.0,899.0,957.0,957.0,957.0,957.0,957.0,957.0,957.0,957.0,957.0,957.0,412.0,412.0,979.0,979.0,979.0,979.0,1709.0,1709.0,1709.0,1709.0,1709.0,881.0,881.0,881.0,309.0,309.0,309.0,309.0,309.0,309.0,55.0,55.0,55.0,442.0,442.0,442.0,442.0,442.0,442.0,442.0,442.0,442.0,551.0,551.0,551.0,551.0,551.0,551.0,551.0,551.0,551.0,551.0,1240.0,1240.0,1240.0,886.0,886.0,886.0,886.0,886.0,886.0,713.0,713.0,713.0,713.0,713.0,713.0,713.0,606.0,606.0,606.0,606.0,606.0,606.0,606.0,870.0,870.0,870.0,870.0,870.0,870.0,870.0,870.0,870.0,870.0,870.0,410.0,410.0,410.0,410.0,410.0,800.0,800.0,800.0,800.0,800.0,800.0,420.0,420.0,420.0,752.0,752.0,752.0,630.0,630.0,630.0,630.0,982.0,982.0,982.0,982.0,982.0,982.0,982.0,982.0,982.0,982.0,982.0,652.0,652.0,652.0,652.0,652.0,652.0,451.0,451.0,451.0,451.0,451.0,451.0,821.0,821.0,821.0,821.0,255.0,255.0,255.0,625.0,625.0,625.0,625.0,625.0,1653.0,1653.0,1653.0,1653.0,1653.0,1653.0,1653.0,2315.0,2315.0,2315.0,2315.0,2315.0,2315.0,2315.0,2315.0,2315.0,2315.0,2315.0,2315.0,2315.0,498.0,498.0,498.0,498.0,498.0,787.0,787.0,787.0,787.0,1668.0,1668.0,1668.0,1668.0,1668.0,1668.0,1668.0,1668.0,207.0,207.0,207.0,207.0,207.0,579.0,579.0,579.0,579.0,579.0,579.0,330.0,330.0,330.0,217.0,217.0,217.0,217.0,217.0,763.0,763.0,763.0,763.0,572.0,572.0,572.0,922.0,922.0,922.0,922.0,922.0,922.0,922.0,922.0,922.0,922.0,922.0,922.0,922.0,526.0,526.0,526.0,526.0,526.0,1246.0,1246.0,1246.0,228.0,228.0,228.0,228.0,228.0,228.0,1730.0,1730.0,1730.0,1730.0,1730.0,1730.0,712.0,712.0,712.0,712.0,1200.0,1200.0,1200.0,1200.0,202.0,202.0,202.0,979.0,979.0,979.0,946.0,946.0,946.0,946.0,1832.0,1832.0,1832.0,1832.0,508.0,508.0,508.0,508.0,763.0,763.0,763.0,763.0,763.0,763.0,763.0,763.0,763.0,763.0,763.0,763.0,763.0,763.0,763.0,763.0,763.0,763.0,326.0,326.0,326.0,404.0,404.0,404.0,404.0,404.0,404.0,336.0,336.0,555.0,555.0,555.0,417.0,417.0,417.0,417.0,417.0,1255.0,1255.0,1255.0,2550.0,2550.0,2550.0,2550.0,2550.0,2550.0,2550.0,2550.0,2550.0,2550.0,2550.0,2550.0,2550.0,2550.0,751.0,751.0,751.0,751.0,751.0,751.0,243.0,243.0,243.0,586.0,586.0,586.0,586.0,586.0,924.0,924.0,924.0,924.0,600.0,600.0,600.0,600.0,1153.0,1153.0,1153.0,1153.0,1153.0,164.0,164.0,164.0,164.0,164.0,164.0,164.0,164.0,164.0,783.0,783.0,783.0,783.0,783.0,1044.0,1044.0,1044.0,1044.0,1044.0,719.0,719.0,719.0,719.0,220.0,220.0,220.0,220.0,220.0,887.0,887.0,887.0,616.0,616.0,616.0,616.0,616.0,616.0,559.0,559.0,559.0,559.0,559.0,559.0,559.0,416.0,416.0,416.0,416.0,416.0,416.0,416.0,416.0,416.0,416.0,416.0,416.0,416.0,701.0,701.0,701.0,701.0,701.0,701.0,701.0,701.0,701.0,701.0,1983.0,1983.0,1983.0,1983.0,1983.0,1983.0,1983.0,1983.0,1983.0,1983.0,1983.0,1896.0,1896.0,1896.0,1896.0,1896.0,1896.0,1896.0,1896.0,1896.0,780.0,780.0,1359.0,1359.0,1359.0,1359.0,1359.0,646.0,646.0,646.0,646.0,646.0,1433.0,1433.0,1433.0,1433.0,1433.0,1433.0,1433.0,1433.0,1433.0,1433.0,1433.0,1433.0,1433.0,1433.0,1433.0,1433.0,1433.0,854.0,854.0,854.0,854.0,854.0,854.0,1378.0,1378.0,1378.0,1378.0,1378.0,1378.0,345.0,345.0,345.0,345.0,345.0,995.0,995.0,995.0,995.0,205.0,205.0,205.0,205.0,205.0,205.0,205.0,205.0,509.0,509.0,509.0,509.0,509.0,509.0,509.0,509.0,509.0,509.0,509.0,509.0,588.0,588.0,588.0,588.0,396.0,396.0,396.0,396.0,396.0,396.0,396.0,396.0,396.0,396.0,693.0,693.0,693.0,693.0,693.0,155.0,155.0,155.0,133.0,133.0,133.0,133.0,133.0,133.0,133.0,133.0,133.0,78.0,78.0,78.0,78.0,78.0,78.0,78.0,78.0,78.0,78.0,568.0,568.0,568.0,568.0,568.0,568.0,568.0,358.0,358.0,358.0,358.0,358.0,358.0,123.0,123.0,123.0,123.0,123.0,148.0,148.0,148.0,1524.0,1524.0,1524.0,1524.0,1524.0,1524.0,1524.0,1524.0,1524.0,713.0,713.0,713.0,124.0,124.0,124.0,124.0,1400.0,1400.0,1400.0,1400.0,609.0,609.0,609.0,609.0,196.0,196.0,196.0,196.0,196.0,196.0,196.0,196.0,196.0,196.0,196.0,196.0,196.0,196.0,189.0,189.0,189.0,189.0,189.0,98.0,98.0,98.0,98.0,98.0,98.0,98.0,13.0,13.0,13.0,165.0,165.0,165.0,165.0,165.0,507.0,507.0,507.0,507.0,507.0,507.0,444.0,444.0,444.0,444.0,444.0,448.0,448.0,448.0,448.0,448.0,448.0,448.0,448.0,448.0,1374.0,1374.0,1374.0,1374.0,1374.0,1374.0,1374.0,266.0,266.0,266.0,266.0,59.0,59.0,59.0,159.0,159.0,159.0,159.0,159.0,267.0,267.0,267.0,267.0,267.0,267.0,130.0,130.0,130.0,130.0,130.0,505.0,505.0,505.0,505.0,505.0,505.0,505.0,505.0,396.0,396.0,396.0,396.0,280.0,280.0,280.0,280.0,744.0,744.0,744.0,744.0,744.0,744.0,619.0,619.0,619.0,619.0,619.0,619.0,619.0,619.0,1204.0,1204.0,1204.0,1204.0,1204.0,1204.0,1204.0,1204.0,1204.0,1204.0,1204.0,1204.0,57.0,57.0,57.0,57.0,57.0,246.0,246.0,246.0,246.0,246.0,19.0,19.0,19.0,16.0,146.0,146.0,146.0,146.0,146.0,146.0],\"y0\":\" \",\"yaxis\":\"y\",\"type\":\"box\"}],                        {\"template\":{\"data\":{\"bar\":[{\"error_x\":{\"color\":\"#2a3f5f\"},\"error_y\":{\"color\":\"#2a3f5f\"},\"marker\":{\"line\":{\"color\":\"#E5ECF6\",\"width\":0.5},\"pattern\":{\"fillmode\":\"overlay\",\"size\":10,\"solidity\":0.2}},\"type\":\"bar\"}],\"barpolar\":[{\"marker\":{\"line\":{\"color\":\"#E5ECF6\",\"width\":0.5},\"pattern\":{\"fillmode\":\"overlay\",\"size\":10,\"solidity\":0.2}},\"type\":\"barpolar\"}],\"carpet\":[{\"aaxis\":{\"endlinecolor\":\"#2a3f5f\",\"gridcolor\":\"white\",\"linecolor\":\"white\",\"minorgridcolor\":\"white\",\"startlinecolor\":\"#2a3f5f\"},\"baxis\":{\"endlinecolor\":\"#2a3f5f\",\"gridcolor\":\"white\",\"linecolor\":\"white\",\"minorgridcolor\":\"white\",\"startlinecolor\":\"#2a3f5f\"},\"type\":\"carpet\"}],\"choropleth\":[{\"colorbar\":{\"outlinewidth\":0,\"ticks\":\"\"},\"type\":\"choropleth\"}],\"contour\":[{\"colorbar\":{\"outlinewidth\":0,\"ticks\":\"\"},\"colorscale\":[[0.0,\"#0d0887\"],[0.1111111111111111,\"#46039f\"],[0.2222222222222222,\"#7201a8\"],[0.3333333333333333,\"#9c179e\"],[0.4444444444444444,\"#bd3786\"],[0.5555555555555556,\"#d8576b\"],[0.6666666666666666,\"#ed7953\"],[0.7777777777777778,\"#fb9f3a\"],[0.8888888888888888,\"#fdca26\"],[1.0,\"#f0f921\"]],\"type\":\"contour\"}],\"contourcarpet\":[{\"colorbar\":{\"outlinewidth\":0,\"ticks\":\"\"},\"type\":\"contourcarpet\"}],\"heatmap\":[{\"colorbar\":{\"outlinewidth\":0,\"ticks\":\"\"},\"colorscale\":[[0.0,\"#0d0887\"],[0.1111111111111111,\"#46039f\"],[0.2222222222222222,\"#7201a8\"],[0.3333333333333333,\"#9c179e\"],[0.4444444444444444,\"#bd3786\"],[0.5555555555555556,\"#d8576b\"],[0.6666666666666666,\"#ed7953\"],[0.7777777777777778,\"#fb9f3a\"],[0.8888888888888888,\"#fdca26\"],[1.0,\"#f0f921\"]],\"type\":\"heatmap\"}],\"heatmapgl\":[{\"colorbar\":{\"outlinewidth\":0,\"ticks\":\"\"},\"colorscale\":[[0.0,\"#0d0887\"],[0.1111111111111111,\"#46039f\"],[0.2222222222222222,\"#7201a8\"],[0.3333333333333333,\"#9c179e\"],[0.4444444444444444,\"#bd3786\"],[0.5555555555555556,\"#d8576b\"],[0.6666666666666666,\"#ed7953\"],[0.7777777777777778,\"#fb9f3a\"],[0.8888888888888888,\"#fdca26\"],[1.0,\"#f0f921\"]],\"type\":\"heatmapgl\"}],\"histogram\":[{\"marker\":{\"pattern\":{\"fillmode\":\"overlay\",\"size\":10,\"solidity\":0.2}},\"type\":\"histogram\"}],\"histogram2d\":[{\"colorbar\":{\"outlinewidth\":0,\"ticks\":\"\"},\"colorscale\":[[0.0,\"#0d0887\"],[0.1111111111111111,\"#46039f\"],[0.2222222222222222,\"#7201a8\"],[0.3333333333333333,\"#9c179e\"],[0.4444444444444444,\"#bd3786\"],[0.5555555555555556,\"#d8576b\"],[0.6666666666666666,\"#ed7953\"],[0.7777777777777778,\"#fb9f3a\"],[0.8888888888888888,\"#fdca26\"],[1.0,\"#f0f921\"]],\"type\":\"histogram2d\"}],\"histogram2dcontour\":[{\"colorbar\":{\"outlinewidth\":0,\"ticks\":\"\"},\"colorscale\":[[0.0,\"#0d0887\"],[0.1111111111111111,\"#46039f\"],[0.2222222222222222,\"#7201a8\"],[0.3333333333333333,\"#9c179e\"],[0.4444444444444444,\"#bd3786\"],[0.5555555555555556,\"#d8576b\"],[0.6666666666666666,\"#ed7953\"],[0.7777777777777778,\"#fb9f3a\"],[0.8888888888888888,\"#fdca26\"],[1.0,\"#f0f921\"]],\"type\":\"histogram2dcontour\"}],\"mesh3d\":[{\"colorbar\":{\"outlinewidth\":0,\"ticks\":\"\"},\"type\":\"mesh3d\"}],\"parcoords\":[{\"line\":{\"colorbar\":{\"outlinewidth\":0,\"ticks\":\"\"}},\"type\":\"parcoords\"}],\"pie\":[{\"automargin\":true,\"type\":\"pie\"}],\"scatter\":[{\"marker\":{\"colorbar\":{\"outlinewidth\":0,\"ticks\":\"\"}},\"type\":\"scatter\"}],\"scatter3d\":[{\"line\":{\"colorbar\":{\"outlinewidth\":0,\"ticks\":\"\"}},\"marker\":{\"colorbar\":{\"outlinewidth\":0,\"ticks\":\"\"}},\"type\":\"scatter3d\"}],\"scattercarpet\":[{\"marker\":{\"colorbar\":{\"outlinewidth\":0,\"ticks\":\"\"}},\"type\":\"scattercarpet\"}],\"scattergeo\":[{\"marker\":{\"colorbar\":{\"outlinewidth\":0,\"ticks\":\"\"}},\"type\":\"scattergeo\"}],\"scattergl\":[{\"marker\":{\"colorbar\":{\"outlinewidth\":0,\"ticks\":\"\"}},\"type\":\"scattergl\"}],\"scattermapbox\":[{\"marker\":{\"colorbar\":{\"outlinewidth\":0,\"ticks\":\"\"}},\"type\":\"scattermapbox\"}],\"scatterpolar\":[{\"marker\":{\"colorbar\":{\"outlinewidth\":0,\"ticks\":\"\"}},\"type\":\"scatterpolar\"}],\"scatterpolargl\":[{\"marker\":{\"colorbar\":{\"outlinewidth\":0,\"ticks\":\"\"}},\"type\":\"scatterpolargl\"}],\"scatterternary\":[{\"marker\":{\"colorbar\":{\"outlinewidth\":0,\"ticks\":\"\"}},\"type\":\"scatterternary\"}],\"surface\":[{\"colorbar\":{\"outlinewidth\":0,\"ticks\":\"\"},\"colorscale\":[[0.0,\"#0d0887\"],[0.1111111111111111,\"#46039f\"],[0.2222222222222222,\"#7201a8\"],[0.3333333333333333,\"#9c179e\"],[0.4444444444444444,\"#bd3786\"],[0.5555555555555556,\"#d8576b\"],[0.6666666666666666,\"#ed7953\"],[0.7777777777777778,\"#fb9f3a\"],[0.8888888888888888,\"#fdca26\"],[1.0,\"#f0f921\"]],\"type\":\"surface\"}],\"table\":[{\"cells\":{\"fill\":{\"color\":\"#EBF0F8\"},\"line\":{\"color\":\"white\"}},\"header\":{\"fill\":{\"color\":\"#C8D4E3\"},\"line\":{\"color\":\"white\"}},\"type\":\"table\"}]},\"layout\":{\"annotationdefaults\":{\"arrowcolor\":\"#2a3f5f\",\"arrowhead\":0,\"arrowwidth\":1},\"autotypenumbers\":\"strict\",\"coloraxis\":{\"colorbar\":{\"outlinewidth\":0,\"ticks\":\"\"}},\"colorscale\":{\"diverging\":[[0,\"#8e0152\"],[0.1,\"#c51b7d\"],[0.2,\"#de77ae\"],[0.3,\"#f1b6da\"],[0.4,\"#fde0ef\"],[0.5,\"#f7f7f7\"],[0.6,\"#e6f5d0\"],[0.7,\"#b8e186\"],[0.8,\"#7fbc41\"],[0.9,\"#4d9221\"],[1,\"#276419\"]],\"sequential\":[[0.0,\"#0d0887\"],[0.1111111111111111,\"#46039f\"],[0.2222222222222222,\"#7201a8\"],[0.3333333333333333,\"#9c179e\"],[0.4444444444444444,\"#bd3786\"],[0.5555555555555556,\"#d8576b\"],[0.6666666666666666,\"#ed7953\"],[0.7777777777777778,\"#fb9f3a\"],[0.8888888888888888,\"#fdca26\"],[1.0,\"#f0f921\"]],\"sequentialminus\":[[0.0,\"#0d0887\"],[0.1111111111111111,\"#46039f\"],[0.2222222222222222,\"#7201a8\"],[0.3333333333333333,\"#9c179e\"],[0.4444444444444444,\"#bd3786\"],[0.5555555555555556,\"#d8576b\"],[0.6666666666666666,\"#ed7953\"],[0.7777777777777778,\"#fb9f3a\"],[0.8888888888888888,\"#fdca26\"],[1.0,\"#f0f921\"]]},\"colorway\":[\"#636efa\",\"#EF553B\",\"#00cc96\",\"#ab63fa\",\"#FFA15A\",\"#19d3f3\",\"#FF6692\",\"#B6E880\",\"#FF97FF\",\"#FECB52\"],\"font\":{\"color\":\"#2a3f5f\"},\"geo\":{\"bgcolor\":\"white\",\"lakecolor\":\"white\",\"landcolor\":\"#E5ECF6\",\"showlakes\":true,\"showland\":true,\"subunitcolor\":\"white\"},\"hoverlabel\":{\"align\":\"left\"},\"hovermode\":\"closest\",\"mapbox\":{\"style\":\"light\"},\"paper_bgcolor\":\"white\",\"plot_bgcolor\":\"#E5ECF6\",\"polar\":{\"angularaxis\":{\"gridcolor\":\"white\",\"linecolor\":\"white\",\"ticks\":\"\"},\"bgcolor\":\"#E5ECF6\",\"radialaxis\":{\"gridcolor\":\"white\",\"linecolor\":\"white\",\"ticks\":\"\"}},\"scene\":{\"xaxis\":{\"backgroundcolor\":\"#E5ECF6\",\"gridcolor\":\"white\",\"gridwidth\":2,\"linecolor\":\"white\",\"showbackground\":true,\"ticks\":\"\",\"zerolinecolor\":\"white\"},\"yaxis\":{\"backgroundcolor\":\"#E5ECF6\",\"gridcolor\":\"white\",\"gridwidth\":2,\"linecolor\":\"white\",\"showbackground\":true,\"ticks\":\"\",\"zerolinecolor\":\"white\"},\"zaxis\":{\"backgroundcolor\":\"#E5ECF6\",\"gridcolor\":\"white\",\"gridwidth\":2,\"linecolor\":\"white\",\"showbackground\":true,\"ticks\":\"\",\"zerolinecolor\":\"white\"}},\"shapedefaults\":{\"line\":{\"color\":\"#2a3f5f\"}},\"ternary\":{\"aaxis\":{\"gridcolor\":\"white\",\"linecolor\":\"white\",\"ticks\":\"\"},\"baxis\":{\"gridcolor\":\"white\",\"linecolor\":\"white\",\"ticks\":\"\"},\"bgcolor\":\"#E5ECF6\",\"caxis\":{\"gridcolor\":\"white\",\"linecolor\":\"white\",\"ticks\":\"\"}},\"title\":{\"x\":0.05},\"xaxis\":{\"automargin\":true,\"gridcolor\":\"white\",\"linecolor\":\"white\",\"ticks\":\"\",\"title\":{\"standoff\":15},\"zerolinecolor\":\"white\",\"zerolinewidth\":2},\"yaxis\":{\"automargin\":true,\"gridcolor\":\"white\",\"linecolor\":\"white\",\"ticks\":\"\",\"title\":{\"standoff\":15},\"zerolinecolor\":\"white\",\"zerolinewidth\":2}}},\"xaxis\":{\"anchor\":\"y\",\"domain\":[0.0,1.0],\"title\":{\"text\":\"n\\uc9c0\\uc5ed\"}},\"yaxis\":{\"anchor\":\"x\",\"domain\":[0.0,1.0],\"title\":{\"text\":\"\\ub4f1\\ub85d\\ucc28\\ub7c9\\uc218\"}},\"legend\":{\"tracegroupgap\":0},\"margin\":{\"t\":60},\"boxmode\":\"group\"},                        {\"responsive\": true}                    ).then(function(){\n",
              "                            \n",
              "var gd = document.getElementById('06485d11-b7c0-40b9-a5ae-b58218f609bb');\n",
              "var x = new MutationObserver(function (mutations, observer) {{\n",
              "        var display = window.getComputedStyle(gd).display;\n",
              "        if (!display || display === 'none') {{\n",
              "            console.log([gd, 'removed!']);\n",
              "            Plotly.purge(gd);\n",
              "            observer.disconnect();\n",
              "        }}\n",
              "}});\n",
              "\n",
              "// Listen for the removal of the full notebook cells\n",
              "var notebookContainer = gd.closest('#notebook-container');\n",
              "if (notebookContainer) {{\n",
              "    x.observe(notebookContainer, {childList: true});\n",
              "}}\n",
              "\n",
              "// Listen for the clearing of the current output cell\n",
              "var outputEl = gd.closest('.output');\n",
              "if (outputEl) {{\n",
              "    x.observe(outputEl, {childList: true});\n",
              "}}\n",
              "\n",
              "                        })                };                            </script>        </div>\n",
              "</body>\n",
              "</html>"
            ]
          },
          "metadata": {}
        }
      ]
    },
    {
      "cell_type": "markdown",
      "source": [
        "###<u>**공급유형**</u>"
      ],
      "metadata": {
        "id": "X6Ofuj5xbHro"
      }
    },
    {
      "cell_type": "markdown",
      "source": [
        "* 공급유형 피처 또한 수준 10개로 비교적 많음\n",
        "* '등록차량수-단지내주차면수' 차이를 기준으로 공급유형을 5개 그룹(n공급유형)으로 통합"
      ],
      "metadata": {
        "id": "AvsHN3D5bNP6"
      }
    },
    {
      "cell_type": "markdown",
      "source": [
        "* 0 : 국민임대\n",
        "*1 : 단기공공임대(공공임대(5년)/공공임대(10년)/공공임대(분납)/공공분양)\n",
        "*2 : 임대상가\n",
        "*3 : 장기공공임대(공공임대(50년))\n",
        "*4 : 저소득층(행복주택/영구임대/장기전세)"
      ],
      "metadata": {
        "id": "kjSznrQgbS-q"
      }
    },
    {
      "cell_type": "code",
      "source": [
        "fig = px.box(train,x='공급유형',y='등록차량수',hover_name='단지코드')\n",
        "fig.show(renderer=\"colab\")"
      ],
      "metadata": {
        "colab": {
          "base_uri": "https://localhost:8080/",
          "height": 542
        },
        "id": "CK59jbRjbMvH",
        "outputId": "4fa4fbac-1f56-4cdd-f002-4e0ea1e3f1a6"
      },
      "execution_count": 33,
      "outputs": [
        {
          "output_type": "display_data",
          "data": {
            "text/html": [
              "<html>\n",
              "<head><meta charset=\"utf-8\" /></head>\n",
              "<body>\n",
              "    <div>            <script src=\"https://cdnjs.cloudflare.com/ajax/libs/mathjax/2.7.5/MathJax.js?config=TeX-AMS-MML_SVG\"></script><script type=\"text/javascript\">if (window.MathJax) {MathJax.Hub.Config({SVG: {font: \"STIX-Web\"}});}</script>                <script type=\"text/javascript\">window.PlotlyConfig = {MathJaxConfig: 'local'};</script>\n",
              "        <script src=\"https://cdn.plot.ly/plotly-2.8.3.min.js\"></script>                <div id=\"ab816980-aa46-418a-9dc7-19a0dfdd7c64\" class=\"plotly-graph-div\" style=\"height:525px; width:100%;\"></div>            <script type=\"text/javascript\">                                    window.PLOTLYENV=window.PLOTLYENV || {};                                    if (document.getElementById(\"ab816980-aa46-418a-9dc7-19a0dfdd7c64\")) {                    Plotly.newPlot(                        \"ab816980-aa46-418a-9dc7-19a0dfdd7c64\",                        [{\"alignmentgroup\":\"True\",\"hovertemplate\":\"<b>%{hovertext}</b><br><br>\\uacf5\\uae09\\uc720\\ud615=%{x}<br>\\ub4f1\\ub85d\\ucc28\\ub7c9\\uc218=%{y}<extra></extra>\",\"hovertext\":[\"C2515\",\"C2515\",\"C2515\",\"C2515\",\"C2515\",\"C2515\",\"C2515\",\"C1407\",\"C1407\",\"C1407\",\"C1407\",\"C1407\",\"C1407\",\"C1407\",\"C1407\",\"C1407\",\"C1407\",\"C1407\",\"C1945\",\"C1945\",\"C1945\",\"C1945\",\"C1945\",\"C1945\",\"C1470\",\"C1470\",\"C1470\",\"C1470\",\"C1898\",\"C1898\",\"C1898\",\"C1898\",\"C1898\",\"C1898\",\"C1244\",\"C1244\",\"C1244\",\"C1244\",\"C1244\",\"C1244\",\"C1244\",\"C1244\",\"C1244\",\"C1244\",\"C1244\",\"C1244\",\"C1244\",\"C1171\",\"C1171\",\"C1171\",\"C1171\",\"C1171\",\"C1171\",\"C1171\",\"C1171\",\"C1171\",\"C1171\",\"C1171\",\"C1171\",\"C2073\",\"C2073\",\"C2073\",\"C2073\",\"C2073\",\"C2073\",\"C2513\",\"C2513\",\"C2513\",\"C1936\",\"C1936\",\"C1936\",\"C1936\",\"C2049\",\"C2049\",\"C2049\",\"C2202\",\"C2202\",\"C2202\",\"C1925\",\"C1925\",\"C1925\",\"C1925\",\"C1925\",\"C1925\",\"C2576\",\"C2576\",\"C1312\",\"C1312\",\"C1312\",\"C1312\",\"C1874\",\"C1874\",\"C1874\",\"C1874\",\"C1874\",\"C1874\",\"C1874\",\"C1874\",\"C1874\",\"C1874\",\"C1874\",\"C1874\",\"C1874\",\"C1874\",\"C1874\",\"C1874\",\"C1874\",\"C1874\",\"C1874\",\"C1874\",\"C1874\",\"C1874\",\"C1874\",\"C1874\",\"C1874\",\"C1874\",\"C1874\",\"C1874\",\"C1874\",\"C1874\",\"C2650\",\"C2650\",\"C2650\",\"C2416\",\"C2416\",\"C2416\",\"C2416\",\"C2416\",\"C2416\",\"C2416\",\"C2416\",\"C2416\",\"C2416\",\"C2013\",\"C2013\",\"C2013\",\"C1424\",\"C1424\",\"C1424\",\"C2100\",\"C2100\",\"C2100\",\"C2100\",\"C2100\",\"C2100\",\"C2621\",\"C2621\",\"C2621\",\"C2621\",\"C2621\",\"C2621\",\"C2621\",\"C2621\",\"C2621\",\"C2621\",\"C2621\",\"C2621\",\"C2621\",\"C2621\",\"C2621\",\"C2621\",\"C2621\",\"C2621\",\"C2520\",\"C2319\",\"C2319\",\"C2319\",\"C2319\",\"C1616\",\"C1616\",\"C1616\",\"C1616\",\"C1616\",\"C1616\",\"C1616\",\"C1616\",\"C1616\",\"C1616\",\"C1616\",\"C1616\",\"C1616\",\"C1616\",\"C1616\",\"C1616\",\"C1616\",\"C1616\",\"C1616\",\"C1616\",\"C1616\",\"C1616\",\"C1704\",\"C1704\",\"C1704\",\"C1704\",\"C1704\",\"C1704\",\"C1704\",\"C1704\",\"C1704\",\"C1704\",\"C1704\",\"C1704\",\"C1704\",\"C1704\",\"C1704\",\"C1704\",\"C1704\",\"C2258\",\"C2258\",\"C2258\",\"C2258\",\"C2258\",\"C2258\",\"C2258\",\"C2258\",\"C2258\",\"C2258\",\"C2258\",\"C2258\",\"C2258\",\"C2258\",\"C2258\",\"C2258\",\"C2258\",\"C2258\",\"C2258\",\"C2258\",\"C1032\",\"C1032\",\"C1032\",\"C1032\",\"C1032\",\"C1032\",\"C2038\",\"C2038\",\"C2038\",\"C2038\",\"C2038\",\"C2038\",\"C2038\",\"C2038\",\"C2038\",\"C2038\",\"C2038\",\"C2038\",\"C2038\",\"C2038\",\"C2038\",\"C2038\",\"C2038\",\"C2038\",\"C2038\",\"C2038\",\"C1859\",\"C1859\",\"C1859\",\"C1859\",\"C1859\",\"C1859\",\"C1859\",\"C1859\",\"C1859\",\"C1859\",\"C1859\",\"C1859\",\"C1859\",\"C1859\",\"C1859\",\"C1859\",\"C1859\",\"C1859\",\"C1859\",\"C1859\",\"C1859\",\"C1859\",\"C1859\",\"C1859\",\"C1859\",\"C1859\",\"C1859\",\"C1859\",\"C1859\",\"C1859\",\"C1859\",\"C1859\",\"C1859\",\"C1859\",\"C1859\",\"C1859\",\"C1859\",\"C1859\",\"C1859\",\"C1859\",\"C1722\",\"C1722\",\"C1722\",\"C1722\",\"C1722\",\"C1722\",\"C1722\",\"C1722\",\"C1722\",\"C1722\",\"C1722\",\"C1850\",\"C1850\",\"C1850\",\"C2190\",\"C2190\",\"C2190\",\"C2190\",\"C2190\",\"C2190\",\"C2190\",\"C2190\",\"C2190\",\"C2190\",\"C2190\",\"C2190\",\"C2190\",\"C2190\",\"C2190\",\"C2190\",\"C2190\",\"C2190\",\"C2190\",\"C2190\",\"C2190\",\"C1476\",\"C1476\",\"C1476\",\"C1476\",\"C1476\",\"C1476\",\"C1476\",\"C1476\",\"C1077\",\"C1077\",\"C1077\",\"C1068\",\"C1068\",\"C1068\",\"C1068\",\"C1068\",\"C1068\",\"C1983\",\"C1983\",\"C1983\",\"C1983\",\"C1983\",\"C1983\",\"C1983\",\"C1983\",\"C1983\",\"C1983\",\"C1983\",\"C1983\",\"C1983\",\"C1983\",\"C1983\",\"C2135\",\"C2135\",\"C2135\",\"C2135\",\"C2135\",\"C2135\",\"C2135\",\"C2135\",\"C2135\",\"C2135\",\"C2135\",\"C2135\",\"C2135\",\"C2135\",\"C2135\",\"C2135\",\"C2135\",\"C2135\",\"C2135\",\"C2135\",\"C2034\",\"C2034\",\"C2034\",\"C2034\",\"C2034\",\"C2034\",\"C2034\",\"C2034\",\"C2034\",\"C2034\",\"C2034\",\"C2034\",\"C2034\",\"C2034\",\"C2034\",\"C2034\",\"C2034\",\"C2034\",\"C2034\",\"C2034\",\"C2034\",\"C2034\",\"C2034\",\"C2034\",\"C2034\",\"C2034\",\"C2034\",\"C2034\",\"C2034\",\"C1109\",\"C1109\",\"C1109\",\"C1109\",\"C1109\",\"C1109\",\"C1109\",\"C1109\",\"C1109\",\"C1109\",\"C1109\",\"C1109\",\"C1109\",\"C1109\",\"C1109\",\"C1109\",\"C1109\",\"C1109\",\"C1109\",\"C1109\",\"C1109\",\"C1109\",\"C1497\",\"C1497\",\"C2289\",\"C2289\",\"C2289\",\"C2289\",\"C2289\",\"C2289\",\"C2289\",\"C2289\",\"C2289\",\"C2289\",\"C2289\",\"C2289\",\"C2289\",\"C2289\",\"C2289\",\"C2289\",\"C2289\",\"C2289\",\"C2289\",\"C2289\",\"C2289\",\"C2289\",\"C2289\",\"C2289\",\"C2597\",\"C2597\",\"C2597\",\"C2597\",\"C2597\",\"C2597\",\"C2597\",\"C2597\",\"C2597\",\"C2597\",\"C2597\",\"C2597\",\"C2597\",\"C2597\",\"C2597\",\"C2597\",\"C2597\",\"C2597\",\"C2597\",\"C2597\",\"C2597\",\"C2597\",\"C2597\",\"C2597\",\"C2597\",\"C2597\",\"C2597\",\"C2597\",\"C2597\",\"C2597\",\"C2597\",\"C2597\",\"C2310\",\"C2310\",\"C2310\",\"C2310\",\"C2310\",\"C2310\",\"C2310\",\"C2310\",\"C2310\",\"C2310\",\"C2310\",\"C2310\",\"C2310\",\"C2310\",\"C2310\",\"C2310\",\"C2310\",\"C2310\",\"C2310\",\"C2310\",\"C2310\",\"C2310\",\"C2310\",\"C1672\",\"C1672\",\"C2132\",\"C2132\",\"C2132\",\"C2132\",\"C2132\",\"C2132\",\"C2132\",\"C2132\",\"C2132\",\"C2132\",\"C2132\",\"C2132\",\"C2132\",\"C2132\",\"C2132\",\"C2132\",\"C2132\",\"C2132\",\"C2132\",\"C2132\",\"C2132\",\"C2132\",\"C2132\",\"C2132\",\"C2132\",\"C2132\",\"C2132\",\"C2132\",\"C2132\",\"C2132\",\"C2132\",\"C2132\",\"C2132\",\"C2132\",\"C2132\",\"C2132\",\"C2132\",\"C2132\",\"C2132\",\"C2132\",\"C2132\",\"C2132\",\"C2132\",\"C2132\",\"C2132\",\"C2132\",\"C2132\",\"C1439\",\"C1439\",\"C1439\",\"C1439\",\"C1439\",\"C1439\",\"C1439\",\"C1439\",\"C1439\",\"C1439\",\"C1439\",\"C1439\",\"C1439\",\"C1439\",\"C1439\",\"C1439\",\"C1439\",\"C1439\",\"C1439\",\"C1439\",\"C1439\",\"C1439\",\"C1439\",\"C1439\",\"C1439\",\"C1439\",\"C1439\",\"C1439\",\"C1439\",\"C1439\",\"C1439\",\"C1439\",\"C1439\",\"C1439\",\"C1439\",\"C1439\",\"C1439\",\"C1439\",\"C1439\",\"C1439\",\"C1439\",\"C1439\",\"C1439\",\"C1439\",\"C1439\",\"C1439\",\"C1439\",\"C1439\",\"C1613\",\"C1613\",\"C1613\",\"C2216\",\"C2216\",\"C1899\",\"C1899\",\"C1899\",\"C1899\",\"C1899\",\"C1899\",\"C1056\",\"C1056\",\"C1056\",\"C1056\",\"C1056\",\"C1056\",\"C1056\",\"C1056\",\"C1056\",\"C1056\",\"C1056\",\"C1056\",\"C2644\",\"C2644\",\"C2644\",\"C2644\",\"C2644\",\"C2644\",\"C2644\",\"C1206\",\"C1206\",\"C1206\",\"C1206\",\"C1206\",\"C1206\",\"C1206\",\"C1206\",\"C1206\",\"C1206\",\"C1206\",\"C1206\",\"C2481\",\"C2481\",\"C2481\",\"C1718\",\"C1718\",\"C1655\",\"C1655\",\"C1655\",\"C1655\",\"C1430\",\"C1430\",\"C1430\",\"C1430\",\"C1775\",\"C1775\",\"C1775\",\"C1775\",\"C1775\",\"C1775\",\"C1775\",\"C1775\",\"C1775\",\"C1775\",\"C1775\",\"C1775\",\"C1775\",\"C1775\",\"C1775\",\"C1775\",\"C1775\",\"C1519\",\"C1519\",\"C2221\",\"C2221\",\"C2221\",\"C2221\",\"C2221\",\"C2221\",\"C2221\",\"C2221\",\"C1790\",\"C1790\",\"C1790\",\"C1790\",\"C1790\",\"C1790\",\"C1790\",\"C1790\",\"C1790\",\"C1790\",\"C1790\",\"C1790\",\"C1790\",\"C1790\",\"C1790\",\"C1790\",\"C1790\",\"C1790\",\"C1790\",\"C1790\",\"C1790\",\"C1790\",\"C1790\",\"C1790\",\"C1790\",\"C1790\",\"C1790\",\"C1790\",\"C1790\",\"C1790\",\"C1790\",\"C1790\",\"C1790\",\"C2109\",\"C2109\",\"C2109\",\"C2109\",\"C2109\",\"C2109\",\"C2109\",\"C2109\",\"C2109\",\"C2109\",\"C2109\",\"C2109\",\"C2109\",\"C2109\",\"C2109\",\"C2109\",\"C2109\",\"C1698\",\"C1698\",\"C1698\",\"C1698\",\"C1698\",\"C1698\",\"C1698\",\"C1698\",\"C1866\",\"C1866\",\"C1866\",\"C1866\",\"C1005\",\"C1005\",\"C1005\",\"C1004\",\"C1004\",\"C1004\",\"C1004\",\"C1004\",\"C1004\",\"C1004\",\"C1004\",\"C1004\",\"C1004\",\"C1004\",\"C1004\",\"C1004\",\"C1004\",\"C1004\",\"C1004\",\"C1004\",\"C1004\",\"C1004\",\"C1875\",\"C1875\",\"C1875\",\"C1875\",\"C1875\",\"C1875\",\"C1875\",\"C1875\",\"C1875\",\"C1875\",\"C1875\",\"C1875\",\"C1875\",\"C1875\",\"C1875\",\"C1875\",\"C1875\",\"C1875\",\"C1875\",\"C1875\",\"C1875\",\"C1875\",\"C2156\",\"C2156\",\"C2156\",\"C2212\",\"C2212\",\"C2212\",\"C2212\",\"C2212\",\"C2212\",\"C2212\",\"C2212\",\"C2212\",\"C2212\",\"C2212\",\"C2212\",\"C2212\",\"C2212\",\"C2401\",\"C2401\",\"C2401\",\"C2571\",\"C2571\",\"C2571\",\"C2571\",\"C2571\",\"C2571\",\"C2571\",\"C2571\",\"C2571\",\"C2571\",\"C2571\",\"C2571\",\"C2571\",\"C2571\",\"C1175\",\"C1175\",\"C1175\",\"C1833\",\"C1833\",\"C1833\",\"C1833\",\"C1833\",\"C1833\",\"C1833\",\"C2445\",\"C2445\",\"C2445\",\"C2445\",\"C2445\",\"C2445\",\"C1885\",\"C1885\",\"C1885\",\"C1885\",\"C1885\",\"C1885\",\"C1885\",\"C1885\",\"C2368\",\"C2368\",\"C2368\",\"C2368\",\"C2368\",\"C2368\",\"C2368\",\"C2368\",\"C2016\",\"C2016\",\"C2016\",\"C2016\",\"C2371\",\"C2371\",\"C2371\",\"C2371\",\"C2371\",\"C2371\",\"C2371\",\"C2371\",\"C2536\",\"C2536\",\"C2536\",\"C2538\",\"C2538\",\"C2538\",\"C2538\",\"C2538\",\"C2538\",\"C2538\",\"C2538\",\"C2538\",\"C2538\",\"C2538\",\"C2538\",\"C2538\",\"C2538\",\"C2538\",\"C2538\",\"C2538\",\"C2538\",\"C2538\",\"C1014\",\"C1014\",\"C1014\",\"C1014\",\"C1014\",\"C1014\",\"C1014\",\"C1592\",\"C1592\",\"C1592\",\"C1592\",\"C1592\",\"C1592\",\"C1592\",\"C1867\",\"C1867\",\"C1867\",\"C1867\",\"C1867\",\"C1867\",\"C2326\",\"C2326\",\"C2326\",\"C2326\",\"C2326\",\"C1015\",\"C1015\",\"C1015\",\"C1015\",\"C1015\",\"C1015\",\"C1015\",\"C1015\",\"C1620\",\"C1620\",\"C1620\",\"C1620\",\"C1620\",\"C1049\",\"C1049\",\"C1049\",\"C1049\",\"C1049\",\"C2000\",\"C2000\",\"C2000\",\"C2000\",\"C2000\",\"C2000\",\"C2000\",\"C2097\",\"C2097\",\"C2097\",\"C2097\",\"C2097\",\"C2097\",\"C2097\",\"C1668\",\"C1668\",\"C1668\",\"C1668\",\"C1668\",\"C1668\",\"C1668\",\"C1689\",\"C1689\",\"C1689\",\"C1689\",\"C1689\",\"C1689\",\"C1689\",\"C1689\",\"C1689\",\"C1689\",\"C1234\",\"C1234\",\"C2514\",\"C2514\",\"C2514\",\"C2514\",\"C2514\",\"C2514\",\"C1368\",\"C1368\",\"C1368\",\"C1368\",\"C1057\",\"C1057\",\"C1057\",\"C1057\",\"C2336\",\"C2336\",\"C2336\",\"C2336\",\"C2336\",\"C2336\",\"C2336\",\"C1026\",\"C1026\",\"C2256\",\"C2256\",\"C2256\",\"C2256\",\"C2256\",\"C1900\",\"C1900\",\"C1900\",\"C1900\",\"C1900\",\"C1900\",\"C1900\",\"C1900\",\"C2666\",\"C2666\",\"C2666\",\"C2666\",\"C2666\",\"C2666\",\"C2361\",\"C2361\",\"C2361\",\"C2361\",\"C2361\",\"C2361\",\"C2361\",\"C2361\",\"C2361\",\"C2361\",\"C2361\",\"C1642\",\"C1642\",\"C1642\",\"C1642\",\"C1642\",\"C1642\",\"C1642\",\"C1013\",\"C1013\",\"C1013\",\"C1013\",\"C1013\",\"C2232\",\"C2232\",\"C2232\",\"C2232\",\"C1973\",\"C1973\",\"C1973\",\"C2458\",\"C2458\",\"C2458\",\"C2458\",\"C2458\",\"C2458\",\"C2458\",\"C2574\",\"C2574\",\"C2574\",\"C2574\",\"C2574\",\"C2574\",\"C2574\",\"C2574\",\"C2574\",\"C2133\",\"C2133\",\"C2133\",\"C2133\",\"C2133\",\"C2133\",\"C2096\",\"C2096\",\"C2096\",\"C2096\",\"C2096\",\"C2096\",\"C2096\",\"C2010\",\"C2010\",\"C2010\",\"C2010\",\"C2010\",\"C1879\",\"C1879\",\"C1879\",\"C1879\",\"C1879\",\"C1131\",\"C1131\",\"C1131\",\"C1131\",\"C1468\",\"C1468\",\"C1468\",\"C1468\",\"C1468\",\"C1213\",\"C1213\",\"C1213\",\"C1213\",\"C1213\",\"C1213\",\"C1173\",\"C1173\",\"C1173\",\"C1173\",\"C1173\",\"C1173\",\"C1173\",\"C1173\",\"C1173\",\"C2492\",\"C2492\",\"C2492\",\"C2492\",\"C2492\",\"C2032\",\"C2032\",\"C2032\",\"C2032\",\"C2032\",\"C2032\",\"C2032\",\"C2032\",\"C2094\",\"C2094\",\"C2094\",\"C2094\",\"C2094\",\"C2094\",\"C2094\",\"C1880\",\"C1880\",\"C1880\",\"C1880\",\"C2089\",\"C2089\",\"C2089\",\"C2089\",\"C2089\",\"C2089\",\"C1744\",\"C1744\",\"C1744\",\"C1744\",\"C1744\",\"C2046\",\"C2046\",\"C2046\",\"C2046\",\"C2046\",\"C2046\",\"C2071\",\"C2071\",\"C2071\",\"C2071\",\"C2071\",\"C2071\",\"C2071\",\"C2071\",\"C2071\",\"C2635\",\"C2635\",\"C2635\",\"C2635\",\"C2635\",\"C2390\",\"C2390\",\"C2390\",\"C2390\",\"C2561\",\"C2561\",\"C2561\",\"C2561\",\"C1663\",\"C1663\",\"C1663\",\"C1663\",\"C2490\",\"C2490\",\"C2066\",\"C2066\",\"C2066\",\"C2066\",\"C2066\",\"C2066\",\"C2066\",\"C2066\",\"C2066\",\"C2066\",\"C1585\",\"C1585\",\"C1585\",\"C1585\",\"C2276\",\"C2276\",\"C2276\",\"C1155\",\"C1155\",\"C1155\",\"C1693\",\"C1693\",\"C1693\",\"C1693\",\"C1889\",\"C1889\",\"C1889\",\"C1889\",\"C2518\",\"C2518\",\"C1962\",\"C1962\",\"C1962\",\"C1962\",\"C1666\",\"C1666\",\"C1666\",\"C1666\",\"C1666\",\"C1666\",\"C1666\",\"C1666\",\"C1666\",\"C1537\",\"C1537\",\"C1537\",\"C1537\",\"C1329\",\"C1329\",\"C1329\",\"C1329\",\"C1329\",\"C1329\",\"C1329\",\"C1329\",\"C1762\",\"C1762\",\"C1762\",\"C2008\",\"C2008\",\"C2008\",\"C2008\",\"C2008\",\"C2008\",\"C2008\",\"C2008\",\"C2008\",\"C2008\",\"C1319\",\"C1319\",\"C1319\",\"C1319\",\"C1319\",\"C1319\",\"C1141\",\"C1141\",\"C1141\",\"C1141\",\"C1141\",\"C1141\",\"C2340\",\"C1929\",\"C1929\",\"C1929\",\"C1929\",\"C1929\",\"C1929\",\"C1681\",\"C1681\",\"C1681\",\"C1681\",\"C1681\",\"C1681\",\"C1681\",\"C1681\",\"C1184\",\"C1184\",\"C1184\",\"C1184\",\"C1184\",\"C1184\",\"C1184\",\"C2383\",\"C2383\",\"C2383\",\"C2383\",\"C2383\",\"C2383\",\"C2383\",\"C2383\",\"C2383\",\"C1579\",\"C1579\",\"C1579\",\"C1579\",\"C1579\",\"C1579\",\"C1579\",\"C1579\",\"C1579\",\"C2173\",\"C2173\",\"C2173\",\"C2173\",\"C2173\",\"C2173\",\"C2173\",\"C2173\",\"C1911\",\"C1911\",\"C1911\",\"C1911\",\"C1911\",\"C1911\",\"C1638\",\"C1638\",\"C1638\",\"C1638\",\"C1638\",\"C2412\",\"C2412\",\"C2412\",\"C2412\",\"C2412\",\"C1871\",\"C1871\",\"C1871\",\"C1871\",\"C1871\",\"C1871\",\"C1309\",\"C1309\",\"C1309\",\"C1309\",\"C1309\",\"C1309\",\"C1309\",\"C1527\",\"C1527\",\"C1527\",\"C1527\",\"C1527\",\"C2208\",\"C2208\",\"C2208\",\"C2208\",\"C2208\",\"C2208\",\"C2208\",\"C2208\",\"C1940\",\"C1940\",\"C1940\",\"C1940\",\"C1940\",\"C1940\",\"C2596\",\"C2596\",\"C2596\",\"C2596\",\"C2596\",\"C2596\",\"C2596\",\"C2227\",\"C2227\",\"C2227\",\"C2227\",\"C2227\",\"C2227\",\"C2227\",\"C2563\",\"C2563\",\"C2563\",\"C2563\",\"C2358\",\"C2358\",\"C2358\",\"C2358\",\"C2358\",\"C2358\",\"C1492\",\"C1492\",\"C1492\",\"C1492\",\"C1492\",\"C1492\",\"C1492\",\"C1601\",\"C1601\",\"C1601\",\"C1601\",\"C1601\",\"C1601\",\"C1687\",\"C1687\",\"C1687\",\"C1687\",\"C1687\",\"C1687\",\"C1687\",\"C1687\",\"C1687\",\"C1687\",\"C1687\",\"C1236\",\"C1236\",\"C1236\",\"C1236\",\"C1236\",\"C1236\",\"C1236\",\"C1236\",\"C1236\",\"C1236\",\"C1236\",\"C1236\",\"C1487\",\"C1487\",\"C1379\",\"C1379\",\"C1379\",\"C1379\",\"C1386\",\"C1386\",\"C1386\",\"C1386\",\"C1386\",\"C1386\",\"C1386\",\"C1386\",\"C1386\",\"C1386\",\"C1386\",\"C1386\",\"C1386\",\"C1656\",\"C1656\",\"C1656\",\"C1656\",\"C1656\",\"C1656\",\"C1656\",\"C1656\",\"C2526\",\"C2526\",\"C2526\",\"C2526\",\"C2526\",\"C1022\",\"C1022\",\"C1022\",\"C1022\",\"C1896\",\"C1896\",\"C1896\",\"C1896\",\"C1896\",\"C1896\",\"C1269\",\"C1269\",\"C1269\",\"C1269\",\"C1916\",\"C1916\",\"C1916\",\"C1916\",\"C2070\",\"C2070\",\"C2070\",\"C2070\",\"C2070\",\"C1967\",\"C1967\",\"C1967\",\"C1967\",\"C2021\",\"C2021\",\"C2021\",\"C2021\",\"C2021\",\"C2021\",\"C2021\",\"C2021\",\"C2021\",\"C2021\",\"C2021\",\"C2021\",\"C1143\",\"C1143\",\"C1143\",\"C2188\",\"C2651\",\"C2651\",\"C1036\",\"C1036\",\"C1036\",\"C1036\",\"C1036\",\"C1036\",\"C1036\",\"C2657\",\"C2657\",\"C2657\",\"C2657\",\"C2657\",\"C2657\",\"C2657\",\"C2527\",\"C2527\",\"C2527\",\"C2527\",\"C2527\",\"C2262\",\"C2262\",\"C2262\",\"C2262\",\"C2262\",\"C2262\",\"C2262\",\"C2262\",\"C1084\",\"C1084\",\"C1084\",\"C1084\",\"C1084\",\"C1084\",\"C2530\",\"C2530\",\"C2530\",\"C2530\",\"C2530\",\"C2530\",\"C1046\",\"C1046\",\"C1046\",\"C1761\",\"C1761\",\"C1761\",\"C1761\",\"C1761\",\"C1761\",\"C1102\",\"C1102\",\"C1102\",\"C1102\",\"C1102\",\"C1102\",\"C2420\",\"C2420\",\"C2420\",\"C2420\",\"C2420\",\"C2420\",\"C2420\",\"C1122\",\"C1122\",\"C1122\",\"C1122\",\"C1122\",\"C1122\",\"C1122\",\"C2042\",\"C2042\",\"C2042\",\"C2042\",\"C2042\",\"C1375\",\"C1375\",\"C1375\",\"C1375\",\"C1375\",\"C1375\",\"C1375\",\"C1410\",\"C1410\",\"C1410\",\"C1641\",\"C1641\",\"C1641\",\"C1641\",\"C1706\",\"C1706\",\"C1706\",\"C1706\",\"C1706\",\"C1307\",\"C1307\",\"C1307\",\"C1307\",\"C1307\",\"C1307\",\"C1307\",\"C1307\",\"C2601\",\"C2601\",\"C2601\",\"C2601\",\"C2601\",\"C1085\",\"C1085\",\"C1085\",\"C1085\",\"C2385\",\"C2385\",\"C2385\",\"C2385\",\"C1059\",\"C1059\",\"C1059\",\"C1059\",\"C1059\",\"C1059\",\"C2162\",\"C2162\",\"C2162\",\"C1819\",\"C1819\",\"C1819\",\"C2325\",\"C2325\",\"C2325\",\"C2325\",\"C2325\",\"C2394\",\"C2394\",\"C2394\",\"C2394\",\"C2394\",\"C2394\",\"C2394\",\"C2394\",\"C1133\",\"C1133\",\"C1133\",\"C1133\",\"C1133\",\"C1133\",\"C1281\",\"C1281\",\"C1281\",\"C1281\",\"C1281\",\"C1194\",\"C1194\",\"C1194\",\"C1194\",\"C1194\",\"C2308\",\"C2308\",\"C2308\",\"C2036\",\"C2036\",\"C2036\",\"C2036\",\"C1394\",\"C1394\",\"C1394\",\"C1394\",\"C1180\",\"C1180\",\"C1180\",\"C2503\",\"C2503\",\"C2503\",\"C2503\",\"C2503\",\"C2503\",\"C1907\",\"C1907\",\"C1907\",\"C1907\",\"C1907\",\"C1907\",\"C2181\",\"C2181\",\"C2181\",\"C2181\",\"C2181\",\"C2181\",\"C1768\",\"C1768\",\"C1783\",\"C1783\",\"C1783\",\"C1783\",\"C1783\",\"C2192\",\"C2192\",\"C2192\",\"C2192\",\"C2192\",\"C2346\",\"C2346\",\"C2346\",\"C2346\",\"C2346\",\"C2680\",\"C2680\",\"C2680\",\"C2631\",\"C2631\",\"C2631\",\"C2631\",\"C2631\",\"C2631\",\"C2631\",\"C2141\",\"C2141\",\"C2141\",\"C2141\",\"C1569\",\"C1569\",\"C1569\",\"C1569\",\"C1569\",\"C1569\",\"C1569\",\"C2099\",\"C2099\",\"C2099\",\"C2099\",\"C2099\",\"C2287\",\"C2287\",\"C2287\",\"C2287\",\"C2287\",\"C2287\",\"C2287\",\"C2055\",\"C2055\",\"C2055\",\"C2055\",\"C2055\",\"C2055\",\"C1428\",\"C1428\",\"C1428\",\"C1428\",\"C1428\",\"C1428\",\"C1428\",\"C2522\",\"C2522\",\"C2522\",\"C2522\",\"C2522\",\"C2522\",\"C2522\",\"C2560\",\"C2560\",\"C2068\",\"C2068\",\"C2603\",\"C2603\",\"C2603\",\"C2603\",\"C2603\",\"C2603\",\"C1965\",\"C1965\",\"C1965\",\"C1965\",\"C1965\",\"C1660\",\"C1660\",\"C1660\",\"C1660\",\"C1660\",\"C1660\",\"C1660\",\"C1660\",\"C2378\",\"C2378\",\"C2378\",\"C2378\",\"C1268\",\"C1268\",\"C1268\",\"C1268\",\"C1268\",\"C1268\",\"C1994\",\"C1994\",\"C1994\",\"C1994\",\"C1837\",\"C1837\",\"C1837\",\"C1837\",\"C1837\",\"C1837\",\"C1000\",\"C1000\",\"C1000\",\"C1000\",\"C1000\",\"C1000\",\"C1000\",\"C1465\",\"C1465\",\"C1465\",\"C1465\",\"C1465\",\"C1465\",\"C1448\",\"C1448\",\"C1448\",\"C1448\",\"C1448\",\"C1448\",\"C1448\",\"C1448\",\"C1448\",\"C1516\",\"C1516\",\"C1516\",\"C1516\",\"C1516\",\"C2670\",\"C2670\",\"C2670\",\"C2670\",\"C2670\",\"C1365\",\"C1365\",\"C1365\",\"C1365\",\"C1365\",\"C1365\",\"C1365\",\"C1365\",\"C1365\",\"C1365\",\"C1177\",\"C1177\",\"C1177\",\"C1177\",\"C1177\",\"C1177\",\"C1177\",\"C1177\",\"C1177\",\"C1177\",\"C1177\",\"C1177\",\"C1177\",\"C1177\",\"C1177\",\"C1177\",\"C1360\",\"C1360\",\"C1360\",\"C1360\",\"C1360\",\"C1360\",\"C2488\",\"C2488\",\"C2488\",\"C2488\",\"C2488\",\"C2488\",\"C2488\",\"C2488\",\"C1406\",\"C1406\",\"C1406\",\"C1406\",\"C1406\",\"C1406\",\"C1406\",\"C1406\",\"C1406\",\"C1406\",\"C1406\",\"C1406\",\"C1406\",\"C1406\",\"C1566\",\"C1566\",\"C1566\",\"C1566\",\"C1566\",\"C1566\",\"C1227\",\"C1227\",\"C1227\",\"C1227\",\"C1227\",\"C1227\",\"C1227\",\"C1227\",\"C1227\",\"C2460\",\"C2460\",\"C2460\",\"C2460\",\"C2460\",\"C2460\",\"C2486\",\"C2486\",\"C2486\",\"C2486\",\"C2486\",\"C2486\",\"C2486\",\"C2486\",\"C2486\",\"C2486\",\"C2106\",\"C2106\",\"C2106\",\"C2106\",\"C2106\",\"C1572\",\"C1572\",\"C1572\",\"C1572\",\"C1572\",\"C1572\",\"C1773\",\"C1773\",\"C1773\",\"C1773\",\"C1773\",\"C1773\",\"C1773\",\"C1773\",\"C1773\",\"C1677\",\"C1677\",\"C1677\",\"C1677\",\"C1677\",\"C1677\",\"C1677\",\"C1677\",\"C1677\",\"C1677\",\"C1677\",\"C1823\",\"C1823\",\"C1823\",\"C1823\",\"C1823\",\"C1823\",\"C1344\",\"C1344\",\"C1344\",\"C1344\",\"C1344\",\"C1344\",\"C2692\",\"C2692\",\"C2692\",\"C2692\",\"C2692\",\"C2505\",\"C2505\",\"C2505\",\"C2505\",\"C2505\",\"C2587\",\"C2587\",\"C2587\",\"C2587\",\"C2587\",\"C2587\",\"C2587\",\"C2127\",\"C2127\",\"C2127\",\"C2127\",\"C2127\",\"C2127\",\"C1316\",\"C1316\",\"C1674\",\"C1674\",\"C1674\",\"C1674\",\"C1674\",\"C1674\",\"C1713\",\"C1713\",\"C1713\",\"C1713\",\"C1713\",\"C1713\",\"C1845\",\"C1845\",\"C1845\",\"C1845\",\"C2082\",\"C2082\",\"C2082\",\"C2082\",\"C2082\",\"C2082\",\"C1328\",\"C1328\",\"C1328\",\"C1328\",\"C1328\",\"C1328\",\"C1328\",\"C1328\",\"C1328\",\"C1328\",\"C1328\",\"C2357\",\"C2357\",\"C2357\",\"C2357\",\"C2357\",\"C2357\",\"C2565\",\"C2565\",\"C2565\",\"C2565\",\"C2565\",\"C2565\",\"C2565\",\"C2565\",\"C2565\",\"C2565\",\"C2565\",\"C2565\",\"C1804\",\"C1804\",\"C1804\",\"C1804\",\"C2255\",\"C2255\",\"C2255\",\"C2255\",\"C2255\",\"C2255\",\"C1343\",\"C1343\",\"C1343\",\"C1343\",\"C1343\",\"C1343\",\"C1343\",\"C1343\",\"C1343\",\"C1987\",\"C1987\",\"C1987\",\"C1987\",\"C1987\",\"C1987\",\"C2479\",\"C2479\",\"C2479\",\"C2479\",\"C2479\",\"C2479\",\"C2479\",\"C2352\",\"C2352\",\"C2352\",\"C2352\",\"C2352\",\"C2352\",\"C2352\",\"C2352\",\"C2352\",\"C2352\",\"C1310\",\"C1310\",\"C1310\",\"C1310\",\"C1310\",\"C1310\",\"C1310\",\"C1310\",\"C1310\",\"C1738\",\"C1738\",\"C1738\",\"C1738\",\"C1039\",\"C1039\",\"C1039\",\"C1039\",\"C1039\",\"C1039\",\"C1039\",\"C1039\",\"C1039\",\"C1039\",\"C1039\",\"C1863\",\"C1863\",\"C1863\",\"C1863\",\"C1863\",\"C1863\",\"C1863\",\"C1863\",\"C1426\",\"C1426\",\"C1426\",\"C1426\",\"C1426\",\"C2659\",\"C2659\",\"C2659\",\"C2659\",\"C2659\",\"C2659\",\"C2659\",\"C2659\",\"C2659\",\"C2659\",\"C2659\",\"C2489\",\"C2489\",\"C2489\",\"C2211\",\"C2211\",\"C2211\",\"C2314\",\"C2314\",\"C2314\",\"C2314\",\"C2314\",\"C2314\",\"C2314\",\"C1861\",\"C1861\",\"C1861\",\"C1861\",\"C2389\",\"C2389\",\"C2389\",\"C2389\",\"C2389\",\"C2389\",\"C1490\",\"C1490\",\"C1490\",\"C1490\",\"C1024\",\"C1024\",\"C1024\",\"C1024\",\"C1024\",\"C1024\",\"C1024\",\"C1024\",\"C1024\",\"C1024\",\"C1788\",\"C1788\",\"C1740\",\"C1740\",\"C1740\",\"C1740\",\"C2620\",\"C2620\",\"C2620\",\"C2620\",\"C2620\",\"C1286\",\"C1286\",\"C1286\",\"C1089\",\"C1089\",\"C1089\",\"C1089\",\"C1089\",\"C1089\",\"C2237\",\"C2237\",\"C2237\",\"C1341\",\"C1341\",\"C1341\",\"C1341\",\"C1341\",\"C1341\",\"C1341\",\"C1341\",\"C1341\",\"C1338\",\"C1338\",\"C1338\",\"C1338\",\"C1338\",\"C1338\",\"C1338\",\"C1338\",\"C1338\",\"C1338\",\"C2405\",\"C2405\",\"C2405\",\"C1969\",\"C1969\",\"C1969\",\"C1969\",\"C1969\",\"C1969\",\"C2274\",\"C2274\",\"C2274\",\"C2274\",\"C2274\",\"C2274\",\"C2274\",\"C1699\",\"C1699\",\"C1699\",\"C1699\",\"C1699\",\"C1699\",\"C1699\",\"C2251\",\"C2251\",\"C2251\",\"C2251\",\"C2251\",\"C2251\",\"C2251\",\"C2251\",\"C2251\",\"C2251\",\"C2251\",\"C1340\",\"C1340\",\"C1340\",\"C1340\",\"C1340\",\"C2373\",\"C2373\",\"C2373\",\"C2373\",\"C2373\",\"C2373\",\"C1455\",\"C1455\",\"C1455\",\"C2137\",\"C2137\",\"C2137\",\"C1985\",\"C1985\",\"C1985\",\"C1985\",\"C2583\",\"C2583\",\"C2583\",\"C2583\",\"C2583\",\"C2583\",\"C2583\",\"C2583\",\"C2583\",\"C2583\",\"C2583\",\"C2663\",\"C2663\",\"C2663\",\"C2663\",\"C2663\",\"C2663\",\"C2450\",\"C2450\",\"C2450\",\"C2450\",\"C2450\",\"C2450\",\"C2329\",\"C2329\",\"C2329\",\"C2329\",\"C1834\",\"C1834\",\"C1834\",\"C1848\",\"C1848\",\"C1848\",\"C1848\",\"C1848\",\"C1743\",\"C1743\",\"C1743\",\"C1743\",\"C1743\",\"C1743\",\"C1743\",\"C1350\",\"C1350\",\"C1350\",\"C1350\",\"C1350\",\"C1350\",\"C1350\",\"C1350\",\"C1350\",\"C1350\",\"C1350\",\"C1350\",\"C1350\",\"C1402\",\"C1402\",\"C1402\",\"C1402\",\"C1402\",\"C1103\",\"C1103\",\"C1103\",\"C1103\",\"C1129\",\"C1129\",\"C1129\",\"C1129\",\"C1129\",\"C1129\",\"C1129\",\"C1129\",\"C1027\",\"C1027\",\"C1027\",\"C1027\",\"C1027\",\"C2377\",\"C2377\",\"C2377\",\"C2377\",\"C2377\",\"C2377\",\"C2661\",\"C2661\",\"C2661\",\"C1263\",\"C1263\",\"C1263\",\"C1263\",\"C1263\",\"C1136\",\"C1136\",\"C1136\",\"C1136\",\"C2605\",\"C2605\",\"C2605\",\"C2393\",\"C2393\",\"C2393\",\"C2393\",\"C2393\",\"C2393\",\"C2393\",\"C2393\",\"C2393\",\"C2393\",\"C2393\",\"C2393\",\"C2393\",\"C1673\",\"C1673\",\"C1673\",\"C1673\",\"C1673\",\"C1017\",\"C1017\",\"C1017\",\"C2539\",\"C2539\",\"C2539\",\"C2539\",\"C2539\",\"C2539\",\"C1933\",\"C1933\",\"C1933\",\"C1933\",\"C1933\",\"C1933\",\"C2316\",\"C2316\",\"C2316\",\"C2316\",\"C2414\",\"C2414\",\"C2414\",\"C2414\",\"C1301\",\"C1301\",\"C1301\",\"C1700\",\"C1700\",\"C1700\",\"C1636\",\"C1636\",\"C1636\",\"C1636\",\"C2612\",\"C2612\",\"C2612\",\"C2612\",\"C1757\",\"C1757\",\"C1757\",\"C1757\",\"C2507\",\"C2507\",\"C2507\",\"C2507\",\"C2507\",\"C2507\",\"C2507\",\"C2507\",\"C2507\",\"C2507\",\"C2507\",\"C2507\",\"C2507\",\"C2507\",\"C2507\",\"C2507\",\"C2507\",\"C2507\",\"C1163\",\"C1163\",\"C1163\",\"C2627\",\"C2627\",\"C2627\",\"C2627\",\"C2627\",\"C2627\",\"C2040\",\"C2040\",\"C2609\",\"C2609\",\"C2609\",\"C2001\",\"C2001\",\"C2001\",\"C2001\",\"C2001\",\"C1065\",\"C1065\",\"C1065\",\"C1363\",\"C1363\",\"C1363\",\"C1363\",\"C1363\",\"C1363\",\"C1363\",\"C1363\",\"C1363\",\"C1363\",\"C1363\",\"C1363\",\"C1363\",\"C1363\",\"C2579\",\"C2579\",\"C2579\",\"C2579\",\"C2579\",\"C2579\",\"C1048\",\"C1048\",\"C1048\",\"C1210\",\"C1210\",\"C1210\",\"C1210\",\"C1210\",\"C1320\",\"C1320\",\"C1320\",\"C1320\",\"C1941\",\"C1941\",\"C1941\",\"C1941\",\"C1326\",\"C1326\",\"C1326\",\"C1326\",\"C1326\",\"C1685\",\"C1685\",\"C1685\",\"C1685\",\"C1685\",\"C1685\",\"C1685\",\"C1685\",\"C1685\",\"C2618\",\"C2618\",\"C2618\",\"C2618\",\"C2618\",\"C1451\",\"C1451\",\"C1451\",\"C1451\",\"C1451\",\"C2143\",\"C2143\",\"C2143\",\"C2143\",\"C1968\",\"C1968\",\"C1968\",\"C1968\",\"C1968\",\"C2470\",\"C2470\",\"C2470\",\"C1258\",\"C1258\",\"C1258\",\"C1258\",\"C1258\",\"C1258\",\"C2453\",\"C2453\",\"C2453\",\"C2453\",\"C2453\",\"C2453\",\"C2453\",\"C1659\",\"C1659\",\"C1659\",\"C1659\",\"C1659\",\"C1659\",\"C1659\",\"C1659\",\"C1659\",\"C1659\",\"C1659\",\"C1659\",\"C1659\",\"C1724\",\"C1724\",\"C1724\",\"C1724\",\"C1724\",\"C1724\",\"C1724\",\"C1724\",\"C1724\",\"C1724\",\"C1802\",\"C1802\",\"C1802\",\"C1802\",\"C1802\",\"C1802\",\"C1802\",\"C1802\",\"C1802\",\"C1802\",\"C1802\",\"C1939\",\"C1939\",\"C1939\",\"C1939\",\"C1939\",\"C1939\",\"C1939\",\"C1939\",\"C1939\",\"C1284\",\"C1284\",\"C2595\",\"C2595\",\"C2595\",\"C2595\",\"C2595\",\"C2351\",\"C2351\",\"C2351\",\"C2351\",\"C2351\",\"C2506\",\"C2506\",\"C2506\",\"C2506\",\"C2506\",\"C2506\",\"C2506\",\"C2506\",\"C2506\",\"C2506\",\"C2506\",\"C2506\",\"C2506\",\"C2506\",\"C2506\",\"C2506\",\"C2506\",\"C1697\",\"C1697\",\"C1697\",\"C1697\",\"C1697\",\"C1697\",\"C2259\",\"C2259\",\"C2259\",\"C2259\",\"C2259\",\"C2259\",\"C1786\",\"C1786\",\"C1786\",\"C1786\",\"C1786\",\"C1357\",\"C1357\",\"C1357\",\"C1357\",\"C2570\",\"C2570\",\"C2570\",\"C2570\",\"C2570\",\"C2570\",\"C2570\",\"C2570\",\"C1652\",\"C1652\",\"C1652\",\"C1652\",\"C1652\",\"C1652\",\"C1652\",\"C1652\",\"C1652\",\"C1652\",\"C1652\",\"C1652\",\"C1565\",\"C1565\",\"C1565\",\"C1565\",\"C1910\",\"C1910\",\"C1910\",\"C1910\",\"C1910\",\"C1910\",\"C1910\",\"C1910\",\"C1910\",\"C1910\",\"C2359\",\"C2359\",\"C2359\",\"C2359\",\"C2359\",\"C2139\",\"C2139\",\"C2139\",\"C1979\",\"C1979\",\"C1979\",\"C1979\",\"C1979\",\"C1979\",\"C1979\",\"C1979\",\"C1979\",\"C1803\",\"C1803\",\"C1803\",\"C1803\",\"C1803\",\"C1803\",\"C1803\",\"C1803\",\"C1803\",\"C1803\",\"C2508\",\"C2508\",\"C2508\",\"C2508\",\"C2508\",\"C2508\",\"C2508\",\"C2531\",\"C2531\",\"C2531\",\"C2531\",\"C2531\",\"C2531\",\"C1695\",\"C1695\",\"C1695\",\"C1695\",\"C1695\",\"C2556\",\"C2556\",\"C2556\",\"C2086\",\"C2086\",\"C2086\",\"C2086\",\"C2086\",\"C2086\",\"C2086\",\"C2086\",\"C2086\",\"C1544\",\"C1544\",\"C1544\",\"C2154\",\"C2154\",\"C2154\",\"C2154\",\"C2496\",\"C2496\",\"C2496\",\"C2496\",\"C1756\",\"C1756\",\"C1756\",\"C1756\",\"C2362\",\"C2362\",\"C2362\",\"C2362\",\"C2362\",\"C2362\",\"C2362\",\"C2362\",\"C2362\",\"C2362\",\"C2362\",\"C2362\",\"C2362\",\"C2362\",\"C2568\",\"C2568\",\"C2568\",\"C2568\",\"C2568\",\"C2245\",\"C2245\",\"C2245\",\"C2245\",\"C2245\",\"C2245\",\"C2245\",\"C2059\",\"C2059\",\"C2059\",\"C2549\",\"C2549\",\"C2549\",\"C2549\",\"C2549\",\"C1584\",\"C1584\",\"C1584\",\"C1584\",\"C1584\",\"C1584\",\"C2298\",\"C2298\",\"C2298\",\"C2298\",\"C2298\",\"C2225\",\"C2225\",\"C2225\",\"C2225\",\"C2225\",\"C2225\",\"C2225\",\"C2225\",\"C2225\",\"C2328\",\"C2328\",\"C2328\",\"C2328\",\"C2328\",\"C2328\",\"C2328\",\"C1045\",\"C1045\",\"C1045\",\"C1045\",\"C1207\",\"C1207\",\"C1207\",\"C1970\",\"C1970\",\"C1970\",\"C1970\",\"C1970\",\"C1732\",\"C1732\",\"C1732\",\"C1732\",\"C1732\",\"C1732\",\"C2433\",\"C2433\",\"C2433\",\"C2433\",\"C2433\",\"C1156\",\"C1156\",\"C1156\",\"C1156\",\"C1156\",\"C1156\",\"C1156\",\"C1156\",\"C2142\",\"C2142\",\"C2142\",\"C2142\",\"C2153\",\"C2153\",\"C2153\",\"C2153\",\"C2186\",\"C2186\",\"C2186\",\"C2186\",\"C2186\",\"C2186\",\"C1176\",\"C1176\",\"C1176\",\"C1176\",\"C1176\",\"C1176\",\"C1176\",\"C1176\",\"C2446\",\"C2446\",\"C2446\",\"C2446\",\"C2446\",\"C2446\",\"C2446\",\"C2446\",\"C2446\",\"C2446\",\"C2446\",\"C2446\",\"C2586\",\"C2586\",\"C2586\",\"C2586\",\"C2586\",\"C2035\",\"C2035\",\"C2035\",\"C2035\",\"C2035\",\"C2020\",\"C2020\",\"C2020\",\"C2437\",\"C2532\",\"C2532\",\"C2532\",\"C2532\",\"C2532\",\"C2532\"],\"legendgroup\":\"\",\"marker\":{\"color\":\"#636efa\"},\"name\":\"\",\"notched\":false,\"offsetgroup\":\"\",\"orientation\":\"v\",\"showlegend\":false,\"x\":[\"\\uad6d\\ubbfc\\uc784\\ub300\",\"\\uad6d\\ubbfc\\uc784\\ub300\",\"\\uad6d\\ubbfc\\uc784\\ub300\",\"\\uad6d\\ubbfc\\uc784\\ub300\",\"\\uad6d\\ubbfc\\uc784\\ub300\",\"\\uad6d\\ubbfc\\uc784\\ub300\",\"\\uad6d\\ubbfc\\uc784\\ub300\",\"\\uad6d\\ubbfc\\uc784\\ub300\",\"\\uad6d\\ubbfc\\uc784\\ub300\",\"\\uad6d\\ubbfc\\uc784\\ub300\",\"\\uad6d\\ubbfc\\uc784\\ub300\",\"\\uad6d\\ubbfc\\uc784\\ub300\",\"\\uad6d\\ubbfc\\uc784\\ub300\",\"\\uad6d\\ubbfc\\uc784\\ub300\",\"\\uad6d\\ubbfc\\uc784\\ub300\",\"\\uad6d\\ubbfc\\uc784\\ub300\",\"\\uad6d\\ubbfc\\uc784\\ub300\",\"\\uad6d\\ubbfc\\uc784\\ub300\",\"\\uad6d\\ubbfc\\uc784\\ub300\",\"\\uad6d\\ubbfc\\uc784\\ub300\",\"\\uad6d\\ubbfc\\uc784\\ub300\",\"\\uad6d\\ubbfc\\uc784\\ub300\",\"\\uad6d\\ubbfc\\uc784\\ub300\",\"\\uad6d\\ubbfc\\uc784\\ub300\",\"\\uad6d\\ubbfc\\uc784\\ub300\",\"\\uad6d\\ubbfc\\uc784\\ub300\",\"\\uad6d\\ubbfc\\uc784\\ub300\",\"\\uad6d\\ubbfc\\uc784\\ub300\",\"\\uad6d\\ubbfc\\uc784\\ub300\",\"\\uad6d\\ubbfc\\uc784\\ub300\",\"\\uad6d\\ubbfc\\uc784\\ub300\",\"\\uad6d\\ubbfc\\uc784\\ub300\",\"\\uad6d\\ubbfc\\uc784\\ub300\",\"\\uad6d\\ubbfc\\uc784\\ub300\",\"\\uad6d\\ubbfc\\uc784\\ub300\",\"\\uad6d\\ubbfc\\uc784\\ub300\",\"\\uad6d\\ubbfc\\uc784\\ub300\",\"\\uad6d\\ubbfc\\uc784\\ub300\",\"\\uad6d\\ubbfc\\uc784\\ub300\",\"\\uad6d\\ubbfc\\uc784\\ub300\",\"\\uad6d\\ubbfc\\uc784\\ub300\",\"\\uad6d\\ubbfc\\uc784\\ub300\",\"\\uad6d\\ubbfc\\uc784\\ub300\",\"\\uad6d\\ubbfc\\uc784\\ub300\",\"\\uad6d\\ubbfc\\uc784\\ub300\",\"\\uad6d\\ubbfc\\uc784\\ub300\",\"\\uad6d\\ubbfc\\uc784\\ub300\",\"\\uad6d\\ubbfc\\uc784\\ub300\",\"\\uad6d\\ubbfc\\uc784\\ub300\",\"\\uad6d\\ubbfc\\uc784\\ub300\",\"\\uad6d\\ubbfc\\uc784\\ub300\",\"\\uad6d\\ubbfc\\uc784\\ub300\",\"\\uad6d\\ubbfc\\uc784\\ub300\",\"\\uad6d\\ubbfc\\uc784\\ub300\",\"\\uad6d\\ubbfc\\uc784\\ub300\",\"\\uad6d\\ubbfc\\uc784\\ub300\",\"\\uad6d\\ubbfc\\uc784\\ub300\",\"\\uad6d\\ubbfc\\uc784\\ub300\",\"\\uad6d\\ubbfc\\uc784\\ub300\",\"\\uad6d\\ubbfc\\uc784\\ub300\",\"\\uad6d\\ubbfc\\uc784\\ub300\",\"\\uad6d\\ubbfc\\uc784\\ub300\",\"\\uad6d\\ubbfc\\uc784\\ub300\",\"\\uad6d\\ubbfc\\uc784\\ub300\",\"\\uad6d\\ubbfc\\uc784\\ub300\",\"\\uad6d\\ubbfc\\uc784\\ub300\",\"\\uad6d\\ubbfc\\uc784\\ub300\",\"\\uad6d\\ubbfc\\uc784\\ub300\",\"\\uad6d\\ubbfc\\uc784\\ub300\",\"\\uad6d\\ubbfc\\uc784\\ub300\",\"\\uad6d\\ubbfc\\uc784\\ub300\",\"\\uad6d\\ubbfc\\uc784\\ub300\",\"\\uad6d\\ubbfc\\uc784\\ub300\",\"\\uad6d\\ubbfc\\uc784\\ub300\",\"\\uad6d\\ubbfc\\uc784\\ub300\",\"\\uacf5\\uacf5\\uc784\\ub300(50\\ub144)\",\"\\uacf5\\uacf5\\uc784\\ub300(50\\ub144)\",\"\\uacf5\\uacf5\\uc784\\ub300(50\\ub144)\",\"\\uc601\\uad6c\\uc784\\ub300\",\"\\uc601\\uad6c\\uc784\\ub300\",\"\\uc784\\ub300\\uc0c1\\uac00\",\"\\uc784\\ub300\\uc0c1\\uac00\",\"\\uc784\\ub300\\uc0c1\\uac00\",\"\\uc784\\ub300\\uc0c1\\uac00\",\"\\uad6d\\ubbfc\\uc784\\ub300\",\"\\uad6d\\ubbfc\\uc784\\ub300\",\"\\uad6d\\ubbfc\\uc784\\ub300\",\"\\uad6d\\ubbfc\\uc784\\ub300\",\"\\uad6d\\ubbfc\\uc784\\ub300\",\"\\uad6d\\ubbfc\\uc784\\ub300\",\"\\uc601\\uad6c\\uc784\\ub300\",\"\\uc601\\uad6c\\uc784\\ub300\",\"\\uc601\\uad6c\\uc784\\ub300\",\"\\uc784\\ub300\\uc0c1\\uac00\",\"\\uc784\\ub300\\uc0c1\\uac00\",\"\\uc784\\ub300\\uc0c1\\uac00\",\"\\uc784\\ub300\\uc0c1\\uac00\",\"\\uc784\\ub300\\uc0c1\\uac00\",\"\\uc784\\ub300\\uc0c1\\uac00\",\"\\uc784\\ub300\\uc0c1\\uac00\",\"\\uc784\\ub300\\uc0c1\\uac00\",\"\\uc784\\ub300\\uc0c1\\uac00\",\"\\uc784\\ub300\\uc0c1\\uac00\",\"\\uc784\\ub300\\uc0c1\\uac00\",\"\\uc784\\ub300\\uc0c1\\uac00\",\"\\uc784\\ub300\\uc0c1\\uac00\",\"\\uc784\\ub300\\uc0c1\\uac00\",\"\\uc784\\ub300\\uc0c1\\uac00\",\"\\uc784\\ub300\\uc0c1\\uac00\",\"\\uc784\\ub300\\uc0c1\\uac00\",\"\\uc784\\ub300\\uc0c1\\uac00\",\"\\uc784\\ub300\\uc0c1\\uac00\",\"\\uc784\\ub300\\uc0c1\\uac00\",\"\\uc784\\ub300\\uc0c1\\uac00\",\"\\uc784\\ub300\\uc0c1\\uac00\",\"\\uc784\\ub300\\uc0c1\\uac00\",\"\\uc784\\ub300\\uc0c1\\uac00\",\"\\uc784\\ub300\\uc0c1\\uac00\",\"\\uc784\\ub300\\uc0c1\\uac00\",\"\\uc784\\ub300\\uc0c1\\uac00\",\"\\uad6d\\ubbfc\\uc784\\ub300\",\"\\uad6d\\ubbfc\\uc784\\ub300\",\"\\uad6d\\ubbfc\\uc784\\ub300\",\"\\uc601\\uad6c\\uc784\\ub300\",\"\\uc601\\uad6c\\uc784\\ub300\",\"\\uc784\\ub300\\uc0c1\\uac00\",\"\\uc784\\ub300\\uc0c1\\uac00\",\"\\uc784\\ub300\\uc0c1\\uac00\",\"\\uc784\\ub300\\uc0c1\\uac00\",\"\\uc784\\ub300\\uc0c1\\uac00\",\"\\uc784\\ub300\\uc0c1\\uac00\",\"\\uc784\\ub300\\uc0c1\\uac00\",\"\\uc784\\ub300\\uc0c1\\uac00\",\"\\uad6d\\ubbfc\\uc784\\ub300\",\"\\uad6d\\ubbfc\\uc784\\ub300\",\"\\uad6d\\ubbfc\\uc784\\ub300\",\"\\uacf5\\uacf5\\uc784\\ub300(50\\ub144)\",\"\\uacf5\\uacf5\\uc784\\ub300(50\\ub144)\",\"\\uacf5\\uacf5\\uc784\\ub300(50\\ub144)\",\"\\uad6d\\ubbfc\\uc784\\ub300\",\"\\uad6d\\ubbfc\\uc784\\ub300\",\"\\uad6d\\ubbfc\\uc784\\ub300\",\"\\uad6d\\ubbfc\\uc784\\ub300\",\"\\uad6d\\ubbfc\\uc784\\ub300\",\"\\uad6d\\ubbfc\\uc784\\ub300\",\"\\uc601\\uad6c\\uc784\\ub300\",\"\\uc601\\uad6c\\uc784\\ub300\",\"\\uc601\\uad6c\\uc784\\ub300\",\"\\uc601\\uad6c\\uc784\\ub300\",\"\\uc601\\uad6c\\uc784\\ub300\",\"\\uc601\\uad6c\\uc784\\ub300\",\"\\uc601\\uad6c\\uc784\\ub300\",\"\\uc601\\uad6c\\uc784\\ub300\",\"\\uc784\\ub300\\uc0c1\\uac00\",\"\\uc784\\ub300\\uc0c1\\uac00\",\"\\uc784\\ub300\\uc0c1\\uac00\",\"\\uc784\\ub300\\uc0c1\\uac00\",\"\\uc784\\ub300\\uc0c1\\uac00\",\"\\uc784\\ub300\\uc0c1\\uac00\",\"\\uc784\\ub300\\uc0c1\\uac00\",\"\\uc784\\ub300\\uc0c1\\uac00\",\"\\uc784\\ub300\\uc0c1\\uac00\",\"\\uc784\\ub300\\uc0c1\\uac00\",\"\\uacf5\\uacf5\\uc784\\ub300(50\\ub144)\",\"\\uad6d\\ubbfc\\uc784\\ub300\",\"\\uad6d\\ubbfc\\uc784\\ub300\",\"\\uad6d\\ubbfc\\uc784\\ub300\",\"\\uad6d\\ubbfc\\uc784\\ub300\",\"\\uc601\\uad6c\\uc784\\ub300\",\"\\uc601\\uad6c\\uc784\\ub300\",\"\\uc601\\uad6c\\uc784\\ub300\",\"\\uc784\\ub300\\uc0c1\\uac00\",\"\\uc784\\ub300\\uc0c1\\uac00\",\"\\uc784\\ub300\\uc0c1\\uac00\",\"\\uc784\\ub300\\uc0c1\\uac00\",\"\\uc784\\ub300\\uc0c1\\uac00\",\"\\uc784\\ub300\\uc0c1\\uac00\",\"\\uc784\\ub300\\uc0c1\\uac00\",\"\\uc784\\ub300\\uc0c1\\uac00\",\"\\uc784\\ub300\\uc0c1\\uac00\",\"\\uc784\\ub300\\uc0c1\\uac00\",\"\\uc784\\ub300\\uc0c1\\uac00\",\"\\uc784\\ub300\\uc0c1\\uac00\",\"\\uc784\\ub300\\uc0c1\\uac00\",\"\\uc784\\ub300\\uc0c1\\uac00\",\"\\uc784\\ub300\\uc0c1\\uac00\",\"\\uc784\\ub300\\uc0c1\\uac00\",\"\\uc784\\ub300\\uc0c1\\uac00\",\"\\uc784\\ub300\\uc0c1\\uac00\",\"\\uc784\\ub300\\uc0c1\\uac00\",\"\\uc601\\uad6c\\uc784\\ub300\",\"\\uc601\\uad6c\\uc784\\ub300\",\"\\uc784\\ub300\\uc0c1\\uac00\",\"\\uc784\\ub300\\uc0c1\\uac00\",\"\\uc784\\ub300\\uc0c1\\uac00\",\"\\uc784\\ub300\\uc0c1\\uac00\",\"\\uc784\\ub300\\uc0c1\\uac00\",\"\\uc784\\ub300\\uc0c1\\uac00\",\"\\uc784\\ub300\\uc0c1\\uac00\",\"\\uc784\\ub300\\uc0c1\\uac00\",\"\\uc784\\ub300\\uc0c1\\uac00\",\"\\uc784\\ub300\\uc0c1\\uac00\",\"\\uc784\\ub300\\uc0c1\\uac00\",\"\\uc784\\ub300\\uc0c1\\uac00\",\"\\uc784\\ub300\\uc0c1\\uac00\",\"\\uc784\\ub300\\uc0c1\\uac00\",\"\\uc784\\ub300\\uc0c1\\uac00\",\"\\uc601\\uad6c\\uc784\\ub300\",\"\\uc601\\uad6c\\uc784\\ub300\",\"\\uc601\\uad6c\\uc784\\ub300\",\"\\uc784\\ub300\\uc0c1\\uac00\",\"\\uc784\\ub300\\uc0c1\\uac00\",\"\\uc784\\ub300\\uc0c1\\uac00\",\"\\uc784\\ub300\\uc0c1\\uac00\",\"\\uc784\\ub300\\uc0c1\\uac00\",\"\\uc784\\ub300\\uc0c1\\uac00\",\"\\uc784\\ub300\\uc0c1\\uac00\",\"\\uc784\\ub300\\uc0c1\\uac00\",\"\\uc784\\ub300\\uc0c1\\uac00\",\"\\uc784\\ub300\\uc0c1\\uac00\",\"\\uc784\\ub300\\uc0c1\\uac00\",\"\\uc784\\ub300\\uc0c1\\uac00\",\"\\uc784\\ub300\\uc0c1\\uac00\",\"\\uc784\\ub300\\uc0c1\\uac00\",\"\\uc784\\ub300\\uc0c1\\uac00\",\"\\uc784\\ub300\\uc0c1\\uac00\",\"\\uc784\\ub300\\uc0c1\\uac00\",\"\\uad6d\\ubbfc\\uc784\\ub300\",\"\\uad6d\\ubbfc\\uc784\\ub300\",\"\\uad6d\\ubbfc\\uc784\\ub300\",\"\\uad6d\\ubbfc\\uc784\\ub300\",\"\\uad6d\\ubbfc\\uc784\\ub300\",\"\\uad6d\\ubbfc\\uc784\\ub300\",\"\\uc601\\uad6c\\uc784\\ub300\",\"\\uc601\\uad6c\\uc784\\ub300\",\"\\uc601\\uad6c\\uc784\\ub300\",\"\\uc784\\ub300\\uc0c1\\uac00\",\"\\uc784\\ub300\\uc0c1\\uac00\",\"\\uc784\\ub300\\uc0c1\\uac00\",\"\\uc784\\ub300\\uc0c1\\uac00\",\"\\uc784\\ub300\\uc0c1\\uac00\",\"\\uc784\\ub300\\uc0c1\\uac00\",\"\\uc784\\ub300\\uc0c1\\uac00\",\"\\uc784\\ub300\\uc0c1\\uac00\",\"\\uc784\\ub300\\uc0c1\\uac00\",\"\\uc784\\ub300\\uc0c1\\uac00\",\"\\uc784\\ub300\\uc0c1\\uac00\",\"\\uc784\\ub300\\uc0c1\\uac00\",\"\\uc784\\ub300\\uc0c1\\uac00\",\"\\uc784\\ub300\\uc0c1\\uac00\",\"\\uc784\\ub300\\uc0c1\\uac00\",\"\\uc784\\ub300\\uc0c1\\uac00\",\"\\uc784\\ub300\\uc0c1\\uac00\",\"\\uc601\\uad6c\\uc784\\ub300\",\"\\uc601\\uad6c\\uc784\\ub300\",\"\\uc601\\uad6c\\uc784\\ub300\",\"\\uc601\\uad6c\\uc784\\ub300\",\"\\uc601\\uad6c\\uc784\\ub300\",\"\\uc784\\ub300\\uc0c1\\uac00\",\"\\uc784\\ub300\\uc0c1\\uac00\",\"\\uc784\\ub300\\uc0c1\\uac00\",\"\\uc784\\ub300\\uc0c1\\uac00\",\"\\uc784\\ub300\\uc0c1\\uac00\",\"\\uc784\\ub300\\uc0c1\\uac00\",\"\\uc784\\ub300\\uc0c1\\uac00\",\"\\uc784\\ub300\\uc0c1\\uac00\",\"\\uc784\\ub300\\uc0c1\\uac00\",\"\\uc784\\ub300\\uc0c1\\uac00\",\"\\uc784\\ub300\\uc0c1\\uac00\",\"\\uc784\\ub300\\uc0c1\\uac00\",\"\\uc784\\ub300\\uc0c1\\uac00\",\"\\uc784\\ub300\\uc0c1\\uac00\",\"\\uc784\\ub300\\uc0c1\\uac00\",\"\\uc784\\ub300\\uc0c1\\uac00\",\"\\uc784\\ub300\\uc0c1\\uac00\",\"\\uc784\\ub300\\uc0c1\\uac00\",\"\\uc784\\ub300\\uc0c1\\uac00\",\"\\uc784\\ub300\\uc0c1\\uac00\",\"\\uc784\\ub300\\uc0c1\\uac00\",\"\\uc784\\ub300\\uc0c1\\uac00\",\"\\uc784\\ub300\\uc0c1\\uac00\",\"\\uc784\\ub300\\uc0c1\\uac00\",\"\\uc784\\ub300\\uc0c1\\uac00\",\"\\uc784\\ub300\\uc0c1\\uac00\",\"\\uc784\\ub300\\uc0c1\\uac00\",\"\\uc784\\ub300\\uc0c1\\uac00\",\"\\uc784\\ub300\\uc0c1\\uac00\",\"\\uc784\\ub300\\uc0c1\\uac00\",\"\\uc784\\ub300\\uc0c1\\uac00\",\"\\uc784\\ub300\\uc0c1\\uac00\",\"\\uc784\\ub300\\uc0c1\\uac00\",\"\\uc784\\ub300\\uc0c1\\uac00\",\"\\uc784\\ub300\\uc0c1\\uac00\",\"\\uacf5\\uacf5\\uc784\\ub300(50\\ub144)\",\"\\uacf5\\uacf5\\uc784\\ub300(50\\ub144)\",\"\\uacf5\\uacf5\\uc784\\ub300(50\\ub144)\",\"\\uc601\\uad6c\\uc784\\ub300\",\"\\uc601\\uad6c\\uc784\\ub300\",\"\\uc784\\ub300\\uc0c1\\uac00\",\"\\uc784\\ub300\\uc0c1\\uac00\",\"\\uc784\\ub300\\uc0c1\\uac00\",\"\\uc784\\ub300\\uc0c1\\uac00\",\"\\uc784\\ub300\\uc0c1\\uac00\",\"\\uc784\\ub300\\uc0c1\\uac00\",\"\\uacf5\\uacf5\\uc784\\ub300(50\\ub144)\",\"\\uacf5\\uacf5\\uc784\\ub300(50\\ub144)\",\"\\uacf5\\uacf5\\uc784\\ub300(50\\ub144)\",\"\\uc601\\uad6c\\uc784\\ub300\",\"\\uc601\\uad6c\\uc784\\ub300\",\"\\uc601\\uad6c\\uc784\\ub300\",\"\\uc601\\uad6c\\uc784\\ub300\",\"\\uc784\\ub300\\uc0c1\\uac00\",\"\\uc784\\ub300\\uc0c1\\uac00\",\"\\uc784\\ub300\\uc0c1\\uac00\",\"\\uc784\\ub300\\uc0c1\\uac00\",\"\\uc784\\ub300\\uc0c1\\uac00\",\"\\uc784\\ub300\\uc0c1\\uac00\",\"\\uc784\\ub300\\uc0c1\\uac00\",\"\\uc784\\ub300\\uc0c1\\uac00\",\"\\uc784\\ub300\\uc0c1\\uac00\",\"\\uc784\\ub300\\uc0c1\\uac00\",\"\\uc784\\ub300\\uc0c1\\uac00\",\"\\uc784\\ub300\\uc0c1\\uac00\",\"\\uc784\\ub300\\uc0c1\\uac00\",\"\\uc784\\ub300\\uc0c1\\uac00\",\"\\uc784\\ub300\\uc0c1\\uac00\",\"\\uc784\\ub300\\uc0c1\\uac00\",\"\\uc784\\ub300\\uc0c1\\uac00\",\"\\uc601\\uad6c\\uc784\\ub300\",\"\\uc601\\uad6c\\uc784\\ub300\",\"\\uc784\\ub300\\uc0c1\\uac00\",\"\\uc784\\ub300\\uc0c1\\uac00\",\"\\uc784\\ub300\\uc0c1\\uac00\",\"\\uc784\\ub300\\uc0c1\\uac00\",\"\\uc784\\ub300\\uc0c1\\uac00\",\"\\uc784\\ub300\\uc0c1\\uac00\",\"\\uad6d\\ubbfc\\uc784\\ub300\",\"\\uad6d\\ubbfc\\uc784\\ub300\",\"\\uad6d\\ubbfc\\uc784\\ub300\",\"\\uad6d\\ubbfc\\uc784\\ub300\",\"\\uad6d\\ubbfc\\uc784\\ub300\",\"\\uad6d\\ubbfc\\uc784\\ub300\",\"\\uad6d\\ubbfc\\uc784\\ub300\",\"\\uad6d\\ubbfc\\uc784\\ub300\",\"\\uad6d\\ubbfc\\uc784\\ub300\",\"\\uacf5\\uacf5\\uc784\\ub300(50\\ub144)\",\"\\uacf5\\uacf5\\uc784\\ub300(50\\ub144)\",\"\\uacf5\\uacf5\\uc784\\ub300(50\\ub144)\",\"\\uc601\\uad6c\\uc784\\ub300\",\"\\uc601\\uad6c\\uc784\\ub300\",\"\\uc784\\ub300\\uc0c1\\uac00\",\"\\uc784\\ub300\\uc0c1\\uac00\",\"\\uc784\\ub300\\uc0c1\\uac00\",\"\\uc784\\ub300\\uc0c1\\uac00\",\"\\uc784\\ub300\\uc0c1\\uac00\",\"\\uc784\\ub300\\uc0c1\\uac00\",\"\\uc784\\ub300\\uc0c1\\uac00\",\"\\uc784\\ub300\\uc0c1\\uac00\",\"\\uc784\\ub300\\uc0c1\\uac00\",\"\\uc784\\ub300\\uc0c1\\uac00\",\"\\uc601\\uad6c\\uc784\\ub300\",\"\\uc601\\uad6c\\uc784\\ub300\",\"\\uc601\\uad6c\\uc784\\ub300\",\"\\uc784\\ub300\\uc0c1\\uac00\",\"\\uc784\\ub300\\uc0c1\\uac00\",\"\\uc784\\ub300\\uc0c1\\uac00\",\"\\uc784\\ub300\\uc0c1\\uac00\",\"\\uc784\\ub300\\uc0c1\\uac00\",\"\\uc784\\ub300\\uc0c1\\uac00\",\"\\uc784\\ub300\\uc0c1\\uac00\",\"\\uc784\\ub300\\uc0c1\\uac00\",\"\\uc784\\ub300\\uc0c1\\uac00\",\"\\uc784\\ub300\\uc0c1\\uac00\",\"\\uc784\\ub300\\uc0c1\\uac00\",\"\\uc784\\ub300\\uc0c1\\uac00\",\"\\uc784\\ub300\\uc0c1\\uac00\",\"\\uc784\\ub300\\uc0c1\\uac00\",\"\\uc784\\ub300\\uc0c1\\uac00\",\"\\uc784\\ub300\\uc0c1\\uac00\",\"\\uc784\\ub300\\uc0c1\\uac00\",\"\\uc601\\uad6c\\uc784\\ub300\",\"\\uc601\\uad6c\\uc784\\ub300\",\"\\uc601\\uad6c\\uc784\\ub300\",\"\\uc784\\ub300\\uc0c1\\uac00\",\"\\uc784\\ub300\\uc0c1\\uac00\",\"\\uc784\\ub300\\uc0c1\\uac00\",\"\\uc784\\ub300\\uc0c1\\uac00\",\"\\uc784\\ub300\\uc0c1\\uac00\",\"\\uc784\\ub300\\uc0c1\\uac00\",\"\\uc784\\ub300\\uc0c1\\uac00\",\"\\uc784\\ub300\\uc0c1\\uac00\",\"\\uc784\\ub300\\uc0c1\\uac00\",\"\\uc784\\ub300\\uc0c1\\uac00\",\"\\uc784\\ub300\\uc0c1\\uac00\",\"\\uc784\\ub300\\uc0c1\\uac00\",\"\\uc784\\ub300\\uc0c1\\uac00\",\"\\uc784\\ub300\\uc0c1\\uac00\",\"\\uc784\\ub300\\uc0c1\\uac00\",\"\\uc784\\ub300\\uc0c1\\uac00\",\"\\uc784\\ub300\\uc0c1\\uac00\",\"\\uc784\\ub300\\uc0c1\\uac00\",\"\\uc784\\ub300\\uc0c1\\uac00\",\"\\uc784\\ub300\\uc0c1\\uac00\",\"\\uc784\\ub300\\uc0c1\\uac00\",\"\\uc784\\ub300\\uc0c1\\uac00\",\"\\uc784\\ub300\\uc0c1\\uac00\",\"\\uc784\\ub300\\uc0c1\\uac00\",\"\\uc784\\ub300\\uc0c1\\uac00\",\"\\uc784\\ub300\\uc0c1\\uac00\",\"\\uc601\\uad6c\\uc784\\ub300\",\"\\uc601\\uad6c\\uc784\\ub300\",\"\\uc784\\ub300\\uc0c1\\uac00\",\"\\uc784\\ub300\\uc0c1\\uac00\",\"\\uc784\\ub300\\uc0c1\\uac00\",\"\\uc784\\ub300\\uc0c1\\uac00\",\"\\uc784\\ub300\\uc0c1\\uac00\",\"\\uc784\\ub300\\uc0c1\\uac00\",\"\\uc784\\ub300\\uc0c1\\uac00\",\"\\uc784\\ub300\\uc0c1\\uac00\",\"\\uc784\\ub300\\uc0c1\\uac00\",\"\\uc784\\ub300\\uc0c1\\uac00\",\"\\uc784\\ub300\\uc0c1\\uac00\",\"\\uc784\\ub300\\uc0c1\\uac00\",\"\\uc784\\ub300\\uc0c1\\uac00\",\"\\uc784\\ub300\\uc0c1\\uac00\",\"\\uc784\\ub300\\uc0c1\\uac00\",\"\\uc784\\ub300\\uc0c1\\uac00\",\"\\uc784\\ub300\\uc0c1\\uac00\",\"\\uc784\\ub300\\uc0c1\\uac00\",\"\\uc784\\ub300\\uc0c1\\uac00\",\"\\uc784\\ub300\\uc0c1\\uac00\",\"\\uacf5\\uacf5\\uc784\\ub300(50\\ub144)\",\"\\uacf5\\uacf5\\uc784\\ub300(50\\ub144)\",\"\\uc601\\uad6c\\uc784\\ub300\",\"\\uc601\\uad6c\\uc784\\ub300\",\"\\uc601\\uad6c\\uc784\\ub300\",\"\\uc601\\uad6c\\uc784\\ub300\",\"\\uc784\\ub300\\uc0c1\\uac00\",\"\\uc784\\ub300\\uc0c1\\uac00\",\"\\uc784\\ub300\\uc0c1\\uac00\",\"\\uc784\\ub300\\uc0c1\\uac00\",\"\\uc784\\ub300\\uc0c1\\uac00\",\"\\uc784\\ub300\\uc0c1\\uac00\",\"\\uc784\\ub300\\uc0c1\\uac00\",\"\\uc784\\ub300\\uc0c1\\uac00\",\"\\uc784\\ub300\\uc0c1\\uac00\",\"\\uc784\\ub300\\uc0c1\\uac00\",\"\\uc784\\ub300\\uc0c1\\uac00\",\"\\uc784\\ub300\\uc0c1\\uac00\",\"\\uc784\\ub300\\uc0c1\\uac00\",\"\\uc784\\ub300\\uc0c1\\uac00\",\"\\uc784\\ub300\\uc0c1\\uac00\",\"\\uc784\\ub300\\uc0c1\\uac00\",\"\\uc784\\ub300\\uc0c1\\uac00\",\"\\uc784\\ub300\\uc0c1\\uac00\",\"\\uc784\\ub300\\uc0c1\\uac00\",\"\\uc784\\ub300\\uc0c1\\uac00\",\"\\uc601\\uad6c\\uc784\\ub300\",\"\\uc601\\uad6c\\uc784\\ub300\",\"\\uc601\\uad6c\\uc784\\ub300\",\"\\uc784\\ub300\\uc0c1\\uac00\",\"\\uc784\\ub300\\uc0c1\\uac00\",\"\\uc784\\ub300\\uc0c1\\uac00\",\"\\uc784\\ub300\\uc0c1\\uac00\",\"\\uc784\\ub300\\uc0c1\\uac00\",\"\\uc784\\ub300\\uc0c1\\uac00\",\"\\uc784\\ub300\\uc0c1\\uac00\",\"\\uc784\\ub300\\uc0c1\\uac00\",\"\\uc784\\ub300\\uc0c1\\uac00\",\"\\uc784\\ub300\\uc0c1\\uac00\",\"\\uc784\\ub300\\uc0c1\\uac00\",\"\\uc784\\ub300\\uc0c1\\uac00\",\"\\uc784\\ub300\\uc0c1\\uac00\",\"\\uc784\\ub300\\uc0c1\\uac00\",\"\\uc784\\ub300\\uc0c1\\uac00\",\"\\uc784\\ub300\\uc0c1\\uac00\",\"\\uc784\\ub300\\uc0c1\\uac00\",\"\\uc784\\ub300\\uc0c1\\uac00\",\"\\uc784\\ub300\\uc0c1\\uac00\",\"\\uc784\\ub300\\uc0c1\\uac00\",\"\\uc784\\ub300\\uc0c1\\uac00\",\"\\uc784\\ub300\\uc0c1\\uac00\",\"\\uc784\\ub300\\uc0c1\\uac00\",\"\\uc784\\ub300\\uc0c1\\uac00\",\"\\uc784\\ub300\\uc0c1\\uac00\",\"\\uc784\\ub300\\uc0c1\\uac00\",\"\\uc784\\ub300\\uc0c1\\uac00\",\"\\uc784\\ub300\\uc0c1\\uac00\",\"\\uc784\\ub300\\uc0c1\\uac00\",\"\\uc601\\uad6c\\uc784\\ub300\",\"\\uc601\\uad6c\\uc784\\ub300\",\"\\uc601\\uad6c\\uc784\\ub300\",\"\\uc784\\ub300\\uc0c1\\uac00\",\"\\uc784\\ub300\\uc0c1\\uac00\",\"\\uc784\\ub300\\uc0c1\\uac00\",\"\\uc784\\ub300\\uc0c1\\uac00\",\"\\uc784\\ub300\\uc0c1\\uac00\",\"\\uc784\\ub300\\uc0c1\\uac00\",\"\\uc784\\ub300\\uc0c1\\uac00\",\"\\uc784\\ub300\\uc0c1\\uac00\",\"\\uc784\\ub300\\uc0c1\\uac00\",\"\\uc784\\ub300\\uc0c1\\uac00\",\"\\uc784\\ub300\\uc0c1\\uac00\",\"\\uc784\\ub300\\uc0c1\\uac00\",\"\\uc784\\ub300\\uc0c1\\uac00\",\"\\uc784\\ub300\\uc0c1\\uac00\",\"\\uc784\\ub300\\uc0c1\\uac00\",\"\\uc784\\ub300\\uc0c1\\uac00\",\"\\uc784\\ub300\\uc0c1\\uac00\",\"\\uc784\\ub300\\uc0c1\\uac00\",\"\\uc784\\ub300\\uc0c1\\uac00\",\"\\uc784\\ub300\\uc0c1\\uac00\",\"\\uad6d\\ubbfc\\uc784\\ub300\",\"\\uad6d\\ubbfc\\uc784\\ub300\",\"\\uc601\\uad6c\\uc784\\ub300\",\"\\uc601\\uad6c\\uc784\\ub300\",\"\\uc601\\uad6c\\uc784\\ub300\",\"\\uc601\\uad6c\\uc784\\ub300\",\"\\uc784\\ub300\\uc0c1\\uac00\",\"\\uc784\\ub300\\uc0c1\\uac00\",\"\\uc784\\ub300\\uc0c1\\uac00\",\"\\uc784\\ub300\\uc0c1\\uac00\",\"\\uc784\\ub300\\uc0c1\\uac00\",\"\\uc784\\ub300\\uc0c1\\uac00\",\"\\uc784\\ub300\\uc0c1\\uac00\",\"\\uc784\\ub300\\uc0c1\\uac00\",\"\\uc784\\ub300\\uc0c1\\uac00\",\"\\uc784\\ub300\\uc0c1\\uac00\",\"\\uc784\\ub300\\uc0c1\\uac00\",\"\\uc784\\ub300\\uc0c1\\uac00\",\"\\uc784\\ub300\\uc0c1\\uac00\",\"\\uc784\\ub300\\uc0c1\\uac00\",\"\\uc784\\ub300\\uc0c1\\uac00\",\"\\uc784\\ub300\\uc0c1\\uac00\",\"\\uc784\\ub300\\uc0c1\\uac00\",\"\\uc784\\ub300\\uc0c1\\uac00\",\"\\uc784\\ub300\\uc0c1\\uac00\",\"\\uc784\\ub300\\uc0c1\\uac00\",\"\\uc784\\ub300\\uc0c1\\uac00\",\"\\uc784\\ub300\\uc0c1\\uac00\",\"\\uc784\\ub300\\uc0c1\\uac00\",\"\\uc784\\ub300\\uc0c1\\uac00\",\"\\uc784\\ub300\\uc0c1\\uac00\",\"\\uc784\\ub300\\uc0c1\\uac00\",\"\\uc784\\ub300\\uc0c1\\uac00\",\"\\uc784\\ub300\\uc0c1\\uac00\",\"\\uc784\\ub300\\uc0c1\\uac00\",\"\\uc784\\ub300\\uc0c1\\uac00\",\"\\uc784\\ub300\\uc0c1\\uac00\",\"\\uc784\\ub300\\uc0c1\\uac00\",\"\\uc784\\ub300\\uc0c1\\uac00\",\"\\uc784\\ub300\\uc0c1\\uac00\",\"\\uc784\\ub300\\uc0c1\\uac00\",\"\\uc784\\ub300\\uc0c1\\uac00\",\"\\uc784\\ub300\\uc0c1\\uac00\",\"\\uc784\\ub300\\uc0c1\\uac00\",\"\\uc784\\ub300\\uc0c1\\uac00\",\"\\uc784\\ub300\\uc0c1\\uac00\",\"\\uc784\\ub300\\uc0c1\\uac00\",\"\\uc784\\ub300\\uc0c1\\uac00\",\"\\uc784\\ub300\\uc0c1\\uac00\",\"\\uc601\\uad6c\\uc784\\ub300\",\"\\uc601\\uad6c\\uc784\\ub300\",\"\\uc601\\uad6c\\uc784\\ub300\",\"\\uc784\\ub300\\uc0c1\\uac00\",\"\\uc784\\ub300\\uc0c1\\uac00\",\"\\uc784\\ub300\\uc0c1\\uac00\",\"\\uc784\\ub300\\uc0c1\\uac00\",\"\\uc784\\ub300\\uc0c1\\uac00\",\"\\uc784\\ub300\\uc0c1\\uac00\",\"\\uc784\\ub300\\uc0c1\\uac00\",\"\\uc784\\ub300\\uc0c1\\uac00\",\"\\uc784\\ub300\\uc0c1\\uac00\",\"\\uc784\\ub300\\uc0c1\\uac00\",\"\\uc784\\ub300\\uc0c1\\uac00\",\"\\uc784\\ub300\\uc0c1\\uac00\",\"\\uc784\\ub300\\uc0c1\\uac00\",\"\\uc784\\ub300\\uc0c1\\uac00\",\"\\uc784\\ub300\\uc0c1\\uac00\",\"\\uc784\\ub300\\uc0c1\\uac00\",\"\\uc784\\ub300\\uc0c1\\uac00\",\"\\uc784\\ub300\\uc0c1\\uac00\",\"\\uc784\\ub300\\uc0c1\\uac00\",\"\\uc784\\ub300\\uc0c1\\uac00\",\"\\uc784\\ub300\\uc0c1\\uac00\",\"\\uc784\\ub300\\uc0c1\\uac00\",\"\\uc784\\ub300\\uc0c1\\uac00\",\"\\uc784\\ub300\\uc0c1\\uac00\",\"\\uc784\\ub300\\uc0c1\\uac00\",\"\\uc784\\ub300\\uc0c1\\uac00\",\"\\uc784\\ub300\\uc0c1\\uac00\",\"\\uc784\\ub300\\uc0c1\\uac00\",\"\\uc784\\ub300\\uc0c1\\uac00\",\"\\uc784\\ub300\\uc0c1\\uac00\",\"\\uc784\\ub300\\uc0c1\\uac00\",\"\\uc784\\ub300\\uc0c1\\uac00\",\"\\uc784\\ub300\\uc0c1\\uac00\",\"\\uc784\\ub300\\uc0c1\\uac00\",\"\\uc784\\ub300\\uc0c1\\uac00\",\"\\uc784\\ub300\\uc0c1\\uac00\",\"\\uc784\\ub300\\uc0c1\\uac00\",\"\\uc784\\ub300\\uc0c1\\uac00\",\"\\uc784\\ub300\\uc0c1\\uac00\",\"\\uc784\\ub300\\uc0c1\\uac00\",\"\\uc784\\ub300\\uc0c1\\uac00\",\"\\uc784\\ub300\\uc0c1\\uac00\",\"\\uc784\\ub300\\uc0c1\\uac00\",\"\\uc784\\ub300\\uc0c1\\uac00\",\"\\uc784\\ub300\\uc0c1\\uac00\",\"\\uad6d\\ubbfc\\uc784\\ub300\",\"\\uad6d\\ubbfc\\uc784\\ub300\",\"\\uad6d\\ubbfc\\uc784\\ub300\",\"\\uacf5\\uacf5\\uc784\\ub300(50\\ub144)\",\"\\uacf5\\uacf5\\uc784\\ub300(50\\ub144)\",\"\\uc601\\uad6c\\uc784\\ub300\",\"\\uc601\\uad6c\\uc784\\ub300\",\"\\uc784\\ub300\\uc0c1\\uac00\",\"\\uc784\\ub300\\uc0c1\\uac00\",\"\\uc784\\ub300\\uc0c1\\uac00\",\"\\uc784\\ub300\\uc0c1\\uac00\",\"\\uc601\\uad6c\\uc784\\ub300\",\"\\uc601\\uad6c\\uc784\\ub300\",\"\\uc784\\ub300\\uc0c1\\uac00\",\"\\uc784\\ub300\\uc0c1\\uac00\",\"\\uc784\\ub300\\uc0c1\\uac00\",\"\\uc784\\ub300\\uc0c1\\uac00\",\"\\uc784\\ub300\\uc0c1\\uac00\",\"\\uc784\\ub300\\uc0c1\\uac00\",\"\\uc784\\ub300\\uc0c1\\uac00\",\"\\uc784\\ub300\\uc0c1\\uac00\",\"\\uc784\\ub300\\uc0c1\\uac00\",\"\\uc784\\ub300\\uc0c1\\uac00\",\"\\uacf5\\uacf5\\uc784\\ub300(50\\ub144)\",\"\\uacf5\\uacf5\\uc784\\ub300(50\\ub144)\",\"\\uc601\\uad6c\\uc784\\ub300\",\"\\uc601\\uad6c\\uc784\\ub300\",\"\\uc784\\ub300\\uc0c1\\uac00\",\"\\uc784\\ub300\\uc0c1\\uac00\",\"\\uc784\\ub300\\uc0c1\\uac00\",\"\\uc601\\uad6c\\uc784\\ub300\",\"\\uc601\\uad6c\\uc784\\ub300\",\"\\uc784\\ub300\\uc0c1\\uac00\",\"\\uc784\\ub300\\uc0c1\\uac00\",\"\\uc784\\ub300\\uc0c1\\uac00\",\"\\uc784\\ub300\\uc0c1\\uac00\",\"\\uc784\\ub300\\uc0c1\\uac00\",\"\\uc784\\ub300\\uc0c1\\uac00\",\"\\uc784\\ub300\\uc0c1\\uac00\",\"\\uc784\\ub300\\uc0c1\\uac00\",\"\\uc784\\ub300\\uc0c1\\uac00\",\"\\uc784\\ub300\\uc0c1\\uac00\",\"\\uad6d\\ubbfc\\uc784\\ub300\",\"\\uad6d\\ubbfc\\uc784\\ub300\",\"\\uad6d\\ubbfc\\uc784\\ub300\",\"\\uad6d\\ubbfc\\uc784\\ub300\",\"\\uad6d\\ubbfc\\uc784\\ub300\",\"\\uad6d\\ubbfc\\uc784\\ub300\",\"\\uad6d\\ubbfc\\uc784\\ub300\",\"\\uad6d\\ubbfc\\uc784\\ub300\",\"\\uad6d\\ubbfc\\uc784\\ub300\",\"\\uad6d\\ubbfc\\uc784\\ub300\",\"\\uad6d\\ubbfc\\uc784\\ub300\",\"\\uad6d\\ubbfc\\uc784\\ub300\",\"\\uad6d\\ubbfc\\uc784\\ub300\",\"\\uc601\\uad6c\\uc784\\ub300\",\"\\uc601\\uad6c\\uc784\\ub300\",\"\\uc784\\ub300\\uc0c1\\uac00\",\"\\uc784\\ub300\\uc0c1\\uac00\",\"\\uc784\\ub300\\uc0c1\\uac00\",\"\\uc784\\ub300\\uc0c1\\uac00\",\"\\uc784\\ub300\\uc0c1\\uac00\",\"\\uc784\\ub300\\uc0c1\\uac00\",\"\\uc784\\ub300\\uc0c1\\uac00\",\"\\uc784\\ub300\\uc0c1\\uac00\",\"\\uc784\\ub300\\uc0c1\\uac00\",\"\\uc784\\ub300\\uc0c1\\uac00\",\"\\uc784\\ub300\\uc0c1\\uac00\",\"\\uc784\\ub300\\uc0c1\\uac00\",\"\\uc784\\ub300\\uc0c1\\uac00\",\"\\uc784\\ub300\\uc0c1\\uac00\",\"\\uc784\\ub300\\uc0c1\\uac00\",\"\\uad6d\\ubbfc\\uc784\\ub300\",\"\\uad6d\\ubbfc\\uc784\\ub300\",\"\\uacf5\\uacf5\\uc784\\ub300(50\\ub144)\",\"\\uacf5\\uacf5\\uc784\\ub300(50\\ub144)\",\"\\uacf5\\uacf5\\uc784\\ub300(50\\ub144)\",\"\\uacf5\\uacf5\\uc784\\ub300(50\\ub144)\",\"\\uacf5\\uacf5\\uc784\\ub300(50\\ub144)\",\"\\uacf5\\uacf5\\uc784\\ub300(50\\ub144)\",\"\\uacf5\\uacf5\\uc784\\ub300(50\\ub144)\",\"\\uacf5\\uacf5\\uc784\\ub300(50\\ub144)\",\"\\uc601\\uad6c\\uc784\\ub300\",\"\\uc601\\uad6c\\uc784\\ub300\",\"\\uc601\\uad6c\\uc784\\ub300\",\"\\uc784\\ub300\\uc0c1\\uac00\",\"\\uc784\\ub300\\uc0c1\\uac00\",\"\\uc784\\ub300\\uc0c1\\uac00\",\"\\uc784\\ub300\\uc0c1\\uac00\",\"\\uc784\\ub300\\uc0c1\\uac00\",\"\\uc784\\ub300\\uc0c1\\uac00\",\"\\uc784\\ub300\\uc0c1\\uac00\",\"\\uc784\\ub300\\uc0c1\\uac00\",\"\\uc784\\ub300\\uc0c1\\uac00\",\"\\uc784\\ub300\\uc0c1\\uac00\",\"\\uc784\\ub300\\uc0c1\\uac00\",\"\\uc784\\ub300\\uc0c1\\uac00\",\"\\uc784\\ub300\\uc0c1\\uac00\",\"\\uc784\\ub300\\uc0c1\\uac00\",\"\\uc784\\ub300\\uc0c1\\uac00\",\"\\uc784\\ub300\\uc0c1\\uac00\",\"\\uc784\\ub300\\uc0c1\\uac00\",\"\\uc784\\ub300\\uc0c1\\uac00\",\"\\uc784\\ub300\\uc0c1\\uac00\",\"\\uc784\\ub300\\uc0c1\\uac00\",\"\\uc784\\ub300\\uc0c1\\uac00\",\"\\uc784\\ub300\\uc0c1\\uac00\",\"\\uc784\\ub300\\uc0c1\\uac00\",\"\\uc784\\ub300\\uc0c1\\uac00\",\"\\uc784\\ub300\\uc0c1\\uac00\",\"\\uc784\\ub300\\uc0c1\\uac00\",\"\\uc784\\ub300\\uc0c1\\uac00\",\"\\uc784\\ub300\\uc0c1\\uac00\",\"\\uc784\\ub300\\uc0c1\\uac00\",\"\\uc784\\ub300\\uc0c1\\uac00\",\"\\uc601\\uad6c\\uc784\\ub300\",\"\\uc601\\uad6c\\uc784\\ub300\",\"\\uc784\\ub300\\uc0c1\\uac00\",\"\\uc784\\ub300\\uc0c1\\uac00\",\"\\uc784\\ub300\\uc0c1\\uac00\",\"\\uc784\\ub300\\uc0c1\\uac00\",\"\\uc784\\ub300\\uc0c1\\uac00\",\"\\uc784\\ub300\\uc0c1\\uac00\",\"\\uc784\\ub300\\uc0c1\\uac00\",\"\\uc784\\ub300\\uc0c1\\uac00\",\"\\uc784\\ub300\\uc0c1\\uac00\",\"\\uc784\\ub300\\uc0c1\\uac00\",\"\\uc784\\ub300\\uc0c1\\uac00\",\"\\uc784\\ub300\\uc0c1\\uac00\",\"\\uc784\\ub300\\uc0c1\\uac00\",\"\\uc784\\ub300\\uc0c1\\uac00\",\"\\uc784\\ub300\\uc0c1\\uac00\",\"\\uc601\\uad6c\\uc784\\ub300\",\"\\uc601\\uad6c\\uc784\\ub300\",\"\\uc601\\uad6c\\uc784\\ub300\",\"\\uc601\\uad6c\\uc784\\ub300\",\"\\uc784\\ub300\\uc0c1\\uac00\",\"\\uc784\\ub300\\uc0c1\\uac00\",\"\\uc784\\ub300\\uc0c1\\uac00\",\"\\uc784\\ub300\\uc0c1\\uac00\",\"\\uad6d\\ubbfc\\uc784\\ub300\",\"\\uad6d\\ubbfc\\uc784\\ub300\",\"\\uad6d\\ubbfc\\uc784\\ub300\",\"\\uad6d\\ubbfc\\uc784\\ub300\",\"\\uad6d\\ubbfc\\uc784\\ub300\",\"\\uad6d\\ubbfc\\uc784\\ub300\",\"\\uad6d\\ubbfc\\uc784\\ub300\",\"\\uc601\\uad6c\\uc784\\ub300\",\"\\uc601\\uad6c\\uc784\\ub300\",\"\\uc784\\ub300\\uc0c1\\uac00\",\"\\uc784\\ub300\\uc0c1\\uac00\",\"\\uc784\\ub300\\uc0c1\\uac00\",\"\\uc784\\ub300\\uc0c1\\uac00\",\"\\uc784\\ub300\\uc0c1\\uac00\",\"\\uc784\\ub300\\uc0c1\\uac00\",\"\\uc784\\ub300\\uc0c1\\uac00\",\"\\uc784\\ub300\\uc0c1\\uac00\",\"\\uc784\\ub300\\uc0c1\\uac00\",\"\\uc784\\ub300\\uc0c1\\uac00\",\"\\uc784\\ub300\\uc0c1\\uac00\",\"\\uc784\\ub300\\uc0c1\\uac00\",\"\\uc784\\ub300\\uc0c1\\uac00\",\"\\uc784\\ub300\\uc0c1\\uac00\",\"\\uc784\\ub300\\uc0c1\\uac00\",\"\\uc784\\ub300\\uc0c1\\uac00\",\"\\uc784\\ub300\\uc0c1\\uac00\",\"\\uc601\\uad6c\\uc784\\ub300\",\"\\uc601\\uad6c\\uc784\\ub300\",\"\\uc601\\uad6c\\uc784\\ub300\",\"\\uc784\\ub300\\uc0c1\\uac00\",\"\\uc784\\ub300\\uc0c1\\uac00\",\"\\uc784\\ub300\\uc0c1\\uac00\",\"\\uc784\\ub300\\uc0c1\\uac00\",\"\\uc784\\ub300\\uc0c1\\uac00\",\"\\uc784\\ub300\\uc0c1\\uac00\",\"\\uc784\\ub300\\uc0c1\\uac00\",\"\\uc784\\ub300\\uc0c1\\uac00\",\"\\uc784\\ub300\\uc0c1\\uac00\",\"\\uc784\\ub300\\uc0c1\\uac00\",\"\\uc784\\ub300\\uc0c1\\uac00\",\"\\uc784\\ub300\\uc0c1\\uac00\",\"\\uc784\\ub300\\uc0c1\\uac00\",\"\\uc784\\ub300\\uc0c1\\uac00\",\"\\uc784\\ub300\\uc0c1\\uac00\",\"\\uc784\\ub300\\uc0c1\\uac00\",\"\\uc784\\ub300\\uc0c1\\uac00\",\"\\uc784\\ub300\\uc0c1\\uac00\",\"\\uc784\\ub300\\uc0c1\\uac00\",\"\\uad6d\\ubbfc\\uc784\\ub300\",\"\\uad6d\\ubbfc\\uc784\\ub300\",\"\\uad6d\\ubbfc\\uc784\\ub300\",\"\\uc601\\uad6c\\uc784\\ub300\",\"\\uc601\\uad6c\\uc784\\ub300\",\"\\uc601\\uad6c\\uc784\\ub300\",\"\\uc784\\ub300\\uc0c1\\uac00\",\"\\uc784\\ub300\\uc0c1\\uac00\",\"\\uc784\\ub300\\uc0c1\\uac00\",\"\\uc784\\ub300\\uc0c1\\uac00\",\"\\uc784\\ub300\\uc0c1\\uac00\",\"\\uc784\\ub300\\uc0c1\\uac00\",\"\\uc784\\ub300\\uc0c1\\uac00\",\"\\uc784\\ub300\\uc0c1\\uac00\",\"\\uc784\\ub300\\uc0c1\\uac00\",\"\\uc784\\ub300\\uc0c1\\uac00\",\"\\uc784\\ub300\\uc0c1\\uac00\",\"\\uad6d\\ubbfc\\uc784\\ub300\",\"\\uad6d\\ubbfc\\uc784\\ub300\",\"\\uad6d\\ubbfc\\uc784\\ub300\",\"\\uc601\\uad6c\\uc784\\ub300\",\"\\uc784\\ub300\\uc0c1\\uac00\",\"\\uc784\\ub300\\uc0c1\\uac00\",\"\\uc784\\ub300\\uc0c1\\uac00\",\"\\uc784\\ub300\\uc0c1\\uac00\",\"\\uc784\\ub300\\uc0c1\\uac00\",\"\\uc784\\ub300\\uc0c1\\uac00\",\"\\uc784\\ub300\\uc0c1\\uac00\",\"\\uc784\\ub300\\uc0c1\\uac00\",\"\\uc784\\ub300\\uc0c1\\uac00\",\"\\uc784\\ub300\\uc0c1\\uac00\",\"\\uc784\\ub300\\uc0c1\\uac00\",\"\\uc784\\ub300\\uc0c1\\uac00\",\"\\uc784\\ub300\\uc0c1\\uac00\",\"\\uad6d\\ubbfc\\uc784\\ub300\",\"\\uad6d\\ubbfc\\uc784\\ub300\",\"\\uad6d\\ubbfc\\uc784\\ub300\",\"\\uad6d\\ubbfc\\uc784\\ub300\",\"\\uad6d\\ubbfc\\uc784\\ub300\",\"\\uad6d\\ubbfc\\uc784\\ub300\",\"\\uad6d\\ubbfc\\uc784\\ub300\",\"\\uad6d\\ubbfc\\uc784\\ub300\",\"\\uad6d\\ubbfc\\uc784\\ub300\",\"\\uad6d\\ubbfc\\uc784\\ub300\",\"\\uad6d\\ubbfc\\uc784\\ub300\",\"\\uad6d\\ubbfc\\uc784\\ub300\",\"\\uad6d\\ubbfc\\uc784\\ub300\",\"\\uad6d\\ubbfc\\uc784\\ub300\",\"\\uad6d\\ubbfc\\uc784\\ub300\",\"\\uad6d\\ubbfc\\uc784\\ub300\",\"\\uad6d\\ubbfc\\uc784\\ub300\",\"\\uad6d\\ubbfc\\uc784\\ub300\",\"\\uad6d\\ubbfc\\uc784\\ub300\",\"\\uad6d\\ubbfc\\uc784\\ub300\",\"\\uad6d\\ubbfc\\uc784\\ub300\",\"\\uad6d\\ubbfc\\uc784\\ub300\",\"\\uad6d\\ubbfc\\uc784\\ub300\",\"\\uad6d\\ubbfc\\uc784\\ub300\",\"\\uad6d\\ubbfc\\uc784\\ub300\",\"\\uad6d\\ubbfc\\uc784\\ub300\",\"\\uad6d\\ubbfc\\uc784\\ub300\",\"\\uad6d\\ubbfc\\uc784\\ub300\",\"\\uad6d\\ubbfc\\uc784\\ub300\",\"\\uad6d\\ubbfc\\uc784\\ub300\",\"\\uad6d\\ubbfc\\uc784\\ub300\",\"\\uad6d\\ubbfc\\uc784\\ub300\",\"\\uad6d\\ubbfc\\uc784\\ub300\",\"\\uad6d\\ubbfc\\uc784\\ub300\",\"\\uad6d\\ubbfc\\uc784\\ub300\",\"\\uad6d\\ubbfc\\uc784\\ub300\",\"\\uad6d\\ubbfc\\uc784\\ub300\",\"\\uad6d\\ubbfc\\uc784\\ub300\",\"\\uad6d\\ubbfc\\uc784\\ub300\",\"\\uad6d\\ubbfc\\uc784\\ub300\",\"\\uad6d\\ubbfc\\uc784\\ub300\",\"\\uad6d\\ubbfc\\uc784\\ub300\",\"\\uad6d\\ubbfc\\uc784\\ub300\",\"\\uad6d\\ubbfc\\uc784\\ub300\",\"\\uad6d\\ubbfc\\uc784\\ub300\",\"\\uad6d\\ubbfc\\uc784\\ub300\",\"\\uad6d\\ubbfc\\uc784\\ub300\",\"\\uad6d\\ubbfc\\uc784\\ub300\",\"\\uad6d\\ubbfc\\uc784\\ub300\",\"\\uad6d\\ubbfc\\uc784\\ub300\",\"\\uad6d\\ubbfc\\uc784\\ub300\",\"\\uad6d\\ubbfc\\uc784\\ub300\",\"\\uad6d\\ubbfc\\uc784\\ub300\",\"\\uad6d\\ubbfc\\uc784\\ub300\",\"\\uad6d\\ubbfc\\uc784\\ub300\",\"\\uad6d\\ubbfc\\uc784\\ub300\",\"\\uad6d\\ubbfc\\uc784\\ub300\",\"\\uad6d\\ubbfc\\uc784\\ub300\",\"\\uad6d\\ubbfc\\uc784\\ub300\",\"\\uad6d\\ubbfc\\uc784\\ub300\",\"\\uad6d\\ubbfc\\uc784\\ub300\",\"\\uad6d\\ubbfc\\uc784\\ub300\",\"\\uad6d\\ubbfc\\uc784\\ub300\",\"\\uad6d\\ubbfc\\uc784\\ub300\",\"\\uad6d\\ubbfc\\uc784\\ub300\",\"\\uad6d\\ubbfc\\uc784\\ub300\",\"\\uad6d\\ubbfc\\uc784\\ub300\",\"\\uad6d\\ubbfc\\uc784\\ub300\",\"\\uad6d\\ubbfc\\uc784\\ub300\",\"\\uad6d\\ubbfc\\uc784\\ub300\",\"\\uad6d\\ubbfc\\uc784\\ub300\",\"\\uad6d\\ubbfc\\uc784\\ub300\",\"\\uad6d\\ubbfc\\uc784\\ub300\",\"\\uad6d\\ubbfc\\uc784\\ub300\",\"\\uad6d\\ubbfc\\uc784\\ub300\",\"\\uad6d\\ubbfc\\uc784\\ub300\",\"\\uad6d\\ubbfc\\uc784\\ub300\",\"\\uad6d\\ubbfc\\uc784\\ub300\",\"\\uad6d\\ubbfc\\uc784\\ub300\",\"\\uad6d\\ubbfc\\uc784\\ub300\",\"\\uad6d\\ubbfc\\uc784\\ub300\",\"\\uad6d\\ubbfc\\uc784\\ub300\",\"\\uad6d\\ubbfc\\uc784\\ub300\",\"\\uad6d\\ubbfc\\uc784\\ub300\",\"\\uad6d\\ubbfc\\uc784\\ub300\",\"\\uad6d\\ubbfc\\uc784\\ub300\",\"\\uad6d\\ubbfc\\uc784\\ub300\",\"\\uad6d\\ubbfc\\uc784\\ub300\",\"\\uad6d\\ubbfc\\uc784\\ub300\",\"\\uad6d\\ubbfc\\uc784\\ub300\",\"\\uad6d\\ubbfc\\uc784\\ub300\",\"\\uad6d\\ubbfc\\uc784\\ub300\",\"\\uad6d\\ubbfc\\uc784\\ub300\",\"\\uad6d\\ubbfc\\uc784\\ub300\",\"\\uad6d\\ubbfc\\uc784\\ub300\",\"\\uad6d\\ubbfc\\uc784\\ub300\",\"\\uad6d\\ubbfc\\uc784\\ub300\",\"\\uad6d\\ubbfc\\uc784\\ub300\",\"\\uad6d\\ubbfc\\uc784\\ub300\",\"\\uad6d\\ubbfc\\uc784\\ub300\",\"\\uad6d\\ubbfc\\uc784\\ub300\",\"\\uad6d\\ubbfc\\uc784\\ub300\",\"\\uad6d\\ubbfc\\uc784\\ub300\",\"\\uad6d\\ubbfc\\uc784\\ub300\",\"\\uad6d\\ubbfc\\uc784\\ub300\",\"\\uad6d\\ubbfc\\uc784\\ub300\",\"\\uad6d\\ubbfc\\uc784\\ub300\",\"\\uad6d\\ubbfc\\uc784\\ub300\",\"\\uad6d\\ubbfc\\uc784\\ub300\",\"\\uad6d\\ubbfc\\uc784\\ub300\",\"\\uad6d\\ubbfc\\uc784\\ub300\",\"\\uad6d\\ubbfc\\uc784\\ub300\",\"\\uad6d\\ubbfc\\uc784\\ub300\",\"\\uad6d\\ubbfc\\uc784\\ub300\",\"\\uad6d\\ubbfc\\uc784\\ub300\",\"\\uad6d\\ubbfc\\uc784\\ub300\",\"\\uad6d\\ubbfc\\uc784\\ub300\",\"\\uad6d\\ubbfc\\uc784\\ub300\",\"\\uad6d\\ubbfc\\uc784\\ub300\",\"\\uad6d\\ubbfc\\uc784\\ub300\",\"\\uad6d\\ubbfc\\uc784\\ub300\",\"\\uad6d\\ubbfc\\uc784\\ub300\",\"\\uad6d\\ubbfc\\uc784\\ub300\",\"\\uad6d\\ubbfc\\uc784\\ub300\",\"\\uad6d\\ubbfc\\uc784\\ub300\",\"\\uad6d\\ubbfc\\uc784\\ub300\",\"\\uad6d\\ubbfc\\uc784\\ub300\",\"\\uad6d\\ubbfc\\uc784\\ub300\",\"\\uad6d\\ubbfc\\uc784\\ub300\",\"\\uad6d\\ubbfc\\uc784\\ub300\",\"\\uad6d\\ubbfc\\uc784\\ub300\",\"\\uad6d\\ubbfc\\uc784\\ub300\",\"\\uad6d\\ubbfc\\uc784\\ub300\",\"\\uad6d\\ubbfc\\uc784\\ub300\",\"\\uad6d\\ubbfc\\uc784\\ub300\",\"\\uad6d\\ubbfc\\uc784\\ub300\",\"\\uad6d\\ubbfc\\uc784\\ub300\",\"\\uad6d\\ubbfc\\uc784\\ub300\",\"\\uad6d\\ubbfc\\uc784\\ub300\",\"\\uad6d\\ubbfc\\uc784\\ub300\",\"\\uad6d\\ubbfc\\uc784\\ub300\",\"\\uad6d\\ubbfc\\uc784\\ub300\",\"\\uad6d\\ubbfc\\uc784\\ub300\",\"\\uad6d\\ubbfc\\uc784\\ub300\",\"\\uad6d\\ubbfc\\uc784\\ub300\",\"\\uad6d\\ubbfc\\uc784\\ub300\",\"\\uad6d\\ubbfc\\uc784\\ub300\",\"\\uad6d\\ubbfc\\uc784\\ub300\",\"\\uad6d\\ubbfc\\uc784\\ub300\",\"\\uad6d\\ubbfc\\uc784\\ub300\",\"\\uad6d\\ubbfc\\uc784\\ub300\",\"\\uad6d\\ubbfc\\uc784\\ub300\",\"\\uad6d\\ubbfc\\uc784\\ub300\",\"\\uad6d\\ubbfc\\uc784\\ub300\",\"\\uad6d\\ubbfc\\uc784\\ub300\",\"\\uad6d\\ubbfc\\uc784\\ub300\",\"\\uad6d\\ubbfc\\uc784\\ub300\",\"\\uad6d\\ubbfc\\uc784\\ub300\",\"\\uad6d\\ubbfc\\uc784\\ub300\",\"\\uad6d\\ubbfc\\uc784\\ub300\",\"\\uad6d\\ubbfc\\uc784\\ub300\",\"\\uad6d\\ubbfc\\uc784\\ub300\",\"\\uad6d\\ubbfc\\uc784\\ub300\",\"\\uad6d\\ubbfc\\uc784\\ub300\",\"\\uad6d\\ubbfc\\uc784\\ub300\",\"\\uad6d\\ubbfc\\uc784\\ub300\",\"\\uad6d\\ubbfc\\uc784\\ub300\",\"\\uad6d\\ubbfc\\uc784\\ub300\",\"\\uad6d\\ubbfc\\uc784\\ub300\",\"\\uad6d\\ubbfc\\uc784\\ub300\",\"\\uad6d\\ubbfc\\uc784\\ub300\",\"\\uad6d\\ubbfc\\uc784\\ub300\",\"\\uad6d\\ubbfc\\uc784\\ub300\",\"\\uad6d\\ubbfc\\uc784\\ub300\",\"\\uad6d\\ubbfc\\uc784\\ub300\",\"\\uad6d\\ubbfc\\uc784\\ub300\",\"\\uad6d\\ubbfc\\uc784\\ub300\",\"\\uad6d\\ubbfc\\uc784\\ub300\",\"\\uad6d\\ubbfc\\uc784\\ub300\",\"\\uad6d\\ubbfc\\uc784\\ub300\",\"\\uad6d\\ubbfc\\uc784\\ub300\",\"\\uad6d\\ubbfc\\uc784\\ub300\",\"\\uad6d\\ubbfc\\uc784\\ub300\",\"\\uad6d\\ubbfc\\uc784\\ub300\",\"\\uad6d\\ubbfc\\uc784\\ub300\",\"\\uad6d\\ubbfc\\uc784\\ub300\",\"\\uad6d\\ubbfc\\uc784\\ub300\",\"\\uad6d\\ubbfc\\uc784\\ub300\",\"\\uad6d\\ubbfc\\uc784\\ub300\",\"\\uad6d\\ubbfc\\uc784\\ub300\",\"\\uad6d\\ubbfc\\uc784\\ub300\",\"\\uad6d\\ubbfc\\uc784\\ub300\",\"\\uad6d\\ubbfc\\uc784\\ub300\",\"\\uad6d\\ubbfc\\uc784\\ub300\",\"\\uad6d\\ubbfc\\uc784\\ub300\",\"\\uad6d\\ubbfc\\uc784\\ub300\",\"\\uad6d\\ubbfc\\uc784\\ub300\",\"\\uad6d\\ubbfc\\uc784\\ub300\",\"\\uad6d\\ubbfc\\uc784\\ub300\",\"\\uad6d\\ubbfc\\uc784\\ub300\",\"\\uad6d\\ubbfc\\uc784\\ub300\",\"\\uad6d\\ubbfc\\uc784\\ub300\",\"\\uad6d\\ubbfc\\uc784\\ub300\",\"\\uad6d\\ubbfc\\uc784\\ub300\",\"\\uad6d\\ubbfc\\uc784\\ub300\",\"\\uad6d\\ubbfc\\uc784\\ub300\",\"\\uad6d\\ubbfc\\uc784\\ub300\",\"\\uad6d\\ubbfc\\uc784\\ub300\",\"\\uad6d\\ubbfc\\uc784\\ub300\",\"\\uad6d\\ubbfc\\uc784\\ub300\",\"\\uad6d\\ubbfc\\uc784\\ub300\",\"\\uad6d\\ubbfc\\uc784\\ub300\",\"\\uad6d\\ubbfc\\uc784\\ub300\",\"\\uad6d\\ubbfc\\uc784\\ub300\",\"\\uad6d\\ubbfc\\uc784\\ub300\",\"\\uad6d\\ubbfc\\uc784\\ub300\",\"\\uad6d\\ubbfc\\uc784\\ub300\",\"\\uad6d\\ubbfc\\uc784\\ub300\",\"\\uad6d\\ubbfc\\uc784\\ub300\",\"\\uad6d\\ubbfc\\uc784\\ub300\",\"\\uad6d\\ubbfc\\uc784\\ub300\",\"\\uad6d\\ubbfc\\uc784\\ub300\",\"\\uad6d\\ubbfc\\uc784\\ub300\",\"\\uad6d\\ubbfc\\uc784\\ub300\",\"\\uad6d\\ubbfc\\uc784\\ub300\",\"\\uad6d\\ubbfc\\uc784\\ub300\",\"\\uad6d\\ubbfc\\uc784\\ub300\",\"\\uad6d\\ubbfc\\uc784\\ub300\",\"\\uad6d\\ubbfc\\uc784\\ub300\",\"\\uad6d\\ubbfc\\uc784\\ub300\",\"\\uad6d\\ubbfc\\uc784\\ub300\",\"\\uad6d\\ubbfc\\uc784\\ub300\",\"\\uad6d\\ubbfc\\uc784\\ub300\",\"\\uad6d\\ubbfc\\uc784\\ub300\",\"\\uad6d\\ubbfc\\uc784\\ub300\",\"\\uad6d\\ubbfc\\uc784\\ub300\",\"\\uad6d\\ubbfc\\uc784\\ub300\",\"\\uad6d\\ubbfc\\uc784\\ub300\",\"\\uad6d\\ubbfc\\uc784\\ub300\",\"\\uad6d\\ubbfc\\uc784\\ub300\",\"\\uad6d\\ubbfc\\uc784\\ub300\",\"\\uad6d\\ubbfc\\uc784\\ub300\",\"\\uad6d\\ubbfc\\uc784\\ub300\",\"\\uad6d\\ubbfc\\uc784\\ub300\",\"\\uad6d\\ubbfc\\uc784\\ub300\",\"\\uad6d\\ubbfc\\uc784\\ub300\",\"\\uad6d\\ubbfc\\uc784\\ub300\",\"\\uad6d\\ubbfc\\uc784\\ub300\",\"\\uad6d\\ubbfc\\uc784\\ub300\",\"\\uad6d\\ubbfc\\uc784\\ub300\",\"\\uad6d\\ubbfc\\uc784\\ub300\",\"\\uad6d\\ubbfc\\uc784\\ub300\",\"\\uad6d\\ubbfc\\uc784\\ub300\",\"\\uad6d\\ubbfc\\uc784\\ub300\",\"\\uad6d\\ubbfc\\uc784\\ub300\",\"\\uad6d\\ubbfc\\uc784\\ub300\",\"\\uad6d\\ubbfc\\uc784\\ub300\",\"\\uad6d\\ubbfc\\uc784\\ub300\",\"\\uad6d\\ubbfc\\uc784\\ub300\",\"\\uad6d\\ubbfc\\uc784\\ub300\",\"\\uad6d\\ubbfc\\uc784\\ub300\",\"\\uad6d\\ubbfc\\uc784\\ub300\",\"\\uad6d\\ubbfc\\uc784\\ub300\",\"\\uad6d\\ubbfc\\uc784\\ub300\",\"\\uad6d\\ubbfc\\uc784\\ub300\",\"\\uad6d\\ubbfc\\uc784\\ub300\",\"\\uad6d\\ubbfc\\uc784\\ub300\",\"\\uad6d\\ubbfc\\uc784\\ub300\",\"\\uad6d\\ubbfc\\uc784\\ub300\",\"\\uad6d\\ubbfc\\uc784\\ub300\",\"\\uad6d\\ubbfc\\uc784\\ub300\",\"\\uad6d\\ubbfc\\uc784\\ub300\",\"\\uad6d\\ubbfc\\uc784\\ub300\",\"\\uad6d\\ubbfc\\uc784\\ub300\",\"\\uad6d\\ubbfc\\uc784\\ub300\",\"\\uad6d\\ubbfc\\uc784\\ub300\",\"\\uad6d\\ubbfc\\uc784\\ub300\",\"\\uad6d\\ubbfc\\uc784\\ub300\",\"\\uad6d\\ubbfc\\uc784\\ub300\",\"\\uad6d\\ubbfc\\uc784\\ub300\",\"\\uad6d\\ubbfc\\uc784\\ub300\",\"\\uad6d\\ubbfc\\uc784\\ub300\",\"\\uad6d\\ubbfc\\uc784\\ub300\",\"\\uad6d\\ubbfc\\uc784\\ub300\",\"\\uad6d\\ubbfc\\uc784\\ub300\",\"\\uad6d\\ubbfc\\uc784\\ub300\",\"\\uad6d\\ubbfc\\uc784\\ub300\",\"\\uad6d\\ubbfc\\uc784\\ub300\",\"\\uad6d\\ubbfc\\uc784\\ub300\",\"\\uad6d\\ubbfc\\uc784\\ub300\",\"\\uad6d\\ubbfc\\uc784\\ub300\",\"\\uad6d\\ubbfc\\uc784\\ub300\",\"\\uad6d\\ubbfc\\uc784\\ub300\",\"\\uad6d\\ubbfc\\uc784\\ub300\",\"\\uad6d\\ubbfc\\uc784\\ub300\",\"\\uad6d\\ubbfc\\uc784\\ub300\",\"\\uad6d\\ubbfc\\uc784\\ub300\",\"\\uad6d\\ubbfc\\uc784\\ub300\",\"\\uad6d\\ubbfc\\uc784\\ub300\",\"\\uad6d\\ubbfc\\uc784\\ub300\",\"\\uad6d\\ubbfc\\uc784\\ub300\",\"\\uad6d\\ubbfc\\uc784\\ub300\",\"\\uad6d\\ubbfc\\uc784\\ub300\",\"\\uad6d\\ubbfc\\uc784\\ub300\",\"\\uad6d\\ubbfc\\uc784\\ub300\",\"\\uad6d\\ubbfc\\uc784\\ub300\",\"\\uad6d\\ubbfc\\uc784\\ub300\",\"\\uad6d\\ubbfc\\uc784\\ub300\",\"\\uad6d\\ubbfc\\uc784\\ub300\",\"\\uad6d\\ubbfc\\uc784\\ub300\",\"\\uad6d\\ubbfc\\uc784\\ub300\",\"\\uad6d\\ubbfc\\uc784\\ub300\",\"\\uad6d\\ubbfc\\uc784\\ub300\",\"\\uad6d\\ubbfc\\uc784\\ub300\",\"\\uad6d\\ubbfc\\uc784\\ub300\",\"\\uad6d\\ubbfc\\uc784\\ub300\",\"\\uad6d\\ubbfc\\uc784\\ub300\",\"\\uad6d\\ubbfc\\uc784\\ub300\",\"\\uad6d\\ubbfc\\uc784\\ub300\",\"\\uad6d\\ubbfc\\uc784\\ub300\",\"\\uad6d\\ubbfc\\uc784\\ub300\",\"\\uad6d\\ubbfc\\uc784\\ub300\",\"\\uad6d\\ubbfc\\uc784\\ub300\",\"\\uad6d\\ubbfc\\uc784\\ub300\",\"\\uad6d\\ubbfc\\uc784\\ub300\",\"\\uad6d\\ubbfc\\uc784\\ub300\",\"\\uad6d\\ubbfc\\uc784\\ub300\",\"\\uad6d\\ubbfc\\uc784\\ub300\",\"\\uad6d\\ubbfc\\uc784\\ub300\",\"\\uad6d\\ubbfc\\uc784\\ub300\",\"\\uad6d\\ubbfc\\uc784\\ub300\",\"\\uad6d\\ubbfc\\uc784\\ub300\",\"\\uad6d\\ubbfc\\uc784\\ub300\",\"\\uad6d\\ubbfc\\uc784\\ub300\",\"\\uad6d\\ubbfc\\uc784\\ub300\",\"\\uad6d\\ubbfc\\uc784\\ub300\",\"\\uad6d\\ubbfc\\uc784\\ub300\",\"\\uad6d\\ubbfc\\uc784\\ub300\",\"\\uad6d\\ubbfc\\uc784\\ub300\",\"\\uad6d\\ubbfc\\uc784\\ub300\",\"\\uad6d\\ubbfc\\uc784\\ub300\",\"\\uad6d\\ubbfc\\uc784\\ub300\",\"\\uad6d\\ubbfc\\uc784\\ub300\",\"\\uad6d\\ubbfc\\uc784\\ub300\",\"\\uad6d\\ubbfc\\uc784\\ub300\",\"\\uad6d\\ubbfc\\uc784\\ub300\",\"\\uad6d\\ubbfc\\uc784\\ub300\",\"\\uad6d\\ubbfc\\uc784\\ub300\",\"\\uad6d\\ubbfc\\uc784\\ub300\",\"\\uad6d\\ubbfc\\uc784\\ub300\",\"\\uad6d\\ubbfc\\uc784\\ub300\",\"\\uad6d\\ubbfc\\uc784\\ub300\",\"\\uad6d\\ubbfc\\uc784\\ub300\",\"\\uad6d\\ubbfc\\uc784\\ub300\",\"\\uad6d\\ubbfc\\uc784\\ub300\",\"\\uad6d\\ubbfc\\uc784\\ub300\",\"\\uad6d\\ubbfc\\uc784\\ub300\",\"\\uad6d\\ubbfc\\uc784\\ub300\",\"\\uad6d\\ubbfc\\uc784\\ub300\",\"\\uad6d\\ubbfc\\uc784\\ub300\",\"\\uad6d\\ubbfc\\uc784\\ub300\",\"\\uad6d\\ubbfc\\uc784\\ub300\",\"\\uad6d\\ubbfc\\uc784\\ub300\",\"\\uad6d\\ubbfc\\uc784\\ub300\",\"\\uad6d\\ubbfc\\uc784\\ub300\",\"\\uad6d\\ubbfc\\uc784\\ub300\",\"\\uad6d\\ubbfc\\uc784\\ub300\",\"\\uad6d\\ubbfc\\uc784\\ub300\",\"\\uad6d\\ubbfc\\uc784\\ub300\",\"\\uad6d\\ubbfc\\uc784\\ub300\",\"\\uad6d\\ubbfc\\uc784\\ub300\",\"\\uad6d\\ubbfc\\uc784\\ub300\",\"\\uad6d\\ubbfc\\uc784\\ub300\",\"\\uad6d\\ubbfc\\uc784\\ub300\",\"\\uad6d\\ubbfc\\uc784\\ub300\",\"\\uad6d\\ubbfc\\uc784\\ub300\",\"\\uad6d\\ubbfc\\uc784\\ub300\",\"\\uad6d\\ubbfc\\uc784\\ub300\",\"\\uad6d\\ubbfc\\uc784\\ub300\",\"\\uad6d\\ubbfc\\uc784\\ub300\",\"\\uad6d\\ubbfc\\uc784\\ub300\",\"\\uad6d\\ubbfc\\uc784\\ub300\",\"\\uad6d\\ubbfc\\uc784\\ub300\",\"\\uad6d\\ubbfc\\uc784\\ub300\",\"\\uad6d\\ubbfc\\uc784\\ub300\",\"\\uad6d\\ubbfc\\uc784\\ub300\",\"\\uad6d\\ubbfc\\uc784\\ub300\",\"\\uad6d\\ubbfc\\uc784\\ub300\",\"\\uad6d\\ubbfc\\uc784\\ub300\",\"\\uad6d\\ubbfc\\uc784\\ub300\",\"\\uad6d\\ubbfc\\uc784\\ub300\",\"\\uad6d\\ubbfc\\uc784\\ub300\",\"\\uad6d\\ubbfc\\uc784\\ub300\",\"\\uad6d\\ubbfc\\uc784\\ub300\",\"\\uad6d\\ubbfc\\uc784\\ub300\",\"\\uad6d\\ubbfc\\uc784\\ub300\",\"\\uad6d\\ubbfc\\uc784\\ub300\",\"\\uad6d\\ubbfc\\uc784\\ub300\",\"\\uad6d\\ubbfc\\uc784\\ub300\",\"\\uad6d\\ubbfc\\uc784\\ub300\",\"\\uad6d\\ubbfc\\uc784\\ub300\",\"\\uad6d\\ubbfc\\uc784\\ub300\",\"\\uad6d\\ubbfc\\uc784\\ub300\",\"\\uad6d\\ubbfc\\uc784\\ub300\",\"\\uad6d\\ubbfc\\uc784\\ub300\",\"\\uad6d\\ubbfc\\uc784\\ub300\",\"\\uad6d\\ubbfc\\uc784\\ub300\",\"\\uad6d\\ubbfc\\uc784\\ub300\",\"\\uad6d\\ubbfc\\uc784\\ub300\",\"\\uad6d\\ubbfc\\uc784\\ub300\",\"\\uad6d\\ubbfc\\uc784\\ub300\",\"\\uad6d\\ubbfc\\uc784\\ub300\",\"\\uad6d\\ubbfc\\uc784\\ub300\",\"\\uad6d\\ubbfc\\uc784\\ub300\",\"\\uad6d\\ubbfc\\uc784\\ub300\",\"\\uad6d\\ubbfc\\uc784\\ub300\",\"\\uad6d\\ubbfc\\uc784\\ub300\",\"\\uad6d\\ubbfc\\uc784\\ub300\",\"\\uad6d\\ubbfc\\uc784\\ub300\",\"\\uad6d\\ubbfc\\uc784\\ub300\",\"\\uad6d\\ubbfc\\uc784\\ub300\",\"\\uad6d\\ubbfc\\uc784\\ub300\",\"\\uad6d\\ubbfc\\uc784\\ub300\",\"\\uad6d\\ubbfc\\uc784\\ub300\",\"\\uad6d\\ubbfc\\uc784\\ub300\",\"\\uad6d\\ubbfc\\uc784\\ub300\",\"\\uacf5\\uacf5\\uc784\\ub300(50\\ub144)\",\"\\uad6d\\ubbfc\\uc784\\ub300\",\"\\uad6d\\ubbfc\\uc784\\ub300\",\"\\uad6d\\ubbfc\\uc784\\ub300\",\"\\uad6d\\ubbfc\\uc784\\ub300\",\"\\uad6d\\ubbfc\\uc784\\ub300\",\"\\uad6d\\ubbfc\\uc784\\ub300\",\"\\uad6d\\ubbfc\\uc784\\ub300\",\"\\uad6d\\ubbfc\\uc784\\ub300\",\"\\uad6d\\ubbfc\\uc784\\ub300\",\"\\uad6d\\ubbfc\\uc784\\ub300\",\"\\uad6d\\ubbfc\\uc784\\ub300\",\"\\uad6d\\ubbfc\\uc784\\ub300\",\"\\uad6d\\ubbfc\\uc784\\ub300\",\"\\uad6d\\ubbfc\\uc784\\ub300\",\"\\uad6d\\ubbfc\\uc784\\ub300\",\"\\uad6d\\ubbfc\\uc784\\ub300\",\"\\uad6d\\ubbfc\\uc784\\ub300\",\"\\uad6d\\ubbfc\\uc784\\ub300\",\"\\uad6d\\ubbfc\\uc784\\ub300\",\"\\uad6d\\ubbfc\\uc784\\ub300\",\"\\uad6d\\ubbfc\\uc784\\ub300\",\"\\uad6d\\ubbfc\\uc784\\ub300\",\"\\uad6d\\ubbfc\\uc784\\ub300\",\"\\uad6d\\ubbfc\\uc784\\ub300\",\"\\uad6d\\ubbfc\\uc784\\ub300\",\"\\uad6d\\ubbfc\\uc784\\ub300\",\"\\uad6d\\ubbfc\\uc784\\ub300\",\"\\uad6d\\ubbfc\\uc784\\ub300\",\"\\uad6d\\ubbfc\\uc784\\ub300\",\"\\uad6d\\ubbfc\\uc784\\ub300\",\"\\uad6d\\ubbfc\\uc784\\ub300\",\"\\uad6d\\ubbfc\\uc784\\ub300\",\"\\uad6d\\ubbfc\\uc784\\ub300\",\"\\uad6d\\ubbfc\\uc784\\ub300\",\"\\uad6d\\ubbfc\\uc784\\ub300\",\"\\uad6d\\ubbfc\\uc784\\ub300\",\"\\uad6d\\ubbfc\\uc784\\ub300\",\"\\uad6d\\ubbfc\\uc784\\ub300\",\"\\uad6d\\ubbfc\\uc784\\ub300\",\"\\uad6d\\ubbfc\\uc784\\ub300\",\"\\uad6d\\ubbfc\\uc784\\ub300\",\"\\uad6d\\ubbfc\\uc784\\ub300\",\"\\uad6d\\ubbfc\\uc784\\ub300\",\"\\uad6d\\ubbfc\\uc784\\ub300\",\"\\uad6d\\ubbfc\\uc784\\ub300\",\"\\uad6d\\ubbfc\\uc784\\ub300\",\"\\uad6d\\ubbfc\\uc784\\ub300\",\"\\uad6d\\ubbfc\\uc784\\ub300\",\"\\uad6d\\ubbfc\\uc784\\ub300\",\"\\uad6d\\ubbfc\\uc784\\ub300\",\"\\uad6d\\ubbfc\\uc784\\ub300\",\"\\uad6d\\ubbfc\\uc784\\ub300\",\"\\uad6d\\ubbfc\\uc784\\ub300\",\"\\uad6d\\ubbfc\\uc784\\ub300\",\"\\uad6d\\ubbfc\\uc784\\ub300\",\"\\uad6d\\ubbfc\\uc784\\ub300\",\"\\uad6d\\ubbfc\\uc784\\ub300\",\"\\uad6d\\ubbfc\\uc784\\ub300\",\"\\uad6d\\ubbfc\\uc784\\ub300\",\"\\uad6d\\ubbfc\\uc784\\ub300\",\"\\uad6d\\ubbfc\\uc784\\ub300\",\"\\uad6d\\ubbfc\\uc784\\ub300\",\"\\uad6d\\ubbfc\\uc784\\ub300\",\"\\uad6d\\ubbfc\\uc784\\ub300\",\"\\uad6d\\ubbfc\\uc784\\ub300\",\"\\uad6d\\ubbfc\\uc784\\ub300\",\"\\uad6d\\ubbfc\\uc784\\ub300\",\"\\uad6d\\ubbfc\\uc784\\ub300\",\"\\uad6d\\ubbfc\\uc784\\ub300\",\"\\uad6d\\ubbfc\\uc784\\ub300\",\"\\uad6d\\ubbfc\\uc784\\ub300\",\"\\uad6d\\ubbfc\\uc784\\ub300\",\"\\uad6d\\ubbfc\\uc784\\ub300\",\"\\uad6d\\ubbfc\\uc784\\ub300\",\"\\uad6d\\ubbfc\\uc784\\ub300\",\"\\uad6d\\ubbfc\\uc784\\ub300\",\"\\uad6d\\ubbfc\\uc784\\ub300\",\"\\uad6d\\ubbfc\\uc784\\ub300\",\"\\uad6d\\ubbfc\\uc784\\ub300\",\"\\uad6d\\ubbfc\\uc784\\ub300\",\"\\uad6d\\ubbfc\\uc784\\ub300\",\"\\uad6d\\ubbfc\\uc784\\ub300\",\"\\uad6d\\ubbfc\\uc784\\ub300\",\"\\uad6d\\ubbfc\\uc784\\ub300\",\"\\uad6d\\ubbfc\\uc784\\ub300\",\"\\uad6d\\ubbfc\\uc784\\ub300\",\"\\uad6d\\ubbfc\\uc784\\ub300\",\"\\uad6d\\ubbfc\\uc784\\ub300\",\"\\uad6d\\ubbfc\\uc784\\ub300\",\"\\uad6d\\ubbfc\\uc784\\ub300\",\"\\uad6d\\ubbfc\\uc784\\ub300\",\"\\uad6d\\ubbfc\\uc784\\ub300\",\"\\uad6d\\ubbfc\\uc784\\ub300\",\"\\uad6d\\ubbfc\\uc784\\ub300\",\"\\uad6d\\ubbfc\\uc784\\ub300\",\"\\uad6d\\ubbfc\\uc784\\ub300\",\"\\uad6d\\ubbfc\\uc784\\ub300\",\"\\uad6d\\ubbfc\\uc784\\ub300\",\"\\uad6d\\ubbfc\\uc784\\ub300\",\"\\uad6d\\ubbfc\\uc784\\ub300\",\"\\uad6d\\ubbfc\\uc784\\ub300\",\"\\uad6d\\ubbfc\\uc784\\ub300\",\"\\uad6d\\ubbfc\\uc784\\ub300\",\"\\uad6d\\ubbfc\\uc784\\ub300\",\"\\uad6d\\ubbfc\\uc784\\ub300\",\"\\uad6d\\ubbfc\\uc784\\ub300\",\"\\uad6d\\ubbfc\\uc784\\ub300\",\"\\uad6d\\ubbfc\\uc784\\ub300\",\"\\uad6d\\ubbfc\\uc784\\ub300\",\"\\uad6d\\ubbfc\\uc784\\ub300\",\"\\uad6d\\ubbfc\\uc784\\ub300\",\"\\uad6d\\ubbfc\\uc784\\ub300\",\"\\uad6d\\ubbfc\\uc784\\ub300\",\"\\uad6d\\ubbfc\\uc784\\ub300\",\"\\uad6d\\ubbfc\\uc784\\ub300\",\"\\uad6d\\ubbfc\\uc784\\ub300\",\"\\uad6d\\ubbfc\\uc784\\ub300\",\"\\uad6d\\ubbfc\\uc784\\ub300\",\"\\uad6d\\ubbfc\\uc784\\ub300\",\"\\uad6d\\ubbfc\\uc784\\ub300\",\"\\uad6d\\ubbfc\\uc784\\ub300\",\"\\uad6d\\ubbfc\\uc784\\ub300\",\"\\uad6d\\ubbfc\\uc784\\ub300\",\"\\uad6d\\ubbfc\\uc784\\ub300\",\"\\uad6d\\ubbfc\\uc784\\ub300\",\"\\uad6d\\ubbfc\\uc784\\ub300\",\"\\uad6d\\ubbfc\\uc784\\ub300\",\"\\uad6d\\ubbfc\\uc784\\ub300\",\"\\uad6d\\ubbfc\\uc784\\ub300\",\"\\uad6d\\ubbfc\\uc784\\ub300\",\"\\uad6d\\ubbfc\\uc784\\ub300\",\"\\uad6d\\ubbfc\\uc784\\ub300\",\"\\uad6d\\ubbfc\\uc784\\ub300\",\"\\uad6d\\ubbfc\\uc784\\ub300\",\"\\uad6d\\ubbfc\\uc784\\ub300\",\"\\uad6d\\ubbfc\\uc784\\ub300\",\"\\uad6d\\ubbfc\\uc784\\ub300\",\"\\uad6d\\ubbfc\\uc784\\ub300\",\"\\uad6d\\ubbfc\\uc784\\ub300\",\"\\uad6d\\ubbfc\\uc784\\ub300\",\"\\uad6d\\ubbfc\\uc784\\ub300\",\"\\uad6d\\ubbfc\\uc784\\ub300\",\"\\uad6d\\ubbfc\\uc784\\ub300\",\"\\uad6d\\ubbfc\\uc784\\ub300\",\"\\uad6d\\ubbfc\\uc784\\ub300\",\"\\uad6d\\ubbfc\\uc784\\ub300\",\"\\uad6d\\ubbfc\\uc784\\ub300\",\"\\uad6d\\ubbfc\\uc784\\ub300\",\"\\uad6d\\ubbfc\\uc784\\ub300\",\"\\uad6d\\ubbfc\\uc784\\ub300\",\"\\uad6d\\ubbfc\\uc784\\ub300\",\"\\uad6d\\ubbfc\\uc784\\ub300\",\"\\uad6d\\ubbfc\\uc784\\ub300\",\"\\uad6d\\ubbfc\\uc784\\ub300\",\"\\uad6d\\ubbfc\\uc784\\ub300\",\"\\uad6d\\ubbfc\\uc784\\ub300\",\"\\uad6d\\ubbfc\\uc784\\ub300\",\"\\uad6d\\ubbfc\\uc784\\ub300\",\"\\uad6d\\ubbfc\\uc784\\ub300\",\"\\uad6d\\ubbfc\\uc784\\ub300\",\"\\uad6d\\ubbfc\\uc784\\ub300\",\"\\uad6d\\ubbfc\\uc784\\ub300\",\"\\uad6d\\ubbfc\\uc784\\ub300\",\"\\uad6d\\ubbfc\\uc784\\ub300\",\"\\uad6d\\ubbfc\\uc784\\ub300\",\"\\uad6d\\ubbfc\\uc784\\ub300\",\"\\uad6d\\ubbfc\\uc784\\ub300\",\"\\uad6d\\ubbfc\\uc784\\ub300\",\"\\uad6d\\ubbfc\\uc784\\ub300\",\"\\uad6d\\ubbfc\\uc784\\ub300\",\"\\uad6d\\ubbfc\\uc784\\ub300\",\"\\uad6d\\ubbfc\\uc784\\ub300\",\"\\uad6d\\ubbfc\\uc784\\ub300\",\"\\uad6d\\ubbfc\\uc784\\ub300\",\"\\uad6d\\ubbfc\\uc784\\ub300\",\"\\uad6d\\ubbfc\\uc784\\ub300\",\"\\uad6d\\ubbfc\\uc784\\ub300\",\"\\uad6d\\ubbfc\\uc784\\ub300\",\"\\uad6d\\ubbfc\\uc784\\ub300\",\"\\uad6d\\ubbfc\\uc784\\ub300\",\"\\uad6d\\ubbfc\\uc784\\ub300\",\"\\uad6d\\ubbfc\\uc784\\ub300\",\"\\uad6d\\ubbfc\\uc784\\ub300\",\"\\uad6d\\ubbfc\\uc784\\ub300\",\"\\uad6d\\ubbfc\\uc784\\ub300\",\"\\uad6d\\ubbfc\\uc784\\ub300\",\"\\uad6d\\ubbfc\\uc784\\ub300\",\"\\uad6d\\ubbfc\\uc784\\ub300\",\"\\uad6d\\ubbfc\\uc784\\ub300\",\"\\uad6d\\ubbfc\\uc784\\ub300\",\"\\uad6d\\ubbfc\\uc784\\ub300\",\"\\uad6d\\ubbfc\\uc784\\ub300\",\"\\uad6d\\ubbfc\\uc784\\ub300\",\"\\uad6d\\ubbfc\\uc784\\ub300\",\"\\uad6d\\ubbfc\\uc784\\ub300\",\"\\uad6d\\ubbfc\\uc784\\ub300\",\"\\uad6d\\ubbfc\\uc784\\ub300\",\"\\uad6d\\ubbfc\\uc784\\ub300\",\"\\uad6d\\ubbfc\\uc784\\ub300\",\"\\uad6d\\ubbfc\\uc784\\ub300\",\"\\uad6d\\ubbfc\\uc784\\ub300\",\"\\uad6d\\ubbfc\\uc784\\ub300\",\"\\uad6d\\ubbfc\\uc784\\ub300\",\"\\uad6d\\ubbfc\\uc784\\ub300\",\"\\uad6d\\ubbfc\\uc784\\ub300\",\"\\uad6d\\ubbfc\\uc784\\ub300\",\"\\uad6d\\ubbfc\\uc784\\ub300\",\"\\uad6d\\ubbfc\\uc784\\ub300\",\"\\uad6d\\ubbfc\\uc784\\ub300\",\"\\uad6d\\ubbfc\\uc784\\ub300\",\"\\uad6d\\ubbfc\\uc784\\ub300\",\"\\uad6d\\ubbfc\\uc784\\ub300\",\"\\uad6d\\ubbfc\\uc784\\ub300\",\"\\uad6d\\ubbfc\\uc784\\ub300\",\"\\uad6d\\ubbfc\\uc784\\ub300\",\"\\uad6d\\ubbfc\\uc784\\ub300\",\"\\uad6d\\ubbfc\\uc784\\ub300\",\"\\uad6d\\ubbfc\\uc784\\ub300\",\"\\uad6d\\ubbfc\\uc784\\ub300\",\"\\uad6d\\ubbfc\\uc784\\ub300\",\"\\uad6d\\ubbfc\\uc784\\ub300\",\"\\uad6d\\ubbfc\\uc784\\ub300\",\"\\uad6d\\ubbfc\\uc784\\ub300\",\"\\uad6d\\ubbfc\\uc784\\ub300\",\"\\uad6d\\ubbfc\\uc784\\ub300\",\"\\uad6d\\ubbfc\\uc784\\ub300\",\"\\uad6d\\ubbfc\\uc784\\ub300\",\"\\uad6d\\ubbfc\\uc784\\ub300\",\"\\uad6d\\ubbfc\\uc784\\ub300\",\"\\uad6d\\ubbfc\\uc784\\ub300\",\"\\uad6d\\ubbfc\\uc784\\ub300\",\"\\uad6d\\ubbfc\\uc784\\ub300\",\"\\uad6d\\ubbfc\\uc784\\ub300\",\"\\uad6d\\ubbfc\\uc784\\ub300\",\"\\uad6d\\ubbfc\\uc784\\ub300\",\"\\uad6d\\ubbfc\\uc784\\ub300\",\"\\uad6d\\ubbfc\\uc784\\ub300\",\"\\uad6d\\ubbfc\\uc784\\ub300\",\"\\uad6d\\ubbfc\\uc784\\ub300\",\"\\uad6d\\ubbfc\\uc784\\ub300\",\"\\uad6d\\ubbfc\\uc784\\ub300\",\"\\uad6d\\ubbfc\\uc784\\ub300\",\"\\uad6d\\ubbfc\\uc784\\ub300\",\"\\uad6d\\ubbfc\\uc784\\ub300\",\"\\uad6d\\ubbfc\\uc784\\ub300\",\"\\uad6d\\ubbfc\\uc784\\ub300\",\"\\uad6d\\ubbfc\\uc784\\ub300\",\"\\uad6d\\ubbfc\\uc784\\ub300\",\"\\uad6d\\ubbfc\\uc784\\ub300\",\"\\uad6d\\ubbfc\\uc784\\ub300\",\"\\uad6d\\ubbfc\\uc784\\ub300\",\"\\uad6d\\ubbfc\\uc784\\ub300\",\"\\uad6d\\ubbfc\\uc784\\ub300\",\"\\uad6d\\ubbfc\\uc784\\ub300\",\"\\uad6d\\ubbfc\\uc784\\ub300\",\"\\uad6d\\ubbfc\\uc784\\ub300\",\"\\uad6d\\ubbfc\\uc784\\ub300\",\"\\uad6d\\ubbfc\\uc784\\ub300\",\"\\uad6d\\ubbfc\\uc784\\ub300\",\"\\uad6d\\ubbfc\\uc784\\ub300\",\"\\uad6d\\ubbfc\\uc784\\ub300\",\"\\uad6d\\ubbfc\\uc784\\ub300\",\"\\uad6d\\ubbfc\\uc784\\ub300\",\"\\uad6d\\ubbfc\\uc784\\ub300\",\"\\uad6d\\ubbfc\\uc784\\ub300\",\"\\uad6d\\ubbfc\\uc784\\ub300\",\"\\uad6d\\ubbfc\\uc784\\ub300\",\"\\uad6d\\ubbfc\\uc784\\ub300\",\"\\uad6d\\ubbfc\\uc784\\ub300\",\"\\uad6d\\ubbfc\\uc784\\ub300\",\"\\uad6d\\ubbfc\\uc784\\ub300\",\"\\uad6d\\ubbfc\\uc784\\ub300\",\"\\uad6d\\ubbfc\\uc784\\ub300\",\"\\uad6d\\ubbfc\\uc784\\ub300\",\"\\uad6d\\ubbfc\\uc784\\ub300\",\"\\uad6d\\ubbfc\\uc784\\ub300\",\"\\uad6d\\ubbfc\\uc784\\ub300\",\"\\uad6d\\ubbfc\\uc784\\ub300\",\"\\uad6d\\ubbfc\\uc784\\ub300\",\"\\uad6d\\ubbfc\\uc784\\ub300\",\"\\uad6d\\ubbfc\\uc784\\ub300\",\"\\uad6d\\ubbfc\\uc784\\ub300\",\"\\uad6d\\ubbfc\\uc784\\ub300\",\"\\uad6d\\ubbfc\\uc784\\ub300\",\"\\uad6d\\ubbfc\\uc784\\ub300\",\"\\uad6d\\ubbfc\\uc784\\ub300\",\"\\uad6d\\ubbfc\\uc784\\ub300\",\"\\uad6d\\ubbfc\\uc784\\ub300\",\"\\uad6d\\ubbfc\\uc784\\ub300\",\"\\uad6d\\ubbfc\\uc784\\ub300\",\"\\uad6d\\ubbfc\\uc784\\ub300\",\"\\uad6d\\ubbfc\\uc784\\ub300\",\"\\uad6d\\ubbfc\\uc784\\ub300\",\"\\uad6d\\ubbfc\\uc784\\ub300\",\"\\uad6d\\ubbfc\\uc784\\ub300\",\"\\uad6d\\ubbfc\\uc784\\ub300\",\"\\uad6d\\ubbfc\\uc784\\ub300\",\"\\uad6d\\ubbfc\\uc784\\ub300\",\"\\uad6d\\ubbfc\\uc784\\ub300\",\"\\uad6d\\ubbfc\\uc784\\ub300\",\"\\uad6d\\ubbfc\\uc784\\ub300\",\"\\uad6d\\ubbfc\\uc784\\ub300\",\"\\uad6d\\ubbfc\\uc784\\ub300\",\"\\uad6d\\ubbfc\\uc784\\ub300\",\"\\uad6d\\ubbfc\\uc784\\ub300\",\"\\uad6d\\ubbfc\\uc784\\ub300\",\"\\uad6d\\ubbfc\\uc784\\ub300\",\"\\uad6d\\ubbfc\\uc784\\ub300\",\"\\uad6d\\ubbfc\\uc784\\ub300\",\"\\uad6d\\ubbfc\\uc784\\ub300\",\"\\uad6d\\ubbfc\\uc784\\ub300\",\"\\uad6d\\ubbfc\\uc784\\ub300\",\"\\uad6d\\ubbfc\\uc784\\ub300\",\"\\uad6d\\ubbfc\\uc784\\ub300\",\"\\uad6d\\ubbfc\\uc784\\ub300\",\"\\uad6d\\ubbfc\\uc784\\ub300\",\"\\uad6d\\ubbfc\\uc784\\ub300\",\"\\uad6d\\ubbfc\\uc784\\ub300\",\"\\uad6d\\ubbfc\\uc784\\ub300\",\"\\uad6d\\ubbfc\\uc784\\ub300\",\"\\uad6d\\ubbfc\\uc784\\ub300\",\"\\uad6d\\ubbfc\\uc784\\ub300\",\"\\uad6d\\ubbfc\\uc784\\ub300\",\"\\uad6d\\ubbfc\\uc784\\ub300\",\"\\uad6d\\ubbfc\\uc784\\ub300\",\"\\uad6d\\ubbfc\\uc784\\ub300\",\"\\uad6d\\ubbfc\\uc784\\ub300\",\"\\uad6d\\ubbfc\\uc784\\ub300\",\"\\uad6d\\ubbfc\\uc784\\ub300\",\"\\uad6d\\ubbfc\\uc784\\ub300\",\"\\uad6d\\ubbfc\\uc784\\ub300\",\"\\uad6d\\ubbfc\\uc784\\ub300\",\"\\uad6d\\ubbfc\\uc784\\ub300\",\"\\uad6d\\ubbfc\\uc784\\ub300\",\"\\uad6d\\ubbfc\\uc784\\ub300\",\"\\uad6d\\ubbfc\\uc784\\ub300\",\"\\uad6d\\ubbfc\\uc784\\ub300\",\"\\uad6d\\ubbfc\\uc784\\ub300\",\"\\uad6d\\ubbfc\\uc784\\ub300\",\"\\uad6d\\ubbfc\\uc784\\ub300\",\"\\uad6d\\ubbfc\\uc784\\ub300\",\"\\uad6d\\ubbfc\\uc784\\ub300\",\"\\uad6d\\ubbfc\\uc784\\ub300\",\"\\uad6d\\ubbfc\\uc784\\ub300\",\"\\uad6d\\ubbfc\\uc784\\ub300\",\"\\uad6d\\ubbfc\\uc784\\ub300\",\"\\uad6d\\ubbfc\\uc784\\ub300\",\"\\uad6d\\ubbfc\\uc784\\ub300\",\"\\uad6d\\ubbfc\\uc784\\ub300\",\"\\uad6d\\ubbfc\\uc784\\ub300\",\"\\uad6d\\ubbfc\\uc784\\ub300\",\"\\uad6d\\ubbfc\\uc784\\ub300\",\"\\uad6d\\ubbfc\\uc784\\ub300\",\"\\uad6d\\ubbfc\\uc784\\ub300\",\"\\uad6d\\ubbfc\\uc784\\ub300\",\"\\uad6d\\ubbfc\\uc784\\ub300\",\"\\uad6d\\ubbfc\\uc784\\ub300\",\"\\uad6d\\ubbfc\\uc784\\ub300\",\"\\uad6d\\ubbfc\\uc784\\ub300\",\"\\uad6d\\ubbfc\\uc784\\ub300\",\"\\uad6d\\ubbfc\\uc784\\ub300\",\"\\uad6d\\ubbfc\\uc784\\ub300\",\"\\uad6d\\ubbfc\\uc784\\ub300\",\"\\uad6d\\ubbfc\\uc784\\ub300\",\"\\uad6d\\ubbfc\\uc784\\ub300\",\"\\uad6d\\ubbfc\\uc784\\ub300\",\"\\uad6d\\ubbfc\\uc784\\ub300\",\"\\uad6d\\ubbfc\\uc784\\ub300\",\"\\uad6d\\ubbfc\\uc784\\ub300\",\"\\uad6d\\ubbfc\\uc784\\ub300\",\"\\uad6d\\ubbfc\\uc784\\ub300\",\"\\uad6d\\ubbfc\\uc784\\ub300\",\"\\uad6d\\ubbfc\\uc784\\ub300\",\"\\uad6d\\ubbfc\\uc784\\ub300\",\"\\uad6d\\ubbfc\\uc784\\ub300\",\"\\uad6d\\ubbfc\\uc784\\ub300\",\"\\uad6d\\ubbfc\\uc784\\ub300\",\"\\uad6d\\ubbfc\\uc784\\ub300\",\"\\uad6d\\ubbfc\\uc784\\ub300\",\"\\uad6d\\ubbfc\\uc784\\ub300\",\"\\uad6d\\ubbfc\\uc784\\ub300\",\"\\uad6d\\ubbfc\\uc784\\ub300\",\"\\uad6d\\ubbfc\\uc784\\ub300\",\"\\uad6d\\ubbfc\\uc784\\ub300\",\"\\uad6d\\ubbfc\\uc784\\ub300\",\"\\uad6d\\ubbfc\\uc784\\ub300\",\"\\uad6d\\ubbfc\\uc784\\ub300\",\"\\uad6d\\ubbfc\\uc784\\ub300\",\"\\uad6d\\ubbfc\\uc784\\ub300\",\"\\uad6d\\ubbfc\\uc784\\ub300\",\"\\uad6d\\ubbfc\\uc784\\ub300\",\"\\uad6d\\ubbfc\\uc784\\ub300\",\"\\uad6d\\ubbfc\\uc784\\ub300\",\"\\uad6d\\ubbfc\\uc784\\ub300\",\"\\uad6d\\ubbfc\\uc784\\ub300\",\"\\uad6d\\ubbfc\\uc784\\ub300\",\"\\uad6d\\ubbfc\\uc784\\ub300\",\"\\uad6d\\ubbfc\\uc784\\ub300\",\"\\uad6d\\ubbfc\\uc784\\ub300\",\"\\uad6d\\ubbfc\\uc784\\ub300\",\"\\uad6d\\ubbfc\\uc784\\ub300\",\"\\uad6d\\ubbfc\\uc784\\ub300\",\"\\uad6d\\ubbfc\\uc784\\ub300\",\"\\uad6d\\ubbfc\\uc784\\ub300\",\"\\uad6d\\ubbfc\\uc784\\ub300\",\"\\uad6d\\ubbfc\\uc784\\ub300\",\"\\uad6d\\ubbfc\\uc784\\ub300\",\"\\uad6d\\ubbfc\\uc784\\ub300\",\"\\uad6d\\ubbfc\\uc784\\ub300\",\"\\uad6d\\ubbfc\\uc784\\ub300\",\"\\uad6d\\ubbfc\\uc784\\ub300\",\"\\uad6d\\ubbfc\\uc784\\ub300\",\"\\uad6d\\ubbfc\\uc784\\ub300\",\"\\uad6d\\ubbfc\\uc784\\ub300\",\"\\uad6d\\ubbfc\\uc784\\ub300\",\"\\uad6d\\ubbfc\\uc784\\ub300\",\"\\uad6d\\ubbfc\\uc784\\ub300\",\"\\uad6d\\ubbfc\\uc784\\ub300\",\"\\uad6d\\ubbfc\\uc784\\ub300\",\"\\uad6d\\ubbfc\\uc784\\ub300\",\"\\uad6d\\ubbfc\\uc784\\ub300\",\"\\uad6d\\ubbfc\\uc784\\ub300\",\"\\uad6d\\ubbfc\\uc784\\ub300\",\"\\uad6d\\ubbfc\\uc784\\ub300\",\"\\uad6d\\ubbfc\\uc784\\ub300\",\"\\uad6d\\ubbfc\\uc784\\ub300\",\"\\uad6d\\ubbfc\\uc784\\ub300\",\"\\uad6d\\ubbfc\\uc784\\ub300\",\"\\uad6d\\ubbfc\\uc784\\ub300\",\"\\uad6d\\ubbfc\\uc784\\ub300\",\"\\uad6d\\ubbfc\\uc784\\ub300\",\"\\uad6d\\ubbfc\\uc784\\ub300\",\"\\uad6d\\ubbfc\\uc784\\ub300\",\"\\uad6d\\ubbfc\\uc784\\ub300\",\"\\uad6d\\ubbfc\\uc784\\ub300\",\"\\uad6d\\ubbfc\\uc784\\ub300\",\"\\uad6d\\ubbfc\\uc784\\ub300\",\"\\uad6d\\ubbfc\\uc784\\ub300\",\"\\uad6d\\ubbfc\\uc784\\ub300\",\"\\uad6d\\ubbfc\\uc784\\ub300\",\"\\uad6d\\ubbfc\\uc784\\ub300\",\"\\uad6d\\ubbfc\\uc784\\ub300\",\"\\uad6d\\ubbfc\\uc784\\ub300\",\"\\uad6d\\ubbfc\\uc784\\ub300\",\"\\uad6d\\ubbfc\\uc784\\ub300\",\"\\uad6d\\ubbfc\\uc784\\ub300\",\"\\uad6d\\ubbfc\\uc784\\ub300\",\"\\uad6d\\ubbfc\\uc784\\ub300\",\"\\uad6d\\ubbfc\\uc784\\ub300\",\"\\uad6d\\ubbfc\\uc784\\ub300\",\"\\uad6d\\ubbfc\\uc784\\ub300\",\"\\uad6d\\ubbfc\\uc784\\ub300\",\"\\uad6d\\ubbfc\\uc784\\ub300\",\"\\uad6d\\ubbfc\\uc784\\ub300\",\"\\uad6d\\ubbfc\\uc784\\ub300\",\"\\uad6d\\ubbfc\\uc784\\ub300\",\"\\uad6d\\ubbfc\\uc784\\ub300\",\"\\uad6d\\ubbfc\\uc784\\ub300\",\"\\uad6d\\ubbfc\\uc784\\ub300\",\"\\uad6d\\ubbfc\\uc784\\ub300\",\"\\uad6d\\ubbfc\\uc784\\ub300\",\"\\uad6d\\ubbfc\\uc784\\ub300\",\"\\uad6d\\ubbfc\\uc784\\ub300\",\"\\uad6d\\ubbfc\\uc784\\ub300\",\"\\uad6d\\ubbfc\\uc784\\ub300\",\"\\uad6d\\ubbfc\\uc784\\ub300\",\"\\uad6d\\ubbfc\\uc784\\ub300\",\"\\uad6d\\ubbfc\\uc784\\ub300\",\"\\uad6d\\ubbfc\\uc784\\ub300\",\"\\uad6d\\ubbfc\\uc784\\ub300\",\"\\uad6d\\ubbfc\\uc784\\ub300\",\"\\uad6d\\ubbfc\\uc784\\ub300\",\"\\uad6d\\ubbfc\\uc784\\ub300\",\"\\uad6d\\ubbfc\\uc784\\ub300\",\"\\uad6d\\ubbfc\\uc784\\ub300\",\"\\uad6d\\ubbfc\\uc784\\ub300\",\"\\uad6d\\ubbfc\\uc784\\ub300\",\"\\uad6d\\ubbfc\\uc784\\ub300\",\"\\uad6d\\ubbfc\\uc784\\ub300\",\"\\uad6d\\ubbfc\\uc784\\ub300\",\"\\uad6d\\ubbfc\\uc784\\ub300\",\"\\uad6d\\ubbfc\\uc784\\ub300\",\"\\uad6d\\ubbfc\\uc784\\ub300\",\"\\uad6d\\ubbfc\\uc784\\ub300\",\"\\uad6d\\ubbfc\\uc784\\ub300\",\"\\uad6d\\ubbfc\\uc784\\ub300\",\"\\uad6d\\ubbfc\\uc784\\ub300\",\"\\uad6d\\ubbfc\\uc784\\ub300\",\"\\uad6d\\ubbfc\\uc784\\ub300\",\"\\uad6d\\ubbfc\\uc784\\ub300\",\"\\uad6d\\ubbfc\\uc784\\ub300\",\"\\uad6d\\ubbfc\\uc784\\ub300\",\"\\uad6d\\ubbfc\\uc784\\ub300\",\"\\uad6d\\ubbfc\\uc784\\ub300\",\"\\uad6d\\ubbfc\\uc784\\ub300\",\"\\uad6d\\ubbfc\\uc784\\ub300\",\"\\uad6d\\ubbfc\\uc784\\ub300\",\"\\uad6d\\ubbfc\\uc784\\ub300\",\"\\uad6d\\ubbfc\\uc784\\ub300\",\"\\uad6d\\ubbfc\\uc784\\ub300\",\"\\uad6d\\ubbfc\\uc784\\ub300\",\"\\uad6d\\ubbfc\\uc784\\ub300\",\"\\uad6d\\ubbfc\\uc784\\ub300\",\"\\uad6d\\ubbfc\\uc784\\ub300\",\"\\uad6d\\ubbfc\\uc784\\ub300\",\"\\uad6d\\ubbfc\\uc784\\ub300\",\"\\uad6d\\ubbfc\\uc784\\ub300\",\"\\uad6d\\ubbfc\\uc784\\ub300\",\"\\uad6d\\ubbfc\\uc784\\ub300\",\"\\uad6d\\ubbfc\\uc784\\ub300\",\"\\uad6d\\ubbfc\\uc784\\ub300\",\"\\uad6d\\ubbfc\\uc784\\ub300\",\"\\uad6d\\ubbfc\\uc784\\ub300\",\"\\uad6d\\ubbfc\\uc784\\ub300\",\"\\uad6d\\ubbfc\\uc784\\ub300\",\"\\uad6d\\ubbfc\\uc784\\ub300\",\"\\uad6d\\ubbfc\\uc784\\ub300\",\"\\uad6d\\ubbfc\\uc784\\ub300\",\"\\uad6d\\ubbfc\\uc784\\ub300\",\"\\uad6d\\ubbfc\\uc784\\ub300\",\"\\uad6d\\ubbfc\\uc784\\ub300\",\"\\uad6d\\ubbfc\\uc784\\ub300\",\"\\uad6d\\ubbfc\\uc784\\ub300\",\"\\uad6d\\ubbfc\\uc784\\ub300\",\"\\uad6d\\ubbfc\\uc784\\ub300\",\"\\uad6d\\ubbfc\\uc784\\ub300\",\"\\uad6d\\ubbfc\\uc784\\ub300\",\"\\uad6d\\ubbfc\\uc784\\ub300\",\"\\uad6d\\ubbfc\\uc784\\ub300\",\"\\uad6d\\ubbfc\\uc784\\ub300\",\"\\uad6d\\ubbfc\\uc784\\ub300\",\"\\uad6d\\ubbfc\\uc784\\ub300\",\"\\uad6d\\ubbfc\\uc784\\ub300\",\"\\uad6d\\ubbfc\\uc784\\ub300\",\"\\uad6d\\ubbfc\\uc784\\ub300\",\"\\uad6d\\ubbfc\\uc784\\ub300\",\"\\uad6d\\ubbfc\\uc784\\ub300\",\"\\uad6d\\ubbfc\\uc784\\ub300\",\"\\uad6d\\ubbfc\\uc784\\ub300\",\"\\uad6d\\ubbfc\\uc784\\ub300\",\"\\uad6d\\ubbfc\\uc784\\ub300\",\"\\uad6d\\ubbfc\\uc784\\ub300\",\"\\uad6d\\ubbfc\\uc784\\ub300\",\"\\uad6d\\ubbfc\\uc784\\ub300\",\"\\uad6d\\ubbfc\\uc784\\ub300\",\"\\uad6d\\ubbfc\\uc784\\ub300\",\"\\uad6d\\ubbfc\\uc784\\ub300\",\"\\uad6d\\ubbfc\\uc784\\ub300\",\"\\uad6d\\ubbfc\\uc784\\ub300\",\"\\uad6d\\ubbfc\\uc784\\ub300\",\"\\uad6d\\ubbfc\\uc784\\ub300\",\"\\uad6d\\ubbfc\\uc784\\ub300\",\"\\uad6d\\ubbfc\\uc784\\ub300\",\"\\uad6d\\ubbfc\\uc784\\ub300\",\"\\uad6d\\ubbfc\\uc784\\ub300\",\"\\uad6d\\ubbfc\\uc784\\ub300\",\"\\uad6d\\ubbfc\\uc784\\ub300\",\"\\uad6d\\ubbfc\\uc784\\ub300\",\"\\uad6d\\ubbfc\\uc784\\ub300\",\"\\uad6d\\ubbfc\\uc784\\ub300\",\"\\uad6d\\ubbfc\\uc784\\ub300\",\"\\uad6d\\ubbfc\\uc784\\ub300\",\"\\uad6d\\ubbfc\\uc784\\ub300\",\"\\uad6d\\ubbfc\\uc784\\ub300\",\"\\uad6d\\ubbfc\\uc784\\ub300\",\"\\uad6d\\ubbfc\\uc784\\ub300\",\"\\uad6d\\ubbfc\\uc784\\ub300\",\"\\uad6d\\ubbfc\\uc784\\ub300\",\"\\uad6d\\ubbfc\\uc784\\ub300\",\"\\uad6d\\ubbfc\\uc784\\ub300\",\"\\uad6d\\ubbfc\\uc784\\ub300\",\"\\uad6d\\ubbfc\\uc784\\ub300\",\"\\uad6d\\ubbfc\\uc784\\ub300\",\"\\uad6d\\ubbfc\\uc784\\ub300\",\"\\uad6d\\ubbfc\\uc784\\ub300\",\"\\uad6d\\ubbfc\\uc784\\ub300\",\"\\uad6d\\ubbfc\\uc784\\ub300\",\"\\uad6d\\ubbfc\\uc784\\ub300\",\"\\uad6d\\ubbfc\\uc784\\ub300\",\"\\uad6d\\ubbfc\\uc784\\ub300\",\"\\uad6d\\ubbfc\\uc784\\ub300\",\"\\uad6d\\ubbfc\\uc784\\ub300\",\"\\uad6d\\ubbfc\\uc784\\ub300\",\"\\uad6d\\ubbfc\\uc784\\ub300\",\"\\uad6d\\ubbfc\\uc784\\ub300\",\"\\uad6d\\ubbfc\\uc784\\ub300\",\"\\uad6d\\ubbfc\\uc784\\ub300\",\"\\uad6d\\ubbfc\\uc784\\ub300\",\"\\uad6d\\ubbfc\\uc784\\ub300\",\"\\uad6d\\ubbfc\\uc784\\ub300\",\"\\uad6d\\ubbfc\\uc784\\ub300\",\"\\uad6d\\ubbfc\\uc784\\ub300\",\"\\uad6d\\ubbfc\\uc784\\ub300\",\"\\uad6d\\ubbfc\\uc784\\ub300\",\"\\uad6d\\ubbfc\\uc784\\ub300\",\"\\uad6d\\ubbfc\\uc784\\ub300\",\"\\uad6d\\ubbfc\\uc784\\ub300\",\"\\uad6d\\ubbfc\\uc784\\ub300\",\"\\uad6d\\ubbfc\\uc784\\ub300\",\"\\uad6d\\ubbfc\\uc784\\ub300\",\"\\uad6d\\ubbfc\\uc784\\ub300\",\"\\uad6d\\ubbfc\\uc784\\ub300\",\"\\uad6d\\ubbfc\\uc784\\ub300\",\"\\uad6d\\ubbfc\\uc784\\ub300\",\"\\uad6d\\ubbfc\\uc784\\ub300\",\"\\uad6d\\ubbfc\\uc784\\ub300\",\"\\uad6d\\ubbfc\\uc784\\ub300\",\"\\uad6d\\ubbfc\\uc784\\ub300\",\"\\uad6d\\ubbfc\\uc784\\ub300\",\"\\uad6d\\ubbfc\\uc784\\ub300\",\"\\uad6d\\ubbfc\\uc784\\ub300\",\"\\uad6d\\ubbfc\\uc784\\ub300\",\"\\uad6d\\ubbfc\\uc784\\ub300\",\"\\uad6d\\ubbfc\\uc784\\ub300\",\"\\uad6d\\ubbfc\\uc784\\ub300\",\"\\uad6d\\ubbfc\\uc784\\ub300\",\"\\uad6d\\ubbfc\\uc784\\ub300\",\"\\uad6d\\ubbfc\\uc784\\ub300\",\"\\uad6d\\ubbfc\\uc784\\ub300\",\"\\uad6d\\ubbfc\\uc784\\ub300\",\"\\uad6d\\ubbfc\\uc784\\ub300\",\"\\uad6d\\ubbfc\\uc784\\ub300\",\"\\uad6d\\ubbfc\\uc784\\ub300\",\"\\uad6d\\ubbfc\\uc784\\ub300\",\"\\uad6d\\ubbfc\\uc784\\ub300\",\"\\uad6d\\ubbfc\\uc784\\ub300\",\"\\uad6d\\ubbfc\\uc784\\ub300\",\"\\uad6d\\ubbfc\\uc784\\ub300\",\"\\uad6d\\ubbfc\\uc784\\ub300\",\"\\uad6d\\ubbfc\\uc784\\ub300\",\"\\uad6d\\ubbfc\\uc784\\ub300\",\"\\uad6d\\ubbfc\\uc784\\ub300\",\"\\uad6d\\ubbfc\\uc784\\ub300\",\"\\uad6d\\ubbfc\\uc784\\ub300\",\"\\uad6d\\ubbfc\\uc784\\ub300\",\"\\uad6d\\ubbfc\\uc784\\ub300\",\"\\uad6d\\ubbfc\\uc784\\ub300\",\"\\uad6d\\ubbfc\\uc784\\ub300\",\"\\uad6d\\ubbfc\\uc784\\ub300\",\"\\uad6d\\ubbfc\\uc784\\ub300\",\"\\uad6d\\ubbfc\\uc784\\ub300\",\"\\uad6d\\ubbfc\\uc784\\ub300\",\"\\uad6d\\ubbfc\\uc784\\ub300\",\"\\uad6d\\ubbfc\\uc784\\ub300\",\"\\uad6d\\ubbfc\\uc784\\ub300\",\"\\uad6d\\ubbfc\\uc784\\ub300\",\"\\uad6d\\ubbfc\\uc784\\ub300\",\"\\uad6d\\ubbfc\\uc784\\ub300\",\"\\uad6d\\ubbfc\\uc784\\ub300\",\"\\uad6d\\ubbfc\\uc784\\ub300\",\"\\uad6d\\ubbfc\\uc784\\ub300\",\"\\uad6d\\ubbfc\\uc784\\ub300\",\"\\uad6d\\ubbfc\\uc784\\ub300\",\"\\uad6d\\ubbfc\\uc784\\ub300\",\"\\uad6d\\ubbfc\\uc784\\ub300\",\"\\uad6d\\ubbfc\\uc784\\ub300\",\"\\uad6d\\ubbfc\\uc784\\ub300\",\"\\uad6d\\ubbfc\\uc784\\ub300\",\"\\uad6d\\ubbfc\\uc784\\ub300\",\"\\uad6d\\ubbfc\\uc784\\ub300\",\"\\uad6d\\ubbfc\\uc784\\ub300\",\"\\uad6d\\ubbfc\\uc784\\ub300\",\"\\uad6d\\ubbfc\\uc784\\ub300\",\"\\uad6d\\ubbfc\\uc784\\ub300\",\"\\uad6d\\ubbfc\\uc784\\ub300\",\"\\uad6d\\ubbfc\\uc784\\ub300\",\"\\uad6d\\ubbfc\\uc784\\ub300\",\"\\uad6d\\ubbfc\\uc784\\ub300\",\"\\uad6d\\ubbfc\\uc784\\ub300\",\"\\uad6d\\ubbfc\\uc784\\ub300\",\"\\uad6d\\ubbfc\\uc784\\ub300\",\"\\uad6d\\ubbfc\\uc784\\ub300\",\"\\uad6d\\ubbfc\\uc784\\ub300\",\"\\uad6d\\ubbfc\\uc784\\ub300\",\"\\uad6d\\ubbfc\\uc784\\ub300\",\"\\uad6d\\ubbfc\\uc784\\ub300\",\"\\uad6d\\ubbfc\\uc784\\ub300\",\"\\uad6d\\ubbfc\\uc784\\ub300\",\"\\uad6d\\ubbfc\\uc784\\ub300\",\"\\uad6d\\ubbfc\\uc784\\ub300\",\"\\uad6d\\ubbfc\\uc784\\ub300\",\"\\uad6d\\ubbfc\\uc784\\ub300\",\"\\uad6d\\ubbfc\\uc784\\ub300\",\"\\uad6d\\ubbfc\\uc784\\ub300\",\"\\uad6d\\ubbfc\\uc784\\ub300\",\"\\uacf5\\uacf5\\uc784\\ub300(10\\ub144)\",\"\\uacf5\\uacf5\\uc784\\ub300(10\\ub144)\",\"\\uacf5\\uacf5\\uc784\\ub300(\\ubd84\\ub0a9)\",\"\\uacf5\\uacf5\\uc784\\ub300(\\ubd84\\ub0a9)\",\"\\uacf5\\uacf5\\uc784\\ub300(\\ubd84\\ub0a9)\",\"\\uacf5\\uacf5\\uc784\\ub300(\\ubd84\\ub0a9)\",\"\\uad6d\\ubbfc\\uc784\\ub300\",\"\\uad6d\\ubbfc\\uc784\\ub300\",\"\\uad6d\\ubbfc\\uc784\\ub300\",\"\\uad6d\\ubbfc\\uc784\\ub300\",\"\\uad6d\\ubbfc\\uc784\\ub300\",\"\\uad6d\\ubbfc\\uc784\\ub300\",\"\\uad6d\\ubbfc\\uc784\\ub300\",\"\\uad6d\\ubbfc\\uc784\\ub300\",\"\\uad6d\\ubbfc\\uc784\\ub300\",\"\\uad6d\\ubbfc\\uc784\\ub300\",\"\\uad6d\\ubbfc\\uc784\\ub300\",\"\\uad6d\\ubbfc\\uc784\\ub300\",\"\\uad6d\\ubbfc\\uc784\\ub300\",\"\\uad6d\\ubbfc\\uc784\\ub300\",\"\\uad6d\\ubbfc\\uc784\\ub300\",\"\\uad6d\\ubbfc\\uc784\\ub300\",\"\\uad6d\\ubbfc\\uc784\\ub300\",\"\\uad6d\\ubbfc\\uc784\\ub300\",\"\\uad6d\\ubbfc\\uc784\\ub300\",\"\\uad6d\\ubbfc\\uc784\\ub300\",\"\\uad6d\\ubbfc\\uc784\\ub300\",\"\\uad6d\\ubbfc\\uc784\\ub300\",\"\\uad6d\\ubbfc\\uc784\\ub300\",\"\\uad6d\\ubbfc\\uc784\\ub300\",\"\\uad6d\\ubbfc\\uc784\\ub300\",\"\\uad6d\\ubbfc\\uc784\\ub300\",\"\\uad6d\\ubbfc\\uc784\\ub300\",\"\\uad6d\\ubbfc\\uc784\\ub300\",\"\\uad6d\\ubbfc\\uc784\\ub300\",\"\\uad6d\\ubbfc\\uc784\\ub300\",\"\\uad6d\\ubbfc\\uc784\\ub300\",\"\\uad6d\\ubbfc\\uc784\\ub300\",\"\\uad6d\\ubbfc\\uc784\\ub300\",\"\\uad6d\\ubbfc\\uc784\\ub300\",\"\\uad6d\\ubbfc\\uc784\\ub300\",\"\\uad6d\\ubbfc\\uc784\\ub300\",\"\\uad6d\\ubbfc\\uc784\\ub300\",\"\\uad6d\\ubbfc\\uc784\\ub300\",\"\\uad6d\\ubbfc\\uc784\\ub300\",\"\\uad6d\\ubbfc\\uc784\\ub300\",\"\\uad6d\\ubbfc\\uc784\\ub300\",\"\\uad6d\\ubbfc\\uc784\\ub300\",\"\\uad6d\\ubbfc\\uc784\\ub300\",\"\\uad6d\\ubbfc\\uc784\\ub300\",\"\\uad6d\\ubbfc\\uc784\\ub300\",\"\\uad6d\\ubbfc\\uc784\\ub300\",\"\\uad6d\\ubbfc\\uc784\\ub300\",\"\\uad6d\\ubbfc\\uc784\\ub300\",\"\\uad6d\\ubbfc\\uc784\\ub300\",\"\\uad6d\\ubbfc\\uc784\\ub300\",\"\\uad6d\\ubbfc\\uc784\\ub300\",\"\\uad6d\\ubbfc\\uc784\\ub300\",\"\\uad6d\\ubbfc\\uc784\\ub300\",\"\\uad6d\\ubbfc\\uc784\\ub300\",\"\\uad6d\\ubbfc\\uc784\\ub300\",\"\\uad6d\\ubbfc\\uc784\\ub300\",\"\\uad6d\\ubbfc\\uc784\\ub300\",\"\\uad6d\\ubbfc\\uc784\\ub300\",\"\\uad6d\\ubbfc\\uc784\\ub300\",\"\\uad6d\\ubbfc\\uc784\\ub300\",\"\\uad6d\\ubbfc\\uc784\\ub300\",\"\\uad6d\\ubbfc\\uc784\\ub300\",\"\\uad6d\\ubbfc\\uc784\\ub300\",\"\\uad6d\\ubbfc\\uc784\\ub300\",\"\\uad6d\\ubbfc\\uc784\\ub300\",\"\\uad6d\\ubbfc\\uc784\\ub300\",\"\\uad6d\\ubbfc\\uc784\\ub300\",\"\\uad6d\\ubbfc\\uc784\\ub300\",\"\\uad6d\\ubbfc\\uc784\\ub300\",\"\\uad6d\\ubbfc\\uc784\\ub300\",\"\\uad6d\\ubbfc\\uc784\\ub300\",\"\\uad6d\\ubbfc\\uc784\\ub300\",\"\\uad6d\\ubbfc\\uc784\\ub300\",\"\\uad6d\\ubbfc\\uc784\\ub300\",\"\\uad6d\\ubbfc\\uc784\\ub300\",\"\\uad6d\\ubbfc\\uc784\\ub300\",\"\\uacf5\\uacf5\\uc784\\ub300(10\\ub144)\",\"\\uacf5\\uacf5\\uc784\\ub300(10\\ub144)\",\"\\uacf5\\uacf5\\uc784\\ub300(10\\ub144)\",\"\\uacf5\\uacf5\\uc784\\ub300(10\\ub144)\",\"\\uad6d\\ubbfc\\uc784\\ub300\",\"\\uad6d\\ubbfc\\uc784\\ub300\",\"\\uad6d\\ubbfc\\uc784\\ub300\",\"\\uad6d\\ubbfc\\uc784\\ub300\",\"\\uc601\\uad6c\\uc784\\ub300\",\"\\uc601\\uad6c\\uc784\\ub300\",\"\\uad6d\\ubbfc\\uc784\\ub300\",\"\\uad6d\\ubbfc\\uc784\\ub300\",\"\\uad6d\\ubbfc\\uc784\\ub300\",\"\\uad6d\\ubbfc\\uc784\\ub300\",\"\\uad6d\\ubbfc\\uc784\\ub300\",\"\\uad6d\\ubbfc\\uc784\\ub300\",\"\\uad6d\\ubbfc\\uc784\\ub300\",\"\\uad6d\\ubbfc\\uc784\\ub300\",\"\\uad6d\\ubbfc\\uc784\\ub300\",\"\\uad6d\\ubbfc\\uc784\\ub300\",\"\\uad6d\\ubbfc\\uc784\\ub300\",\"\\uad6d\\ubbfc\\uc784\\ub300\",\"\\uad6d\\ubbfc\\uc784\\ub300\",\"\\uad6d\\ubbfc\\uc784\\ub300\",\"\\uad6d\\ubbfc\\uc784\\ub300\",\"\\uad6d\\ubbfc\\uc784\\ub300\",\"\\uad6d\\ubbfc\\uc784\\ub300\",\"\\uad6d\\ubbfc\\uc784\\ub300\",\"\\uad6d\\ubbfc\\uc784\\ub300\",\"\\uad6d\\ubbfc\\uc784\\ub300\",\"\\uad6d\\ubbfc\\uc784\\ub300\",\"\\uad6d\\ubbfc\\uc784\\ub300\",\"\\uad6d\\ubbfc\\uc784\\ub300\",\"\\uad6d\\ubbfc\\uc784\\ub300\",\"\\uad6d\\ubbfc\\uc784\\ub300\",\"\\uad6d\\ubbfc\\uc784\\ub300\",\"\\uad6d\\ubbfc\\uc784\\ub300\",\"\\uad6d\\ubbfc\\uc784\\ub300\",\"\\uad6d\\ubbfc\\uc784\\ub300\",\"\\uc601\\uad6c\\uc784\\ub300\",\"\\uc601\\uad6c\\uc784\\ub300\",\"\\uc601\\uad6c\\uc784\\ub300\",\"\\uad6d\\ubbfc\\uc784\\ub300\",\"\\uad6d\\ubbfc\\uc784\\ub300\",\"\\uad6d\\ubbfc\\uc784\\ub300\",\"\\uad6d\\ubbfc\\uc784\\ub300\",\"\\uad6d\\ubbfc\\uc784\\ub300\",\"\\uad6d\\ubbfc\\uc784\\ub300\",\"\\uad6d\\ubbfc\\uc784\\ub300\",\"\\uad6d\\ubbfc\\uc784\\ub300\",\"\\uad6d\\ubbfc\\uc784\\ub300\",\"\\uad6d\\ubbfc\\uc784\\ub300\",\"\\uad6d\\ubbfc\\uc784\\ub300\",\"\\uad6d\\ubbfc\\uc784\\ub300\",\"\\uad6d\\ubbfc\\uc784\\ub300\",\"\\uc7a5\\uae30\\uc804\\uc138\",\"\\uc7a5\\uae30\\uc804\\uc138\",\"\\uc7a5\\uae30\\uc804\\uc138\",\"\\uad6d\\ubbfc\\uc784\\ub300\",\"\\uad6d\\ubbfc\\uc784\\ub300\",\"\\uad6d\\ubbfc\\uc784\\ub300\",\"\\uad6d\\ubbfc\\uc784\\ub300\",\"\\uad6d\\ubbfc\\uc784\\ub300\",\"\\uad6d\\ubbfc\\uc784\\ub300\",\"\\uc601\\uad6c\\uc784\\ub300\",\"\\uc601\\uad6c\\uc784\\ub300\",\"\\uad6d\\ubbfc\\uc784\\ub300\",\"\\uad6d\\ubbfc\\uc784\\ub300\",\"\\uad6d\\ubbfc\\uc784\\ub300\",\"\\uad6d\\ubbfc\\uc784\\ub300\",\"\\uad6d\\ubbfc\\uc784\\ub300\",\"\\uad6d\\ubbfc\\uc784\\ub300\",\"\\uad6d\\ubbfc\\uc784\\ub300\",\"\\uad6d\\ubbfc\\uc784\\ub300\",\"\\uad6d\\ubbfc\\uc784\\ub300\",\"\\uad6d\\ubbfc\\uc784\\ub300\",\"\\uad6d\\ubbfc\\uc784\\ub300\",\"\\uad6d\\ubbfc\\uc784\\ub300\",\"\\uad6d\\ubbfc\\uc784\\ub300\",\"\\uad6d\\ubbfc\\uc784\\ub300\",\"\\uad6d\\ubbfc\\uc784\\ub300\",\"\\uad6d\\ubbfc\\uc784\\ub300\",\"\\uad6d\\ubbfc\\uc784\\ub300\",\"\\uad6d\\ubbfc\\uc784\\ub300\",\"\\uad6d\\ubbfc\\uc784\\ub300\",\"\\uc601\\uad6c\\uc784\\ub300\",\"\\uc601\\uad6c\\uc784\\ub300\",\"\\uc601\\uad6c\\uc784\\ub300\",\"\\uc601\\uad6c\\uc784\\ub300\",\"\\uc601\\uad6c\\uc784\\ub300\",\"\\uad6d\\ubbfc\\uc784\\ub300\",\"\\uad6d\\ubbfc\\uc784\\ub300\",\"\\uad6d\\ubbfc\\uc784\\ub300\",\"\\uad6d\\ubbfc\\uc784\\ub300\",\"\\uad6d\\ubbfc\\uc784\\ub300\",\"\\uad6d\\ubbfc\\uc784\\ub300\",\"\\uad6d\\ubbfc\\uc784\\ub300\",\"\\uad6d\\ubbfc\\uc784\\ub300\",\"\\uad6d\\ubbfc\\uc784\\ub300\",\"\\uad6d\\ubbfc\\uc784\\ub300\",\"\\uc601\\uad6c\\uc784\\ub300\",\"\\uc601\\uad6c\\uc784\\ub300\",\"\\uc601\\uad6c\\uc784\\ub300\",\"\\uad6d\\ubbfc\\uc784\\ub300\",\"\\uad6d\\ubbfc\\uc784\\ub300\",\"\\uad6d\\ubbfc\\uc784\\ub300\",\"\\uad6d\\ubbfc\\uc784\\ub300\",\"\\uad6d\\ubbfc\\uc784\\ub300\",\"\\uad6d\\ubbfc\\uc784\\ub300\",\"\\uad6d\\ubbfc\\uc784\\ub300\",\"\\uad6d\\ubbfc\\uc784\\ub300\",\"\\uad6d\\ubbfc\\uc784\\ub300\",\"\\uad6d\\ubbfc\\uc784\\ub300\",\"\\uacf5\\uacf5\\uc784\\ub300(10\\ub144)\",\"\\uacf5\\uacf5\\uc784\\ub300(10\\ub144)\",\"\\uacf5\\uacf5\\uc784\\ub300(10\\ub144)\",\"\\uacf5\\uacf5\\uc784\\ub300(10\\ub144)\",\"\\uacf5\\uacf5\\uc784\\ub300(10\\ub144)\",\"\\uacf5\\uacf5\\uc784\\ub300(10\\ub144)\",\"\\uacf5\\uacf5\\uc784\\ub300(10\\ub144)\",\"\\uacf5\\uacf5\\uc784\\ub300(10\\ub144)\",\"\\uacf5\\uacf5\\uc784\\ub300(10\\ub144)\",\"\\uacf5\\uacf5\\uc784\\ub300(10\\ub144)\",\"\\uacf5\\uacf5\\uc784\\ub300(10\\ub144)\",\"\\uacf5\\uacf5\\uc784\\ub300(10\\ub144)\",\"\\uacf5\\uacf5\\uc784\\ub300(10\\ub144)\",\"\\uacf5\\uacf5\\uc784\\ub300(10\\ub144)\",\"\\uacf5\\uacf5\\uc784\\ub300(10\\ub144)\",\"\\uacf5\\uacf5\\uc784\\ub300(10\\ub144)\",\"\\uacf5\\uacf5\\uc784\\ub300(10\\ub144)\",\"\\uacf5\\uacf5\\uc784\\ub300(10\\ub144)\",\"\\uacf5\\uacf5\\uc784\\ub300(10\\ub144)\",\"\\uacf5\\uacf5\\uc784\\ub300(10\\ub144)\",\"\\uacf5\\uacf5\\uc784\\ub300(10\\ub144)\",\"\\uacf5\\uacf5\\uc784\\ub300(10\\ub144)\",\"\\uacf5\\uacf5\\uc784\\ub300(10\\ub144)\",\"\\uacf5\\uacf5\\uc784\\ub300(10\\ub144)\",\"\\uacf5\\uacf5\\uc784\\ub300(10\\ub144)\",\"\\uacf5\\uacf5\\uc784\\ub300(10\\ub144)\",\"\\uacf5\\uacf5\\uc784\\ub300(10\\ub144)\",\"\\uacf5\\uacf5\\uc784\\ub300(10\\ub144)\",\"\\uad6d\\ubbfc\\uc784\\ub300\",\"\\uad6d\\ubbfc\\uc784\\ub300\",\"\\uad6d\\ubbfc\\uc784\\ub300\",\"\\uad6d\\ubbfc\\uc784\\ub300\",\"\\uad6d\\ubbfc\\uc784\\ub300\",\"\\uad6d\\ubbfc\\uc784\\ub300\",\"\\uad6d\\ubbfc\\uc784\\ub300\",\"\\uad6d\\ubbfc\\uc784\\ub300\",\"\\uad6d\\ubbfc\\uc784\\ub300\",\"\\uad6d\\ubbfc\\uc784\\ub300\",\"\\uad6d\\ubbfc\\uc784\\ub300\",\"\\uad6d\\ubbfc\\uc784\\ub300\",\"\\uad6d\\ubbfc\\uc784\\ub300\",\"\\uad6d\\ubbfc\\uc784\\ub300\",\"\\uad6d\\ubbfc\\uc784\\ub300\",\"\\uad6d\\ubbfc\\uc784\\ub300\",\"\\uc601\\uad6c\\uc784\\ub300\",\"\\uc601\\uad6c\\uc784\\ub300\",\"\\uad6d\\ubbfc\\uc784\\ub300\",\"\\uad6d\\ubbfc\\uc784\\ub300\",\"\\uad6d\\ubbfc\\uc784\\ub300\",\"\\uad6d\\ubbfc\\uc784\\ub300\",\"\\uad6d\\ubbfc\\uc784\\ub300\",\"\\uad6d\\ubbfc\\uc784\\ub300\",\"\\uad6d\\ubbfc\\uc784\\ub300\",\"\\uad6d\\ubbfc\\uc784\\ub300\",\"\\uad6d\\ubbfc\\uc784\\ub300\",\"\\uad6d\\ubbfc\\uc784\\ub300\",\"\\uacf5\\uacf5\\uc784\\ub300(10\\ub144)\",\"\\uacf5\\uacf5\\uc784\\ub300(10\\ub144)\",\"\\uacf5\\uacf5\\uc784\\ub300(10\\ub144)\",\"\\uad6d\\ubbfc\\uc784\\ub300\",\"\\uad6d\\ubbfc\\uc784\\ub300\",\"\\uad6d\\ubbfc\\uc784\\ub300\",\"\\uad6d\\ubbfc\\uc784\\ub300\",\"\\uc601\\uad6c\\uc784\\ub300\",\"\\uc601\\uad6c\\uc784\\ub300\",\"\\uad6d\\ubbfc\\uc784\\ub300\",\"\\uad6d\\ubbfc\\uc784\\ub300\",\"\\uad6d\\ubbfc\\uc784\\ub300\",\"\\uad6d\\ubbfc\\uc784\\ub300\",\"\\uad6d\\ubbfc\\uc784\\ub300\",\"\\uad6d\\ubbfc\\uc784\\ub300\",\"\\uad6d\\ubbfc\\uc784\\ub300\",\"\\uad6d\\ubbfc\\uc784\\ub300\",\"\\uad6d\\ubbfc\\uc784\\ub300\",\"\\uad6d\\ubbfc\\uc784\\ub300\",\"\\uad6d\\ubbfc\\uc784\\ub300\",\"\\uad6d\\ubbfc\\uc784\\ub300\",\"\\uad6d\\ubbfc\\uc784\\ub300\",\"\\uad6d\\ubbfc\\uc784\\ub300\",\"\\uad6d\\ubbfc\\uc784\\ub300\",\"\\uad6d\\ubbfc\\uc784\\ub300\",\"\\uad6d\\ubbfc\\uc784\\ub300\",\"\\uad6d\\ubbfc\\uc784\\ub300\",\"\\uad6d\\ubbfc\\uc784\\ub300\",\"\\uad6d\\ubbfc\\uc784\\ub300\",\"\\uad6d\\ubbfc\\uc784\\ub300\",\"\\uad6d\\ubbfc\\uc784\\ub300\",\"\\uad6d\\ubbfc\\uc784\\ub300\",\"\\uad6d\\ubbfc\\uc784\\ub300\",\"\\uad6d\\ubbfc\\uc784\\ub300\",\"\\uad6d\\ubbfc\\uc784\\ub300\",\"\\uad6d\\ubbfc\\uc784\\ub300\",\"\\uad6d\\ubbfc\\uc784\\ub300\",\"\\uad6d\\ubbfc\\uc784\\ub300\",\"\\uad6d\\ubbfc\\uc784\\ub300\",\"\\uad6d\\ubbfc\\uc784\\ub300\",\"\\uad6d\\ubbfc\\uc784\\ub300\",\"\\uad6d\\ubbfc\\uc784\\ub300\",\"\\uad6d\\ubbfc\\uc784\\ub300\",\"\\uad6d\\ubbfc\\uc784\\ub300\",\"\\uad6d\\ubbfc\\uc784\\ub300\",\"\\uad6d\\ubbfc\\uc784\\ub300\",\"\\uad6d\\ubbfc\\uc784\\ub300\",\"\\uad6d\\ubbfc\\uc784\\ub300\",\"\\uad6d\\ubbfc\\uc784\\ub300\",\"\\uad6d\\ubbfc\\uc784\\ub300\",\"\\uad6d\\ubbfc\\uc784\\ub300\",\"\\uad6d\\ubbfc\\uc784\\ub300\",\"\\uad6d\\ubbfc\\uc784\\ub300\",\"\\uad6d\\ubbfc\\uc784\\ub300\",\"\\uad6d\\ubbfc\\uc784\\ub300\",\"\\uad6d\\ubbfc\\uc784\\ub300\",\"\\uad6d\\ubbfc\\uc784\\ub300\",\"\\uad6d\\ubbfc\\uc784\\ub300\",\"\\uad6d\\ubbfc\\uc784\\ub300\",\"\\uad6d\\ubbfc\\uc784\\ub300\",\"\\uad6d\\ubbfc\\uc784\\ub300\",\"\\uc601\\uad6c\\uc784\\ub300\",\"\\uc601\\uad6c\\uc784\\ub300\",\"\\uc601\\uad6c\\uc784\\ub300\",\"\\uc601\\uad6c\\uc784\\ub300\",\"\\uc601\\uad6c\\uc784\\ub300\",\"\\uad6d\\ubbfc\\uc784\\ub300\",\"\\uad6d\\ubbfc\\uc784\\ub300\",\"\\uad6d\\ubbfc\\uc784\\ub300\",\"\\uad6d\\ubbfc\\uc784\\ub300\",\"\\uad6d\\ubbfc\\uc784\\ub300\",\"\\uad6d\\ubbfc\\uc784\\ub300\",\"\\uad6d\\ubbfc\\uc784\\ub300\",\"\\uad6d\\ubbfc\\uc784\\ub300\",\"\\uad6d\\ubbfc\\uc784\\ub300\",\"\\uad6d\\ubbfc\\uc784\\ub300\",\"\\uad6d\\ubbfc\\uc784\\ub300\",\"\\uad6d\\ubbfc\\uc784\\ub300\",\"\\uad6d\\ubbfc\\uc784\\ub300\",\"\\uad6d\\ubbfc\\uc784\\ub300\",\"\\uad6d\\ubbfc\\uc784\\ub300\",\"\\uad6d\\ubbfc\\uc784\\ub300\",\"\\uad6d\\ubbfc\\uc784\\ub300\",\"\\uad6d\\ubbfc\\uc784\\ub300\",\"\\uad6d\\ubbfc\\uc784\\ub300\",\"\\uacf5\\uacf5\\uc784\\ub300(10\\ub144)\",\"\\uacf5\\uacf5\\uc784\\ub300(10\\ub144)\",\"\\uacf5\\uacf5\\uc784\\ub300(10\\ub144)\",\"\\uacf5\\uacf5\\uc784\\ub300(10\\ub144)\",\"\\uacf5\\uacf5\\uc784\\ub300(10\\ub144)\",\"\\uacf5\\uacf5\\uc784\\ub300(10\\ub144)\",\"\\uacf5\\uacf5\\uc784\\ub300(10\\ub144)\",\"\\uacf5\\uacf5\\uc784\\ub300(10\\ub144)\",\"\\uacf5\\uacf5\\uc784\\ub300(10\\ub144)\",\"\\uacf5\\uacf5\\uc784\\ub300(10\\ub144)\",\"\\uacf5\\uacf5\\uc784\\ub300(10\\ub144)\",\"\\uacf5\\uacf5\\uc784\\ub300(10\\ub144)\",\"\\uacf5\\uacf5\\ubd84\\uc591\",\"\\uacf5\\uacf5\\ubd84\\uc591\",\"\\uacf5\\uacf5\\ubd84\\uc591\",\"\\uacf5\\uacf5\\ubd84\\uc591\",\"\\uacf5\\uacf5\\ubd84\\uc591\",\"\\uacf5\\uacf5\\ubd84\\uc591\",\"\\uacf5\\uacf5\\ubd84\\uc591\",\"\\uacf5\\uacf5\\uc784\\ub300(10\\ub144)\",\"\\uacf5\\uacf5\\uc784\\ub300(10\\ub144)\",\"\\uacf5\\uacf5\\uc784\\ub300(10\\ub144)\",\"\\uacf5\\uacf5\\uc784\\ub300(\\ubd84\\ub0a9)\",\"\\uacf5\\uacf5\\uc784\\ub300(\\ubd84\\ub0a9)\",\"\\uacf5\\uacf5\\uc784\\ub300(\\ubd84\\ub0a9)\",\"\\uacf5\\uacf5\\uc784\\ub300(10\\ub144)\",\"\\uacf5\\uacf5\\uc784\\ub300(10\\ub144)\",\"\\uacf5\\uacf5\\uc784\\ub300(10\\ub144)\",\"\\uacf5\\uacf5\\uc784\\ub300(10\\ub144)\",\"\\uacf5\\uacf5\\uc784\\ub300(10\\ub144)\",\"\\uad6d\\ubbfc\\uc784\\ub300\",\"\\uad6d\\ubbfc\\uc784\\ub300\",\"\\uad6d\\ubbfc\\uc784\\ub300\",\"\\uad6d\\ubbfc\\uc784\\ub300\",\"\\uacf5\\uacf5\\uc784\\ub300(10\\ub144)\",\"\\uacf5\\uacf5\\uc784\\ub300(10\\ub144)\",\"\\uacf5\\uacf5\\uc784\\ub300(10\\ub144)\",\"\\uacf5\\uacf5\\uc784\\ub300(10\\ub144)\",\"\\uacf5\\uacf5\\uc784\\ub300(10\\ub144)\",\"\\uacf5\\uacf5\\uc784\\ub300(10\\ub144)\",\"\\uacf5\\uacf5\\uc784\\ub300(10\\ub144)\",\"\\uacf5\\uacf5\\uc784\\ub300(10\\ub144)\",\"\\uad6d\\ubbfc\\uc784\\ub300\",\"\\uad6d\\ubbfc\\uc784\\ub300\",\"\\uad6d\\ubbfc\\uc784\\ub300\",\"\\uad6d\\ubbfc\\uc784\\ub300\",\"\\uad6d\\ubbfc\\uc784\\ub300\",\"\\uad6d\\ubbfc\\uc784\\ub300\",\"\\uad6d\\ubbfc\\uc784\\ub300\",\"\\uad6d\\ubbfc\\uc784\\ub300\",\"\\uad6d\\ubbfc\\uc784\\ub300\",\"\\uad6d\\ubbfc\\uc784\\ub300\",\"\\uad6d\\ubbfc\\uc784\\ub300\",\"\\uad6d\\ubbfc\\uc784\\ub300\",\"\\uad6d\\ubbfc\\uc784\\ub300\",\"\\uad6d\\ubbfc\\uc784\\ub300\",\"\\uad6d\\ubbfc\\uc784\\ub300\",\"\\uad6d\\ubbfc\\uc784\\ub300\",\"\\uad6d\\ubbfc\\uc784\\ub300\",\"\\uad6d\\ubbfc\\uc784\\ub300\",\"\\uad6d\\ubbfc\\uc784\\ub300\",\"\\uad6d\\ubbfc\\uc784\\ub300\",\"\\uad6d\\ubbfc\\uc784\\ub300\",\"\\uad6d\\ubbfc\\uc784\\ub300\",\"\\uad6d\\ubbfc\\uc784\\ub300\",\"\\uad6d\\ubbfc\\uc784\\ub300\",\"\\uad6d\\ubbfc\\uc784\\ub300\",\"\\uad6d\\ubbfc\\uc784\\ub300\",\"\\uad6d\\ubbfc\\uc784\\ub300\",\"\\uad6d\\ubbfc\\uc784\\ub300\",\"\\uad6d\\ubbfc\\uc784\\ub300\",\"\\uad6d\\ubbfc\\uc784\\ub300\",\"\\uad6d\\ubbfc\\uc784\\ub300\",\"\\uad6d\\ubbfc\\uc784\\ub300\",\"\\uad6d\\ubbfc\\uc784\\ub300\",\"\\uad6d\\ubbfc\\uc784\\ub300\",\"\\uc601\\uad6c\\uc784\\ub300\",\"\\uc601\\uad6c\\uc784\\ub300\",\"\\uc601\\uad6c\\uc784\\ub300\",\"\\uc601\\uad6c\\uc784\\ub300\",\"\\uc601\\uad6c\\uc784\\ub300\",\"\\uad6d\\ubbfc\\uc784\\ub300\",\"\\uad6d\\ubbfc\\uc784\\ub300\",\"\\uad6d\\ubbfc\\uc784\\ub300\",\"\\uad6d\\ubbfc\\uc784\\ub300\",\"\\uad6d\\ubbfc\\uc784\\ub300\",\"\\uad6d\\ubbfc\\uc784\\ub300\",\"\\uad6d\\ubbfc\\uc784\\ub300\",\"\\uad6d\\ubbfc\\uc784\\ub300\",\"\\uad6d\\ubbfc\\uc784\\ub300\",\"\\uad6d\\ubbfc\\uc784\\ub300\",\"\\uad6d\\ubbfc\\uc784\\ub300\",\"\\uad6d\\ubbfc\\uc784\\ub300\",\"\\uad6d\\ubbfc\\uc784\\ub300\",\"\\uc601\\uad6c\\uc784\\ub300\",\"\\uacf5\\uacf5\\uc784\\ub300(10\\ub144)\",\"\\uacf5\\uacf5\\uc784\\ub300(10\\ub144)\",\"\\uacf5\\uacf5\\uc784\\ub300(10\\ub144)\",\"\\uacf5\\uacf5\\uc784\\ub300(10\\ub144)\",\"\\uacf5\\uacf5\\uc784\\ub300(10\\ub144)\",\"\\uacf5\\uacf5\\uc784\\ub300(10\\ub144)\",\"\\uad6d\\ubbfc\\uc784\\ub300\",\"\\uad6d\\ubbfc\\uc784\\ub300\",\"\\uad6d\\ubbfc\\uc784\\ub300\",\"\\uad6d\\ubbfc\\uc784\\ub300\",\"\\uacf5\\uacf5\\uc784\\ub300(10\\ub144)\",\"\\uacf5\\uacf5\\uc784\\ub300(10\\ub144)\",\"\\uacf5\\uacf5\\uc784\\ub300(10\\ub144)\",\"\\uacf5\\uacf5\\uc784\\ub300(10\\ub144)\",\"\\uad6d\\ubbfc\\uc784\\ub300\",\"\\uad6d\\ubbfc\\uc784\\ub300\",\"\\uad6d\\ubbfc\\uc784\\ub300\",\"\\uacf5\\uacf5\\uc784\\ub300(10\\ub144)\",\"\\uacf5\\uacf5\\uc784\\ub300(10\\ub144)\",\"\\uacf5\\uacf5\\uc784\\ub300(10\\ub144)\",\"\\uacf5\\uacf5\\uc784\\ub300(10\\ub144)\",\"\\uacf5\\uacf5\\uc784\\ub300(10\\ub144)\",\"\\uacf5\\uacf5\\uc784\\ub300(10\\ub144)\",\"\\uacf5\\uacf5\\uc784\\ub300(10\\ub144)\",\"\\uad6d\\ubbfc\\uc784\\ub300\",\"\\uad6d\\ubbfc\\uc784\\ub300\",\"\\uad6d\\ubbfc\\uc784\\ub300\",\"\\uad6d\\ubbfc\\uc784\\ub300\",\"\\uad6d\\ubbfc\\uc784\\ub300\",\"\\uad6d\\ubbfc\\uc784\\ub300\",\"\\uad6d\\ubbfc\\uc784\\ub300\",\"\\uad6d\\ubbfc\\uc784\\ub300\",\"\\uad6d\\ubbfc\\uc784\\ub300\",\"\\uad6d\\ubbfc\\uc784\\ub300\",\"\\uad6d\\ubbfc\\uc784\\ub300\",\"\\uad6d\\ubbfc\\uc784\\ub300\",\"\\uad6d\\ubbfc\\uc784\\ub300\",\"\\uad6d\\ubbfc\\uc784\\ub300\",\"\\uad6d\\ubbfc\\uc784\\ub300\",\"\\uad6d\\ubbfc\\uc784\\ub300\",\"\\uad6d\\ubbfc\\uc784\\ub300\",\"\\uad6d\\ubbfc\\uc784\\ub300\",\"\\uad6d\\ubbfc\\uc784\\ub300\",\"\\uad6d\\ubbfc\\uc784\\ub300\",\"\\uad6d\\ubbfc\\uc784\\ub300\",\"\\uc601\\uad6c\\uc784\\ub300\",\"\\uc601\\uad6c\\uc784\\ub300\",\"\\uc601\\uad6c\\uc784\\ub300\",\"\\uc601\\uad6c\\uc784\\ub300\",\"\\uc601\\uad6c\\uc784\\ub300\",\"\\uad6d\\ubbfc\\uc784\\ub300\",\"\\uad6d\\ubbfc\\uc784\\ub300\",\"\\uad6d\\ubbfc\\uc784\\ub300\",\"\\uad6d\\ubbfc\\uc784\\ub300\",\"\\uad6d\\ubbfc\\uc784\\ub300\",\"\\uad6d\\ubbfc\\uc784\\ub300\",\"\\uad6d\\ubbfc\\uc784\\ub300\",\"\\uc601\\uad6c\\uc784\\ub300\",\"\\uc601\\uad6c\\uc784\\ub300\",\"\\uacf5\\uacf5\\uc784\\ub300(10\\ub144)\",\"\\uacf5\\uacf5\\uc784\\ub300(10\\ub144)\",\"\\uad6d\\ubbfc\\uc784\\ub300\",\"\\uad6d\\ubbfc\\uc784\\ub300\",\"\\uad6d\\ubbfc\\uc784\\ub300\",\"\\uad6d\\ubbfc\\uc784\\ub300\",\"\\uad6d\\ubbfc\\uc784\\ub300\",\"\\uad6d\\ubbfc\\uc784\\ub300\",\"\\uad6d\\ubbfc\\uc784\\ub300\",\"\\uad6d\\ubbfc\\uc784\\ub300\",\"\\uad6d\\ubbfc\\uc784\\ub300\",\"\\uad6d\\ubbfc\\uc784\\ub300\",\"\\uad6d\\ubbfc\\uc784\\ub300\",\"\\uad6d\\ubbfc\\uc784\\ub300\",\"\\uad6d\\ubbfc\\uc784\\ub300\",\"\\uad6d\\ubbfc\\uc784\\ub300\",\"\\uad6d\\ubbfc\\uc784\\ub300\",\"\\uad6d\\ubbfc\\uc784\\ub300\",\"\\uad6d\\ubbfc\\uc784\\ub300\",\"\\uad6d\\ubbfc\\uc784\\ub300\",\"\\uad6d\\ubbfc\\uc784\\ub300\",\"\\uad6d\\ubbfc\\uc784\\ub300\",\"\\uad6d\\ubbfc\\uc784\\ub300\",\"\\uad6d\\ubbfc\\uc784\\ub300\",\"\\uc601\\uad6c\\uc784\\ub300\",\"\\uc601\\uad6c\\uc784\\ub300\",\"\\uc601\\uad6c\\uc784\\ub300\",\"\\uad6d\\ubbfc\\uc784\\ub300\",\"\\uad6d\\ubbfc\\uc784\\ub300\",\"\\uad6d\\ubbfc\\uc784\\ub300\",\"\\uad6d\\ubbfc\\uc784\\ub300\",\"\\uad6d\\ubbfc\\uc784\\ub300\",\"\\uad6d\\ubbfc\\uc784\\ub300\",\"\\uad6d\\ubbfc\\uc784\\ub300\",\"\\uad6d\\ubbfc\\uc784\\ub300\",\"\\uad6d\\ubbfc\\uc784\\ub300\",\"\\ud589\\ubcf5\\uc8fc\\ud0dd\",\"\\ud589\\ubcf5\\uc8fc\\ud0dd\",\"\\ud589\\ubcf5\\uc8fc\\ud0dd\",\"\\ud589\\ubcf5\\uc8fc\\ud0dd\",\"\\ud589\\ubcf5\\uc8fc\\ud0dd\",\"\\uad6d\\ubbfc\\uc784\\ub300\",\"\\uad6d\\ubbfc\\uc784\\ub300\",\"\\uad6d\\ubbfc\\uc784\\ub300\",\"\\uad6d\\ubbfc\\uc784\\ub300\",\"\\uacf5\\uacf5\\uc784\\ub300(10\\ub144)\",\"\\uacf5\\uacf5\\uc784\\ub300(10\\ub144)\",\"\\uacf5\\uacf5\\uc784\\ub300(10\\ub144)\",\"\\uacf5\\uacf5\\uc784\\ub300(10\\ub144)\",\"\\uad6d\\ubbfc\\uc784\\ub300\",\"\\uad6d\\ubbfc\\uc784\\ub300\",\"\\uad6d\\ubbfc\\uc784\\ub300\",\"\\uad6d\\ubbfc\\uc784\\ub300\",\"\\uad6d\\ubbfc\\uc784\\ub300\",\"\\ud589\\ubcf5\\uc8fc\\ud0dd\",\"\\ud589\\ubcf5\\uc8fc\\ud0dd\",\"\\ud589\\ubcf5\\uc8fc\\ud0dd\",\"\\ud589\\ubcf5\\uc8fc\\ud0dd\",\"\\ud589\\ubcf5\\uc8fc\\ud0dd\",\"\\ud589\\ubcf5\\uc8fc\\ud0dd\",\"\\ud589\\ubcf5\\uc8fc\\ud0dd\",\"\\ud589\\ubcf5\\uc8fc\\ud0dd\",\"\\ud589\\ubcf5\\uc8fc\\ud0dd\",\"\\uad6d\\ubbfc\\uc784\\ub300\",\"\\uad6d\\ubbfc\\uc784\\ub300\",\"\\uad6d\\ubbfc\\uc784\\ub300\",\"\\uc601\\uad6c\\uc784\\ub300\",\"\\uc601\\uad6c\\uc784\\ub300\",\"\\uad6d\\ubbfc\\uc784\\ub300\",\"\\uad6d\\ubbfc\\uc784\\ub300\",\"\\uad6d\\ubbfc\\uc784\\ub300\",\"\\uc601\\uad6c\\uc784\\ub300\",\"\\uc601\\uad6c\\uc784\\ub300\",\"\\uacf5\\uacf5\\uc784\\ub300(10\\ub144)\",\"\\uacf5\\uacf5\\uc784\\ub300(10\\ub144)\",\"\\uacf5\\uacf5\\uc784\\ub300(10\\ub144)\",\"\\uacf5\\uacf5\\uc784\\ub300(10\\ub144)\",\"\\uad6d\\ubbfc\\uc784\\ub300\",\"\\uad6d\\ubbfc\\uc784\\ub300\",\"\\uad6d\\ubbfc\\uc784\\ub300\",\"\\uad6d\\ubbfc\\uc784\\ub300\",\"\\uc601\\uad6c\\uc784\\ub300\",\"\\uacf5\\uacf5\\uc784\\ub300(5\\ub144)\",\"\\uacf5\\uacf5\\uc784\\ub300(5\\ub144)\",\"\\uacf5\\uacf5\\uc784\\ub300(5\\ub144)\",\"\\uad6d\\ubbfc\\uc784\\ub300\",\"\\uad6d\\ubbfc\\uc784\\ub300\",\"\\uad6d\\ubbfc\\uc784\\ub300\",\"\\uad6d\\ubbfc\\uc784\\ub300\",\"\\uc601\\uad6c\\uc784\\ub300\",\"\\uc601\\uad6c\\uc784\\ub300\",\"\\uad6d\\ubbfc\\uc784\\ub300\",\"\\uad6d\\ubbfc\\uc784\\ub300\",\"\\uad6d\\ubbfc\\uc784\\ub300\",\"\\uad6d\\ubbfc\\uc784\\ub300\",\"\\uc601\\uad6c\\uc784\\ub300\",\"\\uc601\\uad6c\\uc784\\ub300\",\"\\uc601\\uad6c\\uc784\\ub300\",\"\\ud589\\ubcf5\\uc8fc\\ud0dd\",\"\\ud589\\ubcf5\\uc8fc\\ud0dd\",\"\\ud589\\ubcf5\\uc8fc\\ud0dd\",\"\\ud589\\ubcf5\\uc8fc\\ud0dd\",\"\\ud589\\ubcf5\\uc8fc\\ud0dd\",\"\\ud589\\ubcf5\\uc8fc\\ud0dd\",\"\\ud589\\ubcf5\\uc8fc\\ud0dd\",\"\\ud589\\ubcf5\\uc8fc\\ud0dd\",\"\\ud589\\ubcf5\\uc8fc\\ud0dd\",\"\\ud589\\ubcf5\\uc8fc\\ud0dd\",\"\\ud589\\ubcf5\\uc8fc\\ud0dd\",\"\\ud589\\ubcf5\\uc8fc\\ud0dd\",\"\\ud589\\ubcf5\\uc8fc\\ud0dd\",\"\\uad6d\\ubbfc\\uc784\\ub300\",\"\\uc601\\uad6c\\uc784\\ub300\",\"\\ud589\\ubcf5\\uc8fc\\ud0dd\",\"\\ud589\\ubcf5\\uc8fc\\ud0dd\",\"\\ud589\\ubcf5\\uc8fc\\ud0dd\",\"\\ud589\\ubcf5\\uc8fc\\ud0dd\",\"\\ud589\\ubcf5\\uc8fc\\ud0dd\",\"\\ud589\\ubcf5\\uc8fc\\ud0dd\",\"\\ud589\\ubcf5\\uc8fc\\ud0dd\",\"\\ud589\\ubcf5\\uc8fc\\ud0dd\",\"\\uacf5\\uacf5\\uc784\\ub300(10\\ub144)\",\"\\uacf5\\uacf5\\uc784\\ub300(10\\ub144)\",\"\\uacf5\\uacf5\\uc784\\ub300(10\\ub144)\",\"\\uacf5\\uacf5\\uc784\\ub300(10\\ub144)\",\"\\uacf5\\uacf5\\uc784\\ub300(10\\ub144)\",\"\\uacf5\\uacf5\\uc784\\ub300(10\\ub144)\",\"\\uacf5\\uacf5\\uc784\\ub300(10\\ub144)\",\"\\uacf5\\uacf5\\uc784\\ub300(10\\ub144)\",\"\\uacf5\\uacf5\\uc784\\ub300(10\\ub144)\",\"\\uacf5\\uacf5\\uc784\\ub300(10\\ub144)\",\"\\uacf5\\uacf5\\uc784\\ub300(10\\ub144)\",\"\\uad6d\\ubbfc\\uc784\\ub300\",\"\\uad6d\\ubbfc\\uc784\\ub300\",\"\\uad6d\\ubbfc\\uc784\\ub300\",\"\\uad6d\\ubbfc\\uc784\\ub300\",\"\\uad6d\\ubbfc\\uc784\\ub300\",\"\\uad6d\\ubbfc\\uc784\\ub300\",\"\\uad6d\\ubbfc\\uc784\\ub300\",\"\\uad6d\\ubbfc\\uc784\\ub300\",\"\\uad6d\\ubbfc\\uc784\\ub300\",\"\\uacf5\\uacf5\\uc784\\ub300(10\\ub144)\",\"\\uacf5\\uacf5\\uc784\\ub300(10\\ub144)\",\"\\uacf5\\uacf5\\uc784\\ub300(10\\ub144)\",\"\\uacf5\\uacf5\\uc784\\ub300(10\\ub144)\",\"\\uacf5\\uacf5\\uc784\\ub300(10\\ub144)\",\"\\uacf5\\uacf5\\uc784\\ub300(10\\ub144)\",\"\\uacf5\\uacf5\\uc784\\ub300(10\\ub144)\",\"\\uacf5\\uacf5\\uc784\\ub300(10\\ub144)\",\"\\uacf5\\uacf5\\uc784\\ub300(10\\ub144)\",\"\\uacf5\\uacf5\\uc784\\ub300(10\\ub144)\",\"\\uacf5\\uacf5\\uc784\\ub300(10\\ub144)\",\"\\uacf5\\uacf5\\uc784\\ub300(10\\ub144)\",\"\\uacf5\\uacf5\\uc784\\ub300(10\\ub144)\",\"\\uacf5\\uacf5\\uc784\\ub300(10\\ub144)\",\"\\uacf5\\uacf5\\uc784\\ub300(10\\ub144)\",\"\\uacf5\\uacf5\\uc784\\ub300(10\\ub144)\",\"\\uacf5\\uacf5\\uc784\\ub300(10\\ub144)\",\"\\uacf5\\uacf5\\uc784\\ub300(10\\ub144)\",\"\\uacf5\\uacf5\\uc784\\ub300(10\\ub144)\",\"\\uacf5\\uacf5\\uc784\\ub300(10\\ub144)\",\"\\uacf5\\uacf5\\uc784\\ub300(10\\ub144)\",\"\\uacf5\\uacf5\\uc784\\ub300(10\\ub144)\",\"\\uacf5\\uacf5\\uc784\\ub300(10\\ub144)\",\"\\uacf5\\uacf5\\uc784\\ub300(10\\ub144)\",\"\\uacf5\\uacf5\\uc784\\ub300(10\\ub144)\",\"\\uacf5\\uacf5\\uc784\\ub300(10\\ub144)\",\"\\uacf5\\uacf5\\uc784\\ub300(10\\ub144)\",\"\\uacf5\\uacf5\\uc784\\ub300(10\\ub144)\",\"\\uacf5\\uacf5\\uc784\\ub300(10\\ub144)\",\"\\uacf5\\uacf5\\uc784\\ub300(10\\ub144)\",\"\\uacf5\\uacf5\\uc784\\ub300(10\\ub144)\",\"\\uacf5\\uacf5\\uc784\\ub300(10\\ub144)\",\"\\uacf5\\uacf5\\uc784\\ub300(10\\ub144)\",\"\\uacf5\\uacf5\\uc784\\ub300(10\\ub144)\",\"\\uacf5\\uacf5\\uc784\\ub300(10\\ub144)\",\"\\uacf5\\uacf5\\uc784\\ub300(10\\ub144)\",\"\\uacf5\\uacf5\\uc784\\ub300(10\\ub144)\",\"\\uacf5\\uacf5\\uc784\\ub300(10\\ub144)\",\"\\uacf5\\uacf5\\uc784\\ub300(10\\ub144)\",\"\\uacf5\\uacf5\\uc784\\ub300(10\\ub144)\",\"\\uacf5\\uacf5\\uc784\\ub300(10\\ub144)\",\"\\ud589\\ubcf5\\uc8fc\\ud0dd\",\"\\ud589\\ubcf5\\uc8fc\\ud0dd\",\"\\ud589\\ubcf5\\uc8fc\\ud0dd\",\"\\ud589\\ubcf5\\uc8fc\\ud0dd\",\"\\ud589\\ubcf5\\uc8fc\\ud0dd\",\"\\uacf5\\uacf5\\uc784\\ub300(10\\ub144)\",\"\\uacf5\\uacf5\\uc784\\ub300(10\\ub144)\",\"\\uacf5\\uacf5\\uc784\\ub300(10\\ub144)\",\"\\uacf5\\uacf5\\uc784\\ub300(10\\ub144)\",\"\\ud589\\ubcf5\\uc8fc\\ud0dd\",\"\\ud589\\ubcf5\\uc8fc\\ud0dd\",\"\\ud589\\ubcf5\\uc8fc\\ud0dd\",\"\\ud589\\ubcf5\\uc8fc\\ud0dd\",\"\\ud589\\ubcf5\\uc8fc\\ud0dd\",\"\\ud589\\ubcf5\\uc8fc\\ud0dd\",\"\\ud589\\ubcf5\\uc8fc\\ud0dd\",\"\\ud589\\ubcf5\\uc8fc\\ud0dd\",\"\\ud589\\ubcf5\\uc8fc\\ud0dd\",\"\\ud589\\ubcf5\\uc8fc\\ud0dd\",\"\\ud589\\ubcf5\\uc8fc\\ud0dd\",\"\\ud589\\ubcf5\\uc8fc\\ud0dd\",\"\\ud589\\ubcf5\\uc8fc\\ud0dd\",\"\\ud589\\ubcf5\\uc8fc\\ud0dd\",\"\\ud589\\ubcf5\\uc8fc\\ud0dd\",\"\\ud589\\ubcf5\\uc8fc\\ud0dd\",\"\\ud589\\ubcf5\\uc8fc\\ud0dd\",\"\\ud589\\ubcf5\\uc8fc\\ud0dd\",\"\\ud589\\ubcf5\\uc8fc\\ud0dd\",\"\\ud589\\ubcf5\\uc8fc\\ud0dd\",\"\\ud589\\ubcf5\\uc8fc\\ud0dd\",\"\\ud589\\ubcf5\\uc8fc\\ud0dd\",\"\\ud589\\ubcf5\\uc8fc\\ud0dd\",\"\\ud589\\ubcf5\\uc8fc\\ud0dd\",\"\\ud589\\ubcf5\\uc8fc\\ud0dd\",\"\\ud589\\ubcf5\\uc8fc\\ud0dd\",\"\\ud589\\ubcf5\\uc8fc\\ud0dd\",\"\\ud589\\ubcf5\\uc8fc\\ud0dd\",\"\\ud589\\ubcf5\\uc8fc\\ud0dd\",\"\\ud589\\ubcf5\\uc8fc\\ud0dd\",\"\\ud589\\ubcf5\\uc8fc\\ud0dd\",\"\\ud589\\ubcf5\\uc8fc\\ud0dd\",\"\\ud589\\ubcf5\\uc8fc\\ud0dd\",\"\\ud589\\ubcf5\\uc8fc\\ud0dd\",\"\\uad6d\\ubbfc\\uc784\\ub300\",\"\\uad6d\\ubbfc\\uc784\\ub300\",\"\\uad6d\\ubbfc\\uc784\\ub300\",\"\\uc601\\uad6c\\uc784\\ub300\",\"\\uc601\\uad6c\\uc784\\ub300\",\"\\uad6d\\ubbfc\\uc784\\ub300\",\"\\uad6d\\ubbfc\\uc784\\ub300\",\"\\uad6d\\ubbfc\\uc784\\ub300\",\"\\ud589\\ubcf5\\uc8fc\\ud0dd\",\"\\ud589\\ubcf5\\uc8fc\\ud0dd\",\"\\ud589\\ubcf5\\uc8fc\\ud0dd\",\"\\ud589\\ubcf5\\uc8fc\\ud0dd\",\"\\ud589\\ubcf5\\uc8fc\\ud0dd\",\"\\ud589\\ubcf5\\uc8fc\\ud0dd\",\"\\ud589\\ubcf5\\uc8fc\\ud0dd\",\"\\ud589\\ubcf5\\uc8fc\\ud0dd\",\"\\ud589\\ubcf5\\uc8fc\\ud0dd\",\"\\ud589\\ubcf5\\uc8fc\\ud0dd\",\"\\ud589\\ubcf5\\uc8fc\\ud0dd\",\"\\ud589\\ubcf5\\uc8fc\\ud0dd\",\"\\ud589\\ubcf5\\uc8fc\\ud0dd\",\"\\ud589\\ubcf5\\uc8fc\\ud0dd\",\"\\ud589\\ubcf5\\uc8fc\\ud0dd\",\"\\ud589\\ubcf5\\uc8fc\\ud0dd\",\"\\ud589\\ubcf5\\uc8fc\\ud0dd\",\"\\ud589\\ubcf5\\uc8fc\\ud0dd\",\"\\ud589\\ubcf5\\uc8fc\\ud0dd\",\"\\uad6d\\ubbfc\\uc784\\ub300\",\"\\uad6d\\ubbfc\\uc784\\ub300\",\"\\uad6d\\ubbfc\\uc784\\ub300\",\"\\uad6d\\ubbfc\\uc784\\ub300\",\"\\uad6d\\ubbfc\\uc784\\ub300\",\"\\uc601\\uad6c\\uc784\\ub300\",\"\\uc601\\uad6c\\uc784\\ub300\",\"\\uad6d\\ubbfc\\uc784\\ub300\",\"\\uad6d\\ubbfc\\uc784\\ub300\",\"\\uad6d\\ubbfc\\uc784\\ub300\",\"\\ud589\\ubcf5\\uc8fc\\ud0dd\",\"\\ud589\\ubcf5\\uc8fc\\ud0dd\",\"\\ud589\\ubcf5\\uc8fc\\ud0dd\",\"\\ud589\\ubcf5\\uc8fc\\ud0dd\",\"\\ud589\\ubcf5\\uc8fc\\ud0dd\",\"\\ud589\\ubcf5\\uc8fc\\ud0dd\",\"\\ud589\\ubcf5\\uc8fc\\ud0dd\",\"\\ud589\\ubcf5\\uc8fc\\ud0dd\",\"\\uad6d\\ubbfc\\uc784\\ub300\",\"\\uad6d\\ubbfc\\uc784\\ub300\",\"\\uad6d\\ubbfc\\uc784\\ub300\",\"\\uacf5\\uacf5\\uc784\\ub300(10\\ub144)\",\"\\uacf5\\uacf5\\uc784\\ub300(10\\ub144)\",\"\\uacf5\\uacf5\\uc784\\ub300(10\\ub144)\",\"\\uacf5\\uacf5\\uc784\\ub300(10\\ub144)\",\"\\uacf5\\uacf5\\uc784\\ub300(10\\ub144)\",\"\\uacf5\\uacf5\\uc784\\ub300(10\\ub144)\",\"\\uacf5\\uacf5\\uc784\\ub300(10\\ub144)\",\"\\uacf5\\uacf5\\uc784\\ub300(10\\ub144)\",\"\\uacf5\\uacf5\\uc784\\ub300(10\\ub144)\",\"\\uacf5\\uacf5\\uc784\\ub300(10\\ub144)\",\"\\uacf5\\uacf5\\uc784\\ub300(10\\ub144)\",\"\\uacf5\\uacf5\\uc784\\ub300(10\\ub144)\",\"\\uad6d\\ubbfc\\uc784\\ub300\",\"\\uad6d\\ubbfc\\uc784\\ub300\",\"\\uad6d\\ubbfc\\uc784\\ub300\",\"\\uad6d\\ubbfc\\uc784\\ub300\",\"\\uacf5\\uacf5\\uc784\\ub300(10\\ub144)\",\"\\uacf5\\uacf5\\uc784\\ub300(10\\ub144)\",\"\\uacf5\\uacf5\\uc784\\ub300(10\\ub144)\",\"\\uacf5\\uacf5\\uc784\\ub300(10\\ub144)\",\"\\uacf5\\uacf5\\uc784\\ub300(10\\ub144)\",\"\\uacf5\\uacf5\\uc784\\ub300(10\\ub144)\",\"\\uacf5\\uacf5\\uc784\\ub300(10\\ub144)\",\"\\uacf5\\uacf5\\uc784\\ub300(10\\ub144)\",\"\\ud589\\ubcf5\\uc8fc\\ud0dd\",\"\\ud589\\ubcf5\\uc8fc\\ud0dd\",\"\\ud589\\ubcf5\\uc8fc\\ud0dd\",\"\\ud589\\ubcf5\\uc8fc\\ud0dd\",\"\\ud589\\ubcf5\\uc8fc\\ud0dd\",\"\\ud589\\ubcf5\\uc8fc\\ud0dd\",\"\\ud589\\ubcf5\\uc8fc\\ud0dd\",\"\\ud589\\ubcf5\\uc8fc\\ud0dd\",\"\\ud589\\ubcf5\\uc8fc\\ud0dd\",\"\\ud589\\ubcf5\\uc8fc\\ud0dd\",\"\\ud589\\ubcf5\\uc8fc\\ud0dd\",\"\\ud589\\ubcf5\\uc8fc\\ud0dd\",\"\\ud589\\ubcf5\\uc8fc\\ud0dd\",\"\\ud589\\ubcf5\\uc8fc\\ud0dd\",\"\\ud589\\ubcf5\\uc8fc\\ud0dd\",\"\\ud589\\ubcf5\\uc8fc\\ud0dd\",\"\\ud589\\ubcf5\\uc8fc\\ud0dd\",\"\\ud589\\ubcf5\\uc8fc\\ud0dd\",\"\\ud589\\ubcf5\\uc8fc\\ud0dd\",\"\\ud589\\ubcf5\\uc8fc\\ud0dd\",\"\\ud589\\ubcf5\\uc8fc\\ud0dd\",\"\\ud589\\ubcf5\\uc8fc\\ud0dd\",\"\\ud589\\ubcf5\\uc8fc\\ud0dd\",\"\\ud589\\ubcf5\\uc8fc\\ud0dd\",\"\\ud589\\ubcf5\\uc8fc\\ud0dd\",\"\\ud589\\ubcf5\\uc8fc\\ud0dd\",\"\\ud589\\ubcf5\\uc8fc\\ud0dd\",\"\\ud589\\ubcf5\\uc8fc\\ud0dd\",\"\\ud589\\ubcf5\\uc8fc\\ud0dd\",\"\\ud589\\ubcf5\\uc8fc\\ud0dd\",\"\\ud589\\ubcf5\\uc8fc\\ud0dd\",\"\\ud589\\ubcf5\\uc8fc\\ud0dd\",\"\\ud589\\ubcf5\\uc8fc\\ud0dd\",\"\\ud589\\ubcf5\\uc8fc\\ud0dd\",\"\\ud589\\ubcf5\\uc8fc\\ud0dd\",\"\\ud589\\ubcf5\\uc8fc\\ud0dd\",\"\\ud589\\ubcf5\\uc8fc\\ud0dd\",\"\\ud589\\ubcf5\\uc8fc\\ud0dd\",\"\\ud589\\ubcf5\\uc8fc\\ud0dd\",\"\\ud589\\ubcf5\\uc8fc\\ud0dd\",\"\\ud589\\ubcf5\\uc8fc\\ud0dd\",\"\\ud589\\ubcf5\\uc8fc\\ud0dd\",\"\\ud589\\ubcf5\\uc8fc\\ud0dd\",\"\\ud589\\ubcf5\\uc8fc\\ud0dd\",\"\\ud589\\ubcf5\\uc8fc\\ud0dd\",\"\\ud589\\ubcf5\\uc8fc\\ud0dd\",\"\\ud589\\ubcf5\\uc8fc\\ud0dd\",\"\\ud589\\ubcf5\\uc8fc\\ud0dd\",\"\\ud589\\ubcf5\\uc8fc\\ud0dd\",\"\\ud589\\ubcf5\\uc8fc\\ud0dd\",\"\\ud589\\ubcf5\\uc8fc\\ud0dd\",\"\\ud589\\ubcf5\\uc8fc\\ud0dd\",\"\\ud589\\ubcf5\\uc8fc\\ud0dd\",\"\\ud589\\ubcf5\\uc8fc\\ud0dd\",\"\\uacf5\\uacf5\\uc784\\ub300(10\\ub144)\",\"\\uacf5\\uacf5\\uc784\\ub300(10\\ub144)\",\"\\uacf5\\uacf5\\uc784\\ub300(10\\ub144)\",\"\\uacf5\\uacf5\\uc784\\ub300(10\\ub144)\",\"\\uacf5\\uacf5\\uc784\\ub300(10\\ub144)\",\"\\uacf5\\uacf5\\uc784\\ub300(10\\ub144)\",\"\\uacf5\\uacf5\\uc784\\ub300(10\\ub144)\",\"\\uad6d\\ubbfc\\uc784\\ub300\",\"\\uad6d\\ubbfc\\uc784\\ub300\",\"\\uad6d\\ubbfc\\uc784\\ub300\",\"\\uad6d\\ubbfc\\uc784\\ub300\",\"\\ud589\\ubcf5\\uc8fc\\ud0dd\",\"\\ud589\\ubcf5\\uc8fc\\ud0dd\",\"\\ud589\\ubcf5\\uc8fc\\ud0dd\",\"\\ud589\\ubcf5\\uc8fc\\ud0dd\",\"\\ud589\\ubcf5\\uc8fc\\ud0dd\",\"\\ud589\\ubcf5\\uc8fc\\ud0dd\",\"\\ud589\\ubcf5\\uc8fc\\ud0dd\",\"\\ud589\\ubcf5\\uc8fc\\ud0dd\",\"\\ud589\\ubcf5\\uc8fc\\ud0dd\",\"\\ud589\\ubcf5\\uc8fc\\ud0dd\",\"\\ud589\\ubcf5\\uc8fc\\ud0dd\",\"\\ud589\\ubcf5\\uc8fc\\ud0dd\",\"\\ud589\\ubcf5\\uc8fc\\ud0dd\",\"\\ud589\\ubcf5\\uc8fc\\ud0dd\",\"\\ud589\\ubcf5\\uc8fc\\ud0dd\",\"\\ud589\\ubcf5\\uc8fc\\ud0dd\",\"\\ud589\\ubcf5\\uc8fc\\ud0dd\",\"\\ud589\\ubcf5\\uc8fc\\ud0dd\",\"\\ud589\\ubcf5\\uc8fc\\ud0dd\",\"\\ud589\\ubcf5\\uc8fc\\ud0dd\",\"\\ud589\\ubcf5\\uc8fc\\ud0dd\",\"\\ud589\\ubcf5\\uc8fc\\ud0dd\",\"\\ud589\\ubcf5\\uc8fc\\ud0dd\",\"\\ud589\\ubcf5\\uc8fc\\ud0dd\",\"\\ud589\\ubcf5\\uc8fc\\ud0dd\",\"\\ud589\\ubcf5\\uc8fc\\ud0dd\",\"\\ud589\\ubcf5\\uc8fc\\ud0dd\",\"\\uad6d\\ubbfc\\uc784\\ub300\",\"\\uad6d\\ubbfc\\uc784\\ub300\",\"\\uad6d\\ubbfc\\uc784\\ub300\",\"\\uad6d\\ubbfc\\uc784\\ub300\",\"\\uad6d\\ubbfc\\uc784\\ub300\",\"\\uad6d\\ubbfc\\uc784\\ub300\",\"\\uad6d\\ubbfc\\uc784\\ub300\",\"\\uad6d\\ubbfc\\uc784\\ub300\",\"\\uad6d\\ubbfc\\uc784\\ub300\",\"\\uad6d\\ubbfc\\uc784\\ub300\",\"\\uad6d\\ubbfc\\uc784\\ub300\",\"\\uad6d\\ubbfc\\uc784\\ub300\",\"\\uc601\\uad6c\\uc784\\ub300\",\"\\uc601\\uad6c\\uc784\\ub300\",\"\\uad6d\\ubbfc\\uc784\\ub300\",\"\\uad6d\\ubbfc\\uc784\\ub300\",\"\\uad6d\\ubbfc\\uc784\\ub300\",\"\\uad6d\\ubbfc\\uc784\\ub300\",\"\\uad6d\\ubbfc\\uc784\\ub300\",\"\\uad6d\\ubbfc\\uc784\\ub300\",\"\\uad6d\\ubbfc\\uc784\\ub300\",\"\\uad6d\\ubbfc\\uc784\\ub300\",\"\\ud589\\ubcf5\\uc8fc\\ud0dd\",\"\\ud589\\ubcf5\\uc8fc\\ud0dd\",\"\\ud589\\ubcf5\\uc8fc\\ud0dd\",\"\\ud589\\ubcf5\\uc8fc\\ud0dd\",\"\\ud589\\ubcf5\\uc8fc\\ud0dd\",\"\\ud589\\ubcf5\\uc8fc\\ud0dd\",\"\\ud589\\ubcf5\\uc8fc\\ud0dd\",\"\\ud589\\ubcf5\\uc8fc\\ud0dd\",\"\\ud589\\ubcf5\\uc8fc\\ud0dd\",\"\\ud589\\ubcf5\\uc8fc\\ud0dd\",\"\\ud589\\ubcf5\\uc8fc\\ud0dd\",\"\\ud589\\ubcf5\\uc8fc\\ud0dd\",\"\\ud589\\ubcf5\\uc8fc\\ud0dd\",\"\\ud589\\ubcf5\\uc8fc\\ud0dd\",\"\\ud589\\ubcf5\\uc8fc\\ud0dd\",\"\\ud589\\ubcf5\\uc8fc\\ud0dd\",\"\\ud589\\ubcf5\\uc8fc\\ud0dd\",\"\\uad6d\\ubbfc\\uc784\\ub300\",\"\\uad6d\\ubbfc\\uc784\\ub300\",\"\\uad6d\\ubbfc\\uc784\\ub300\",\"\\uad6d\\ubbfc\\uc784\\ub300\",\"\\uad6d\\ubbfc\\uc784\\ub300\",\"\\ud589\\ubcf5\\uc8fc\\ud0dd\",\"\\ud589\\ubcf5\\uc8fc\\ud0dd\",\"\\ud589\\ubcf5\\uc8fc\\ud0dd\",\"\\uc601\\uad6c\\uc784\\ub300\",\"\\uad6d\\ubbfc\\uc784\\ub300\",\"\\uad6d\\ubbfc\\uc784\\ub300\",\"\\uad6d\\ubbfc\\uc784\\ub300\",\"\\uad6d\\ubbfc\\uc784\\ub300\",\"\\uad6d\\ubbfc\\uc784\\ub300\",\"\\uad6d\\ubbfc\\uc784\\ub300\"],\"x0\":\" \",\"xaxis\":\"x\",\"y\":[205.0,205.0,205.0,205.0,205.0,205.0,205.0,1064.0,1064.0,1064.0,1064.0,1064.0,1064.0,1064.0,1064.0,1064.0,1064.0,1064.0,730.0,730.0,730.0,730.0,730.0,730.0,553.0,553.0,553.0,553.0,415.0,415.0,415.0,415.0,415.0,415.0,1804.0,1804.0,1804.0,1804.0,1804.0,1804.0,1804.0,1804.0,1804.0,1804.0,1804.0,1804.0,1804.0,700.0,700.0,700.0,700.0,700.0,700.0,700.0,700.0,700.0,700.0,700.0,700.0,301.0,301.0,301.0,301.0,301.0,301.0,820.0,820.0,820.0,234.0,234.0,234.0,234.0,841.0,841.0,841.0,226.0,226.0,226.0,75.0,75.0,75.0,75.0,75.0,75.0,73.0,73.0,359.0,359.0,359.0,359.0,62.0,62.0,62.0,62.0,62.0,62.0,62.0,62.0,62.0,62.0,62.0,62.0,62.0,62.0,62.0,62.0,62.0,62.0,62.0,62.0,62.0,62.0,62.0,62.0,62.0,62.0,62.0,62.0,62.0,62.0,159.0,159.0,159.0,63.0,63.0,63.0,63.0,63.0,63.0,63.0,63.0,63.0,63.0,91.0,91.0,91.0,179.0,179.0,179.0,671.0,671.0,671.0,671.0,671.0,671.0,133.0,133.0,133.0,133.0,133.0,133.0,133.0,133.0,133.0,133.0,133.0,133.0,133.0,133.0,133.0,133.0,133.0,133.0,386.0,266.0,266.0,266.0,266.0,98.0,98.0,98.0,98.0,98.0,98.0,98.0,98.0,98.0,98.0,98.0,98.0,98.0,98.0,98.0,98.0,98.0,98.0,98.0,98.0,98.0,98.0,131.0,131.0,131.0,131.0,131.0,131.0,131.0,131.0,131.0,131.0,131.0,131.0,131.0,131.0,131.0,131.0,131.0,78.0,78.0,78.0,78.0,78.0,78.0,78.0,78.0,78.0,78.0,78.0,78.0,78.0,78.0,78.0,78.0,78.0,78.0,78.0,78.0,316.0,316.0,316.0,316.0,316.0,316.0,108.0,108.0,108.0,108.0,108.0,108.0,108.0,108.0,108.0,108.0,108.0,108.0,108.0,108.0,108.0,108.0,108.0,108.0,108.0,108.0,116.0,116.0,116.0,116.0,116.0,116.0,116.0,116.0,116.0,116.0,116.0,116.0,116.0,116.0,116.0,116.0,116.0,116.0,116.0,116.0,116.0,116.0,116.0,116.0,116.0,116.0,116.0,116.0,116.0,116.0,116.0,116.0,116.0,116.0,116.0,116.0,116.0,116.0,116.0,116.0,649.0,649.0,649.0,649.0,649.0,649.0,649.0,649.0,649.0,649.0,649.0,254.0,254.0,254.0,129.0,129.0,129.0,129.0,129.0,129.0,129.0,129.0,129.0,129.0,129.0,129.0,129.0,129.0,129.0,129.0,129.0,129.0,129.0,129.0,129.0,70.0,70.0,70.0,70.0,70.0,70.0,70.0,70.0,236.0,236.0,236.0,510.0,510.0,510.0,510.0,510.0,510.0,253.0,253.0,253.0,253.0,253.0,253.0,253.0,253.0,253.0,253.0,253.0,253.0,253.0,253.0,253.0,127.0,127.0,127.0,127.0,127.0,127.0,127.0,127.0,127.0,127.0,127.0,127.0,127.0,127.0,127.0,127.0,127.0,127.0,127.0,127.0,132.0,132.0,132.0,132.0,132.0,132.0,132.0,132.0,132.0,132.0,132.0,132.0,132.0,132.0,132.0,132.0,132.0,132.0,132.0,132.0,132.0,132.0,132.0,132.0,132.0,132.0,132.0,132.0,132.0,313.0,313.0,313.0,313.0,313.0,313.0,313.0,313.0,313.0,313.0,313.0,313.0,313.0,313.0,313.0,313.0,313.0,313.0,313.0,313.0,313.0,313.0,382.0,382.0,364.0,364.0,364.0,364.0,364.0,364.0,364.0,364.0,364.0,364.0,364.0,364.0,364.0,364.0,364.0,364.0,364.0,364.0,364.0,364.0,364.0,364.0,364.0,364.0,94.0,94.0,94.0,94.0,94.0,94.0,94.0,94.0,94.0,94.0,94.0,94.0,94.0,94.0,94.0,94.0,94.0,94.0,94.0,94.0,94.0,94.0,94.0,94.0,94.0,94.0,94.0,94.0,94.0,94.0,94.0,94.0,189.0,189.0,189.0,189.0,189.0,189.0,189.0,189.0,189.0,189.0,189.0,189.0,189.0,189.0,189.0,189.0,189.0,189.0,189.0,189.0,189.0,189.0,189.0,873.0,873.0,359.0,359.0,359.0,359.0,359.0,359.0,359.0,359.0,359.0,359.0,359.0,359.0,359.0,359.0,359.0,359.0,359.0,359.0,359.0,359.0,359.0,359.0,359.0,359.0,359.0,359.0,359.0,359.0,359.0,359.0,359.0,359.0,359.0,359.0,359.0,359.0,359.0,359.0,359.0,359.0,359.0,359.0,359.0,359.0,359.0,359.0,359.0,172.0,172.0,172.0,172.0,172.0,172.0,172.0,172.0,172.0,172.0,172.0,172.0,172.0,172.0,172.0,172.0,172.0,172.0,172.0,172.0,172.0,172.0,172.0,172.0,172.0,172.0,172.0,172.0,172.0,172.0,172.0,172.0,172.0,172.0,172.0,172.0,172.0,172.0,172.0,172.0,172.0,172.0,172.0,172.0,172.0,172.0,172.0,172.0,498.0,498.0,498.0,149.0,149.0,31.0,31.0,31.0,31.0,31.0,31.0,125.0,125.0,125.0,125.0,125.0,125.0,125.0,125.0,125.0,125.0,125.0,125.0,177.0,177.0,177.0,177.0,177.0,177.0,177.0,90.0,90.0,90.0,90.0,90.0,90.0,90.0,90.0,90.0,90.0,90.0,90.0,302.0,302.0,302.0,496.0,496.0,236.0,236.0,236.0,236.0,839.0,839.0,839.0,839.0,96.0,96.0,96.0,96.0,96.0,96.0,96.0,96.0,96.0,96.0,96.0,96.0,96.0,96.0,96.0,96.0,96.0,235.0,235.0,359.0,359.0,359.0,359.0,359.0,359.0,359.0,359.0,120.0,120.0,120.0,120.0,120.0,120.0,120.0,120.0,120.0,120.0,120.0,120.0,120.0,120.0,120.0,120.0,120.0,120.0,120.0,120.0,120.0,120.0,120.0,120.0,120.0,120.0,120.0,120.0,120.0,120.0,120.0,120.0,120.0,60.0,60.0,60.0,60.0,60.0,60.0,60.0,60.0,60.0,60.0,60.0,60.0,60.0,60.0,60.0,60.0,60.0,65.0,65.0,65.0,65.0,65.0,65.0,65.0,65.0,135.0,135.0,135.0,135.0,376.0,376.0,376.0,93.0,93.0,93.0,93.0,93.0,93.0,93.0,93.0,93.0,93.0,93.0,93.0,93.0,93.0,93.0,93.0,93.0,93.0,93.0,209.0,209.0,209.0,209.0,209.0,209.0,209.0,209.0,209.0,209.0,209.0,209.0,209.0,209.0,209.0,209.0,209.0,209.0,209.0,209.0,209.0,209.0,204.0,204.0,204.0,86.0,86.0,86.0,86.0,86.0,86.0,86.0,86.0,86.0,86.0,86.0,86.0,86.0,86.0,19.0,19.0,19.0,62.0,62.0,62.0,62.0,62.0,62.0,62.0,62.0,62.0,62.0,62.0,62.0,62.0,62.0,430.0,430.0,430.0,1001.0,1001.0,1001.0,1001.0,1001.0,1001.0,1001.0,334.0,334.0,334.0,334.0,334.0,334.0,616.0,616.0,616.0,616.0,616.0,616.0,616.0,616.0,548.0,548.0,548.0,548.0,548.0,548.0,548.0,548.0,220.0,220.0,220.0,220.0,451.0,451.0,451.0,451.0,451.0,451.0,451.0,451.0,47.0,47.0,47.0,799.0,799.0,799.0,799.0,799.0,799.0,799.0,799.0,799.0,799.0,799.0,799.0,799.0,799.0,799.0,799.0,799.0,799.0,799.0,708.0,708.0,708.0,708.0,708.0,708.0,708.0,739.0,739.0,739.0,739.0,739.0,739.0,739.0,374.0,374.0,374.0,374.0,374.0,374.0,557.0,557.0,557.0,557.0,557.0,579.0,579.0,579.0,579.0,579.0,579.0,579.0,579.0,1101.0,1101.0,1101.0,1101.0,1101.0,762.0,762.0,762.0,762.0,762.0,795.0,795.0,795.0,795.0,795.0,795.0,795.0,995.0,995.0,995.0,995.0,995.0,995.0,995.0,288.0,288.0,288.0,288.0,288.0,288.0,288.0,960.0,960.0,960.0,960.0,960.0,960.0,960.0,960.0,960.0,960.0,311.0,311.0,648.0,648.0,648.0,648.0,648.0,648.0,861.0,861.0,861.0,861.0,521.0,521.0,521.0,521.0,562.0,562.0,562.0,562.0,562.0,562.0,562.0,422.0,422.0,344.0,344.0,344.0,344.0,344.0,596.0,596.0,596.0,596.0,596.0,596.0,596.0,596.0,701.0,701.0,701.0,701.0,701.0,701.0,1117.0,1117.0,1117.0,1117.0,1117.0,1117.0,1117.0,1117.0,1117.0,1117.0,1117.0,297.0,297.0,297.0,297.0,297.0,297.0,297.0,1665.0,1665.0,1665.0,1665.0,1665.0,248.0,248.0,248.0,248.0,457.0,457.0,457.0,910.0,910.0,910.0,910.0,910.0,910.0,910.0,826.0,826.0,826.0,826.0,826.0,826.0,826.0,826.0,826.0,328.0,328.0,328.0,328.0,328.0,328.0,525.0,525.0,525.0,525.0,525.0,525.0,525.0,690.0,690.0,690.0,690.0,690.0,713.0,713.0,713.0,713.0,713.0,1019.0,1019.0,1019.0,1019.0,810.0,810.0,810.0,810.0,810.0,148.0,148.0,148.0,148.0,148.0,148.0,609.0,609.0,609.0,609.0,609.0,609.0,609.0,609.0,609.0,585.0,585.0,585.0,585.0,585.0,1162.0,1162.0,1162.0,1162.0,1162.0,1162.0,1162.0,1162.0,318.0,318.0,318.0,318.0,318.0,318.0,318.0,761.0,761.0,761.0,761.0,572.0,572.0,572.0,572.0,572.0,572.0,979.0,979.0,979.0,979.0,979.0,1306.0,1306.0,1306.0,1306.0,1306.0,1306.0,1398.0,1398.0,1398.0,1398.0,1398.0,1398.0,1398.0,1398.0,1398.0,442.0,442.0,442.0,442.0,442.0,422.0,422.0,422.0,422.0,441.0,441.0,441.0,441.0,700.0,700.0,700.0,700.0,340.0,340.0,503.0,503.0,503.0,503.0,503.0,503.0,503.0,503.0,503.0,503.0,718.0,718.0,718.0,718.0,1159.0,1159.0,1159.0,373.0,373.0,373.0,1087.0,1087.0,1087.0,1087.0,808.0,808.0,808.0,808.0,305.0,305.0,401.0,401.0,401.0,401.0,465.0,465.0,465.0,465.0,465.0,465.0,465.0,465.0,465.0,669.0,669.0,669.0,669.0,554.0,554.0,554.0,554.0,554.0,554.0,554.0,554.0,460.0,460.0,460.0,548.0,548.0,548.0,548.0,548.0,548.0,548.0,548.0,548.0,548.0,398.0,398.0,398.0,398.0,398.0,398.0,620.0,620.0,620.0,620.0,620.0,620.0,382.0,413.0,413.0,413.0,413.0,413.0,413.0,520.0,520.0,520.0,520.0,520.0,520.0,520.0,520.0,488.0,488.0,488.0,488.0,488.0,488.0,488.0,832.0,832.0,832.0,832.0,832.0,832.0,832.0,832.0,832.0,1158.0,1158.0,1158.0,1158.0,1158.0,1158.0,1158.0,1158.0,1158.0,745.0,745.0,745.0,745.0,745.0,745.0,745.0,745.0,831.0,831.0,831.0,831.0,831.0,831.0,413.0,413.0,413.0,413.0,413.0,487.0,487.0,487.0,487.0,487.0,408.0,408.0,408.0,408.0,408.0,408.0,446.0,446.0,446.0,446.0,446.0,446.0,446.0,1150.0,1150.0,1150.0,1150.0,1150.0,840.0,840.0,840.0,840.0,840.0,840.0,840.0,840.0,709.0,709.0,709.0,709.0,709.0,709.0,480.0,480.0,480.0,480.0,480.0,480.0,480.0,505.0,505.0,505.0,505.0,505.0,505.0,505.0,449.0,449.0,449.0,449.0,1010.0,1010.0,1010.0,1010.0,1010.0,1010.0,296.0,296.0,296.0,296.0,296.0,296.0,296.0,308.0,308.0,308.0,308.0,308.0,308.0,349.0,349.0,349.0,349.0,349.0,349.0,349.0,349.0,349.0,349.0,349.0,657.0,657.0,657.0,657.0,657.0,657.0,657.0,657.0,657.0,657.0,657.0,657.0,505.0,505.0,294.0,294.0,294.0,294.0,1145.0,1145.0,1145.0,1145.0,1145.0,1145.0,1145.0,1145.0,1145.0,1145.0,1145.0,1145.0,1145.0,257.0,257.0,257.0,257.0,257.0,257.0,257.0,257.0,321.0,321.0,321.0,321.0,321.0,450.0,450.0,450.0,450.0,845.0,845.0,845.0,845.0,845.0,845.0,643.0,643.0,643.0,643.0,752.0,752.0,752.0,752.0,735.0,735.0,735.0,735.0,735.0,639.0,639.0,639.0,639.0,902.0,902.0,902.0,902.0,902.0,902.0,902.0,902.0,902.0,902.0,902.0,902.0,632.0,632.0,632.0,125.0,282.0,282.0,1279.0,1279.0,1279.0,1279.0,1279.0,1279.0,1279.0,782.0,782.0,782.0,782.0,782.0,782.0,782.0,375.0,375.0,375.0,375.0,375.0,540.0,540.0,540.0,540.0,540.0,540.0,540.0,540.0,226.0,226.0,226.0,226.0,226.0,226.0,302.0,302.0,302.0,302.0,302.0,302.0,156.0,156.0,156.0,730.0,730.0,730.0,730.0,730.0,730.0,417.0,417.0,417.0,417.0,417.0,417.0,505.0,505.0,505.0,505.0,505.0,505.0,505.0,1077.0,1077.0,1077.0,1077.0,1077.0,1077.0,1077.0,757.0,757.0,757.0,757.0,757.0,754.0,754.0,754.0,754.0,754.0,754.0,754.0,815.0,815.0,815.0,268.0,268.0,268.0,268.0,362.0,362.0,362.0,362.0,362.0,504.0,504.0,504.0,504.0,504.0,504.0,504.0,504.0,281.0,281.0,281.0,281.0,281.0,521.0,521.0,521.0,521.0,552.0,552.0,552.0,552.0,246.0,246.0,246.0,246.0,246.0,246.0,347.0,347.0,347.0,272.0,272.0,272.0,293.0,293.0,293.0,293.0,293.0,254.0,254.0,254.0,254.0,254.0,254.0,254.0,254.0,842.0,842.0,842.0,842.0,842.0,842.0,484.0,484.0,484.0,484.0,484.0,585.0,585.0,585.0,585.0,585.0,244.0,244.0,244.0,258.0,258.0,258.0,258.0,271.0,271.0,271.0,271.0,311.0,311.0,311.0,327.0,327.0,327.0,327.0,327.0,327.0,207.0,207.0,207.0,207.0,207.0,207.0,683.0,683.0,683.0,683.0,683.0,683.0,670.0,670.0,570.0,570.0,570.0,570.0,570.0,324.0,324.0,324.0,324.0,324.0,553.0,553.0,553.0,553.0,553.0,590.0,590.0,590.0,638.0,638.0,638.0,638.0,638.0,638.0,638.0,495.0,495.0,495.0,495.0,528.0,528.0,528.0,528.0,528.0,528.0,528.0,383.0,383.0,383.0,383.0,383.0,284.0,284.0,284.0,284.0,284.0,284.0,284.0,723.0,723.0,723.0,723.0,723.0,723.0,333.0,333.0,333.0,333.0,333.0,333.0,333.0,610.0,610.0,610.0,610.0,610.0,610.0,610.0,481.0,481.0,594.0,594.0,509.0,509.0,509.0,509.0,509.0,509.0,500.0,500.0,500.0,500.0,500.0,512.0,512.0,512.0,512.0,512.0,512.0,512.0,512.0,901.0,901.0,901.0,901.0,934.0,934.0,934.0,934.0,934.0,934.0,496.0,496.0,496.0,496.0,398.0,398.0,398.0,398.0,398.0,398.0,481.0,481.0,481.0,481.0,481.0,481.0,481.0,557.0,557.0,557.0,557.0,557.0,557.0,1284.0,1284.0,1284.0,1284.0,1284.0,1284.0,1284.0,1284.0,1284.0,475.0,475.0,475.0,475.0,475.0,435.0,435.0,435.0,435.0,435.0,945.0,945.0,945.0,945.0,945.0,945.0,945.0,945.0,945.0,945.0,1044.0,1044.0,1044.0,1044.0,1044.0,1044.0,1044.0,1044.0,1044.0,1044.0,1044.0,1044.0,1044.0,1044.0,1044.0,1044.0,375.0,375.0,375.0,375.0,375.0,375.0,1023.0,1023.0,1023.0,1023.0,1023.0,1023.0,1023.0,1023.0,1350.0,1350.0,1350.0,1350.0,1350.0,1350.0,1350.0,1350.0,1350.0,1350.0,1350.0,1350.0,1350.0,1350.0,284.0,284.0,284.0,284.0,284.0,284.0,823.0,823.0,823.0,823.0,823.0,823.0,823.0,823.0,823.0,793.0,793.0,793.0,793.0,793.0,793.0,587.0,587.0,587.0,587.0,587.0,587.0,587.0,587.0,587.0,587.0,353.0,353.0,353.0,353.0,353.0,479.0,479.0,479.0,479.0,479.0,479.0,614.0,614.0,614.0,614.0,614.0,614.0,614.0,614.0,614.0,1101.0,1101.0,1101.0,1101.0,1101.0,1101.0,1101.0,1101.0,1101.0,1101.0,1101.0,652.0,652.0,652.0,652.0,652.0,652.0,509.0,509.0,509.0,509.0,509.0,509.0,437.0,437.0,437.0,437.0,437.0,163.0,163.0,163.0,163.0,163.0,589.0,589.0,589.0,589.0,589.0,589.0,589.0,403.0,403.0,403.0,403.0,403.0,403.0,22.0,22.0,322.0,322.0,322.0,322.0,322.0,322.0,566.0,566.0,566.0,566.0,566.0,566.0,277.0,277.0,277.0,277.0,822.0,822.0,822.0,822.0,822.0,822.0,770.0,770.0,770.0,770.0,770.0,770.0,770.0,770.0,770.0,770.0,770.0,345.0,345.0,345.0,345.0,345.0,345.0,1090.0,1090.0,1090.0,1090.0,1090.0,1090.0,1090.0,1090.0,1090.0,1090.0,1090.0,1090.0,951.0,951.0,951.0,951.0,410.0,410.0,410.0,410.0,410.0,410.0,549.0,549.0,549.0,549.0,549.0,549.0,549.0,549.0,549.0,166.0,166.0,166.0,166.0,166.0,166.0,647.0,647.0,647.0,647.0,647.0,647.0,647.0,793.0,793.0,793.0,793.0,793.0,793.0,793.0,793.0,793.0,793.0,1084.0,1084.0,1084.0,1084.0,1084.0,1084.0,1084.0,1084.0,1084.0,682.0,682.0,682.0,682.0,645.0,645.0,645.0,645.0,645.0,645.0,645.0,645.0,645.0,645.0,645.0,733.0,733.0,733.0,733.0,733.0,733.0,733.0,733.0,262.0,262.0,262.0,262.0,262.0,365.0,365.0,365.0,365.0,365.0,365.0,365.0,365.0,365.0,365.0,365.0,950.0,950.0,950.0,244.0,244.0,244.0,343.0,343.0,343.0,343.0,343.0,343.0,343.0,613.0,613.0,613.0,613.0,561.0,561.0,561.0,561.0,561.0,561.0,899.0,899.0,899.0,899.0,957.0,957.0,957.0,957.0,957.0,957.0,957.0,957.0,957.0,957.0,412.0,412.0,979.0,979.0,979.0,979.0,1709.0,1709.0,1709.0,1709.0,1709.0,881.0,881.0,881.0,309.0,309.0,309.0,309.0,309.0,309.0,55.0,55.0,55.0,442.0,442.0,442.0,442.0,442.0,442.0,442.0,442.0,442.0,551.0,551.0,551.0,551.0,551.0,551.0,551.0,551.0,551.0,551.0,1240.0,1240.0,1240.0,886.0,886.0,886.0,886.0,886.0,886.0,713.0,713.0,713.0,713.0,713.0,713.0,713.0,606.0,606.0,606.0,606.0,606.0,606.0,606.0,870.0,870.0,870.0,870.0,870.0,870.0,870.0,870.0,870.0,870.0,870.0,410.0,410.0,410.0,410.0,410.0,800.0,800.0,800.0,800.0,800.0,800.0,420.0,420.0,420.0,752.0,752.0,752.0,630.0,630.0,630.0,630.0,982.0,982.0,982.0,982.0,982.0,982.0,982.0,982.0,982.0,982.0,982.0,652.0,652.0,652.0,652.0,652.0,652.0,451.0,451.0,451.0,451.0,451.0,451.0,821.0,821.0,821.0,821.0,255.0,255.0,255.0,625.0,625.0,625.0,625.0,625.0,1653.0,1653.0,1653.0,1653.0,1653.0,1653.0,1653.0,2315.0,2315.0,2315.0,2315.0,2315.0,2315.0,2315.0,2315.0,2315.0,2315.0,2315.0,2315.0,2315.0,498.0,498.0,498.0,498.0,498.0,787.0,787.0,787.0,787.0,1668.0,1668.0,1668.0,1668.0,1668.0,1668.0,1668.0,1668.0,207.0,207.0,207.0,207.0,207.0,579.0,579.0,579.0,579.0,579.0,579.0,330.0,330.0,330.0,217.0,217.0,217.0,217.0,217.0,763.0,763.0,763.0,763.0,572.0,572.0,572.0,922.0,922.0,922.0,922.0,922.0,922.0,922.0,922.0,922.0,922.0,922.0,922.0,922.0,526.0,526.0,526.0,526.0,526.0,1246.0,1246.0,1246.0,228.0,228.0,228.0,228.0,228.0,228.0,1730.0,1730.0,1730.0,1730.0,1730.0,1730.0,712.0,712.0,712.0,712.0,1200.0,1200.0,1200.0,1200.0,202.0,202.0,202.0,979.0,979.0,979.0,946.0,946.0,946.0,946.0,1832.0,1832.0,1832.0,1832.0,508.0,508.0,508.0,508.0,763.0,763.0,763.0,763.0,763.0,763.0,763.0,763.0,763.0,763.0,763.0,763.0,763.0,763.0,763.0,763.0,763.0,763.0,326.0,326.0,326.0,404.0,404.0,404.0,404.0,404.0,404.0,336.0,336.0,555.0,555.0,555.0,417.0,417.0,417.0,417.0,417.0,1255.0,1255.0,1255.0,2550.0,2550.0,2550.0,2550.0,2550.0,2550.0,2550.0,2550.0,2550.0,2550.0,2550.0,2550.0,2550.0,2550.0,751.0,751.0,751.0,751.0,751.0,751.0,243.0,243.0,243.0,586.0,586.0,586.0,586.0,586.0,924.0,924.0,924.0,924.0,600.0,600.0,600.0,600.0,1153.0,1153.0,1153.0,1153.0,1153.0,164.0,164.0,164.0,164.0,164.0,164.0,164.0,164.0,164.0,783.0,783.0,783.0,783.0,783.0,1044.0,1044.0,1044.0,1044.0,1044.0,719.0,719.0,719.0,719.0,220.0,220.0,220.0,220.0,220.0,887.0,887.0,887.0,616.0,616.0,616.0,616.0,616.0,616.0,559.0,559.0,559.0,559.0,559.0,559.0,559.0,416.0,416.0,416.0,416.0,416.0,416.0,416.0,416.0,416.0,416.0,416.0,416.0,416.0,701.0,701.0,701.0,701.0,701.0,701.0,701.0,701.0,701.0,701.0,1983.0,1983.0,1983.0,1983.0,1983.0,1983.0,1983.0,1983.0,1983.0,1983.0,1983.0,1896.0,1896.0,1896.0,1896.0,1896.0,1896.0,1896.0,1896.0,1896.0,780.0,780.0,1359.0,1359.0,1359.0,1359.0,1359.0,646.0,646.0,646.0,646.0,646.0,1433.0,1433.0,1433.0,1433.0,1433.0,1433.0,1433.0,1433.0,1433.0,1433.0,1433.0,1433.0,1433.0,1433.0,1433.0,1433.0,1433.0,854.0,854.0,854.0,854.0,854.0,854.0,1378.0,1378.0,1378.0,1378.0,1378.0,1378.0,345.0,345.0,345.0,345.0,345.0,995.0,995.0,995.0,995.0,205.0,205.0,205.0,205.0,205.0,205.0,205.0,205.0,509.0,509.0,509.0,509.0,509.0,509.0,509.0,509.0,509.0,509.0,509.0,509.0,588.0,588.0,588.0,588.0,396.0,396.0,396.0,396.0,396.0,396.0,396.0,396.0,396.0,396.0,693.0,693.0,693.0,693.0,693.0,155.0,155.0,155.0,133.0,133.0,133.0,133.0,133.0,133.0,133.0,133.0,133.0,78.0,78.0,78.0,78.0,78.0,78.0,78.0,78.0,78.0,78.0,568.0,568.0,568.0,568.0,568.0,568.0,568.0,358.0,358.0,358.0,358.0,358.0,358.0,123.0,123.0,123.0,123.0,123.0,148.0,148.0,148.0,1524.0,1524.0,1524.0,1524.0,1524.0,1524.0,1524.0,1524.0,1524.0,713.0,713.0,713.0,124.0,124.0,124.0,124.0,1400.0,1400.0,1400.0,1400.0,609.0,609.0,609.0,609.0,196.0,196.0,196.0,196.0,196.0,196.0,196.0,196.0,196.0,196.0,196.0,196.0,196.0,196.0,189.0,189.0,189.0,189.0,189.0,98.0,98.0,98.0,98.0,98.0,98.0,98.0,13.0,13.0,13.0,165.0,165.0,165.0,165.0,165.0,507.0,507.0,507.0,507.0,507.0,507.0,444.0,444.0,444.0,444.0,444.0,448.0,448.0,448.0,448.0,448.0,448.0,448.0,448.0,448.0,1374.0,1374.0,1374.0,1374.0,1374.0,1374.0,1374.0,266.0,266.0,266.0,266.0,59.0,59.0,59.0,159.0,159.0,159.0,159.0,159.0,267.0,267.0,267.0,267.0,267.0,267.0,130.0,130.0,130.0,130.0,130.0,505.0,505.0,505.0,505.0,505.0,505.0,505.0,505.0,396.0,396.0,396.0,396.0,280.0,280.0,280.0,280.0,744.0,744.0,744.0,744.0,744.0,744.0,619.0,619.0,619.0,619.0,619.0,619.0,619.0,619.0,1204.0,1204.0,1204.0,1204.0,1204.0,1204.0,1204.0,1204.0,1204.0,1204.0,1204.0,1204.0,57.0,57.0,57.0,57.0,57.0,246.0,246.0,246.0,246.0,246.0,19.0,19.0,19.0,16.0,146.0,146.0,146.0,146.0,146.0,146.0],\"y0\":\" \",\"yaxis\":\"y\",\"type\":\"box\"}],                        {\"template\":{\"data\":{\"bar\":[{\"error_x\":{\"color\":\"#2a3f5f\"},\"error_y\":{\"color\":\"#2a3f5f\"},\"marker\":{\"line\":{\"color\":\"#E5ECF6\",\"width\":0.5},\"pattern\":{\"fillmode\":\"overlay\",\"size\":10,\"solidity\":0.2}},\"type\":\"bar\"}],\"barpolar\":[{\"marker\":{\"line\":{\"color\":\"#E5ECF6\",\"width\":0.5},\"pattern\":{\"fillmode\":\"overlay\",\"size\":10,\"solidity\":0.2}},\"type\":\"barpolar\"}],\"carpet\":[{\"aaxis\":{\"endlinecolor\":\"#2a3f5f\",\"gridcolor\":\"white\",\"linecolor\":\"white\",\"minorgridcolor\":\"white\",\"startlinecolor\":\"#2a3f5f\"},\"baxis\":{\"endlinecolor\":\"#2a3f5f\",\"gridcolor\":\"white\",\"linecolor\":\"white\",\"minorgridcolor\":\"white\",\"startlinecolor\":\"#2a3f5f\"},\"type\":\"carpet\"}],\"choropleth\":[{\"colorbar\":{\"outlinewidth\":0,\"ticks\":\"\"},\"type\":\"choropleth\"}],\"contour\":[{\"colorbar\":{\"outlinewidth\":0,\"ticks\":\"\"},\"colorscale\":[[0.0,\"#0d0887\"],[0.1111111111111111,\"#46039f\"],[0.2222222222222222,\"#7201a8\"],[0.3333333333333333,\"#9c179e\"],[0.4444444444444444,\"#bd3786\"],[0.5555555555555556,\"#d8576b\"],[0.6666666666666666,\"#ed7953\"],[0.7777777777777778,\"#fb9f3a\"],[0.8888888888888888,\"#fdca26\"],[1.0,\"#f0f921\"]],\"type\":\"contour\"}],\"contourcarpet\":[{\"colorbar\":{\"outlinewidth\":0,\"ticks\":\"\"},\"type\":\"contourcarpet\"}],\"heatmap\":[{\"colorbar\":{\"outlinewidth\":0,\"ticks\":\"\"},\"colorscale\":[[0.0,\"#0d0887\"],[0.1111111111111111,\"#46039f\"],[0.2222222222222222,\"#7201a8\"],[0.3333333333333333,\"#9c179e\"],[0.4444444444444444,\"#bd3786\"],[0.5555555555555556,\"#d8576b\"],[0.6666666666666666,\"#ed7953\"],[0.7777777777777778,\"#fb9f3a\"],[0.8888888888888888,\"#fdca26\"],[1.0,\"#f0f921\"]],\"type\":\"heatmap\"}],\"heatmapgl\":[{\"colorbar\":{\"outlinewidth\":0,\"ticks\":\"\"},\"colorscale\":[[0.0,\"#0d0887\"],[0.1111111111111111,\"#46039f\"],[0.2222222222222222,\"#7201a8\"],[0.3333333333333333,\"#9c179e\"],[0.4444444444444444,\"#bd3786\"],[0.5555555555555556,\"#d8576b\"],[0.6666666666666666,\"#ed7953\"],[0.7777777777777778,\"#fb9f3a\"],[0.8888888888888888,\"#fdca26\"],[1.0,\"#f0f921\"]],\"type\":\"heatmapgl\"}],\"histogram\":[{\"marker\":{\"pattern\":{\"fillmode\":\"overlay\",\"size\":10,\"solidity\":0.2}},\"type\":\"histogram\"}],\"histogram2d\":[{\"colorbar\":{\"outlinewidth\":0,\"ticks\":\"\"},\"colorscale\":[[0.0,\"#0d0887\"],[0.1111111111111111,\"#46039f\"],[0.2222222222222222,\"#7201a8\"],[0.3333333333333333,\"#9c179e\"],[0.4444444444444444,\"#bd3786\"],[0.5555555555555556,\"#d8576b\"],[0.6666666666666666,\"#ed7953\"],[0.7777777777777778,\"#fb9f3a\"],[0.8888888888888888,\"#fdca26\"],[1.0,\"#f0f921\"]],\"type\":\"histogram2d\"}],\"histogram2dcontour\":[{\"colorbar\":{\"outlinewidth\":0,\"ticks\":\"\"},\"colorscale\":[[0.0,\"#0d0887\"],[0.1111111111111111,\"#46039f\"],[0.2222222222222222,\"#7201a8\"],[0.3333333333333333,\"#9c179e\"],[0.4444444444444444,\"#bd3786\"],[0.5555555555555556,\"#d8576b\"],[0.6666666666666666,\"#ed7953\"],[0.7777777777777778,\"#fb9f3a\"],[0.8888888888888888,\"#fdca26\"],[1.0,\"#f0f921\"]],\"type\":\"histogram2dcontour\"}],\"mesh3d\":[{\"colorbar\":{\"outlinewidth\":0,\"ticks\":\"\"},\"type\":\"mesh3d\"}],\"parcoords\":[{\"line\":{\"colorbar\":{\"outlinewidth\":0,\"ticks\":\"\"}},\"type\":\"parcoords\"}],\"pie\":[{\"automargin\":true,\"type\":\"pie\"}],\"scatter\":[{\"marker\":{\"colorbar\":{\"outlinewidth\":0,\"ticks\":\"\"}},\"type\":\"scatter\"}],\"scatter3d\":[{\"line\":{\"colorbar\":{\"outlinewidth\":0,\"ticks\":\"\"}},\"marker\":{\"colorbar\":{\"outlinewidth\":0,\"ticks\":\"\"}},\"type\":\"scatter3d\"}],\"scattercarpet\":[{\"marker\":{\"colorbar\":{\"outlinewidth\":0,\"ticks\":\"\"}},\"type\":\"scattercarpet\"}],\"scattergeo\":[{\"marker\":{\"colorbar\":{\"outlinewidth\":0,\"ticks\":\"\"}},\"type\":\"scattergeo\"}],\"scattergl\":[{\"marker\":{\"colorbar\":{\"outlinewidth\":0,\"ticks\":\"\"}},\"type\":\"scattergl\"}],\"scattermapbox\":[{\"marker\":{\"colorbar\":{\"outlinewidth\":0,\"ticks\":\"\"}},\"type\":\"scattermapbox\"}],\"scatterpolar\":[{\"marker\":{\"colorbar\":{\"outlinewidth\":0,\"ticks\":\"\"}},\"type\":\"scatterpolar\"}],\"scatterpolargl\":[{\"marker\":{\"colorbar\":{\"outlinewidth\":0,\"ticks\":\"\"}},\"type\":\"scatterpolargl\"}],\"scatterternary\":[{\"marker\":{\"colorbar\":{\"outlinewidth\":0,\"ticks\":\"\"}},\"type\":\"scatterternary\"}],\"surface\":[{\"colorbar\":{\"outlinewidth\":0,\"ticks\":\"\"},\"colorscale\":[[0.0,\"#0d0887\"],[0.1111111111111111,\"#46039f\"],[0.2222222222222222,\"#7201a8\"],[0.3333333333333333,\"#9c179e\"],[0.4444444444444444,\"#bd3786\"],[0.5555555555555556,\"#d8576b\"],[0.6666666666666666,\"#ed7953\"],[0.7777777777777778,\"#fb9f3a\"],[0.8888888888888888,\"#fdca26\"],[1.0,\"#f0f921\"]],\"type\":\"surface\"}],\"table\":[{\"cells\":{\"fill\":{\"color\":\"#EBF0F8\"},\"line\":{\"color\":\"white\"}},\"header\":{\"fill\":{\"color\":\"#C8D4E3\"},\"line\":{\"color\":\"white\"}},\"type\":\"table\"}]},\"layout\":{\"annotationdefaults\":{\"arrowcolor\":\"#2a3f5f\",\"arrowhead\":0,\"arrowwidth\":1},\"autotypenumbers\":\"strict\",\"coloraxis\":{\"colorbar\":{\"outlinewidth\":0,\"ticks\":\"\"}},\"colorscale\":{\"diverging\":[[0,\"#8e0152\"],[0.1,\"#c51b7d\"],[0.2,\"#de77ae\"],[0.3,\"#f1b6da\"],[0.4,\"#fde0ef\"],[0.5,\"#f7f7f7\"],[0.6,\"#e6f5d0\"],[0.7,\"#b8e186\"],[0.8,\"#7fbc41\"],[0.9,\"#4d9221\"],[1,\"#276419\"]],\"sequential\":[[0.0,\"#0d0887\"],[0.1111111111111111,\"#46039f\"],[0.2222222222222222,\"#7201a8\"],[0.3333333333333333,\"#9c179e\"],[0.4444444444444444,\"#bd3786\"],[0.5555555555555556,\"#d8576b\"],[0.6666666666666666,\"#ed7953\"],[0.7777777777777778,\"#fb9f3a\"],[0.8888888888888888,\"#fdca26\"],[1.0,\"#f0f921\"]],\"sequentialminus\":[[0.0,\"#0d0887\"],[0.1111111111111111,\"#46039f\"],[0.2222222222222222,\"#7201a8\"],[0.3333333333333333,\"#9c179e\"],[0.4444444444444444,\"#bd3786\"],[0.5555555555555556,\"#d8576b\"],[0.6666666666666666,\"#ed7953\"],[0.7777777777777778,\"#fb9f3a\"],[0.8888888888888888,\"#fdca26\"],[1.0,\"#f0f921\"]]},\"colorway\":[\"#636efa\",\"#EF553B\",\"#00cc96\",\"#ab63fa\",\"#FFA15A\",\"#19d3f3\",\"#FF6692\",\"#B6E880\",\"#FF97FF\",\"#FECB52\"],\"font\":{\"color\":\"#2a3f5f\"},\"geo\":{\"bgcolor\":\"white\",\"lakecolor\":\"white\",\"landcolor\":\"#E5ECF6\",\"showlakes\":true,\"showland\":true,\"subunitcolor\":\"white\"},\"hoverlabel\":{\"align\":\"left\"},\"hovermode\":\"closest\",\"mapbox\":{\"style\":\"light\"},\"paper_bgcolor\":\"white\",\"plot_bgcolor\":\"#E5ECF6\",\"polar\":{\"angularaxis\":{\"gridcolor\":\"white\",\"linecolor\":\"white\",\"ticks\":\"\"},\"bgcolor\":\"#E5ECF6\",\"radialaxis\":{\"gridcolor\":\"white\",\"linecolor\":\"white\",\"ticks\":\"\"}},\"scene\":{\"xaxis\":{\"backgroundcolor\":\"#E5ECF6\",\"gridcolor\":\"white\",\"gridwidth\":2,\"linecolor\":\"white\",\"showbackground\":true,\"ticks\":\"\",\"zerolinecolor\":\"white\"},\"yaxis\":{\"backgroundcolor\":\"#E5ECF6\",\"gridcolor\":\"white\",\"gridwidth\":2,\"linecolor\":\"white\",\"showbackground\":true,\"ticks\":\"\",\"zerolinecolor\":\"white\"},\"zaxis\":{\"backgroundcolor\":\"#E5ECF6\",\"gridcolor\":\"white\",\"gridwidth\":2,\"linecolor\":\"white\",\"showbackground\":true,\"ticks\":\"\",\"zerolinecolor\":\"white\"}},\"shapedefaults\":{\"line\":{\"color\":\"#2a3f5f\"}},\"ternary\":{\"aaxis\":{\"gridcolor\":\"white\",\"linecolor\":\"white\",\"ticks\":\"\"},\"baxis\":{\"gridcolor\":\"white\",\"linecolor\":\"white\",\"ticks\":\"\"},\"bgcolor\":\"#E5ECF6\",\"caxis\":{\"gridcolor\":\"white\",\"linecolor\":\"white\",\"ticks\":\"\"}},\"title\":{\"x\":0.05},\"xaxis\":{\"automargin\":true,\"gridcolor\":\"white\",\"linecolor\":\"white\",\"ticks\":\"\",\"title\":{\"standoff\":15},\"zerolinecolor\":\"white\",\"zerolinewidth\":2},\"yaxis\":{\"automargin\":true,\"gridcolor\":\"white\",\"linecolor\":\"white\",\"ticks\":\"\",\"title\":{\"standoff\":15},\"zerolinecolor\":\"white\",\"zerolinewidth\":2}}},\"xaxis\":{\"anchor\":\"y\",\"domain\":[0.0,1.0],\"title\":{\"text\":\"\\uacf5\\uae09\\uc720\\ud615\"}},\"yaxis\":{\"anchor\":\"x\",\"domain\":[0.0,1.0],\"title\":{\"text\":\"\\ub4f1\\ub85d\\ucc28\\ub7c9\\uc218\"}},\"legend\":{\"tracegroupgap\":0},\"margin\":{\"t\":60},\"boxmode\":\"group\"},                        {\"responsive\": true}                    ).then(function(){\n",
              "                            \n",
              "var gd = document.getElementById('ab816980-aa46-418a-9dc7-19a0dfdd7c64');\n",
              "var x = new MutationObserver(function (mutations, observer) {{\n",
              "        var display = window.getComputedStyle(gd).display;\n",
              "        if (!display || display === 'none') {{\n",
              "            console.log([gd, 'removed!']);\n",
              "            Plotly.purge(gd);\n",
              "            observer.disconnect();\n",
              "        }}\n",
              "}});\n",
              "\n",
              "// Listen for the removal of the full notebook cells\n",
              "var notebookContainer = gd.closest('#notebook-container');\n",
              "if (notebookContainer) {{\n",
              "    x.observe(notebookContainer, {childList: true});\n",
              "}}\n",
              "\n",
              "// Listen for the clearing of the current output cell\n",
              "var outputEl = gd.closest('.output');\n",
              "if (outputEl) {{\n",
              "    x.observe(outputEl, {childList: true});\n",
              "}}\n",
              "\n",
              "                        })                };                            </script>        </div>\n",
              "</body>\n",
              "</html>"
            ]
          },
          "metadata": {}
        }
      ]
    },
    {
      "cell_type": "code",
      "source": [
        "tmp = train.copy()\n",
        "tmp['차이'] = tmp['단지내주차면수'] - tmp['등록차량수']\n",
        "fig = px.box(tmp,x='공급유형',y='차이',hover_name='단지코드')\n",
        "fig.show(renderer=\"colab\")"
      ],
      "metadata": {
        "colab": {
          "base_uri": "https://localhost:8080/",
          "height": 542
        },
        "id": "yjmSmIq9Z7hb",
        "outputId": "1136250e-75e8-42c1-eb11-6a7cc73f1ca0"
      },
      "execution_count": 36,
      "outputs": [
        {
          "output_type": "display_data",
          "data": {
            "text/html": [
              "<html>\n",
              "<head><meta charset=\"utf-8\" /></head>\n",
              "<body>\n",
              "    <div>            <script src=\"https://cdnjs.cloudflare.com/ajax/libs/mathjax/2.7.5/MathJax.js?config=TeX-AMS-MML_SVG\"></script><script type=\"text/javascript\">if (window.MathJax) {MathJax.Hub.Config({SVG: {font: \"STIX-Web\"}});}</script>                <script type=\"text/javascript\">window.PlotlyConfig = {MathJaxConfig: 'local'};</script>\n",
              "        <script src=\"https://cdn.plot.ly/plotly-2.8.3.min.js\"></script>                <div id=\"b4877d8b-06e7-4307-80a3-d2472d5074b7\" class=\"plotly-graph-div\" style=\"height:525px; width:100%;\"></div>            <script type=\"text/javascript\">                                    window.PLOTLYENV=window.PLOTLYENV || {};                                    if (document.getElementById(\"b4877d8b-06e7-4307-80a3-d2472d5074b7\")) {                    Plotly.newPlot(                        \"b4877d8b-06e7-4307-80a3-d2472d5074b7\",                        [{\"alignmentgroup\":\"True\",\"hovertemplate\":\"<b>%{hovertext}</b><br><br>\\uacf5\\uae09\\uc720\\ud615=%{x}<br>\\ucc28\\uc774=%{y}<extra></extra>\",\"hovertext\":[\"C2515\",\"C2515\",\"C2515\",\"C2515\",\"C2515\",\"C2515\",\"C2515\",\"C1407\",\"C1407\",\"C1407\",\"C1407\",\"C1407\",\"C1407\",\"C1407\",\"C1407\",\"C1407\",\"C1407\",\"C1407\",\"C1945\",\"C1945\",\"C1945\",\"C1945\",\"C1945\",\"C1945\",\"C1470\",\"C1470\",\"C1470\",\"C1470\",\"C1898\",\"C1898\",\"C1898\",\"C1898\",\"C1898\",\"C1898\",\"C1244\",\"C1244\",\"C1244\",\"C1244\",\"C1244\",\"C1244\",\"C1244\",\"C1244\",\"C1244\",\"C1244\",\"C1244\",\"C1244\",\"C1244\",\"C1171\",\"C1171\",\"C1171\",\"C1171\",\"C1171\",\"C1171\",\"C1171\",\"C1171\",\"C1171\",\"C1171\",\"C1171\",\"C1171\",\"C2073\",\"C2073\",\"C2073\",\"C2073\",\"C2073\",\"C2073\",\"C2513\",\"C2513\",\"C2513\",\"C1936\",\"C1936\",\"C1936\",\"C1936\",\"C2049\",\"C2049\",\"C2049\",\"C2202\",\"C2202\",\"C2202\",\"C1925\",\"C1925\",\"C1925\",\"C1925\",\"C1925\",\"C1925\",\"C2576\",\"C2576\",\"C1312\",\"C1312\",\"C1312\",\"C1312\",\"C1874\",\"C1874\",\"C1874\",\"C1874\",\"C1874\",\"C1874\",\"C1874\",\"C1874\",\"C1874\",\"C1874\",\"C1874\",\"C1874\",\"C1874\",\"C1874\",\"C1874\",\"C1874\",\"C1874\",\"C1874\",\"C1874\",\"C1874\",\"C1874\",\"C1874\",\"C1874\",\"C1874\",\"C1874\",\"C1874\",\"C1874\",\"C1874\",\"C1874\",\"C1874\",\"C2650\",\"C2650\",\"C2650\",\"C2416\",\"C2416\",\"C2416\",\"C2416\",\"C2416\",\"C2416\",\"C2416\",\"C2416\",\"C2416\",\"C2416\",\"C2013\",\"C2013\",\"C2013\",\"C1424\",\"C1424\",\"C1424\",\"C2100\",\"C2100\",\"C2100\",\"C2100\",\"C2100\",\"C2100\",\"C2621\",\"C2621\",\"C2621\",\"C2621\",\"C2621\",\"C2621\",\"C2621\",\"C2621\",\"C2621\",\"C2621\",\"C2621\",\"C2621\",\"C2621\",\"C2621\",\"C2621\",\"C2621\",\"C2621\",\"C2621\",\"C2520\",\"C2319\",\"C2319\",\"C2319\",\"C2319\",\"C1616\",\"C1616\",\"C1616\",\"C1616\",\"C1616\",\"C1616\",\"C1616\",\"C1616\",\"C1616\",\"C1616\",\"C1616\",\"C1616\",\"C1616\",\"C1616\",\"C1616\",\"C1616\",\"C1616\",\"C1616\",\"C1616\",\"C1616\",\"C1616\",\"C1616\",\"C1704\",\"C1704\",\"C1704\",\"C1704\",\"C1704\",\"C1704\",\"C1704\",\"C1704\",\"C1704\",\"C1704\",\"C1704\",\"C1704\",\"C1704\",\"C1704\",\"C1704\",\"C1704\",\"C1704\",\"C2258\",\"C2258\",\"C2258\",\"C2258\",\"C2258\",\"C2258\",\"C2258\",\"C2258\",\"C2258\",\"C2258\",\"C2258\",\"C2258\",\"C2258\",\"C2258\",\"C2258\",\"C2258\",\"C2258\",\"C2258\",\"C2258\",\"C2258\",\"C1032\",\"C1032\",\"C1032\",\"C1032\",\"C1032\",\"C1032\",\"C2038\",\"C2038\",\"C2038\",\"C2038\",\"C2038\",\"C2038\",\"C2038\",\"C2038\",\"C2038\",\"C2038\",\"C2038\",\"C2038\",\"C2038\",\"C2038\",\"C2038\",\"C2038\",\"C2038\",\"C2038\",\"C2038\",\"C2038\",\"C1859\",\"C1859\",\"C1859\",\"C1859\",\"C1859\",\"C1859\",\"C1859\",\"C1859\",\"C1859\",\"C1859\",\"C1859\",\"C1859\",\"C1859\",\"C1859\",\"C1859\",\"C1859\",\"C1859\",\"C1859\",\"C1859\",\"C1859\",\"C1859\",\"C1859\",\"C1859\",\"C1859\",\"C1859\",\"C1859\",\"C1859\",\"C1859\",\"C1859\",\"C1859\",\"C1859\",\"C1859\",\"C1859\",\"C1859\",\"C1859\",\"C1859\",\"C1859\",\"C1859\",\"C1859\",\"C1859\",\"C1722\",\"C1722\",\"C1722\",\"C1722\",\"C1722\",\"C1722\",\"C1722\",\"C1722\",\"C1722\",\"C1722\",\"C1722\",\"C1850\",\"C1850\",\"C1850\",\"C2190\",\"C2190\",\"C2190\",\"C2190\",\"C2190\",\"C2190\",\"C2190\",\"C2190\",\"C2190\",\"C2190\",\"C2190\",\"C2190\",\"C2190\",\"C2190\",\"C2190\",\"C2190\",\"C2190\",\"C2190\",\"C2190\",\"C2190\",\"C2190\",\"C1476\",\"C1476\",\"C1476\",\"C1476\",\"C1476\",\"C1476\",\"C1476\",\"C1476\",\"C1077\",\"C1077\",\"C1077\",\"C1068\",\"C1068\",\"C1068\",\"C1068\",\"C1068\",\"C1068\",\"C1983\",\"C1983\",\"C1983\",\"C1983\",\"C1983\",\"C1983\",\"C1983\",\"C1983\",\"C1983\",\"C1983\",\"C1983\",\"C1983\",\"C1983\",\"C1983\",\"C1983\",\"C2135\",\"C2135\",\"C2135\",\"C2135\",\"C2135\",\"C2135\",\"C2135\",\"C2135\",\"C2135\",\"C2135\",\"C2135\",\"C2135\",\"C2135\",\"C2135\",\"C2135\",\"C2135\",\"C2135\",\"C2135\",\"C2135\",\"C2135\",\"C2034\",\"C2034\",\"C2034\",\"C2034\",\"C2034\",\"C2034\",\"C2034\",\"C2034\",\"C2034\",\"C2034\",\"C2034\",\"C2034\",\"C2034\",\"C2034\",\"C2034\",\"C2034\",\"C2034\",\"C2034\",\"C2034\",\"C2034\",\"C2034\",\"C2034\",\"C2034\",\"C2034\",\"C2034\",\"C2034\",\"C2034\",\"C2034\",\"C2034\",\"C1109\",\"C1109\",\"C1109\",\"C1109\",\"C1109\",\"C1109\",\"C1109\",\"C1109\",\"C1109\",\"C1109\",\"C1109\",\"C1109\",\"C1109\",\"C1109\",\"C1109\",\"C1109\",\"C1109\",\"C1109\",\"C1109\",\"C1109\",\"C1109\",\"C1109\",\"C1497\",\"C1497\",\"C2289\",\"C2289\",\"C2289\",\"C2289\",\"C2289\",\"C2289\",\"C2289\",\"C2289\",\"C2289\",\"C2289\",\"C2289\",\"C2289\",\"C2289\",\"C2289\",\"C2289\",\"C2289\",\"C2289\",\"C2289\",\"C2289\",\"C2289\",\"C2289\",\"C2289\",\"C2289\",\"C2289\",\"C2597\",\"C2597\",\"C2597\",\"C2597\",\"C2597\",\"C2597\",\"C2597\",\"C2597\",\"C2597\",\"C2597\",\"C2597\",\"C2597\",\"C2597\",\"C2597\",\"C2597\",\"C2597\",\"C2597\",\"C2597\",\"C2597\",\"C2597\",\"C2597\",\"C2597\",\"C2597\",\"C2597\",\"C2597\",\"C2597\",\"C2597\",\"C2597\",\"C2597\",\"C2597\",\"C2597\",\"C2597\",\"C2310\",\"C2310\",\"C2310\",\"C2310\",\"C2310\",\"C2310\",\"C2310\",\"C2310\",\"C2310\",\"C2310\",\"C2310\",\"C2310\",\"C2310\",\"C2310\",\"C2310\",\"C2310\",\"C2310\",\"C2310\",\"C2310\",\"C2310\",\"C2310\",\"C2310\",\"C2310\",\"C1672\",\"C1672\",\"C2132\",\"C2132\",\"C2132\",\"C2132\",\"C2132\",\"C2132\",\"C2132\",\"C2132\",\"C2132\",\"C2132\",\"C2132\",\"C2132\",\"C2132\",\"C2132\",\"C2132\",\"C2132\",\"C2132\",\"C2132\",\"C2132\",\"C2132\",\"C2132\",\"C2132\",\"C2132\",\"C2132\",\"C2132\",\"C2132\",\"C2132\",\"C2132\",\"C2132\",\"C2132\",\"C2132\",\"C2132\",\"C2132\",\"C2132\",\"C2132\",\"C2132\",\"C2132\",\"C2132\",\"C2132\",\"C2132\",\"C2132\",\"C2132\",\"C2132\",\"C2132\",\"C2132\",\"C2132\",\"C2132\",\"C1439\",\"C1439\",\"C1439\",\"C1439\",\"C1439\",\"C1439\",\"C1439\",\"C1439\",\"C1439\",\"C1439\",\"C1439\",\"C1439\",\"C1439\",\"C1439\",\"C1439\",\"C1439\",\"C1439\",\"C1439\",\"C1439\",\"C1439\",\"C1439\",\"C1439\",\"C1439\",\"C1439\",\"C1439\",\"C1439\",\"C1439\",\"C1439\",\"C1439\",\"C1439\",\"C1439\",\"C1439\",\"C1439\",\"C1439\",\"C1439\",\"C1439\",\"C1439\",\"C1439\",\"C1439\",\"C1439\",\"C1439\",\"C1439\",\"C1439\",\"C1439\",\"C1439\",\"C1439\",\"C1439\",\"C1439\",\"C1613\",\"C1613\",\"C1613\",\"C2216\",\"C2216\",\"C1899\",\"C1899\",\"C1899\",\"C1899\",\"C1899\",\"C1899\",\"C1056\",\"C1056\",\"C1056\",\"C1056\",\"C1056\",\"C1056\",\"C1056\",\"C1056\",\"C1056\",\"C1056\",\"C1056\",\"C1056\",\"C2644\",\"C2644\",\"C2644\",\"C2644\",\"C2644\",\"C2644\",\"C2644\",\"C1206\",\"C1206\",\"C1206\",\"C1206\",\"C1206\",\"C1206\",\"C1206\",\"C1206\",\"C1206\",\"C1206\",\"C1206\",\"C1206\",\"C2481\",\"C2481\",\"C2481\",\"C1718\",\"C1718\",\"C1655\",\"C1655\",\"C1655\",\"C1655\",\"C1430\",\"C1430\",\"C1430\",\"C1430\",\"C1775\",\"C1775\",\"C1775\",\"C1775\",\"C1775\",\"C1775\",\"C1775\",\"C1775\",\"C1775\",\"C1775\",\"C1775\",\"C1775\",\"C1775\",\"C1775\",\"C1775\",\"C1775\",\"C1775\",\"C1519\",\"C1519\",\"C2221\",\"C2221\",\"C2221\",\"C2221\",\"C2221\",\"C2221\",\"C2221\",\"C2221\",\"C1790\",\"C1790\",\"C1790\",\"C1790\",\"C1790\",\"C1790\",\"C1790\",\"C1790\",\"C1790\",\"C1790\",\"C1790\",\"C1790\",\"C1790\",\"C1790\",\"C1790\",\"C1790\",\"C1790\",\"C1790\",\"C1790\",\"C1790\",\"C1790\",\"C1790\",\"C1790\",\"C1790\",\"C1790\",\"C1790\",\"C1790\",\"C1790\",\"C1790\",\"C1790\",\"C1790\",\"C1790\",\"C1790\",\"C2109\",\"C2109\",\"C2109\",\"C2109\",\"C2109\",\"C2109\",\"C2109\",\"C2109\",\"C2109\",\"C2109\",\"C2109\",\"C2109\",\"C2109\",\"C2109\",\"C2109\",\"C2109\",\"C2109\",\"C1698\",\"C1698\",\"C1698\",\"C1698\",\"C1698\",\"C1698\",\"C1698\",\"C1698\",\"C1866\",\"C1866\",\"C1866\",\"C1866\",\"C1005\",\"C1005\",\"C1005\",\"C1004\",\"C1004\",\"C1004\",\"C1004\",\"C1004\",\"C1004\",\"C1004\",\"C1004\",\"C1004\",\"C1004\",\"C1004\",\"C1004\",\"C1004\",\"C1004\",\"C1004\",\"C1004\",\"C1004\",\"C1004\",\"C1004\",\"C1875\",\"C1875\",\"C1875\",\"C1875\",\"C1875\",\"C1875\",\"C1875\",\"C1875\",\"C1875\",\"C1875\",\"C1875\",\"C1875\",\"C1875\",\"C1875\",\"C1875\",\"C1875\",\"C1875\",\"C1875\",\"C1875\",\"C1875\",\"C1875\",\"C1875\",\"C2156\",\"C2156\",\"C2156\",\"C2212\",\"C2212\",\"C2212\",\"C2212\",\"C2212\",\"C2212\",\"C2212\",\"C2212\",\"C2212\",\"C2212\",\"C2212\",\"C2212\",\"C2212\",\"C2212\",\"C2401\",\"C2401\",\"C2401\",\"C2571\",\"C2571\",\"C2571\",\"C2571\",\"C2571\",\"C2571\",\"C2571\",\"C2571\",\"C2571\",\"C2571\",\"C2571\",\"C2571\",\"C2571\",\"C2571\",\"C1175\",\"C1175\",\"C1175\",\"C1833\",\"C1833\",\"C1833\",\"C1833\",\"C1833\",\"C1833\",\"C1833\",\"C2445\",\"C2445\",\"C2445\",\"C2445\",\"C2445\",\"C2445\",\"C1885\",\"C1885\",\"C1885\",\"C1885\",\"C1885\",\"C1885\",\"C1885\",\"C1885\",\"C2368\",\"C2368\",\"C2368\",\"C2368\",\"C2368\",\"C2368\",\"C2368\",\"C2368\",\"C2016\",\"C2016\",\"C2016\",\"C2016\",\"C2371\",\"C2371\",\"C2371\",\"C2371\",\"C2371\",\"C2371\",\"C2371\",\"C2371\",\"C2536\",\"C2536\",\"C2536\",\"C2538\",\"C2538\",\"C2538\",\"C2538\",\"C2538\",\"C2538\",\"C2538\",\"C2538\",\"C2538\",\"C2538\",\"C2538\",\"C2538\",\"C2538\",\"C2538\",\"C2538\",\"C2538\",\"C2538\",\"C2538\",\"C2538\",\"C1014\",\"C1014\",\"C1014\",\"C1014\",\"C1014\",\"C1014\",\"C1014\",\"C1592\",\"C1592\",\"C1592\",\"C1592\",\"C1592\",\"C1592\",\"C1592\",\"C1867\",\"C1867\",\"C1867\",\"C1867\",\"C1867\",\"C1867\",\"C2326\",\"C2326\",\"C2326\",\"C2326\",\"C2326\",\"C1015\",\"C1015\",\"C1015\",\"C1015\",\"C1015\",\"C1015\",\"C1015\",\"C1015\",\"C1620\",\"C1620\",\"C1620\",\"C1620\",\"C1620\",\"C1049\",\"C1049\",\"C1049\",\"C1049\",\"C1049\",\"C2000\",\"C2000\",\"C2000\",\"C2000\",\"C2000\",\"C2000\",\"C2000\",\"C2097\",\"C2097\",\"C2097\",\"C2097\",\"C2097\",\"C2097\",\"C2097\",\"C1668\",\"C1668\",\"C1668\",\"C1668\",\"C1668\",\"C1668\",\"C1668\",\"C1689\",\"C1689\",\"C1689\",\"C1689\",\"C1689\",\"C1689\",\"C1689\",\"C1689\",\"C1689\",\"C1689\",\"C1234\",\"C1234\",\"C2514\",\"C2514\",\"C2514\",\"C2514\",\"C2514\",\"C2514\",\"C1368\",\"C1368\",\"C1368\",\"C1368\",\"C1057\",\"C1057\",\"C1057\",\"C1057\",\"C2336\",\"C2336\",\"C2336\",\"C2336\",\"C2336\",\"C2336\",\"C2336\",\"C1026\",\"C1026\",\"C2256\",\"C2256\",\"C2256\",\"C2256\",\"C2256\",\"C1900\",\"C1900\",\"C1900\",\"C1900\",\"C1900\",\"C1900\",\"C1900\",\"C1900\",\"C2666\",\"C2666\",\"C2666\",\"C2666\",\"C2666\",\"C2666\",\"C2361\",\"C2361\",\"C2361\",\"C2361\",\"C2361\",\"C2361\",\"C2361\",\"C2361\",\"C2361\",\"C2361\",\"C2361\",\"C1642\",\"C1642\",\"C1642\",\"C1642\",\"C1642\",\"C1642\",\"C1642\",\"C1013\",\"C1013\",\"C1013\",\"C1013\",\"C1013\",\"C2232\",\"C2232\",\"C2232\",\"C2232\",\"C1973\",\"C1973\",\"C1973\",\"C2458\",\"C2458\",\"C2458\",\"C2458\",\"C2458\",\"C2458\",\"C2458\",\"C2574\",\"C2574\",\"C2574\",\"C2574\",\"C2574\",\"C2574\",\"C2574\",\"C2574\",\"C2574\",\"C2133\",\"C2133\",\"C2133\",\"C2133\",\"C2133\",\"C2133\",\"C2096\",\"C2096\",\"C2096\",\"C2096\",\"C2096\",\"C2096\",\"C2096\",\"C2010\",\"C2010\",\"C2010\",\"C2010\",\"C2010\",\"C1879\",\"C1879\",\"C1879\",\"C1879\",\"C1879\",\"C1131\",\"C1131\",\"C1131\",\"C1131\",\"C1468\",\"C1468\",\"C1468\",\"C1468\",\"C1468\",\"C1213\",\"C1213\",\"C1213\",\"C1213\",\"C1213\",\"C1213\",\"C1173\",\"C1173\",\"C1173\",\"C1173\",\"C1173\",\"C1173\",\"C1173\",\"C1173\",\"C1173\",\"C2492\",\"C2492\",\"C2492\",\"C2492\",\"C2492\",\"C2032\",\"C2032\",\"C2032\",\"C2032\",\"C2032\",\"C2032\",\"C2032\",\"C2032\",\"C2094\",\"C2094\",\"C2094\",\"C2094\",\"C2094\",\"C2094\",\"C2094\",\"C1880\",\"C1880\",\"C1880\",\"C1880\",\"C2089\",\"C2089\",\"C2089\",\"C2089\",\"C2089\",\"C2089\",\"C1744\",\"C1744\",\"C1744\",\"C1744\",\"C1744\",\"C2046\",\"C2046\",\"C2046\",\"C2046\",\"C2046\",\"C2046\",\"C2071\",\"C2071\",\"C2071\",\"C2071\",\"C2071\",\"C2071\",\"C2071\",\"C2071\",\"C2071\",\"C2635\",\"C2635\",\"C2635\",\"C2635\",\"C2635\",\"C2390\",\"C2390\",\"C2390\",\"C2390\",\"C2561\",\"C2561\",\"C2561\",\"C2561\",\"C1663\",\"C1663\",\"C1663\",\"C1663\",\"C2490\",\"C2490\",\"C2066\",\"C2066\",\"C2066\",\"C2066\",\"C2066\",\"C2066\",\"C2066\",\"C2066\",\"C2066\",\"C2066\",\"C1585\",\"C1585\",\"C1585\",\"C1585\",\"C2276\",\"C2276\",\"C2276\",\"C1155\",\"C1155\",\"C1155\",\"C1693\",\"C1693\",\"C1693\",\"C1693\",\"C1889\",\"C1889\",\"C1889\",\"C1889\",\"C2518\",\"C2518\",\"C1962\",\"C1962\",\"C1962\",\"C1962\",\"C1666\",\"C1666\",\"C1666\",\"C1666\",\"C1666\",\"C1666\",\"C1666\",\"C1666\",\"C1666\",\"C1537\",\"C1537\",\"C1537\",\"C1537\",\"C1329\",\"C1329\",\"C1329\",\"C1329\",\"C1329\",\"C1329\",\"C1329\",\"C1329\",\"C1762\",\"C1762\",\"C1762\",\"C2008\",\"C2008\",\"C2008\",\"C2008\",\"C2008\",\"C2008\",\"C2008\",\"C2008\",\"C2008\",\"C2008\",\"C1319\",\"C1319\",\"C1319\",\"C1319\",\"C1319\",\"C1319\",\"C1141\",\"C1141\",\"C1141\",\"C1141\",\"C1141\",\"C1141\",\"C2340\",\"C1929\",\"C1929\",\"C1929\",\"C1929\",\"C1929\",\"C1929\",\"C1681\",\"C1681\",\"C1681\",\"C1681\",\"C1681\",\"C1681\",\"C1681\",\"C1681\",\"C1184\",\"C1184\",\"C1184\",\"C1184\",\"C1184\",\"C1184\",\"C1184\",\"C2383\",\"C2383\",\"C2383\",\"C2383\",\"C2383\",\"C2383\",\"C2383\",\"C2383\",\"C2383\",\"C1579\",\"C1579\",\"C1579\",\"C1579\",\"C1579\",\"C1579\",\"C1579\",\"C1579\",\"C1579\",\"C2173\",\"C2173\",\"C2173\",\"C2173\",\"C2173\",\"C2173\",\"C2173\",\"C2173\",\"C1911\",\"C1911\",\"C1911\",\"C1911\",\"C1911\",\"C1911\",\"C1638\",\"C1638\",\"C1638\",\"C1638\",\"C1638\",\"C2412\",\"C2412\",\"C2412\",\"C2412\",\"C2412\",\"C1871\",\"C1871\",\"C1871\",\"C1871\",\"C1871\",\"C1871\",\"C1309\",\"C1309\",\"C1309\",\"C1309\",\"C1309\",\"C1309\",\"C1309\",\"C1527\",\"C1527\",\"C1527\",\"C1527\",\"C1527\",\"C2208\",\"C2208\",\"C2208\",\"C2208\",\"C2208\",\"C2208\",\"C2208\",\"C2208\",\"C1940\",\"C1940\",\"C1940\",\"C1940\",\"C1940\",\"C1940\",\"C2596\",\"C2596\",\"C2596\",\"C2596\",\"C2596\",\"C2596\",\"C2596\",\"C2227\",\"C2227\",\"C2227\",\"C2227\",\"C2227\",\"C2227\",\"C2227\",\"C2563\",\"C2563\",\"C2563\",\"C2563\",\"C2358\",\"C2358\",\"C2358\",\"C2358\",\"C2358\",\"C2358\",\"C1492\",\"C1492\",\"C1492\",\"C1492\",\"C1492\",\"C1492\",\"C1492\",\"C1601\",\"C1601\",\"C1601\",\"C1601\",\"C1601\",\"C1601\",\"C1687\",\"C1687\",\"C1687\",\"C1687\",\"C1687\",\"C1687\",\"C1687\",\"C1687\",\"C1687\",\"C1687\",\"C1687\",\"C1236\",\"C1236\",\"C1236\",\"C1236\",\"C1236\",\"C1236\",\"C1236\",\"C1236\",\"C1236\",\"C1236\",\"C1236\",\"C1236\",\"C1487\",\"C1487\",\"C1379\",\"C1379\",\"C1379\",\"C1379\",\"C1386\",\"C1386\",\"C1386\",\"C1386\",\"C1386\",\"C1386\",\"C1386\",\"C1386\",\"C1386\",\"C1386\",\"C1386\",\"C1386\",\"C1386\",\"C1656\",\"C1656\",\"C1656\",\"C1656\",\"C1656\",\"C1656\",\"C1656\",\"C1656\",\"C2526\",\"C2526\",\"C2526\",\"C2526\",\"C2526\",\"C1022\",\"C1022\",\"C1022\",\"C1022\",\"C1896\",\"C1896\",\"C1896\",\"C1896\",\"C1896\",\"C1896\",\"C1269\",\"C1269\",\"C1269\",\"C1269\",\"C1916\",\"C1916\",\"C1916\",\"C1916\",\"C2070\",\"C2070\",\"C2070\",\"C2070\",\"C2070\",\"C1967\",\"C1967\",\"C1967\",\"C1967\",\"C2021\",\"C2021\",\"C2021\",\"C2021\",\"C2021\",\"C2021\",\"C2021\",\"C2021\",\"C2021\",\"C2021\",\"C2021\",\"C2021\",\"C1143\",\"C1143\",\"C1143\",\"C2188\",\"C2651\",\"C2651\",\"C1036\",\"C1036\",\"C1036\",\"C1036\",\"C1036\",\"C1036\",\"C1036\",\"C2657\",\"C2657\",\"C2657\",\"C2657\",\"C2657\",\"C2657\",\"C2657\",\"C2527\",\"C2527\",\"C2527\",\"C2527\",\"C2527\",\"C2262\",\"C2262\",\"C2262\",\"C2262\",\"C2262\",\"C2262\",\"C2262\",\"C2262\",\"C1084\",\"C1084\",\"C1084\",\"C1084\",\"C1084\",\"C1084\",\"C2530\",\"C2530\",\"C2530\",\"C2530\",\"C2530\",\"C2530\",\"C1046\",\"C1046\",\"C1046\",\"C1761\",\"C1761\",\"C1761\",\"C1761\",\"C1761\",\"C1761\",\"C1102\",\"C1102\",\"C1102\",\"C1102\",\"C1102\",\"C1102\",\"C2420\",\"C2420\",\"C2420\",\"C2420\",\"C2420\",\"C2420\",\"C2420\",\"C1122\",\"C1122\",\"C1122\",\"C1122\",\"C1122\",\"C1122\",\"C1122\",\"C2042\",\"C2042\",\"C2042\",\"C2042\",\"C2042\",\"C1375\",\"C1375\",\"C1375\",\"C1375\",\"C1375\",\"C1375\",\"C1375\",\"C1410\",\"C1410\",\"C1410\",\"C1641\",\"C1641\",\"C1641\",\"C1641\",\"C1706\",\"C1706\",\"C1706\",\"C1706\",\"C1706\",\"C1307\",\"C1307\",\"C1307\",\"C1307\",\"C1307\",\"C1307\",\"C1307\",\"C1307\",\"C2601\",\"C2601\",\"C2601\",\"C2601\",\"C2601\",\"C1085\",\"C1085\",\"C1085\",\"C1085\",\"C2385\",\"C2385\",\"C2385\",\"C2385\",\"C1059\",\"C1059\",\"C1059\",\"C1059\",\"C1059\",\"C1059\",\"C2162\",\"C2162\",\"C2162\",\"C1819\",\"C1819\",\"C1819\",\"C2325\",\"C2325\",\"C2325\",\"C2325\",\"C2325\",\"C2394\",\"C2394\",\"C2394\",\"C2394\",\"C2394\",\"C2394\",\"C2394\",\"C2394\",\"C1133\",\"C1133\",\"C1133\",\"C1133\",\"C1133\",\"C1133\",\"C1281\",\"C1281\",\"C1281\",\"C1281\",\"C1281\",\"C1194\",\"C1194\",\"C1194\",\"C1194\",\"C1194\",\"C2308\",\"C2308\",\"C2308\",\"C2036\",\"C2036\",\"C2036\",\"C2036\",\"C1394\",\"C1394\",\"C1394\",\"C1394\",\"C1180\",\"C1180\",\"C1180\",\"C2503\",\"C2503\",\"C2503\",\"C2503\",\"C2503\",\"C2503\",\"C1907\",\"C1907\",\"C1907\",\"C1907\",\"C1907\",\"C1907\",\"C2181\",\"C2181\",\"C2181\",\"C2181\",\"C2181\",\"C2181\",\"C1768\",\"C1768\",\"C1783\",\"C1783\",\"C1783\",\"C1783\",\"C1783\",\"C2192\",\"C2192\",\"C2192\",\"C2192\",\"C2192\",\"C2346\",\"C2346\",\"C2346\",\"C2346\",\"C2346\",\"C2680\",\"C2680\",\"C2680\",\"C2631\",\"C2631\",\"C2631\",\"C2631\",\"C2631\",\"C2631\",\"C2631\",\"C2141\",\"C2141\",\"C2141\",\"C2141\",\"C1569\",\"C1569\",\"C1569\",\"C1569\",\"C1569\",\"C1569\",\"C1569\",\"C2099\",\"C2099\",\"C2099\",\"C2099\",\"C2099\",\"C2287\",\"C2287\",\"C2287\",\"C2287\",\"C2287\",\"C2287\",\"C2287\",\"C2055\",\"C2055\",\"C2055\",\"C2055\",\"C2055\",\"C2055\",\"C1428\",\"C1428\",\"C1428\",\"C1428\",\"C1428\",\"C1428\",\"C1428\",\"C2522\",\"C2522\",\"C2522\",\"C2522\",\"C2522\",\"C2522\",\"C2522\",\"C2560\",\"C2560\",\"C2068\",\"C2068\",\"C2603\",\"C2603\",\"C2603\",\"C2603\",\"C2603\",\"C2603\",\"C1965\",\"C1965\",\"C1965\",\"C1965\",\"C1965\",\"C1660\",\"C1660\",\"C1660\",\"C1660\",\"C1660\",\"C1660\",\"C1660\",\"C1660\",\"C2378\",\"C2378\",\"C2378\",\"C2378\",\"C1268\",\"C1268\",\"C1268\",\"C1268\",\"C1268\",\"C1268\",\"C1994\",\"C1994\",\"C1994\",\"C1994\",\"C1837\",\"C1837\",\"C1837\",\"C1837\",\"C1837\",\"C1837\",\"C1000\",\"C1000\",\"C1000\",\"C1000\",\"C1000\",\"C1000\",\"C1000\",\"C1465\",\"C1465\",\"C1465\",\"C1465\",\"C1465\",\"C1465\",\"C1448\",\"C1448\",\"C1448\",\"C1448\",\"C1448\",\"C1448\",\"C1448\",\"C1448\",\"C1448\",\"C1516\",\"C1516\",\"C1516\",\"C1516\",\"C1516\",\"C2670\",\"C2670\",\"C2670\",\"C2670\",\"C2670\",\"C1365\",\"C1365\",\"C1365\",\"C1365\",\"C1365\",\"C1365\",\"C1365\",\"C1365\",\"C1365\",\"C1365\",\"C1177\",\"C1177\",\"C1177\",\"C1177\",\"C1177\",\"C1177\",\"C1177\",\"C1177\",\"C1177\",\"C1177\",\"C1177\",\"C1177\",\"C1177\",\"C1177\",\"C1177\",\"C1177\",\"C1360\",\"C1360\",\"C1360\",\"C1360\",\"C1360\",\"C1360\",\"C2488\",\"C2488\",\"C2488\",\"C2488\",\"C2488\",\"C2488\",\"C2488\",\"C2488\",\"C1406\",\"C1406\",\"C1406\",\"C1406\",\"C1406\",\"C1406\",\"C1406\",\"C1406\",\"C1406\",\"C1406\",\"C1406\",\"C1406\",\"C1406\",\"C1406\",\"C1566\",\"C1566\",\"C1566\",\"C1566\",\"C1566\",\"C1566\",\"C1227\",\"C1227\",\"C1227\",\"C1227\",\"C1227\",\"C1227\",\"C1227\",\"C1227\",\"C1227\",\"C2460\",\"C2460\",\"C2460\",\"C2460\",\"C2460\",\"C2460\",\"C2486\",\"C2486\",\"C2486\",\"C2486\",\"C2486\",\"C2486\",\"C2486\",\"C2486\",\"C2486\",\"C2486\",\"C2106\",\"C2106\",\"C2106\",\"C2106\",\"C2106\",\"C1572\",\"C1572\",\"C1572\",\"C1572\",\"C1572\",\"C1572\",\"C1773\",\"C1773\",\"C1773\",\"C1773\",\"C1773\",\"C1773\",\"C1773\",\"C1773\",\"C1773\",\"C1677\",\"C1677\",\"C1677\",\"C1677\",\"C1677\",\"C1677\",\"C1677\",\"C1677\",\"C1677\",\"C1677\",\"C1677\",\"C1823\",\"C1823\",\"C1823\",\"C1823\",\"C1823\",\"C1823\",\"C1344\",\"C1344\",\"C1344\",\"C1344\",\"C1344\",\"C1344\",\"C2692\",\"C2692\",\"C2692\",\"C2692\",\"C2692\",\"C2505\",\"C2505\",\"C2505\",\"C2505\",\"C2505\",\"C2587\",\"C2587\",\"C2587\",\"C2587\",\"C2587\",\"C2587\",\"C2587\",\"C2127\",\"C2127\",\"C2127\",\"C2127\",\"C2127\",\"C2127\",\"C1316\",\"C1316\",\"C1674\",\"C1674\",\"C1674\",\"C1674\",\"C1674\",\"C1674\",\"C1713\",\"C1713\",\"C1713\",\"C1713\",\"C1713\",\"C1713\",\"C1845\",\"C1845\",\"C1845\",\"C1845\",\"C2082\",\"C2082\",\"C2082\",\"C2082\",\"C2082\",\"C2082\",\"C1328\",\"C1328\",\"C1328\",\"C1328\",\"C1328\",\"C1328\",\"C1328\",\"C1328\",\"C1328\",\"C1328\",\"C1328\",\"C2357\",\"C2357\",\"C2357\",\"C2357\",\"C2357\",\"C2357\",\"C2565\",\"C2565\",\"C2565\",\"C2565\",\"C2565\",\"C2565\",\"C2565\",\"C2565\",\"C2565\",\"C2565\",\"C2565\",\"C2565\",\"C1804\",\"C1804\",\"C1804\",\"C1804\",\"C2255\",\"C2255\",\"C2255\",\"C2255\",\"C2255\",\"C2255\",\"C1343\",\"C1343\",\"C1343\",\"C1343\",\"C1343\",\"C1343\",\"C1343\",\"C1343\",\"C1343\",\"C1987\",\"C1987\",\"C1987\",\"C1987\",\"C1987\",\"C1987\",\"C2479\",\"C2479\",\"C2479\",\"C2479\",\"C2479\",\"C2479\",\"C2479\",\"C2352\",\"C2352\",\"C2352\",\"C2352\",\"C2352\",\"C2352\",\"C2352\",\"C2352\",\"C2352\",\"C2352\",\"C1310\",\"C1310\",\"C1310\",\"C1310\",\"C1310\",\"C1310\",\"C1310\",\"C1310\",\"C1310\",\"C1738\",\"C1738\",\"C1738\",\"C1738\",\"C1039\",\"C1039\",\"C1039\",\"C1039\",\"C1039\",\"C1039\",\"C1039\",\"C1039\",\"C1039\",\"C1039\",\"C1039\",\"C1863\",\"C1863\",\"C1863\",\"C1863\",\"C1863\",\"C1863\",\"C1863\",\"C1863\",\"C1426\",\"C1426\",\"C1426\",\"C1426\",\"C1426\",\"C2659\",\"C2659\",\"C2659\",\"C2659\",\"C2659\",\"C2659\",\"C2659\",\"C2659\",\"C2659\",\"C2659\",\"C2659\",\"C2489\",\"C2489\",\"C2489\",\"C2211\",\"C2211\",\"C2211\",\"C2314\",\"C2314\",\"C2314\",\"C2314\",\"C2314\",\"C2314\",\"C2314\",\"C1861\",\"C1861\",\"C1861\",\"C1861\",\"C2389\",\"C2389\",\"C2389\",\"C2389\",\"C2389\",\"C2389\",\"C1490\",\"C1490\",\"C1490\",\"C1490\",\"C1024\",\"C1024\",\"C1024\",\"C1024\",\"C1024\",\"C1024\",\"C1024\",\"C1024\",\"C1024\",\"C1024\",\"C1788\",\"C1788\",\"C1740\",\"C1740\",\"C1740\",\"C1740\",\"C2620\",\"C2620\",\"C2620\",\"C2620\",\"C2620\",\"C1286\",\"C1286\",\"C1286\",\"C1089\",\"C1089\",\"C1089\",\"C1089\",\"C1089\",\"C1089\",\"C2237\",\"C2237\",\"C2237\",\"C1341\",\"C1341\",\"C1341\",\"C1341\",\"C1341\",\"C1341\",\"C1341\",\"C1341\",\"C1341\",\"C1338\",\"C1338\",\"C1338\",\"C1338\",\"C1338\",\"C1338\",\"C1338\",\"C1338\",\"C1338\",\"C1338\",\"C2405\",\"C2405\",\"C2405\",\"C1969\",\"C1969\",\"C1969\",\"C1969\",\"C1969\",\"C1969\",\"C2274\",\"C2274\",\"C2274\",\"C2274\",\"C2274\",\"C2274\",\"C2274\",\"C1699\",\"C1699\",\"C1699\",\"C1699\",\"C1699\",\"C1699\",\"C1699\",\"C2251\",\"C2251\",\"C2251\",\"C2251\",\"C2251\",\"C2251\",\"C2251\",\"C2251\",\"C2251\",\"C2251\",\"C2251\",\"C1340\",\"C1340\",\"C1340\",\"C1340\",\"C1340\",\"C2373\",\"C2373\",\"C2373\",\"C2373\",\"C2373\",\"C2373\",\"C1455\",\"C1455\",\"C1455\",\"C2137\",\"C2137\",\"C2137\",\"C1985\",\"C1985\",\"C1985\",\"C1985\",\"C2583\",\"C2583\",\"C2583\",\"C2583\",\"C2583\",\"C2583\",\"C2583\",\"C2583\",\"C2583\",\"C2583\",\"C2583\",\"C2663\",\"C2663\",\"C2663\",\"C2663\",\"C2663\",\"C2663\",\"C2450\",\"C2450\",\"C2450\",\"C2450\",\"C2450\",\"C2450\",\"C2329\",\"C2329\",\"C2329\",\"C2329\",\"C1834\",\"C1834\",\"C1834\",\"C1848\",\"C1848\",\"C1848\",\"C1848\",\"C1848\",\"C1743\",\"C1743\",\"C1743\",\"C1743\",\"C1743\",\"C1743\",\"C1743\",\"C1350\",\"C1350\",\"C1350\",\"C1350\",\"C1350\",\"C1350\",\"C1350\",\"C1350\",\"C1350\",\"C1350\",\"C1350\",\"C1350\",\"C1350\",\"C1402\",\"C1402\",\"C1402\",\"C1402\",\"C1402\",\"C1103\",\"C1103\",\"C1103\",\"C1103\",\"C1129\",\"C1129\",\"C1129\",\"C1129\",\"C1129\",\"C1129\",\"C1129\",\"C1129\",\"C1027\",\"C1027\",\"C1027\",\"C1027\",\"C1027\",\"C2377\",\"C2377\",\"C2377\",\"C2377\",\"C2377\",\"C2377\",\"C2661\",\"C2661\",\"C2661\",\"C1263\",\"C1263\",\"C1263\",\"C1263\",\"C1263\",\"C1136\",\"C1136\",\"C1136\",\"C1136\",\"C2605\",\"C2605\",\"C2605\",\"C2393\",\"C2393\",\"C2393\",\"C2393\",\"C2393\",\"C2393\",\"C2393\",\"C2393\",\"C2393\",\"C2393\",\"C2393\",\"C2393\",\"C2393\",\"C1673\",\"C1673\",\"C1673\",\"C1673\",\"C1673\",\"C1017\",\"C1017\",\"C1017\",\"C2539\",\"C2539\",\"C2539\",\"C2539\",\"C2539\",\"C2539\",\"C1933\",\"C1933\",\"C1933\",\"C1933\",\"C1933\",\"C1933\",\"C2316\",\"C2316\",\"C2316\",\"C2316\",\"C2414\",\"C2414\",\"C2414\",\"C2414\",\"C1301\",\"C1301\",\"C1301\",\"C1700\",\"C1700\",\"C1700\",\"C1636\",\"C1636\",\"C1636\",\"C1636\",\"C2612\",\"C2612\",\"C2612\",\"C2612\",\"C1757\",\"C1757\",\"C1757\",\"C1757\",\"C2507\",\"C2507\",\"C2507\",\"C2507\",\"C2507\",\"C2507\",\"C2507\",\"C2507\",\"C2507\",\"C2507\",\"C2507\",\"C2507\",\"C2507\",\"C2507\",\"C2507\",\"C2507\",\"C2507\",\"C2507\",\"C1163\",\"C1163\",\"C1163\",\"C2627\",\"C2627\",\"C2627\",\"C2627\",\"C2627\",\"C2627\",\"C2040\",\"C2040\",\"C2609\",\"C2609\",\"C2609\",\"C2001\",\"C2001\",\"C2001\",\"C2001\",\"C2001\",\"C1065\",\"C1065\",\"C1065\",\"C1363\",\"C1363\",\"C1363\",\"C1363\",\"C1363\",\"C1363\",\"C1363\",\"C1363\",\"C1363\",\"C1363\",\"C1363\",\"C1363\",\"C1363\",\"C1363\",\"C2579\",\"C2579\",\"C2579\",\"C2579\",\"C2579\",\"C2579\",\"C1048\",\"C1048\",\"C1048\",\"C1210\",\"C1210\",\"C1210\",\"C1210\",\"C1210\",\"C1320\",\"C1320\",\"C1320\",\"C1320\",\"C1941\",\"C1941\",\"C1941\",\"C1941\",\"C1326\",\"C1326\",\"C1326\",\"C1326\",\"C1326\",\"C1685\",\"C1685\",\"C1685\",\"C1685\",\"C1685\",\"C1685\",\"C1685\",\"C1685\",\"C1685\",\"C2618\",\"C2618\",\"C2618\",\"C2618\",\"C2618\",\"C1451\",\"C1451\",\"C1451\",\"C1451\",\"C1451\",\"C2143\",\"C2143\",\"C2143\",\"C2143\",\"C1968\",\"C1968\",\"C1968\",\"C1968\",\"C1968\",\"C2470\",\"C2470\",\"C2470\",\"C1258\",\"C1258\",\"C1258\",\"C1258\",\"C1258\",\"C1258\",\"C2453\",\"C2453\",\"C2453\",\"C2453\",\"C2453\",\"C2453\",\"C2453\",\"C1659\",\"C1659\",\"C1659\",\"C1659\",\"C1659\",\"C1659\",\"C1659\",\"C1659\",\"C1659\",\"C1659\",\"C1659\",\"C1659\",\"C1659\",\"C1724\",\"C1724\",\"C1724\",\"C1724\",\"C1724\",\"C1724\",\"C1724\",\"C1724\",\"C1724\",\"C1724\",\"C1802\",\"C1802\",\"C1802\",\"C1802\",\"C1802\",\"C1802\",\"C1802\",\"C1802\",\"C1802\",\"C1802\",\"C1802\",\"C1939\",\"C1939\",\"C1939\",\"C1939\",\"C1939\",\"C1939\",\"C1939\",\"C1939\",\"C1939\",\"C1284\",\"C1284\",\"C2595\",\"C2595\",\"C2595\",\"C2595\",\"C2595\",\"C2351\",\"C2351\",\"C2351\",\"C2351\",\"C2351\",\"C2506\",\"C2506\",\"C2506\",\"C2506\",\"C2506\",\"C2506\",\"C2506\",\"C2506\",\"C2506\",\"C2506\",\"C2506\",\"C2506\",\"C2506\",\"C2506\",\"C2506\",\"C2506\",\"C2506\",\"C1697\",\"C1697\",\"C1697\",\"C1697\",\"C1697\",\"C1697\",\"C2259\",\"C2259\",\"C2259\",\"C2259\",\"C2259\",\"C2259\",\"C1786\",\"C1786\",\"C1786\",\"C1786\",\"C1786\",\"C1357\",\"C1357\",\"C1357\",\"C1357\",\"C2570\",\"C2570\",\"C2570\",\"C2570\",\"C2570\",\"C2570\",\"C2570\",\"C2570\",\"C1652\",\"C1652\",\"C1652\",\"C1652\",\"C1652\",\"C1652\",\"C1652\",\"C1652\",\"C1652\",\"C1652\",\"C1652\",\"C1652\",\"C1565\",\"C1565\",\"C1565\",\"C1565\",\"C1910\",\"C1910\",\"C1910\",\"C1910\",\"C1910\",\"C1910\",\"C1910\",\"C1910\",\"C1910\",\"C1910\",\"C2359\",\"C2359\",\"C2359\",\"C2359\",\"C2359\",\"C2139\",\"C2139\",\"C2139\",\"C1979\",\"C1979\",\"C1979\",\"C1979\",\"C1979\",\"C1979\",\"C1979\",\"C1979\",\"C1979\",\"C1803\",\"C1803\",\"C1803\",\"C1803\",\"C1803\",\"C1803\",\"C1803\",\"C1803\",\"C1803\",\"C1803\",\"C2508\",\"C2508\",\"C2508\",\"C2508\",\"C2508\",\"C2508\",\"C2508\",\"C2531\",\"C2531\",\"C2531\",\"C2531\",\"C2531\",\"C2531\",\"C1695\",\"C1695\",\"C1695\",\"C1695\",\"C1695\",\"C2556\",\"C2556\",\"C2556\",\"C2086\",\"C2086\",\"C2086\",\"C2086\",\"C2086\",\"C2086\",\"C2086\",\"C2086\",\"C2086\",\"C1544\",\"C1544\",\"C1544\",\"C2154\",\"C2154\",\"C2154\",\"C2154\",\"C2496\",\"C2496\",\"C2496\",\"C2496\",\"C1756\",\"C1756\",\"C1756\",\"C1756\",\"C2362\",\"C2362\",\"C2362\",\"C2362\",\"C2362\",\"C2362\",\"C2362\",\"C2362\",\"C2362\",\"C2362\",\"C2362\",\"C2362\",\"C2362\",\"C2362\",\"C2568\",\"C2568\",\"C2568\",\"C2568\",\"C2568\",\"C2245\",\"C2245\",\"C2245\",\"C2245\",\"C2245\",\"C2245\",\"C2245\",\"C2059\",\"C2059\",\"C2059\",\"C2549\",\"C2549\",\"C2549\",\"C2549\",\"C2549\",\"C1584\",\"C1584\",\"C1584\",\"C1584\",\"C1584\",\"C1584\",\"C2298\",\"C2298\",\"C2298\",\"C2298\",\"C2298\",\"C2225\",\"C2225\",\"C2225\",\"C2225\",\"C2225\",\"C2225\",\"C2225\",\"C2225\",\"C2225\",\"C2328\",\"C2328\",\"C2328\",\"C2328\",\"C2328\",\"C2328\",\"C2328\",\"C1045\",\"C1045\",\"C1045\",\"C1045\",\"C1207\",\"C1207\",\"C1207\",\"C1970\",\"C1970\",\"C1970\",\"C1970\",\"C1970\",\"C1732\",\"C1732\",\"C1732\",\"C1732\",\"C1732\",\"C1732\",\"C2433\",\"C2433\",\"C2433\",\"C2433\",\"C2433\",\"C1156\",\"C1156\",\"C1156\",\"C1156\",\"C1156\",\"C1156\",\"C1156\",\"C1156\",\"C2142\",\"C2142\",\"C2142\",\"C2142\",\"C2153\",\"C2153\",\"C2153\",\"C2153\",\"C2186\",\"C2186\",\"C2186\",\"C2186\",\"C2186\",\"C2186\",\"C1176\",\"C1176\",\"C1176\",\"C1176\",\"C1176\",\"C1176\",\"C1176\",\"C1176\",\"C2446\",\"C2446\",\"C2446\",\"C2446\",\"C2446\",\"C2446\",\"C2446\",\"C2446\",\"C2446\",\"C2446\",\"C2446\",\"C2446\",\"C2586\",\"C2586\",\"C2586\",\"C2586\",\"C2586\",\"C2035\",\"C2035\",\"C2035\",\"C2035\",\"C2035\",\"C2020\",\"C2020\",\"C2020\",\"C2437\",\"C2532\",\"C2532\",\"C2532\",\"C2532\",\"C2532\",\"C2532\"],\"legendgroup\":\"\",\"marker\":{\"color\":\"#636efa\"},\"name\":\"\",\"notched\":false,\"offsetgroup\":\"\",\"orientation\":\"v\",\"showlegend\":false,\"x\":[\"\\uad6d\\ubbfc\\uc784\\ub300\",\"\\uad6d\\ubbfc\\uc784\\ub300\",\"\\uad6d\\ubbfc\\uc784\\ub300\",\"\\uad6d\\ubbfc\\uc784\\ub300\",\"\\uad6d\\ubbfc\\uc784\\ub300\",\"\\uad6d\\ubbfc\\uc784\\ub300\",\"\\uad6d\\ubbfc\\uc784\\ub300\",\"\\uad6d\\ubbfc\\uc784\\ub300\",\"\\uad6d\\ubbfc\\uc784\\ub300\",\"\\uad6d\\ubbfc\\uc784\\ub300\",\"\\uad6d\\ubbfc\\uc784\\ub300\",\"\\uad6d\\ubbfc\\uc784\\ub300\",\"\\uad6d\\ubbfc\\uc784\\ub300\",\"\\uad6d\\ubbfc\\uc784\\ub300\",\"\\uad6d\\ubbfc\\uc784\\ub300\",\"\\uad6d\\ubbfc\\uc784\\ub300\",\"\\uad6d\\ubbfc\\uc784\\ub300\",\"\\uad6d\\ubbfc\\uc784\\ub300\",\"\\uad6d\\ubbfc\\uc784\\ub300\",\"\\uad6d\\ubbfc\\uc784\\ub300\",\"\\uad6d\\ubbfc\\uc784\\ub300\",\"\\uad6d\\ubbfc\\uc784\\ub300\",\"\\uad6d\\ubbfc\\uc784\\ub300\",\"\\uad6d\\ubbfc\\uc784\\ub300\",\"\\uad6d\\ubbfc\\uc784\\ub300\",\"\\uad6d\\ubbfc\\uc784\\ub300\",\"\\uad6d\\ubbfc\\uc784\\ub300\",\"\\uad6d\\ubbfc\\uc784\\ub300\",\"\\uad6d\\ubbfc\\uc784\\ub300\",\"\\uad6d\\ubbfc\\uc784\\ub300\",\"\\uad6d\\ubbfc\\uc784\\ub300\",\"\\uad6d\\ubbfc\\uc784\\ub300\",\"\\uad6d\\ubbfc\\uc784\\ub300\",\"\\uad6d\\ubbfc\\uc784\\ub300\",\"\\uad6d\\ubbfc\\uc784\\ub300\",\"\\uad6d\\ubbfc\\uc784\\ub300\",\"\\uad6d\\ubbfc\\uc784\\ub300\",\"\\uad6d\\ubbfc\\uc784\\ub300\",\"\\uad6d\\ubbfc\\uc784\\ub300\",\"\\uad6d\\ubbfc\\uc784\\ub300\",\"\\uad6d\\ubbfc\\uc784\\ub300\",\"\\uad6d\\ubbfc\\uc784\\ub300\",\"\\uad6d\\ubbfc\\uc784\\ub300\",\"\\uad6d\\ubbfc\\uc784\\ub300\",\"\\uad6d\\ubbfc\\uc784\\ub300\",\"\\uad6d\\ubbfc\\uc784\\ub300\",\"\\uad6d\\ubbfc\\uc784\\ub300\",\"\\uad6d\\ubbfc\\uc784\\ub300\",\"\\uad6d\\ubbfc\\uc784\\ub300\",\"\\uad6d\\ubbfc\\uc784\\ub300\",\"\\uad6d\\ubbfc\\uc784\\ub300\",\"\\uad6d\\ubbfc\\uc784\\ub300\",\"\\uad6d\\ubbfc\\uc784\\ub300\",\"\\uad6d\\ubbfc\\uc784\\ub300\",\"\\uad6d\\ubbfc\\uc784\\ub300\",\"\\uad6d\\ubbfc\\uc784\\ub300\",\"\\uad6d\\ubbfc\\uc784\\ub300\",\"\\uad6d\\ubbfc\\uc784\\ub300\",\"\\uad6d\\ubbfc\\uc784\\ub300\",\"\\uad6d\\ubbfc\\uc784\\ub300\",\"\\uad6d\\ubbfc\\uc784\\ub300\",\"\\uad6d\\ubbfc\\uc784\\ub300\",\"\\uad6d\\ubbfc\\uc784\\ub300\",\"\\uad6d\\ubbfc\\uc784\\ub300\",\"\\uad6d\\ubbfc\\uc784\\ub300\",\"\\uad6d\\ubbfc\\uc784\\ub300\",\"\\uad6d\\ubbfc\\uc784\\ub300\",\"\\uad6d\\ubbfc\\uc784\\ub300\",\"\\uad6d\\ubbfc\\uc784\\ub300\",\"\\uad6d\\ubbfc\\uc784\\ub300\",\"\\uad6d\\ubbfc\\uc784\\ub300\",\"\\uad6d\\ubbfc\\uc784\\ub300\",\"\\uad6d\\ubbfc\\uc784\\ub300\",\"\\uad6d\\ubbfc\\uc784\\ub300\",\"\\uad6d\\ubbfc\\uc784\\ub300\",\"\\uacf5\\uacf5\\uc784\\ub300(50\\ub144)\",\"\\uacf5\\uacf5\\uc784\\ub300(50\\ub144)\",\"\\uacf5\\uacf5\\uc784\\ub300(50\\ub144)\",\"\\uc601\\uad6c\\uc784\\ub300\",\"\\uc601\\uad6c\\uc784\\ub300\",\"\\uc784\\ub300\\uc0c1\\uac00\",\"\\uc784\\ub300\\uc0c1\\uac00\",\"\\uc784\\ub300\\uc0c1\\uac00\",\"\\uc784\\ub300\\uc0c1\\uac00\",\"\\uad6d\\ubbfc\\uc784\\ub300\",\"\\uad6d\\ubbfc\\uc784\\ub300\",\"\\uad6d\\ubbfc\\uc784\\ub300\",\"\\uad6d\\ubbfc\\uc784\\ub300\",\"\\uad6d\\ubbfc\\uc784\\ub300\",\"\\uad6d\\ubbfc\\uc784\\ub300\",\"\\uc601\\uad6c\\uc784\\ub300\",\"\\uc601\\uad6c\\uc784\\ub300\",\"\\uc601\\uad6c\\uc784\\ub300\",\"\\uc784\\ub300\\uc0c1\\uac00\",\"\\uc784\\ub300\\uc0c1\\uac00\",\"\\uc784\\ub300\\uc0c1\\uac00\",\"\\uc784\\ub300\\uc0c1\\uac00\",\"\\uc784\\ub300\\uc0c1\\uac00\",\"\\uc784\\ub300\\uc0c1\\uac00\",\"\\uc784\\ub300\\uc0c1\\uac00\",\"\\uc784\\ub300\\uc0c1\\uac00\",\"\\uc784\\ub300\\uc0c1\\uac00\",\"\\uc784\\ub300\\uc0c1\\uac00\",\"\\uc784\\ub300\\uc0c1\\uac00\",\"\\uc784\\ub300\\uc0c1\\uac00\",\"\\uc784\\ub300\\uc0c1\\uac00\",\"\\uc784\\ub300\\uc0c1\\uac00\",\"\\uc784\\ub300\\uc0c1\\uac00\",\"\\uc784\\ub300\\uc0c1\\uac00\",\"\\uc784\\ub300\\uc0c1\\uac00\",\"\\uc784\\ub300\\uc0c1\\uac00\",\"\\uc784\\ub300\\uc0c1\\uac00\",\"\\uc784\\ub300\\uc0c1\\uac00\",\"\\uc784\\ub300\\uc0c1\\uac00\",\"\\uc784\\ub300\\uc0c1\\uac00\",\"\\uc784\\ub300\\uc0c1\\uac00\",\"\\uc784\\ub300\\uc0c1\\uac00\",\"\\uc784\\ub300\\uc0c1\\uac00\",\"\\uc784\\ub300\\uc0c1\\uac00\",\"\\uc784\\ub300\\uc0c1\\uac00\",\"\\uad6d\\ubbfc\\uc784\\ub300\",\"\\uad6d\\ubbfc\\uc784\\ub300\",\"\\uad6d\\ubbfc\\uc784\\ub300\",\"\\uc601\\uad6c\\uc784\\ub300\",\"\\uc601\\uad6c\\uc784\\ub300\",\"\\uc784\\ub300\\uc0c1\\uac00\",\"\\uc784\\ub300\\uc0c1\\uac00\",\"\\uc784\\ub300\\uc0c1\\uac00\",\"\\uc784\\ub300\\uc0c1\\uac00\",\"\\uc784\\ub300\\uc0c1\\uac00\",\"\\uc784\\ub300\\uc0c1\\uac00\",\"\\uc784\\ub300\\uc0c1\\uac00\",\"\\uc784\\ub300\\uc0c1\\uac00\",\"\\uad6d\\ubbfc\\uc784\\ub300\",\"\\uad6d\\ubbfc\\uc784\\ub300\",\"\\uad6d\\ubbfc\\uc784\\ub300\",\"\\uacf5\\uacf5\\uc784\\ub300(50\\ub144)\",\"\\uacf5\\uacf5\\uc784\\ub300(50\\ub144)\",\"\\uacf5\\uacf5\\uc784\\ub300(50\\ub144)\",\"\\uad6d\\ubbfc\\uc784\\ub300\",\"\\uad6d\\ubbfc\\uc784\\ub300\",\"\\uad6d\\ubbfc\\uc784\\ub300\",\"\\uad6d\\ubbfc\\uc784\\ub300\",\"\\uad6d\\ubbfc\\uc784\\ub300\",\"\\uad6d\\ubbfc\\uc784\\ub300\",\"\\uc601\\uad6c\\uc784\\ub300\",\"\\uc601\\uad6c\\uc784\\ub300\",\"\\uc601\\uad6c\\uc784\\ub300\",\"\\uc601\\uad6c\\uc784\\ub300\",\"\\uc601\\uad6c\\uc784\\ub300\",\"\\uc601\\uad6c\\uc784\\ub300\",\"\\uc601\\uad6c\\uc784\\ub300\",\"\\uc601\\uad6c\\uc784\\ub300\",\"\\uc784\\ub300\\uc0c1\\uac00\",\"\\uc784\\ub300\\uc0c1\\uac00\",\"\\uc784\\ub300\\uc0c1\\uac00\",\"\\uc784\\ub300\\uc0c1\\uac00\",\"\\uc784\\ub300\\uc0c1\\uac00\",\"\\uc784\\ub300\\uc0c1\\uac00\",\"\\uc784\\ub300\\uc0c1\\uac00\",\"\\uc784\\ub300\\uc0c1\\uac00\",\"\\uc784\\ub300\\uc0c1\\uac00\",\"\\uc784\\ub300\\uc0c1\\uac00\",\"\\uacf5\\uacf5\\uc784\\ub300(50\\ub144)\",\"\\uad6d\\ubbfc\\uc784\\ub300\",\"\\uad6d\\ubbfc\\uc784\\ub300\",\"\\uad6d\\ubbfc\\uc784\\ub300\",\"\\uad6d\\ubbfc\\uc784\\ub300\",\"\\uc601\\uad6c\\uc784\\ub300\",\"\\uc601\\uad6c\\uc784\\ub300\",\"\\uc601\\uad6c\\uc784\\ub300\",\"\\uc784\\ub300\\uc0c1\\uac00\",\"\\uc784\\ub300\\uc0c1\\uac00\",\"\\uc784\\ub300\\uc0c1\\uac00\",\"\\uc784\\ub300\\uc0c1\\uac00\",\"\\uc784\\ub300\\uc0c1\\uac00\",\"\\uc784\\ub300\\uc0c1\\uac00\",\"\\uc784\\ub300\\uc0c1\\uac00\",\"\\uc784\\ub300\\uc0c1\\uac00\",\"\\uc784\\ub300\\uc0c1\\uac00\",\"\\uc784\\ub300\\uc0c1\\uac00\",\"\\uc784\\ub300\\uc0c1\\uac00\",\"\\uc784\\ub300\\uc0c1\\uac00\",\"\\uc784\\ub300\\uc0c1\\uac00\",\"\\uc784\\ub300\\uc0c1\\uac00\",\"\\uc784\\ub300\\uc0c1\\uac00\",\"\\uc784\\ub300\\uc0c1\\uac00\",\"\\uc784\\ub300\\uc0c1\\uac00\",\"\\uc784\\ub300\\uc0c1\\uac00\",\"\\uc784\\ub300\\uc0c1\\uac00\",\"\\uc601\\uad6c\\uc784\\ub300\",\"\\uc601\\uad6c\\uc784\\ub300\",\"\\uc784\\ub300\\uc0c1\\uac00\",\"\\uc784\\ub300\\uc0c1\\uac00\",\"\\uc784\\ub300\\uc0c1\\uac00\",\"\\uc784\\ub300\\uc0c1\\uac00\",\"\\uc784\\ub300\\uc0c1\\uac00\",\"\\uc784\\ub300\\uc0c1\\uac00\",\"\\uc784\\ub300\\uc0c1\\uac00\",\"\\uc784\\ub300\\uc0c1\\uac00\",\"\\uc784\\ub300\\uc0c1\\uac00\",\"\\uc784\\ub300\\uc0c1\\uac00\",\"\\uc784\\ub300\\uc0c1\\uac00\",\"\\uc784\\ub300\\uc0c1\\uac00\",\"\\uc784\\ub300\\uc0c1\\uac00\",\"\\uc784\\ub300\\uc0c1\\uac00\",\"\\uc784\\ub300\\uc0c1\\uac00\",\"\\uc601\\uad6c\\uc784\\ub300\",\"\\uc601\\uad6c\\uc784\\ub300\",\"\\uc601\\uad6c\\uc784\\ub300\",\"\\uc784\\ub300\\uc0c1\\uac00\",\"\\uc784\\ub300\\uc0c1\\uac00\",\"\\uc784\\ub300\\uc0c1\\uac00\",\"\\uc784\\ub300\\uc0c1\\uac00\",\"\\uc784\\ub300\\uc0c1\\uac00\",\"\\uc784\\ub300\\uc0c1\\uac00\",\"\\uc784\\ub300\\uc0c1\\uac00\",\"\\uc784\\ub300\\uc0c1\\uac00\",\"\\uc784\\ub300\\uc0c1\\uac00\",\"\\uc784\\ub300\\uc0c1\\uac00\",\"\\uc784\\ub300\\uc0c1\\uac00\",\"\\uc784\\ub300\\uc0c1\\uac00\",\"\\uc784\\ub300\\uc0c1\\uac00\",\"\\uc784\\ub300\\uc0c1\\uac00\",\"\\uc784\\ub300\\uc0c1\\uac00\",\"\\uc784\\ub300\\uc0c1\\uac00\",\"\\uc784\\ub300\\uc0c1\\uac00\",\"\\uad6d\\ubbfc\\uc784\\ub300\",\"\\uad6d\\ubbfc\\uc784\\ub300\",\"\\uad6d\\ubbfc\\uc784\\ub300\",\"\\uad6d\\ubbfc\\uc784\\ub300\",\"\\uad6d\\ubbfc\\uc784\\ub300\",\"\\uad6d\\ubbfc\\uc784\\ub300\",\"\\uc601\\uad6c\\uc784\\ub300\",\"\\uc601\\uad6c\\uc784\\ub300\",\"\\uc601\\uad6c\\uc784\\ub300\",\"\\uc784\\ub300\\uc0c1\\uac00\",\"\\uc784\\ub300\\uc0c1\\uac00\",\"\\uc784\\ub300\\uc0c1\\uac00\",\"\\uc784\\ub300\\uc0c1\\uac00\",\"\\uc784\\ub300\\uc0c1\\uac00\",\"\\uc784\\ub300\\uc0c1\\uac00\",\"\\uc784\\ub300\\uc0c1\\uac00\",\"\\uc784\\ub300\\uc0c1\\uac00\",\"\\uc784\\ub300\\uc0c1\\uac00\",\"\\uc784\\ub300\\uc0c1\\uac00\",\"\\uc784\\ub300\\uc0c1\\uac00\",\"\\uc784\\ub300\\uc0c1\\uac00\",\"\\uc784\\ub300\\uc0c1\\uac00\",\"\\uc784\\ub300\\uc0c1\\uac00\",\"\\uc784\\ub300\\uc0c1\\uac00\",\"\\uc784\\ub300\\uc0c1\\uac00\",\"\\uc784\\ub300\\uc0c1\\uac00\",\"\\uc601\\uad6c\\uc784\\ub300\",\"\\uc601\\uad6c\\uc784\\ub300\",\"\\uc601\\uad6c\\uc784\\ub300\",\"\\uc601\\uad6c\\uc784\\ub300\",\"\\uc601\\uad6c\\uc784\\ub300\",\"\\uc784\\ub300\\uc0c1\\uac00\",\"\\uc784\\ub300\\uc0c1\\uac00\",\"\\uc784\\ub300\\uc0c1\\uac00\",\"\\uc784\\ub300\\uc0c1\\uac00\",\"\\uc784\\ub300\\uc0c1\\uac00\",\"\\uc784\\ub300\\uc0c1\\uac00\",\"\\uc784\\ub300\\uc0c1\\uac00\",\"\\uc784\\ub300\\uc0c1\\uac00\",\"\\uc784\\ub300\\uc0c1\\uac00\",\"\\uc784\\ub300\\uc0c1\\uac00\",\"\\uc784\\ub300\\uc0c1\\uac00\",\"\\uc784\\ub300\\uc0c1\\uac00\",\"\\uc784\\ub300\\uc0c1\\uac00\",\"\\uc784\\ub300\\uc0c1\\uac00\",\"\\uc784\\ub300\\uc0c1\\uac00\",\"\\uc784\\ub300\\uc0c1\\uac00\",\"\\uc784\\ub300\\uc0c1\\uac00\",\"\\uc784\\ub300\\uc0c1\\uac00\",\"\\uc784\\ub300\\uc0c1\\uac00\",\"\\uc784\\ub300\\uc0c1\\uac00\",\"\\uc784\\ub300\\uc0c1\\uac00\",\"\\uc784\\ub300\\uc0c1\\uac00\",\"\\uc784\\ub300\\uc0c1\\uac00\",\"\\uc784\\ub300\\uc0c1\\uac00\",\"\\uc784\\ub300\\uc0c1\\uac00\",\"\\uc784\\ub300\\uc0c1\\uac00\",\"\\uc784\\ub300\\uc0c1\\uac00\",\"\\uc784\\ub300\\uc0c1\\uac00\",\"\\uc784\\ub300\\uc0c1\\uac00\",\"\\uc784\\ub300\\uc0c1\\uac00\",\"\\uc784\\ub300\\uc0c1\\uac00\",\"\\uc784\\ub300\\uc0c1\\uac00\",\"\\uc784\\ub300\\uc0c1\\uac00\",\"\\uc784\\ub300\\uc0c1\\uac00\",\"\\uc784\\ub300\\uc0c1\\uac00\",\"\\uacf5\\uacf5\\uc784\\ub300(50\\ub144)\",\"\\uacf5\\uacf5\\uc784\\ub300(50\\ub144)\",\"\\uacf5\\uacf5\\uc784\\ub300(50\\ub144)\",\"\\uc601\\uad6c\\uc784\\ub300\",\"\\uc601\\uad6c\\uc784\\ub300\",\"\\uc784\\ub300\\uc0c1\\uac00\",\"\\uc784\\ub300\\uc0c1\\uac00\",\"\\uc784\\ub300\\uc0c1\\uac00\",\"\\uc784\\ub300\\uc0c1\\uac00\",\"\\uc784\\ub300\\uc0c1\\uac00\",\"\\uc784\\ub300\\uc0c1\\uac00\",\"\\uacf5\\uacf5\\uc784\\ub300(50\\ub144)\",\"\\uacf5\\uacf5\\uc784\\ub300(50\\ub144)\",\"\\uacf5\\uacf5\\uc784\\ub300(50\\ub144)\",\"\\uc601\\uad6c\\uc784\\ub300\",\"\\uc601\\uad6c\\uc784\\ub300\",\"\\uc601\\uad6c\\uc784\\ub300\",\"\\uc601\\uad6c\\uc784\\ub300\",\"\\uc784\\ub300\\uc0c1\\uac00\",\"\\uc784\\ub300\\uc0c1\\uac00\",\"\\uc784\\ub300\\uc0c1\\uac00\",\"\\uc784\\ub300\\uc0c1\\uac00\",\"\\uc784\\ub300\\uc0c1\\uac00\",\"\\uc784\\ub300\\uc0c1\\uac00\",\"\\uc784\\ub300\\uc0c1\\uac00\",\"\\uc784\\ub300\\uc0c1\\uac00\",\"\\uc784\\ub300\\uc0c1\\uac00\",\"\\uc784\\ub300\\uc0c1\\uac00\",\"\\uc784\\ub300\\uc0c1\\uac00\",\"\\uc784\\ub300\\uc0c1\\uac00\",\"\\uc784\\ub300\\uc0c1\\uac00\",\"\\uc784\\ub300\\uc0c1\\uac00\",\"\\uc784\\ub300\\uc0c1\\uac00\",\"\\uc784\\ub300\\uc0c1\\uac00\",\"\\uc784\\ub300\\uc0c1\\uac00\",\"\\uc601\\uad6c\\uc784\\ub300\",\"\\uc601\\uad6c\\uc784\\ub300\",\"\\uc784\\ub300\\uc0c1\\uac00\",\"\\uc784\\ub300\\uc0c1\\uac00\",\"\\uc784\\ub300\\uc0c1\\uac00\",\"\\uc784\\ub300\\uc0c1\\uac00\",\"\\uc784\\ub300\\uc0c1\\uac00\",\"\\uc784\\ub300\\uc0c1\\uac00\",\"\\uad6d\\ubbfc\\uc784\\ub300\",\"\\uad6d\\ubbfc\\uc784\\ub300\",\"\\uad6d\\ubbfc\\uc784\\ub300\",\"\\uad6d\\ubbfc\\uc784\\ub300\",\"\\uad6d\\ubbfc\\uc784\\ub300\",\"\\uad6d\\ubbfc\\uc784\\ub300\",\"\\uad6d\\ubbfc\\uc784\\ub300\",\"\\uad6d\\ubbfc\\uc784\\ub300\",\"\\uad6d\\ubbfc\\uc784\\ub300\",\"\\uacf5\\uacf5\\uc784\\ub300(50\\ub144)\",\"\\uacf5\\uacf5\\uc784\\ub300(50\\ub144)\",\"\\uacf5\\uacf5\\uc784\\ub300(50\\ub144)\",\"\\uc601\\uad6c\\uc784\\ub300\",\"\\uc601\\uad6c\\uc784\\ub300\",\"\\uc784\\ub300\\uc0c1\\uac00\",\"\\uc784\\ub300\\uc0c1\\uac00\",\"\\uc784\\ub300\\uc0c1\\uac00\",\"\\uc784\\ub300\\uc0c1\\uac00\",\"\\uc784\\ub300\\uc0c1\\uac00\",\"\\uc784\\ub300\\uc0c1\\uac00\",\"\\uc784\\ub300\\uc0c1\\uac00\",\"\\uc784\\ub300\\uc0c1\\uac00\",\"\\uc784\\ub300\\uc0c1\\uac00\",\"\\uc784\\ub300\\uc0c1\\uac00\",\"\\uc601\\uad6c\\uc784\\ub300\",\"\\uc601\\uad6c\\uc784\\ub300\",\"\\uc601\\uad6c\\uc784\\ub300\",\"\\uc784\\ub300\\uc0c1\\uac00\",\"\\uc784\\ub300\\uc0c1\\uac00\",\"\\uc784\\ub300\\uc0c1\\uac00\",\"\\uc784\\ub300\\uc0c1\\uac00\",\"\\uc784\\ub300\\uc0c1\\uac00\",\"\\uc784\\ub300\\uc0c1\\uac00\",\"\\uc784\\ub300\\uc0c1\\uac00\",\"\\uc784\\ub300\\uc0c1\\uac00\",\"\\uc784\\ub300\\uc0c1\\uac00\",\"\\uc784\\ub300\\uc0c1\\uac00\",\"\\uc784\\ub300\\uc0c1\\uac00\",\"\\uc784\\ub300\\uc0c1\\uac00\",\"\\uc784\\ub300\\uc0c1\\uac00\",\"\\uc784\\ub300\\uc0c1\\uac00\",\"\\uc784\\ub300\\uc0c1\\uac00\",\"\\uc784\\ub300\\uc0c1\\uac00\",\"\\uc784\\ub300\\uc0c1\\uac00\",\"\\uc601\\uad6c\\uc784\\ub300\",\"\\uc601\\uad6c\\uc784\\ub300\",\"\\uc601\\uad6c\\uc784\\ub300\",\"\\uc784\\ub300\\uc0c1\\uac00\",\"\\uc784\\ub300\\uc0c1\\uac00\",\"\\uc784\\ub300\\uc0c1\\uac00\",\"\\uc784\\ub300\\uc0c1\\uac00\",\"\\uc784\\ub300\\uc0c1\\uac00\",\"\\uc784\\ub300\\uc0c1\\uac00\",\"\\uc784\\ub300\\uc0c1\\uac00\",\"\\uc784\\ub300\\uc0c1\\uac00\",\"\\uc784\\ub300\\uc0c1\\uac00\",\"\\uc784\\ub300\\uc0c1\\uac00\",\"\\uc784\\ub300\\uc0c1\\uac00\",\"\\uc784\\ub300\\uc0c1\\uac00\",\"\\uc784\\ub300\\uc0c1\\uac00\",\"\\uc784\\ub300\\uc0c1\\uac00\",\"\\uc784\\ub300\\uc0c1\\uac00\",\"\\uc784\\ub300\\uc0c1\\uac00\",\"\\uc784\\ub300\\uc0c1\\uac00\",\"\\uc784\\ub300\\uc0c1\\uac00\",\"\\uc784\\ub300\\uc0c1\\uac00\",\"\\uc784\\ub300\\uc0c1\\uac00\",\"\\uc784\\ub300\\uc0c1\\uac00\",\"\\uc784\\ub300\\uc0c1\\uac00\",\"\\uc784\\ub300\\uc0c1\\uac00\",\"\\uc784\\ub300\\uc0c1\\uac00\",\"\\uc784\\ub300\\uc0c1\\uac00\",\"\\uc784\\ub300\\uc0c1\\uac00\",\"\\uc601\\uad6c\\uc784\\ub300\",\"\\uc601\\uad6c\\uc784\\ub300\",\"\\uc784\\ub300\\uc0c1\\uac00\",\"\\uc784\\ub300\\uc0c1\\uac00\",\"\\uc784\\ub300\\uc0c1\\uac00\",\"\\uc784\\ub300\\uc0c1\\uac00\",\"\\uc784\\ub300\\uc0c1\\uac00\",\"\\uc784\\ub300\\uc0c1\\uac00\",\"\\uc784\\ub300\\uc0c1\\uac00\",\"\\uc784\\ub300\\uc0c1\\uac00\",\"\\uc784\\ub300\\uc0c1\\uac00\",\"\\uc784\\ub300\\uc0c1\\uac00\",\"\\uc784\\ub300\\uc0c1\\uac00\",\"\\uc784\\ub300\\uc0c1\\uac00\",\"\\uc784\\ub300\\uc0c1\\uac00\",\"\\uc784\\ub300\\uc0c1\\uac00\",\"\\uc784\\ub300\\uc0c1\\uac00\",\"\\uc784\\ub300\\uc0c1\\uac00\",\"\\uc784\\ub300\\uc0c1\\uac00\",\"\\uc784\\ub300\\uc0c1\\uac00\",\"\\uc784\\ub300\\uc0c1\\uac00\",\"\\uc784\\ub300\\uc0c1\\uac00\",\"\\uacf5\\uacf5\\uc784\\ub300(50\\ub144)\",\"\\uacf5\\uacf5\\uc784\\ub300(50\\ub144)\",\"\\uc601\\uad6c\\uc784\\ub300\",\"\\uc601\\uad6c\\uc784\\ub300\",\"\\uc601\\uad6c\\uc784\\ub300\",\"\\uc601\\uad6c\\uc784\\ub300\",\"\\uc784\\ub300\\uc0c1\\uac00\",\"\\uc784\\ub300\\uc0c1\\uac00\",\"\\uc784\\ub300\\uc0c1\\uac00\",\"\\uc784\\ub300\\uc0c1\\uac00\",\"\\uc784\\ub300\\uc0c1\\uac00\",\"\\uc784\\ub300\\uc0c1\\uac00\",\"\\uc784\\ub300\\uc0c1\\uac00\",\"\\uc784\\ub300\\uc0c1\\uac00\",\"\\uc784\\ub300\\uc0c1\\uac00\",\"\\uc784\\ub300\\uc0c1\\uac00\",\"\\uc784\\ub300\\uc0c1\\uac00\",\"\\uc784\\ub300\\uc0c1\\uac00\",\"\\uc784\\ub300\\uc0c1\\uac00\",\"\\uc784\\ub300\\uc0c1\\uac00\",\"\\uc784\\ub300\\uc0c1\\uac00\",\"\\uc784\\ub300\\uc0c1\\uac00\",\"\\uc784\\ub300\\uc0c1\\uac00\",\"\\uc784\\ub300\\uc0c1\\uac00\",\"\\uc784\\ub300\\uc0c1\\uac00\",\"\\uc784\\ub300\\uc0c1\\uac00\",\"\\uc601\\uad6c\\uc784\\ub300\",\"\\uc601\\uad6c\\uc784\\ub300\",\"\\uc601\\uad6c\\uc784\\ub300\",\"\\uc784\\ub300\\uc0c1\\uac00\",\"\\uc784\\ub300\\uc0c1\\uac00\",\"\\uc784\\ub300\\uc0c1\\uac00\",\"\\uc784\\ub300\\uc0c1\\uac00\",\"\\uc784\\ub300\\uc0c1\\uac00\",\"\\uc784\\ub300\\uc0c1\\uac00\",\"\\uc784\\ub300\\uc0c1\\uac00\",\"\\uc784\\ub300\\uc0c1\\uac00\",\"\\uc784\\ub300\\uc0c1\\uac00\",\"\\uc784\\ub300\\uc0c1\\uac00\",\"\\uc784\\ub300\\uc0c1\\uac00\",\"\\uc784\\ub300\\uc0c1\\uac00\",\"\\uc784\\ub300\\uc0c1\\uac00\",\"\\uc784\\ub300\\uc0c1\\uac00\",\"\\uc784\\ub300\\uc0c1\\uac00\",\"\\uc784\\ub300\\uc0c1\\uac00\",\"\\uc784\\ub300\\uc0c1\\uac00\",\"\\uc784\\ub300\\uc0c1\\uac00\",\"\\uc784\\ub300\\uc0c1\\uac00\",\"\\uc784\\ub300\\uc0c1\\uac00\",\"\\uc784\\ub300\\uc0c1\\uac00\",\"\\uc784\\ub300\\uc0c1\\uac00\",\"\\uc784\\ub300\\uc0c1\\uac00\",\"\\uc784\\ub300\\uc0c1\\uac00\",\"\\uc784\\ub300\\uc0c1\\uac00\",\"\\uc784\\ub300\\uc0c1\\uac00\",\"\\uc784\\ub300\\uc0c1\\uac00\",\"\\uc784\\ub300\\uc0c1\\uac00\",\"\\uc784\\ub300\\uc0c1\\uac00\",\"\\uc601\\uad6c\\uc784\\ub300\",\"\\uc601\\uad6c\\uc784\\ub300\",\"\\uc601\\uad6c\\uc784\\ub300\",\"\\uc784\\ub300\\uc0c1\\uac00\",\"\\uc784\\ub300\\uc0c1\\uac00\",\"\\uc784\\ub300\\uc0c1\\uac00\",\"\\uc784\\ub300\\uc0c1\\uac00\",\"\\uc784\\ub300\\uc0c1\\uac00\",\"\\uc784\\ub300\\uc0c1\\uac00\",\"\\uc784\\ub300\\uc0c1\\uac00\",\"\\uc784\\ub300\\uc0c1\\uac00\",\"\\uc784\\ub300\\uc0c1\\uac00\",\"\\uc784\\ub300\\uc0c1\\uac00\",\"\\uc784\\ub300\\uc0c1\\uac00\",\"\\uc784\\ub300\\uc0c1\\uac00\",\"\\uc784\\ub300\\uc0c1\\uac00\",\"\\uc784\\ub300\\uc0c1\\uac00\",\"\\uc784\\ub300\\uc0c1\\uac00\",\"\\uc784\\ub300\\uc0c1\\uac00\",\"\\uc784\\ub300\\uc0c1\\uac00\",\"\\uc784\\ub300\\uc0c1\\uac00\",\"\\uc784\\ub300\\uc0c1\\uac00\",\"\\uc784\\ub300\\uc0c1\\uac00\",\"\\uad6d\\ubbfc\\uc784\\ub300\",\"\\uad6d\\ubbfc\\uc784\\ub300\",\"\\uc601\\uad6c\\uc784\\ub300\",\"\\uc601\\uad6c\\uc784\\ub300\",\"\\uc601\\uad6c\\uc784\\ub300\",\"\\uc601\\uad6c\\uc784\\ub300\",\"\\uc784\\ub300\\uc0c1\\uac00\",\"\\uc784\\ub300\\uc0c1\\uac00\",\"\\uc784\\ub300\\uc0c1\\uac00\",\"\\uc784\\ub300\\uc0c1\\uac00\",\"\\uc784\\ub300\\uc0c1\\uac00\",\"\\uc784\\ub300\\uc0c1\\uac00\",\"\\uc784\\ub300\\uc0c1\\uac00\",\"\\uc784\\ub300\\uc0c1\\uac00\",\"\\uc784\\ub300\\uc0c1\\uac00\",\"\\uc784\\ub300\\uc0c1\\uac00\",\"\\uc784\\ub300\\uc0c1\\uac00\",\"\\uc784\\ub300\\uc0c1\\uac00\",\"\\uc784\\ub300\\uc0c1\\uac00\",\"\\uc784\\ub300\\uc0c1\\uac00\",\"\\uc784\\ub300\\uc0c1\\uac00\",\"\\uc784\\ub300\\uc0c1\\uac00\",\"\\uc784\\ub300\\uc0c1\\uac00\",\"\\uc784\\ub300\\uc0c1\\uac00\",\"\\uc784\\ub300\\uc0c1\\uac00\",\"\\uc784\\ub300\\uc0c1\\uac00\",\"\\uc784\\ub300\\uc0c1\\uac00\",\"\\uc784\\ub300\\uc0c1\\uac00\",\"\\uc784\\ub300\\uc0c1\\uac00\",\"\\uc784\\ub300\\uc0c1\\uac00\",\"\\uc784\\ub300\\uc0c1\\uac00\",\"\\uc784\\ub300\\uc0c1\\uac00\",\"\\uc784\\ub300\\uc0c1\\uac00\",\"\\uc784\\ub300\\uc0c1\\uac00\",\"\\uc784\\ub300\\uc0c1\\uac00\",\"\\uc784\\ub300\\uc0c1\\uac00\",\"\\uc784\\ub300\\uc0c1\\uac00\",\"\\uc784\\ub300\\uc0c1\\uac00\",\"\\uc784\\ub300\\uc0c1\\uac00\",\"\\uc784\\ub300\\uc0c1\\uac00\",\"\\uc784\\ub300\\uc0c1\\uac00\",\"\\uc784\\ub300\\uc0c1\\uac00\",\"\\uc784\\ub300\\uc0c1\\uac00\",\"\\uc784\\ub300\\uc0c1\\uac00\",\"\\uc784\\ub300\\uc0c1\\uac00\",\"\\uc784\\ub300\\uc0c1\\uac00\",\"\\uc784\\ub300\\uc0c1\\uac00\",\"\\uc784\\ub300\\uc0c1\\uac00\",\"\\uc784\\ub300\\uc0c1\\uac00\",\"\\uc601\\uad6c\\uc784\\ub300\",\"\\uc601\\uad6c\\uc784\\ub300\",\"\\uc601\\uad6c\\uc784\\ub300\",\"\\uc784\\ub300\\uc0c1\\uac00\",\"\\uc784\\ub300\\uc0c1\\uac00\",\"\\uc784\\ub300\\uc0c1\\uac00\",\"\\uc784\\ub300\\uc0c1\\uac00\",\"\\uc784\\ub300\\uc0c1\\uac00\",\"\\uc784\\ub300\\uc0c1\\uac00\",\"\\uc784\\ub300\\uc0c1\\uac00\",\"\\uc784\\ub300\\uc0c1\\uac00\",\"\\uc784\\ub300\\uc0c1\\uac00\",\"\\uc784\\ub300\\uc0c1\\uac00\",\"\\uc784\\ub300\\uc0c1\\uac00\",\"\\uc784\\ub300\\uc0c1\\uac00\",\"\\uc784\\ub300\\uc0c1\\uac00\",\"\\uc784\\ub300\\uc0c1\\uac00\",\"\\uc784\\ub300\\uc0c1\\uac00\",\"\\uc784\\ub300\\uc0c1\\uac00\",\"\\uc784\\ub300\\uc0c1\\uac00\",\"\\uc784\\ub300\\uc0c1\\uac00\",\"\\uc784\\ub300\\uc0c1\\uac00\",\"\\uc784\\ub300\\uc0c1\\uac00\",\"\\uc784\\ub300\\uc0c1\\uac00\",\"\\uc784\\ub300\\uc0c1\\uac00\",\"\\uc784\\ub300\\uc0c1\\uac00\",\"\\uc784\\ub300\\uc0c1\\uac00\",\"\\uc784\\ub300\\uc0c1\\uac00\",\"\\uc784\\ub300\\uc0c1\\uac00\",\"\\uc784\\ub300\\uc0c1\\uac00\",\"\\uc784\\ub300\\uc0c1\\uac00\",\"\\uc784\\ub300\\uc0c1\\uac00\",\"\\uc784\\ub300\\uc0c1\\uac00\",\"\\uc784\\ub300\\uc0c1\\uac00\",\"\\uc784\\ub300\\uc0c1\\uac00\",\"\\uc784\\ub300\\uc0c1\\uac00\",\"\\uc784\\ub300\\uc0c1\\uac00\",\"\\uc784\\ub300\\uc0c1\\uac00\",\"\\uc784\\ub300\\uc0c1\\uac00\",\"\\uc784\\ub300\\uc0c1\\uac00\",\"\\uc784\\ub300\\uc0c1\\uac00\",\"\\uc784\\ub300\\uc0c1\\uac00\",\"\\uc784\\ub300\\uc0c1\\uac00\",\"\\uc784\\ub300\\uc0c1\\uac00\",\"\\uc784\\ub300\\uc0c1\\uac00\",\"\\uc784\\ub300\\uc0c1\\uac00\",\"\\uc784\\ub300\\uc0c1\\uac00\",\"\\uc784\\ub300\\uc0c1\\uac00\",\"\\uad6d\\ubbfc\\uc784\\ub300\",\"\\uad6d\\ubbfc\\uc784\\ub300\",\"\\uad6d\\ubbfc\\uc784\\ub300\",\"\\uacf5\\uacf5\\uc784\\ub300(50\\ub144)\",\"\\uacf5\\uacf5\\uc784\\ub300(50\\ub144)\",\"\\uc601\\uad6c\\uc784\\ub300\",\"\\uc601\\uad6c\\uc784\\ub300\",\"\\uc784\\ub300\\uc0c1\\uac00\",\"\\uc784\\ub300\\uc0c1\\uac00\",\"\\uc784\\ub300\\uc0c1\\uac00\",\"\\uc784\\ub300\\uc0c1\\uac00\",\"\\uc601\\uad6c\\uc784\\ub300\",\"\\uc601\\uad6c\\uc784\\ub300\",\"\\uc784\\ub300\\uc0c1\\uac00\",\"\\uc784\\ub300\\uc0c1\\uac00\",\"\\uc784\\ub300\\uc0c1\\uac00\",\"\\uc784\\ub300\\uc0c1\\uac00\",\"\\uc784\\ub300\\uc0c1\\uac00\",\"\\uc784\\ub300\\uc0c1\\uac00\",\"\\uc784\\ub300\\uc0c1\\uac00\",\"\\uc784\\ub300\\uc0c1\\uac00\",\"\\uc784\\ub300\\uc0c1\\uac00\",\"\\uc784\\ub300\\uc0c1\\uac00\",\"\\uacf5\\uacf5\\uc784\\ub300(50\\ub144)\",\"\\uacf5\\uacf5\\uc784\\ub300(50\\ub144)\",\"\\uc601\\uad6c\\uc784\\ub300\",\"\\uc601\\uad6c\\uc784\\ub300\",\"\\uc784\\ub300\\uc0c1\\uac00\",\"\\uc784\\ub300\\uc0c1\\uac00\",\"\\uc784\\ub300\\uc0c1\\uac00\",\"\\uc601\\uad6c\\uc784\\ub300\",\"\\uc601\\uad6c\\uc784\\ub300\",\"\\uc784\\ub300\\uc0c1\\uac00\",\"\\uc784\\ub300\\uc0c1\\uac00\",\"\\uc784\\ub300\\uc0c1\\uac00\",\"\\uc784\\ub300\\uc0c1\\uac00\",\"\\uc784\\ub300\\uc0c1\\uac00\",\"\\uc784\\ub300\\uc0c1\\uac00\",\"\\uc784\\ub300\\uc0c1\\uac00\",\"\\uc784\\ub300\\uc0c1\\uac00\",\"\\uc784\\ub300\\uc0c1\\uac00\",\"\\uc784\\ub300\\uc0c1\\uac00\",\"\\uad6d\\ubbfc\\uc784\\ub300\",\"\\uad6d\\ubbfc\\uc784\\ub300\",\"\\uad6d\\ubbfc\\uc784\\ub300\",\"\\uad6d\\ubbfc\\uc784\\ub300\",\"\\uad6d\\ubbfc\\uc784\\ub300\",\"\\uad6d\\ubbfc\\uc784\\ub300\",\"\\uad6d\\ubbfc\\uc784\\ub300\",\"\\uad6d\\ubbfc\\uc784\\ub300\",\"\\uad6d\\ubbfc\\uc784\\ub300\",\"\\uad6d\\ubbfc\\uc784\\ub300\",\"\\uad6d\\ubbfc\\uc784\\ub300\",\"\\uad6d\\ubbfc\\uc784\\ub300\",\"\\uad6d\\ubbfc\\uc784\\ub300\",\"\\uc601\\uad6c\\uc784\\ub300\",\"\\uc601\\uad6c\\uc784\\ub300\",\"\\uc784\\ub300\\uc0c1\\uac00\",\"\\uc784\\ub300\\uc0c1\\uac00\",\"\\uc784\\ub300\\uc0c1\\uac00\",\"\\uc784\\ub300\\uc0c1\\uac00\",\"\\uc784\\ub300\\uc0c1\\uac00\",\"\\uc784\\ub300\\uc0c1\\uac00\",\"\\uc784\\ub300\\uc0c1\\uac00\",\"\\uc784\\ub300\\uc0c1\\uac00\",\"\\uc784\\ub300\\uc0c1\\uac00\",\"\\uc784\\ub300\\uc0c1\\uac00\",\"\\uc784\\ub300\\uc0c1\\uac00\",\"\\uc784\\ub300\\uc0c1\\uac00\",\"\\uc784\\ub300\\uc0c1\\uac00\",\"\\uc784\\ub300\\uc0c1\\uac00\",\"\\uc784\\ub300\\uc0c1\\uac00\",\"\\uad6d\\ubbfc\\uc784\\ub300\",\"\\uad6d\\ubbfc\\uc784\\ub300\",\"\\uacf5\\uacf5\\uc784\\ub300(50\\ub144)\",\"\\uacf5\\uacf5\\uc784\\ub300(50\\ub144)\",\"\\uacf5\\uacf5\\uc784\\ub300(50\\ub144)\",\"\\uacf5\\uacf5\\uc784\\ub300(50\\ub144)\",\"\\uacf5\\uacf5\\uc784\\ub300(50\\ub144)\",\"\\uacf5\\uacf5\\uc784\\ub300(50\\ub144)\",\"\\uacf5\\uacf5\\uc784\\ub300(50\\ub144)\",\"\\uacf5\\uacf5\\uc784\\ub300(50\\ub144)\",\"\\uc601\\uad6c\\uc784\\ub300\",\"\\uc601\\uad6c\\uc784\\ub300\",\"\\uc601\\uad6c\\uc784\\ub300\",\"\\uc784\\ub300\\uc0c1\\uac00\",\"\\uc784\\ub300\\uc0c1\\uac00\",\"\\uc784\\ub300\\uc0c1\\uac00\",\"\\uc784\\ub300\\uc0c1\\uac00\",\"\\uc784\\ub300\\uc0c1\\uac00\",\"\\uc784\\ub300\\uc0c1\\uac00\",\"\\uc784\\ub300\\uc0c1\\uac00\",\"\\uc784\\ub300\\uc0c1\\uac00\",\"\\uc784\\ub300\\uc0c1\\uac00\",\"\\uc784\\ub300\\uc0c1\\uac00\",\"\\uc784\\ub300\\uc0c1\\uac00\",\"\\uc784\\ub300\\uc0c1\\uac00\",\"\\uc784\\ub300\\uc0c1\\uac00\",\"\\uc784\\ub300\\uc0c1\\uac00\",\"\\uc784\\ub300\\uc0c1\\uac00\",\"\\uc784\\ub300\\uc0c1\\uac00\",\"\\uc784\\ub300\\uc0c1\\uac00\",\"\\uc784\\ub300\\uc0c1\\uac00\",\"\\uc784\\ub300\\uc0c1\\uac00\",\"\\uc784\\ub300\\uc0c1\\uac00\",\"\\uc784\\ub300\\uc0c1\\uac00\",\"\\uc784\\ub300\\uc0c1\\uac00\",\"\\uc784\\ub300\\uc0c1\\uac00\",\"\\uc784\\ub300\\uc0c1\\uac00\",\"\\uc784\\ub300\\uc0c1\\uac00\",\"\\uc784\\ub300\\uc0c1\\uac00\",\"\\uc784\\ub300\\uc0c1\\uac00\",\"\\uc784\\ub300\\uc0c1\\uac00\",\"\\uc784\\ub300\\uc0c1\\uac00\",\"\\uc784\\ub300\\uc0c1\\uac00\",\"\\uc601\\uad6c\\uc784\\ub300\",\"\\uc601\\uad6c\\uc784\\ub300\",\"\\uc784\\ub300\\uc0c1\\uac00\",\"\\uc784\\ub300\\uc0c1\\uac00\",\"\\uc784\\ub300\\uc0c1\\uac00\",\"\\uc784\\ub300\\uc0c1\\uac00\",\"\\uc784\\ub300\\uc0c1\\uac00\",\"\\uc784\\ub300\\uc0c1\\uac00\",\"\\uc784\\ub300\\uc0c1\\uac00\",\"\\uc784\\ub300\\uc0c1\\uac00\",\"\\uc784\\ub300\\uc0c1\\uac00\",\"\\uc784\\ub300\\uc0c1\\uac00\",\"\\uc784\\ub300\\uc0c1\\uac00\",\"\\uc784\\ub300\\uc0c1\\uac00\",\"\\uc784\\ub300\\uc0c1\\uac00\",\"\\uc784\\ub300\\uc0c1\\uac00\",\"\\uc784\\ub300\\uc0c1\\uac00\",\"\\uc601\\uad6c\\uc784\\ub300\",\"\\uc601\\uad6c\\uc784\\ub300\",\"\\uc601\\uad6c\\uc784\\ub300\",\"\\uc601\\uad6c\\uc784\\ub300\",\"\\uc784\\ub300\\uc0c1\\uac00\",\"\\uc784\\ub300\\uc0c1\\uac00\",\"\\uc784\\ub300\\uc0c1\\uac00\",\"\\uc784\\ub300\\uc0c1\\uac00\",\"\\uad6d\\ubbfc\\uc784\\ub300\",\"\\uad6d\\ubbfc\\uc784\\ub300\",\"\\uad6d\\ubbfc\\uc784\\ub300\",\"\\uad6d\\ubbfc\\uc784\\ub300\",\"\\uad6d\\ubbfc\\uc784\\ub300\",\"\\uad6d\\ubbfc\\uc784\\ub300\",\"\\uad6d\\ubbfc\\uc784\\ub300\",\"\\uc601\\uad6c\\uc784\\ub300\",\"\\uc601\\uad6c\\uc784\\ub300\",\"\\uc784\\ub300\\uc0c1\\uac00\",\"\\uc784\\ub300\\uc0c1\\uac00\",\"\\uc784\\ub300\\uc0c1\\uac00\",\"\\uc784\\ub300\\uc0c1\\uac00\",\"\\uc784\\ub300\\uc0c1\\uac00\",\"\\uc784\\ub300\\uc0c1\\uac00\",\"\\uc784\\ub300\\uc0c1\\uac00\",\"\\uc784\\ub300\\uc0c1\\uac00\",\"\\uc784\\ub300\\uc0c1\\uac00\",\"\\uc784\\ub300\\uc0c1\\uac00\",\"\\uc784\\ub300\\uc0c1\\uac00\",\"\\uc784\\ub300\\uc0c1\\uac00\",\"\\uc784\\ub300\\uc0c1\\uac00\",\"\\uc784\\ub300\\uc0c1\\uac00\",\"\\uc784\\ub300\\uc0c1\\uac00\",\"\\uc784\\ub300\\uc0c1\\uac00\",\"\\uc784\\ub300\\uc0c1\\uac00\",\"\\uc601\\uad6c\\uc784\\ub300\",\"\\uc601\\uad6c\\uc784\\ub300\",\"\\uc601\\uad6c\\uc784\\ub300\",\"\\uc784\\ub300\\uc0c1\\uac00\",\"\\uc784\\ub300\\uc0c1\\uac00\",\"\\uc784\\ub300\\uc0c1\\uac00\",\"\\uc784\\ub300\\uc0c1\\uac00\",\"\\uc784\\ub300\\uc0c1\\uac00\",\"\\uc784\\ub300\\uc0c1\\uac00\",\"\\uc784\\ub300\\uc0c1\\uac00\",\"\\uc784\\ub300\\uc0c1\\uac00\",\"\\uc784\\ub300\\uc0c1\\uac00\",\"\\uc784\\ub300\\uc0c1\\uac00\",\"\\uc784\\ub300\\uc0c1\\uac00\",\"\\uc784\\ub300\\uc0c1\\uac00\",\"\\uc784\\ub300\\uc0c1\\uac00\",\"\\uc784\\ub300\\uc0c1\\uac00\",\"\\uc784\\ub300\\uc0c1\\uac00\",\"\\uc784\\ub300\\uc0c1\\uac00\",\"\\uc784\\ub300\\uc0c1\\uac00\",\"\\uc784\\ub300\\uc0c1\\uac00\",\"\\uc784\\ub300\\uc0c1\\uac00\",\"\\uad6d\\ubbfc\\uc784\\ub300\",\"\\uad6d\\ubbfc\\uc784\\ub300\",\"\\uad6d\\ubbfc\\uc784\\ub300\",\"\\uc601\\uad6c\\uc784\\ub300\",\"\\uc601\\uad6c\\uc784\\ub300\",\"\\uc601\\uad6c\\uc784\\ub300\",\"\\uc784\\ub300\\uc0c1\\uac00\",\"\\uc784\\ub300\\uc0c1\\uac00\",\"\\uc784\\ub300\\uc0c1\\uac00\",\"\\uc784\\ub300\\uc0c1\\uac00\",\"\\uc784\\ub300\\uc0c1\\uac00\",\"\\uc784\\ub300\\uc0c1\\uac00\",\"\\uc784\\ub300\\uc0c1\\uac00\",\"\\uc784\\ub300\\uc0c1\\uac00\",\"\\uc784\\ub300\\uc0c1\\uac00\",\"\\uc784\\ub300\\uc0c1\\uac00\",\"\\uc784\\ub300\\uc0c1\\uac00\",\"\\uad6d\\ubbfc\\uc784\\ub300\",\"\\uad6d\\ubbfc\\uc784\\ub300\",\"\\uad6d\\ubbfc\\uc784\\ub300\",\"\\uc601\\uad6c\\uc784\\ub300\",\"\\uc784\\ub300\\uc0c1\\uac00\",\"\\uc784\\ub300\\uc0c1\\uac00\",\"\\uc784\\ub300\\uc0c1\\uac00\",\"\\uc784\\ub300\\uc0c1\\uac00\",\"\\uc784\\ub300\\uc0c1\\uac00\",\"\\uc784\\ub300\\uc0c1\\uac00\",\"\\uc784\\ub300\\uc0c1\\uac00\",\"\\uc784\\ub300\\uc0c1\\uac00\",\"\\uc784\\ub300\\uc0c1\\uac00\",\"\\uc784\\ub300\\uc0c1\\uac00\",\"\\uc784\\ub300\\uc0c1\\uac00\",\"\\uc784\\ub300\\uc0c1\\uac00\",\"\\uc784\\ub300\\uc0c1\\uac00\",\"\\uad6d\\ubbfc\\uc784\\ub300\",\"\\uad6d\\ubbfc\\uc784\\ub300\",\"\\uad6d\\ubbfc\\uc784\\ub300\",\"\\uad6d\\ubbfc\\uc784\\ub300\",\"\\uad6d\\ubbfc\\uc784\\ub300\",\"\\uad6d\\ubbfc\\uc784\\ub300\",\"\\uad6d\\ubbfc\\uc784\\ub300\",\"\\uad6d\\ubbfc\\uc784\\ub300\",\"\\uad6d\\ubbfc\\uc784\\ub300\",\"\\uad6d\\ubbfc\\uc784\\ub300\",\"\\uad6d\\ubbfc\\uc784\\ub300\",\"\\uad6d\\ubbfc\\uc784\\ub300\",\"\\uad6d\\ubbfc\\uc784\\ub300\",\"\\uad6d\\ubbfc\\uc784\\ub300\",\"\\uad6d\\ubbfc\\uc784\\ub300\",\"\\uad6d\\ubbfc\\uc784\\ub300\",\"\\uad6d\\ubbfc\\uc784\\ub300\",\"\\uad6d\\ubbfc\\uc784\\ub300\",\"\\uad6d\\ubbfc\\uc784\\ub300\",\"\\uad6d\\ubbfc\\uc784\\ub300\",\"\\uad6d\\ubbfc\\uc784\\ub300\",\"\\uad6d\\ubbfc\\uc784\\ub300\",\"\\uad6d\\ubbfc\\uc784\\ub300\",\"\\uad6d\\ubbfc\\uc784\\ub300\",\"\\uad6d\\ubbfc\\uc784\\ub300\",\"\\uad6d\\ubbfc\\uc784\\ub300\",\"\\uad6d\\ubbfc\\uc784\\ub300\",\"\\uad6d\\ubbfc\\uc784\\ub300\",\"\\uad6d\\ubbfc\\uc784\\ub300\",\"\\uad6d\\ubbfc\\uc784\\ub300\",\"\\uad6d\\ubbfc\\uc784\\ub300\",\"\\uad6d\\ubbfc\\uc784\\ub300\",\"\\uad6d\\ubbfc\\uc784\\ub300\",\"\\uad6d\\ubbfc\\uc784\\ub300\",\"\\uad6d\\ubbfc\\uc784\\ub300\",\"\\uad6d\\ubbfc\\uc784\\ub300\",\"\\uad6d\\ubbfc\\uc784\\ub300\",\"\\uad6d\\ubbfc\\uc784\\ub300\",\"\\uad6d\\ubbfc\\uc784\\ub300\",\"\\uad6d\\ubbfc\\uc784\\ub300\",\"\\uad6d\\ubbfc\\uc784\\ub300\",\"\\uad6d\\ubbfc\\uc784\\ub300\",\"\\uad6d\\ubbfc\\uc784\\ub300\",\"\\uad6d\\ubbfc\\uc784\\ub300\",\"\\uad6d\\ubbfc\\uc784\\ub300\",\"\\uad6d\\ubbfc\\uc784\\ub300\",\"\\uad6d\\ubbfc\\uc784\\ub300\",\"\\uad6d\\ubbfc\\uc784\\ub300\",\"\\uad6d\\ubbfc\\uc784\\ub300\",\"\\uad6d\\ubbfc\\uc784\\ub300\",\"\\uad6d\\ubbfc\\uc784\\ub300\",\"\\uad6d\\ubbfc\\uc784\\ub300\",\"\\uad6d\\ubbfc\\uc784\\ub300\",\"\\uad6d\\ubbfc\\uc784\\ub300\",\"\\uad6d\\ubbfc\\uc784\\ub300\",\"\\uad6d\\ubbfc\\uc784\\ub300\",\"\\uad6d\\ubbfc\\uc784\\ub300\",\"\\uad6d\\ubbfc\\uc784\\ub300\",\"\\uad6d\\ubbfc\\uc784\\ub300\",\"\\uad6d\\ubbfc\\uc784\\ub300\",\"\\uad6d\\ubbfc\\uc784\\ub300\",\"\\uad6d\\ubbfc\\uc784\\ub300\",\"\\uad6d\\ubbfc\\uc784\\ub300\",\"\\uad6d\\ubbfc\\uc784\\ub300\",\"\\uad6d\\ubbfc\\uc784\\ub300\",\"\\uad6d\\ubbfc\\uc784\\ub300\",\"\\uad6d\\ubbfc\\uc784\\ub300\",\"\\uad6d\\ubbfc\\uc784\\ub300\",\"\\uad6d\\ubbfc\\uc784\\ub300\",\"\\uad6d\\ubbfc\\uc784\\ub300\",\"\\uad6d\\ubbfc\\uc784\\ub300\",\"\\uad6d\\ubbfc\\uc784\\ub300\",\"\\uad6d\\ubbfc\\uc784\\ub300\",\"\\uad6d\\ubbfc\\uc784\\ub300\",\"\\uad6d\\ubbfc\\uc784\\ub300\",\"\\uad6d\\ubbfc\\uc784\\ub300\",\"\\uad6d\\ubbfc\\uc784\\ub300\",\"\\uad6d\\ubbfc\\uc784\\ub300\",\"\\uad6d\\ubbfc\\uc784\\ub300\",\"\\uad6d\\ubbfc\\uc784\\ub300\",\"\\uad6d\\ubbfc\\uc784\\ub300\",\"\\uad6d\\ubbfc\\uc784\\ub300\",\"\\uad6d\\ubbfc\\uc784\\ub300\",\"\\uad6d\\ubbfc\\uc784\\ub300\",\"\\uad6d\\ubbfc\\uc784\\ub300\",\"\\uad6d\\ubbfc\\uc784\\ub300\",\"\\uad6d\\ubbfc\\uc784\\ub300\",\"\\uad6d\\ubbfc\\uc784\\ub300\",\"\\uad6d\\ubbfc\\uc784\\ub300\",\"\\uad6d\\ubbfc\\uc784\\ub300\",\"\\uad6d\\ubbfc\\uc784\\ub300\",\"\\uad6d\\ubbfc\\uc784\\ub300\",\"\\uad6d\\ubbfc\\uc784\\ub300\",\"\\uad6d\\ubbfc\\uc784\\ub300\",\"\\uad6d\\ubbfc\\uc784\\ub300\",\"\\uad6d\\ubbfc\\uc784\\ub300\",\"\\uad6d\\ubbfc\\uc784\\ub300\",\"\\uad6d\\ubbfc\\uc784\\ub300\",\"\\uad6d\\ubbfc\\uc784\\ub300\",\"\\uad6d\\ubbfc\\uc784\\ub300\",\"\\uad6d\\ubbfc\\uc784\\ub300\",\"\\uad6d\\ubbfc\\uc784\\ub300\",\"\\uad6d\\ubbfc\\uc784\\ub300\",\"\\uad6d\\ubbfc\\uc784\\ub300\",\"\\uad6d\\ubbfc\\uc784\\ub300\",\"\\uad6d\\ubbfc\\uc784\\ub300\",\"\\uad6d\\ubbfc\\uc784\\ub300\",\"\\uad6d\\ubbfc\\uc784\\ub300\",\"\\uad6d\\ubbfc\\uc784\\ub300\",\"\\uad6d\\ubbfc\\uc784\\ub300\",\"\\uad6d\\ubbfc\\uc784\\ub300\",\"\\uad6d\\ubbfc\\uc784\\ub300\",\"\\uad6d\\ubbfc\\uc784\\ub300\",\"\\uad6d\\ubbfc\\uc784\\ub300\",\"\\uad6d\\ubbfc\\uc784\\ub300\",\"\\uad6d\\ubbfc\\uc784\\ub300\",\"\\uad6d\\ubbfc\\uc784\\ub300\",\"\\uad6d\\ubbfc\\uc784\\ub300\",\"\\uad6d\\ubbfc\\uc784\\ub300\",\"\\uad6d\\ubbfc\\uc784\\ub300\",\"\\uad6d\\ubbfc\\uc784\\ub300\",\"\\uad6d\\ubbfc\\uc784\\ub300\",\"\\uad6d\\ubbfc\\uc784\\ub300\",\"\\uad6d\\ubbfc\\uc784\\ub300\",\"\\uad6d\\ubbfc\\uc784\\ub300\",\"\\uad6d\\ubbfc\\uc784\\ub300\",\"\\uad6d\\ubbfc\\uc784\\ub300\",\"\\uad6d\\ubbfc\\uc784\\ub300\",\"\\uad6d\\ubbfc\\uc784\\ub300\",\"\\uad6d\\ubbfc\\uc784\\ub300\",\"\\uad6d\\ubbfc\\uc784\\ub300\",\"\\uad6d\\ubbfc\\uc784\\ub300\",\"\\uad6d\\ubbfc\\uc784\\ub300\",\"\\uad6d\\ubbfc\\uc784\\ub300\",\"\\uad6d\\ubbfc\\uc784\\ub300\",\"\\uad6d\\ubbfc\\uc784\\ub300\",\"\\uad6d\\ubbfc\\uc784\\ub300\",\"\\uad6d\\ubbfc\\uc784\\ub300\",\"\\uad6d\\ubbfc\\uc784\\ub300\",\"\\uad6d\\ubbfc\\uc784\\ub300\",\"\\uad6d\\ubbfc\\uc784\\ub300\",\"\\uad6d\\ubbfc\\uc784\\ub300\",\"\\uad6d\\ubbfc\\uc784\\ub300\",\"\\uad6d\\ubbfc\\uc784\\ub300\",\"\\uad6d\\ubbfc\\uc784\\ub300\",\"\\uad6d\\ubbfc\\uc784\\ub300\",\"\\uad6d\\ubbfc\\uc784\\ub300\",\"\\uad6d\\ubbfc\\uc784\\ub300\",\"\\uad6d\\ubbfc\\uc784\\ub300\",\"\\uad6d\\ubbfc\\uc784\\ub300\",\"\\uad6d\\ubbfc\\uc784\\ub300\",\"\\uad6d\\ubbfc\\uc784\\ub300\",\"\\uad6d\\ubbfc\\uc784\\ub300\",\"\\uad6d\\ubbfc\\uc784\\ub300\",\"\\uad6d\\ubbfc\\uc784\\ub300\",\"\\uad6d\\ubbfc\\uc784\\ub300\",\"\\uad6d\\ubbfc\\uc784\\ub300\",\"\\uad6d\\ubbfc\\uc784\\ub300\",\"\\uad6d\\ubbfc\\uc784\\ub300\",\"\\uad6d\\ubbfc\\uc784\\ub300\",\"\\uad6d\\ubbfc\\uc784\\ub300\",\"\\uad6d\\ubbfc\\uc784\\ub300\",\"\\uad6d\\ubbfc\\uc784\\ub300\",\"\\uad6d\\ubbfc\\uc784\\ub300\",\"\\uad6d\\ubbfc\\uc784\\ub300\",\"\\uad6d\\ubbfc\\uc784\\ub300\",\"\\uad6d\\ubbfc\\uc784\\ub300\",\"\\uad6d\\ubbfc\\uc784\\ub300\",\"\\uad6d\\ubbfc\\uc784\\ub300\",\"\\uad6d\\ubbfc\\uc784\\ub300\",\"\\uad6d\\ubbfc\\uc784\\ub300\",\"\\uad6d\\ubbfc\\uc784\\ub300\",\"\\uad6d\\ubbfc\\uc784\\ub300\",\"\\uad6d\\ubbfc\\uc784\\ub300\",\"\\uad6d\\ubbfc\\uc784\\ub300\",\"\\uad6d\\ubbfc\\uc784\\ub300\",\"\\uad6d\\ubbfc\\uc784\\ub300\",\"\\uad6d\\ubbfc\\uc784\\ub300\",\"\\uad6d\\ubbfc\\uc784\\ub300\",\"\\uad6d\\ubbfc\\uc784\\ub300\",\"\\uad6d\\ubbfc\\uc784\\ub300\",\"\\uad6d\\ubbfc\\uc784\\ub300\",\"\\uad6d\\ubbfc\\uc784\\ub300\",\"\\uad6d\\ubbfc\\uc784\\ub300\",\"\\uad6d\\ubbfc\\uc784\\ub300\",\"\\uad6d\\ubbfc\\uc784\\ub300\",\"\\uad6d\\ubbfc\\uc784\\ub300\",\"\\uad6d\\ubbfc\\uc784\\ub300\",\"\\uad6d\\ubbfc\\uc784\\ub300\",\"\\uad6d\\ubbfc\\uc784\\ub300\",\"\\uad6d\\ubbfc\\uc784\\ub300\",\"\\uad6d\\ubbfc\\uc784\\ub300\",\"\\uad6d\\ubbfc\\uc784\\ub300\",\"\\uad6d\\ubbfc\\uc784\\ub300\",\"\\uad6d\\ubbfc\\uc784\\ub300\",\"\\uad6d\\ubbfc\\uc784\\ub300\",\"\\uad6d\\ubbfc\\uc784\\ub300\",\"\\uad6d\\ubbfc\\uc784\\ub300\",\"\\uad6d\\ubbfc\\uc784\\ub300\",\"\\uad6d\\ubbfc\\uc784\\ub300\",\"\\uad6d\\ubbfc\\uc784\\ub300\",\"\\uad6d\\ubbfc\\uc784\\ub300\",\"\\uad6d\\ubbfc\\uc784\\ub300\",\"\\uad6d\\ubbfc\\uc784\\ub300\",\"\\uad6d\\ubbfc\\uc784\\ub300\",\"\\uad6d\\ubbfc\\uc784\\ub300\",\"\\uad6d\\ubbfc\\uc784\\ub300\",\"\\uad6d\\ubbfc\\uc784\\ub300\",\"\\uad6d\\ubbfc\\uc784\\ub300\",\"\\uad6d\\ubbfc\\uc784\\ub300\",\"\\uad6d\\ubbfc\\uc784\\ub300\",\"\\uad6d\\ubbfc\\uc784\\ub300\",\"\\uad6d\\ubbfc\\uc784\\ub300\",\"\\uad6d\\ubbfc\\uc784\\ub300\",\"\\uad6d\\ubbfc\\uc784\\ub300\",\"\\uad6d\\ubbfc\\uc784\\ub300\",\"\\uad6d\\ubbfc\\uc784\\ub300\",\"\\uad6d\\ubbfc\\uc784\\ub300\",\"\\uad6d\\ubbfc\\uc784\\ub300\",\"\\uad6d\\ubbfc\\uc784\\ub300\",\"\\uad6d\\ubbfc\\uc784\\ub300\",\"\\uad6d\\ubbfc\\uc784\\ub300\",\"\\uad6d\\ubbfc\\uc784\\ub300\",\"\\uad6d\\ubbfc\\uc784\\ub300\",\"\\uad6d\\ubbfc\\uc784\\ub300\",\"\\uad6d\\ubbfc\\uc784\\ub300\",\"\\uad6d\\ubbfc\\uc784\\ub300\",\"\\uad6d\\ubbfc\\uc784\\ub300\",\"\\uad6d\\ubbfc\\uc784\\ub300\",\"\\uad6d\\ubbfc\\uc784\\ub300\",\"\\uad6d\\ubbfc\\uc784\\ub300\",\"\\uad6d\\ubbfc\\uc784\\ub300\",\"\\uad6d\\ubbfc\\uc784\\ub300\",\"\\uad6d\\ubbfc\\uc784\\ub300\",\"\\uad6d\\ubbfc\\uc784\\ub300\",\"\\uad6d\\ubbfc\\uc784\\ub300\",\"\\uad6d\\ubbfc\\uc784\\ub300\",\"\\uad6d\\ubbfc\\uc784\\ub300\",\"\\uad6d\\ubbfc\\uc784\\ub300\",\"\\uad6d\\ubbfc\\uc784\\ub300\",\"\\uad6d\\ubbfc\\uc784\\ub300\",\"\\uad6d\\ubbfc\\uc784\\ub300\",\"\\uad6d\\ubbfc\\uc784\\ub300\",\"\\uad6d\\ubbfc\\uc784\\ub300\",\"\\uad6d\\ubbfc\\uc784\\ub300\",\"\\uad6d\\ubbfc\\uc784\\ub300\",\"\\uad6d\\ubbfc\\uc784\\ub300\",\"\\uad6d\\ubbfc\\uc784\\ub300\",\"\\uad6d\\ubbfc\\uc784\\ub300\",\"\\uad6d\\ubbfc\\uc784\\ub300\",\"\\uad6d\\ubbfc\\uc784\\ub300\",\"\\uad6d\\ubbfc\\uc784\\ub300\",\"\\uad6d\\ubbfc\\uc784\\ub300\",\"\\uad6d\\ubbfc\\uc784\\ub300\",\"\\uad6d\\ubbfc\\uc784\\ub300\",\"\\uad6d\\ubbfc\\uc784\\ub300\",\"\\uad6d\\ubbfc\\uc784\\ub300\",\"\\uad6d\\ubbfc\\uc784\\ub300\",\"\\uad6d\\ubbfc\\uc784\\ub300\",\"\\uad6d\\ubbfc\\uc784\\ub300\",\"\\uad6d\\ubbfc\\uc784\\ub300\",\"\\uad6d\\ubbfc\\uc784\\ub300\",\"\\uad6d\\ubbfc\\uc784\\ub300\",\"\\uad6d\\ubbfc\\uc784\\ub300\",\"\\uad6d\\ubbfc\\uc784\\ub300\",\"\\uad6d\\ubbfc\\uc784\\ub300\",\"\\uad6d\\ubbfc\\uc784\\ub300\",\"\\uad6d\\ubbfc\\uc784\\ub300\",\"\\uad6d\\ubbfc\\uc784\\ub300\",\"\\uad6d\\ubbfc\\uc784\\ub300\",\"\\uad6d\\ubbfc\\uc784\\ub300\",\"\\uad6d\\ubbfc\\uc784\\ub300\",\"\\uad6d\\ubbfc\\uc784\\ub300\",\"\\uad6d\\ubbfc\\uc784\\ub300\",\"\\uad6d\\ubbfc\\uc784\\ub300\",\"\\uad6d\\ubbfc\\uc784\\ub300\",\"\\uad6d\\ubbfc\\uc784\\ub300\",\"\\uad6d\\ubbfc\\uc784\\ub300\",\"\\uad6d\\ubbfc\\uc784\\ub300\",\"\\uad6d\\ubbfc\\uc784\\ub300\",\"\\uad6d\\ubbfc\\uc784\\ub300\",\"\\uad6d\\ubbfc\\uc784\\ub300\",\"\\uad6d\\ubbfc\\uc784\\ub300\",\"\\uad6d\\ubbfc\\uc784\\ub300\",\"\\uad6d\\ubbfc\\uc784\\ub300\",\"\\uad6d\\ubbfc\\uc784\\ub300\",\"\\uad6d\\ubbfc\\uc784\\ub300\",\"\\uad6d\\ubbfc\\uc784\\ub300\",\"\\uad6d\\ubbfc\\uc784\\ub300\",\"\\uad6d\\ubbfc\\uc784\\ub300\",\"\\uad6d\\ubbfc\\uc784\\ub300\",\"\\uad6d\\ubbfc\\uc784\\ub300\",\"\\uad6d\\ubbfc\\uc784\\ub300\",\"\\uad6d\\ubbfc\\uc784\\ub300\",\"\\uad6d\\ubbfc\\uc784\\ub300\",\"\\uad6d\\ubbfc\\uc784\\ub300\",\"\\uad6d\\ubbfc\\uc784\\ub300\",\"\\uad6d\\ubbfc\\uc784\\ub300\",\"\\uad6d\\ubbfc\\uc784\\ub300\",\"\\uad6d\\ubbfc\\uc784\\ub300\",\"\\uad6d\\ubbfc\\uc784\\ub300\",\"\\uad6d\\ubbfc\\uc784\\ub300\",\"\\uad6d\\ubbfc\\uc784\\ub300\",\"\\uad6d\\ubbfc\\uc784\\ub300\",\"\\uad6d\\ubbfc\\uc784\\ub300\",\"\\uad6d\\ubbfc\\uc784\\ub300\",\"\\uad6d\\ubbfc\\uc784\\ub300\",\"\\uad6d\\ubbfc\\uc784\\ub300\",\"\\uad6d\\ubbfc\\uc784\\ub300\",\"\\uad6d\\ubbfc\\uc784\\ub300\",\"\\uad6d\\ubbfc\\uc784\\ub300\",\"\\uad6d\\ubbfc\\uc784\\ub300\",\"\\uad6d\\ubbfc\\uc784\\ub300\",\"\\uad6d\\ubbfc\\uc784\\ub300\",\"\\uad6d\\ubbfc\\uc784\\ub300\",\"\\uad6d\\ubbfc\\uc784\\ub300\",\"\\uad6d\\ubbfc\\uc784\\ub300\",\"\\uad6d\\ubbfc\\uc784\\ub300\",\"\\uad6d\\ubbfc\\uc784\\ub300\",\"\\uad6d\\ubbfc\\uc784\\ub300\",\"\\uad6d\\ubbfc\\uc784\\ub300\",\"\\uad6d\\ubbfc\\uc784\\ub300\",\"\\uad6d\\ubbfc\\uc784\\ub300\",\"\\uad6d\\ubbfc\\uc784\\ub300\",\"\\uad6d\\ubbfc\\uc784\\ub300\",\"\\uad6d\\ubbfc\\uc784\\ub300\",\"\\uad6d\\ubbfc\\uc784\\ub300\",\"\\uad6d\\ubbfc\\uc784\\ub300\",\"\\uad6d\\ubbfc\\uc784\\ub300\",\"\\uad6d\\ubbfc\\uc784\\ub300\",\"\\uad6d\\ubbfc\\uc784\\ub300\",\"\\uad6d\\ubbfc\\uc784\\ub300\",\"\\uad6d\\ubbfc\\uc784\\ub300\",\"\\uad6d\\ubbfc\\uc784\\ub300\",\"\\uad6d\\ubbfc\\uc784\\ub300\",\"\\uad6d\\ubbfc\\uc784\\ub300\",\"\\uad6d\\ubbfc\\uc784\\ub300\",\"\\uad6d\\ubbfc\\uc784\\ub300\",\"\\uad6d\\ubbfc\\uc784\\ub300\",\"\\uad6d\\ubbfc\\uc784\\ub300\",\"\\uad6d\\ubbfc\\uc784\\ub300\",\"\\uad6d\\ubbfc\\uc784\\ub300\",\"\\uad6d\\ubbfc\\uc784\\ub300\",\"\\uad6d\\ubbfc\\uc784\\ub300\",\"\\uad6d\\ubbfc\\uc784\\ub300\",\"\\uad6d\\ubbfc\\uc784\\ub300\",\"\\uad6d\\ubbfc\\uc784\\ub300\",\"\\uad6d\\ubbfc\\uc784\\ub300\",\"\\uad6d\\ubbfc\\uc784\\ub300\",\"\\uad6d\\ubbfc\\uc784\\ub300\",\"\\uad6d\\ubbfc\\uc784\\ub300\",\"\\uad6d\\ubbfc\\uc784\\ub300\",\"\\uad6d\\ubbfc\\uc784\\ub300\",\"\\uad6d\\ubbfc\\uc784\\ub300\",\"\\uad6d\\ubbfc\\uc784\\ub300\",\"\\uad6d\\ubbfc\\uc784\\ub300\",\"\\uad6d\\ubbfc\\uc784\\ub300\",\"\\uad6d\\ubbfc\\uc784\\ub300\",\"\\uad6d\\ubbfc\\uc784\\ub300\",\"\\uad6d\\ubbfc\\uc784\\ub300\",\"\\uad6d\\ubbfc\\uc784\\ub300\",\"\\uad6d\\ubbfc\\uc784\\ub300\",\"\\uad6d\\ubbfc\\uc784\\ub300\",\"\\uad6d\\ubbfc\\uc784\\ub300\",\"\\uad6d\\ubbfc\\uc784\\ub300\",\"\\uad6d\\ubbfc\\uc784\\ub300\",\"\\uad6d\\ubbfc\\uc784\\ub300\",\"\\uad6d\\ubbfc\\uc784\\ub300\",\"\\uad6d\\ubbfc\\uc784\\ub300\",\"\\uad6d\\ubbfc\\uc784\\ub300\",\"\\uad6d\\ubbfc\\uc784\\ub300\",\"\\uad6d\\ubbfc\\uc784\\ub300\",\"\\uad6d\\ubbfc\\uc784\\ub300\",\"\\uad6d\\ubbfc\\uc784\\ub300\",\"\\uad6d\\ubbfc\\uc784\\ub300\",\"\\uad6d\\ubbfc\\uc784\\ub300\",\"\\uad6d\\ubbfc\\uc784\\ub300\",\"\\uad6d\\ubbfc\\uc784\\ub300\",\"\\uad6d\\ubbfc\\uc784\\ub300\",\"\\uad6d\\ubbfc\\uc784\\ub300\",\"\\uad6d\\ubbfc\\uc784\\ub300\",\"\\uad6d\\ubbfc\\uc784\\ub300\",\"\\uad6d\\ubbfc\\uc784\\ub300\",\"\\uad6d\\ubbfc\\uc784\\ub300\",\"\\uad6d\\ubbfc\\uc784\\ub300\",\"\\uad6d\\ubbfc\\uc784\\ub300\",\"\\uad6d\\ubbfc\\uc784\\ub300\",\"\\uad6d\\ubbfc\\uc784\\ub300\",\"\\uad6d\\ubbfc\\uc784\\ub300\",\"\\uad6d\\ubbfc\\uc784\\ub300\",\"\\uad6d\\ubbfc\\uc784\\ub300\",\"\\uad6d\\ubbfc\\uc784\\ub300\",\"\\uad6d\\ubbfc\\uc784\\ub300\",\"\\uad6d\\ubbfc\\uc784\\ub300\",\"\\uad6d\\ubbfc\\uc784\\ub300\",\"\\uad6d\\ubbfc\\uc784\\ub300\",\"\\uad6d\\ubbfc\\uc784\\ub300\",\"\\uad6d\\ubbfc\\uc784\\ub300\",\"\\uad6d\\ubbfc\\uc784\\ub300\",\"\\uad6d\\ubbfc\\uc784\\ub300\",\"\\uad6d\\ubbfc\\uc784\\ub300\",\"\\uad6d\\ubbfc\\uc784\\ub300\",\"\\uad6d\\ubbfc\\uc784\\ub300\",\"\\uad6d\\ubbfc\\uc784\\ub300\",\"\\uad6d\\ubbfc\\uc784\\ub300\",\"\\uad6d\\ubbfc\\uc784\\ub300\",\"\\uad6d\\ubbfc\\uc784\\ub300\",\"\\uad6d\\ubbfc\\uc784\\ub300\",\"\\uad6d\\ubbfc\\uc784\\ub300\",\"\\uad6d\\ubbfc\\uc784\\ub300\",\"\\uad6d\\ubbfc\\uc784\\ub300\",\"\\uad6d\\ubbfc\\uc784\\ub300\",\"\\uad6d\\ubbfc\\uc784\\ub300\",\"\\uad6d\\ubbfc\\uc784\\ub300\",\"\\uad6d\\ubbfc\\uc784\\ub300\",\"\\uad6d\\ubbfc\\uc784\\ub300\",\"\\uad6d\\ubbfc\\uc784\\ub300\",\"\\uad6d\\ubbfc\\uc784\\ub300\",\"\\uad6d\\ubbfc\\uc784\\ub300\",\"\\uad6d\\ubbfc\\uc784\\ub300\",\"\\uad6d\\ubbfc\\uc784\\ub300\",\"\\uad6d\\ubbfc\\uc784\\ub300\",\"\\uad6d\\ubbfc\\uc784\\ub300\",\"\\uad6d\\ubbfc\\uc784\\ub300\",\"\\uad6d\\ubbfc\\uc784\\ub300\",\"\\uad6d\\ubbfc\\uc784\\ub300\",\"\\uacf5\\uacf5\\uc784\\ub300(50\\ub144)\",\"\\uad6d\\ubbfc\\uc784\\ub300\",\"\\uad6d\\ubbfc\\uc784\\ub300\",\"\\uad6d\\ubbfc\\uc784\\ub300\",\"\\uad6d\\ubbfc\\uc784\\ub300\",\"\\uad6d\\ubbfc\\uc784\\ub300\",\"\\uad6d\\ubbfc\\uc784\\ub300\",\"\\uad6d\\ubbfc\\uc784\\ub300\",\"\\uad6d\\ubbfc\\uc784\\ub300\",\"\\uad6d\\ubbfc\\uc784\\ub300\",\"\\uad6d\\ubbfc\\uc784\\ub300\",\"\\uad6d\\ubbfc\\uc784\\ub300\",\"\\uad6d\\ubbfc\\uc784\\ub300\",\"\\uad6d\\ubbfc\\uc784\\ub300\",\"\\uad6d\\ubbfc\\uc784\\ub300\",\"\\uad6d\\ubbfc\\uc784\\ub300\",\"\\uad6d\\ubbfc\\uc784\\ub300\",\"\\uad6d\\ubbfc\\uc784\\ub300\",\"\\uad6d\\ubbfc\\uc784\\ub300\",\"\\uad6d\\ubbfc\\uc784\\ub300\",\"\\uad6d\\ubbfc\\uc784\\ub300\",\"\\uad6d\\ubbfc\\uc784\\ub300\",\"\\uad6d\\ubbfc\\uc784\\ub300\",\"\\uad6d\\ubbfc\\uc784\\ub300\",\"\\uad6d\\ubbfc\\uc784\\ub300\",\"\\uad6d\\ubbfc\\uc784\\ub300\",\"\\uad6d\\ubbfc\\uc784\\ub300\",\"\\uad6d\\ubbfc\\uc784\\ub300\",\"\\uad6d\\ubbfc\\uc784\\ub300\",\"\\uad6d\\ubbfc\\uc784\\ub300\",\"\\uad6d\\ubbfc\\uc784\\ub300\",\"\\uad6d\\ubbfc\\uc784\\ub300\",\"\\uad6d\\ubbfc\\uc784\\ub300\",\"\\uad6d\\ubbfc\\uc784\\ub300\",\"\\uad6d\\ubbfc\\uc784\\ub300\",\"\\uad6d\\ubbfc\\uc784\\ub300\",\"\\uad6d\\ubbfc\\uc784\\ub300\",\"\\uad6d\\ubbfc\\uc784\\ub300\",\"\\uad6d\\ubbfc\\uc784\\ub300\",\"\\uad6d\\ubbfc\\uc784\\ub300\",\"\\uad6d\\ubbfc\\uc784\\ub300\",\"\\uad6d\\ubbfc\\uc784\\ub300\",\"\\uad6d\\ubbfc\\uc784\\ub300\",\"\\uad6d\\ubbfc\\uc784\\ub300\",\"\\uad6d\\ubbfc\\uc784\\ub300\",\"\\uad6d\\ubbfc\\uc784\\ub300\",\"\\uad6d\\ubbfc\\uc784\\ub300\",\"\\uad6d\\ubbfc\\uc784\\ub300\",\"\\uad6d\\ubbfc\\uc784\\ub300\",\"\\uad6d\\ubbfc\\uc784\\ub300\",\"\\uad6d\\ubbfc\\uc784\\ub300\",\"\\uad6d\\ubbfc\\uc784\\ub300\",\"\\uad6d\\ubbfc\\uc784\\ub300\",\"\\uad6d\\ubbfc\\uc784\\ub300\",\"\\uad6d\\ubbfc\\uc784\\ub300\",\"\\uad6d\\ubbfc\\uc784\\ub300\",\"\\uad6d\\ubbfc\\uc784\\ub300\",\"\\uad6d\\ubbfc\\uc784\\ub300\",\"\\uad6d\\ubbfc\\uc784\\ub300\",\"\\uad6d\\ubbfc\\uc784\\ub300\",\"\\uad6d\\ubbfc\\uc784\\ub300\",\"\\uad6d\\ubbfc\\uc784\\ub300\",\"\\uad6d\\ubbfc\\uc784\\ub300\",\"\\uad6d\\ubbfc\\uc784\\ub300\",\"\\uad6d\\ubbfc\\uc784\\ub300\",\"\\uad6d\\ubbfc\\uc784\\ub300\",\"\\uad6d\\ubbfc\\uc784\\ub300\",\"\\uad6d\\ubbfc\\uc784\\ub300\",\"\\uad6d\\ubbfc\\uc784\\ub300\",\"\\uad6d\\ubbfc\\uc784\\ub300\",\"\\uad6d\\ubbfc\\uc784\\ub300\",\"\\uad6d\\ubbfc\\uc784\\ub300\",\"\\uad6d\\ubbfc\\uc784\\ub300\",\"\\uad6d\\ubbfc\\uc784\\ub300\",\"\\uad6d\\ubbfc\\uc784\\ub300\",\"\\uad6d\\ubbfc\\uc784\\ub300\",\"\\uad6d\\ubbfc\\uc784\\ub300\",\"\\uad6d\\ubbfc\\uc784\\ub300\",\"\\uad6d\\ubbfc\\uc784\\ub300\",\"\\uad6d\\ubbfc\\uc784\\ub300\",\"\\uad6d\\ubbfc\\uc784\\ub300\",\"\\uad6d\\ubbfc\\uc784\\ub300\",\"\\uad6d\\ubbfc\\uc784\\ub300\",\"\\uad6d\\ubbfc\\uc784\\ub300\",\"\\uad6d\\ubbfc\\uc784\\ub300\",\"\\uad6d\\ubbfc\\uc784\\ub300\",\"\\uad6d\\ubbfc\\uc784\\ub300\",\"\\uad6d\\ubbfc\\uc784\\ub300\",\"\\uad6d\\ubbfc\\uc784\\ub300\",\"\\uad6d\\ubbfc\\uc784\\ub300\",\"\\uad6d\\ubbfc\\uc784\\ub300\",\"\\uad6d\\ubbfc\\uc784\\ub300\",\"\\uad6d\\ubbfc\\uc784\\ub300\",\"\\uad6d\\ubbfc\\uc784\\ub300\",\"\\uad6d\\ubbfc\\uc784\\ub300\",\"\\uad6d\\ubbfc\\uc784\\ub300\",\"\\uad6d\\ubbfc\\uc784\\ub300\",\"\\uad6d\\ubbfc\\uc784\\ub300\",\"\\uad6d\\ubbfc\\uc784\\ub300\",\"\\uad6d\\ubbfc\\uc784\\ub300\",\"\\uad6d\\ubbfc\\uc784\\ub300\",\"\\uad6d\\ubbfc\\uc784\\ub300\",\"\\uad6d\\ubbfc\\uc784\\ub300\",\"\\uad6d\\ubbfc\\uc784\\ub300\",\"\\uad6d\\ubbfc\\uc784\\ub300\",\"\\uad6d\\ubbfc\\uc784\\ub300\",\"\\uad6d\\ubbfc\\uc784\\ub300\",\"\\uad6d\\ubbfc\\uc784\\ub300\",\"\\uad6d\\ubbfc\\uc784\\ub300\",\"\\uad6d\\ubbfc\\uc784\\ub300\",\"\\uad6d\\ubbfc\\uc784\\ub300\",\"\\uad6d\\ubbfc\\uc784\\ub300\",\"\\uad6d\\ubbfc\\uc784\\ub300\",\"\\uad6d\\ubbfc\\uc784\\ub300\",\"\\uad6d\\ubbfc\\uc784\\ub300\",\"\\uad6d\\ubbfc\\uc784\\ub300\",\"\\uad6d\\ubbfc\\uc784\\ub300\",\"\\uad6d\\ubbfc\\uc784\\ub300\",\"\\uad6d\\ubbfc\\uc784\\ub300\",\"\\uad6d\\ubbfc\\uc784\\ub300\",\"\\uad6d\\ubbfc\\uc784\\ub300\",\"\\uad6d\\ubbfc\\uc784\\ub300\",\"\\uad6d\\ubbfc\\uc784\\ub300\",\"\\uad6d\\ubbfc\\uc784\\ub300\",\"\\uad6d\\ubbfc\\uc784\\ub300\",\"\\uad6d\\ubbfc\\uc784\\ub300\",\"\\uad6d\\ubbfc\\uc784\\ub300\",\"\\uad6d\\ubbfc\\uc784\\ub300\",\"\\uad6d\\ubbfc\\uc784\\ub300\",\"\\uad6d\\ubbfc\\uc784\\ub300\",\"\\uad6d\\ubbfc\\uc784\\ub300\",\"\\uad6d\\ubbfc\\uc784\\ub300\",\"\\uad6d\\ubbfc\\uc784\\ub300\",\"\\uad6d\\ubbfc\\uc784\\ub300\",\"\\uad6d\\ubbfc\\uc784\\ub300\",\"\\uad6d\\ubbfc\\uc784\\ub300\",\"\\uad6d\\ubbfc\\uc784\\ub300\",\"\\uad6d\\ubbfc\\uc784\\ub300\",\"\\uad6d\\ubbfc\\uc784\\ub300\",\"\\uad6d\\ubbfc\\uc784\\ub300\",\"\\uad6d\\ubbfc\\uc784\\ub300\",\"\\uad6d\\ubbfc\\uc784\\ub300\",\"\\uad6d\\ubbfc\\uc784\\ub300\",\"\\uad6d\\ubbfc\\uc784\\ub300\",\"\\uad6d\\ubbfc\\uc784\\ub300\",\"\\uad6d\\ubbfc\\uc784\\ub300\",\"\\uad6d\\ubbfc\\uc784\\ub300\",\"\\uad6d\\ubbfc\\uc784\\ub300\",\"\\uad6d\\ubbfc\\uc784\\ub300\",\"\\uad6d\\ubbfc\\uc784\\ub300\",\"\\uad6d\\ubbfc\\uc784\\ub300\",\"\\uad6d\\ubbfc\\uc784\\ub300\",\"\\uad6d\\ubbfc\\uc784\\ub300\",\"\\uad6d\\ubbfc\\uc784\\ub300\",\"\\uad6d\\ubbfc\\uc784\\ub300\",\"\\uad6d\\ubbfc\\uc784\\ub300\",\"\\uad6d\\ubbfc\\uc784\\ub300\",\"\\uad6d\\ubbfc\\uc784\\ub300\",\"\\uad6d\\ubbfc\\uc784\\ub300\",\"\\uad6d\\ubbfc\\uc784\\ub300\",\"\\uad6d\\ubbfc\\uc784\\ub300\",\"\\uad6d\\ubbfc\\uc784\\ub300\",\"\\uad6d\\ubbfc\\uc784\\ub300\",\"\\uad6d\\ubbfc\\uc784\\ub300\",\"\\uad6d\\ubbfc\\uc784\\ub300\",\"\\uad6d\\ubbfc\\uc784\\ub300\",\"\\uad6d\\ubbfc\\uc784\\ub300\",\"\\uad6d\\ubbfc\\uc784\\ub300\",\"\\uad6d\\ubbfc\\uc784\\ub300\",\"\\uad6d\\ubbfc\\uc784\\ub300\",\"\\uad6d\\ubbfc\\uc784\\ub300\",\"\\uad6d\\ubbfc\\uc784\\ub300\",\"\\uad6d\\ubbfc\\uc784\\ub300\",\"\\uad6d\\ubbfc\\uc784\\ub300\",\"\\uad6d\\ubbfc\\uc784\\ub300\",\"\\uad6d\\ubbfc\\uc784\\ub300\",\"\\uad6d\\ubbfc\\uc784\\ub300\",\"\\uad6d\\ubbfc\\uc784\\ub300\",\"\\uad6d\\ubbfc\\uc784\\ub300\",\"\\uad6d\\ubbfc\\uc784\\ub300\",\"\\uad6d\\ubbfc\\uc784\\ub300\",\"\\uad6d\\ubbfc\\uc784\\ub300\",\"\\uad6d\\ubbfc\\uc784\\ub300\",\"\\uad6d\\ubbfc\\uc784\\ub300\",\"\\uad6d\\ubbfc\\uc784\\ub300\",\"\\uad6d\\ubbfc\\uc784\\ub300\",\"\\uad6d\\ubbfc\\uc784\\ub300\",\"\\uad6d\\ubbfc\\uc784\\ub300\",\"\\uad6d\\ubbfc\\uc784\\ub300\",\"\\uad6d\\ubbfc\\uc784\\ub300\",\"\\uad6d\\ubbfc\\uc784\\ub300\",\"\\uad6d\\ubbfc\\uc784\\ub300\",\"\\uad6d\\ubbfc\\uc784\\ub300\",\"\\uad6d\\ubbfc\\uc784\\ub300\",\"\\uad6d\\ubbfc\\uc784\\ub300\",\"\\uad6d\\ubbfc\\uc784\\ub300\",\"\\uad6d\\ubbfc\\uc784\\ub300\",\"\\uad6d\\ubbfc\\uc784\\ub300\",\"\\uad6d\\ubbfc\\uc784\\ub300\",\"\\uad6d\\ubbfc\\uc784\\ub300\",\"\\uad6d\\ubbfc\\uc784\\ub300\",\"\\uad6d\\ubbfc\\uc784\\ub300\",\"\\uad6d\\ubbfc\\uc784\\ub300\",\"\\uad6d\\ubbfc\\uc784\\ub300\",\"\\uad6d\\ubbfc\\uc784\\ub300\",\"\\uad6d\\ubbfc\\uc784\\ub300\",\"\\uad6d\\ubbfc\\uc784\\ub300\",\"\\uad6d\\ubbfc\\uc784\\ub300\",\"\\uad6d\\ubbfc\\uc784\\ub300\",\"\\uad6d\\ubbfc\\uc784\\ub300\",\"\\uad6d\\ubbfc\\uc784\\ub300\",\"\\uad6d\\ubbfc\\uc784\\ub300\",\"\\uad6d\\ubbfc\\uc784\\ub300\",\"\\uad6d\\ubbfc\\uc784\\ub300\",\"\\uad6d\\ubbfc\\uc784\\ub300\",\"\\uad6d\\ubbfc\\uc784\\ub300\",\"\\uad6d\\ubbfc\\uc784\\ub300\",\"\\uad6d\\ubbfc\\uc784\\ub300\",\"\\uad6d\\ubbfc\\uc784\\ub300\",\"\\uad6d\\ubbfc\\uc784\\ub300\",\"\\uad6d\\ubbfc\\uc784\\ub300\",\"\\uad6d\\ubbfc\\uc784\\ub300\",\"\\uad6d\\ubbfc\\uc784\\ub300\",\"\\uad6d\\ubbfc\\uc784\\ub300\",\"\\uad6d\\ubbfc\\uc784\\ub300\",\"\\uad6d\\ubbfc\\uc784\\ub300\",\"\\uad6d\\ubbfc\\uc784\\ub300\",\"\\uad6d\\ubbfc\\uc784\\ub300\",\"\\uad6d\\ubbfc\\uc784\\ub300\",\"\\uad6d\\ubbfc\\uc784\\ub300\",\"\\uad6d\\ubbfc\\uc784\\ub300\",\"\\uad6d\\ubbfc\\uc784\\ub300\",\"\\uad6d\\ubbfc\\uc784\\ub300\",\"\\uad6d\\ubbfc\\uc784\\ub300\",\"\\uad6d\\ubbfc\\uc784\\ub300\",\"\\uad6d\\ubbfc\\uc784\\ub300\",\"\\uad6d\\ubbfc\\uc784\\ub300\",\"\\uad6d\\ubbfc\\uc784\\ub300\",\"\\uad6d\\ubbfc\\uc784\\ub300\",\"\\uad6d\\ubbfc\\uc784\\ub300\",\"\\uad6d\\ubbfc\\uc784\\ub300\",\"\\uad6d\\ubbfc\\uc784\\ub300\",\"\\uad6d\\ubbfc\\uc784\\ub300\",\"\\uad6d\\ubbfc\\uc784\\ub300\",\"\\uad6d\\ubbfc\\uc784\\ub300\",\"\\uad6d\\ubbfc\\uc784\\ub300\",\"\\uad6d\\ubbfc\\uc784\\ub300\",\"\\uad6d\\ubbfc\\uc784\\ub300\",\"\\uad6d\\ubbfc\\uc784\\ub300\",\"\\uad6d\\ubbfc\\uc784\\ub300\",\"\\uad6d\\ubbfc\\uc784\\ub300\",\"\\uad6d\\ubbfc\\uc784\\ub300\",\"\\uad6d\\ubbfc\\uc784\\ub300\",\"\\uad6d\\ubbfc\\uc784\\ub300\",\"\\uad6d\\ubbfc\\uc784\\ub300\",\"\\uad6d\\ubbfc\\uc784\\ub300\",\"\\uad6d\\ubbfc\\uc784\\ub300\",\"\\uad6d\\ubbfc\\uc784\\ub300\",\"\\uad6d\\ubbfc\\uc784\\ub300\",\"\\uad6d\\ubbfc\\uc784\\ub300\",\"\\uad6d\\ubbfc\\uc784\\ub300\",\"\\uad6d\\ubbfc\\uc784\\ub300\",\"\\uad6d\\ubbfc\\uc784\\ub300\",\"\\uad6d\\ubbfc\\uc784\\ub300\",\"\\uad6d\\ubbfc\\uc784\\ub300\",\"\\uad6d\\ubbfc\\uc784\\ub300\",\"\\uad6d\\ubbfc\\uc784\\ub300\",\"\\uad6d\\ubbfc\\uc784\\ub300\",\"\\uad6d\\ubbfc\\uc784\\ub300\",\"\\uad6d\\ubbfc\\uc784\\ub300\",\"\\uad6d\\ubbfc\\uc784\\ub300\",\"\\uad6d\\ubbfc\\uc784\\ub300\",\"\\uad6d\\ubbfc\\uc784\\ub300\",\"\\uad6d\\ubbfc\\uc784\\ub300\",\"\\uad6d\\ubbfc\\uc784\\ub300\",\"\\uad6d\\ubbfc\\uc784\\ub300\",\"\\uad6d\\ubbfc\\uc784\\ub300\",\"\\uad6d\\ubbfc\\uc784\\ub300\",\"\\uad6d\\ubbfc\\uc784\\ub300\",\"\\uad6d\\ubbfc\\uc784\\ub300\",\"\\uad6d\\ubbfc\\uc784\\ub300\",\"\\uad6d\\ubbfc\\uc784\\ub300\",\"\\uad6d\\ubbfc\\uc784\\ub300\",\"\\uad6d\\ubbfc\\uc784\\ub300\",\"\\uad6d\\ubbfc\\uc784\\ub300\",\"\\uad6d\\ubbfc\\uc784\\ub300\",\"\\uad6d\\ubbfc\\uc784\\ub300\",\"\\uad6d\\ubbfc\\uc784\\ub300\",\"\\uad6d\\ubbfc\\uc784\\ub300\",\"\\uad6d\\ubbfc\\uc784\\ub300\",\"\\uad6d\\ubbfc\\uc784\\ub300\",\"\\uad6d\\ubbfc\\uc784\\ub300\",\"\\uad6d\\ubbfc\\uc784\\ub300\",\"\\uad6d\\ubbfc\\uc784\\ub300\",\"\\uad6d\\ubbfc\\uc784\\ub300\",\"\\uad6d\\ubbfc\\uc784\\ub300\",\"\\uad6d\\ubbfc\\uc784\\ub300\",\"\\uad6d\\ubbfc\\uc784\\ub300\",\"\\uad6d\\ubbfc\\uc784\\ub300\",\"\\uad6d\\ubbfc\\uc784\\ub300\",\"\\uad6d\\ubbfc\\uc784\\ub300\",\"\\uad6d\\ubbfc\\uc784\\ub300\",\"\\uad6d\\ubbfc\\uc784\\ub300\",\"\\uad6d\\ubbfc\\uc784\\ub300\",\"\\uad6d\\ubbfc\\uc784\\ub300\",\"\\uad6d\\ubbfc\\uc784\\ub300\",\"\\uad6d\\ubbfc\\uc784\\ub300\",\"\\uad6d\\ubbfc\\uc784\\ub300\",\"\\uad6d\\ubbfc\\uc784\\ub300\",\"\\uad6d\\ubbfc\\uc784\\ub300\",\"\\uad6d\\ubbfc\\uc784\\ub300\",\"\\uad6d\\ubbfc\\uc784\\ub300\",\"\\uad6d\\ubbfc\\uc784\\ub300\",\"\\uad6d\\ubbfc\\uc784\\ub300\",\"\\uad6d\\ubbfc\\uc784\\ub300\",\"\\uad6d\\ubbfc\\uc784\\ub300\",\"\\uad6d\\ubbfc\\uc784\\ub300\",\"\\uad6d\\ubbfc\\uc784\\ub300\",\"\\uad6d\\ubbfc\\uc784\\ub300\",\"\\uad6d\\ubbfc\\uc784\\ub300\",\"\\uad6d\\ubbfc\\uc784\\ub300\",\"\\uad6d\\ubbfc\\uc784\\ub300\",\"\\uad6d\\ubbfc\\uc784\\ub300\",\"\\uad6d\\ubbfc\\uc784\\ub300\",\"\\uad6d\\ubbfc\\uc784\\ub300\",\"\\uad6d\\ubbfc\\uc784\\ub300\",\"\\uad6d\\ubbfc\\uc784\\ub300\",\"\\uad6d\\ubbfc\\uc784\\ub300\",\"\\uad6d\\ubbfc\\uc784\\ub300\",\"\\uad6d\\ubbfc\\uc784\\ub300\",\"\\uad6d\\ubbfc\\uc784\\ub300\",\"\\uad6d\\ubbfc\\uc784\\ub300\",\"\\uad6d\\ubbfc\\uc784\\ub300\",\"\\uad6d\\ubbfc\\uc784\\ub300\",\"\\uad6d\\ubbfc\\uc784\\ub300\",\"\\uad6d\\ubbfc\\uc784\\ub300\",\"\\uad6d\\ubbfc\\uc784\\ub300\",\"\\uad6d\\ubbfc\\uc784\\ub300\",\"\\uad6d\\ubbfc\\uc784\\ub300\",\"\\uad6d\\ubbfc\\uc784\\ub300\",\"\\uad6d\\ubbfc\\uc784\\ub300\",\"\\uad6d\\ubbfc\\uc784\\ub300\",\"\\uad6d\\ubbfc\\uc784\\ub300\",\"\\uad6d\\ubbfc\\uc784\\ub300\",\"\\uad6d\\ubbfc\\uc784\\ub300\",\"\\uad6d\\ubbfc\\uc784\\ub300\",\"\\uad6d\\ubbfc\\uc784\\ub300\",\"\\uad6d\\ubbfc\\uc784\\ub300\",\"\\uad6d\\ubbfc\\uc784\\ub300\",\"\\uad6d\\ubbfc\\uc784\\ub300\",\"\\uad6d\\ubbfc\\uc784\\ub300\",\"\\uad6d\\ubbfc\\uc784\\ub300\",\"\\uad6d\\ubbfc\\uc784\\ub300\",\"\\uad6d\\ubbfc\\uc784\\ub300\",\"\\uad6d\\ubbfc\\uc784\\ub300\",\"\\uad6d\\ubbfc\\uc784\\ub300\",\"\\uad6d\\ubbfc\\uc784\\ub300\",\"\\uad6d\\ubbfc\\uc784\\ub300\",\"\\uad6d\\ubbfc\\uc784\\ub300\",\"\\uad6d\\ubbfc\\uc784\\ub300\",\"\\uad6d\\ubbfc\\uc784\\ub300\",\"\\uad6d\\ubbfc\\uc784\\ub300\",\"\\uad6d\\ubbfc\\uc784\\ub300\",\"\\uad6d\\ubbfc\\uc784\\ub300\",\"\\uad6d\\ubbfc\\uc784\\ub300\",\"\\uad6d\\ubbfc\\uc784\\ub300\",\"\\uad6d\\ubbfc\\uc784\\ub300\",\"\\uad6d\\ubbfc\\uc784\\ub300\",\"\\uad6d\\ubbfc\\uc784\\ub300\",\"\\uad6d\\ubbfc\\uc784\\ub300\",\"\\uad6d\\ubbfc\\uc784\\ub300\",\"\\uad6d\\ubbfc\\uc784\\ub300\",\"\\uad6d\\ubbfc\\uc784\\ub300\",\"\\uad6d\\ubbfc\\uc784\\ub300\",\"\\uad6d\\ubbfc\\uc784\\ub300\",\"\\uad6d\\ubbfc\\uc784\\ub300\",\"\\uad6d\\ubbfc\\uc784\\ub300\",\"\\uad6d\\ubbfc\\uc784\\ub300\",\"\\uad6d\\ubbfc\\uc784\\ub300\",\"\\uad6d\\ubbfc\\uc784\\ub300\",\"\\uad6d\\ubbfc\\uc784\\ub300\",\"\\uad6d\\ubbfc\\uc784\\ub300\",\"\\uad6d\\ubbfc\\uc784\\ub300\",\"\\uad6d\\ubbfc\\uc784\\ub300\",\"\\uad6d\\ubbfc\\uc784\\ub300\",\"\\uad6d\\ubbfc\\uc784\\ub300\",\"\\uad6d\\ubbfc\\uc784\\ub300\",\"\\uad6d\\ubbfc\\uc784\\ub300\",\"\\uad6d\\ubbfc\\uc784\\ub300\",\"\\uad6d\\ubbfc\\uc784\\ub300\",\"\\uad6d\\ubbfc\\uc784\\ub300\",\"\\uad6d\\ubbfc\\uc784\\ub300\",\"\\uad6d\\ubbfc\\uc784\\ub300\",\"\\uad6d\\ubbfc\\uc784\\ub300\",\"\\uad6d\\ubbfc\\uc784\\ub300\",\"\\uad6d\\ubbfc\\uc784\\ub300\",\"\\uad6d\\ubbfc\\uc784\\ub300\",\"\\uad6d\\ubbfc\\uc784\\ub300\",\"\\uad6d\\ubbfc\\uc784\\ub300\",\"\\uad6d\\ubbfc\\uc784\\ub300\",\"\\uad6d\\ubbfc\\uc784\\ub300\",\"\\uad6d\\ubbfc\\uc784\\ub300\",\"\\uad6d\\ubbfc\\uc784\\ub300\",\"\\uad6d\\ubbfc\\uc784\\ub300\",\"\\uad6d\\ubbfc\\uc784\\ub300\",\"\\uad6d\\ubbfc\\uc784\\ub300\",\"\\uad6d\\ubbfc\\uc784\\ub300\",\"\\uad6d\\ubbfc\\uc784\\ub300\",\"\\uad6d\\ubbfc\\uc784\\ub300\",\"\\uad6d\\ubbfc\\uc784\\ub300\",\"\\uad6d\\ubbfc\\uc784\\ub300\",\"\\uad6d\\ubbfc\\uc784\\ub300\",\"\\uad6d\\ubbfc\\uc784\\ub300\",\"\\uad6d\\ubbfc\\uc784\\ub300\",\"\\uad6d\\ubbfc\\uc784\\ub300\",\"\\uad6d\\ubbfc\\uc784\\ub300\",\"\\uad6d\\ubbfc\\uc784\\ub300\",\"\\uad6d\\ubbfc\\uc784\\ub300\",\"\\uad6d\\ubbfc\\uc784\\ub300\",\"\\uad6d\\ubbfc\\uc784\\ub300\",\"\\uad6d\\ubbfc\\uc784\\ub300\",\"\\uad6d\\ubbfc\\uc784\\ub300\",\"\\uad6d\\ubbfc\\uc784\\ub300\",\"\\uad6d\\ubbfc\\uc784\\ub300\",\"\\uad6d\\ubbfc\\uc784\\ub300\",\"\\uad6d\\ubbfc\\uc784\\ub300\",\"\\uad6d\\ubbfc\\uc784\\ub300\",\"\\uad6d\\ubbfc\\uc784\\ub300\",\"\\uad6d\\ubbfc\\uc784\\ub300\",\"\\uad6d\\ubbfc\\uc784\\ub300\",\"\\uad6d\\ubbfc\\uc784\\ub300\",\"\\uad6d\\ubbfc\\uc784\\ub300\",\"\\uad6d\\ubbfc\\uc784\\ub300\",\"\\uad6d\\ubbfc\\uc784\\ub300\",\"\\uad6d\\ubbfc\\uc784\\ub300\",\"\\uad6d\\ubbfc\\uc784\\ub300\",\"\\uad6d\\ubbfc\\uc784\\ub300\",\"\\uad6d\\ubbfc\\uc784\\ub300\",\"\\uad6d\\ubbfc\\uc784\\ub300\",\"\\uad6d\\ubbfc\\uc784\\ub300\",\"\\uad6d\\ubbfc\\uc784\\ub300\",\"\\uad6d\\ubbfc\\uc784\\ub300\",\"\\uad6d\\ubbfc\\uc784\\ub300\",\"\\uad6d\\ubbfc\\uc784\\ub300\",\"\\uad6d\\ubbfc\\uc784\\ub300\",\"\\uad6d\\ubbfc\\uc784\\ub300\",\"\\uad6d\\ubbfc\\uc784\\ub300\",\"\\uad6d\\ubbfc\\uc784\\ub300\",\"\\uad6d\\ubbfc\\uc784\\ub300\",\"\\uad6d\\ubbfc\\uc784\\ub300\",\"\\uad6d\\ubbfc\\uc784\\ub300\",\"\\uad6d\\ubbfc\\uc784\\ub300\",\"\\uad6d\\ubbfc\\uc784\\ub300\",\"\\uad6d\\ubbfc\\uc784\\ub300\",\"\\uad6d\\ubbfc\\uc784\\ub300\",\"\\uad6d\\ubbfc\\uc784\\ub300\",\"\\uad6d\\ubbfc\\uc784\\ub300\",\"\\uad6d\\ubbfc\\uc784\\ub300\",\"\\uad6d\\ubbfc\\uc784\\ub300\",\"\\uad6d\\ubbfc\\uc784\\ub300\",\"\\uad6d\\ubbfc\\uc784\\ub300\",\"\\uad6d\\ubbfc\\uc784\\ub300\",\"\\uad6d\\ubbfc\\uc784\\ub300\",\"\\uad6d\\ubbfc\\uc784\\ub300\",\"\\uad6d\\ubbfc\\uc784\\ub300\",\"\\uad6d\\ubbfc\\uc784\\ub300\",\"\\uad6d\\ubbfc\\uc784\\ub300\",\"\\uad6d\\ubbfc\\uc784\\ub300\",\"\\uad6d\\ubbfc\\uc784\\ub300\",\"\\uad6d\\ubbfc\\uc784\\ub300\",\"\\uad6d\\ubbfc\\uc784\\ub300\",\"\\uad6d\\ubbfc\\uc784\\ub300\",\"\\uad6d\\ubbfc\\uc784\\ub300\",\"\\uad6d\\ubbfc\\uc784\\ub300\",\"\\uad6d\\ubbfc\\uc784\\ub300\",\"\\uad6d\\ubbfc\\uc784\\ub300\",\"\\uad6d\\ubbfc\\uc784\\ub300\",\"\\uad6d\\ubbfc\\uc784\\ub300\",\"\\uad6d\\ubbfc\\uc784\\ub300\",\"\\uad6d\\ubbfc\\uc784\\ub300\",\"\\uad6d\\ubbfc\\uc784\\ub300\",\"\\uad6d\\ubbfc\\uc784\\ub300\",\"\\uad6d\\ubbfc\\uc784\\ub300\",\"\\uad6d\\ubbfc\\uc784\\ub300\",\"\\uad6d\\ubbfc\\uc784\\ub300\",\"\\uad6d\\ubbfc\\uc784\\ub300\",\"\\uad6d\\ubbfc\\uc784\\ub300\",\"\\uad6d\\ubbfc\\uc784\\ub300\",\"\\uad6d\\ubbfc\\uc784\\ub300\",\"\\uad6d\\ubbfc\\uc784\\ub300\",\"\\uad6d\\ubbfc\\uc784\\ub300\",\"\\uad6d\\ubbfc\\uc784\\ub300\",\"\\uad6d\\ubbfc\\uc784\\ub300\",\"\\uad6d\\ubbfc\\uc784\\ub300\",\"\\uad6d\\ubbfc\\uc784\\ub300\",\"\\uad6d\\ubbfc\\uc784\\ub300\",\"\\uad6d\\ubbfc\\uc784\\ub300\",\"\\uad6d\\ubbfc\\uc784\\ub300\",\"\\uad6d\\ubbfc\\uc784\\ub300\",\"\\uad6d\\ubbfc\\uc784\\ub300\",\"\\uad6d\\ubbfc\\uc784\\ub300\",\"\\uad6d\\ubbfc\\uc784\\ub300\",\"\\uad6d\\ubbfc\\uc784\\ub300\",\"\\uad6d\\ubbfc\\uc784\\ub300\",\"\\uad6d\\ubbfc\\uc784\\ub300\",\"\\uad6d\\ubbfc\\uc784\\ub300\",\"\\uad6d\\ubbfc\\uc784\\ub300\",\"\\uad6d\\ubbfc\\uc784\\ub300\",\"\\uad6d\\ubbfc\\uc784\\ub300\",\"\\uad6d\\ubbfc\\uc784\\ub300\",\"\\uad6d\\ubbfc\\uc784\\ub300\",\"\\uad6d\\ubbfc\\uc784\\ub300\",\"\\uad6d\\ubbfc\\uc784\\ub300\",\"\\uad6d\\ubbfc\\uc784\\ub300\",\"\\uad6d\\ubbfc\\uc784\\ub300\",\"\\uad6d\\ubbfc\\uc784\\ub300\",\"\\uad6d\\ubbfc\\uc784\\ub300\",\"\\uad6d\\ubbfc\\uc784\\ub300\",\"\\uad6d\\ubbfc\\uc784\\ub300\",\"\\uad6d\\ubbfc\\uc784\\ub300\",\"\\uad6d\\ubbfc\\uc784\\ub300\",\"\\uad6d\\ubbfc\\uc784\\ub300\",\"\\uad6d\\ubbfc\\uc784\\ub300\",\"\\uad6d\\ubbfc\\uc784\\ub300\",\"\\uad6d\\ubbfc\\uc784\\ub300\",\"\\uad6d\\ubbfc\\uc784\\ub300\",\"\\uad6d\\ubbfc\\uc784\\ub300\",\"\\uad6d\\ubbfc\\uc784\\ub300\",\"\\uad6d\\ubbfc\\uc784\\ub300\",\"\\uad6d\\ubbfc\\uc784\\ub300\",\"\\uad6d\\ubbfc\\uc784\\ub300\",\"\\uad6d\\ubbfc\\uc784\\ub300\",\"\\uad6d\\ubbfc\\uc784\\ub300\",\"\\uad6d\\ubbfc\\uc784\\ub300\",\"\\uad6d\\ubbfc\\uc784\\ub300\",\"\\uad6d\\ubbfc\\uc784\\ub300\",\"\\uad6d\\ubbfc\\uc784\\ub300\",\"\\uad6d\\ubbfc\\uc784\\ub300\",\"\\uad6d\\ubbfc\\uc784\\ub300\",\"\\uad6d\\ubbfc\\uc784\\ub300\",\"\\uad6d\\ubbfc\\uc784\\ub300\",\"\\uad6d\\ubbfc\\uc784\\ub300\",\"\\uad6d\\ubbfc\\uc784\\ub300\",\"\\uad6d\\ubbfc\\uc784\\ub300\",\"\\uad6d\\ubbfc\\uc784\\ub300\",\"\\uad6d\\ubbfc\\uc784\\ub300\",\"\\uad6d\\ubbfc\\uc784\\ub300\",\"\\uad6d\\ubbfc\\uc784\\ub300\",\"\\uad6d\\ubbfc\\uc784\\ub300\",\"\\uad6d\\ubbfc\\uc784\\ub300\",\"\\uad6d\\ubbfc\\uc784\\ub300\",\"\\uad6d\\ubbfc\\uc784\\ub300\",\"\\uad6d\\ubbfc\\uc784\\ub300\",\"\\uad6d\\ubbfc\\uc784\\ub300\",\"\\uad6d\\ubbfc\\uc784\\ub300\",\"\\uad6d\\ubbfc\\uc784\\ub300\",\"\\uad6d\\ubbfc\\uc784\\ub300\",\"\\uad6d\\ubbfc\\uc784\\ub300\",\"\\uad6d\\ubbfc\\uc784\\ub300\",\"\\uad6d\\ubbfc\\uc784\\ub300\",\"\\uad6d\\ubbfc\\uc784\\ub300\",\"\\uad6d\\ubbfc\\uc784\\ub300\",\"\\uad6d\\ubbfc\\uc784\\ub300\",\"\\uad6d\\ubbfc\\uc784\\ub300\",\"\\uad6d\\ubbfc\\uc784\\ub300\",\"\\uad6d\\ubbfc\\uc784\\ub300\",\"\\uad6d\\ubbfc\\uc784\\ub300\",\"\\uad6d\\ubbfc\\uc784\\ub300\",\"\\uad6d\\ubbfc\\uc784\\ub300\",\"\\uad6d\\ubbfc\\uc784\\ub300\",\"\\uad6d\\ubbfc\\uc784\\ub300\",\"\\uad6d\\ubbfc\\uc784\\ub300\",\"\\uad6d\\ubbfc\\uc784\\ub300\",\"\\uad6d\\ubbfc\\uc784\\ub300\",\"\\uad6d\\ubbfc\\uc784\\ub300\",\"\\uad6d\\ubbfc\\uc784\\ub300\",\"\\uad6d\\ubbfc\\uc784\\ub300\",\"\\uad6d\\ubbfc\\uc784\\ub300\",\"\\uad6d\\ubbfc\\uc784\\ub300\",\"\\uad6d\\ubbfc\\uc784\\ub300\",\"\\uad6d\\ubbfc\\uc784\\ub300\",\"\\uad6d\\ubbfc\\uc784\\ub300\",\"\\uad6d\\ubbfc\\uc784\\ub300\",\"\\uad6d\\ubbfc\\uc784\\ub300\",\"\\uad6d\\ubbfc\\uc784\\ub300\",\"\\uad6d\\ubbfc\\uc784\\ub300\",\"\\uad6d\\ubbfc\\uc784\\ub300\",\"\\uad6d\\ubbfc\\uc784\\ub300\",\"\\uad6d\\ubbfc\\uc784\\ub300\",\"\\uad6d\\ubbfc\\uc784\\ub300\",\"\\uad6d\\ubbfc\\uc784\\ub300\",\"\\uad6d\\ubbfc\\uc784\\ub300\",\"\\uad6d\\ubbfc\\uc784\\ub300\",\"\\uad6d\\ubbfc\\uc784\\ub300\",\"\\uad6d\\ubbfc\\uc784\\ub300\",\"\\uad6d\\ubbfc\\uc784\\ub300\",\"\\uad6d\\ubbfc\\uc784\\ub300\",\"\\uad6d\\ubbfc\\uc784\\ub300\",\"\\uad6d\\ubbfc\\uc784\\ub300\",\"\\uad6d\\ubbfc\\uc784\\ub300\",\"\\uad6d\\ubbfc\\uc784\\ub300\",\"\\uad6d\\ubbfc\\uc784\\ub300\",\"\\uad6d\\ubbfc\\uc784\\ub300\",\"\\uad6d\\ubbfc\\uc784\\ub300\",\"\\uad6d\\ubbfc\\uc784\\ub300\",\"\\uad6d\\ubbfc\\uc784\\ub300\",\"\\uad6d\\ubbfc\\uc784\\ub300\",\"\\uad6d\\ubbfc\\uc784\\ub300\",\"\\uad6d\\ubbfc\\uc784\\ub300\",\"\\uad6d\\ubbfc\\uc784\\ub300\",\"\\uad6d\\ubbfc\\uc784\\ub300\",\"\\uad6d\\ubbfc\\uc784\\ub300\",\"\\uad6d\\ubbfc\\uc784\\ub300\",\"\\uad6d\\ubbfc\\uc784\\ub300\",\"\\uad6d\\ubbfc\\uc784\\ub300\",\"\\uad6d\\ubbfc\\uc784\\ub300\",\"\\uad6d\\ubbfc\\uc784\\ub300\",\"\\uad6d\\ubbfc\\uc784\\ub300\",\"\\uad6d\\ubbfc\\uc784\\ub300\",\"\\uad6d\\ubbfc\\uc784\\ub300\",\"\\uad6d\\ubbfc\\uc784\\ub300\",\"\\uad6d\\ubbfc\\uc784\\ub300\",\"\\uad6d\\ubbfc\\uc784\\ub300\",\"\\uad6d\\ubbfc\\uc784\\ub300\",\"\\uad6d\\ubbfc\\uc784\\ub300\",\"\\uad6d\\ubbfc\\uc784\\ub300\",\"\\uad6d\\ubbfc\\uc784\\ub300\",\"\\uad6d\\ubbfc\\uc784\\ub300\",\"\\uad6d\\ubbfc\\uc784\\ub300\",\"\\uad6d\\ubbfc\\uc784\\ub300\",\"\\uad6d\\ubbfc\\uc784\\ub300\",\"\\uad6d\\ubbfc\\uc784\\ub300\",\"\\uad6d\\ubbfc\\uc784\\ub300\",\"\\uad6d\\ubbfc\\uc784\\ub300\",\"\\uad6d\\ubbfc\\uc784\\ub300\",\"\\uad6d\\ubbfc\\uc784\\ub300\",\"\\uad6d\\ubbfc\\uc784\\ub300\",\"\\uad6d\\ubbfc\\uc784\\ub300\",\"\\uad6d\\ubbfc\\uc784\\ub300\",\"\\uad6d\\ubbfc\\uc784\\ub300\",\"\\uad6d\\ubbfc\\uc784\\ub300\",\"\\uad6d\\ubbfc\\uc784\\ub300\",\"\\uad6d\\ubbfc\\uc784\\ub300\",\"\\uad6d\\ubbfc\\uc784\\ub300\",\"\\uad6d\\ubbfc\\uc784\\ub300\",\"\\uad6d\\ubbfc\\uc784\\ub300\",\"\\uad6d\\ubbfc\\uc784\\ub300\",\"\\uad6d\\ubbfc\\uc784\\ub300\",\"\\uad6d\\ubbfc\\uc784\\ub300\",\"\\uad6d\\ubbfc\\uc784\\ub300\",\"\\uad6d\\ubbfc\\uc784\\ub300\",\"\\uad6d\\ubbfc\\uc784\\ub300\",\"\\uad6d\\ubbfc\\uc784\\ub300\",\"\\uad6d\\ubbfc\\uc784\\ub300\",\"\\uad6d\\ubbfc\\uc784\\ub300\",\"\\uad6d\\ubbfc\\uc784\\ub300\",\"\\uad6d\\ubbfc\\uc784\\ub300\",\"\\uad6d\\ubbfc\\uc784\\ub300\",\"\\uad6d\\ubbfc\\uc784\\ub300\",\"\\uad6d\\ubbfc\\uc784\\ub300\",\"\\uad6d\\ubbfc\\uc784\\ub300\",\"\\uad6d\\ubbfc\\uc784\\ub300\",\"\\uad6d\\ubbfc\\uc784\\ub300\",\"\\uad6d\\ubbfc\\uc784\\ub300\",\"\\uad6d\\ubbfc\\uc784\\ub300\",\"\\uad6d\\ubbfc\\uc784\\ub300\",\"\\uad6d\\ubbfc\\uc784\\ub300\",\"\\uad6d\\ubbfc\\uc784\\ub300\",\"\\uad6d\\ubbfc\\uc784\\ub300\",\"\\uad6d\\ubbfc\\uc784\\ub300\",\"\\uad6d\\ubbfc\\uc784\\ub300\",\"\\uad6d\\ubbfc\\uc784\\ub300\",\"\\uad6d\\ubbfc\\uc784\\ub300\",\"\\uad6d\\ubbfc\\uc784\\ub300\",\"\\uad6d\\ubbfc\\uc784\\ub300\",\"\\uad6d\\ubbfc\\uc784\\ub300\",\"\\uad6d\\ubbfc\\uc784\\ub300\",\"\\uad6d\\ubbfc\\uc784\\ub300\",\"\\uad6d\\ubbfc\\uc784\\ub300\",\"\\uad6d\\ubbfc\\uc784\\ub300\",\"\\uad6d\\ubbfc\\uc784\\ub300\",\"\\uad6d\\ubbfc\\uc784\\ub300\",\"\\uad6d\\ubbfc\\uc784\\ub300\",\"\\uad6d\\ubbfc\\uc784\\ub300\",\"\\uad6d\\ubbfc\\uc784\\ub300\",\"\\uad6d\\ubbfc\\uc784\\ub300\",\"\\uacf5\\uacf5\\uc784\\ub300(10\\ub144)\",\"\\uacf5\\uacf5\\uc784\\ub300(10\\ub144)\",\"\\uacf5\\uacf5\\uc784\\ub300(\\ubd84\\ub0a9)\",\"\\uacf5\\uacf5\\uc784\\ub300(\\ubd84\\ub0a9)\",\"\\uacf5\\uacf5\\uc784\\ub300(\\ubd84\\ub0a9)\",\"\\uacf5\\uacf5\\uc784\\ub300(\\ubd84\\ub0a9)\",\"\\uad6d\\ubbfc\\uc784\\ub300\",\"\\uad6d\\ubbfc\\uc784\\ub300\",\"\\uad6d\\ubbfc\\uc784\\ub300\",\"\\uad6d\\ubbfc\\uc784\\ub300\",\"\\uad6d\\ubbfc\\uc784\\ub300\",\"\\uad6d\\ubbfc\\uc784\\ub300\",\"\\uad6d\\ubbfc\\uc784\\ub300\",\"\\uad6d\\ubbfc\\uc784\\ub300\",\"\\uad6d\\ubbfc\\uc784\\ub300\",\"\\uad6d\\ubbfc\\uc784\\ub300\",\"\\uad6d\\ubbfc\\uc784\\ub300\",\"\\uad6d\\ubbfc\\uc784\\ub300\",\"\\uad6d\\ubbfc\\uc784\\ub300\",\"\\uad6d\\ubbfc\\uc784\\ub300\",\"\\uad6d\\ubbfc\\uc784\\ub300\",\"\\uad6d\\ubbfc\\uc784\\ub300\",\"\\uad6d\\ubbfc\\uc784\\ub300\",\"\\uad6d\\ubbfc\\uc784\\ub300\",\"\\uad6d\\ubbfc\\uc784\\ub300\",\"\\uad6d\\ubbfc\\uc784\\ub300\",\"\\uad6d\\ubbfc\\uc784\\ub300\",\"\\uad6d\\ubbfc\\uc784\\ub300\",\"\\uad6d\\ubbfc\\uc784\\ub300\",\"\\uad6d\\ubbfc\\uc784\\ub300\",\"\\uad6d\\ubbfc\\uc784\\ub300\",\"\\uad6d\\ubbfc\\uc784\\ub300\",\"\\uad6d\\ubbfc\\uc784\\ub300\",\"\\uad6d\\ubbfc\\uc784\\ub300\",\"\\uad6d\\ubbfc\\uc784\\ub300\",\"\\uad6d\\ubbfc\\uc784\\ub300\",\"\\uad6d\\ubbfc\\uc784\\ub300\",\"\\uad6d\\ubbfc\\uc784\\ub300\",\"\\uad6d\\ubbfc\\uc784\\ub300\",\"\\uad6d\\ubbfc\\uc784\\ub300\",\"\\uad6d\\ubbfc\\uc784\\ub300\",\"\\uad6d\\ubbfc\\uc784\\ub300\",\"\\uad6d\\ubbfc\\uc784\\ub300\",\"\\uad6d\\ubbfc\\uc784\\ub300\",\"\\uad6d\\ubbfc\\uc784\\ub300\",\"\\uad6d\\ubbfc\\uc784\\ub300\",\"\\uad6d\\ubbfc\\uc784\\ub300\",\"\\uad6d\\ubbfc\\uc784\\ub300\",\"\\uad6d\\ubbfc\\uc784\\ub300\",\"\\uad6d\\ubbfc\\uc784\\ub300\",\"\\uad6d\\ubbfc\\uc784\\ub300\",\"\\uad6d\\ubbfc\\uc784\\ub300\",\"\\uad6d\\ubbfc\\uc784\\ub300\",\"\\uad6d\\ubbfc\\uc784\\ub300\",\"\\uad6d\\ubbfc\\uc784\\ub300\",\"\\uad6d\\ubbfc\\uc784\\ub300\",\"\\uad6d\\ubbfc\\uc784\\ub300\",\"\\uad6d\\ubbfc\\uc784\\ub300\",\"\\uad6d\\ubbfc\\uc784\\ub300\",\"\\uad6d\\ubbfc\\uc784\\ub300\",\"\\uad6d\\ubbfc\\uc784\\ub300\",\"\\uad6d\\ubbfc\\uc784\\ub300\",\"\\uad6d\\ubbfc\\uc784\\ub300\",\"\\uad6d\\ubbfc\\uc784\\ub300\",\"\\uad6d\\ubbfc\\uc784\\ub300\",\"\\uad6d\\ubbfc\\uc784\\ub300\",\"\\uad6d\\ubbfc\\uc784\\ub300\",\"\\uad6d\\ubbfc\\uc784\\ub300\",\"\\uad6d\\ubbfc\\uc784\\ub300\",\"\\uad6d\\ubbfc\\uc784\\ub300\",\"\\uad6d\\ubbfc\\uc784\\ub300\",\"\\uad6d\\ubbfc\\uc784\\ub300\",\"\\uad6d\\ubbfc\\uc784\\ub300\",\"\\uad6d\\ubbfc\\uc784\\ub300\",\"\\uad6d\\ubbfc\\uc784\\ub300\",\"\\uad6d\\ubbfc\\uc784\\ub300\",\"\\uad6d\\ubbfc\\uc784\\ub300\",\"\\uad6d\\ubbfc\\uc784\\ub300\",\"\\uad6d\\ubbfc\\uc784\\ub300\",\"\\uad6d\\ubbfc\\uc784\\ub300\",\"\\uad6d\\ubbfc\\uc784\\ub300\",\"\\uad6d\\ubbfc\\uc784\\ub300\",\"\\uacf5\\uacf5\\uc784\\ub300(10\\ub144)\",\"\\uacf5\\uacf5\\uc784\\ub300(10\\ub144)\",\"\\uacf5\\uacf5\\uc784\\ub300(10\\ub144)\",\"\\uacf5\\uacf5\\uc784\\ub300(10\\ub144)\",\"\\uad6d\\ubbfc\\uc784\\ub300\",\"\\uad6d\\ubbfc\\uc784\\ub300\",\"\\uad6d\\ubbfc\\uc784\\ub300\",\"\\uad6d\\ubbfc\\uc784\\ub300\",\"\\uc601\\uad6c\\uc784\\ub300\",\"\\uc601\\uad6c\\uc784\\ub300\",\"\\uad6d\\ubbfc\\uc784\\ub300\",\"\\uad6d\\ubbfc\\uc784\\ub300\",\"\\uad6d\\ubbfc\\uc784\\ub300\",\"\\uad6d\\ubbfc\\uc784\\ub300\",\"\\uad6d\\ubbfc\\uc784\\ub300\",\"\\uad6d\\ubbfc\\uc784\\ub300\",\"\\uad6d\\ubbfc\\uc784\\ub300\",\"\\uad6d\\ubbfc\\uc784\\ub300\",\"\\uad6d\\ubbfc\\uc784\\ub300\",\"\\uad6d\\ubbfc\\uc784\\ub300\",\"\\uad6d\\ubbfc\\uc784\\ub300\",\"\\uad6d\\ubbfc\\uc784\\ub300\",\"\\uad6d\\ubbfc\\uc784\\ub300\",\"\\uad6d\\ubbfc\\uc784\\ub300\",\"\\uad6d\\ubbfc\\uc784\\ub300\",\"\\uad6d\\ubbfc\\uc784\\ub300\",\"\\uad6d\\ubbfc\\uc784\\ub300\",\"\\uad6d\\ubbfc\\uc784\\ub300\",\"\\uad6d\\ubbfc\\uc784\\ub300\",\"\\uad6d\\ubbfc\\uc784\\ub300\",\"\\uad6d\\ubbfc\\uc784\\ub300\",\"\\uad6d\\ubbfc\\uc784\\ub300\",\"\\uad6d\\ubbfc\\uc784\\ub300\",\"\\uad6d\\ubbfc\\uc784\\ub300\",\"\\uad6d\\ubbfc\\uc784\\ub300\",\"\\uad6d\\ubbfc\\uc784\\ub300\",\"\\uad6d\\ubbfc\\uc784\\ub300\",\"\\uad6d\\ubbfc\\uc784\\ub300\",\"\\uad6d\\ubbfc\\uc784\\ub300\",\"\\uc601\\uad6c\\uc784\\ub300\",\"\\uc601\\uad6c\\uc784\\ub300\",\"\\uc601\\uad6c\\uc784\\ub300\",\"\\uad6d\\ubbfc\\uc784\\ub300\",\"\\uad6d\\ubbfc\\uc784\\ub300\",\"\\uad6d\\ubbfc\\uc784\\ub300\",\"\\uad6d\\ubbfc\\uc784\\ub300\",\"\\uad6d\\ubbfc\\uc784\\ub300\",\"\\uad6d\\ubbfc\\uc784\\ub300\",\"\\uad6d\\ubbfc\\uc784\\ub300\",\"\\uad6d\\ubbfc\\uc784\\ub300\",\"\\uad6d\\ubbfc\\uc784\\ub300\",\"\\uad6d\\ubbfc\\uc784\\ub300\",\"\\uad6d\\ubbfc\\uc784\\ub300\",\"\\uad6d\\ubbfc\\uc784\\ub300\",\"\\uad6d\\ubbfc\\uc784\\ub300\",\"\\uc7a5\\uae30\\uc804\\uc138\",\"\\uc7a5\\uae30\\uc804\\uc138\",\"\\uc7a5\\uae30\\uc804\\uc138\",\"\\uad6d\\ubbfc\\uc784\\ub300\",\"\\uad6d\\ubbfc\\uc784\\ub300\",\"\\uad6d\\ubbfc\\uc784\\ub300\",\"\\uad6d\\ubbfc\\uc784\\ub300\",\"\\uad6d\\ubbfc\\uc784\\ub300\",\"\\uad6d\\ubbfc\\uc784\\ub300\",\"\\uc601\\uad6c\\uc784\\ub300\",\"\\uc601\\uad6c\\uc784\\ub300\",\"\\uad6d\\ubbfc\\uc784\\ub300\",\"\\uad6d\\ubbfc\\uc784\\ub300\",\"\\uad6d\\ubbfc\\uc784\\ub300\",\"\\uad6d\\ubbfc\\uc784\\ub300\",\"\\uad6d\\ubbfc\\uc784\\ub300\",\"\\uad6d\\ubbfc\\uc784\\ub300\",\"\\uad6d\\ubbfc\\uc784\\ub300\",\"\\uad6d\\ubbfc\\uc784\\ub300\",\"\\uad6d\\ubbfc\\uc784\\ub300\",\"\\uad6d\\ubbfc\\uc784\\ub300\",\"\\uad6d\\ubbfc\\uc784\\ub300\",\"\\uad6d\\ubbfc\\uc784\\ub300\",\"\\uad6d\\ubbfc\\uc784\\ub300\",\"\\uad6d\\ubbfc\\uc784\\ub300\",\"\\uad6d\\ubbfc\\uc784\\ub300\",\"\\uad6d\\ubbfc\\uc784\\ub300\",\"\\uad6d\\ubbfc\\uc784\\ub300\",\"\\uad6d\\ubbfc\\uc784\\ub300\",\"\\uad6d\\ubbfc\\uc784\\ub300\",\"\\uc601\\uad6c\\uc784\\ub300\",\"\\uc601\\uad6c\\uc784\\ub300\",\"\\uc601\\uad6c\\uc784\\ub300\",\"\\uc601\\uad6c\\uc784\\ub300\",\"\\uc601\\uad6c\\uc784\\ub300\",\"\\uad6d\\ubbfc\\uc784\\ub300\",\"\\uad6d\\ubbfc\\uc784\\ub300\",\"\\uad6d\\ubbfc\\uc784\\ub300\",\"\\uad6d\\ubbfc\\uc784\\ub300\",\"\\uad6d\\ubbfc\\uc784\\ub300\",\"\\uad6d\\ubbfc\\uc784\\ub300\",\"\\uad6d\\ubbfc\\uc784\\ub300\",\"\\uad6d\\ubbfc\\uc784\\ub300\",\"\\uad6d\\ubbfc\\uc784\\ub300\",\"\\uad6d\\ubbfc\\uc784\\ub300\",\"\\uc601\\uad6c\\uc784\\ub300\",\"\\uc601\\uad6c\\uc784\\ub300\",\"\\uc601\\uad6c\\uc784\\ub300\",\"\\uad6d\\ubbfc\\uc784\\ub300\",\"\\uad6d\\ubbfc\\uc784\\ub300\",\"\\uad6d\\ubbfc\\uc784\\ub300\",\"\\uad6d\\ubbfc\\uc784\\ub300\",\"\\uad6d\\ubbfc\\uc784\\ub300\",\"\\uad6d\\ubbfc\\uc784\\ub300\",\"\\uad6d\\ubbfc\\uc784\\ub300\",\"\\uad6d\\ubbfc\\uc784\\ub300\",\"\\uad6d\\ubbfc\\uc784\\ub300\",\"\\uad6d\\ubbfc\\uc784\\ub300\",\"\\uacf5\\uacf5\\uc784\\ub300(10\\ub144)\",\"\\uacf5\\uacf5\\uc784\\ub300(10\\ub144)\",\"\\uacf5\\uacf5\\uc784\\ub300(10\\ub144)\",\"\\uacf5\\uacf5\\uc784\\ub300(10\\ub144)\",\"\\uacf5\\uacf5\\uc784\\ub300(10\\ub144)\",\"\\uacf5\\uacf5\\uc784\\ub300(10\\ub144)\",\"\\uacf5\\uacf5\\uc784\\ub300(10\\ub144)\",\"\\uacf5\\uacf5\\uc784\\ub300(10\\ub144)\",\"\\uacf5\\uacf5\\uc784\\ub300(10\\ub144)\",\"\\uacf5\\uacf5\\uc784\\ub300(10\\ub144)\",\"\\uacf5\\uacf5\\uc784\\ub300(10\\ub144)\",\"\\uacf5\\uacf5\\uc784\\ub300(10\\ub144)\",\"\\uacf5\\uacf5\\uc784\\ub300(10\\ub144)\",\"\\uacf5\\uacf5\\uc784\\ub300(10\\ub144)\",\"\\uacf5\\uacf5\\uc784\\ub300(10\\ub144)\",\"\\uacf5\\uacf5\\uc784\\ub300(10\\ub144)\",\"\\uacf5\\uacf5\\uc784\\ub300(10\\ub144)\",\"\\uacf5\\uacf5\\uc784\\ub300(10\\ub144)\",\"\\uacf5\\uacf5\\uc784\\ub300(10\\ub144)\",\"\\uacf5\\uacf5\\uc784\\ub300(10\\ub144)\",\"\\uacf5\\uacf5\\uc784\\ub300(10\\ub144)\",\"\\uacf5\\uacf5\\uc784\\ub300(10\\ub144)\",\"\\uacf5\\uacf5\\uc784\\ub300(10\\ub144)\",\"\\uacf5\\uacf5\\uc784\\ub300(10\\ub144)\",\"\\uacf5\\uacf5\\uc784\\ub300(10\\ub144)\",\"\\uacf5\\uacf5\\uc784\\ub300(10\\ub144)\",\"\\uacf5\\uacf5\\uc784\\ub300(10\\ub144)\",\"\\uacf5\\uacf5\\uc784\\ub300(10\\ub144)\",\"\\uad6d\\ubbfc\\uc784\\ub300\",\"\\uad6d\\ubbfc\\uc784\\ub300\",\"\\uad6d\\ubbfc\\uc784\\ub300\",\"\\uad6d\\ubbfc\\uc784\\ub300\",\"\\uad6d\\ubbfc\\uc784\\ub300\",\"\\uad6d\\ubbfc\\uc784\\ub300\",\"\\uad6d\\ubbfc\\uc784\\ub300\",\"\\uad6d\\ubbfc\\uc784\\ub300\",\"\\uad6d\\ubbfc\\uc784\\ub300\",\"\\uad6d\\ubbfc\\uc784\\ub300\",\"\\uad6d\\ubbfc\\uc784\\ub300\",\"\\uad6d\\ubbfc\\uc784\\ub300\",\"\\uad6d\\ubbfc\\uc784\\ub300\",\"\\uad6d\\ubbfc\\uc784\\ub300\",\"\\uad6d\\ubbfc\\uc784\\ub300\",\"\\uad6d\\ubbfc\\uc784\\ub300\",\"\\uc601\\uad6c\\uc784\\ub300\",\"\\uc601\\uad6c\\uc784\\ub300\",\"\\uad6d\\ubbfc\\uc784\\ub300\",\"\\uad6d\\ubbfc\\uc784\\ub300\",\"\\uad6d\\ubbfc\\uc784\\ub300\",\"\\uad6d\\ubbfc\\uc784\\ub300\",\"\\uad6d\\ubbfc\\uc784\\ub300\",\"\\uad6d\\ubbfc\\uc784\\ub300\",\"\\uad6d\\ubbfc\\uc784\\ub300\",\"\\uad6d\\ubbfc\\uc784\\ub300\",\"\\uad6d\\ubbfc\\uc784\\ub300\",\"\\uad6d\\ubbfc\\uc784\\ub300\",\"\\uacf5\\uacf5\\uc784\\ub300(10\\ub144)\",\"\\uacf5\\uacf5\\uc784\\ub300(10\\ub144)\",\"\\uacf5\\uacf5\\uc784\\ub300(10\\ub144)\",\"\\uad6d\\ubbfc\\uc784\\ub300\",\"\\uad6d\\ubbfc\\uc784\\ub300\",\"\\uad6d\\ubbfc\\uc784\\ub300\",\"\\uad6d\\ubbfc\\uc784\\ub300\",\"\\uc601\\uad6c\\uc784\\ub300\",\"\\uc601\\uad6c\\uc784\\ub300\",\"\\uad6d\\ubbfc\\uc784\\ub300\",\"\\uad6d\\ubbfc\\uc784\\ub300\",\"\\uad6d\\ubbfc\\uc784\\ub300\",\"\\uad6d\\ubbfc\\uc784\\ub300\",\"\\uad6d\\ubbfc\\uc784\\ub300\",\"\\uad6d\\ubbfc\\uc784\\ub300\",\"\\uad6d\\ubbfc\\uc784\\ub300\",\"\\uad6d\\ubbfc\\uc784\\ub300\",\"\\uad6d\\ubbfc\\uc784\\ub300\",\"\\uad6d\\ubbfc\\uc784\\ub300\",\"\\uad6d\\ubbfc\\uc784\\ub300\",\"\\uad6d\\ubbfc\\uc784\\ub300\",\"\\uad6d\\ubbfc\\uc784\\ub300\",\"\\uad6d\\ubbfc\\uc784\\ub300\",\"\\uad6d\\ubbfc\\uc784\\ub300\",\"\\uad6d\\ubbfc\\uc784\\ub300\",\"\\uad6d\\ubbfc\\uc784\\ub300\",\"\\uad6d\\ubbfc\\uc784\\ub300\",\"\\uad6d\\ubbfc\\uc784\\ub300\",\"\\uad6d\\ubbfc\\uc784\\ub300\",\"\\uad6d\\ubbfc\\uc784\\ub300\",\"\\uad6d\\ubbfc\\uc784\\ub300\",\"\\uad6d\\ubbfc\\uc784\\ub300\",\"\\uad6d\\ubbfc\\uc784\\ub300\",\"\\uad6d\\ubbfc\\uc784\\ub300\",\"\\uad6d\\ubbfc\\uc784\\ub300\",\"\\uad6d\\ubbfc\\uc784\\ub300\",\"\\uad6d\\ubbfc\\uc784\\ub300\",\"\\uad6d\\ubbfc\\uc784\\ub300\",\"\\uad6d\\ubbfc\\uc784\\ub300\",\"\\uad6d\\ubbfc\\uc784\\ub300\",\"\\uad6d\\ubbfc\\uc784\\ub300\",\"\\uad6d\\ubbfc\\uc784\\ub300\",\"\\uad6d\\ubbfc\\uc784\\ub300\",\"\\uad6d\\ubbfc\\uc784\\ub300\",\"\\uad6d\\ubbfc\\uc784\\ub300\",\"\\uad6d\\ubbfc\\uc784\\ub300\",\"\\uad6d\\ubbfc\\uc784\\ub300\",\"\\uad6d\\ubbfc\\uc784\\ub300\",\"\\uad6d\\ubbfc\\uc784\\ub300\",\"\\uad6d\\ubbfc\\uc784\\ub300\",\"\\uad6d\\ubbfc\\uc784\\ub300\",\"\\uad6d\\ubbfc\\uc784\\ub300\",\"\\uad6d\\ubbfc\\uc784\\ub300\",\"\\uad6d\\ubbfc\\uc784\\ub300\",\"\\uad6d\\ubbfc\\uc784\\ub300\",\"\\uad6d\\ubbfc\\uc784\\ub300\",\"\\uad6d\\ubbfc\\uc784\\ub300\",\"\\uad6d\\ubbfc\\uc784\\ub300\",\"\\uad6d\\ubbfc\\uc784\\ub300\",\"\\uad6d\\ubbfc\\uc784\\ub300\",\"\\uad6d\\ubbfc\\uc784\\ub300\",\"\\uc601\\uad6c\\uc784\\ub300\",\"\\uc601\\uad6c\\uc784\\ub300\",\"\\uc601\\uad6c\\uc784\\ub300\",\"\\uc601\\uad6c\\uc784\\ub300\",\"\\uc601\\uad6c\\uc784\\ub300\",\"\\uad6d\\ubbfc\\uc784\\ub300\",\"\\uad6d\\ubbfc\\uc784\\ub300\",\"\\uad6d\\ubbfc\\uc784\\ub300\",\"\\uad6d\\ubbfc\\uc784\\ub300\",\"\\uad6d\\ubbfc\\uc784\\ub300\",\"\\uad6d\\ubbfc\\uc784\\ub300\",\"\\uad6d\\ubbfc\\uc784\\ub300\",\"\\uad6d\\ubbfc\\uc784\\ub300\",\"\\uad6d\\ubbfc\\uc784\\ub300\",\"\\uad6d\\ubbfc\\uc784\\ub300\",\"\\uad6d\\ubbfc\\uc784\\ub300\",\"\\uad6d\\ubbfc\\uc784\\ub300\",\"\\uad6d\\ubbfc\\uc784\\ub300\",\"\\uad6d\\ubbfc\\uc784\\ub300\",\"\\uad6d\\ubbfc\\uc784\\ub300\",\"\\uad6d\\ubbfc\\uc784\\ub300\",\"\\uad6d\\ubbfc\\uc784\\ub300\",\"\\uad6d\\ubbfc\\uc784\\ub300\",\"\\uad6d\\ubbfc\\uc784\\ub300\",\"\\uacf5\\uacf5\\uc784\\ub300(10\\ub144)\",\"\\uacf5\\uacf5\\uc784\\ub300(10\\ub144)\",\"\\uacf5\\uacf5\\uc784\\ub300(10\\ub144)\",\"\\uacf5\\uacf5\\uc784\\ub300(10\\ub144)\",\"\\uacf5\\uacf5\\uc784\\ub300(10\\ub144)\",\"\\uacf5\\uacf5\\uc784\\ub300(10\\ub144)\",\"\\uacf5\\uacf5\\uc784\\ub300(10\\ub144)\",\"\\uacf5\\uacf5\\uc784\\ub300(10\\ub144)\",\"\\uacf5\\uacf5\\uc784\\ub300(10\\ub144)\",\"\\uacf5\\uacf5\\uc784\\ub300(10\\ub144)\",\"\\uacf5\\uacf5\\uc784\\ub300(10\\ub144)\",\"\\uacf5\\uacf5\\uc784\\ub300(10\\ub144)\",\"\\uacf5\\uacf5\\ubd84\\uc591\",\"\\uacf5\\uacf5\\ubd84\\uc591\",\"\\uacf5\\uacf5\\ubd84\\uc591\",\"\\uacf5\\uacf5\\ubd84\\uc591\",\"\\uacf5\\uacf5\\ubd84\\uc591\",\"\\uacf5\\uacf5\\ubd84\\uc591\",\"\\uacf5\\uacf5\\ubd84\\uc591\",\"\\uacf5\\uacf5\\uc784\\ub300(10\\ub144)\",\"\\uacf5\\uacf5\\uc784\\ub300(10\\ub144)\",\"\\uacf5\\uacf5\\uc784\\ub300(10\\ub144)\",\"\\uacf5\\uacf5\\uc784\\ub300(\\ubd84\\ub0a9)\",\"\\uacf5\\uacf5\\uc784\\ub300(\\ubd84\\ub0a9)\",\"\\uacf5\\uacf5\\uc784\\ub300(\\ubd84\\ub0a9)\",\"\\uacf5\\uacf5\\uc784\\ub300(10\\ub144)\",\"\\uacf5\\uacf5\\uc784\\ub300(10\\ub144)\",\"\\uacf5\\uacf5\\uc784\\ub300(10\\ub144)\",\"\\uacf5\\uacf5\\uc784\\ub300(10\\ub144)\",\"\\uacf5\\uacf5\\uc784\\ub300(10\\ub144)\",\"\\uad6d\\ubbfc\\uc784\\ub300\",\"\\uad6d\\ubbfc\\uc784\\ub300\",\"\\uad6d\\ubbfc\\uc784\\ub300\",\"\\uad6d\\ubbfc\\uc784\\ub300\",\"\\uacf5\\uacf5\\uc784\\ub300(10\\ub144)\",\"\\uacf5\\uacf5\\uc784\\ub300(10\\ub144)\",\"\\uacf5\\uacf5\\uc784\\ub300(10\\ub144)\",\"\\uacf5\\uacf5\\uc784\\ub300(10\\ub144)\",\"\\uacf5\\uacf5\\uc784\\ub300(10\\ub144)\",\"\\uacf5\\uacf5\\uc784\\ub300(10\\ub144)\",\"\\uacf5\\uacf5\\uc784\\ub300(10\\ub144)\",\"\\uacf5\\uacf5\\uc784\\ub300(10\\ub144)\",\"\\uad6d\\ubbfc\\uc784\\ub300\",\"\\uad6d\\ubbfc\\uc784\\ub300\",\"\\uad6d\\ubbfc\\uc784\\ub300\",\"\\uad6d\\ubbfc\\uc784\\ub300\",\"\\uad6d\\ubbfc\\uc784\\ub300\",\"\\uad6d\\ubbfc\\uc784\\ub300\",\"\\uad6d\\ubbfc\\uc784\\ub300\",\"\\uad6d\\ubbfc\\uc784\\ub300\",\"\\uad6d\\ubbfc\\uc784\\ub300\",\"\\uad6d\\ubbfc\\uc784\\ub300\",\"\\uad6d\\ubbfc\\uc784\\ub300\",\"\\uad6d\\ubbfc\\uc784\\ub300\",\"\\uad6d\\ubbfc\\uc784\\ub300\",\"\\uad6d\\ubbfc\\uc784\\ub300\",\"\\uad6d\\ubbfc\\uc784\\ub300\",\"\\uad6d\\ubbfc\\uc784\\ub300\",\"\\uad6d\\ubbfc\\uc784\\ub300\",\"\\uad6d\\ubbfc\\uc784\\ub300\",\"\\uad6d\\ubbfc\\uc784\\ub300\",\"\\uad6d\\ubbfc\\uc784\\ub300\",\"\\uad6d\\ubbfc\\uc784\\ub300\",\"\\uad6d\\ubbfc\\uc784\\ub300\",\"\\uad6d\\ubbfc\\uc784\\ub300\",\"\\uad6d\\ubbfc\\uc784\\ub300\",\"\\uad6d\\ubbfc\\uc784\\ub300\",\"\\uad6d\\ubbfc\\uc784\\ub300\",\"\\uad6d\\ubbfc\\uc784\\ub300\",\"\\uad6d\\ubbfc\\uc784\\ub300\",\"\\uad6d\\ubbfc\\uc784\\ub300\",\"\\uad6d\\ubbfc\\uc784\\ub300\",\"\\uad6d\\ubbfc\\uc784\\ub300\",\"\\uad6d\\ubbfc\\uc784\\ub300\",\"\\uad6d\\ubbfc\\uc784\\ub300\",\"\\uad6d\\ubbfc\\uc784\\ub300\",\"\\uc601\\uad6c\\uc784\\ub300\",\"\\uc601\\uad6c\\uc784\\ub300\",\"\\uc601\\uad6c\\uc784\\ub300\",\"\\uc601\\uad6c\\uc784\\ub300\",\"\\uc601\\uad6c\\uc784\\ub300\",\"\\uad6d\\ubbfc\\uc784\\ub300\",\"\\uad6d\\ubbfc\\uc784\\ub300\",\"\\uad6d\\ubbfc\\uc784\\ub300\",\"\\uad6d\\ubbfc\\uc784\\ub300\",\"\\uad6d\\ubbfc\\uc784\\ub300\",\"\\uad6d\\ubbfc\\uc784\\ub300\",\"\\uad6d\\ubbfc\\uc784\\ub300\",\"\\uad6d\\ubbfc\\uc784\\ub300\",\"\\uad6d\\ubbfc\\uc784\\ub300\",\"\\uad6d\\ubbfc\\uc784\\ub300\",\"\\uad6d\\ubbfc\\uc784\\ub300\",\"\\uad6d\\ubbfc\\uc784\\ub300\",\"\\uad6d\\ubbfc\\uc784\\ub300\",\"\\uc601\\uad6c\\uc784\\ub300\",\"\\uacf5\\uacf5\\uc784\\ub300(10\\ub144)\",\"\\uacf5\\uacf5\\uc784\\ub300(10\\ub144)\",\"\\uacf5\\uacf5\\uc784\\ub300(10\\ub144)\",\"\\uacf5\\uacf5\\uc784\\ub300(10\\ub144)\",\"\\uacf5\\uacf5\\uc784\\ub300(10\\ub144)\",\"\\uacf5\\uacf5\\uc784\\ub300(10\\ub144)\",\"\\uad6d\\ubbfc\\uc784\\ub300\",\"\\uad6d\\ubbfc\\uc784\\ub300\",\"\\uad6d\\ubbfc\\uc784\\ub300\",\"\\uad6d\\ubbfc\\uc784\\ub300\",\"\\uacf5\\uacf5\\uc784\\ub300(10\\ub144)\",\"\\uacf5\\uacf5\\uc784\\ub300(10\\ub144)\",\"\\uacf5\\uacf5\\uc784\\ub300(10\\ub144)\",\"\\uacf5\\uacf5\\uc784\\ub300(10\\ub144)\",\"\\uad6d\\ubbfc\\uc784\\ub300\",\"\\uad6d\\ubbfc\\uc784\\ub300\",\"\\uad6d\\ubbfc\\uc784\\ub300\",\"\\uacf5\\uacf5\\uc784\\ub300(10\\ub144)\",\"\\uacf5\\uacf5\\uc784\\ub300(10\\ub144)\",\"\\uacf5\\uacf5\\uc784\\ub300(10\\ub144)\",\"\\uacf5\\uacf5\\uc784\\ub300(10\\ub144)\",\"\\uacf5\\uacf5\\uc784\\ub300(10\\ub144)\",\"\\uacf5\\uacf5\\uc784\\ub300(10\\ub144)\",\"\\uacf5\\uacf5\\uc784\\ub300(10\\ub144)\",\"\\uad6d\\ubbfc\\uc784\\ub300\",\"\\uad6d\\ubbfc\\uc784\\ub300\",\"\\uad6d\\ubbfc\\uc784\\ub300\",\"\\uad6d\\ubbfc\\uc784\\ub300\",\"\\uad6d\\ubbfc\\uc784\\ub300\",\"\\uad6d\\ubbfc\\uc784\\ub300\",\"\\uad6d\\ubbfc\\uc784\\ub300\",\"\\uad6d\\ubbfc\\uc784\\ub300\",\"\\uad6d\\ubbfc\\uc784\\ub300\",\"\\uad6d\\ubbfc\\uc784\\ub300\",\"\\uad6d\\ubbfc\\uc784\\ub300\",\"\\uad6d\\ubbfc\\uc784\\ub300\",\"\\uad6d\\ubbfc\\uc784\\ub300\",\"\\uad6d\\ubbfc\\uc784\\ub300\",\"\\uad6d\\ubbfc\\uc784\\ub300\",\"\\uad6d\\ubbfc\\uc784\\ub300\",\"\\uad6d\\ubbfc\\uc784\\ub300\",\"\\uad6d\\ubbfc\\uc784\\ub300\",\"\\uad6d\\ubbfc\\uc784\\ub300\",\"\\uad6d\\ubbfc\\uc784\\ub300\",\"\\uad6d\\ubbfc\\uc784\\ub300\",\"\\uc601\\uad6c\\uc784\\ub300\",\"\\uc601\\uad6c\\uc784\\ub300\",\"\\uc601\\uad6c\\uc784\\ub300\",\"\\uc601\\uad6c\\uc784\\ub300\",\"\\uc601\\uad6c\\uc784\\ub300\",\"\\uad6d\\ubbfc\\uc784\\ub300\",\"\\uad6d\\ubbfc\\uc784\\ub300\",\"\\uad6d\\ubbfc\\uc784\\ub300\",\"\\uad6d\\ubbfc\\uc784\\ub300\",\"\\uad6d\\ubbfc\\uc784\\ub300\",\"\\uad6d\\ubbfc\\uc784\\ub300\",\"\\uad6d\\ubbfc\\uc784\\ub300\",\"\\uc601\\uad6c\\uc784\\ub300\",\"\\uc601\\uad6c\\uc784\\ub300\",\"\\uacf5\\uacf5\\uc784\\ub300(10\\ub144)\",\"\\uacf5\\uacf5\\uc784\\ub300(10\\ub144)\",\"\\uad6d\\ubbfc\\uc784\\ub300\",\"\\uad6d\\ubbfc\\uc784\\ub300\",\"\\uad6d\\ubbfc\\uc784\\ub300\",\"\\uad6d\\ubbfc\\uc784\\ub300\",\"\\uad6d\\ubbfc\\uc784\\ub300\",\"\\uad6d\\ubbfc\\uc784\\ub300\",\"\\uad6d\\ubbfc\\uc784\\ub300\",\"\\uad6d\\ubbfc\\uc784\\ub300\",\"\\uad6d\\ubbfc\\uc784\\ub300\",\"\\uad6d\\ubbfc\\uc784\\ub300\",\"\\uad6d\\ubbfc\\uc784\\ub300\",\"\\uad6d\\ubbfc\\uc784\\ub300\",\"\\uad6d\\ubbfc\\uc784\\ub300\",\"\\uad6d\\ubbfc\\uc784\\ub300\",\"\\uad6d\\ubbfc\\uc784\\ub300\",\"\\uad6d\\ubbfc\\uc784\\ub300\",\"\\uad6d\\ubbfc\\uc784\\ub300\",\"\\uad6d\\ubbfc\\uc784\\ub300\",\"\\uad6d\\ubbfc\\uc784\\ub300\",\"\\uad6d\\ubbfc\\uc784\\ub300\",\"\\uad6d\\ubbfc\\uc784\\ub300\",\"\\uad6d\\ubbfc\\uc784\\ub300\",\"\\uc601\\uad6c\\uc784\\ub300\",\"\\uc601\\uad6c\\uc784\\ub300\",\"\\uc601\\uad6c\\uc784\\ub300\",\"\\uad6d\\ubbfc\\uc784\\ub300\",\"\\uad6d\\ubbfc\\uc784\\ub300\",\"\\uad6d\\ubbfc\\uc784\\ub300\",\"\\uad6d\\ubbfc\\uc784\\ub300\",\"\\uad6d\\ubbfc\\uc784\\ub300\",\"\\uad6d\\ubbfc\\uc784\\ub300\",\"\\uad6d\\ubbfc\\uc784\\ub300\",\"\\uad6d\\ubbfc\\uc784\\ub300\",\"\\uad6d\\ubbfc\\uc784\\ub300\",\"\\ud589\\ubcf5\\uc8fc\\ud0dd\",\"\\ud589\\ubcf5\\uc8fc\\ud0dd\",\"\\ud589\\ubcf5\\uc8fc\\ud0dd\",\"\\ud589\\ubcf5\\uc8fc\\ud0dd\",\"\\ud589\\ubcf5\\uc8fc\\ud0dd\",\"\\uad6d\\ubbfc\\uc784\\ub300\",\"\\uad6d\\ubbfc\\uc784\\ub300\",\"\\uad6d\\ubbfc\\uc784\\ub300\",\"\\uad6d\\ubbfc\\uc784\\ub300\",\"\\uacf5\\uacf5\\uc784\\ub300(10\\ub144)\",\"\\uacf5\\uacf5\\uc784\\ub300(10\\ub144)\",\"\\uacf5\\uacf5\\uc784\\ub300(10\\ub144)\",\"\\uacf5\\uacf5\\uc784\\ub300(10\\ub144)\",\"\\uad6d\\ubbfc\\uc784\\ub300\",\"\\uad6d\\ubbfc\\uc784\\ub300\",\"\\uad6d\\ubbfc\\uc784\\ub300\",\"\\uad6d\\ubbfc\\uc784\\ub300\",\"\\uad6d\\ubbfc\\uc784\\ub300\",\"\\ud589\\ubcf5\\uc8fc\\ud0dd\",\"\\ud589\\ubcf5\\uc8fc\\ud0dd\",\"\\ud589\\ubcf5\\uc8fc\\ud0dd\",\"\\ud589\\ubcf5\\uc8fc\\ud0dd\",\"\\ud589\\ubcf5\\uc8fc\\ud0dd\",\"\\ud589\\ubcf5\\uc8fc\\ud0dd\",\"\\ud589\\ubcf5\\uc8fc\\ud0dd\",\"\\ud589\\ubcf5\\uc8fc\\ud0dd\",\"\\ud589\\ubcf5\\uc8fc\\ud0dd\",\"\\uad6d\\ubbfc\\uc784\\ub300\",\"\\uad6d\\ubbfc\\uc784\\ub300\",\"\\uad6d\\ubbfc\\uc784\\ub300\",\"\\uc601\\uad6c\\uc784\\ub300\",\"\\uc601\\uad6c\\uc784\\ub300\",\"\\uad6d\\ubbfc\\uc784\\ub300\",\"\\uad6d\\ubbfc\\uc784\\ub300\",\"\\uad6d\\ubbfc\\uc784\\ub300\",\"\\uc601\\uad6c\\uc784\\ub300\",\"\\uc601\\uad6c\\uc784\\ub300\",\"\\uacf5\\uacf5\\uc784\\ub300(10\\ub144)\",\"\\uacf5\\uacf5\\uc784\\ub300(10\\ub144)\",\"\\uacf5\\uacf5\\uc784\\ub300(10\\ub144)\",\"\\uacf5\\uacf5\\uc784\\ub300(10\\ub144)\",\"\\uad6d\\ubbfc\\uc784\\ub300\",\"\\uad6d\\ubbfc\\uc784\\ub300\",\"\\uad6d\\ubbfc\\uc784\\ub300\",\"\\uad6d\\ubbfc\\uc784\\ub300\",\"\\uc601\\uad6c\\uc784\\ub300\",\"\\uacf5\\uacf5\\uc784\\ub300(5\\ub144)\",\"\\uacf5\\uacf5\\uc784\\ub300(5\\ub144)\",\"\\uacf5\\uacf5\\uc784\\ub300(5\\ub144)\",\"\\uad6d\\ubbfc\\uc784\\ub300\",\"\\uad6d\\ubbfc\\uc784\\ub300\",\"\\uad6d\\ubbfc\\uc784\\ub300\",\"\\uad6d\\ubbfc\\uc784\\ub300\",\"\\uc601\\uad6c\\uc784\\ub300\",\"\\uc601\\uad6c\\uc784\\ub300\",\"\\uad6d\\ubbfc\\uc784\\ub300\",\"\\uad6d\\ubbfc\\uc784\\ub300\",\"\\uad6d\\ubbfc\\uc784\\ub300\",\"\\uad6d\\ubbfc\\uc784\\ub300\",\"\\uc601\\uad6c\\uc784\\ub300\",\"\\uc601\\uad6c\\uc784\\ub300\",\"\\uc601\\uad6c\\uc784\\ub300\",\"\\ud589\\ubcf5\\uc8fc\\ud0dd\",\"\\ud589\\ubcf5\\uc8fc\\ud0dd\",\"\\ud589\\ubcf5\\uc8fc\\ud0dd\",\"\\ud589\\ubcf5\\uc8fc\\ud0dd\",\"\\ud589\\ubcf5\\uc8fc\\ud0dd\",\"\\ud589\\ubcf5\\uc8fc\\ud0dd\",\"\\ud589\\ubcf5\\uc8fc\\ud0dd\",\"\\ud589\\ubcf5\\uc8fc\\ud0dd\",\"\\ud589\\ubcf5\\uc8fc\\ud0dd\",\"\\ud589\\ubcf5\\uc8fc\\ud0dd\",\"\\ud589\\ubcf5\\uc8fc\\ud0dd\",\"\\ud589\\ubcf5\\uc8fc\\ud0dd\",\"\\ud589\\ubcf5\\uc8fc\\ud0dd\",\"\\uad6d\\ubbfc\\uc784\\ub300\",\"\\uc601\\uad6c\\uc784\\ub300\",\"\\ud589\\ubcf5\\uc8fc\\ud0dd\",\"\\ud589\\ubcf5\\uc8fc\\ud0dd\",\"\\ud589\\ubcf5\\uc8fc\\ud0dd\",\"\\ud589\\ubcf5\\uc8fc\\ud0dd\",\"\\ud589\\ubcf5\\uc8fc\\ud0dd\",\"\\ud589\\ubcf5\\uc8fc\\ud0dd\",\"\\ud589\\ubcf5\\uc8fc\\ud0dd\",\"\\ud589\\ubcf5\\uc8fc\\ud0dd\",\"\\uacf5\\uacf5\\uc784\\ub300(10\\ub144)\",\"\\uacf5\\uacf5\\uc784\\ub300(10\\ub144)\",\"\\uacf5\\uacf5\\uc784\\ub300(10\\ub144)\",\"\\uacf5\\uacf5\\uc784\\ub300(10\\ub144)\",\"\\uacf5\\uacf5\\uc784\\ub300(10\\ub144)\",\"\\uacf5\\uacf5\\uc784\\ub300(10\\ub144)\",\"\\uacf5\\uacf5\\uc784\\ub300(10\\ub144)\",\"\\uacf5\\uacf5\\uc784\\ub300(10\\ub144)\",\"\\uacf5\\uacf5\\uc784\\ub300(10\\ub144)\",\"\\uacf5\\uacf5\\uc784\\ub300(10\\ub144)\",\"\\uacf5\\uacf5\\uc784\\ub300(10\\ub144)\",\"\\uad6d\\ubbfc\\uc784\\ub300\",\"\\uad6d\\ubbfc\\uc784\\ub300\",\"\\uad6d\\ubbfc\\uc784\\ub300\",\"\\uad6d\\ubbfc\\uc784\\ub300\",\"\\uad6d\\ubbfc\\uc784\\ub300\",\"\\uad6d\\ubbfc\\uc784\\ub300\",\"\\uad6d\\ubbfc\\uc784\\ub300\",\"\\uad6d\\ubbfc\\uc784\\ub300\",\"\\uad6d\\ubbfc\\uc784\\ub300\",\"\\uacf5\\uacf5\\uc784\\ub300(10\\ub144)\",\"\\uacf5\\uacf5\\uc784\\ub300(10\\ub144)\",\"\\uacf5\\uacf5\\uc784\\ub300(10\\ub144)\",\"\\uacf5\\uacf5\\uc784\\ub300(10\\ub144)\",\"\\uacf5\\uacf5\\uc784\\ub300(10\\ub144)\",\"\\uacf5\\uacf5\\uc784\\ub300(10\\ub144)\",\"\\uacf5\\uacf5\\uc784\\ub300(10\\ub144)\",\"\\uacf5\\uacf5\\uc784\\ub300(10\\ub144)\",\"\\uacf5\\uacf5\\uc784\\ub300(10\\ub144)\",\"\\uacf5\\uacf5\\uc784\\ub300(10\\ub144)\",\"\\uacf5\\uacf5\\uc784\\ub300(10\\ub144)\",\"\\uacf5\\uacf5\\uc784\\ub300(10\\ub144)\",\"\\uacf5\\uacf5\\uc784\\ub300(10\\ub144)\",\"\\uacf5\\uacf5\\uc784\\ub300(10\\ub144)\",\"\\uacf5\\uacf5\\uc784\\ub300(10\\ub144)\",\"\\uacf5\\uacf5\\uc784\\ub300(10\\ub144)\",\"\\uacf5\\uacf5\\uc784\\ub300(10\\ub144)\",\"\\uacf5\\uacf5\\uc784\\ub300(10\\ub144)\",\"\\uacf5\\uacf5\\uc784\\ub300(10\\ub144)\",\"\\uacf5\\uacf5\\uc784\\ub300(10\\ub144)\",\"\\uacf5\\uacf5\\uc784\\ub300(10\\ub144)\",\"\\uacf5\\uacf5\\uc784\\ub300(10\\ub144)\",\"\\uacf5\\uacf5\\uc784\\ub300(10\\ub144)\",\"\\uacf5\\uacf5\\uc784\\ub300(10\\ub144)\",\"\\uacf5\\uacf5\\uc784\\ub300(10\\ub144)\",\"\\uacf5\\uacf5\\uc784\\ub300(10\\ub144)\",\"\\uacf5\\uacf5\\uc784\\ub300(10\\ub144)\",\"\\uacf5\\uacf5\\uc784\\ub300(10\\ub144)\",\"\\uacf5\\uacf5\\uc784\\ub300(10\\ub144)\",\"\\uacf5\\uacf5\\uc784\\ub300(10\\ub144)\",\"\\uacf5\\uacf5\\uc784\\ub300(10\\ub144)\",\"\\uacf5\\uacf5\\uc784\\ub300(10\\ub144)\",\"\\uacf5\\uacf5\\uc784\\ub300(10\\ub144)\",\"\\uacf5\\uacf5\\uc784\\ub300(10\\ub144)\",\"\\uacf5\\uacf5\\uc784\\ub300(10\\ub144)\",\"\\uacf5\\uacf5\\uc784\\ub300(10\\ub144)\",\"\\uacf5\\uacf5\\uc784\\ub300(10\\ub144)\",\"\\uacf5\\uacf5\\uc784\\ub300(10\\ub144)\",\"\\uacf5\\uacf5\\uc784\\ub300(10\\ub144)\",\"\\uacf5\\uacf5\\uc784\\ub300(10\\ub144)\",\"\\uacf5\\uacf5\\uc784\\ub300(10\\ub144)\",\"\\ud589\\ubcf5\\uc8fc\\ud0dd\",\"\\ud589\\ubcf5\\uc8fc\\ud0dd\",\"\\ud589\\ubcf5\\uc8fc\\ud0dd\",\"\\ud589\\ubcf5\\uc8fc\\ud0dd\",\"\\ud589\\ubcf5\\uc8fc\\ud0dd\",\"\\uacf5\\uacf5\\uc784\\ub300(10\\ub144)\",\"\\uacf5\\uacf5\\uc784\\ub300(10\\ub144)\",\"\\uacf5\\uacf5\\uc784\\ub300(10\\ub144)\",\"\\uacf5\\uacf5\\uc784\\ub300(10\\ub144)\",\"\\ud589\\ubcf5\\uc8fc\\ud0dd\",\"\\ud589\\ubcf5\\uc8fc\\ud0dd\",\"\\ud589\\ubcf5\\uc8fc\\ud0dd\",\"\\ud589\\ubcf5\\uc8fc\\ud0dd\",\"\\ud589\\ubcf5\\uc8fc\\ud0dd\",\"\\ud589\\ubcf5\\uc8fc\\ud0dd\",\"\\ud589\\ubcf5\\uc8fc\\ud0dd\",\"\\ud589\\ubcf5\\uc8fc\\ud0dd\",\"\\ud589\\ubcf5\\uc8fc\\ud0dd\",\"\\ud589\\ubcf5\\uc8fc\\ud0dd\",\"\\ud589\\ubcf5\\uc8fc\\ud0dd\",\"\\ud589\\ubcf5\\uc8fc\\ud0dd\",\"\\ud589\\ubcf5\\uc8fc\\ud0dd\",\"\\ud589\\ubcf5\\uc8fc\\ud0dd\",\"\\ud589\\ubcf5\\uc8fc\\ud0dd\",\"\\ud589\\ubcf5\\uc8fc\\ud0dd\",\"\\ud589\\ubcf5\\uc8fc\\ud0dd\",\"\\ud589\\ubcf5\\uc8fc\\ud0dd\",\"\\ud589\\ubcf5\\uc8fc\\ud0dd\",\"\\ud589\\ubcf5\\uc8fc\\ud0dd\",\"\\ud589\\ubcf5\\uc8fc\\ud0dd\",\"\\ud589\\ubcf5\\uc8fc\\ud0dd\",\"\\ud589\\ubcf5\\uc8fc\\ud0dd\",\"\\ud589\\ubcf5\\uc8fc\\ud0dd\",\"\\ud589\\ubcf5\\uc8fc\\ud0dd\",\"\\ud589\\ubcf5\\uc8fc\\ud0dd\",\"\\ud589\\ubcf5\\uc8fc\\ud0dd\",\"\\ud589\\ubcf5\\uc8fc\\ud0dd\",\"\\ud589\\ubcf5\\uc8fc\\ud0dd\",\"\\ud589\\ubcf5\\uc8fc\\ud0dd\",\"\\ud589\\ubcf5\\uc8fc\\ud0dd\",\"\\ud589\\ubcf5\\uc8fc\\ud0dd\",\"\\ud589\\ubcf5\\uc8fc\\ud0dd\",\"\\ud589\\ubcf5\\uc8fc\\ud0dd\",\"\\uad6d\\ubbfc\\uc784\\ub300\",\"\\uad6d\\ubbfc\\uc784\\ub300\",\"\\uad6d\\ubbfc\\uc784\\ub300\",\"\\uc601\\uad6c\\uc784\\ub300\",\"\\uc601\\uad6c\\uc784\\ub300\",\"\\uad6d\\ubbfc\\uc784\\ub300\",\"\\uad6d\\ubbfc\\uc784\\ub300\",\"\\uad6d\\ubbfc\\uc784\\ub300\",\"\\ud589\\ubcf5\\uc8fc\\ud0dd\",\"\\ud589\\ubcf5\\uc8fc\\ud0dd\",\"\\ud589\\ubcf5\\uc8fc\\ud0dd\",\"\\ud589\\ubcf5\\uc8fc\\ud0dd\",\"\\ud589\\ubcf5\\uc8fc\\ud0dd\",\"\\ud589\\ubcf5\\uc8fc\\ud0dd\",\"\\ud589\\ubcf5\\uc8fc\\ud0dd\",\"\\ud589\\ubcf5\\uc8fc\\ud0dd\",\"\\ud589\\ubcf5\\uc8fc\\ud0dd\",\"\\ud589\\ubcf5\\uc8fc\\ud0dd\",\"\\ud589\\ubcf5\\uc8fc\\ud0dd\",\"\\ud589\\ubcf5\\uc8fc\\ud0dd\",\"\\ud589\\ubcf5\\uc8fc\\ud0dd\",\"\\ud589\\ubcf5\\uc8fc\\ud0dd\",\"\\ud589\\ubcf5\\uc8fc\\ud0dd\",\"\\ud589\\ubcf5\\uc8fc\\ud0dd\",\"\\ud589\\ubcf5\\uc8fc\\ud0dd\",\"\\ud589\\ubcf5\\uc8fc\\ud0dd\",\"\\ud589\\ubcf5\\uc8fc\\ud0dd\",\"\\uad6d\\ubbfc\\uc784\\ub300\",\"\\uad6d\\ubbfc\\uc784\\ub300\",\"\\uad6d\\ubbfc\\uc784\\ub300\",\"\\uad6d\\ubbfc\\uc784\\ub300\",\"\\uad6d\\ubbfc\\uc784\\ub300\",\"\\uc601\\uad6c\\uc784\\ub300\",\"\\uc601\\uad6c\\uc784\\ub300\",\"\\uad6d\\ubbfc\\uc784\\ub300\",\"\\uad6d\\ubbfc\\uc784\\ub300\",\"\\uad6d\\ubbfc\\uc784\\ub300\",\"\\ud589\\ubcf5\\uc8fc\\ud0dd\",\"\\ud589\\ubcf5\\uc8fc\\ud0dd\",\"\\ud589\\ubcf5\\uc8fc\\ud0dd\",\"\\ud589\\ubcf5\\uc8fc\\ud0dd\",\"\\ud589\\ubcf5\\uc8fc\\ud0dd\",\"\\ud589\\ubcf5\\uc8fc\\ud0dd\",\"\\ud589\\ubcf5\\uc8fc\\ud0dd\",\"\\ud589\\ubcf5\\uc8fc\\ud0dd\",\"\\uad6d\\ubbfc\\uc784\\ub300\",\"\\uad6d\\ubbfc\\uc784\\ub300\",\"\\uad6d\\ubbfc\\uc784\\ub300\",\"\\uacf5\\uacf5\\uc784\\ub300(10\\ub144)\",\"\\uacf5\\uacf5\\uc784\\ub300(10\\ub144)\",\"\\uacf5\\uacf5\\uc784\\ub300(10\\ub144)\",\"\\uacf5\\uacf5\\uc784\\ub300(10\\ub144)\",\"\\uacf5\\uacf5\\uc784\\ub300(10\\ub144)\",\"\\uacf5\\uacf5\\uc784\\ub300(10\\ub144)\",\"\\uacf5\\uacf5\\uc784\\ub300(10\\ub144)\",\"\\uacf5\\uacf5\\uc784\\ub300(10\\ub144)\",\"\\uacf5\\uacf5\\uc784\\ub300(10\\ub144)\",\"\\uacf5\\uacf5\\uc784\\ub300(10\\ub144)\",\"\\uacf5\\uacf5\\uc784\\ub300(10\\ub144)\",\"\\uacf5\\uacf5\\uc784\\ub300(10\\ub144)\",\"\\uad6d\\ubbfc\\uc784\\ub300\",\"\\uad6d\\ubbfc\\uc784\\ub300\",\"\\uad6d\\ubbfc\\uc784\\ub300\",\"\\uad6d\\ubbfc\\uc784\\ub300\",\"\\uacf5\\uacf5\\uc784\\ub300(10\\ub144)\",\"\\uacf5\\uacf5\\uc784\\ub300(10\\ub144)\",\"\\uacf5\\uacf5\\uc784\\ub300(10\\ub144)\",\"\\uacf5\\uacf5\\uc784\\ub300(10\\ub144)\",\"\\uacf5\\uacf5\\uc784\\ub300(10\\ub144)\",\"\\uacf5\\uacf5\\uc784\\ub300(10\\ub144)\",\"\\uacf5\\uacf5\\uc784\\ub300(10\\ub144)\",\"\\uacf5\\uacf5\\uc784\\ub300(10\\ub144)\",\"\\ud589\\ubcf5\\uc8fc\\ud0dd\",\"\\ud589\\ubcf5\\uc8fc\\ud0dd\",\"\\ud589\\ubcf5\\uc8fc\\ud0dd\",\"\\ud589\\ubcf5\\uc8fc\\ud0dd\",\"\\ud589\\ubcf5\\uc8fc\\ud0dd\",\"\\ud589\\ubcf5\\uc8fc\\ud0dd\",\"\\ud589\\ubcf5\\uc8fc\\ud0dd\",\"\\ud589\\ubcf5\\uc8fc\\ud0dd\",\"\\ud589\\ubcf5\\uc8fc\\ud0dd\",\"\\ud589\\ubcf5\\uc8fc\\ud0dd\",\"\\ud589\\ubcf5\\uc8fc\\ud0dd\",\"\\ud589\\ubcf5\\uc8fc\\ud0dd\",\"\\ud589\\ubcf5\\uc8fc\\ud0dd\",\"\\ud589\\ubcf5\\uc8fc\\ud0dd\",\"\\ud589\\ubcf5\\uc8fc\\ud0dd\",\"\\ud589\\ubcf5\\uc8fc\\ud0dd\",\"\\ud589\\ubcf5\\uc8fc\\ud0dd\",\"\\ud589\\ubcf5\\uc8fc\\ud0dd\",\"\\ud589\\ubcf5\\uc8fc\\ud0dd\",\"\\ud589\\ubcf5\\uc8fc\\ud0dd\",\"\\ud589\\ubcf5\\uc8fc\\ud0dd\",\"\\ud589\\ubcf5\\uc8fc\\ud0dd\",\"\\ud589\\ubcf5\\uc8fc\\ud0dd\",\"\\ud589\\ubcf5\\uc8fc\\ud0dd\",\"\\ud589\\ubcf5\\uc8fc\\ud0dd\",\"\\ud589\\ubcf5\\uc8fc\\ud0dd\",\"\\ud589\\ubcf5\\uc8fc\\ud0dd\",\"\\ud589\\ubcf5\\uc8fc\\ud0dd\",\"\\ud589\\ubcf5\\uc8fc\\ud0dd\",\"\\ud589\\ubcf5\\uc8fc\\ud0dd\",\"\\ud589\\ubcf5\\uc8fc\\ud0dd\",\"\\ud589\\ubcf5\\uc8fc\\ud0dd\",\"\\ud589\\ubcf5\\uc8fc\\ud0dd\",\"\\ud589\\ubcf5\\uc8fc\\ud0dd\",\"\\ud589\\ubcf5\\uc8fc\\ud0dd\",\"\\ud589\\ubcf5\\uc8fc\\ud0dd\",\"\\ud589\\ubcf5\\uc8fc\\ud0dd\",\"\\ud589\\ubcf5\\uc8fc\\ud0dd\",\"\\ud589\\ubcf5\\uc8fc\\ud0dd\",\"\\ud589\\ubcf5\\uc8fc\\ud0dd\",\"\\ud589\\ubcf5\\uc8fc\\ud0dd\",\"\\ud589\\ubcf5\\uc8fc\\ud0dd\",\"\\ud589\\ubcf5\\uc8fc\\ud0dd\",\"\\ud589\\ubcf5\\uc8fc\\ud0dd\",\"\\ud589\\ubcf5\\uc8fc\\ud0dd\",\"\\ud589\\ubcf5\\uc8fc\\ud0dd\",\"\\ud589\\ubcf5\\uc8fc\\ud0dd\",\"\\ud589\\ubcf5\\uc8fc\\ud0dd\",\"\\ud589\\ubcf5\\uc8fc\\ud0dd\",\"\\ud589\\ubcf5\\uc8fc\\ud0dd\",\"\\ud589\\ubcf5\\uc8fc\\ud0dd\",\"\\ud589\\ubcf5\\uc8fc\\ud0dd\",\"\\ud589\\ubcf5\\uc8fc\\ud0dd\",\"\\ud589\\ubcf5\\uc8fc\\ud0dd\",\"\\uacf5\\uacf5\\uc784\\ub300(10\\ub144)\",\"\\uacf5\\uacf5\\uc784\\ub300(10\\ub144)\",\"\\uacf5\\uacf5\\uc784\\ub300(10\\ub144)\",\"\\uacf5\\uacf5\\uc784\\ub300(10\\ub144)\",\"\\uacf5\\uacf5\\uc784\\ub300(10\\ub144)\",\"\\uacf5\\uacf5\\uc784\\ub300(10\\ub144)\",\"\\uacf5\\uacf5\\uc784\\ub300(10\\ub144)\",\"\\uad6d\\ubbfc\\uc784\\ub300\",\"\\uad6d\\ubbfc\\uc784\\ub300\",\"\\uad6d\\ubbfc\\uc784\\ub300\",\"\\uad6d\\ubbfc\\uc784\\ub300\",\"\\ud589\\ubcf5\\uc8fc\\ud0dd\",\"\\ud589\\ubcf5\\uc8fc\\ud0dd\",\"\\ud589\\ubcf5\\uc8fc\\ud0dd\",\"\\ud589\\ubcf5\\uc8fc\\ud0dd\",\"\\ud589\\ubcf5\\uc8fc\\ud0dd\",\"\\ud589\\ubcf5\\uc8fc\\ud0dd\",\"\\ud589\\ubcf5\\uc8fc\\ud0dd\",\"\\ud589\\ubcf5\\uc8fc\\ud0dd\",\"\\ud589\\ubcf5\\uc8fc\\ud0dd\",\"\\ud589\\ubcf5\\uc8fc\\ud0dd\",\"\\ud589\\ubcf5\\uc8fc\\ud0dd\",\"\\ud589\\ubcf5\\uc8fc\\ud0dd\",\"\\ud589\\ubcf5\\uc8fc\\ud0dd\",\"\\ud589\\ubcf5\\uc8fc\\ud0dd\",\"\\ud589\\ubcf5\\uc8fc\\ud0dd\",\"\\ud589\\ubcf5\\uc8fc\\ud0dd\",\"\\ud589\\ubcf5\\uc8fc\\ud0dd\",\"\\ud589\\ubcf5\\uc8fc\\ud0dd\",\"\\ud589\\ubcf5\\uc8fc\\ud0dd\",\"\\ud589\\ubcf5\\uc8fc\\ud0dd\",\"\\ud589\\ubcf5\\uc8fc\\ud0dd\",\"\\ud589\\ubcf5\\uc8fc\\ud0dd\",\"\\ud589\\ubcf5\\uc8fc\\ud0dd\",\"\\ud589\\ubcf5\\uc8fc\\ud0dd\",\"\\ud589\\ubcf5\\uc8fc\\ud0dd\",\"\\ud589\\ubcf5\\uc8fc\\ud0dd\",\"\\ud589\\ubcf5\\uc8fc\\ud0dd\",\"\\uad6d\\ubbfc\\uc784\\ub300\",\"\\uad6d\\ubbfc\\uc784\\ub300\",\"\\uad6d\\ubbfc\\uc784\\ub300\",\"\\uad6d\\ubbfc\\uc784\\ub300\",\"\\uad6d\\ubbfc\\uc784\\ub300\",\"\\uad6d\\ubbfc\\uc784\\ub300\",\"\\uad6d\\ubbfc\\uc784\\ub300\",\"\\uad6d\\ubbfc\\uc784\\ub300\",\"\\uad6d\\ubbfc\\uc784\\ub300\",\"\\uad6d\\ubbfc\\uc784\\ub300\",\"\\uad6d\\ubbfc\\uc784\\ub300\",\"\\uad6d\\ubbfc\\uc784\\ub300\",\"\\uc601\\uad6c\\uc784\\ub300\",\"\\uc601\\uad6c\\uc784\\ub300\",\"\\uad6d\\ubbfc\\uc784\\ub300\",\"\\uad6d\\ubbfc\\uc784\\ub300\",\"\\uad6d\\ubbfc\\uc784\\ub300\",\"\\uad6d\\ubbfc\\uc784\\ub300\",\"\\uad6d\\ubbfc\\uc784\\ub300\",\"\\uad6d\\ubbfc\\uc784\\ub300\",\"\\uad6d\\ubbfc\\uc784\\ub300\",\"\\uad6d\\ubbfc\\uc784\\ub300\",\"\\ud589\\ubcf5\\uc8fc\\ud0dd\",\"\\ud589\\ubcf5\\uc8fc\\ud0dd\",\"\\ud589\\ubcf5\\uc8fc\\ud0dd\",\"\\ud589\\ubcf5\\uc8fc\\ud0dd\",\"\\ud589\\ubcf5\\uc8fc\\ud0dd\",\"\\ud589\\ubcf5\\uc8fc\\ud0dd\",\"\\ud589\\ubcf5\\uc8fc\\ud0dd\",\"\\ud589\\ubcf5\\uc8fc\\ud0dd\",\"\\ud589\\ubcf5\\uc8fc\\ud0dd\",\"\\ud589\\ubcf5\\uc8fc\\ud0dd\",\"\\ud589\\ubcf5\\uc8fc\\ud0dd\",\"\\ud589\\ubcf5\\uc8fc\\ud0dd\",\"\\ud589\\ubcf5\\uc8fc\\ud0dd\",\"\\ud589\\ubcf5\\uc8fc\\ud0dd\",\"\\ud589\\ubcf5\\uc8fc\\ud0dd\",\"\\ud589\\ubcf5\\uc8fc\\ud0dd\",\"\\ud589\\ubcf5\\uc8fc\\ud0dd\",\"\\uad6d\\ubbfc\\uc784\\ub300\",\"\\uad6d\\ubbfc\\uc784\\ub300\",\"\\uad6d\\ubbfc\\uc784\\ub300\",\"\\uad6d\\ubbfc\\uc784\\ub300\",\"\\uad6d\\ubbfc\\uc784\\ub300\",\"\\ud589\\ubcf5\\uc8fc\\ud0dd\",\"\\ud589\\ubcf5\\uc8fc\\ud0dd\",\"\\ud589\\ubcf5\\uc8fc\\ud0dd\",\"\\uc601\\uad6c\\uc784\\ub300\",\"\\uad6d\\ubbfc\\uc784\\ub300\",\"\\uad6d\\ubbfc\\uc784\\ub300\",\"\\uad6d\\ubbfc\\uc784\\ub300\",\"\\uad6d\\ubbfc\\uc784\\ub300\",\"\\uad6d\\ubbfc\\uc784\\ub300\",\"\\uad6d\\ubbfc\\uc784\\ub300\"],\"x0\":\" \",\"xaxis\":\"x\",\"y\":[419.0,419.0,419.0,419.0,419.0,419.0,419.0,221.0,221.0,221.0,221.0,221.0,221.0,221.0,221.0,221.0,221.0,221.0,4.0,4.0,4.0,4.0,4.0,4.0,92.0,92.0,92.0,92.0,102.0,102.0,102.0,102.0,102.0,102.0,-321.0,-321.0,-321.0,-321.0,-321.0,-321.0,-321.0,-321.0,-321.0,-321.0,-321.0,-321.0,-321.0,-66.0,-66.0,-66.0,-66.0,-66.0,-66.0,-66.0,-66.0,-66.0,-66.0,-66.0,-66.0,-13.0,-13.0,-13.0,-13.0,-13.0,-13.0,-290.0,-290.0,-290.0,-66.0,-66.0,-66.0,-66.0,-210.0,-210.0,-210.0,-4.0,-4.0,-4.0,42.0,42.0,42.0,42.0,42.0,42.0,223.0,223.0,168.0,168.0,168.0,168.0,35.0,35.0,35.0,35.0,35.0,35.0,35.0,35.0,35.0,35.0,35.0,35.0,35.0,35.0,35.0,35.0,35.0,35.0,35.0,35.0,35.0,35.0,35.0,35.0,35.0,35.0,35.0,35.0,35.0,35.0,457.0,457.0,457.0,91.0,91.0,91.0,91.0,91.0,91.0,91.0,91.0,91.0,91.0,418.0,418.0,418.0,338.0,338.0,338.0,65.0,65.0,65.0,65.0,65.0,65.0,144.0,144.0,144.0,144.0,144.0,144.0,144.0,144.0,144.0,144.0,144.0,144.0,144.0,144.0,144.0,144.0,144.0,144.0,34.0,282.0,282.0,282.0,282.0,309.0,309.0,309.0,309.0,309.0,309.0,309.0,309.0,309.0,309.0,309.0,309.0,309.0,309.0,309.0,309.0,309.0,309.0,309.0,309.0,309.0,309.0,31.0,31.0,31.0,31.0,31.0,31.0,31.0,31.0,31.0,31.0,31.0,31.0,31.0,31.0,31.0,31.0,31.0,209.0,209.0,209.0,209.0,209.0,209.0,209.0,209.0,209.0,209.0,209.0,209.0,209.0,209.0,209.0,209.0,209.0,209.0,209.0,209.0,670.0,670.0,670.0,670.0,670.0,670.0,42.0,42.0,42.0,42.0,42.0,42.0,42.0,42.0,42.0,42.0,42.0,42.0,42.0,42.0,42.0,42.0,42.0,42.0,42.0,42.0,371.0,371.0,371.0,371.0,371.0,371.0,371.0,371.0,371.0,371.0,371.0,371.0,371.0,371.0,371.0,371.0,371.0,371.0,371.0,371.0,371.0,371.0,371.0,371.0,371.0,371.0,371.0,371.0,371.0,371.0,371.0,371.0,371.0,371.0,371.0,371.0,371.0,371.0,371.0,371.0,-385.0,-385.0,-385.0,-385.0,-385.0,-385.0,-385.0,-385.0,-385.0,-385.0,-385.0,-28.0,-28.0,-28.0,49.0,49.0,49.0,49.0,49.0,49.0,49.0,49.0,49.0,49.0,49.0,49.0,49.0,49.0,49.0,49.0,49.0,49.0,49.0,49.0,49.0,37.0,37.0,37.0,37.0,37.0,37.0,37.0,37.0,376.0,376.0,376.0,294.0,294.0,294.0,294.0,294.0,294.0,-53.0,-53.0,-53.0,-53.0,-53.0,-53.0,-53.0,-53.0,-53.0,-53.0,-53.0,-53.0,-53.0,-53.0,-53.0,135.0,135.0,135.0,135.0,135.0,135.0,135.0,135.0,135.0,135.0,135.0,135.0,135.0,135.0,135.0,135.0,135.0,135.0,135.0,135.0,273.0,273.0,273.0,273.0,273.0,273.0,273.0,273.0,273.0,273.0,273.0,273.0,273.0,273.0,273.0,273.0,273.0,273.0,273.0,273.0,273.0,273.0,273.0,273.0,273.0,273.0,273.0,273.0,273.0,38.0,38.0,38.0,38.0,38.0,38.0,38.0,38.0,38.0,38.0,38.0,38.0,38.0,38.0,38.0,38.0,38.0,38.0,38.0,38.0,38.0,38.0,-7.0,-7.0,-124.0,-124.0,-124.0,-124.0,-124.0,-124.0,-124.0,-124.0,-124.0,-124.0,-124.0,-124.0,-124.0,-124.0,-124.0,-124.0,-124.0,-124.0,-124.0,-124.0,-124.0,-124.0,-124.0,-124.0,72.0,72.0,72.0,72.0,72.0,72.0,72.0,72.0,72.0,72.0,72.0,72.0,72.0,72.0,72.0,72.0,72.0,72.0,72.0,72.0,72.0,72.0,72.0,72.0,72.0,72.0,72.0,72.0,72.0,72.0,72.0,72.0,28.0,28.0,28.0,28.0,28.0,28.0,28.0,28.0,28.0,28.0,28.0,28.0,28.0,28.0,28.0,28.0,28.0,28.0,28.0,28.0,28.0,28.0,28.0,170.0,170.0,397.0,397.0,397.0,397.0,397.0,397.0,397.0,397.0,397.0,397.0,397.0,397.0,397.0,397.0,397.0,397.0,397.0,397.0,397.0,397.0,397.0,397.0,397.0,397.0,397.0,397.0,397.0,397.0,397.0,397.0,397.0,397.0,397.0,397.0,397.0,397.0,397.0,397.0,397.0,397.0,397.0,397.0,397.0,397.0,397.0,397.0,397.0,98.0,98.0,98.0,98.0,98.0,98.0,98.0,98.0,98.0,98.0,98.0,98.0,98.0,98.0,98.0,98.0,98.0,98.0,98.0,98.0,98.0,98.0,98.0,98.0,98.0,98.0,98.0,98.0,98.0,98.0,98.0,98.0,98.0,98.0,98.0,98.0,98.0,98.0,98.0,98.0,98.0,98.0,98.0,98.0,98.0,98.0,98.0,98.0,96.0,96.0,96.0,-52.0,-52.0,78.0,78.0,78.0,78.0,78.0,78.0,-5.0,-5.0,-5.0,-5.0,-5.0,-5.0,-5.0,-5.0,-5.0,-5.0,-5.0,-5.0,13.0,13.0,13.0,13.0,13.0,13.0,13.0,-2.0,-2.0,-2.0,-2.0,-2.0,-2.0,-2.0,-2.0,-2.0,-2.0,-2.0,-2.0,184.0,184.0,184.0,186.0,186.0,166.0,166.0,166.0,166.0,457.0,457.0,457.0,457.0,35.0,35.0,35.0,35.0,35.0,35.0,35.0,35.0,35.0,35.0,35.0,35.0,35.0,35.0,35.0,35.0,35.0,158.0,158.0,17.0,17.0,17.0,17.0,17.0,17.0,17.0,17.0,46.0,46.0,46.0,46.0,46.0,46.0,46.0,46.0,46.0,46.0,46.0,46.0,46.0,46.0,46.0,46.0,46.0,46.0,46.0,46.0,46.0,46.0,46.0,46.0,46.0,46.0,46.0,46.0,46.0,46.0,46.0,46.0,46.0,57.0,57.0,57.0,57.0,57.0,57.0,57.0,57.0,57.0,57.0,57.0,57.0,57.0,57.0,57.0,57.0,57.0,90.0,90.0,90.0,90.0,90.0,90.0,90.0,90.0,100.0,100.0,100.0,100.0,574.0,574.0,574.0,60.0,60.0,60.0,60.0,60.0,60.0,60.0,60.0,60.0,60.0,60.0,60.0,60.0,60.0,60.0,60.0,60.0,60.0,60.0,-17.0,-17.0,-17.0,-17.0,-17.0,-17.0,-17.0,-17.0,-17.0,-17.0,-17.0,-17.0,-17.0,-17.0,-17.0,-17.0,-17.0,-17.0,-17.0,-17.0,-17.0,-17.0,42.0,42.0,42.0,42.0,42.0,42.0,42.0,42.0,42.0,42.0,42.0,42.0,42.0,42.0,42.0,42.0,42.0,145.0,145.0,145.0,3.0,3.0,3.0,3.0,3.0,3.0,3.0,3.0,3.0,3.0,3.0,3.0,3.0,3.0,47.0,47.0,47.0,504.0,504.0,504.0,504.0,504.0,504.0,504.0,337.0,337.0,337.0,337.0,337.0,337.0,186.0,186.0,186.0,186.0,186.0,186.0,186.0,186.0,190.0,190.0,190.0,190.0,190.0,190.0,190.0,190.0,-22.0,-22.0,-22.0,-22.0,-77.0,-77.0,-77.0,-77.0,-77.0,-77.0,-77.0,-77.0,7.0,7.0,7.0,500.0,500.0,500.0,500.0,500.0,500.0,500.0,500.0,500.0,500.0,500.0,500.0,500.0,500.0,500.0,500.0,500.0,500.0,500.0,115.0,115.0,115.0,115.0,115.0,115.0,115.0,24.0,24.0,24.0,24.0,24.0,24.0,24.0,205.0,205.0,205.0,205.0,205.0,205.0,-79.0,-79.0,-79.0,-79.0,-79.0,349.0,349.0,349.0,349.0,349.0,349.0,349.0,349.0,80.0,80.0,80.0,80.0,80.0,-104.0,-104.0,-104.0,-104.0,-104.0,287.0,287.0,287.0,287.0,287.0,287.0,287.0,245.0,245.0,245.0,245.0,245.0,245.0,245.0,133.0,133.0,133.0,133.0,133.0,133.0,133.0,25.0,25.0,25.0,25.0,25.0,25.0,25.0,25.0,25.0,25.0,-92.0,-92.0,-243.0,-243.0,-243.0,-243.0,-243.0,-243.0,39.0,39.0,39.0,39.0,0.0,0.0,0.0,0.0,-163.0,-163.0,-163.0,-163.0,-163.0,-163.0,-163.0,-217.0,-217.0,-28.0,-28.0,-28.0,-28.0,-28.0,-124.0,-124.0,-124.0,-124.0,-124.0,-124.0,-124.0,-124.0,136.0,136.0,136.0,136.0,136.0,136.0,-91.0,-91.0,-91.0,-91.0,-91.0,-91.0,-91.0,-91.0,-91.0,-91.0,-91.0,-75.0,-75.0,-75.0,-75.0,-75.0,-75.0,-75.0,-546.0,-546.0,-546.0,-546.0,-546.0,106.0,106.0,106.0,106.0,-73.0,-73.0,-73.0,-57.0,-57.0,-57.0,-57.0,-57.0,-57.0,-57.0,69.0,69.0,69.0,69.0,69.0,69.0,69.0,69.0,69.0,2.0,2.0,2.0,2.0,2.0,2.0,-178.0,-178.0,-178.0,-178.0,-178.0,-178.0,-178.0,-82.0,-82.0,-82.0,-82.0,-82.0,-140.0,-140.0,-140.0,-140.0,-140.0,-351.0,-351.0,-351.0,-351.0,-236.0,-236.0,-236.0,-236.0,-236.0,76.0,76.0,76.0,76.0,76.0,76.0,-126.0,-126.0,-126.0,-126.0,-126.0,-126.0,-126.0,-126.0,-126.0,-105.0,-105.0,-105.0,-105.0,-105.0,-204.0,-204.0,-204.0,-204.0,-204.0,-204.0,-204.0,-204.0,84.0,84.0,84.0,84.0,84.0,84.0,84.0,-253.0,-253.0,-253.0,-253.0,301.0,301.0,301.0,301.0,301.0,301.0,-152.0,-152.0,-152.0,-152.0,-152.0,-169.0,-169.0,-169.0,-169.0,-169.0,-169.0,90.0,90.0,90.0,90.0,90.0,90.0,90.0,90.0,90.0,-183.0,-183.0,-183.0,-183.0,-183.0,-123.0,-123.0,-123.0,-123.0,-42.0,-42.0,-42.0,-42.0,-133.0,-133.0,-133.0,-133.0,-123.0,-123.0,157.0,157.0,157.0,157.0,157.0,157.0,157.0,157.0,157.0,157.0,-216.0,-216.0,-216.0,-216.0,-265.0,-265.0,-265.0,81.0,81.0,81.0,-225.0,-225.0,-225.0,-225.0,-20.0,-20.0,-20.0,-20.0,-65.0,-65.0,-105.0,-105.0,-105.0,-105.0,173.0,173.0,173.0,173.0,173.0,173.0,173.0,173.0,173.0,-123.0,-123.0,-123.0,-123.0,221.0,221.0,221.0,221.0,221.0,221.0,221.0,221.0,-135.0,-135.0,-135.0,115.0,115.0,115.0,115.0,115.0,115.0,115.0,115.0,115.0,115.0,30.0,30.0,30.0,30.0,30.0,30.0,17.0,17.0,17.0,17.0,17.0,17.0,-20.0,13.0,13.0,13.0,13.0,13.0,13.0,-55.0,-55.0,-55.0,-55.0,-55.0,-55.0,-55.0,-55.0,-85.0,-85.0,-85.0,-85.0,-85.0,-85.0,-85.0,-171.0,-171.0,-171.0,-171.0,-171.0,-171.0,-171.0,-171.0,-171.0,-276.0,-276.0,-276.0,-276.0,-276.0,-276.0,-276.0,-276.0,-276.0,-80.0,-80.0,-80.0,-80.0,-80.0,-80.0,-80.0,-80.0,154.0,154.0,154.0,154.0,154.0,154.0,-55.0,-55.0,-55.0,-55.0,-55.0,5.0,5.0,5.0,5.0,5.0,-23.0,-23.0,-23.0,-23.0,-23.0,-23.0,-61.0,-61.0,-61.0,-61.0,-61.0,-61.0,-61.0,-316.0,-316.0,-316.0,-316.0,-316.0,-85.0,-85.0,-85.0,-85.0,-85.0,-85.0,-85.0,-85.0,-182.0,-182.0,-182.0,-182.0,-182.0,-182.0,-75.0,-75.0,-75.0,-75.0,-75.0,-75.0,-75.0,-92.0,-92.0,-92.0,-92.0,-92.0,-92.0,-92.0,-24.0,-24.0,-24.0,-24.0,-69.0,-69.0,-69.0,-69.0,-69.0,-69.0,38.0,38.0,38.0,38.0,38.0,38.0,38.0,27.0,27.0,27.0,27.0,27.0,27.0,430.0,430.0,430.0,430.0,430.0,430.0,430.0,430.0,430.0,430.0,430.0,472.0,472.0,472.0,472.0,472.0,472.0,472.0,472.0,472.0,472.0,472.0,472.0,-57.0,-57.0,-24.0,-24.0,-24.0,-24.0,-45.0,-45.0,-45.0,-45.0,-45.0,-45.0,-45.0,-45.0,-45.0,-45.0,-45.0,-45.0,-45.0,223.0,223.0,223.0,223.0,223.0,223.0,223.0,223.0,-30.0,-30.0,-30.0,-30.0,-30.0,-98.0,-98.0,-98.0,-98.0,-187.0,-187.0,-187.0,-187.0,-187.0,-187.0,-71.0,-71.0,-71.0,-71.0,70.0,70.0,70.0,70.0,174.0,174.0,174.0,174.0,174.0,-109.0,-109.0,-109.0,-109.0,-131.0,-131.0,-131.0,-131.0,-131.0,-131.0,-131.0,-131.0,-131.0,-131.0,-131.0,-131.0,85.0,85.0,85.0,11.0,-5.0,-5.0,-263.0,-263.0,-263.0,-263.0,-263.0,-263.0,-263.0,-90.0,-90.0,-90.0,-90.0,-90.0,-90.0,-90.0,-58.0,-58.0,-58.0,-58.0,-58.0,41.0,41.0,41.0,41.0,41.0,41.0,41.0,41.0,54.0,54.0,54.0,54.0,54.0,54.0,-6.0,-6.0,-6.0,-6.0,-6.0,-6.0,39.0,39.0,39.0,-15.0,-15.0,-15.0,-15.0,-15.0,-15.0,108.0,108.0,108.0,108.0,108.0,108.0,32.0,32.0,32.0,32.0,32.0,32.0,32.0,-349.0,-349.0,-349.0,-349.0,-349.0,-349.0,-349.0,-116.0,-116.0,-116.0,-116.0,-116.0,7.0,7.0,7.0,7.0,7.0,7.0,7.0,-265.0,-265.0,-265.0,-41.0,-41.0,-41.0,-41.0,41.0,41.0,41.0,41.0,41.0,-68.0,-68.0,-68.0,-68.0,-68.0,-68.0,-68.0,-68.0,-67.0,-67.0,-67.0,-67.0,-67.0,-99.0,-99.0,-99.0,-99.0,-148.0,-148.0,-148.0,-148.0,116.0,116.0,116.0,116.0,116.0,116.0,-66.0,-66.0,-66.0,-19.0,-19.0,-19.0,-28.0,-28.0,-28.0,-28.0,-28.0,-32.0,-32.0,-32.0,-32.0,-32.0,-32.0,-32.0,-32.0,-65.0,-65.0,-65.0,-65.0,-65.0,-65.0,99.0,99.0,99.0,99.0,99.0,-172.0,-172.0,-172.0,-172.0,-172.0,-44.0,-44.0,-44.0,-59.0,-59.0,-59.0,-59.0,58.0,58.0,58.0,58.0,-70.0,-70.0,-70.0,-21.0,-21.0,-21.0,-21.0,-21.0,-21.0,-44.0,-44.0,-44.0,-44.0,-44.0,-44.0,50.0,50.0,50.0,50.0,50.0,50.0,-300.0,-300.0,26.0,26.0,26.0,26.0,26.0,118.0,118.0,118.0,118.0,118.0,-104.0,-104.0,-104.0,-104.0,-104.0,-26.0,-26.0,-26.0,-26.0,-26.0,-26.0,-26.0,-26.0,-26.0,-26.0,-50.0,-50.0,-50.0,-50.0,-86.0,-86.0,-86.0,-86.0,-86.0,-86.0,-86.0,-125.0,-125.0,-125.0,-125.0,-125.0,46.0,46.0,46.0,46.0,46.0,46.0,46.0,94.0,94.0,94.0,94.0,94.0,94.0,27.0,27.0,27.0,27.0,27.0,27.0,27.0,88.0,88.0,88.0,88.0,88.0,88.0,88.0,-107.0,-107.0,-210.0,-210.0,-116.0,-116.0,-116.0,-116.0,-116.0,-116.0,-20.0,-20.0,-20.0,-20.0,-20.0,38.0,38.0,38.0,38.0,38.0,38.0,38.0,38.0,-261.0,-261.0,-261.0,-261.0,-23.0,-23.0,-23.0,-23.0,-23.0,-23.0,-177.0,-177.0,-177.0,-177.0,-32.0,-32.0,-32.0,-32.0,-32.0,-32.0,-43.0,-43.0,-43.0,-43.0,-43.0,-43.0,-43.0,255.0,255.0,255.0,255.0,255.0,255.0,-234.0,-234.0,-234.0,-234.0,-234.0,-234.0,-234.0,-234.0,-234.0,-108.0,-108.0,-108.0,-108.0,-108.0,165.0,165.0,165.0,165.0,165.0,-42.0,-42.0,-42.0,-42.0,-42.0,-42.0,-42.0,-42.0,-42.0,-42.0,712.0,712.0,712.0,712.0,712.0,712.0,712.0,712.0,712.0,712.0,712.0,712.0,712.0,712.0,712.0,712.0,-13.0,-13.0,-13.0,-13.0,-13.0,-13.0,82.0,82.0,82.0,82.0,82.0,82.0,82.0,82.0,391.0,391.0,391.0,391.0,391.0,391.0,391.0,391.0,391.0,391.0,391.0,391.0,391.0,391.0,103.0,103.0,103.0,103.0,103.0,103.0,-116.0,-116.0,-116.0,-116.0,-116.0,-116.0,-116.0,-116.0,-116.0,86.0,86.0,86.0,86.0,86.0,86.0,-72.0,-72.0,-72.0,-72.0,-72.0,-72.0,-72.0,-72.0,-72.0,-72.0,81.0,81.0,81.0,81.0,81.0,291.0,291.0,291.0,291.0,291.0,291.0,158.0,158.0,158.0,158.0,158.0,158.0,158.0,158.0,158.0,-62.0,-62.0,-62.0,-62.0,-62.0,-62.0,-62.0,-62.0,-62.0,-62.0,-62.0,-68.0,-68.0,-68.0,-68.0,-68.0,-68.0,-42.0,-42.0,-42.0,-42.0,-42.0,-42.0,-28.0,-28.0,-28.0,-28.0,-28.0,-10.0,-10.0,-10.0,-10.0,-10.0,-83.0,-83.0,-83.0,-83.0,-83.0,-83.0,-83.0,189.0,189.0,189.0,189.0,189.0,189.0,5.0,5.0,-60.0,-60.0,-60.0,-60.0,-60.0,-60.0,-39.0,-39.0,-39.0,-39.0,-39.0,-39.0,-29.0,-29.0,-29.0,-29.0,23.0,23.0,23.0,23.0,23.0,23.0,101.0,101.0,101.0,101.0,101.0,101.0,101.0,101.0,101.0,101.0,101.0,139.0,139.0,139.0,139.0,139.0,139.0,-175.0,-175.0,-175.0,-175.0,-175.0,-175.0,-175.0,-175.0,-175.0,-175.0,-175.0,-175.0,-322.0,-322.0,-322.0,-322.0,-10.0,-10.0,-10.0,-10.0,-10.0,-10.0,-21.0,-21.0,-21.0,-21.0,-21.0,-21.0,-21.0,-21.0,-21.0,91.0,91.0,91.0,91.0,91.0,91.0,-32.0,-32.0,-32.0,-32.0,-32.0,-32.0,-32.0,86.0,86.0,86.0,86.0,86.0,86.0,86.0,86.0,86.0,86.0,-148.0,-148.0,-148.0,-148.0,-148.0,-148.0,-148.0,-148.0,-148.0,-100.0,-100.0,-100.0,-100.0,28.0,28.0,28.0,28.0,28.0,28.0,28.0,28.0,28.0,28.0,28.0,421.0,421.0,421.0,421.0,421.0,421.0,421.0,421.0,59.0,59.0,59.0,59.0,59.0,73.0,73.0,73.0,73.0,73.0,73.0,73.0,73.0,73.0,73.0,73.0,1.0,1.0,1.0,-14.0,-14.0,-14.0,17.0,17.0,17.0,17.0,17.0,17.0,17.0,39.0,39.0,39.0,39.0,133.0,133.0,133.0,133.0,133.0,133.0,-140.0,-140.0,-140.0,-140.0,-80.0,-80.0,-80.0,-80.0,-80.0,-80.0,-80.0,-80.0,-80.0,-80.0,-32.0,-32.0,-1.0,-1.0,-1.0,-1.0,-648.0,-648.0,-648.0,-648.0,-648.0,107.0,107.0,107.0,-24.0,-24.0,-24.0,-24.0,-24.0,-24.0,-5.0,-5.0,-5.0,289.0,289.0,289.0,289.0,289.0,289.0,289.0,289.0,289.0,0.0,0.0,0.0,0.0,0.0,0.0,0.0,0.0,0.0,0.0,-512.0,-512.0,-512.0,306.0,306.0,306.0,306.0,306.0,306.0,469.0,469.0,469.0,469.0,469.0,469.0,469.0,74.0,74.0,74.0,74.0,74.0,74.0,74.0,-61.0,-61.0,-61.0,-61.0,-61.0,-61.0,-61.0,-61.0,-61.0,-61.0,-61.0,113.0,113.0,113.0,113.0,113.0,148.0,148.0,148.0,148.0,148.0,148.0,-71.0,-71.0,-71.0,124.0,124.0,124.0,92.0,92.0,92.0,92.0,-230.0,-230.0,-230.0,-230.0,-230.0,-230.0,-230.0,-230.0,-230.0,-230.0,-230.0,48.0,48.0,48.0,48.0,48.0,48.0,-14.0,-14.0,-14.0,-14.0,-14.0,-14.0,152.0,152.0,152.0,152.0,13.0,13.0,13.0,35.0,35.0,35.0,35.0,35.0,-709.0,-709.0,-709.0,-709.0,-709.0,-709.0,-709.0,-679.0,-679.0,-679.0,-679.0,-679.0,-679.0,-679.0,-679.0,-679.0,-679.0,-679.0,-679.0,-679.0,-154.0,-154.0,-154.0,-154.0,-154.0,152.0,152.0,152.0,152.0,-393.0,-393.0,-393.0,-393.0,-393.0,-393.0,-393.0,-393.0,254.0,254.0,254.0,254.0,254.0,531.0,531.0,531.0,531.0,531.0,531.0,-33.0,-33.0,-33.0,-3.0,-3.0,-3.0,-3.0,-3.0,102.0,102.0,102.0,102.0,-37.0,-37.0,-37.0,254.0,254.0,254.0,254.0,254.0,254.0,254.0,254.0,254.0,254.0,254.0,254.0,254.0,23.0,23.0,23.0,23.0,23.0,288.0,288.0,288.0,9.0,9.0,9.0,9.0,9.0,9.0,-528.0,-528.0,-528.0,-528.0,-528.0,-528.0,271.0,271.0,271.0,271.0,-214.0,-214.0,-214.0,-214.0,118.0,118.0,118.0,-175.0,-175.0,-175.0,-196.0,-196.0,-196.0,-196.0,-143.0,-143.0,-143.0,-143.0,168.0,168.0,168.0,168.0,117.0,117.0,117.0,117.0,117.0,117.0,117.0,117.0,117.0,117.0,117.0,117.0,117.0,117.0,117.0,117.0,117.0,117.0,-87.0,-87.0,-87.0,-26.0,-26.0,-26.0,-26.0,-26.0,-26.0,-136.0,-136.0,-65.0,-65.0,-65.0,83.0,83.0,83.0,83.0,83.0,-138.0,-138.0,-138.0,-752.0,-752.0,-752.0,-752.0,-752.0,-752.0,-752.0,-752.0,-752.0,-752.0,-752.0,-752.0,-752.0,-752.0,205.0,205.0,205.0,205.0,205.0,205.0,90.0,90.0,90.0,187.0,187.0,187.0,187.0,187.0,724.0,724.0,724.0,724.0,-110.0,-110.0,-110.0,-110.0,517.0,517.0,517.0,517.0,517.0,3.0,3.0,3.0,3.0,3.0,3.0,3.0,3.0,3.0,536.0,536.0,536.0,536.0,536.0,338.0,338.0,338.0,338.0,338.0,-285.0,-285.0,-285.0,-285.0,89.0,89.0,89.0,89.0,89.0,-115.0,-115.0,-115.0,42.0,42.0,42.0,42.0,42.0,42.0,14.0,14.0,14.0,14.0,14.0,14.0,14.0,219.0,219.0,219.0,219.0,219.0,219.0,219.0,219.0,219.0,219.0,219.0,219.0,219.0,177.0,177.0,177.0,177.0,177.0,177.0,177.0,177.0,177.0,177.0,-483.0,-483.0,-483.0,-483.0,-483.0,-483.0,-483.0,-483.0,-483.0,-483.0,-483.0,-183.0,-183.0,-183.0,-183.0,-183.0,-183.0,-183.0,-183.0,-183.0,-237.0,-237.0,-462.0,-462.0,-462.0,-462.0,-462.0,-104.0,-104.0,-104.0,-104.0,-104.0,-232.0,-232.0,-232.0,-232.0,-232.0,-232.0,-232.0,-232.0,-232.0,-232.0,-232.0,-232.0,-232.0,-232.0,-232.0,-232.0,-232.0,-127.0,-127.0,-127.0,-127.0,-127.0,-127.0,-72.0,-72.0,-72.0,-72.0,-72.0,-72.0,-7.0,-7.0,-7.0,-7.0,-7.0,6.0,6.0,6.0,6.0,113.0,113.0,113.0,113.0,113.0,113.0,113.0,113.0,-86.0,-86.0,-86.0,-86.0,-86.0,-86.0,-86.0,-86.0,-86.0,-86.0,-86.0,-86.0,131.0,131.0,131.0,131.0,-46.0,-46.0,-46.0,-46.0,-46.0,-46.0,-46.0,-46.0,-46.0,-46.0,-64.0,-64.0,-64.0,-64.0,-64.0,77.0,77.0,77.0,50.0,50.0,50.0,50.0,50.0,50.0,50.0,50.0,50.0,-21.0,-21.0,-21.0,-21.0,-21.0,-21.0,-21.0,-21.0,-21.0,-21.0,-72.0,-72.0,-72.0,-72.0,-72.0,-72.0,-72.0,39.0,39.0,39.0,39.0,39.0,39.0,-14.0,-14.0,-14.0,-14.0,-14.0,101.0,101.0,101.0,-382.0,-382.0,-382.0,-382.0,-382.0,-382.0,-382.0,-382.0,-382.0,-180.0,-180.0,-180.0,7.0,7.0,7.0,7.0,-405.0,-405.0,-405.0,-405.0,-123.0,-123.0,-123.0,-123.0,859.0,859.0,859.0,859.0,859.0,859.0,859.0,859.0,859.0,859.0,859.0,859.0,859.0,859.0,98.0,98.0,98.0,98.0,98.0,16.0,16.0,16.0,16.0,16.0,16.0,16.0,0.0,0.0,0.0,-24.0,-24.0,-24.0,-24.0,-24.0,350.0,350.0,350.0,350.0,350.0,350.0,-36.0,-36.0,-36.0,-36.0,-36.0,394.0,394.0,394.0,394.0,394.0,394.0,394.0,394.0,394.0,-135.0,-135.0,-135.0,-135.0,-135.0,-135.0,-135.0,22.0,22.0,22.0,22.0,-5.0,-5.0,-5.0,-51.0,-51.0,-51.0,-51.0,-51.0,-79.0,-79.0,-79.0,-79.0,-79.0,-79.0,259.0,259.0,259.0,259.0,259.0,195.0,195.0,195.0,195.0,195.0,195.0,195.0,195.0,376.0,376.0,376.0,376.0,65.0,65.0,65.0,65.0,-80.0,-80.0,-80.0,-80.0,-80.0,-80.0,874.0,874.0,874.0,874.0,874.0,874.0,874.0,874.0,366.0,366.0,366.0,366.0,366.0,366.0,366.0,366.0,366.0,366.0,366.0,366.0,9.0,9.0,9.0,9.0,9.0,275.0,275.0,275.0,275.0,275.0,6.0,6.0,6.0,14.0,20.0,20.0,20.0,20.0,20.0,20.0],\"y0\":\" \",\"yaxis\":\"y\",\"type\":\"box\"}],                        {\"template\":{\"data\":{\"bar\":[{\"error_x\":{\"color\":\"#2a3f5f\"},\"error_y\":{\"color\":\"#2a3f5f\"},\"marker\":{\"line\":{\"color\":\"#E5ECF6\",\"width\":0.5},\"pattern\":{\"fillmode\":\"overlay\",\"size\":10,\"solidity\":0.2}},\"type\":\"bar\"}],\"barpolar\":[{\"marker\":{\"line\":{\"color\":\"#E5ECF6\",\"width\":0.5},\"pattern\":{\"fillmode\":\"overlay\",\"size\":10,\"solidity\":0.2}},\"type\":\"barpolar\"}],\"carpet\":[{\"aaxis\":{\"endlinecolor\":\"#2a3f5f\",\"gridcolor\":\"white\",\"linecolor\":\"white\",\"minorgridcolor\":\"white\",\"startlinecolor\":\"#2a3f5f\"},\"baxis\":{\"endlinecolor\":\"#2a3f5f\",\"gridcolor\":\"white\",\"linecolor\":\"white\",\"minorgridcolor\":\"white\",\"startlinecolor\":\"#2a3f5f\"},\"type\":\"carpet\"}],\"choropleth\":[{\"colorbar\":{\"outlinewidth\":0,\"ticks\":\"\"},\"type\":\"choropleth\"}],\"contour\":[{\"colorbar\":{\"outlinewidth\":0,\"ticks\":\"\"},\"colorscale\":[[0.0,\"#0d0887\"],[0.1111111111111111,\"#46039f\"],[0.2222222222222222,\"#7201a8\"],[0.3333333333333333,\"#9c179e\"],[0.4444444444444444,\"#bd3786\"],[0.5555555555555556,\"#d8576b\"],[0.6666666666666666,\"#ed7953\"],[0.7777777777777778,\"#fb9f3a\"],[0.8888888888888888,\"#fdca26\"],[1.0,\"#f0f921\"]],\"type\":\"contour\"}],\"contourcarpet\":[{\"colorbar\":{\"outlinewidth\":0,\"ticks\":\"\"},\"type\":\"contourcarpet\"}],\"heatmap\":[{\"colorbar\":{\"outlinewidth\":0,\"ticks\":\"\"},\"colorscale\":[[0.0,\"#0d0887\"],[0.1111111111111111,\"#46039f\"],[0.2222222222222222,\"#7201a8\"],[0.3333333333333333,\"#9c179e\"],[0.4444444444444444,\"#bd3786\"],[0.5555555555555556,\"#d8576b\"],[0.6666666666666666,\"#ed7953\"],[0.7777777777777778,\"#fb9f3a\"],[0.8888888888888888,\"#fdca26\"],[1.0,\"#f0f921\"]],\"type\":\"heatmap\"}],\"heatmapgl\":[{\"colorbar\":{\"outlinewidth\":0,\"ticks\":\"\"},\"colorscale\":[[0.0,\"#0d0887\"],[0.1111111111111111,\"#46039f\"],[0.2222222222222222,\"#7201a8\"],[0.3333333333333333,\"#9c179e\"],[0.4444444444444444,\"#bd3786\"],[0.5555555555555556,\"#d8576b\"],[0.6666666666666666,\"#ed7953\"],[0.7777777777777778,\"#fb9f3a\"],[0.8888888888888888,\"#fdca26\"],[1.0,\"#f0f921\"]],\"type\":\"heatmapgl\"}],\"histogram\":[{\"marker\":{\"pattern\":{\"fillmode\":\"overlay\",\"size\":10,\"solidity\":0.2}},\"type\":\"histogram\"}],\"histogram2d\":[{\"colorbar\":{\"outlinewidth\":0,\"ticks\":\"\"},\"colorscale\":[[0.0,\"#0d0887\"],[0.1111111111111111,\"#46039f\"],[0.2222222222222222,\"#7201a8\"],[0.3333333333333333,\"#9c179e\"],[0.4444444444444444,\"#bd3786\"],[0.5555555555555556,\"#d8576b\"],[0.6666666666666666,\"#ed7953\"],[0.7777777777777778,\"#fb9f3a\"],[0.8888888888888888,\"#fdca26\"],[1.0,\"#f0f921\"]],\"type\":\"histogram2d\"}],\"histogram2dcontour\":[{\"colorbar\":{\"outlinewidth\":0,\"ticks\":\"\"},\"colorscale\":[[0.0,\"#0d0887\"],[0.1111111111111111,\"#46039f\"],[0.2222222222222222,\"#7201a8\"],[0.3333333333333333,\"#9c179e\"],[0.4444444444444444,\"#bd3786\"],[0.5555555555555556,\"#d8576b\"],[0.6666666666666666,\"#ed7953\"],[0.7777777777777778,\"#fb9f3a\"],[0.8888888888888888,\"#fdca26\"],[1.0,\"#f0f921\"]],\"type\":\"histogram2dcontour\"}],\"mesh3d\":[{\"colorbar\":{\"outlinewidth\":0,\"ticks\":\"\"},\"type\":\"mesh3d\"}],\"parcoords\":[{\"line\":{\"colorbar\":{\"outlinewidth\":0,\"ticks\":\"\"}},\"type\":\"parcoords\"}],\"pie\":[{\"automargin\":true,\"type\":\"pie\"}],\"scatter\":[{\"marker\":{\"colorbar\":{\"outlinewidth\":0,\"ticks\":\"\"}},\"type\":\"scatter\"}],\"scatter3d\":[{\"line\":{\"colorbar\":{\"outlinewidth\":0,\"ticks\":\"\"}},\"marker\":{\"colorbar\":{\"outlinewidth\":0,\"ticks\":\"\"}},\"type\":\"scatter3d\"}],\"scattercarpet\":[{\"marker\":{\"colorbar\":{\"outlinewidth\":0,\"ticks\":\"\"}},\"type\":\"scattercarpet\"}],\"scattergeo\":[{\"marker\":{\"colorbar\":{\"outlinewidth\":0,\"ticks\":\"\"}},\"type\":\"scattergeo\"}],\"scattergl\":[{\"marker\":{\"colorbar\":{\"outlinewidth\":0,\"ticks\":\"\"}},\"type\":\"scattergl\"}],\"scattermapbox\":[{\"marker\":{\"colorbar\":{\"outlinewidth\":0,\"ticks\":\"\"}},\"type\":\"scattermapbox\"}],\"scatterpolar\":[{\"marker\":{\"colorbar\":{\"outlinewidth\":0,\"ticks\":\"\"}},\"type\":\"scatterpolar\"}],\"scatterpolargl\":[{\"marker\":{\"colorbar\":{\"outlinewidth\":0,\"ticks\":\"\"}},\"type\":\"scatterpolargl\"}],\"scatterternary\":[{\"marker\":{\"colorbar\":{\"outlinewidth\":0,\"ticks\":\"\"}},\"type\":\"scatterternary\"}],\"surface\":[{\"colorbar\":{\"outlinewidth\":0,\"ticks\":\"\"},\"colorscale\":[[0.0,\"#0d0887\"],[0.1111111111111111,\"#46039f\"],[0.2222222222222222,\"#7201a8\"],[0.3333333333333333,\"#9c179e\"],[0.4444444444444444,\"#bd3786\"],[0.5555555555555556,\"#d8576b\"],[0.6666666666666666,\"#ed7953\"],[0.7777777777777778,\"#fb9f3a\"],[0.8888888888888888,\"#fdca26\"],[1.0,\"#f0f921\"]],\"type\":\"surface\"}],\"table\":[{\"cells\":{\"fill\":{\"color\":\"#EBF0F8\"},\"line\":{\"color\":\"white\"}},\"header\":{\"fill\":{\"color\":\"#C8D4E3\"},\"line\":{\"color\":\"white\"}},\"type\":\"table\"}]},\"layout\":{\"annotationdefaults\":{\"arrowcolor\":\"#2a3f5f\",\"arrowhead\":0,\"arrowwidth\":1},\"autotypenumbers\":\"strict\",\"coloraxis\":{\"colorbar\":{\"outlinewidth\":0,\"ticks\":\"\"}},\"colorscale\":{\"diverging\":[[0,\"#8e0152\"],[0.1,\"#c51b7d\"],[0.2,\"#de77ae\"],[0.3,\"#f1b6da\"],[0.4,\"#fde0ef\"],[0.5,\"#f7f7f7\"],[0.6,\"#e6f5d0\"],[0.7,\"#b8e186\"],[0.8,\"#7fbc41\"],[0.9,\"#4d9221\"],[1,\"#276419\"]],\"sequential\":[[0.0,\"#0d0887\"],[0.1111111111111111,\"#46039f\"],[0.2222222222222222,\"#7201a8\"],[0.3333333333333333,\"#9c179e\"],[0.4444444444444444,\"#bd3786\"],[0.5555555555555556,\"#d8576b\"],[0.6666666666666666,\"#ed7953\"],[0.7777777777777778,\"#fb9f3a\"],[0.8888888888888888,\"#fdca26\"],[1.0,\"#f0f921\"]],\"sequentialminus\":[[0.0,\"#0d0887\"],[0.1111111111111111,\"#46039f\"],[0.2222222222222222,\"#7201a8\"],[0.3333333333333333,\"#9c179e\"],[0.4444444444444444,\"#bd3786\"],[0.5555555555555556,\"#d8576b\"],[0.6666666666666666,\"#ed7953\"],[0.7777777777777778,\"#fb9f3a\"],[0.8888888888888888,\"#fdca26\"],[1.0,\"#f0f921\"]]},\"colorway\":[\"#636efa\",\"#EF553B\",\"#00cc96\",\"#ab63fa\",\"#FFA15A\",\"#19d3f3\",\"#FF6692\",\"#B6E880\",\"#FF97FF\",\"#FECB52\"],\"font\":{\"color\":\"#2a3f5f\"},\"geo\":{\"bgcolor\":\"white\",\"lakecolor\":\"white\",\"landcolor\":\"#E5ECF6\",\"showlakes\":true,\"showland\":true,\"subunitcolor\":\"white\"},\"hoverlabel\":{\"align\":\"left\"},\"hovermode\":\"closest\",\"mapbox\":{\"style\":\"light\"},\"paper_bgcolor\":\"white\",\"plot_bgcolor\":\"#E5ECF6\",\"polar\":{\"angularaxis\":{\"gridcolor\":\"white\",\"linecolor\":\"white\",\"ticks\":\"\"},\"bgcolor\":\"#E5ECF6\",\"radialaxis\":{\"gridcolor\":\"white\",\"linecolor\":\"white\",\"ticks\":\"\"}},\"scene\":{\"xaxis\":{\"backgroundcolor\":\"#E5ECF6\",\"gridcolor\":\"white\",\"gridwidth\":2,\"linecolor\":\"white\",\"showbackground\":true,\"ticks\":\"\",\"zerolinecolor\":\"white\"},\"yaxis\":{\"backgroundcolor\":\"#E5ECF6\",\"gridcolor\":\"white\",\"gridwidth\":2,\"linecolor\":\"white\",\"showbackground\":true,\"ticks\":\"\",\"zerolinecolor\":\"white\"},\"zaxis\":{\"backgroundcolor\":\"#E5ECF6\",\"gridcolor\":\"white\",\"gridwidth\":2,\"linecolor\":\"white\",\"showbackground\":true,\"ticks\":\"\",\"zerolinecolor\":\"white\"}},\"shapedefaults\":{\"line\":{\"color\":\"#2a3f5f\"}},\"ternary\":{\"aaxis\":{\"gridcolor\":\"white\",\"linecolor\":\"white\",\"ticks\":\"\"},\"baxis\":{\"gridcolor\":\"white\",\"linecolor\":\"white\",\"ticks\":\"\"},\"bgcolor\":\"#E5ECF6\",\"caxis\":{\"gridcolor\":\"white\",\"linecolor\":\"white\",\"ticks\":\"\"}},\"title\":{\"x\":0.05},\"xaxis\":{\"automargin\":true,\"gridcolor\":\"white\",\"linecolor\":\"white\",\"ticks\":\"\",\"title\":{\"standoff\":15},\"zerolinecolor\":\"white\",\"zerolinewidth\":2},\"yaxis\":{\"automargin\":true,\"gridcolor\":\"white\",\"linecolor\":\"white\",\"ticks\":\"\",\"title\":{\"standoff\":15},\"zerolinecolor\":\"white\",\"zerolinewidth\":2}}},\"xaxis\":{\"anchor\":\"y\",\"domain\":[0.0,1.0],\"title\":{\"text\":\"\\uacf5\\uae09\\uc720\\ud615\"}},\"yaxis\":{\"anchor\":\"x\",\"domain\":[0.0,1.0],\"title\":{\"text\":\"\\ucc28\\uc774\"}},\"legend\":{\"tracegroupgap\":0},\"margin\":{\"t\":60},\"boxmode\":\"group\"},                        {\"responsive\": true}                    ).then(function(){\n",
              "                            \n",
              "var gd = document.getElementById('b4877d8b-06e7-4307-80a3-d2472d5074b7');\n",
              "var x = new MutationObserver(function (mutations, observer) {{\n",
              "        var display = window.getComputedStyle(gd).display;\n",
              "        if (!display || display === 'none') {{\n",
              "            console.log([gd, 'removed!']);\n",
              "            Plotly.purge(gd);\n",
              "            observer.disconnect();\n",
              "        }}\n",
              "}});\n",
              "\n",
              "// Listen for the removal of the full notebook cells\n",
              "var notebookContainer = gd.closest('#notebook-container');\n",
              "if (notebookContainer) {{\n",
              "    x.observe(notebookContainer, {childList: true});\n",
              "}}\n",
              "\n",
              "// Listen for the clearing of the current output cell\n",
              "var outputEl = gd.closest('.output');\n",
              "if (outputEl) {{\n",
              "    x.observe(outputEl, {childList: true});\n",
              "}}\n",
              "\n",
              "                        })                };                            </script>        </div>\n",
              "</body>\n",
              "</html>"
            ]
          },
          "metadata": {}
        }
      ]
    },
    {
      "cell_type": "code",
      "source": [
        "# 공급유형 별로 임대유형, 임대기간, 입주조건 등이 상이함 → 차량 보유 여부를 비롯한 사회경제적지위(SES)를 반영할 것으로 예상\n",
        "# 공급유형 별 특성과 '등록차량수-단지내주차면수' 차이 분포를 고려하여 범주 분류\n",
        "# 국민임대(가장 많은 공급유형)와 임대상가(아파트와 명확한 임대유형 차이)는 별도의 범주로 분류\n",
        "\n",
        "train.loc[train['공급유형'].isin(['공공임대(50년)']),'공급유형'] = '장기공공임대'\n",
        "train.loc[train['공급유형'].isin(['공공임대(5년)', '공공임대(10년)', '공공임대(분납)', '공공분양']),'공급유형'] = '단기공공임대'\n",
        "train.loc[train['공급유형'].isin(['행복주택', '영구임대', '장기전세']), '공급유형'] = '저소득층'\n",
        "\n",
        "test.loc[test['공급유형'].isin(['공공임대(50년)']),'공급유형'] = '장기공공임대'\n",
        "test.loc[test['공급유형'].isin(['공공임대(5년)', '공공임대(10년)', '공공임대(분납)', '공공분양']),'공급유형'] = '단기공공임대'\n",
        "test.loc[test['공급유형'].isin(['행복주택', '영구임대', '장기전세']), '공급유형'] = '저소득층'\n",
        "\n",
        "train['n공급유형'] = train.loc[:,'공급유형'].astype('category').cat.codes\n",
        "test['n공급유형'] = test.loc[:,'공급유형'].astype('category').cat.codes"
      ],
      "metadata": {
        "id": "0iwj3uPMaid-"
      },
      "execution_count": 37,
      "outputs": []
    },
    {
      "cell_type": "code",
      "source": [
        "fig = px.box(train,x='n공급유형',y='등록차량수',hover_name='단지코드')\n",
        "fig.show(renderer=\"colab\")"
      ],
      "metadata": {
        "colab": {
          "base_uri": "https://localhost:8080/",
          "height": 542
        },
        "id": "K03bSjPcamav",
        "outputId": "75094cda-a233-4d3d-ada5-5936a929c264"
      },
      "execution_count": 38,
      "outputs": [
        {
          "output_type": "display_data",
          "data": {
            "text/html": [
              "<html>\n",
              "<head><meta charset=\"utf-8\" /></head>\n",
              "<body>\n",
              "    <div>            <script src=\"https://cdnjs.cloudflare.com/ajax/libs/mathjax/2.7.5/MathJax.js?config=TeX-AMS-MML_SVG\"></script><script type=\"text/javascript\">if (window.MathJax) {MathJax.Hub.Config({SVG: {font: \"STIX-Web\"}});}</script>                <script type=\"text/javascript\">window.PlotlyConfig = {MathJaxConfig: 'local'};</script>\n",
              "        <script src=\"https://cdn.plot.ly/plotly-2.8.3.min.js\"></script>                <div id=\"033d82d9-f0aa-4bf1-9715-c521ef9e3ace\" class=\"plotly-graph-div\" style=\"height:525px; width:100%;\"></div>            <script type=\"text/javascript\">                                    window.PLOTLYENV=window.PLOTLYENV || {};                                    if (document.getElementById(\"033d82d9-f0aa-4bf1-9715-c521ef9e3ace\")) {                    Plotly.newPlot(                        \"033d82d9-f0aa-4bf1-9715-c521ef9e3ace\",                        [{\"alignmentgroup\":\"True\",\"hovertemplate\":\"<b>%{hovertext}</b><br><br>n\\uacf5\\uae09\\uc720\\ud615=%{x}<br>\\ub4f1\\ub85d\\ucc28\\ub7c9\\uc218=%{y}<extra></extra>\",\"hovertext\":[\"C2515\",\"C2515\",\"C2515\",\"C2515\",\"C2515\",\"C2515\",\"C2515\",\"C1407\",\"C1407\",\"C1407\",\"C1407\",\"C1407\",\"C1407\",\"C1407\",\"C1407\",\"C1407\",\"C1407\",\"C1407\",\"C1945\",\"C1945\",\"C1945\",\"C1945\",\"C1945\",\"C1945\",\"C1470\",\"C1470\",\"C1470\",\"C1470\",\"C1898\",\"C1898\",\"C1898\",\"C1898\",\"C1898\",\"C1898\",\"C1244\",\"C1244\",\"C1244\",\"C1244\",\"C1244\",\"C1244\",\"C1244\",\"C1244\",\"C1244\",\"C1244\",\"C1244\",\"C1244\",\"C1244\",\"C1171\",\"C1171\",\"C1171\",\"C1171\",\"C1171\",\"C1171\",\"C1171\",\"C1171\",\"C1171\",\"C1171\",\"C1171\",\"C1171\",\"C2073\",\"C2073\",\"C2073\",\"C2073\",\"C2073\",\"C2073\",\"C2513\",\"C2513\",\"C2513\",\"C1936\",\"C1936\",\"C1936\",\"C1936\",\"C2049\",\"C2049\",\"C2049\",\"C2202\",\"C2202\",\"C2202\",\"C1925\",\"C1925\",\"C1925\",\"C1925\",\"C1925\",\"C1925\",\"C2576\",\"C2576\",\"C1312\",\"C1312\",\"C1312\",\"C1312\",\"C1874\",\"C1874\",\"C1874\",\"C1874\",\"C1874\",\"C1874\",\"C1874\",\"C1874\",\"C1874\",\"C1874\",\"C1874\",\"C1874\",\"C1874\",\"C1874\",\"C1874\",\"C1874\",\"C1874\",\"C1874\",\"C1874\",\"C1874\",\"C1874\",\"C1874\",\"C1874\",\"C1874\",\"C1874\",\"C1874\",\"C1874\",\"C1874\",\"C1874\",\"C1874\",\"C2650\",\"C2650\",\"C2650\",\"C2416\",\"C2416\",\"C2416\",\"C2416\",\"C2416\",\"C2416\",\"C2416\",\"C2416\",\"C2416\",\"C2416\",\"C2013\",\"C2013\",\"C2013\",\"C1424\",\"C1424\",\"C1424\",\"C2100\",\"C2100\",\"C2100\",\"C2100\",\"C2100\",\"C2100\",\"C2621\",\"C2621\",\"C2621\",\"C2621\",\"C2621\",\"C2621\",\"C2621\",\"C2621\",\"C2621\",\"C2621\",\"C2621\",\"C2621\",\"C2621\",\"C2621\",\"C2621\",\"C2621\",\"C2621\",\"C2621\",\"C2520\",\"C2319\",\"C2319\",\"C2319\",\"C2319\",\"C1616\",\"C1616\",\"C1616\",\"C1616\",\"C1616\",\"C1616\",\"C1616\",\"C1616\",\"C1616\",\"C1616\",\"C1616\",\"C1616\",\"C1616\",\"C1616\",\"C1616\",\"C1616\",\"C1616\",\"C1616\",\"C1616\",\"C1616\",\"C1616\",\"C1616\",\"C1704\",\"C1704\",\"C1704\",\"C1704\",\"C1704\",\"C1704\",\"C1704\",\"C1704\",\"C1704\",\"C1704\",\"C1704\",\"C1704\",\"C1704\",\"C1704\",\"C1704\",\"C1704\",\"C1704\",\"C2258\",\"C2258\",\"C2258\",\"C2258\",\"C2258\",\"C2258\",\"C2258\",\"C2258\",\"C2258\",\"C2258\",\"C2258\",\"C2258\",\"C2258\",\"C2258\",\"C2258\",\"C2258\",\"C2258\",\"C2258\",\"C2258\",\"C2258\",\"C1032\",\"C1032\",\"C1032\",\"C1032\",\"C1032\",\"C1032\",\"C2038\",\"C2038\",\"C2038\",\"C2038\",\"C2038\",\"C2038\",\"C2038\",\"C2038\",\"C2038\",\"C2038\",\"C2038\",\"C2038\",\"C2038\",\"C2038\",\"C2038\",\"C2038\",\"C2038\",\"C2038\",\"C2038\",\"C2038\",\"C1859\",\"C1859\",\"C1859\",\"C1859\",\"C1859\",\"C1859\",\"C1859\",\"C1859\",\"C1859\",\"C1859\",\"C1859\",\"C1859\",\"C1859\",\"C1859\",\"C1859\",\"C1859\",\"C1859\",\"C1859\",\"C1859\",\"C1859\",\"C1859\",\"C1859\",\"C1859\",\"C1859\",\"C1859\",\"C1859\",\"C1859\",\"C1859\",\"C1859\",\"C1859\",\"C1859\",\"C1859\",\"C1859\",\"C1859\",\"C1859\",\"C1859\",\"C1859\",\"C1859\",\"C1859\",\"C1859\",\"C1722\",\"C1722\",\"C1722\",\"C1722\",\"C1722\",\"C1722\",\"C1722\",\"C1722\",\"C1722\",\"C1722\",\"C1722\",\"C1850\",\"C1850\",\"C1850\",\"C2190\",\"C2190\",\"C2190\",\"C2190\",\"C2190\",\"C2190\",\"C2190\",\"C2190\",\"C2190\",\"C2190\",\"C2190\",\"C2190\",\"C2190\",\"C2190\",\"C2190\",\"C2190\",\"C2190\",\"C2190\",\"C2190\",\"C2190\",\"C2190\",\"C1476\",\"C1476\",\"C1476\",\"C1476\",\"C1476\",\"C1476\",\"C1476\",\"C1476\",\"C1077\",\"C1077\",\"C1077\",\"C1068\",\"C1068\",\"C1068\",\"C1068\",\"C1068\",\"C1068\",\"C1983\",\"C1983\",\"C1983\",\"C1983\",\"C1983\",\"C1983\",\"C1983\",\"C1983\",\"C1983\",\"C1983\",\"C1983\",\"C1983\",\"C1983\",\"C1983\",\"C1983\",\"C2135\",\"C2135\",\"C2135\",\"C2135\",\"C2135\",\"C2135\",\"C2135\",\"C2135\",\"C2135\",\"C2135\",\"C2135\",\"C2135\",\"C2135\",\"C2135\",\"C2135\",\"C2135\",\"C2135\",\"C2135\",\"C2135\",\"C2135\",\"C2034\",\"C2034\",\"C2034\",\"C2034\",\"C2034\",\"C2034\",\"C2034\",\"C2034\",\"C2034\",\"C2034\",\"C2034\",\"C2034\",\"C2034\",\"C2034\",\"C2034\",\"C2034\",\"C2034\",\"C2034\",\"C2034\",\"C2034\",\"C2034\",\"C2034\",\"C2034\",\"C2034\",\"C2034\",\"C2034\",\"C2034\",\"C2034\",\"C2034\",\"C1109\",\"C1109\",\"C1109\",\"C1109\",\"C1109\",\"C1109\",\"C1109\",\"C1109\",\"C1109\",\"C1109\",\"C1109\",\"C1109\",\"C1109\",\"C1109\",\"C1109\",\"C1109\",\"C1109\",\"C1109\",\"C1109\",\"C1109\",\"C1109\",\"C1109\",\"C1497\",\"C1497\",\"C2289\",\"C2289\",\"C2289\",\"C2289\",\"C2289\",\"C2289\",\"C2289\",\"C2289\",\"C2289\",\"C2289\",\"C2289\",\"C2289\",\"C2289\",\"C2289\",\"C2289\",\"C2289\",\"C2289\",\"C2289\",\"C2289\",\"C2289\",\"C2289\",\"C2289\",\"C2289\",\"C2289\",\"C2597\",\"C2597\",\"C2597\",\"C2597\",\"C2597\",\"C2597\",\"C2597\",\"C2597\",\"C2597\",\"C2597\",\"C2597\",\"C2597\",\"C2597\",\"C2597\",\"C2597\",\"C2597\",\"C2597\",\"C2597\",\"C2597\",\"C2597\",\"C2597\",\"C2597\",\"C2597\",\"C2597\",\"C2597\",\"C2597\",\"C2597\",\"C2597\",\"C2597\",\"C2597\",\"C2597\",\"C2597\",\"C2310\",\"C2310\",\"C2310\",\"C2310\",\"C2310\",\"C2310\",\"C2310\",\"C2310\",\"C2310\",\"C2310\",\"C2310\",\"C2310\",\"C2310\",\"C2310\",\"C2310\",\"C2310\",\"C2310\",\"C2310\",\"C2310\",\"C2310\",\"C2310\",\"C2310\",\"C2310\",\"C1672\",\"C1672\",\"C2132\",\"C2132\",\"C2132\",\"C2132\",\"C2132\",\"C2132\",\"C2132\",\"C2132\",\"C2132\",\"C2132\",\"C2132\",\"C2132\",\"C2132\",\"C2132\",\"C2132\",\"C2132\",\"C2132\",\"C2132\",\"C2132\",\"C2132\",\"C2132\",\"C2132\",\"C2132\",\"C2132\",\"C2132\",\"C2132\",\"C2132\",\"C2132\",\"C2132\",\"C2132\",\"C2132\",\"C2132\",\"C2132\",\"C2132\",\"C2132\",\"C2132\",\"C2132\",\"C2132\",\"C2132\",\"C2132\",\"C2132\",\"C2132\",\"C2132\",\"C2132\",\"C2132\",\"C2132\",\"C2132\",\"C1439\",\"C1439\",\"C1439\",\"C1439\",\"C1439\",\"C1439\",\"C1439\",\"C1439\",\"C1439\",\"C1439\",\"C1439\",\"C1439\",\"C1439\",\"C1439\",\"C1439\",\"C1439\",\"C1439\",\"C1439\",\"C1439\",\"C1439\",\"C1439\",\"C1439\",\"C1439\",\"C1439\",\"C1439\",\"C1439\",\"C1439\",\"C1439\",\"C1439\",\"C1439\",\"C1439\",\"C1439\",\"C1439\",\"C1439\",\"C1439\",\"C1439\",\"C1439\",\"C1439\",\"C1439\",\"C1439\",\"C1439\",\"C1439\",\"C1439\",\"C1439\",\"C1439\",\"C1439\",\"C1439\",\"C1439\",\"C1613\",\"C1613\",\"C1613\",\"C2216\",\"C2216\",\"C1899\",\"C1899\",\"C1899\",\"C1899\",\"C1899\",\"C1899\",\"C1056\",\"C1056\",\"C1056\",\"C1056\",\"C1056\",\"C1056\",\"C1056\",\"C1056\",\"C1056\",\"C1056\",\"C1056\",\"C1056\",\"C2644\",\"C2644\",\"C2644\",\"C2644\",\"C2644\",\"C2644\",\"C2644\",\"C1206\",\"C1206\",\"C1206\",\"C1206\",\"C1206\",\"C1206\",\"C1206\",\"C1206\",\"C1206\",\"C1206\",\"C1206\",\"C1206\",\"C2481\",\"C2481\",\"C2481\",\"C1718\",\"C1718\",\"C1655\",\"C1655\",\"C1655\",\"C1655\",\"C1430\",\"C1430\",\"C1430\",\"C1430\",\"C1775\",\"C1775\",\"C1775\",\"C1775\",\"C1775\",\"C1775\",\"C1775\",\"C1775\",\"C1775\",\"C1775\",\"C1775\",\"C1775\",\"C1775\",\"C1775\",\"C1775\",\"C1775\",\"C1775\",\"C1519\",\"C1519\",\"C2221\",\"C2221\",\"C2221\",\"C2221\",\"C2221\",\"C2221\",\"C2221\",\"C2221\",\"C1790\",\"C1790\",\"C1790\",\"C1790\",\"C1790\",\"C1790\",\"C1790\",\"C1790\",\"C1790\",\"C1790\",\"C1790\",\"C1790\",\"C1790\",\"C1790\",\"C1790\",\"C1790\",\"C1790\",\"C1790\",\"C1790\",\"C1790\",\"C1790\",\"C1790\",\"C1790\",\"C1790\",\"C1790\",\"C1790\",\"C1790\",\"C1790\",\"C1790\",\"C1790\",\"C1790\",\"C1790\",\"C1790\",\"C2109\",\"C2109\",\"C2109\",\"C2109\",\"C2109\",\"C2109\",\"C2109\",\"C2109\",\"C2109\",\"C2109\",\"C2109\",\"C2109\",\"C2109\",\"C2109\",\"C2109\",\"C2109\",\"C2109\",\"C1698\",\"C1698\",\"C1698\",\"C1698\",\"C1698\",\"C1698\",\"C1698\",\"C1698\",\"C1866\",\"C1866\",\"C1866\",\"C1866\",\"C1005\",\"C1005\",\"C1005\",\"C1004\",\"C1004\",\"C1004\",\"C1004\",\"C1004\",\"C1004\",\"C1004\",\"C1004\",\"C1004\",\"C1004\",\"C1004\",\"C1004\",\"C1004\",\"C1004\",\"C1004\",\"C1004\",\"C1004\",\"C1004\",\"C1004\",\"C1875\",\"C1875\",\"C1875\",\"C1875\",\"C1875\",\"C1875\",\"C1875\",\"C1875\",\"C1875\",\"C1875\",\"C1875\",\"C1875\",\"C1875\",\"C1875\",\"C1875\",\"C1875\",\"C1875\",\"C1875\",\"C1875\",\"C1875\",\"C1875\",\"C1875\",\"C2156\",\"C2156\",\"C2156\",\"C2212\",\"C2212\",\"C2212\",\"C2212\",\"C2212\",\"C2212\",\"C2212\",\"C2212\",\"C2212\",\"C2212\",\"C2212\",\"C2212\",\"C2212\",\"C2212\",\"C2401\",\"C2401\",\"C2401\",\"C2571\",\"C2571\",\"C2571\",\"C2571\",\"C2571\",\"C2571\",\"C2571\",\"C2571\",\"C2571\",\"C2571\",\"C2571\",\"C2571\",\"C2571\",\"C2571\",\"C1175\",\"C1175\",\"C1175\",\"C1833\",\"C1833\",\"C1833\",\"C1833\",\"C1833\",\"C1833\",\"C1833\",\"C2445\",\"C2445\",\"C2445\",\"C2445\",\"C2445\",\"C2445\",\"C1885\",\"C1885\",\"C1885\",\"C1885\",\"C1885\",\"C1885\",\"C1885\",\"C1885\",\"C2368\",\"C2368\",\"C2368\",\"C2368\",\"C2368\",\"C2368\",\"C2368\",\"C2368\",\"C2016\",\"C2016\",\"C2016\",\"C2016\",\"C2371\",\"C2371\",\"C2371\",\"C2371\",\"C2371\",\"C2371\",\"C2371\",\"C2371\",\"C2536\",\"C2536\",\"C2536\",\"C2538\",\"C2538\",\"C2538\",\"C2538\",\"C2538\",\"C2538\",\"C2538\",\"C2538\",\"C2538\",\"C2538\",\"C2538\",\"C2538\",\"C2538\",\"C2538\",\"C2538\",\"C2538\",\"C2538\",\"C2538\",\"C2538\",\"C1014\",\"C1014\",\"C1014\",\"C1014\",\"C1014\",\"C1014\",\"C1014\",\"C1592\",\"C1592\",\"C1592\",\"C1592\",\"C1592\",\"C1592\",\"C1592\",\"C1867\",\"C1867\",\"C1867\",\"C1867\",\"C1867\",\"C1867\",\"C2326\",\"C2326\",\"C2326\",\"C2326\",\"C2326\",\"C1015\",\"C1015\",\"C1015\",\"C1015\",\"C1015\",\"C1015\",\"C1015\",\"C1015\",\"C1620\",\"C1620\",\"C1620\",\"C1620\",\"C1620\",\"C1049\",\"C1049\",\"C1049\",\"C1049\",\"C1049\",\"C2000\",\"C2000\",\"C2000\",\"C2000\",\"C2000\",\"C2000\",\"C2000\",\"C2097\",\"C2097\",\"C2097\",\"C2097\",\"C2097\",\"C2097\",\"C2097\",\"C1668\",\"C1668\",\"C1668\",\"C1668\",\"C1668\",\"C1668\",\"C1668\",\"C1689\",\"C1689\",\"C1689\",\"C1689\",\"C1689\",\"C1689\",\"C1689\",\"C1689\",\"C1689\",\"C1689\",\"C1234\",\"C1234\",\"C2514\",\"C2514\",\"C2514\",\"C2514\",\"C2514\",\"C2514\",\"C1368\",\"C1368\",\"C1368\",\"C1368\",\"C1057\",\"C1057\",\"C1057\",\"C1057\",\"C2336\",\"C2336\",\"C2336\",\"C2336\",\"C2336\",\"C2336\",\"C2336\",\"C1026\",\"C1026\",\"C2256\",\"C2256\",\"C2256\",\"C2256\",\"C2256\",\"C1900\",\"C1900\",\"C1900\",\"C1900\",\"C1900\",\"C1900\",\"C1900\",\"C1900\",\"C2666\",\"C2666\",\"C2666\",\"C2666\",\"C2666\",\"C2666\",\"C2361\",\"C2361\",\"C2361\",\"C2361\",\"C2361\",\"C2361\",\"C2361\",\"C2361\",\"C2361\",\"C2361\",\"C2361\",\"C1642\",\"C1642\",\"C1642\",\"C1642\",\"C1642\",\"C1642\",\"C1642\",\"C1013\",\"C1013\",\"C1013\",\"C1013\",\"C1013\",\"C2232\",\"C2232\",\"C2232\",\"C2232\",\"C1973\",\"C1973\",\"C1973\",\"C2458\",\"C2458\",\"C2458\",\"C2458\",\"C2458\",\"C2458\",\"C2458\",\"C2574\",\"C2574\",\"C2574\",\"C2574\",\"C2574\",\"C2574\",\"C2574\",\"C2574\",\"C2574\",\"C2133\",\"C2133\",\"C2133\",\"C2133\",\"C2133\",\"C2133\",\"C2096\",\"C2096\",\"C2096\",\"C2096\",\"C2096\",\"C2096\",\"C2096\",\"C2010\",\"C2010\",\"C2010\",\"C2010\",\"C2010\",\"C1879\",\"C1879\",\"C1879\",\"C1879\",\"C1879\",\"C1131\",\"C1131\",\"C1131\",\"C1131\",\"C1468\",\"C1468\",\"C1468\",\"C1468\",\"C1468\",\"C1213\",\"C1213\",\"C1213\",\"C1213\",\"C1213\",\"C1213\",\"C1173\",\"C1173\",\"C1173\",\"C1173\",\"C1173\",\"C1173\",\"C1173\",\"C1173\",\"C1173\",\"C2492\",\"C2492\",\"C2492\",\"C2492\",\"C2492\",\"C2032\",\"C2032\",\"C2032\",\"C2032\",\"C2032\",\"C2032\",\"C2032\",\"C2032\",\"C2094\",\"C2094\",\"C2094\",\"C2094\",\"C2094\",\"C2094\",\"C2094\",\"C1880\",\"C1880\",\"C1880\",\"C1880\",\"C2089\",\"C2089\",\"C2089\",\"C2089\",\"C2089\",\"C2089\",\"C1744\",\"C1744\",\"C1744\",\"C1744\",\"C1744\",\"C2046\",\"C2046\",\"C2046\",\"C2046\",\"C2046\",\"C2046\",\"C2071\",\"C2071\",\"C2071\",\"C2071\",\"C2071\",\"C2071\",\"C2071\",\"C2071\",\"C2071\",\"C2635\",\"C2635\",\"C2635\",\"C2635\",\"C2635\",\"C2390\",\"C2390\",\"C2390\",\"C2390\",\"C2561\",\"C2561\",\"C2561\",\"C2561\",\"C1663\",\"C1663\",\"C1663\",\"C1663\",\"C2490\",\"C2490\",\"C2066\",\"C2066\",\"C2066\",\"C2066\",\"C2066\",\"C2066\",\"C2066\",\"C2066\",\"C2066\",\"C2066\",\"C1585\",\"C1585\",\"C1585\",\"C1585\",\"C2276\",\"C2276\",\"C2276\",\"C1155\",\"C1155\",\"C1155\",\"C1693\",\"C1693\",\"C1693\",\"C1693\",\"C1889\",\"C1889\",\"C1889\",\"C1889\",\"C2518\",\"C2518\",\"C1962\",\"C1962\",\"C1962\",\"C1962\",\"C1666\",\"C1666\",\"C1666\",\"C1666\",\"C1666\",\"C1666\",\"C1666\",\"C1666\",\"C1666\",\"C1537\",\"C1537\",\"C1537\",\"C1537\",\"C1329\",\"C1329\",\"C1329\",\"C1329\",\"C1329\",\"C1329\",\"C1329\",\"C1329\",\"C1762\",\"C1762\",\"C1762\",\"C2008\",\"C2008\",\"C2008\",\"C2008\",\"C2008\",\"C2008\",\"C2008\",\"C2008\",\"C2008\",\"C2008\",\"C1319\",\"C1319\",\"C1319\",\"C1319\",\"C1319\",\"C1319\",\"C1141\",\"C1141\",\"C1141\",\"C1141\",\"C1141\",\"C1141\",\"C2340\",\"C1929\",\"C1929\",\"C1929\",\"C1929\",\"C1929\",\"C1929\",\"C1681\",\"C1681\",\"C1681\",\"C1681\",\"C1681\",\"C1681\",\"C1681\",\"C1681\",\"C1184\",\"C1184\",\"C1184\",\"C1184\",\"C1184\",\"C1184\",\"C1184\",\"C2383\",\"C2383\",\"C2383\",\"C2383\",\"C2383\",\"C2383\",\"C2383\",\"C2383\",\"C2383\",\"C1579\",\"C1579\",\"C1579\",\"C1579\",\"C1579\",\"C1579\",\"C1579\",\"C1579\",\"C1579\",\"C2173\",\"C2173\",\"C2173\",\"C2173\",\"C2173\",\"C2173\",\"C2173\",\"C2173\",\"C1911\",\"C1911\",\"C1911\",\"C1911\",\"C1911\",\"C1911\",\"C1638\",\"C1638\",\"C1638\",\"C1638\",\"C1638\",\"C2412\",\"C2412\",\"C2412\",\"C2412\",\"C2412\",\"C1871\",\"C1871\",\"C1871\",\"C1871\",\"C1871\",\"C1871\",\"C1309\",\"C1309\",\"C1309\",\"C1309\",\"C1309\",\"C1309\",\"C1309\",\"C1527\",\"C1527\",\"C1527\",\"C1527\",\"C1527\",\"C2208\",\"C2208\",\"C2208\",\"C2208\",\"C2208\",\"C2208\",\"C2208\",\"C2208\",\"C1940\",\"C1940\",\"C1940\",\"C1940\",\"C1940\",\"C1940\",\"C2596\",\"C2596\",\"C2596\",\"C2596\",\"C2596\",\"C2596\",\"C2596\",\"C2227\",\"C2227\",\"C2227\",\"C2227\",\"C2227\",\"C2227\",\"C2227\",\"C2563\",\"C2563\",\"C2563\",\"C2563\",\"C2358\",\"C2358\",\"C2358\",\"C2358\",\"C2358\",\"C2358\",\"C1492\",\"C1492\",\"C1492\",\"C1492\",\"C1492\",\"C1492\",\"C1492\",\"C1601\",\"C1601\",\"C1601\",\"C1601\",\"C1601\",\"C1601\",\"C1687\",\"C1687\",\"C1687\",\"C1687\",\"C1687\",\"C1687\",\"C1687\",\"C1687\",\"C1687\",\"C1687\",\"C1687\",\"C1236\",\"C1236\",\"C1236\",\"C1236\",\"C1236\",\"C1236\",\"C1236\",\"C1236\",\"C1236\",\"C1236\",\"C1236\",\"C1236\",\"C1487\",\"C1487\",\"C1379\",\"C1379\",\"C1379\",\"C1379\",\"C1386\",\"C1386\",\"C1386\",\"C1386\",\"C1386\",\"C1386\",\"C1386\",\"C1386\",\"C1386\",\"C1386\",\"C1386\",\"C1386\",\"C1386\",\"C1656\",\"C1656\",\"C1656\",\"C1656\",\"C1656\",\"C1656\",\"C1656\",\"C1656\",\"C2526\",\"C2526\",\"C2526\",\"C2526\",\"C2526\",\"C1022\",\"C1022\",\"C1022\",\"C1022\",\"C1896\",\"C1896\",\"C1896\",\"C1896\",\"C1896\",\"C1896\",\"C1269\",\"C1269\",\"C1269\",\"C1269\",\"C1916\",\"C1916\",\"C1916\",\"C1916\",\"C2070\",\"C2070\",\"C2070\",\"C2070\",\"C2070\",\"C1967\",\"C1967\",\"C1967\",\"C1967\",\"C2021\",\"C2021\",\"C2021\",\"C2021\",\"C2021\",\"C2021\",\"C2021\",\"C2021\",\"C2021\",\"C2021\",\"C2021\",\"C2021\",\"C1143\",\"C1143\",\"C1143\",\"C2188\",\"C2651\",\"C2651\",\"C1036\",\"C1036\",\"C1036\",\"C1036\",\"C1036\",\"C1036\",\"C1036\",\"C2657\",\"C2657\",\"C2657\",\"C2657\",\"C2657\",\"C2657\",\"C2657\",\"C2527\",\"C2527\",\"C2527\",\"C2527\",\"C2527\",\"C2262\",\"C2262\",\"C2262\",\"C2262\",\"C2262\",\"C2262\",\"C2262\",\"C2262\",\"C1084\",\"C1084\",\"C1084\",\"C1084\",\"C1084\",\"C1084\",\"C2530\",\"C2530\",\"C2530\",\"C2530\",\"C2530\",\"C2530\",\"C1046\",\"C1046\",\"C1046\",\"C1761\",\"C1761\",\"C1761\",\"C1761\",\"C1761\",\"C1761\",\"C1102\",\"C1102\",\"C1102\",\"C1102\",\"C1102\",\"C1102\",\"C2420\",\"C2420\",\"C2420\",\"C2420\",\"C2420\",\"C2420\",\"C2420\",\"C1122\",\"C1122\",\"C1122\",\"C1122\",\"C1122\",\"C1122\",\"C1122\",\"C2042\",\"C2042\",\"C2042\",\"C2042\",\"C2042\",\"C1375\",\"C1375\",\"C1375\",\"C1375\",\"C1375\",\"C1375\",\"C1375\",\"C1410\",\"C1410\",\"C1410\",\"C1641\",\"C1641\",\"C1641\",\"C1641\",\"C1706\",\"C1706\",\"C1706\",\"C1706\",\"C1706\",\"C1307\",\"C1307\",\"C1307\",\"C1307\",\"C1307\",\"C1307\",\"C1307\",\"C1307\",\"C2601\",\"C2601\",\"C2601\",\"C2601\",\"C2601\",\"C1085\",\"C1085\",\"C1085\",\"C1085\",\"C2385\",\"C2385\",\"C2385\",\"C2385\",\"C1059\",\"C1059\",\"C1059\",\"C1059\",\"C1059\",\"C1059\",\"C2162\",\"C2162\",\"C2162\",\"C1819\",\"C1819\",\"C1819\",\"C2325\",\"C2325\",\"C2325\",\"C2325\",\"C2325\",\"C2394\",\"C2394\",\"C2394\",\"C2394\",\"C2394\",\"C2394\",\"C2394\",\"C2394\",\"C1133\",\"C1133\",\"C1133\",\"C1133\",\"C1133\",\"C1133\",\"C1281\",\"C1281\",\"C1281\",\"C1281\",\"C1281\",\"C1194\",\"C1194\",\"C1194\",\"C1194\",\"C1194\",\"C2308\",\"C2308\",\"C2308\",\"C2036\",\"C2036\",\"C2036\",\"C2036\",\"C1394\",\"C1394\",\"C1394\",\"C1394\",\"C1180\",\"C1180\",\"C1180\",\"C2503\",\"C2503\",\"C2503\",\"C2503\",\"C2503\",\"C2503\",\"C1907\",\"C1907\",\"C1907\",\"C1907\",\"C1907\",\"C1907\",\"C2181\",\"C2181\",\"C2181\",\"C2181\",\"C2181\",\"C2181\",\"C1768\",\"C1768\",\"C1783\",\"C1783\",\"C1783\",\"C1783\",\"C1783\",\"C2192\",\"C2192\",\"C2192\",\"C2192\",\"C2192\",\"C2346\",\"C2346\",\"C2346\",\"C2346\",\"C2346\",\"C2680\",\"C2680\",\"C2680\",\"C2631\",\"C2631\",\"C2631\",\"C2631\",\"C2631\",\"C2631\",\"C2631\",\"C2141\",\"C2141\",\"C2141\",\"C2141\",\"C1569\",\"C1569\",\"C1569\",\"C1569\",\"C1569\",\"C1569\",\"C1569\",\"C2099\",\"C2099\",\"C2099\",\"C2099\",\"C2099\",\"C2287\",\"C2287\",\"C2287\",\"C2287\",\"C2287\",\"C2287\",\"C2287\",\"C2055\",\"C2055\",\"C2055\",\"C2055\",\"C2055\",\"C2055\",\"C1428\",\"C1428\",\"C1428\",\"C1428\",\"C1428\",\"C1428\",\"C1428\",\"C2522\",\"C2522\",\"C2522\",\"C2522\",\"C2522\",\"C2522\",\"C2522\",\"C2560\",\"C2560\",\"C2068\",\"C2068\",\"C2603\",\"C2603\",\"C2603\",\"C2603\",\"C2603\",\"C2603\",\"C1965\",\"C1965\",\"C1965\",\"C1965\",\"C1965\",\"C1660\",\"C1660\",\"C1660\",\"C1660\",\"C1660\",\"C1660\",\"C1660\",\"C1660\",\"C2378\",\"C2378\",\"C2378\",\"C2378\",\"C1268\",\"C1268\",\"C1268\",\"C1268\",\"C1268\",\"C1268\",\"C1994\",\"C1994\",\"C1994\",\"C1994\",\"C1837\",\"C1837\",\"C1837\",\"C1837\",\"C1837\",\"C1837\",\"C1000\",\"C1000\",\"C1000\",\"C1000\",\"C1000\",\"C1000\",\"C1000\",\"C1465\",\"C1465\",\"C1465\",\"C1465\",\"C1465\",\"C1465\",\"C1448\",\"C1448\",\"C1448\",\"C1448\",\"C1448\",\"C1448\",\"C1448\",\"C1448\",\"C1448\",\"C1516\",\"C1516\",\"C1516\",\"C1516\",\"C1516\",\"C2670\",\"C2670\",\"C2670\",\"C2670\",\"C2670\",\"C1365\",\"C1365\",\"C1365\",\"C1365\",\"C1365\",\"C1365\",\"C1365\",\"C1365\",\"C1365\",\"C1365\",\"C1177\",\"C1177\",\"C1177\",\"C1177\",\"C1177\",\"C1177\",\"C1177\",\"C1177\",\"C1177\",\"C1177\",\"C1177\",\"C1177\",\"C1177\",\"C1177\",\"C1177\",\"C1177\",\"C1360\",\"C1360\",\"C1360\",\"C1360\",\"C1360\",\"C1360\",\"C2488\",\"C2488\",\"C2488\",\"C2488\",\"C2488\",\"C2488\",\"C2488\",\"C2488\",\"C1406\",\"C1406\",\"C1406\",\"C1406\",\"C1406\",\"C1406\",\"C1406\",\"C1406\",\"C1406\",\"C1406\",\"C1406\",\"C1406\",\"C1406\",\"C1406\",\"C1566\",\"C1566\",\"C1566\",\"C1566\",\"C1566\",\"C1566\",\"C1227\",\"C1227\",\"C1227\",\"C1227\",\"C1227\",\"C1227\",\"C1227\",\"C1227\",\"C1227\",\"C2460\",\"C2460\",\"C2460\",\"C2460\",\"C2460\",\"C2460\",\"C2486\",\"C2486\",\"C2486\",\"C2486\",\"C2486\",\"C2486\",\"C2486\",\"C2486\",\"C2486\",\"C2486\",\"C2106\",\"C2106\",\"C2106\",\"C2106\",\"C2106\",\"C1572\",\"C1572\",\"C1572\",\"C1572\",\"C1572\",\"C1572\",\"C1773\",\"C1773\",\"C1773\",\"C1773\",\"C1773\",\"C1773\",\"C1773\",\"C1773\",\"C1773\",\"C1677\",\"C1677\",\"C1677\",\"C1677\",\"C1677\",\"C1677\",\"C1677\",\"C1677\",\"C1677\",\"C1677\",\"C1677\",\"C1823\",\"C1823\",\"C1823\",\"C1823\",\"C1823\",\"C1823\",\"C1344\",\"C1344\",\"C1344\",\"C1344\",\"C1344\",\"C1344\",\"C2692\",\"C2692\",\"C2692\",\"C2692\",\"C2692\",\"C2505\",\"C2505\",\"C2505\",\"C2505\",\"C2505\",\"C2587\",\"C2587\",\"C2587\",\"C2587\",\"C2587\",\"C2587\",\"C2587\",\"C2127\",\"C2127\",\"C2127\",\"C2127\",\"C2127\",\"C2127\",\"C1316\",\"C1316\",\"C1674\",\"C1674\",\"C1674\",\"C1674\",\"C1674\",\"C1674\",\"C1713\",\"C1713\",\"C1713\",\"C1713\",\"C1713\",\"C1713\",\"C1845\",\"C1845\",\"C1845\",\"C1845\",\"C2082\",\"C2082\",\"C2082\",\"C2082\",\"C2082\",\"C2082\",\"C1328\",\"C1328\",\"C1328\",\"C1328\",\"C1328\",\"C1328\",\"C1328\",\"C1328\",\"C1328\",\"C1328\",\"C1328\",\"C2357\",\"C2357\",\"C2357\",\"C2357\",\"C2357\",\"C2357\",\"C2565\",\"C2565\",\"C2565\",\"C2565\",\"C2565\",\"C2565\",\"C2565\",\"C2565\",\"C2565\",\"C2565\",\"C2565\",\"C2565\",\"C1804\",\"C1804\",\"C1804\",\"C1804\",\"C2255\",\"C2255\",\"C2255\",\"C2255\",\"C2255\",\"C2255\",\"C1343\",\"C1343\",\"C1343\",\"C1343\",\"C1343\",\"C1343\",\"C1343\",\"C1343\",\"C1343\",\"C1987\",\"C1987\",\"C1987\",\"C1987\",\"C1987\",\"C1987\",\"C2479\",\"C2479\",\"C2479\",\"C2479\",\"C2479\",\"C2479\",\"C2479\",\"C2352\",\"C2352\",\"C2352\",\"C2352\",\"C2352\",\"C2352\",\"C2352\",\"C2352\",\"C2352\",\"C2352\",\"C1310\",\"C1310\",\"C1310\",\"C1310\",\"C1310\",\"C1310\",\"C1310\",\"C1310\",\"C1310\",\"C1738\",\"C1738\",\"C1738\",\"C1738\",\"C1039\",\"C1039\",\"C1039\",\"C1039\",\"C1039\",\"C1039\",\"C1039\",\"C1039\",\"C1039\",\"C1039\",\"C1039\",\"C1863\",\"C1863\",\"C1863\",\"C1863\",\"C1863\",\"C1863\",\"C1863\",\"C1863\",\"C1426\",\"C1426\",\"C1426\",\"C1426\",\"C1426\",\"C2659\",\"C2659\",\"C2659\",\"C2659\",\"C2659\",\"C2659\",\"C2659\",\"C2659\",\"C2659\",\"C2659\",\"C2659\",\"C2489\",\"C2489\",\"C2489\",\"C2211\",\"C2211\",\"C2211\",\"C2314\",\"C2314\",\"C2314\",\"C2314\",\"C2314\",\"C2314\",\"C2314\",\"C1861\",\"C1861\",\"C1861\",\"C1861\",\"C2389\",\"C2389\",\"C2389\",\"C2389\",\"C2389\",\"C2389\",\"C1490\",\"C1490\",\"C1490\",\"C1490\",\"C1024\",\"C1024\",\"C1024\",\"C1024\",\"C1024\",\"C1024\",\"C1024\",\"C1024\",\"C1024\",\"C1024\",\"C1788\",\"C1788\",\"C1740\",\"C1740\",\"C1740\",\"C1740\",\"C2620\",\"C2620\",\"C2620\",\"C2620\",\"C2620\",\"C1286\",\"C1286\",\"C1286\",\"C1089\",\"C1089\",\"C1089\",\"C1089\",\"C1089\",\"C1089\",\"C2237\",\"C2237\",\"C2237\",\"C1341\",\"C1341\",\"C1341\",\"C1341\",\"C1341\",\"C1341\",\"C1341\",\"C1341\",\"C1341\",\"C1338\",\"C1338\",\"C1338\",\"C1338\",\"C1338\",\"C1338\",\"C1338\",\"C1338\",\"C1338\",\"C1338\",\"C2405\",\"C2405\",\"C2405\",\"C1969\",\"C1969\",\"C1969\",\"C1969\",\"C1969\",\"C1969\",\"C2274\",\"C2274\",\"C2274\",\"C2274\",\"C2274\",\"C2274\",\"C2274\",\"C1699\",\"C1699\",\"C1699\",\"C1699\",\"C1699\",\"C1699\",\"C1699\",\"C2251\",\"C2251\",\"C2251\",\"C2251\",\"C2251\",\"C2251\",\"C2251\",\"C2251\",\"C2251\",\"C2251\",\"C2251\",\"C1340\",\"C1340\",\"C1340\",\"C1340\",\"C1340\",\"C2373\",\"C2373\",\"C2373\",\"C2373\",\"C2373\",\"C2373\",\"C1455\",\"C1455\",\"C1455\",\"C2137\",\"C2137\",\"C2137\",\"C1985\",\"C1985\",\"C1985\",\"C1985\",\"C2583\",\"C2583\",\"C2583\",\"C2583\",\"C2583\",\"C2583\",\"C2583\",\"C2583\",\"C2583\",\"C2583\",\"C2583\",\"C2663\",\"C2663\",\"C2663\",\"C2663\",\"C2663\",\"C2663\",\"C2450\",\"C2450\",\"C2450\",\"C2450\",\"C2450\",\"C2450\",\"C2329\",\"C2329\",\"C2329\",\"C2329\",\"C1834\",\"C1834\",\"C1834\",\"C1848\",\"C1848\",\"C1848\",\"C1848\",\"C1848\",\"C1743\",\"C1743\",\"C1743\",\"C1743\",\"C1743\",\"C1743\",\"C1743\",\"C1350\",\"C1350\",\"C1350\",\"C1350\",\"C1350\",\"C1350\",\"C1350\",\"C1350\",\"C1350\",\"C1350\",\"C1350\",\"C1350\",\"C1350\",\"C1402\",\"C1402\",\"C1402\",\"C1402\",\"C1402\",\"C1103\",\"C1103\",\"C1103\",\"C1103\",\"C1129\",\"C1129\",\"C1129\",\"C1129\",\"C1129\",\"C1129\",\"C1129\",\"C1129\",\"C1027\",\"C1027\",\"C1027\",\"C1027\",\"C1027\",\"C2377\",\"C2377\",\"C2377\",\"C2377\",\"C2377\",\"C2377\",\"C2661\",\"C2661\",\"C2661\",\"C1263\",\"C1263\",\"C1263\",\"C1263\",\"C1263\",\"C1136\",\"C1136\",\"C1136\",\"C1136\",\"C2605\",\"C2605\",\"C2605\",\"C2393\",\"C2393\",\"C2393\",\"C2393\",\"C2393\",\"C2393\",\"C2393\",\"C2393\",\"C2393\",\"C2393\",\"C2393\",\"C2393\",\"C2393\",\"C1673\",\"C1673\",\"C1673\",\"C1673\",\"C1673\",\"C1017\",\"C1017\",\"C1017\",\"C2539\",\"C2539\",\"C2539\",\"C2539\",\"C2539\",\"C2539\",\"C1933\",\"C1933\",\"C1933\",\"C1933\",\"C1933\",\"C1933\",\"C2316\",\"C2316\",\"C2316\",\"C2316\",\"C2414\",\"C2414\",\"C2414\",\"C2414\",\"C1301\",\"C1301\",\"C1301\",\"C1700\",\"C1700\",\"C1700\",\"C1636\",\"C1636\",\"C1636\",\"C1636\",\"C2612\",\"C2612\",\"C2612\",\"C2612\",\"C1757\",\"C1757\",\"C1757\",\"C1757\",\"C2507\",\"C2507\",\"C2507\",\"C2507\",\"C2507\",\"C2507\",\"C2507\",\"C2507\",\"C2507\",\"C2507\",\"C2507\",\"C2507\",\"C2507\",\"C2507\",\"C2507\",\"C2507\",\"C2507\",\"C2507\",\"C1163\",\"C1163\",\"C1163\",\"C2627\",\"C2627\",\"C2627\",\"C2627\",\"C2627\",\"C2627\",\"C2040\",\"C2040\",\"C2609\",\"C2609\",\"C2609\",\"C2001\",\"C2001\",\"C2001\",\"C2001\",\"C2001\",\"C1065\",\"C1065\",\"C1065\",\"C1363\",\"C1363\",\"C1363\",\"C1363\",\"C1363\",\"C1363\",\"C1363\",\"C1363\",\"C1363\",\"C1363\",\"C1363\",\"C1363\",\"C1363\",\"C1363\",\"C2579\",\"C2579\",\"C2579\",\"C2579\",\"C2579\",\"C2579\",\"C1048\",\"C1048\",\"C1048\",\"C1210\",\"C1210\",\"C1210\",\"C1210\",\"C1210\",\"C1320\",\"C1320\",\"C1320\",\"C1320\",\"C1941\",\"C1941\",\"C1941\",\"C1941\",\"C1326\",\"C1326\",\"C1326\",\"C1326\",\"C1326\",\"C1685\",\"C1685\",\"C1685\",\"C1685\",\"C1685\",\"C1685\",\"C1685\",\"C1685\",\"C1685\",\"C2618\",\"C2618\",\"C2618\",\"C2618\",\"C2618\",\"C1451\",\"C1451\",\"C1451\",\"C1451\",\"C1451\",\"C2143\",\"C2143\",\"C2143\",\"C2143\",\"C1968\",\"C1968\",\"C1968\",\"C1968\",\"C1968\",\"C2470\",\"C2470\",\"C2470\",\"C1258\",\"C1258\",\"C1258\",\"C1258\",\"C1258\",\"C1258\",\"C2453\",\"C2453\",\"C2453\",\"C2453\",\"C2453\",\"C2453\",\"C2453\",\"C1659\",\"C1659\",\"C1659\",\"C1659\",\"C1659\",\"C1659\",\"C1659\",\"C1659\",\"C1659\",\"C1659\",\"C1659\",\"C1659\",\"C1659\",\"C1724\",\"C1724\",\"C1724\",\"C1724\",\"C1724\",\"C1724\",\"C1724\",\"C1724\",\"C1724\",\"C1724\",\"C1802\",\"C1802\",\"C1802\",\"C1802\",\"C1802\",\"C1802\",\"C1802\",\"C1802\",\"C1802\",\"C1802\",\"C1802\",\"C1939\",\"C1939\",\"C1939\",\"C1939\",\"C1939\",\"C1939\",\"C1939\",\"C1939\",\"C1939\",\"C1284\",\"C1284\",\"C2595\",\"C2595\",\"C2595\",\"C2595\",\"C2595\",\"C2351\",\"C2351\",\"C2351\",\"C2351\",\"C2351\",\"C2506\",\"C2506\",\"C2506\",\"C2506\",\"C2506\",\"C2506\",\"C2506\",\"C2506\",\"C2506\",\"C2506\",\"C2506\",\"C2506\",\"C2506\",\"C2506\",\"C2506\",\"C2506\",\"C2506\",\"C1697\",\"C1697\",\"C1697\",\"C1697\",\"C1697\",\"C1697\",\"C2259\",\"C2259\",\"C2259\",\"C2259\",\"C2259\",\"C2259\",\"C1786\",\"C1786\",\"C1786\",\"C1786\",\"C1786\",\"C1357\",\"C1357\",\"C1357\",\"C1357\",\"C2570\",\"C2570\",\"C2570\",\"C2570\",\"C2570\",\"C2570\",\"C2570\",\"C2570\",\"C1652\",\"C1652\",\"C1652\",\"C1652\",\"C1652\",\"C1652\",\"C1652\",\"C1652\",\"C1652\",\"C1652\",\"C1652\",\"C1652\",\"C1565\",\"C1565\",\"C1565\",\"C1565\",\"C1910\",\"C1910\",\"C1910\",\"C1910\",\"C1910\",\"C1910\",\"C1910\",\"C1910\",\"C1910\",\"C1910\",\"C2359\",\"C2359\",\"C2359\",\"C2359\",\"C2359\",\"C2139\",\"C2139\",\"C2139\",\"C1979\",\"C1979\",\"C1979\",\"C1979\",\"C1979\",\"C1979\",\"C1979\",\"C1979\",\"C1979\",\"C1803\",\"C1803\",\"C1803\",\"C1803\",\"C1803\",\"C1803\",\"C1803\",\"C1803\",\"C1803\",\"C1803\",\"C2508\",\"C2508\",\"C2508\",\"C2508\",\"C2508\",\"C2508\",\"C2508\",\"C2531\",\"C2531\",\"C2531\",\"C2531\",\"C2531\",\"C2531\",\"C1695\",\"C1695\",\"C1695\",\"C1695\",\"C1695\",\"C2556\",\"C2556\",\"C2556\",\"C2086\",\"C2086\",\"C2086\",\"C2086\",\"C2086\",\"C2086\",\"C2086\",\"C2086\",\"C2086\",\"C1544\",\"C1544\",\"C1544\",\"C2154\",\"C2154\",\"C2154\",\"C2154\",\"C2496\",\"C2496\",\"C2496\",\"C2496\",\"C1756\",\"C1756\",\"C1756\",\"C1756\",\"C2362\",\"C2362\",\"C2362\",\"C2362\",\"C2362\",\"C2362\",\"C2362\",\"C2362\",\"C2362\",\"C2362\",\"C2362\",\"C2362\",\"C2362\",\"C2362\",\"C2568\",\"C2568\",\"C2568\",\"C2568\",\"C2568\",\"C2245\",\"C2245\",\"C2245\",\"C2245\",\"C2245\",\"C2245\",\"C2245\",\"C2059\",\"C2059\",\"C2059\",\"C2549\",\"C2549\",\"C2549\",\"C2549\",\"C2549\",\"C1584\",\"C1584\",\"C1584\",\"C1584\",\"C1584\",\"C1584\",\"C2298\",\"C2298\",\"C2298\",\"C2298\",\"C2298\",\"C2225\",\"C2225\",\"C2225\",\"C2225\",\"C2225\",\"C2225\",\"C2225\",\"C2225\",\"C2225\",\"C2328\",\"C2328\",\"C2328\",\"C2328\",\"C2328\",\"C2328\",\"C2328\",\"C1045\",\"C1045\",\"C1045\",\"C1045\",\"C1207\",\"C1207\",\"C1207\",\"C1970\",\"C1970\",\"C1970\",\"C1970\",\"C1970\",\"C1732\",\"C1732\",\"C1732\",\"C1732\",\"C1732\",\"C1732\",\"C2433\",\"C2433\",\"C2433\",\"C2433\",\"C2433\",\"C1156\",\"C1156\",\"C1156\",\"C1156\",\"C1156\",\"C1156\",\"C1156\",\"C1156\",\"C2142\",\"C2142\",\"C2142\",\"C2142\",\"C2153\",\"C2153\",\"C2153\",\"C2153\",\"C2186\",\"C2186\",\"C2186\",\"C2186\",\"C2186\",\"C2186\",\"C1176\",\"C1176\",\"C1176\",\"C1176\",\"C1176\",\"C1176\",\"C1176\",\"C1176\",\"C2446\",\"C2446\",\"C2446\",\"C2446\",\"C2446\",\"C2446\",\"C2446\",\"C2446\",\"C2446\",\"C2446\",\"C2446\",\"C2446\",\"C2586\",\"C2586\",\"C2586\",\"C2586\",\"C2586\",\"C2035\",\"C2035\",\"C2035\",\"C2035\",\"C2035\",\"C2020\",\"C2020\",\"C2020\",\"C2437\",\"C2532\",\"C2532\",\"C2532\",\"C2532\",\"C2532\",\"C2532\"],\"legendgroup\":\"\",\"marker\":{\"color\":\"#636efa\"},\"name\":\"\",\"notched\":false,\"offsetgroup\":\"\",\"orientation\":\"v\",\"showlegend\":false,\"x\":[0,0,0,0,0,0,0,0,0,0,0,0,0,0,0,0,0,0,0,0,0,0,0,0,0,0,0,0,0,0,0,0,0,0,0,0,0,0,0,0,0,0,0,0,0,0,0,0,0,0,0,0,0,0,0,0,0,0,0,0,0,0,0,0,0,0,0,0,0,0,0,0,0,0,0,3,3,3,4,4,2,2,2,2,0,0,0,0,0,0,4,4,4,2,2,2,2,2,2,2,2,2,2,2,2,2,2,2,2,2,2,2,2,2,2,2,2,2,2,2,0,0,0,4,4,2,2,2,2,2,2,2,2,0,0,0,3,3,3,0,0,0,0,0,0,4,4,4,4,4,4,4,4,2,2,2,2,2,2,2,2,2,2,3,0,0,0,0,4,4,4,2,2,2,2,2,2,2,2,2,2,2,2,2,2,2,2,2,2,2,4,4,2,2,2,2,2,2,2,2,2,2,2,2,2,2,2,4,4,4,2,2,2,2,2,2,2,2,2,2,2,2,2,2,2,2,2,0,0,0,0,0,0,4,4,4,2,2,2,2,2,2,2,2,2,2,2,2,2,2,2,2,2,4,4,4,4,4,2,2,2,2,2,2,2,2,2,2,2,2,2,2,2,2,2,2,2,2,2,2,2,2,2,2,2,2,2,2,2,2,2,2,2,3,3,3,4,4,2,2,2,2,2,2,3,3,3,4,4,4,4,2,2,2,2,2,2,2,2,2,2,2,2,2,2,2,2,2,4,4,2,2,2,2,2,2,0,0,0,0,0,0,0,0,0,3,3,3,4,4,2,2,2,2,2,2,2,2,2,2,4,4,4,2,2,2,2,2,2,2,2,2,2,2,2,2,2,2,2,2,4,4,4,2,2,2,2,2,2,2,2,2,2,2,2,2,2,2,2,2,2,2,2,2,2,2,2,2,2,4,4,2,2,2,2,2,2,2,2,2,2,2,2,2,2,2,2,2,2,2,2,3,3,4,4,4,4,2,2,2,2,2,2,2,2,2,2,2,2,2,2,2,2,2,2,2,2,4,4,4,2,2,2,2,2,2,2,2,2,2,2,2,2,2,2,2,2,2,2,2,2,2,2,2,2,2,2,2,2,4,4,4,2,2,2,2,2,2,2,2,2,2,2,2,2,2,2,2,2,2,2,2,0,0,4,4,4,4,2,2,2,2,2,2,2,2,2,2,2,2,2,2,2,2,2,2,2,2,2,2,2,2,2,2,2,2,2,2,2,2,2,2,2,2,2,2,2,2,2,2,2,4,4,4,2,2,2,2,2,2,2,2,2,2,2,2,2,2,2,2,2,2,2,2,2,2,2,2,2,2,2,2,2,2,2,2,2,2,2,2,2,2,2,2,2,2,2,2,2,0,0,0,3,3,4,4,2,2,2,2,4,4,2,2,2,2,2,2,2,2,2,2,3,3,4,4,2,2,2,4,4,2,2,2,2,2,2,2,2,2,2,0,0,0,0,0,0,0,0,0,0,0,0,0,4,4,2,2,2,2,2,2,2,2,2,2,2,2,2,2,2,0,0,3,3,3,3,3,3,3,3,4,4,4,2,2,2,2,2,2,2,2,2,2,2,2,2,2,2,2,2,2,2,2,2,2,2,2,2,2,2,2,2,2,4,4,2,2,2,2,2,2,2,2,2,2,2,2,2,2,2,4,4,4,4,2,2,2,2,0,0,0,0,0,0,0,4,4,2,2,2,2,2,2,2,2,2,2,2,2,2,2,2,2,2,4,4,4,2,2,2,2,2,2,2,2,2,2,2,2,2,2,2,2,2,2,2,0,0,0,4,4,4,2,2,2,2,2,2,2,2,2,2,2,0,0,0,4,2,2,2,2,2,2,2,2,2,2,2,2,2,0,0,0,0,0,0,0,0,0,0,0,0,0,0,0,0,0,0,0,0,0,0,0,0,0,0,0,0,0,0,0,0,0,0,0,0,0,0,0,0,0,0,0,0,0,0,0,0,0,0,0,0,0,0,0,0,0,0,0,0,0,0,0,0,0,0,0,0,0,0,0,0,0,0,0,0,0,0,0,0,0,0,0,0,0,0,0,0,0,0,0,0,0,0,0,0,0,0,0,0,0,0,0,0,0,0,0,0,0,0,0,0,0,0,0,0,0,0,0,0,0,0,0,0,0,0,0,0,0,0,0,0,0,0,0,0,0,0,0,0,0,0,0,0,0,0,0,0,0,0,0,0,0,0,0,0,0,0,0,0,0,0,0,0,0,0,0,0,0,0,0,0,0,0,0,0,0,0,0,0,0,0,0,0,0,0,0,0,0,0,0,0,0,0,0,0,0,0,0,0,0,0,0,0,0,0,0,0,0,0,0,0,0,0,0,0,0,0,0,0,0,0,0,0,0,0,0,0,0,0,0,0,0,0,0,0,0,0,0,0,0,0,0,0,0,0,0,0,0,0,0,0,0,0,0,0,0,0,0,0,0,0,0,0,0,0,0,0,0,0,0,0,0,0,0,0,0,0,0,0,0,0,0,0,0,0,0,0,0,0,0,0,0,0,0,0,0,0,0,0,0,0,0,0,0,0,0,0,0,0,0,0,0,0,0,0,0,0,0,0,0,0,0,0,0,0,0,0,0,0,0,0,0,0,0,0,0,0,0,0,0,0,0,0,0,0,0,0,0,0,0,0,0,0,0,0,0,0,0,0,0,0,0,0,0,0,0,0,0,0,0,0,0,0,0,0,0,0,0,0,0,0,0,0,0,0,0,0,0,0,0,0,0,0,0,0,0,0,0,0,0,0,0,0,0,0,0,0,0,0,0,0,0,0,0,0,0,0,0,0,0,0,0,0,0,0,3,0,0,0,0,0,0,0,0,0,0,0,0,0,0,0,0,0,0,0,0,0,0,0,0,0,0,0,0,0,0,0,0,0,0,0,0,0,0,0,0,0,0,0,0,0,0,0,0,0,0,0,0,0,0,0,0,0,0,0,0,0,0,0,0,0,0,0,0,0,0,0,0,0,0,0,0,0,0,0,0,0,0,0,0,0,0,0,0,0,0,0,0,0,0,0,0,0,0,0,0,0,0,0,0,0,0,0,0,0,0,0,0,0,0,0,0,0,0,0,0,0,0,0,0,0,0,0,0,0,0,0,0,0,0,0,0,0,0,0,0,0,0,0,0,0,0,0,0,0,0,0,0,0,0,0,0,0,0,0,0,0,0,0,0,0,0,0,0,0,0,0,0,0,0,0,0,0,0,0,0,0,0,0,0,0,0,0,0,0,0,0,0,0,0,0,0,0,0,0,0,0,0,0,0,0,0,0,0,0,0,0,0,0,0,0,0,0,0,0,0,0,0,0,0,0,0,0,0,0,0,0,0,0,0,0,0,0,0,0,0,0,0,0,0,0,0,0,0,0,0,0,0,0,0,0,0,0,0,0,0,0,0,0,0,0,0,0,0,0,0,0,0,0,0,0,0,0,0,0,0,0,0,0,0,0,0,0,0,0,0,0,0,0,0,0,0,0,0,0,0,0,0,0,0,0,0,0,0,0,0,0,0,0,0,0,0,0,0,0,0,0,0,0,0,0,0,0,0,0,0,0,0,0,0,0,0,0,0,0,0,0,0,0,0,0,0,0,0,0,0,0,0,0,0,0,0,0,0,0,0,0,0,0,0,0,0,0,0,0,0,0,0,0,0,0,0,0,0,0,0,0,0,0,0,0,0,0,0,0,0,0,0,0,0,0,0,0,0,0,0,0,0,0,0,0,0,0,0,0,0,0,0,0,0,0,0,0,0,0,0,0,0,0,0,0,0,0,0,0,0,0,0,0,0,0,0,0,0,0,0,0,0,0,0,0,0,0,0,0,0,0,0,0,0,0,0,0,0,0,0,0,0,0,0,0,0,0,0,0,0,0,0,0,0,0,0,0,0,0,0,0,0,0,0,0,0,0,0,0,0,0,0,0,0,0,0,0,0,0,0,0,0,0,0,0,0,0,0,0,0,0,0,0,0,0,0,0,0,0,0,0,0,0,0,0,0,0,0,0,0,0,0,0,0,0,0,0,0,0,0,0,0,0,0,0,0,0,0,0,0,0,0,0,0,0,0,0,0,0,0,0,0,0,0,0,0,0,0,0,0,0,0,0,0,0,0,0,0,0,0,0,0,0,0,0,0,0,0,0,0,0,0,0,0,0,0,0,0,0,0,0,0,0,0,0,0,0,0,0,0,0,0,0,0,0,0,0,0,0,0,0,0,0,0,0,0,0,0,0,0,0,0,0,0,0,0,0,0,0,0,0,0,0,0,0,0,0,0,0,0,0,0,0,0,0,0,0,0,0,0,0,0,0,0,0,0,0,0,0,0,0,0,0,0,0,0,0,0,0,0,0,0,0,0,0,1,1,1,1,1,1,0,0,0,0,0,0,0,0,0,0,0,0,0,0,0,0,0,0,0,0,0,0,0,0,0,0,0,0,0,0,0,0,0,0,0,0,0,0,0,0,0,0,0,0,0,0,0,0,0,0,0,0,0,0,0,0,0,0,0,0,0,0,0,0,0,0,0,0,0,0,0,0,0,0,0,0,1,1,1,1,0,0,0,0,4,4,0,0,0,0,0,0,0,0,0,0,0,0,0,0,0,0,0,0,0,0,0,0,0,0,0,0,0,0,0,4,4,4,0,0,0,0,0,0,0,0,0,0,0,0,0,4,4,4,0,0,0,0,0,0,4,4,0,0,0,0,0,0,0,0,0,0,0,0,0,0,0,0,0,0,0,4,4,4,4,4,0,0,0,0,0,0,0,0,0,0,4,4,4,0,0,0,0,0,0,0,0,0,0,1,1,1,1,1,1,1,1,1,1,1,1,1,1,1,1,1,1,1,1,1,1,1,1,1,1,1,1,0,0,0,0,0,0,0,0,0,0,0,0,0,0,0,0,4,4,0,0,0,0,0,0,0,0,0,0,1,1,1,0,0,0,0,4,4,0,0,0,0,0,0,0,0,0,0,0,0,0,0,0,0,0,0,0,0,0,0,0,0,0,0,0,0,0,0,0,0,0,0,0,0,0,0,0,0,0,0,0,0,0,0,0,0,0,0,0,0,4,4,4,4,4,0,0,0,0,0,0,0,0,0,0,0,0,0,0,0,0,0,0,0,1,1,1,1,1,1,1,1,1,1,1,1,1,1,1,1,1,1,1,1,1,1,1,1,1,1,1,1,1,1,0,0,0,0,1,1,1,1,1,1,1,1,0,0,0,0,0,0,0,0,0,0,0,0,0,0,0,0,0,0,0,0,0,0,0,0,0,0,0,0,0,0,0,0,0,0,4,4,4,4,4,0,0,0,0,0,0,0,0,0,0,0,0,0,4,1,1,1,1,1,1,0,0,0,0,1,1,1,1,0,0,0,1,1,1,1,1,1,1,0,0,0,0,0,0,0,0,0,0,0,0,0,0,0,0,0,0,0,0,0,4,4,4,4,4,0,0,0,0,0,0,0,4,4,1,1,0,0,0,0,0,0,0,0,0,0,0,0,0,0,0,0,0,0,0,0,0,0,4,4,4,0,0,0,0,0,0,0,0,0,4,4,4,4,4,0,0,0,0,1,1,1,1,0,0,0,0,0,4,4,4,4,4,4,4,4,4,0,0,0,4,4,0,0,0,4,4,1,1,1,1,0,0,0,0,4,1,1,1,0,0,0,0,4,4,0,0,0,0,4,4,4,4,4,4,4,4,4,4,4,4,4,4,4,4,0,4,4,4,4,4,4,4,4,4,1,1,1,1,1,1,1,1,1,1,1,0,0,0,0,0,0,0,0,0,1,1,1,1,1,1,1,1,1,1,1,1,1,1,1,1,1,1,1,1,1,1,1,1,1,1,1,1,1,1,1,1,1,1,1,1,1,1,1,1,1,4,4,4,4,4,1,1,1,1,4,4,4,4,4,4,4,4,4,4,4,4,4,4,4,4,4,4,4,4,4,4,4,4,4,4,4,4,4,4,4,4,4,4,0,0,0,4,4,0,0,0,4,4,4,4,4,4,4,4,4,4,4,4,4,4,4,4,4,4,4,0,0,0,0,0,4,4,0,0,0,4,4,4,4,4,4,4,4,0,0,0,1,1,1,1,1,1,1,1,1,1,1,1,0,0,0,0,1,1,1,1,1,1,1,1,4,4,4,4,4,4,4,4,4,4,4,4,4,4,4,4,4,4,4,4,4,4,4,4,4,4,4,4,4,4,4,4,4,4,4,4,4,4,4,4,4,4,4,4,4,4,4,4,4,4,4,4,4,4,1,1,1,1,1,1,1,0,0,0,0,4,4,4,4,4,4,4,4,4,4,4,4,4,4,4,4,4,4,4,4,4,4,4,4,4,4,4,0,0,0,0,0,0,0,0,0,0,0,0,4,4,0,0,0,0,0,0,0,0,4,4,4,4,4,4,4,4,4,4,4,4,4,4,4,4,4,0,0,0,0,0,4,4,4,4,0,0,0,0,0,0],\"x0\":\" \",\"xaxis\":\"x\",\"y\":[205.0,205.0,205.0,205.0,205.0,205.0,205.0,1064.0,1064.0,1064.0,1064.0,1064.0,1064.0,1064.0,1064.0,1064.0,1064.0,1064.0,730.0,730.0,730.0,730.0,730.0,730.0,553.0,553.0,553.0,553.0,415.0,415.0,415.0,415.0,415.0,415.0,1804.0,1804.0,1804.0,1804.0,1804.0,1804.0,1804.0,1804.0,1804.0,1804.0,1804.0,1804.0,1804.0,700.0,700.0,700.0,700.0,700.0,700.0,700.0,700.0,700.0,700.0,700.0,700.0,301.0,301.0,301.0,301.0,301.0,301.0,820.0,820.0,820.0,234.0,234.0,234.0,234.0,841.0,841.0,841.0,226.0,226.0,226.0,75.0,75.0,75.0,75.0,75.0,75.0,73.0,73.0,359.0,359.0,359.0,359.0,62.0,62.0,62.0,62.0,62.0,62.0,62.0,62.0,62.0,62.0,62.0,62.0,62.0,62.0,62.0,62.0,62.0,62.0,62.0,62.0,62.0,62.0,62.0,62.0,62.0,62.0,62.0,62.0,62.0,62.0,159.0,159.0,159.0,63.0,63.0,63.0,63.0,63.0,63.0,63.0,63.0,63.0,63.0,91.0,91.0,91.0,179.0,179.0,179.0,671.0,671.0,671.0,671.0,671.0,671.0,133.0,133.0,133.0,133.0,133.0,133.0,133.0,133.0,133.0,133.0,133.0,133.0,133.0,133.0,133.0,133.0,133.0,133.0,386.0,266.0,266.0,266.0,266.0,98.0,98.0,98.0,98.0,98.0,98.0,98.0,98.0,98.0,98.0,98.0,98.0,98.0,98.0,98.0,98.0,98.0,98.0,98.0,98.0,98.0,98.0,131.0,131.0,131.0,131.0,131.0,131.0,131.0,131.0,131.0,131.0,131.0,131.0,131.0,131.0,131.0,131.0,131.0,78.0,78.0,78.0,78.0,78.0,78.0,78.0,78.0,78.0,78.0,78.0,78.0,78.0,78.0,78.0,78.0,78.0,78.0,78.0,78.0,316.0,316.0,316.0,316.0,316.0,316.0,108.0,108.0,108.0,108.0,108.0,108.0,108.0,108.0,108.0,108.0,108.0,108.0,108.0,108.0,108.0,108.0,108.0,108.0,108.0,108.0,116.0,116.0,116.0,116.0,116.0,116.0,116.0,116.0,116.0,116.0,116.0,116.0,116.0,116.0,116.0,116.0,116.0,116.0,116.0,116.0,116.0,116.0,116.0,116.0,116.0,116.0,116.0,116.0,116.0,116.0,116.0,116.0,116.0,116.0,116.0,116.0,116.0,116.0,116.0,116.0,649.0,649.0,649.0,649.0,649.0,649.0,649.0,649.0,649.0,649.0,649.0,254.0,254.0,254.0,129.0,129.0,129.0,129.0,129.0,129.0,129.0,129.0,129.0,129.0,129.0,129.0,129.0,129.0,129.0,129.0,129.0,129.0,129.0,129.0,129.0,70.0,70.0,70.0,70.0,70.0,70.0,70.0,70.0,236.0,236.0,236.0,510.0,510.0,510.0,510.0,510.0,510.0,253.0,253.0,253.0,253.0,253.0,253.0,253.0,253.0,253.0,253.0,253.0,253.0,253.0,253.0,253.0,127.0,127.0,127.0,127.0,127.0,127.0,127.0,127.0,127.0,127.0,127.0,127.0,127.0,127.0,127.0,127.0,127.0,127.0,127.0,127.0,132.0,132.0,132.0,132.0,132.0,132.0,132.0,132.0,132.0,132.0,132.0,132.0,132.0,132.0,132.0,132.0,132.0,132.0,132.0,132.0,132.0,132.0,132.0,132.0,132.0,132.0,132.0,132.0,132.0,313.0,313.0,313.0,313.0,313.0,313.0,313.0,313.0,313.0,313.0,313.0,313.0,313.0,313.0,313.0,313.0,313.0,313.0,313.0,313.0,313.0,313.0,382.0,382.0,364.0,364.0,364.0,364.0,364.0,364.0,364.0,364.0,364.0,364.0,364.0,364.0,364.0,364.0,364.0,364.0,364.0,364.0,364.0,364.0,364.0,364.0,364.0,364.0,94.0,94.0,94.0,94.0,94.0,94.0,94.0,94.0,94.0,94.0,94.0,94.0,94.0,94.0,94.0,94.0,94.0,94.0,94.0,94.0,94.0,94.0,94.0,94.0,94.0,94.0,94.0,94.0,94.0,94.0,94.0,94.0,189.0,189.0,189.0,189.0,189.0,189.0,189.0,189.0,189.0,189.0,189.0,189.0,189.0,189.0,189.0,189.0,189.0,189.0,189.0,189.0,189.0,189.0,189.0,873.0,873.0,359.0,359.0,359.0,359.0,359.0,359.0,359.0,359.0,359.0,359.0,359.0,359.0,359.0,359.0,359.0,359.0,359.0,359.0,359.0,359.0,359.0,359.0,359.0,359.0,359.0,359.0,359.0,359.0,359.0,359.0,359.0,359.0,359.0,359.0,359.0,359.0,359.0,359.0,359.0,359.0,359.0,359.0,359.0,359.0,359.0,359.0,359.0,172.0,172.0,172.0,172.0,172.0,172.0,172.0,172.0,172.0,172.0,172.0,172.0,172.0,172.0,172.0,172.0,172.0,172.0,172.0,172.0,172.0,172.0,172.0,172.0,172.0,172.0,172.0,172.0,172.0,172.0,172.0,172.0,172.0,172.0,172.0,172.0,172.0,172.0,172.0,172.0,172.0,172.0,172.0,172.0,172.0,172.0,172.0,172.0,498.0,498.0,498.0,149.0,149.0,31.0,31.0,31.0,31.0,31.0,31.0,125.0,125.0,125.0,125.0,125.0,125.0,125.0,125.0,125.0,125.0,125.0,125.0,177.0,177.0,177.0,177.0,177.0,177.0,177.0,90.0,90.0,90.0,90.0,90.0,90.0,90.0,90.0,90.0,90.0,90.0,90.0,302.0,302.0,302.0,496.0,496.0,236.0,236.0,236.0,236.0,839.0,839.0,839.0,839.0,96.0,96.0,96.0,96.0,96.0,96.0,96.0,96.0,96.0,96.0,96.0,96.0,96.0,96.0,96.0,96.0,96.0,235.0,235.0,359.0,359.0,359.0,359.0,359.0,359.0,359.0,359.0,120.0,120.0,120.0,120.0,120.0,120.0,120.0,120.0,120.0,120.0,120.0,120.0,120.0,120.0,120.0,120.0,120.0,120.0,120.0,120.0,120.0,120.0,120.0,120.0,120.0,120.0,120.0,120.0,120.0,120.0,120.0,120.0,120.0,60.0,60.0,60.0,60.0,60.0,60.0,60.0,60.0,60.0,60.0,60.0,60.0,60.0,60.0,60.0,60.0,60.0,65.0,65.0,65.0,65.0,65.0,65.0,65.0,65.0,135.0,135.0,135.0,135.0,376.0,376.0,376.0,93.0,93.0,93.0,93.0,93.0,93.0,93.0,93.0,93.0,93.0,93.0,93.0,93.0,93.0,93.0,93.0,93.0,93.0,93.0,209.0,209.0,209.0,209.0,209.0,209.0,209.0,209.0,209.0,209.0,209.0,209.0,209.0,209.0,209.0,209.0,209.0,209.0,209.0,209.0,209.0,209.0,204.0,204.0,204.0,86.0,86.0,86.0,86.0,86.0,86.0,86.0,86.0,86.0,86.0,86.0,86.0,86.0,86.0,19.0,19.0,19.0,62.0,62.0,62.0,62.0,62.0,62.0,62.0,62.0,62.0,62.0,62.0,62.0,62.0,62.0,430.0,430.0,430.0,1001.0,1001.0,1001.0,1001.0,1001.0,1001.0,1001.0,334.0,334.0,334.0,334.0,334.0,334.0,616.0,616.0,616.0,616.0,616.0,616.0,616.0,616.0,548.0,548.0,548.0,548.0,548.0,548.0,548.0,548.0,220.0,220.0,220.0,220.0,451.0,451.0,451.0,451.0,451.0,451.0,451.0,451.0,47.0,47.0,47.0,799.0,799.0,799.0,799.0,799.0,799.0,799.0,799.0,799.0,799.0,799.0,799.0,799.0,799.0,799.0,799.0,799.0,799.0,799.0,708.0,708.0,708.0,708.0,708.0,708.0,708.0,739.0,739.0,739.0,739.0,739.0,739.0,739.0,374.0,374.0,374.0,374.0,374.0,374.0,557.0,557.0,557.0,557.0,557.0,579.0,579.0,579.0,579.0,579.0,579.0,579.0,579.0,1101.0,1101.0,1101.0,1101.0,1101.0,762.0,762.0,762.0,762.0,762.0,795.0,795.0,795.0,795.0,795.0,795.0,795.0,995.0,995.0,995.0,995.0,995.0,995.0,995.0,288.0,288.0,288.0,288.0,288.0,288.0,288.0,960.0,960.0,960.0,960.0,960.0,960.0,960.0,960.0,960.0,960.0,311.0,311.0,648.0,648.0,648.0,648.0,648.0,648.0,861.0,861.0,861.0,861.0,521.0,521.0,521.0,521.0,562.0,562.0,562.0,562.0,562.0,562.0,562.0,422.0,422.0,344.0,344.0,344.0,344.0,344.0,596.0,596.0,596.0,596.0,596.0,596.0,596.0,596.0,701.0,701.0,701.0,701.0,701.0,701.0,1117.0,1117.0,1117.0,1117.0,1117.0,1117.0,1117.0,1117.0,1117.0,1117.0,1117.0,297.0,297.0,297.0,297.0,297.0,297.0,297.0,1665.0,1665.0,1665.0,1665.0,1665.0,248.0,248.0,248.0,248.0,457.0,457.0,457.0,910.0,910.0,910.0,910.0,910.0,910.0,910.0,826.0,826.0,826.0,826.0,826.0,826.0,826.0,826.0,826.0,328.0,328.0,328.0,328.0,328.0,328.0,525.0,525.0,525.0,525.0,525.0,525.0,525.0,690.0,690.0,690.0,690.0,690.0,713.0,713.0,713.0,713.0,713.0,1019.0,1019.0,1019.0,1019.0,810.0,810.0,810.0,810.0,810.0,148.0,148.0,148.0,148.0,148.0,148.0,609.0,609.0,609.0,609.0,609.0,609.0,609.0,609.0,609.0,585.0,585.0,585.0,585.0,585.0,1162.0,1162.0,1162.0,1162.0,1162.0,1162.0,1162.0,1162.0,318.0,318.0,318.0,318.0,318.0,318.0,318.0,761.0,761.0,761.0,761.0,572.0,572.0,572.0,572.0,572.0,572.0,979.0,979.0,979.0,979.0,979.0,1306.0,1306.0,1306.0,1306.0,1306.0,1306.0,1398.0,1398.0,1398.0,1398.0,1398.0,1398.0,1398.0,1398.0,1398.0,442.0,442.0,442.0,442.0,442.0,422.0,422.0,422.0,422.0,441.0,441.0,441.0,441.0,700.0,700.0,700.0,700.0,340.0,340.0,503.0,503.0,503.0,503.0,503.0,503.0,503.0,503.0,503.0,503.0,718.0,718.0,718.0,718.0,1159.0,1159.0,1159.0,373.0,373.0,373.0,1087.0,1087.0,1087.0,1087.0,808.0,808.0,808.0,808.0,305.0,305.0,401.0,401.0,401.0,401.0,465.0,465.0,465.0,465.0,465.0,465.0,465.0,465.0,465.0,669.0,669.0,669.0,669.0,554.0,554.0,554.0,554.0,554.0,554.0,554.0,554.0,460.0,460.0,460.0,548.0,548.0,548.0,548.0,548.0,548.0,548.0,548.0,548.0,548.0,398.0,398.0,398.0,398.0,398.0,398.0,620.0,620.0,620.0,620.0,620.0,620.0,382.0,413.0,413.0,413.0,413.0,413.0,413.0,520.0,520.0,520.0,520.0,520.0,520.0,520.0,520.0,488.0,488.0,488.0,488.0,488.0,488.0,488.0,832.0,832.0,832.0,832.0,832.0,832.0,832.0,832.0,832.0,1158.0,1158.0,1158.0,1158.0,1158.0,1158.0,1158.0,1158.0,1158.0,745.0,745.0,745.0,745.0,745.0,745.0,745.0,745.0,831.0,831.0,831.0,831.0,831.0,831.0,413.0,413.0,413.0,413.0,413.0,487.0,487.0,487.0,487.0,487.0,408.0,408.0,408.0,408.0,408.0,408.0,446.0,446.0,446.0,446.0,446.0,446.0,446.0,1150.0,1150.0,1150.0,1150.0,1150.0,840.0,840.0,840.0,840.0,840.0,840.0,840.0,840.0,709.0,709.0,709.0,709.0,709.0,709.0,480.0,480.0,480.0,480.0,480.0,480.0,480.0,505.0,505.0,505.0,505.0,505.0,505.0,505.0,449.0,449.0,449.0,449.0,1010.0,1010.0,1010.0,1010.0,1010.0,1010.0,296.0,296.0,296.0,296.0,296.0,296.0,296.0,308.0,308.0,308.0,308.0,308.0,308.0,349.0,349.0,349.0,349.0,349.0,349.0,349.0,349.0,349.0,349.0,349.0,657.0,657.0,657.0,657.0,657.0,657.0,657.0,657.0,657.0,657.0,657.0,657.0,505.0,505.0,294.0,294.0,294.0,294.0,1145.0,1145.0,1145.0,1145.0,1145.0,1145.0,1145.0,1145.0,1145.0,1145.0,1145.0,1145.0,1145.0,257.0,257.0,257.0,257.0,257.0,257.0,257.0,257.0,321.0,321.0,321.0,321.0,321.0,450.0,450.0,450.0,450.0,845.0,845.0,845.0,845.0,845.0,845.0,643.0,643.0,643.0,643.0,752.0,752.0,752.0,752.0,735.0,735.0,735.0,735.0,735.0,639.0,639.0,639.0,639.0,902.0,902.0,902.0,902.0,902.0,902.0,902.0,902.0,902.0,902.0,902.0,902.0,632.0,632.0,632.0,125.0,282.0,282.0,1279.0,1279.0,1279.0,1279.0,1279.0,1279.0,1279.0,782.0,782.0,782.0,782.0,782.0,782.0,782.0,375.0,375.0,375.0,375.0,375.0,540.0,540.0,540.0,540.0,540.0,540.0,540.0,540.0,226.0,226.0,226.0,226.0,226.0,226.0,302.0,302.0,302.0,302.0,302.0,302.0,156.0,156.0,156.0,730.0,730.0,730.0,730.0,730.0,730.0,417.0,417.0,417.0,417.0,417.0,417.0,505.0,505.0,505.0,505.0,505.0,505.0,505.0,1077.0,1077.0,1077.0,1077.0,1077.0,1077.0,1077.0,757.0,757.0,757.0,757.0,757.0,754.0,754.0,754.0,754.0,754.0,754.0,754.0,815.0,815.0,815.0,268.0,268.0,268.0,268.0,362.0,362.0,362.0,362.0,362.0,504.0,504.0,504.0,504.0,504.0,504.0,504.0,504.0,281.0,281.0,281.0,281.0,281.0,521.0,521.0,521.0,521.0,552.0,552.0,552.0,552.0,246.0,246.0,246.0,246.0,246.0,246.0,347.0,347.0,347.0,272.0,272.0,272.0,293.0,293.0,293.0,293.0,293.0,254.0,254.0,254.0,254.0,254.0,254.0,254.0,254.0,842.0,842.0,842.0,842.0,842.0,842.0,484.0,484.0,484.0,484.0,484.0,585.0,585.0,585.0,585.0,585.0,244.0,244.0,244.0,258.0,258.0,258.0,258.0,271.0,271.0,271.0,271.0,311.0,311.0,311.0,327.0,327.0,327.0,327.0,327.0,327.0,207.0,207.0,207.0,207.0,207.0,207.0,683.0,683.0,683.0,683.0,683.0,683.0,670.0,670.0,570.0,570.0,570.0,570.0,570.0,324.0,324.0,324.0,324.0,324.0,553.0,553.0,553.0,553.0,553.0,590.0,590.0,590.0,638.0,638.0,638.0,638.0,638.0,638.0,638.0,495.0,495.0,495.0,495.0,528.0,528.0,528.0,528.0,528.0,528.0,528.0,383.0,383.0,383.0,383.0,383.0,284.0,284.0,284.0,284.0,284.0,284.0,284.0,723.0,723.0,723.0,723.0,723.0,723.0,333.0,333.0,333.0,333.0,333.0,333.0,333.0,610.0,610.0,610.0,610.0,610.0,610.0,610.0,481.0,481.0,594.0,594.0,509.0,509.0,509.0,509.0,509.0,509.0,500.0,500.0,500.0,500.0,500.0,512.0,512.0,512.0,512.0,512.0,512.0,512.0,512.0,901.0,901.0,901.0,901.0,934.0,934.0,934.0,934.0,934.0,934.0,496.0,496.0,496.0,496.0,398.0,398.0,398.0,398.0,398.0,398.0,481.0,481.0,481.0,481.0,481.0,481.0,481.0,557.0,557.0,557.0,557.0,557.0,557.0,1284.0,1284.0,1284.0,1284.0,1284.0,1284.0,1284.0,1284.0,1284.0,475.0,475.0,475.0,475.0,475.0,435.0,435.0,435.0,435.0,435.0,945.0,945.0,945.0,945.0,945.0,945.0,945.0,945.0,945.0,945.0,1044.0,1044.0,1044.0,1044.0,1044.0,1044.0,1044.0,1044.0,1044.0,1044.0,1044.0,1044.0,1044.0,1044.0,1044.0,1044.0,375.0,375.0,375.0,375.0,375.0,375.0,1023.0,1023.0,1023.0,1023.0,1023.0,1023.0,1023.0,1023.0,1350.0,1350.0,1350.0,1350.0,1350.0,1350.0,1350.0,1350.0,1350.0,1350.0,1350.0,1350.0,1350.0,1350.0,284.0,284.0,284.0,284.0,284.0,284.0,823.0,823.0,823.0,823.0,823.0,823.0,823.0,823.0,823.0,793.0,793.0,793.0,793.0,793.0,793.0,587.0,587.0,587.0,587.0,587.0,587.0,587.0,587.0,587.0,587.0,353.0,353.0,353.0,353.0,353.0,479.0,479.0,479.0,479.0,479.0,479.0,614.0,614.0,614.0,614.0,614.0,614.0,614.0,614.0,614.0,1101.0,1101.0,1101.0,1101.0,1101.0,1101.0,1101.0,1101.0,1101.0,1101.0,1101.0,652.0,652.0,652.0,652.0,652.0,652.0,509.0,509.0,509.0,509.0,509.0,509.0,437.0,437.0,437.0,437.0,437.0,163.0,163.0,163.0,163.0,163.0,589.0,589.0,589.0,589.0,589.0,589.0,589.0,403.0,403.0,403.0,403.0,403.0,403.0,22.0,22.0,322.0,322.0,322.0,322.0,322.0,322.0,566.0,566.0,566.0,566.0,566.0,566.0,277.0,277.0,277.0,277.0,822.0,822.0,822.0,822.0,822.0,822.0,770.0,770.0,770.0,770.0,770.0,770.0,770.0,770.0,770.0,770.0,770.0,345.0,345.0,345.0,345.0,345.0,345.0,1090.0,1090.0,1090.0,1090.0,1090.0,1090.0,1090.0,1090.0,1090.0,1090.0,1090.0,1090.0,951.0,951.0,951.0,951.0,410.0,410.0,410.0,410.0,410.0,410.0,549.0,549.0,549.0,549.0,549.0,549.0,549.0,549.0,549.0,166.0,166.0,166.0,166.0,166.0,166.0,647.0,647.0,647.0,647.0,647.0,647.0,647.0,793.0,793.0,793.0,793.0,793.0,793.0,793.0,793.0,793.0,793.0,1084.0,1084.0,1084.0,1084.0,1084.0,1084.0,1084.0,1084.0,1084.0,682.0,682.0,682.0,682.0,645.0,645.0,645.0,645.0,645.0,645.0,645.0,645.0,645.0,645.0,645.0,733.0,733.0,733.0,733.0,733.0,733.0,733.0,733.0,262.0,262.0,262.0,262.0,262.0,365.0,365.0,365.0,365.0,365.0,365.0,365.0,365.0,365.0,365.0,365.0,950.0,950.0,950.0,244.0,244.0,244.0,343.0,343.0,343.0,343.0,343.0,343.0,343.0,613.0,613.0,613.0,613.0,561.0,561.0,561.0,561.0,561.0,561.0,899.0,899.0,899.0,899.0,957.0,957.0,957.0,957.0,957.0,957.0,957.0,957.0,957.0,957.0,412.0,412.0,979.0,979.0,979.0,979.0,1709.0,1709.0,1709.0,1709.0,1709.0,881.0,881.0,881.0,309.0,309.0,309.0,309.0,309.0,309.0,55.0,55.0,55.0,442.0,442.0,442.0,442.0,442.0,442.0,442.0,442.0,442.0,551.0,551.0,551.0,551.0,551.0,551.0,551.0,551.0,551.0,551.0,1240.0,1240.0,1240.0,886.0,886.0,886.0,886.0,886.0,886.0,713.0,713.0,713.0,713.0,713.0,713.0,713.0,606.0,606.0,606.0,606.0,606.0,606.0,606.0,870.0,870.0,870.0,870.0,870.0,870.0,870.0,870.0,870.0,870.0,870.0,410.0,410.0,410.0,410.0,410.0,800.0,800.0,800.0,800.0,800.0,800.0,420.0,420.0,420.0,752.0,752.0,752.0,630.0,630.0,630.0,630.0,982.0,982.0,982.0,982.0,982.0,982.0,982.0,982.0,982.0,982.0,982.0,652.0,652.0,652.0,652.0,652.0,652.0,451.0,451.0,451.0,451.0,451.0,451.0,821.0,821.0,821.0,821.0,255.0,255.0,255.0,625.0,625.0,625.0,625.0,625.0,1653.0,1653.0,1653.0,1653.0,1653.0,1653.0,1653.0,2315.0,2315.0,2315.0,2315.0,2315.0,2315.0,2315.0,2315.0,2315.0,2315.0,2315.0,2315.0,2315.0,498.0,498.0,498.0,498.0,498.0,787.0,787.0,787.0,787.0,1668.0,1668.0,1668.0,1668.0,1668.0,1668.0,1668.0,1668.0,207.0,207.0,207.0,207.0,207.0,579.0,579.0,579.0,579.0,579.0,579.0,330.0,330.0,330.0,217.0,217.0,217.0,217.0,217.0,763.0,763.0,763.0,763.0,572.0,572.0,572.0,922.0,922.0,922.0,922.0,922.0,922.0,922.0,922.0,922.0,922.0,922.0,922.0,922.0,526.0,526.0,526.0,526.0,526.0,1246.0,1246.0,1246.0,228.0,228.0,228.0,228.0,228.0,228.0,1730.0,1730.0,1730.0,1730.0,1730.0,1730.0,712.0,712.0,712.0,712.0,1200.0,1200.0,1200.0,1200.0,202.0,202.0,202.0,979.0,979.0,979.0,946.0,946.0,946.0,946.0,1832.0,1832.0,1832.0,1832.0,508.0,508.0,508.0,508.0,763.0,763.0,763.0,763.0,763.0,763.0,763.0,763.0,763.0,763.0,763.0,763.0,763.0,763.0,763.0,763.0,763.0,763.0,326.0,326.0,326.0,404.0,404.0,404.0,404.0,404.0,404.0,336.0,336.0,555.0,555.0,555.0,417.0,417.0,417.0,417.0,417.0,1255.0,1255.0,1255.0,2550.0,2550.0,2550.0,2550.0,2550.0,2550.0,2550.0,2550.0,2550.0,2550.0,2550.0,2550.0,2550.0,2550.0,751.0,751.0,751.0,751.0,751.0,751.0,243.0,243.0,243.0,586.0,586.0,586.0,586.0,586.0,924.0,924.0,924.0,924.0,600.0,600.0,600.0,600.0,1153.0,1153.0,1153.0,1153.0,1153.0,164.0,164.0,164.0,164.0,164.0,164.0,164.0,164.0,164.0,783.0,783.0,783.0,783.0,783.0,1044.0,1044.0,1044.0,1044.0,1044.0,719.0,719.0,719.0,719.0,220.0,220.0,220.0,220.0,220.0,887.0,887.0,887.0,616.0,616.0,616.0,616.0,616.0,616.0,559.0,559.0,559.0,559.0,559.0,559.0,559.0,416.0,416.0,416.0,416.0,416.0,416.0,416.0,416.0,416.0,416.0,416.0,416.0,416.0,701.0,701.0,701.0,701.0,701.0,701.0,701.0,701.0,701.0,701.0,1983.0,1983.0,1983.0,1983.0,1983.0,1983.0,1983.0,1983.0,1983.0,1983.0,1983.0,1896.0,1896.0,1896.0,1896.0,1896.0,1896.0,1896.0,1896.0,1896.0,780.0,780.0,1359.0,1359.0,1359.0,1359.0,1359.0,646.0,646.0,646.0,646.0,646.0,1433.0,1433.0,1433.0,1433.0,1433.0,1433.0,1433.0,1433.0,1433.0,1433.0,1433.0,1433.0,1433.0,1433.0,1433.0,1433.0,1433.0,854.0,854.0,854.0,854.0,854.0,854.0,1378.0,1378.0,1378.0,1378.0,1378.0,1378.0,345.0,345.0,345.0,345.0,345.0,995.0,995.0,995.0,995.0,205.0,205.0,205.0,205.0,205.0,205.0,205.0,205.0,509.0,509.0,509.0,509.0,509.0,509.0,509.0,509.0,509.0,509.0,509.0,509.0,588.0,588.0,588.0,588.0,396.0,396.0,396.0,396.0,396.0,396.0,396.0,396.0,396.0,396.0,693.0,693.0,693.0,693.0,693.0,155.0,155.0,155.0,133.0,133.0,133.0,133.0,133.0,133.0,133.0,133.0,133.0,78.0,78.0,78.0,78.0,78.0,78.0,78.0,78.0,78.0,78.0,568.0,568.0,568.0,568.0,568.0,568.0,568.0,358.0,358.0,358.0,358.0,358.0,358.0,123.0,123.0,123.0,123.0,123.0,148.0,148.0,148.0,1524.0,1524.0,1524.0,1524.0,1524.0,1524.0,1524.0,1524.0,1524.0,713.0,713.0,713.0,124.0,124.0,124.0,124.0,1400.0,1400.0,1400.0,1400.0,609.0,609.0,609.0,609.0,196.0,196.0,196.0,196.0,196.0,196.0,196.0,196.0,196.0,196.0,196.0,196.0,196.0,196.0,189.0,189.0,189.0,189.0,189.0,98.0,98.0,98.0,98.0,98.0,98.0,98.0,13.0,13.0,13.0,165.0,165.0,165.0,165.0,165.0,507.0,507.0,507.0,507.0,507.0,507.0,444.0,444.0,444.0,444.0,444.0,448.0,448.0,448.0,448.0,448.0,448.0,448.0,448.0,448.0,1374.0,1374.0,1374.0,1374.0,1374.0,1374.0,1374.0,266.0,266.0,266.0,266.0,59.0,59.0,59.0,159.0,159.0,159.0,159.0,159.0,267.0,267.0,267.0,267.0,267.0,267.0,130.0,130.0,130.0,130.0,130.0,505.0,505.0,505.0,505.0,505.0,505.0,505.0,505.0,396.0,396.0,396.0,396.0,280.0,280.0,280.0,280.0,744.0,744.0,744.0,744.0,744.0,744.0,619.0,619.0,619.0,619.0,619.0,619.0,619.0,619.0,1204.0,1204.0,1204.0,1204.0,1204.0,1204.0,1204.0,1204.0,1204.0,1204.0,1204.0,1204.0,57.0,57.0,57.0,57.0,57.0,246.0,246.0,246.0,246.0,246.0,19.0,19.0,19.0,16.0,146.0,146.0,146.0,146.0,146.0,146.0],\"y0\":\" \",\"yaxis\":\"y\",\"type\":\"box\"}],                        {\"template\":{\"data\":{\"bar\":[{\"error_x\":{\"color\":\"#2a3f5f\"},\"error_y\":{\"color\":\"#2a3f5f\"},\"marker\":{\"line\":{\"color\":\"#E5ECF6\",\"width\":0.5},\"pattern\":{\"fillmode\":\"overlay\",\"size\":10,\"solidity\":0.2}},\"type\":\"bar\"}],\"barpolar\":[{\"marker\":{\"line\":{\"color\":\"#E5ECF6\",\"width\":0.5},\"pattern\":{\"fillmode\":\"overlay\",\"size\":10,\"solidity\":0.2}},\"type\":\"barpolar\"}],\"carpet\":[{\"aaxis\":{\"endlinecolor\":\"#2a3f5f\",\"gridcolor\":\"white\",\"linecolor\":\"white\",\"minorgridcolor\":\"white\",\"startlinecolor\":\"#2a3f5f\"},\"baxis\":{\"endlinecolor\":\"#2a3f5f\",\"gridcolor\":\"white\",\"linecolor\":\"white\",\"minorgridcolor\":\"white\",\"startlinecolor\":\"#2a3f5f\"},\"type\":\"carpet\"}],\"choropleth\":[{\"colorbar\":{\"outlinewidth\":0,\"ticks\":\"\"},\"type\":\"choropleth\"}],\"contour\":[{\"colorbar\":{\"outlinewidth\":0,\"ticks\":\"\"},\"colorscale\":[[0.0,\"#0d0887\"],[0.1111111111111111,\"#46039f\"],[0.2222222222222222,\"#7201a8\"],[0.3333333333333333,\"#9c179e\"],[0.4444444444444444,\"#bd3786\"],[0.5555555555555556,\"#d8576b\"],[0.6666666666666666,\"#ed7953\"],[0.7777777777777778,\"#fb9f3a\"],[0.8888888888888888,\"#fdca26\"],[1.0,\"#f0f921\"]],\"type\":\"contour\"}],\"contourcarpet\":[{\"colorbar\":{\"outlinewidth\":0,\"ticks\":\"\"},\"type\":\"contourcarpet\"}],\"heatmap\":[{\"colorbar\":{\"outlinewidth\":0,\"ticks\":\"\"},\"colorscale\":[[0.0,\"#0d0887\"],[0.1111111111111111,\"#46039f\"],[0.2222222222222222,\"#7201a8\"],[0.3333333333333333,\"#9c179e\"],[0.4444444444444444,\"#bd3786\"],[0.5555555555555556,\"#d8576b\"],[0.6666666666666666,\"#ed7953\"],[0.7777777777777778,\"#fb9f3a\"],[0.8888888888888888,\"#fdca26\"],[1.0,\"#f0f921\"]],\"type\":\"heatmap\"}],\"heatmapgl\":[{\"colorbar\":{\"outlinewidth\":0,\"ticks\":\"\"},\"colorscale\":[[0.0,\"#0d0887\"],[0.1111111111111111,\"#46039f\"],[0.2222222222222222,\"#7201a8\"],[0.3333333333333333,\"#9c179e\"],[0.4444444444444444,\"#bd3786\"],[0.5555555555555556,\"#d8576b\"],[0.6666666666666666,\"#ed7953\"],[0.7777777777777778,\"#fb9f3a\"],[0.8888888888888888,\"#fdca26\"],[1.0,\"#f0f921\"]],\"type\":\"heatmapgl\"}],\"histogram\":[{\"marker\":{\"pattern\":{\"fillmode\":\"overlay\",\"size\":10,\"solidity\":0.2}},\"type\":\"histogram\"}],\"histogram2d\":[{\"colorbar\":{\"outlinewidth\":0,\"ticks\":\"\"},\"colorscale\":[[0.0,\"#0d0887\"],[0.1111111111111111,\"#46039f\"],[0.2222222222222222,\"#7201a8\"],[0.3333333333333333,\"#9c179e\"],[0.4444444444444444,\"#bd3786\"],[0.5555555555555556,\"#d8576b\"],[0.6666666666666666,\"#ed7953\"],[0.7777777777777778,\"#fb9f3a\"],[0.8888888888888888,\"#fdca26\"],[1.0,\"#f0f921\"]],\"type\":\"histogram2d\"}],\"histogram2dcontour\":[{\"colorbar\":{\"outlinewidth\":0,\"ticks\":\"\"},\"colorscale\":[[0.0,\"#0d0887\"],[0.1111111111111111,\"#46039f\"],[0.2222222222222222,\"#7201a8\"],[0.3333333333333333,\"#9c179e\"],[0.4444444444444444,\"#bd3786\"],[0.5555555555555556,\"#d8576b\"],[0.6666666666666666,\"#ed7953\"],[0.7777777777777778,\"#fb9f3a\"],[0.8888888888888888,\"#fdca26\"],[1.0,\"#f0f921\"]],\"type\":\"histogram2dcontour\"}],\"mesh3d\":[{\"colorbar\":{\"outlinewidth\":0,\"ticks\":\"\"},\"type\":\"mesh3d\"}],\"parcoords\":[{\"line\":{\"colorbar\":{\"outlinewidth\":0,\"ticks\":\"\"}},\"type\":\"parcoords\"}],\"pie\":[{\"automargin\":true,\"type\":\"pie\"}],\"scatter\":[{\"marker\":{\"colorbar\":{\"outlinewidth\":0,\"ticks\":\"\"}},\"type\":\"scatter\"}],\"scatter3d\":[{\"line\":{\"colorbar\":{\"outlinewidth\":0,\"ticks\":\"\"}},\"marker\":{\"colorbar\":{\"outlinewidth\":0,\"ticks\":\"\"}},\"type\":\"scatter3d\"}],\"scattercarpet\":[{\"marker\":{\"colorbar\":{\"outlinewidth\":0,\"ticks\":\"\"}},\"type\":\"scattercarpet\"}],\"scattergeo\":[{\"marker\":{\"colorbar\":{\"outlinewidth\":0,\"ticks\":\"\"}},\"type\":\"scattergeo\"}],\"scattergl\":[{\"marker\":{\"colorbar\":{\"outlinewidth\":0,\"ticks\":\"\"}},\"type\":\"scattergl\"}],\"scattermapbox\":[{\"marker\":{\"colorbar\":{\"outlinewidth\":0,\"ticks\":\"\"}},\"type\":\"scattermapbox\"}],\"scatterpolar\":[{\"marker\":{\"colorbar\":{\"outlinewidth\":0,\"ticks\":\"\"}},\"type\":\"scatterpolar\"}],\"scatterpolargl\":[{\"marker\":{\"colorbar\":{\"outlinewidth\":0,\"ticks\":\"\"}},\"type\":\"scatterpolargl\"}],\"scatterternary\":[{\"marker\":{\"colorbar\":{\"outlinewidth\":0,\"ticks\":\"\"}},\"type\":\"scatterternary\"}],\"surface\":[{\"colorbar\":{\"outlinewidth\":0,\"ticks\":\"\"},\"colorscale\":[[0.0,\"#0d0887\"],[0.1111111111111111,\"#46039f\"],[0.2222222222222222,\"#7201a8\"],[0.3333333333333333,\"#9c179e\"],[0.4444444444444444,\"#bd3786\"],[0.5555555555555556,\"#d8576b\"],[0.6666666666666666,\"#ed7953\"],[0.7777777777777778,\"#fb9f3a\"],[0.8888888888888888,\"#fdca26\"],[1.0,\"#f0f921\"]],\"type\":\"surface\"}],\"table\":[{\"cells\":{\"fill\":{\"color\":\"#EBF0F8\"},\"line\":{\"color\":\"white\"}},\"header\":{\"fill\":{\"color\":\"#C8D4E3\"},\"line\":{\"color\":\"white\"}},\"type\":\"table\"}]},\"layout\":{\"annotationdefaults\":{\"arrowcolor\":\"#2a3f5f\",\"arrowhead\":0,\"arrowwidth\":1},\"autotypenumbers\":\"strict\",\"coloraxis\":{\"colorbar\":{\"outlinewidth\":0,\"ticks\":\"\"}},\"colorscale\":{\"diverging\":[[0,\"#8e0152\"],[0.1,\"#c51b7d\"],[0.2,\"#de77ae\"],[0.3,\"#f1b6da\"],[0.4,\"#fde0ef\"],[0.5,\"#f7f7f7\"],[0.6,\"#e6f5d0\"],[0.7,\"#b8e186\"],[0.8,\"#7fbc41\"],[0.9,\"#4d9221\"],[1,\"#276419\"]],\"sequential\":[[0.0,\"#0d0887\"],[0.1111111111111111,\"#46039f\"],[0.2222222222222222,\"#7201a8\"],[0.3333333333333333,\"#9c179e\"],[0.4444444444444444,\"#bd3786\"],[0.5555555555555556,\"#d8576b\"],[0.6666666666666666,\"#ed7953\"],[0.7777777777777778,\"#fb9f3a\"],[0.8888888888888888,\"#fdca26\"],[1.0,\"#f0f921\"]],\"sequentialminus\":[[0.0,\"#0d0887\"],[0.1111111111111111,\"#46039f\"],[0.2222222222222222,\"#7201a8\"],[0.3333333333333333,\"#9c179e\"],[0.4444444444444444,\"#bd3786\"],[0.5555555555555556,\"#d8576b\"],[0.6666666666666666,\"#ed7953\"],[0.7777777777777778,\"#fb9f3a\"],[0.8888888888888888,\"#fdca26\"],[1.0,\"#f0f921\"]]},\"colorway\":[\"#636efa\",\"#EF553B\",\"#00cc96\",\"#ab63fa\",\"#FFA15A\",\"#19d3f3\",\"#FF6692\",\"#B6E880\",\"#FF97FF\",\"#FECB52\"],\"font\":{\"color\":\"#2a3f5f\"},\"geo\":{\"bgcolor\":\"white\",\"lakecolor\":\"white\",\"landcolor\":\"#E5ECF6\",\"showlakes\":true,\"showland\":true,\"subunitcolor\":\"white\"},\"hoverlabel\":{\"align\":\"left\"},\"hovermode\":\"closest\",\"mapbox\":{\"style\":\"light\"},\"paper_bgcolor\":\"white\",\"plot_bgcolor\":\"#E5ECF6\",\"polar\":{\"angularaxis\":{\"gridcolor\":\"white\",\"linecolor\":\"white\",\"ticks\":\"\"},\"bgcolor\":\"#E5ECF6\",\"radialaxis\":{\"gridcolor\":\"white\",\"linecolor\":\"white\",\"ticks\":\"\"}},\"scene\":{\"xaxis\":{\"backgroundcolor\":\"#E5ECF6\",\"gridcolor\":\"white\",\"gridwidth\":2,\"linecolor\":\"white\",\"showbackground\":true,\"ticks\":\"\",\"zerolinecolor\":\"white\"},\"yaxis\":{\"backgroundcolor\":\"#E5ECF6\",\"gridcolor\":\"white\",\"gridwidth\":2,\"linecolor\":\"white\",\"showbackground\":true,\"ticks\":\"\",\"zerolinecolor\":\"white\"},\"zaxis\":{\"backgroundcolor\":\"#E5ECF6\",\"gridcolor\":\"white\",\"gridwidth\":2,\"linecolor\":\"white\",\"showbackground\":true,\"ticks\":\"\",\"zerolinecolor\":\"white\"}},\"shapedefaults\":{\"line\":{\"color\":\"#2a3f5f\"}},\"ternary\":{\"aaxis\":{\"gridcolor\":\"white\",\"linecolor\":\"white\",\"ticks\":\"\"},\"baxis\":{\"gridcolor\":\"white\",\"linecolor\":\"white\",\"ticks\":\"\"},\"bgcolor\":\"#E5ECF6\",\"caxis\":{\"gridcolor\":\"white\",\"linecolor\":\"white\",\"ticks\":\"\"}},\"title\":{\"x\":0.05},\"xaxis\":{\"automargin\":true,\"gridcolor\":\"white\",\"linecolor\":\"white\",\"ticks\":\"\",\"title\":{\"standoff\":15},\"zerolinecolor\":\"white\",\"zerolinewidth\":2},\"yaxis\":{\"automargin\":true,\"gridcolor\":\"white\",\"linecolor\":\"white\",\"ticks\":\"\",\"title\":{\"standoff\":15},\"zerolinecolor\":\"white\",\"zerolinewidth\":2}}},\"xaxis\":{\"anchor\":\"y\",\"domain\":[0.0,1.0],\"title\":{\"text\":\"n\\uacf5\\uae09\\uc720\\ud615\"}},\"yaxis\":{\"anchor\":\"x\",\"domain\":[0.0,1.0],\"title\":{\"text\":\"\\ub4f1\\ub85d\\ucc28\\ub7c9\\uc218\"}},\"legend\":{\"tracegroupgap\":0},\"margin\":{\"t\":60},\"boxmode\":\"group\"},                        {\"responsive\": true}                    ).then(function(){\n",
              "                            \n",
              "var gd = document.getElementById('033d82d9-f0aa-4bf1-9715-c521ef9e3ace');\n",
              "var x = new MutationObserver(function (mutations, observer) {{\n",
              "        var display = window.getComputedStyle(gd).display;\n",
              "        if (!display || display === 'none') {{\n",
              "            console.log([gd, 'removed!']);\n",
              "            Plotly.purge(gd);\n",
              "            observer.disconnect();\n",
              "        }}\n",
              "}});\n",
              "\n",
              "// Listen for the removal of the full notebook cells\n",
              "var notebookContainer = gd.closest('#notebook-container');\n",
              "if (notebookContainer) {{\n",
              "    x.observe(notebookContainer, {childList: true});\n",
              "}}\n",
              "\n",
              "// Listen for the clearing of the current output cell\n",
              "var outputEl = gd.closest('.output');\n",
              "if (outputEl) {{\n",
              "    x.observe(outputEl, {childList: true});\n",
              "}}\n",
              "\n",
              "                        })                };                            </script>        </div>\n",
              "</body>\n",
              "</html>"
            ]
          },
          "metadata": {}
        }
      ]
    },
    {
      "cell_type": "markdown",
      "source": [
        "###<u>**전용면적**</u>"
      ],
      "metadata": {
        "id": "ObLhtr6jZ68p"
      }
    },
    {
      "cell_type": "markdown",
      "source": [
        "* 5단위로 변환\n",
        "*전용면적 100 초과 → 100\n",
        "*전용면적 15 미만 → 15"
      ],
      "metadata": {
        "id": "qz5xC4L0hq11"
      }
    },
    {
      "cell_type": "code",
      "source": [
        "train['전용면적'] = train['전용면적'] //5*5\n",
        "train['전용면적'] = np.where(train['전용면적'] > 100, 100, train['전용면적'])\n",
        "train['전용면적'] = np.where(train['전용면적'] < 15, 15, train['전용면적'])\n",
        "\n",
        "\n",
        "test['전용면적'] = test['전용면적'] //5*5\n",
        "test['전용면적'] = np.where(test['전용면적'] > 100, 100, test['전용면적'])\n",
        "test['전용면적'] = np.where(test['전용면적'] < 15, 15, test['전용면적'])\n",
        "#np.where(조건, T일때, F일때)"
      ],
      "metadata": {
        "id": "92acQbW7inoX"
      },
      "execution_count": 39,
      "outputs": []
    },
    {
      "cell_type": "markdown",
      "source": [
        "### **5) 1차원으로 데이터 병합**"
      ],
      "metadata": {
        "id": "ftp-bULbjxnB"
      }
    },
    {
      "cell_type": "code",
      "source": [
        "'''\n",
        "<공급유형 병합 오류> \n",
        "단지코드 기준 병합과정에서 공급유형 제대로 반영되지 않음   \n",
        "동일 단지코드 내에 공급유형 타입 2개 이상으로 나뉘는 경우 있었으나, 가장 상위에 등장한 공급유형으로 통일됨   \n",
        "  → '임대상가' 유형 완전 제외됨(국민임대, 장기공공임대에 포함됨)\n",
        "  → '장기공공임대' 유형에 '임대상가', '저소득층' 특성 반영됨\n",
        "'''"
      ],
      "metadata": {
        "colab": {
          "base_uri": "https://localhost:8080/",
          "height": 72
        },
        "id": "18dr3Mm1j9ii",
        "outputId": "67fe4866-31dd-43b4-fa25-e03e942de375"
      },
      "execution_count": 40,
      "outputs": [
        {
          "output_type": "execute_result",
          "data": {
            "text/plain": [
              "\"\\n<공급유형 병합 오류> \\n단지코드 기준 병합과정에서 공급유형 제대로 반영되지 않음   \\n동일 단지코드 내에 공급유형 타입 2개 이상으로 나뉘는 경우 있었으나, 가장 상위에 등장한 공급유형으로 통일됨   \\n  → '임대상가' 유형 완전 제외됨(국민임대, 장기공공임대에 포함됨)\\n  → '장기공공임대' 유형에 '임대상가', '저소득층' 특성 반영됨\\n\""
            ],
            "application/vnd.google.colaboratory.intrinsic+json": {
              "type": "string"
            }
          },
          "metadata": {},
          "execution_count": 40
        }
      ]
    },
    {
      "cell_type": "code",
      "source": [
        "codes = train.단지코드.unique()\n",
        "areas = np.sort(train.전용면적.unique())\n",
        "\n",
        "df_train = pd.DataFrame()\n",
        "columns = ['단지코드', 'n지역', 'n공급유형', '공가수', '지하철', '버스', '단지내주차면수', '등록차량수']\n",
        "\n",
        "for i, code in enumerate(codes):\n",
        "    tmp_code = train.loc[train.단지코드 == code].reset_index(drop=True)\n",
        "\n",
        "    df_train.loc[i, columns] = tmp_code.loc[0, columns]\n",
        "    df_train.loc[i, '총임대세대수'] = (tmp_code.전용면적별세대수).sum()\n",
        "\n",
        "    df_train.loc[i, '평균전용면적'] = (tmp_code.전용면적).mean() \n",
        "    df_train.loc[i, '총전용면적'] = (tmp_code.전용면적 * tmp_code.전용면적별세대수).sum()\n",
        "    df_train.loc[i, '평균임대보증금'] = (tmp_code.전용면적별세대수 * tmp_code.임대보증금).sum() / (tmp_code.전용면적별세대수).sum()\n",
        "    df_train.loc[i, '평균임대료'] = (tmp_code.전용면적별세대수 * tmp_code.임대료).sum() / (tmp_code.전용면적별세대수).sum()"
      ],
      "metadata": {
        "id": "XZINLFZHkGHT"
      },
      "execution_count": 41,
      "outputs": []
    },
    {
      "cell_type": "code",
      "source": [
        "codes = test.단지코드.unique()\n",
        "areas = np.sort(test.전용면적.unique())\n",
        "\n",
        "df_test = pd.DataFrame()\n",
        "columns = ['단지코드', 'n지역', 'n공급유형', '공가수', '지하철', '버스', '단지내주차면수']\n",
        "\n",
        "for i, code in enumerate(codes):\n",
        "    tmp_code = test.loc[test.단지코드 == code].reset_index(drop=True)\n",
        "\n",
        "    df_test.loc[i, columns] = tmp_code.loc[0, columns]\n",
        "    df_test.loc[i, '총임대세대수'] = (tmp_code.전용면적별세대수).sum()\n",
        "\n",
        "    df_test.loc[i, '평균전용면적'] = (tmp_code.전용면적).mean() \n",
        "    df_test.loc[i, '총전용면적'] = (tmp_code.전용면적 * tmp_code.전용면적별세대수).sum()\n",
        "    df_test.loc[i, '평균임대보증금'] = (tmp_code.전용면적별세대수 * tmp_code.임대보증금).sum() / (tmp_code.전용면적별세대수).sum()\n",
        "    df_test.loc[i, '평균임대료'] = (tmp_code.전용면적별세대수 * tmp_code.임대료).sum() / (tmp_code.전용면적별세대수).sum()"
      ],
      "metadata": {
        "id": "eqhPCXlAqoVO"
      },
      "execution_count": 42,
      "outputs": []
    },
    {
      "cell_type": "markdown",
      "source": [
        "## **STEP4. 모형 학습, 예측 및 평가**"
      ],
      "metadata": {
        "id": "wOUhYg3kkJ_I"
      }
    },
    {
      "cell_type": "markdown",
      "source": [
        "### **1) 단순 회귀(Linear Regression)**"
      ],
      "metadata": {
        "id": "yd09PTqikNlB"
      }
    },
    {
      "cell_type": "code",
      "source": [
        "#상관성 확인\n",
        "df_train.corr()"
      ],
      "metadata": {
        "colab": {
          "base_uri": "https://localhost:8080/",
          "height": 1000
        },
        "id": "zfXPLBTmkGaV",
        "outputId": "ddf22e02-28d6-45d4-c788-dc1b940eef92"
      },
      "execution_count": 43,
      "outputs": [
        {
          "output_type": "execute_result",
          "data": {
            "text/plain": [
              "              n지역     n공급유형       공가수       지하철        버스   단지내주차면수     등록차량수  \\\n",
              "n지역      1.000000 -0.209452  0.075245  0.004269  0.067745  0.233299  0.322541   \n",
              "n공급유형   -0.209452  1.000000 -0.013616  0.036768  0.005530 -0.306854 -0.322437   \n",
              "공가수      0.075245 -0.013616  1.000000 -0.108163  0.061637  0.394994  0.177878   \n",
              "지하철      0.004269  0.036768 -0.108163  1.000000  0.104985  0.013349 -0.008515   \n",
              "버스       0.067745  0.005530  0.061637  0.104985  1.000000  0.103963  0.115073   \n",
              "단지내주차면수  0.233299 -0.306854  0.394994  0.013349  0.103963  1.000000  0.847906   \n",
              "등록차량수    0.322541 -0.322437  0.177878 -0.008515  0.115073  0.847906  1.000000   \n",
              "총임대세대수   0.035525  0.077322  0.297583  0.083768  0.099327  0.761291  0.578065   \n",
              "평균전용면적   0.092954 -0.347265 -0.160227 -0.043051  0.045729  0.188508  0.392980   \n",
              "총전용면적    0.106082 -0.131014  0.235840  0.055323  0.121336  0.860482  0.798962   \n",
              "평균임대보증금  0.333022 -0.030003  0.145304  0.077493  0.123857  0.294817  0.362990   \n",
              "평균임대료    0.231371 -0.107995 -0.056348  0.099477  0.071890  0.299982  0.452189   \n",
              "\n",
              "           총임대세대수    평균전용면적     총전용면적   평균임대보증금     평균임대료  \n",
              "n지역      0.035525  0.092954  0.106082  0.333022  0.231371  \n",
              "n공급유형    0.077322 -0.347265 -0.131014 -0.030003 -0.107995  \n",
              "공가수      0.297583 -0.160227  0.235840  0.145304 -0.056348  \n",
              "지하철      0.083768 -0.043051  0.055323  0.077493  0.099477  \n",
              "버스       0.099327  0.045729  0.121336  0.123857  0.071890  \n",
              "단지내주차면수  0.761291  0.188508  0.860482  0.294817  0.299982  \n",
              "등록차량수    0.578065  0.392980  0.798962  0.362990  0.452189  \n",
              "총임대세대수   1.000000 -0.104629  0.855401  0.018570  0.003936  \n",
              "평균전용면적  -0.104629  1.000000  0.327438  0.460172  0.714489  \n",
              "총전용면적    0.855401  0.327438  1.000000  0.229050  0.325507  \n",
              "평균임대보증금  0.018570  0.460172  0.229050  1.000000  0.603404  \n",
              "평균임대료    0.003936  0.714489  0.325507  0.603404  1.000000  "
            ],
            "text/html": [
              "\n",
              "  <div id=\"df-c5afc534-f639-4c6f-a9bc-3043ab027cd8\">\n",
              "    <div class=\"colab-df-container\">\n",
              "      <div>\n",
              "<style scoped>\n",
              "    .dataframe tbody tr th:only-of-type {\n",
              "        vertical-align: middle;\n",
              "    }\n",
              "\n",
              "    .dataframe tbody tr th {\n",
              "        vertical-align: top;\n",
              "    }\n",
              "\n",
              "    .dataframe thead th {\n",
              "        text-align: right;\n",
              "    }\n",
              "</style>\n",
              "<table border=\"1\" class=\"dataframe\">\n",
              "  <thead>\n",
              "    <tr style=\"text-align: right;\">\n",
              "      <th></th>\n",
              "      <th>n지역</th>\n",
              "      <th>n공급유형</th>\n",
              "      <th>공가수</th>\n",
              "      <th>지하철</th>\n",
              "      <th>버스</th>\n",
              "      <th>단지내주차면수</th>\n",
              "      <th>등록차량수</th>\n",
              "      <th>총임대세대수</th>\n",
              "      <th>평균전용면적</th>\n",
              "      <th>총전용면적</th>\n",
              "      <th>평균임대보증금</th>\n",
              "      <th>평균임대료</th>\n",
              "    </tr>\n",
              "  </thead>\n",
              "  <tbody>\n",
              "    <tr>\n",
              "      <th>n지역</th>\n",
              "      <td>1.000000</td>\n",
              "      <td>-0.209452</td>\n",
              "      <td>0.075245</td>\n",
              "      <td>0.004269</td>\n",
              "      <td>0.067745</td>\n",
              "      <td>0.233299</td>\n",
              "      <td>0.322541</td>\n",
              "      <td>0.035525</td>\n",
              "      <td>0.092954</td>\n",
              "      <td>0.106082</td>\n",
              "      <td>0.333022</td>\n",
              "      <td>0.231371</td>\n",
              "    </tr>\n",
              "    <tr>\n",
              "      <th>n공급유형</th>\n",
              "      <td>-0.209452</td>\n",
              "      <td>1.000000</td>\n",
              "      <td>-0.013616</td>\n",
              "      <td>0.036768</td>\n",
              "      <td>0.005530</td>\n",
              "      <td>-0.306854</td>\n",
              "      <td>-0.322437</td>\n",
              "      <td>0.077322</td>\n",
              "      <td>-0.347265</td>\n",
              "      <td>-0.131014</td>\n",
              "      <td>-0.030003</td>\n",
              "      <td>-0.107995</td>\n",
              "    </tr>\n",
              "    <tr>\n",
              "      <th>공가수</th>\n",
              "      <td>0.075245</td>\n",
              "      <td>-0.013616</td>\n",
              "      <td>1.000000</td>\n",
              "      <td>-0.108163</td>\n",
              "      <td>0.061637</td>\n",
              "      <td>0.394994</td>\n",
              "      <td>0.177878</td>\n",
              "      <td>0.297583</td>\n",
              "      <td>-0.160227</td>\n",
              "      <td>0.235840</td>\n",
              "      <td>0.145304</td>\n",
              "      <td>-0.056348</td>\n",
              "    </tr>\n",
              "    <tr>\n",
              "      <th>지하철</th>\n",
              "      <td>0.004269</td>\n",
              "      <td>0.036768</td>\n",
              "      <td>-0.108163</td>\n",
              "      <td>1.000000</td>\n",
              "      <td>0.104985</td>\n",
              "      <td>0.013349</td>\n",
              "      <td>-0.008515</td>\n",
              "      <td>0.083768</td>\n",
              "      <td>-0.043051</td>\n",
              "      <td>0.055323</td>\n",
              "      <td>0.077493</td>\n",
              "      <td>0.099477</td>\n",
              "    </tr>\n",
              "    <tr>\n",
              "      <th>버스</th>\n",
              "      <td>0.067745</td>\n",
              "      <td>0.005530</td>\n",
              "      <td>0.061637</td>\n",
              "      <td>0.104985</td>\n",
              "      <td>1.000000</td>\n",
              "      <td>0.103963</td>\n",
              "      <td>0.115073</td>\n",
              "      <td>0.099327</td>\n",
              "      <td>0.045729</td>\n",
              "      <td>0.121336</td>\n",
              "      <td>0.123857</td>\n",
              "      <td>0.071890</td>\n",
              "    </tr>\n",
              "    <tr>\n",
              "      <th>단지내주차면수</th>\n",
              "      <td>0.233299</td>\n",
              "      <td>-0.306854</td>\n",
              "      <td>0.394994</td>\n",
              "      <td>0.013349</td>\n",
              "      <td>0.103963</td>\n",
              "      <td>1.000000</td>\n",
              "      <td>0.847906</td>\n",
              "      <td>0.761291</td>\n",
              "      <td>0.188508</td>\n",
              "      <td>0.860482</td>\n",
              "      <td>0.294817</td>\n",
              "      <td>0.299982</td>\n",
              "    </tr>\n",
              "    <tr>\n",
              "      <th>등록차량수</th>\n",
              "      <td>0.322541</td>\n",
              "      <td>-0.322437</td>\n",
              "      <td>0.177878</td>\n",
              "      <td>-0.008515</td>\n",
              "      <td>0.115073</td>\n",
              "      <td>0.847906</td>\n",
              "      <td>1.000000</td>\n",
              "      <td>0.578065</td>\n",
              "      <td>0.392980</td>\n",
              "      <td>0.798962</td>\n",
              "      <td>0.362990</td>\n",
              "      <td>0.452189</td>\n",
              "    </tr>\n",
              "    <tr>\n",
              "      <th>총임대세대수</th>\n",
              "      <td>0.035525</td>\n",
              "      <td>0.077322</td>\n",
              "      <td>0.297583</td>\n",
              "      <td>0.083768</td>\n",
              "      <td>0.099327</td>\n",
              "      <td>0.761291</td>\n",
              "      <td>0.578065</td>\n",
              "      <td>1.000000</td>\n",
              "      <td>-0.104629</td>\n",
              "      <td>0.855401</td>\n",
              "      <td>0.018570</td>\n",
              "      <td>0.003936</td>\n",
              "    </tr>\n",
              "    <tr>\n",
              "      <th>평균전용면적</th>\n",
              "      <td>0.092954</td>\n",
              "      <td>-0.347265</td>\n",
              "      <td>-0.160227</td>\n",
              "      <td>-0.043051</td>\n",
              "      <td>0.045729</td>\n",
              "      <td>0.188508</td>\n",
              "      <td>0.392980</td>\n",
              "      <td>-0.104629</td>\n",
              "      <td>1.000000</td>\n",
              "      <td>0.327438</td>\n",
              "      <td>0.460172</td>\n",
              "      <td>0.714489</td>\n",
              "    </tr>\n",
              "    <tr>\n",
              "      <th>총전용면적</th>\n",
              "      <td>0.106082</td>\n",
              "      <td>-0.131014</td>\n",
              "      <td>0.235840</td>\n",
              "      <td>0.055323</td>\n",
              "      <td>0.121336</td>\n",
              "      <td>0.860482</td>\n",
              "      <td>0.798962</td>\n",
              "      <td>0.855401</td>\n",
              "      <td>0.327438</td>\n",
              "      <td>1.000000</td>\n",
              "      <td>0.229050</td>\n",
              "      <td>0.325507</td>\n",
              "    </tr>\n",
              "    <tr>\n",
              "      <th>평균임대보증금</th>\n",
              "      <td>0.333022</td>\n",
              "      <td>-0.030003</td>\n",
              "      <td>0.145304</td>\n",
              "      <td>0.077493</td>\n",
              "      <td>0.123857</td>\n",
              "      <td>0.294817</td>\n",
              "      <td>0.362990</td>\n",
              "      <td>0.018570</td>\n",
              "      <td>0.460172</td>\n",
              "      <td>0.229050</td>\n",
              "      <td>1.000000</td>\n",
              "      <td>0.603404</td>\n",
              "    </tr>\n",
              "    <tr>\n",
              "      <th>평균임대료</th>\n",
              "      <td>0.231371</td>\n",
              "      <td>-0.107995</td>\n",
              "      <td>-0.056348</td>\n",
              "      <td>0.099477</td>\n",
              "      <td>0.071890</td>\n",
              "      <td>0.299982</td>\n",
              "      <td>0.452189</td>\n",
              "      <td>0.003936</td>\n",
              "      <td>0.714489</td>\n",
              "      <td>0.325507</td>\n",
              "      <td>0.603404</td>\n",
              "      <td>1.000000</td>\n",
              "    </tr>\n",
              "  </tbody>\n",
              "</table>\n",
              "</div>\n",
              "      <button class=\"colab-df-convert\" onclick=\"convertToInteractive('df-c5afc534-f639-4c6f-a9bc-3043ab027cd8')\"\n",
              "              title=\"Convert this dataframe to an interactive table.\"\n",
              "              style=\"display:none;\">\n",
              "        \n",
              "  <svg xmlns=\"http://www.w3.org/2000/svg\" height=\"24px\"viewBox=\"0 0 24 24\"\n",
              "       width=\"24px\">\n",
              "    <path d=\"M0 0h24v24H0V0z\" fill=\"none\"/>\n",
              "    <path d=\"M18.56 5.44l.94 2.06.94-2.06 2.06-.94-2.06-.94-.94-2.06-.94 2.06-2.06.94zm-11 1L8.5 8.5l.94-2.06 2.06-.94-2.06-.94L8.5 2.5l-.94 2.06-2.06.94zm10 10l.94 2.06.94-2.06 2.06-.94-2.06-.94-.94-2.06-.94 2.06-2.06.94z\"/><path d=\"M17.41 7.96l-1.37-1.37c-.4-.4-.92-.59-1.43-.59-.52 0-1.04.2-1.43.59L10.3 9.45l-7.72 7.72c-.78.78-.78 2.05 0 2.83L4 21.41c.39.39.9.59 1.41.59.51 0 1.02-.2 1.41-.59l7.78-7.78 2.81-2.81c.8-.78.8-2.07 0-2.86zM5.41 20L4 18.59l7.72-7.72 1.47 1.35L5.41 20z\"/>\n",
              "  </svg>\n",
              "      </button>\n",
              "      \n",
              "  <style>\n",
              "    .colab-df-container {\n",
              "      display:flex;\n",
              "      flex-wrap:wrap;\n",
              "      gap: 12px;\n",
              "    }\n",
              "\n",
              "    .colab-df-convert {\n",
              "      background-color: #E8F0FE;\n",
              "      border: none;\n",
              "      border-radius: 50%;\n",
              "      cursor: pointer;\n",
              "      display: none;\n",
              "      fill: #1967D2;\n",
              "      height: 32px;\n",
              "      padding: 0 0 0 0;\n",
              "      width: 32px;\n",
              "    }\n",
              "\n",
              "    .colab-df-convert:hover {\n",
              "      background-color: #E2EBFA;\n",
              "      box-shadow: 0px 1px 2px rgba(60, 64, 67, 0.3), 0px 1px 3px 1px rgba(60, 64, 67, 0.15);\n",
              "      fill: #174EA6;\n",
              "    }\n",
              "\n",
              "    [theme=dark] .colab-df-convert {\n",
              "      background-color: #3B4455;\n",
              "      fill: #D2E3FC;\n",
              "    }\n",
              "\n",
              "    [theme=dark] .colab-df-convert:hover {\n",
              "      background-color: #434B5C;\n",
              "      box-shadow: 0px 1px 3px 1px rgba(0, 0, 0, 0.15);\n",
              "      filter: drop-shadow(0px 1px 2px rgba(0, 0, 0, 0.3));\n",
              "      fill: #FFFFFF;\n",
              "    }\n",
              "  </style>\n",
              "\n",
              "      <script>\n",
              "        const buttonEl =\n",
              "          document.querySelector('#df-c5afc534-f639-4c6f-a9bc-3043ab027cd8 button.colab-df-convert');\n",
              "        buttonEl.style.display =\n",
              "          google.colab.kernel.accessAllowed ? 'block' : 'none';\n",
              "\n",
              "        async function convertToInteractive(key) {\n",
              "          const element = document.querySelector('#df-c5afc534-f639-4c6f-a9bc-3043ab027cd8');\n",
              "          const dataTable =\n",
              "            await google.colab.kernel.invokeFunction('convertToInteractive',\n",
              "                                                     [key], {});\n",
              "          if (!dataTable) return;\n",
              "\n",
              "          const docLinkHtml = 'Like what you see? Visit the ' +\n",
              "            '<a target=\"_blank\" href=https://colab.research.google.com/notebooks/data_table.ipynb>data table notebook</a>'\n",
              "            + ' to learn more about interactive tables.';\n",
              "          element.innerHTML = '';\n",
              "          dataTable['output_type'] = 'display_data';\n",
              "          await google.colab.output.renderOutput(dataTable, element);\n",
              "          const docLink = document.createElement('div');\n",
              "          docLink.innerHTML = docLinkHtml;\n",
              "          element.appendChild(docLink);\n",
              "        }\n",
              "      </script>\n",
              "    </div>\n",
              "  </div>\n",
              "  "
            ]
          },
          "metadata": {},
          "execution_count": 43
        }
      ]
    },
    {
      "cell_type": "markdown",
      "source": [
        "* 높은 상관 → 단지내주차면수, 총전용면적, 총임대세대수\n",
        "* 중간 상관 → 평균임대료, 평균전용면적, 평균임대보증금, n지역, n공급유형\n",
        "* 낮은 상관 → 공가수, 버스, 지하철"
      ],
      "metadata": {
        "id": "O1MJ7T9PkYO9"
      }
    },
    {
      "cell_type": "code",
      "source": [
        "corr = df_train.corr()['등록차량수'].sort_values(ascending=False)\n",
        "corr "
      ],
      "metadata": {
        "colab": {
          "base_uri": "https://localhost:8080/"
        },
        "id": "uDpW43K4kWaR",
        "outputId": "a5ca22c3-de28-422c-a5c2-d4900f2d8b36"
      },
      "execution_count": 44,
      "outputs": [
        {
          "output_type": "execute_result",
          "data": {
            "text/plain": [
              "등록차량수      1.000000\n",
              "단지내주차면수    0.847906\n",
              "총전용면적      0.798962\n",
              "총임대세대수     0.578065\n",
              "평균임대료      0.452189\n",
              "평균전용면적     0.392980\n",
              "평균임대보증금    0.362990\n",
              "n지역        0.322541\n",
              "공가수        0.177878\n",
              "버스         0.115073\n",
              "지하철       -0.008515\n",
              "n공급유형     -0.322437\n",
              "Name: 등록차량수, dtype: float64"
            ]
          },
          "metadata": {},
          "execution_count": 44
        }
      ]
    },
    {
      "cell_type": "markdown",
      "source": [
        "<u>**초기모형 학습 및 평가**</u>"
      ],
      "metadata": {
        "id": "CSoUcnAWlaFp"
      }
    },
    {
      "cell_type": "markdown",
      "source": [
        "초기모형: Linear Regression\n",
        "* 모든 피처(11개) 투입\n",
        "* StandardScaler로 표준화\n",
        "* 초기모형의 예측 성능과 5 fold 교차검정을 통한 모형 평가 결과에 따르면 학습에 사용되는 데이터에 따라 예측 결과에 큰 영향을 미칠 것으로 예상"
      ],
      "metadata": {
        "id": "y_zEVDzMlfBS"
      }
    },
    {
      "cell_type": "code",
      "source": [
        "# 스케일링 후 성능이 감소하는 결과가 나타나 최종 다항회귀 모형에서는 스케일링 과정 제외\n",
        "scaler = StandardScaler()\n",
        "scaling_features = ['n지역', 'n공급유형', '공가수', '지하철', '버스', '단지내주차면수', '총임대세대수', '평균전용면적', '총전용면적', '평균임대보증금', '평균임대료']\n",
        "\n",
        "tmp_train = df_train.copy()\n",
        "tmp_train.loc[:, scaling_features] = scaler.fit_transform(tmp_train[scaling_features])"
      ],
      "metadata": {
        "id": "CgfFiqaTmc1l"
      },
      "execution_count": 45,
      "outputs": []
    },
    {
      "cell_type": "code",
      "source": [
        "y_target = tmp_train['등록차량수']\n",
        "X_data = tmp_train.drop(['단지코드', '등록차량수'], axis=1, inplace=False) \n",
        "\n",
        "X_train, X_test, y_train, y_test = train_test_split(X_data, y_target, shuffle=False, random_state=123, test_size=0.1)"
      ],
      "metadata": {
        "id": "H-2mQpoXmhhV"
      },
      "execution_count": 46,
      "outputs": []
    },
    {
      "cell_type": "code",
      "source": [
        "model = LinearRegression()\n",
        "model.fit(X_train, y_train)\n",
        "\n",
        "print(f'R2 Score : {r2_score(model.predict(X_test), y_test)}, MAE : {mean_absolute_error(model.predict(X_test), y_test)}')\n"
      ],
      "metadata": {
        "colab": {
          "base_uri": "https://localhost:8080/"
        },
        "id": "89CmNV-Tmi95",
        "outputId": "4b3bd8c0-06e9-41a6-fb5b-5cd9d97eb7ba"
      },
      "execution_count": 47,
      "outputs": [
        {
          "output_type": "stream",
          "name": "stdout",
          "text": [
            "R2 Score : 0.8510386124431302, MAE : 109.92051574556282\n"
          ]
        }
      ]
    },
    {
      "cell_type": "code",
      "source": [
        "from sklearn.model_selection import cross_val_score\n",
        "\n",
        "mae_scores = cross_val_score(model, X_data, y_target, scoring='neg_mean_absolute_error', cv=5)\n",
        "avg_mae = np.mean(mae_scores)\n",
        "\n",
        "print(f'5Fold 개별 MAE score : ', mae_scores)\n",
        "print(f'5Fold 평균 MAE : ', avg_mae)"
      ],
      "metadata": {
        "colab": {
          "base_uri": "https://localhost:8080/"
        },
        "id": "w_UmgyPhmwSe",
        "outputId": "0a0e6e0d-1f60-47ca-b0f2-a6d242abd822"
      },
      "execution_count": 48,
      "outputs": [
        {
          "output_type": "stream",
          "name": "stdout",
          "text": [
            "5Fold 개별 MAE score :  [-238.96340483 -110.66110408  -90.50790683 -130.17935303 -148.11245629]\n",
            "5Fold 평균 MAE :  -143.68484501271064\n"
          ]
        }
      ]
    },
    {
      "cell_type": "markdown",
      "source": [
        "<u>회귀계수 확인을 통한 모형 검토</u>\n",
        "* 정적 회귀계수 피처\n",
        "* n지역 / n공급유형 / 버스 / 단지내주차면수 / 평균전용면적 / 총전용면적 / 평균임대료\n",
        "* 부적 회귀계수 피처\n",
        "* 공가수 / 지하철 / 총임대세대수 / 평균임대보증금"
      ],
      "metadata": {
        "id": "UhRZ_Lw9m0fI"
      }
    },
    {
      "cell_type": "code",
      "source": [
        "coef = pd.Series(model.coef_, index=X_data.columns)\n",
        "coef"
      ],
      "metadata": {
        "colab": {
          "base_uri": "https://localhost:8080/"
        },
        "id": "RZit_QRqmwv6",
        "outputId": "440424dd-df8d-4718-d019-9ded96a0de11"
      },
      "execution_count": 49,
      "outputs": [
        {
          "output_type": "execute_result",
          "data": {
            "text/plain": [
              "n지역         51.778763\n",
              "n공급유형        0.153727\n",
              "공가수        -37.455600\n",
              "지하철        -15.230694\n",
              "버스           4.527867\n",
              "단지내주차면수    260.725414\n",
              "총임대세대수    -112.308685\n",
              "평균전용면적       8.774518\n",
              "총전용면적      181.324184\n",
              "평균임대보증금     -9.935424\n",
              "평균임대료       28.898273\n",
              "dtype: float64"
            ]
          },
          "metadata": {},
          "execution_count": 49
        }
      ]
    },
    {
      "cell_type": "code",
      "source": [
        "#폰트 설치 \n",
        "!sudo apt-get install -y fonts-nanum\n",
        "!sudo fc-cache -fv\n",
        "!rm ~/.cache/matplotlib -rf"
      ],
      "metadata": {
        "colab": {
          "base_uri": "https://localhost:8080/"
        },
        "id": "dXYvpEWGnSoT",
        "outputId": "e6d81a1d-a26b-4829-dd4c-a62975b924cf"
      },
      "execution_count": 50,
      "outputs": [
        {
          "output_type": "stream",
          "name": "stdout",
          "text": [
            "Reading package lists... Done\n",
            "Building dependency tree       \n",
            "Reading state information... Done\n",
            "fonts-nanum is already the newest version (20170925-1).\n",
            "The following package was automatically installed and is no longer required:\n",
            "  libnvidia-common-460\n",
            "Use 'sudo apt autoremove' to remove it.\n",
            "0 upgraded, 0 newly installed, 0 to remove and 20 not upgraded.\n",
            "/usr/share/fonts: caching, new cache contents: 0 fonts, 1 dirs\n",
            "/usr/share/fonts/truetype: caching, new cache contents: 0 fonts, 3 dirs\n",
            "/usr/share/fonts/truetype/humor-sans: caching, new cache contents: 1 fonts, 0 dirs\n",
            "/usr/share/fonts/truetype/liberation: caching, new cache contents: 16 fonts, 0 dirs\n",
            "/usr/share/fonts/truetype/nanum: caching, new cache contents: 10 fonts, 0 dirs\n",
            "/usr/local/share/fonts: caching, new cache contents: 0 fonts, 0 dirs\n",
            "/root/.local/share/fonts: skipping, no such directory\n",
            "/root/.fonts: skipping, no such directory\n",
            "/var/cache/fontconfig: cleaning cache directory\n",
            "/root/.cache/fontconfig: not cleaning non-existent cache directory\n",
            "/root/.fontconfig: not cleaning non-existent cache directory\n",
            "fc-cache: succeeded\n"
          ]
        }
      ]
    },
    {
      "cell_type": "code",
      "source": [
        "sns.set(font=\"NanumBarunGothic\", rc={\"axes.unicode_minus\":False}, style='white')\n",
        "sns.barplot(x=coef.values, y=coef.index)"
      ],
      "metadata": {
        "colab": {
          "base_uri": "https://localhost:8080/",
          "height": 288
        },
        "id": "JahOVp1mnRFt",
        "outputId": "ec3d6215-7f65-4699-eb28-a2a6c4a53be0"
      },
      "execution_count": 51,
      "outputs": [
        {
          "output_type": "execute_result",
          "data": {
            "text/plain": [
              "<matplotlib.axes._subplots.AxesSubplot at 0x7f3c49305e90>"
            ]
          },
          "metadata": {},
          "execution_count": 51
        },
        {
          "output_type": "display_data",
          "data": {
            "text/plain": [
              "<Figure size 432x288 with 1 Axes>"
            ],
            "image/png": "[encoded data removed]"
          },
          "metadata": {}
        }
      ]
    },
    {
      "cell_type": "markdown",
      "source": [
        "<u>permutation importance를 통한 피처 중요도 검토</u>"
      ],
      "metadata": {
        "id": "bsvvxwMNoIjN"
      }
    },
    {
      "cell_type": "code",
      "source": [
        "from sklearn.inspection import permutation_importance\n",
        "\n",
        "\n",
        "pmt_columns = ['n지역', 'n공급유형', '공가수', '지하철', '버스', '단지내주차면수',\n",
        "       '총임대세대수', '평균전용면적', '총전용면적', '평균임대보증금', '평균임대료']\n",
        "\n",
        "target = '등록차량수'\n",
        "\n",
        "X_pmt = df_train.loc[:, pmt_columns]\n",
        "y_pmt = df_train.loc[:, target]\n",
        "\n",
        "X_pmt_train, X_pmt_val, y_pmt_train, y_pmt_val = train_test_split(X_pmt, y_pmt, random_state=123, test_size=0.1)\n",
        "\n",
        "model = LinearRegression().fit(X_pmt_train, y_pmt_train)\n",
        "y_pmt_pred = model.predict(X_pmt_val)\n",
        "\n",
        "r = permutation_importance(model, X_pmt_val, y_pmt_val, n_repeats=100, random_state=0)\n",
        "\n",
        "for i in r.importances_mean.argsort()[::-1]:\n",
        "    if r.importances_mean[i] - 2 * r.importances_std[i] > 0:\n",
        "        print(X_pmt.columns[i], \"     \", np.round(r.importances_mean[i], 4), \" +/-\", np.round(r.importances_std[i], 5))\n"
      ],
      "metadata": {
        "colab": {
          "base_uri": "https://localhost:8080/"
        },
        "id": "cmVrCn4eoD8G",
        "outputId": "3b821871-8f4f-412d-ba32-55d5f7bf299b"
      },
      "execution_count": 52,
      "outputs": [
        {
          "output_type": "stream",
          "name": "stdout",
          "text": [
            "단지내주차면수       0.779  +/- 0.15402\n",
            "총전용면적       0.5273  +/- 0.1295\n",
            "총임대세대수       0.3702  +/- 0.08431\n"
          ]
        }
      ]
    },
    {
      "cell_type": "markdown",
      "source": [
        "* permutation importance에 따른 주요 피처\n",
        "* 단지내주차면수, 총전용면적, 총임대세대수"
      ],
      "metadata": {
        "id": "xJoMslaTomPD"
      }
    },
    {
      "cell_type": "markdown",
      "source": [
        "## **2) 다항회귀(Polynomial Regression)**"
      ],
      "metadata": {
        "id": "wkAFA4SFor94"
      }
    },
    {
      "cell_type": "markdown",
      "source": [
        "-상관, 회귀, permutation importance를 기반으로 최종 피처 선정\n",
        "* 단지내주차면수, 총전용면적, 총임대세대수\n",
        "\n",
        "-최종 : 단지내주차면수/총임대세대수 + 평균전용면적/지역/공가수/공급유형\n",
        "* 총전용면적의 다중공선성을 고려해 '평균전용면적'으로 대체\n",
        "*상관이 가장 낮은 버스, 지하철 제외\n",
        "*회귀계수가 큰 순서대로 투입 결과, '평균임대보증금', '평균임대료' 의 개선 효과 미미하여 제외\n",
        "*PolynomialFeatures 클래스를 활용해 가장 적절한 2차식으로 표현\n",
        "\n",
        "-차수 증가할수록 과적합되어 MAE 폭발"
      ],
      "metadata": {
        "id": "jW5hR_5rqDTw"
      }
    },
    {
      "cell_type": "code",
      "source": [
        "from sklearn.preprocessing import PolynomialFeatures\n",
        "\n",
        "columns = ['단지내주차면수', '총임대세대수', '평균전용면적', '공가수', 'n지역', 'n공급유형'] \n",
        "\n",
        "target = '등록차량수'\n",
        "\n",
        "X = df_train.loc[:, columns]\n",
        "y = df_train.loc[:, target]\n",
        "x_val = df_test.loc[:, columns]\n",
        "\n",
        "cat_features = [\"n지역\", \"n공급유형\"]  \n",
        "X = X.astype(dict((feature, 'category') for feature in cat_features))\n",
        "x_val = x_val.astype(dict((feature, 'category') for feature in cat_features))\n",
        "\n",
        "poly = PolynomialFeatures(degree=2, include_bias=False)\n",
        "X_poly = pd.DataFrame(poly.fit_transform(X))\n",
        "x_val_poly = pd.DataFrame(poly.transform(x_val))"
      ],
      "metadata": {
        "id": "Ev84Yox-ol7W"
      },
      "execution_count": 53,
      "outputs": []
    },
    {
      "cell_type": "code",
      "source": [
        "X.shape, X_poly.shape"
      ],
      "metadata": {
        "colab": {
          "base_uri": "https://localhost:8080/"
        },
        "id": "xq0NVvEBquHU",
        "outputId": "820b3a91-dc9d-4c36-e418-045f6d6462ce"
      },
      "execution_count": 54,
      "outputs": [
        {
          "output_type": "execute_result",
          "data": {
            "text/plain": [
              "((412, 6), (412, 27))"
            ]
          },
          "metadata": {},
          "execution_count": 54
        }
      ]
    },
    {
      "cell_type": "code",
      "source": [
        "poly.get_feature_names()"
      ],
      "metadata": {
        "colab": {
          "base_uri": "https://localhost:8080/"
        },
        "id": "ubd9DALqqvi7",
        "outputId": "10945ba5-9ae4-445a-d2ff-3bb7d57c71f9"
      },
      "execution_count": 55,
      "outputs": [
        {
          "output_type": "execute_result",
          "data": {
            "text/plain": [
              "['x0',\n",
              " 'x1',\n",
              " 'x2',\n",
              " 'x3',\n",
              " 'x4',\n",
              " 'x5',\n",
              " 'x0^2',\n",
              " 'x0 x1',\n",
              " 'x0 x2',\n",
              " 'x0 x3',\n",
              " 'x0 x4',\n",
              " 'x0 x5',\n",
              " 'x1^2',\n",
              " 'x1 x2',\n",
              " 'x1 x3',\n",
              " 'x1 x4',\n",
              " 'x1 x5',\n",
              " 'x2^2',\n",
              " 'x2 x3',\n",
              " 'x2 x4',\n",
              " 'x2 x5',\n",
              " 'x3^2',\n",
              " 'x3 x4',\n",
              " 'x3 x5',\n",
              " 'x4^2',\n",
              " 'x4 x5',\n",
              " 'x5^2']"
            ]
          },
          "metadata": {},
          "execution_count": 55
        }
      ]
    },
    {
      "cell_type": "markdown",
      "source": [
        "## **STEP5. 모형 개선**"
      ],
      "metadata": {
        "id": "RhD_LihHqwxs"
      }
    },
    {
      "cell_type": "markdown",
      "source": [
        "### **1) 가중치 생성**"
      ],
      "metadata": {
        "id": "DMTHxeSMqzod"
      }
    },
    {
      "cell_type": "markdown",
      "source": [
        "<u>**Cook's D를 활용한 가중치**</u>\n",
        "\n",
        "Cook's Distance : 각 관측값이 전체 최소제곱추정량에 미치는 영향력을 보여주는 통계적 지표 → 값이 클수록 회귀모형에 큰 영향을 주는 샘플(주로 outlier detection에 사용)\n",
        "\n",
        "* Cook's D의 값이 큰 샘플에 작은 가중치, Cook's D의 값이 작은 샘플에 큰 가중치를 부여하면 예측력이 더 높아지지 않을까?\n",
        "*이상치 통제 & 잘 예측하지 못하는 샘플 강조의 기능 예상"
      ],
      "metadata": {
        "id": "6bNKEL3fq2qS"
      }
    },
    {
      "cell_type": "code",
      "source": [
        "# Cook’s D 값의 크기에 따라 역순으로 0~1 사이의 가중치 생성\n",
        "\n",
        "from statsmodels.stats.outliers_influence import OLSInfluence\n",
        "import statsmodels.api as sm\n",
        "\n",
        "OLS = sm.OLS(y, X_poly)\n",
        "result = OLS.fit()\n",
        "influence = OLSInfluence(result)\n",
        "\n",
        "weight = (influence.cooks_distance[0]).to_numpy()\n",
        "\n",
        "for i in range(len(weight)):\n",
        "    if weight[i] < 0.00000001:\n",
        "        weight[i] = 0.9\n",
        "    elif weight[i] < 0.0000001:\n",
        "        weight[i] = 0.8\n",
        "    elif weight[i] < 0.000001:\n",
        "        weight[i] = 0.7\n",
        "    elif weight[i] < 0.00001:\n",
        "        weight[i] = 0.6\n",
        "    elif weight[i] < 0.0001:\n",
        "        weight[i] = 0.5\n",
        "    elif weight[i] < 0.001:\n",
        "        weight[i] = 0.4\n",
        "    elif weight[i] < 0.01:\n",
        "        weight[i] = 0.3\n",
        "    elif weight[i] < 0.1:\n",
        "        weight[i] = 0.2\n",
        "    else:\n",
        "        weight[i] = 0.1"
      ],
      "metadata": {
        "id": "d9szbGDLrIzU"
      },
      "execution_count": 56,
      "outputs": []
    },
    {
      "cell_type": "markdown",
      "source": [
        "### **2) Stratified KFold**"
      ],
      "metadata": {
        "id": "J744GTGJrKAx"
      }
    },
    {
      "cell_type": "code",
      "source": [
        "from sklearn.model_selection import StratifiedKFold\n",
        "\n",
        "y_cat = pd.cut(y, 10, labels=range(10))\n",
        "\n",
        "skf = StratifiedKFold(5)\n",
        "LR = LinearRegression()\n",
        "\n",
        "preds = []\n",
        "\n",
        "for tr_id, val_id in skf.split(X_poly, y_cat) : \n",
        "    X_tr = X_poly.iloc[tr_id]\n",
        "    y_tr = y.iloc[tr_id]\n",
        "    weight_tr = weight[tr_id]\n",
        "\n",
        "    LR.fit(X_tr, y_tr, sample_weight=weight_tr)\n",
        "    \n",
        "    pred = LR.predict(x_val_poly)\n",
        "    preds.append(pred)\n",
        "\n",
        "LR_pred = np.mean(preds, axis = 0)"
      ],
      "metadata": {
        "id": "Y_sZsHvDrJKb"
      },
      "execution_count": 57,
      "outputs": []
    },
    {
      "cell_type": "markdown",
      "source": [
        "## **STEP6. 제출**"
      ],
      "metadata": {
        "id": "AJfdy8enrSoj"
      }
    },
    {
      "cell_type": "code",
      "source": [
        "submission['num'] = LR_pred\n",
        "\n",
        "submission.to_csv('final_output.csv', index=False)"
      ],
      "metadata": {
        "id": "00gZH6ilrP0f"
      },
      "execution_count": 58,
      "outputs": []
    }
  ]
}