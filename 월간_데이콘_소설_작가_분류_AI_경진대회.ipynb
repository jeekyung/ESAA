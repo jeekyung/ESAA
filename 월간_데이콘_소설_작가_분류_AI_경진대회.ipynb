{
  "nbformat": 4,
  "nbformat_minor": 0,
  "metadata": {
    "colab": {
      "provenance": [],
      "mount_file_id": "1VzYd4HP3gRtVfhxeB3WwEtGHaZrRfPxl",
      "authorship_tag": "ABX9TyO9ENuBCshT+ICGl+fzPwjx",
      "include_colab_link": true
    },
    "kernelspec": {
      "name": "python3",
      "display_name": "Python 3"
    },
    "language_info": {
      "name": "python"
    }
  },
  "cells": [
    {
      "cell_type": "markdown",
      "metadata": {
        "id": "view-in-github",
        "colab_type": "text"
      },
      "source": [
        "<a href=\"https://colab.research.google.com/github/jeekyung/ESAA/blob/main/%EC%9B%94%EA%B0%84_%EB%8D%B0%EC%9D%B4%EC%BD%98_%EC%86%8C%EC%84%A4_%EC%9E%91%EA%B0%80_%EB%B6%84%EB%A5%98_AI_%EA%B2%BD%EC%A7%84%EB%8C%80%ED%9A%8C.ipynb\" target=\"_parent\"><img src=\"https://colab.research.google.com/assets/colab-badge.svg\" alt=\"Open In Colab\"/></a>"
      ]
    },
    {
      "cell_type": "markdown",
      "source": [
        "# [양방향 LSTM을 활용한 예측 모델]"
      ],
      "metadata": {
        "id": "0fMt_9VnAGk8"
      }
    },
    {
      "cell_type": "code",
      "execution_count": 1,
      "metadata": {
        "id": "rXNckff3_9e4"
      },
      "outputs": [],
      "source": [
        "import pandas as pd\n",
        "import numpy as np\n",
        "import re\n",
        "\n",
        "import seaborn as sns\n",
        "import matplotlib.pyplot as plt\n",
        "\n",
        "from sklearn.metrics import accuracy_score, log_loss\n",
        "from sklearn.model_selection import StratifiedKFold\n",
        "\n",
        "import tensorflow as tf\n",
        "from tensorflow.keras import Sequential\n",
        "from tensorflow.keras.layers import Dense, Embedding, LSTM, Dropout, Bidirectional\n",
        "from tensorflow.keras.preprocessing.sequence import pad_sequences\n",
        "from tensorflow.keras.preprocessing.text import Tokenizer\n",
        "from tensorflow.keras.callbacks import EarlyStopping, ReduceLROnPlateau\n",
        "from tensorflow.keras.utils import plot_model, to_categorical\n",
        "from tensorflow.keras.optimizers import Adam\n",
        "\n",
        "from keras.utils import np_utils\n",
        "\n",
        "import warnings \n",
        "warnings.filterwarnings(action='ignore')"
      ]
    },
    {
      "cell_type": "markdown",
      "source": [
        "# 1. NLP Preprocessing"
      ],
      "metadata": {
        "id": "m52mOeYxAdQY"
      }
    },
    {
      "cell_type": "markdown",
      "source": [
        "## 1-1. 데이터 불러오기"
      ],
      "metadata": {
        "id": "ZEDU_3H9AhUY"
      }
    },
    {
      "cell_type": "code",
      "source": [
        "# train 데이터 불러오기\n",
        "train = pd.read_csv(\"/content/drive/MyDrive/235670_소설 작가 분류 AI 경진대회_data/train.csv\")\n",
        "train.head()"
      ],
      "metadata": {
        "colab": {
          "base_uri": "https://localhost:8080/",
          "height": 206
        },
        "id": "wCCIlYSdAkk_",
        "outputId": "15729455-3ad2-445d-af1d-e05dc251101e"
      },
      "execution_count": 2,
      "outputs": [
        {
          "output_type": "execute_result",
          "data": {
            "text/plain": [
              "   index                                               text  author\n",
              "0      0  He was almost choking. There was so much, so m...       3\n",
              "1      1             “Your sister asked for it, I suppose?”       2\n",
              "2      2   She was engaged one day as she walked, in per...       1\n",
              "3      3  The captain was in the porch, keeping himself ...       4\n",
              "4      4  “Have mercy, gentlemen!” odin flung up his han...       3"
            ],
            "text/html": [
              "\n",
              "  <div id=\"df-07cf972d-255c-4349-81ce-58ea87e5d616\">\n",
              "    <div class=\"colab-df-container\">\n",
              "      <div>\n",
              "<style scoped>\n",
              "    .dataframe tbody tr th:only-of-type {\n",
              "        vertical-align: middle;\n",
              "    }\n",
              "\n",
              "    .dataframe tbody tr th {\n",
              "        vertical-align: top;\n",
              "    }\n",
              "\n",
              "    .dataframe thead th {\n",
              "        text-align: right;\n",
              "    }\n",
              "</style>\n",
              "<table border=\"1\" class=\"dataframe\">\n",
              "  <thead>\n",
              "    <tr style=\"text-align: right;\">\n",
              "      <th></th>\n",
              "      <th>index</th>\n",
              "      <th>text</th>\n",
              "      <th>author</th>\n",
              "    </tr>\n",
              "  </thead>\n",
              "  <tbody>\n",
              "    <tr>\n",
              "      <th>0</th>\n",
              "      <td>0</td>\n",
              "      <td>He was almost choking. There was so much, so m...</td>\n",
              "      <td>3</td>\n",
              "    </tr>\n",
              "    <tr>\n",
              "      <th>1</th>\n",
              "      <td>1</td>\n",
              "      <td>“Your sister asked for it, I suppose?”</td>\n",
              "      <td>2</td>\n",
              "    </tr>\n",
              "    <tr>\n",
              "      <th>2</th>\n",
              "      <td>2</td>\n",
              "      <td>She was engaged one day as she walked, in per...</td>\n",
              "      <td>1</td>\n",
              "    </tr>\n",
              "    <tr>\n",
              "      <th>3</th>\n",
              "      <td>3</td>\n",
              "      <td>The captain was in the porch, keeping himself ...</td>\n",
              "      <td>4</td>\n",
              "    </tr>\n",
              "    <tr>\n",
              "      <th>4</th>\n",
              "      <td>4</td>\n",
              "      <td>“Have mercy, gentlemen!” odin flung up his han...</td>\n",
              "      <td>3</td>\n",
              "    </tr>\n",
              "  </tbody>\n",
              "</table>\n",
              "</div>\n",
              "      <button class=\"colab-df-convert\" onclick=\"convertToInteractive('df-07cf972d-255c-4349-81ce-58ea87e5d616')\"\n",
              "              title=\"Convert this dataframe to an interactive table.\"\n",
              "              style=\"display:none;\">\n",
              "        \n",
              "  <svg xmlns=\"http://www.w3.org/2000/svg\" height=\"24px\"viewBox=\"0 0 24 24\"\n",
              "       width=\"24px\">\n",
              "    <path d=\"M0 0h24v24H0V0z\" fill=\"none\"/>\n",
              "    <path d=\"M18.56 5.44l.94 2.06.94-2.06 2.06-.94-2.06-.94-.94-2.06-.94 2.06-2.06.94zm-11 1L8.5 8.5l.94-2.06 2.06-.94-2.06-.94L8.5 2.5l-.94 2.06-2.06.94zm10 10l.94 2.06.94-2.06 2.06-.94-2.06-.94-.94-2.06-.94 2.06-2.06.94z\"/><path d=\"M17.41 7.96l-1.37-1.37c-.4-.4-.92-.59-1.43-.59-.52 0-1.04.2-1.43.59L10.3 9.45l-7.72 7.72c-.78.78-.78 2.05 0 2.83L4 21.41c.39.39.9.59 1.41.59.51 0 1.02-.2 1.41-.59l7.78-7.78 2.81-2.81c.8-.78.8-2.07 0-2.86zM5.41 20L4 18.59l7.72-7.72 1.47 1.35L5.41 20z\"/>\n",
              "  </svg>\n",
              "      </button>\n",
              "      \n",
              "  <style>\n",
              "    .colab-df-container {\n",
              "      display:flex;\n",
              "      flex-wrap:wrap;\n",
              "      gap: 12px;\n",
              "    }\n",
              "\n",
              "    .colab-df-convert {\n",
              "      background-color: #E8F0FE;\n",
              "      border: none;\n",
              "      border-radius: 50%;\n",
              "      cursor: pointer;\n",
              "      display: none;\n",
              "      fill: #1967D2;\n",
              "      height: 32px;\n",
              "      padding: 0 0 0 0;\n",
              "      width: 32px;\n",
              "    }\n",
              "\n",
              "    .colab-df-convert:hover {\n",
              "      background-color: #E2EBFA;\n",
              "      box-shadow: 0px 1px 2px rgba(60, 64, 67, 0.3), 0px 1px 3px 1px rgba(60, 64, 67, 0.15);\n",
              "      fill: #174EA6;\n",
              "    }\n",
              "\n",
              "    [theme=dark] .colab-df-convert {\n",
              "      background-color: #3B4455;\n",
              "      fill: #D2E3FC;\n",
              "    }\n",
              "\n",
              "    [theme=dark] .colab-df-convert:hover {\n",
              "      background-color: #434B5C;\n",
              "      box-shadow: 0px 1px 3px 1px rgba(0, 0, 0, 0.15);\n",
              "      filter: drop-shadow(0px 1px 2px rgba(0, 0, 0, 0.3));\n",
              "      fill: #FFFFFF;\n",
              "    }\n",
              "  </style>\n",
              "\n",
              "      <script>\n",
              "        const buttonEl =\n",
              "          document.querySelector('#df-07cf972d-255c-4349-81ce-58ea87e5d616 button.colab-df-convert');\n",
              "        buttonEl.style.display =\n",
              "          google.colab.kernel.accessAllowed ? 'block' : 'none';\n",
              "\n",
              "        async function convertToInteractive(key) {\n",
              "          const element = document.querySelector('#df-07cf972d-255c-4349-81ce-58ea87e5d616');\n",
              "          const dataTable =\n",
              "            await google.colab.kernel.invokeFunction('convertToInteractive',\n",
              "                                                     [key], {});\n",
              "          if (!dataTable) return;\n",
              "\n",
              "          const docLinkHtml = 'Like what you see? Visit the ' +\n",
              "            '<a target=\"_blank\" href=https://colab.research.google.com/notebooks/data_table.ipynb>data table notebook</a>'\n",
              "            + ' to learn more about interactive tables.';\n",
              "          element.innerHTML = '';\n",
              "          dataTable['output_type'] = 'display_data';\n",
              "          await google.colab.output.renderOutput(dataTable, element);\n",
              "          const docLink = document.createElement('div');\n",
              "          docLink.innerHTML = docLinkHtml;\n",
              "          element.appendChild(docLink);\n",
              "        }\n",
              "      </script>\n",
              "    </div>\n",
              "  </div>\n",
              "  "
            ]
          },
          "metadata": {},
          "execution_count": 2
        }
      ]
    },
    {
      "cell_type": "code",
      "source": [
        "# test 데이터 불러오기\n",
        "test = pd.read_csv(\"/content/drive/MyDrive/235670_소설 작가 분류 AI 경진대회_data/test_x.csv\")\n",
        "test"
      ],
      "metadata": {
        "colab": {
          "base_uri": "https://localhost:8080/",
          "height": 423
        },
        "id": "9SNDCk5QBjZr",
        "outputId": "24895960-5da5-48e1-cd03-b12c02260655"
      },
      "execution_count": 4,
      "outputs": [
        {
          "output_type": "execute_result",
          "data": {
            "text/plain": [
              "       index                                               text\n",
              "0          0  “Not at all. I think she is one of the most ch...\n",
              "1          1  \"No,\" replied he, with sudden consciousness, \"...\n",
              "2          2  As the lady had stated her intention of scream...\n",
              "3          3  “And then suddenly in the silence I heard a so...\n",
              "4          4  His conviction remained unchanged. So far as I...\n",
              "...      ...                                                ...\n",
              "19612  19612  At the end of another day or two, odin growing...\n",
              "19613  19613  All afternoon we sat together, mostly in silen...\n",
              "19614  19614   odin, having carried his thanks to odin, proc...\n",
              "19615  19615  Soon after this, upon odin's leaving the room,...\n",
              "19616  19616  And all the worse for the doomed man, that the...\n",
              "\n",
              "[19617 rows x 2 columns]"
            ],
            "text/html": [
              "\n",
              "  <div id=\"df-939c72e4-0cce-4e6e-ae82-9d11dd1873de\">\n",
              "    <div class=\"colab-df-container\">\n",
              "      <div>\n",
              "<style scoped>\n",
              "    .dataframe tbody tr th:only-of-type {\n",
              "        vertical-align: middle;\n",
              "    }\n",
              "\n",
              "    .dataframe tbody tr th {\n",
              "        vertical-align: top;\n",
              "    }\n",
              "\n",
              "    .dataframe thead th {\n",
              "        text-align: right;\n",
              "    }\n",
              "</style>\n",
              "<table border=\"1\" class=\"dataframe\">\n",
              "  <thead>\n",
              "    <tr style=\"text-align: right;\">\n",
              "      <th></th>\n",
              "      <th>index</th>\n",
              "      <th>text</th>\n",
              "    </tr>\n",
              "  </thead>\n",
              "  <tbody>\n",
              "    <tr>\n",
              "      <th>0</th>\n",
              "      <td>0</td>\n",
              "      <td>“Not at all. I think she is one of the most ch...</td>\n",
              "    </tr>\n",
              "    <tr>\n",
              "      <th>1</th>\n",
              "      <td>1</td>\n",
              "      <td>\"No,\" replied he, with sudden consciousness, \"...</td>\n",
              "    </tr>\n",
              "    <tr>\n",
              "      <th>2</th>\n",
              "      <td>2</td>\n",
              "      <td>As the lady had stated her intention of scream...</td>\n",
              "    </tr>\n",
              "    <tr>\n",
              "      <th>3</th>\n",
              "      <td>3</td>\n",
              "      <td>“And then suddenly in the silence I heard a so...</td>\n",
              "    </tr>\n",
              "    <tr>\n",
              "      <th>4</th>\n",
              "      <td>4</td>\n",
              "      <td>His conviction remained unchanged. So far as I...</td>\n",
              "    </tr>\n",
              "    <tr>\n",
              "      <th>...</th>\n",
              "      <td>...</td>\n",
              "      <td>...</td>\n",
              "    </tr>\n",
              "    <tr>\n",
              "      <th>19612</th>\n",
              "      <td>19612</td>\n",
              "      <td>At the end of another day or two, odin growing...</td>\n",
              "    </tr>\n",
              "    <tr>\n",
              "      <th>19613</th>\n",
              "      <td>19613</td>\n",
              "      <td>All afternoon we sat together, mostly in silen...</td>\n",
              "    </tr>\n",
              "    <tr>\n",
              "      <th>19614</th>\n",
              "      <td>19614</td>\n",
              "      <td>odin, having carried his thanks to odin, proc...</td>\n",
              "    </tr>\n",
              "    <tr>\n",
              "      <th>19615</th>\n",
              "      <td>19615</td>\n",
              "      <td>Soon after this, upon odin's leaving the room,...</td>\n",
              "    </tr>\n",
              "    <tr>\n",
              "      <th>19616</th>\n",
              "      <td>19616</td>\n",
              "      <td>And all the worse for the doomed man, that the...</td>\n",
              "    </tr>\n",
              "  </tbody>\n",
              "</table>\n",
              "<p>19617 rows × 2 columns</p>\n",
              "</div>\n",
              "      <button class=\"colab-df-convert\" onclick=\"convertToInteractive('df-939c72e4-0cce-4e6e-ae82-9d11dd1873de')\"\n",
              "              title=\"Convert this dataframe to an interactive table.\"\n",
              "              style=\"display:none;\">\n",
              "        \n",
              "  <svg xmlns=\"http://www.w3.org/2000/svg\" height=\"24px\"viewBox=\"0 0 24 24\"\n",
              "       width=\"24px\">\n",
              "    <path d=\"M0 0h24v24H0V0z\" fill=\"none\"/>\n",
              "    <path d=\"M18.56 5.44l.94 2.06.94-2.06 2.06-.94-2.06-.94-.94-2.06-.94 2.06-2.06.94zm-11 1L8.5 8.5l.94-2.06 2.06-.94-2.06-.94L8.5 2.5l-.94 2.06-2.06.94zm10 10l.94 2.06.94-2.06 2.06-.94-2.06-.94-.94-2.06-.94 2.06-2.06.94z\"/><path d=\"M17.41 7.96l-1.37-1.37c-.4-.4-.92-.59-1.43-.59-.52 0-1.04.2-1.43.59L10.3 9.45l-7.72 7.72c-.78.78-.78 2.05 0 2.83L4 21.41c.39.39.9.59 1.41.59.51 0 1.02-.2 1.41-.59l7.78-7.78 2.81-2.81c.8-.78.8-2.07 0-2.86zM5.41 20L4 18.59l7.72-7.72 1.47 1.35L5.41 20z\"/>\n",
              "  </svg>\n",
              "      </button>\n",
              "      \n",
              "  <style>\n",
              "    .colab-df-container {\n",
              "      display:flex;\n",
              "      flex-wrap:wrap;\n",
              "      gap: 12px;\n",
              "    }\n",
              "\n",
              "    .colab-df-convert {\n",
              "      background-color: #E8F0FE;\n",
              "      border: none;\n",
              "      border-radius: 50%;\n",
              "      cursor: pointer;\n",
              "      display: none;\n",
              "      fill: #1967D2;\n",
              "      height: 32px;\n",
              "      padding: 0 0 0 0;\n",
              "      width: 32px;\n",
              "    }\n",
              "\n",
              "    .colab-df-convert:hover {\n",
              "      background-color: #E2EBFA;\n",
              "      box-shadow: 0px 1px 2px rgba(60, 64, 67, 0.3), 0px 1px 3px 1px rgba(60, 64, 67, 0.15);\n",
              "      fill: #174EA6;\n",
              "    }\n",
              "\n",
              "    [theme=dark] .colab-df-convert {\n",
              "      background-color: #3B4455;\n",
              "      fill: #D2E3FC;\n",
              "    }\n",
              "\n",
              "    [theme=dark] .colab-df-convert:hover {\n",
              "      background-color: #434B5C;\n",
              "      box-shadow: 0px 1px 3px 1px rgba(0, 0, 0, 0.15);\n",
              "      filter: drop-shadow(0px 1px 2px rgba(0, 0, 0, 0.3));\n",
              "      fill: #FFFFFF;\n",
              "    }\n",
              "  </style>\n",
              "\n",
              "      <script>\n",
              "        const buttonEl =\n",
              "          document.querySelector('#df-939c72e4-0cce-4e6e-ae82-9d11dd1873de button.colab-df-convert');\n",
              "        buttonEl.style.display =\n",
              "          google.colab.kernel.accessAllowed ? 'block' : 'none';\n",
              "\n",
              "        async function convertToInteractive(key) {\n",
              "          const element = document.querySelector('#df-939c72e4-0cce-4e6e-ae82-9d11dd1873de');\n",
              "          const dataTable =\n",
              "            await google.colab.kernel.invokeFunction('convertToInteractive',\n",
              "                                                     [key], {});\n",
              "          if (!dataTable) return;\n",
              "\n",
              "          const docLinkHtml = 'Like what you see? Visit the ' +\n",
              "            '<a target=\"_blank\" href=https://colab.research.google.com/notebooks/data_table.ipynb>data table notebook</a>'\n",
              "            + ' to learn more about interactive tables.';\n",
              "          element.innerHTML = '';\n",
              "          dataTable['output_type'] = 'display_data';\n",
              "          await google.colab.output.renderOutput(dataTable, element);\n",
              "          const docLink = document.createElement('div');\n",
              "          docLink.innerHTML = docLinkHtml;\n",
              "          element.appendChild(docLink);\n",
              "        }\n",
              "      </script>\n",
              "    </div>\n",
              "  </div>\n",
              "  "
            ]
          },
          "metadata": {},
          "execution_count": 4
        }
      ]
    },
    {
      "cell_type": "code",
      "source": [
        "# sample_submission 불러오기\n",
        "sample_submission = pd.read_csv(\"/content/drive/MyDrive/235670_소설 작가 분류 AI 경진대회_data/sample_submission.csv\")\n",
        "sample_submission"
      ],
      "metadata": {
        "colab": {
          "base_uri": "https://localhost:8080/",
          "height": 423
        },
        "id": "u1INTbCUBlB8",
        "outputId": "3079b49f-d9cb-4fc8-f255-f004fe2e3ec5"
      },
      "execution_count": 5,
      "outputs": [
        {
          "output_type": "execute_result",
          "data": {
            "text/plain": [
              "       index  0  1  2  3  4\n",
              "0          0  0  0  0  0  0\n",
              "1          1  0  0  0  0  0\n",
              "2          2  0  0  0  0  0\n",
              "3          3  0  0  0  0  0\n",
              "4          4  0  0  0  0  0\n",
              "...      ... .. .. .. .. ..\n",
              "19612  19612  0  0  0  0  0\n",
              "19613  19613  0  0  0  0  0\n",
              "19614  19614  0  0  0  0  0\n",
              "19615  19615  0  0  0  0  0\n",
              "19616  19616  0  0  0  0  0\n",
              "\n",
              "[19617 rows x 6 columns]"
            ],
            "text/html": [
              "\n",
              "  <div id=\"df-0a8db7ce-5ef4-4dc0-8cbd-3a4e09bb727b\">\n",
              "    <div class=\"colab-df-container\">\n",
              "      <div>\n",
              "<style scoped>\n",
              "    .dataframe tbody tr th:only-of-type {\n",
              "        vertical-align: middle;\n",
              "    }\n",
              "\n",
              "    .dataframe tbody tr th {\n",
              "        vertical-align: top;\n",
              "    }\n",
              "\n",
              "    .dataframe thead th {\n",
              "        text-align: right;\n",
              "    }\n",
              "</style>\n",
              "<table border=\"1\" class=\"dataframe\">\n",
              "  <thead>\n",
              "    <tr style=\"text-align: right;\">\n",
              "      <th></th>\n",
              "      <th>index</th>\n",
              "      <th>0</th>\n",
              "      <th>1</th>\n",
              "      <th>2</th>\n",
              "      <th>3</th>\n",
              "      <th>4</th>\n",
              "    </tr>\n",
              "  </thead>\n",
              "  <tbody>\n",
              "    <tr>\n",
              "      <th>0</th>\n",
              "      <td>0</td>\n",
              "      <td>0</td>\n",
              "      <td>0</td>\n",
              "      <td>0</td>\n",
              "      <td>0</td>\n",
              "      <td>0</td>\n",
              "    </tr>\n",
              "    <tr>\n",
              "      <th>1</th>\n",
              "      <td>1</td>\n",
              "      <td>0</td>\n",
              "      <td>0</td>\n",
              "      <td>0</td>\n",
              "      <td>0</td>\n",
              "      <td>0</td>\n",
              "    </tr>\n",
              "    <tr>\n",
              "      <th>2</th>\n",
              "      <td>2</td>\n",
              "      <td>0</td>\n",
              "      <td>0</td>\n",
              "      <td>0</td>\n",
              "      <td>0</td>\n",
              "      <td>0</td>\n",
              "    </tr>\n",
              "    <tr>\n",
              "      <th>3</th>\n",
              "      <td>3</td>\n",
              "      <td>0</td>\n",
              "      <td>0</td>\n",
              "      <td>0</td>\n",
              "      <td>0</td>\n",
              "      <td>0</td>\n",
              "    </tr>\n",
              "    <tr>\n",
              "      <th>4</th>\n",
              "      <td>4</td>\n",
              "      <td>0</td>\n",
              "      <td>0</td>\n",
              "      <td>0</td>\n",
              "      <td>0</td>\n",
              "      <td>0</td>\n",
              "    </tr>\n",
              "    <tr>\n",
              "      <th>...</th>\n",
              "      <td>...</td>\n",
              "      <td>...</td>\n",
              "      <td>...</td>\n",
              "      <td>...</td>\n",
              "      <td>...</td>\n",
              "      <td>...</td>\n",
              "    </tr>\n",
              "    <tr>\n",
              "      <th>19612</th>\n",
              "      <td>19612</td>\n",
              "      <td>0</td>\n",
              "      <td>0</td>\n",
              "      <td>0</td>\n",
              "      <td>0</td>\n",
              "      <td>0</td>\n",
              "    </tr>\n",
              "    <tr>\n",
              "      <th>19613</th>\n",
              "      <td>19613</td>\n",
              "      <td>0</td>\n",
              "      <td>0</td>\n",
              "      <td>0</td>\n",
              "      <td>0</td>\n",
              "      <td>0</td>\n",
              "    </tr>\n",
              "    <tr>\n",
              "      <th>19614</th>\n",
              "      <td>19614</td>\n",
              "      <td>0</td>\n",
              "      <td>0</td>\n",
              "      <td>0</td>\n",
              "      <td>0</td>\n",
              "      <td>0</td>\n",
              "    </tr>\n",
              "    <tr>\n",
              "      <th>19615</th>\n",
              "      <td>19615</td>\n",
              "      <td>0</td>\n",
              "      <td>0</td>\n",
              "      <td>0</td>\n",
              "      <td>0</td>\n",
              "      <td>0</td>\n",
              "    </tr>\n",
              "    <tr>\n",
              "      <th>19616</th>\n",
              "      <td>19616</td>\n",
              "      <td>0</td>\n",
              "      <td>0</td>\n",
              "      <td>0</td>\n",
              "      <td>0</td>\n",
              "      <td>0</td>\n",
              "    </tr>\n",
              "  </tbody>\n",
              "</table>\n",
              "<p>19617 rows × 6 columns</p>\n",
              "</div>\n",
              "      <button class=\"colab-df-convert\" onclick=\"convertToInteractive('df-0a8db7ce-5ef4-4dc0-8cbd-3a4e09bb727b')\"\n",
              "              title=\"Convert this dataframe to an interactive table.\"\n",
              "              style=\"display:none;\">\n",
              "        \n",
              "  <svg xmlns=\"http://www.w3.org/2000/svg\" height=\"24px\"viewBox=\"0 0 24 24\"\n",
              "       width=\"24px\">\n",
              "    <path d=\"M0 0h24v24H0V0z\" fill=\"none\"/>\n",
              "    <path d=\"M18.56 5.44l.94 2.06.94-2.06 2.06-.94-2.06-.94-.94-2.06-.94 2.06-2.06.94zm-11 1L8.5 8.5l.94-2.06 2.06-.94-2.06-.94L8.5 2.5l-.94 2.06-2.06.94zm10 10l.94 2.06.94-2.06 2.06-.94-2.06-.94-.94-2.06-.94 2.06-2.06.94z\"/><path d=\"M17.41 7.96l-1.37-1.37c-.4-.4-.92-.59-1.43-.59-.52 0-1.04.2-1.43.59L10.3 9.45l-7.72 7.72c-.78.78-.78 2.05 0 2.83L4 21.41c.39.39.9.59 1.41.59.51 0 1.02-.2 1.41-.59l7.78-7.78 2.81-2.81c.8-.78.8-2.07 0-2.86zM5.41 20L4 18.59l7.72-7.72 1.47 1.35L5.41 20z\"/>\n",
              "  </svg>\n",
              "      </button>\n",
              "      \n",
              "  <style>\n",
              "    .colab-df-container {\n",
              "      display:flex;\n",
              "      flex-wrap:wrap;\n",
              "      gap: 12px;\n",
              "    }\n",
              "\n",
              "    .colab-df-convert {\n",
              "      background-color: #E8F0FE;\n",
              "      border: none;\n",
              "      border-radius: 50%;\n",
              "      cursor: pointer;\n",
              "      display: none;\n",
              "      fill: #1967D2;\n",
              "      height: 32px;\n",
              "      padding: 0 0 0 0;\n",
              "      width: 32px;\n",
              "    }\n",
              "\n",
              "    .colab-df-convert:hover {\n",
              "      background-color: #E2EBFA;\n",
              "      box-shadow: 0px 1px 2px rgba(60, 64, 67, 0.3), 0px 1px 3px 1px rgba(60, 64, 67, 0.15);\n",
              "      fill: #174EA6;\n",
              "    }\n",
              "\n",
              "    [theme=dark] .colab-df-convert {\n",
              "      background-color: #3B4455;\n",
              "      fill: #D2E3FC;\n",
              "    }\n",
              "\n",
              "    [theme=dark] .colab-df-convert:hover {\n",
              "      background-color: #434B5C;\n",
              "      box-shadow: 0px 1px 3px 1px rgba(0, 0, 0, 0.15);\n",
              "      filter: drop-shadow(0px 1px 2px rgba(0, 0, 0, 0.3));\n",
              "      fill: #FFFFFF;\n",
              "    }\n",
              "  </style>\n",
              "\n",
              "      <script>\n",
              "        const buttonEl =\n",
              "          document.querySelector('#df-0a8db7ce-5ef4-4dc0-8cbd-3a4e09bb727b button.colab-df-convert');\n",
              "        buttonEl.style.display =\n",
              "          google.colab.kernel.accessAllowed ? 'block' : 'none';\n",
              "\n",
              "        async function convertToInteractive(key) {\n",
              "          const element = document.querySelector('#df-0a8db7ce-5ef4-4dc0-8cbd-3a4e09bb727b');\n",
              "          const dataTable =\n",
              "            await google.colab.kernel.invokeFunction('convertToInteractive',\n",
              "                                                     [key], {});\n",
              "          if (!dataTable) return;\n",
              "\n",
              "          const docLinkHtml = 'Like what you see? Visit the ' +\n",
              "            '<a target=\"_blank\" href=https://colab.research.google.com/notebooks/data_table.ipynb>data table notebook</a>'\n",
              "            + ' to learn more about interactive tables.';\n",
              "          element.innerHTML = '';\n",
              "          dataTable['output_type'] = 'display_data';\n",
              "          await google.colab.output.renderOutput(dataTable, element);\n",
              "          const docLink = document.createElement('div');\n",
              "          docLink.innerHTML = docLinkHtml;\n",
              "          element.appendChild(docLink);\n",
              "        }\n",
              "      </script>\n",
              "    </div>\n",
              "  </div>\n",
              "  "
            ]
          },
          "metadata": {},
          "execution_count": 5
        }
      ]
    },
    {
      "cell_type": "markdown",
      "source": [
        "## 1-2. 불용어 제거"
      ],
      "metadata": {
        "id": "bZvr9jq1B7o5"
      }
    },
    {
      "cell_type": "code",
      "source": [
        "# 특수문자 제거(영문, 숫자 이외 문자 제거)\n",
        "def alpha_num(text):\n",
        "    return re.sub(r'[^A-Za-z0-9 ]', '', text)\n",
        "\n",
        "# 불용어 제거\n",
        "def remove_stopwords(text):\n",
        "    final_text = []\n",
        "    for i in text.split():\n",
        "        if i.strip().lower() not in stopwords:\n",
        "            final_text.append(i.strip())\n",
        "    return \" \".join(final_text)\n",
        "\n",
        "# 불용어\n",
        "stopwords = [ \"a\", \"about\", \"above\", \"after\", \"again\", \"against\", \"all\", \"am\", \"an\", \"and\", \"any\", \"are\", \"as\", \n",
        "             \"at\", \"be\", \"because\", \"been\", \"before\", \"being\", \"below\", \"between\", \"both\", \"but\", \"by\", \"could\", \n",
        "             \"did\", \"do\", \"does\", \"doing\", \"down\", \"during\", \"each\", \"few\", \"for\", \"from\", \"further\", \"had\", \"has\", \n",
        "             \"have\", \"having\", \"he\", \"he'd\", \"he'll\", \"he's\", \"her\", \"here\", \"here's\", \"hers\", \"herself\", \"him\", \"himself\", \n",
        "             \"his\", \"how\", \"how's\", \"i\", \"i'd\", \"i'll\", \"i'm\", \"i've\", \"if\", \"in\", \"into\", \"is\", \"it\", \"it's\", \"its\", \"itself\", \n",
        "             \"let's\", \"me\", \"more\", \"most\", \"my\", \"myself\", \"nor\", \"of\", \"on\", \"once\", \"only\", \"or\", \"other\", \"ought\", \"our\", \"ours\", \n",
        "             \"ourselves\", \"out\", \"over\", \"own\", \"same\", \"she\", \"she'd\", \"she'll\", \"she's\", \"should\", \"so\", \"some\", \"such\", \"than\", \"that\", \n",
        "             \"that's\", \"the\", \"their\", \"theirs\", \"them\", \"themselves\", \"then\", \"there\", \"there's\", \"these\", \"they\", \"they'd\", \"they'll\", \n",
        "             \"they're\", \"they've\", \"this\", \"those\", \"through\", \"to\", \"too\", \"under\", \"until\", \"up\", \"very\", \"was\", \"we\", \"we'd\", \"we'll\", \n",
        "             \"we're\", \"we've\", \"were\", \"what\", \"what's\", \"when\", \"when's\", \"where\", \"where's\", \"which\", \"while\", \"who\", \"who's\", \"whom\", \n",
        "             \"why\", \"why's\", \"with\", \"would\", \"you\", \"you'd\", \"you'll\", \"you're\", \"you've\", \"your\", \"yours\", \"yourself\", \"yourselves\" ]\n",
        "\n",
        "# 소문자로 바꾼 후 전처리 적용\n",
        "train['text'] = train['text'].str.lower()\n",
        "test['text'] = test['text'].str.lower()\n",
        "train['text'] = train['text'].apply(alpha_num).apply(remove_stopwords)\n",
        "test['text'] = test['text'].apply(alpha_num).apply(remove_stopwords)"
      ],
      "metadata": {
        "id": "00GjpV9dCg91"
      },
      "execution_count": 6,
      "outputs": []
    },
    {
      "cell_type": "markdown",
      "source": [
        "## 1-3. 데이터 시각화"
      ],
      "metadata": {
        "id": "kKH-wOorDH8Q"
      }
    },
    {
      "cell_type": "code",
      "source": [
        "# 작가별 분포도 확인 \n",
        "train.groupby(train.author).size().reset_index(name=\"counts\").plot.bar(x='author',title=\"Samples per each class (Training set)\")"
      ],
      "metadata": {
        "colab": {
          "base_uri": "https://localhost:8080/",
          "height": 310
        },
        "id": "9zHZsHZ_DKb7",
        "outputId": "ba20f2ff-45bf-4574-ddfc-9798a5f68a00"
      },
      "execution_count": 7,
      "outputs": [
        {
          "output_type": "execute_result",
          "data": {
            "text/plain": [
              "<matplotlib.axes._subplots.AxesSubplot at 0x7f3dbf0f99a0>"
            ]
          },
          "metadata": {},
          "execution_count": 7
        },
        {
          "output_type": "display_data",
          "data": {
            "text/plain": [
              "<Figure size 432x288 with 1 Axes>"
            ],
            "image/png": "[encoded data removed]"
          },
          "metadata": {
            "needs_background": "light"
          }
        }
      ]
    },
    {
      "cell_type": "code",
      "source": [
        "# 문장 길이 분포도 확인\n",
        "train['doc_len'] = train.text.apply(lambda words: len(words.split()))\n",
        "\n",
        "def plot_doc_lengths(dataframe):\n",
        "    mean_seq_len = np.round(dataframe.doc_len.mean()).astype(int)\n",
        "    sns.distplot(tuple(dataframe.doc_len), hist=True, kde=True, label='Document lengths')\n",
        "    plt.axvline(x=mean_seq_len, color='k', linestyle='--', label=f'Sequence length mean:{mean_seq_len}')\n",
        "    plt.title('Document lengths')\n",
        "    plt.legend()\n",
        "    plt.show()\n",
        "    print(f\" 가장 긴 문장은 {train['doc_len'].max()} 개의 단어를, 가장 짧은 문장은 {train['doc_len'].min()} 개의 단어를 가지고 있습니다.\")\n",
        "\n",
        "plot_doc_lengths(train)"
      ],
      "metadata": {
        "colab": {
          "base_uri": "https://localhost:8080/",
          "height": 299
        },
        "id": "5ClOUdEQDLY_",
        "outputId": "832bd4b4-ef88-4fe9-e3d8-17a4ec393988"
      },
      "execution_count": 8,
      "outputs": [
        {
          "output_type": "display_data",
          "data": {
            "text/plain": [
              "<Figure size 432x288 with 1 Axes>"
            ],
            "image/png": "[encoded data removed]"
          },
          "metadata": {
            "needs_background": "light"
          }
        },
        {
          "output_type": "stream",
          "name": "stdout",
          "text": [
            " 가장 긴 문장은 211 개의 단어를, 가장 짧은 문장은 0 개의 단어를 가지고 있습니다.\n"
          ]
        }
      ]
    },
    {
      "cell_type": "markdown",
      "source": [
        "* max length는 150 정도가 적당"
      ],
      "metadata": {
        "id": "bmNYIWo-DV1y"
      }
    },
    {
      "cell_type": "markdown",
      "source": [
        "# 2. Vectorization"
      ],
      "metadata": {
        "id": "rXpT5IbSDZXL"
      }
    },
    {
      "cell_type": "markdown",
      "source": [
        "## 2.1 Tokenization"
      ],
      "metadata": {
        "id": "mR7pCk1GDbGp"
      }
    },
    {
      "cell_type": "code",
      "source": [
        "# 먼저 train 데이터와 test 데이터 인덱스 없이 배열로 만들기\n",
        "X_train = np.array([x for x in train['text']])\n",
        "X_test = np.array([x for x in test['text']])\n",
        "Y_train = np.array([x for x in train['author']])\n",
        "\n",
        "print(X_train.shape)\n",
        "print(X_test.shape)\n",
        "print(Y_train.shape)"
      ],
      "metadata": {
        "colab": {
          "base_uri": "https://localhost:8080/"
        },
        "id": "CCeL9VbDDQNb",
        "outputId": "2eb4677f-c5fb-4590-b760-a76da0987d71"
      },
      "execution_count": 9,
      "outputs": [
        {
          "output_type": "stream",
          "name": "stdout",
          "text": [
            "(54879,)\n",
            "(19617,)\n",
            "(54879,)\n"
          ]
        }
      ]
    },
    {
      "cell_type": "code",
      "source": [
        "print(X_train)\n",
        "print(X_test)\n",
        "print(Y_train)"
      ],
      "metadata": {
        "colab": {
          "base_uri": "https://localhost:8080/"
        },
        "id": "hplSdULSDjqD",
        "outputId": "d0fe7c50-90fc-4c0a-8818-2804477d24a2"
      },
      "execution_count": 10,
      "outputs": [
        {
          "output_type": "stream",
          "name": "stdout",
          "text": [
            "['almost choking much much wanted say strange exclamations came lips pole gazed fixedly bundle notes hand looked odin evident perplexity'\n",
            " 'sister asked suppose'\n",
            " 'engaged one day walked perusing janes last letter dwelling passages proved jane not written spirits instead surprised mr odin saw looking odin meeting putting away letter immediately forcing smile said'\n",
            " ... 'sincere wellwisher friend sister lucy odin' 'wanted lend money'\n",
            " 'certainly not occurred said yes like']\n",
            "['not think one charming young ladies ever met might useful work decided genius way witness way preserved agra plan papers father love emotional thing whatever emotional opposed true cold reason place things never marry lest bias judgment'\n",
            " 'no replied sudden consciousness not find cannot ignorant goodness owe alli feel iti express couldbut well know no orator'\n",
            " 'lady stated intention screaming course screamed additional boldness exertion rendered unnecessary hasty knocking door no sooner heard mr odin darted much agility wine bottles began dusting great violence matron sharply demanded'\n",
            " ...\n",
            " 'odin carried thanks odin proceeded happiness lucy excess time reached bartletts buildings able assure mrs odin called next day congratulations never seen spirits life'\n",
            " 'soon upon odins leaving room mama said odin alarm subject illness cannot conceal sure odin not well now almost fortnight yet not come nothing real indisposition occasion extraordinary delay else can detain norland'\n",
            " 'worse doomed man denouncer wellknown citizen attached friend father wife one frenzied aspirations populace imitations questionable public virtues antiquity sacrifices selfimmolations peoples altar therefore president said else head quivered shoulders good physician republic deserve better still republic rooting obnoxious family aristocrats doubtless feel sacred glow joy making daughter widow child orphan wild excitement patriotic fervour not touch human sympathy']\n",
            "[3 2 1 ... 1 3 0]\n"
          ]
        }
      ]
    },
    {
      "cell_type": "code",
      "source": [
        "# Tokenizer\n",
        "from keras.preprocessing.text import Tokenizer\n",
        "vocab_size = 2000  \n",
        "\n",
        "tokenizer = Tokenizer(num_words = vocab_size)  \n",
        "  # Tokenizer 는 데이터에 출현하는 모든 단어의 개수를 세고 빈도 수로 정렬해서 \n",
        "  # num_words 에 지정된 만큼만 숫자로 반환하고, 나머지는 0 으로 반환합니다                 \n",
        "tokenizer.fit_on_texts(X_train) # Tokenizer 에 데이터 실제로 입력\n",
        "sequences_train = tokenizer.texts_to_sequences(X_train)    # 문장 내 모든 단어를 시퀀스 번호로 변환\n",
        "sequences_test = tokenizer.texts_to_sequences(X_test)      # 문장 내 모든 단어를 시퀀스 번호로 변환\n",
        "\n",
        "print(len(sequences_train), len(sequences_test))"
      ],
      "metadata": {
        "colab": {
          "base_uri": "https://localhost:8080/"
        },
        "id": "TyTwgg6RDoX-",
        "outputId": "09a570d1-2fce-4cba-8cb4-7f91eca61a76"
      },
      "execution_count": 11,
      "outputs": [
        {
          "output_type": "stream",
          "name": "stdout",
          "text": [
            "54879 19617\n"
          ]
        }
      ]
    },
    {
      "cell_type": "markdown",
      "source": [
        "# 3. Embedding"
      ],
      "metadata": {
        "id": "tttDab0NDsuX"
      }
    },
    {
      "cell_type": "code",
      "source": [
        "# 변환된 시퀀스 번호를 이용해 단어 임베딩 벡터 생성\n",
        "word_index = tokenizer.word_index"
      ],
      "metadata": {
        "id": "bcxg2oCLDzsQ"
      },
      "execution_count": 12,
      "outputs": []
    },
    {
      "cell_type": "code",
      "source": [
        "# 독립변수 데이터 전처리\n",
        "  ## 문장의 길이기 제각각이기 때문에 벡터 크기 다 다름\n",
        "  ## 그러므로 최대 시퀀스 길이 크기(211) 만큼 넉넉하게 늘리고\n",
        "  ## 패딩(padding) 작업을 통해 나머지 빈 공간을 0으로 채움\n",
        "max_length = 150    # 위에서 그래프 확인 후 정함\n",
        "padding_type='post'\n",
        "\n",
        "train_x = pad_sequences(sequences_train, padding='post', maxlen=max_length)\n",
        "test_x = pad_sequences(sequences_test, padding=padding_type, maxlen=max_length)\n",
        "\n",
        "print(train_x.shape, test_x.shape)"
      ],
      "metadata": {
        "colab": {
          "base_uri": "https://localhost:8080/"
        },
        "id": "ZW94JRVuD0e6",
        "outputId": "5fa51406-70df-41f9-8eaf-dcccfd052958"
      },
      "execution_count": 13,
      "outputs": [
        {
          "output_type": "stream",
          "name": "stdout",
          "text": [
            "(54879, 150) (19617, 150)\n"
          ]
        }
      ]
    },
    {
      "cell_type": "code",
      "source": [
        "# 종속변수 데이터 전처리\n",
        "train_y = np_utils.to_categorical(Y_train) # Y_train 에 원핫 인코딩\n",
        "print(train_y)\n",
        "print(train_y.shape)"
      ],
      "metadata": {
        "colab": {
          "base_uri": "https://localhost:8080/"
        },
        "id": "P9eSW7D2EBYA",
        "outputId": "0f60bc17-d829-479e-f11b-e1887f60da99"
      },
      "execution_count": 14,
      "outputs": [
        {
          "output_type": "stream",
          "name": "stdout",
          "text": [
            "[[0. 0. 0. 1. 0.]\n",
            " [0. 0. 1. 0. 0.]\n",
            " [0. 1. 0. 0. 0.]\n",
            " ...\n",
            " [0. 1. 0. 0. 0.]\n",
            " [0. 0. 0. 1. 0.]\n",
            " [1. 0. 0. 0. 0.]]\n",
            "(54879, 5)\n"
          ]
        }
      ]
    },
    {
      "cell_type": "markdown",
      "source": [
        "# 4. Modeling"
      ],
      "metadata": {
        "id": "YVaDRgHVEEDz"
      }
    },
    {
      "cell_type": "markdown",
      "source": [
        "## 4.1 simple RNN"
      ],
      "metadata": {
        "id": "zVB2A7VhEF52"
      }
    },
    {
      "cell_type": "code",
      "source": [
        "#파라미터 설정\n",
        "vocab_size = 2000 # 제일 많이 사용하는 사이즈\n",
        "embedding_dim = 200  \n",
        "max_length = 150    # 위에서 그래프 확인 후 정함\n",
        "padding_type='post'"
      ],
      "metadata": {
        "id": "f0MryEm1ECyV"
      },
      "execution_count": 15,
      "outputs": []
    },
    {
      "cell_type": "code",
      "source": [
        "# Simple RNN 레이어를 사용한 모델 (model1) 정의\n",
        "model1 = Sequential([Embedding(vocab_size, embedding_dim, input_length =max_length),\n",
        "        tf.keras.layers.SimpleRNN(units = 64, return_sequences = True),\n",
        "        tf.keras.layers.SimpleRNN(units = 64, return_sequences = True),\n",
        "        tf.keras.layers.SimpleRNN(units = 64),\n",
        "        Dense(5, activation='softmax')    # 결과값이 0~4 이므로 Dense(5)\n",
        "    ])\n",
        "    \n",
        "model1.compile(loss= 'categorical_crossentropy', #여러개 정답 중 하나 맞추는 문제이므로 손실 함수는 categorical_crossentropy\n",
        "              optimizer= 'adam',\n",
        "              metrics = ['accuracy']) \n",
        "model1.summary()"
      ],
      "metadata": {
        "colab": {
          "base_uri": "https://localhost:8080/"
        },
        "id": "ul8DnIh8EIPu",
        "outputId": "0e205891-3030-4c34-ea90-7d6335105036"
      },
      "execution_count": 16,
      "outputs": [
        {
          "output_type": "stream",
          "name": "stdout",
          "text": [
            "Model: \"sequential\"\n",
            "_________________________________________________________________\n",
            " Layer (type)                Output Shape              Param #   \n",
            "=================================================================\n",
            " embedding (Embedding)       (None, 150, 200)          400000    \n",
            "                                                                 \n",
            " simple_rnn (SimpleRNN)      (None, 150, 64)           16960     \n",
            "                                                                 \n",
            " simple_rnn_1 (SimpleRNN)    (None, 150, 64)           8256      \n",
            "                                                                 \n",
            " simple_rnn_2 (SimpleRNN)    (None, 64)                8256      \n",
            "                                                                 \n",
            " dense (Dense)               (None, 5)                 325       \n",
            "                                                                 \n",
            "=================================================================\n",
            "Total params: 433,797\n",
            "Trainable params: 433,797\n",
            "Non-trainable params: 0\n",
            "_________________________________________________________________\n"
          ]
        }
      ]
    },
    {
      "cell_type": "code",
      "source": [
        "# 모델 실행해보기\n",
        "history = model1.fit(train_x, train_y, epochs=10, batch_size=100, validation_split= 0.2) \n",
        "  # 데이터가 50000개가 넘어 학습시간이 오래 걸리기 때문에 batch size 를 100으로 크게 잡음\n",
        "  # 추이를 확인하게 위해 일단 10회만 시도"
      ],
      "metadata": {
        "colab": {
          "base_uri": "https://localhost:8080/"
        },
        "id": "Sdu2Ow9tEJ8F",
        "outputId": "4c334510-6107-4846-b6b4-1cf5db732cb0"
      },
      "execution_count": 17,
      "outputs": [
        {
          "output_type": "stream",
          "name": "stdout",
          "text": [
            "Epoch 1/10\n",
            "440/440 [==============================] - 135s 292ms/step - loss: 1.5792 - accuracy: 0.2635 - val_loss: 1.5778 - val_accuracy: 0.2680\n",
            "Epoch 2/10\n",
            "440/440 [==============================] - 116s 264ms/step - loss: 1.5740 - accuracy: 0.2702 - val_loss: 1.5745 - val_accuracy: 0.2680\n",
            "Epoch 3/10\n",
            "440/440 [==============================] - 114s 259ms/step - loss: 1.5731 - accuracy: 0.2712 - val_loss: 1.5782 - val_accuracy: 0.2597\n",
            "Epoch 4/10\n",
            "440/440 [==============================] - 113s 256ms/step - loss: 1.5725 - accuracy: 0.2729 - val_loss: 1.5802 - val_accuracy: 0.2680\n",
            "Epoch 5/10\n",
            "440/440 [==============================] - 113s 256ms/step - loss: 1.5735 - accuracy: 0.2686 - val_loss: 1.5742 - val_accuracy: 0.2401\n",
            "Epoch 6/10\n",
            "440/440 [==============================] - 114s 258ms/step - loss: 1.5713 - accuracy: 0.2775 - val_loss: 1.5584 - val_accuracy: 0.3399\n",
            "Epoch 7/10\n",
            "440/440 [==============================] - 118s 269ms/step - loss: 1.5501 - accuracy: 0.3156 - val_loss: 1.5412 - val_accuracy: 0.3401\n",
            "Epoch 8/10\n",
            "440/440 [==============================] - 133s 303ms/step - loss: 1.4972 - accuracy: 0.3667 - val_loss: 1.6872 - val_accuracy: 0.2387\n",
            "Epoch 9/10\n",
            "440/440 [==============================] - 134s 304ms/step - loss: 1.4768 - accuracy: 0.3802 - val_loss: 1.6557 - val_accuracy: 0.2614\n",
            "Epoch 10/10\n",
            "440/440 [==============================] - 116s 262ms/step - loss: 1.4643 - accuracy: 0.3832 - val_loss: 1.5780 - val_accuracy: 0.2816\n"
          ]
        }
      ]
    },
    {
      "cell_type": "code",
      "source": [
        "# Simple RNN 모델 (model1) 학습 결과 확인\n",
        "plt.figure(figsize=(12, 4))\n",
        "plt.title('Simple RNN (model1) ', fontsize= 15)\n",
        "\n",
        "plt.subplot(1, 2, 1)\n",
        "plt.title('loss of Simple RNN (model1) ', fontsize= 15)\n",
        "plt.plot(history.history['loss'], 'b-', label='loss')\n",
        "plt.plot(history.history['val_loss'],'r--', label='val_loss')\n",
        "plt.xlabel('Epoch')\n",
        "plt.legend()\n",
        "\n",
        "plt.subplot(1, 2, 2)\n",
        "plt.title('accuracy of Simple RNN (model1) ', fontsize= 15)\n",
        "plt.plot(history.history['accuracy'], 'g-', label='accuracy')\n",
        "plt.plot(history.history['val_accuracy'],'k--', label='val_accuracy')\n",
        "plt.xlabel('Epoch')\n",
        "plt.legend()\n",
        "plt.show"
      ],
      "metadata": {
        "colab": {
          "base_uri": "https://localhost:8080/",
          "height": 315
        },
        "id": "thNkCp4uENqP",
        "outputId": "d2e1268a-416c-4b7d-9240-9628f35301b9"
      },
      "execution_count": 21,
      "outputs": [
        {
          "output_type": "execute_result",
          "data": {
            "text/plain": [
              "<function matplotlib.pyplot.show(*args, **kw)>"
            ]
          },
          "metadata": {},
          "execution_count": 21
        },
        {
          "output_type": "display_data",
          "data": {
            "text/plain": [
              "<Figure size 864x288 with 2 Axes>"
            ],
            "image/png": "[encoded data removed]"
          },
          "metadata": {
            "needs_background": "light"
          }
        }
      ]
    },
    {
      "cell_type": "markdown",
      "source": [
        "* Simple RNN은 epoch 한 번 당 시간 오래 소요됨 + 학습 제대로 되지 않음"
      ],
      "metadata": {
        "id": "X83GK49uET24"
      }
    },
    {
      "cell_type": "markdown",
      "source": [
        "## 4.2 단방향 LSTM"
      ],
      "metadata": {
        "id": "9jfRZNWhEeSU"
      }
    },
    {
      "cell_type": "code",
      "source": [
        "#파라미터 설정\n",
        "vocab_size = 2000 # 제일 많이 사용하는 사이즈\n",
        "embedding_dim = 200  \n",
        "max_length = 150    # 위에서 그래프 확인 후 정함\n",
        "padding_type='post'"
      ],
      "metadata": {
        "id": "pIPF-L8UEg4x"
      },
      "execution_count": 18,
      "outputs": []
    },
    {
      "cell_type": "code",
      "source": [
        "# LSTM 레이어를 사용한 모델 (model2) 정의\n",
        "model2 = Sequential([Embedding(vocab_size, embedding_dim, input_length =max_length),\n",
        "        tf.keras.layers.LSTM(units = 64, return_sequences = True),\n",
        "        tf.keras.layers.LSTM(units = 64, return_sequences = True),\n",
        "        tf.keras.layers.LSTM(units = 64),\n",
        "        Dense(5, activation='softmax')    # 결과값이 0~4 이므로 Dense(5)\n",
        "    ])\n",
        "    \n",
        "model2.compile(loss= 'categorical_crossentropy', #여러개 정답 중 하나 맞추는 문제이므로 손실 함수는 categorical_crossentropy\n",
        "              optimizer= 'adam',\n",
        "              metrics = ['accuracy']) \n",
        "model2.summary()"
      ],
      "metadata": {
        "colab": {
          "base_uri": "https://localhost:8080/"
        },
        "id": "-PTKaQKJEiXz",
        "outputId": "ba54878e-bb3a-4b79-f56c-b17974270267"
      },
      "execution_count": 19,
      "outputs": [
        {
          "output_type": "stream",
          "name": "stdout",
          "text": [
            "Model: \"sequential_1\"\n",
            "_________________________________________________________________\n",
            " Layer (type)                Output Shape              Param #   \n",
            "=================================================================\n",
            " embedding_1 (Embedding)     (None, 150, 200)          400000    \n",
            "                                                                 \n",
            " lstm (LSTM)                 (None, 150, 64)           67840     \n",
            "                                                                 \n",
            " lstm_1 (LSTM)               (None, 150, 64)           33024     \n",
            "                                                                 \n",
            " lstm_2 (LSTM)               (None, 64)                33024     \n",
            "                                                                 \n",
            " dense_1 (Dense)             (None, 5)                 325       \n",
            "                                                                 \n",
            "=================================================================\n",
            "Total params: 534,213\n",
            "Trainable params: 534,213\n",
            "Non-trainable params: 0\n",
            "_________________________________________________________________\n"
          ]
        }
      ]
    },
    {
      "cell_type": "code",
      "source": [
        "# 모델 실행해보기\n",
        "history = model2.fit(train_x, train_y, epochs=10, batch_size=100, validation_split= 0.2) \n",
        "  # 데이터가 50000개가 넘어 학습시간이 오래 걸리기 때문에 batch size 를 100으로 크게 잡았다\n",
        "  # 추이를 확인하게 위해 일단 10회만 시도"
      ],
      "metadata": {
        "id": "jphhT3lnEuE4"
      },
      "execution_count": null,
      "outputs": []
    },
    {
      "cell_type": "code",
      "source": [
        "# 모델 학습 결과 확인\n",
        "plt.figure(figsize=(12, 4))\n",
        "\n",
        "plt.subplot(1, 2, 1)\n",
        "plt.title('loss of LSTM (model2) ', fontsize= 15)\n",
        "plt.plot(history.history['loss'], 'b-', label='loss')\n",
        "plt.plot(history.history['val_loss'],'r--', label='val_loss')\n",
        "plt.xlabel('Epoch')\n",
        "plt.legend()\n",
        "\n",
        "plt.subplot(1, 2, 2)\n",
        "plt.title('accuracy of LSTM (model2) ', fontsize= 15)\n",
        "plt.plot(history.history['accuracy'], 'g-', label='accuracy')\n",
        "plt.plot(history.history['val_accuracy'],'k--', label='val_accuracy')\n",
        "plt.xlabel('Epoch')\n",
        "plt.legend()\n",
        "plt.show"
      ],
      "metadata": {
        "id": "aq8M1I-KEv-m"
      },
      "execution_count": null,
      "outputs": []
    },
    {
      "cell_type": "markdown",
      "source": [
        "![image.png](data:image/png;base64,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)"
      ],
      "metadata": {
        "id": "XXnUNNLCJWKE"
      }
    },
    {
      "cell_type": "markdown",
      "source": [
        "* 학습 시간은 단축되었지만, 단방향 LSTM으로도 학습이 제대로 되지 않았음"
      ],
      "metadata": {
        "id": "jkE1wRDhHShS"
      }
    },
    {
      "cell_type": "markdown",
      "source": [
        " ## 4.3 양방향 LSTM"
      ],
      "metadata": {
        "id": "WFZqLWAbExYy"
      }
    },
    {
      "cell_type": "code",
      "source": [
        "#파라미터 설정\n",
        "vocab_size = 2000 # 제일 많이 사용하는 사이즈\n",
        "embedding_dim = 200  \n",
        "max_length = 150    # 위에서 그래프 확인 후 정함\n",
        "padding_type='post'\n",
        "#oov_tok = \"<OOV>\""
      ],
      "metadata": {
        "id": "PR6U7dI0HQAo"
      },
      "execution_count": 22,
      "outputs": []
    },
    {
      "cell_type": "code",
      "source": [
        "# 양방향 LSTM 레이어를 사용한 모델 (model3) 정의\n",
        "model3 = Sequential([Embedding(vocab_size, embedding_dim, input_length =max_length),\n",
        "        tf.keras.layers.Bidirectional(LSTM(units = 64, return_sequences = True)),\n",
        "        tf.keras.layers.Bidirectional(LSTM(units = 64, return_sequences = True)),\n",
        "        tf.keras.layers.Bidirectional(LSTM(units = 64)),\n",
        "        Dense(5, activation='softmax')    # 결과값이 0~4 이므로 Dense(5)\n",
        "    ])\n",
        "    \n",
        "model3.compile(loss= 'categorical_crossentropy', #여러개 정답 중 하나 맞추는 문제이므로 손실 함수는 categorical_crossentropy\n",
        "              optimizer= 'adam',\n",
        "              metrics = ['accuracy']) \n",
        "model3.summary()"
      ],
      "metadata": {
        "colab": {
          "base_uri": "https://localhost:8080/"
        },
        "id": "MO3ZoI4kHRP-",
        "outputId": "ea4df49a-b685-400a-9fe3-ee969aa8a502"
      },
      "execution_count": 23,
      "outputs": [
        {
          "output_type": "stream",
          "name": "stdout",
          "text": [
            "Model: \"sequential_2\"\n",
            "_________________________________________________________________\n",
            " Layer (type)                Output Shape              Param #   \n",
            "=================================================================\n",
            " embedding_2 (Embedding)     (None, 150, 200)          400000    \n",
            "                                                                 \n",
            " bidirectional (Bidirectiona  (None, 150, 128)         135680    \n",
            " l)                                                              \n",
            "                                                                 \n",
            " bidirectional_1 (Bidirectio  (None, 150, 128)         98816     \n",
            " nal)                                                            \n",
            "                                                                 \n",
            " bidirectional_2 (Bidirectio  (None, 128)              98816     \n",
            " nal)                                                            \n",
            "                                                                 \n",
            " dense_2 (Dense)             (None, 5)                 645       \n",
            "                                                                 \n",
            "=================================================================\n",
            "Total params: 733,957\n",
            "Trainable params: 733,957\n",
            "Non-trainable params: 0\n",
            "_________________________________________________________________\n"
          ]
        }
      ]
    },
    {
      "cell_type": "code",
      "source": [
        "# 모델 실행해보기\n",
        "history = model3.fit(train_x, train_y, epochs=50, batch_size=100, validation_split= 0.2) \n",
        "  # 양방향 LSTM 레이어에서는 batch size 를 100으로 잡고 50회 학습 해보았다."
      ],
      "metadata": {
        "id": "9BDylJLmHb_i"
      },
      "execution_count": null,
      "outputs": []
    },
    {
      "cell_type": "code",
      "source": [
        "# 모델 학습 결과 확인\n",
        "plt.figure(figsize=(12, 4))\n",
        "\n",
        "plt.subplot(1, 2, 1)\n",
        "plt.title('loss of Bidirectional LSTM (model3) ', fontsize= 15)\n",
        "plt.plot(history.history['loss'], 'b-', label='loss')\n",
        "plt.plot(history.history['val_loss'],'r--', label='val_loss')\n",
        "plt.xlabel('Epoch')\n",
        "plt.legend()\n",
        "\n",
        "plt.subplot(1, 2, 2)\n",
        "plt.title('accuracy of Bidirectional LSTM (model3) ', fontsize= 15)\n",
        "plt.plot(history.history['accuracy'], 'g-', label='accuracy')\n",
        "plt.plot(history.history['val_accuracy'],'k--', label='val_accuracy')\n",
        "plt.xlabel('Epoch')\n",
        "plt.legend()\n",
        "plt.show"
      ],
      "metadata": {
        "id": "OWuUIMc6Hgq0"
      },
      "execution_count": null,
      "outputs": []
    },
    {
      "cell_type": "markdown",
      "source": [
        "![image.png](data:image/png;base64,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)"
      ],
      "metadata": {
        "id": "B2v7tsNGJa9U"
      }
    },
    {
      "cell_type": "markdown",
      "source": [
        "* loss 값은 줄어드나 val_loss 값은 점차 상승\n",
        "* accuracy도 마찬가지로 val_accuracy 값이 제대로 나오지 않음\n",
        "* 모델 성능 평가의 일반화를 위해 교차 검증 필요"
      ],
      "metadata": {
        "id": "hwbAa1xhHhoh"
      }
    },
    {
      "cell_type": "markdown",
      "source": [
        "## 4.4 교차 검증 적용"
      ],
      "metadata": {
        "id": "fdyY5s0sHrkr"
      }
    },
    {
      "cell_type": "markdown",
      "source": [
        "* 계층 교차검증(StratifiedKFold) 적용하고 모델 일반화"
      ],
      "metadata": {
        "id": "7sHT2hTdHtZo"
      }
    },
    {
      "cell_type": "code",
      "source": [
        "# 계층 교차 검증\n",
        "n_fold = 5  \n",
        "seed = 42\n",
        "\n",
        "cv = StratifiedKFold(n_splits = n_fold, shuffle=True, random_state=seed)\n",
        "\n",
        "for i, (i_trn, i_val) in enumerate(cv.split(train_x, Y_train), 1):\n",
        "    print(f'training model for CV #{i}')\n",
        "\n",
        "    model3.fit(train_x[i_trn], \n",
        "            to_categorical(Y_train[i_trn]),\n",
        "            validation_data=(train_x[i_val], to_categorical(Y_train[i_val])),\n",
        "            epochs=10,\n",
        "            batch_size=512)"
      ],
      "metadata": {
        "id": "zGPfPpjYHxwO"
      },
      "execution_count": null,
      "outputs": []
    },
    {
      "cell_type": "markdown",
      "source": [
        "* 결과값은 개선되었으나 val_loss와 val_accuracy 결과값을 보면 조기종료 옵션 추가 필요함"
      ],
      "metadata": {
        "id": "qWgkY7A2H5oh"
      }
    },
    {
      "cell_type": "code",
      "source": [
        "# 계층 교차 검증\n",
        "n_fold = 5  \n",
        "seed = 42\n",
        "\n",
        "cv = StratifiedKFold(n_splits = n_fold, shuffle=True, random_state=seed)\n",
        "\n",
        "# 테스트데이터의 예측값 담을 곳 생성\n",
        "test_y = np.zeros((test_x.shape[0], 5))\n",
        "\n",
        "# 조기 종료 옵션 추가\n",
        "es = EarlyStopping(monitor='val_loss', min_delta=0.001, patience=3,\n",
        "                   verbose=1, mode='min', baseline=None, restore_best_weights=True)\n",
        "\n",
        "for i, (i_trn, i_val) in enumerate(cv.split(train_x, Y_train), 1):\n",
        "    print(f'training model for CV #{i}')\n",
        "\n",
        "    model3.fit(train_x[i_trn], \n",
        "            to_categorical(Y_train[i_trn]),\n",
        "            validation_data=(train_x[i_val], to_categorical(Y_train[i_val])),\n",
        "            epochs=10,\n",
        "            batch_size=512,\n",
        "            callbacks=[es])     # 조기 종료 옵션 추가\n",
        "                      \n",
        "    test_y += model3.predict(test_x) / n_fold    # 나온 예측값들을 교차 검증 횟수로 나눔"
      ],
      "metadata": {
        "id": "Qx7rqaPcIAdb"
      },
      "execution_count": null,
      "outputs": []
    },
    {
      "cell_type": "markdown",
      "source": [
        "## 4.5 테스트 데이터 적용"
      ],
      "metadata": {
        "id": "duFSlp-MICZB"
      }
    },
    {
      "cell_type": "code",
      "source": [
        "# 테스트 데이터의 예측값 확인\n",
        "test_y"
      ],
      "metadata": {
        "id": "AWeoRay_IEpS"
      },
      "execution_count": null,
      "outputs": []
    },
    {
      "cell_type": "code",
      "source": [
        "# sample_submission 에 대입\n",
        "sample_submission[['0','1','2','3','4']] = test_y\n",
        "sample_submission"
      ],
      "metadata": {
        "id": "eE4984QeIFzy"
      },
      "execution_count": null,
      "outputs": []
    }
  ]
}