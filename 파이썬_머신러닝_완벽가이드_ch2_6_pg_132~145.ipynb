{
  "nbformat": 4,
  "nbformat_minor": 0,
  "metadata": {
    "colab": {
      "name": "파이썬_머신러닝_완벽가이드_ch2. 6_pg. 132~145.ipynb",
      "provenance": [],
      "mount_file_id": "13HQHqgARwoxAJVk5H6An3GVUkiplzRLr",
      "authorship_tag": "ABX9TyN8QNnnBygtjfJeHGblsisR",
      "include_colab_link": true
    },
    "kernelspec": {
      "name": "python3",
      "display_name": "Python 3"
    },
    "language_info": {
      "name": "python"
    }
  },
  "cells": [
    {
      "cell_type": "markdown",
      "metadata": {
        "id": "view-in-github",
        "colab_type": "text"
      },
      "source": [
        "<a href=\"https://colab.research.google.com/github/jeekyung/ESAA/blob/main/%ED%8C%8C%EC%9D%B4%EC%8D%AC_%EB%A8%B8%EC%8B%A0%EB%9F%AC%EB%8B%9D_%EC%99%84%EB%B2%BD%EA%B0%80%EC%9D%B4%EB%93%9C_ch2_6_pg_132~145.ipynb\" target=\"_parent\"><img src=\"https://colab.research.google.com/assets/colab-badge.svg\" alt=\"Open In Colab\"/></a>"
      ]
    },
    {
      "cell_type": "markdown",
      "source": [
        "## **06 사이킷런으로 수행하는 타이타닉 생존자 예측**\n",
        "\n",
        "---"
      ],
      "metadata": {
        "id": "lx3cX7WOKALz"
      }
    },
    {
      "cell_type": "markdown",
      "source": [
        "Passengerid: 탑승자 데이터 일련번호\n",
        "\n",
        "survived: 생존 여부, 0=사망, 1=생존\n",
        "\n",
        "pclass: 티켓의 선실 등급, 1=일등석, 2=이등석, 3=삼등석\n",
        "\n",
        "sex: 탑승자 성별\n",
        "\n",
        "name: 탑승자 이름\n",
        "\n",
        "Age: 탑승자 나이\n",
        "\n",
        "sibsp: 같이 탑승한 형제자매 또는 배우자 인원수\n",
        "\n",
        "parch: 같이 탑승한 부모님 또는 어린이 인원수\n",
        "\n",
        "ticket: 티켓 번호\n",
        "\n",
        "fare: 요금\n",
        "\n",
        "cabin: 선실 번호\n",
        "\n",
        "embarked: 중간 정착 항구 C=Cherbourg, Q=Queenstown, S=Southamptom"
      ],
      "metadata": {
        "id": "NyjZ9V7kKXu5"
      }
    },
    {
      "cell_type": "code",
      "execution_count": 5,
      "metadata": {
        "colab": {
          "base_uri": "https://localhost:8080/",
          "height": 292
        },
        "id": "h_1PrvGWJ5hN",
        "outputId": "a72c9991-796c-4bac-e08b-9e365aab7f66"
      },
      "outputs": [
        {
          "output_type": "execute_result",
          "data": {
            "text/plain": [
              "   PassengerId  Survived  Pclass  \\\n",
              "0            1         0       3   \n",
              "1            2         1       1   \n",
              "2            3         1       3   \n",
              "\n",
              "                                                Name     Sex   Age  SibSp  \\\n",
              "0                            Braund, Mr. Owen Harris    male  22.0      1   \n",
              "1  Cumings, Mrs. John Bradley (Florence Briggs Th...  female  38.0      1   \n",
              "2                             Heikkinen, Miss. Laina  female  26.0      0   \n",
              "\n",
              "   Parch            Ticket     Fare Cabin Embarked  \n",
              "0      0         A/5 21171   7.2500   NaN        S  \n",
              "1      0          PC 17599  71.2833   C85        C  \n",
              "2      0  STON/O2. 3101282   7.9250   NaN        S  "
            ],
            "text/html": [
              "\n",
              "  <div id=\"df-c5898a93-a685-4ee3-b25b-4242f0c5dc37\">\n",
              "    <div class=\"colab-df-container\">\n",
              "      <div>\n",
              "<style scoped>\n",
              "    .dataframe tbody tr th:only-of-type {\n",
              "        vertical-align: middle;\n",
              "    }\n",
              "\n",
              "    .dataframe tbody tr th {\n",
              "        vertical-align: top;\n",
              "    }\n",
              "\n",
              "    .dataframe thead th {\n",
              "        text-align: right;\n",
              "    }\n",
              "</style>\n",
              "<table border=\"1\" class=\"dataframe\">\n",
              "  <thead>\n",
              "    <tr style=\"text-align: right;\">\n",
              "      <th></th>\n",
              "      <th>PassengerId</th>\n",
              "      <th>Survived</th>\n",
              "      <th>Pclass</th>\n",
              "      <th>Name</th>\n",
              "      <th>Sex</th>\n",
              "      <th>Age</th>\n",
              "      <th>SibSp</th>\n",
              "      <th>Parch</th>\n",
              "      <th>Ticket</th>\n",
              "      <th>Fare</th>\n",
              "      <th>Cabin</th>\n",
              "      <th>Embarked</th>\n",
              "    </tr>\n",
              "  </thead>\n",
              "  <tbody>\n",
              "    <tr>\n",
              "      <th>0</th>\n",
              "      <td>1</td>\n",
              "      <td>0</td>\n",
              "      <td>3</td>\n",
              "      <td>Braund, Mr. Owen Harris</td>\n",
              "      <td>male</td>\n",
              "      <td>22.0</td>\n",
              "      <td>1</td>\n",
              "      <td>0</td>\n",
              "      <td>A/5 21171</td>\n",
              "      <td>7.2500</td>\n",
              "      <td>NaN</td>\n",
              "      <td>S</td>\n",
              "    </tr>\n",
              "    <tr>\n",
              "      <th>1</th>\n",
              "      <td>2</td>\n",
              "      <td>1</td>\n",
              "      <td>1</td>\n",
              "      <td>Cumings, Mrs. John Bradley (Florence Briggs Th...</td>\n",
              "      <td>female</td>\n",
              "      <td>38.0</td>\n",
              "      <td>1</td>\n",
              "      <td>0</td>\n",
              "      <td>PC 17599</td>\n",
              "      <td>71.2833</td>\n",
              "      <td>C85</td>\n",
              "      <td>C</td>\n",
              "    </tr>\n",
              "    <tr>\n",
              "      <th>2</th>\n",
              "      <td>3</td>\n",
              "      <td>1</td>\n",
              "      <td>3</td>\n",
              "      <td>Heikkinen, Miss. Laina</td>\n",
              "      <td>female</td>\n",
              "      <td>26.0</td>\n",
              "      <td>0</td>\n",
              "      <td>0</td>\n",
              "      <td>STON/O2. 3101282</td>\n",
              "      <td>7.9250</td>\n",
              "      <td>NaN</td>\n",
              "      <td>S</td>\n",
              "    </tr>\n",
              "  </tbody>\n",
              "</table>\n",
              "</div>\n",
              "      <button class=\"colab-df-convert\" onclick=\"convertToInteractive('df-c5898a93-a685-4ee3-b25b-4242f0c5dc37')\"\n",
              "              title=\"Convert this dataframe to an interactive table.\"\n",
              "              style=\"display:none;\">\n",
              "        \n",
              "  <svg xmlns=\"http://www.w3.org/2000/svg\" height=\"24px\"viewBox=\"0 0 24 24\"\n",
              "       width=\"24px\">\n",
              "    <path d=\"M0 0h24v24H0V0z\" fill=\"none\"/>\n",
              "    <path d=\"M18.56 5.44l.94 2.06.94-2.06 2.06-.94-2.06-.94-.94-2.06-.94 2.06-2.06.94zm-11 1L8.5 8.5l.94-2.06 2.06-.94-2.06-.94L8.5 2.5l-.94 2.06-2.06.94zm10 10l.94 2.06.94-2.06 2.06-.94-2.06-.94-.94-2.06-.94 2.06-2.06.94z\"/><path d=\"M17.41 7.96l-1.37-1.37c-.4-.4-.92-.59-1.43-.59-.52 0-1.04.2-1.43.59L10.3 9.45l-7.72 7.72c-.78.78-.78 2.05 0 2.83L4 21.41c.39.39.9.59 1.41.59.51 0 1.02-.2 1.41-.59l7.78-7.78 2.81-2.81c.8-.78.8-2.07 0-2.86zM5.41 20L4 18.59l7.72-7.72 1.47 1.35L5.41 20z\"/>\n",
              "  </svg>\n",
              "      </button>\n",
              "      \n",
              "  <style>\n",
              "    .colab-df-container {\n",
              "      display:flex;\n",
              "      flex-wrap:wrap;\n",
              "      gap: 12px;\n",
              "    }\n",
              "\n",
              "    .colab-df-convert {\n",
              "      background-color: #E8F0FE;\n",
              "      border: none;\n",
              "      border-radius: 50%;\n",
              "      cursor: pointer;\n",
              "      display: none;\n",
              "      fill: #1967D2;\n",
              "      height: 32px;\n",
              "      padding: 0 0 0 0;\n",
              "      width: 32px;\n",
              "    }\n",
              "\n",
              "    .colab-df-convert:hover {\n",
              "      background-color: #E2EBFA;\n",
              "      box-shadow: 0px 1px 2px rgba(60, 64, 67, 0.3), 0px 1px 3px 1px rgba(60, 64, 67, 0.15);\n",
              "      fill: #174EA6;\n",
              "    }\n",
              "\n",
              "    [theme=dark] .colab-df-convert {\n",
              "      background-color: #3B4455;\n",
              "      fill: #D2E3FC;\n",
              "    }\n",
              "\n",
              "    [theme=dark] .colab-df-convert:hover {\n",
              "      background-color: #434B5C;\n",
              "      box-shadow: 0px 1px 3px 1px rgba(0, 0, 0, 0.15);\n",
              "      filter: drop-shadow(0px 1px 2px rgba(0, 0, 0, 0.3));\n",
              "      fill: #FFFFFF;\n",
              "    }\n",
              "  </style>\n",
              "\n",
              "      <script>\n",
              "        const buttonEl =\n",
              "          document.querySelector('#df-c5898a93-a685-4ee3-b25b-4242f0c5dc37 button.colab-df-convert');\n",
              "        buttonEl.style.display =\n",
              "          google.colab.kernel.accessAllowed ? 'block' : 'none';\n",
              "\n",
              "        async function convertToInteractive(key) {\n",
              "          const element = document.querySelector('#df-c5898a93-a685-4ee3-b25b-4242f0c5dc37');\n",
              "          const dataTable =\n",
              "            await google.colab.kernel.invokeFunction('convertToInteractive',\n",
              "                                                     [key], {});\n",
              "          if (!dataTable) return;\n",
              "\n",
              "          const docLinkHtml = 'Like what you see? Visit the ' +\n",
              "            '<a target=\"_blank\" href=https://colab.research.google.com/notebooks/data_table.ipynb>data table notebook</a>'\n",
              "            + ' to learn more about interactive tables.';\n",
              "          element.innerHTML = '';\n",
              "          dataTable['output_type'] = 'display_data';\n",
              "          await google.colab.output.renderOutput(dataTable, element);\n",
              "          const docLink = document.createElement('div');\n",
              "          docLink.innerHTML = docLinkHtml;\n",
              "          element.appendChild(docLink);\n",
              "        }\n",
              "      </script>\n",
              "    </div>\n",
              "  </div>\n",
              "  "
            ]
          },
          "metadata": {},
          "execution_count": 5
        }
      ],
      "source": [
        "import numpy as np\n",
        "import pandas as pd\n",
        "import matplotlib.pyplot as plt\n",
        "import seaborn as sns\n",
        "%matplotlib inline\n",
        "titanic_df = pd.read_csv('/content/drive/MyDrive/titanic_train.csv')\n",
        "titanic_df.head(3)"
      ]
    },
    {
      "cell_type": "code",
      "source": [
        "#데이터 칼럼 타입 확인\n",
        "print('\\n ### 학습 데이터 정보 ### \\n')\n",
        "print(titanic_df.info())"
      ],
      "metadata": {
        "colab": {
          "base_uri": "https://localhost:8080/"
        },
        "id": "JQaOPuXaLlYt",
        "outputId": "9da3eb77-efaf-4a9f-e1b5-213db3f950f8"
      },
      "execution_count": 6,
      "outputs": [
        {
          "output_type": "stream",
          "name": "stdout",
          "text": [
            "\n",
            " ### 학습 데이터 정보 ### \n",
            "\n",
            "<class 'pandas.core.frame.DataFrame'>\n",
            "RangeIndex: 891 entries, 0 to 890\n",
            "Data columns (total 12 columns):\n",
            " #   Column       Non-Null Count  Dtype  \n",
            "---  ------       --------------  -----  \n",
            " 0   PassengerId  891 non-null    int64  \n",
            " 1   Survived     891 non-null    int64  \n",
            " 2   Pclass       891 non-null    int64  \n",
            " 3   Name         891 non-null    object \n",
            " 4   Sex          891 non-null    object \n",
            " 5   Age          714 non-null    float64\n",
            " 6   SibSp        891 non-null    int64  \n",
            " 7   Parch        891 non-null    int64  \n",
            " 8   Ticket       891 non-null    object \n",
            " 9   Fare         891 non-null    float64\n",
            " 10  Cabin        204 non-null    object \n",
            " 11  Embarked     889 non-null    object \n",
            "dtypes: float64(2), int64(5), object(5)\n",
            "memory usage: 83.7+ KB\n",
            "None\n"
          ]
        }
      ]
    },
    {
      "cell_type": "markdown",
      "source": [
        "사이킷런 머신러닝 알고리즘은 Null 값을 허용하지 않으므로 Null 값 처리-<u>fillna()</u> 이용"
      ],
      "metadata": {
        "id": "SuEBhdmfLtbX"
      }
    },
    {
      "cell_type": "code",
      "source": [
        "titanic_df['Age'].fillna(titanic_df['Age'].mean(),inplace=True)     #평균나이로 변경\n",
        "titanic_df['Cabin'].fillna('N',inplace=True)\n",
        "titanic_df['Embarked'].fillna('N',inplace=True)\n",
        "print('데이터 세트 Null 값 개수', titanic_df.isnull().sum().sum())"
      ],
      "metadata": {
        "colab": {
          "base_uri": "https://localhost:8080/"
        },
        "id": "JamqsqEaMKJi",
        "outputId": "a542af04-01cd-42e7-864d-d5b3859c2b43"
      },
      "execution_count": 9,
      "outputs": [
        {
          "output_type": "stream",
          "name": "stdout",
          "text": [
            "데이터 세트 Null 값 개수 0\n"
          ]
        }
      ]
    },
    {
      "cell_type": "code",
      "source": [
        "#남아있는 문자열 피처인 Sex,Cabin,Embarked 값 분류\n",
        "print('Sex 값 분포 :\\n',titanic_df['Sex'].value_counts())\n",
        "print('\\n Cabin 값 분포 :\\n',titanic_df['Cabin'].value_counts())\n",
        "print('\\n Embarked 값 분포 :\\n',titanic_df['Embarked'].value_counts())"
      ],
      "metadata": {
        "colab": {
          "base_uri": "https://localhost:8080/"
        },
        "id": "4pgZpRN-NwF9",
        "outputId": "14d7baa2-a5da-49f9-f5bf-24cb0828bd45"
      },
      "execution_count": 11,
      "outputs": [
        {
          "output_type": "stream",
          "name": "stdout",
          "text": [
            "Sex 값 분포 :\n",
            " male      577\n",
            "female    314\n",
            "Name: Sex, dtype: int64\n",
            "\n",
            " Cabin 값 분포 :\n",
            " N              687\n",
            "C23 C25 C27      4\n",
            "G6               4\n",
            "B96 B98          4\n",
            "C22 C26          3\n",
            "              ... \n",
            "E34              1\n",
            "C7               1\n",
            "C54              1\n",
            "E36              1\n",
            "C148             1\n",
            "Name: Cabin, Length: 148, dtype: int64\n",
            "\n",
            " Embarked 값 분포 :\n",
            " S    644\n",
            "C    168\n",
            "Q     77\n",
            "N      2\n",
            "Name: Embarked, dtype: int64\n"
          ]
        }
      ]
    },
    {
      "cell_type": "markdown",
      "source": [
        "Cabin(선실)-N이 687건 - 속성값이 제대로 정리되지 않음"
      ],
      "metadata": {
        "id": "a3sReMkpORzx"
      }
    },
    {
      "cell_type": "code",
      "source": [
        "#Cabin 속성의 앞 문자만 추출\n",
        "titanic_df['Cabin']=titanic_df['Cabin'].str[:1]\n",
        "print(titanic_df['Cabin'].head(3))"
      ],
      "metadata": {
        "colab": {
          "base_uri": "https://localhost:8080/"
        },
        "id": "PFrhh9UYOgee",
        "outputId": "0a37cc4d-d9ee-4168-c092-86cc0a992a74"
      },
      "execution_count": 12,
      "outputs": [
        {
          "output_type": "stream",
          "name": "stdout",
          "text": [
            "0    N\n",
            "1    C\n",
            "2    N\n",
            "Name: Cabin, dtype: object\n"
          ]
        }
      ]
    },
    {
      "cell_type": "markdown",
      "source": [
        "**1] 어떤 유형의 승객이 생존 확률이 높았는가**\n",
        "\n",
        "-여성, 아이들, 노약자, 부자, 유명인 순으로 구조 예상"
      ],
      "metadata": {
        "id": "Sns3_x4cOaBB"
      }
    },
    {
      "cell_type": "code",
      "source": [
        "#성별에 따른 생존자 수 비교\n",
        "titanic_df.groupby(['Sex','Survived'])['Survived'].count()"
      ],
      "metadata": {
        "colab": {
          "base_uri": "https://localhost:8080/"
        },
        "id": "wFHNg1iRO9tE",
        "outputId": "891f149d-a9a6-46b3-a553-c5a165a6a421"
      },
      "execution_count": 14,
      "outputs": [
        {
          "output_type": "execute_result",
          "data": {
            "text/plain": [
              "Sex     Survived\n",
              "female  0            81\n",
              "        1           233\n",
              "male    0           468\n",
              "        1           109\n",
              "Name: Survived, dtype: int64"
            ]
          },
          "metadata": {},
          "execution_count": 14
        }
      ]
    },
    {
      "cell_type": "markdown",
      "source": [
        "->여성은 76.2% 생존, 남성은 18.8% 생존"
      ],
      "metadata": {
        "id": "-ttcLYCgPPXU"
      }
    },
    {
      "cell_type": "code",
      "source": [
        "#시각화\n",
        "sns.barplot(x='Sex',y='Survived',data=titanic_df)"
      ],
      "metadata": {
        "colab": {
          "base_uri": "https://localhost:8080/",
          "height": 297
        },
        "id": "R_Cf3lviPWsK",
        "outputId": "cd32f14e-6e4c-4823-ad12-f8d9a53e253c"
      },
      "execution_count": 16,
      "outputs": [
        {
          "output_type": "execute_result",
          "data": {
            "text/plain": [
              "<matplotlib.axes._subplots.AxesSubplot at 0x7fb56b228410>"
            ]
          },
          "metadata": {},
          "execution_count": 16
        },
        {
          "output_type": "display_data",
          "data": {
            "text/plain": [
              "<Figure size 432x288 with 1 Axes>"
            ],
            "image/png": "[encoded data removed]"
          },
          "metadata": {
            "needs_background": "light"
          }
        }
      ]
    },
    {
      "cell_type": "code",
      "source": [
        "#부에 따른 생존확률 비교\n",
        "#객실 등급 이용\n",
        "sns.barplot(x='Pclass', y='Survived', hue='Sex', data=titanic_df)       #성별로 색상 구분"
      ],
      "metadata": {
        "colab": {
          "base_uri": "https://localhost:8080/",
          "height": 297
        },
        "id": "SJziQaV_Pllo",
        "outputId": "6ad3130b-feb1-460d-e297-39edc256406e"
      },
      "execution_count": 17,
      "outputs": [
        {
          "output_type": "execute_result",
          "data": {
            "text/plain": [
              "<matplotlib.axes._subplots.AxesSubplot at 0x7fb56ad248d0>"
            ]
          },
          "metadata": {},
          "execution_count": 17
        },
        {
          "output_type": "display_data",
          "data": {
            "text/plain": [
              "<Figure size 432x288 with 1 Axes>"
            ],
            "image/png": "[encoded data removed]"
          },
          "metadata": {
            "needs_background": "light"
          }
        }
      ]
    },
    {
      "cell_type": "markdown",
      "source": [
        "->여성: 삼등실 생존확률 상대적으로 많이 떨어짐\n",
        "->남성: 일등실 생존확률 상대적으로 매우 높음"
      ],
      "metadata": {
        "id": "bCESMFrGPWQD"
      }
    },
    {
      "cell_type": "code",
      "source": [
        "#Age에 따른 생존확률 비교\n",
        "#값 종류가 많아 범위 별로 카테고리 값 할당\n",
        "#입력 age에 따라 구분 값ㅇ르 반확하는 함수 설정. DataFrame의 apply lambda 식에 사용\n",
        "def get_category(age):\n",
        "  cat=''\n",
        "  if age <= -1: cat = 'Unknown'\n",
        "  elif age <= 5: cat = 'Baby'\n",
        "  elif age <= 12: cat = 'Child'\n",
        "  elif age<= 18: cat = 'Teenager'\n",
        "  elif age<= 25: cat = 'Student'\n",
        "  elif age<= 35: cat = 'Young Adult'\n",
        "  elif age<= 60: cat = 'Adult'\n",
        "  else: cat = 'Elderly'\n",
        "\n",
        "  return cat\n",
        "\n",
        "#막대그래프의 크기 figure를 더 크게 설정\n",
        "plt.figure(figsize=(10,6))\n",
        "\n",
        "#X축의 값을 순차적으로 표시하기 위한 설정\n",
        "group_names = ['Unkown', 'Baby', 'Child', 'Teenager', 'Student', 'Young Adult', 'Adult', 'Elderly']\n",
        "\n",
        "#lambda 식에 위에서 생성한 get_category() 함수를 반환값을 ㅗ지정\n",
        "#get_category(X)는 입력값으로 'Age' 칼럼 값을 받아서 해당하는 cat 반환\n",
        "titanic_df['Age_cat'] = titanic_df['Age'].apply(lambda x : get_category(x))\n",
        "sns.barplot(x='Age_cat', y='Survived', hue='Sex', data=titanic_df,order=group_names)\n",
        "titanic_df.drop('Age_cat', axis=1, inplace=True)"
      ],
      "metadata": {
        "colab": {
          "base_uri": "https://localhost:8080/",
          "height": 389
        },
        "id": "tnWxYZtHQCbd",
        "outputId": "a0fa1d56-73fe-47cd-f7e6-61fb50014dd0"
      },
      "execution_count": 20,
      "outputs": [
        {
          "output_type": "display_data",
          "data": {
            "text/plain": [
              "<Figure size 720x432 with 1 Axes>"
            ],
            "image/png": "[encoded data removed]"
          },
          "metadata": {
            "needs_background": "light"
          }
        }
      ]
    },
    {
      "cell_type": "markdown",
      "source": [
        "->여자 child는 다른 연령대에 비해 생존 확률 낮음\n",
        "\n",
        "=Sex, Age, Pclass 등이 중요하게 생존을 좌우하는 피처다."
      ],
      "metadata": {
        "id": "xJ2J3lsWRvoA"
      }
    },
    {
      "cell_type": "markdown",
      "source": [
        "남아있는 문자열 카테고리 피처를 숫자형 카테고리 피처로 변환\n",
        "\n",
        "LabelEncoder 클래스 이용해 레이블 인코딩 적용\n",
        "\n",
        "LabelEncoder 객체: 카테고리 값의 유형 수에 따라 0~ (카테고리 유형 수-1)까지의 숫자 값으로 변환"
      ],
      "metadata": {
        "id": "YQO694ytR29z"
      }
    },
    {
      "cell_type": "code",
      "source": [
        "from sklearn import preprocessing\n",
        "\n",
        "def encode_features(dataDF):     #여러 칼럼 한 번에 변환 위해 함수 생성\n",
        "  features = ['Cabin','Sex', 'Embarked']\n",
        "  for feature in features:\n",
        "    le = preprocessing.LabelEncoder()\n",
        "    le = le.fit(dataDF[feature])\n",
        "    dataDF[feature] = le.transform(dataDF[feature])\n",
        "  \n",
        "  return dataDF\n",
        "\n",
        "titanic_df = encode_features(titanic_df)\n",
        "titanic_df.head()"
      ],
      "metadata": {
        "colab": {
          "base_uri": "https://localhost:8080/",
          "height": 389
        },
        "id": "WTkE9mrPRkGi",
        "outputId": "c80cc257-3bef-491f-91b8-28d30f9d2a0b"
      },
      "execution_count": 23,
      "outputs": [
        {
          "output_type": "execute_result",
          "data": {
            "text/plain": [
              "   PassengerId  Survived  Pclass  \\\n",
              "0            1         0       3   \n",
              "1            2         1       1   \n",
              "2            3         1       3   \n",
              "3            4         1       1   \n",
              "4            5         0       3   \n",
              "\n",
              "                                                Name  Sex   Age  SibSp  Parch  \\\n",
              "0                            Braund, Mr. Owen Harris    1  22.0      1      0   \n",
              "1  Cumings, Mrs. John Bradley (Florence Briggs Th...    0  38.0      1      0   \n",
              "2                             Heikkinen, Miss. Laina    0  26.0      0      0   \n",
              "3       Futrelle, Mrs. Jacques Heath (Lily May Peel)    0  35.0      1      0   \n",
              "4                           Allen, Mr. William Henry    1  35.0      0      0   \n",
              "\n",
              "             Ticket     Fare  Cabin  Embarked  \n",
              "0         A/5 21171   7.2500      7         3  \n",
              "1          PC 17599  71.2833      2         0  \n",
              "2  STON/O2. 3101282   7.9250      7         3  \n",
              "3            113803  53.1000      2         3  \n",
              "4            373450   8.0500      7         3  "
            ],
            "text/html": [
              "\n",
              "  <div id=\"df-f63bd08e-135c-4f0c-b1f0-6c6919e95e86\">\n",
              "    <div class=\"colab-df-container\">\n",
              "      <div>\n",
              "<style scoped>\n",
              "    .dataframe tbody tr th:only-of-type {\n",
              "        vertical-align: middle;\n",
              "    }\n",
              "\n",
              "    .dataframe tbody tr th {\n",
              "        vertical-align: top;\n",
              "    }\n",
              "\n",
              "    .dataframe thead th {\n",
              "        text-align: right;\n",
              "    }\n",
              "</style>\n",
              "<table border=\"1\" class=\"dataframe\">\n",
              "  <thead>\n",
              "    <tr style=\"text-align: right;\">\n",
              "      <th></th>\n",
              "      <th>PassengerId</th>\n",
              "      <th>Survived</th>\n",
              "      <th>Pclass</th>\n",
              "      <th>Name</th>\n",
              "      <th>Sex</th>\n",
              "      <th>Age</th>\n",
              "      <th>SibSp</th>\n",
              "      <th>Parch</th>\n",
              "      <th>Ticket</th>\n",
              "      <th>Fare</th>\n",
              "      <th>Cabin</th>\n",
              "      <th>Embarked</th>\n",
              "    </tr>\n",
              "  </thead>\n",
              "  <tbody>\n",
              "    <tr>\n",
              "      <th>0</th>\n",
              "      <td>1</td>\n",
              "      <td>0</td>\n",
              "      <td>3</td>\n",
              "      <td>Braund, Mr. Owen Harris</td>\n",
              "      <td>1</td>\n",
              "      <td>22.0</td>\n",
              "      <td>1</td>\n",
              "      <td>0</td>\n",
              "      <td>A/5 21171</td>\n",
              "      <td>7.2500</td>\n",
              "      <td>7</td>\n",
              "      <td>3</td>\n",
              "    </tr>\n",
              "    <tr>\n",
              "      <th>1</th>\n",
              "      <td>2</td>\n",
              "      <td>1</td>\n",
              "      <td>1</td>\n",
              "      <td>Cumings, Mrs. John Bradley (Florence Briggs Th...</td>\n",
              "      <td>0</td>\n",
              "      <td>38.0</td>\n",
              "      <td>1</td>\n",
              "      <td>0</td>\n",
              "      <td>PC 17599</td>\n",
              "      <td>71.2833</td>\n",
              "      <td>2</td>\n",
              "      <td>0</td>\n",
              "    </tr>\n",
              "    <tr>\n",
              "      <th>2</th>\n",
              "      <td>3</td>\n",
              "      <td>1</td>\n",
              "      <td>3</td>\n",
              "      <td>Heikkinen, Miss. Laina</td>\n",
              "      <td>0</td>\n",
              "      <td>26.0</td>\n",
              "      <td>0</td>\n",
              "      <td>0</td>\n",
              "      <td>STON/O2. 3101282</td>\n",
              "      <td>7.9250</td>\n",
              "      <td>7</td>\n",
              "      <td>3</td>\n",
              "    </tr>\n",
              "    <tr>\n",
              "      <th>3</th>\n",
              "      <td>4</td>\n",
              "      <td>1</td>\n",
              "      <td>1</td>\n",
              "      <td>Futrelle, Mrs. Jacques Heath (Lily May Peel)</td>\n",
              "      <td>0</td>\n",
              "      <td>35.0</td>\n",
              "      <td>1</td>\n",
              "      <td>0</td>\n",
              "      <td>113803</td>\n",
              "      <td>53.1000</td>\n",
              "      <td>2</td>\n",
              "      <td>3</td>\n",
              "    </tr>\n",
              "    <tr>\n",
              "      <th>4</th>\n",
              "      <td>5</td>\n",
              "      <td>0</td>\n",
              "      <td>3</td>\n",
              "      <td>Allen, Mr. William Henry</td>\n",
              "      <td>1</td>\n",
              "      <td>35.0</td>\n",
              "      <td>0</td>\n",
              "      <td>0</td>\n",
              "      <td>373450</td>\n",
              "      <td>8.0500</td>\n",
              "      <td>7</td>\n",
              "      <td>3</td>\n",
              "    </tr>\n",
              "  </tbody>\n",
              "</table>\n",
              "</div>\n",
              "      <button class=\"colab-df-convert\" onclick=\"convertToInteractive('df-f63bd08e-135c-4f0c-b1f0-6c6919e95e86')\"\n",
              "              title=\"Convert this dataframe to an interactive table.\"\n",
              "              style=\"display:none;\">\n",
              "        \n",
              "  <svg xmlns=\"http://www.w3.org/2000/svg\" height=\"24px\"viewBox=\"0 0 24 24\"\n",
              "       width=\"24px\">\n",
              "    <path d=\"M0 0h24v24H0V0z\" fill=\"none\"/>\n",
              "    <path d=\"M18.56 5.44l.94 2.06.94-2.06 2.06-.94-2.06-.94-.94-2.06-.94 2.06-2.06.94zm-11 1L8.5 8.5l.94-2.06 2.06-.94-2.06-.94L8.5 2.5l-.94 2.06-2.06.94zm10 10l.94 2.06.94-2.06 2.06-.94-2.06-.94-.94-2.06-.94 2.06-2.06.94z\"/><path d=\"M17.41 7.96l-1.37-1.37c-.4-.4-.92-.59-1.43-.59-.52 0-1.04.2-1.43.59L10.3 9.45l-7.72 7.72c-.78.78-.78 2.05 0 2.83L4 21.41c.39.39.9.59 1.41.59.51 0 1.02-.2 1.41-.59l7.78-7.78 2.81-2.81c.8-.78.8-2.07 0-2.86zM5.41 20L4 18.59l7.72-7.72 1.47 1.35L5.41 20z\"/>\n",
              "  </svg>\n",
              "      </button>\n",
              "      \n",
              "  <style>\n",
              "    .colab-df-container {\n",
              "      display:flex;\n",
              "      flex-wrap:wrap;\n",
              "      gap: 12px;\n",
              "    }\n",
              "\n",
              "    .colab-df-convert {\n",
              "      background-color: #E8F0FE;\n",
              "      border: none;\n",
              "      border-radius: 50%;\n",
              "      cursor: pointer;\n",
              "      display: none;\n",
              "      fill: #1967D2;\n",
              "      height: 32px;\n",
              "      padding: 0 0 0 0;\n",
              "      width: 32px;\n",
              "    }\n",
              "\n",
              "    .colab-df-convert:hover {\n",
              "      background-color: #E2EBFA;\n",
              "      box-shadow: 0px 1px 2px rgba(60, 64, 67, 0.3), 0px 1px 3px 1px rgba(60, 64, 67, 0.15);\n",
              "      fill: #174EA6;\n",
              "    }\n",
              "\n",
              "    [theme=dark] .colab-df-convert {\n",
              "      background-color: #3B4455;\n",
              "      fill: #D2E3FC;\n",
              "    }\n",
              "\n",
              "    [theme=dark] .colab-df-convert:hover {\n",
              "      background-color: #434B5C;\n",
              "      box-shadow: 0px 1px 3px 1px rgba(0, 0, 0, 0.15);\n",
              "      filter: drop-shadow(0px 1px 2px rgba(0, 0, 0, 0.3));\n",
              "      fill: #FFFFFF;\n",
              "    }\n",
              "  </style>\n",
              "\n",
              "      <script>\n",
              "        const buttonEl =\n",
              "          document.querySelector('#df-f63bd08e-135c-4f0c-b1f0-6c6919e95e86 button.colab-df-convert');\n",
              "        buttonEl.style.display =\n",
              "          google.colab.kernel.accessAllowed ? 'block' : 'none';\n",
              "\n",
              "        async function convertToInteractive(key) {\n",
              "          const element = document.querySelector('#df-f63bd08e-135c-4f0c-b1f0-6c6919e95e86');\n",
              "          const dataTable =\n",
              "            await google.colab.kernel.invokeFunction('convertToInteractive',\n",
              "                                                     [key], {});\n",
              "          if (!dataTable) return;\n",
              "\n",
              "          const docLinkHtml = 'Like what you see? Visit the ' +\n",
              "            '<a target=\"_blank\" href=https://colab.research.google.com/notebooks/data_table.ipynb>data table notebook</a>'\n",
              "            + ' to learn more about interactive tables.';\n",
              "          element.innerHTML = '';\n",
              "          dataTable['output_type'] = 'display_data';\n",
              "          await google.colab.output.renderOutput(dataTable, element);\n",
              "          const docLink = document.createElement('div');\n",
              "          docLink.innerHTML = docLinkHtml;\n",
              "          element.appendChild(docLink);\n",
              "        }\n",
              "      </script>\n",
              "    </div>\n",
              "  </div>\n",
              "  "
            ]
          },
          "metadata": {},
          "execution_count": 23
        }
      ]
    },
    {
      "cell_type": "markdown",
      "source": [
        "지금까지 피처를 가공한 내역을 정리하고 이를 함수로 만들어 쉽게 재사용 가능하도록 만들기\n",
        "\n",
        "데이터의 전처리를 전체적으로 호출하는 함수는 **transform_features()**이고,\n",
        "\n",
        "Null 처리, 포매팅, 인코딩을 수행하는 내부 함수로 구성"
      ],
      "metadata": {
        "id": "gZMpGRn_S365"
      }
    },
    {
      "cell_type": "code",
      "source": [
        "from sklearn import preprocessing\n",
        "\n",
        "#Null 처리 함수\n",
        "def fillna(df):\n",
        "  df['Age'].fillna(df['Age'].mean(), inplace=True)\n",
        "  df['Cabin'].fillna('N',inplace=True)\n",
        "  df['Embarked'].fillna('N',inplace=True)\n",
        "  df['Fare'].fillna(0,inplace=True)\n",
        "  return df\n",
        "\n",
        "\n",
        "#머신러닝 알고리즘에 불필요한 속성 제거\n",
        "def drop_features(df):\n",
        "  df.drop(['PassengerId','Name','Ticket'], axis=1, inplace=True)\n",
        "  return df\n",
        "\n",
        "\n",
        "#레이블 인코딩 수행\n",
        "def format_features(df):\n",
        "  df['Cabin'] = df['Cabin'].str[:1]\n",
        "  features = ['Cabin', 'Sex', 'Embarked']\n",
        "  for feature in features:\n",
        "    le = preprocessing.LabelEncoder()\n",
        "    le=le.fit(df[feature])\n",
        "    df[feature] = le.transform(df[feature])\n",
        "  return df\n",
        "\n",
        "\n",
        "#앞에서 설정한 데이터 전처리 함수 호출\n",
        "def transform_features(df):\n",
        "  df=fillna(df)\n",
        "  df = drop_features(df)\n",
        "  df=format_features(df)\n",
        "  return df"
      ],
      "metadata": {
        "id": "g0Jl-j44TLsa"
      },
      "execution_count": 34,
      "outputs": []
    },
    {
      "cell_type": "markdown",
      "source": [
        "위 함수를 이용해 원본 데이터 가공해보기\n",
        "\n",
        "원본 CSV파일을 다시 로딩하고 타이타닉 생존자 데이터 세트의 레이블인 Survived 속성만 별도 분리해 클래스 결정값 데이터 세트로 만들기\n",
        "\n",
        "이후 Survived 속성을 드롭해 피처 데이터 세트 생성\n",
        "\n",
        "이렇게 생성된 피처 데이터 세트에 transform_features() 적용해 데이터 가공"
      ],
      "metadata": {
        "id": "IHymXnSmUOev"
      }
    },
    {
      "cell_type": "code",
      "source": [
        "#원본 데이터를 재로딩하고, 피처 데이터 세트와 레이블 데이터 세트 추출\n",
        "titanic_df = pd.read_csv('/content/drive/MyDrive/titanic_train.csv')\n",
        "y_titanic_df = titanic_df['Survived']\n",
        "X_titanic_df = titanic_df.drop('Survived', axis = 1)\n",
        "\n",
        "X_titanic_df = transform_features(X_titanic_df)"
      ],
      "metadata": {
        "id": "rX-RYn3VUaD4"
      },
      "execution_count": 35,
      "outputs": []
    },
    {
      "cell_type": "code",
      "source": [
        "#내려받은 학습 데이터 세트를 기반으로 train_test_split() API를 이용해 별도의 테스트 데이터 세트 추출\n",
        "#테스트 데이터 세트 크기는 전체의 20% 설정\n",
        "from sklearn.model_selection import train_test_split\n",
        "X_train, X_test, y_train, y_test = train_test_split(X_titanic_df, y_titanic_df, test_size = 0.2, random_state=11)"
      ],
      "metadata": {
        "id": "svlIzOWUX1fc"
      },
      "execution_count": 36,
      "outputs": []
    },
    {
      "cell_type": "markdown",
      "source": [
        "**ML 알고리즘인 결정 트리, 랜덤 포레스트, 로지스틱 회귀를 이용해 타이타닉 생존자 예측하기**\n",
        "\n",
        "결정트리-DecisionTreeClassifier 클래스 제공\n",
        "\n",
        "랜덤포레스트-RandomForestClassifier 클래스 제공\n",
        "\n",
        "로지스틱 회귀-LogisticRegression 클래스 제공"
      ],
      "metadata": {
        "id": "dfbQz27mYOkM"
      }
    },
    {
      "cell_type": "markdown",
      "source": [
        "이들을 이용해 train_test-split()으로 분리한 학습 데이터와 테스트 데이터를 기반으로 멋니러닝 모델을 학습(fit), 예측(predict) 할 것\n",
        "\n",
        "예측 성능 평가는 정확도로 할것이며 accuracy_score() API 사용\n",
        "\n",
        "-DecisionTreeClassifier와 RandomForestClassifier에서 random_state=11은 예제를 수행할 때마다 같은 결과를 출력하기 위한 용도이니 실제 사례에서는 제거해도 된다."
      ],
      "metadata": {
        "id": "WRyH5VtvYkuW"
      }
    },
    {
      "cell_type": "code",
      "source": [
        "from sklearn.tree import DecisionTreeClassifier\n",
        "from sklearn.ensemble import RandomForestClassifier\n",
        "from sklearn.linear_model import LogisticRegression\n",
        "from sklearn.metrics import accuracy_score\n",
        "\n",
        "#결정트리, Random Forest, 로지스틱 회귀를 위한 사이킷런 Classifier 클래스 생성\n",
        "dt_clf = DecisionTreeClassifier(random_state=11)\n",
        "rf_clf = RandomForestClassifier(random_state=11)\n",
        "lr_clf = LogisticRegression()\n",
        "\n",
        "#DecisionTreeClassifier 학습/예측/평가\n",
        "dt_clf.fit(X_train,y_train)\n",
        "dt_pred=dt_clf.predict(X_test)\n",
        "print('DecisionTreeClassifier 정확도: {0:4f}'.format(accuracy_score(y_test,dt_pred)))\n",
        "\n",
        "#RandomForestClassifier 학습/예측/평가\n",
        "rf_clf.fit(X_train,y_train)\n",
        "rf_pred=rf_clf.predict(X_test)\n",
        "print('RandomForestClassifier 정확도: {0:4f}'.format(accuracy_score(y_test,rf_pred)))\n",
        "\n",
        "#LogisticRegression 학습/예측/평가\n",
        "lr_clf.fit(X_train,y_train)\n",
        "lr_pred=lr_clf.predict(X_test)\n",
        "print('LogisticRegression 정확도: {0:4f}'.format(accuracy_score(y_test,lr_pred)))"
      ],
      "metadata": {
        "colab": {
          "base_uri": "https://localhost:8080/"
        },
        "id": "Op1Nz9LiY8nB",
        "outputId": "daea7e0c-dea7-46ac-a2aa-d7cb81962a2c"
      },
      "execution_count": 37,
      "outputs": [
        {
          "output_type": "stream",
          "name": "stdout",
          "text": [
            "DecisionTreeClassifier 정확도: 0.787709\n",
            "RandomForestClassifier 정확도: 0.854749\n",
            "LogisticRegression 정확도: 0.849162\n"
          ]
        },
        {
          "output_type": "stream",
          "name": "stderr",
          "text": [
            "/usr/local/lib/python3.7/dist-packages/sklearn/linear_model/_logistic.py:818: ConvergenceWarning: lbfgs failed to converge (status=1):\n",
            "STOP: TOTAL NO. of ITERATIONS REACHED LIMIT.\n",
            "\n",
            "Increase the number of iterations (max_iter) or scale the data as shown in:\n",
            "    https://scikit-learn.org/stable/modules/preprocessing.html\n",
            "Please also refer to the documentation for alternative solver options:\n",
            "    https://scikit-learn.org/stable/modules/linear_model.html#logistic-regression\n",
            "  extra_warning_msg=_LOGISTIC_SOLVER_CONVERGENCE_MSG,\n"
          ]
        }
      ]
    },
    {
      "cell_type": "markdown",
      "source": [
        "3개의 알고리즘 중 LogisticRegression이 타 알고리즘에 비해 높은 정확도.\n",
        "\n",
        "아직 최적화 작업을 수행하지 않았고 데이터 양도 충분하지 않기 때문에 어떤 알고리즘이 가장 성능이 좋다고 평가 불가"
      ],
      "metadata": {
        "id": "wPgRlppPaLgn"
      }
    },
    {
      "cell_type": "markdown",
      "source": [
        "**교차 검증으로 결정 트리 모델 평가**\n",
        "\n",
        "KFold, cross_val_score(), GridSearchCV 클래스 모두 사용\n",
        "\n",
        "**1) KFold 클래스를 이용**해 교차 검증을 수행하며, 폴드 개수는 5개로 설정"
      ],
      "metadata": {
        "id": "jq6kRAVqaVkZ"
      }
    },
    {
      "cell_type": "code",
      "source": [
        "from sklearn.model_selection import KFold\n",
        "\n",
        "def exec_kfold(clf,folds=5):\n",
        "  #폴드 세트를 5개인 KFold 객체를 생성, 폴드 수만큼 예측결과 저장을 위한 리스트 객체 생성\n",
        "  kfold=KFold(n_splits=folds)\n",
        "  scores=[]\n",
        "\n",
        "  #KFold 교차 검증 수행\n",
        "  for iter_count, (train_index, test_index) in enumerate(kfold.split(X_titanic_df)):\n",
        "    #X_titanic_df 데이터에서 교차 검증별로 학습과 검증 데이터를 가리키는 index 생성\n",
        "    X_train, X_test = X_titanic_df.values[train_index], X_titanic_df.values[test_index]\n",
        "    y_train, y_test = y_titanic_df.values[train_index], y_titanic_df.values[test_index]\n",
        "    #Classifier 학습, 예측, 정확도 계산\n",
        "    clf.fit(X_train, y_train)\n",
        "    predictions = clf.predict(X_test)\n",
        "    accuracy = accuracy_score(y_test, predictions)\n",
        "    scores.append(accuracy)\n",
        "    print(\"교차 검증 {0} 정확도: {1:4f}\".format(iter_count, accuracy))\n",
        "\n",
        "  #5개 fold에서의 평균 정확도 계산\n",
        "  mean_score = np.mean(scores)\n",
        "  print(\"평균 정확도: {0:4f}\". format(mean_score))\n",
        "\n",
        "#exec_kfold 호출\n",
        "exec_kfold(dt_clf,folds=5)"
      ],
      "metadata": {
        "colab": {
          "base_uri": "https://localhost:8080/"
        },
        "id": "iOUrVtGkarw2",
        "outputId": "88104bd7-081f-4bad-ada1-6c0ec829c6c1"
      },
      "execution_count": 38,
      "outputs": [
        {
          "output_type": "stream",
          "name": "stdout",
          "text": [
            "교차 검증 0 정확도: 0.754190\n",
            "교차 검증 1 정확도: 0.780899\n",
            "교차 검증 2 정확도: 0.786517\n",
            "교차 검증 3 정확도: 0.769663\n",
            "교차 검증 4 정확도: 0.820225\n",
            "평균 정확도: 0.782299\n"
          ]
        }
      ]
    },
    {
      "cell_type": "markdown",
      "source": [
        "**2) cross_val_score API 이용**"
      ],
      "metadata": {
        "id": "lGnUV2i_cqKS"
      }
    },
    {
      "cell_type": "code",
      "source": [
        "from sklearn.model_selection import cross_val_score\n",
        "\n",
        "scores = cross_val_score(dt_clf,X_titanic_df, y_titanic_df, cv=5)\n",
        "for iter_count, accuracy in enumerate(scores):\n",
        "  print(\"교차 검증{0} 정확도: {1:4f}\".format(iter_count,accuracy))\n",
        "\n",
        "print(\"평균 정확도: {0:4f}\".format(np.mean(scores)))"
      ],
      "metadata": {
        "colab": {
          "base_uri": "https://localhost:8080/"
        },
        "id": "mVgk4a1Cb5Ki",
        "outputId": "cc48e4b2-62f2-448e-e457-68c85fe367bc"
      },
      "execution_count": 40,
      "outputs": [
        {
          "output_type": "stream",
          "name": "stdout",
          "text": [
            "교차 검증0 정확도: 0.743017\n",
            "교차 검증1 정확도: 0.775281\n",
            "교차 검증2 정확도: 0.792135\n",
            "교차 검증3 정확도: 0.786517\n",
            "교차 검증4 정확도: 0.842697\n",
            "평균 정확도: 0.787929\n"
          ]
        }
      ]
    },
    {
      "cell_type": "markdown",
      "source": [
        "cross_val_score()와 이전의 K 폴드의 평균 정확도의 차이 존재\n",
        "\n",
        "=cross_val_score()가 StratifiedKFold를 이용해 폴드 세트를 분할하기 떄문"
      ],
      "metadata": {
        "id": "xnZjOtodceE7"
      }
    },
    {
      "cell_type": "markdown",
      "source": [
        "**3) GridSearchCV 이용**\n",
        "\n",
        "DecisionTreeClassifier의 최적 하이퍼 파라미터 찾고 예측 성능 측정\n",
        "\n",
        "CV는 5개의 폴드 세트 지정, 하이퍼 파라미터는 max_depth, min_samples_split, min_samples_leaf를 변경하며 성능 측정\n",
        "\n",
        "최적 하피어 파라미터와 그떄의 예측을 출력하고, 최적 하이퍼 파라미터로 학습된 Estimator를 이용해 위의 train_test_split()으로 분리된 테스트 데이터 세트에 예측을 수행해 예측 정확도 출력"
      ],
      "metadata": {
        "id": "-Ttevk_dczXq"
      }
    },
    {
      "cell_type": "code",
      "source": [
        "from sklearn.model_selection import GridSearchCV\n",
        "\n",
        "parameters={'max_depth':[2,3,5,10],'min_samples_split':[2,3,5],'min_samples_leaf':[1,5,8]}\n",
        "\n",
        "grid_dclf=GridSearchCV(dt_clf, param_grid=parameters, scoring='accuracy',cv=5)\n",
        "grid_dclf.fit(X_train, y_train)\n",
        "\n",
        "print('GridSearchCV 최적 하이퍼 파라미터:',grid_dclf.best_params_)\n",
        "print('GridSearchCV 최고 정확도: {0:.4f}'.format(grid_dclf.best_score_))\n",
        "best_dclf=grid_dclf.best_estimator_\n",
        "\n",
        "# GridSearchCV의 최적 하이퍼 파라미터로 학습된 Estimator로 예측 및 평가 수행\n",
        "dpredictions=best_dclf.predict(X_test)\n",
        "accuracy=accuracy_score(y_test, dpredictions)\n",
        "print('테스트 세트에서의 DecisionTreeClassifier 정확도: {0:.4f}'.format(accuracy))"
      ],
      "metadata": {
        "colab": {
          "base_uri": "https://localhost:8080/"
        },
        "id": "djf9AiSudRgM",
        "outputId": "f931608a-13f2-45cb-f2c9-ec14e317ed78"
      },
      "execution_count": 41,
      "outputs": [
        {
          "output_type": "stream",
          "name": "stdout",
          "text": [
            "GridSearchCV 최적 하이퍼 파라미터: {'max_depth': 3, 'min_samples_leaf': 5, 'min_samples_split': 2}\n",
            "GridSearchCV 최고 정확도: 0.7992\n",
            "테스트 세트에서의 DecisionTreeClassifier 정확도: 0.8715\n"
          ]
        }
      ]
    },
    {
      "cell_type": "markdown",
      "source": [
        "최적화된 하이퍼 파라미터인 max_depth=3, min_samples_leaf=1, min_samples_split=2로 예측 정확도가 약 87.15%로 향상됨"
      ],
      "metadata": {
        "id": "64qyAJ9qdgVq"
      }
    }
  ]
}